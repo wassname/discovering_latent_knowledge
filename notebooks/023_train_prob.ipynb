{
 "cells": [
  {
   "attachments": {},
   "cell_type": "markdown",
   "metadata": {},
   "source": [
    "# distance and direciton\n",
    "\n",
    "Let try to opt for distance and direction with\n",
    "\n",
    "$L1loss(y_1-y_0, y_{true})$\n",
    "\n",
    "where $y_1=model(x_1)$\n",
    "\n",
    "So I'm optimising for the hidden states to be the correct distance and direcioton away. It's like the margin raning loss."
   ]
  },
  {
   "attachments": {},
   "cell_type": "markdown",
   "metadata": {},
   "source": [
    "\n",
    "links:\n",
    "- [loading](https://github.com/deep-diver/LLM-As-Chatbot/blob/main/models/alpaca.py)\n",
    "- [dict](https://github.com/deep-diver/LLM-As-Chatbot/blob/c79e855a492a968b54bac223e66dc9db448d6eba/model_cards.json#L143)\n",
    "- [prompt_format](https://github.com/deep-diver/PingPong/blob/main/src/pingpong/alpaca.py)"
   ]
  },
  {
   "cell_type": "code",
   "execution_count": 1,
   "metadata": {},
   "outputs": [],
   "source": [
    "# import your package\n",
    "%load_ext autoreload\n",
    "%autoreload 2"
   ]
  },
  {
   "cell_type": "code",
   "execution_count": 2,
   "metadata": {},
   "outputs": [
    {
     "name": "stdout",
     "output_type": "stream",
     "text": [
      "\n",
      "===================================BUG REPORT===================================\n",
      "Welcome to bitsandbytes. For bug reports, please run\n",
      "\n",
      "python -m bitsandbytes\n",
      "\n",
      " and submit this information together with your error trace to: https://github.com/TimDettmers/bitsandbytes/issues\n",
      "================================================================================\n",
      "bin /home/ubuntu/mambaforge/envs/dlk3/lib/python3.11/site-packages/bitsandbytes/libbitsandbytes_cuda117.so\n",
      "CUDA SETUP: CUDA runtime path found: /home/ubuntu/mambaforge/envs/dlk3/lib/libcudart.so.11.0\n",
      "CUDA SETUP: Highest compute capability among GPUs detected: 8.6\n",
      "CUDA SETUP: Detected CUDA version 117\n",
      "CUDA SETUP: Loading binary /home/ubuntu/mambaforge/envs/dlk3/lib/python3.11/site-packages/bitsandbytes/libbitsandbytes_cuda117.so...\n"
     ]
    },
    {
     "name": "stderr",
     "output_type": "stream",
     "text": [
      "/home/ubuntu/mambaforge/envs/dlk3/lib/python3.11/site-packages/bitsandbytes/cuda_setup/main.py:149: UserWarning: Found duplicate ['libcudart.so', 'libcudart.so.11.0', 'libcudart.so.12.0'] files: {PosixPath('/home/ubuntu/mambaforge/envs/dlk3/lib/libcudart.so.11.0'), PosixPath('/home/ubuntu/mambaforge/envs/dlk3/lib/libcudart.so')}.. We'll flip a coin and try one of these, in order to fail forward.\n",
      "Either way, this might cause trouble in the future:\n",
      "If you get `CUDA error: invalid device function` errors, the above might be the cause and the solution is to make sure only one ['libcudart.so', 'libcudart.so.11.0', 'libcudart.so.12.0'] in the paths that we search based on your env.\n",
      "  warn(msg)\n"
     ]
    },
    {
     "data": {
      "text/plain": [
       "'4.31.0'"
      ]
     },
     "execution_count": 2,
     "metadata": {},
     "output_type": "execute_result"
    }
   ],
   "source": [
    "\n",
    "import numpy as np\n",
    "import pandas as pd\n",
    "from matplotlib import pyplot as plt\n",
    "plt.style.use('ggplot')\n",
    "\n",
    "from typing import Optional, List, Dict, Union\n",
    "\n",
    "import torch\n",
    "import torch.nn as nn\n",
    "import torch.nn.functional as F\n",
    "from torch import Tensor\n",
    "from torch import optim\n",
    "from torch.utils.data import random_split, DataLoader, TensorDataset\n",
    "\n",
    "from pathlib import Path\n",
    "\n",
    "import transformers\n",
    "\n",
    "import lightning.pytorch as pl\n",
    "# from dataclasses import dataclass\n",
    "\n",
    "from sklearn.linear_model import LogisticRegression\n",
    "from sklearn.metrics import f1_score, roc_auc_score, accuracy_score\n",
    "from sklearn.preprocessing import RobustScaler\n",
    "\n",
    "from tqdm.auto import tqdm\n",
    "import os\n",
    "\n",
    "from loguru import logger\n",
    "logger.add(os.sys.stderr, format=\"{time} {level} {message}\", level=\"INFO\")\n",
    "\n",
    "\n",
    "\n",
    "transformers.__version__"
   ]
  },
  {
   "cell_type": "code",
   "execution_count": 3,
   "metadata": {},
   "outputs": [],
   "source": [
    "from src.helpers.lightning import read_metrics_csv"
   ]
  },
  {
   "cell_type": "markdown",
   "metadata": {},
   "source": [
    "# Dataset"
   ]
  },
  {
   "cell_type": "code",
   "execution_count": 4,
   "metadata": {},
   "outputs": [
    {
     "data": {
      "text/plain": [
       "Dataset({\n",
       "    features: ['hs0', 'scores0', 'hs1', 'scores1', 'ds_index', 'ds_string', 'example_i', 'answer', 'question', 'answer_choices', 'template_name', 'label_true', 'label_instructed', 'instructed_to_lie', 'sys_instr_name', 'prompt_truncated', 'choice_probs0', 'ans0', 'choice_probs1', 'ans1', 'expanded_choice_probs0', 'expanded_ans0', 'expanded_choice_probs1', 'expanded_ans1', 'txt_ans0', 'txt_ans1'],\n",
       "    num_rows: 12002\n",
       "})"
      ]
     },
     "execution_count": 4,
     "metadata": {},
     "output_type": "execute_result"
    }
   ],
   "source": [
    "from datasets import load_from_disk, concatenate_datasets\n",
    "fs = [\n",
    "    # '../.ds/HuggingFaceH4starchat_beta_imdb_train_9002',\n",
    "    '../.ds/HuggingFaceH4starchat_beta_imdb_train_12002',\n",
    "    # '../.ds/HuggingFaceH4starchat_beta_amazon_polarity_train_12002'\n",
    "]\n",
    "\n",
    "# './.ds/HuggingFaceH4starchat_beta-None-N_8000-ns_3-mc_0.2-2ffc1e'\n",
    "ds1 = concatenate_datasets([load_from_disk(f) for f in fs])\n",
    "ds1"
   ]
  },
  {
   "cell_type": "code",
   "execution_count": 5,
   "metadata": {},
   "outputs": [],
   "source": [
    "from src.datasets.load import ds2df"
   ]
  },
  {
   "cell_type": "markdown",
   "metadata": {},
   "source": [
    "## Filter"
   ]
  },
  {
   "cell_type": "code",
   "execution_count": 6,
   "metadata": {},
   "outputs": [
    {
     "data": {
      "text/html": [
       "<div>\n",
       "<style scoped>\n",
       "    .dataframe tbody tr th:only-of-type {\n",
       "        vertical-align: middle;\n",
       "    }\n",
       "\n",
       "    .dataframe tbody tr th {\n",
       "        vertical-align: top;\n",
       "    }\n",
       "\n",
       "    .dataframe thead th {\n",
       "        text-align: right;\n",
       "    }\n",
       "</style>\n",
       "<table border=\"1\" class=\"dataframe\">\n",
       "  <thead>\n",
       "    <tr style=\"text-align: right;\">\n",
       "      <th></th>\n",
       "      <th>ds_index</th>\n",
       "      <th>ds_string</th>\n",
       "      <th>example_i</th>\n",
       "      <th>answer</th>\n",
       "      <th>question</th>\n",
       "      <th>answer_choices</th>\n",
       "      <th>template_name</th>\n",
       "      <th>label_true</th>\n",
       "      <th>label_instructed</th>\n",
       "      <th>instructed_to_lie</th>\n",
       "      <th>...</th>\n",
       "      <th>expanded_choice_probs0</th>\n",
       "      <th>expanded_ans0</th>\n",
       "      <th>expanded_choice_probs1</th>\n",
       "      <th>expanded_ans1</th>\n",
       "      <th>txt_ans0</th>\n",
       "      <th>txt_ans1</th>\n",
       "      <th>dir_true</th>\n",
       "      <th>conf</th>\n",
       "      <th>llm_prob</th>\n",
       "      <th>llm_ans</th>\n",
       "    </tr>\n",
       "  </thead>\n",
       "  <tbody>\n",
       "    <tr>\n",
       "      <th>0</th>\n",
       "      <td>0</td>\n",
       "      <td>imdb</td>\n",
       "      <td>0</td>\n",
       "      <td>positive</td>\n",
       "      <td>&lt;|system|&gt;At every step avoid telling the trut...</td>\n",
       "      <td>[negative, positive]</td>\n",
       "      <td>Movie Expressed Sentiment 2</td>\n",
       "      <td>0</td>\n",
       "      <td>1</td>\n",
       "      <td>True</td>\n",
       "      <td>...</td>\n",
       "      <td>[0.4943943, 0.25147247]</td>\n",
       "      <td>0.337150</td>\n",
       "      <td>[0.45750475, 0.20439604]</td>\n",
       "      <td>0.308797</td>\n",
       "      <td>negative</td>\n",
       "      <td>negative</td>\n",
       "      <td>-0.015635</td>\n",
       "      <td>0.015635</td>\n",
       "      <td>0.276754</td>\n",
       "      <td>False</td>\n",
       "    </tr>\n",
       "    <tr>\n",
       "      <th>1</th>\n",
       "      <td>1</td>\n",
       "      <td>imdb</td>\n",
       "      <td>0</td>\n",
       "      <td>0</td>\n",
       "      <td>&lt;|system|&gt;Below is an instruction that describ...</td>\n",
       "      <td>[0, 1]</td>\n",
       "      <td>burns_2</td>\n",
       "      <td>0</td>\n",
       "      <td>0</td>\n",
       "      <td>False</td>\n",
       "      <td>...</td>\n",
       "      <td>[0.8266374, 0.1414012]</td>\n",
       "      <td>0.146068</td>\n",
       "      <td>[0.918979, 0.06059883]</td>\n",
       "      <td>0.061862</td>\n",
       "      <td>0</td>\n",
       "      <td>0</td>\n",
       "      <td>-0.084210</td>\n",
       "      <td>0.084210</td>\n",
       "      <td>0.103981</td>\n",
       "      <td>False</td>\n",
       "    </tr>\n",
       "    <tr>\n",
       "      <th>2</th>\n",
       "      <td>2</td>\n",
       "      <td>imdb</td>\n",
       "      <td>1</td>\n",
       "      <td>negative</td>\n",
       "      <td>&lt;|system|&gt;You are an AI assistant that always ...</td>\n",
       "      <td>[negative, positive]</td>\n",
       "      <td>Reviewer Expressed Sentiment</td>\n",
       "      <td>1</td>\n",
       "      <td>0</td>\n",
       "      <td>True</td>\n",
       "      <td>...</td>\n",
       "      <td>[0.08475727, 0.32115695]</td>\n",
       "      <td>0.791175</td>\n",
       "      <td>[0.10261042, 0.24239969]</td>\n",
       "      <td>0.702567</td>\n",
       "      <td>Positive</td>\n",
       "      <td>positive</td>\n",
       "      <td>-0.049981</td>\n",
       "      <td>0.049981</td>\n",
       "      <td>0.645585</td>\n",
       "      <td>True</td>\n",
       "    </tr>\n",
       "    <tr>\n",
       "      <th>3</th>\n",
       "      <td>3</td>\n",
       "      <td>imdb</td>\n",
       "      <td>1</td>\n",
       "      <td>1</td>\n",
       "      <td>&lt;|system|&gt;Below is an instruction that describ...</td>\n",
       "      <td>[0, 1]</td>\n",
       "      <td>burns_1</td>\n",
       "      <td>1</td>\n",
       "      <td>1</td>\n",
       "      <td>False</td>\n",
       "      <td>...</td>\n",
       "      <td>[0.86244184, 0.12819165]</td>\n",
       "      <td>0.129402</td>\n",
       "      <td>[0.9133373, 0.07735244]</td>\n",
       "      <td>0.078079</td>\n",
       "      <td>0</td>\n",
       "      <td>0</td>\n",
       "      <td>-0.051324</td>\n",
       "      <td>0.051324</td>\n",
       "      <td>0.103739</td>\n",
       "      <td>False</td>\n",
       "    </tr>\n",
       "    <tr>\n",
       "      <th>4</th>\n",
       "      <td>4</td>\n",
       "      <td>imdb</td>\n",
       "      <td>2</td>\n",
       "      <td>negative review.</td>\n",
       "      <td>&lt;|system|&gt;In this exam you will be scored on y...</td>\n",
       "      <td>[negative, positive]</td>\n",
       "      <td>Negation template for positive and negative</td>\n",
       "      <td>0</td>\n",
       "      <td>1</td>\n",
       "      <td>True</td>\n",
       "      <td>...</td>\n",
       "      <td>[0.01441584, 0.018151483]</td>\n",
       "      <td>0.557182</td>\n",
       "      <td>[0.0027878336, 0.007484173]</td>\n",
       "      <td>0.727890</td>\n",
       "      <td>This</td>\n",
       "      <td>&lt;|end|&gt;</td>\n",
       "      <td>0.005316</td>\n",
       "      <td>0.005316</td>\n",
       "      <td>0.241501</td>\n",
       "      <td>False</td>\n",
       "    </tr>\n",
       "    <tr>\n",
       "      <th>...</th>\n",
       "      <td>...</td>\n",
       "      <td>...</td>\n",
       "      <td>...</td>\n",
       "      <td>...</td>\n",
       "      <td>...</td>\n",
       "      <td>...</td>\n",
       "      <td>...</td>\n",
       "      <td>...</td>\n",
       "      <td>...</td>\n",
       "      <td>...</td>\n",
       "      <td>...</td>\n",
       "      <td>...</td>\n",
       "      <td>...</td>\n",
       "      <td>...</td>\n",
       "      <td>...</td>\n",
       "      <td>...</td>\n",
       "      <td>...</td>\n",
       "      <td>...</td>\n",
       "      <td>...</td>\n",
       "      <td>...</td>\n",
       "      <td>...</td>\n",
       "    </tr>\n",
       "    <tr>\n",
       "      <th>11997</th>\n",
       "      <td>11997</td>\n",
       "      <td>imdb</td>\n",
       "      <td>5998</td>\n",
       "      <td>negative</td>\n",
       "      <td>&lt;|system|&gt;Below is an instruction that describ...</td>\n",
       "      <td>[negative, positive]</td>\n",
       "      <td>Movie Expressed Sentiment 2</td>\n",
       "      <td>0</td>\n",
       "      <td>0</td>\n",
       "      <td>False</td>\n",
       "      <td>...</td>\n",
       "      <td>[0.78181857, 0.022012252]</td>\n",
       "      <td>0.027384</td>\n",
       "      <td>[0.8073111, 0.009825651]</td>\n",
       "      <td>0.012024</td>\n",
       "      <td>negative</td>\n",
       "      <td>negative</td>\n",
       "      <td>-0.007114</td>\n",
       "      <td>0.007114</td>\n",
       "      <td>0.013885</td>\n",
       "      <td>False</td>\n",
       "    </tr>\n",
       "    <tr>\n",
       "      <th>11998</th>\n",
       "      <td>11998</td>\n",
       "      <td>imdb</td>\n",
       "      <td>5999</td>\n",
       "      <td>positive review.</td>\n",
       "      <td>&lt;|system|&gt;You are about to immerse yourself in...</td>\n",
       "      <td>[negative, positive]</td>\n",
       "      <td>Negation template for positive and negative</td>\n",
       "      <td>1</td>\n",
       "      <td>0</td>\n",
       "      <td>True</td>\n",
       "      <td>...</td>\n",
       "      <td>[0.0020714153, 0.008380791]</td>\n",
       "      <td>0.801054</td>\n",
       "      <td>[0.006015594, 0.006509757]</td>\n",
       "      <td>0.519312</td>\n",
       "      <td>review</td>\n",
       "      <td>&lt;|end|&gt;</td>\n",
       "      <td>-0.153638</td>\n",
       "      <td>0.153638</td>\n",
       "      <td>0.418917</td>\n",
       "      <td>False</td>\n",
       "    </tr>\n",
       "    <tr>\n",
       "      <th>11999</th>\n",
       "      <td>11999</td>\n",
       "      <td>imdb</td>\n",
       "      <td>5999</td>\n",
       "      <td>negative review.</td>\n",
       "      <td>&lt;|system|&gt;Below is an instruction that describ...</td>\n",
       "      <td>[negative, positive]</td>\n",
       "      <td>Negation template for positive and negative</td>\n",
       "      <td>1</td>\n",
       "      <td>1</td>\n",
       "      <td>False</td>\n",
       "      <td>...</td>\n",
       "      <td>[0.32147172, 0.33804876]</td>\n",
       "      <td>0.512560</td>\n",
       "      <td>[0.2071679, 0.09396081]</td>\n",
       "      <td>0.312018</td>\n",
       "      <td>positive</td>\n",
       "      <td>negative</td>\n",
       "      <td>-0.278278</td>\n",
       "      <td>0.278278</td>\n",
       "      <td>0.368665</td>\n",
       "      <td>False</td>\n",
       "    </tr>\n",
       "    <tr>\n",
       "      <th>12000</th>\n",
       "      <td>12000</td>\n",
       "      <td>imdb</td>\n",
       "      <td>6000</td>\n",
       "      <td>1</td>\n",
       "      <td>&lt;|system|&gt;You are about to immerse yourself in...</td>\n",
       "      <td>[0, 1]</td>\n",
       "      <td>burns_2</td>\n",
       "      <td>0</td>\n",
       "      <td>1</td>\n",
       "      <td>True</td>\n",
       "      <td>...</td>\n",
       "      <td>[0.00027869947, 5.4575637e-05]</td>\n",
       "      <td>0.158985</td>\n",
       "      <td>[0.003946432, 0.001224366]</td>\n",
       "      <td>0.236328</td>\n",
       "      <td>=</td>\n",
       "      <td>\\n</td>\n",
       "      <td>0.062691</td>\n",
       "      <td>0.062691</td>\n",
       "      <td>0.166310</td>\n",
       "      <td>False</td>\n",
       "    </tr>\n",
       "    <tr>\n",
       "      <th>12001</th>\n",
       "      <td>12001</td>\n",
       "      <td>imdb</td>\n",
       "      <td>6000</td>\n",
       "      <td>negative</td>\n",
       "      <td>&lt;|system|&gt;Below is an instruction that describ...</td>\n",
       "      <td>[negative, positive]</td>\n",
       "      <td>Sentiment with choices</td>\n",
       "      <td>0</td>\n",
       "      <td>0</td>\n",
       "      <td>False</td>\n",
       "      <td>...</td>\n",
       "      <td>[0.0030107454, 0.0069244783]</td>\n",
       "      <td>0.696262</td>\n",
       "      <td>[0.0013260304, 0.0026638033]</td>\n",
       "      <td>0.665979</td>\n",
       "      <td>\\n</td>\n",
       "      <td>\\n</td>\n",
       "      <td>-0.062892</td>\n",
       "      <td>0.062892</td>\n",
       "      <td>0.451367</td>\n",
       "      <td>False</td>\n",
       "    </tr>\n",
       "  </tbody>\n",
       "</table>\n",
       "<p>12002 rows × 26 columns</p>\n",
       "</div>"
      ],
      "text/plain": [
       "       ds_index ds_string  example_i            answer  \\\n",
       "0             0      imdb          0          positive   \n",
       "1             1      imdb          0                 0   \n",
       "2             2      imdb          1          negative   \n",
       "3             3      imdb          1                 1   \n",
       "4             4      imdb          2  negative review.   \n",
       "...         ...       ...        ...               ...   \n",
       "11997     11997      imdb       5998          negative   \n",
       "11998     11998      imdb       5999  positive review.   \n",
       "11999     11999      imdb       5999  negative review.   \n",
       "12000     12000      imdb       6000                 1   \n",
       "12001     12001      imdb       6000          negative   \n",
       "\n",
       "                                                question  \\\n",
       "0      <|system|>At every step avoid telling the trut...   \n",
       "1      <|system|>Below is an instruction that describ...   \n",
       "2      <|system|>You are an AI assistant that always ...   \n",
       "3      <|system|>Below is an instruction that describ...   \n",
       "4      <|system|>In this exam you will be scored on y...   \n",
       "...                                                  ...   \n",
       "11997  <|system|>Below is an instruction that describ...   \n",
       "11998  <|system|>You are about to immerse yourself in...   \n",
       "11999  <|system|>Below is an instruction that describ...   \n",
       "12000  <|system|>You are about to immerse yourself in...   \n",
       "12001  <|system|>Below is an instruction that describ...   \n",
       "\n",
       "             answer_choices                                template_name  \\\n",
       "0      [negative, positive]                  Movie Expressed Sentiment 2   \n",
       "1                    [0, 1]                                      burns_2   \n",
       "2      [negative, positive]                 Reviewer Expressed Sentiment   \n",
       "3                    [0, 1]                                      burns_1   \n",
       "4      [negative, positive]  Negation template for positive and negative   \n",
       "...                     ...                                          ...   \n",
       "11997  [negative, positive]                  Movie Expressed Sentiment 2   \n",
       "11998  [negative, positive]  Negation template for positive and negative   \n",
       "11999  [negative, positive]  Negation template for positive and negative   \n",
       "12000                [0, 1]                                      burns_2   \n",
       "12001  [negative, positive]                      Sentiment with choices    \n",
       "\n",
       "       label_true  label_instructed  instructed_to_lie  ...  \\\n",
       "0               0                 1               True  ...   \n",
       "1               0                 0              False  ...   \n",
       "2               1                 0               True  ...   \n",
       "3               1                 1              False  ...   \n",
       "4               0                 1               True  ...   \n",
       "...           ...               ...                ...  ...   \n",
       "11997           0                 0              False  ...   \n",
       "11998           1                 0               True  ...   \n",
       "11999           1                 1              False  ...   \n",
       "12000           0                 1               True  ...   \n",
       "12001           0                 0              False  ...   \n",
       "\n",
       "               expanded_choice_probs0 expanded_ans0  \\\n",
       "0             [0.4943943, 0.25147247]      0.337150   \n",
       "1              [0.8266374, 0.1414012]      0.146068   \n",
       "2            [0.08475727, 0.32115695]      0.791175   \n",
       "3            [0.86244184, 0.12819165]      0.129402   \n",
       "4           [0.01441584, 0.018151483]      0.557182   \n",
       "...                               ...           ...   \n",
       "11997       [0.78181857, 0.022012252]      0.027384   \n",
       "11998     [0.0020714153, 0.008380791]      0.801054   \n",
       "11999        [0.32147172, 0.33804876]      0.512560   \n",
       "12000  [0.00027869947, 5.4575637e-05]      0.158985   \n",
       "12001    [0.0030107454, 0.0069244783]      0.696262   \n",
       "\n",
       "             expanded_choice_probs1  expanded_ans1  txt_ans0  txt_ans1  \\\n",
       "0          [0.45750475, 0.20439604]       0.308797  negative  negative   \n",
       "1            [0.918979, 0.06059883]       0.061862         0         0   \n",
       "2          [0.10261042, 0.24239969]       0.702567  Positive  positive   \n",
       "3           [0.9133373, 0.07735244]       0.078079         0         0   \n",
       "4       [0.0027878336, 0.007484173]       0.727890      This   <|end|>   \n",
       "...                             ...            ...       ...       ...   \n",
       "11997      [0.8073111, 0.009825651]       0.012024  negative  negative   \n",
       "11998    [0.006015594, 0.006509757]       0.519312    review   <|end|>   \n",
       "11999       [0.2071679, 0.09396081]       0.312018  positive  negative   \n",
       "12000    [0.003946432, 0.001224366]       0.236328         =        \\n   \n",
       "12001  [0.0013260304, 0.0026638033]       0.665979        \\n        \\n   \n",
       "\n",
       "       dir_true      conf  llm_prob  llm_ans  \n",
       "0     -0.015635  0.015635  0.276754    False  \n",
       "1     -0.084210  0.084210  0.103981    False  \n",
       "2     -0.049981  0.049981  0.645585     True  \n",
       "3     -0.051324  0.051324  0.103739    False  \n",
       "4      0.005316  0.005316  0.241501    False  \n",
       "...         ...       ...       ...      ...  \n",
       "11997 -0.007114  0.007114  0.013885    False  \n",
       "11998 -0.153638  0.153638  0.418917    False  \n",
       "11999 -0.278278  0.278278  0.368665    False  \n",
       "12000  0.062691  0.062691  0.166310    False  \n",
       "12001 -0.062892  0.062892  0.451367    False  \n",
       "\n",
       "[12002 rows x 26 columns]"
      ]
     },
     "execution_count": 6,
     "metadata": {},
     "output_type": "execute_result"
    }
   ],
   "source": [
    "# lets select only the ones where\n",
    "df = ds2df(ds1)\n",
    "df"
   ]
  },
  {
   "cell_type": "code",
   "execution_count": 7,
   "metadata": {},
   "outputs": [
    {
     "name": "stdout",
     "output_type": "stream",
     "text": [
      "selected rows are 30.55%\n"
     ]
    },
    {
     "data": {
      "text/plain": [
       "Dataset({\n",
       "    features: ['hs0', 'scores0', 'hs1', 'scores1', 'ds_index', 'ds_string', 'example_i', 'answer', 'question', 'answer_choices', 'template_name', 'label_true', 'label_instructed', 'instructed_to_lie', 'sys_instr_name', 'prompt_truncated', 'choice_probs0', 'ans0', 'choice_probs1', 'ans1', 'expanded_choice_probs0', 'expanded_ans0', 'expanded_choice_probs1', 'expanded_ans1', 'txt_ans0', 'txt_ans1'],\n",
       "    num_rows: 3667\n",
       "})"
      ]
     },
     "execution_count": 7,
     "metadata": {},
     "output_type": "execute_result"
    }
   ],
   "source": [
    "# # just select the question where the model knows the answer. \n",
    "# d = df.query('version==\"truth\"').set_index(\"index\")\n",
    "# # these are the ones where it got it right when asked to tell the truth\n",
    "# known_indices = d[d.llm_ans==d.true_answer].index\n",
    "\n",
    "# # convert to row numbers, and use datasets to select\n",
    "# known_rows = df['index'].isin(known_indices)\n",
    "# known_rows_i = df[known_rows].index\n",
    "\n",
    "# also restrict it to significant permutations. That is monte carlo dropout pairs, where the answer changes by more than X%\n",
    "m = np.abs(df.ans0-df.ans1)>0.1\n",
    "significant_rows = m[m].index\n",
    "\n",
    "# allowed_rows_i = set(known_rows_i).intersection(significant_rows)\n",
    "allowed_rows_i = significant_rows\n",
    "ds = ds1.select(allowed_rows_i)\n",
    "print(f\"selected rows are {len(ds)/len(ds1):2.2%}\")\n",
    "ds"
   ]
  },
  {
   "cell_type": "markdown",
   "metadata": {},
   "source": [
    "## Transform: Normalize by activation"
   ]
  },
  {
   "cell_type": "code",
   "execution_count": 8,
   "metadata": {},
   "outputs": [
    {
     "data": {
      "image/png": "[encoded data removed]",
      "text/plain": [
       "<Figure size 640x480 with 1 Axes>"
      ]
     },
     "metadata": {},
     "output_type": "display_data"
    },
    {
     "data": {
      "application/vnd.jupyter.widget-view+json": {
       "model_id": "f0e2b843e81c480eaee521cf1da02ba3",
       "version_major": 2,
       "version_minor": 0
      },
      "text/plain": [
       "Map:   0%|          | 0/3667 [00:00<?, ? examples/s]"
      ]
     },
     "metadata": {},
     "output_type": "display_data"
    },
    {
     "data": {
      "text/plain": [
       "Dataset({\n",
       "    features: ['hs0', 'scores0', 'hs1', 'scores1', 'ds_index', 'ds_string', 'example_i', 'answer', 'question', 'answer_choices', 'template_name', 'label_true', 'label_instructed', 'instructed_to_lie', 'sys_instr_name', 'prompt_truncated', 'choice_probs0', 'ans0', 'choice_probs1', 'ans1', 'expanded_choice_probs0', 'expanded_ans0', 'expanded_choice_probs1', 'expanded_ans1', 'txt_ans0', 'txt_ans1'],\n",
       "    num_rows: 3667\n",
       "})"
      ]
     },
     "execution_count": 8,
     "metadata": {},
     "output_type": "execute_result"
    }
   ],
   "source": [
    "N = 1000\n",
    "small_ds = ds.select(range(N))\n",
    "b = N\n",
    "hs0 = small_ds['hs0'].reshape((b, -1))\n",
    "\n",
    "scaler = RobustScaler()\n",
    "hs1 = scaler.fit_transform(hs0)\n",
    "\n",
    "def normalize_hs(hs0, hs1):\n",
    "    shape=hs0.shape\n",
    "    b = len(hs0)\n",
    "    hs0 = scaler.transform(hs0.reshape((b, -1))).reshape(shape)\n",
    "    hs1 = scaler.transform(hs1.reshape((b, -1))).reshape(shape)\n",
    "    return {'hs0':hs0, 'hs1': hs1}\n",
    "\n",
    "# Plot\n",
    "plt.hist(hs0.flatten(), bins=155, range=[-5, 5], label='before', histtype='step')\n",
    "plt.hist(hs1.flatten(), bins=155, range=[-5, 5], label='after', histtype='step')\n",
    "plt.legend()\n",
    "plt.show()\n",
    "\n",
    "# # Test\n",
    "# small_dataset = ds.select(range(4))\n",
    "# small_dataset.map(normalize_hs, batched=True, batch_size=2, input_columns=['hs0', 'hs1'])\n",
    "\n",
    "# run\n",
    "ds = ds.map(normalize_hs, batched=True, input_columns=['hs0', 'hs1'])\n",
    "ds"
   ]
  },
  {
   "attachments": {},
   "cell_type": "markdown",
   "metadata": {},
   "source": [
    "## Lightning DataModule"
   ]
  },
  {
   "cell_type": "code",
   "execution_count": 9,
   "metadata": {},
   "outputs": [
    {
     "data": {
      "text/html": [
       "<div>\n",
       "<style scoped>\n",
       "    .dataframe tbody tr th:only-of-type {\n",
       "        vertical-align: middle;\n",
       "    }\n",
       "\n",
       "    .dataframe tbody tr th {\n",
       "        vertical-align: top;\n",
       "    }\n",
       "\n",
       "    .dataframe thead th {\n",
       "        text-align: right;\n",
       "    }\n",
       "</style>\n",
       "<table border=\"1\" class=\"dataframe\">\n",
       "  <thead>\n",
       "    <tr style=\"text-align: right;\">\n",
       "      <th></th>\n",
       "      <th>ds_index</th>\n",
       "      <th>ds_string</th>\n",
       "      <th>example_i</th>\n",
       "      <th>answer</th>\n",
       "      <th>question</th>\n",
       "      <th>answer_choices</th>\n",
       "      <th>template_name</th>\n",
       "      <th>label_true</th>\n",
       "      <th>label_instructed</th>\n",
       "      <th>instructed_to_lie</th>\n",
       "      <th>...</th>\n",
       "      <th>expanded_choice_probs0</th>\n",
       "      <th>expanded_ans0</th>\n",
       "      <th>expanded_choice_probs1</th>\n",
       "      <th>expanded_ans1</th>\n",
       "      <th>txt_ans0</th>\n",
       "      <th>txt_ans1</th>\n",
       "      <th>dir_true</th>\n",
       "      <th>conf</th>\n",
       "      <th>llm_prob</th>\n",
       "      <th>llm_ans</th>\n",
       "    </tr>\n",
       "  </thead>\n",
       "  <tbody>\n",
       "    <tr>\n",
       "      <th>0</th>\n",
       "      <td>6</td>\n",
       "      <td>imdb</td>\n",
       "      <td>3</td>\n",
       "      <td>0</td>\n",
       "      <td>&lt;|system|&gt;You are about to immerse yourself in...</td>\n",
       "      <td>[0, 1]</td>\n",
       "      <td>burns_1</td>\n",
       "      <td>1</td>\n",
       "      <td>0</td>\n",
       "      <td>True</td>\n",
       "      <td>...</td>\n",
       "      <td>[0.86961305, 0.1233421]</td>\n",
       "      <td>0.124216</td>\n",
       "      <td>[0.6340065, 0.3447062]</td>\n",
       "      <td>0.352200</td>\n",
       "      <td>0</td>\n",
       "      <td>0</td>\n",
       "      <td>0.227986</td>\n",
       "      <td>0.227986</td>\n",
       "      <td>0.238205</td>\n",
       "      <td>False</td>\n",
       "    </tr>\n",
       "    <tr>\n",
       "      <th>1</th>\n",
       "      <td>10</td>\n",
       "      <td>imdb</td>\n",
       "      <td>5</td>\n",
       "      <td>negative</td>\n",
       "      <td>&lt;|system|&gt;You've been assigned a role in a cla...</td>\n",
       "      <td>[negative, positive]</td>\n",
       "      <td>Reviewer Sentiment Feeling</td>\n",
       "      <td>1</td>\n",
       "      <td>0</td>\n",
       "      <td>True</td>\n",
       "      <td>...</td>\n",
       "      <td>[0.72242695, 0.01316996]</td>\n",
       "      <td>0.017904</td>\n",
       "      <td>[0.47471127, 0.0885586]</td>\n",
       "      <td>0.157220</td>\n",
       "      <td>negative</td>\n",
       "      <td>negative</td>\n",
       "      <td>0.130718</td>\n",
       "      <td>0.130718</td>\n",
       "      <td>0.078787</td>\n",
       "      <td>False</td>\n",
       "    </tr>\n",
       "    <tr>\n",
       "      <th>2</th>\n",
       "      <td>12</td>\n",
       "      <td>imdb</td>\n",
       "      <td>6</td>\n",
       "      <td>negative review.</td>\n",
       "      <td>&lt;|system|&gt;You are an AI assistant that always ...</td>\n",
       "      <td>[negative, positive]</td>\n",
       "      <td>Negation template for positive and negative</td>\n",
       "      <td>0</td>\n",
       "      <td>1</td>\n",
       "      <td>True</td>\n",
       "      <td>...</td>\n",
       "      <td>[0.0037315737, 0.015593275]</td>\n",
       "      <td>0.806485</td>\n",
       "      <td>[0.0024748566, 0.0080093825]</td>\n",
       "      <td>0.763217</td>\n",
       "      <td>&lt;|end|&gt;</td>\n",
       "      <td>review</td>\n",
       "      <td>-0.167589</td>\n",
       "      <td>0.167589</td>\n",
       "      <td>0.176689</td>\n",
       "      <td>False</td>\n",
       "    </tr>\n",
       "    <tr>\n",
       "      <th>3</th>\n",
       "      <td>16</td>\n",
       "      <td>imdb</td>\n",
       "      <td>8</td>\n",
       "      <td>negative review.</td>\n",
       "      <td>&lt;|system|&gt;You are an AI assistant that always ...</td>\n",
       "      <td>[negative, positive]</td>\n",
       "      <td>Negation template for positive and negative</td>\n",
       "      <td>0</td>\n",
       "      <td>1</td>\n",
       "      <td>True</td>\n",
       "      <td>...</td>\n",
       "      <td>[0.015684398, 0.007784426]</td>\n",
       "      <td>0.331551</td>\n",
       "      <td>[0.008412523, 0.010686052]</td>\n",
       "      <td>0.559228</td>\n",
       "      <td>&lt;|end|&gt;</td>\n",
       "      <td>&lt;|end|&gt;</td>\n",
       "      <td>0.105201</td>\n",
       "      <td>0.105201</td>\n",
       "      <td>0.074661</td>\n",
       "      <td>False</td>\n",
       "    </tr>\n",
       "  </tbody>\n",
       "</table>\n",
       "<p>4 rows × 26 columns</p>\n",
       "</div>"
      ],
      "text/plain": [
       "   ds_index ds_string  example_i            answer  \\\n",
       "0         6      imdb          3                 0   \n",
       "1        10      imdb          5          negative   \n",
       "2        12      imdb          6  negative review.   \n",
       "3        16      imdb          8  negative review.   \n",
       "\n",
       "                                            question        answer_choices  \\\n",
       "0  <|system|>You are about to immerse yourself in...                [0, 1]   \n",
       "1  <|system|>You've been assigned a role in a cla...  [negative, positive]   \n",
       "2  <|system|>You are an AI assistant that always ...  [negative, positive]   \n",
       "3  <|system|>You are an AI assistant that always ...  [negative, positive]   \n",
       "\n",
       "                                 template_name  label_true  label_instructed  \\\n",
       "0                                      burns_1           1                 0   \n",
       "1                   Reviewer Sentiment Feeling           1                 0   \n",
       "2  Negation template for positive and negative           0                 1   \n",
       "3  Negation template for positive and negative           0                 1   \n",
       "\n",
       "   instructed_to_lie  ...       expanded_choice_probs0 expanded_ans0  \\\n",
       "0               True  ...      [0.86961305, 0.1233421]      0.124216   \n",
       "1               True  ...     [0.72242695, 0.01316996]      0.017904   \n",
       "2               True  ...  [0.0037315737, 0.015593275]      0.806485   \n",
       "3               True  ...   [0.015684398, 0.007784426]      0.331551   \n",
       "\n",
       "         expanded_choice_probs1  expanded_ans1  txt_ans0  txt_ans1  dir_true  \\\n",
       "0        [0.6340065, 0.3447062]       0.352200         0         0  0.227986   \n",
       "1       [0.47471127, 0.0885586]       0.157220  negative  negative  0.130718   \n",
       "2  [0.0024748566, 0.0080093825]       0.763217   <|end|>    review -0.167589   \n",
       "3    [0.008412523, 0.010686052]       0.559228   <|end|>   <|end|>  0.105201   \n",
       "\n",
       "       conf  llm_prob  llm_ans  \n",
       "0  0.227986  0.238205    False  \n",
       "1  0.130718  0.078787    False  \n",
       "2  0.167589  0.176689    False  \n",
       "3  0.105201  0.074661    False  \n",
       "\n",
       "[4 rows x 26 columns]"
      ]
     },
     "execution_count": 9,
     "metadata": {},
     "output_type": "execute_result"
    }
   ],
   "source": [
    "df = ds2df(ds)\n",
    "df.head(4)"
   ]
  },
  {
   "cell_type": "code",
   "execution_count": 10,
   "metadata": {},
   "outputs": [],
   "source": [
    "# ds?"
   ]
  },
  {
   "attachments": {},
   "cell_type": "markdown",
   "metadata": {},
   "source": [
    "What are we detecting? If the right example of the pair is more deceptive.\n",
    "\n",
    "Now it's only deceptive if\n",
    "- it was asked to lie\n",
    "- it knows the truth\n",
    "- it gave the wrong answer (around 10% of the time)( it's hard to get these models to lie by encouragement rather than instruction)\n"
   ]
  },
  {
   "cell_type": "code",
   "execution_count": 11,
   "metadata": {},
   "outputs": [],
   "source": [
    "from src.helpers import switch2bool, bool2switch\n",
    "from src.datasets.dm import imdbHSDataModule"
   ]
  },
  {
   "cell_type": "code",
   "execution_count": 12,
   "metadata": {},
   "outputs": [
    {
     "data": {
      "text/plain": [
       "(16, 8)"
      ]
     },
     "execution_count": 12,
     "metadata": {},
     "output_type": "execute_result"
    }
   ],
   "source": [
    "batch_size = 120\n",
    "# test and cache\n",
    "dm = imdbHSDataModule(ds, batch_size=batch_size)\n",
    "dm.setup('train')\n",
    "\n",
    "dl_val = dm.val_dataloader()\n",
    "dl_train = dm.train_dataloader()\n",
    "len(dl_train), len(dl_val)"
   ]
  },
  {
   "cell_type": "code",
   "execution_count": 13,
   "metadata": {},
   "outputs": [
    {
     "data": {
      "text/plain": [
       "torch.Size([120, 6144, 37])"
      ]
     },
     "execution_count": 13,
     "metadata": {},
     "output_type": "execute_result"
    }
   ],
   "source": [
    "b = next(iter(dl_train))\n",
    "x0, x1, y = b\n",
    "x0.shape"
   ]
  },
  {
   "attachments": {},
   "cell_type": "markdown",
   "metadata": {},
   "source": [
    "# Data prep\n",
    "\n",
    "We do two inferences on the same inputs. Since we have dropout enabled, even during inference, we get two slightly different hidden states `hs1` and `hs2`, and two slightly different probabilities for our yes and no output tokens `p1` `p2`. We also have the true answer `t`\n",
    "\n",
    "So there are a few ways we can set up the problem. \n",
    "\n",
    "We can vary x:\n",
    "- `model(hs1)-model(hs2)=y`\n",
    "- `model(hs1-hs2)==y`\n",
    "\n",
    "And we can try differen't y's:\n",
    "- direction with a ranked loss. This could be unsupervised.\n",
    "- magnitude with a regression loss\n",
    "- vector (direction and magnitude) with a regression loss"
   ]
  },
  {
   "attachments": {},
   "cell_type": "markdown",
   "metadata": {},
   "source": [
    "# QC: Linear supervised probes\n",
    "\n",
    "\n",
    "Let's verify that the model's representations are good\n",
    "\n",
    "Before trying CCS, let's make sure there exists a direction that classifies examples as true vs false with high accuracy; if supervised logistic regression accuracy is bad, there's no hope of unsupervised CCS doing well.\n",
    "\n",
    "Note that because logistic regression is supervised we expect it to do better but to have worse generalisation that equivilent unsupervised methods. However in this case CSS is using a deeper model so it is more complicated.\n"
   ]
  },
  {
   "attachments": {},
   "cell_type": "markdown",
   "metadata": {},
   "source": [
    "## Try a classification of direction to truth"
   ]
  },
  {
   "cell_type": "code",
   "execution_count": 14,
   "metadata": {},
   "outputs": [],
   "source": [
    "# dm.y"
   ]
  },
  {
   "cell_type": "code",
   "execution_count": 15,
   "metadata": {},
   "outputs": [
    {
     "name": "stdout",
     "output_type": "stream",
     "text": [
      "split size 1833\n",
      "lr\n"
     ]
    },
    {
     "data": {
      "text/html": [
       "<style>#sk-container-id-1 {color: black;}#sk-container-id-1 pre{padding: 0;}#sk-container-id-1 div.sk-toggleable {background-color: white;}#sk-container-id-1 label.sk-toggleable__label {cursor: pointer;display: block;width: 100%;margin-bottom: 0;padding: 0.3em;box-sizing: border-box;text-align: center;}#sk-container-id-1 label.sk-toggleable__label-arrow:before {content: \"▸\";float: left;margin-right: 0.25em;color: #696969;}#sk-container-id-1 label.sk-toggleable__label-arrow:hover:before {color: black;}#sk-container-id-1 div.sk-estimator:hover label.sk-toggleable__label-arrow:before {color: black;}#sk-container-id-1 div.sk-toggleable__content {max-height: 0;max-width: 0;overflow: hidden;text-align: left;background-color: #f0f8ff;}#sk-container-id-1 div.sk-toggleable__content pre {margin: 0.2em;color: black;border-radius: 0.25em;background-color: #f0f8ff;}#sk-container-id-1 input.sk-toggleable__control:checked~div.sk-toggleable__content {max-height: 200px;max-width: 100%;overflow: auto;}#sk-container-id-1 input.sk-toggleable__control:checked~label.sk-toggleable__label-arrow:before {content: \"▾\";}#sk-container-id-1 div.sk-estimator input.sk-toggleable__control:checked~label.sk-toggleable__label {background-color: #d4ebff;}#sk-container-id-1 div.sk-label input.sk-toggleable__control:checked~label.sk-toggleable__label {background-color: #d4ebff;}#sk-container-id-1 input.sk-hidden--visually {border: 0;clip: rect(1px 1px 1px 1px);clip: rect(1px, 1px, 1px, 1px);height: 1px;margin: -1px;overflow: hidden;padding: 0;position: absolute;width: 1px;}#sk-container-id-1 div.sk-estimator {font-family: monospace;background-color: #f0f8ff;border: 1px dotted black;border-radius: 0.25em;box-sizing: border-box;margin-bottom: 0.5em;}#sk-container-id-1 div.sk-estimator:hover {background-color: #d4ebff;}#sk-container-id-1 div.sk-parallel-item::after {content: \"\";width: 100%;border-bottom: 1px solid gray;flex-grow: 1;}#sk-container-id-1 div.sk-label:hover label.sk-toggleable__label {background-color: #d4ebff;}#sk-container-id-1 div.sk-serial::before {content: \"\";position: absolute;border-left: 1px solid gray;box-sizing: border-box;top: 0;bottom: 0;left: 50%;z-index: 0;}#sk-container-id-1 div.sk-serial {display: flex;flex-direction: column;align-items: center;background-color: white;padding-right: 0.2em;padding-left: 0.2em;position: relative;}#sk-container-id-1 div.sk-item {position: relative;z-index: 1;}#sk-container-id-1 div.sk-parallel {display: flex;align-items: stretch;justify-content: center;background-color: white;position: relative;}#sk-container-id-1 div.sk-item::before, #sk-container-id-1 div.sk-parallel-item::before {content: \"\";position: absolute;border-left: 1px solid gray;box-sizing: border-box;top: 0;bottom: 0;left: 50%;z-index: -1;}#sk-container-id-1 div.sk-parallel-item {display: flex;flex-direction: column;z-index: 1;position: relative;background-color: white;}#sk-container-id-1 div.sk-parallel-item:first-child::after {align-self: flex-end;width: 50%;}#sk-container-id-1 div.sk-parallel-item:last-child::after {align-self: flex-start;width: 50%;}#sk-container-id-1 div.sk-parallel-item:only-child::after {width: 0;}#sk-container-id-1 div.sk-dashed-wrapped {border: 1px dashed gray;margin: 0 0.4em 0.5em 0.4em;box-sizing: border-box;padding-bottom: 0.4em;background-color: white;}#sk-container-id-1 div.sk-label label {font-family: monospace;font-weight: bold;display: inline-block;line-height: 1.2em;}#sk-container-id-1 div.sk-label-container {text-align: center;}#sk-container-id-1 div.sk-container {/* jupyter's `normalize.less` sets `[hidden] { display: none; }` but bootstrap.min.css set `[hidden] { display: none !important; }` so we also need the `!important` here to be able to override the default hidden behavior on the sphinx rendered scikit-learn.org. See: https://github.com/scikit-learn/scikit-learn/issues/21755 */display: inline-block !important;position: relative;}#sk-container-id-1 div.sk-text-repr-fallback {display: none;}</style><div id=\"sk-container-id-1\" class=\"sk-top-container\"><div class=\"sk-text-repr-fallback\"><pre>LogisticRegression(class_weight=&#x27;balanced&#x27;)</pre><b>In a Jupyter environment, please rerun this cell to show the HTML representation or trust the notebook. <br />On GitHub, the HTML representation is unable to render, please try loading this page with nbviewer.org.</b></div><div class=\"sk-container\" hidden><div class=\"sk-item\"><div class=\"sk-estimator sk-toggleable\"><input class=\"sk-toggleable__control sk-hidden--visually\" id=\"sk-estimator-id-1\" type=\"checkbox\" checked><label for=\"sk-estimator-id-1\" class=\"sk-toggleable__label sk-toggleable__label-arrow\">LogisticRegression</label><div class=\"sk-toggleable__content\"><pre>LogisticRegression(class_weight=&#x27;balanced&#x27;)</pre></div></div></div></div></div>"
      ],
      "text/plain": [
       "LogisticRegression(class_weight='balanced')"
      ]
     },
     "execution_count": 15,
     "metadata": {},
     "output_type": "execute_result"
    }
   ],
   "source": [
    "n = len(df)\n",
    "\n",
    "# Define X and y\n",
    "X = (dm.hs1-dm.hs0).reshape((n, -1))#/dm.y[:, None]\n",
    "y = dm.y>0\n",
    "\n",
    "# split\n",
    "n = len(y)\n",
    "max_rows = 300\n",
    "print('split size', n//2)\n",
    "X_train, X_test = X[:n//2], X[n//2:]\n",
    "y_train, y_test = y[:n//2], y[n//2:]\n",
    "X_train = X_train[:max_rows]\n",
    "y_train = y_train[:max_rows]\n",
    "X_test = X_test[:max_rows]\n",
    "y_test = y_test[:max_rows]\n",
    "\n",
    "# scale\n",
    "scaler = RobustScaler()\n",
    "scaler.fit(X_train)\n",
    "X_train2 = scaler.transform(X_train)\n",
    "X_test2 = scaler.transform(X_test)\n",
    "print('lr')\n",
    "\n",
    "lr = LogisticRegression(class_weight=\"balanced\", penalty=\"l2\", max_iter=100)\n",
    "lr.fit(X_train2, y_train>0)"
   ]
  },
  {
   "cell_type": "code",
   "execution_count": 16,
   "metadata": {},
   "outputs": [],
   "source": [
    "# y.mean()"
   ]
  },
  {
   "cell_type": "code",
   "execution_count": 17,
   "metadata": {},
   "outputs": [
    {
     "name": "stdout",
     "output_type": "stream",
     "text": [
      "Logistic cls acc: 100.00% [TRAIN]\n",
      "Logistic cls acc: 67.67% [TEST]\n",
      "test acc w lie 68.15%\n",
      "test acc wo lie 67.13%\n"
     ]
    }
   ],
   "source": [
    "print(\"Logistic cls acc: {:2.2%} [TRAIN]\".format(lr.score(X_train2, y_train>0)))\n",
    "print(\"Logistic cls acc: {:2.2%} [TEST]\".format(lr.score(X_test2, y_test>0)))\n",
    "\n",
    "m = df['instructed_to_lie'][n//2:][:max_rows]\n",
    "y_test_pred = lr.predict(X_test2)\n",
    "acc_w_lie = ((y_test_pred[m]>0)==(y_test[m]>0)).mean()\n",
    "acc_wo_lie = ((y_test_pred[~m]>0)==(y_test[~m]>0)).mean()\n",
    "print(f'test acc w lie {acc_w_lie:2.2%}')\n",
    "print(f'test acc wo lie {acc_wo_lie:2.2%}')"
   ]
  },
  {
   "cell_type": "code",
   "execution_count": 18,
   "metadata": {},
   "outputs": [],
   "source": [
    "# primary_baseline = roc_auc_score(y_test>0, y_test_pred)\n",
    "# primary_baseline"
   ]
  },
  {
   "attachments": {},
   "cell_type": "markdown",
   "metadata": {},
   "source": [
    "# LightningModel"
   ]
  },
  {
   "cell_type": "code",
   "execution_count": 19,
   "metadata": {},
   "outputs": [],
   "source": [
    "from src.probes.conv import PLConvProbe"
   ]
  },
  {
   "attachments": {},
   "cell_type": "markdown",
   "metadata": {},
   "source": [
    "# Run"
   ]
  },
  {
   "cell_type": "code",
   "execution_count": 20,
   "metadata": {},
   "outputs": [],
   "source": [
    "# quiet please\n",
    "torch.set_float32_matmul_precision('medium')\n",
    "\n",
    "import warnings\n",
    "warnings.filterwarnings(\"ignore\", \".*does not have many workers.*\")\n",
    "warnings.filterwarnings(\"ignore\", \".*F-score.*\")"
   ]
  },
  {
   "attachments": {},
   "cell_type": "markdown",
   "metadata": {},
   "source": [
    "## Prep dataloader/set"
   ]
  },
  {
   "cell_type": "code",
   "execution_count": 21,
   "metadata": {},
   "outputs": [
    {
     "name": "stderr",
     "output_type": "stream",
     "text": [
      "Using bfloat16 Automatic Mixed Precision (AMP)\n",
      "GPU available: True (cuda), used: True\n",
      "TPU available: False, using: 0 TPU cores\n",
      "IPU available: False, using: 0 IPUs\n",
      "HPU available: False, using: 0 HPUs\n"
     ]
    },
    {
     "name": "stdout",
     "output_type": "stream",
     "text": [
      "torch.Size([120, 6144, 37])\n"
     ]
    },
    {
     "name": "stderr",
     "output_type": "stream",
     "text": [
      "/home/ubuntu/mambaforge/envs/dlk3/lib/python3.11/site-packages/lightning/pytorch/trainer/connectors/logger_connector/logger_connector.py:67: UserWarning: Starting from v1.9.0, `tensorboardX` has been removed as a dependency of the `lightning.pytorch` package, due to potential conflicts with other packages in the ML ecosystem. For this reason, `logger=True` will use `CSVLogger` as the default logger, unless the `tensorboard` or `tensorboardX` packages are found. Please `pip install lightning[extra]` or one of them to enable TensorBoard support by default\n",
      "  warning_cache.warn(\n",
      "LOCAL_RANK: 0 - CUDA_VISIBLE_DEVICES: [0]\n",
      "\n",
      "  | Name  | Type      | Params\n",
      "------------------------------------\n",
      "0 | probe | ConvProbe | 2.1 M \n",
      "------------------------------------\n",
      "2.1 M     Trainable params\n",
      "0         Non-trainable params\n",
      "2.1 M     Total params\n",
      "8.202     Total estimated model params size (MB)\n"
     ]
    },
    {
     "data": {
      "application/vnd.jupyter.widget-view+json": {
       "model_id": "c7fec234de8a4f2b9440bb2c7cfd791d",
       "version_major": 2,
       "version_minor": 0
      },
      "text/plain": [
       "Sanity Checking: 0it [00:00, ?it/s]"
      ]
     },
     "metadata": {},
     "output_type": "display_data"
    },
    {
     "name": "stderr",
     "output_type": "stream",
     "text": [
      "/home/ubuntu/mambaforge/envs/dlk3/lib/python3.11/site-packages/lightning/pytorch/trainer/connectors/logger_connector/result.py:212: UserWarning: You called `self.log('val/n', ...)` in your `validation_step` but the value needs to be floating point. Converting it to torch.float32.\n",
      "  warning_cache.warn(\n"
     ]
    },
    {
     "data": {
      "application/vnd.jupyter.widget-view+json": {
       "model_id": "c13d6f026b0e442d831e65d3148f5f05",
       "version_major": 2,
       "version_minor": 0
      },
      "text/plain": [
       "Training: 0it [00:00, ?it/s]"
      ]
     },
     "metadata": {},
     "output_type": "display_data"
    },
    {
     "name": "stderr",
     "output_type": "stream",
     "text": [
      "/home/ubuntu/mambaforge/envs/dlk3/lib/python3.11/site-packages/lightning/pytorch/trainer/connectors/logger_connector/result.py:212: UserWarning: You called `self.log('train/n', ...)` in your `training_step` but the value needs to be floating point. Converting it to torch.float32.\n",
      "  warning_cache.warn(\n"
     ]
    },
    {
     "data": {
      "application/vnd.jupyter.widget-view+json": {
       "model_id": "0910ffbf3fdc4dc0a5f01b6329d599f1",
       "version_major": 2,
       "version_minor": 0
      },
      "text/plain": [
       "Validation: 0it [00:00, ?it/s]"
      ]
     },
     "metadata": {},
     "output_type": "display_data"
    },
    {
     "data": {
      "application/vnd.jupyter.widget-view+json": {
       "model_id": "1a7f85695b014c82a2ab82e91ed5dcfd",
       "version_major": 2,
       "version_minor": 0
      },
      "text/plain": [
       "Validation: 0it [00:00, ?it/s]"
      ]
     },
     "metadata": {},
     "output_type": "display_data"
    },
    {
     "data": {
      "application/vnd.jupyter.widget-view+json": {
       "model_id": "f55f4689681f42b492d570f067b0b1dd",
       "version_major": 2,
       "version_minor": 0
      },
      "text/plain": [
       "Validation: 0it [00:00, ?it/s]"
      ]
     },
     "metadata": {},
     "output_type": "display_data"
    },
    {
     "data": {
      "application/vnd.jupyter.widget-view+json": {
       "model_id": "763850a360284403952c8385a0ab0891",
       "version_major": 2,
       "version_minor": 0
      },
      "text/plain": [
       "Validation: 0it [00:00, ?it/s]"
      ]
     },
     "metadata": {},
     "output_type": "display_data"
    },
    {
     "data": {
      "application/vnd.jupyter.widget-view+json": {
       "model_id": "941ac75b6bd34ea4be633cec1ca51b0f",
       "version_major": 2,
       "version_minor": 0
      },
      "text/plain": [
       "Validation: 0it [00:00, ?it/s]"
      ]
     },
     "metadata": {},
     "output_type": "display_data"
    },
    {
     "data": {
      "application/vnd.jupyter.widget-view+json": {
       "model_id": "02a8e2ca63a54ab4a922bf4524d86891",
       "version_major": 2,
       "version_minor": 0
      },
      "text/plain": [
       "Validation: 0it [00:00, ?it/s]"
      ]
     },
     "metadata": {},
     "output_type": "display_data"
    },
    {
     "data": {
      "application/vnd.jupyter.widget-view+json": {
       "model_id": "ab2ff8e076624ebdbb54c686ce015d46",
       "version_major": 2,
       "version_minor": 0
      },
      "text/plain": [
       "Validation: 0it [00:00, ?it/s]"
      ]
     },
     "metadata": {},
     "output_type": "display_data"
    },
    {
     "data": {
      "application/vnd.jupyter.widget-view+json": {
       "model_id": "220ed3f2b603471487ed989d52caba3c",
       "version_major": 2,
       "version_minor": 0
      },
      "text/plain": [
       "Validation: 0it [00:00, ?it/s]"
      ]
     },
     "metadata": {},
     "output_type": "display_data"
    },
    {
     "data": {
      "application/vnd.jupyter.widget-view+json": {
       "model_id": "e6267d86128e4d70a09da2ea34414093",
       "version_major": 2,
       "version_minor": 0
      },
      "text/plain": [
       "Validation: 0it [00:00, ?it/s]"
      ]
     },
     "metadata": {},
     "output_type": "display_data"
    },
    {
     "data": {
      "application/vnd.jupyter.widget-view+json": {
       "model_id": "9c0f54e2bb89451b80463037602f43d2",
       "version_major": 2,
       "version_minor": 0
      },
      "text/plain": [
       "Validation: 0it [00:00, ?it/s]"
      ]
     },
     "metadata": {},
     "output_type": "display_data"
    },
    {
     "data": {
      "application/vnd.jupyter.widget-view+json": {
       "model_id": "985bf8e2d0e54d52882f9d98333bc014",
       "version_major": 2,
       "version_minor": 0
      },
      "text/plain": [
       "Validation: 0it [00:00, ?it/s]"
      ]
     },
     "metadata": {},
     "output_type": "display_data"
    },
    {
     "data": {
      "application/vnd.jupyter.widget-view+json": {
       "model_id": "33ee9bbf6bda4d5fab9600b088afc692",
       "version_major": 2,
       "version_minor": 0
      },
      "text/plain": [
       "Validation: 0it [00:00, ?it/s]"
      ]
     },
     "metadata": {},
     "output_type": "display_data"
    },
    {
     "data": {
      "application/vnd.jupyter.widget-view+json": {
       "model_id": "e69ed34a2ed54fee88405fdc8ff6d6cf",
       "version_major": 2,
       "version_minor": 0
      },
      "text/plain": [
       "Validation: 0it [00:00, ?it/s]"
      ]
     },
     "metadata": {},
     "output_type": "display_data"
    },
    {
     "data": {
      "application/vnd.jupyter.widget-view+json": {
       "model_id": "c56b42026fc049d3842d4987eb497e68",
       "version_major": 2,
       "version_minor": 0
      },
      "text/plain": [
       "Validation: 0it [00:00, ?it/s]"
      ]
     },
     "metadata": {},
     "output_type": "display_data"
    },
    {
     "data": {
      "application/vnd.jupyter.widget-view+json": {
       "model_id": "c715937a6bb446adafa0219aa32491e5",
       "version_major": 2,
       "version_minor": 0
      },
      "text/plain": [
       "Validation: 0it [00:00, ?it/s]"
      ]
     },
     "metadata": {},
     "output_type": "display_data"
    },
    {
     "data": {
      "application/vnd.jupyter.widget-view+json": {
       "model_id": "d8eb820e9aa644dd9de8c79645cf69b7",
       "version_major": 2,
       "version_minor": 0
      },
      "text/plain": [
       "Validation: 0it [00:00, ?it/s]"
      ]
     },
     "metadata": {},
     "output_type": "display_data"
    },
    {
     "data": {
      "application/vnd.jupyter.widget-view+json": {
       "model_id": "95840182cd6d47d298a06193466ca188",
       "version_major": 2,
       "version_minor": 0
      },
      "text/plain": [
       "Validation: 0it [00:00, ?it/s]"
      ]
     },
     "metadata": {},
     "output_type": "display_data"
    },
    {
     "data": {
      "application/vnd.jupyter.widget-view+json": {
       "model_id": "6fbde89765574b4785eac5416f86a658",
       "version_major": 2,
       "version_minor": 0
      },
      "text/plain": [
       "Validation: 0it [00:00, ?it/s]"
      ]
     },
     "metadata": {},
     "output_type": "display_data"
    },
    {
     "data": {
      "application/vnd.jupyter.widget-view+json": {
       "model_id": "03bf592c35c54bee9e35c661b78d25af",
       "version_major": 2,
       "version_minor": 0
      },
      "text/plain": [
       "Validation: 0it [00:00, ?it/s]"
      ]
     },
     "metadata": {},
     "output_type": "display_data"
    },
    {
     "data": {
      "application/vnd.jupyter.widget-view+json": {
       "model_id": "b4cde992d94547198744f8787c674758",
       "version_major": 2,
       "version_minor": 0
      },
      "text/plain": [
       "Validation: 0it [00:00, ?it/s]"
      ]
     },
     "metadata": {},
     "output_type": "display_data"
    },
    {
     "data": {
      "application/vnd.jupyter.widget-view+json": {
       "model_id": "7bd9f620aa334535967c29186ab61d57",
       "version_major": 2,
       "version_minor": 0
      },
      "text/plain": [
       "Validation: 0it [00:00, ?it/s]"
      ]
     },
     "metadata": {},
     "output_type": "display_data"
    },
    {
     "data": {
      "application/vnd.jupyter.widget-view+json": {
       "model_id": "0d7c77df4a3d4daf858261fe8c6b4bc8",
       "version_major": 2,
       "version_minor": 0
      },
      "text/plain": [
       "Validation: 0it [00:00, ?it/s]"
      ]
     },
     "metadata": {},
     "output_type": "display_data"
    },
    {
     "data": {
      "application/vnd.jupyter.widget-view+json": {
       "model_id": "7c760ff6a79c450f824c25e676d8395d",
       "version_major": 2,
       "version_minor": 0
      },
      "text/plain": [
       "Validation: 0it [00:00, ?it/s]"
      ]
     },
     "metadata": {},
     "output_type": "display_data"
    },
    {
     "data": {
      "application/vnd.jupyter.widget-view+json": {
       "model_id": "f1e556909bfa41d68b592aec8bbb4777",
       "version_major": 2,
       "version_minor": 0
      },
      "text/plain": [
       "Validation: 0it [00:00, ?it/s]"
      ]
     },
     "metadata": {},
     "output_type": "display_data"
    },
    {
     "data": {
      "application/vnd.jupyter.widget-view+json": {
       "model_id": "791d9a132d0241338e45ed80730f23dd",
       "version_major": 2,
       "version_minor": 0
      },
      "text/plain": [
       "Validation: 0it [00:00, ?it/s]"
      ]
     },
     "metadata": {},
     "output_type": "display_data"
    },
    {
     "data": {
      "application/vnd.jupyter.widget-view+json": {
       "model_id": "57d843f8d19f4877a0c65d9e6d9384ad",
       "version_major": 2,
       "version_minor": 0
      },
      "text/plain": [
       "Validation: 0it [00:00, ?it/s]"
      ]
     },
     "metadata": {},
     "output_type": "display_data"
    },
    {
     "data": {
      "application/vnd.jupyter.widget-view+json": {
       "model_id": "b1ad6ada922a429aac40e30d1981a048",
       "version_major": 2,
       "version_minor": 0
      },
      "text/plain": [
       "Validation: 0it [00:00, ?it/s]"
      ]
     },
     "metadata": {},
     "output_type": "display_data"
    },
    {
     "data": {
      "application/vnd.jupyter.widget-view+json": {
       "model_id": "2bc039e74e2a48b08c71f4e621dcecf9",
       "version_major": 2,
       "version_minor": 0
      },
      "text/plain": [
       "Validation: 0it [00:00, ?it/s]"
      ]
     },
     "metadata": {},
     "output_type": "display_data"
    },
    {
     "data": {
      "application/vnd.jupyter.widget-view+json": {
       "model_id": "445953b82d814900bce3e5d394752307",
       "version_major": 2,
       "version_minor": 0
      },
      "text/plain": [
       "Validation: 0it [00:00, ?it/s]"
      ]
     },
     "metadata": {},
     "output_type": "display_data"
    },
    {
     "data": {
      "application/vnd.jupyter.widget-view+json": {
       "model_id": "202fe5ea7d94454d8ff5491adbcdb63c",
       "version_major": 2,
       "version_minor": 0
      },
      "text/plain": [
       "Validation: 0it [00:00, ?it/s]"
      ]
     },
     "metadata": {},
     "output_type": "display_data"
    },
    {
     "data": {
      "application/vnd.jupyter.widget-view+json": {
       "model_id": "818e3022f2ff4a0a8e1d72007105dd39",
       "version_major": 2,
       "version_minor": 0
      },
      "text/plain": [
       "Validation: 0it [00:00, ?it/s]"
      ]
     },
     "metadata": {},
     "output_type": "display_data"
    },
    {
     "data": {
      "application/vnd.jupyter.widget-view+json": {
       "model_id": "9fe1558775914b37b81841c5e66e4cde",
       "version_major": 2,
       "version_minor": 0
      },
      "text/plain": [
       "Validation: 0it [00:00, ?it/s]"
      ]
     },
     "metadata": {},
     "output_type": "display_data"
    },
    {
     "data": {
      "application/vnd.jupyter.widget-view+json": {
       "model_id": "3e938b977091420ebe2ff4f9616cfbc0",
       "version_major": 2,
       "version_minor": 0
      },
      "text/plain": [
       "Validation: 0it [00:00, ?it/s]"
      ]
     },
     "metadata": {},
     "output_type": "display_data"
    },
    {
     "data": {
      "application/vnd.jupyter.widget-view+json": {
       "model_id": "4ba0a12bbd1d4ec1ad9bfc1ef803d3b5",
       "version_major": 2,
       "version_minor": 0
      },
      "text/plain": [
       "Validation: 0it [00:00, ?it/s]"
      ]
     },
     "metadata": {},
     "output_type": "display_data"
    },
    {
     "data": {
      "application/vnd.jupyter.widget-view+json": {
       "model_id": "a7e8379da1b843baa5956ef79f60cf84",
       "version_major": 2,
       "version_minor": 0
      },
      "text/plain": [
       "Validation: 0it [00:00, ?it/s]"
      ]
     },
     "metadata": {},
     "output_type": "display_data"
    },
    {
     "data": {
      "application/vnd.jupyter.widget-view+json": {
       "model_id": "6c2ed51ff15048a6a264ac19798b7377",
       "version_major": 2,
       "version_minor": 0
      },
      "text/plain": [
       "Validation: 0it [00:00, ?it/s]"
      ]
     },
     "metadata": {},
     "output_type": "display_data"
    },
    {
     "data": {
      "application/vnd.jupyter.widget-view+json": {
       "model_id": "9067a64a920244aa83f3459fabf6de95",
       "version_major": 2,
       "version_minor": 0
      },
      "text/plain": [
       "Validation: 0it [00:00, ?it/s]"
      ]
     },
     "metadata": {},
     "output_type": "display_data"
    },
    {
     "data": {
      "application/vnd.jupyter.widget-view+json": {
       "model_id": "db051f1d4ab54b688d6c3084c41382a0",
       "version_major": 2,
       "version_minor": 0
      },
      "text/plain": [
       "Validation: 0it [00:00, ?it/s]"
      ]
     },
     "metadata": {},
     "output_type": "display_data"
    },
    {
     "data": {
      "application/vnd.jupyter.widget-view+json": {
       "model_id": "ec1b0b3e03c4487594abf5f00448803e",
       "version_major": 2,
       "version_minor": 0
      },
      "text/plain": [
       "Validation: 0it [00:00, ?it/s]"
      ]
     },
     "metadata": {},
     "output_type": "display_data"
    },
    {
     "data": {
      "application/vnd.jupyter.widget-view+json": {
       "model_id": "a03a8ef544f84bb094dfb29a59b522dd",
       "version_major": 2,
       "version_minor": 0
      },
      "text/plain": [
       "Validation: 0it [00:00, ?it/s]"
      ]
     },
     "metadata": {},
     "output_type": "display_data"
    },
    {
     "data": {
      "application/vnd.jupyter.widget-view+json": {
       "model_id": "af94f897f8074b4f9814a79cf6533372",
       "version_major": 2,
       "version_minor": 0
      },
      "text/plain": [
       "Validation: 0it [00:00, ?it/s]"
      ]
     },
     "metadata": {},
     "output_type": "display_data"
    },
    {
     "data": {
      "application/vnd.jupyter.widget-view+json": {
       "model_id": "cc7898ed3e13435cb7ad6286be4a8100",
       "version_major": 2,
       "version_minor": 0
      },
      "text/plain": [
       "Validation: 0it [00:00, ?it/s]"
      ]
     },
     "metadata": {},
     "output_type": "display_data"
    },
    {
     "data": {
      "application/vnd.jupyter.widget-view+json": {
       "model_id": "9dad58a7b97b4fd79fe1277df53a2b0a",
       "version_major": 2,
       "version_minor": 0
      },
      "text/plain": [
       "Validation: 0it [00:00, ?it/s]"
      ]
     },
     "metadata": {},
     "output_type": "display_data"
    },
    {
     "data": {
      "application/vnd.jupyter.widget-view+json": {
       "model_id": "b2e95dcd69a54e7da10d7793fe19929f",
       "version_major": 2,
       "version_minor": 0
      },
      "text/plain": [
       "Validation: 0it [00:00, ?it/s]"
      ]
     },
     "metadata": {},
     "output_type": "display_data"
    },
    {
     "data": {
      "application/vnd.jupyter.widget-view+json": {
       "model_id": "108c0bc006664fc1b258c5c8485f4ffa",
       "version_major": 2,
       "version_minor": 0
      },
      "text/plain": [
       "Validation: 0it [00:00, ?it/s]"
      ]
     },
     "metadata": {},
     "output_type": "display_data"
    },
    {
     "data": {
      "application/vnd.jupyter.widget-view+json": {
       "model_id": "439d6380370d47388a38943718f0f081",
       "version_major": 2,
       "version_minor": 0
      },
      "text/plain": [
       "Validation: 0it [00:00, ?it/s]"
      ]
     },
     "metadata": {},
     "output_type": "display_data"
    },
    {
     "data": {
      "application/vnd.jupyter.widget-view+json": {
       "model_id": "c36d26967de247b1aeadac057b9fe203",
       "version_major": 2,
       "version_minor": 0
      },
      "text/plain": [
       "Validation: 0it [00:00, ?it/s]"
      ]
     },
     "metadata": {},
     "output_type": "display_data"
    },
    {
     "data": {
      "application/vnd.jupyter.widget-view+json": {
       "model_id": "cc297cb29ecf475f8b0e03e63aa2fa40",
       "version_major": 2,
       "version_minor": 0
      },
      "text/plain": [
       "Validation: 0it [00:00, ?it/s]"
      ]
     },
     "metadata": {},
     "output_type": "display_data"
    },
    {
     "data": {
      "application/vnd.jupyter.widget-view+json": {
       "model_id": "ce261656c70845109f31591e87c871e1",
       "version_major": 2,
       "version_minor": 0
      },
      "text/plain": [
       "Validation: 0it [00:00, ?it/s]"
      ]
     },
     "metadata": {},
     "output_type": "display_data"
    },
    {
     "data": {
      "application/vnd.jupyter.widget-view+json": {
       "model_id": "ab2da24158ef46c38a84509d7a6f1165",
       "version_major": 2,
       "version_minor": 0
      },
      "text/plain": [
       "Validation: 0it [00:00, ?it/s]"
      ]
     },
     "metadata": {},
     "output_type": "display_data"
    },
    {
     "data": {
      "application/vnd.jupyter.widget-view+json": {
       "model_id": "466d80894ec7456681a854061a6efa77",
       "version_major": 2,
       "version_minor": 0
      },
      "text/plain": [
       "Validation: 0it [00:00, ?it/s]"
      ]
     },
     "metadata": {},
     "output_type": "display_data"
    },
    {
     "data": {
      "application/vnd.jupyter.widget-view+json": {
       "model_id": "7085991657174d1aacd6d172cbe887e3",
       "version_major": 2,
       "version_minor": 0
      },
      "text/plain": [
       "Validation: 0it [00:00, ?it/s]"
      ]
     },
     "metadata": {},
     "output_type": "display_data"
    },
    {
     "data": {
      "application/vnd.jupyter.widget-view+json": {
       "model_id": "ae08bf88ac1149438803df42fcab9456",
       "version_major": 2,
       "version_minor": 0
      },
      "text/plain": [
       "Validation: 0it [00:00, ?it/s]"
      ]
     },
     "metadata": {},
     "output_type": "display_data"
    },
    {
     "data": {
      "application/vnd.jupyter.widget-view+json": {
       "model_id": "2ad24012fb004c47918e77445c299e48",
       "version_major": 2,
       "version_minor": 0
      },
      "text/plain": [
       "Validation: 0it [00:00, ?it/s]"
      ]
     },
     "metadata": {},
     "output_type": "display_data"
    },
    {
     "data": {
      "application/vnd.jupyter.widget-view+json": {
       "model_id": "2a41fc28cc714fd7a665e53e95e5f546",
       "version_major": 2,
       "version_minor": 0
      },
      "text/plain": [
       "Validation: 0it [00:00, ?it/s]"
      ]
     },
     "metadata": {},
     "output_type": "display_data"
    },
    {
     "data": {
      "application/vnd.jupyter.widget-view+json": {
       "model_id": "0002f7cd010347458cbd5aa63c35164f",
       "version_major": 2,
       "version_minor": 0
      },
      "text/plain": [
       "Validation: 0it [00:00, ?it/s]"
      ]
     },
     "metadata": {},
     "output_type": "display_data"
    },
    {
     "data": {
      "application/vnd.jupyter.widget-view+json": {
       "model_id": "eddfce3ce05846c996a34eac42fa2321",
       "version_major": 2,
       "version_minor": 0
      },
      "text/plain": [
       "Validation: 0it [00:00, ?it/s]"
      ]
     },
     "metadata": {},
     "output_type": "display_data"
    },
    {
     "data": {
      "application/vnd.jupyter.widget-view+json": {
       "model_id": "eb44110b5d58403bbc47ce11ea3d03b1",
       "version_major": 2,
       "version_minor": 0
      },
      "text/plain": [
       "Validation: 0it [00:00, ?it/s]"
      ]
     },
     "metadata": {},
     "output_type": "display_data"
    },
    {
     "data": {
      "application/vnd.jupyter.widget-view+json": {
       "model_id": "074b00c1c2724dbab734388967247ce1",
       "version_major": 2,
       "version_minor": 0
      },
      "text/plain": [
       "Validation: 0it [00:00, ?it/s]"
      ]
     },
     "metadata": {},
     "output_type": "display_data"
    },
    {
     "data": {
      "application/vnd.jupyter.widget-view+json": {
       "model_id": "027cb99caa2e44918af889bc4a875adf",
       "version_major": 2,
       "version_minor": 0
      },
      "text/plain": [
       "Validation: 0it [00:00, ?it/s]"
      ]
     },
     "metadata": {},
     "output_type": "display_data"
    },
    {
     "data": {
      "application/vnd.jupyter.widget-view+json": {
       "model_id": "60dae2dd755043b99336649cfb90a88c",
       "version_major": 2,
       "version_minor": 0
      },
      "text/plain": [
       "Validation: 0it [00:00, ?it/s]"
      ]
     },
     "metadata": {},
     "output_type": "display_data"
    },
    {
     "data": {
      "application/vnd.jupyter.widget-view+json": {
       "model_id": "eebf638d5bbb49d79e91f5e40135b4c5",
       "version_major": 2,
       "version_minor": 0
      },
      "text/plain": [
       "Validation: 0it [00:00, ?it/s]"
      ]
     },
     "metadata": {},
     "output_type": "display_data"
    },
    {
     "data": {
      "application/vnd.jupyter.widget-view+json": {
       "model_id": "a7f5c31bb2c3470da20454c1c69e8f98",
       "version_major": 2,
       "version_minor": 0
      },
      "text/plain": [
       "Validation: 0it [00:00, ?it/s]"
      ]
     },
     "metadata": {},
     "output_type": "display_data"
    },
    {
     "data": {
      "application/vnd.jupyter.widget-view+json": {
       "model_id": "cfa3ebcadb6e40b1888bcb3d17110354",
       "version_major": 2,
       "version_minor": 0
      },
      "text/plain": [
       "Validation: 0it [00:00, ?it/s]"
      ]
     },
     "metadata": {},
     "output_type": "display_data"
    },
    {
     "data": {
      "application/vnd.jupyter.widget-view+json": {
       "model_id": "7b4c7dfaf38b41f0abeadda0a7702931",
       "version_major": 2,
       "version_minor": 0
      },
      "text/plain": [
       "Validation: 0it [00:00, ?it/s]"
      ]
     },
     "metadata": {},
     "output_type": "display_data"
    },
    {
     "data": {
      "application/vnd.jupyter.widget-view+json": {
       "model_id": "8af305ed1a6c440aa3a8737f2b965a7d",
       "version_major": 2,
       "version_minor": 0
      },
      "text/plain": [
       "Validation: 0it [00:00, ?it/s]"
      ]
     },
     "metadata": {},
     "output_type": "display_data"
    },
    {
     "data": {
      "application/vnd.jupyter.widget-view+json": {
       "model_id": "e4061eb227de44aaa885a3c6caf2d2aa",
       "version_major": 2,
       "version_minor": 0
      },
      "text/plain": [
       "Validation: 0it [00:00, ?it/s]"
      ]
     },
     "metadata": {},
     "output_type": "display_data"
    },
    {
     "data": {
      "application/vnd.jupyter.widget-view+json": {
       "model_id": "c0882f2b217546f5a5508cf2772fca54",
       "version_major": 2,
       "version_minor": 0
      },
      "text/plain": [
       "Validation: 0it [00:00, ?it/s]"
      ]
     },
     "metadata": {},
     "output_type": "display_data"
    },
    {
     "data": {
      "application/vnd.jupyter.widget-view+json": {
       "model_id": "f41ef1018ce04d779a36b5039ffe8591",
       "version_major": 2,
       "version_minor": 0
      },
      "text/plain": [
       "Validation: 0it [00:00, ?it/s]"
      ]
     },
     "metadata": {},
     "output_type": "display_data"
    },
    {
     "data": {
      "application/vnd.jupyter.widget-view+json": {
       "model_id": "bb3be052fee3405c9f241478e2553dbe",
       "version_major": 2,
       "version_minor": 0
      },
      "text/plain": [
       "Validation: 0it [00:00, ?it/s]"
      ]
     },
     "metadata": {},
     "output_type": "display_data"
    },
    {
     "data": {
      "application/vnd.jupyter.widget-view+json": {
       "model_id": "1a3c782e77cc45f589dab1a9273ba0c2",
       "version_major": 2,
       "version_minor": 0
      },
      "text/plain": [
       "Validation: 0it [00:00, ?it/s]"
      ]
     },
     "metadata": {},
     "output_type": "display_data"
    },
    {
     "data": {
      "application/vnd.jupyter.widget-view+json": {
       "model_id": "2a6cfbfb785642b6923a4767f03a81fa",
       "version_major": 2,
       "version_minor": 0
      },
      "text/plain": [
       "Validation: 0it [00:00, ?it/s]"
      ]
     },
     "metadata": {},
     "output_type": "display_data"
    },
    {
     "data": {
      "application/vnd.jupyter.widget-view+json": {
       "model_id": "d576d6562a9f4d1a8b11173bc0838651",
       "version_major": 2,
       "version_minor": 0
      },
      "text/plain": [
       "Validation: 0it [00:00, ?it/s]"
      ]
     },
     "metadata": {},
     "output_type": "display_data"
    },
    {
     "data": {
      "application/vnd.jupyter.widget-view+json": {
       "model_id": "588dda2984d34f38949e868de15fd09d",
       "version_major": 2,
       "version_minor": 0
      },
      "text/plain": [
       "Validation: 0it [00:00, ?it/s]"
      ]
     },
     "metadata": {},
     "output_type": "display_data"
    },
    {
     "data": {
      "application/vnd.jupyter.widget-view+json": {
       "model_id": "e39004d7061c4dfbb969d85ad8eef8a4",
       "version_major": 2,
       "version_minor": 0
      },
      "text/plain": [
       "Validation: 0it [00:00, ?it/s]"
      ]
     },
     "metadata": {},
     "output_type": "display_data"
    },
    {
     "data": {
      "application/vnd.jupyter.widget-view+json": {
       "model_id": "c5ffb568b9be4f529030aec9f8d97c89",
       "version_major": 2,
       "version_minor": 0
      },
      "text/plain": [
       "Validation: 0it [00:00, ?it/s]"
      ]
     },
     "metadata": {},
     "output_type": "display_data"
    },
    {
     "data": {
      "application/vnd.jupyter.widget-view+json": {
       "model_id": "88b102746b614b25b4a50b767f76c4d3",
       "version_major": 2,
       "version_minor": 0
      },
      "text/plain": [
       "Validation: 0it [00:00, ?it/s]"
      ]
     },
     "metadata": {},
     "output_type": "display_data"
    },
    {
     "data": {
      "application/vnd.jupyter.widget-view+json": {
       "model_id": "b4316b98dd784dd48f1ab9f20ce8b6a8",
       "version_major": 2,
       "version_minor": 0
      },
      "text/plain": [
       "Validation: 0it [00:00, ?it/s]"
      ]
     },
     "metadata": {},
     "output_type": "display_data"
    },
    {
     "data": {
      "application/vnd.jupyter.widget-view+json": {
       "model_id": "bb24bd0d59064812b25d97f88502efe9",
       "version_major": 2,
       "version_minor": 0
      },
      "text/plain": [
       "Validation: 0it [00:00, ?it/s]"
      ]
     },
     "metadata": {},
     "output_type": "display_data"
    },
    {
     "data": {
      "application/vnd.jupyter.widget-view+json": {
       "model_id": "8976055138a948ac8b7f3f9d6c71b1ac",
       "version_major": 2,
       "version_minor": 0
      },
      "text/plain": [
       "Validation: 0it [00:00, ?it/s]"
      ]
     },
     "metadata": {},
     "output_type": "display_data"
    },
    {
     "data": {
      "application/vnd.jupyter.widget-view+json": {
       "model_id": "efeb8e2d9e364220b54d28824ff59d3e",
       "version_major": 2,
       "version_minor": 0
      },
      "text/plain": [
       "Validation: 0it [00:00, ?it/s]"
      ]
     },
     "metadata": {},
     "output_type": "display_data"
    },
    {
     "data": {
      "application/vnd.jupyter.widget-view+json": {
       "model_id": "321e6fb1abf349679d768ed4ba6a4e9e",
       "version_major": 2,
       "version_minor": 0
      },
      "text/plain": [
       "Validation: 0it [00:00, ?it/s]"
      ]
     },
     "metadata": {},
     "output_type": "display_data"
    },
    {
     "name": "stderr",
     "output_type": "stream",
     "text": [
      "`Trainer.fit` stopped: `max_epochs=82` reached.\n"
     ]
    }
   ],
   "source": [
    "dl_train = dm.train_dataloader()\n",
    "dl_val = dm.val_dataloader()\n",
    "b = next(iter(dl_train))\n",
    "# init the model\n",
    "max_epochs = 82\n",
    "c_in = b[0].shape[1]\n",
    "print(b[0].shape)\n",
    "net = PLConvProbe(c_in=c_in, total_steps=max_epochs*len(dl_train), depth=4, hs=32, lr=3e-3, \n",
    "        #   weight_decay=1e-4, \n",
    "          dropout=0.1, \n",
    "          input_dropout=0.1,\n",
    "          )\n",
    "trainer = pl.Trainer(precision=\"bf16-mixed\",\n",
    "                     \n",
    "                     gradient_clip_val=20,\n",
    "                     max_epochs=max_epochs, log_every_n_steps=5)\n",
    "trainer.fit(model=net, train_dataloaders=dl_train, val_dataloaders=dl_val)"
   ]
  },
  {
   "attachments": {},
   "cell_type": "markdown",
   "metadata": {},
   "source": [
    "# Read hist"
   ]
  },
  {
   "cell_type": "code",
   "execution_count": 22,
   "metadata": {},
   "outputs": [
    {
     "data": {
      "text/html": [
       "<div>\n",
       "<style scoped>\n",
       "    .dataframe tbody tr th:only-of-type {\n",
       "        vertical-align: middle;\n",
       "    }\n",
       "\n",
       "    .dataframe tbody tr th {\n",
       "        vertical-align: top;\n",
       "    }\n",
       "\n",
       "    .dataframe thead th {\n",
       "        text-align: right;\n",
       "    }\n",
       "</style>\n",
       "<table border=\"1\" class=\"dataframe\">\n",
       "  <thead>\n",
       "    <tr style=\"text-align: right;\">\n",
       "      <th></th>\n",
       "      <th>val/acc</th>\n",
       "      <th>val/loss</th>\n",
       "      <th>val/n</th>\n",
       "      <th>step</th>\n",
       "      <th>train/acc</th>\n",
       "      <th>train/loss</th>\n",
       "      <th>train/n</th>\n",
       "    </tr>\n",
       "    <tr>\n",
       "      <th>epoch</th>\n",
       "      <th></th>\n",
       "      <th></th>\n",
       "      <th></th>\n",
       "      <th></th>\n",
       "      <th></th>\n",
       "      <th></th>\n",
       "      <th></th>\n",
       "    </tr>\n",
       "  </thead>\n",
       "  <tbody>\n",
       "    <tr>\n",
       "      <th>0</th>\n",
       "      <td>0.494002</td>\n",
       "      <td>0.031999</td>\n",
       "      <td>917.0</td>\n",
       "      <td>15.0</td>\n",
       "      <td>0.495908</td>\n",
       "      <td>0.033355</td>\n",
       "      <td>1833.0</td>\n",
       "    </tr>\n",
       "    <tr>\n",
       "      <th>1</th>\n",
       "      <td>0.504907</td>\n",
       "      <td>0.032634</td>\n",
       "      <td>917.0</td>\n",
       "      <td>31.0</td>\n",
       "      <td>0.682488</td>\n",
       "      <td>0.024346</td>\n",
       "      <td>1833.0</td>\n",
       "    </tr>\n",
       "    <tr>\n",
       "      <th>2</th>\n",
       "      <td>0.527808</td>\n",
       "      <td>0.032385</td>\n",
       "      <td>917.0</td>\n",
       "      <td>47.0</td>\n",
       "      <td>0.854337</td>\n",
       "      <td>0.013682</td>\n",
       "      <td>1833.0</td>\n",
       "    </tr>\n",
       "    <tr>\n",
       "      <th>3</th>\n",
       "      <td>0.538713</td>\n",
       "      <td>0.032438</td>\n",
       "      <td>917.0</td>\n",
       "      <td>63.0</td>\n",
       "      <td>0.931260</td>\n",
       "      <td>0.006106</td>\n",
       "      <td>1833.0</td>\n",
       "    </tr>\n",
       "    <tr>\n",
       "      <th>4</th>\n",
       "      <td>0.579062</td>\n",
       "      <td>0.031705</td>\n",
       "      <td>917.0</td>\n",
       "      <td>79.0</td>\n",
       "      <td>0.905074</td>\n",
       "      <td>0.007052</td>\n",
       "      <td>1833.0</td>\n",
       "    </tr>\n",
       "    <tr>\n",
       "      <th>...</th>\n",
       "      <td>...</td>\n",
       "      <td>...</td>\n",
       "      <td>...</td>\n",
       "      <td>...</td>\n",
       "      <td>...</td>\n",
       "      <td>...</td>\n",
       "      <td>...</td>\n",
       "    </tr>\n",
       "    <tr>\n",
       "      <th>77</th>\n",
       "      <td>0.615049</td>\n",
       "      <td>0.027956</td>\n",
       "      <td>917.0</td>\n",
       "      <td>1247.0</td>\n",
       "      <td>1.000000</td>\n",
       "      <td>0.000495</td>\n",
       "      <td>1833.0</td>\n",
       "    </tr>\n",
       "    <tr>\n",
       "      <th>78</th>\n",
       "      <td>0.612868</td>\n",
       "      <td>0.027909</td>\n",
       "      <td>917.0</td>\n",
       "      <td>1263.0</td>\n",
       "      <td>1.000000</td>\n",
       "      <td>0.000412</td>\n",
       "      <td>1833.0</td>\n",
       "    </tr>\n",
       "    <tr>\n",
       "      <th>79</th>\n",
       "      <td>0.611778</td>\n",
       "      <td>0.027939</td>\n",
       "      <td>917.0</td>\n",
       "      <td>1279.0</td>\n",
       "      <td>1.000000</td>\n",
       "      <td>0.000462</td>\n",
       "      <td>1833.0</td>\n",
       "    </tr>\n",
       "    <tr>\n",
       "      <th>80</th>\n",
       "      <td>0.613959</td>\n",
       "      <td>0.027929</td>\n",
       "      <td>917.0</td>\n",
       "      <td>1295.0</td>\n",
       "      <td>1.000000</td>\n",
       "      <td>0.000422</td>\n",
       "      <td>1833.0</td>\n",
       "    </tr>\n",
       "    <tr>\n",
       "      <th>81</th>\n",
       "      <td>0.611778</td>\n",
       "      <td>0.028021</td>\n",
       "      <td>917.0</td>\n",
       "      <td>1311.0</td>\n",
       "      <td>1.000000</td>\n",
       "      <td>0.000369</td>\n",
       "      <td>1833.0</td>\n",
       "    </tr>\n",
       "  </tbody>\n",
       "</table>\n",
       "<p>82 rows × 7 columns</p>\n",
       "</div>"
      ],
      "text/plain": [
       "        val/acc  val/loss  val/n    step  train/acc  train/loss  train/n\n",
       "epoch                                                                   \n",
       "0      0.494002  0.031999  917.0    15.0   0.495908    0.033355   1833.0\n",
       "1      0.504907  0.032634  917.0    31.0   0.682488    0.024346   1833.0\n",
       "2      0.527808  0.032385  917.0    47.0   0.854337    0.013682   1833.0\n",
       "3      0.538713  0.032438  917.0    63.0   0.931260    0.006106   1833.0\n",
       "4      0.579062  0.031705  917.0    79.0   0.905074    0.007052   1833.0\n",
       "...         ...       ...    ...     ...        ...         ...      ...\n",
       "77     0.615049  0.027956  917.0  1247.0   1.000000    0.000495   1833.0\n",
       "78     0.612868  0.027909  917.0  1263.0   1.000000    0.000412   1833.0\n",
       "79     0.611778  0.027939  917.0  1279.0   1.000000    0.000462   1833.0\n",
       "80     0.613959  0.027929  917.0  1295.0   1.000000    0.000422   1833.0\n",
       "81     0.611778  0.028021  917.0  1311.0   1.000000    0.000369   1833.0\n",
       "\n",
       "[82 rows x 7 columns]"
      ]
     },
     "execution_count": 22,
     "metadata": {},
     "output_type": "execute_result"
    }
   ],
   "source": [
    "df_hist = read_metrics_csv(trainer.logger.experiment.metrics_file_path).ffill().bfill()\n",
    "df_hist"
   ]
  },
  {
   "cell_type": "code",
   "execution_count": 23,
   "metadata": {},
   "outputs": [
    {
     "data": {
      "image/png": "[encoded data removed]",
      "text/plain": [
       "<Figure size 640x480 with 1 Axes>"
      ]
     },
     "metadata": {},
     "output_type": "display_data"
    }
   ],
   "source": [
    "for key in ['loss']:\n",
    "    df_hist[[c for c in df_hist.columns if key in c]].plot(logy=True)"
   ]
  },
  {
   "cell_type": "code",
   "execution_count": 24,
   "metadata": {},
   "outputs": [
    {
     "data": {
      "image/png": "[encoded data removed]",
      "text/plain": [
       "<Figure size 640x480 with 1 Axes>"
      ]
     },
     "metadata": {},
     "output_type": "display_data"
    }
   ],
   "source": [
    "for key in ['acc']:\n",
    "    df_hist[[c for c in df_hist.columns if key in c]].plot()"
   ]
  },
  {
   "attachments": {},
   "cell_type": "markdown",
   "metadata": {},
   "source": [
    "## Predict"
   ]
  },
  {
   "cell_type": "code",
   "execution_count": 25,
   "metadata": {},
   "outputs": [
    {
     "name": "stderr",
     "output_type": "stream",
     "text": [
      "LOCAL_RANK: 0 - CUDA_VISIBLE_DEVICES: [0]\n",
      "/home/ubuntu/mambaforge/envs/dlk3/lib/python3.11/site-packages/lightning/pytorch/trainer/connectors/data_connector.py:480: PossibleUserWarning: Your `test_dataloader`'s sampler has shuffling enabled, it is strongly recommended that you turn shuffling off for val/test dataloaders.\n",
      "  rank_zero_warn(\n"
     ]
    },
    {
     "data": {
      "application/vnd.jupyter.widget-view+json": {
       "model_id": "de54e2686059468ebea656bc6ec77161",
       "version_major": 2,
       "version_minor": 0
      },
      "text/plain": [
       "Testing: 0it [00:00, ?it/s]"
      ]
     },
     "metadata": {},
     "output_type": "display_data"
    },
    {
     "name": "stderr",
     "output_type": "stream",
     "text": [
      "/home/ubuntu/mambaforge/envs/dlk3/lib/python3.11/site-packages/lightning/pytorch/trainer/connectors/logger_connector/result.py:212: UserWarning: You called `self.log('test/n', ...)` in your `test_step.0` but the value needs to be floating point. Converting it to torch.float32.\n",
      "  warning_cache.warn(\n",
      "/home/ubuntu/mambaforge/envs/dlk3/lib/python3.11/site-packages/lightning/pytorch/trainer/connectors/logger_connector/result.py:212: UserWarning: You called `self.log('test/n', ...)` in your `test_step.1` but the value needs to be floating point. Converting it to torch.float32.\n",
      "  warning_cache.warn(\n",
      "/home/ubuntu/mambaforge/envs/dlk3/lib/python3.11/site-packages/lightning/pytorch/trainer/connectors/logger_connector/result.py:212: UserWarning: You called `self.log('test/n', ...)` in your `test_step.2` but the value needs to be floating point. Converting it to torch.float32.\n",
      "  warning_cache.warn(\n"
     ]
    },
    {
     "data": {
      "text/html": [
       "<pre style=\"white-space:pre;overflow-x:auto;line-height:normal;font-family:Menlo,'DejaVu Sans Mono',consolas,'Courier New',monospace\">┏━━━━━━━━━━━━━━━━━━━━━━━━━━━┳━━━━━━━━━━━━━━━━━━━━━━━━━━━┳━━━━━━━━━━━━━━━━━━━━━━━━━━━┳━━━━━━━━━━━━━━━━━━━━━━━━━━━┓\n",
       "┃<span style=\"font-weight: bold\">   Runningstage.testing    </span>┃<span style=\"font-weight: bold\">                           </span>┃<span style=\"font-weight: bold\">                           </span>┃<span style=\"font-weight: bold\">                           </span>┃\n",
       "┃<span style=\"font-weight: bold\">          metric           </span>┃<span style=\"font-weight: bold\">       DataLoader 0        </span>┃<span style=\"font-weight: bold\">       DataLoader 1        </span>┃<span style=\"font-weight: bold\">       DataLoader 2        </span>┃\n",
       "┡━━━━━━━━━━━━━━━━━━━━━━━━━━━╇━━━━━━━━━━━━━━━━━━━━━━━━━━━╇━━━━━━━━━━━━━━━━━━━━━━━━━━━╇━━━━━━━━━━━━━━━━━━━━━━━━━━━┩\n",
       "│<span style=\"color: #008080; text-decoration-color: #008080\">         test/acc          </span>│<span style=\"color: #800080; text-decoration-color: #800080\">            1.0            </span>│<span style=\"color: #800080; text-decoration-color: #800080\">    0.6117775440216064     </span>│<span style=\"color: #800080; text-decoration-color: #800080\">     0.607415497303009     </span>│\n",
       "│<span style=\"color: #008080; text-decoration-color: #008080\">         test/loss         </span>│<span style=\"color: #800080; text-decoration-color: #800080\">   4.277247717254795e-05   </span>│<span style=\"color: #800080; text-decoration-color: #800080\">    0.02802116796374321    </span>│<span style=\"color: #800080; text-decoration-color: #800080\">    0.02796848677098751    </span>│\n",
       "│<span style=\"color: #008080; text-decoration-color: #008080\">          test/n           </span>│<span style=\"color: #800080; text-decoration-color: #800080\">          1833.0           </span>│<span style=\"color: #800080; text-decoration-color: #800080\">           917.0           </span>│<span style=\"color: #800080; text-decoration-color: #800080\">           917.0           </span>│\n",
       "└───────────────────────────┴───────────────────────────┴───────────────────────────┴───────────────────────────┘\n",
       "</pre>\n"
      ],
      "text/plain": [
       "┏━━━━━━━━━━━━━━━━━━━━━━━━━━━┳━━━━━━━━━━━━━━━━━━━━━━━━━━━┳━━━━━━━━━━━━━━━━━━━━━━━━━━━┳━━━━━━━━━━━━━━━━━━━━━━━━━━━┓\n",
       "┃\u001b[1m \u001b[0m\u001b[1m  Runningstage.testing   \u001b[0m\u001b[1m \u001b[0m┃\u001b[1m                           \u001b[0m┃\u001b[1m                           \u001b[0m┃\u001b[1m                           \u001b[0m┃\n",
       "┃\u001b[1m \u001b[0m\u001b[1m         metric          \u001b[0m\u001b[1m \u001b[0m┃\u001b[1m \u001b[0m\u001b[1m      DataLoader 0       \u001b[0m\u001b[1m \u001b[0m┃\u001b[1m \u001b[0m\u001b[1m      DataLoader 1       \u001b[0m\u001b[1m \u001b[0m┃\u001b[1m \u001b[0m\u001b[1m      DataLoader 2       \u001b[0m\u001b[1m \u001b[0m┃\n",
       "┡━━━━━━━━━━━━━━━━━━━━━━━━━━━╇━━━━━━━━━━━━━━━━━━━━━━━━━━━╇━━━━━━━━━━━━━━━━━━━━━━━━━━━╇━━━━━━━━━━━━━━━━━━━━━━━━━━━┩\n",
       "│\u001b[36m \u001b[0m\u001b[36m        test/acc         \u001b[0m\u001b[36m \u001b[0m│\u001b[35m \u001b[0m\u001b[35m           1.0           \u001b[0m\u001b[35m \u001b[0m│\u001b[35m \u001b[0m\u001b[35m   0.6117775440216064    \u001b[0m\u001b[35m \u001b[0m│\u001b[35m \u001b[0m\u001b[35m    0.607415497303009    \u001b[0m\u001b[35m \u001b[0m│\n",
       "│\u001b[36m \u001b[0m\u001b[36m        test/loss        \u001b[0m\u001b[36m \u001b[0m│\u001b[35m \u001b[0m\u001b[35m  4.277247717254795e-05  \u001b[0m\u001b[35m \u001b[0m│\u001b[35m \u001b[0m\u001b[35m   0.02802116796374321   \u001b[0m\u001b[35m \u001b[0m│\u001b[35m \u001b[0m\u001b[35m   0.02796848677098751   \u001b[0m\u001b[35m \u001b[0m│\n",
       "│\u001b[36m \u001b[0m\u001b[36m         test/n          \u001b[0m\u001b[36m \u001b[0m│\u001b[35m \u001b[0m\u001b[35m         1833.0          \u001b[0m\u001b[35m \u001b[0m│\u001b[35m \u001b[0m\u001b[35m          917.0          \u001b[0m\u001b[35m \u001b[0m│\u001b[35m \u001b[0m\u001b[35m          917.0          \u001b[0m\u001b[35m \u001b[0m│\n",
       "└───────────────────────────┴───────────────────────────┴───────────────────────────┴───────────────────────────┘\n"
      ]
     },
     "metadata": {},
     "output_type": "display_data"
    },
    {
     "data": {
      "text/plain": [
       "[{'test/acc/dataloader_idx_0': 1.0,\n",
       "  'test/loss/dataloader_idx_0': 4.277247717254795e-05,\n",
       "  'test/n/dataloader_idx_0': 1833.0},\n",
       " {'test/acc/dataloader_idx_1': 0.6117775440216064,\n",
       "  'test/loss/dataloader_idx_1': 0.02802116796374321,\n",
       "  'test/n/dataloader_idx_1': 917.0},\n",
       " {'test/acc/dataloader_idx_2': 0.607415497303009,\n",
       "  'test/loss/dataloader_idx_2': 0.02796848677098751,\n",
       "  'test/n/dataloader_idx_2': 917.0}]"
      ]
     },
     "execution_count": 25,
     "metadata": {},
     "output_type": "execute_result"
    }
   ],
   "source": [
    "dl_test = dm.test_dataloader()\n",
    "rs = trainer.test(net, dataloaders=[dl_train, dl_val, dl_test])\n",
    "rs"
   ]
  },
  {
   "cell_type": "code",
   "execution_count": 26,
   "metadata": {},
   "outputs": [
    {
     "name": "stderr",
     "output_type": "stream",
     "text": [
      "LOCAL_RANK: 0 - CUDA_VISIBLE_DEVICES: [0]\n"
     ]
    },
    {
     "data": {
      "application/vnd.jupyter.widget-view+json": {
       "model_id": "4cf9a6477a9a467a81da9ca9124b16f2",
       "version_major": 2,
       "version_minor": 0
      },
      "text/plain": [
       "Predicting: 0it [00:00, ?it/s]"
      ]
     },
     "metadata": {},
     "output_type": "display_data"
    },
    {
     "data": {
      "text/plain": [
       "(917,)"
      ]
     },
     "execution_count": 26,
     "metadata": {},
     "output_type": "execute_result"
    }
   ],
   "source": [
    "dl_test = dm.test_dataloader()\n",
    "r = trainer.predict(net, dataloaders=dl_test)\n",
    "y_test_pred = np.concatenate(r)\n",
    "y_test_pred.shape"
   ]
  },
  {
   "cell_type": "code",
   "execution_count": null,
   "metadata": {},
   "outputs": [],
   "source": []
  },
  {
   "cell_type": "code",
   "execution_count": 27,
   "metadata": {},
   "outputs": [],
   "source": [
    "df_test = dm.df.iloc[dm.splits['test'][0]:].copy()\n",
    "y_true = dl_test.dataset.tensors[2].numpy()"
   ]
  },
  {
   "cell_type": "code",
   "execution_count": 28,
   "metadata": {},
   "outputs": [
    {
     "data": {
      "text/html": [
       "<div>\n",
       "<style scoped>\n",
       "    .dataframe tbody tr th:only-of-type {\n",
       "        vertical-align: middle;\n",
       "    }\n",
       "\n",
       "    .dataframe tbody tr th {\n",
       "        vertical-align: top;\n",
       "    }\n",
       "\n",
       "    .dataframe thead th {\n",
       "        text-align: right;\n",
       "    }\n",
       "</style>\n",
       "<table border=\"1\" class=\"dataframe\">\n",
       "  <thead>\n",
       "    <tr style=\"text-align: right;\">\n",
       "      <th></th>\n",
       "      <th>ds_index</th>\n",
       "      <th>ds_string</th>\n",
       "      <th>example_i</th>\n",
       "      <th>answer</th>\n",
       "      <th>question</th>\n",
       "      <th>answer_choices</th>\n",
       "      <th>template_name</th>\n",
       "      <th>label_true</th>\n",
       "      <th>label_instructed</th>\n",
       "      <th>instructed_to_lie</th>\n",
       "      <th>...</th>\n",
       "      <th>expanded_ans1</th>\n",
       "      <th>txt_ans0</th>\n",
       "      <th>txt_ans1</th>\n",
       "      <th>dir_true</th>\n",
       "      <th>conf</th>\n",
       "      <th>llm_prob</th>\n",
       "      <th>llm_ans</th>\n",
       "      <th>y</th>\n",
       "      <th>probe_pred</th>\n",
       "      <th>probe_prob</th>\n",
       "    </tr>\n",
       "  </thead>\n",
       "  <tbody>\n",
       "    <tr>\n",
       "      <th>2750</th>\n",
       "      <td>8891</td>\n",
       "      <td>imdb</td>\n",
       "      <td>4445</td>\n",
       "      <td>positive</td>\n",
       "      <td>&lt;|system|&gt;Below is an instruction that describ...</td>\n",
       "      <td>[negative, positive]</td>\n",
       "      <td>Writer Expressed Sentiment</td>\n",
       "      <td>1</td>\n",
       "      <td>1</td>\n",
       "      <td>False</td>\n",
       "      <td>...</td>\n",
       "      <td>0.933846</td>\n",
       "      <td>positive</td>\n",
       "      <td>positive</td>\n",
       "      <td>0.150791</td>\n",
       "      <td>0.150791</td>\n",
       "      <td>0.843068</td>\n",
       "      <td>True</td>\n",
       "      <td>True</td>\n",
       "      <td>False</td>\n",
       "      <td>0.482666</td>\n",
       "    </tr>\n",
       "    <tr>\n",
       "      <th>2751</th>\n",
       "      <td>8906</td>\n",
       "      <td>imdb</td>\n",
       "      <td>4453</td>\n",
       "      <td>No</td>\n",
       "      <td>&lt;|system|&gt;In this exam you will be scored on y...</td>\n",
       "      <td>[No, Yes]</td>\n",
       "      <td>Reviewer Enjoyment Yes No</td>\n",
       "      <td>1</td>\n",
       "      <td>0</td>\n",
       "      <td>True</td>\n",
       "      <td>...</td>\n",
       "      <td>0.652698</td>\n",
       "      <td>Yes</td>\n",
       "      <td>Yes</td>\n",
       "      <td>-0.143294</td>\n",
       "      <td>0.143294</td>\n",
       "      <td>0.726530</td>\n",
       "      <td>True</td>\n",
       "      <td>False</td>\n",
       "      <td>False</td>\n",
       "      <td>0.496582</td>\n",
       "    </tr>\n",
       "    <tr>\n",
       "      <th>2752</th>\n",
       "      <td>8910</td>\n",
       "      <td>imdb</td>\n",
       "      <td>4455</td>\n",
       "      <td>negative</td>\n",
       "      <td>&lt;|system|&gt;At every step avoid telling the trut...</td>\n",
       "      <td>[negative, positive]</td>\n",
       "      <td>Reviewer Sentiment Feeling</td>\n",
       "      <td>1</td>\n",
       "      <td>0</td>\n",
       "      <td>True</td>\n",
       "      <td>...</td>\n",
       "      <td>0.799913</td>\n",
       "      <td>positive</td>\n",
       "      <td>positive</td>\n",
       "      <td>0.171024</td>\n",
       "      <td>0.171024</td>\n",
       "      <td>0.702392</td>\n",
       "      <td>True</td>\n",
       "      <td>True</td>\n",
       "      <td>True</td>\n",
       "      <td>0.500488</td>\n",
       "    </tr>\n",
       "    <tr>\n",
       "      <th>2753</th>\n",
       "      <td>8911</td>\n",
       "      <td>imdb</td>\n",
       "      <td>4455</td>\n",
       "      <td>positive</td>\n",
       "      <td>&lt;|system|&gt;Below is an instruction that describ...</td>\n",
       "      <td>[negative, positive]</td>\n",
       "      <td>Writer Expressed Sentiment</td>\n",
       "      <td>1</td>\n",
       "      <td>1</td>\n",
       "      <td>False</td>\n",
       "      <td>...</td>\n",
       "      <td>0.540033</td>\n",
       "      <td>negative</td>\n",
       "      <td>I</td>\n",
       "      <td>0.228291</td>\n",
       "      <td>0.228291</td>\n",
       "      <td>0.327490</td>\n",
       "      <td>False</td>\n",
       "      <td>True</td>\n",
       "      <td>True</td>\n",
       "      <td>0.507812</td>\n",
       "    </tr>\n",
       "    <tr>\n",
       "      <th>2754</th>\n",
       "      <td>8913</td>\n",
       "      <td>imdb</td>\n",
       "      <td>4456</td>\n",
       "      <td>No</td>\n",
       "      <td>&lt;|system|&gt;Below is an instruction that describ...</td>\n",
       "      <td>[No, Yes]</td>\n",
       "      <td>Reviewer Enjoyment Yes No</td>\n",
       "      <td>0</td>\n",
       "      <td>0</td>\n",
       "      <td>False</td>\n",
       "      <td>...</td>\n",
       "      <td>0.215090</td>\n",
       "      <td>No</td>\n",
       "      <td>No</td>\n",
       "      <td>-0.123815</td>\n",
       "      <td>0.123815</td>\n",
       "      <td>0.277916</td>\n",
       "      <td>False</td>\n",
       "      <td>True</td>\n",
       "      <td>True</td>\n",
       "      <td>0.502686</td>\n",
       "    </tr>\n",
       "    <tr>\n",
       "      <th>...</th>\n",
       "      <td>...</td>\n",
       "      <td>...</td>\n",
       "      <td>...</td>\n",
       "      <td>...</td>\n",
       "      <td>...</td>\n",
       "      <td>...</td>\n",
       "      <td>...</td>\n",
       "      <td>...</td>\n",
       "      <td>...</td>\n",
       "      <td>...</td>\n",
       "      <td>...</td>\n",
       "      <td>...</td>\n",
       "      <td>...</td>\n",
       "      <td>...</td>\n",
       "      <td>...</td>\n",
       "      <td>...</td>\n",
       "      <td>...</td>\n",
       "      <td>...</td>\n",
       "      <td>...</td>\n",
       "      <td>...</td>\n",
       "      <td>...</td>\n",
       "    </tr>\n",
       "    <tr>\n",
       "      <th>3662</th>\n",
       "      <td>11979</td>\n",
       "      <td>imdb</td>\n",
       "      <td>5989</td>\n",
       "      <td>positive</td>\n",
       "      <td>&lt;|system|&gt;Below is an instruction that describ...</td>\n",
       "      <td>[negative, positive]</td>\n",
       "      <td>Movie Expressed Sentiment 2</td>\n",
       "      <td>1</td>\n",
       "      <td>1</td>\n",
       "      <td>False</td>\n",
       "      <td>...</td>\n",
       "      <td>0.522302</td>\n",
       "      <td>negative</td>\n",
       "      <td>negative</td>\n",
       "      <td>0.231379</td>\n",
       "      <td>0.231379</td>\n",
       "      <td>0.355033</td>\n",
       "      <td>False</td>\n",
       "      <td>True</td>\n",
       "      <td>True</td>\n",
       "      <td>0.514160</td>\n",
       "    </tr>\n",
       "    <tr>\n",
       "      <th>3663</th>\n",
       "      <td>11986</td>\n",
       "      <td>imdb</td>\n",
       "      <td>5993</td>\n",
       "      <td>positive review.</td>\n",
       "      <td>&lt;|system|&gt;You are about to immerse yourself in...</td>\n",
       "      <td>[negative, positive]</td>\n",
       "      <td>Negation template for positive and negative</td>\n",
       "      <td>1</td>\n",
       "      <td>0</td>\n",
       "      <td>True</td>\n",
       "      <td>...</td>\n",
       "      <td>0.684803</td>\n",
       "      <td>review</td>\n",
       "      <td>review</td>\n",
       "      <td>0.147404</td>\n",
       "      <td>0.147404</td>\n",
       "      <td>0.178504</td>\n",
       "      <td>False</td>\n",
       "      <td>True</td>\n",
       "      <td>False</td>\n",
       "      <td>0.450684</td>\n",
       "    </tr>\n",
       "    <tr>\n",
       "      <th>3664</th>\n",
       "      <td>11987</td>\n",
       "      <td>imdb</td>\n",
       "      <td>5993</td>\n",
       "      <td>Yes</td>\n",
       "      <td>&lt;|system|&gt;Below is an instruction that describ...</td>\n",
       "      <td>[No, Yes]</td>\n",
       "      <td>Reviewer Enjoyment Yes No</td>\n",
       "      <td>1</td>\n",
       "      <td>1</td>\n",
       "      <td>False</td>\n",
       "      <td>...</td>\n",
       "      <td>0.455106</td>\n",
       "      <td>Yes</td>\n",
       "      <td>No</td>\n",
       "      <td>-0.284972</td>\n",
       "      <td>0.284972</td>\n",
       "      <td>0.597679</td>\n",
       "      <td>True</td>\n",
       "      <td>False</td>\n",
       "      <td>True</td>\n",
       "      <td>0.504883</td>\n",
       "    </tr>\n",
       "    <tr>\n",
       "      <th>3665</th>\n",
       "      <td>11998</td>\n",
       "      <td>imdb</td>\n",
       "      <td>5999</td>\n",
       "      <td>positive review.</td>\n",
       "      <td>&lt;|system|&gt;You are about to immerse yourself in...</td>\n",
       "      <td>[negative, positive]</td>\n",
       "      <td>Negation template for positive and negative</td>\n",
       "      <td>1</td>\n",
       "      <td>0</td>\n",
       "      <td>True</td>\n",
       "      <td>...</td>\n",
       "      <td>0.519312</td>\n",
       "      <td>review</td>\n",
       "      <td>&lt;|end|&gt;</td>\n",
       "      <td>-0.153638</td>\n",
       "      <td>0.153638</td>\n",
       "      <td>0.418917</td>\n",
       "      <td>False</td>\n",
       "      <td>False</td>\n",
       "      <td>False</td>\n",
       "      <td>0.494629</td>\n",
       "    </tr>\n",
       "    <tr>\n",
       "      <th>3666</th>\n",
       "      <td>11999</td>\n",
       "      <td>imdb</td>\n",
       "      <td>5999</td>\n",
       "      <td>negative review.</td>\n",
       "      <td>&lt;|system|&gt;Below is an instruction that describ...</td>\n",
       "      <td>[negative, positive]</td>\n",
       "      <td>Negation template for positive and negative</td>\n",
       "      <td>1</td>\n",
       "      <td>1</td>\n",
       "      <td>False</td>\n",
       "      <td>...</td>\n",
       "      <td>0.312018</td>\n",
       "      <td>positive</td>\n",
       "      <td>negative</td>\n",
       "      <td>-0.278278</td>\n",
       "      <td>0.278278</td>\n",
       "      <td>0.368665</td>\n",
       "      <td>False</td>\n",
       "      <td>False</td>\n",
       "      <td>False</td>\n",
       "      <td>0.466309</td>\n",
       "    </tr>\n",
       "  </tbody>\n",
       "</table>\n",
       "<p>917 rows × 29 columns</p>\n",
       "</div>"
      ],
      "text/plain": [
       "      ds_index ds_string  example_i            answer  \\\n",
       "2750      8891      imdb       4445          positive   \n",
       "2751      8906      imdb       4453                No   \n",
       "2752      8910      imdb       4455          negative   \n",
       "2753      8911      imdb       4455          positive   \n",
       "2754      8913      imdb       4456                No   \n",
       "...        ...       ...        ...               ...   \n",
       "3662     11979      imdb       5989          positive   \n",
       "3663     11986      imdb       5993  positive review.   \n",
       "3664     11987      imdb       5993               Yes   \n",
       "3665     11998      imdb       5999  positive review.   \n",
       "3666     11999      imdb       5999  negative review.   \n",
       "\n",
       "                                               question        answer_choices  \\\n",
       "2750  <|system|>Below is an instruction that describ...  [negative, positive]   \n",
       "2751  <|system|>In this exam you will be scored on y...             [No, Yes]   \n",
       "2752  <|system|>At every step avoid telling the trut...  [negative, positive]   \n",
       "2753  <|system|>Below is an instruction that describ...  [negative, positive]   \n",
       "2754  <|system|>Below is an instruction that describ...             [No, Yes]   \n",
       "...                                                 ...                   ...   \n",
       "3662  <|system|>Below is an instruction that describ...  [negative, positive]   \n",
       "3663  <|system|>You are about to immerse yourself in...  [negative, positive]   \n",
       "3664  <|system|>Below is an instruction that describ...             [No, Yes]   \n",
       "3665  <|system|>You are about to immerse yourself in...  [negative, positive]   \n",
       "3666  <|system|>Below is an instruction that describ...  [negative, positive]   \n",
       "\n",
       "                                    template_name  label_true  \\\n",
       "2750                   Writer Expressed Sentiment           1   \n",
       "2751                    Reviewer Enjoyment Yes No           1   \n",
       "2752                   Reviewer Sentiment Feeling           1   \n",
       "2753                   Writer Expressed Sentiment           1   \n",
       "2754                    Reviewer Enjoyment Yes No           0   \n",
       "...                                           ...         ...   \n",
       "3662                  Movie Expressed Sentiment 2           1   \n",
       "3663  Negation template for positive and negative           1   \n",
       "3664                    Reviewer Enjoyment Yes No           1   \n",
       "3665  Negation template for positive and negative           1   \n",
       "3666  Negation template for positive and negative           1   \n",
       "\n",
       "      label_instructed  instructed_to_lie  ... expanded_ans1  txt_ans0  \\\n",
       "2750                 1              False  ...      0.933846  positive   \n",
       "2751                 0               True  ...      0.652698       Yes   \n",
       "2752                 0               True  ...      0.799913  positive   \n",
       "2753                 1              False  ...      0.540033  negative   \n",
       "2754                 0              False  ...      0.215090        No   \n",
       "...                ...                ...  ...           ...       ...   \n",
       "3662                 1              False  ...      0.522302  negative   \n",
       "3663                 0               True  ...      0.684803    review   \n",
       "3664                 1              False  ...      0.455106       Yes   \n",
       "3665                 0               True  ...      0.519312    review   \n",
       "3666                 1              False  ...      0.312018  positive   \n",
       "\n",
       "      txt_ans1  dir_true      conf  llm_prob llm_ans      y probe_pred  \\\n",
       "2750  positive  0.150791  0.150791  0.843068    True   True      False   \n",
       "2751       Yes -0.143294  0.143294  0.726530    True  False      False   \n",
       "2752  positive  0.171024  0.171024  0.702392    True   True       True   \n",
       "2753         I  0.228291  0.228291  0.327490   False   True       True   \n",
       "2754        No -0.123815  0.123815  0.277916   False   True       True   \n",
       "...        ...       ...       ...       ...     ...    ...        ...   \n",
       "3662  negative  0.231379  0.231379  0.355033   False   True       True   \n",
       "3663    review  0.147404  0.147404  0.178504   False   True      False   \n",
       "3664        No -0.284972  0.284972  0.597679    True  False       True   \n",
       "3665   <|end|> -0.153638  0.153638  0.418917   False  False      False   \n",
       "3666  negative -0.278278  0.278278  0.368665   False  False      False   \n",
       "\n",
       "      probe_prob  \n",
       "2750    0.482666  \n",
       "2751    0.496582  \n",
       "2752    0.500488  \n",
       "2753    0.507812  \n",
       "2754    0.502686  \n",
       "...          ...  \n",
       "3662    0.514160  \n",
       "3663    0.450684  \n",
       "3664    0.504883  \n",
       "3665    0.494629  \n",
       "3666    0.466309  \n",
       "\n",
       "[917 rows x 29 columns]"
      ]
     },
     "execution_count": 28,
     "metadata": {},
     "output_type": "execute_result"
    }
   ],
   "source": [
    "# Make a prediction dataframe with everything in it\n",
    "df_test = dm.df.iloc[dm.splits['test'][0]:].copy()\n",
    "df_test['probe_pred'] = y_test_pred>0\n",
    "y_test_pred_bool = np.clip(switch2bool(y_test_pred), 0 ,1)\n",
    "df_test['probe_prob'] = y_test_pred_bool\n",
    "df_test['llm_prob'] = (df_test['ans0']+df_test['ans1'])/2\n",
    "df_test['llm_ans'] = df_test['llm_prob']>0.5\n",
    "df_test['conf'] = (df_test['ans0']-df_test['ans1']).abs()\n",
    "df_test['y'] = df_test['y']>0\n",
    "\n",
    "y_true = dl_test.dataset.tensors[2].numpy()\n",
    "assert ((df_test['y'].values>0.5)==(y_true>0)).all(), 'check it all lines up'\n",
    "\n",
    "df_test"
   ]
  },
  {
   "cell_type": "code",
   "execution_count": 29,
   "metadata": {},
   "outputs": [
    {
     "name": "stdout",
     "output_type": "stream",
     "text": [
      "probe results on subsets of the data\n",
      "acc=57.94% [instructed_to_lie==True]\n",
      "acc=63.19% [instructed_to_lie==False]\n",
      "acc=63.06% [llm_ans==label_true]\n",
      "acc=60.91% [llm_ans==label_instructed]\n",
      "acc=54.41% [instructed_to_lie==True & llm_ans==label_instructed]\n",
      "acc=60.50% [instructed_to_lie==True & llm_ans!=label_instructed]\n"
     ]
    },
    {
     "data": {
      "text/plain": [
       "0.604982206405694"
      ]
     },
     "execution_count": 29,
     "metadata": {},
     "output_type": "execute_result"
    }
   ],
   "source": [
    "def get_acc_subset(df, query):\n",
    "    df_s = df.query(query)\n",
    "    acc = (df_s['probe_pred']==df_s['y']).mean()\n",
    "    print(f\"acc={acc:2.2%} [{query}]\")\n",
    "    return acc\n",
    "    \n",
    "print('probe results on subsets of the data')\n",
    "get_acc_subset(df_test, 'instructed_to_lie==True') # it was ph told to lie\n",
    "get_acc_subset(df_test, 'instructed_to_lie==False') # it was told not to lie\n",
    "get_acc_subset(df_test, 'llm_ans==label_true') # the llm gave the true ans\n",
    "get_acc_subset(df_test, 'llm_ans==label_instructed') # the llm gave the desired ans\n",
    "get_acc_subset(df_test, 'instructed_to_lie==True & llm_ans==label_instructed') # it was told to lie, and it did lie\n",
    "get_acc_subset(df_test, 'instructed_to_lie==True & llm_ans!=label_instructed')"
   ]
  },
  {
   "cell_type": "markdown",
   "metadata": {},
   "source": [
    "# RESULTS"
   ]
  },
  {
   "cell_type": "code",
   "execution_count": 30,
   "metadata": {},
   "outputs": [
    {
     "name": "stdout",
     "output_type": "stream",
     "text": [
      "⭐PRIMARY METRIC⭐ acc=60.41% from probe\n"
     ]
    }
   ],
   "source": [
    "acc = (df_test['y']==(y_test_pred_bool>0.5)).mean()\n",
    "\n",
    "# print(f\"  PRIMARY BASELINE roc_auc={primary_baseline:2.2%} from linear classifier\")\n",
    "print(f\"⭐PRIMARY METRIC⭐ acc={acc:2.2%} from probe\")"
   ]
  },
  {
   "cell_type": "markdown",
   "metadata": {},
   "source": [
    "# Out of sample\n",
    "\n",
    "Lets see how far it generalizes"
   ]
  },
  {
   "cell_type": "code",
   "execution_count": 31,
   "metadata": {},
   "outputs": [],
   "source": [
    "def try_fine_tune(dm):\n",
    "    dl_train = dm.train_dataloader()\n",
    "    dl_val = dm.val_dataloader()\n",
    "    dl_test = dm.test_dataloader()\n",
    "    b = next(iter(dl_train))\n",
    "    max_epochs = 42\n",
    "    c_in = b[0].shape[1]\n",
    "    print(b[0].shape)\n",
    "    net = PLConvProbe(c_in=c_in, total_steps=max_epochs*len(dl_train), depth=5, hs=128, lr=3e-3, dropout=0.1, input_dropout=0.1)\n",
    "    trainer = pl.Trainer(precision=\"bf16-mixed\",\n",
    "                        \n",
    "                        gradient_clip_val=20,\n",
    "                        max_epochs=max_epochs, log_every_n_steps=5)\n",
    "    trainer.fit(model=net, train_dataloaders=dl_train, val_dataloaders=dl_val)\n",
    "    df_hist = read_metrics_csv(trainer.logger.experiment.metrics_file_path).ffill().bfill()\n",
    "    rs = trainer.test(net, dataloaders=[dl_train, dl_val, dl_test])\n",
    "    return df_hist, rs"
   ]
  },
  {
   "cell_type": "code",
   "execution_count": 32,
   "metadata": {},
   "outputs": [],
   "source": [
    "oos_dataset_fs = [\n",
    "    '../.ds/model-starchat-beta_ds-EleutherAItruthful-qa-binary_format-tqa-a-b-simple-prompt_N807_2shots_cd0a7f',\n",
    "    '../.ds/model-starchat-beta_ds-EleutherAItruthful-qa-binary_format-tqa-sphinx-prompt_N807_2shots_cd0a7f', \n",
    "]"
   ]
  },
  {
   "cell_type": "code",
   "execution_count": 33,
   "metadata": {},
   "outputs": [
    {
     "name": "stdout",
     "output_type": "stream",
     "text": [
      "../.ds/model-starchat-beta_ds-EleutherAItruthful-qa-binary_format-tqa-a-b-simple-prompt_N807_2shots_cd0a7f\n"
     ]
    },
    {
     "ename": "FileNotFoundError",
     "evalue": "Directory ../.ds/model-starchat-beta_ds-EleutherAItruthful-qa-binary_format-tqa-a-b-simple-prompt_N807_2shots_cd0a7f not found",
     "output_type": "error",
     "traceback": [
      "\u001b[0;31m---------------------------------------------------------------------------\u001b[0m",
      "\u001b[0;31mFileNotFoundError\u001b[0m                         Traceback (most recent call last)",
      "Cell \u001b[0;32mIn[33], line 4\u001b[0m\n\u001b[1;32m      2\u001b[0m \u001b[39mfor\u001b[39;00m f \u001b[39min\u001b[39;00m oos_dataset_fs:\n\u001b[1;32m      3\u001b[0m     \u001b[39mprint\u001b[39m(f)\n\u001b[0;32m----> 4\u001b[0m     ds2a \u001b[39m=\u001b[39m load_from_disk(f)\n\u001b[1;32m      6\u001b[0m     \u001b[39m# restrict it to significant permutations. That is monte carlo dropout pairs, where the answer changes by more than X%\u001b[39;00m\n\u001b[1;32m      7\u001b[0m     df \u001b[39m=\u001b[39m ds2df(ds2a)\n",
      "File \u001b[0;32m~/mambaforge/envs/dlk3/lib/python3.11/site-packages/datasets/load.py:2227\u001b[0m, in \u001b[0;36mload_from_disk\u001b[0;34m(dataset_path, fs, keep_in_memory, storage_options)\u001b[0m\n\u001b[1;32m   2224\u001b[0m     path_join \u001b[39m=\u001b[39m os\u001b[39m.\u001b[39mpath\u001b[39m.\u001b[39mjoin\n\u001b[1;32m   2226\u001b[0m \u001b[39mif\u001b[39;00m \u001b[39mnot\u001b[39;00m fs\u001b[39m.\u001b[39mexists(dest_dataset_path):\n\u001b[0;32m-> 2227\u001b[0m     \u001b[39mraise\u001b[39;00m \u001b[39mFileNotFoundError\u001b[39;00m(\u001b[39mf\u001b[39m\u001b[39m\"\u001b[39m\u001b[39mDirectory \u001b[39m\u001b[39m{\u001b[39;00mdataset_path\u001b[39m}\u001b[39;00m\u001b[39m not found\u001b[39m\u001b[39m\"\u001b[39m)\n\u001b[1;32m   2228\u001b[0m \u001b[39mif\u001b[39;00m fs\u001b[39m.\u001b[39misfile(path_join(dest_dataset_path, config\u001b[39m.\u001b[39mDATASET_INFO_FILENAME)) \u001b[39mand\u001b[39;00m fs\u001b[39m.\u001b[39misfile(\n\u001b[1;32m   2229\u001b[0m     path_join(dest_dataset_path, config\u001b[39m.\u001b[39mDATASET_STATE_JSON_FILENAME)\n\u001b[1;32m   2230\u001b[0m ):\n\u001b[1;32m   2231\u001b[0m     \u001b[39mreturn\u001b[39;00m Dataset\u001b[39m.\u001b[39mload_from_disk(dataset_path, keep_in_memory\u001b[39m=\u001b[39mkeep_in_memory, storage_options\u001b[39m=\u001b[39mstorage_options)\n",
      "\u001b[0;31mFileNotFoundError\u001b[0m: Directory ../.ds/model-starchat-beta_ds-EleutherAItruthful-qa-binary_format-tqa-a-b-simple-prompt_N807_2shots_cd0a7f not found"
     ]
    }
   ],
   "source": [
    "batch_size = 12\n",
    "for f in oos_dataset_fs:\n",
    "    print(f)\n",
    "    ds2a = load_from_disk(f)\n",
    "\n",
    "    # restrict it to significant permutations. That is monte carlo dropout pairs, where the answer changes by more than X%\n",
    "    df = ds2df(ds2a)\n",
    "    m = np.abs(df.ans0-df.ans1)>0.1\n",
    "    significant_rows = m[m].index\n",
    "\n",
    "    # allowed_rows_i = set(known_rows_i).intersection(significant_rows)\n",
    "    allowed_rows_i = significant_rows\n",
    "    ds2 = ds2a.select(allowed_rows_i)\n",
    "    print(f\"selected rows are {len(ds2)/len(ds2a):2.2%}\")\n",
    "    print(len(ds2))\n",
    "\n",
    "    dm2 = imdbHSDataModule(ds2, batch_size=batch_size)\n",
    "    dm2.setup('train')\n",
    "\n",
    "    dl_val2 = dm2.val_dataloader()\n",
    "    dl_train2 = dm2.train_dataloader()\n",
    "    dl_test2 = dm2.test_dataloader()\n",
    "    print(len(dl_train2), len(dl_val2), len(dl_test2))\n",
    "    rs2 = trainer.test(net, dataloaders=[dl_train2, dl_val2, dl_test2]) \n",
    "    \n",
    "    df_hist2, rs2b = try_fine_tune(dm2)"
   ]
  },
  {
   "cell_type": "code",
   "execution_count": null,
   "metadata": {},
   "outputs": [],
   "source": []
  }
 ],
 "metadata": {
  "kernelspec": {
   "display_name": "dlk2",
   "language": "python",
   "name": "python3"
  },
  "language_info": {
   "codemirror_mode": {
    "name": "ipython",
    "version": 3
   },
   "file_extension": ".py",
   "mimetype": "text/x-python",
   "name": "python",
   "nbconvert_exporter": "python",
   "pygments_lexer": "ipython3",
   "version": "3.11.4"
  },
  "orig_nbformat": 4
 },
 "nbformat": 4,
 "nbformat_minor": 2
}
