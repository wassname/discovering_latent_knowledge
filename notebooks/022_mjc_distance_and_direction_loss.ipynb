{
 "cells": [
  {
   "attachments": {},
   "cell_type": "markdown",
   "metadata": {},
   "source": [
    "# distance and direciton\n",
    "\n",
    "Let try to opt for distance and direction with\n",
    "\n",
    "$L1loss(y1-y0, y_true)$\n",
    "\n",
    "where $y1=model(x1)$"
   ]
  },
  {
   "attachments": {},
   "cell_type": "markdown",
   "metadata": {},
   "source": [
    "\n",
    "links:\n",
    "- [loading](https://github.com/deep-diver/LLM-As-Chatbot/blob/main/models/alpaca.py)\n",
    "- [dict](https://github.com/deep-diver/LLM-As-Chatbot/blob/c79e855a492a968b54bac223e66dc9db448d6eba/model_cards.json#L143)\n",
    "- [prompt_format](https://github.com/deep-diver/PingPong/blob/main/src/pingpong/alpaca.py)"
   ]
  },
  {
   "cell_type": "code",
   "execution_count": 1,
   "metadata": {},
   "outputs": [
    {
     "data": {
      "text/plain": [
       "'4.30.1'"
      ]
     },
     "execution_count": 1,
     "metadata": {},
     "output_type": "execute_result"
    }
   ],
   "source": [
    "\n",
    "import numpy as np\n",
    "import pandas as pd\n",
    "from matplotlib import pyplot as plt\n",
    "plt.style.use('ggplot')\n",
    "\n",
    "from typing import Optional, List, Dict, Union\n",
    "\n",
    "import torch\n",
    "import torch.nn as nn\n",
    "import torch.nn.functional as F\n",
    "from torch import Tensor\n",
    "from torch import optim\n",
    "from torch.utils.data import random_split, DataLoader, TensorDataset\n",
    "\n",
    "from pathlib import Path\n",
    "\n",
    "import transformers\n",
    "\n",
    "import lightning.pytorch as pl\n",
    "# from dataclasses import dataclass\n",
    "\n",
    "from sklearn.linear_model import LogisticRegression\n",
    "from sklearn.metrics import f1_score, roc_auc_score, accuracy_score\n",
    "from sklearn.preprocessing import RobustScaler\n",
    "\n",
    "from tqdm.auto import tqdm\n",
    "import os\n",
    "\n",
    "from loguru import logger\n",
    "logger.add(os.sys.stderr, format=\"{time} {level} {message}\", level=\"INFO\")\n",
    "\n",
    "transformers.__version__"
   ]
  },
  {
   "cell_type": "markdown",
   "metadata": {},
   "source": [
    "# Dataset"
   ]
  },
  {
   "cell_type": "code",
   "execution_count": 2,
   "metadata": {},
   "outputs": [
    {
     "data": {
      "text/plain": [
       "Dataset({\n",
       "    features: ['hs1', 'ans1', 'hs2', 'ans2', 'true', 'index', 'version', 'info', 'input_truncated', 'prob_y', 'prob_n', 'text_ans', 'input_text'],\n",
       "    num_rows: 36000\n",
       "})"
      ]
     },
     "execution_count": 2,
     "metadata": {},
     "output_type": "execute_result"
    }
   ],
   "source": [
    "from datasets import load_from_disk, concatenate_datasets\n",
    "fs = [\n",
    "    \n",
    "    './.ds/HuggingFaceH4starchat_beta-None-N_4000-ns_3-mc_0.2-0392de',\n",
    "    './.ds/HuggingFaceH4starchat_beta-None-N_6000-ns_3-mc_True-dc99f8',\n",
    "    './.ds/HuggingFaceH4starchat_beta-None-N_8000-ns_3-mc_True-a50b5f'\n",
    "]\n",
    "\n",
    "# './.ds/HuggingFaceH4starchat_beta-None-N_8000-ns_3-mc_0.2-2ffc1e'\n",
    "ds1 = concatenate_datasets([load_from_disk(f) for f in fs])\n",
    "ds1"
   ]
  },
  {
   "cell_type": "code",
   "execution_count": 3,
   "metadata": {},
   "outputs": [],
   "source": [
    "def rows_item(row):\n",
    "    \"\"\"\n",
    "    transform a row by turning singe dim arrays into items\n",
    "    \"\"\"\n",
    "    for k,x in row.items():\n",
    "        if isinstance(x, np.ndarray) and x.ndim==0:\n",
    "            row[k]=x.item()\n",
    "    return row\n",
    "\n",
    "def ds_info2df(ds):\n",
    "    info = list(ds['info'])\n",
    "    d = pd.DataFrame([rows_item(r) for r in info])\n",
    "    return d\n",
    "\n",
    "def ds2df(ds):\n",
    "    df = ds_info2df(ds)\n",
    "    df_ans = ds.select_columns(['ans1', 'ans2', 'true', 'index', 'prob_y', 'prob_n', 'version']).with_format(\"numpy\").to_pandas()\n",
    "    df = pd.concat([df, df_ans], axis=1)\n",
    "    \n",
    "    # derived\n",
    "    df['dir_true'] = df['ans2'] - df['ans1']\n",
    "    df['conf'] = (df['ans1']-df['ans2']).abs()  \n",
    "    df['llm_prob'] = (df['ans1']+df['ans2'])/2\n",
    "    df['llm_ans'] = df['llm_prob']>0.5\n",
    "    return df"
   ]
  },
  {
   "cell_type": "markdown",
   "metadata": {},
   "source": [
    "## Filter"
   ]
  },
  {
   "cell_type": "code",
   "execution_count": 4,
   "metadata": {},
   "outputs": [
    {
     "data": {
      "text/html": [
       "<div>\n",
       "<style scoped>\n",
       "    .dataframe tbody tr th:only-of-type {\n",
       "        vertical-align: middle;\n",
       "    }\n",
       "\n",
       "    .dataframe tbody tr th {\n",
       "        vertical-align: top;\n",
       "    }\n",
       "\n",
       "    .dataframe thead th {\n",
       "        text-align: right;\n",
       "    }\n",
       "</style>\n",
       "<table border=\"1\" class=\"dataframe\">\n",
       "  <thead>\n",
       "    <tr style=\"text-align: right;\">\n",
       "      <th></th>\n",
       "      <th>desired_answer</th>\n",
       "      <th>input</th>\n",
       "      <th>lie</th>\n",
       "      <th>true_answer</th>\n",
       "      <th>version</th>\n",
       "      <th>ans1</th>\n",
       "      <th>ans2</th>\n",
       "      <th>true</th>\n",
       "      <th>index</th>\n",
       "      <th>prob_y</th>\n",
       "      <th>prob_n</th>\n",
       "      <th>version</th>\n",
       "      <th>dir_true</th>\n",
       "      <th>conf</th>\n",
       "      <th>llm_prob</th>\n",
       "      <th>llm_ans</th>\n",
       "    </tr>\n",
       "  </thead>\n",
       "  <tbody>\n",
       "    <tr>\n",
       "      <th>0</th>\n",
       "      <td>True</td>\n",
       "      <td>Title: Horrible and dangerous for kids!\\n\\nCon...</td>\n",
       "      <td>True</td>\n",
       "      <td>0</td>\n",
       "      <td>lie</td>\n",
       "      <td>0.058716</td>\n",
       "      <td>0.153931</td>\n",
       "      <td>0</td>\n",
       "      <td>0</td>\n",
       "      <td>0.057861</td>\n",
       "      <td>0.926270</td>\n",
       "      <td>lie</td>\n",
       "      <td>0.095215</td>\n",
       "      <td>0.095215</td>\n",
       "      <td>0.106323</td>\n",
       "      <td>False</td>\n",
       "    </tr>\n",
       "    <tr>\n",
       "      <th>1</th>\n",
       "      <td>True</td>\n",
       "      <td>Title: Order with caution\\n\\nContent: I ordere...</td>\n",
       "      <td>True</td>\n",
       "      <td>0</td>\n",
       "      <td>lie</td>\n",
       "      <td>0.373535</td>\n",
       "      <td>0.476074</td>\n",
       "      <td>0</td>\n",
       "      <td>1</td>\n",
       "      <td>0.371094</td>\n",
       "      <td>0.621582</td>\n",
       "      <td>lie</td>\n",
       "      <td>0.102539</td>\n",
       "      <td>0.102539</td>\n",
       "      <td>0.424805</td>\n",
       "      <td>False</td>\n",
       "    </tr>\n",
       "    <tr>\n",
       "      <th>2</th>\n",
       "      <td>True</td>\n",
       "      <td>Title: A big disappointment\\n\\nContent: This m...</td>\n",
       "      <td>True</td>\n",
       "      <td>0</td>\n",
       "      <td>lie</td>\n",
       "      <td>0.063660</td>\n",
       "      <td>0.204224</td>\n",
       "      <td>0</td>\n",
       "      <td>2</td>\n",
       "      <td>0.063416</td>\n",
       "      <td>0.932129</td>\n",
       "      <td>lie</td>\n",
       "      <td>0.140564</td>\n",
       "      <td>0.140564</td>\n",
       "      <td>0.133942</td>\n",
       "      <td>False</td>\n",
       "    </tr>\n",
       "    <tr>\n",
       "      <th>3</th>\n",
       "      <td>True</td>\n",
       "      <td>Title: Came F*$%ed Up!!\\n\\nContent: ok so i go...</td>\n",
       "      <td>True</td>\n",
       "      <td>0</td>\n",
       "      <td>lie</td>\n",
       "      <td>0.259521</td>\n",
       "      <td>0.054138</td>\n",
       "      <td>0</td>\n",
       "      <td>3</td>\n",
       "      <td>0.252686</td>\n",
       "      <td>0.720215</td>\n",
       "      <td>lie</td>\n",
       "      <td>-0.205383</td>\n",
       "      <td>0.205383</td>\n",
       "      <td>0.156830</td>\n",
       "      <td>False</td>\n",
       "    </tr>\n",
       "    <tr>\n",
       "      <th>4</th>\n",
       "      <td>True</td>\n",
       "      <td>Title: broken\\n\\nContent: I was anticipating t...</td>\n",
       "      <td>True</td>\n",
       "      <td>0</td>\n",
       "      <td>lie</td>\n",
       "      <td>0.151001</td>\n",
       "      <td>0.265625</td>\n",
       "      <td>0</td>\n",
       "      <td>4</td>\n",
       "      <td>0.148071</td>\n",
       "      <td>0.832031</td>\n",
       "      <td>lie</td>\n",
       "      <td>0.114624</td>\n",
       "      <td>0.114624</td>\n",
       "      <td>0.208313</td>\n",
       "      <td>False</td>\n",
       "    </tr>\n",
       "    <tr>\n",
       "      <th>...</th>\n",
       "      <td>...</td>\n",
       "      <td>...</td>\n",
       "      <td>...</td>\n",
       "      <td>...</td>\n",
       "      <td>...</td>\n",
       "      <td>...</td>\n",
       "      <td>...</td>\n",
       "      <td>...</td>\n",
       "      <td>...</td>\n",
       "      <td>...</td>\n",
       "      <td>...</td>\n",
       "      <td>...</td>\n",
       "      <td>...</td>\n",
       "      <td>...</td>\n",
       "      <td>...</td>\n",
       "      <td>...</td>\n",
       "    </tr>\n",
       "    <tr>\n",
       "      <th>35995</th>\n",
       "      <td>True</td>\n",
       "      <td>Review Title: Great for burning CDS\\n\\nReview ...</td>\n",
       "      <td>False</td>\n",
       "      <td>1</td>\n",
       "      <td>truth</td>\n",
       "      <td>0.522949</td>\n",
       "      <td>0.745117</td>\n",
       "      <td>1</td>\n",
       "      <td>7995</td>\n",
       "      <td>0.518555</td>\n",
       "      <td>0.472168</td>\n",
       "      <td>truth</td>\n",
       "      <td>0.222168</td>\n",
       "      <td>0.222168</td>\n",
       "      <td>0.634033</td>\n",
       "      <td>True</td>\n",
       "    </tr>\n",
       "    <tr>\n",
       "      <th>35996</th>\n",
       "      <td>False</td>\n",
       "      <td>Review Title: Horrible...\\n\\nReview Content: I...</td>\n",
       "      <td>False</td>\n",
       "      <td>0</td>\n",
       "      <td>truth</td>\n",
       "      <td>0.001739</td>\n",
       "      <td>0.001056</td>\n",
       "      <td>0</td>\n",
       "      <td>7996</td>\n",
       "      <td>0.001735</td>\n",
       "      <td>0.994629</td>\n",
       "      <td>truth</td>\n",
       "      <td>-0.000683</td>\n",
       "      <td>0.000683</td>\n",
       "      <td>0.001397</td>\n",
       "      <td>False</td>\n",
       "    </tr>\n",
       "    <tr>\n",
       "      <th>35997</th>\n",
       "      <td>False</td>\n",
       "      <td>Review Title: one of the worst books to use fo...</td>\n",
       "      <td>False</td>\n",
       "      <td>0</td>\n",
       "      <td>truth</td>\n",
       "      <td>0.016632</td>\n",
       "      <td>0.000480</td>\n",
       "      <td>0</td>\n",
       "      <td>7997</td>\n",
       "      <td>0.016357</td>\n",
       "      <td>0.965820</td>\n",
       "      <td>truth</td>\n",
       "      <td>-0.016152</td>\n",
       "      <td>0.016152</td>\n",
       "      <td>0.008556</td>\n",
       "      <td>False</td>\n",
       "    </tr>\n",
       "    <tr>\n",
       "      <th>35998</th>\n",
       "      <td>False</td>\n",
       "      <td>Review Title: Not for C, C++ programmers\\n\\nRe...</td>\n",
       "      <td>False</td>\n",
       "      <td>0</td>\n",
       "      <td>truth</td>\n",
       "      <td>0.005379</td>\n",
       "      <td>0.008308</td>\n",
       "      <td>0</td>\n",
       "      <td>7998</td>\n",
       "      <td>0.005375</td>\n",
       "      <td>0.992676</td>\n",
       "      <td>truth</td>\n",
       "      <td>0.002930</td>\n",
       "      <td>0.002930</td>\n",
       "      <td>0.006844</td>\n",
       "      <td>False</td>\n",
       "    </tr>\n",
       "    <tr>\n",
       "      <th>35999</th>\n",
       "      <td>False</td>\n",
       "      <td>Review Title: IF YOU BUY THIS CD FROM HOT PROD...</td>\n",
       "      <td>False</td>\n",
       "      <td>0</td>\n",
       "      <td>truth</td>\n",
       "      <td>0.085022</td>\n",
       "      <td>0.089966</td>\n",
       "      <td>0</td>\n",
       "      <td>7999</td>\n",
       "      <td>0.082275</td>\n",
       "      <td>0.884766</td>\n",
       "      <td>truth</td>\n",
       "      <td>0.004944</td>\n",
       "      <td>0.004944</td>\n",
       "      <td>0.087494</td>\n",
       "      <td>False</td>\n",
       "    </tr>\n",
       "  </tbody>\n",
       "</table>\n",
       "<p>36000 rows × 16 columns</p>\n",
       "</div>"
      ],
      "text/plain": [
       "       desired_answer                                              input   \n",
       "0                True  Title: Horrible and dangerous for kids!\\n\\nCon...  \\\n",
       "1                True  Title: Order with caution\\n\\nContent: I ordere...   \n",
       "2                True  Title: A big disappointment\\n\\nContent: This m...   \n",
       "3                True  Title: Came F*$%ed Up!!\\n\\nContent: ok so i go...   \n",
       "4                True  Title: broken\\n\\nContent: I was anticipating t...   \n",
       "...               ...                                                ...   \n",
       "35995            True  Review Title: Great for burning CDS\\n\\nReview ...   \n",
       "35996           False  Review Title: Horrible...\\n\\nReview Content: I...   \n",
       "35997           False  Review Title: one of the worst books to use fo...   \n",
       "35998           False  Review Title: Not for C, C++ programmers\\n\\nRe...   \n",
       "35999           False  Review Title: IF YOU BUY THIS CD FROM HOT PROD...   \n",
       "\n",
       "         lie  true_answer version      ans1      ans2  true  index    prob_y   \n",
       "0       True            0     lie  0.058716  0.153931     0      0  0.057861  \\\n",
       "1       True            0     lie  0.373535  0.476074     0      1  0.371094   \n",
       "2       True            0     lie  0.063660  0.204224     0      2  0.063416   \n",
       "3       True            0     lie  0.259521  0.054138     0      3  0.252686   \n",
       "4       True            0     lie  0.151001  0.265625     0      4  0.148071   \n",
       "...      ...          ...     ...       ...       ...   ...    ...       ...   \n",
       "35995  False            1   truth  0.522949  0.745117     1   7995  0.518555   \n",
       "35996  False            0   truth  0.001739  0.001056     0   7996  0.001735   \n",
       "35997  False            0   truth  0.016632  0.000480     0   7997  0.016357   \n",
       "35998  False            0   truth  0.005379  0.008308     0   7998  0.005375   \n",
       "35999  False            0   truth  0.085022  0.089966     0   7999  0.082275   \n",
       "\n",
       "         prob_n version  dir_true      conf  llm_prob  llm_ans  \n",
       "0      0.926270     lie  0.095215  0.095215  0.106323    False  \n",
       "1      0.621582     lie  0.102539  0.102539  0.424805    False  \n",
       "2      0.932129     lie  0.140564  0.140564  0.133942    False  \n",
       "3      0.720215     lie -0.205383  0.205383  0.156830    False  \n",
       "4      0.832031     lie  0.114624  0.114624  0.208313    False  \n",
       "...         ...     ...       ...       ...       ...      ...  \n",
       "35995  0.472168   truth  0.222168  0.222168  0.634033     True  \n",
       "35996  0.994629   truth -0.000683  0.000683  0.001397    False  \n",
       "35997  0.965820   truth -0.016152  0.016152  0.008556    False  \n",
       "35998  0.992676   truth  0.002930  0.002930  0.006844    False  \n",
       "35999  0.884766   truth  0.004944  0.004944  0.087494    False  \n",
       "\n",
       "[36000 rows x 16 columns]"
      ]
     },
     "execution_count": 4,
     "metadata": {},
     "output_type": "execute_result"
    }
   ],
   "source": [
    "# lets select only the ones where\n",
    "df = ds2df(ds1)\n",
    "df"
   ]
  },
  {
   "cell_type": "code",
   "execution_count": 5,
   "metadata": {},
   "outputs": [
    {
     "data": {
      "text/plain": [
       "Dataset({\n",
       "    features: ['hs1', 'ans1', 'hs2', 'ans2', 'true', 'index', 'version', 'info', 'input_truncated', 'prob_y', 'prob_n', 'text_ans', 'input_text'],\n",
       "    num_rows: 14082\n",
       "})"
      ]
     },
     "execution_count": 5,
     "metadata": {},
     "output_type": "execute_result"
    }
   ],
   "source": [
    "\n",
    "\n",
    "# just select the question where the model knows the answer. \n",
    "d = df.query('version==\"truth\"').set_index(\"index\")\n",
    "# these are the ones where it got it right when asked to tell the truth\n",
    "known_indices = d[d.llm_ans==d.true_answer].index\n",
    "\n",
    "# convert to row numbers, and use datasets to select\n",
    "known_rows = df['index'].isin(known_indices)\n",
    "known_rows_i = df[known_rows].index\n",
    "\n",
    "# also restrict it to significant permutations. That is monte carlo dropout pairs, where the answer changes by more than X%\n",
    "m = np.abs(df.ans1-df.ans2)>0.10\n",
    "significant_rows = m[m].index\n",
    "\n",
    "allowed_rows_i = set(known_rows_i).intersection(significant_rows)\n",
    "ds = ds1.select(allowed_rows_i)\n",
    "ds"
   ]
  },
  {
   "cell_type": "markdown",
   "metadata": {},
   "source": [
    "## Transform: Normalize by activation"
   ]
  },
  {
   "cell_type": "code",
   "execution_count": 6,
   "metadata": {},
   "outputs": [
    {
     "name": "stderr",
     "output_type": "stream",
     "text": [
      "Loading cached processed dataset at /home/ubuntu/Documents/mjc/elk/discovering_latent_knowledge/notebooks/.ds/HuggingFaceH4starchat_beta-None-N_4000-ns_3-mc_0.2-0392de/cache-5ee7d1e0fa1f8b3d.arrow\n"
     ]
    },
    {
     "data": {
      "text/plain": [
       "Dataset({\n",
       "    features: ['hs1', 'ans1', 'hs2', 'ans2', 'true', 'index', 'version', 'info', 'input_truncated', 'prob_y', 'prob_n', 'text_ans', 'input_text'],\n",
       "    num_rows: 14082\n",
       "})"
      ]
     },
     "execution_count": 6,
     "metadata": {},
     "output_type": "execute_result"
    }
   ],
   "source": [
    "N = 1000\n",
    "small_ds = ds.select(range(N))\n",
    "b = N\n",
    "hs1 = small_ds['hs1'].reshape((b, -1))\n",
    "\n",
    "scaler = RobustScaler()\n",
    "hs2 = scaler.fit_transform(hs1)\n",
    "\n",
    "def normalize_hs(hs1, hs2):\n",
    "    b = len(hs1)\n",
    "    hs1 = scaler.transform(hs1.reshape((b, -1)))\n",
    "    hs2 = scaler.transform(hs2.reshape((b, -1)))\n",
    "    return {'hs1':hs1, 'hs2': hs2}\n",
    "\n",
    "# # Plot\n",
    "# plt.hist(hs1.flatten(), bins=155, range=[-5, 5], label='before', histtype='step')\n",
    "# plt.hist(hs2.flatten(), bins=155, range=[-5, 5], label='after', histtype='step')\n",
    "# plt.legend()\n",
    "# plt.show()\n",
    "\n",
    "# # Test\n",
    "# small_dataset = ds.select(range(4))\n",
    "# small_dataset.map(normalize_hs, batched=True, batch_size=2, input_columns=['hs1', 'hs2'])\n",
    "\n",
    "# run\n",
    "ds = ds.map(normalize_hs, batched=True, input_columns=['hs1', 'hs2'])\n",
    "ds"
   ]
  },
  {
   "attachments": {},
   "cell_type": "markdown",
   "metadata": {},
   "source": [
    "## Lightning DataModule"
   ]
  },
  {
   "cell_type": "code",
   "execution_count": 7,
   "metadata": {},
   "outputs": [
    {
     "data": {
      "text/html": [
       "<div>\n",
       "<style scoped>\n",
       "    .dataframe tbody tr th:only-of-type {\n",
       "        vertical-align: middle;\n",
       "    }\n",
       "\n",
       "    .dataframe tbody tr th {\n",
       "        vertical-align: top;\n",
       "    }\n",
       "\n",
       "    .dataframe thead th {\n",
       "        text-align: right;\n",
       "    }\n",
       "</style>\n",
       "<table border=\"1\" class=\"dataframe\">\n",
       "  <thead>\n",
       "    <tr style=\"text-align: right;\">\n",
       "      <th></th>\n",
       "      <th>desired_answer</th>\n",
       "      <th>input</th>\n",
       "      <th>lie</th>\n",
       "      <th>true_answer</th>\n",
       "      <th>version</th>\n",
       "      <th>ans1</th>\n",
       "      <th>ans2</th>\n",
       "      <th>true</th>\n",
       "      <th>index</th>\n",
       "      <th>prob_y</th>\n",
       "      <th>prob_n</th>\n",
       "      <th>version</th>\n",
       "      <th>dir_true</th>\n",
       "      <th>conf</th>\n",
       "      <th>llm_prob</th>\n",
       "      <th>llm_ans</th>\n",
       "    </tr>\n",
       "  </thead>\n",
       "  <tbody>\n",
       "    <tr>\n",
       "      <th>0</th>\n",
       "      <td>True</td>\n",
       "      <td>Title: Order with caution\\n\\nContent: I ordere...</td>\n",
       "      <td>True</td>\n",
       "      <td>0</td>\n",
       "      <td>lie</td>\n",
       "      <td>0.373535</td>\n",
       "      <td>0.476074</td>\n",
       "      <td>0</td>\n",
       "      <td>1</td>\n",
       "      <td>0.371094</td>\n",
       "      <td>0.621582</td>\n",
       "      <td>lie</td>\n",
       "      <td>0.102539</td>\n",
       "      <td>0.102539</td>\n",
       "      <td>0.424805</td>\n",
       "      <td>False</td>\n",
       "    </tr>\n",
       "    <tr>\n",
       "      <th>1</th>\n",
       "      <td>True</td>\n",
       "      <td>Title: A big disappointment\\n\\nContent: This m...</td>\n",
       "      <td>True</td>\n",
       "      <td>0</td>\n",
       "      <td>lie</td>\n",
       "      <td>0.063660</td>\n",
       "      <td>0.204224</td>\n",
       "      <td>0</td>\n",
       "      <td>2</td>\n",
       "      <td>0.063416</td>\n",
       "      <td>0.932129</td>\n",
       "      <td>lie</td>\n",
       "      <td>0.140564</td>\n",
       "      <td>0.140564</td>\n",
       "      <td>0.133942</td>\n",
       "      <td>False</td>\n",
       "    </tr>\n",
       "    <tr>\n",
       "      <th>2</th>\n",
       "      <td>True</td>\n",
       "      <td>Title: Came F*$%ed Up!!\\n\\nContent: ok so i go...</td>\n",
       "      <td>True</td>\n",
       "      <td>0</td>\n",
       "      <td>lie</td>\n",
       "      <td>0.259521</td>\n",
       "      <td>0.054138</td>\n",
       "      <td>0</td>\n",
       "      <td>3</td>\n",
       "      <td>0.252686</td>\n",
       "      <td>0.720215</td>\n",
       "      <td>lie</td>\n",
       "      <td>-0.205383</td>\n",
       "      <td>0.205383</td>\n",
       "      <td>0.156830</td>\n",
       "      <td>False</td>\n",
       "    </tr>\n",
       "    <tr>\n",
       "      <th>3</th>\n",
       "      <td>True</td>\n",
       "      <td>Title: broken\\n\\nContent: I was anticipating t...</td>\n",
       "      <td>True</td>\n",
       "      <td>0</td>\n",
       "      <td>lie</td>\n",
       "      <td>0.151001</td>\n",
       "      <td>0.265625</td>\n",
       "      <td>0</td>\n",
       "      <td>4</td>\n",
       "      <td>0.148071</td>\n",
       "      <td>0.832031</td>\n",
       "      <td>lie</td>\n",
       "      <td>0.114624</td>\n",
       "      <td>0.114624</td>\n",
       "      <td>0.208313</td>\n",
       "      <td>False</td>\n",
       "    </tr>\n",
       "  </tbody>\n",
       "</table>\n",
       "</div>"
      ],
      "text/plain": [
       "   desired_answer                                              input   lie   \n",
       "0            True  Title: Order with caution\\n\\nContent: I ordere...  True  \\\n",
       "1            True  Title: A big disappointment\\n\\nContent: This m...  True   \n",
       "2            True  Title: Came F*$%ed Up!!\\n\\nContent: ok so i go...  True   \n",
       "3            True  Title: broken\\n\\nContent: I was anticipating t...  True   \n",
       "\n",
       "   true_answer version      ans1      ans2  true  index    prob_y    prob_n   \n",
       "0            0     lie  0.373535  0.476074     0      1  0.371094  0.621582  \\\n",
       "1            0     lie  0.063660  0.204224     0      2  0.063416  0.932129   \n",
       "2            0     lie  0.259521  0.054138     0      3  0.252686  0.720215   \n",
       "3            0     lie  0.151001  0.265625     0      4  0.148071  0.832031   \n",
       "\n",
       "  version  dir_true      conf  llm_prob  llm_ans  \n",
       "0     lie  0.102539  0.102539  0.424805    False  \n",
       "1     lie  0.140564  0.140564  0.133942    False  \n",
       "2     lie -0.205383  0.205383  0.156830    False  \n",
       "3     lie  0.114624  0.114624  0.208313    False  "
      ]
     },
     "execution_count": 7,
     "metadata": {},
     "output_type": "execute_result"
    }
   ],
   "source": [
    "df = ds2df(ds)\n",
    "df.head(4)"
   ]
  },
  {
   "attachments": {},
   "cell_type": "markdown",
   "metadata": {},
   "source": [
    "What are we detecting? If the right example of the pair is more deceptive.\n",
    "\n",
    "Now it's only deceptive if\n",
    "- it was asked to lie\n",
    "- it knows the truth\n",
    "- it gave the wrong answer (around 10% of the time)( it's hard to get these models to lie by encouragement rather than instruction)\n"
   ]
  },
  {
   "cell_type": "code",
   "execution_count": 8,
   "metadata": {},
   "outputs": [],
   "source": [
    "def bool2switch(x):\n",
    "    \"\"\"[0,1]->[-1,1]\"\"\"\n",
    "    return x*2-1\n",
    "\n",
    "def switch2bool(x):\n",
    "    \"\"\"[-1,1]->[0,1]\"\"\"\n",
    "    return (x+1)/2\n",
    "\n",
    "assert switch2bool(-1)==0\n",
    "assert switch2bool(1)==1\n",
    "assert bool2switch(1)==1\n",
    "assert bool2switch(0)==-1\n",
    "\n",
    "\n",
    "def make_y(df):\n",
    "    # label: is ans2 more true than ans1\n",
    "    # so we ask does ans2 have greater probabiliy on \"positive\" than ans1\n",
    "    # then, when the right answer is negative we swap the sign\n",
    "    true_switch_sign = df.true_answer*2-1\n",
    "    distance = (df.ans2-df.ans1) * true_switch_sign\n",
    "    # y = bool2switch(distance>0)\n",
    "    return distance"
   ]
  },
  {
   "cell_type": "code",
   "execution_count": 9,
   "metadata": {},
   "outputs": [],
   "source": [
    "\n",
    "\n",
    "class imdbHSDataModule(pl.LightningDataModule):\n",
    "\n",
    "    def __init__(self,\n",
    "                 ds,\n",
    "                 batch_size=32,\n",
    "                ):\n",
    "        super().__init__()\n",
    "        self.save_hyperparameters(ignore=[\"ds\"])\n",
    "        self.ds = ds.shuffle(seed=42)\n",
    "\n",
    "    def setup(self, stage: str):\n",
    "        h = self.hparams\n",
    "        \n",
    "        # extract data set into N-Dim tensors and 1-d dataframe\n",
    "        self.ds_hs = (\n",
    "            self.ds.select_columns(['hs1', 'hs2'])\n",
    "            .with_format(\"numpy\")\n",
    "        )\n",
    "        self.df = ds2df(self.ds)\n",
    "        \n",
    "        y_cls = make_y(self.df)\n",
    "        \n",
    "        self.y = y_cls.values\n",
    "        self.df['y'] = y_cls\n",
    "        \n",
    "        b = len(self.ds_hs)\n",
    "        self.hs1 = self.ds_hs['hs1']\n",
    "        self.hs2 = self.ds_hs['hs2']\n",
    "        self.ans1 = self.df['ans1'].values\n",
    "        self.ans2 = self.df['ans2'].values\n",
    "\n",
    "        # let's create a simple 50/50 train split (the data is already randomized)\n",
    "        n = len(self.y)\n",
    "        \n",
    "        self.val_split = vs = int(n * 0.5)\n",
    "        self.test_split = ts = int(n * 0.75)\n",
    "        hs1_train, hs2_train, y_train = self.hs1[:vs], self.hs2[:vs], self.y[:vs]\n",
    "        hs1_val, hs2_val, y_val = self.hs1[vs:ts], self.hs2[vs:ts], self.y[vs:ts]\n",
    "        hs1_test, hs2_test, y_test = self.hs1[ts:],self. hs2[ts:], self.y[ts:]\n",
    "        \n",
    "        \n",
    "        to_ds = lambda x0, x1, y: TensorDataset(torch.from_numpy(x0).float(),\n",
    "                                      torch.from_numpy(x1).float(),\n",
    "                                      torch.from_numpy(y).float()\n",
    "                                      )\n",
    "\n",
    "        self.ds_train = to_ds(hs1_train, hs2_train, y_train)\n",
    "\n",
    "        self.ds_val = to_ds(hs1_val, hs2_val, y_val)\n",
    "\n",
    "        self.ds_test = to_ds(hs1_test, hs2_test, y_test)\n",
    "\n",
    "    def train_dataloader(self):\n",
    "        return DataLoader(self.ds_train,\n",
    "                          batch_size=self.hparams.batch_size,\n",
    "                          drop_last=True,\n",
    "                          shuffle=True)\n",
    "\n",
    "    def val_dataloader(self):\n",
    "        return DataLoader(self.ds_val, batch_size=self.hparams.batch_size, drop_last=True,)\n",
    "\n",
    "    def test_dataloader(self):\n",
    "        return DataLoader(self.ds_test, batch_size=self.hparams.batch_size, drop_last=True,)\n"
   ]
  },
  {
   "cell_type": "code",
   "execution_count": 10,
   "metadata": {},
   "outputs": [
    {
     "name": "stderr",
     "output_type": "stream",
     "text": [
      "Loading cached shuffled indices for dataset at /home/ubuntu/Documents/mjc/elk/discovering_latent_knowledge/notebooks/.ds/HuggingFaceH4starchat_beta-None-N_4000-ns_3-mc_0.2-0392de/cache-d2e6e75d77e7d362.arrow\n"
     ]
    },
    {
     "data": {
      "text/plain": [
       "[tensor([[-0.3183, -0.4652,  0.0745,  ...,  1.3477, -0.2627,  0.7921],\n",
       "         [-0.4294, -0.1230,  0.0807,  ...,  0.7166,  0.1101,  0.8898],\n",
       "         [ 0.3371,  0.3991,  0.7624,  ...,  0.2785,  0.5383, -0.4198],\n",
       "         ...,\n",
       "         [ 0.1074,  0.5301,  1.3525,  ..., -0.8148,  0.6067, -0.7759],\n",
       "         [ 1.0637, -0.7855,  0.0720,  ...,  0.4105,  1.8929, -1.1767],\n",
       "         [ 0.9806, -0.4032, -0.4184,  ..., -0.5028, -0.3047, -0.6138]]),\n",
       " tensor([[-0.2334,  0.0982, -0.5960,  ...,  2.0237, -1.4859, -0.7623],\n",
       "         [-0.0730, -0.1094, -0.8704,  ...,  0.5301, -0.0113,  0.2835],\n",
       "         [ 0.4460,  0.6174,  0.8704,  ...,  0.6133,  0.7591,  0.7976],\n",
       "         ...,\n",
       "         [ 0.7386,  0.6481,  1.0182,  ..., -0.6874,  0.0380, -0.0420],\n",
       "         [-0.6654,  0.7425,  0.5587,  ..., -1.1124,  0.7371,  0.5114],\n",
       "         [ 0.3258,  0.4263, -0.2558,  ...,  0.0133,  0.3065, -0.9664]]),\n",
       " tensor([ 0.1025,  0.1123,  0.2856, -0.1008,  0.2114, -0.1273,  0.1987,  0.1172,\n",
       "         -0.3511, -0.1729, -0.1597,  0.1396,  0.5398,  0.1626, -0.1624,  0.2815,\n",
       "          0.1470, -0.1007,  0.1289, -0.2844, -0.4525, -0.6938, -0.1063, -0.2729,\n",
       "          0.1033, -0.3706,  0.1485, -0.1064,  0.1235,  0.4426, -0.1233,  0.1680,\n",
       "          0.1897,  0.1782, -0.2943, -0.1934, -0.1323, -0.1216, -0.1508,  0.2879,\n",
       "          0.1565,  0.1206, -0.1230,  0.2051, -0.4170,  0.4108,  0.1429,  0.1055,\n",
       "         -0.1641,  0.1099,  0.2368, -0.1099, -0.1079, -0.1421, -0.1077,  0.2800,\n",
       "         -0.3879,  0.2588, -0.1646, -0.1025, -0.1030, -0.1179,  0.2183, -0.3185,\n",
       "          0.1753,  0.3848,  0.2501, -0.1035,  0.4324, -0.2002,  0.1055, -0.2576,\n",
       "         -0.2134,  0.1605,  0.2734,  0.3738,  0.1191,  0.3086,  0.2537, -0.3545,\n",
       "          0.6321,  0.2266, -0.2004, -0.2163, -0.3413, -0.3123,  0.1296, -0.2124,\n",
       "          0.1792,  0.1079,  0.2451, -0.1164,  0.1631,  0.1885,  0.1162,  0.2882,\n",
       "         -0.2031, -0.1616,  0.1235,  0.2335, -0.3353,  0.1943, -0.1299,  0.3494,\n",
       "          0.1870, -0.2456,  0.1729,  0.2080, -0.1059, -0.2139,  0.3003, -0.1207,\n",
       "          0.1047,  0.1394, -0.1569, -0.1925,  0.3877,  0.3177,  0.1321,  0.1116,\n",
       "         -0.4789,  0.1099,  0.1226,  0.3635,  0.1240,  0.2388, -0.2114, -0.2713])]"
      ]
     },
     "execution_count": 10,
     "metadata": {},
     "output_type": "execute_result"
    }
   ],
   "source": [
    "batch_size = 128\n",
    "# test and cache\n",
    "dm = imdbHSDataModule(ds, batch_size=batch_size)\n",
    "dm.setup('train')\n",
    "\n",
    "dl_val = dm.val_dataloader()\n",
    "dl_train = dm.train_dataloader()\n",
    "b = next(iter(dl_train))\n",
    "b"
   ]
  },
  {
   "attachments": {},
   "cell_type": "markdown",
   "metadata": {},
   "source": [
    "# Data prep\n",
    "\n",
    "We do two inferences on the same inputs. Since we have dropout enabled, even during inference, we get two slightly different hidden states `hs1` and `hs2`, and two slightly different probabilities for our yes and no output tokens `p1` `p2`. We also have the true answer `t`\n",
    "\n",
    "So there are a few ways we can set up the problem. \n",
    "\n",
    "We can vary x:\n",
    "- `model(hs1)-model(hs2)=y`\n",
    "- `model(hs1-hs2)==y`\n",
    "\n",
    "And we can try differen't y's:\n",
    "- direction with a ranked loss. This could be unsupervised.\n",
    "- magnitude with a regression loss\n",
    "- vector (direction and magnitude) with a regression loss"
   ]
  },
  {
   "attachments": {},
   "cell_type": "markdown",
   "metadata": {},
   "source": [
    "# QC: Linear supervised probes\n",
    "\n",
    "\n",
    "Let's verify that the model's representations are good\n",
    "\n",
    "Before trying CCS, let's make sure there exists a direction that classifies examples as true vs false with high accuracy; if supervised logistic regression accuracy is bad, there's no hope of unsupervised CCS doing well.\n",
    "\n",
    "Note that because logistic regression is supervised we expect it to do better but to have worse generalisation that equivilent unsupervised methods. However in this case CSS is using a deeper model so it is more complicated.\n"
   ]
  },
  {
   "attachments": {},
   "cell_type": "markdown",
   "metadata": {},
   "source": [
    "## Try a classification of direction to truth"
   ]
  },
  {
   "cell_type": "code",
   "execution_count": 37,
   "metadata": {},
   "outputs": [],
   "source": [
    "# dm.y"
   ]
  },
  {
   "cell_type": "code",
   "execution_count": 34,
   "metadata": {},
   "outputs": [
    {
     "name": "stdout",
     "output_type": "stream",
     "text": [
      "split size 7041\n",
      "lr\n"
     ]
    },
    {
     "data": {
      "text/html": [
       "<style>#sk-container-id-1 {color: black;background-color: white;}#sk-container-id-1 pre{padding: 0;}#sk-container-id-1 div.sk-toggleable {background-color: white;}#sk-container-id-1 label.sk-toggleable__label {cursor: pointer;display: block;width: 100%;margin-bottom: 0;padding: 0.3em;box-sizing: border-box;text-align: center;}#sk-container-id-1 label.sk-toggleable__label-arrow:before {content: \"▸\";float: left;margin-right: 0.25em;color: #696969;}#sk-container-id-1 label.sk-toggleable__label-arrow:hover:before {color: black;}#sk-container-id-1 div.sk-estimator:hover label.sk-toggleable__label-arrow:before {color: black;}#sk-container-id-1 div.sk-toggleable__content {max-height: 0;max-width: 0;overflow: hidden;text-align: left;background-color: #f0f8ff;}#sk-container-id-1 div.sk-toggleable__content pre {margin: 0.2em;color: black;border-radius: 0.25em;background-color: #f0f8ff;}#sk-container-id-1 input.sk-toggleable__control:checked~div.sk-toggleable__content {max-height: 200px;max-width: 100%;overflow: auto;}#sk-container-id-1 input.sk-toggleable__control:checked~label.sk-toggleable__label-arrow:before {content: \"▾\";}#sk-container-id-1 div.sk-estimator input.sk-toggleable__control:checked~label.sk-toggleable__label {background-color: #d4ebff;}#sk-container-id-1 div.sk-label input.sk-toggleable__control:checked~label.sk-toggleable__label {background-color: #d4ebff;}#sk-container-id-1 input.sk-hidden--visually {border: 0;clip: rect(1px 1px 1px 1px);clip: rect(1px, 1px, 1px, 1px);height: 1px;margin: -1px;overflow: hidden;padding: 0;position: absolute;width: 1px;}#sk-container-id-1 div.sk-estimator {font-family: monospace;background-color: #f0f8ff;border: 1px dotted black;border-radius: 0.25em;box-sizing: border-box;margin-bottom: 0.5em;}#sk-container-id-1 div.sk-estimator:hover {background-color: #d4ebff;}#sk-container-id-1 div.sk-parallel-item::after {content: \"\";width: 100%;border-bottom: 1px solid gray;flex-grow: 1;}#sk-container-id-1 div.sk-label:hover label.sk-toggleable__label {background-color: #d4ebff;}#sk-container-id-1 div.sk-serial::before {content: \"\";position: absolute;border-left: 1px solid gray;box-sizing: border-box;top: 0;bottom: 0;left: 50%;z-index: 0;}#sk-container-id-1 div.sk-serial {display: flex;flex-direction: column;align-items: center;background-color: white;padding-right: 0.2em;padding-left: 0.2em;position: relative;}#sk-container-id-1 div.sk-item {position: relative;z-index: 1;}#sk-container-id-1 div.sk-parallel {display: flex;align-items: stretch;justify-content: center;background-color: white;position: relative;}#sk-container-id-1 div.sk-item::before, #sk-container-id-1 div.sk-parallel-item::before {content: \"\";position: absolute;border-left: 1px solid gray;box-sizing: border-box;top: 0;bottom: 0;left: 50%;z-index: -1;}#sk-container-id-1 div.sk-parallel-item {display: flex;flex-direction: column;z-index: 1;position: relative;background-color: white;}#sk-container-id-1 div.sk-parallel-item:first-child::after {align-self: flex-end;width: 50%;}#sk-container-id-1 div.sk-parallel-item:last-child::after {align-self: flex-start;width: 50%;}#sk-container-id-1 div.sk-parallel-item:only-child::after {width: 0;}#sk-container-id-1 div.sk-dashed-wrapped {border: 1px dashed gray;margin: 0 0.4em 0.5em 0.4em;box-sizing: border-box;padding-bottom: 0.4em;background-color: white;}#sk-container-id-1 div.sk-label label {font-family: monospace;font-weight: bold;display: inline-block;line-height: 1.2em;}#sk-container-id-1 div.sk-label-container {text-align: center;}#sk-container-id-1 div.sk-container {/* jupyter's `normalize.less` sets `[hidden] { display: none; }` but bootstrap.min.css set `[hidden] { display: none !important; }` so we also need the `!important` here to be able to override the default hidden behavior on the sphinx rendered scikit-learn.org. See: https://github.com/scikit-learn/scikit-learn/issues/21755 */display: inline-block !important;position: relative;}#sk-container-id-1 div.sk-text-repr-fallback {display: none;}</style><div id=\"sk-container-id-1\" class=\"sk-top-container\"><div class=\"sk-text-repr-fallback\"><pre>LogisticRegression(class_weight=&#x27;balanced&#x27;, max_iter=380)</pre><b>In a Jupyter environment, please rerun this cell to show the HTML representation or trust the notebook. <br />On GitHub, the HTML representation is unable to render, please try loading this page with nbviewer.org.</b></div><div class=\"sk-container\" hidden><div class=\"sk-item\"><div class=\"sk-estimator sk-toggleable\"><input class=\"sk-toggleable__control sk-hidden--visually\" id=\"sk-estimator-id-1\" type=\"checkbox\" checked><label for=\"sk-estimator-id-1\" class=\"sk-toggleable__label sk-toggleable__label-arrow\">LogisticRegression</label><div class=\"sk-toggleable__content\"><pre>LogisticRegression(class_weight=&#x27;balanced&#x27;, max_iter=380)</pre></div></div></div></div></div>"
      ],
      "text/plain": [
       "LogisticRegression(class_weight='balanced', max_iter=380)"
      ]
     },
     "execution_count": 34,
     "metadata": {},
     "output_type": "execute_result"
    }
   ],
   "source": [
    "n = len(df)\n",
    "\n",
    "# Define X and y\n",
    "X = dm.hs1-dm.hs2\n",
    "y = dm.y>0\n",
    "\n",
    "# split\n",
    "n = len(y)\n",
    "max_rows = 1000\n",
    "print('split size', n//2)\n",
    "X_train, X_test = X[:n//2], X[n//2:]\n",
    "y_train, y_test = y[:n//2], y[n//2:]\n",
    "X_train = X_train[:max_rows]\n",
    "y_train = y_train[:max_rows]\n",
    "X_test = X_test[:max_rows]\n",
    "y_test = y_test[:max_rows]\n",
    "\n",
    "# scale\n",
    "scaler = RobustScaler()\n",
    "scaler.fit(X_train)\n",
    "X_train2 = scaler.transform(X_train)\n",
    "X_test2 = scaler.transform(X_test)\n",
    "print('lr')\n",
    "\n",
    "lr = LogisticRegression(class_weight=\"balanced\", penalty=\"l2\", max_iter=380)\n",
    "lr.fit(X_train2, y_train>0)"
   ]
  },
  {
   "cell_type": "code",
   "execution_count": 35,
   "metadata": {},
   "outputs": [
    {
     "name": "stdout",
     "output_type": "stream",
     "text": [
      "Logistic cls acc: 100.00% [TRAIN]\n",
      "Logistic cls acc: 71.20% [TEST]\n",
      "test acc w lie 71.72%\n",
      "test acc wo lie 70.30%\n"
     ]
    }
   ],
   "source": [
    "print(\"Logistic cls acc: {:2.2%} [TRAIN]\".format(lr.score(X_train2, y_train>0)))\n",
    "print(\"Logistic cls acc: {:2.2%} [TEST]\".format(lr.score(X_test2, y_test>0)))\n",
    "\n",
    "m = df['lie'][n//2:][:max_rows]\n",
    "y_test_pred = lr.predict(X_test2)\n",
    "acc_w_lie = ((y_test_pred[m]>0)==(y_test[m]>0)).mean()\n",
    "acc_wo_lie = ((y_test_pred[~m]>0)==(y_test[~m]>0)).mean()\n",
    "print(f'test acc w lie {acc_w_lie:2.2%}')\n",
    "print(f'test acc wo lie {acc_wo_lie:2.2%}')"
   ]
  },
  {
   "cell_type": "code",
   "execution_count": 38,
   "metadata": {},
   "outputs": [
    {
     "data": {
      "text/plain": [
       "0.7116058990248355"
      ]
     },
     "execution_count": 38,
     "metadata": {},
     "output_type": "execute_result"
    }
   ],
   "source": [
    "primary_baseline = roc_auc_score(y_test>0, y_test_pred)\n",
    "primary_baseline"
   ]
  },
  {
   "attachments": {},
   "cell_type": "markdown",
   "metadata": {},
   "source": [
    "# LightningModel"
   ]
  },
  {
   "cell_type": "code",
   "execution_count": 39,
   "metadata": {},
   "outputs": [],
   "source": [
    "class MLPProbe(nn.Module):\n",
    "    def __init__(self, c_in, depth=0, hs=16, dropout=0):\n",
    "        super().__init__()\n",
    "\n",
    "        layers = [\n",
    "            nn.BatchNorm1d(c_in, affine=False),  # this will normalise the inputs\n",
    "            nn.Dropout1d(dropout),\n",
    "            nn.Linear(c_in, hs*(depth+1)),\n",
    "            nn.ReLU(),\n",
    "            nn.BatchNorm1d(hs*(depth+1)), \n",
    "            # nn.Dropout1d(dropout),\n",
    "        ]\n",
    "        for i in range(depth):\n",
    "            layers += [\n",
    "                nn.Linear(hs*(depth-i+1), hs*(depth-i)),\n",
    "                nn.ReLU(),\n",
    "                nn.BatchNorm1d(hs*(depth-i)), \n",
    "                \n",
    "            ]\n",
    "        layers += [nn.Dropout1d(dropout), nn.Linear(hs, 1)]\n",
    "        self.net = nn.Sequential(*layers)\n",
    "\n",
    "    def forward(self, x):\n",
    "        return self.net(x)\n"
   ]
  },
  {
   "cell_type": "code",
   "execution_count": null,
   "metadata": {},
   "outputs": [],
   "source": []
  },
  {
   "cell_type": "code",
   "execution_count": 74,
   "metadata": {},
   "outputs": [],
   "source": [
    "from pytorch_optimizer import Ranger21\n",
    "import torchmetrics\n",
    "\n",
    "from torchmetrics import Metric, MetricCollection, Accuracy, AUROC\n",
    "    \n",
    "class CSS(pl.LightningModule):\n",
    "    def __init__(self, c_in, total_steps, depth=1, hs=16, lr=4e-3, weight_decay=1e-9, dropout=0):\n",
    "        super().__init__()\n",
    "        self.probe = MLPProbe(c_in, depth=depth, dropout=dropout, hs=hs)\n",
    "        self.save_hyperparameters()\n",
    "        \n",
    "        self.loss_fn = nn.SmoothL1Loss()\n",
    "        \n",
    "        # metrics for each stage\n",
    "        metrics_template = MetricCollection({\n",
    "            'acc': Accuracy(task=\"binary\"), \n",
    "            'auroc': AUROC(task=\"binary\")\n",
    "        })\n",
    "        self.metrics = torch.nn.ModuleDict({\n",
    "            f'metrics_{stage}': metrics_template.clone(prefix=stage+'/') for stage in ['train', 'val', 'test']\n",
    "        })\n",
    "        \n",
    "    def forward(self, x):\n",
    "        return self.probe(x).squeeze(1)\n",
    "        \n",
    "    def _step(self, batch, batch_idx, stage='train'):\n",
    "        x0, x1, y = batch\n",
    "        ypred0 = self(x0)\n",
    "        ypred1 = self(x1)\n",
    "        \n",
    "        if stage=='pred':\n",
    "            return (ypred1-ypred0).float()\n",
    "        \n",
    "        loss = self.loss_fn(ypred1-ypred0, y)\n",
    "        self.log(f\"{stage}/loss\", loss)\n",
    "        \n",
    "        m = self.metrics[f'metrics_{stage}']\n",
    "        \n",
    "        y_cls = switch2bool(ypred1-ypred0)\n",
    "        m(y_cls, y>0.)\n",
    "        self.log_dict(m, on_epoch=True, on_step=False)\n",
    "        return loss\n",
    "    \n",
    "    def training_step(self, batch, batch_idx=0, dataloader_idx=0):\n",
    "        return self._step(batch, batch_idx)\n",
    "    \n",
    "    def validation_step(self, batch, batch_idx=0):\n",
    "        return self._step(batch, batch_idx, stage='val')\n",
    "    \n",
    "    def predict_step(self, batch, batch_idx=0, dataloader_idx=0):\n",
    "        return self._step(batch, batch_idx, stage='pred').cpu().detach()\n",
    "    \n",
    "    def test_step(self, batch, batch_idx=0, dataloader_idx=0):\n",
    "        return self._step(batch, batch_idx, stage='test')\n",
    "    \n",
    "    def configure_optimizers(self):\n",
    "        \"\"\"use ranger21 from  https://github.com/kozistr/pytorch_optimizer\"\"\"\n",
    "        optimizer = Ranger21(\n",
    "            self.parameters(),\n",
    "            lr=self.hparams.lr,\n",
    "            weight_decay=self.hparams.weight_decay,       \n",
    "            num_iterations=self.hparams.total_steps,\n",
    "        )\n",
    "        return optimizer\n",
    "    \n",
    "    "
   ]
  },
  {
   "attachments": {},
   "cell_type": "markdown",
   "metadata": {},
   "source": [
    "# Run"
   ]
  },
  {
   "cell_type": "code",
   "execution_count": 75,
   "metadata": {},
   "outputs": [],
   "source": [
    "# quiet please\n",
    "torch.set_float32_matmul_precision('medium')\n",
    "\n",
    "import warnings\n",
    "warnings.filterwarnings(\"ignore\", \".*does not have many workers.*\")\n",
    "warnings.filterwarnings(\"ignore\", \".*F-score.*\")"
   ]
  },
  {
   "attachments": {},
   "cell_type": "markdown",
   "metadata": {},
   "source": [
    "## Prep dataloader/set"
   ]
  },
  {
   "cell_type": "code",
   "execution_count": 76,
   "metadata": {},
   "outputs": [
    {
     "data": {
      "text/plain": [
       "[tensor([[-0.9450, -0.3779,  0.3601,  ..., -0.6250,  0.4134,  0.1031],\n",
       "         [-0.7116, -0.3796, -1.0790,  ...,  0.5132, -0.9416,  0.2306],\n",
       "         [-1.3557, -1.2416, -0.5029,  ..., -0.4144, -0.5368,  0.3622],\n",
       "         ...,\n",
       "         [ 0.4675, -0.2540,  0.3787,  ..., -1.1644, -0.9230, -0.3506],\n",
       "         [-0.1198, -0.6124, -0.5650,  ..., -0.1882,  0.9565,  0.0095],\n",
       "         [ 0.7481, -0.6164,  0.6655,  ...,  1.2649,  0.4873, -0.7752]]),\n",
       " tensor([[-1.1098e+00, -1.5195e+00, -9.3124e-02,  ..., -4.1046e-01,\n",
       "          -3.5873e-01, -5.1272e-01],\n",
       "         [-5.0308e-01, -5.1180e-01, -1.4639e+00,  ...,  6.3926e-01,\n",
       "           9.9000e-02, -7.4602e-02],\n",
       "         [-1.1847e+00, -2.0796e-01,  2.3840e-01,  ...,  8.8398e-01,\n",
       "           4.4460e-01,  5.6290e-01],\n",
       "         ...,\n",
       "         [ 5.2181e-01,  3.1062e-01, -1.2417e-03,  ..., -7.9526e-01,\n",
       "           2.0759e-02, -1.0715e-01],\n",
       "         [ 9.4468e-01, -7.2448e-01,  2.1481e-01,  ..., -1.0201e+00,\n",
       "          -3.8474e-01,  3.9742e-01],\n",
       "         [ 1.0751e+00, -8.5841e-02,  9.2317e-01,  ...,  1.1508e+00,\n",
       "           7.6507e-01,  8.1384e-02]]),\n",
       " tensor([ 0.2622,  0.2314,  0.1519, -0.3613, -0.2791,  0.3620,  0.1118, -0.1221,\n",
       "          0.2417, -0.1782, -0.2729, -0.1224,  0.1025, -0.1714,  0.1831,  0.2906,\n",
       "          0.3589, -0.2285, -0.3047,  0.4170, -0.2590,  0.1107, -0.2156,  0.1992,\n",
       "          0.1167, -0.3290,  0.2276, -0.1982,  0.1821,  0.1556, -0.2114, -0.1538,\n",
       "         -0.1162,  0.1460,  0.3401,  0.2249,  0.2043,  0.3530,  0.1030, -0.1471,\n",
       "         -0.3853, -0.1460,  0.2202, -0.2781, -0.1089, -0.2715, -0.3265,  0.2134,\n",
       "         -0.1913,  0.2297, -0.2051,  0.4188,  0.1531,  0.1377, -0.4832, -0.3576,\n",
       "         -0.4222, -0.2007,  0.2117,  0.1064, -0.5756,  0.1312, -0.1919,  0.2263,\n",
       "          0.1018, -0.1677, -0.1904,  0.1284,  0.2539,  0.1693, -0.1882, -0.3806,\n",
       "          0.1216, -0.1592,  0.2031, -0.2703,  0.1601, -0.2004,  0.3628, -0.1831,\n",
       "          0.2234, -0.3159, -0.3882,  0.1074, -0.2119, -0.3870, -0.2463, -0.1790,\n",
       "          0.1992, -0.2090, -0.2898,  0.4387,  0.1436,  0.1204, -0.2612, -0.1240,\n",
       "         -0.2751, -0.1682,  0.1392, -0.2146, -0.2615, -0.1489,  0.1279,  0.1289,\n",
       "          0.2393, -0.1718,  0.1306,  0.3646,  0.1003, -0.2971,  0.2500, -0.6003,\n",
       "          0.2095, -0.3428, -0.1914,  0.1416,  0.1079, -0.1777,  0.2335, -0.1162,\n",
       "         -0.1797, -0.1982,  0.7109,  0.1467,  0.1478,  0.1448,  0.2307, -0.2552])]"
      ]
     },
     "execution_count": 76,
     "metadata": {},
     "output_type": "execute_result"
    }
   ],
   "source": [
    "dl_train = dm.train_dataloader()\n",
    "dl_val = dm.val_dataloader()\n",
    "b = next(iter(dl_train))\n",
    "b"
   ]
  },
  {
   "cell_type": "code",
   "execution_count": 77,
   "metadata": {},
   "outputs": [
    {
     "name": "stdout",
     "output_type": "stream",
     "text": [
      "torch.Size([128, 116736])\n"
     ]
    },
    {
     "data": {
      "text/plain": [
       "CSS(\n",
       "  (probe): MLPProbe(\n",
       "    (net): Sequential(\n",
       "      (0): BatchNorm1d(116736, eps=1e-05, momentum=0.1, affine=False, track_running_stats=True)\n",
       "      (1): Dropout1d(p=0, inplace=False)\n",
       "      (2): Linear(in_features=116736, out_features=84, bias=True)\n",
       "      (3): ReLU()\n",
       "      (4): BatchNorm1d(84, eps=1e-05, momentum=0.1, affine=True, track_running_stats=True)\n",
       "      (5): Linear(in_features=84, out_features=72, bias=True)\n",
       "      (6): ReLU()\n",
       "      (7): BatchNorm1d(72, eps=1e-05, momentum=0.1, affine=True, track_running_stats=True)\n",
       "      (8): Linear(in_features=72, out_features=60, bias=True)\n",
       "      (9): ReLU()\n",
       "      (10): BatchNorm1d(60, eps=1e-05, momentum=0.1, affine=True, track_running_stats=True)\n",
       "      (11): Linear(in_features=60, out_features=48, bias=True)\n",
       "      (12): ReLU()\n",
       "      (13): BatchNorm1d(48, eps=1e-05, momentum=0.1, affine=True, track_running_stats=True)\n",
       "      (14): Linear(in_features=48, out_features=36, bias=True)\n",
       "      (15): ReLU()\n",
       "      (16): BatchNorm1d(36, eps=1e-05, momentum=0.1, affine=True, track_running_stats=True)\n",
       "      (17): Linear(in_features=36, out_features=24, bias=True)\n",
       "      (18): ReLU()\n",
       "      (19): BatchNorm1d(24, eps=1e-05, momentum=0.1, affine=True, track_running_stats=True)\n",
       "      (20): Linear(in_features=24, out_features=12, bias=True)\n",
       "      (21): ReLU()\n",
       "      (22): BatchNorm1d(12, eps=1e-05, momentum=0.1, affine=True, track_running_stats=True)\n",
       "      (23): Dropout1d(p=0, inplace=False)\n",
       "      (24): Linear(in_features=12, out_features=1, bias=True)\n",
       "    )\n",
       "  )\n",
       "  (loss_fn): SmoothL1Loss()\n",
       "  (metrics): ModuleDict(\n",
       "    (metrics_train): MetricCollection(\n",
       "      (acc): BinaryAccuracy()\n",
       "      (auroc): BinaryAUROC(),\n",
       "      prefix=train/\n",
       "    )\n",
       "    (metrics_val): MetricCollection(\n",
       "      (acc): BinaryAccuracy()\n",
       "      (auroc): BinaryAUROC(),\n",
       "      prefix=val/\n",
       "    )\n",
       "    (metrics_test): MetricCollection(\n",
       "      (acc): BinaryAccuracy()\n",
       "      (auroc): BinaryAUROC(),\n",
       "      prefix=test/\n",
       "    )\n",
       "  )\n",
       ")"
      ]
     },
     "execution_count": 77,
     "metadata": {},
     "output_type": "execute_result"
    }
   ],
   "source": [
    "# init the model\n",
    "max_epochs = 22\n",
    "c_in = b[0].shape[-1]\n",
    "print(b[0].shape)\n",
    "net = CSS(c_in=c_in, total_steps=max_epochs*len(dl_train), depth=6, hs=12, lr=3e-3, \n",
    "        #   weight_decay=1e-4, \n",
    "        #   dropout=0.1,\n",
    "          )\n",
    "net"
   ]
  },
  {
   "cell_type": "code",
   "execution_count": 78,
   "metadata": {},
   "outputs": [],
   "source": [
    "# # DEBUG\n",
    "# with torch.no_grad():\n",
    "#     b = next(iter(dl_train))\n",
    "#     b2 = [bb.to(net.device) for bb in b]\n",
    "#     y = net(b2[0])\n",
    "# y.shape, b[2].shape"
   ]
  },
  {
   "cell_type": "code",
   "execution_count": 79,
   "metadata": {},
   "outputs": [],
   "source": [
    "# # DEBUG\n",
    "# trainer = pl.Trainer(fast_dev_run=2)\n",
    "# trainer.fit(model=net, train_dataloaders=dl_train)"
   ]
  },
  {
   "cell_type": "code",
   "execution_count": 80,
   "metadata": {},
   "outputs": [
    {
     "name": "stderr",
     "output_type": "stream",
     "text": [
      "Using bfloat16 Automatic Mixed Precision (AMP)\n",
      "GPU available: True (cuda), used: True\n",
      "TPU available: False, using: 0 TPU cores\n",
      "IPU available: False, using: 0 IPUs\n",
      "HPU available: False, using: 0 HPUs\n",
      "LOCAL_RANK: 0 - CUDA_VISIBLE_DEVICES: [0]\n",
      "\n",
      "  | Name    | Type         | Params\n",
      "-----------------------------------------\n",
      "0 | probe   | MLPProbe     | 9.8 M \n",
      "1 | loss_fn | SmoothL1Loss | 0     \n",
      "2 | metrics | ModuleDict   | 0     \n",
      "-----------------------------------------\n",
      "9.8 M     Trainable params\n",
      "0         Non-trainable params\n",
      "9.8 M     Total params\n",
      "39.292    Total estimated model params size (MB)\n"
     ]
    },
    {
     "data": {
      "application/vnd.jupyter.widget-view+json": {
       "model_id": "eb83809b772845918e235f70a000d5aa",
       "version_major": 2,
       "version_minor": 0
      },
      "text/plain": [
       "Sanity Checking: 0it [00:00, ?it/s]"
      ]
     },
     "metadata": {},
     "output_type": "display_data"
    },
    {
     "data": {
      "application/vnd.jupyter.widget-view+json": {
       "model_id": "ed2816f7ba4e4407a7b180869d1885d1",
       "version_major": 2,
       "version_minor": 0
      },
      "text/plain": [
       "Training: 0it [00:00, ?it/s]"
      ]
     },
     "metadata": {},
     "output_type": "display_data"
    },
    {
     "data": {
      "application/vnd.jupyter.widget-view+json": {
       "model_id": "b06c378eb6534b089cfb01b75f14cd64",
       "version_major": 2,
       "version_minor": 0
      },
      "text/plain": [
       "Validation: 0it [00:00, ?it/s]"
      ]
     },
     "metadata": {},
     "output_type": "display_data"
    },
    {
     "data": {
      "application/vnd.jupyter.widget-view+json": {
       "model_id": "8b60b7c3d06d472783f5669e8006088b",
       "version_major": 2,
       "version_minor": 0
      },
      "text/plain": [
       "Validation: 0it [00:00, ?it/s]"
      ]
     },
     "metadata": {},
     "output_type": "display_data"
    },
    {
     "data": {
      "application/vnd.jupyter.widget-view+json": {
       "model_id": "48473869d38949a0949f07e0bb67841e",
       "version_major": 2,
       "version_minor": 0
      },
      "text/plain": [
       "Validation: 0it [00:00, ?it/s]"
      ]
     },
     "metadata": {},
     "output_type": "display_data"
    },
    {
     "data": {
      "application/vnd.jupyter.widget-view+json": {
       "model_id": "53fee89e35354ef496a5b6d2687a63b2",
       "version_major": 2,
       "version_minor": 0
      },
      "text/plain": [
       "Validation: 0it [00:00, ?it/s]"
      ]
     },
     "metadata": {},
     "output_type": "display_data"
    },
    {
     "data": {
      "application/vnd.jupyter.widget-view+json": {
       "model_id": "efa3c00053fb4af0a323d194bfe4afab",
       "version_major": 2,
       "version_minor": 0
      },
      "text/plain": [
       "Validation: 0it [00:00, ?it/s]"
      ]
     },
     "metadata": {},
     "output_type": "display_data"
    },
    {
     "data": {
      "application/vnd.jupyter.widget-view+json": {
       "model_id": "bc1ef58d930a4960bcac5dfe144d0112",
       "version_major": 2,
       "version_minor": 0
      },
      "text/plain": [
       "Validation: 0it [00:00, ?it/s]"
      ]
     },
     "metadata": {},
     "output_type": "display_data"
    },
    {
     "data": {
      "application/vnd.jupyter.widget-view+json": {
       "model_id": "fefb3b593dfc4a32941759a7688ec1e6",
       "version_major": 2,
       "version_minor": 0
      },
      "text/plain": [
       "Validation: 0it [00:00, ?it/s]"
      ]
     },
     "metadata": {},
     "output_type": "display_data"
    },
    {
     "data": {
      "application/vnd.jupyter.widget-view+json": {
       "model_id": "f22dbb3ada5846e38a6744528ec55d88",
       "version_major": 2,
       "version_minor": 0
      },
      "text/plain": [
       "Validation: 0it [00:00, ?it/s]"
      ]
     },
     "metadata": {},
     "output_type": "display_data"
    },
    {
     "data": {
      "application/vnd.jupyter.widget-view+json": {
       "model_id": "1a40e58bea764e5382276089b40e55c0",
       "version_major": 2,
       "version_minor": 0
      },
      "text/plain": [
       "Validation: 0it [00:00, ?it/s]"
      ]
     },
     "metadata": {},
     "output_type": "display_data"
    },
    {
     "data": {
      "application/vnd.jupyter.widget-view+json": {
       "model_id": "e68f8ae748c849bd934f3a631af2bf88",
       "version_major": 2,
       "version_minor": 0
      },
      "text/plain": [
       "Validation: 0it [00:00, ?it/s]"
      ]
     },
     "metadata": {},
     "output_type": "display_data"
    },
    {
     "data": {
      "application/vnd.jupyter.widget-view+json": {
       "model_id": "bad8acfbcf214c309bb0734781995f96",
       "version_major": 2,
       "version_minor": 0
      },
      "text/plain": [
       "Validation: 0it [00:00, ?it/s]"
      ]
     },
     "metadata": {},
     "output_type": "display_data"
    },
    {
     "data": {
      "application/vnd.jupyter.widget-view+json": {
       "model_id": "e2b861523c3e4c888cf3787a53d83f4f",
       "version_major": 2,
       "version_minor": 0
      },
      "text/plain": [
       "Validation: 0it [00:00, ?it/s]"
      ]
     },
     "metadata": {},
     "output_type": "display_data"
    },
    {
     "data": {
      "application/vnd.jupyter.widget-view+json": {
       "model_id": "ca3b5a27cb3944d9ae9aa1e295e4a57a",
       "version_major": 2,
       "version_minor": 0
      },
      "text/plain": [
       "Validation: 0it [00:00, ?it/s]"
      ]
     },
     "metadata": {},
     "output_type": "display_data"
    },
    {
     "data": {
      "application/vnd.jupyter.widget-view+json": {
       "model_id": "38737fab17b5444c8cd6994afe8016d4",
       "version_major": 2,
       "version_minor": 0
      },
      "text/plain": [
       "Validation: 0it [00:00, ?it/s]"
      ]
     },
     "metadata": {},
     "output_type": "display_data"
    },
    {
     "data": {
      "application/vnd.jupyter.widget-view+json": {
       "model_id": "8b4224cc56a64856842a6cb62a765b50",
       "version_major": 2,
       "version_minor": 0
      },
      "text/plain": [
       "Validation: 0it [00:00, ?it/s]"
      ]
     },
     "metadata": {},
     "output_type": "display_data"
    },
    {
     "data": {
      "application/vnd.jupyter.widget-view+json": {
       "model_id": "4f151aad37744b95b30acdec059c9bf8",
       "version_major": 2,
       "version_minor": 0
      },
      "text/plain": [
       "Validation: 0it [00:00, ?it/s]"
      ]
     },
     "metadata": {},
     "output_type": "display_data"
    },
    {
     "data": {
      "application/vnd.jupyter.widget-view+json": {
       "model_id": "54a6c23564834de89018754f8b4465ee",
       "version_major": 2,
       "version_minor": 0
      },
      "text/plain": [
       "Validation: 0it [00:00, ?it/s]"
      ]
     },
     "metadata": {},
     "output_type": "display_data"
    },
    {
     "data": {
      "application/vnd.jupyter.widget-view+json": {
       "model_id": "14d579cd64f5423ebafbf338aa5f7399",
       "version_major": 2,
       "version_minor": 0
      },
      "text/plain": [
       "Validation: 0it [00:00, ?it/s]"
      ]
     },
     "metadata": {},
     "output_type": "display_data"
    },
    {
     "data": {
      "application/vnd.jupyter.widget-view+json": {
       "model_id": "86b418a8b6674eb6a32a4514c4665642",
       "version_major": 2,
       "version_minor": 0
      },
      "text/plain": [
       "Validation: 0it [00:00, ?it/s]"
      ]
     },
     "metadata": {},
     "output_type": "display_data"
    },
    {
     "data": {
      "application/vnd.jupyter.widget-view+json": {
       "model_id": "8384a93bebd84af598ef8e8b38bf6493",
       "version_major": 2,
       "version_minor": 0
      },
      "text/plain": [
       "Validation: 0it [00:00, ?it/s]"
      ]
     },
     "metadata": {},
     "output_type": "display_data"
    },
    {
     "data": {
      "application/vnd.jupyter.widget-view+json": {
       "model_id": "6315520bc0054b12b4e068f59861e5c2",
       "version_major": 2,
       "version_minor": 0
      },
      "text/plain": [
       "Validation: 0it [00:00, ?it/s]"
      ]
     },
     "metadata": {},
     "output_type": "display_data"
    },
    {
     "data": {
      "application/vnd.jupyter.widget-view+json": {
       "model_id": "edb192c134124cc69e2681f01dd5fed2",
       "version_major": 2,
       "version_minor": 0
      },
      "text/plain": [
       "Validation: 0it [00:00, ?it/s]"
      ]
     },
     "metadata": {},
     "output_type": "display_data"
    },
    {
     "name": "stderr",
     "output_type": "stream",
     "text": [
      "`Trainer.fit` stopped: `max_epochs=22` reached.\n"
     ]
    }
   ],
   "source": [
    "trainer = pl.Trainer(precision=\"bf16-mixed\",\n",
    "                     \n",
    "                     gradient_clip_val=20,\n",
    "                     max_epochs=max_epochs, log_every_n_steps=5)\n",
    "trainer.fit(model=net, train_dataloaders=dl_train, val_dataloaders=dl_val)"
   ]
  },
  {
   "attachments": {},
   "cell_type": "markdown",
   "metadata": {},
   "source": [
    "# Read hist"
   ]
  },
  {
   "cell_type": "code",
   "execution_count": 81,
   "metadata": {},
   "outputs": [
    {
     "data": {
      "text/html": [
       "<div>\n",
       "<style scoped>\n",
       "    .dataframe tbody tr th:only-of-type {\n",
       "        vertical-align: middle;\n",
       "    }\n",
       "\n",
       "    .dataframe tbody tr th {\n",
       "        vertical-align: top;\n",
       "    }\n",
       "\n",
       "    .dataframe thead th {\n",
       "        text-align: right;\n",
       "    }\n",
       "</style>\n",
       "<table border=\"1\" class=\"dataframe\">\n",
       "  <thead>\n",
       "    <tr style=\"text-align: right;\">\n",
       "      <th></th>\n",
       "      <th>train/loss</th>\n",
       "      <th>step</th>\n",
       "      <th>val/loss</th>\n",
       "      <th>val/acc</th>\n",
       "      <th>val/auroc</th>\n",
       "      <th>train/acc</th>\n",
       "      <th>train/auroc</th>\n",
       "    </tr>\n",
       "    <tr>\n",
       "      <th>epoch</th>\n",
       "      <th></th>\n",
       "      <th></th>\n",
       "      <th></th>\n",
       "      <th></th>\n",
       "      <th></th>\n",
       "      <th></th>\n",
       "      <th></th>\n",
       "    </tr>\n",
       "  </thead>\n",
       "  <tbody>\n",
       "    <tr>\n",
       "      <th>0</th>\n",
       "      <td>0.152073</td>\n",
       "      <td>32.846154</td>\n",
       "      <td>0.066456</td>\n",
       "      <td>0.543113</td>\n",
       "      <td>0.564091</td>\n",
       "      <td>0.515483</td>\n",
       "      <td>0.530646</td>\n",
       "    </tr>\n",
       "    <tr>\n",
       "      <th>1</th>\n",
       "      <td>0.041057</td>\n",
       "      <td>87.846154</td>\n",
       "      <td>0.028130</td>\n",
       "      <td>0.644965</td>\n",
       "      <td>0.702542</td>\n",
       "      <td>0.595312</td>\n",
       "      <td>0.626194</td>\n",
       "    </tr>\n",
       "    <tr>\n",
       "      <th>2</th>\n",
       "      <td>0.021361</td>\n",
       "      <td>142.846154</td>\n",
       "      <td>0.019107</td>\n",
       "      <td>0.768229</td>\n",
       "      <td>0.849991</td>\n",
       "      <td>0.737358</td>\n",
       "      <td>0.813089</td>\n",
       "    </tr>\n",
       "    <tr>\n",
       "      <th>3</th>\n",
       "      <td>0.013613</td>\n",
       "      <td>197.846154</td>\n",
       "      <td>0.015270</td>\n",
       "      <td>0.820602</td>\n",
       "      <td>0.896618</td>\n",
       "      <td>0.840909</td>\n",
       "      <td>0.921912</td>\n",
       "    </tr>\n",
       "    <tr>\n",
       "      <th>4</th>\n",
       "      <td>0.009049</td>\n",
       "      <td>252.846154</td>\n",
       "      <td>0.012938</td>\n",
       "      <td>0.850405</td>\n",
       "      <td>0.924455</td>\n",
       "      <td>0.894176</td>\n",
       "      <td>0.955458</td>\n",
       "    </tr>\n",
       "    <tr>\n",
       "      <th>5</th>\n",
       "      <td>0.007039</td>\n",
       "      <td>307.846154</td>\n",
       "      <td>0.013107</td>\n",
       "      <td>0.856192</td>\n",
       "      <td>0.923161</td>\n",
       "      <td>0.933381</td>\n",
       "      <td>0.980428</td>\n",
       "    </tr>\n",
       "    <tr>\n",
       "      <th>6</th>\n",
       "      <td>0.005365</td>\n",
       "      <td>362.846154</td>\n",
       "      <td>0.012027</td>\n",
       "      <td>0.869792</td>\n",
       "      <td>0.936523</td>\n",
       "      <td>0.943040</td>\n",
       "      <td>0.978900</td>\n",
       "    </tr>\n",
       "    <tr>\n",
       "      <th>7</th>\n",
       "      <td>0.004279</td>\n",
       "      <td>417.846154</td>\n",
       "      <td>0.012018</td>\n",
       "      <td>0.873553</td>\n",
       "      <td>0.935141</td>\n",
       "      <td>0.968608</td>\n",
       "      <td>0.995485</td>\n",
       "    </tr>\n",
       "    <tr>\n",
       "      <th>8</th>\n",
       "      <td>0.003476</td>\n",
       "      <td>472.846154</td>\n",
       "      <td>0.011479</td>\n",
       "      <td>0.879919</td>\n",
       "      <td>0.940457</td>\n",
       "      <td>0.975284</td>\n",
       "      <td>0.996658</td>\n",
       "    </tr>\n",
       "    <tr>\n",
       "      <th>9</th>\n",
       "      <td>0.003211</td>\n",
       "      <td>527.846154</td>\n",
       "      <td>0.011620</td>\n",
       "      <td>0.878183</td>\n",
       "      <td>0.940738</td>\n",
       "      <td>0.969602</td>\n",
       "      <td>0.985704</td>\n",
       "    </tr>\n",
       "    <tr>\n",
       "      <th>10</th>\n",
       "      <td>0.002793</td>\n",
       "      <td>582.846154</td>\n",
       "      <td>0.010897</td>\n",
       "      <td>0.883970</td>\n",
       "      <td>0.946368</td>\n",
       "      <td>0.984943</td>\n",
       "      <td>0.998121</td>\n",
       "    </tr>\n",
       "    <tr>\n",
       "      <th>11</th>\n",
       "      <td>0.002701</td>\n",
       "      <td>637.846154</td>\n",
       "      <td>0.011121</td>\n",
       "      <td>0.884549</td>\n",
       "      <td>0.943846</td>\n",
       "      <td>0.985937</td>\n",
       "      <td>0.998536</td>\n",
       "    </tr>\n",
       "    <tr>\n",
       "      <th>12</th>\n",
       "      <td>0.002647</td>\n",
       "      <td>692.846154</td>\n",
       "      <td>0.010790</td>\n",
       "      <td>0.886285</td>\n",
       "      <td>0.947210</td>\n",
       "      <td>0.986222</td>\n",
       "      <td>0.998431</td>\n",
       "    </tr>\n",
       "    <tr>\n",
       "      <th>13</th>\n",
       "      <td>0.002270</td>\n",
       "      <td>747.846154</td>\n",
       "      <td>0.010928</td>\n",
       "      <td>0.879340</td>\n",
       "      <td>0.945883</td>\n",
       "      <td>0.988210</td>\n",
       "      <td>0.998946</td>\n",
       "    </tr>\n",
       "    <tr>\n",
       "      <th>14</th>\n",
       "      <td>0.002593</td>\n",
       "      <td>802.846154</td>\n",
       "      <td>0.010812</td>\n",
       "      <td>0.888021</td>\n",
       "      <td>0.946888</td>\n",
       "      <td>0.989347</td>\n",
       "      <td>0.999185</td>\n",
       "    </tr>\n",
       "    <tr>\n",
       "      <th>15</th>\n",
       "      <td>0.002036</td>\n",
       "      <td>857.846154</td>\n",
       "      <td>0.010850</td>\n",
       "      <td>0.886863</td>\n",
       "      <td>0.947465</td>\n",
       "      <td>0.991477</td>\n",
       "      <td>0.999386</td>\n",
       "    </tr>\n",
       "    <tr>\n",
       "      <th>16</th>\n",
       "      <td>0.001752</td>\n",
       "      <td>912.846154</td>\n",
       "      <td>0.010583</td>\n",
       "      <td>0.894387</td>\n",
       "      <td>0.949956</td>\n",
       "      <td>0.993324</td>\n",
       "      <td>0.999786</td>\n",
       "    </tr>\n",
       "    <tr>\n",
       "      <th>17</th>\n",
       "      <td>0.001507</td>\n",
       "      <td>967.846154</td>\n",
       "      <td>0.010491</td>\n",
       "      <td>0.890914</td>\n",
       "      <td>0.950660</td>\n",
       "      <td>0.995739</td>\n",
       "      <td>0.999935</td>\n",
       "    </tr>\n",
       "    <tr>\n",
       "      <th>18</th>\n",
       "      <td>0.001486</td>\n",
       "      <td>1022.846154</td>\n",
       "      <td>0.010547</td>\n",
       "      <td>0.892072</td>\n",
       "      <td>0.950995</td>\n",
       "      <td>0.996733</td>\n",
       "      <td>0.999947</td>\n",
       "    </tr>\n",
       "    <tr>\n",
       "      <th>19</th>\n",
       "      <td>0.001472</td>\n",
       "      <td>1077.846154</td>\n",
       "      <td>0.010302</td>\n",
       "      <td>0.894387</td>\n",
       "      <td>0.952609</td>\n",
       "      <td>0.997301</td>\n",
       "      <td>0.999957</td>\n",
       "    </tr>\n",
       "    <tr>\n",
       "      <th>20</th>\n",
       "      <td>0.000830</td>\n",
       "      <td>1132.846154</td>\n",
       "      <td>0.010374</td>\n",
       "      <td>0.894676</td>\n",
       "      <td>0.952897</td>\n",
       "      <td>0.999290</td>\n",
       "      <td>0.999996</td>\n",
       "    </tr>\n",
       "    <tr>\n",
       "      <th>21</th>\n",
       "      <td>0.000758</td>\n",
       "      <td>1187.846154</td>\n",
       "      <td>0.010421</td>\n",
       "      <td>0.894676</td>\n",
       "      <td>0.952862</td>\n",
       "      <td>0.999290</td>\n",
       "      <td>0.999989</td>\n",
       "    </tr>\n",
       "  </tbody>\n",
       "</table>\n",
       "</div>"
      ],
      "text/plain": [
       "       train/loss         step  val/loss   val/acc  val/auroc  train/acc   \n",
       "epoch                                                                      \n",
       "0        0.152073    32.846154  0.066456  0.543113   0.564091   0.515483  \\\n",
       "1        0.041057    87.846154  0.028130  0.644965   0.702542   0.595312   \n",
       "2        0.021361   142.846154  0.019107  0.768229   0.849991   0.737358   \n",
       "3        0.013613   197.846154  0.015270  0.820602   0.896618   0.840909   \n",
       "4        0.009049   252.846154  0.012938  0.850405   0.924455   0.894176   \n",
       "5        0.007039   307.846154  0.013107  0.856192   0.923161   0.933381   \n",
       "6        0.005365   362.846154  0.012027  0.869792   0.936523   0.943040   \n",
       "7        0.004279   417.846154  0.012018  0.873553   0.935141   0.968608   \n",
       "8        0.003476   472.846154  0.011479  0.879919   0.940457   0.975284   \n",
       "9        0.003211   527.846154  0.011620  0.878183   0.940738   0.969602   \n",
       "10       0.002793   582.846154  0.010897  0.883970   0.946368   0.984943   \n",
       "11       0.002701   637.846154  0.011121  0.884549   0.943846   0.985937   \n",
       "12       0.002647   692.846154  0.010790  0.886285   0.947210   0.986222   \n",
       "13       0.002270   747.846154  0.010928  0.879340   0.945883   0.988210   \n",
       "14       0.002593   802.846154  0.010812  0.888021   0.946888   0.989347   \n",
       "15       0.002036   857.846154  0.010850  0.886863   0.947465   0.991477   \n",
       "16       0.001752   912.846154  0.010583  0.894387   0.949956   0.993324   \n",
       "17       0.001507   967.846154  0.010491  0.890914   0.950660   0.995739   \n",
       "18       0.001486  1022.846154  0.010547  0.892072   0.950995   0.996733   \n",
       "19       0.001472  1077.846154  0.010302  0.894387   0.952609   0.997301   \n",
       "20       0.000830  1132.846154  0.010374  0.894676   0.952897   0.999290   \n",
       "21       0.000758  1187.846154  0.010421  0.894676   0.952862   0.999290   \n",
       "\n",
       "       train/auroc  \n",
       "epoch               \n",
       "0         0.530646  \n",
       "1         0.626194  \n",
       "2         0.813089  \n",
       "3         0.921912  \n",
       "4         0.955458  \n",
       "5         0.980428  \n",
       "6         0.978900  \n",
       "7         0.995485  \n",
       "8         0.996658  \n",
       "9         0.985704  \n",
       "10        0.998121  \n",
       "11        0.998536  \n",
       "12        0.998431  \n",
       "13        0.998946  \n",
       "14        0.999185  \n",
       "15        0.999386  \n",
       "16        0.999786  \n",
       "17        0.999935  \n",
       "18        0.999947  \n",
       "19        0.999957  \n",
       "20        0.999996  \n",
       "21        0.999989  "
      ]
     },
     "execution_count": 81,
     "metadata": {},
     "output_type": "execute_result"
    }
   ],
   "source": [
    "# import pytorch_lightning as pl\n",
    "from lightning.pytorch.loggers.csv_logs import CSVLogger\n",
    "from pathlib import Path\n",
    "import pandas as pd\n",
    "\n",
    "def read_metrics_csv(metrics_file_path):\n",
    "    df_hist = pd.read_csv(metrics_file_path)\n",
    "    df_hist[\"epoch\"] = df_hist[\"epoch\"].ffill()\n",
    "    df_histe = df_hist.set_index(\"epoch\").groupby(\"epoch\").mean()\n",
    "    return df_histe\n",
    "        \n",
    "df_hist = read_metrics_csv(trainer.logger.experiment.metrics_file_path).ffill().bfill()\n",
    "df_hist"
   ]
  },
  {
   "cell_type": "code",
   "execution_count": 82,
   "metadata": {},
   "outputs": [
    {
     "data": {
      "image/png": "[encoded data removed]",
      "text/plain": [
       "<Figure size 640x480 with 1 Axes>"
      ]
     },
     "metadata": {},
     "output_type": "display_data"
    }
   ],
   "source": [
    "for key in ['loss']:\n",
    "    df_hist[[c for c in df_hist.columns if key in c]].plot(logy=True)"
   ]
  },
  {
   "cell_type": "code",
   "execution_count": 83,
   "metadata": {},
   "outputs": [
    {
     "data": {
      "image/png": "[encoded data removed]",
      "text/plain": [
       "<Figure size 640x480 with 1 Axes>"
      ]
     },
     "metadata": {},
     "output_type": "display_data"
    },
    {
     "data": {
      "image/png": "[encoded data removed]",
      "text/plain": [
       "<Figure size 640x480 with 1 Axes>"
      ]
     },
     "metadata": {},
     "output_type": "display_data"
    }
   ],
   "source": [
    "for key in ['acc', 'auroc']:\n",
    "    df_hist[[c for c in df_hist.columns if key in c]].plot()"
   ]
  },
  {
   "attachments": {},
   "cell_type": "markdown",
   "metadata": {},
   "source": [
    "## Predict"
   ]
  },
  {
   "cell_type": "code",
   "execution_count": 84,
   "metadata": {},
   "outputs": [
    {
     "name": "stderr",
     "output_type": "stream",
     "text": [
      "LOCAL_RANK: 0 - CUDA_VISIBLE_DEVICES: [0]\n"
     ]
    },
    {
     "name": "stderr",
     "output_type": "stream",
     "text": [
      "/home/ubuntu/mambaforge/envs/dlk2/lib/python3.9/site-packages/lightning/pytorch/trainer/connectors/data_connector.py:478: PossibleUserWarning: Your `test_dataloader`'s sampler has shuffling enabled, it is strongly recommended that you turn shuffling off for val/test dataloaders.\n",
      "  rank_zero_warn(\n"
     ]
    },
    {
     "data": {
      "application/vnd.jupyter.widget-view+json": {
       "model_id": "54f04887938a4b63bba859d11c0c50b1",
       "version_major": 2,
       "version_minor": 0
      },
      "text/plain": [
       "Testing: 0it [00:00, ?it/s]"
      ]
     },
     "metadata": {},
     "output_type": "display_data"
    },
    {
     "data": {
      "text/html": [
       "<pre style=\"white-space:pre;overflow-x:auto;line-height:normal;font-family:Menlo,'DejaVu Sans Mono',consolas,'Courier New',monospace\">┏━━━━━━━━━━━━━━━━━━━━━━━━━━━┳━━━━━━━━━━━━━━━━━━━━━━━━━━━┳━━━━━━━━━━━━━━━━━━━━━━━━━━━┳━━━━━━━━━━━━━━━━━━━━━━━━━━━┓\n",
       "┃<span style=\"font-weight: bold\">        Test metric        </span>┃<span style=\"font-weight: bold\">       DataLoader 0        </span>┃<span style=\"font-weight: bold\">       DataLoader 1        </span>┃<span style=\"font-weight: bold\">       DataLoader 2        </span>┃\n",
       "┡━━━━━━━━━━━━━━━━━━━━━━━━━━━╇━━━━━━━━━━━━━━━━━━━━━━━━━━━╇━━━━━━━━━━━━━━━━━━━━━━━━━━━╇━━━━━━━━━━━━━━━━━━━━━━━━━━━┩\n",
       "│<span style=\"color: #008080; text-decoration-color: #008080\">         test/acc          </span>│<span style=\"color: #800080; text-decoration-color: #800080\">            1.0            </span>│<span style=\"color: #800080; text-decoration-color: #800080\">    0.9653201103210449     </span>│<span style=\"color: #800080; text-decoration-color: #800080\">     0.946960985660553     </span>│\n",
       "│<span style=\"color: #008080; text-decoration-color: #008080\">        test/auroc         </span>│<span style=\"color: #800080; text-decoration-color: #800080\">            1.0            </span>│<span style=\"color: #800080; text-decoration-color: #800080\">    0.9909361600875854     </span>│<span style=\"color: #800080; text-decoration-color: #800080\">    0.9833890795707703     </span>│\n",
       "│<span style=\"color: #008080; text-decoration-color: #008080\">         test/loss         </span>│<span style=\"color: #800080; text-decoration-color: #800080\">  0.00016899984620977193   </span>│<span style=\"color: #800080; text-decoration-color: #800080\">   0.010421276092529297    </span>│<span style=\"color: #800080; text-decoration-color: #800080\">    0.01024433970451355    </span>│\n",
       "└───────────────────────────┴───────────────────────────┴───────────────────────────┴───────────────────────────┘\n",
       "</pre>\n"
      ],
      "text/plain": [
       "┏━━━━━━━━━━━━━━━━━━━━━━━━━━━┳━━━━━━━━━━━━━━━━━━━━━━━━━━━┳━━━━━━━━━━━━━━━━━━━━━━━━━━━┳━━━━━━━━━━━━━━━━━━━━━━━━━━━┓\n",
       "┃\u001b[1m \u001b[0m\u001b[1m       Test metric       \u001b[0m\u001b[1m \u001b[0m┃\u001b[1m \u001b[0m\u001b[1m      DataLoader 0       \u001b[0m\u001b[1m \u001b[0m┃\u001b[1m \u001b[0m\u001b[1m      DataLoader 1       \u001b[0m\u001b[1m \u001b[0m┃\u001b[1m \u001b[0m\u001b[1m      DataLoader 2       \u001b[0m\u001b[1m \u001b[0m┃\n",
       "┡━━━━━━━━━━━━━━━━━━━━━━━━━━━╇━━━━━━━━━━━━━━━━━━━━━━━━━━━╇━━━━━━━━━━━━━━━━━━━━━━━━━━━╇━━━━━━━━━━━━━━━━━━━━━━━━━━━┩\n",
       "│\u001b[36m \u001b[0m\u001b[36m        test/acc         \u001b[0m\u001b[36m \u001b[0m│\u001b[35m \u001b[0m\u001b[35m           1.0           \u001b[0m\u001b[35m \u001b[0m│\u001b[35m \u001b[0m\u001b[35m   0.9653201103210449    \u001b[0m\u001b[35m \u001b[0m│\u001b[35m \u001b[0m\u001b[35m    0.946960985660553    \u001b[0m\u001b[35m \u001b[0m│\n",
       "│\u001b[36m \u001b[0m\u001b[36m       test/auroc        \u001b[0m\u001b[36m \u001b[0m│\u001b[35m \u001b[0m\u001b[35m           1.0           \u001b[0m\u001b[35m \u001b[0m│\u001b[35m \u001b[0m\u001b[35m   0.9909361600875854    \u001b[0m\u001b[35m \u001b[0m│\u001b[35m \u001b[0m\u001b[35m   0.9833890795707703    \u001b[0m\u001b[35m \u001b[0m│\n",
       "│\u001b[36m \u001b[0m\u001b[36m        test/loss        \u001b[0m\u001b[36m \u001b[0m│\u001b[35m \u001b[0m\u001b[35m 0.00016899984620977193  \u001b[0m\u001b[35m \u001b[0m│\u001b[35m \u001b[0m\u001b[35m  0.010421276092529297   \u001b[0m\u001b[35m \u001b[0m│\u001b[35m \u001b[0m\u001b[35m   0.01024433970451355   \u001b[0m\u001b[35m \u001b[0m│\n",
       "└───────────────────────────┴───────────────────────────┴───────────────────────────┴───────────────────────────┘\n"
      ]
     },
     "metadata": {},
     "output_type": "display_data"
    },
    {
     "data": {
      "text/plain": [
       "[{'test/loss/dataloader_idx_0': 0.00016899984620977193,\n",
       "  'test/acc/dataloader_idx_0': 1.0,\n",
       "  'test/auroc/dataloader_idx_0': 1.0},\n",
       " {'test/loss/dataloader_idx_1': 0.010421276092529297,\n",
       "  'test/acc/dataloader_idx_1': 0.9653201103210449,\n",
       "  'test/auroc/dataloader_idx_1': 0.9909361600875854},\n",
       " {'test/loss/dataloader_idx_2': 0.01024433970451355,\n",
       "  'test/acc/dataloader_idx_2': 0.946960985660553,\n",
       "  'test/auroc/dataloader_idx_2': 0.9833890795707703}]"
      ]
     },
     "execution_count": 84,
     "metadata": {},
     "output_type": "execute_result"
    }
   ],
   "source": [
    "dl_test = dm.test_dataloader()\n",
    "rs = trainer.test(net, dataloaders=[dl_train, dl_val, dl_test])\n",
    "rs"
   ]
  },
  {
   "cell_type": "code",
   "execution_count": 85,
   "metadata": {},
   "outputs": [
    {
     "name": "stderr",
     "output_type": "stream",
     "text": [
      "LOCAL_RANK: 0 - CUDA_VISIBLE_DEVICES: [0]\n"
     ]
    },
    {
     "data": {
      "application/vnd.jupyter.widget-view+json": {
       "model_id": "9aa434a6409f4ceebf60ce1358f3c01b",
       "version_major": 2,
       "version_minor": 0
      },
      "text/plain": [
       "Predicting: 0it [00:00, ?it/s]"
      ]
     },
     "metadata": {},
     "output_type": "display_data"
    },
    {
     "data": {
      "text/plain": [
       "(3521,)"
      ]
     },
     "execution_count": 85,
     "metadata": {},
     "output_type": "execute_result"
    }
   ],
   "source": [
    "dl_test = dm.test_dataloader()\n",
    "r = trainer.predict(net, dataloaders=dl_test)\n",
    "y_test_pred = np.concatenate(r)\n",
    "y_test_pred.shape"
   ]
  },
  {
   "cell_type": "code",
   "execution_count": 86,
   "metadata": {},
   "outputs": [
    {
     "data": {
      "text/plain": [
       "(array([  3.,  22., 156., 687., 863., 806., 750., 192.,  38.,   4.]),\n",
       " array([-0.64453125, -0.51757812, -0.390625  , -0.26367188, -0.13671875,\n",
       "        -0.00976562,  0.1171875 ,  0.24414062,  0.37109375,  0.49804688,\n",
       "         0.625     ]),\n",
       " <BarContainer object of 10 artists>)"
      ]
     },
     "execution_count": 86,
     "metadata": {},
     "output_type": "execute_result"
    },
    {
     "data": {
      "image/png": "[encoded data removed]",
      "text/plain": [
       "<Figure size 640x480 with 1 Axes>"
      ]
     },
     "metadata": {},
     "output_type": "display_data"
    }
   ],
   "source": [
    "plt.hist(y_test_pred)"
   ]
  },
  {
   "cell_type": "code",
   "execution_count": 87,
   "metadata": {},
   "outputs": [
    {
     "data": {
      "text/html": [
       "<div>\n",
       "<style scoped>\n",
       "    .dataframe tbody tr th:only-of-type {\n",
       "        vertical-align: middle;\n",
       "    }\n",
       "\n",
       "    .dataframe tbody tr th {\n",
       "        vertical-align: top;\n",
       "    }\n",
       "\n",
       "    .dataframe thead th {\n",
       "        text-align: right;\n",
       "    }\n",
       "</style>\n",
       "<table border=\"1\" class=\"dataframe\">\n",
       "  <thead>\n",
       "    <tr style=\"text-align: right;\">\n",
       "      <th></th>\n",
       "      <th>desired_answer</th>\n",
       "      <th>input</th>\n",
       "      <th>lie</th>\n",
       "      <th>true_answer</th>\n",
       "      <th>version</th>\n",
       "      <th>ans1</th>\n",
       "      <th>ans2</th>\n",
       "      <th>true</th>\n",
       "      <th>index</th>\n",
       "      <th>prob_y</th>\n",
       "      <th>prob_n</th>\n",
       "      <th>version</th>\n",
       "      <th>dir_true</th>\n",
       "      <th>conf</th>\n",
       "      <th>llm_prob</th>\n",
       "      <th>llm_ans</th>\n",
       "      <th>y</th>\n",
       "      <th>probe_pred</th>\n",
       "      <th>probe_prob</th>\n",
       "    </tr>\n",
       "  </thead>\n",
       "  <tbody>\n",
       "    <tr>\n",
       "      <th>10561</th>\n",
       "      <td>False</td>\n",
       "      <td>Review Title: I really like the system.\\n\\nRev...</td>\n",
       "      <td>True</td>\n",
       "      <td>1</td>\n",
       "      <td>lie</td>\n",
       "      <td>0.812012</td>\n",
       "      <td>0.665039</td>\n",
       "      <td>1</td>\n",
       "      <td>2990</td>\n",
       "      <td>0.798340</td>\n",
       "      <td>0.183838</td>\n",
       "      <td>lie</td>\n",
       "      <td>-0.146973</td>\n",
       "      <td>0.146973</td>\n",
       "      <td>0.738525</td>\n",
       "      <td>True</td>\n",
       "      <td>False</td>\n",
       "      <td>False</td>\n",
       "      <td>0.398438</td>\n",
       "    </tr>\n",
       "    <tr>\n",
       "      <th>10562</th>\n",
       "      <td>True</td>\n",
       "      <td>Title: Unwatchable\\n\\nContent: Bad, and not ev...</td>\n",
       "      <td>True</td>\n",
       "      <td>0</td>\n",
       "      <td>lie</td>\n",
       "      <td>0.219727</td>\n",
       "      <td>0.043640</td>\n",
       "      <td>0</td>\n",
       "      <td>5346</td>\n",
       "      <td>0.218140</td>\n",
       "      <td>0.773438</td>\n",
       "      <td>lie</td>\n",
       "      <td>-0.176086</td>\n",
       "      <td>0.176086</td>\n",
       "      <td>0.131683</td>\n",
       "      <td>False</td>\n",
       "      <td>True</td>\n",
       "      <td>True</td>\n",
       "      <td>0.632812</td>\n",
       "    </tr>\n",
       "    <tr>\n",
       "      <th>10563</th>\n",
       "      <td>False</td>\n",
       "      <td>Title: This tire is more than I expected.\\n\\nC...</td>\n",
       "      <td>True</td>\n",
       "      <td>1</td>\n",
       "      <td>lie</td>\n",
       "      <td>0.910156</td>\n",
       "      <td>0.754395</td>\n",
       "      <td>1</td>\n",
       "      <td>1967</td>\n",
       "      <td>0.906738</td>\n",
       "      <td>0.088379</td>\n",
       "      <td>lie</td>\n",
       "      <td>-0.155762</td>\n",
       "      <td>0.155762</td>\n",
       "      <td>0.832275</td>\n",
       "      <td>True</td>\n",
       "      <td>False</td>\n",
       "      <td>False</td>\n",
       "      <td>0.410156</td>\n",
       "    </tr>\n",
       "    <tr>\n",
       "      <th>10564</th>\n",
       "      <td>False</td>\n",
       "      <td>Title: Three in a row\\n\\nContent: Congratulati...</td>\n",
       "      <td>True</td>\n",
       "      <td>1</td>\n",
       "      <td>lie</td>\n",
       "      <td>0.588379</td>\n",
       "      <td>0.787109</td>\n",
       "      <td>1</td>\n",
       "      <td>2345</td>\n",
       "      <td>0.582031</td>\n",
       "      <td>0.406250</td>\n",
       "      <td>lie</td>\n",
       "      <td>0.198730</td>\n",
       "      <td>0.198730</td>\n",
       "      <td>0.687744</td>\n",
       "      <td>True</td>\n",
       "      <td>True</td>\n",
       "      <td>True</td>\n",
       "      <td>0.598633</td>\n",
       "    </tr>\n",
       "    <tr>\n",
       "      <th>10565</th>\n",
       "      <td>True</td>\n",
       "      <td>Review Title: Hardcore Christian Metal\\n\\nRevi...</td>\n",
       "      <td>False</td>\n",
       "      <td>1</td>\n",
       "      <td>truth</td>\n",
       "      <td>0.877441</td>\n",
       "      <td>0.765137</td>\n",
       "      <td>1</td>\n",
       "      <td>164</td>\n",
       "      <td>0.872070</td>\n",
       "      <td>0.120850</td>\n",
       "      <td>truth</td>\n",
       "      <td>-0.112305</td>\n",
       "      <td>0.112305</td>\n",
       "      <td>0.821289</td>\n",
       "      <td>True</td>\n",
       "      <td>False</td>\n",
       "      <td>False</td>\n",
       "      <td>0.493652</td>\n",
       "    </tr>\n",
       "    <tr>\n",
       "      <th>...</th>\n",
       "      <td>...</td>\n",
       "      <td>...</td>\n",
       "      <td>...</td>\n",
       "      <td>...</td>\n",
       "      <td>...</td>\n",
       "      <td>...</td>\n",
       "      <td>...</td>\n",
       "      <td>...</td>\n",
       "      <td>...</td>\n",
       "      <td>...</td>\n",
       "      <td>...</td>\n",
       "      <td>...</td>\n",
       "      <td>...</td>\n",
       "      <td>...</td>\n",
       "      <td>...</td>\n",
       "      <td>...</td>\n",
       "      <td>...</td>\n",
       "      <td>...</td>\n",
       "      <td>...</td>\n",
       "    </tr>\n",
       "    <tr>\n",
       "      <th>14077</th>\n",
       "      <td>False</td>\n",
       "      <td>Title: Halliwell shares an insightful perspect...</td>\n",
       "      <td>True</td>\n",
       "      <td>1</td>\n",
       "      <td>lie</td>\n",
       "      <td>0.584473</td>\n",
       "      <td>0.366211</td>\n",
       "      <td>1</td>\n",
       "      <td>1445</td>\n",
       "      <td>0.581543</td>\n",
       "      <td>0.412354</td>\n",
       "      <td>lie</td>\n",
       "      <td>-0.218262</td>\n",
       "      <td>0.218262</td>\n",
       "      <td>0.475342</td>\n",
       "      <td>False</td>\n",
       "      <td>False</td>\n",
       "      <td>False</td>\n",
       "      <td>0.374023</td>\n",
       "    </tr>\n",
       "    <tr>\n",
       "      <th>14078</th>\n",
       "      <td>True</td>\n",
       "      <td>Title: Riveting\\n\\nContent: The action in this...</td>\n",
       "      <td>False</td>\n",
       "      <td>1</td>\n",
       "      <td>truth</td>\n",
       "      <td>0.688477</td>\n",
       "      <td>0.577148</td>\n",
       "      <td>1</td>\n",
       "      <td>589</td>\n",
       "      <td>0.685547</td>\n",
       "      <td>0.309082</td>\n",
       "      <td>truth</td>\n",
       "      <td>-0.111328</td>\n",
       "      <td>0.111328</td>\n",
       "      <td>0.632812</td>\n",
       "      <td>True</td>\n",
       "      <td>False</td>\n",
       "      <td>False</td>\n",
       "      <td>0.482056</td>\n",
       "    </tr>\n",
       "    <tr>\n",
       "      <th>14079</th>\n",
       "      <td>True</td>\n",
       "      <td>Title: Great ball\\n\\nContent: Great run-around...</td>\n",
       "      <td>False</td>\n",
       "      <td>1</td>\n",
       "      <td>truth</td>\n",
       "      <td>0.322021</td>\n",
       "      <td>0.817871</td>\n",
       "      <td>1</td>\n",
       "      <td>1681</td>\n",
       "      <td>0.315186</td>\n",
       "      <td>0.662109</td>\n",
       "      <td>truth</td>\n",
       "      <td>0.495850</td>\n",
       "      <td>0.495850</td>\n",
       "      <td>0.569946</td>\n",
       "      <td>True</td>\n",
       "      <td>True</td>\n",
       "      <td>True</td>\n",
       "      <td>0.727539</td>\n",
       "    </tr>\n",
       "    <tr>\n",
       "      <th>14080</th>\n",
       "      <td>False</td>\n",
       "      <td>Title: A triumph for music\\n\\nContent: Barry M...</td>\n",
       "      <td>True</td>\n",
       "      <td>1</td>\n",
       "      <td>lie</td>\n",
       "      <td>0.491699</td>\n",
       "      <td>0.779297</td>\n",
       "      <td>1</td>\n",
       "      <td>1757</td>\n",
       "      <td>0.482178</td>\n",
       "      <td>0.497314</td>\n",
       "      <td>lie</td>\n",
       "      <td>0.287598</td>\n",
       "      <td>0.287598</td>\n",
       "      <td>0.635498</td>\n",
       "      <td>True</td>\n",
       "      <td>True</td>\n",
       "      <td>True</td>\n",
       "      <td>0.583984</td>\n",
       "    </tr>\n",
       "    <tr>\n",
       "      <th>14081</th>\n",
       "      <td>False</td>\n",
       "      <td>Review Title: Monotonous, Implausible, Convolu...</td>\n",
       "      <td>False</td>\n",
       "      <td>0</td>\n",
       "      <td>truth</td>\n",
       "      <td>0.035126</td>\n",
       "      <td>0.265625</td>\n",
       "      <td>0</td>\n",
       "      <td>1038</td>\n",
       "      <td>0.034821</td>\n",
       "      <td>0.956055</td>\n",
       "      <td>truth</td>\n",
       "      <td>0.230499</td>\n",
       "      <td>0.230499</td>\n",
       "      <td>0.150375</td>\n",
       "      <td>False</td>\n",
       "      <td>False</td>\n",
       "      <td>False</td>\n",
       "      <td>0.398438</td>\n",
       "    </tr>\n",
       "  </tbody>\n",
       "</table>\n",
       "<p>3521 rows × 19 columns</p>\n",
       "</div>"
      ],
      "text/plain": [
       "       desired_answer                                              input   \n",
       "10561           False  Review Title: I really like the system.\\n\\nRev...  \\\n",
       "10562            True  Title: Unwatchable\\n\\nContent: Bad, and not ev...   \n",
       "10563           False  Title: This tire is more than I expected.\\n\\nC...   \n",
       "10564           False  Title: Three in a row\\n\\nContent: Congratulati...   \n",
       "10565            True  Review Title: Hardcore Christian Metal\\n\\nRevi...   \n",
       "...               ...                                                ...   \n",
       "14077           False  Title: Halliwell shares an insightful perspect...   \n",
       "14078            True  Title: Riveting\\n\\nContent: The action in this...   \n",
       "14079            True  Title: Great ball\\n\\nContent: Great run-around...   \n",
       "14080           False  Title: A triumph for music\\n\\nContent: Barry M...   \n",
       "14081           False  Review Title: Monotonous, Implausible, Convolu...   \n",
       "\n",
       "         lie  true_answer version      ans1      ans2  true  index    prob_y   \n",
       "10561   True            1     lie  0.812012  0.665039     1   2990  0.798340  \\\n",
       "10562   True            0     lie  0.219727  0.043640     0   5346  0.218140   \n",
       "10563   True            1     lie  0.910156  0.754395     1   1967  0.906738   \n",
       "10564   True            1     lie  0.588379  0.787109     1   2345  0.582031   \n",
       "10565  False            1   truth  0.877441  0.765137     1    164  0.872070   \n",
       "...      ...          ...     ...       ...       ...   ...    ...       ...   \n",
       "14077   True            1     lie  0.584473  0.366211     1   1445  0.581543   \n",
       "14078  False            1   truth  0.688477  0.577148     1    589  0.685547   \n",
       "14079  False            1   truth  0.322021  0.817871     1   1681  0.315186   \n",
       "14080   True            1     lie  0.491699  0.779297     1   1757  0.482178   \n",
       "14081  False            0   truth  0.035126  0.265625     0   1038  0.034821   \n",
       "\n",
       "         prob_n version  dir_true      conf  llm_prob  llm_ans      y   \n",
       "10561  0.183838     lie -0.146973  0.146973  0.738525     True  False  \\\n",
       "10562  0.773438     lie -0.176086  0.176086  0.131683    False   True   \n",
       "10563  0.088379     lie -0.155762  0.155762  0.832275     True  False   \n",
       "10564  0.406250     lie  0.198730  0.198730  0.687744     True   True   \n",
       "10565  0.120850   truth -0.112305  0.112305  0.821289     True  False   \n",
       "...         ...     ...       ...       ...       ...      ...    ...   \n",
       "14077  0.412354     lie -0.218262  0.218262  0.475342    False  False   \n",
       "14078  0.309082   truth -0.111328  0.111328  0.632812     True  False   \n",
       "14079  0.662109   truth  0.495850  0.495850  0.569946     True   True   \n",
       "14080  0.497314     lie  0.287598  0.287598  0.635498     True   True   \n",
       "14081  0.956055   truth  0.230499  0.230499  0.150375    False  False   \n",
       "\n",
       "       probe_pred  probe_prob  \n",
       "10561       False    0.398438  \n",
       "10562        True    0.632812  \n",
       "10563       False    0.410156  \n",
       "10564        True    0.598633  \n",
       "10565       False    0.493652  \n",
       "...           ...         ...  \n",
       "14077       False    0.374023  \n",
       "14078       False    0.482056  \n",
       "14079        True    0.727539  \n",
       "14080        True    0.583984  \n",
       "14081       False    0.398438  \n",
       "\n",
       "[3521 rows x 19 columns]"
      ]
     },
     "execution_count": 87,
     "metadata": {},
     "output_type": "execute_result"
    }
   ],
   "source": [
    "# Make a prediction dataframe with everything in it\n",
    "df_test = dm.df.iloc[dm.test_split:].copy()\n",
    "df_test['probe_pred'] = y_test_pred>0\n",
    "y_test_pred_bool = np.clip(switch2bool(y_test_pred), 0 ,1)\n",
    "df_test['probe_prob'] = y_test_pred_bool\n",
    "df_test['llm_prob'] = (df_test['ans1']+df_test['ans2'])/2\n",
    "df_test['llm_ans'] = df_test['llm_prob']>0.5\n",
    "df_test['conf'] = (df_test['ans1']-df_test['ans2']).abs()\n",
    "df_test['y'] = switch2bool(df_test['y'])>0.5\n",
    "\n",
    "y_true = dl_test.dataset.tensors[2].numpy()\n",
    "assert ((df_test['y'].values>0.5)==(y_true>0)).all(), 'check it all lines up'\n",
    "\n",
    "df_test"
   ]
  },
  {
   "cell_type": "code",
   "execution_count": 88,
   "metadata": {},
   "outputs": [
    {
     "name": "stdout",
     "output_type": "stream",
     "text": [
      "probe results on subsets of the data\n",
      "acc=89.39% [lie==True]\n",
      "acc=89.35% [lie==False]\n",
      "acc=92.70% [llm_ans==true_answer]\n",
      "acc=88.65% [llm_ans==desired_answer]\n",
      "acc=72.42% [lie==True & llm_ans==desired_answer]\n",
      "acc=92.45% [lie==True & llm_ans!=desired_answer]\n"
     ]
    },
    {
     "data": {
      "text/plain": [
       "0.9245489338436303"
      ]
     },
     "execution_count": 88,
     "metadata": {},
     "output_type": "execute_result"
    }
   ],
   "source": [
    "def get_acc_subset(df, query):\n",
    "    df_s = df.query(query)\n",
    "    acc = (df_s['probe_pred']==df_s['y']).mean()\n",
    "    print(f\"acc={acc:2.2%} [{query}]\")\n",
    "    return acc\n",
    "    \n",
    "print('probe results on subsets of the data')\n",
    "get_acc_subset(df_test, 'lie==True') # it was ph told to lie\n",
    "get_acc_subset(df_test, 'lie==False') # it was told not to lie\n",
    "get_acc_subset(df_test, 'llm_ans==true_answer') # the llm gave the true ans\n",
    "get_acc_subset(df_test, 'llm_ans==desired_answer') # the llm gave the desired ans\n",
    "get_acc_subset(df_test, 'lie==True & llm_ans==desired_answer') # it was told to lie, and it did lie\n",
    "get_acc_subset(df_test, 'lie==True & llm_ans!=desired_answer')"
   ]
  },
  {
   "cell_type": "markdown",
   "metadata": {},
   "source": [
    "# RESULTS"
   ]
  },
  {
   "cell_type": "code",
   "execution_count": 89,
   "metadata": {},
   "outputs": [
    {
     "name": "stdout",
     "output_type": "stream",
     "text": [
      "  PRIMARY BASELINE roc_auc=71.16% from linear classifier\n",
      "⭐PRIMARY METRIC⭐ roc_auc=94.94% from probe\n"
     ]
    },
    {
     "ename": "",
     "evalue": "",
     "output_type": "error",
     "traceback": [
      "\u001b[1;31mThe Kernel crashed while executing code in the the current cell or a previous cell. Please review the code in the cell(s) to identify a possible cause of the failure. Click <a href='https://aka.ms/vscodeJupyterKernelCrash'>here</a> for more info. View Jupyter <a href='command:jupyter.viewOutput'>log</a> for further details."
     ]
    }
   ],
   "source": [
    "roc_auc = roc_auc_score(df_test['y'], y_test_pred_bool)\n",
    "\n",
    "print(f\"  PRIMARY BASELINE roc_auc={primary_baseline:2.2%} from linear classifier\")\n",
    "print(f\"⭐PRIMARY METRIC⭐ roc_auc={roc_auc:2.2%} from probe\")"
   ]
  },
  {
   "cell_type": "code",
   "execution_count": null,
   "metadata": {},
   "outputs": [],
   "source": []
  }
 ],
 "metadata": {
  "kernelspec": {
   "display_name": "dlk2",
   "language": "python",
   "name": "python3"
  },
  "language_info": {
   "codemirror_mode": {
    "name": "ipython",
    "version": 3
   },
   "file_extension": ".py",
   "mimetype": "text/x-python",
   "name": "python",
   "nbconvert_exporter": "python",
   "pygments_lexer": "ipython3",
   "version": "3.9.16"
  },
  "orig_nbformat": 4
 },
 "nbformat": 4,
 "nbformat_minor": 2
}
