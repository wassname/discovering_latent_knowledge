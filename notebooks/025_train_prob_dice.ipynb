{
 "cells": [
  {
   "attachments": {},
   "cell_type": "markdown",
   "metadata": {},
   "source": [
    "# distance and direciton\n",
    "\n",
    "Let try to opt for distance and direction with\n",
    "\n",
    "$L1loss(y_1-y_0, y_{true})$\n",
    "\n",
    "where $y_1=model(x_1)$\n",
    "\n",
    "So I'm optimising for the hidden states to be the correct distance and direcioton away. It's like the margin raning loss."
   ]
  },
  {
   "attachments": {},
   "cell_type": "markdown",
   "metadata": {},
   "source": [
    "\n",
    "links:\n",
    "- [loading](https://github.com/deep-diver/LLM-As-Chatbot/blob/main/models/alpaca.py)\n",
    "- [dict](https://github.com/deep-diver/LLM-As-Chatbot/blob/c79e855a492a968b54bac223e66dc9db448d6eba/model_cards.json#L143)\n",
    "- [prompt_format](https://github.com/deep-diver/PingPong/blob/main/src/pingpong/alpaca.py)"
   ]
  },
  {
   "cell_type": "code",
   "execution_count": 1,
   "metadata": {},
   "outputs": [],
   "source": [
    "# import your package\n",
    "%load_ext autoreload\n",
    "%autoreload 2"
   ]
  },
  {
   "cell_type": "code",
   "execution_count": 2,
   "metadata": {},
   "outputs": [
    {
     "name": "stdout",
     "output_type": "stream",
     "text": [
      "\n",
      "===================================BUG REPORT===================================\n",
      "Welcome to bitsandbytes. For bug reports, please run\n",
      "\n",
      "python -m bitsandbytes\n",
      "\n",
      " and submit this information together with your error trace to: https://github.com/TimDettmers/bitsandbytes/issues\n",
      "================================================================================\n",
      "bin /home/ubuntu/mambaforge/envs/dlk3/lib/python3.11/site-packages/bitsandbytes/libbitsandbytes_cuda117.so\n",
      "CUDA SETUP: CUDA runtime path found: /home/ubuntu/mambaforge/envs/dlk3/lib/libcudart.so.11.0\n",
      "CUDA SETUP: Highest compute capability among GPUs detected: 8.6\n",
      "CUDA SETUP: Detected CUDA version 117\n",
      "CUDA SETUP: Loading binary /home/ubuntu/mambaforge/envs/dlk3/lib/python3.11/site-packages/bitsandbytes/libbitsandbytes_cuda117.so...\n"
     ]
    },
    {
     "name": "stderr",
     "output_type": "stream",
     "text": [
      "/home/ubuntu/mambaforge/envs/dlk3/lib/python3.11/site-packages/bitsandbytes/cuda_setup/main.py:149: UserWarning: Found duplicate ['libcudart.so', 'libcudart.so.11.0', 'libcudart.so.12.0'] files: {PosixPath('/home/ubuntu/mambaforge/envs/dlk3/lib/libcudart.so.11.0'), PosixPath('/home/ubuntu/mambaforge/envs/dlk3/lib/libcudart.so')}.. We'll flip a coin and try one of these, in order to fail forward.\n",
      "Either way, this might cause trouble in the future:\n",
      "If you get `CUDA error: invalid device function` errors, the above might be the cause and the solution is to make sure only one ['libcudart.so', 'libcudart.so.11.0', 'libcudart.so.12.0'] in the paths that we search based on your env.\n",
      "  warn(msg)\n"
     ]
    },
    {
     "data": {
      "text/plain": [
       "'4.31.0'"
      ]
     },
     "execution_count": 2,
     "metadata": {},
     "output_type": "execute_result"
    }
   ],
   "source": [
    "\n",
    "import numpy as np\n",
    "import pandas as pd\n",
    "from matplotlib import pyplot as plt\n",
    "plt.style.use('ggplot')\n",
    "\n",
    "from typing import Optional, List, Dict, Union\n",
    "\n",
    "import torch\n",
    "import torch.nn as nn\n",
    "import torch.nn.functional as F\n",
    "from torch import Tensor\n",
    "from torch import optim\n",
    "from torch.utils.data import random_split, DataLoader, TensorDataset\n",
    "\n",
    "from pathlib import Path\n",
    "\n",
    "import transformers\n",
    "\n",
    "import lightning.pytorch as pl\n",
    "# from dataclasses import dataclass\n",
    "\n",
    "from sklearn.linear_model import LogisticRegression\n",
    "from sklearn.metrics import f1_score, roc_auc_score, accuracy_score\n",
    "from sklearn.preprocessing import RobustScaler\n",
    "\n",
    "from tqdm.auto import tqdm\n",
    "import os\n",
    "\n",
    "from loguru import logger\n",
    "logger.add(os.sys.stderr, format=\"{time} {level} {message}\", level=\"INFO\")\n",
    "\n",
    "\n",
    "\n",
    "transformers.__version__"
   ]
  },
  {
   "cell_type": "code",
   "execution_count": 3,
   "metadata": {},
   "outputs": [],
   "source": [
    "from src.helpers.lightning import read_metrics_csv"
   ]
  },
  {
   "cell_type": "markdown",
   "metadata": {},
   "source": [
    "# Dataset"
   ]
  },
  {
   "cell_type": "code",
   "execution_count": 4,
   "metadata": {},
   "outputs": [
    {
     "data": {
      "text/plain": [
       "Dataset({\n",
       "    features: ['scores0', 'ds_index', 'head_activation_and_grad', 'w_grads_mlp', 'ds_string', 'example_i', 'answer', 'question', 'answer_choices', 'template_name', 'label_true', 'label_instructed', 'instructed_to_lie', 'sys_instr_name', 'prompt_truncated', 'choice_probs0', 'ans0', 'txt_ans0'],\n",
       "    num_rows: 302\n",
       "})"
      ]
     },
     "execution_count": 4,
     "metadata": {},
     "output_type": "execute_result"
    }
   ],
   "source": [
    "from datasets import load_from_disk, concatenate_datasets\n",
    "fs = [\n",
    "    '../.ds/WizardLMWizardCoder_3B_V1.0_imdb_train_300'\n",
    "]\n",
    "\n",
    "# './.ds/HuggingFaceH4starchat_beta-None-N_8000-ns_3-mc_0.2-2ffc1e'\n",
    "ds1 = concatenate_datasets([load_from_disk(f) for f in fs])\n",
    "ds1"
   ]
  },
  {
   "cell_type": "code",
   "execution_count": 5,
   "metadata": {},
   "outputs": [],
   "source": [
    "from src.datasets.load import ds2df"
   ]
  },
  {
   "cell_type": "markdown",
   "metadata": {},
   "source": [
    "## Filter"
   ]
  },
  {
   "cell_type": "code",
   "execution_count": 6,
   "metadata": {},
   "outputs": [
    {
     "data": {
      "text/html": [
       "<div>\n",
       "<style scoped>\n",
       "    .dataframe tbody tr th:only-of-type {\n",
       "        vertical-align: middle;\n",
       "    }\n",
       "\n",
       "    .dataframe tbody tr th {\n",
       "        vertical-align: top;\n",
       "    }\n",
       "\n",
       "    .dataframe thead th {\n",
       "        text-align: right;\n",
       "    }\n",
       "</style>\n",
       "<table border=\"1\" class=\"dataframe\">\n",
       "  <thead>\n",
       "    <tr style=\"text-align: right;\">\n",
       "      <th></th>\n",
       "      <th>ds_index</th>\n",
       "      <th>ds_string</th>\n",
       "      <th>example_i</th>\n",
       "      <th>answer</th>\n",
       "      <th>question</th>\n",
       "      <th>answer_choices</th>\n",
       "      <th>template_name</th>\n",
       "      <th>label_true</th>\n",
       "      <th>label_instructed</th>\n",
       "      <th>instructed_to_lie</th>\n",
       "      <th>sys_instr_name</th>\n",
       "      <th>prompt_truncated</th>\n",
       "      <th>choice_probs0</th>\n",
       "      <th>ans0</th>\n",
       "      <th>txt_ans0</th>\n",
       "      <th>dir_true</th>\n",
       "      <th>llm_ans</th>\n",
       "    </tr>\n",
       "  </thead>\n",
       "  <tbody>\n",
       "    <tr>\n",
       "      <th>0</th>\n",
       "      <td>0</td>\n",
       "      <td>imdb</td>\n",
       "      <td>0</td>\n",
       "      <td>positive</td>\n",
       "      <td>You are an AI assistant that always tells a li...</td>\n",
       "      <td>[negative, positive]</td>\n",
       "      <td>Movie Expressed Sentiment</td>\n",
       "      <td>0</td>\n",
       "      <td>1</td>\n",
       "      <td>True</td>\n",
       "      <td>lie_for_charity</td>\n",
       "      <td>Ingmar Bergman's Wild Strawberries, attempts ...</td>\n",
       "      <td>[0.15718427, 0.3860073]</td>\n",
       "      <td>0.710615</td>\n",
       "      <td>positive</td>\n",
       "      <td>0.710615</td>\n",
       "      <td>True</td>\n",
       "    </tr>\n",
       "    <tr>\n",
       "      <th>1</th>\n",
       "      <td>1</td>\n",
       "      <td>imdb</td>\n",
       "      <td>0</td>\n",
       "      <td>They didn't like it!</td>\n",
       "      <td>Below is an instruction that describes a task,...</td>\n",
       "      <td>[They didn't like it!, They loved it]</td>\n",
       "      <td>Reviewer Enjoyment</td>\n",
       "      <td>0</td>\n",
       "      <td>0</td>\n",
       "      <td>False</td>\n",
       "      <td>truth</td>\n",
       "      <td>OK, don't get bent out of round. I was kiddin...</td>\n",
       "      <td>[0.0026356296, 0.0026356296]</td>\n",
       "      <td>0.499053</td>\n",
       "      <td>\\n</td>\n",
       "      <td>0.499053</td>\n",
       "      <td>False</td>\n",
       "    </tr>\n",
       "    <tr>\n",
       "      <th>2</th>\n",
       "      <td>2</td>\n",
       "      <td>imdb</td>\n",
       "      <td>1</td>\n",
       "      <td>negative</td>\n",
       "      <td>You are an AI assistant that always tells a li...</td>\n",
       "      <td>[negative, positive]</td>\n",
       "      <td>Movie Expressed Sentiment</td>\n",
       "      <td>1</td>\n",
       "      <td>0</td>\n",
       "      <td>True</td>\n",
       "      <td>lie_for_charity</td>\n",
       "      <td>.It is quite possibly the best worst movie eve...</td>\n",
       "      <td>[0.097224444, 0.2684453]</td>\n",
       "      <td>0.734099</td>\n",
       "      <td>neutral</td>\n",
       "      <td>0.734099</td>\n",
       "      <td>True</td>\n",
       "    </tr>\n",
       "    <tr>\n",
       "      <th>3</th>\n",
       "      <td>3</td>\n",
       "      <td>imdb</td>\n",
       "      <td>1</td>\n",
       "      <td>They loved it</td>\n",
       "      <td>Below is an instruction that describes a task,...</td>\n",
       "      <td>[They didn't like it!, They loved it]</td>\n",
       "      <td>Reviewer Enjoyment</td>\n",
       "      <td>1</td>\n",
       "      <td>1</td>\n",
       "      <td>False</td>\n",
       "      <td>truth</td>\n",
       "      <td>breathing down his neck, a shed load of money...</td>\n",
       "      <td>[1.4437829e-05, 1.4437829e-05]</td>\n",
       "      <td>0.371385</td>\n",
       "      <td>\\n</td>\n",
       "      <td>0.371385</td>\n",
       "      <td>False</td>\n",
       "    </tr>\n",
       "    <tr>\n",
       "      <th>4</th>\n",
       "      <td>4</td>\n",
       "      <td>imdb</td>\n",
       "      <td>2</td>\n",
       "      <td>positive</td>\n",
       "      <td>You are an AI assistant that always tells a li...</td>\n",
       "      <td>[negative, positive]</td>\n",
       "      <td>Movie Expressed Sentiment</td>\n",
       "      <td>0</td>\n",
       "      <td>1</td>\n",
       "      <td>True</td>\n",
       "      <td>lie_for_charity</td>\n",
       "      <td>### Response:\\npositive\\n\\n### Instruction\\nYe...</td>\n",
       "      <td>[0.22315732, 0.33762622]</td>\n",
       "      <td>0.602051</td>\n",
       "      <td>positive</td>\n",
       "      <td>0.602051</td>\n",
       "      <td>True</td>\n",
       "    </tr>\n",
       "    <tr>\n",
       "      <th>...</th>\n",
       "      <td>...</td>\n",
       "      <td>...</td>\n",
       "      <td>...</td>\n",
       "      <td>...</td>\n",
       "      <td>...</td>\n",
       "      <td>...</td>\n",
       "      <td>...</td>\n",
       "      <td>...</td>\n",
       "      <td>...</td>\n",
       "      <td>...</td>\n",
       "      <td>...</td>\n",
       "      <td>...</td>\n",
       "      <td>...</td>\n",
       "      <td>...</td>\n",
       "      <td>...</td>\n",
       "      <td>...</td>\n",
       "      <td>...</td>\n",
       "    </tr>\n",
       "    <tr>\n",
       "      <th>297</th>\n",
       "      <td>297</td>\n",
       "      <td>imdb</td>\n",
       "      <td>148</td>\n",
       "      <td>They didn't like it!</td>\n",
       "      <td>Below is an instruction that describes a task,...</td>\n",
       "      <td>[They didn't like it!, They loved it]</td>\n",
       "      <td>Reviewer Enjoyment</td>\n",
       "      <td>0</td>\n",
       "      <td>0</td>\n",
       "      <td>False</td>\n",
       "      <td>truth</td>\n",
       "      <td>. A bore.\\nHow does the reviewer feel about th...</td>\n",
       "      <td>[1.2457584e-05, 1.2457584e-05]</td>\n",
       "      <td>0.356796</td>\n",
       "      <td>\\n</td>\n",
       "      <td>0.356796</td>\n",
       "      <td>False</td>\n",
       "    </tr>\n",
       "    <tr>\n",
       "      <th>298</th>\n",
       "      <td>298</td>\n",
       "      <td>imdb</td>\n",
       "      <td>149</td>\n",
       "      <td>negative</td>\n",
       "      <td>You are an AI assistant that always tells a li...</td>\n",
       "      <td>[negative, positive]</td>\n",
       "      <td>Movie Expressed Sentiment</td>\n",
       "      <td>1</td>\n",
       "      <td>0</td>\n",
       "      <td>True</td>\n",
       "      <td>lie_for_charity</td>\n",
       "      <td>s in yet another film so bad it could never be...</td>\n",
       "      <td>[0.06919316, 0.59773767]</td>\n",
       "      <td>0.896238</td>\n",
       "      <td>positive</td>\n",
       "      <td>0.896238</td>\n",
       "      <td>True</td>\n",
       "    </tr>\n",
       "    <tr>\n",
       "      <th>299</th>\n",
       "      <td>299</td>\n",
       "      <td>imdb</td>\n",
       "      <td>149</td>\n",
       "      <td>They loved it</td>\n",
       "      <td>Below is an instruction that describes a task,...</td>\n",
       "      <td>[They didn't like it!, They loved it]</td>\n",
       "      <td>Reviewer Enjoyment</td>\n",
       "      <td>1</td>\n",
       "      <td>1</td>\n",
       "      <td>False</td>\n",
       "      <td>truth</td>\n",
       "      <td>your audience IS out there, and we'll be watc...</td>\n",
       "      <td>[3.6983306e-06, 3.6983306e-06]</td>\n",
       "      <td>0.212589</td>\n",
       "      <td>\\n</td>\n",
       "      <td>0.212589</td>\n",
       "      <td>False</td>\n",
       "    </tr>\n",
       "    <tr>\n",
       "      <th>300</th>\n",
       "      <td>300</td>\n",
       "      <td>imdb</td>\n",
       "      <td>150</td>\n",
       "      <td>positive</td>\n",
       "      <td>You are an AI assistant that always tells a li...</td>\n",
       "      <td>[negative, positive]</td>\n",
       "      <td>Movie Expressed Sentiment</td>\n",
       "      <td>0</td>\n",
       "      <td>1</td>\n",
       "      <td>True</td>\n",
       "      <td>lie_for_charity</td>\n",
       "      <td>pitiful way for Hollywood to try and make a 2...</td>\n",
       "      <td>[0.15121742, 0.35159102]</td>\n",
       "      <td>0.699241</td>\n",
       "      <td>neutral</td>\n",
       "      <td>0.699241</td>\n",
       "      <td>True</td>\n",
       "    </tr>\n",
       "    <tr>\n",
       "      <th>301</th>\n",
       "      <td>301</td>\n",
       "      <td>imdb</td>\n",
       "      <td>150</td>\n",
       "      <td>They didn't like it!</td>\n",
       "      <td>Below is an instruction that describes a task,...</td>\n",
       "      <td>[They didn't like it!, They loved it]</td>\n",
       "      <td>Reviewer Enjoyment</td>\n",
       "      <td>0</td>\n",
       "      <td>0</td>\n",
       "      <td>False</td>\n",
       "      <td>truth</td>\n",
       "      <td>, much like American men.&lt;br /&gt;&lt;br /&gt;All of th...</td>\n",
       "      <td>[4.2767599e-07, 4.2767599e-07]</td>\n",
       "      <td>0.039398</td>\n",
       "      <td>\\n</td>\n",
       "      <td>0.039398</td>\n",
       "      <td>False</td>\n",
       "    </tr>\n",
       "  </tbody>\n",
       "</table>\n",
       "<p>302 rows × 17 columns</p>\n",
       "</div>"
      ],
      "text/plain": [
       "     ds_index ds_string  example_i                answer  \\\n",
       "0           0      imdb          0              positive   \n",
       "1           1      imdb          0  They didn't like it!   \n",
       "2           2      imdb          1              negative   \n",
       "3           3      imdb          1         They loved it   \n",
       "4           4      imdb          2              positive   \n",
       "..        ...       ...        ...                   ...   \n",
       "297       297      imdb        148  They didn't like it!   \n",
       "298       298      imdb        149              negative   \n",
       "299       299      imdb        149         They loved it   \n",
       "300       300      imdb        150              positive   \n",
       "301       301      imdb        150  They didn't like it!   \n",
       "\n",
       "                                              question  \\\n",
       "0    You are an AI assistant that always tells a li...   \n",
       "1    Below is an instruction that describes a task,...   \n",
       "2    You are an AI assistant that always tells a li...   \n",
       "3    Below is an instruction that describes a task,...   \n",
       "4    You are an AI assistant that always tells a li...   \n",
       "..                                                 ...   \n",
       "297  Below is an instruction that describes a task,...   \n",
       "298  You are an AI assistant that always tells a li...   \n",
       "299  Below is an instruction that describes a task,...   \n",
       "300  You are an AI assistant that always tells a li...   \n",
       "301  Below is an instruction that describes a task,...   \n",
       "\n",
       "                            answer_choices              template_name  \\\n",
       "0                     [negative, positive]  Movie Expressed Sentiment   \n",
       "1    [They didn't like it!, They loved it]         Reviewer Enjoyment   \n",
       "2                     [negative, positive]  Movie Expressed Sentiment   \n",
       "3    [They didn't like it!, They loved it]         Reviewer Enjoyment   \n",
       "4                     [negative, positive]  Movie Expressed Sentiment   \n",
       "..                                     ...                        ...   \n",
       "297  [They didn't like it!, They loved it]         Reviewer Enjoyment   \n",
       "298                   [negative, positive]  Movie Expressed Sentiment   \n",
       "299  [They didn't like it!, They loved it]         Reviewer Enjoyment   \n",
       "300                   [negative, positive]  Movie Expressed Sentiment   \n",
       "301  [They didn't like it!, They loved it]         Reviewer Enjoyment   \n",
       "\n",
       "     label_true  label_instructed  instructed_to_lie   sys_instr_name  \\\n",
       "0             0                 1               True  lie_for_charity   \n",
       "1             0                 0              False            truth   \n",
       "2             1                 0               True  lie_for_charity   \n",
       "3             1                 1              False            truth   \n",
       "4             0                 1               True  lie_for_charity   \n",
       "..          ...               ...                ...              ...   \n",
       "297           0                 0              False            truth   \n",
       "298           1                 0               True  lie_for_charity   \n",
       "299           1                 1              False            truth   \n",
       "300           0                 1               True  lie_for_charity   \n",
       "301           0                 0              False            truth   \n",
       "\n",
       "                                      prompt_truncated  \\\n",
       "0     Ingmar Bergman's Wild Strawberries, attempts ...   \n",
       "1     OK, don't get bent out of round. I was kiddin...   \n",
       "2    .It is quite possibly the best worst movie eve...   \n",
       "3     breathing down his neck, a shed load of money...   \n",
       "4    ### Response:\\npositive\\n\\n### Instruction\\nYe...   \n",
       "..                                                 ...   \n",
       "297  . A bore.\\nHow does the reviewer feel about th...   \n",
       "298  s in yet another film so bad it could never be...   \n",
       "299   your audience IS out there, and we'll be watc...   \n",
       "300   pitiful way for Hollywood to try and make a 2...   \n",
       "301  , much like American men.<br /><br />All of th...   \n",
       "\n",
       "                      choice_probs0      ans0  txt_ans0  dir_true  llm_ans  \n",
       "0           [0.15718427, 0.3860073]  0.710615  positive  0.710615     True  \n",
       "1      [0.0026356296, 0.0026356296]  0.499053        \\n  0.499053    False  \n",
       "2          [0.097224444, 0.2684453]  0.734099   neutral  0.734099     True  \n",
       "3    [1.4437829e-05, 1.4437829e-05]  0.371385        \\n  0.371385    False  \n",
       "4          [0.22315732, 0.33762622]  0.602051  positive  0.602051     True  \n",
       "..                              ...       ...       ...       ...      ...  \n",
       "297  [1.2457584e-05, 1.2457584e-05]  0.356796        \\n  0.356796    False  \n",
       "298        [0.06919316, 0.59773767]  0.896238  positive  0.896238     True  \n",
       "299  [3.6983306e-06, 3.6983306e-06]  0.212589        \\n  0.212589    False  \n",
       "300        [0.15121742, 0.35159102]  0.699241   neutral  0.699241     True  \n",
       "301  [4.2767599e-07, 4.2767599e-07]  0.039398        \\n  0.039398    False  \n",
       "\n",
       "[302 rows x 17 columns]"
      ]
     },
     "execution_count": 6,
     "metadata": {},
     "output_type": "execute_result"
    }
   ],
   "source": [
    "# lets select only the ones where\n",
    "df = ds2df(ds1)\n",
    "df"
   ]
  },
  {
   "cell_type": "code",
   "execution_count": null,
   "metadata": {},
   "outputs": [],
   "source": []
  },
  {
   "cell_type": "code",
   "execution_count": 7,
   "metadata": {},
   "outputs": [
    {
     "name": "stdout",
     "output_type": "stream",
     "text": [
      "select rows are 50.33% based on knowledge\n"
     ]
    },
    {
     "data": {
      "text/plain": [
       "Dataset({\n",
       "    features: ['scores0', 'ds_index', 'head_activation_and_grad', 'w_grads_mlp', 'ds_string', 'example_i', 'answer', 'question', 'answer_choices', 'template_name', 'label_true', 'label_instructed', 'instructed_to_lie', 'sys_instr_name', 'prompt_truncated', 'choice_probs0', 'ans0', 'txt_ans0'],\n",
       "    num_rows: 152\n",
       "})"
      ]
     },
     "execution_count": 7,
     "metadata": {},
     "output_type": "execute_result"
    }
   ],
   "source": [
    "# # just select the question where the model knows the answer. \n",
    "df = ds2df(ds1)\n",
    "d = df.query('sys_instr_name==\"truth\"').set_index(\"example_i\")\n",
    "\n",
    "# # these are the ones where it got it right when asked to tell the truth\n",
    "m1 = d.llm_ans==d.label_true\n",
    "known_indices = d[m1].index\n",
    "print(f\"select rows are {m1.mean():2.2%} based on knowledge\")\n",
    "# # convert to row numbers, and use datasets to select\n",
    "known_rows = df['example_i'].isin(known_indices)\n",
    "known_rows_i = df[known_rows].index\n",
    "\n",
    "# # also restrict it to significant permutations. That is monte carlo dropout pairs, where the answer changes by more than X%\n",
    "# m = np.abs(df.ans0-df.ans1)>0.05\n",
    "# print(f\"selected rows are {m.mean():2.2%} for significance\")\n",
    "# significant_rows = m[m].index\n",
    "\n",
    "# allowed_rows_i = set(known_rows_i).intersection(significant_rows)\n",
    "# allowed_rows_i = significant_rows\n",
    "ds = ds1.select(known_rows_i)\n",
    "ds"
   ]
  },
  {
   "cell_type": "markdown",
   "metadata": {},
   "source": [
    "## Transform: Normalize by activation"
   ]
  },
  {
   "cell_type": "code",
   "execution_count": 8,
   "metadata": {},
   "outputs": [],
   "source": [
    "# N = 1000\n",
    "# small_ds = ds.select(range(N))\n",
    "# b = N\n",
    "# hs0 = small_ds['hs0'].reshape((b, -1))\n",
    "\n",
    "# scaler = RobustScaler()\n",
    "# hs1 = scaler.fit_transform(hs0)\n",
    "\n",
    "# def normalize_hs(hs0, hs1):\n",
    "#     shape=hs0.shape\n",
    "#     b = len(hs0)\n",
    "#     hs0 = scaler.transform(hs0.reshape((b, -1))).reshape(shape)\n",
    "#     hs1 = scaler.transform(hs1.reshape((b, -1))).reshape(shape)\n",
    "#     return {'hs0':hs0, 'hs1': hs1}\n",
    "\n",
    "# # Plot\n",
    "# plt.hist(hs0.flatten(), bins=155, range=[-5, 5], label='before', histtype='step')\n",
    "# plt.hist(hs1.flatten(), bins=155, range=[-5, 5], label='after', histtype='step')\n",
    "# plt.legend()\n",
    "# plt.show()\n",
    "\n",
    "# # # Test\n",
    "# # small_dataset = ds.select(range(4))\n",
    "# # small_dataset.map(normalize_hs, batched=True, batch_size=2, input_columns=['hs0', 'hs1'])\n",
    "\n",
    "# # run\n",
    "# ds = ds.map(normalize_hs, batched=True, input_columns=['hs0', 'hs1'])\n",
    "# ds"
   ]
  },
  {
   "attachments": {},
   "cell_type": "markdown",
   "metadata": {},
   "source": [
    "## Lightning DataModule"
   ]
  },
  {
   "cell_type": "code",
   "execution_count": 9,
   "metadata": {},
   "outputs": [
    {
     "data": {
      "text/html": [
       "<div>\n",
       "<style scoped>\n",
       "    .dataframe tbody tr th:only-of-type {\n",
       "        vertical-align: middle;\n",
       "    }\n",
       "\n",
       "    .dataframe tbody tr th {\n",
       "        vertical-align: top;\n",
       "    }\n",
       "\n",
       "    .dataframe thead th {\n",
       "        text-align: right;\n",
       "    }\n",
       "</style>\n",
       "<table border=\"1\" class=\"dataframe\">\n",
       "  <thead>\n",
       "    <tr style=\"text-align: right;\">\n",
       "      <th></th>\n",
       "      <th>ds_index</th>\n",
       "      <th>ds_string</th>\n",
       "      <th>example_i</th>\n",
       "      <th>answer</th>\n",
       "      <th>question</th>\n",
       "      <th>answer_choices</th>\n",
       "      <th>template_name</th>\n",
       "      <th>label_true</th>\n",
       "      <th>label_instructed</th>\n",
       "      <th>instructed_to_lie</th>\n",
       "      <th>sys_instr_name</th>\n",
       "      <th>prompt_truncated</th>\n",
       "      <th>choice_probs0</th>\n",
       "      <th>ans0</th>\n",
       "      <th>txt_ans0</th>\n",
       "      <th>dir_true</th>\n",
       "      <th>llm_ans</th>\n",
       "    </tr>\n",
       "  </thead>\n",
       "  <tbody>\n",
       "    <tr>\n",
       "      <th>0</th>\n",
       "      <td>0</td>\n",
       "      <td>imdb</td>\n",
       "      <td>0</td>\n",
       "      <td>positive</td>\n",
       "      <td>You are an AI assistant that always tells a li...</td>\n",
       "      <td>[negative, positive]</td>\n",
       "      <td>Movie Expressed Sentiment</td>\n",
       "      <td>0</td>\n",
       "      <td>1</td>\n",
       "      <td>True</td>\n",
       "      <td>lie_for_charity</td>\n",
       "      <td>Ingmar Bergman's Wild Strawberries, attempts ...</td>\n",
       "      <td>[0.15718427, 0.3860073]</td>\n",
       "      <td>0.710615</td>\n",
       "      <td>positive</td>\n",
       "      <td>0.710615</td>\n",
       "      <td>True</td>\n",
       "    </tr>\n",
       "    <tr>\n",
       "      <th>1</th>\n",
       "      <td>1</td>\n",
       "      <td>imdb</td>\n",
       "      <td>0</td>\n",
       "      <td>They didn't like it!</td>\n",
       "      <td>Below is an instruction that describes a task,...</td>\n",
       "      <td>[They didn't like it!, They loved it]</td>\n",
       "      <td>Reviewer Enjoyment</td>\n",
       "      <td>0</td>\n",
       "      <td>0</td>\n",
       "      <td>False</td>\n",
       "      <td>truth</td>\n",
       "      <td>OK, don't get bent out of round. I was kiddin...</td>\n",
       "      <td>[0.0026356296, 0.0026356296]</td>\n",
       "      <td>0.499053</td>\n",
       "      <td>\\n</td>\n",
       "      <td>0.499053</td>\n",
       "      <td>False</td>\n",
       "    </tr>\n",
       "    <tr>\n",
       "      <th>2</th>\n",
       "      <td>4</td>\n",
       "      <td>imdb</td>\n",
       "      <td>2</td>\n",
       "      <td>positive</td>\n",
       "      <td>You are an AI assistant that always tells a li...</td>\n",
       "      <td>[negative, positive]</td>\n",
       "      <td>Movie Expressed Sentiment</td>\n",
       "      <td>0</td>\n",
       "      <td>1</td>\n",
       "      <td>True</td>\n",
       "      <td>lie_for_charity</td>\n",
       "      <td>### Response:\\npositive\\n\\n### Instruction\\nYe...</td>\n",
       "      <td>[0.22315732, 0.33762622]</td>\n",
       "      <td>0.602051</td>\n",
       "      <td>positive</td>\n",
       "      <td>0.602051</td>\n",
       "      <td>True</td>\n",
       "    </tr>\n",
       "    <tr>\n",
       "      <th>3</th>\n",
       "      <td>5</td>\n",
       "      <td>imdb</td>\n",
       "      <td>2</td>\n",
       "      <td>They didn't like it!</td>\n",
       "      <td>Below is an instruction that describes a task,...</td>\n",
       "      <td>[They didn't like it!, They loved it]</td>\n",
       "      <td>Reviewer Enjoyment</td>\n",
       "      <td>0</td>\n",
       "      <td>0</td>\n",
       "      <td>False</td>\n",
       "      <td>truth</td>\n",
       "      <td>loved it\\n\\n### Instruction\\nYeh, I know -- y...</td>\n",
       "      <td>[2.0727819e-05, 2.0727819e-05]</td>\n",
       "      <td>0.402829</td>\n",
       "      <td>I</td>\n",
       "      <td>0.402829</td>\n",
       "      <td>False</td>\n",
       "    </tr>\n",
       "  </tbody>\n",
       "</table>\n",
       "</div>"
      ],
      "text/plain": [
       "   ds_index ds_string  example_i                answer  \\\n",
       "0         0      imdb          0              positive   \n",
       "1         1      imdb          0  They didn't like it!   \n",
       "2         4      imdb          2              positive   \n",
       "3         5      imdb          2  They didn't like it!   \n",
       "\n",
       "                                            question  \\\n",
       "0  You are an AI assistant that always tells a li...   \n",
       "1  Below is an instruction that describes a task,...   \n",
       "2  You are an AI assistant that always tells a li...   \n",
       "3  Below is an instruction that describes a task,...   \n",
       "\n",
       "                          answer_choices              template_name  \\\n",
       "0                   [negative, positive]  Movie Expressed Sentiment   \n",
       "1  [They didn't like it!, They loved it]         Reviewer Enjoyment   \n",
       "2                   [negative, positive]  Movie Expressed Sentiment   \n",
       "3  [They didn't like it!, They loved it]         Reviewer Enjoyment   \n",
       "\n",
       "   label_true  label_instructed  instructed_to_lie   sys_instr_name  \\\n",
       "0           0                 1               True  lie_for_charity   \n",
       "1           0                 0              False            truth   \n",
       "2           0                 1               True  lie_for_charity   \n",
       "3           0                 0              False            truth   \n",
       "\n",
       "                                    prompt_truncated  \\\n",
       "0   Ingmar Bergman's Wild Strawberries, attempts ...   \n",
       "1   OK, don't get bent out of round. I was kiddin...   \n",
       "2  ### Response:\\npositive\\n\\n### Instruction\\nYe...   \n",
       "3   loved it\\n\\n### Instruction\\nYeh, I know -- y...   \n",
       "\n",
       "                    choice_probs0      ans0  txt_ans0  dir_true  llm_ans  \n",
       "0         [0.15718427, 0.3860073]  0.710615  positive  0.710615     True  \n",
       "1    [0.0026356296, 0.0026356296]  0.499053        \\n  0.499053    False  \n",
       "2        [0.22315732, 0.33762622]  0.602051  positive  0.602051     True  \n",
       "3  [2.0727819e-05, 2.0727819e-05]  0.402829         I  0.402829    False  "
      ]
     },
     "execution_count": 9,
     "metadata": {},
     "output_type": "execute_result"
    }
   ],
   "source": [
    "df = ds2df(ds)\n",
    "df.head(4)"
   ]
  },
  {
   "cell_type": "code",
   "execution_count": 10,
   "metadata": {},
   "outputs": [],
   "source": [
    "# ds?"
   ]
  },
  {
   "attachments": {},
   "cell_type": "markdown",
   "metadata": {},
   "source": [
    "What are we detecting? If the right example of the pair is more deceptive.\n",
    "\n",
    "Now it's only deceptive if\n",
    "- it was asked to lie\n",
    "- it knows the truth\n",
    "- it gave the wrong answer (around 10% of the time)( it's hard to get these models to lie by encouragement rather than instruction)\n"
   ]
  },
  {
   "cell_type": "code",
   "execution_count": 11,
   "metadata": {},
   "outputs": [],
   "source": [
    "from src.helpers import switch2bool, bool2switch\n",
    "from src.datasets.dm import imdbHSDataModule"
   ]
  },
  {
   "cell_type": "code",
   "execution_count": 12,
   "metadata": {},
   "outputs": [
    {
     "data": {
      "text/plain": [
       "(1, 1)"
      ]
     },
     "execution_count": 12,
     "metadata": {},
     "output_type": "execute_result"
    }
   ],
   "source": [
    "batch_size = 120\n",
    "# test and cache\n",
    "dm = imdbHSDataModule(ds, batch_size=batch_size)\n",
    "dm.setup('train')\n",
    "\n",
    "dl_val = dm.val_dataloader()\n",
    "dl_train = dm.train_dataloader()\n",
    "len(dl_train), len(dl_val)"
   ]
  },
  {
   "cell_type": "code",
   "execution_count": 13,
   "metadata": {},
   "outputs": [
    {
     "data": {
      "text/plain": [
       "(152, 4, 2816, 2)"
      ]
     },
     "execution_count": 13,
     "metadata": {},
     "output_type": "execute_result"
    }
   ],
   "source": [
    "ds['head_activation_and_grad'].shape"
   ]
  },
  {
   "cell_type": "code",
   "execution_count": 14,
   "metadata": {},
   "outputs": [
    {
     "data": {
      "text/plain": [
       "torch.Size([76, 4, 2816, 2])"
      ]
     },
     "execution_count": 14,
     "metadata": {},
     "output_type": "execute_result"
    }
   ],
   "source": [
    "b = next(iter(dl_train))\n",
    "x0, y = b\n",
    "x0.shape"
   ]
  },
  {
   "attachments": {},
   "cell_type": "markdown",
   "metadata": {},
   "source": [
    "# Data prep\n",
    "\n",
    "We do two inferences on the same inputs. Since we have dropout enabled, even during inference, we get two slightly different hidden states `hs1` and `hs2`, and two slightly different probabilities for our yes and no output tokens `p1` `p2`. We also have the true answer `t`\n",
    "\n",
    "So there are a few ways we can set up the problem. \n",
    "\n",
    "We can vary x:\n",
    "- `model(hs1)-model(hs2)=y`\n",
    "- `model(hs1-hs2)==y`\n",
    "\n",
    "And we can try differen't y's:\n",
    "- direction with a ranked loss. This could be unsupervised.\n",
    "- magnitude with a regression loss\n",
    "- vector (direction and magnitude) with a regression loss"
   ]
  },
  {
   "attachments": {},
   "cell_type": "markdown",
   "metadata": {},
   "source": [
    "# QC: Linear supervised probes\n",
    "\n",
    "\n",
    "Let's verify that the model's representations are good\n",
    "\n",
    "Before trying CCS, let's make sure there exists a direction that classifies examples as true vs false with high accuracy; if supervised logistic regression accuracy is bad, there's no hope of unsupervised CCS doing well.\n",
    "\n",
    "Note that because logistic regression is supervised we expect it to do better but to have worse generalisation that equivilent unsupervised methods. However in this case CSS is using a deeper model so it is more complicated.\n"
   ]
  },
  {
   "attachments": {},
   "cell_type": "markdown",
   "metadata": {},
   "source": [
    "## Try a classification of direction to truth"
   ]
  },
  {
   "cell_type": "code",
   "execution_count": 15,
   "metadata": {},
   "outputs": [],
   "source": [
    "# dm.y"
   ]
  },
  {
   "cell_type": "code",
   "execution_count": 16,
   "metadata": {},
   "outputs": [],
   "source": [
    "# n = len(df)\n",
    "\n",
    "# # Define X and y\n",
    "# X = (dm.hs1-dm.hs0).reshape((n, -1))#/dm.y[:, None]\n",
    "# y = dm.y>0\n",
    "\n",
    "# # split\n",
    "# n = len(y)\n",
    "# max_rows = 300\n",
    "# print('split size', n//2)\n",
    "# X_train, X_test = X[:n//2], X[n//2:]\n",
    "# y_train, y_test = y[:n//2], y[n//2:]\n",
    "# X_train = X_train[:max_rows]\n",
    "# y_train = y_train[:max_rows]\n",
    "# X_test = X_test[:max_rows]\n",
    "# y_test = y_test[:max_rows]\n",
    "\n",
    "# # scale\n",
    "# scaler = RobustScaler()\n",
    "# scaler.fit(X_train)\n",
    "# X_train2 = scaler.transform(X_train)\n",
    "# X_test2 = scaler.transform(X_test)\n",
    "# print('lr')\n",
    "\n",
    "# lr = LogisticRegression(class_weight=\"balanced\", penalty=\"l2\", max_iter=100)\n",
    "# lr.fit(X_train2, y_train>0)"
   ]
  },
  {
   "cell_type": "code",
   "execution_count": 17,
   "metadata": {},
   "outputs": [],
   "source": [
    "# y.mean()"
   ]
  },
  {
   "cell_type": "code",
   "execution_count": 18,
   "metadata": {},
   "outputs": [],
   "source": [
    "# print(\"Logistic cls acc: {:2.2%} [TRAIN]\".format(lr.score(X_train2, y_train>0)))\n",
    "# print(\"Logistic cls acc: {:2.2%} [TEST]\".format(lr.score(X_test2, y_test>0)))\n",
    "\n",
    "# m = df['instructed_to_lie'][n//2:][:max_rows]\n",
    "# y_test_pred = lr.predict(X_test2)\n",
    "# acc_w_lie = ((y_test_pred[m]>0)==(y_test[m]>0)).mean()\n",
    "# acc_wo_lie = ((y_test_pred[~m]>0)==(y_test[~m]>0)).mean()\n",
    "# print(f'test acc w lie {acc_w_lie:2.2%}')\n",
    "# print(f'test acc wo lie {acc_wo_lie:2.2%}')"
   ]
  },
  {
   "cell_type": "code",
   "execution_count": 19,
   "metadata": {},
   "outputs": [],
   "source": [
    "# primary_baseline = roc_auc_score(y_test>0, y_test_pred)\n",
    "# primary_baseline"
   ]
  },
  {
   "attachments": {},
   "cell_type": "markdown",
   "metadata": {},
   "source": [
    "# LightningModel"
   ]
  },
  {
   "cell_type": "code",
   "execution_count": 20,
   "metadata": {},
   "outputs": [],
   "source": [
    "# # from src.probes.conv import PLConvProbe\n",
    "# import torch\n",
    "# import torch.nn as nn\n",
    "# import torch.nn.functional as F\n",
    "# from src.probes.conv import PLConvProbe\n",
    "# from src.probes.pl_ranking import PLRanking\n",
    "# from torchmetrics.functional import accuracy\n",
    "# from src.helpers import switch2bool, bool2switch\n",
    "\n",
    "# class ConvProbe(nn.Module):\n",
    "#     def __init__(self, c_in, depth=0, hs=16, dropout=0, input_dropout=0):\n",
    "#         super().__init__()\n",
    "\n",
    "#         layers = [\n",
    "#             nn.BatchNorm1d(c_in, affine=False),  # this will normalise the inputs\n",
    "#             nn.Dropout1d(input_dropout),\n",
    "            \n",
    "#             nn.Conv1d(c_in, hs*(depth+1), kernel_size=3),\n",
    "#             nn.ReLU(),\n",
    "#             nn.BatchNorm1d(hs*(depth+1)),\n",
    "#             nn.AdaptiveAvgPool1d(5),\n",
    "#             nn.Flatten(),\n",
    "#             nn.Linear(hs*(depth+1)*5, hs*(depth+1)),\n",
    "#         ]\n",
    "#         for i in range(depth):\n",
    "#             layers += [\n",
    "#                 nn.Linear(hs*(depth-i+1), hs*(depth-i)),\n",
    "#                 nn.ReLU(),\n",
    "#                 nn.BatchNorm1d(hs*(depth-i)),\n",
    "                \n",
    "#             ]\n",
    "#         # layers += [nn.AdaptiveAvgPool1d(1)]\n",
    "#         self.net = nn.Sequential(*layers)\n",
    "#         self.head = nn.Sequential(\n",
    "#             nn.Linear(hs, hs), nn.ReLU(),\n",
    "#             nn.Dropout(dropout), nn.Linear(hs, 1)            \n",
    "#         )\n",
    "\n",
    "#     def forward(self, x):\n",
    "#         h = self.net(x)\n",
    "#         # print(1, h.shape)\n",
    "#         h = h.squeeze(-1)\n",
    "#         # print(1, h.shape)\n",
    "#         return self.head(h)\n",
    "\n",
    "# class PLConvProbe(PLRanking):\n",
    "#     def __init__(self, c_in, total_steps, lr=4e-3, weight_decay=1e-9, **kwargs):\n",
    "#         super().__init__(total_steps=total_steps, lr=lr, weight_decay=weight_decay)\n",
    "#         self.probe = ConvProbe(c_in, **kwargs)\n",
    "#         self.save_hyperparameters()\n",
    "        \n",
    "        \n",
    "#     def _step(self, batch, batch_idx, stage='train'):\n",
    "#         x0, x1, y = batch\n",
    "#         ypred0 = self(x0)\n",
    "#         ypred1 = self(x1)\n",
    "        \n",
    "#         if stage=='pred':\n",
    "#             return (ypred1-ypred0).float()\n",
    "        \n",
    "#         # loss = F.smooth_l1_loss(ypred1-ypred0, y)\n",
    "#         loss = F.margin_ranking_loss(ypred1, ypred0, y, margin=0.5)\n",
    "#         # self.log(f\"{stage}/loss\", loss)\n",
    "        \n",
    "#         y_cls = switch2bool(ypred1-ypred0)\n",
    "#         self.log(f\"{stage}/acc\", accuracy(y_cls, y>0, \"binary\"), on_epoch=True, on_step=False)\n",
    "#         self.log(f\"{stage}/loss\", loss, on_epoch=True, on_step=False)\n",
    "#         self.log(f\"{stage}/n\", len(y), on_epoch=True, on_step=False, reduce_fx=torch.sum)\n",
    "#         return loss\n",
    "    \n",
    "    "
   ]
  },
  {
   "cell_type": "code",
   "execution_count": 21,
   "metadata": {},
   "outputs": [],
   "source": [
    "\n",
    "def dice_loss(input, target):\n",
    "    smooth = 1.\n",
    "\n",
    "    iflat = input.view(-1)\n",
    "    tflat = target.view(-1)\n",
    "    intersection = (iflat * tflat).sum()\n",
    "    \n",
    "    return 1 - ((2. * intersection + smooth) /\n",
    "              (iflat.sum() + tflat.sum() + smooth))"
   ]
  },
  {
   "cell_type": "code",
   "execution_count": 22,
   "metadata": {},
   "outputs": [],
   "source": [
    "# from src.probes.conv import PLConvProbe\n",
    "import torch\n",
    "import torch.nn as nn\n",
    "import torch.nn.functional as F\n",
    "from einops import rearrange\n",
    "from src.probes.conv import PLConvProbe\n",
    "from src.probes.pl_ranking import PLRanking\n",
    "from torchmetrics.functional import accuracy\n",
    "from src.helpers import switch2bool, bool2switch\n",
    "\n",
    "class ConvProbe(nn.Module):\n",
    "    def __init__(self, c_in, depth=0, hs=16, dropout=0, input_dropout=0):\n",
    "        super().__init__()\n",
    "        # self.n_groups = 24 # groups of neurons\n",
    "        # c = c_in//self.n_groups\n",
    "        c = c_in\n",
    "        P = 1\n",
    "\n",
    "        cw = hs*(depth+1)\n",
    "        self.layers1 = nn.Sequential(*[\n",
    "            nn.BatchNorm2d(c, affine=False),  # this will normalise the inputs\n",
    "            # nn.Dropout2d(input_dropout),\n",
    "            \n",
    "            nn.Conv2d(c, c//4, kernel_size=(1, 2)),\n",
    "            nn.Conv2d(c//4, cw, kernel_size=(2, 1)),\n",
    "            nn.ReLU(),\n",
    "            nn.BatchNorm2d(cw),\n",
    "            \n",
    "            # nn.Conv2d(cw, cw, kernel_size=(1, 3)),\n",
    "            # nn.Conv2d(cw, cw, kernel_size=(3, 1)),\n",
    "            # nn.ReLU(),\n",
    "            # nn.BatchNorm2d(cw),\n",
    "            \n",
    "            \n",
    "            # nn.Conv2d(cw, cw, kernel_size=(1, 3)),\n",
    "            # nn.Conv2d(cw, cw, kernel_size=(3, 1)),\n",
    "            # nn.ReLU(),\n",
    "            # nn.BatchNorm2d(cw),            \n",
    "            \n",
    "            nn.AdaptiveAvgPool2d(P),\n",
    "            nn.Flatten(),\n",
    "            \n",
    "        ])\n",
    "        layers2 = [nn.Linear(hs*(depth+1)*P*P, hs*(depth+1)),]\n",
    "        for i in range(depth):\n",
    "            layers2 += [\n",
    "                nn.Linear(hs*(depth-i+1), hs*(depth-i)),\n",
    "                nn.ReLU(),\n",
    "                nn.BatchNorm1d(hs*(depth-i)),\n",
    "                \n",
    "            ]\n",
    "        # layers += [nn.AdaptiveAvgPool1d(1)]\n",
    "        self.layers2 = nn.Sequential(*layers2)\n",
    "        self.head = nn.Sequential(\n",
    "            nn.Linear(hs, hs), nn.ReLU(),\n",
    "            nn.Dropout(dropout), nn.Linear(hs, 1)            \n",
    "        )\n",
    "\n",
    "    def forward(self, x):\n",
    "        # torch.Size([76, 4, 2816, 2])\n",
    "        x = rearrange(x, 'b l hs f -> b hs l f')\n",
    "        # x = x.reshape((len(x), -1, self.n_groups, x.shape[-1]))\n",
    "        # print(x.shape, 3)\n",
    "        h = self.layers1(x)\n",
    "        # print(h.shape, 4)\n",
    "        h = self.layers2(h)\n",
    "        # print(h.shape, 5)\n",
    "        # print(1, h.shape)\n",
    "        h = h.squeeze(-1)\n",
    "        # print(1, h.shape)\n",
    "        return self.head(h)\n",
    "\n",
    "class PLConvProbe(PLRanking):\n",
    "    def __init__(self, c_in, total_steps, lr=4e-3, weight_decay=1e-9, **kwargs):\n",
    "        super().__init__(total_steps=total_steps, lr=lr, weight_decay=weight_decay)\n",
    "        self.probe = ConvProbe(c_in, **kwargs)\n",
    "        self.save_hyperparameters()\n",
    "        \n",
    "        \n",
    "    def _step(self, batch, batch_idx, stage='train'):\n",
    "        x0, y = batch\n",
    "        y_pred_logit = self(x0)\n",
    "        y_pred = F.sigmoid(y_pred_logit)\n",
    "        \n",
    "        if stage=='pred':\n",
    "            return y_pred.float()\n",
    "        \n",
    "        # loss = F.smooth_l1_loss(ypred1-ypred0, y)\n",
    "        # loss = F.margin_ranking_loss(ypred1, ypred0, y, margin=0.5)\n",
    "        # self.log(f\"{stage}/loss\", loss)\n",
    "        \n",
    "        # TODO dice loss?\n",
    "        # loss = F.binary_cross_entropy_with_logits(y_pred_logit, y)\n",
    "        loss = dice_loss(y_pred, y)\n",
    "        \n",
    "        y_cls = y_pred>0.5 # switch2bool(ypred1-ypred0)\n",
    "        self.log(f\"{stage}/acc\", accuracy(y_cls, y>0.5, \"binary\"), on_epoch=True, on_step=False)\n",
    "        self.log(f\"{stage}/loss\", loss, on_epoch=True, on_step=False)\n",
    "        self.log(f\"{stage}/n\", len(y), on_epoch=True, on_step=False, reduce_fx=torch.sum)\n",
    "        return loss\n",
    "    \n",
    "    "
   ]
  },
  {
   "cell_type": "code",
   "execution_count": null,
   "metadata": {},
   "outputs": [],
   "source": []
  },
  {
   "attachments": {},
   "cell_type": "markdown",
   "metadata": {},
   "source": [
    "# Run"
   ]
  },
  {
   "cell_type": "code",
   "execution_count": 23,
   "metadata": {},
   "outputs": [],
   "source": [
    "# quiet please\n",
    "torch.set_float32_matmul_precision('medium')\n",
    "\n",
    "import warnings\n",
    "warnings.filterwarnings(\"ignore\", \".*does not have many workers.*\")\n",
    "warnings.filterwarnings(\"ignore\", \".*F-score.*\")"
   ]
  },
  {
   "attachments": {},
   "cell_type": "markdown",
   "metadata": {},
   "source": [
    "## Prep dataloader/set"
   ]
  },
  {
   "cell_type": "code",
   "execution_count": 24,
   "metadata": {},
   "outputs": [],
   "source": [
    "dl_train = dm.train_dataloader()\n",
    "dl_val = dm.val_dataloader()\n",
    "b = next(iter(dl_train))"
   ]
  },
  {
   "cell_type": "code",
   "execution_count": 77,
   "metadata": {},
   "outputs": [
    {
     "name": "stdout",
     "output_type": "stream",
     "text": [
      "torch.Size([76, 4, 2816, 2])\n"
     ]
    }
   ],
   "source": [
    "max_epochs = 82\n",
    "batch_size = 6\n",
    "\n",
    "c_in = b[0].shape[2]\n",
    "print(b[0].shape)\n",
    "net = PLConvProbe(c_in=c_in, total_steps=max_epochs*len(dl_train), depth=0, hs=18, lr=3e-3, \n",
    "          weight_decay=.1, \n",
    "          # dropout=0.1, \n",
    "        #   input_dropout=0.3,\n",
    "          )"
   ]
  },
  {
   "cell_type": "code",
   "execution_count": 78,
   "metadata": {},
   "outputs": [
    {
     "data": {
      "text/plain": [
       "==========================================================================================\n",
       "Layer (type:depth-idx)                   Output Shape              Param #\n",
       "==========================================================================================\n",
       "PLConvProbe                              [76]                      --\n",
       "├─ConvProbe: 1-1                         [76, 1]                   --\n",
       "│    └─Sequential: 2-1                   [76, 18]                  --\n",
       "│    │    └─BatchNorm2d: 3-1             [76, 2816, 4, 2]          --\n",
       "│    │    └─Conv2d: 3-2                  [76, 704, 4, 1]           3,965,632\n",
       "│    │    └─Conv2d: 3-3                  [76, 18, 3, 1]            25,362\n",
       "│    │    └─ReLU: 3-4                    [76, 18, 3, 1]            --\n",
       "│    │    └─BatchNorm2d: 3-5             [76, 18, 3, 1]            36\n",
       "│    │    └─AdaptiveAvgPool2d: 3-6       [76, 18, 1, 1]            --\n",
       "│    │    └─Flatten: 3-7                 [76, 18]                  --\n",
       "│    └─Sequential: 2-2                   [76, 18]                  --\n",
       "│    │    └─Linear: 3-8                  [76, 18]                  342\n",
       "│    └─Sequential: 2-3                   [76, 1]                   --\n",
       "│    │    └─Linear: 3-9                  [76, 18]                  342\n",
       "│    │    └─ReLU: 3-10                   [76, 18]                  --\n",
       "│    │    └─Dropout: 3-11                [76, 18]                  --\n",
       "│    │    └─Linear: 3-12                 [76, 1]                   19\n",
       "==========================================================================================\n",
       "Total params: 3,991,733\n",
       "Trainable params: 3,991,733\n",
       "Non-trainable params: 0\n",
       "Total mult-adds (Units.GIGABYTES): 1.21\n",
       "==========================================================================================\n",
       "Input size (MB): 6.85\n",
       "Forward/backward pass size (MB): 1.80\n",
       "Params size (MB): 15.97\n",
       "Estimated Total Size (MB): 24.62\n",
       "=========================================================================================="
      ]
     },
     "execution_count": 78,
     "metadata": {},
     "output_type": "execute_result"
    }
   ],
   "source": [
    "from torchinfo import summary\n",
    "\n",
    "summary(net, input_size=b[0].shape)"
   ]
  },
  {
   "cell_type": "code",
   "execution_count": null,
   "metadata": {},
   "outputs": [],
   "source": []
  },
  {
   "cell_type": "code",
   "execution_count": 79,
   "metadata": {},
   "outputs": [
    {
     "name": "stderr",
     "output_type": "stream",
     "text": [
      "Using bfloat16 Automatic Mixed Precision (AMP)\n",
      "GPU available: True (cuda), used: True\n",
      "TPU available: False, using: 0 TPU cores\n",
      "IPU available: False, using: 0 IPUs\n",
      "HPU available: False, using: 0 HPUs\n",
      "LOCAL_RANK: 0 - CUDA_VISIBLE_DEVICES: [0]\n",
      "\n",
      "  | Name  | Type      | Params\n",
      "------------------------------------\n",
      "0 | probe | ConvProbe | 4.0 M \n",
      "------------------------------------\n",
      "4.0 M     Trainable params\n",
      "0         Non-trainable params\n",
      "4.0 M     Total params\n",
      "15.967    Total estimated model params size (MB)\n"
     ]
    },
    {
     "data": {
      "application/vnd.jupyter.widget-view+json": {
       "model_id": "1ad9d741192d4fac91ab2610ff111792",
       "version_major": 2,
       "version_minor": 0
      },
      "text/plain": [
       "Sanity Checking: 0it [00:00, ?it/s]"
      ]
     },
     "metadata": {},
     "output_type": "display_data"
    },
    {
     "name": "stderr",
     "output_type": "stream",
     "text": [
      "/home/ubuntu/mambaforge/envs/dlk3/lib/python3.11/site-packages/lightning/pytorch/loops/fit_loop.py:280: PossibleUserWarning: The number of training batches (1) is smaller than the logging interval Trainer(log_every_n_steps=5). Set a lower value for log_every_n_steps if you want to see logs for the training epoch.\n",
      "  rank_zero_warn(\n"
     ]
    },
    {
     "data": {
      "application/vnd.jupyter.widget-view+json": {
       "model_id": "cf0aeadf99604118a1ff7f64a828f14b",
       "version_major": 2,
       "version_minor": 0
      },
      "text/plain": [
       "Training: 0it [00:00, ?it/s]"
      ]
     },
     "metadata": {},
     "output_type": "display_data"
    },
    {
     "data": {
      "application/vnd.jupyter.widget-view+json": {
       "model_id": "2a15728e2d9f415493fc097d903cc4a0",
       "version_major": 2,
       "version_minor": 0
      },
      "text/plain": [
       "Validation: 0it [00:00, ?it/s]"
      ]
     },
     "metadata": {},
     "output_type": "display_data"
    },
    {
     "data": {
      "application/vnd.jupyter.widget-view+json": {
       "model_id": "71e86a7cf9534711b3ab4a6062d35112",
       "version_major": 2,
       "version_minor": 0
      },
      "text/plain": [
       "Validation: 0it [00:00, ?it/s]"
      ]
     },
     "metadata": {},
     "output_type": "display_data"
    },
    {
     "data": {
      "application/vnd.jupyter.widget-view+json": {
       "model_id": "8af095fa9bf24f39b531c81861b9de91",
       "version_major": 2,
       "version_minor": 0
      },
      "text/plain": [
       "Validation: 0it [00:00, ?it/s]"
      ]
     },
     "metadata": {},
     "output_type": "display_data"
    },
    {
     "data": {
      "application/vnd.jupyter.widget-view+json": {
       "model_id": "b78b7f61ab604076ab25fe95d5b31f43",
       "version_major": 2,
       "version_minor": 0
      },
      "text/plain": [
       "Validation: 0it [00:00, ?it/s]"
      ]
     },
     "metadata": {},
     "output_type": "display_data"
    },
    {
     "data": {
      "application/vnd.jupyter.widget-view+json": {
       "model_id": "8c7ec1de697c429aa31ff0c6169e2b97",
       "version_major": 2,
       "version_minor": 0
      },
      "text/plain": [
       "Validation: 0it [00:00, ?it/s]"
      ]
     },
     "metadata": {},
     "output_type": "display_data"
    },
    {
     "data": {
      "application/vnd.jupyter.widget-view+json": {
       "model_id": "db171a4325454784971a21582c4dc05f",
       "version_major": 2,
       "version_minor": 0
      },
      "text/plain": [
       "Validation: 0it [00:00, ?it/s]"
      ]
     },
     "metadata": {},
     "output_type": "display_data"
    },
    {
     "data": {
      "application/vnd.jupyter.widget-view+json": {
       "model_id": "1e087e621e364054b75b04cfa4e489b8",
       "version_major": 2,
       "version_minor": 0
      },
      "text/plain": [
       "Validation: 0it [00:00, ?it/s]"
      ]
     },
     "metadata": {},
     "output_type": "display_data"
    },
    {
     "data": {
      "application/vnd.jupyter.widget-view+json": {
       "model_id": "499a526135a944d5aa80a3bf50c5dee7",
       "version_major": 2,
       "version_minor": 0
      },
      "text/plain": [
       "Validation: 0it [00:00, ?it/s]"
      ]
     },
     "metadata": {},
     "output_type": "display_data"
    },
    {
     "data": {
      "application/vnd.jupyter.widget-view+json": {
       "model_id": "ccdd7d12b20541d1bd6ce9a34ff6c9b3",
       "version_major": 2,
       "version_minor": 0
      },
      "text/plain": [
       "Validation: 0it [00:00, ?it/s]"
      ]
     },
     "metadata": {},
     "output_type": "display_data"
    },
    {
     "data": {
      "application/vnd.jupyter.widget-view+json": {
       "model_id": "84df911419dd4426aef37e19a264d06a",
       "version_major": 2,
       "version_minor": 0
      },
      "text/plain": [
       "Validation: 0it [00:00, ?it/s]"
      ]
     },
     "metadata": {},
     "output_type": "display_data"
    },
    {
     "data": {
      "application/vnd.jupyter.widget-view+json": {
       "model_id": "8179e85f095e4dde91b74484fa5e8b20",
       "version_major": 2,
       "version_minor": 0
      },
      "text/plain": [
       "Validation: 0it [00:00, ?it/s]"
      ]
     },
     "metadata": {},
     "output_type": "display_data"
    },
    {
     "data": {
      "application/vnd.jupyter.widget-view+json": {
       "model_id": "acaa818966d045c0a214ba589b45db38",
       "version_major": 2,
       "version_minor": 0
      },
      "text/plain": [
       "Validation: 0it [00:00, ?it/s]"
      ]
     },
     "metadata": {},
     "output_type": "display_data"
    },
    {
     "data": {
      "application/vnd.jupyter.widget-view+json": {
       "model_id": "59d7dc90888a4259a8deba09d72d3445",
       "version_major": 2,
       "version_minor": 0
      },
      "text/plain": [
       "Validation: 0it [00:00, ?it/s]"
      ]
     },
     "metadata": {},
     "output_type": "display_data"
    },
    {
     "data": {
      "application/vnd.jupyter.widget-view+json": {
       "model_id": "fd203c226a4743b0b5aacf6e31064d57",
       "version_major": 2,
       "version_minor": 0
      },
      "text/plain": [
       "Validation: 0it [00:00, ?it/s]"
      ]
     },
     "metadata": {},
     "output_type": "display_data"
    },
    {
     "data": {
      "application/vnd.jupyter.widget-view+json": {
       "model_id": "2f1eab5ec2994e99b4bd5836afc6050f",
       "version_major": 2,
       "version_minor": 0
      },
      "text/plain": [
       "Validation: 0it [00:00, ?it/s]"
      ]
     },
     "metadata": {},
     "output_type": "display_data"
    },
    {
     "data": {
      "application/vnd.jupyter.widget-view+json": {
       "model_id": "e9fb82ecfeca4196b587947c6a23e367",
       "version_major": 2,
       "version_minor": 0
      },
      "text/plain": [
       "Validation: 0it [00:00, ?it/s]"
      ]
     },
     "metadata": {},
     "output_type": "display_data"
    },
    {
     "data": {
      "application/vnd.jupyter.widget-view+json": {
       "model_id": "9743f7a657b74550badd49fe689e5075",
       "version_major": 2,
       "version_minor": 0
      },
      "text/plain": [
       "Validation: 0it [00:00, ?it/s]"
      ]
     },
     "metadata": {},
     "output_type": "display_data"
    },
    {
     "data": {
      "application/vnd.jupyter.widget-view+json": {
       "model_id": "363a3edebba7488382c8829003448b15",
       "version_major": 2,
       "version_minor": 0
      },
      "text/plain": [
       "Validation: 0it [00:00, ?it/s]"
      ]
     },
     "metadata": {},
     "output_type": "display_data"
    },
    {
     "data": {
      "application/vnd.jupyter.widget-view+json": {
       "model_id": "e65b34e6eb504bc4afbba14bff8539b8",
       "version_major": 2,
       "version_minor": 0
      },
      "text/plain": [
       "Validation: 0it [00:00, ?it/s]"
      ]
     },
     "metadata": {},
     "output_type": "display_data"
    },
    {
     "data": {
      "application/vnd.jupyter.widget-view+json": {
       "model_id": "69f12fa91d5b43348625027afb1580f6",
       "version_major": 2,
       "version_minor": 0
      },
      "text/plain": [
       "Validation: 0it [00:00, ?it/s]"
      ]
     },
     "metadata": {},
     "output_type": "display_data"
    },
    {
     "data": {
      "application/vnd.jupyter.widget-view+json": {
       "model_id": "dd2f381c5b344120b41740dd17ecfcf4",
       "version_major": 2,
       "version_minor": 0
      },
      "text/plain": [
       "Validation: 0it [00:00, ?it/s]"
      ]
     },
     "metadata": {},
     "output_type": "display_data"
    },
    {
     "data": {
      "application/vnd.jupyter.widget-view+json": {
       "model_id": "92bebdf178e0427488840273f14846ec",
       "version_major": 2,
       "version_minor": 0
      },
      "text/plain": [
       "Validation: 0it [00:00, ?it/s]"
      ]
     },
     "metadata": {},
     "output_type": "display_data"
    },
    {
     "data": {
      "application/vnd.jupyter.widget-view+json": {
       "model_id": "a5a9976b27fa4e95b63242c014f536da",
       "version_major": 2,
       "version_minor": 0
      },
      "text/plain": [
       "Validation: 0it [00:00, ?it/s]"
      ]
     },
     "metadata": {},
     "output_type": "display_data"
    },
    {
     "data": {
      "application/vnd.jupyter.widget-view+json": {
       "model_id": "dfa96bb80d4a4125ab6dda00eba90b65",
       "version_major": 2,
       "version_minor": 0
      },
      "text/plain": [
       "Validation: 0it [00:00, ?it/s]"
      ]
     },
     "metadata": {},
     "output_type": "display_data"
    },
    {
     "data": {
      "application/vnd.jupyter.widget-view+json": {
       "model_id": "066aaf33904240daa3c3595132b46e58",
       "version_major": 2,
       "version_minor": 0
      },
      "text/plain": [
       "Validation: 0it [00:00, ?it/s]"
      ]
     },
     "metadata": {},
     "output_type": "display_data"
    },
    {
     "data": {
      "application/vnd.jupyter.widget-view+json": {
       "model_id": "780ad49fe7c3428ea9ab2a51cd98e296",
       "version_major": 2,
       "version_minor": 0
      },
      "text/plain": [
       "Validation: 0it [00:00, ?it/s]"
      ]
     },
     "metadata": {},
     "output_type": "display_data"
    },
    {
     "data": {
      "application/vnd.jupyter.widget-view+json": {
       "model_id": "09a2afaa01b9428498ca4a5a9427917d",
       "version_major": 2,
       "version_minor": 0
      },
      "text/plain": [
       "Validation: 0it [00:00, ?it/s]"
      ]
     },
     "metadata": {},
     "output_type": "display_data"
    },
    {
     "data": {
      "application/vnd.jupyter.widget-view+json": {
       "model_id": "e59e54d823fe4b3ebac5cf02c30b80bc",
       "version_major": 2,
       "version_minor": 0
      },
      "text/plain": [
       "Validation: 0it [00:00, ?it/s]"
      ]
     },
     "metadata": {},
     "output_type": "display_data"
    },
    {
     "data": {
      "application/vnd.jupyter.widget-view+json": {
       "model_id": "2459fa6dd5f441b9beb75ea51706681b",
       "version_major": 2,
       "version_minor": 0
      },
      "text/plain": [
       "Validation: 0it [00:00, ?it/s]"
      ]
     },
     "metadata": {},
     "output_type": "display_data"
    },
    {
     "data": {
      "application/vnd.jupyter.widget-view+json": {
       "model_id": "71adc1b3ed014fef83f9061d9c605f91",
       "version_major": 2,
       "version_minor": 0
      },
      "text/plain": [
       "Validation: 0it [00:00, ?it/s]"
      ]
     },
     "metadata": {},
     "output_type": "display_data"
    },
    {
     "data": {
      "application/vnd.jupyter.widget-view+json": {
       "model_id": "88330cacb4f7470a87ea9d68f61a09aa",
       "version_major": 2,
       "version_minor": 0
      },
      "text/plain": [
       "Validation: 0it [00:00, ?it/s]"
      ]
     },
     "metadata": {},
     "output_type": "display_data"
    },
    {
     "data": {
      "application/vnd.jupyter.widget-view+json": {
       "model_id": "0153be029246431ca0ce18bd71614f0e",
       "version_major": 2,
       "version_minor": 0
      },
      "text/plain": [
       "Validation: 0it [00:00, ?it/s]"
      ]
     },
     "metadata": {},
     "output_type": "display_data"
    },
    {
     "data": {
      "application/vnd.jupyter.widget-view+json": {
       "model_id": "5db7fa24acc84b879fc09f65ff0dc713",
       "version_major": 2,
       "version_minor": 0
      },
      "text/plain": [
       "Validation: 0it [00:00, ?it/s]"
      ]
     },
     "metadata": {},
     "output_type": "display_data"
    },
    {
     "data": {
      "application/vnd.jupyter.widget-view+json": {
       "model_id": "f46bbf63b3ed4961ae7ab2ae47d92ded",
       "version_major": 2,
       "version_minor": 0
      },
      "text/plain": [
       "Validation: 0it [00:00, ?it/s]"
      ]
     },
     "metadata": {},
     "output_type": "display_data"
    },
    {
     "data": {
      "application/vnd.jupyter.widget-view+json": {
       "model_id": "dd81a5482afc4e2ea61dcd134da863f8",
       "version_major": 2,
       "version_minor": 0
      },
      "text/plain": [
       "Validation: 0it [00:00, ?it/s]"
      ]
     },
     "metadata": {},
     "output_type": "display_data"
    },
    {
     "data": {
      "application/vnd.jupyter.widget-view+json": {
       "model_id": "34f1570411b6469ebf1d5921e24b2416",
       "version_major": 2,
       "version_minor": 0
      },
      "text/plain": [
       "Validation: 0it [00:00, ?it/s]"
      ]
     },
     "metadata": {},
     "output_type": "display_data"
    },
    {
     "data": {
      "application/vnd.jupyter.widget-view+json": {
       "model_id": "c2371a02be4e461395168014ab62d33d",
       "version_major": 2,
       "version_minor": 0
      },
      "text/plain": [
       "Validation: 0it [00:00, ?it/s]"
      ]
     },
     "metadata": {},
     "output_type": "display_data"
    },
    {
     "data": {
      "application/vnd.jupyter.widget-view+json": {
       "model_id": "b10d9ac76fc249f6a605f877d014e44d",
       "version_major": 2,
       "version_minor": 0
      },
      "text/plain": [
       "Validation: 0it [00:00, ?it/s]"
      ]
     },
     "metadata": {},
     "output_type": "display_data"
    },
    {
     "data": {
      "application/vnd.jupyter.widget-view+json": {
       "model_id": "9aa5c20f713f4c4dbac16b796ce85ae3",
       "version_major": 2,
       "version_minor": 0
      },
      "text/plain": [
       "Validation: 0it [00:00, ?it/s]"
      ]
     },
     "metadata": {},
     "output_type": "display_data"
    },
    {
     "data": {
      "application/vnd.jupyter.widget-view+json": {
       "model_id": "eac168faa23049caa284528213a8b17c",
       "version_major": 2,
       "version_minor": 0
      },
      "text/plain": [
       "Validation: 0it [00:00, ?it/s]"
      ]
     },
     "metadata": {},
     "output_type": "display_data"
    },
    {
     "data": {
      "application/vnd.jupyter.widget-view+json": {
       "model_id": "89d667727f79479f8788875ad31545e8",
       "version_major": 2,
       "version_minor": 0
      },
      "text/plain": [
       "Validation: 0it [00:00, ?it/s]"
      ]
     },
     "metadata": {},
     "output_type": "display_data"
    },
    {
     "data": {
      "application/vnd.jupyter.widget-view+json": {
       "model_id": "0e36f5101d9d4672ac91686490b9e8f0",
       "version_major": 2,
       "version_minor": 0
      },
      "text/plain": [
       "Validation: 0it [00:00, ?it/s]"
      ]
     },
     "metadata": {},
     "output_type": "display_data"
    },
    {
     "data": {
      "application/vnd.jupyter.widget-view+json": {
       "model_id": "8008be6bd956483fa5d7269a17278b44",
       "version_major": 2,
       "version_minor": 0
      },
      "text/plain": [
       "Validation: 0it [00:00, ?it/s]"
      ]
     },
     "metadata": {},
     "output_type": "display_data"
    },
    {
     "data": {
      "application/vnd.jupyter.widget-view+json": {
       "model_id": "543204772365454cb842ba86d285fb9e",
       "version_major": 2,
       "version_minor": 0
      },
      "text/plain": [
       "Validation: 0it [00:00, ?it/s]"
      ]
     },
     "metadata": {},
     "output_type": "display_data"
    },
    {
     "data": {
      "application/vnd.jupyter.widget-view+json": {
       "model_id": "63fc14607c8d44d0979f520a7eda4332",
       "version_major": 2,
       "version_minor": 0
      },
      "text/plain": [
       "Validation: 0it [00:00, ?it/s]"
      ]
     },
     "metadata": {},
     "output_type": "display_data"
    },
    {
     "data": {
      "application/vnd.jupyter.widget-view+json": {
       "model_id": "c57842a2b85b45b7a2d84749da6d9490",
       "version_major": 2,
       "version_minor": 0
      },
      "text/plain": [
       "Validation: 0it [00:00, ?it/s]"
      ]
     },
     "metadata": {},
     "output_type": "display_data"
    },
    {
     "data": {
      "application/vnd.jupyter.widget-view+json": {
       "model_id": "b6a5332653ef4b3bbfe447927e7b3d94",
       "version_major": 2,
       "version_minor": 0
      },
      "text/plain": [
       "Validation: 0it [00:00, ?it/s]"
      ]
     },
     "metadata": {},
     "output_type": "display_data"
    },
    {
     "data": {
      "application/vnd.jupyter.widget-view+json": {
       "model_id": "d0b109c8a81d47c198a070946ea1b6d0",
       "version_major": 2,
       "version_minor": 0
      },
      "text/plain": [
       "Validation: 0it [00:00, ?it/s]"
      ]
     },
     "metadata": {},
     "output_type": "display_data"
    },
    {
     "data": {
      "application/vnd.jupyter.widget-view+json": {
       "model_id": "b1e48211db46427ba1043c0c52eeeca6",
       "version_major": 2,
       "version_minor": 0
      },
      "text/plain": [
       "Validation: 0it [00:00, ?it/s]"
      ]
     },
     "metadata": {},
     "output_type": "display_data"
    },
    {
     "data": {
      "application/vnd.jupyter.widget-view+json": {
       "model_id": "e7b18266e02048feac80be36781b17e3",
       "version_major": 2,
       "version_minor": 0
      },
      "text/plain": [
       "Validation: 0it [00:00, ?it/s]"
      ]
     },
     "metadata": {},
     "output_type": "display_data"
    },
    {
     "data": {
      "application/vnd.jupyter.widget-view+json": {
       "model_id": "adbeb8e74a4a427f8624e11ad449b21e",
       "version_major": 2,
       "version_minor": 0
      },
      "text/plain": [
       "Validation: 0it [00:00, ?it/s]"
      ]
     },
     "metadata": {},
     "output_type": "display_data"
    },
    {
     "data": {
      "application/vnd.jupyter.widget-view+json": {
       "model_id": "41c48df2cd45429ea285139fb8be640d",
       "version_major": 2,
       "version_minor": 0
      },
      "text/plain": [
       "Validation: 0it [00:00, ?it/s]"
      ]
     },
     "metadata": {},
     "output_type": "display_data"
    },
    {
     "data": {
      "application/vnd.jupyter.widget-view+json": {
       "model_id": "cacd4e9b33654b9ebad91a1e15f97da6",
       "version_major": 2,
       "version_minor": 0
      },
      "text/plain": [
       "Validation: 0it [00:00, ?it/s]"
      ]
     },
     "metadata": {},
     "output_type": "display_data"
    },
    {
     "data": {
      "application/vnd.jupyter.widget-view+json": {
       "model_id": "76943a5d8bbd4b969a7f4f186b4ef059",
       "version_major": 2,
       "version_minor": 0
      },
      "text/plain": [
       "Validation: 0it [00:00, ?it/s]"
      ]
     },
     "metadata": {},
     "output_type": "display_data"
    },
    {
     "data": {
      "application/vnd.jupyter.widget-view+json": {
       "model_id": "4b130977b4b844a0b88a672f5b00ba88",
       "version_major": 2,
       "version_minor": 0
      },
      "text/plain": [
       "Validation: 0it [00:00, ?it/s]"
      ]
     },
     "metadata": {},
     "output_type": "display_data"
    },
    {
     "data": {
      "application/vnd.jupyter.widget-view+json": {
       "model_id": "e09cc30d6fb64ddfb516324ecfa1ab4b",
       "version_major": 2,
       "version_minor": 0
      },
      "text/plain": [
       "Validation: 0it [00:00, ?it/s]"
      ]
     },
     "metadata": {},
     "output_type": "display_data"
    },
    {
     "data": {
      "application/vnd.jupyter.widget-view+json": {
       "model_id": "d9d244561158405aa2ccdc7a45be835b",
       "version_major": 2,
       "version_minor": 0
      },
      "text/plain": [
       "Validation: 0it [00:00, ?it/s]"
      ]
     },
     "metadata": {},
     "output_type": "display_data"
    },
    {
     "data": {
      "application/vnd.jupyter.widget-view+json": {
       "model_id": "d23d99288aab494a96ad2ad020b89dd1",
       "version_major": 2,
       "version_minor": 0
      },
      "text/plain": [
       "Validation: 0it [00:00, ?it/s]"
      ]
     },
     "metadata": {},
     "output_type": "display_data"
    },
    {
     "data": {
      "application/vnd.jupyter.widget-view+json": {
       "model_id": "e2eda02afd9e4284b957ee51edc7d46c",
       "version_major": 2,
       "version_minor": 0
      },
      "text/plain": [
       "Validation: 0it [00:00, ?it/s]"
      ]
     },
     "metadata": {},
     "output_type": "display_data"
    },
    {
     "data": {
      "application/vnd.jupyter.widget-view+json": {
       "model_id": "9bbf1bd217e6408e900852816e26ceff",
       "version_major": 2,
       "version_minor": 0
      },
      "text/plain": [
       "Validation: 0it [00:00, ?it/s]"
      ]
     },
     "metadata": {},
     "output_type": "display_data"
    },
    {
     "data": {
      "application/vnd.jupyter.widget-view+json": {
       "model_id": "f8bd082baed24c9583d133ef4a5e86a0",
       "version_major": 2,
       "version_minor": 0
      },
      "text/plain": [
       "Validation: 0it [00:00, ?it/s]"
      ]
     },
     "metadata": {},
     "output_type": "display_data"
    },
    {
     "data": {
      "application/vnd.jupyter.widget-view+json": {
       "model_id": "7d60fa3fe4a1420faef5734ebedd2f91",
       "version_major": 2,
       "version_minor": 0
      },
      "text/plain": [
       "Validation: 0it [00:00, ?it/s]"
      ]
     },
     "metadata": {},
     "output_type": "display_data"
    },
    {
     "data": {
      "application/vnd.jupyter.widget-view+json": {
       "model_id": "14578176f7874b79a05469b449f91ac6",
       "version_major": 2,
       "version_minor": 0
      },
      "text/plain": [
       "Validation: 0it [00:00, ?it/s]"
      ]
     },
     "metadata": {},
     "output_type": "display_data"
    },
    {
     "data": {
      "application/vnd.jupyter.widget-view+json": {
       "model_id": "2281d81076aa4656b8787fe9c935768a",
       "version_major": 2,
       "version_minor": 0
      },
      "text/plain": [
       "Validation: 0it [00:00, ?it/s]"
      ]
     },
     "metadata": {},
     "output_type": "display_data"
    },
    {
     "data": {
      "application/vnd.jupyter.widget-view+json": {
       "model_id": "50e18c9e1d66407198d247883125cf3b",
       "version_major": 2,
       "version_minor": 0
      },
      "text/plain": [
       "Validation: 0it [00:00, ?it/s]"
      ]
     },
     "metadata": {},
     "output_type": "display_data"
    },
    {
     "data": {
      "application/vnd.jupyter.widget-view+json": {
       "model_id": "bd1338e61e97415089e1880c78309f6d",
       "version_major": 2,
       "version_minor": 0
      },
      "text/plain": [
       "Validation: 0it [00:00, ?it/s]"
      ]
     },
     "metadata": {},
     "output_type": "display_data"
    },
    {
     "data": {
      "application/vnd.jupyter.widget-view+json": {
       "model_id": "a3bb69feb815404c98a4abde74b5d7c5",
       "version_major": 2,
       "version_minor": 0
      },
      "text/plain": [
       "Validation: 0it [00:00, ?it/s]"
      ]
     },
     "metadata": {},
     "output_type": "display_data"
    },
    {
     "data": {
      "application/vnd.jupyter.widget-view+json": {
       "model_id": "406bca49a3b7425297998a187bd0dd8a",
       "version_major": 2,
       "version_minor": 0
      },
      "text/plain": [
       "Validation: 0it [00:00, ?it/s]"
      ]
     },
     "metadata": {},
     "output_type": "display_data"
    },
    {
     "data": {
      "application/vnd.jupyter.widget-view+json": {
       "model_id": "3597e7d355374a88b8bd723fa050bc61",
       "version_major": 2,
       "version_minor": 0
      },
      "text/plain": [
       "Validation: 0it [00:00, ?it/s]"
      ]
     },
     "metadata": {},
     "output_type": "display_data"
    },
    {
     "data": {
      "application/vnd.jupyter.widget-view+json": {
       "model_id": "cb7559b7f73d457b9ecea915af760135",
       "version_major": 2,
       "version_minor": 0
      },
      "text/plain": [
       "Validation: 0it [00:00, ?it/s]"
      ]
     },
     "metadata": {},
     "output_type": "display_data"
    },
    {
     "data": {
      "application/vnd.jupyter.widget-view+json": {
       "model_id": "f249f04084f442c5873de0834897aea1",
       "version_major": 2,
       "version_minor": 0
      },
      "text/plain": [
       "Validation: 0it [00:00, ?it/s]"
      ]
     },
     "metadata": {},
     "output_type": "display_data"
    },
    {
     "data": {
      "application/vnd.jupyter.widget-view+json": {
       "model_id": "8509e7224d2346a6add33239a44a817e",
       "version_major": 2,
       "version_minor": 0
      },
      "text/plain": [
       "Validation: 0it [00:00, ?it/s]"
      ]
     },
     "metadata": {},
     "output_type": "display_data"
    },
    {
     "data": {
      "application/vnd.jupyter.widget-view+json": {
       "model_id": "3e38ed1a0bdb4d89819edb4c7679e420",
       "version_major": 2,
       "version_minor": 0
      },
      "text/plain": [
       "Validation: 0it [00:00, ?it/s]"
      ]
     },
     "metadata": {},
     "output_type": "display_data"
    },
    {
     "data": {
      "application/vnd.jupyter.widget-view+json": {
       "model_id": "da10ba01d1ce4b289fb5293c5c5e40a3",
       "version_major": 2,
       "version_minor": 0
      },
      "text/plain": [
       "Validation: 0it [00:00, ?it/s]"
      ]
     },
     "metadata": {},
     "output_type": "display_data"
    },
    {
     "data": {
      "application/vnd.jupyter.widget-view+json": {
       "model_id": "c16595c5fa994d0ab2c24f6036d9e20a",
       "version_major": 2,
       "version_minor": 0
      },
      "text/plain": [
       "Validation: 0it [00:00, ?it/s]"
      ]
     },
     "metadata": {},
     "output_type": "display_data"
    },
    {
     "data": {
      "application/vnd.jupyter.widget-view+json": {
       "model_id": "197c185f46ca4c7e8b88b6502bdfd8be",
       "version_major": 2,
       "version_minor": 0
      },
      "text/plain": [
       "Validation: 0it [00:00, ?it/s]"
      ]
     },
     "metadata": {},
     "output_type": "display_data"
    },
    {
     "data": {
      "application/vnd.jupyter.widget-view+json": {
       "model_id": "f7b32286ce154456a1ad750b0589c44a",
       "version_major": 2,
       "version_minor": 0
      },
      "text/plain": [
       "Validation: 0it [00:00, ?it/s]"
      ]
     },
     "metadata": {},
     "output_type": "display_data"
    },
    {
     "data": {
      "application/vnd.jupyter.widget-view+json": {
       "model_id": "32ae5c7b679a4ce1b0664aa43d66601e",
       "version_major": 2,
       "version_minor": 0
      },
      "text/plain": [
       "Validation: 0it [00:00, ?it/s]"
      ]
     },
     "metadata": {},
     "output_type": "display_data"
    },
    {
     "data": {
      "application/vnd.jupyter.widget-view+json": {
       "model_id": "0311ac75d98446c4ad717fe3ea3c17d0",
       "version_major": 2,
       "version_minor": 0
      },
      "text/plain": [
       "Validation: 0it [00:00, ?it/s]"
      ]
     },
     "metadata": {},
     "output_type": "display_data"
    },
    {
     "data": {
      "application/vnd.jupyter.widget-view+json": {
       "model_id": "52d9c61802ef408e80b18200e74b10a1",
       "version_major": 2,
       "version_minor": 0
      },
      "text/plain": [
       "Validation: 0it [00:00, ?it/s]"
      ]
     },
     "metadata": {},
     "output_type": "display_data"
    },
    {
     "data": {
      "application/vnd.jupyter.widget-view+json": {
       "model_id": "215449cb84c64bf49635d29576392f6d",
       "version_major": 2,
       "version_minor": 0
      },
      "text/plain": [
       "Validation: 0it [00:00, ?it/s]"
      ]
     },
     "metadata": {},
     "output_type": "display_data"
    },
    {
     "data": {
      "application/vnd.jupyter.widget-view+json": {
       "model_id": "c5c9004400d24245b5ab6e255f964bc8",
       "version_major": 2,
       "version_minor": 0
      },
      "text/plain": [
       "Validation: 0it [00:00, ?it/s]"
      ]
     },
     "metadata": {},
     "output_type": "display_data"
    },
    {
     "name": "stderr",
     "output_type": "stream",
     "text": [
      "`Trainer.fit` stopped: `max_epochs=82` reached.\n"
     ]
    }
   ],
   "source": [
    "\n",
    "# init the model\n",
    "\n",
    "trainer = pl.Trainer(precision=\"bf16-mixed\",\n",
    "                     \n",
    "                     gradient_clip_val=20,\n",
    "                     max_epochs=max_epochs, log_every_n_steps=5)\n",
    "trainer.fit(model=net, train_dataloaders=dl_train, val_dataloaders=dl_val)"
   ]
  },
  {
   "attachments": {},
   "cell_type": "markdown",
   "metadata": {},
   "source": [
    "# Read hist"
   ]
  },
  {
   "cell_type": "code",
   "execution_count": 80,
   "metadata": {},
   "outputs": [
    {
     "data": {
      "text/html": [
       "<div>\n",
       "<style scoped>\n",
       "    .dataframe tbody tr th:only-of-type {\n",
       "        vertical-align: middle;\n",
       "    }\n",
       "\n",
       "    .dataframe tbody tr th {\n",
       "        vertical-align: top;\n",
       "    }\n",
       "\n",
       "    .dataframe thead th {\n",
       "        text-align: right;\n",
       "    }\n",
       "</style>\n",
       "<table border=\"1\" class=\"dataframe\">\n",
       "  <thead>\n",
       "    <tr style=\"text-align: right;\">\n",
       "      <th></th>\n",
       "      <th>val/acc</th>\n",
       "      <th>val/loss</th>\n",
       "      <th>val/n</th>\n",
       "      <th>step</th>\n",
       "      <th>train/acc</th>\n",
       "      <th>train/loss</th>\n",
       "      <th>train/n</th>\n",
       "    </tr>\n",
       "    <tr>\n",
       "      <th>epoch</th>\n",
       "      <th></th>\n",
       "      <th></th>\n",
       "      <th></th>\n",
       "      <th></th>\n",
       "      <th></th>\n",
       "      <th></th>\n",
       "      <th></th>\n",
       "    </tr>\n",
       "  </thead>\n",
       "  <tbody>\n",
       "    <tr>\n",
       "      <th>0</th>\n",
       "      <td>0.763158</td>\n",
       "      <td>0.382358</td>\n",
       "      <td>38.0</td>\n",
       "      <td>0.0</td>\n",
       "      <td>0.605263</td>\n",
       "      <td>0.388086</td>\n",
       "      <td>76.0</td>\n",
       "    </tr>\n",
       "    <tr>\n",
       "      <th>1</th>\n",
       "      <td>0.763158</td>\n",
       "      <td>0.383895</td>\n",
       "      <td>38.0</td>\n",
       "      <td>1.0</td>\n",
       "      <td>0.947368</td>\n",
       "      <td>0.375808</td>\n",
       "      <td>76.0</td>\n",
       "    </tr>\n",
       "    <tr>\n",
       "      <th>2</th>\n",
       "      <td>0.973684</td>\n",
       "      <td>0.381941</td>\n",
       "      <td>38.0</td>\n",
       "      <td>2.0</td>\n",
       "      <td>0.881579</td>\n",
       "      <td>0.373648</td>\n",
       "      <td>76.0</td>\n",
       "    </tr>\n",
       "    <tr>\n",
       "      <th>3</th>\n",
       "      <td>0.763158</td>\n",
       "      <td>0.381590</td>\n",
       "      <td>38.0</td>\n",
       "      <td>3.0</td>\n",
       "      <td>0.973684</td>\n",
       "      <td>0.370505</td>\n",
       "      <td>76.0</td>\n",
       "    </tr>\n",
       "    <tr>\n",
       "      <th>4</th>\n",
       "      <td>0.947368</td>\n",
       "      <td>0.382636</td>\n",
       "      <td>38.0</td>\n",
       "      <td>4.0</td>\n",
       "      <td>0.947368</td>\n",
       "      <td>0.366154</td>\n",
       "      <td>76.0</td>\n",
       "    </tr>\n",
       "    <tr>\n",
       "      <th>...</th>\n",
       "      <td>...</td>\n",
       "      <td>...</td>\n",
       "      <td>...</td>\n",
       "      <td>...</td>\n",
       "      <td>...</td>\n",
       "      <td>...</td>\n",
       "      <td>...</td>\n",
       "    </tr>\n",
       "    <tr>\n",
       "      <th>77</th>\n",
       "      <td>1.000000</td>\n",
       "      <td>0.195481</td>\n",
       "      <td>38.0</td>\n",
       "      <td>77.0</td>\n",
       "      <td>1.000000</td>\n",
       "      <td>0.191585</td>\n",
       "      <td>76.0</td>\n",
       "    </tr>\n",
       "    <tr>\n",
       "      <th>78</th>\n",
       "      <td>1.000000</td>\n",
       "      <td>0.193660</td>\n",
       "      <td>38.0</td>\n",
       "      <td>78.0</td>\n",
       "      <td>1.000000</td>\n",
       "      <td>0.192096</td>\n",
       "      <td>76.0</td>\n",
       "    </tr>\n",
       "    <tr>\n",
       "      <th>79</th>\n",
       "      <td>1.000000</td>\n",
       "      <td>0.196375</td>\n",
       "      <td>38.0</td>\n",
       "      <td>79.0</td>\n",
       "      <td>1.000000</td>\n",
       "      <td>0.189261</td>\n",
       "      <td>76.0</td>\n",
       "    </tr>\n",
       "    <tr>\n",
       "      <th>80</th>\n",
       "      <td>1.000000</td>\n",
       "      <td>0.196259</td>\n",
       "      <td>38.0</td>\n",
       "      <td>80.0</td>\n",
       "      <td>1.000000</td>\n",
       "      <td>0.191487</td>\n",
       "      <td>76.0</td>\n",
       "    </tr>\n",
       "    <tr>\n",
       "      <th>81</th>\n",
       "      <td>1.000000</td>\n",
       "      <td>0.196287</td>\n",
       "      <td>38.0</td>\n",
       "      <td>81.0</td>\n",
       "      <td>1.000000</td>\n",
       "      <td>0.191205</td>\n",
       "      <td>76.0</td>\n",
       "    </tr>\n",
       "  </tbody>\n",
       "</table>\n",
       "<p>82 rows × 7 columns</p>\n",
       "</div>"
      ],
      "text/plain": [
       "        val/acc  val/loss  val/n  step  train/acc  train/loss  train/n\n",
       "epoch                                                                 \n",
       "0      0.763158  0.382358   38.0   0.0   0.605263    0.388086     76.0\n",
       "1      0.763158  0.383895   38.0   1.0   0.947368    0.375808     76.0\n",
       "2      0.973684  0.381941   38.0   2.0   0.881579    0.373648     76.0\n",
       "3      0.763158  0.381590   38.0   3.0   0.973684    0.370505     76.0\n",
       "4      0.947368  0.382636   38.0   4.0   0.947368    0.366154     76.0\n",
       "...         ...       ...    ...   ...        ...         ...      ...\n",
       "77     1.000000  0.195481   38.0  77.0   1.000000    0.191585     76.0\n",
       "78     1.000000  0.193660   38.0  78.0   1.000000    0.192096     76.0\n",
       "79     1.000000  0.196375   38.0  79.0   1.000000    0.189261     76.0\n",
       "80     1.000000  0.196259   38.0  80.0   1.000000    0.191487     76.0\n",
       "81     1.000000  0.196287   38.0  81.0   1.000000    0.191205     76.0\n",
       "\n",
       "[82 rows x 7 columns]"
      ]
     },
     "execution_count": 80,
     "metadata": {},
     "output_type": "execute_result"
    }
   ],
   "source": [
    "df_hist = read_metrics_csv(trainer.logger.experiment.metrics_file_path).ffill().bfill()\n",
    "df_hist"
   ]
  },
  {
   "cell_type": "code",
   "execution_count": 81,
   "metadata": {},
   "outputs": [
    {
     "data": {
      "image/png": "[encoded data removed]",
      "text/plain": [
       "<Figure size 640x480 with 1 Axes>"
      ]
     },
     "metadata": {},
     "output_type": "display_data"
    }
   ],
   "source": [
    "for key in ['loss']:\n",
    "    df_hist[[c for c in df_hist.columns if key in c]].plot(logy=True)"
   ]
  },
  {
   "cell_type": "code",
   "execution_count": 82,
   "metadata": {},
   "outputs": [
    {
     "data": {
      "image/png": "[encoded data removed]",
      "text/plain": [
       "<Figure size 640x480 with 1 Axes>"
      ]
     },
     "metadata": {},
     "output_type": "display_data"
    }
   ],
   "source": [
    "for key in ['acc']:\n",
    "    df_hist[[c for c in df_hist.columns if key in c]].plot()"
   ]
  },
  {
   "attachments": {},
   "cell_type": "markdown",
   "metadata": {},
   "source": [
    "## Predict"
   ]
  },
  {
   "cell_type": "code",
   "execution_count": 83,
   "metadata": {},
   "outputs": [
    {
     "name": "stderr",
     "output_type": "stream",
     "text": [
      "LOCAL_RANK: 0 - CUDA_VISIBLE_DEVICES: [0]\n",
      "/home/ubuntu/mambaforge/envs/dlk3/lib/python3.11/site-packages/lightning/pytorch/trainer/connectors/data_connector.py:480: PossibleUserWarning: Your `test_dataloader`'s sampler has shuffling enabled, it is strongly recommended that you turn shuffling off for val/test dataloaders.\n",
      "  rank_zero_warn(\n"
     ]
    },
    {
     "data": {
      "application/vnd.jupyter.widget-view+json": {
       "model_id": "765981fb3d0041ae99926c7c2770a616",
       "version_major": 2,
       "version_minor": 0
      },
      "text/plain": [
       "Testing: 0it [00:00, ?it/s]"
      ]
     },
     "metadata": {},
     "output_type": "display_data"
    },
    {
     "data": {
      "text/html": [
       "<pre style=\"white-space:pre;overflow-x:auto;line-height:normal;font-family:Menlo,'DejaVu Sans Mono',consolas,'Courier New',monospace\">┏━━━━━━━━━━━━━━━━━━━━━━━━━━━┳━━━━━━━━━━━━━━━━━━━━━━━━━━━┳━━━━━━━━━━━━━━━━━━━━━━━━━━━┳━━━━━━━━━━━━━━━━━━━━━━━━━━━┓\n",
       "┃<span style=\"font-weight: bold\">   Runningstage.testing    </span>┃<span style=\"font-weight: bold\">                           </span>┃<span style=\"font-weight: bold\">                           </span>┃<span style=\"font-weight: bold\">                           </span>┃\n",
       "┃<span style=\"font-weight: bold\">          metric           </span>┃<span style=\"font-weight: bold\">       DataLoader 0        </span>┃<span style=\"font-weight: bold\">       DataLoader 1        </span>┃<span style=\"font-weight: bold\">       DataLoader 2        </span>┃\n",
       "┡━━━━━━━━━━━━━━━━━━━━━━━━━━━╇━━━━━━━━━━━━━━━━━━━━━━━━━━━╇━━━━━━━━━━━━━━━━━━━━━━━━━━━╇━━━━━━━━━━━━━━━━━━━━━━━━━━━┩\n",
       "│<span style=\"color: #008080; text-decoration-color: #008080\">         test/acc          </span>│<span style=\"color: #800080; text-decoration-color: #800080\">            1.0            </span>│<span style=\"color: #800080; text-decoration-color: #800080\">            1.0            </span>│<span style=\"color: #800080; text-decoration-color: #800080\">            1.0            </span>│\n",
       "│<span style=\"color: #008080; text-decoration-color: #008080\">         test/loss         </span>│<span style=\"color: #800080; text-decoration-color: #800080\">    0.19035881757736206    </span>│<span style=\"color: #800080; text-decoration-color: #800080\">    0.19628745317459106    </span>│<span style=\"color: #800080; text-decoration-color: #800080\">    0.1948750615119934     </span>│\n",
       "│<span style=\"color: #008080; text-decoration-color: #008080\">          test/n           </span>│<span style=\"color: #800080; text-decoration-color: #800080\">           76.0            </span>│<span style=\"color: #800080; text-decoration-color: #800080\">           38.0            </span>│<span style=\"color: #800080; text-decoration-color: #800080\">           38.0            </span>│\n",
       "└───────────────────────────┴───────────────────────────┴───────────────────────────┴───────────────────────────┘\n",
       "</pre>\n"
      ],
      "text/plain": [
       "┏━━━━━━━━━━━━━━━━━━━━━━━━━━━┳━━━━━━━━━━━━━━━━━━━━━━━━━━━┳━━━━━━━━━━━━━━━━━━━━━━━━━━━┳━━━━━━━━━━━━━━━━━━━━━━━━━━━┓\n",
       "┃\u001b[1m \u001b[0m\u001b[1m  Runningstage.testing   \u001b[0m\u001b[1m \u001b[0m┃\u001b[1m                           \u001b[0m┃\u001b[1m                           \u001b[0m┃\u001b[1m                           \u001b[0m┃\n",
       "┃\u001b[1m \u001b[0m\u001b[1m         metric          \u001b[0m\u001b[1m \u001b[0m┃\u001b[1m \u001b[0m\u001b[1m      DataLoader 0       \u001b[0m\u001b[1m \u001b[0m┃\u001b[1m \u001b[0m\u001b[1m      DataLoader 1       \u001b[0m\u001b[1m \u001b[0m┃\u001b[1m \u001b[0m\u001b[1m      DataLoader 2       \u001b[0m\u001b[1m \u001b[0m┃\n",
       "┡━━━━━━━━━━━━━━━━━━━━━━━━━━━╇━━━━━━━━━━━━━━━━━━━━━━━━━━━╇━━━━━━━━━━━━━━━━━━━━━━━━━━━╇━━━━━━━━━━━━━━━━━━━━━━━━━━━┩\n",
       "│\u001b[36m \u001b[0m\u001b[36m        test/acc         \u001b[0m\u001b[36m \u001b[0m│\u001b[35m \u001b[0m\u001b[35m           1.0           \u001b[0m\u001b[35m \u001b[0m│\u001b[35m \u001b[0m\u001b[35m           1.0           \u001b[0m\u001b[35m \u001b[0m│\u001b[35m \u001b[0m\u001b[35m           1.0           \u001b[0m\u001b[35m \u001b[0m│\n",
       "│\u001b[36m \u001b[0m\u001b[36m        test/loss        \u001b[0m\u001b[36m \u001b[0m│\u001b[35m \u001b[0m\u001b[35m   0.19035881757736206   \u001b[0m\u001b[35m \u001b[0m│\u001b[35m \u001b[0m\u001b[35m   0.19628745317459106   \u001b[0m\u001b[35m \u001b[0m│\u001b[35m \u001b[0m\u001b[35m   0.1948750615119934    \u001b[0m\u001b[35m \u001b[0m│\n",
       "│\u001b[36m \u001b[0m\u001b[36m         test/n          \u001b[0m\u001b[36m \u001b[0m│\u001b[35m \u001b[0m\u001b[35m          76.0           \u001b[0m\u001b[35m \u001b[0m│\u001b[35m \u001b[0m\u001b[35m          38.0           \u001b[0m\u001b[35m \u001b[0m│\u001b[35m \u001b[0m\u001b[35m          38.0           \u001b[0m\u001b[35m \u001b[0m│\n",
       "└───────────────────────────┴───────────────────────────┴───────────────────────────┴───────────────────────────┘\n"
      ]
     },
     "metadata": {},
     "output_type": "display_data"
    },
    {
     "data": {
      "text/plain": [
       "[{'test/acc/dataloader_idx_0': 1.0,\n",
       "  'test/loss/dataloader_idx_0': 0.19035881757736206,\n",
       "  'test/n/dataloader_idx_0': 76.0},\n",
       " {'test/acc/dataloader_idx_1': 1.0,\n",
       "  'test/loss/dataloader_idx_1': 0.19628745317459106,\n",
       "  'test/n/dataloader_idx_1': 38.0},\n",
       " {'test/acc/dataloader_idx_2': 1.0,\n",
       "  'test/loss/dataloader_idx_2': 0.1948750615119934,\n",
       "  'test/n/dataloader_idx_2': 38.0}]"
      ]
     },
     "execution_count": 83,
     "metadata": {},
     "output_type": "execute_result"
    }
   ],
   "source": [
    "dl_test = dm.test_dataloader()\n",
    "rs = trainer.test(net, dataloaders=[dl_train, dl_val, dl_test])\n",
    "rs"
   ]
  },
  {
   "cell_type": "code",
   "execution_count": 84,
   "metadata": {},
   "outputs": [
    {
     "name": "stderr",
     "output_type": "stream",
     "text": [
      "LOCAL_RANK: 0 - CUDA_VISIBLE_DEVICES: [0]\n"
     ]
    },
    {
     "data": {
      "application/vnd.jupyter.widget-view+json": {
       "model_id": "0747575b49334414bef4ac7a2d6a604b",
       "version_major": 2,
       "version_minor": 0
      },
      "text/plain": [
       "Predicting: 0it [00:00, ?it/s]"
      ]
     },
     "metadata": {},
     "output_type": "display_data"
    },
    {
     "data": {
      "text/plain": [
       "(38,)"
      ]
     },
     "execution_count": 84,
     "metadata": {},
     "output_type": "execute_result"
    }
   ],
   "source": [
    "dl_test = dm.test_dataloader()\n",
    "r = trainer.predict(net, dataloaders=dl_test)\n",
    "y_test_pred = np.concatenate(r)\n",
    "y_test_pred.shape"
   ]
  },
  {
   "cell_type": "code",
   "execution_count": null,
   "metadata": {},
   "outputs": [],
   "source": []
  },
  {
   "cell_type": "code",
   "execution_count": 85,
   "metadata": {},
   "outputs": [],
   "source": [
    "df_test = dm.df.iloc[dm.splits['test'][0]:].copy()\n",
    "y_true = dl_test.dataset.tensors[1].numpy()"
   ]
  },
  {
   "cell_type": "code",
   "execution_count": 86,
   "metadata": {},
   "outputs": [
    {
     "data": {
      "text/html": [
       "<div>\n",
       "<style scoped>\n",
       "    .dataframe tbody tr th:only-of-type {\n",
       "        vertical-align: middle;\n",
       "    }\n",
       "\n",
       "    .dataframe tbody tr th {\n",
       "        vertical-align: top;\n",
       "    }\n",
       "\n",
       "    .dataframe thead th {\n",
       "        text-align: right;\n",
       "    }\n",
       "</style>\n",
       "<table border=\"1\" class=\"dataframe\">\n",
       "  <thead>\n",
       "    <tr style=\"text-align: right;\">\n",
       "      <th></th>\n",
       "      <th>ds_index</th>\n",
       "      <th>ds_string</th>\n",
       "      <th>example_i</th>\n",
       "      <th>answer</th>\n",
       "      <th>question</th>\n",
       "      <th>answer_choices</th>\n",
       "      <th>template_name</th>\n",
       "      <th>label_true</th>\n",
       "      <th>label_instructed</th>\n",
       "      <th>instructed_to_lie</th>\n",
       "      <th>...</th>\n",
       "      <th>prompt_truncated</th>\n",
       "      <th>choice_probs0</th>\n",
       "      <th>ans0</th>\n",
       "      <th>txt_ans0</th>\n",
       "      <th>dir_true</th>\n",
       "      <th>llm_ans</th>\n",
       "      <th>y</th>\n",
       "      <th>probe_pred</th>\n",
       "      <th>probe_prob</th>\n",
       "      <th>llm_prob</th>\n",
       "    </tr>\n",
       "  </thead>\n",
       "  <tbody>\n",
       "    <tr>\n",
       "      <th>114</th>\n",
       "      <td>228</td>\n",
       "      <td>imdb</td>\n",
       "      <td>114</td>\n",
       "      <td>positive</td>\n",
       "      <td>You are an AI assistant that always tells a li...</td>\n",
       "      <td>[negative, positive]</td>\n",
       "      <td>Movie Expressed Sentiment</td>\n",
       "      <td>0</td>\n",
       "      <td>1</td>\n",
       "      <td>True</td>\n",
       "      <td>...</td>\n",
       "      <td>different means.\\nThe sentiment expressed for...</td>\n",
       "      <td>[0.0702123, 0.38554135]</td>\n",
       "      <td>0.845924</td>\n",
       "      <td>positive</td>\n",
       "      <td>0.845924</td>\n",
       "      <td>True</td>\n",
       "      <td>False</td>\n",
       "      <td>False</td>\n",
       "      <td>0.326172</td>\n",
       "      <td>0.845924</td>\n",
       "    </tr>\n",
       "    <tr>\n",
       "      <th>115</th>\n",
       "      <td>229</td>\n",
       "      <td>imdb</td>\n",
       "      <td>114</td>\n",
       "      <td>They didn't like it!</td>\n",
       "      <td>Below is an instruction that describes a task,...</td>\n",
       "      <td>[They didn't like it!, They loved it]</td>\n",
       "      <td>Reviewer Enjoyment</td>\n",
       "      <td>0</td>\n",
       "      <td>0</td>\n",
       "      <td>False</td>\n",
       "      <td>...</td>\n",
       "      <td>so they made up a bad show. i have a feeling ...</td>\n",
       "      <td>[9.8432334e-05, 9.8432334e-05]</td>\n",
       "      <td>0.475830</td>\n",
       "      <td>\\n</td>\n",
       "      <td>0.475830</td>\n",
       "      <td>False</td>\n",
       "      <td>True</td>\n",
       "      <td>True</td>\n",
       "      <td>0.734375</td>\n",
       "      <td>0.475830</td>\n",
       "    </tr>\n",
       "    <tr>\n",
       "      <th>116</th>\n",
       "      <td>232</td>\n",
       "      <td>imdb</td>\n",
       "      <td>116</td>\n",
       "      <td>positive</td>\n",
       "      <td>You are an AI assistant that always tells a li...</td>\n",
       "      <td>[negative, positive]</td>\n",
       "      <td>Movie Expressed Sentiment</td>\n",
       "      <td>0</td>\n",
       "      <td>1</td>\n",
       "      <td>True</td>\n",
       "      <td>...</td>\n",
       "      <td>ine, Laurie Strode, a goody-two-shoes high-sch...</td>\n",
       "      <td>[0.113457106, 0.5328819]</td>\n",
       "      <td>0.824449</td>\n",
       "      <td>positive</td>\n",
       "      <td>0.824449</td>\n",
       "      <td>True</td>\n",
       "      <td>False</td>\n",
       "      <td>False</td>\n",
       "      <td>0.324219</td>\n",
       "      <td>0.824449</td>\n",
       "    </tr>\n",
       "  </tbody>\n",
       "</table>\n",
       "<p>3 rows × 21 columns</p>\n",
       "</div>"
      ],
      "text/plain": [
       "     ds_index ds_string  example_i                answer  \\\n",
       "114       228      imdb        114              positive   \n",
       "115       229      imdb        114  They didn't like it!   \n",
       "116       232      imdb        116              positive   \n",
       "\n",
       "                                              question  \\\n",
       "114  You are an AI assistant that always tells a li...   \n",
       "115  Below is an instruction that describes a task,...   \n",
       "116  You are an AI assistant that always tells a li...   \n",
       "\n",
       "                            answer_choices              template_name  \\\n",
       "114                   [negative, positive]  Movie Expressed Sentiment   \n",
       "115  [They didn't like it!, They loved it]         Reviewer Enjoyment   \n",
       "116                   [negative, positive]  Movie Expressed Sentiment   \n",
       "\n",
       "     label_true  label_instructed  instructed_to_lie  ...  \\\n",
       "114           0                 1               True  ...   \n",
       "115           0                 0              False  ...   \n",
       "116           0                 1               True  ...   \n",
       "\n",
       "                                      prompt_truncated  \\\n",
       "114   different means.\\nThe sentiment expressed for...   \n",
       "115   so they made up a bad show. i have a feeling ...   \n",
       "116  ine, Laurie Strode, a goody-two-shoes high-sch...   \n",
       "\n",
       "                      choice_probs0      ans0  txt_ans0  dir_true  llm_ans  \\\n",
       "114         [0.0702123, 0.38554135]  0.845924  positive  0.845924     True   \n",
       "115  [9.8432334e-05, 9.8432334e-05]  0.475830        \\n  0.475830    False   \n",
       "116        [0.113457106, 0.5328819]  0.824449  positive  0.824449     True   \n",
       "\n",
       "         y  probe_pred  probe_prob  llm_prob  \n",
       "114  False       False    0.326172  0.845924  \n",
       "115   True        True    0.734375  0.475830  \n",
       "116  False       False    0.324219  0.824449  \n",
       "\n",
       "[3 rows x 21 columns]"
      ]
     },
     "execution_count": 86,
     "metadata": {},
     "output_type": "execute_result"
    }
   ],
   "source": [
    "# Make a prediction dataframe with everything in it\n",
    "df_test = dm.df.iloc[dm.splits['test'][0]:].copy()\n",
    "df_test['probe_pred'] = y_test_pred>0.5\n",
    "df_test['probe_prob'] = y_test_pred\n",
    "df_test['llm_prob'] =  df_test['ans0']#(df_test['ans0']+df_test['ans1'])/2\n",
    "df_test['llm_ans'] = df_test['llm_prob']>0.5\n",
    "# df_test['conf'] = df_test['ans0'] # (df_test['ans0']-df_test['ans1']).abs()\n",
    "# df_test['y'] = df_test['y']>0.5\n",
    "\n",
    "y_true = dl_test.dataset.tensors[1].numpy()\n",
    "assert ((df_test['y'].values>0.5)==(y_true>0.5)).all(), 'check it all lines up'\n",
    "\n",
    "df_test.head(3)"
   ]
  },
  {
   "cell_type": "code",
   "execution_count": 87,
   "metadata": {},
   "outputs": [
    {
     "name": "stdout",
     "output_type": "stream",
     "text": [
      "probe results on subsets of the data\n",
      "acc=100.00%,\tn=19,\t[instructed_to_lie==True] \n",
      "acc=100.00%,\tn=19,\t[instructed_to_lie==False] \n",
      "acc=100.00%,\tn=30,\t[llm_ans==label_true] \n",
      "acc=100.00%,\tn=27,\t[llm_ans==label_instructed] \n",
      "acc=100.00%,\tn=8,\t[instructed_to_lie==True & llm_ans==label_instructed] \n",
      "acc=100.00%,\tn=11,\t[instructed_to_lie==True & llm_ans!=label_instructed] \n"
     ]
    }
   ],
   "source": [
    "def get_acc_subset(df, query):\n",
    "    df_s = df.query(query)\n",
    "    acc = (df_s['probe_pred']==df_s['y']).mean()\n",
    "    print(f\"acc={acc:2.2%},\\tn={len(df_s)},\\t[{query}] \")\n",
    "    return acc\n",
    "    \n",
    "print('probe results on subsets of the data')\n",
    "get_acc_subset(df_test, 'instructed_to_lie==True') # it was ph told to lie\n",
    "get_acc_subset(df_test, 'instructed_to_lie==False') # it was told not to lie\n",
    "get_acc_subset(df_test, 'llm_ans==label_true') # the llm gave the true ans\n",
    "get_acc_subset(df_test, 'llm_ans==label_instructed') # the llm gave the desired ans\n",
    "get_acc_subset(df_test, 'instructed_to_lie==True & llm_ans==label_instructed') # it was told to lie, and it did lie\n",
    "get_acc_subset(df_test, 'instructed_to_lie==True & llm_ans!=label_instructed');"
   ]
  },
  {
   "cell_type": "markdown",
   "metadata": {},
   "source": [
    "# RESULTS"
   ]
  },
  {
   "cell_type": "code",
   "execution_count": null,
   "metadata": {},
   "outputs": [],
   "source": []
  },
  {
   "cell_type": "code",
   "execution_count": 88,
   "metadata": {},
   "outputs": [
    {
     "name": "stdout",
     "output_type": "stream",
     "text": [
      "⭐PRIMARY METRIC⭐ acc=100.00% from probe\n"
     ]
    }
   ],
   "source": [
    "acc = (df_test['y']==(y_test_pred>0.5)).mean()\n",
    "\n",
    "# print(f\"  PRIMARY BASELINE roc_auc={primary_baseline:2.2%} from linear classifier\")\n",
    "print(f\"⭐PRIMARY METRIC⭐ acc={acc:2.2%} from probe\")"
   ]
  },
  {
   "cell_type": "markdown",
   "metadata": {},
   "source": [
    "# Out of sample\n",
    "\n",
    "Lets see how far it generalizes"
   ]
  },
  {
   "cell_type": "code",
   "execution_count": 89,
   "metadata": {},
   "outputs": [],
   "source": [
    "def try_fine_tune(dm):\n",
    "    dl_train = dm.train_dataloader()\n",
    "    dl_val = dm.val_dataloader()\n",
    "    dl_test = dm.test_dataloader()\n",
    "    b = next(iter(dl_train))\n",
    "    max_epochs = 42\n",
    "    c_in = b[0].shape[1]\n",
    "    print(b[0].shape)\n",
    "    net = PLConvProbe(c_in=c_in, total_steps=max_epochs*len(dl_train), depth=5, hs=128, lr=3e-3, dropout=0.1, input_dropout=0.1)\n",
    "    trainer = pl.Trainer(precision=\"bf16-mixed\",\n",
    "                        \n",
    "                        gradient_clip_val=20,\n",
    "                        max_epochs=max_epochs, log_every_n_steps=5)\n",
    "    trainer.fit(model=net, train_dataloaders=dl_train, val_dataloaders=dl_val)\n",
    "    df_hist = read_metrics_csv(trainer.logger.experiment.metrics_file_path).ffill().bfill()\n",
    "    rs = trainer.test(net, dataloaders=[dl_train, dl_val, dl_test])\n",
    "    return df_hist, rs"
   ]
  },
  {
   "cell_type": "code",
   "execution_count": 90,
   "metadata": {},
   "outputs": [],
   "source": [
    "oos_dataset_fs = [\n",
    "    # '../.ds/model-starchat-beta_ds-EleutherAItruthful-qa-binary_format-tqa-a-b-simple-prompt_N807_2shots_cd0a7f',\n",
    "    # '../.ds/model-starchat-beta_ds-EleutherAItruthful-qa-binary_format-tqa-sphinx-prompt_N807_2shots_cd0a7f', \n",
    "]"
   ]
  },
  {
   "cell_type": "code",
   "execution_count": 91,
   "metadata": {},
   "outputs": [],
   "source": [
    "batch_size = 12\n",
    "for f in oos_dataset_fs:\n",
    "    print(f)\n",
    "    ds2a = load_from_disk(f)\n",
    "\n",
    "    # restrict it to significant permutations. That is monte carlo dropout pairs, where the answer changes by more than X%\n",
    "    df = ds2df(ds2a)\n",
    "    m = np.abs(df.ans0-df.ans1)>0.1\n",
    "    significant_rows = m[m].index\n",
    "\n",
    "    # allowed_rows_i = set(known_rows_i).intersection(significant_rows)\n",
    "    allowed_rows_i = significant_rows\n",
    "    ds2 = ds2a.select(allowed_rows_i)\n",
    "    print(f\"selected rows are {len(ds2)/len(ds2a):2.2%}\")\n",
    "    print(len(ds2))\n",
    "\n",
    "    dm2 = imdbHSDataModule(ds2, batch_size=batch_size)\n",
    "    dm2.setup('train')\n",
    "\n",
    "    dl_val2 = dm2.val_dataloader()\n",
    "    dl_train2 = dm2.train_dataloader()\n",
    "    dl_test2 = dm2.test_dataloader()\n",
    "    print(len(dl_train2), len(dl_val2), len(dl_test2))\n",
    "    rs2 = trainer.test(net, dataloaders=[dl_train2, dl_val2, dl_test2]) \n",
    "    \n",
    "    df_hist2, rs2b = try_fine_tune(dm2)"
   ]
  },
  {
   "cell_type": "code",
   "execution_count": null,
   "metadata": {},
   "outputs": [],
   "source": []
  }
 ],
 "metadata": {
  "kernelspec": {
   "display_name": "dlk2",
   "language": "python",
   "name": "python3"
  },
  "language_info": {
   "codemirror_mode": {
    "name": "ipython",
    "version": 3
   },
   "file_extension": ".py",
   "mimetype": "text/x-python",
   "name": "python",
   "nbconvert_exporter": "python",
   "pygments_lexer": "ipython3",
   "version": "3.11.4"
  },
  "orig_nbformat": 4
 },
 "nbformat": 4,
 "nbformat_minor": 2
}
