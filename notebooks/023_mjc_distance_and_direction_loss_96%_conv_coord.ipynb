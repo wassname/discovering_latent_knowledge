{
 "cells": [
  {
   "attachments": {},
   "cell_type": "markdown",
   "metadata": {},
   "source": [
    "# distance and direciton\n",
    "\n",
    "Let try to opt for distance and direction with\n",
    "\n",
    "$L1loss(y_1-y_0, y_{true})$\n",
    "\n",
    "where $y_1=model(x_1)$\n",
    "\n",
    "So I'm optimising for the hidden states to be the correct distance and direcioton away. It's like the margin raning loss."
   ]
  },
  {
   "attachments": {},
   "cell_type": "markdown",
   "metadata": {},
   "source": [
    "\n",
    "links:\n",
    "- [loading](https://github.com/deep-diver/LLM-As-Chatbot/blob/main/models/alpaca.py)\n",
    "- [dict](https://github.com/deep-diver/LLM-As-Chatbot/blob/c79e855a492a968b54bac223e66dc9db448d6eba/model_cards.json#L143)\n",
    "- [prompt_format](https://github.com/deep-diver/PingPong/blob/main/src/pingpong/alpaca.py)"
   ]
  },
  {
   "cell_type": "code",
   "execution_count": 1,
   "metadata": {},
   "outputs": [
    {
     "data": {
      "text/plain": [
       "'4.30.1'"
      ]
     },
     "execution_count": 1,
     "metadata": {},
     "output_type": "execute_result"
    }
   ],
   "source": [
    "\n",
    "import numpy as np\n",
    "import pandas as pd\n",
    "from matplotlib import pyplot as plt\n",
    "plt.style.use('ggplot')\n",
    "\n",
    "from typing import Optional, List, Dict, Union\n",
    "\n",
    "import torch\n",
    "import torch.nn as nn\n",
    "import torch.nn.functional as F\n",
    "from torch import Tensor\n",
    "from torch import optim\n",
    "from torch.utils.data import random_split, DataLoader, TensorDataset\n",
    "\n",
    "from pathlib import Path\n",
    "\n",
    "import transformers\n",
    "\n",
    "import lightning.pytorch as pl\n",
    "# from dataclasses import dataclass\n",
    "\n",
    "from sklearn.linear_model import LogisticRegression\n",
    "from sklearn.metrics import f1_score, roc_auc_score, accuracy_score\n",
    "from sklearn.preprocessing import RobustScaler\n",
    "\n",
    "from tqdm.auto import tqdm\n",
    "import os\n",
    "\n",
    "from loguru import logger\n",
    "logger.add(os.sys.stderr, format=\"{time} {level} {message}\", level=\"INFO\")\n",
    "\n",
    "transformers.__version__"
   ]
  },
  {
   "cell_type": "markdown",
   "metadata": {},
   "source": [
    "# Dataset"
   ]
  },
  {
   "cell_type": "code",
   "execution_count": 2,
   "metadata": {},
   "outputs": [
    {
     "data": {
      "text/plain": [
       "Dataset({\n",
       "    features: ['hs1', 'ans1', 'hs2', 'ans2', 'true', 'index', 'version', 'info', 'input_truncated', 'prob_y', 'prob_n', 'text_ans', 'input_text'],\n",
       "    num_rows: 36000\n",
       "})"
      ]
     },
     "execution_count": 2,
     "metadata": {},
     "output_type": "execute_result"
    }
   ],
   "source": [
    "from datasets import load_from_disk, concatenate_datasets\n",
    "fs = [\n",
    "    \n",
    "    './.ds/HuggingFaceH4starchat_beta-None-N_4000-ns_3-mc_0.2-0392de',\n",
    "    './.ds/HuggingFaceH4starchat_beta-None-N_6000-ns_3-mc_True-dc99f8',\n",
    "    './.ds/HuggingFaceH4starchat_beta-None-N_8000-ns_3-mc_True-a50b5f'\n",
    "]\n",
    "\n",
    "# './.ds/HuggingFaceH4starchat_beta-None-N_8000-ns_3-mc_0.2-2ffc1e'\n",
    "ds1 = concatenate_datasets([load_from_disk(f) for f in fs])\n",
    "ds1"
   ]
  },
  {
   "cell_type": "code",
   "execution_count": 3,
   "metadata": {},
   "outputs": [],
   "source": [
    "def rows_item(row):\n",
    "    \"\"\"\n",
    "    transform a row by turning singe dim arrays into items\n",
    "    \"\"\"\n",
    "    for k,x in row.items():\n",
    "        if isinstance(x, np.ndarray) and x.ndim==0:\n",
    "            row[k]=x.item()\n",
    "    return row\n",
    "\n",
    "def ds_info2df(ds):\n",
    "    info = list(ds['info'])\n",
    "    d = pd.DataFrame([rows_item(r) for r in info])\n",
    "    return d\n",
    "\n",
    "def ds2df(ds):\n",
    "    df = ds_info2df(ds)\n",
    "    df_ans = ds.select_columns(['ans1', 'ans2', 'true', 'index', 'prob_y', 'prob_n', 'version']).with_format(\"numpy\").to_pandas()\n",
    "    df = pd.concat([df, df_ans], axis=1)\n",
    "    \n",
    "    # derived\n",
    "    df['dir_true'] = df['ans2'] - df['ans1']\n",
    "    df['conf'] = (df['ans1']-df['ans2']).abs()  \n",
    "    df['llm_prob'] = (df['ans1']+df['ans2'])/2\n",
    "    df['llm_ans'] = df['llm_prob']>0.5\n",
    "    return df"
   ]
  },
  {
   "cell_type": "markdown",
   "metadata": {},
   "source": [
    "## Filter"
   ]
  },
  {
   "cell_type": "code",
   "execution_count": 4,
   "metadata": {},
   "outputs": [
    {
     "data": {
      "text/html": [
       "<div>\n",
       "<style scoped>\n",
       "    .dataframe tbody tr th:only-of-type {\n",
       "        vertical-align: middle;\n",
       "    }\n",
       "\n",
       "    .dataframe tbody tr th {\n",
       "        vertical-align: top;\n",
       "    }\n",
       "\n",
       "    .dataframe thead th {\n",
       "        text-align: right;\n",
       "    }\n",
       "</style>\n",
       "<table border=\"1\" class=\"dataframe\">\n",
       "  <thead>\n",
       "    <tr style=\"text-align: right;\">\n",
       "      <th></th>\n",
       "      <th>desired_answer</th>\n",
       "      <th>input</th>\n",
       "      <th>lie</th>\n",
       "      <th>true_answer</th>\n",
       "      <th>version</th>\n",
       "      <th>ans1</th>\n",
       "      <th>ans2</th>\n",
       "      <th>true</th>\n",
       "      <th>index</th>\n",
       "      <th>prob_y</th>\n",
       "      <th>prob_n</th>\n",
       "      <th>version</th>\n",
       "      <th>dir_true</th>\n",
       "      <th>conf</th>\n",
       "      <th>llm_prob</th>\n",
       "      <th>llm_ans</th>\n",
       "    </tr>\n",
       "  </thead>\n",
       "  <tbody>\n",
       "    <tr>\n",
       "      <th>0</th>\n",
       "      <td>True</td>\n",
       "      <td>Title: Horrible and dangerous for kids!\\n\\nCon...</td>\n",
       "      <td>True</td>\n",
       "      <td>0</td>\n",
       "      <td>lie</td>\n",
       "      <td>0.058716</td>\n",
       "      <td>0.153931</td>\n",
       "      <td>0</td>\n",
       "      <td>0</td>\n",
       "      <td>0.057861</td>\n",
       "      <td>0.926270</td>\n",
       "      <td>lie</td>\n",
       "      <td>0.095215</td>\n",
       "      <td>0.095215</td>\n",
       "      <td>0.106323</td>\n",
       "      <td>False</td>\n",
       "    </tr>\n",
       "    <tr>\n",
       "      <th>1</th>\n",
       "      <td>True</td>\n",
       "      <td>Title: Order with caution\\n\\nContent: I ordere...</td>\n",
       "      <td>True</td>\n",
       "      <td>0</td>\n",
       "      <td>lie</td>\n",
       "      <td>0.373535</td>\n",
       "      <td>0.476074</td>\n",
       "      <td>0</td>\n",
       "      <td>1</td>\n",
       "      <td>0.371094</td>\n",
       "      <td>0.621582</td>\n",
       "      <td>lie</td>\n",
       "      <td>0.102539</td>\n",
       "      <td>0.102539</td>\n",
       "      <td>0.424805</td>\n",
       "      <td>False</td>\n",
       "    </tr>\n",
       "    <tr>\n",
       "      <th>2</th>\n",
       "      <td>True</td>\n",
       "      <td>Title: A big disappointment\\n\\nContent: This m...</td>\n",
       "      <td>True</td>\n",
       "      <td>0</td>\n",
       "      <td>lie</td>\n",
       "      <td>0.063660</td>\n",
       "      <td>0.204224</td>\n",
       "      <td>0</td>\n",
       "      <td>2</td>\n",
       "      <td>0.063416</td>\n",
       "      <td>0.932129</td>\n",
       "      <td>lie</td>\n",
       "      <td>0.140564</td>\n",
       "      <td>0.140564</td>\n",
       "      <td>0.133942</td>\n",
       "      <td>False</td>\n",
       "    </tr>\n",
       "    <tr>\n",
       "      <th>3</th>\n",
       "      <td>True</td>\n",
       "      <td>Title: Came F*$%ed Up!!\\n\\nContent: ok so i go...</td>\n",
       "      <td>True</td>\n",
       "      <td>0</td>\n",
       "      <td>lie</td>\n",
       "      <td>0.259521</td>\n",
       "      <td>0.054138</td>\n",
       "      <td>0</td>\n",
       "      <td>3</td>\n",
       "      <td>0.252686</td>\n",
       "      <td>0.720215</td>\n",
       "      <td>lie</td>\n",
       "      <td>-0.205383</td>\n",
       "      <td>0.205383</td>\n",
       "      <td>0.156830</td>\n",
       "      <td>False</td>\n",
       "    </tr>\n",
       "    <tr>\n",
       "      <th>4</th>\n",
       "      <td>True</td>\n",
       "      <td>Title: broken\\n\\nContent: I was anticipating t...</td>\n",
       "      <td>True</td>\n",
       "      <td>0</td>\n",
       "      <td>lie</td>\n",
       "      <td>0.151001</td>\n",
       "      <td>0.265625</td>\n",
       "      <td>0</td>\n",
       "      <td>4</td>\n",
       "      <td>0.148071</td>\n",
       "      <td>0.832031</td>\n",
       "      <td>lie</td>\n",
       "      <td>0.114624</td>\n",
       "      <td>0.114624</td>\n",
       "      <td>0.208313</td>\n",
       "      <td>False</td>\n",
       "    </tr>\n",
       "    <tr>\n",
       "      <th>...</th>\n",
       "      <td>...</td>\n",
       "      <td>...</td>\n",
       "      <td>...</td>\n",
       "      <td>...</td>\n",
       "      <td>...</td>\n",
       "      <td>...</td>\n",
       "      <td>...</td>\n",
       "      <td>...</td>\n",
       "      <td>...</td>\n",
       "      <td>...</td>\n",
       "      <td>...</td>\n",
       "      <td>...</td>\n",
       "      <td>...</td>\n",
       "      <td>...</td>\n",
       "      <td>...</td>\n",
       "      <td>...</td>\n",
       "    </tr>\n",
       "    <tr>\n",
       "      <th>35995</th>\n",
       "      <td>True</td>\n",
       "      <td>Review Title: Great for burning CDS\\n\\nReview ...</td>\n",
       "      <td>False</td>\n",
       "      <td>1</td>\n",
       "      <td>truth</td>\n",
       "      <td>0.522949</td>\n",
       "      <td>0.745117</td>\n",
       "      <td>1</td>\n",
       "      <td>7995</td>\n",
       "      <td>0.518555</td>\n",
       "      <td>0.472168</td>\n",
       "      <td>truth</td>\n",
       "      <td>0.222168</td>\n",
       "      <td>0.222168</td>\n",
       "      <td>0.634033</td>\n",
       "      <td>True</td>\n",
       "    </tr>\n",
       "    <tr>\n",
       "      <th>35996</th>\n",
       "      <td>False</td>\n",
       "      <td>Review Title: Horrible...\\n\\nReview Content: I...</td>\n",
       "      <td>False</td>\n",
       "      <td>0</td>\n",
       "      <td>truth</td>\n",
       "      <td>0.001739</td>\n",
       "      <td>0.001056</td>\n",
       "      <td>0</td>\n",
       "      <td>7996</td>\n",
       "      <td>0.001735</td>\n",
       "      <td>0.994629</td>\n",
       "      <td>truth</td>\n",
       "      <td>-0.000683</td>\n",
       "      <td>0.000683</td>\n",
       "      <td>0.001397</td>\n",
       "      <td>False</td>\n",
       "    </tr>\n",
       "    <tr>\n",
       "      <th>35997</th>\n",
       "      <td>False</td>\n",
       "      <td>Review Title: one of the worst books to use fo...</td>\n",
       "      <td>False</td>\n",
       "      <td>0</td>\n",
       "      <td>truth</td>\n",
       "      <td>0.016632</td>\n",
       "      <td>0.000480</td>\n",
       "      <td>0</td>\n",
       "      <td>7997</td>\n",
       "      <td>0.016357</td>\n",
       "      <td>0.965820</td>\n",
       "      <td>truth</td>\n",
       "      <td>-0.016152</td>\n",
       "      <td>0.016152</td>\n",
       "      <td>0.008556</td>\n",
       "      <td>False</td>\n",
       "    </tr>\n",
       "    <tr>\n",
       "      <th>35998</th>\n",
       "      <td>False</td>\n",
       "      <td>Review Title: Not for C, C++ programmers\\n\\nRe...</td>\n",
       "      <td>False</td>\n",
       "      <td>0</td>\n",
       "      <td>truth</td>\n",
       "      <td>0.005379</td>\n",
       "      <td>0.008308</td>\n",
       "      <td>0</td>\n",
       "      <td>7998</td>\n",
       "      <td>0.005375</td>\n",
       "      <td>0.992676</td>\n",
       "      <td>truth</td>\n",
       "      <td>0.002930</td>\n",
       "      <td>0.002930</td>\n",
       "      <td>0.006844</td>\n",
       "      <td>False</td>\n",
       "    </tr>\n",
       "    <tr>\n",
       "      <th>35999</th>\n",
       "      <td>False</td>\n",
       "      <td>Review Title: IF YOU BUY THIS CD FROM HOT PROD...</td>\n",
       "      <td>False</td>\n",
       "      <td>0</td>\n",
       "      <td>truth</td>\n",
       "      <td>0.085022</td>\n",
       "      <td>0.089966</td>\n",
       "      <td>0</td>\n",
       "      <td>7999</td>\n",
       "      <td>0.082275</td>\n",
       "      <td>0.884766</td>\n",
       "      <td>truth</td>\n",
       "      <td>0.004944</td>\n",
       "      <td>0.004944</td>\n",
       "      <td>0.087494</td>\n",
       "      <td>False</td>\n",
       "    </tr>\n",
       "  </tbody>\n",
       "</table>\n",
       "<p>36000 rows × 16 columns</p>\n",
       "</div>"
      ],
      "text/plain": [
       "       desired_answer                                              input   \n",
       "0                True  Title: Horrible and dangerous for kids!\\n\\nCon...  \\\n",
       "1                True  Title: Order with caution\\n\\nContent: I ordere...   \n",
       "2                True  Title: A big disappointment\\n\\nContent: This m...   \n",
       "3                True  Title: Came F*$%ed Up!!\\n\\nContent: ok so i go...   \n",
       "4                True  Title: broken\\n\\nContent: I was anticipating t...   \n",
       "...               ...                                                ...   \n",
       "35995            True  Review Title: Great for burning CDS\\n\\nReview ...   \n",
       "35996           False  Review Title: Horrible...\\n\\nReview Content: I...   \n",
       "35997           False  Review Title: one of the worst books to use fo...   \n",
       "35998           False  Review Title: Not for C, C++ programmers\\n\\nRe...   \n",
       "35999           False  Review Title: IF YOU BUY THIS CD FROM HOT PROD...   \n",
       "\n",
       "         lie  true_answer version      ans1      ans2  true  index    prob_y   \n",
       "0       True            0     lie  0.058716  0.153931     0      0  0.057861  \\\n",
       "1       True            0     lie  0.373535  0.476074     0      1  0.371094   \n",
       "2       True            0     lie  0.063660  0.204224     0      2  0.063416   \n",
       "3       True            0     lie  0.259521  0.054138     0      3  0.252686   \n",
       "4       True            0     lie  0.151001  0.265625     0      4  0.148071   \n",
       "...      ...          ...     ...       ...       ...   ...    ...       ...   \n",
       "35995  False            1   truth  0.522949  0.745117     1   7995  0.518555   \n",
       "35996  False            0   truth  0.001739  0.001056     0   7996  0.001735   \n",
       "35997  False            0   truth  0.016632  0.000480     0   7997  0.016357   \n",
       "35998  False            0   truth  0.005379  0.008308     0   7998  0.005375   \n",
       "35999  False            0   truth  0.085022  0.089966     0   7999  0.082275   \n",
       "\n",
       "         prob_n version  dir_true      conf  llm_prob  llm_ans  \n",
       "0      0.926270     lie  0.095215  0.095215  0.106323    False  \n",
       "1      0.621582     lie  0.102539  0.102539  0.424805    False  \n",
       "2      0.932129     lie  0.140564  0.140564  0.133942    False  \n",
       "3      0.720215     lie -0.205383  0.205383  0.156830    False  \n",
       "4      0.832031     lie  0.114624  0.114624  0.208313    False  \n",
       "...         ...     ...       ...       ...       ...      ...  \n",
       "35995  0.472168   truth  0.222168  0.222168  0.634033     True  \n",
       "35996  0.994629   truth -0.000683  0.000683  0.001397    False  \n",
       "35997  0.965820   truth -0.016152  0.016152  0.008556    False  \n",
       "35998  0.992676   truth  0.002930  0.002930  0.006844    False  \n",
       "35999  0.884766   truth  0.004944  0.004944  0.087494    False  \n",
       "\n",
       "[36000 rows x 16 columns]"
      ]
     },
     "execution_count": 4,
     "metadata": {},
     "output_type": "execute_result"
    }
   ],
   "source": [
    "# lets select only the ones where\n",
    "df = ds2df(ds1)\n",
    "df"
   ]
  },
  {
   "cell_type": "code",
   "execution_count": 5,
   "metadata": {},
   "outputs": [
    {
     "data": {
      "text/plain": [
       "Dataset({\n",
       "    features: ['hs1', 'ans1', 'hs2', 'ans2', 'true', 'index', 'version', 'info', 'input_truncated', 'prob_y', 'prob_n', 'text_ans', 'input_text'],\n",
       "    num_rows: 14082\n",
       "})"
      ]
     },
     "execution_count": 5,
     "metadata": {},
     "output_type": "execute_result"
    }
   ],
   "source": [
    "\n",
    "\n",
    "# just select the question where the model knows the answer. \n",
    "d = df.query('version==\"truth\"').set_index(\"index\")\n",
    "# these are the ones where it got it right when asked to tell the truth\n",
    "known_indices = d[d.llm_ans==d.true_answer].index\n",
    "\n",
    "# convert to row numbers, and use datasets to select\n",
    "known_rows = df['index'].isin(known_indices)\n",
    "known_rows_i = df[known_rows].index\n",
    "\n",
    "# also restrict it to significant permutations. That is monte carlo dropout pairs, where the answer changes by more than X%\n",
    "m = np.abs(df.ans1-df.ans2)>0.10\n",
    "significant_rows = m[m].index\n",
    "\n",
    "allowed_rows_i = set(known_rows_i).intersection(significant_rows)\n",
    "ds = ds1.select(allowed_rows_i)\n",
    "ds"
   ]
  },
  {
   "cell_type": "markdown",
   "metadata": {},
   "source": [
    "## Transform: Normalize by activation"
   ]
  },
  {
   "cell_type": "code",
   "execution_count": 6,
   "metadata": {},
   "outputs": [],
   "source": [
    "# N = 1000\n",
    "# small_ds = ds.select(range(N))\n",
    "# b = N\n",
    "# hs1 = small_ds['hs1'].reshape((b, -1))\n",
    "\n",
    "# scaler = RobustScaler()\n",
    "# hs2 = scaler.fit_transform(hs1)\n",
    "\n",
    "# def normalize_hs(hs1, hs2):\n",
    "#     b = len(hs1)\n",
    "#     hs1 = scaler.transform(hs1.reshape((b, -1)))\n",
    "#     hs2 = scaler.transform(hs2.reshape((b, -1)))\n",
    "#     return {'hs1':hs1, 'hs2': hs2}\n",
    "\n",
    "# # # Plot\n",
    "# # plt.hist(hs1.flatten(), bins=155, range=[-5, 5], label='before', histtype='step')\n",
    "# # plt.hist(hs2.flatten(), bins=155, range=[-5, 5], label='after', histtype='step')\n",
    "# # plt.legend()\n",
    "# # plt.show()\n",
    "\n",
    "# # # Test\n",
    "# # small_dataset = ds.select(range(4))\n",
    "# # small_dataset.map(normalize_hs, batched=True, batch_size=2, input_columns=['hs1', 'hs2'])\n",
    "\n",
    "# # run\n",
    "# ds = ds.map(normalize_hs, batched=True, input_columns=['hs1', 'hs2'])\n",
    "# ds"
   ]
  },
  {
   "attachments": {},
   "cell_type": "markdown",
   "metadata": {},
   "source": [
    "## Lightning DataModule"
   ]
  },
  {
   "cell_type": "code",
   "execution_count": 7,
   "metadata": {},
   "outputs": [
    {
     "data": {
      "text/html": [
       "<div>\n",
       "<style scoped>\n",
       "    .dataframe tbody tr th:only-of-type {\n",
       "        vertical-align: middle;\n",
       "    }\n",
       "\n",
       "    .dataframe tbody tr th {\n",
       "        vertical-align: top;\n",
       "    }\n",
       "\n",
       "    .dataframe thead th {\n",
       "        text-align: right;\n",
       "    }\n",
       "</style>\n",
       "<table border=\"1\" class=\"dataframe\">\n",
       "  <thead>\n",
       "    <tr style=\"text-align: right;\">\n",
       "      <th></th>\n",
       "      <th>desired_answer</th>\n",
       "      <th>input</th>\n",
       "      <th>lie</th>\n",
       "      <th>true_answer</th>\n",
       "      <th>version</th>\n",
       "      <th>ans1</th>\n",
       "      <th>ans2</th>\n",
       "      <th>true</th>\n",
       "      <th>index</th>\n",
       "      <th>prob_y</th>\n",
       "      <th>prob_n</th>\n",
       "      <th>version</th>\n",
       "      <th>dir_true</th>\n",
       "      <th>conf</th>\n",
       "      <th>llm_prob</th>\n",
       "      <th>llm_ans</th>\n",
       "    </tr>\n",
       "  </thead>\n",
       "  <tbody>\n",
       "    <tr>\n",
       "      <th>0</th>\n",
       "      <td>True</td>\n",
       "      <td>Title: Order with caution\\n\\nContent: I ordere...</td>\n",
       "      <td>True</td>\n",
       "      <td>0</td>\n",
       "      <td>lie</td>\n",
       "      <td>0.373535</td>\n",
       "      <td>0.476074</td>\n",
       "      <td>0</td>\n",
       "      <td>1</td>\n",
       "      <td>0.371094</td>\n",
       "      <td>0.621582</td>\n",
       "      <td>lie</td>\n",
       "      <td>0.102539</td>\n",
       "      <td>0.102539</td>\n",
       "      <td>0.424805</td>\n",
       "      <td>False</td>\n",
       "    </tr>\n",
       "    <tr>\n",
       "      <th>1</th>\n",
       "      <td>True</td>\n",
       "      <td>Title: A big disappointment\\n\\nContent: This m...</td>\n",
       "      <td>True</td>\n",
       "      <td>0</td>\n",
       "      <td>lie</td>\n",
       "      <td>0.063660</td>\n",
       "      <td>0.204224</td>\n",
       "      <td>0</td>\n",
       "      <td>2</td>\n",
       "      <td>0.063416</td>\n",
       "      <td>0.932129</td>\n",
       "      <td>lie</td>\n",
       "      <td>0.140564</td>\n",
       "      <td>0.140564</td>\n",
       "      <td>0.133942</td>\n",
       "      <td>False</td>\n",
       "    </tr>\n",
       "    <tr>\n",
       "      <th>2</th>\n",
       "      <td>True</td>\n",
       "      <td>Title: Came F*$%ed Up!!\\n\\nContent: ok so i go...</td>\n",
       "      <td>True</td>\n",
       "      <td>0</td>\n",
       "      <td>lie</td>\n",
       "      <td>0.259521</td>\n",
       "      <td>0.054138</td>\n",
       "      <td>0</td>\n",
       "      <td>3</td>\n",
       "      <td>0.252686</td>\n",
       "      <td>0.720215</td>\n",
       "      <td>lie</td>\n",
       "      <td>-0.205383</td>\n",
       "      <td>0.205383</td>\n",
       "      <td>0.156830</td>\n",
       "      <td>False</td>\n",
       "    </tr>\n",
       "    <tr>\n",
       "      <th>3</th>\n",
       "      <td>True</td>\n",
       "      <td>Title: broken\\n\\nContent: I was anticipating t...</td>\n",
       "      <td>True</td>\n",
       "      <td>0</td>\n",
       "      <td>lie</td>\n",
       "      <td>0.151001</td>\n",
       "      <td>0.265625</td>\n",
       "      <td>0</td>\n",
       "      <td>4</td>\n",
       "      <td>0.148071</td>\n",
       "      <td>0.832031</td>\n",
       "      <td>lie</td>\n",
       "      <td>0.114624</td>\n",
       "      <td>0.114624</td>\n",
       "      <td>0.208313</td>\n",
       "      <td>False</td>\n",
       "    </tr>\n",
       "  </tbody>\n",
       "</table>\n",
       "</div>"
      ],
      "text/plain": [
       "   desired_answer                                              input   lie   \n",
       "0            True  Title: Order with caution\\n\\nContent: I ordere...  True  \\\n",
       "1            True  Title: A big disappointment\\n\\nContent: This m...  True   \n",
       "2            True  Title: Came F*$%ed Up!!\\n\\nContent: ok so i go...  True   \n",
       "3            True  Title: broken\\n\\nContent: I was anticipating t...  True   \n",
       "\n",
       "   true_answer version      ans1      ans2  true  index    prob_y    prob_n   \n",
       "0            0     lie  0.373535  0.476074     0      1  0.371094  0.621582  \\\n",
       "1            0     lie  0.063660  0.204224     0      2  0.063416  0.932129   \n",
       "2            0     lie  0.259521  0.054138     0      3  0.252686  0.720215   \n",
       "3            0     lie  0.151001  0.265625     0      4  0.148071  0.832031   \n",
       "\n",
       "  version  dir_true      conf  llm_prob  llm_ans  \n",
       "0     lie  0.102539  0.102539  0.424805    False  \n",
       "1     lie  0.140564  0.140564  0.133942    False  \n",
       "2     lie -0.205383  0.205383  0.156830    False  \n",
       "3     lie  0.114624  0.114624  0.208313    False  "
      ]
     },
     "execution_count": 7,
     "metadata": {},
     "output_type": "execute_result"
    }
   ],
   "source": [
    "df = ds2df(ds)\n",
    "df.head(4)"
   ]
  },
  {
   "attachments": {},
   "cell_type": "markdown",
   "metadata": {},
   "source": [
    "What are we detecting? If the right example of the pair is more deceptive.\n",
    "\n",
    "Now it's only deceptive if\n",
    "- it was asked to lie\n",
    "- it knows the truth\n",
    "- it gave the wrong answer (around 10% of the time)( it's hard to get these models to lie by encouragement rather than instruction)\n"
   ]
  },
  {
   "cell_type": "code",
   "execution_count": 8,
   "metadata": {},
   "outputs": [],
   "source": [
    "def bool2switch(x):\n",
    "    \"\"\"[0,1]->[-1,1]\"\"\"\n",
    "    return x*2-1\n",
    "\n",
    "def switch2bool(x):\n",
    "    \"\"\"[-1,1]->[0,1]\"\"\"\n",
    "    return (x+1)/2\n",
    "\n",
    "assert switch2bool(-1)==0\n",
    "assert switch2bool(1)==1\n",
    "assert bool2switch(1)==1\n",
    "assert bool2switch(0)==-1\n",
    "\n",
    "\n",
    "def make_y(df):\n",
    "    # label: is ans2 more true than ans1\n",
    "    # so we ask does ans2 have greater probabiliy on \"positive\" than ans1\n",
    "    # then, when the right answer is negative we swap the sign\n",
    "    true_switch_sign = df.true_answer*2-1\n",
    "    distance = (df.ans2-df.ans1) * true_switch_sign\n",
    "    # y = bool2switch(distance>0)\n",
    "    return distance"
   ]
  },
  {
   "cell_type": "code",
   "execution_count": 9,
   "metadata": {},
   "outputs": [],
   "source": [
    "\n",
    "\n",
    "class imdbHSDataModule(pl.LightningDataModule):\n",
    "\n",
    "    def __init__(self,\n",
    "                 ds,\n",
    "                 batch_size=32,\n",
    "                ):\n",
    "        super().__init__()\n",
    "        self.save_hyperparameters(ignore=[\"ds\"])\n",
    "        self.ds = ds.shuffle(seed=42)\n",
    "\n",
    "    def setup(self, stage: str):\n",
    "        h = self.hparams\n",
    "        \n",
    "        # extract data set into N-Dim tensors and 1-d dataframe\n",
    "        self.ds_hs = (\n",
    "            self.ds.select_columns(['hs1', 'hs2'])\n",
    "            .with_format(\"numpy\")\n",
    "        )\n",
    "        self.df = ds2df(self.ds)\n",
    "        \n",
    "        y_cls = make_y(self.df)\n",
    "        \n",
    "        self.y = y_cls.values\n",
    "        self.df['y'] = y_cls\n",
    "        \n",
    "        b = len(self.ds_hs)\n",
    "        self.hs1 = self.ds_hs['hs1'].transpose(0, 2, 1)\n",
    "        self.hs2 = self.ds_hs['hs2'].transpose(0, 2, 1)\n",
    "        self.ans1 = self.df['ans1'].values\n",
    "        self.ans2 = self.df['ans2'].values\n",
    "\n",
    "        # let's create a simple 50/50 train split (the data is already randomized)\n",
    "        n = len(self.y)\n",
    "        \n",
    "        self.val_split = vs = int(n * 0.5)\n",
    "        self.test_split = ts = int(n * 0.75)\n",
    "        hs1_train, hs2_train, y_train = self.hs1[:vs], self.hs2[:vs], self.y[:vs]\n",
    "        hs1_val, hs2_val, y_val = self.hs1[vs:ts], self.hs2[vs:ts], self.y[vs:ts]\n",
    "        hs1_test, hs2_test, y_test = self.hs1[ts:],self. hs2[ts:], self.y[ts:]\n",
    "        \n",
    "        \n",
    "        to_ds = lambda x0, x1, y: TensorDataset(torch.from_numpy(x0).float(),\n",
    "                                      torch.from_numpy(x1).float(),\n",
    "                                      torch.from_numpy(y).float()\n",
    "                                      )\n",
    "\n",
    "        self.ds_train = to_ds(hs1_train, hs2_train, y_train)\n",
    "\n",
    "        self.ds_val = to_ds(hs1_val, hs2_val, y_val)\n",
    "\n",
    "        self.ds_test = to_ds(hs1_test, hs2_test, y_test)\n",
    "\n",
    "    def train_dataloader(self):\n",
    "        return DataLoader(self.ds_train,\n",
    "                          batch_size=self.hparams.batch_size,\n",
    "                          drop_last=True,\n",
    "                          shuffle=True)\n",
    "\n",
    "    def val_dataloader(self):\n",
    "        return DataLoader(self.ds_val, batch_size=self.hparams.batch_size, drop_last=True,)\n",
    "\n",
    "    def test_dataloader(self):\n",
    "        return DataLoader(self.ds_test, batch_size=self.hparams.batch_size, drop_last=True,)\n"
   ]
  },
  {
   "cell_type": "code",
   "execution_count": 10,
   "metadata": {},
   "outputs": [
    {
     "name": "stderr",
     "output_type": "stream",
     "text": [
      "Loading cached shuffled indices for dataset at /home/ubuntu/Documents/mjc/elk/discovering_latent_knowledge/notebooks/.ds/HuggingFaceH4starchat_beta-None-N_4000-ns_3-mc_0.2-0392de/cache-35c10a94e92fef40.arrow\n"
     ]
    }
   ],
   "source": [
    "batch_size = 128\n",
    "# test and cache\n",
    "dm = imdbHSDataModule(ds, batch_size=batch_size)\n",
    "dm.setup('train')\n",
    "\n",
    "dl_val = dm.val_dataloader()\n",
    "dl_train = dm.train_dataloader()\n"
   ]
  },
  {
   "cell_type": "code",
   "execution_count": 11,
   "metadata": {},
   "outputs": [
    {
     "data": {
      "text/plain": [
       "torch.Size([128, 6144, 19])"
      ]
     },
     "execution_count": 11,
     "metadata": {},
     "output_type": "execute_result"
    }
   ],
   "source": [
    "b = next(iter(dl_train))\n",
    "x0, x1, y = b\n",
    "x0.shape"
   ]
  },
  {
   "attachments": {},
   "cell_type": "markdown",
   "metadata": {},
   "source": [
    "# Data prep\n",
    "\n",
    "We do two inferences on the same inputs. Since we have dropout enabled, even during inference, we get two slightly different hidden states `hs1` and `hs2`, and two slightly different probabilities for our yes and no output tokens `p1` `p2`. We also have the true answer `t`\n",
    "\n",
    "So there are a few ways we can set up the problem. \n",
    "\n",
    "We can vary x:\n",
    "- `model(hs1)-model(hs2)=y`\n",
    "- `model(hs1-hs2)==y`\n",
    "\n",
    "And we can try differen't y's:\n",
    "- direction with a ranked loss. This could be unsupervised.\n",
    "- magnitude with a regression loss\n",
    "- vector (direction and magnitude) with a regression loss"
   ]
  },
  {
   "attachments": {},
   "cell_type": "markdown",
   "metadata": {},
   "source": [
    "# QC: Linear supervised probes\n",
    "\n",
    "\n",
    "Let's verify that the model's representations are good\n",
    "\n",
    "Before trying CCS, let's make sure there exists a direction that classifies examples as true vs false with high accuracy; if supervised logistic regression accuracy is bad, there's no hope of unsupervised CCS doing well.\n",
    "\n",
    "Note that because logistic regression is supervised we expect it to do better but to have worse generalisation that equivilent unsupervised methods. However in this case CSS is using a deeper model so it is more complicated.\n"
   ]
  },
  {
   "attachments": {},
   "cell_type": "markdown",
   "metadata": {},
   "source": [
    "## Try a classification of direction to truth"
   ]
  },
  {
   "cell_type": "code",
   "execution_count": null,
   "metadata": {},
   "outputs": [],
   "source": []
  },
  {
   "cell_type": "code",
   "execution_count": 12,
   "metadata": {},
   "outputs": [
    {
     "name": "stdout",
     "output_type": "stream",
     "text": [
      "split size 7041\n",
      "lr\n"
     ]
    },
    {
     "data": {
      "text/html": [
       "<style>#sk-container-id-1 {color: black;background-color: white;}#sk-container-id-1 pre{padding: 0;}#sk-container-id-1 div.sk-toggleable {background-color: white;}#sk-container-id-1 label.sk-toggleable__label {cursor: pointer;display: block;width: 100%;margin-bottom: 0;padding: 0.3em;box-sizing: border-box;text-align: center;}#sk-container-id-1 label.sk-toggleable__label-arrow:before {content: \"▸\";float: left;margin-right: 0.25em;color: #696969;}#sk-container-id-1 label.sk-toggleable__label-arrow:hover:before {color: black;}#sk-container-id-1 div.sk-estimator:hover label.sk-toggleable__label-arrow:before {color: black;}#sk-container-id-1 div.sk-toggleable__content {max-height: 0;max-width: 0;overflow: hidden;text-align: left;background-color: #f0f8ff;}#sk-container-id-1 div.sk-toggleable__content pre {margin: 0.2em;color: black;border-radius: 0.25em;background-color: #f0f8ff;}#sk-container-id-1 input.sk-toggleable__control:checked~div.sk-toggleable__content {max-height: 200px;max-width: 100%;overflow: auto;}#sk-container-id-1 input.sk-toggleable__control:checked~label.sk-toggleable__label-arrow:before {content: \"▾\";}#sk-container-id-1 div.sk-estimator input.sk-toggleable__control:checked~label.sk-toggleable__label {background-color: #d4ebff;}#sk-container-id-1 div.sk-label input.sk-toggleable__control:checked~label.sk-toggleable__label {background-color: #d4ebff;}#sk-container-id-1 input.sk-hidden--visually {border: 0;clip: rect(1px 1px 1px 1px);clip: rect(1px, 1px, 1px, 1px);height: 1px;margin: -1px;overflow: hidden;padding: 0;position: absolute;width: 1px;}#sk-container-id-1 div.sk-estimator {font-family: monospace;background-color: #f0f8ff;border: 1px dotted black;border-radius: 0.25em;box-sizing: border-box;margin-bottom: 0.5em;}#sk-container-id-1 div.sk-estimator:hover {background-color: #d4ebff;}#sk-container-id-1 div.sk-parallel-item::after {content: \"\";width: 100%;border-bottom: 1px solid gray;flex-grow: 1;}#sk-container-id-1 div.sk-label:hover label.sk-toggleable__label {background-color: #d4ebff;}#sk-container-id-1 div.sk-serial::before {content: \"\";position: absolute;border-left: 1px solid gray;box-sizing: border-box;top: 0;bottom: 0;left: 50%;z-index: 0;}#sk-container-id-1 div.sk-serial {display: flex;flex-direction: column;align-items: center;background-color: white;padding-right: 0.2em;padding-left: 0.2em;position: relative;}#sk-container-id-1 div.sk-item {position: relative;z-index: 1;}#sk-container-id-1 div.sk-parallel {display: flex;align-items: stretch;justify-content: center;background-color: white;position: relative;}#sk-container-id-1 div.sk-item::before, #sk-container-id-1 div.sk-parallel-item::before {content: \"\";position: absolute;border-left: 1px solid gray;box-sizing: border-box;top: 0;bottom: 0;left: 50%;z-index: -1;}#sk-container-id-1 div.sk-parallel-item {display: flex;flex-direction: column;z-index: 1;position: relative;background-color: white;}#sk-container-id-1 div.sk-parallel-item:first-child::after {align-self: flex-end;width: 50%;}#sk-container-id-1 div.sk-parallel-item:last-child::after {align-self: flex-start;width: 50%;}#sk-container-id-1 div.sk-parallel-item:only-child::after {width: 0;}#sk-container-id-1 div.sk-dashed-wrapped {border: 1px dashed gray;margin: 0 0.4em 0.5em 0.4em;box-sizing: border-box;padding-bottom: 0.4em;background-color: white;}#sk-container-id-1 div.sk-label label {font-family: monospace;font-weight: bold;display: inline-block;line-height: 1.2em;}#sk-container-id-1 div.sk-label-container {text-align: center;}#sk-container-id-1 div.sk-container {/* jupyter's `normalize.less` sets `[hidden] { display: none; }` but bootstrap.min.css set `[hidden] { display: none !important; }` so we also need the `!important` here to be able to override the default hidden behavior on the sphinx rendered scikit-learn.org. See: https://github.com/scikit-learn/scikit-learn/issues/21755 */display: inline-block !important;position: relative;}#sk-container-id-1 div.sk-text-repr-fallback {display: none;}</style><div id=\"sk-container-id-1\" class=\"sk-top-container\"><div class=\"sk-text-repr-fallback\"><pre>LogisticRegression(class_weight=&#x27;balanced&#x27;, max_iter=380)</pre><b>In a Jupyter environment, please rerun this cell to show the HTML representation or trust the notebook. <br />On GitHub, the HTML representation is unable to render, please try loading this page with nbviewer.org.</b></div><div class=\"sk-container\" hidden><div class=\"sk-item\"><div class=\"sk-estimator sk-toggleable\"><input class=\"sk-toggleable__control sk-hidden--visually\" id=\"sk-estimator-id-1\" type=\"checkbox\" checked><label for=\"sk-estimator-id-1\" class=\"sk-toggleable__label sk-toggleable__label-arrow\">LogisticRegression</label><div class=\"sk-toggleable__content\"><pre>LogisticRegression(class_weight=&#x27;balanced&#x27;, max_iter=380)</pre></div></div></div></div></div>"
      ],
      "text/plain": [
       "LogisticRegression(class_weight='balanced', max_iter=380)"
      ]
     },
     "execution_count": 12,
     "metadata": {},
     "output_type": "execute_result"
    }
   ],
   "source": [
    "n = len(df)\n",
    "\n",
    "# Define X and y\n",
    "b = len(dm.y)\n",
    "X = (dm.hs1-dm.hs2).reshape(b, -1)\n",
    "y = dm.y>0\n",
    "\n",
    "# split\n",
    "n = len(y)\n",
    "max_rows = 1000\n",
    "print('split size', n//2)\n",
    "X_train, X_test = X[:n//2], X[n//2:]\n",
    "y_train, y_test = y[:n//2], y[n//2:]\n",
    "X_train = X_train[:max_rows]\n",
    "y_train = y_train[:max_rows]\n",
    "X_test = X_test[:max_rows]\n",
    "y_test = y_test[:max_rows]\n",
    "\n",
    "# scale\n",
    "scaler = RobustScaler()\n",
    "scaler.fit(X_train)\n",
    "X_train2 = scaler.transform(X_train)\n",
    "X_test2 = scaler.transform(X_test)\n",
    "print('lr')\n",
    "\n",
    "lr = LogisticRegression(class_weight=\"balanced\", penalty=\"l2\", max_iter=380)\n",
    "lr.fit(X_train2, y_train>0)"
   ]
  },
  {
   "cell_type": "code",
   "execution_count": 13,
   "metadata": {},
   "outputs": [
    {
     "name": "stdout",
     "output_type": "stream",
     "text": [
      "Logistic cls acc: 100.00% [TRAIN]\n",
      "Logistic cls acc: 71.20% [TEST]\n",
      "test acc w lie 71.72%\n",
      "test acc wo lie 70.30%\n"
     ]
    }
   ],
   "source": [
    "print(\"Logistic cls acc: {:2.2%} [TRAIN]\".format(lr.score(X_train2, y_train>0)))\n",
    "print(\"Logistic cls acc: {:2.2%} [TEST]\".format(lr.score(X_test2, y_test>0)))\n",
    "\n",
    "m = df['lie'][n//2:][:max_rows]\n",
    "y_test_pred = lr.predict(X_test2)\n",
    "acc_w_lie = ((y_test_pred[m]>0)==(y_test[m]>0)).mean()\n",
    "acc_wo_lie = ((y_test_pred[~m]>0)==(y_test[~m]>0)).mean()\n",
    "print(f'test acc w lie {acc_w_lie:2.2%}')\n",
    "print(f'test acc wo lie {acc_wo_lie:2.2%}')"
   ]
  },
  {
   "cell_type": "code",
   "execution_count": 14,
   "metadata": {},
   "outputs": [
    {
     "data": {
      "text/plain": [
       "0.7116058990248355"
      ]
     },
     "execution_count": 14,
     "metadata": {},
     "output_type": "execute_result"
    }
   ],
   "source": [
    "primary_baseline = roc_auc_score(y_test>0, y_test_pred)\n",
    "primary_baseline"
   ]
  },
  {
   "attachments": {},
   "cell_type": "markdown",
   "metadata": {},
   "source": [
    "# LightningModel"
   ]
  },
  {
   "cell_type": "code",
   "execution_count": 15,
   "metadata": {},
   "outputs": [],
   "source": [
    "# from https://github.com/timeseriesAI/tsai/blob/f20027e236ff06ed8fa3f5d30da5ebdcc67fe5aa/tsai/models/layers.py#L261\n",
    "\n",
    "class AddCoords1d(nn.Module):\n",
    "    \"\"\"Add coordinates to ease position identification without modifying mean and std\"\"\"\n",
    "    def forward(self, x):\n",
    "        bs, _, seq_len = x.shape\n",
    "        cc = torch.linspace(-1,1,x.shape[-1], device=x.device).repeat(bs, 1, 1)\n",
    "        cc = (cc - cc.mean()) / cc.std()\n",
    "        x = torch.cat([x, cc], dim=1)\n",
    "        return x"
   ]
  },
  {
   "cell_type": "code",
   "execution_count": 16,
   "metadata": {},
   "outputs": [],
   "source": [
    "class MLPProbe(nn.Module):\n",
    "    def __init__(self, c_in, depth=0, hs=16, dropout=0):\n",
    "        super().__init__()\n",
    "\n",
    "        layers = [\n",
    "            nn.BatchNorm1d(c_in, affine=False),  # this will normalise the inputs\n",
    "            AddCoords1d(),\n",
    "            nn.Dropout1d(dropout),\n",
    "            \n",
    "            nn.Conv1d(c_in+1, hs*(depth+1), kernel_size=2, padding=0),\n",
    "            nn.BatchNorm1d(hs*(depth+1)),\n",
    "            nn.ReLU(),\n",
    "        ]\n",
    "        for i in range(depth):\n",
    "            layers += [\n",
    "                AddCoords1d(),\n",
    "                nn.Conv1d(hs*(depth-i+1)+1, hs*(depth-i), 2, padding=0),\n",
    "                nn.BatchNorm1d(hs*(depth-i)),\n",
    "                nn.ReLU(),\n",
    "                \n",
    "            ]\n",
    "        layers += [nn.AdaptiveAvgPool1d(1)]\n",
    "        self.net = nn.Sequential(*layers)\n",
    "        self.head = nn.Sequential(\n",
    "            nn.Linear(hs, hs), nn.BatchNorm1d(hs), nn.Dropout(dropout), nn.ReLU(), \n",
    "            nn.Linear(hs, 1)\n",
    "        )\n",
    "\n",
    "    def forward(self, x):\n",
    "        h = self.net(x)\n",
    "        # print(1, h.shape)\n",
    "        h = h.squeeze(-1)\n",
    "        # print(1, h.shape)\n",
    "        return self.head(h)\n"
   ]
  },
  {
   "cell_type": "code",
   "execution_count": null,
   "metadata": {},
   "outputs": [],
   "source": []
  },
  {
   "cell_type": "code",
   "execution_count": 17,
   "metadata": {},
   "outputs": [],
   "source": [
    "from pytorch_optimizer import Ranger21\n",
    "import torchmetrics\n",
    "\n",
    "from torchmetrics import Metric, MetricCollection, Accuracy, AUROC\n",
    "    \n",
    "class CSS(pl.LightningModule):\n",
    "    def __init__(self, c_in, total_steps, depth=1, hs=16, lr=4e-3, weight_decay=1e-9, dropout=0):\n",
    "        super().__init__()\n",
    "        self.probe = MLPProbe(c_in, depth=depth, dropout=dropout, hs=hs)\n",
    "        self.save_hyperparameters()\n",
    "        \n",
    "        self.loss_fn = nn.SmoothL1Loss()\n",
    "        \n",
    "        # metrics for each stage\n",
    "        metrics_template = MetricCollection({\n",
    "            'acc': Accuracy(task=\"binary\"), \n",
    "            'auroc': AUROC(task=\"binary\")\n",
    "        })\n",
    "        self.metrics = torch.nn.ModuleDict({\n",
    "            f'metrics_{stage}': metrics_template.clone(prefix=stage+'/') for stage in ['train', 'val', 'test']\n",
    "        })\n",
    "        \n",
    "    def forward(self, x):\n",
    "        return self.probe(x).squeeze(1)\n",
    "        \n",
    "    def _step(self, batch, batch_idx, stage='train'):\n",
    "        x0, x1, y = batch\n",
    "        ypred0 = self(x0)\n",
    "        ypred1 = self(x1)\n",
    "        \n",
    "        if stage=='pred':\n",
    "            return (ypred1-ypred0).float()\n",
    "        \n",
    "        loss = self.loss_fn(ypred1-ypred0, y)\n",
    "        self.log(f\"{stage}/loss\", loss)\n",
    "        \n",
    "        m = self.metrics[f'metrics_{stage}']\n",
    "        \n",
    "        y_cls = switch2bool(ypred1-ypred0)\n",
    "        m(y_cls, y>0.)\n",
    "        self.log_dict(m, on_epoch=True, on_step=False)\n",
    "        return loss\n",
    "    \n",
    "    def training_step(self, batch, batch_idx=0, dataloader_idx=0):\n",
    "        return self._step(batch, batch_idx)\n",
    "    \n",
    "    def validation_step(self, batch, batch_idx=0):\n",
    "        return self._step(batch, batch_idx, stage='val')\n",
    "    \n",
    "    def predict_step(self, batch, batch_idx=0, dataloader_idx=0):\n",
    "        return self._step(batch, batch_idx, stage='pred').cpu().detach()\n",
    "    \n",
    "    def test_step(self, batch, batch_idx=0, dataloader_idx=0):\n",
    "        return self._step(batch, batch_idx, stage='test')\n",
    "    \n",
    "    def configure_optimizers(self):\n",
    "        \"\"\"use ranger21 from  https://github.com/kozistr/pytorch_optimizer\"\"\"\n",
    "        optimizer = Ranger21(\n",
    "            self.parameters(),\n",
    "            lr=self.hparams.lr,\n",
    "            weight_decay=self.hparams.weight_decay,       \n",
    "            num_iterations=self.hparams.total_steps,\n",
    "        )\n",
    "        return optimizer\n",
    "    \n",
    "    "
   ]
  },
  {
   "attachments": {},
   "cell_type": "markdown",
   "metadata": {},
   "source": [
    "# Run"
   ]
  },
  {
   "cell_type": "code",
   "execution_count": 18,
   "metadata": {},
   "outputs": [],
   "source": [
    "# quiet please\n",
    "torch.set_float32_matmul_precision('medium')\n",
    "\n",
    "import warnings\n",
    "warnings.filterwarnings(\"ignore\", \".*does not have many workers.*\")\n",
    "warnings.filterwarnings(\"ignore\", \".*F-score.*\")"
   ]
  },
  {
   "attachments": {},
   "cell_type": "markdown",
   "metadata": {},
   "source": [
    "## Prep dataloader/set"
   ]
  },
  {
   "cell_type": "code",
   "execution_count": 19,
   "metadata": {},
   "outputs": [],
   "source": [
    "dl_train = dm.train_dataloader()\n",
    "dl_val = dm.val_dataloader()\n",
    "b = next(iter(dl_train))\n",
    "# b"
   ]
  },
  {
   "cell_type": "code",
   "execution_count": 20,
   "metadata": {},
   "outputs": [
    {
     "name": "stdout",
     "output_type": "stream",
     "text": [
      "torch.Size([128, 6144, 19])\n"
     ]
    },
    {
     "data": {
      "text/plain": [
       "CSS(\n",
       "  (probe): MLPProbe(\n",
       "    (net): Sequential(\n",
       "      (0): BatchNorm1d(6144, eps=1e-05, momentum=0.1, affine=False, track_running_stats=True)\n",
       "      (1): AddCoords1d()\n",
       "      (2): Dropout1d(p=0.1, inplace=False)\n",
       "      (3): Conv1d(6145, 1764, kernel_size=(2,), stride=(1,))\n",
       "      (4): BatchNorm1d(1764, eps=1e-05, momentum=0.1, affine=True, track_running_stats=True)\n",
       "      (5): ReLU()\n",
       "      (6): AddCoords1d()\n",
       "      (7): Conv1d(1765, 1512, kernel_size=(2,), stride=(1,))\n",
       "      (8): BatchNorm1d(1512, eps=1e-05, momentum=0.1, affine=True, track_running_stats=True)\n",
       "      (9): ReLU()\n",
       "      (10): AddCoords1d()\n",
       "      (11): Conv1d(1513, 1260, kernel_size=(2,), stride=(1,))\n",
       "      (12): BatchNorm1d(1260, eps=1e-05, momentum=0.1, affine=True, track_running_stats=True)\n",
       "      (13): ReLU()\n",
       "      (14): AddCoords1d()\n",
       "      (15): Conv1d(1261, 1008, kernel_size=(2,), stride=(1,))\n",
       "      (16): BatchNorm1d(1008, eps=1e-05, momentum=0.1, affine=True, track_running_stats=True)\n",
       "      (17): ReLU()\n",
       "      (18): AddCoords1d()\n",
       "      (19): Conv1d(1009, 756, kernel_size=(2,), stride=(1,))\n",
       "      (20): BatchNorm1d(756, eps=1e-05, momentum=0.1, affine=True, track_running_stats=True)\n",
       "      (21): ReLU()\n",
       "      (22): AddCoords1d()\n",
       "      (23): Conv1d(757, 504, kernel_size=(2,), stride=(1,))\n",
       "      (24): BatchNorm1d(504, eps=1e-05, momentum=0.1, affine=True, track_running_stats=True)\n",
       "      (25): ReLU()\n",
       "      (26): AddCoords1d()\n",
       "      (27): Conv1d(505, 252, kernel_size=(2,), stride=(1,))\n",
       "      (28): BatchNorm1d(252, eps=1e-05, momentum=0.1, affine=True, track_running_stats=True)\n",
       "      (29): ReLU()\n",
       "      (30): AdaptiveAvgPool1d(output_size=1)\n",
       "    )\n",
       "    (head): Sequential(\n",
       "      (0): Linear(in_features=252, out_features=252, bias=True)\n",
       "      (1): BatchNorm1d(252, eps=1e-05, momentum=0.1, affine=True, track_running_stats=True)\n",
       "      (2): Dropout(p=0.1, inplace=False)\n",
       "      (3): ReLU()\n",
       "      (4): Linear(in_features=252, out_features=1, bias=True)\n",
       "    )\n",
       "  )\n",
       "  (loss_fn): SmoothL1Loss()\n",
       "  (metrics): ModuleDict(\n",
       "    (metrics_train): MetricCollection(\n",
       "      (acc): BinaryAccuracy()\n",
       "      (auroc): BinaryAUROC(),\n",
       "      prefix=train/\n",
       "    )\n",
       "    (metrics_val): MetricCollection(\n",
       "      (acc): BinaryAccuracy()\n",
       "      (auroc): BinaryAUROC(),\n",
       "      prefix=val/\n",
       "    )\n",
       "    (metrics_test): MetricCollection(\n",
       "      (acc): BinaryAccuracy()\n",
       "      (auroc): BinaryAUROC(),\n",
       "      prefix=test/\n",
       "    )\n",
       "  )\n",
       ")"
      ]
     },
     "execution_count": 20,
     "metadata": {},
     "output_type": "execute_result"
    }
   ],
   "source": [
    "# init the model\n",
    "max_epochs = 42\n",
    "c_in = b[0].shape[1]\n",
    "print(b[0].shape)\n",
    "net = CSS(c_in=c_in, total_steps=max_epochs*len(dl_train), depth=6, hs=42*6, lr=3e-3, \n",
    "        #   weight_decay=1e-4, \n",
    "          dropout=0.1,\n",
    "          )\n",
    "net"
   ]
  },
  {
   "cell_type": "code",
   "execution_count": 21,
   "metadata": {},
   "outputs": [
    {
     "data": {
      "text/plain": [
       "(torch.Size([128]), torch.Size([128]))"
      ]
     },
     "execution_count": 21,
     "metadata": {},
     "output_type": "execute_result"
    }
   ],
   "source": [
    "# DEBUG\n",
    "with torch.no_grad():\n",
    "    b = next(iter(dl_train))\n",
    "    b2 = [bb.to(net.device) for bb in b]\n",
    "    y = net(b2[0])\n",
    "y.shape, b[2].shape"
   ]
  },
  {
   "cell_type": "code",
   "execution_count": 22,
   "metadata": {},
   "outputs": [],
   "source": [
    "# # DEBUG\n",
    "# trainer = pl.Trainer(fast_dev_run=2)\n",
    "# trainer.fit(model=net, train_dataloaders=dl_train)"
   ]
  },
  {
   "cell_type": "code",
   "execution_count": 23,
   "metadata": {},
   "outputs": [
    {
     "name": "stderr",
     "output_type": "stream",
     "text": [
      "Using bfloat16 Automatic Mixed Precision (AMP)\n",
      "GPU available: True (cuda), used: True\n",
      "TPU available: False, using: 0 TPU cores\n",
      "IPU available: False, using: 0 IPUs\n",
      "HPU available: False, using: 0 HPUs\n",
      "/home/ubuntu/mambaforge/envs/dlk2/lib/python3.9/site-packages/lightning/pytorch/trainer/connectors/logger_connector/logger_connector.py:67: UserWarning: Starting from v1.9.0, `tensorboardX` has been removed as a dependency of the `lightning.pytorch` package, due to potential conflicts with other packages in the ML ecosystem. For this reason, `logger=True` will use `CSVLogger` as the default logger, unless the `tensorboard` or `tensorboardX` packages are found. Please `pip install lightning[extra]` or one of them to enable TensorBoard support by default\n",
      "  warning_cache.warn(\n",
      "LOCAL_RANK: 0 - CUDA_VISIBLE_DEVICES: [0]\n",
      "\n",
      "  | Name    | Type         | Params\n",
      "-----------------------------------------\n",
      "0 | probe   | MLPProbe     | 36.0 M\n",
      "1 | loss_fn | SmoothL1Loss | 0     \n",
      "2 | metrics | ModuleDict   | 0     \n",
      "-----------------------------------------\n",
      "36.0 M    Trainable params\n",
      "0         Non-trainable params\n",
      "36.0 M    Total params\n",
      "144.003   Total estimated model params size (MB)\n"
     ]
    },
    {
     "data": {
      "application/vnd.jupyter.widget-view+json": {
       "model_id": "0d819597040c46e3bbcc183d9006fb20",
       "version_major": 2,
       "version_minor": 0
      },
      "text/plain": [
       "Sanity Checking: 0it [00:00, ?it/s]"
      ]
     },
     "metadata": {},
     "output_type": "display_data"
    },
    {
     "data": {
      "application/vnd.jupyter.widget-view+json": {
       "model_id": "01b70c789d384138883fca9e401987b1",
       "version_major": 2,
       "version_minor": 0
      },
      "text/plain": [
       "Training: 0it [00:00, ?it/s]"
      ]
     },
     "metadata": {},
     "output_type": "display_data"
    },
    {
     "data": {
      "application/vnd.jupyter.widget-view+json": {
       "model_id": "f348363492114d6b90d3b3188858855d",
       "version_major": 2,
       "version_minor": 0
      },
      "text/plain": [
       "Validation: 0it [00:00, ?it/s]"
      ]
     },
     "metadata": {},
     "output_type": "display_data"
    },
    {
     "data": {
      "application/vnd.jupyter.widget-view+json": {
       "model_id": "30495ab0fae74c72ab18817ee4379d92",
       "version_major": 2,
       "version_minor": 0
      },
      "text/plain": [
       "Validation: 0it [00:00, ?it/s]"
      ]
     },
     "metadata": {},
     "output_type": "display_data"
    },
    {
     "data": {
      "application/vnd.jupyter.widget-view+json": {
       "model_id": "3a8cfbea96e1423ea76b841ff5ee9179",
       "version_major": 2,
       "version_minor": 0
      },
      "text/plain": [
       "Validation: 0it [00:00, ?it/s]"
      ]
     },
     "metadata": {},
     "output_type": "display_data"
    },
    {
     "data": {
      "application/vnd.jupyter.widget-view+json": {
       "model_id": "56d197a32c2a42888ed969c888a6f1c4",
       "version_major": 2,
       "version_minor": 0
      },
      "text/plain": [
       "Validation: 0it [00:00, ?it/s]"
      ]
     },
     "metadata": {},
     "output_type": "display_data"
    },
    {
     "data": {
      "application/vnd.jupyter.widget-view+json": {
       "model_id": "7be5f141eb7e44009e38a004245e0fc5",
       "version_major": 2,
       "version_minor": 0
      },
      "text/plain": [
       "Validation: 0it [00:00, ?it/s]"
      ]
     },
     "metadata": {},
     "output_type": "display_data"
    },
    {
     "data": {
      "application/vnd.jupyter.widget-view+json": {
       "model_id": "d8c7165fb6c9437eac2e7ada012282df",
       "version_major": 2,
       "version_minor": 0
      },
      "text/plain": [
       "Validation: 0it [00:00, ?it/s]"
      ]
     },
     "metadata": {},
     "output_type": "display_data"
    },
    {
     "data": {
      "application/vnd.jupyter.widget-view+json": {
       "model_id": "fcb0a2b551cc426c8a77dc7f0d21cb92",
       "version_major": 2,
       "version_minor": 0
      },
      "text/plain": [
       "Validation: 0it [00:00, ?it/s]"
      ]
     },
     "metadata": {},
     "output_type": "display_data"
    },
    {
     "data": {
      "application/vnd.jupyter.widget-view+json": {
       "model_id": "a74c0adc89924663bb4c82112db364fb",
       "version_major": 2,
       "version_minor": 0
      },
      "text/plain": [
       "Validation: 0it [00:00, ?it/s]"
      ]
     },
     "metadata": {},
     "output_type": "display_data"
    },
    {
     "data": {
      "application/vnd.jupyter.widget-view+json": {
       "model_id": "b1a8ccf56e754aff893ea7bee12c9658",
       "version_major": 2,
       "version_minor": 0
      },
      "text/plain": [
       "Validation: 0it [00:00, ?it/s]"
      ]
     },
     "metadata": {},
     "output_type": "display_data"
    },
    {
     "data": {
      "application/vnd.jupyter.widget-view+json": {
       "model_id": "70a05f8835874860a91cfa79adeda630",
       "version_major": 2,
       "version_minor": 0
      },
      "text/plain": [
       "Validation: 0it [00:00, ?it/s]"
      ]
     },
     "metadata": {},
     "output_type": "display_data"
    },
    {
     "data": {
      "application/vnd.jupyter.widget-view+json": {
       "model_id": "0865c709de764f528f7fc28e8ead49bf",
       "version_major": 2,
       "version_minor": 0
      },
      "text/plain": [
       "Validation: 0it [00:00, ?it/s]"
      ]
     },
     "metadata": {},
     "output_type": "display_data"
    },
    {
     "data": {
      "application/vnd.jupyter.widget-view+json": {
       "model_id": "5352dc0d4797425cac5c3e67b2be6843",
       "version_major": 2,
       "version_minor": 0
      },
      "text/plain": [
       "Validation: 0it [00:00, ?it/s]"
      ]
     },
     "metadata": {},
     "output_type": "display_data"
    },
    {
     "data": {
      "application/vnd.jupyter.widget-view+json": {
       "model_id": "4a839df302e54f5598c5a0346a7f07fb",
       "version_major": 2,
       "version_minor": 0
      },
      "text/plain": [
       "Validation: 0it [00:00, ?it/s]"
      ]
     },
     "metadata": {},
     "output_type": "display_data"
    },
    {
     "data": {
      "application/vnd.jupyter.widget-view+json": {
       "model_id": "52e8f39ea5b545cdb20fdf13ba47aa8a",
       "version_major": 2,
       "version_minor": 0
      },
      "text/plain": [
       "Validation: 0it [00:00, ?it/s]"
      ]
     },
     "metadata": {},
     "output_type": "display_data"
    },
    {
     "data": {
      "application/vnd.jupyter.widget-view+json": {
       "model_id": "cad5d147def845b4b8c71b4765169ec7",
       "version_major": 2,
       "version_minor": 0
      },
      "text/plain": [
       "Validation: 0it [00:00, ?it/s]"
      ]
     },
     "metadata": {},
     "output_type": "display_data"
    },
    {
     "data": {
      "application/vnd.jupyter.widget-view+json": {
       "model_id": "f3bcbc951c1d4623aacd345b7c0b2aac",
       "version_major": 2,
       "version_minor": 0
      },
      "text/plain": [
       "Validation: 0it [00:00, ?it/s]"
      ]
     },
     "metadata": {},
     "output_type": "display_data"
    },
    {
     "data": {
      "application/vnd.jupyter.widget-view+json": {
       "model_id": "d4d34a592c49478eb043615d09bc0c9a",
       "version_major": 2,
       "version_minor": 0
      },
      "text/plain": [
       "Validation: 0it [00:00, ?it/s]"
      ]
     },
     "metadata": {},
     "output_type": "display_data"
    },
    {
     "data": {
      "application/vnd.jupyter.widget-view+json": {
       "model_id": "60385238362c4bc3a924b20f06669d75",
       "version_major": 2,
       "version_minor": 0
      },
      "text/plain": [
       "Validation: 0it [00:00, ?it/s]"
      ]
     },
     "metadata": {},
     "output_type": "display_data"
    },
    {
     "data": {
      "application/vnd.jupyter.widget-view+json": {
       "model_id": "e8c88cc9f65a4822928eb7499d68924f",
       "version_major": 2,
       "version_minor": 0
      },
      "text/plain": [
       "Validation: 0it [00:00, ?it/s]"
      ]
     },
     "metadata": {},
     "output_type": "display_data"
    },
    {
     "data": {
      "application/vnd.jupyter.widget-view+json": {
       "model_id": "534d6dc69c30404f99c3e997ffc74d09",
       "version_major": 2,
       "version_minor": 0
      },
      "text/plain": [
       "Validation: 0it [00:00, ?it/s]"
      ]
     },
     "metadata": {},
     "output_type": "display_data"
    },
    {
     "data": {
      "application/vnd.jupyter.widget-view+json": {
       "model_id": "3c87b9fe10504646956ea4dcc0d0e874",
       "version_major": 2,
       "version_minor": 0
      },
      "text/plain": [
       "Validation: 0it [00:00, ?it/s]"
      ]
     },
     "metadata": {},
     "output_type": "display_data"
    },
    {
     "data": {
      "application/vnd.jupyter.widget-view+json": {
       "model_id": "4646dcc4765244f6bafcb116ad071232",
       "version_major": 2,
       "version_minor": 0
      },
      "text/plain": [
       "Validation: 0it [00:00, ?it/s]"
      ]
     },
     "metadata": {},
     "output_type": "display_data"
    },
    {
     "data": {
      "application/vnd.jupyter.widget-view+json": {
       "model_id": "df7bca8b594941eaa2d26d352e1d30cf",
       "version_major": 2,
       "version_minor": 0
      },
      "text/plain": [
       "Validation: 0it [00:00, ?it/s]"
      ]
     },
     "metadata": {},
     "output_type": "display_data"
    },
    {
     "data": {
      "application/vnd.jupyter.widget-view+json": {
       "model_id": "823389d451df495eb283dd63d9d4507f",
       "version_major": 2,
       "version_minor": 0
      },
      "text/plain": [
       "Validation: 0it [00:00, ?it/s]"
      ]
     },
     "metadata": {},
     "output_type": "display_data"
    },
    {
     "data": {
      "application/vnd.jupyter.widget-view+json": {
       "model_id": "856abd0b9593445bbd8aeff65919ba00",
       "version_major": 2,
       "version_minor": 0
      },
      "text/plain": [
       "Validation: 0it [00:00, ?it/s]"
      ]
     },
     "metadata": {},
     "output_type": "display_data"
    },
    {
     "data": {
      "application/vnd.jupyter.widget-view+json": {
       "model_id": "1152980d9cd74409919a78484497c76e",
       "version_major": 2,
       "version_minor": 0
      },
      "text/plain": [
       "Validation: 0it [00:00, ?it/s]"
      ]
     },
     "metadata": {},
     "output_type": "display_data"
    },
    {
     "data": {
      "application/vnd.jupyter.widget-view+json": {
       "model_id": "730a394d9f25450094dc41bc6135884b",
       "version_major": 2,
       "version_minor": 0
      },
      "text/plain": [
       "Validation: 0it [00:00, ?it/s]"
      ]
     },
     "metadata": {},
     "output_type": "display_data"
    },
    {
     "data": {
      "application/vnd.jupyter.widget-view+json": {
       "model_id": "fff89652b9244272bc1236ab0c3c4451",
       "version_major": 2,
       "version_minor": 0
      },
      "text/plain": [
       "Validation: 0it [00:00, ?it/s]"
      ]
     },
     "metadata": {},
     "output_type": "display_data"
    },
    {
     "data": {
      "application/vnd.jupyter.widget-view+json": {
       "model_id": "19dfd53156f14133a033a61ba6b9d463",
       "version_major": 2,
       "version_minor": 0
      },
      "text/plain": [
       "Validation: 0it [00:00, ?it/s]"
      ]
     },
     "metadata": {},
     "output_type": "display_data"
    },
    {
     "data": {
      "application/vnd.jupyter.widget-view+json": {
       "model_id": "847875aca883484ea2201c49561c6f8d",
       "version_major": 2,
       "version_minor": 0
      },
      "text/plain": [
       "Validation: 0it [00:00, ?it/s]"
      ]
     },
     "metadata": {},
     "output_type": "display_data"
    },
    {
     "data": {
      "application/vnd.jupyter.widget-view+json": {
       "model_id": "a9050b0ea260487d9943789a3c723529",
       "version_major": 2,
       "version_minor": 0
      },
      "text/plain": [
       "Validation: 0it [00:00, ?it/s]"
      ]
     },
     "metadata": {},
     "output_type": "display_data"
    },
    {
     "data": {
      "application/vnd.jupyter.widget-view+json": {
       "model_id": "09caa81238eb4d878c45bc17c44a8b44",
       "version_major": 2,
       "version_minor": 0
      },
      "text/plain": [
       "Validation: 0it [00:00, ?it/s]"
      ]
     },
     "metadata": {},
     "output_type": "display_data"
    },
    {
     "data": {
      "application/vnd.jupyter.widget-view+json": {
       "model_id": "93c2bb5bf825473a9e4bc48549fda851",
       "version_major": 2,
       "version_minor": 0
      },
      "text/plain": [
       "Validation: 0it [00:00, ?it/s]"
      ]
     },
     "metadata": {},
     "output_type": "display_data"
    },
    {
     "data": {
      "application/vnd.jupyter.widget-view+json": {
       "model_id": "204b805629024489a7bbff5d8284a176",
       "version_major": 2,
       "version_minor": 0
      },
      "text/plain": [
       "Validation: 0it [00:00, ?it/s]"
      ]
     },
     "metadata": {},
     "output_type": "display_data"
    },
    {
     "data": {
      "application/vnd.jupyter.widget-view+json": {
       "model_id": "dd9eba1bfefa4b4bab5bdbe4dd8aab7e",
       "version_major": 2,
       "version_minor": 0
      },
      "text/plain": [
       "Validation: 0it [00:00, ?it/s]"
      ]
     },
     "metadata": {},
     "output_type": "display_data"
    },
    {
     "data": {
      "application/vnd.jupyter.widget-view+json": {
       "model_id": "90c63e51e02f446f82dffbce16a3e2a2",
       "version_major": 2,
       "version_minor": 0
      },
      "text/plain": [
       "Validation: 0it [00:00, ?it/s]"
      ]
     },
     "metadata": {},
     "output_type": "display_data"
    },
    {
     "data": {
      "application/vnd.jupyter.widget-view+json": {
       "model_id": "6c897a2b3ead4110bc95c8056cab4b47",
       "version_major": 2,
       "version_minor": 0
      },
      "text/plain": [
       "Validation: 0it [00:00, ?it/s]"
      ]
     },
     "metadata": {},
     "output_type": "display_data"
    },
    {
     "data": {
      "application/vnd.jupyter.widget-view+json": {
       "model_id": "3e6349f441d24fa4bbdb6ddc442fe143",
       "version_major": 2,
       "version_minor": 0
      },
      "text/plain": [
       "Validation: 0it [00:00, ?it/s]"
      ]
     },
     "metadata": {},
     "output_type": "display_data"
    },
    {
     "name": "stderr",
     "output_type": "stream",
     "text": [
      "/home/ubuntu/mambaforge/envs/dlk2/lib/python3.9/site-packages/lightning/pytorch/trainer/call.py:54: UserWarning: Detected KeyboardInterrupt, attempting graceful shutdown...\n",
      "  rank_zero_warn(\"Detected KeyboardInterrupt, attempting graceful shutdown...\")\n"
     ]
    }
   ],
   "source": [
    "trainer = pl.Trainer(precision=\"bf16-mixed\",\n",
    "                     \n",
    "                     gradient_clip_val=20,\n",
    "                     max_epochs=max_epochs, log_every_n_steps=5)\n",
    "trainer.fit(model=net, train_dataloaders=dl_train, val_dataloaders=dl_val)"
   ]
  },
  {
   "attachments": {},
   "cell_type": "markdown",
   "metadata": {},
   "source": [
    "# Read hist"
   ]
  },
  {
   "cell_type": "code",
   "execution_count": 24,
   "metadata": {},
   "outputs": [
    {
     "data": {
      "text/html": [
       "<div>\n",
       "<style scoped>\n",
       "    .dataframe tbody tr th:only-of-type {\n",
       "        vertical-align: middle;\n",
       "    }\n",
       "\n",
       "    .dataframe tbody tr th {\n",
       "        vertical-align: top;\n",
       "    }\n",
       "\n",
       "    .dataframe thead th {\n",
       "        text-align: right;\n",
       "    }\n",
       "</style>\n",
       "<table border=\"1\" class=\"dataframe\">\n",
       "  <thead>\n",
       "    <tr style=\"text-align: right;\">\n",
       "      <th></th>\n",
       "      <th>train/loss</th>\n",
       "      <th>step</th>\n",
       "      <th>val/loss</th>\n",
       "      <th>val/acc</th>\n",
       "      <th>val/auroc</th>\n",
       "      <th>train/acc</th>\n",
       "      <th>train/auroc</th>\n",
       "    </tr>\n",
       "    <tr>\n",
       "      <th>epoch</th>\n",
       "      <th></th>\n",
       "      <th></th>\n",
       "      <th></th>\n",
       "      <th></th>\n",
       "      <th></th>\n",
       "      <th></th>\n",
       "      <th></th>\n",
       "    </tr>\n",
       "  </thead>\n",
       "  <tbody>\n",
       "    <tr>\n",
       "      <th>0</th>\n",
       "      <td>0.087489</td>\n",
       "      <td>32.846154</td>\n",
       "      <td>0.031996</td>\n",
       "      <td>0.696759</td>\n",
       "      <td>0.770470</td>\n",
       "      <td>0.531818</td>\n",
       "      <td>0.581946</td>\n",
       "    </tr>\n",
       "    <tr>\n",
       "      <th>1</th>\n",
       "      <td>0.044257</td>\n",
       "      <td>87.846154</td>\n",
       "      <td>0.014417</td>\n",
       "      <td>0.844039</td>\n",
       "      <td>0.913614</td>\n",
       "      <td>0.584659</td>\n",
       "      <td>0.641774</td>\n",
       "    </tr>\n",
       "    <tr>\n",
       "      <th>2</th>\n",
       "      <td>0.040286</td>\n",
       "      <td>142.846154</td>\n",
       "      <td>0.020178</td>\n",
       "      <td>0.747975</td>\n",
       "      <td>0.834480</td>\n",
       "      <td>0.578977</td>\n",
       "      <td>0.638999</td>\n",
       "    </tr>\n",
       "    <tr>\n",
       "      <th>3</th>\n",
       "      <td>0.027678</td>\n",
       "      <td>197.846154</td>\n",
       "      <td>0.016051</td>\n",
       "      <td>0.847512</td>\n",
       "      <td>0.917293</td>\n",
       "      <td>0.656676</td>\n",
       "      <td>0.708349</td>\n",
       "    </tr>\n",
       "    <tr>\n",
       "      <th>4</th>\n",
       "      <td>0.026241</td>\n",
       "      <td>252.846154</td>\n",
       "      <td>0.014134</td>\n",
       "      <td>0.856481</td>\n",
       "      <td>0.926309</td>\n",
       "      <td>0.684943</td>\n",
       "      <td>0.727769</td>\n",
       "    </tr>\n",
       "    <tr>\n",
       "      <th>5</th>\n",
       "      <td>0.021302</td>\n",
       "      <td>307.846154</td>\n",
       "      <td>0.014174</td>\n",
       "      <td>0.862847</td>\n",
       "      <td>0.923343</td>\n",
       "      <td>0.738778</td>\n",
       "      <td>0.794336</td>\n",
       "    </tr>\n",
       "    <tr>\n",
       "      <th>6</th>\n",
       "      <td>0.016754</td>\n",
       "      <td>362.846154</td>\n",
       "      <td>0.013391</td>\n",
       "      <td>0.852431</td>\n",
       "      <td>0.920865</td>\n",
       "      <td>0.788068</td>\n",
       "      <td>0.850405</td>\n",
       "    </tr>\n",
       "    <tr>\n",
       "      <th>7</th>\n",
       "      <td>0.015236</td>\n",
       "      <td>417.846154</td>\n",
       "      <td>0.014078</td>\n",
       "      <td>0.870949</td>\n",
       "      <td>0.937296</td>\n",
       "      <td>0.829119</td>\n",
       "      <td>0.894771</td>\n",
       "    </tr>\n",
       "    <tr>\n",
       "      <th>8</th>\n",
       "      <td>0.012883</td>\n",
       "      <td>472.846154</td>\n",
       "      <td>0.011659</td>\n",
       "      <td>0.880787</td>\n",
       "      <td>0.942270</td>\n",
       "      <td>0.857386</td>\n",
       "      <td>0.921342</td>\n",
       "    </tr>\n",
       "    <tr>\n",
       "      <th>9</th>\n",
       "      <td>0.010328</td>\n",
       "      <td>527.846154</td>\n",
       "      <td>0.011753</td>\n",
       "      <td>0.875000</td>\n",
       "      <td>0.936714</td>\n",
       "      <td>0.864489</td>\n",
       "      <td>0.916246</td>\n",
       "    </tr>\n",
       "    <tr>\n",
       "      <th>10</th>\n",
       "      <td>0.010127</td>\n",
       "      <td>582.846154</td>\n",
       "      <td>0.011920</td>\n",
       "      <td>0.887442</td>\n",
       "      <td>0.943554</td>\n",
       "      <td>0.876705</td>\n",
       "      <td>0.937798</td>\n",
       "    </tr>\n",
       "    <tr>\n",
       "      <th>11</th>\n",
       "      <td>0.008329</td>\n",
       "      <td>637.846154</td>\n",
       "      <td>0.011683</td>\n",
       "      <td>0.881076</td>\n",
       "      <td>0.940601</td>\n",
       "      <td>0.897869</td>\n",
       "      <td>0.949052</td>\n",
       "    </tr>\n",
       "    <tr>\n",
       "      <th>12</th>\n",
       "      <td>0.007008</td>\n",
       "      <td>692.846154</td>\n",
       "      <td>0.010865</td>\n",
       "      <td>0.891204</td>\n",
       "      <td>0.940103</td>\n",
       "      <td>0.915199</td>\n",
       "      <td>0.961132</td>\n",
       "    </tr>\n",
       "    <tr>\n",
       "      <th>13</th>\n",
       "      <td>0.007216</td>\n",
       "      <td>747.846154</td>\n",
       "      <td>0.011363</td>\n",
       "      <td>0.889757</td>\n",
       "      <td>0.943774</td>\n",
       "      <td>0.932244</td>\n",
       "      <td>0.980906</td>\n",
       "    </tr>\n",
       "    <tr>\n",
       "      <th>14</th>\n",
       "      <td>0.006812</td>\n",
       "      <td>802.846154</td>\n",
       "      <td>0.011230</td>\n",
       "      <td>0.886863</td>\n",
       "      <td>0.943287</td>\n",
       "      <td>0.934943</td>\n",
       "      <td>0.982554</td>\n",
       "    </tr>\n",
       "    <tr>\n",
       "      <th>15</th>\n",
       "      <td>0.005236</td>\n",
       "      <td>857.846154</td>\n",
       "      <td>0.010803</td>\n",
       "      <td>0.888021</td>\n",
       "      <td>0.944516</td>\n",
       "      <td>0.946449</td>\n",
       "      <td>0.986720</td>\n",
       "    </tr>\n",
       "    <tr>\n",
       "      <th>16</th>\n",
       "      <td>0.005398</td>\n",
       "      <td>912.846154</td>\n",
       "      <td>0.011249</td>\n",
       "      <td>0.888889</td>\n",
       "      <td>0.942771</td>\n",
       "      <td>0.947585</td>\n",
       "      <td>0.982324</td>\n",
       "    </tr>\n",
       "    <tr>\n",
       "      <th>17</th>\n",
       "      <td>0.005604</td>\n",
       "      <td>967.846154</td>\n",
       "      <td>0.010750</td>\n",
       "      <td>0.889178</td>\n",
       "      <td>0.944260</td>\n",
       "      <td>0.957670</td>\n",
       "      <td>0.991335</td>\n",
       "    </tr>\n",
       "    <tr>\n",
       "      <th>18</th>\n",
       "      <td>0.005442</td>\n",
       "      <td>1022.846154</td>\n",
       "      <td>0.011088</td>\n",
       "      <td>0.887442</td>\n",
       "      <td>0.941889</td>\n",
       "      <td>0.956250</td>\n",
       "      <td>0.991617</td>\n",
       "    </tr>\n",
       "    <tr>\n",
       "      <th>19</th>\n",
       "      <td>0.004763</td>\n",
       "      <td>1077.846154</td>\n",
       "      <td>0.010975</td>\n",
       "      <td>0.887153</td>\n",
       "      <td>0.944735</td>\n",
       "      <td>0.951136</td>\n",
       "      <td>0.982179</td>\n",
       "    </tr>\n",
       "    <tr>\n",
       "      <th>20</th>\n",
       "      <td>0.004665</td>\n",
       "      <td>1132.846154</td>\n",
       "      <td>0.011314</td>\n",
       "      <td>0.882234</td>\n",
       "      <td>0.941690</td>\n",
       "      <td>0.956960</td>\n",
       "      <td>0.985053</td>\n",
       "    </tr>\n",
       "    <tr>\n",
       "      <th>21</th>\n",
       "      <td>0.004246</td>\n",
       "      <td>1187.846154</td>\n",
       "      <td>0.010550</td>\n",
       "      <td>0.891204</td>\n",
       "      <td>0.944670</td>\n",
       "      <td>0.962358</td>\n",
       "      <td>0.992428</td>\n",
       "    </tr>\n",
       "    <tr>\n",
       "      <th>22</th>\n",
       "      <td>0.004635</td>\n",
       "      <td>1242.846154</td>\n",
       "      <td>0.010425</td>\n",
       "      <td>0.896123</td>\n",
       "      <td>0.944064</td>\n",
       "      <td>0.968182</td>\n",
       "      <td>0.995131</td>\n",
       "    </tr>\n",
       "    <tr>\n",
       "      <th>23</th>\n",
       "      <td>0.004022</td>\n",
       "      <td>1297.846154</td>\n",
       "      <td>0.011599</td>\n",
       "      <td>0.889178</td>\n",
       "      <td>0.940985</td>\n",
       "      <td>0.955398</td>\n",
       "      <td>0.977092</td>\n",
       "    </tr>\n",
       "    <tr>\n",
       "      <th>24</th>\n",
       "      <td>0.004288</td>\n",
       "      <td>1352.846154</td>\n",
       "      <td>0.010465</td>\n",
       "      <td>0.895833</td>\n",
       "      <td>0.944634</td>\n",
       "      <td>0.970312</td>\n",
       "      <td>0.996097</td>\n",
       "    </tr>\n",
       "    <tr>\n",
       "      <th>25</th>\n",
       "      <td>0.003844</td>\n",
       "      <td>1407.846154</td>\n",
       "      <td>0.010359</td>\n",
       "      <td>0.894965</td>\n",
       "      <td>0.945445</td>\n",
       "      <td>0.975142</td>\n",
       "      <td>0.996074</td>\n",
       "    </tr>\n",
       "    <tr>\n",
       "      <th>26</th>\n",
       "      <td>0.003679</td>\n",
       "      <td>1462.846154</td>\n",
       "      <td>0.010651</td>\n",
       "      <td>0.892650</td>\n",
       "      <td>0.942625</td>\n",
       "      <td>0.978125</td>\n",
       "      <td>0.996974</td>\n",
       "    </tr>\n",
       "    <tr>\n",
       "      <th>27</th>\n",
       "      <td>0.003503</td>\n",
       "      <td>1517.846154</td>\n",
       "      <td>0.010389</td>\n",
       "      <td>0.894387</td>\n",
       "      <td>0.946240</td>\n",
       "      <td>0.976562</td>\n",
       "      <td>0.996982</td>\n",
       "    </tr>\n",
       "    <tr>\n",
       "      <th>28</th>\n",
       "      <td>0.003403</td>\n",
       "      <td>1572.846154</td>\n",
       "      <td>0.010622</td>\n",
       "      <td>0.891782</td>\n",
       "      <td>0.945588</td>\n",
       "      <td>0.961364</td>\n",
       "      <td>0.983516</td>\n",
       "    </tr>\n",
       "    <tr>\n",
       "      <th>29</th>\n",
       "      <td>0.003195</td>\n",
       "      <td>1627.846154</td>\n",
       "      <td>0.010086</td>\n",
       "      <td>0.897569</td>\n",
       "      <td>0.948574</td>\n",
       "      <td>0.980540</td>\n",
       "      <td>0.997971</td>\n",
       "    </tr>\n",
       "    <tr>\n",
       "      <th>30</th>\n",
       "      <td>0.003162</td>\n",
       "      <td>1682.846154</td>\n",
       "      <td>0.010273</td>\n",
       "      <td>0.896701</td>\n",
       "      <td>0.944355</td>\n",
       "      <td>0.964773</td>\n",
       "      <td>0.981572</td>\n",
       "    </tr>\n",
       "    <tr>\n",
       "      <th>31</th>\n",
       "      <td>0.003083</td>\n",
       "      <td>1737.846154</td>\n",
       "      <td>0.010804</td>\n",
       "      <td>0.893519</td>\n",
       "      <td>0.946319</td>\n",
       "      <td>0.978125</td>\n",
       "      <td>0.997922</td>\n",
       "    </tr>\n",
       "    <tr>\n",
       "      <th>32</th>\n",
       "      <td>0.003008</td>\n",
       "      <td>1792.846154</td>\n",
       "      <td>0.010248</td>\n",
       "      <td>0.898148</td>\n",
       "      <td>0.946917</td>\n",
       "      <td>0.983665</td>\n",
       "      <td>0.998632</td>\n",
       "    </tr>\n",
       "    <tr>\n",
       "      <th>33</th>\n",
       "      <td>0.002453</td>\n",
       "      <td>1847.846154</td>\n",
       "      <td>0.009961</td>\n",
       "      <td>0.903356</td>\n",
       "      <td>0.950375</td>\n",
       "      <td>0.986790</td>\n",
       "      <td>0.999170</td>\n",
       "    </tr>\n",
       "    <tr>\n",
       "      <th>34</th>\n",
       "      <td>0.002300</td>\n",
       "      <td>1902.846154</td>\n",
       "      <td>0.010116</td>\n",
       "      <td>0.898148</td>\n",
       "      <td>0.948544</td>\n",
       "      <td>0.987784</td>\n",
       "      <td>0.999263</td>\n",
       "    </tr>\n",
       "    <tr>\n",
       "      <th>35</th>\n",
       "      <td>0.002154</td>\n",
       "      <td>1957.846154</td>\n",
       "      <td>0.009967</td>\n",
       "      <td>0.897569</td>\n",
       "      <td>0.950916</td>\n",
       "      <td>0.991619</td>\n",
       "      <td>0.999714</td>\n",
       "    </tr>\n",
       "    <tr>\n",
       "      <th>36</th>\n",
       "      <td>0.002040</td>\n",
       "      <td>2012.846154</td>\n",
       "      <td>0.010163</td>\n",
       "      <td>0.899595</td>\n",
       "      <td>0.949883</td>\n",
       "      <td>0.990483</td>\n",
       "      <td>0.999486</td>\n",
       "    </tr>\n",
       "    <tr>\n",
       "      <th>37</th>\n",
       "      <td>0.002110</td>\n",
       "      <td>2067.846154</td>\n",
       "      <td>0.010097</td>\n",
       "      <td>0.899595</td>\n",
       "      <td>0.949397</td>\n",
       "      <td>0.992614</td>\n",
       "      <td>0.999693</td>\n",
       "    </tr>\n",
       "    <tr>\n",
       "      <th>38</th>\n",
       "      <td>0.001888</td>\n",
       "      <td>2101.500000</td>\n",
       "      <td>0.010097</td>\n",
       "      <td>0.899595</td>\n",
       "      <td>0.949397</td>\n",
       "      <td>0.992614</td>\n",
       "      <td>0.999693</td>\n",
       "    </tr>\n",
       "  </tbody>\n",
       "</table>\n",
       "</div>"
      ],
      "text/plain": [
       "       train/loss         step  val/loss   val/acc  val/auroc  train/acc   \n",
       "epoch                                                                      \n",
       "0        0.087489    32.846154  0.031996  0.696759   0.770470   0.531818  \\\n",
       "1        0.044257    87.846154  0.014417  0.844039   0.913614   0.584659   \n",
       "2        0.040286   142.846154  0.020178  0.747975   0.834480   0.578977   \n",
       "3        0.027678   197.846154  0.016051  0.847512   0.917293   0.656676   \n",
       "4        0.026241   252.846154  0.014134  0.856481   0.926309   0.684943   \n",
       "5        0.021302   307.846154  0.014174  0.862847   0.923343   0.738778   \n",
       "6        0.016754   362.846154  0.013391  0.852431   0.920865   0.788068   \n",
       "7        0.015236   417.846154  0.014078  0.870949   0.937296   0.829119   \n",
       "8        0.012883   472.846154  0.011659  0.880787   0.942270   0.857386   \n",
       "9        0.010328   527.846154  0.011753  0.875000   0.936714   0.864489   \n",
       "10       0.010127   582.846154  0.011920  0.887442   0.943554   0.876705   \n",
       "11       0.008329   637.846154  0.011683  0.881076   0.940601   0.897869   \n",
       "12       0.007008   692.846154  0.010865  0.891204   0.940103   0.915199   \n",
       "13       0.007216   747.846154  0.011363  0.889757   0.943774   0.932244   \n",
       "14       0.006812   802.846154  0.011230  0.886863   0.943287   0.934943   \n",
       "15       0.005236   857.846154  0.010803  0.888021   0.944516   0.946449   \n",
       "16       0.005398   912.846154  0.011249  0.888889   0.942771   0.947585   \n",
       "17       0.005604   967.846154  0.010750  0.889178   0.944260   0.957670   \n",
       "18       0.005442  1022.846154  0.011088  0.887442   0.941889   0.956250   \n",
       "19       0.004763  1077.846154  0.010975  0.887153   0.944735   0.951136   \n",
       "20       0.004665  1132.846154  0.011314  0.882234   0.941690   0.956960   \n",
       "21       0.004246  1187.846154  0.010550  0.891204   0.944670   0.962358   \n",
       "22       0.004635  1242.846154  0.010425  0.896123   0.944064   0.968182   \n",
       "23       0.004022  1297.846154  0.011599  0.889178   0.940985   0.955398   \n",
       "24       0.004288  1352.846154  0.010465  0.895833   0.944634   0.970312   \n",
       "25       0.003844  1407.846154  0.010359  0.894965   0.945445   0.975142   \n",
       "26       0.003679  1462.846154  0.010651  0.892650   0.942625   0.978125   \n",
       "27       0.003503  1517.846154  0.010389  0.894387   0.946240   0.976562   \n",
       "28       0.003403  1572.846154  0.010622  0.891782   0.945588   0.961364   \n",
       "29       0.003195  1627.846154  0.010086  0.897569   0.948574   0.980540   \n",
       "30       0.003162  1682.846154  0.010273  0.896701   0.944355   0.964773   \n",
       "31       0.003083  1737.846154  0.010804  0.893519   0.946319   0.978125   \n",
       "32       0.003008  1792.846154  0.010248  0.898148   0.946917   0.983665   \n",
       "33       0.002453  1847.846154  0.009961  0.903356   0.950375   0.986790   \n",
       "34       0.002300  1902.846154  0.010116  0.898148   0.948544   0.987784   \n",
       "35       0.002154  1957.846154  0.009967  0.897569   0.950916   0.991619   \n",
       "36       0.002040  2012.846154  0.010163  0.899595   0.949883   0.990483   \n",
       "37       0.002110  2067.846154  0.010097  0.899595   0.949397   0.992614   \n",
       "38       0.001888  2101.500000  0.010097  0.899595   0.949397   0.992614   \n",
       "\n",
       "       train/auroc  \n",
       "epoch               \n",
       "0         0.581946  \n",
       "1         0.641774  \n",
       "2         0.638999  \n",
       "3         0.708349  \n",
       "4         0.727769  \n",
       "5         0.794336  \n",
       "6         0.850405  \n",
       "7         0.894771  \n",
       "8         0.921342  \n",
       "9         0.916246  \n",
       "10        0.937798  \n",
       "11        0.949052  \n",
       "12        0.961132  \n",
       "13        0.980906  \n",
       "14        0.982554  \n",
       "15        0.986720  \n",
       "16        0.982324  \n",
       "17        0.991335  \n",
       "18        0.991617  \n",
       "19        0.982179  \n",
       "20        0.985053  \n",
       "21        0.992428  \n",
       "22        0.995131  \n",
       "23        0.977092  \n",
       "24        0.996097  \n",
       "25        0.996074  \n",
       "26        0.996974  \n",
       "27        0.996982  \n",
       "28        0.983516  \n",
       "29        0.997971  \n",
       "30        0.981572  \n",
       "31        0.997922  \n",
       "32        0.998632  \n",
       "33        0.999170  \n",
       "34        0.999263  \n",
       "35        0.999714  \n",
       "36        0.999486  \n",
       "37        0.999693  \n",
       "38        0.999693  "
      ]
     },
     "execution_count": 24,
     "metadata": {},
     "output_type": "execute_result"
    }
   ],
   "source": [
    "# import pytorch_lightning as pl\n",
    "from lightning.pytorch.loggers.csv_logs import CSVLogger\n",
    "from pathlib import Path\n",
    "import pandas as pd\n",
    "\n",
    "def read_metrics_csv(metrics_file_path):\n",
    "    df_hist = pd.read_csv(metrics_file_path)\n",
    "    df_hist[\"epoch\"] = df_hist[\"epoch\"].ffill()\n",
    "    df_histe = df_hist.set_index(\"epoch\").groupby(\"epoch\").mean()\n",
    "    return df_histe\n",
    "        \n",
    "df_hist = read_metrics_csv(trainer.logger.experiment.metrics_file_path).ffill().bfill()\n",
    "df_hist"
   ]
  },
  {
   "cell_type": "code",
   "execution_count": 25,
   "metadata": {},
   "outputs": [
    {
     "data": {
      "image/png": "[encoded data removed]",
      "text/plain": [
       "<Figure size 640x480 with 1 Axes>"
      ]
     },
     "metadata": {},
     "output_type": "display_data"
    }
   ],
   "source": [
    "for key in ['loss']:\n",
    "    df_hist[[c for c in df_hist.columns if key in c]].plot(logy=True)"
   ]
  },
  {
   "cell_type": "code",
   "execution_count": 26,
   "metadata": {},
   "outputs": [
    {
     "data": {
      "image/png": "[encoded data removed]",
      "text/plain": [
       "<Figure size 640x480 with 1 Axes>"
      ]
     },
     "metadata": {},
     "output_type": "display_data"
    },
    {
     "data": {
      "image/png": "[encoded data removed]",
      "text/plain": [
       "<Figure size 640x480 with 1 Axes>"
      ]
     },
     "metadata": {},
     "output_type": "display_data"
    }
   ],
   "source": [
    "for key in ['acc', 'auroc']:\n",
    "    df_hist[[c for c in df_hist.columns if key in c]].plot()"
   ]
  },
  {
   "attachments": {},
   "cell_type": "markdown",
   "metadata": {},
   "source": [
    "## Predict"
   ]
  },
  {
   "cell_type": "code",
   "execution_count": 27,
   "metadata": {},
   "outputs": [
    {
     "name": "stderr",
     "output_type": "stream",
     "text": [
      "LOCAL_RANK: 0 - CUDA_VISIBLE_DEVICES: [0]\n",
      "/home/ubuntu/mambaforge/envs/dlk2/lib/python3.9/site-packages/lightning/pytorch/trainer/connectors/data_connector.py:478: PossibleUserWarning: Your `test_dataloader`'s sampler has shuffling enabled, it is strongly recommended that you turn shuffling off for val/test dataloaders.\n",
      "  rank_zero_warn(\n"
     ]
    },
    {
     "data": {
      "application/vnd.jupyter.widget-view+json": {
       "model_id": "05f2a74d71bb495bbf2c9d5e3b59319d",
       "version_major": 2,
       "version_minor": 0
      },
      "text/plain": [
       "Testing: 0it [00:00, ?it/s]"
      ]
     },
     "metadata": {},
     "output_type": "display_data"
    },
    {
     "data": {
      "text/html": [
       "<pre style=\"white-space:pre;overflow-x:auto;line-height:normal;font-family:Menlo,'DejaVu Sans Mono',consolas,'Courier New',monospace\">┏━━━━━━━━━━━━━━━━━━━━━━━━━━━┳━━━━━━━━━━━━━━━━━━━━━━━━━━━┳━━━━━━━━━━━━━━━━━━━━━━━━━━━┳━━━━━━━━━━━━━━━━━━━━━━━━━━━┓\n",
       "┃<span style=\"font-weight: bold\">        Test metric        </span>┃<span style=\"font-weight: bold\">       DataLoader 0        </span>┃<span style=\"font-weight: bold\">       DataLoader 1        </span>┃<span style=\"font-weight: bold\">       DataLoader 2        </span>┃\n",
       "┡━━━━━━━━━━━━━━━━━━━━━━━━━━━╇━━━━━━━━━━━━━━━━━━━━━━━━━━━╇━━━━━━━━━━━━━━━━━━━━━━━━━━━╇━━━━━━━━━━━━━━━━━━━━━━━━━━━┩\n",
       "│<span style=\"color: #008080; text-decoration-color: #008080\">         test/acc          </span>│<span style=\"color: #800080; text-decoration-color: #800080\">            1.0            </span>│<span style=\"color: #800080; text-decoration-color: #800080\">    0.9657012224197388     </span>│<span style=\"color: #800080; text-decoration-color: #800080\">    0.9471760392189026     </span>│\n",
       "│<span style=\"color: #008080; text-decoration-color: #008080\">        test/auroc         </span>│<span style=\"color: #800080; text-decoration-color: #800080\">            1.0            </span>│<span style=\"color: #800080; text-decoration-color: #800080\">    0.9880527257919312     </span>│<span style=\"color: #800080; text-decoration-color: #800080\">    0.9805720448493958     </span>│\n",
       "│<span style=\"color: #008080; text-decoration-color: #008080\">         test/loss         </span>│<span style=\"color: #800080; text-decoration-color: #800080\">    0.00059254135703668    </span>│<span style=\"color: #800080; text-decoration-color: #800080\">   0.010538388974964619    </span>│<span style=\"color: #800080; text-decoration-color: #800080\">   0.009949357248842716    </span>│\n",
       "└───────────────────────────┴───────────────────────────┴───────────────────────────┴───────────────────────────┘\n",
       "</pre>\n"
      ],
      "text/plain": [
       "┏━━━━━━━━━━━━━━━━━━━━━━━━━━━┳━━━━━━━━━━━━━━━━━━━━━━━━━━━┳━━━━━━━━━━━━━━━━━━━━━━━━━━━┳━━━━━━━━━━━━━━━━━━━━━━━━━━━┓\n",
       "┃\u001b[1m \u001b[0m\u001b[1m       Test metric       \u001b[0m\u001b[1m \u001b[0m┃\u001b[1m \u001b[0m\u001b[1m      DataLoader 0       \u001b[0m\u001b[1m \u001b[0m┃\u001b[1m \u001b[0m\u001b[1m      DataLoader 1       \u001b[0m\u001b[1m \u001b[0m┃\u001b[1m \u001b[0m\u001b[1m      DataLoader 2       \u001b[0m\u001b[1m \u001b[0m┃\n",
       "┡━━━━━━━━━━━━━━━━━━━━━━━━━━━╇━━━━━━━━━━━━━━━━━━━━━━━━━━━╇━━━━━━━━━━━━━━━━━━━━━━━━━━━╇━━━━━━━━━━━━━━━━━━━━━━━━━━━┩\n",
       "│\u001b[36m \u001b[0m\u001b[36m        test/acc         \u001b[0m\u001b[36m \u001b[0m│\u001b[35m \u001b[0m\u001b[35m           1.0           \u001b[0m\u001b[35m \u001b[0m│\u001b[35m \u001b[0m\u001b[35m   0.9657012224197388    \u001b[0m\u001b[35m \u001b[0m│\u001b[35m \u001b[0m\u001b[35m   0.9471760392189026    \u001b[0m\u001b[35m \u001b[0m│\n",
       "│\u001b[36m \u001b[0m\u001b[36m       test/auroc        \u001b[0m\u001b[36m \u001b[0m│\u001b[35m \u001b[0m\u001b[35m           1.0           \u001b[0m\u001b[35m \u001b[0m│\u001b[35m \u001b[0m\u001b[35m   0.9880527257919312    \u001b[0m\u001b[35m \u001b[0m│\u001b[35m \u001b[0m\u001b[35m   0.9805720448493958    \u001b[0m\u001b[35m \u001b[0m│\n",
       "│\u001b[36m \u001b[0m\u001b[36m        test/loss        \u001b[0m\u001b[36m \u001b[0m│\u001b[35m \u001b[0m\u001b[35m   0.00059254135703668   \u001b[0m\u001b[35m \u001b[0m│\u001b[35m \u001b[0m\u001b[35m  0.010538388974964619   \u001b[0m\u001b[35m \u001b[0m│\u001b[35m \u001b[0m\u001b[35m  0.009949357248842716   \u001b[0m\u001b[35m \u001b[0m│\n",
       "└───────────────────────────┴───────────────────────────┴───────────────────────────┴───────────────────────────┘\n"
      ]
     },
     "metadata": {},
     "output_type": "display_data"
    },
    {
     "data": {
      "text/plain": [
       "[{'test/loss/dataloader_idx_0': 0.00059254135703668,\n",
       "  'test/acc/dataloader_idx_0': 1.0,\n",
       "  'test/auroc/dataloader_idx_0': 1.0},\n",
       " {'test/loss/dataloader_idx_1': 0.010538388974964619,\n",
       "  'test/acc/dataloader_idx_1': 0.9657012224197388,\n",
       "  'test/auroc/dataloader_idx_1': 0.9880527257919312},\n",
       " {'test/loss/dataloader_idx_2': 0.009949357248842716,\n",
       "  'test/acc/dataloader_idx_2': 0.9471760392189026,\n",
       "  'test/auroc/dataloader_idx_2': 0.9805720448493958}]"
      ]
     },
     "execution_count": 27,
     "metadata": {},
     "output_type": "execute_result"
    }
   ],
   "source": [
    "dl_test = dm.test_dataloader()\n",
    "rs = trainer.test(net, dataloaders=[dl_train, dl_val, dl_test])\n",
    "rs"
   ]
  },
  {
   "cell_type": "code",
   "execution_count": 28,
   "metadata": {},
   "outputs": [
    {
     "name": "stderr",
     "output_type": "stream",
     "text": [
      "LOCAL_RANK: 0 - CUDA_VISIBLE_DEVICES: [0]\n"
     ]
    },
    {
     "data": {
      "application/vnd.jupyter.widget-view+json": {
       "model_id": "20e69771d4e14267b30be7634df57915",
       "version_major": 2,
       "version_minor": 0
      },
      "text/plain": [
       "Predicting: 0it [00:00, ?it/s]"
      ]
     },
     "metadata": {},
     "output_type": "display_data"
    },
    {
     "data": {
      "text/plain": [
       "(3521,)"
      ]
     },
     "execution_count": 28,
     "metadata": {},
     "output_type": "execute_result"
    }
   ],
   "source": [
    "dl_test = dm.test_dataloader()\n",
    "r = trainer.predict(net, dataloaders=dl_test)\n",
    "y_test_pred = np.concatenate(r)\n",
    "y_test_pred.shape"
   ]
  },
  {
   "cell_type": "code",
   "execution_count": 29,
   "metadata": {},
   "outputs": [
    {
     "data": {
      "text/html": [
       "<div>\n",
       "<style scoped>\n",
       "    .dataframe tbody tr th:only-of-type {\n",
       "        vertical-align: middle;\n",
       "    }\n",
       "\n",
       "    .dataframe tbody tr th {\n",
       "        vertical-align: top;\n",
       "    }\n",
       "\n",
       "    .dataframe thead th {\n",
       "        text-align: right;\n",
       "    }\n",
       "</style>\n",
       "<table border=\"1\" class=\"dataframe\">\n",
       "  <thead>\n",
       "    <tr style=\"text-align: right;\">\n",
       "      <th></th>\n",
       "      <th>desired_answer</th>\n",
       "      <th>input</th>\n",
       "      <th>lie</th>\n",
       "      <th>true_answer</th>\n",
       "      <th>version</th>\n",
       "      <th>ans1</th>\n",
       "      <th>ans2</th>\n",
       "      <th>true</th>\n",
       "      <th>index</th>\n",
       "      <th>prob_y</th>\n",
       "      <th>prob_n</th>\n",
       "      <th>version</th>\n",
       "      <th>dir_true</th>\n",
       "      <th>conf</th>\n",
       "      <th>llm_prob</th>\n",
       "      <th>llm_ans</th>\n",
       "      <th>y</th>\n",
       "      <th>probe_pred</th>\n",
       "      <th>probe_prob</th>\n",
       "    </tr>\n",
       "  </thead>\n",
       "  <tbody>\n",
       "    <tr>\n",
       "      <th>10561</th>\n",
       "      <td>False</td>\n",
       "      <td>Review Title: I really like the system.\\n\\nRev...</td>\n",
       "      <td>True</td>\n",
       "      <td>1</td>\n",
       "      <td>lie</td>\n",
       "      <td>0.812012</td>\n",
       "      <td>0.665039</td>\n",
       "      <td>1</td>\n",
       "      <td>2990</td>\n",
       "      <td>0.798340</td>\n",
       "      <td>0.183838</td>\n",
       "      <td>lie</td>\n",
       "      <td>-0.146973</td>\n",
       "      <td>0.146973</td>\n",
       "      <td>0.738525</td>\n",
       "      <td>True</td>\n",
       "      <td>False</td>\n",
       "      <td>False</td>\n",
       "      <td>0.375977</td>\n",
       "    </tr>\n",
       "    <tr>\n",
       "      <th>10562</th>\n",
       "      <td>True</td>\n",
       "      <td>Title: Unwatchable\\n\\nContent: Bad, and not ev...</td>\n",
       "      <td>True</td>\n",
       "      <td>0</td>\n",
       "      <td>lie</td>\n",
       "      <td>0.219727</td>\n",
       "      <td>0.043640</td>\n",
       "      <td>0</td>\n",
       "      <td>5346</td>\n",
       "      <td>0.218140</td>\n",
       "      <td>0.773438</td>\n",
       "      <td>lie</td>\n",
       "      <td>-0.176086</td>\n",
       "      <td>0.176086</td>\n",
       "      <td>0.131683</td>\n",
       "      <td>False</td>\n",
       "      <td>True</td>\n",
       "      <td>True</td>\n",
       "      <td>0.641602</td>\n",
       "    </tr>\n",
       "    <tr>\n",
       "      <th>10563</th>\n",
       "      <td>False</td>\n",
       "      <td>Title: This tire is more than I expected.\\n\\nC...</td>\n",
       "      <td>True</td>\n",
       "      <td>1</td>\n",
       "      <td>lie</td>\n",
       "      <td>0.910156</td>\n",
       "      <td>0.754395</td>\n",
       "      <td>1</td>\n",
       "      <td>1967</td>\n",
       "      <td>0.906738</td>\n",
       "      <td>0.088379</td>\n",
       "      <td>lie</td>\n",
       "      <td>-0.155762</td>\n",
       "      <td>0.155762</td>\n",
       "      <td>0.832275</td>\n",
       "      <td>True</td>\n",
       "      <td>False</td>\n",
       "      <td>False</td>\n",
       "      <td>0.438965</td>\n",
       "    </tr>\n",
       "    <tr>\n",
       "      <th>10564</th>\n",
       "      <td>False</td>\n",
       "      <td>Title: Three in a row\\n\\nContent: Congratulati...</td>\n",
       "      <td>True</td>\n",
       "      <td>1</td>\n",
       "      <td>lie</td>\n",
       "      <td>0.588379</td>\n",
       "      <td>0.787109</td>\n",
       "      <td>1</td>\n",
       "      <td>2345</td>\n",
       "      <td>0.582031</td>\n",
       "      <td>0.406250</td>\n",
       "      <td>lie</td>\n",
       "      <td>0.198730</td>\n",
       "      <td>0.198730</td>\n",
       "      <td>0.687744</td>\n",
       "      <td>True</td>\n",
       "      <td>True</td>\n",
       "      <td>True</td>\n",
       "      <td>0.617188</td>\n",
       "    </tr>\n",
       "    <tr>\n",
       "      <th>10565</th>\n",
       "      <td>True</td>\n",
       "      <td>Review Title: Hardcore Christian Metal\\n\\nRevi...</td>\n",
       "      <td>False</td>\n",
       "      <td>1</td>\n",
       "      <td>truth</td>\n",
       "      <td>0.877441</td>\n",
       "      <td>0.765137</td>\n",
       "      <td>1</td>\n",
       "      <td>164</td>\n",
       "      <td>0.872070</td>\n",
       "      <td>0.120850</td>\n",
       "      <td>truth</td>\n",
       "      <td>-0.112305</td>\n",
       "      <td>0.112305</td>\n",
       "      <td>0.821289</td>\n",
       "      <td>True</td>\n",
       "      <td>False</td>\n",
       "      <td>False</td>\n",
       "      <td>0.469238</td>\n",
       "    </tr>\n",
       "    <tr>\n",
       "      <th>...</th>\n",
       "      <td>...</td>\n",
       "      <td>...</td>\n",
       "      <td>...</td>\n",
       "      <td>...</td>\n",
       "      <td>...</td>\n",
       "      <td>...</td>\n",
       "      <td>...</td>\n",
       "      <td>...</td>\n",
       "      <td>...</td>\n",
       "      <td>...</td>\n",
       "      <td>...</td>\n",
       "      <td>...</td>\n",
       "      <td>...</td>\n",
       "      <td>...</td>\n",
       "      <td>...</td>\n",
       "      <td>...</td>\n",
       "      <td>...</td>\n",
       "      <td>...</td>\n",
       "      <td>...</td>\n",
       "    </tr>\n",
       "    <tr>\n",
       "      <th>14077</th>\n",
       "      <td>False</td>\n",
       "      <td>Title: Halliwell shares an insightful perspect...</td>\n",
       "      <td>True</td>\n",
       "      <td>1</td>\n",
       "      <td>lie</td>\n",
       "      <td>0.584473</td>\n",
       "      <td>0.366211</td>\n",
       "      <td>1</td>\n",
       "      <td>1445</td>\n",
       "      <td>0.581543</td>\n",
       "      <td>0.412354</td>\n",
       "      <td>lie</td>\n",
       "      <td>-0.218262</td>\n",
       "      <td>0.218262</td>\n",
       "      <td>0.475342</td>\n",
       "      <td>False</td>\n",
       "      <td>False</td>\n",
       "      <td>False</td>\n",
       "      <td>0.390625</td>\n",
       "    </tr>\n",
       "    <tr>\n",
       "      <th>14078</th>\n",
       "      <td>True</td>\n",
       "      <td>Title: Riveting\\n\\nContent: The action in this...</td>\n",
       "      <td>False</td>\n",
       "      <td>1</td>\n",
       "      <td>truth</td>\n",
       "      <td>0.688477</td>\n",
       "      <td>0.577148</td>\n",
       "      <td>1</td>\n",
       "      <td>589</td>\n",
       "      <td>0.685547</td>\n",
       "      <td>0.309082</td>\n",
       "      <td>truth</td>\n",
       "      <td>-0.111328</td>\n",
       "      <td>0.111328</td>\n",
       "      <td>0.632812</td>\n",
       "      <td>True</td>\n",
       "      <td>False</td>\n",
       "      <td>True</td>\n",
       "      <td>0.506561</td>\n",
       "    </tr>\n",
       "    <tr>\n",
       "      <th>14079</th>\n",
       "      <td>True</td>\n",
       "      <td>Title: Great ball\\n\\nContent: Great run-around...</td>\n",
       "      <td>False</td>\n",
       "      <td>1</td>\n",
       "      <td>truth</td>\n",
       "      <td>0.322021</td>\n",
       "      <td>0.817871</td>\n",
       "      <td>1</td>\n",
       "      <td>1681</td>\n",
       "      <td>0.315186</td>\n",
       "      <td>0.662109</td>\n",
       "      <td>truth</td>\n",
       "      <td>0.495850</td>\n",
       "      <td>0.495850</td>\n",
       "      <td>0.569946</td>\n",
       "      <td>True</td>\n",
       "      <td>True</td>\n",
       "      <td>True</td>\n",
       "      <td>0.698242</td>\n",
       "    </tr>\n",
       "    <tr>\n",
       "      <th>14080</th>\n",
       "      <td>False</td>\n",
       "      <td>Title: A triumph for music\\n\\nContent: Barry M...</td>\n",
       "      <td>True</td>\n",
       "      <td>1</td>\n",
       "      <td>lie</td>\n",
       "      <td>0.491699</td>\n",
       "      <td>0.779297</td>\n",
       "      <td>1</td>\n",
       "      <td>1757</td>\n",
       "      <td>0.482178</td>\n",
       "      <td>0.497314</td>\n",
       "      <td>lie</td>\n",
       "      <td>0.287598</td>\n",
       "      <td>0.287598</td>\n",
       "      <td>0.635498</td>\n",
       "      <td>True</td>\n",
       "      <td>True</td>\n",
       "      <td>True</td>\n",
       "      <td>0.667969</td>\n",
       "    </tr>\n",
       "    <tr>\n",
       "      <th>14081</th>\n",
       "      <td>False</td>\n",
       "      <td>Review Title: Monotonous, Implausible, Convolu...</td>\n",
       "      <td>False</td>\n",
       "      <td>0</td>\n",
       "      <td>truth</td>\n",
       "      <td>0.035126</td>\n",
       "      <td>0.265625</td>\n",
       "      <td>0</td>\n",
       "      <td>1038</td>\n",
       "      <td>0.034821</td>\n",
       "      <td>0.956055</td>\n",
       "      <td>truth</td>\n",
       "      <td>0.230499</td>\n",
       "      <td>0.230499</td>\n",
       "      <td>0.150375</td>\n",
       "      <td>False</td>\n",
       "      <td>False</td>\n",
       "      <td>False</td>\n",
       "      <td>0.400391</td>\n",
       "    </tr>\n",
       "  </tbody>\n",
       "</table>\n",
       "<p>3521 rows × 19 columns</p>\n",
       "</div>"
      ],
      "text/plain": [
       "       desired_answer                                              input   \n",
       "10561           False  Review Title: I really like the system.\\n\\nRev...  \\\n",
       "10562            True  Title: Unwatchable\\n\\nContent: Bad, and not ev...   \n",
       "10563           False  Title: This tire is more than I expected.\\n\\nC...   \n",
       "10564           False  Title: Three in a row\\n\\nContent: Congratulati...   \n",
       "10565            True  Review Title: Hardcore Christian Metal\\n\\nRevi...   \n",
       "...               ...                                                ...   \n",
       "14077           False  Title: Halliwell shares an insightful perspect...   \n",
       "14078            True  Title: Riveting\\n\\nContent: The action in this...   \n",
       "14079            True  Title: Great ball\\n\\nContent: Great run-around...   \n",
       "14080           False  Title: A triumph for music\\n\\nContent: Barry M...   \n",
       "14081           False  Review Title: Monotonous, Implausible, Convolu...   \n",
       "\n",
       "         lie  true_answer version      ans1      ans2  true  index    prob_y   \n",
       "10561   True            1     lie  0.812012  0.665039     1   2990  0.798340  \\\n",
       "10562   True            0     lie  0.219727  0.043640     0   5346  0.218140   \n",
       "10563   True            1     lie  0.910156  0.754395     1   1967  0.906738   \n",
       "10564   True            1     lie  0.588379  0.787109     1   2345  0.582031   \n",
       "10565  False            1   truth  0.877441  0.765137     1    164  0.872070   \n",
       "...      ...          ...     ...       ...       ...   ...    ...       ...   \n",
       "14077   True            1     lie  0.584473  0.366211     1   1445  0.581543   \n",
       "14078  False            1   truth  0.688477  0.577148     1    589  0.685547   \n",
       "14079  False            1   truth  0.322021  0.817871     1   1681  0.315186   \n",
       "14080   True            1     lie  0.491699  0.779297     1   1757  0.482178   \n",
       "14081  False            0   truth  0.035126  0.265625     0   1038  0.034821   \n",
       "\n",
       "         prob_n version  dir_true      conf  llm_prob  llm_ans      y   \n",
       "10561  0.183838     lie -0.146973  0.146973  0.738525     True  False  \\\n",
       "10562  0.773438     lie -0.176086  0.176086  0.131683    False   True   \n",
       "10563  0.088379     lie -0.155762  0.155762  0.832275     True  False   \n",
       "10564  0.406250     lie  0.198730  0.198730  0.687744     True   True   \n",
       "10565  0.120850   truth -0.112305  0.112305  0.821289     True  False   \n",
       "...         ...     ...       ...       ...       ...      ...    ...   \n",
       "14077  0.412354     lie -0.218262  0.218262  0.475342    False  False   \n",
       "14078  0.309082   truth -0.111328  0.111328  0.632812     True  False   \n",
       "14079  0.662109   truth  0.495850  0.495850  0.569946     True   True   \n",
       "14080  0.497314     lie  0.287598  0.287598  0.635498     True   True   \n",
       "14081  0.956055   truth  0.230499  0.230499  0.150375    False  False   \n",
       "\n",
       "       probe_pred  probe_prob  \n",
       "10561       False    0.375977  \n",
       "10562        True    0.641602  \n",
       "10563       False    0.438965  \n",
       "10564        True    0.617188  \n",
       "10565       False    0.469238  \n",
       "...           ...         ...  \n",
       "14077       False    0.390625  \n",
       "14078        True    0.506561  \n",
       "14079        True    0.698242  \n",
       "14080        True    0.667969  \n",
       "14081       False    0.400391  \n",
       "\n",
       "[3521 rows x 19 columns]"
      ]
     },
     "execution_count": 29,
     "metadata": {},
     "output_type": "execute_result"
    }
   ],
   "source": [
    "# Make a prediction dataframe with everything in it\n",
    "df_test = dm.df.iloc[dm.test_split:].copy()\n",
    "df_test['probe_pred'] = y_test_pred>0\n",
    "y_test_pred_bool = np.clip(switch2bool(y_test_pred), 0 ,1)\n",
    "df_test['probe_prob'] = y_test_pred_bool\n",
    "df_test['llm_prob'] = (df_test['ans1']+df_test['ans2'])/2\n",
    "df_test['llm_ans'] = df_test['llm_prob']>0.5\n",
    "df_test['conf'] = (df_test['ans1']-df_test['ans2']).abs()\n",
    "df_test['y'] = df_test['y']>0\n",
    "\n",
    "y_true = dl_test.dataset.tensors[2].numpy()\n",
    "assert ((df_test['y'].values>0.5)==(y_true>0)).all(), 'check it all lines up'\n",
    "\n",
    "df_test"
   ]
  },
  {
   "cell_type": "code",
   "execution_count": 30,
   "metadata": {},
   "outputs": [
    {
     "name": "stdout",
     "output_type": "stream",
     "text": [
      "probe results on subsets of the data\n",
      "acc=88.70% [lie==True]\n",
      "acc=90.01% [lie==False]\n",
      "acc=92.77% [llm_ans==true_answer]\n",
      "acc=88.72% [llm_ans==desired_answer]\n",
      "acc=70.00% [lie==True & llm_ans==desired_answer]\n",
      "acc=92.07% [lie==True & llm_ans!=desired_answer]\n",
      "acc=89.21% [lie!=\"-1\"]\n"
     ]
    },
    {
     "data": {
      "text/plain": [
       "0.8920761147401306"
      ]
     },
     "execution_count": 30,
     "metadata": {},
     "output_type": "execute_result"
    }
   ],
   "source": [
    "def get_acc_subset(df, query):\n",
    "    df_s = df.query(query)\n",
    "    acc = (df_s['probe_pred']==df_s['y']).mean()\n",
    "    print(f\"acc={acc:2.2%} [{query}]\")\n",
    "    return acc\n",
    "    \n",
    "print('probe results on subsets of the data')\n",
    "get_acc_subset(df_test, 'lie==True') # it was ph told to lie\n",
    "get_acc_subset(df_test, 'lie==False') # it was told not to lie\n",
    "get_acc_subset(df_test, 'llm_ans==true_answer') # the llm gave the true ans\n",
    "get_acc_subset(df_test, 'llm_ans==desired_answer') # the llm gave the desired ans\n",
    "get_acc_subset(df_test, 'lie==True & llm_ans==desired_answer') # it was told to lie, and it did lie\n",
    "get_acc_subset(df_test, 'lie==True & llm_ans!=desired_answer')\n",
    "get_acc_subset(df_test, 'lie!=\"-1\"') # null query"
   ]
  },
  {
   "cell_type": "markdown",
   "metadata": {},
   "source": [
    "# RESULTS"
   ]
  },
  {
   "cell_type": "code",
   "execution_count": 31,
   "metadata": {},
   "outputs": [
    {
     "name": "stdout",
     "output_type": "stream",
     "text": [
      "  PRIMARY BASELINE roc_auc=71.16% from linear classifier\n",
      "⭐PRIMARY METRIC⭐ roc_auc=94.96% from probe\n"
     ]
    }
   ],
   "source": [
    "roc_auc = roc_auc_score(df_test['y'], y_test_pred_bool)\n",
    "\n",
    "print(f\"  PRIMARY BASELINE roc_auc={primary_baseline:2.2%} from linear classifier\")\n",
    "print(f\"⭐PRIMARY METRIC⭐ roc_auc={roc_auc:2.2%} from probe\")"
   ]
  },
  {
   "cell_type": "code",
   "execution_count": 45,
   "metadata": {},
   "outputs": [
    {
     "data": {
      "text/plain": [
       "'/home/ubuntu/Documents/mjc/elk/discovering_latent_knowledge/notebooks/lightning_logs/version_338/checkpoints/epoch=37-step=2090.ckpt'"
      ]
     },
     "execution_count": 45,
     "metadata": {},
     "output_type": "execute_result"
    }
   ],
   "source": [
    "trainer.checkpoint_callback.best_model_path"
   ]
  },
  {
   "cell_type": "code",
   "execution_count": null,
   "metadata": {},
   "outputs": [],
   "source": []
  },
  {
   "cell_type": "code",
   "execution_count": null,
   "metadata": {},
   "outputs": [],
   "source": []
  }
 ],
 "metadata": {
  "kernelspec": {
   "display_name": "dlk2",
   "language": "python",
   "name": "python3"
  },
  "language_info": {
   "codemirror_mode": {
    "name": "ipython",
    "version": 3
   },
   "file_extension": ".py",
   "mimetype": "text/x-python",
   "name": "python",
   "nbconvert_exporter": "python",
   "pygments_lexer": "ipython3",
   "version": "3.9.16"
  },
  "orig_nbformat": 4
 },
 "nbformat": 4,
 "nbformat_minor": 2
}
