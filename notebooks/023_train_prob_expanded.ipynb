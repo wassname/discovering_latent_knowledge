{
 "cells": [
  {
   "attachments": {},
   "cell_type": "markdown",
   "metadata": {},
   "source": [
    "# distance and direciton\n",
    "\n",
    "Let try to opt for distance and direction with\n",
    "\n",
    "$L1loss(y_1-y_0, y_{true})$\n",
    "\n",
    "where $y_1=model(x_1)$\n",
    "\n",
    "So I'm optimising for the hidden states to be the correct distance and direcioton away. It's like the margin raning loss."
   ]
  },
  {
   "attachments": {},
   "cell_type": "markdown",
   "metadata": {},
   "source": [
    "\n",
    "links:\n",
    "- [loading](https://github.com/deep-diver/LLM-As-Chatbot/blob/main/models/alpaca.py)\n",
    "- [dict](https://github.com/deep-diver/LLM-As-Chatbot/blob/c79e855a492a968b54bac223e66dc9db448d6eba/model_cards.json#L143)\n",
    "- [prompt_format](https://github.com/deep-diver/PingPong/blob/main/src/pingpong/alpaca.py)"
   ]
  },
  {
   "cell_type": "code",
   "execution_count": 1,
   "metadata": {},
   "outputs": [],
   "source": [
    "# import your package\n",
    "%load_ext autoreload\n",
    "%autoreload 2"
   ]
  },
  {
   "cell_type": "code",
   "execution_count": 2,
   "metadata": {},
   "outputs": [
    {
     "name": "stdout",
     "output_type": "stream",
     "text": [
      "\n",
      "===================================BUG REPORT===================================\n",
      "Welcome to bitsandbytes. For bug reports, please run\n",
      "\n",
      "python -m bitsandbytes\n",
      "\n",
      " and submit this information together with your error trace to: https://github.com/TimDettmers/bitsandbytes/issues\n",
      "================================================================================\n",
      "bin /home/ubuntu/mambaforge/envs/dlk3/lib/python3.11/site-packages/bitsandbytes/libbitsandbytes_cuda117.so\n",
      "CUDA SETUP: CUDA runtime path found: /home/ubuntu/mambaforge/envs/dlk3/lib/libcudart.so.11.0\n",
      "CUDA SETUP: Highest compute capability among GPUs detected: 8.6\n",
      "CUDA SETUP: Detected CUDA version 117\n",
      "CUDA SETUP: Loading binary /home/ubuntu/mambaforge/envs/dlk3/lib/python3.11/site-packages/bitsandbytes/libbitsandbytes_cuda117.so...\n"
     ]
    },
    {
     "name": "stderr",
     "output_type": "stream",
     "text": [
      "/home/ubuntu/mambaforge/envs/dlk3/lib/python3.11/site-packages/bitsandbytes/cuda_setup/main.py:149: UserWarning: Found duplicate ['libcudart.so', 'libcudart.so.11.0', 'libcudart.so.12.0'] files: {PosixPath('/home/ubuntu/mambaforge/envs/dlk3/lib/libcudart.so.11.0'), PosixPath('/home/ubuntu/mambaforge/envs/dlk3/lib/libcudart.so')}.. We'll flip a coin and try one of these, in order to fail forward.\n",
      "Either way, this might cause trouble in the future:\n",
      "If you get `CUDA error: invalid device function` errors, the above might be the cause and the solution is to make sure only one ['libcudart.so', 'libcudart.so.11.0', 'libcudart.so.12.0'] in the paths that we search based on your env.\n",
      "  warn(msg)\n"
     ]
    },
    {
     "data": {
      "text/plain": [
       "'4.31.0'"
      ]
     },
     "execution_count": 2,
     "metadata": {},
     "output_type": "execute_result"
    }
   ],
   "source": [
    "\n",
    "import numpy as np\n",
    "import pandas as pd\n",
    "from matplotlib import pyplot as plt\n",
    "plt.style.use('ggplot')\n",
    "\n",
    "from typing import Optional, List, Dict, Union\n",
    "\n",
    "import torch\n",
    "import torch.nn as nn\n",
    "import torch.nn.functional as F\n",
    "from torch import Tensor\n",
    "from torch import optim\n",
    "from torch.utils.data import random_split, DataLoader, TensorDataset\n",
    "\n",
    "from pathlib import Path\n",
    "\n",
    "import transformers\n",
    "\n",
    "import lightning.pytorch as pl\n",
    "# from dataclasses import dataclass\n",
    "\n",
    "from sklearn.linear_model import LogisticRegression\n",
    "from sklearn.metrics import f1_score, roc_auc_score, accuracy_score\n",
    "from sklearn.preprocessing import RobustScaler\n",
    "\n",
    "from tqdm.auto import tqdm\n",
    "import os\n",
    "\n",
    "from loguru import logger\n",
    "logger.add(os.sys.stderr, format=\"{time} {level} {message}\", level=\"INFO\")\n",
    "\n",
    "\n",
    "\n",
    "transformers.__version__"
   ]
  },
  {
   "cell_type": "code",
   "execution_count": 3,
   "metadata": {},
   "outputs": [],
   "source": [
    "from src.helpers.lightning import read_metrics_csv"
   ]
  },
  {
   "cell_type": "markdown",
   "metadata": {},
   "source": [
    "# Dataset"
   ]
  },
  {
   "cell_type": "code",
   "execution_count": 4,
   "metadata": {},
   "outputs": [
    {
     "data": {
      "text/plain": [
       "Dataset({\n",
       "    features: ['hs0', 'scores0', 'hs1', 'scores1', 'ds_index', 'answer', 'question', 'answer_choices', 'template_name', 'label_true', 'label_instructed', 'instructed_to_lie', 'sys_instr_name', 'prompt_truncated', 'choice_probs0', 'ans0', 'choice_probs1', 'ans1', 'expanded_choice_probs0', 'expanded_ans0', 'expanded_choice_probs1', 'expanded_ans1', 'txt_ans0', 'txt_ans1'],\n",
       "    num_rows: 9002\n",
       "})"
      ]
     },
     "execution_count": 4,
     "metadata": {},
     "output_type": "execute_result"
    }
   ],
   "source": [
    "from datasets import load_from_disk, concatenate_datasets\n",
    "fs = [\n",
    "    '../.ds/HuggingFaceH4starchat_beta_imdb_train_9002',\n",
    "]\n",
    "\n",
    "# './.ds/HuggingFaceH4starchat_beta-None-N_8000-ns_3-mc_0.2-2ffc1e'\n",
    "ds1 = concatenate_datasets([load_from_disk(f) for f in fs])\n",
    "ds1"
   ]
  },
  {
   "cell_type": "code",
   "execution_count": 5,
   "metadata": {},
   "outputs": [],
   "source": [
    "from src.datasets.load import ds2df"
   ]
  },
  {
   "cell_type": "markdown",
   "metadata": {},
   "source": [
    "## Filter"
   ]
  },
  {
   "cell_type": "code",
   "execution_count": 6,
   "metadata": {},
   "outputs": [],
   "source": [
    "# lets select only the ones where\n",
    "df = ds2df(ds1)\n",
    "df"
   ]
  },
  {
   "cell_type": "code",
   "execution_count": null,
   "metadata": {},
   "outputs": [],
   "source": [
    "# # just select the question where the model knows the answer. \n",
    "# d = df.query('version==\"truth\"').set_index(\"index\")\n",
    "# # these are the ones where it got it right when asked to tell the truth\n",
    "# known_indices = d[d.llm_ans==d.true_answer].index\n",
    "\n",
    "# # convert to row numbers, and use datasets to select\n",
    "# known_rows = df['index'].isin(known_indices)\n",
    "# known_rows_i = df[known_rows].index\n",
    "\n",
    "# also restrict it to significant permutations. That is monte carlo dropout pairs, where the answer changes by more than X%\n",
    "m = np.abs(df.ans0-df.ans1)>0.1\n",
    "significant_rows = m[m].index\n",
    "\n",
    "# allowed_rows_i = set(known_rows_i).intersection(significant_rows)\n",
    "allowed_rows_i = significant_rows\n",
    "ds = ds1.select(allowed_rows_i)\n",
    "print(f\"selected rows are {len(ds)/len(ds1):2.2%}\")\n",
    "ds"
   ]
  },
  {
   "cell_type": "markdown",
   "metadata": {},
   "source": [
    "## Transform: Normalize by activation"
   ]
  },
  {
   "cell_type": "code",
   "execution_count": null,
   "metadata": {},
   "outputs": [],
   "source": [
    "# N = 1000\n",
    "# small_ds = ds.select(range(N))\n",
    "# b = N\n",
    "# hs0 = small_ds['hs0'].reshape((b, -1))\n",
    "\n",
    "# scaler = RobustScaler()\n",
    "# hs1 = scaler.fit_transform(hs0)\n",
    "\n",
    "# def normalize_hs(hs0, hs1):\n",
    "#     shape=hs0.shape\n",
    "#     b = len(hs0)\n",
    "#     hs0 = scaler.transform(hs0.reshape((b, -1))).reshape(shape)\n",
    "#     hs1 = scaler.transform(hs1.reshape((b, -1))).reshape(shape)\n",
    "#     return {'hs0':hs0, 'hs1': hs1}\n",
    "\n",
    "# # Plot\n",
    "# plt.hist(hs0.flatten(), bins=155, range=[-5, 5], label='before', histtype='step')\n",
    "# plt.hist(hs1.flatten(), bins=155, range=[-5, 5], label='after', histtype='step')\n",
    "# plt.legend()\n",
    "# plt.show()\n",
    "\n",
    "# # # Test\n",
    "# # small_dataset = ds.select(range(4))\n",
    "# # small_dataset.map(normalize_hs, batched=True, batch_size=2, input_columns=['hs0', 'hs1'])\n",
    "\n",
    "# # run\n",
    "# ds = ds.map(normalize_hs, batched=True, input_columns=['hs0', 'hs1'])\n",
    "# ds"
   ]
  },
  {
   "attachments": {},
   "cell_type": "markdown",
   "metadata": {},
   "source": [
    "## Lightning DataModule"
   ]
  },
  {
   "cell_type": "code",
   "execution_count": null,
   "metadata": {},
   "outputs": [],
   "source": [
    "df = ds2df(ds)\n",
    "df.head(4)"
   ]
  },
  {
   "cell_type": "code",
   "execution_count": null,
   "metadata": {},
   "outputs": [],
   "source": [
    "# ds?"
   ]
  },
  {
   "attachments": {},
   "cell_type": "markdown",
   "metadata": {},
   "source": [
    "What are we detecting? If the right example of the pair is more deceptive.\n",
    "\n",
    "Now it's only deceptive if\n",
    "- it was asked to lie\n",
    "- it knows the truth\n",
    "- it gave the wrong answer (around 10% of the time)( it's hard to get these models to lie by encouragement rather than instruction)\n"
   ]
  },
  {
   "cell_type": "code",
   "execution_count": null,
   "metadata": {},
   "outputs": [],
   "source": [
    "from src.helpers import switch2bool, bool2switch\n",
    "from src.datasets.dm import imdbHSDataModule\n",
    "\n",
    "def compute_distance2(df):\n",
    "    \"\"\"distance between ans1 and ans2.\"\"\"\n",
    "    true_switch_sign = df.label_true*2-1 # switch sign to desired answer. with this we ask which is more true\n",
    "    # otherwise we ask which is more positive\n",
    "    distance = (df.expanded_ans1-df.expanded_ans0) * true_switch_sign\n",
    "    return distance\n",
    "\n",
    "class imdbHSDataModule2(imdbHSDataModule):\n",
    "    def setup(self, stage: str):\n",
    "        super().setup(stage)\n",
    "        self.ans0 = self.df['expanded_ans0'].values\n",
    "        self.ans1 = self.df['expanded_ans1'].values\n",
    "        \n",
    "        y_cls = compute_distance2(self.df)\n",
    "        self.y = y_cls.values\n",
    "        self.df['y'] = y_cls"
   ]
  },
  {
   "cell_type": "code",
   "execution_count": null,
   "metadata": {},
   "outputs": [],
   "source": [
    "batch_size = 120\n",
    "# test and cache\n",
    "dm = imdbHSDataModule2(ds, batch_size=batch_size)\n",
    "dm.setup('train')\n",
    "\n",
    "dl_val = dm.val_dataloader()\n",
    "dl_train = dm.train_dataloader()\n",
    "len(dl_train), len(dl_val)"
   ]
  },
  {
   "cell_type": "code",
   "execution_count": null,
   "metadata": {},
   "outputs": [],
   "source": [
    "b = next(iter(dl_train))\n",
    "x0, x1, y = b\n",
    "x0.shape"
   ]
  },
  {
   "attachments": {},
   "cell_type": "markdown",
   "metadata": {},
   "source": [
    "# Data prep\n",
    "\n",
    "We do two inferences on the same inputs. Since we have dropout enabled, even during inference, we get two slightly different hidden states `hs1` and `hs2`, and two slightly different probabilities for our yes and no output tokens `p1` `p2`. We also have the true answer `t`\n",
    "\n",
    "So there are a few ways we can set up the problem. \n",
    "\n",
    "We can vary x:\n",
    "- `model(hs1)-model(hs2)=y`\n",
    "- `model(hs1-hs2)==y`\n",
    "\n",
    "And we can try differen't y's:\n",
    "- direction with a ranked loss. This could be unsupervised.\n",
    "- magnitude with a regression loss\n",
    "- vector (direction and magnitude) with a regression loss"
   ]
  },
  {
   "attachments": {},
   "cell_type": "markdown",
   "metadata": {},
   "source": [
    "# QC: Linear supervised probes\n",
    "\n",
    "\n",
    "Let's verify that the model's representations are good\n",
    "\n",
    "Before trying CCS, let's make sure there exists a direction that classifies examples as true vs false with high accuracy; if supervised logistic regression accuracy is bad, there's no hope of unsupervised CCS doing well.\n",
    "\n",
    "Note that because logistic regression is supervised we expect it to do better but to have worse generalisation that equivilent unsupervised methods. However in this case CSS is using a deeper model so it is more complicated.\n"
   ]
  },
  {
   "attachments": {},
   "cell_type": "markdown",
   "metadata": {},
   "source": [
    "## Try a classification of direction to truth"
   ]
  },
  {
   "cell_type": "code",
   "execution_count": null,
   "metadata": {},
   "outputs": [],
   "source": [
    "# dm.y"
   ]
  },
  {
   "cell_type": "code",
   "execution_count": null,
   "metadata": {},
   "outputs": [],
   "source": [
    "n = len(df)\n",
    "\n",
    "# Define X and y\n",
    "X = (dm.hs1-dm.hs0).reshape((n, -1))#/dm.y[:, None]\n",
    "y = dm.y>0\n",
    "\n",
    "# split\n",
    "n = len(y)\n",
    "max_rows = 300\n",
    "print('split size', n//2)\n",
    "X_train, X_test = X[:n//2], X[n//2:]\n",
    "y_train, y_test = y[:n//2], y[n//2:]\n",
    "X_train = X_train[:max_rows]\n",
    "y_train = y_train[:max_rows]\n",
    "X_test = X_test[:max_rows]\n",
    "y_test = y_test[:max_rows]\n",
    "\n",
    "# scale\n",
    "scaler = RobustScaler()\n",
    "scaler.fit(X_train)\n",
    "X_train2 = scaler.transform(X_train)\n",
    "X_test2 = scaler.transform(X_test)\n",
    "print('lr')\n",
    "\n",
    "lr = LogisticRegression(class_weight=\"balanced\", penalty=\"l2\", max_iter=100)\n",
    "lr.fit(X_train2, y_train>0)"
   ]
  },
  {
   "cell_type": "code",
   "execution_count": null,
   "metadata": {},
   "outputs": [],
   "source": [
    "# y.mean()"
   ]
  },
  {
   "cell_type": "code",
   "execution_count": null,
   "metadata": {},
   "outputs": [],
   "source": [
    "print(\"Logistic cls acc: {:2.2%} [TRAIN]\".format(lr.score(X_train2, y_train>0)))\n",
    "print(\"Logistic cls acc: {:2.2%} [TEST]\".format(lr.score(X_test2, y_test>0)))\n",
    "\n",
    "m = df['instructed_to_lie'][n//2:][:max_rows]\n",
    "y_test_pred = lr.predict(X_test2)\n",
    "acc_w_lie = ((y_test_pred[m]>0)==(y_test[m]>0)).mean()\n",
    "acc_wo_lie = ((y_test_pred[~m]>0)==(y_test[~m]>0)).mean()\n",
    "print(f'test acc w lie {acc_w_lie:2.2%}')\n",
    "print(f'test acc wo lie {acc_wo_lie:2.2%}')"
   ]
  },
  {
   "cell_type": "code",
   "execution_count": null,
   "metadata": {},
   "outputs": [],
   "source": [
    "# primary_baseline = roc_auc_score(y_test>0, y_test_pred)\n",
    "# primary_baseline"
   ]
  },
  {
   "attachments": {},
   "cell_type": "markdown",
   "metadata": {},
   "source": [
    "# LightningModel"
   ]
  },
  {
   "cell_type": "code",
   "execution_count": null,
   "metadata": {},
   "outputs": [],
   "source": [
    "from src.probes.conv import PLConvProbe"
   ]
  },
  {
   "attachments": {},
   "cell_type": "markdown",
   "metadata": {},
   "source": [
    "# Run"
   ]
  },
  {
   "cell_type": "code",
   "execution_count": null,
   "metadata": {},
   "outputs": [],
   "source": [
    "# quiet please\n",
    "torch.set_float32_matmul_precision('medium')\n",
    "\n",
    "import warnings\n",
    "warnings.filterwarnings(\"ignore\", \".*does not have many workers.*\")\n",
    "warnings.filterwarnings(\"ignore\", \".*F-score.*\")"
   ]
  },
  {
   "attachments": {},
   "cell_type": "markdown",
   "metadata": {},
   "source": [
    "## Prep dataloader/set"
   ]
  },
  {
   "cell_type": "code",
   "execution_count": null,
   "metadata": {},
   "outputs": [],
   "source": [
    "dl_train = dm.train_dataloader()\n",
    "dl_val = dm.val_dataloader()\n",
    "b = next(iter(dl_train))\n",
    "# init the model\n",
    "max_epochs = 82\n",
    "c_in = b[0].shape[1]\n",
    "print(b[0].shape)\n",
    "net = PLConvProbe(c_in=c_in, total_steps=max_epochs*len(dl_train), depth=4, hs=32, lr=3e-3, \n",
    "        #   weight_decay=1e-4, \n",
    "          dropout=0.1, \n",
    "          input_dropout=0.1,\n",
    "          )\n",
    "trainer = pl.Trainer(precision=\"bf16-mixed\",\n",
    "                     \n",
    "                     gradient_clip_val=20,\n",
    "                     max_epochs=max_epochs, log_every_n_steps=5)\n",
    "trainer.fit(model=net, train_dataloaders=dl_train, val_dataloaders=dl_val)"
   ]
  },
  {
   "attachments": {},
   "cell_type": "markdown",
   "metadata": {},
   "source": [
    "# Read hist"
   ]
  },
  {
   "cell_type": "code",
   "execution_count": null,
   "metadata": {},
   "outputs": [],
   "source": [
    "df_hist = read_metrics_csv(trainer.logger.experiment.metrics_file_path).ffill().bfill()\n",
    "df_hist"
   ]
  },
  {
   "cell_type": "code",
   "execution_count": null,
   "metadata": {},
   "outputs": [],
   "source": [
    "for key in ['loss']:\n",
    "    df_hist[[c for c in df_hist.columns if key in c]].plot(logy=True)"
   ]
  },
  {
   "cell_type": "code",
   "execution_count": null,
   "metadata": {},
   "outputs": [],
   "source": [
    "for key in ['acc']:\n",
    "    df_hist[[c for c in df_hist.columns if key in c]].plot()"
   ]
  },
  {
   "attachments": {},
   "cell_type": "markdown",
   "metadata": {},
   "source": [
    "## Predict"
   ]
  },
  {
   "cell_type": "code",
   "execution_count": null,
   "metadata": {},
   "outputs": [],
   "source": [
    "dl_test = dm.test_dataloader()\n",
    "rs = trainer.test(net, dataloaders=[dl_train, dl_val, dl_test])\n",
    "rs"
   ]
  },
  {
   "cell_type": "code",
   "execution_count": null,
   "metadata": {},
   "outputs": [],
   "source": [
    "dl_test = dm.test_dataloader()\n",
    "r = trainer.predict(net, dataloaders=dl_test)\n",
    "y_test_pred = np.concatenate(r)\n",
    "y_test_pred.shape"
   ]
  },
  {
   "cell_type": "code",
   "execution_count": null,
   "metadata": {},
   "outputs": [],
   "source": []
  },
  {
   "cell_type": "code",
   "execution_count": null,
   "metadata": {},
   "outputs": [],
   "source": [
    "df_test = dm.df.iloc[dm.splits['test'][0]:].copy()\n",
    "y_true = dl_test.dataset.tensors[2].numpy()"
   ]
  },
  {
   "cell_type": "code",
   "execution_count": null,
   "metadata": {},
   "outputs": [],
   "source": [
    "# Make a prediction dataframe with everything in it\n",
    "df_test = dm.df.iloc[dm.splits['test'][0]:].copy()\n",
    "df_test['probe_pred'] = y_test_pred>0\n",
    "y_test_pred_bool = np.clip(switch2bool(y_test_pred), 0 ,1)\n",
    "df_test['probe_prob'] = y_test_pred_bool\n",
    "df_test['llm_prob'] = (df_test['ans0']+df_test['ans1'])/2\n",
    "df_test['llm_ans'] = df_test['llm_prob']>0.5\n",
    "df_test['conf'] = (df_test['ans0']-df_test['ans1']).abs()\n",
    "df_test['y'] = df_test['y']>0\n",
    "\n",
    "y_true = dl_test.dataset.tensors[2].numpy()\n",
    "assert ((df_test['y'].values>0.5)==(y_true>0)).all(), 'check it all lines up'\n",
    "\n",
    "df_test"
   ]
  },
  {
   "cell_type": "code",
   "execution_count": null,
   "metadata": {},
   "outputs": [],
   "source": [
    "def get_acc_subset(df, query):\n",
    "    df_s = df.query(query)\n",
    "    acc = (df_s['probe_pred']==df_s['y']).mean()\n",
    "    print(f\"acc={acc:2.2%} [{query}]\")\n",
    "    return acc\n",
    "    \n",
    "print('probe results on subsets of the data')\n",
    "get_acc_subset(df_test, 'instructed_to_lie==True') # it was ph told to lie\n",
    "get_acc_subset(df_test, 'instructed_to_lie==False') # it was told not to lie\n",
    "get_acc_subset(df_test, 'llm_ans==label_true') # the llm gave the true ans\n",
    "get_acc_subset(df_test, 'llm_ans==label_instructed') # the llm gave the desired ans\n",
    "get_acc_subset(df_test, 'instructed_to_lie==True & llm_ans==label_instructed') # it was told to lie, and it did lie\n",
    "get_acc_subset(df_test, 'instructed_to_lie==True & llm_ans!=label_instructed')"
   ]
  },
  {
   "cell_type": "markdown",
   "metadata": {},
   "source": [
    "# RESULTS"
   ]
  },
  {
   "cell_type": "code",
   "execution_count": null,
   "metadata": {},
   "outputs": [],
   "source": [
    "acc = (df_test['y']==(y_test_pred_bool>0.5)).mean()\n",
    "\n",
    "# print(f\"  PRIMARY BASELINE roc_auc={primary_baseline:2.2%} from linear classifier\")\n",
    "print(f\"⭐PRIMARY METRIC⭐ acc={acc:2.2%} from probe\")"
   ]
  },
  {
   "cell_type": "markdown",
   "metadata": {},
   "source": [
    "# Out of sample\n",
    "\n",
    "Lets see how far it generalizes"
   ]
  },
  {
   "cell_type": "code",
   "execution_count": null,
   "metadata": {},
   "outputs": [],
   "source": [
    "def try_fine_tune(dm):\n",
    "    dl_train = dm.train_dataloader()\n",
    "    dl_val = dm.val_dataloader()\n",
    "    dl_test = dm.test_dataloader()\n",
    "    b = next(iter(dl_train))\n",
    "    max_epochs = 42\n",
    "    c_in = b[0].shape[1]\n",
    "    print(b[0].shape)\n",
    "    net = PLConvProbe(c_in=c_in, total_steps=max_epochs*len(dl_train), depth=5, hs=128, lr=3e-3, dropout=0.1, input_dropout=0.1)\n",
    "    trainer = pl.Trainer(precision=\"bf16-mixed\",\n",
    "                        \n",
    "                        gradient_clip_val=20,\n",
    "                        max_epochs=max_epochs, log_every_n_steps=5)\n",
    "    trainer.fit(model=net, train_dataloaders=dl_train, val_dataloaders=dl_val)\n",
    "    df_hist = read_metrics_csv(trainer.logger.experiment.metrics_file_path).ffill().bfill()\n",
    "    rs = trainer.test(net, dataloaders=[dl_train, dl_val, dl_test])\n",
    "    return df_hist, rs"
   ]
  },
  {
   "cell_type": "code",
   "execution_count": null,
   "metadata": {},
   "outputs": [],
   "source": [
    "oos_dataset_fs = [\n",
    "    '../.ds/model-starchat-beta_ds-EleutherAItruthful-qa-binary_format-tqa-a-b-simple-prompt_N807_2shots_cd0a7f',\n",
    "    '../.ds/model-starchat-beta_ds-EleutherAItruthful-qa-binary_format-tqa-sphinx-prompt_N807_2shots_cd0a7f', \n",
    "]"
   ]
  },
  {
   "cell_type": "code",
   "execution_count": null,
   "metadata": {},
   "outputs": [],
   "source": [
    "batch_size = 12\n",
    "for f in oos_dataset_fs:\n",
    "    print(f)\n",
    "    ds2a = load_from_disk(f)\n",
    "\n",
    "    # restrict it to significant permutations. That is monte carlo dropout pairs, where the answer changes by more than X%\n",
    "    df = ds2df(ds2a)\n",
    "    m = np.abs(df.ans0-df.ans1)>0.1\n",
    "    significant_rows = m[m].index\n",
    "\n",
    "    # allowed_rows_i = set(known_rows_i).intersection(significant_rows)\n",
    "    allowed_rows_i = significant_rows\n",
    "    ds2 = ds2a.select(allowed_rows_i)\n",
    "    print(f\"selected rows are {len(ds2)/len(ds2a):2.2%}\")\n",
    "    print(len(ds2))\n",
    "\n",
    "    dm2 = imdbHSDataModule(ds2, batch_size=batch_size)\n",
    "    dm2.setup('train')\n",
    "\n",
    "    dl_val2 = dm2.val_dataloader()\n",
    "    dl_train2 = dm2.train_dataloader()\n",
    "    dl_test2 = dm2.test_dataloader()\n",
    "    print(len(dl_train2), len(dl_val2), len(dl_test2))\n",
    "    rs2 = trainer.test(net, dataloaders=[dl_train2, dl_val2, dl_test2]) \n",
    "    \n",
    "    df_hist2, rs2b = try_fine_tune(dm2)"
   ]
  },
  {
   "cell_type": "code",
   "execution_count": null,
   "metadata": {},
   "outputs": [],
   "source": []
  }
 ],
 "metadata": {
  "kernelspec": {
   "display_name": "dlk2",
   "language": "python",
   "name": "python3"
  },
  "language_info": {
   "codemirror_mode": {
    "name": "ipython",
    "version": 3
   },
   "file_extension": ".py",
   "mimetype": "text/x-python",
   "name": "python",
   "nbconvert_exporter": "python",
   "pygments_lexer": "ipython3",
   "version": "3.11.4"
  },
  "orig_nbformat": 4
 },
 "nbformat": 4,
 "nbformat_minor": 2
}
