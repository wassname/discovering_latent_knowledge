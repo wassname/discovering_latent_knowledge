{
 "cells": [
  {
   "attachments": {},
   "cell_type": "markdown",
   "metadata": {},
   "source": [
    "# Lets just do supervised learning\n",
    "\n",
    "Since we are looking at pairs with random permuations (from dropout), we can't use CCS. This is because our probabilities do not add to one.\n",
    "\n",
    "People question if unsupervised learning bings anything to the table anyway, so lets start with supervised..."
   ]
  },
  {
   "attachments": {},
   "cell_type": "markdown",
   "metadata": {},
   "source": [
    "\n",
    "links:\n",
    "- [loading](https://github.com/deep-diver/LLM-As-Chatbot/blob/main/models/alpaca.py)\n",
    "- [dict](https://github.com/deep-diver/LLM-As-Chatbot/blob/c79e855a492a968b54bac223e66dc9db448d6eba/model_cards.json#L143)\n",
    "- [prompt_format](https://github.com/deep-diver/PingPong/blob/main/src/pingpong/alpaca.py)"
   ]
  },
  {
   "cell_type": "code",
   "execution_count": 1,
   "metadata": {},
   "outputs": [
    {
     "data": {
      "text/plain": [
       "'4.30.1'"
      ]
     },
     "execution_count": 1,
     "metadata": {},
     "output_type": "execute_result"
    }
   ],
   "source": [
    "\n",
    "import copy\n",
    "import numpy as np\n",
    "import pandas as pd\n",
    "from matplotlib import pyplot as plt\n",
    "plt.style.use('ggplot')\n",
    "\n",
    "import random\n",
    "from typing import Optional, List, Dict, Union\n",
    "\n",
    "import torch\n",
    "import torch.nn as nn\n",
    "import torch.nn.functional as F\n",
    "from torch import Tensor\n",
    "from torch import optim\n",
    "from torch.utils.data import random_split, DataLoader, TensorDataset\n",
    "\n",
    "import pickle\n",
    "import hashlib\n",
    "from pathlib import Path\n",
    "\n",
    "from datasets import load_dataset\n",
    "import datasets\n",
    "\n",
    "from transformers import AutoTokenizer, AutoModelForSeq2SeqLM, AutoModelForMaskedLM, AutoModelForCausalLM, AutoConfig\n",
    "import transformers\n",
    "from transformers.models.auto.modeling_auto import AutoModel\n",
    "from transformers import LogitsProcessorList\n",
    "\n",
    "\n",
    "import lightning.pytorch as pl\n",
    "from dataclasses import dataclass\n",
    "\n",
    "from sklearn.linear_model import LogisticRegression\n",
    "# from scipy.stats import zscore\n",
    "from sklearn.metrics import f1_score, roc_auc_score, accuracy_score\n",
    "from sklearn.preprocessing import RobustScaler\n",
    "\n",
    "from tqdm.auto import tqdm\n",
    "import gc\n",
    "import os\n",
    "\n",
    "from loguru import logger\n",
    "logger.add(os.sys.stderr, format=\"{time} {level} {message}\", level=\"INFO\")\n",
    "\n",
    "\n",
    "transformers.__version__"
   ]
  },
  {
   "attachments": {},
   "cell_type": "markdown",
   "metadata": {},
   "source": [
    "# Load cache data\n",
    "\n",
    "from notebook 020_ds"
   ]
  },
  {
   "cell_type": "code",
   "execution_count": 2,
   "metadata": {},
   "outputs": [],
   "source": [
    "from datasets import load_from_disk\n",
    "f='./.ds/WizardLMWizardCoder_15B_V1.0-None-N_40-ns_3-mc_True-593d1f'\n",
    "f='./.ds/WizardLMWizardCoder_15B_V1.0-None-N_4000-ns_3-mc_True-a55583_v2'\n",
    "ds = load_from_disk(f)"
   ]
  },
  {
   "cell_type": "code",
   "execution_count": 3,
   "metadata": {},
   "outputs": [],
   "source": [
    "batch_size = 32"
   ]
  },
  {
   "cell_type": "code",
   "execution_count": 4,
   "metadata": {},
   "outputs": [],
   "source": [
    "# # extract data set into N-Dim tensors and 1-d dataframe\n",
    "# ds_hs = (\n",
    "#     ds\n",
    "#     # .map(cast, batched=True, batch_size=batch_size)\n",
    "#     .with_format(\"torch\", dtype=torch.float16)\n",
    "# )\n",
    "# ds_hs[0]"
   ]
  },
  {
   "cell_type": "code",
   "execution_count": 5,
   "metadata": {},
   "outputs": [],
   "source": [
    "# # TEMP DELETEME cast\n",
    "# def cast(x):\n",
    "#     x['hs1'] = torch.tensor(x['hs1']).float()\n",
    "#     x['hs2'] = torch.tensor(x['hs2']).float()\n",
    "#     return x\n",
    "\n",
    "# # extract data set into N-Dim tensors and 1-d dataframe\n",
    "# ds_hs = (\n",
    "#     ds\n",
    "#     .map(cast, batched=True, batch_size=batch_size)\n",
    "#     .with_format(\"torch\")\n",
    "# )\n",
    "# ds_hs[0]\n",
    "# ds_hs.save_to_disk(f+'_v2')"
   ]
  },
  {
   "cell_type": "code",
   "execution_count": 6,
   "metadata": {},
   "outputs": [],
   "source": [
    "# ds_hs = (\n",
    "#     ds.select_columns(['hs1', 'hs2'])\n",
    "#     .with_format(\"torch\")\n",
    "# )\n",
    "\n",
    "# df_infos = pd.DataFrame(ds['info'])\n",
    "# df_ans = ds.select_columns(['ans1', 'ans2', 'true']).to_pandas()\n",
    "# df_infos = pd.concat([df_infos, df_ans], axis=1)\n",
    "# df_infos"
   ]
  },
  {
   "attachments": {},
   "cell_type": "markdown",
   "metadata": {},
   "source": [
    "## Lightning DataModule"
   ]
  },
  {
   "cell_type": "code",
   "execution_count": 7,
   "metadata": {},
   "outputs": [],
   "source": [
    "def ds_info2df(ds):\n",
    "    d = pd.DataFrame(ds['info'])\n",
    "    for c in ['desired_answer', 'lie', 'true_answer']:\n",
    "        d[c] = d[c].map(lambda x:x.item())\n",
    "    return d\n",
    "\n",
    "class imdbHSDataModule(pl.LightningDataModule):\n",
    "\n",
    "    def __init__(self,\n",
    "                 ds,\n",
    "                 batch_size=32,\n",
    "                ):\n",
    "        super().__init__()\n",
    "        self.save_hyperparameters(ignore=[\"ds\"])\n",
    "        self.ds = ds\n",
    "\n",
    "    def setup(self, stage: str):\n",
    "        h = self.hparams\n",
    "        \n",
    "        # extract data set into N-Dim tensors and 1-d dataframe\n",
    "        self.ds_hs = (\n",
    "            self.ds.select_columns(['hs1', 'hs2'])\n",
    "            .with_format(\"numpy\")\n",
    "        )\n",
    "        \n",
    "        df_infos = ds_info2df(self.ds)\n",
    "        df_ans = self.ds.select_columns(['ans1', 'ans2', 'true']).with_format(\"numpy\").to_pandas()\n",
    "        self.df_infos = pd.concat([df_infos, df_ans], axis=1)\n",
    "        self.df_infos['dir_true'] = self.df_infos['ans2'] - self.df_infos['ans1']\n",
    "        self.df_infos['ans'] = (self.df_infos['ans2'] + self.df_infos['ans1']) / 2\n",
    "        \n",
    "        b = len(self.ds_hs)\n",
    "        self.y = self.df_infos['true_answer'].astype(np.float32).values\n",
    "        self.hs1 = self.ds_hs['hs1'].reshape((b, -1))#.numpy()\n",
    "        self.hs2 = self.ds_hs['hs2'].reshape((b, -1))#.numpy()        \n",
    "        self.ans1 = self.df_infos['ans1'].values\n",
    "        self.ans2 = self.df_infos['ans2'].values\n",
    "        \n",
    "        # # in ELK they cache as a huggingface dataset\n",
    "        # self.hs1, self.ans1, self.hs2, self.ans2, self.y, self.infos = \n",
    "\n",
    "        # let's create a simple 50/50 train split (the data is already randomized)\n",
    "        n = len(self.y)\n",
    "        self.val_split = vs = int(n * 0.5)\n",
    "        self.test_split = ts = int(n * 0.75)\n",
    "        hs1_train, hs2_train, y_train = self.hs1[:vs], self.hs2[:vs], self.y[:vs]\n",
    "        hs1_val, hs2_val, y_val = self.hs1[vs:ts], self.hs2[vs:ts], self.y[vs:ts]\n",
    "        hs1_test, hs2_test, y_test = self.hs1[ts:],self. hs2[ts:], self.y[ts:]\n",
    "\n",
    "        # for simplicity we can just take the difference between positive and negative hidden states\n",
    "        # (concatenating also works fine)\n",
    "        self.x_train = hs1_train - hs2_train\n",
    "        self.x_val = hs1_val - hs2_val\n",
    "        self.x_test = hs1_test - hs2_test\n",
    "\n",
    "        # normalize\n",
    "        self.scaler = RobustScaler()\n",
    "        self.scaler.fit(self.x_train)\n",
    "        self.x_train = self.scaler.transform(self.x_train)\n",
    "        self.x_val = self.scaler.transform(self.x_val)\n",
    "        self.x_test = self.scaler.transform(self.x_test)\n",
    "\n",
    "        self.ds_train = TensorDataset(torch.from_numpy(hs1_train).float(),\n",
    "                                      torch.from_numpy(hs2_train).float(),\n",
    "                                      torch.from_numpy(y_train).float())\n",
    "\n",
    "        self.ds_val = TensorDataset(torch.from_numpy(hs1_val).float(),\n",
    "                                    torch.from_numpy(hs2_val).float(),\n",
    "                                    torch.from_numpy(y_val).float())\n",
    "\n",
    "        self.ds_test = TensorDataset(torch.from_numpy(hs1_test).float(),\n",
    "                                     torch.from_numpy(hs2_test).float(),\n",
    "                                     torch.from_numpy(y_test).float())\n",
    "\n",
    "    def train_dataloader(self):\n",
    "        return DataLoader(self.ds_train,\n",
    "                          batch_size=self.hparams.batch_size,\n",
    "                          shuffle=True)\n",
    "\n",
    "    def val_dataloader(self):\n",
    "        return DataLoader(self.ds_val, batch_size=self.hparams.batch_size)\n",
    "\n",
    "    def test_dataloader(self):\n",
    "        return DataLoader(self.ds_test, batch_size=self.hparams.batch_size)\n"
   ]
  },
  {
   "cell_type": "code",
   "execution_count": 8,
   "metadata": {},
   "outputs": [],
   "source": [
    "# pd.DataFrame(ds.with_format(\"numpy\")['info'])\n"
   ]
  },
  {
   "cell_type": "code",
   "execution_count": 9,
   "metadata": {},
   "outputs": [
    {
     "data": {
      "text/plain": [
       "[tensor([[ 2.1326e-01, -3.2684e-02, -4.0253e-02,  ...,  6.3086e-01,\n",
       "          -3.3594e+00,  1.5766e+01],\n",
       "         [ 1.7346e-01, -4.2572e-02, -9.0210e-02,  ..., -3.9785e+00,\n",
       "          -1.6270e+00,  1.3328e+01],\n",
       "         [ 1.8298e-01, -6.2790e-03, -5.9631e-02,  ..., -6.1523e-01,\n",
       "           1.4629e+00,  1.2039e+01],\n",
       "         ...,\n",
       "         [ 1.1084e-01, -5.6305e-03, -6.7993e-02,  ..., -3.6719e+00,\n",
       "          -1.8447e+00,  1.2555e+01],\n",
       "         [ 1.1307e-02, -6.7078e-02, -1.0455e-01,  ..., -3.0723e+00,\n",
       "           1.4990e+00,  8.6797e+00],\n",
       "         [ 7.4646e-02, -9.4727e-02, -5.3558e-03,  ..., -2.2324e+00,\n",
       "          -2.7637e+00,  1.8328e+01]]),\n",
       " tensor([[ 1.5747e-01, -7.4844e-03, -7.8857e-02,  ...,  1.4961e+00,\n",
       "           1.0332e+00,  1.1914e+01],\n",
       "         [ 1.4172e-01, -6.1523e-02, -4.3152e-02,  ..., -1.5645e+00,\n",
       "          -2.7734e+00,  1.3078e+01],\n",
       "         [ 1.1914e-01, -2.0706e-02, -8.9172e-02,  ...,  2.4648e+00,\n",
       "          -3.6938e-01,  9.6406e+00],\n",
       "         ...,\n",
       "         [ 4.0924e-02, -7.1594e-02, -4.4495e-02,  ..., -1.6240e+00,\n",
       "          -4.7188e+00,  1.2695e+01],\n",
       "         [ 4.3488e-03, -5.5664e-02, -7.6172e-02,  ..., -3.6621e+00,\n",
       "           8.0566e-01,  9.8516e+00],\n",
       "         [-3.1921e-02, -5.0720e-02, -8.0872e-02,  ..., -4.8086e+00,\n",
       "          -3.2349e-02,  1.6328e+01]]),\n",
       " tensor([1., 1., 1., 1., 0., 0., 0., 0., 1., 0., 1., 1., 0., 0., 1., 1., 0., 1.,\n",
       "         0., 1., 0., 1., 1., 0., 0., 0., 0., 1., 0., 1., 1., 0.])]"
      ]
     },
     "execution_count": 9,
     "metadata": {},
     "output_type": "execute_result"
    }
   ],
   "source": [
    "# test and cache\n",
    "dm = imdbHSDataModule(ds, batch_size=batch_size)\n",
    "dm.setup('train')\n",
    "\n",
    "dl_val = dm.val_dataloader()\n",
    "dl_train = dm.train_dataloader()\n",
    "b = next(iter(dl_train))\n",
    "b"
   ]
  },
  {
   "cell_type": "code",
   "execution_count": 10,
   "metadata": {},
   "outputs": [
    {
     "data": {
      "text/html": [
       "<div>\n",
       "<style scoped>\n",
       "    .dataframe tbody tr th:only-of-type {\n",
       "        vertical-align: middle;\n",
       "    }\n",
       "\n",
       "    .dataframe tbody tr th {\n",
       "        vertical-align: top;\n",
       "    }\n",
       "\n",
       "    .dataframe thead th {\n",
       "        text-align: right;\n",
       "    }\n",
       "</style>\n",
       "<table border=\"1\" class=\"dataframe\">\n",
       "  <thead>\n",
       "    <tr style=\"text-align: right;\">\n",
       "      <th></th>\n",
       "      <th>desired_answer</th>\n",
       "      <th>input</th>\n",
       "      <th>lie</th>\n",
       "      <th>true_answer</th>\n",
       "      <th>ans1</th>\n",
       "      <th>ans2</th>\n",
       "      <th>true</th>\n",
       "      <th>dir_true</th>\n",
       "      <th>ans</th>\n",
       "    </tr>\n",
       "  </thead>\n",
       "  <tbody>\n",
       "    <tr>\n",
       "      <th>0</th>\n",
       "      <td>True</td>\n",
       "      <td>How can anyone still feed this to children? I ...</td>\n",
       "      <td>True</td>\n",
       "      <td>0</td>\n",
       "      <td>0.519043</td>\n",
       "      <td>0.507324</td>\n",
       "      <td>0</td>\n",
       "      <td>-0.011719</td>\n",
       "      <td>0.513184</td>\n",
       "    </tr>\n",
       "    <tr>\n",
       "      <th>1</th>\n",
       "      <td>False</td>\n",
       "      <td>I ordered this movie from Amazon and it was gr...</td>\n",
       "      <td>False</td>\n",
       "      <td>0</td>\n",
       "      <td>0.588379</td>\n",
       "      <td>0.300537</td>\n",
       "      <td>0</td>\n",
       "      <td>-0.287842</td>\n",
       "      <td>0.444336</td>\n",
       "    </tr>\n",
       "    <tr>\n",
       "      <th>2</th>\n",
       "      <td>True</td>\n",
       "      <td>This movie has the right pedigree - Coen broth...</td>\n",
       "      <td>True</td>\n",
       "      <td>0</td>\n",
       "      <td>0.201538</td>\n",
       "      <td>0.102234</td>\n",
       "      <td>0</td>\n",
       "      <td>-0.099304</td>\n",
       "      <td>0.151855</td>\n",
       "    </tr>\n",
       "    <tr>\n",
       "      <th>3</th>\n",
       "      <td>False</td>\n",
       "      <td>ok so i got the sword and the box it came in w...</td>\n",
       "      <td>False</td>\n",
       "      <td>0</td>\n",
       "      <td>0.366211</td>\n",
       "      <td>0.643555</td>\n",
       "      <td>0</td>\n",
       "      <td>0.277344</td>\n",
       "      <td>0.504883</td>\n",
       "    </tr>\n",
       "    <tr>\n",
       "      <th>4</th>\n",
       "      <td>True</td>\n",
       "      <td>I was anticipating the use of wireless headpho...</td>\n",
       "      <td>True</td>\n",
       "      <td>0</td>\n",
       "      <td>0.479980</td>\n",
       "      <td>0.422119</td>\n",
       "      <td>0</td>\n",
       "      <td>-0.057861</td>\n",
       "      <td>0.451172</td>\n",
       "    </tr>\n",
       "    <tr>\n",
       "      <th>...</th>\n",
       "      <td>...</td>\n",
       "      <td>...</td>\n",
       "      <td>...</td>\n",
       "      <td>...</td>\n",
       "      <td>...</td>\n",
       "      <td>...</td>\n",
       "      <td>...</td>\n",
       "      <td>...</td>\n",
       "      <td>...</td>\n",
       "    </tr>\n",
       "    <tr>\n",
       "      <th>3995</th>\n",
       "      <td>False</td>\n",
       "      <td>As others have said, the instructions were not...</td>\n",
       "      <td>False</td>\n",
       "      <td>0</td>\n",
       "      <td>0.179932</td>\n",
       "      <td>0.211792</td>\n",
       "      <td>0</td>\n",
       "      <td>0.031860</td>\n",
       "      <td>0.195801</td>\n",
       "    </tr>\n",
       "    <tr>\n",
       "      <th>3996</th>\n",
       "      <td>True</td>\n",
       "      <td>This book has great potential but it doesn't l...</td>\n",
       "      <td>True</td>\n",
       "      <td>0</td>\n",
       "      <td>0.032562</td>\n",
       "      <td>0.037292</td>\n",
       "      <td>0</td>\n",
       "      <td>0.004730</td>\n",
       "      <td>0.034912</td>\n",
       "    </tr>\n",
       "    <tr>\n",
       "      <th>3997</th>\n",
       "      <td>True</td>\n",
       "      <td>I was intending to use beta sitosterol for hai...</td>\n",
       "      <td>False</td>\n",
       "      <td>1</td>\n",
       "      <td>0.940430</td>\n",
       "      <td>0.942383</td>\n",
       "      <td>1</td>\n",
       "      <td>0.001953</td>\n",
       "      <td>0.941406</td>\n",
       "    </tr>\n",
       "    <tr>\n",
       "      <th>3998</th>\n",
       "      <td>False</td>\n",
       "      <td>This is really compact and comes with 3 bags t...</td>\n",
       "      <td>True</td>\n",
       "      <td>1</td>\n",
       "      <td>0.963379</td>\n",
       "      <td>0.941895</td>\n",
       "      <td>1</td>\n",
       "      <td>-0.021484</td>\n",
       "      <td>0.952637</td>\n",
       "    </tr>\n",
       "    <tr>\n",
       "      <th>3999</th>\n",
       "      <td>True</td>\n",
       "      <td>I bought the paperback because it sounded inte...</td>\n",
       "      <td>False</td>\n",
       "      <td>1</td>\n",
       "      <td>0.998535</td>\n",
       "      <td>0.997070</td>\n",
       "      <td>1</td>\n",
       "      <td>-0.001465</td>\n",
       "      <td>0.998047</td>\n",
       "    </tr>\n",
       "  </tbody>\n",
       "</table>\n",
       "<p>4000 rows × 9 columns</p>\n",
       "</div>"
      ],
      "text/plain": [
       "      desired_answer                                              input   \n",
       "0               True  How can anyone still feed this to children? I ...  \\\n",
       "1              False  I ordered this movie from Amazon and it was gr...   \n",
       "2               True  This movie has the right pedigree - Coen broth...   \n",
       "3              False  ok so i got the sword and the box it came in w...   \n",
       "4               True  I was anticipating the use of wireless headpho...   \n",
       "...              ...                                                ...   \n",
       "3995           False  As others have said, the instructions were not...   \n",
       "3996            True  This book has great potential but it doesn't l...   \n",
       "3997            True  I was intending to use beta sitosterol for hai...   \n",
       "3998           False  This is really compact and comes with 3 bags t...   \n",
       "3999            True  I bought the paperback because it sounded inte...   \n",
       "\n",
       "        lie  true_answer      ans1      ans2  true  dir_true       ans  \n",
       "0      True            0  0.519043  0.507324     0 -0.011719  0.513184  \n",
       "1     False            0  0.588379  0.300537     0 -0.287842  0.444336  \n",
       "2      True            0  0.201538  0.102234     0 -0.099304  0.151855  \n",
       "3     False            0  0.366211  0.643555     0  0.277344  0.504883  \n",
       "4      True            0  0.479980  0.422119     0 -0.057861  0.451172  \n",
       "...     ...          ...       ...       ...   ...       ...       ...  \n",
       "3995  False            0  0.179932  0.211792     0  0.031860  0.195801  \n",
       "3996   True            0  0.032562  0.037292     0  0.004730  0.034912  \n",
       "3997  False            1  0.940430  0.942383     1  0.001953  0.941406  \n",
       "3998   True            1  0.963379  0.941895     1 -0.021484  0.952637  \n",
       "3999  False            1  0.998535  0.997070     1 -0.001465  0.998047  \n",
       "\n",
       "[4000 rows x 9 columns]"
      ]
     },
     "execution_count": 10,
     "metadata": {},
     "output_type": "execute_result"
    }
   ],
   "source": [
    "hss1 = dm.hs1\n",
    "hss2 = dm.hs2\n",
    "ans_1 = dm.ans1\n",
    "ans_2 = dm.ans2\n",
    "df_infos = dm.df_infos\n",
    "df_infos"
   ]
  },
  {
   "attachments": {},
   "cell_type": "markdown",
   "metadata": {},
   "source": [
    "# Model Results"
   ]
  },
  {
   "attachments": {},
   "cell_type": "markdown",
   "metadata": {},
   "source": [
    "## Task results\n",
    "\n",
    "E.g. how well does the underlying language model do on the task"
   ]
  },
  {
   "cell_type": "code",
   "execution_count": 11,
   "metadata": {},
   "outputs": [
    {
     "name": "stdout",
     "output_type": "stream",
     "text": [
      "model acc on sentiment task\n",
      "acc 0.88\n",
      "acc when lie=True 0.87\n",
      "acc when lie=False 0.89\n"
     ]
    }
   ],
   "source": [
    "print('model acc on sentiment task')\n",
    "ans = (ans_1 + ans_2) / 2\n",
    "acc=((ans>0.5)==df_infos['true_answer']).mean()\n",
    "print(f\"acc {acc:2.2f}\")\n",
    "\n",
    "d = df_infos['lie']==True\n",
    "acc = ((ans[d]>0.5)==df_infos[d]['true_answer']).mean()\n",
    "print(f\"acc when lie=True {acc:2.2f}\")\n",
    "\n",
    "d = df_infos['lie']==False\n",
    "acc = ((ans[d]>0.5)==df_infos[d]['true_answer']).mean()\n",
    "print(f\"acc when lie=False {acc:2.2f}\")\n",
    "# ((ans_1>0)==df_infos['desired_answer']).mean()"
   ]
  },
  {
   "attachments": {},
   "cell_type": "markdown",
   "metadata": {},
   "source": [
    "# Data prep\n",
    "\n",
    "We do two inferences on the same inputs. Since we have dropout enabled, even during inference, we get two slightly different hidden states `hs1` and `hs2`, and two slightly different probabilities for our yes and no output tokens `p1` `p2`. We also have the true answer `t`\n",
    "\n",
    "So there are a few ways we can set up the problem. \n",
    "\n",
    "We can vary x:\n",
    "- `model(hs1)-model(hs2)=y`\n",
    "- `model(hs1-hs2)==y`\n",
    "\n",
    "And we can try differen't y's:\n",
    "- direction with a ranked loss. This could be unsupervised.\n",
    "- magnitude with a regression loss\n",
    "- vector (direction and magnitude) with a regression loss"
   ]
  },
  {
   "attachments": {},
   "cell_type": "markdown",
   "metadata": {},
   "source": [
    "# QC: Linear supervised probes\n",
    "\n",
    "\n",
    "Let's verify that the model's representations are good\n",
    "\n",
    "Before trying CCS, let's make sure there exists a direction that classifies examples as true vs false with high accuracy; if supervised logistic regression accuracy is bad, there's no hope of unsupervised CCS doing well.\n",
    "\n",
    "Note that because logistic regression is supervised we expect it to do better but to have worse generalisation that equivilent unsupervised methods. However in this case CSS is using a deeper model so it is more complicated.\n"
   ]
  },
  {
   "attachments": {},
   "cell_type": "markdown",
   "metadata": {},
   "source": [
    "## Try a classification of direction to truth"
   ]
  },
  {
   "cell_type": "code",
   "execution_count": 12,
   "metadata": {},
   "outputs": [
    {
     "name": "stdout",
     "output_type": "stream",
     "text": [
      "split size 2000\n"
     ]
    },
    {
     "data": {
      "text/html": [
       "<style>#sk-container-id-1 {color: black;background-color: white;}#sk-container-id-1 pre{padding: 0;}#sk-container-id-1 div.sk-toggleable {background-color: white;}#sk-container-id-1 label.sk-toggleable__label {cursor: pointer;display: block;width: 100%;margin-bottom: 0;padding: 0.3em;box-sizing: border-box;text-align: center;}#sk-container-id-1 label.sk-toggleable__label-arrow:before {content: \"▸\";float: left;margin-right: 0.25em;color: #696969;}#sk-container-id-1 label.sk-toggleable__label-arrow:hover:before {color: black;}#sk-container-id-1 div.sk-estimator:hover label.sk-toggleable__label-arrow:before {color: black;}#sk-container-id-1 div.sk-toggleable__content {max-height: 0;max-width: 0;overflow: hidden;text-align: left;background-color: #f0f8ff;}#sk-container-id-1 div.sk-toggleable__content pre {margin: 0.2em;color: black;border-radius: 0.25em;background-color: #f0f8ff;}#sk-container-id-1 input.sk-toggleable__control:checked~div.sk-toggleable__content {max-height: 200px;max-width: 100%;overflow: auto;}#sk-container-id-1 input.sk-toggleable__control:checked~label.sk-toggleable__label-arrow:before {content: \"▾\";}#sk-container-id-1 div.sk-estimator input.sk-toggleable__control:checked~label.sk-toggleable__label {background-color: #d4ebff;}#sk-container-id-1 div.sk-label input.sk-toggleable__control:checked~label.sk-toggleable__label {background-color: #d4ebff;}#sk-container-id-1 input.sk-hidden--visually {border: 0;clip: rect(1px 1px 1px 1px);clip: rect(1px, 1px, 1px, 1px);height: 1px;margin: -1px;overflow: hidden;padding: 0;position: absolute;width: 1px;}#sk-container-id-1 div.sk-estimator {font-family: monospace;background-color: #f0f8ff;border: 1px dotted black;border-radius: 0.25em;box-sizing: border-box;margin-bottom: 0.5em;}#sk-container-id-1 div.sk-estimator:hover {background-color: #d4ebff;}#sk-container-id-1 div.sk-parallel-item::after {content: \"\";width: 100%;border-bottom: 1px solid gray;flex-grow: 1;}#sk-container-id-1 div.sk-label:hover label.sk-toggleable__label {background-color: #d4ebff;}#sk-container-id-1 div.sk-serial::before {content: \"\";position: absolute;border-left: 1px solid gray;box-sizing: border-box;top: 0;bottom: 0;left: 50%;z-index: 0;}#sk-container-id-1 div.sk-serial {display: flex;flex-direction: column;align-items: center;background-color: white;padding-right: 0.2em;padding-left: 0.2em;position: relative;}#sk-container-id-1 div.sk-item {position: relative;z-index: 1;}#sk-container-id-1 div.sk-parallel {display: flex;align-items: stretch;justify-content: center;background-color: white;position: relative;}#sk-container-id-1 div.sk-item::before, #sk-container-id-1 div.sk-parallel-item::before {content: \"\";position: absolute;border-left: 1px solid gray;box-sizing: border-box;top: 0;bottom: 0;left: 50%;z-index: -1;}#sk-container-id-1 div.sk-parallel-item {display: flex;flex-direction: column;z-index: 1;position: relative;background-color: white;}#sk-container-id-1 div.sk-parallel-item:first-child::after {align-self: flex-end;width: 50%;}#sk-container-id-1 div.sk-parallel-item:last-child::after {align-self: flex-start;width: 50%;}#sk-container-id-1 div.sk-parallel-item:only-child::after {width: 0;}#sk-container-id-1 div.sk-dashed-wrapped {border: 1px dashed gray;margin: 0 0.4em 0.5em 0.4em;box-sizing: border-box;padding-bottom: 0.4em;background-color: white;}#sk-container-id-1 div.sk-label label {font-family: monospace;font-weight: bold;display: inline-block;line-height: 1.2em;}#sk-container-id-1 div.sk-label-container {text-align: center;}#sk-container-id-1 div.sk-container {/* jupyter's `normalize.less` sets `[hidden] { display: none; }` but bootstrap.min.css set `[hidden] { display: none !important; }` so we also need the `!important` here to be able to override the default hidden behavior on the sphinx rendered scikit-learn.org. See: https://github.com/scikit-learn/scikit-learn/issues/21755 */display: inline-block !important;position: relative;}#sk-container-id-1 div.sk-text-repr-fallback {display: none;}</style><div id=\"sk-container-id-1\" class=\"sk-top-container\"><div class=\"sk-text-repr-fallback\"><pre>LogisticRegression(class_weight=&#x27;balanced&#x27;, max_iter=380)</pre><b>In a Jupyter environment, please rerun this cell to show the HTML representation or trust the notebook. <br />On GitHub, the HTML representation is unable to render, please try loading this page with nbviewer.org.</b></div><div class=\"sk-container\" hidden><div class=\"sk-item\"><div class=\"sk-estimator sk-toggleable\"><input class=\"sk-toggleable__control sk-hidden--visually\" id=\"sk-estimator-id-1\" type=\"checkbox\" checked><label for=\"sk-estimator-id-1\" class=\"sk-toggleable__label sk-toggleable__label-arrow\">LogisticRegression</label><div class=\"sk-toggleable__content\"><pre>LogisticRegression(class_weight=&#x27;balanced&#x27;, max_iter=380)</pre></div></div></div></div></div>"
      ],
      "text/plain": [
       "LogisticRegression(class_weight='balanced', max_iter=380)"
      ]
     },
     "execution_count": 12,
     "metadata": {},
     "output_type": "execute_result"
    }
   ],
   "source": [
    "\n",
    "n = len(df_infos)\n",
    "\n",
    "# Define X and y\n",
    "X = hss1-hss2\n",
    "\n",
    "y = y_dir = df_infos['true_answer'] == (df_infos['dir_true']>0) # direction\n",
    "\n",
    "# split\n",
    "n = len(y)\n",
    "print('split size', n//2)\n",
    "X_train, X_test = X[:n//2], X[n//2:]\n",
    "y_train, y_test = y[:n//2], y[n//2:]\n",
    "\n",
    "# scale\n",
    "scaler = RobustScaler()\n",
    "scaler.fit(X_train)\n",
    "X_train2 = scaler.transform(X_train)\n",
    "X_test2 = scaler.transform(X_test)\n",
    "\n",
    "lr = LogisticRegression(class_weight=\"balanced\", penalty=\"l2\", max_iter=380)\n",
    "lr.fit(X_train2, y_train>0)"
   ]
  },
  {
   "cell_type": "code",
   "execution_count": 13,
   "metadata": {},
   "outputs": [
    {
     "data": {
      "text/html": [
       "<div>\n",
       "<style scoped>\n",
       "    .dataframe tbody tr th:only-of-type {\n",
       "        vertical-align: middle;\n",
       "    }\n",
       "\n",
       "    .dataframe tbody tr th {\n",
       "        vertical-align: top;\n",
       "    }\n",
       "\n",
       "    .dataframe thead th {\n",
       "        text-align: right;\n",
       "    }\n",
       "</style>\n",
       "<table border=\"1\" class=\"dataframe\">\n",
       "  <thead>\n",
       "    <tr style=\"text-align: right;\">\n",
       "      <th></th>\n",
       "      <th>desired_answer</th>\n",
       "      <th>input</th>\n",
       "      <th>lie</th>\n",
       "      <th>true_answer</th>\n",
       "      <th>ans1</th>\n",
       "      <th>ans2</th>\n",
       "      <th>true</th>\n",
       "      <th>dir_true</th>\n",
       "      <th>ans</th>\n",
       "    </tr>\n",
       "  </thead>\n",
       "  <tbody>\n",
       "    <tr>\n",
       "      <th>0</th>\n",
       "      <td>True</td>\n",
       "      <td>How can anyone still feed this to children? I ...</td>\n",
       "      <td>True</td>\n",
       "      <td>0</td>\n",
       "      <td>0.519043</td>\n",
       "      <td>0.507324</td>\n",
       "      <td>0</td>\n",
       "      <td>-0.011719</td>\n",
       "      <td>0.513184</td>\n",
       "    </tr>\n",
       "    <tr>\n",
       "      <th>1</th>\n",
       "      <td>False</td>\n",
       "      <td>I ordered this movie from Amazon and it was gr...</td>\n",
       "      <td>False</td>\n",
       "      <td>0</td>\n",
       "      <td>0.588379</td>\n",
       "      <td>0.300537</td>\n",
       "      <td>0</td>\n",
       "      <td>-0.287842</td>\n",
       "      <td>0.444336</td>\n",
       "    </tr>\n",
       "    <tr>\n",
       "      <th>2</th>\n",
       "      <td>True</td>\n",
       "      <td>This movie has the right pedigree - Coen broth...</td>\n",
       "      <td>True</td>\n",
       "      <td>0</td>\n",
       "      <td>0.201538</td>\n",
       "      <td>0.102234</td>\n",
       "      <td>0</td>\n",
       "      <td>-0.099304</td>\n",
       "      <td>0.151855</td>\n",
       "    </tr>\n",
       "    <tr>\n",
       "      <th>3</th>\n",
       "      <td>False</td>\n",
       "      <td>ok so i got the sword and the box it came in w...</td>\n",
       "      <td>False</td>\n",
       "      <td>0</td>\n",
       "      <td>0.366211</td>\n",
       "      <td>0.643555</td>\n",
       "      <td>0</td>\n",
       "      <td>0.277344</td>\n",
       "      <td>0.504883</td>\n",
       "    </tr>\n",
       "    <tr>\n",
       "      <th>4</th>\n",
       "      <td>True</td>\n",
       "      <td>I was anticipating the use of wireless headpho...</td>\n",
       "      <td>True</td>\n",
       "      <td>0</td>\n",
       "      <td>0.479980</td>\n",
       "      <td>0.422119</td>\n",
       "      <td>0</td>\n",
       "      <td>-0.057861</td>\n",
       "      <td>0.451172</td>\n",
       "    </tr>\n",
       "    <tr>\n",
       "      <th>...</th>\n",
       "      <td>...</td>\n",
       "      <td>...</td>\n",
       "      <td>...</td>\n",
       "      <td>...</td>\n",
       "      <td>...</td>\n",
       "      <td>...</td>\n",
       "      <td>...</td>\n",
       "      <td>...</td>\n",
       "      <td>...</td>\n",
       "    </tr>\n",
       "    <tr>\n",
       "      <th>3995</th>\n",
       "      <td>False</td>\n",
       "      <td>As others have said, the instructions were not...</td>\n",
       "      <td>False</td>\n",
       "      <td>0</td>\n",
       "      <td>0.179932</td>\n",
       "      <td>0.211792</td>\n",
       "      <td>0</td>\n",
       "      <td>0.031860</td>\n",
       "      <td>0.195801</td>\n",
       "    </tr>\n",
       "    <tr>\n",
       "      <th>3996</th>\n",
       "      <td>True</td>\n",
       "      <td>This book has great potential but it doesn't l...</td>\n",
       "      <td>True</td>\n",
       "      <td>0</td>\n",
       "      <td>0.032562</td>\n",
       "      <td>0.037292</td>\n",
       "      <td>0</td>\n",
       "      <td>0.004730</td>\n",
       "      <td>0.034912</td>\n",
       "    </tr>\n",
       "    <tr>\n",
       "      <th>3997</th>\n",
       "      <td>True</td>\n",
       "      <td>I was intending to use beta sitosterol for hai...</td>\n",
       "      <td>False</td>\n",
       "      <td>1</td>\n",
       "      <td>0.940430</td>\n",
       "      <td>0.942383</td>\n",
       "      <td>1</td>\n",
       "      <td>0.001953</td>\n",
       "      <td>0.941406</td>\n",
       "    </tr>\n",
       "    <tr>\n",
       "      <th>3998</th>\n",
       "      <td>False</td>\n",
       "      <td>This is really compact and comes with 3 bags t...</td>\n",
       "      <td>True</td>\n",
       "      <td>1</td>\n",
       "      <td>0.963379</td>\n",
       "      <td>0.941895</td>\n",
       "      <td>1</td>\n",
       "      <td>-0.021484</td>\n",
       "      <td>0.952637</td>\n",
       "    </tr>\n",
       "    <tr>\n",
       "      <th>3999</th>\n",
       "      <td>True</td>\n",
       "      <td>I bought the paperback because it sounded inte...</td>\n",
       "      <td>False</td>\n",
       "      <td>1</td>\n",
       "      <td>0.998535</td>\n",
       "      <td>0.997070</td>\n",
       "      <td>1</td>\n",
       "      <td>-0.001465</td>\n",
       "      <td>0.998047</td>\n",
       "    </tr>\n",
       "  </tbody>\n",
       "</table>\n",
       "<p>4000 rows × 9 columns</p>\n",
       "</div>"
      ],
      "text/plain": [
       "      desired_answer                                              input   \n",
       "0               True  How can anyone still feed this to children? I ...  \\\n",
       "1              False  I ordered this movie from Amazon and it was gr...   \n",
       "2               True  This movie has the right pedigree - Coen broth...   \n",
       "3              False  ok so i got the sword and the box it came in w...   \n",
       "4               True  I was anticipating the use of wireless headpho...   \n",
       "...              ...                                                ...   \n",
       "3995           False  As others have said, the instructions were not...   \n",
       "3996            True  This book has great potential but it doesn't l...   \n",
       "3997            True  I was intending to use beta sitosterol for hai...   \n",
       "3998           False  This is really compact and comes with 3 bags t...   \n",
       "3999            True  I bought the paperback because it sounded inte...   \n",
       "\n",
       "        lie  true_answer      ans1      ans2  true  dir_true       ans  \n",
       "0      True            0  0.519043  0.507324     0 -0.011719  0.513184  \n",
       "1     False            0  0.588379  0.300537     0 -0.287842  0.444336  \n",
       "2      True            0  0.201538  0.102234     0 -0.099304  0.151855  \n",
       "3     False            0  0.366211  0.643555     0  0.277344  0.504883  \n",
       "4      True            0  0.479980  0.422119     0 -0.057861  0.451172  \n",
       "...     ...          ...       ...       ...   ...       ...       ...  \n",
       "3995  False            0  0.179932  0.211792     0  0.031860  0.195801  \n",
       "3996   True            0  0.032562  0.037292     0  0.004730  0.034912  \n",
       "3997  False            1  0.940430  0.942383     1  0.001953  0.941406  \n",
       "3998   True            1  0.963379  0.941895     1 -0.021484  0.952637  \n",
       "3999  False            1  0.998535  0.997070     1 -0.001465  0.998047  \n",
       "\n",
       "[4000 rows x 9 columns]"
      ]
     },
     "execution_count": 13,
     "metadata": {},
     "output_type": "execute_result"
    }
   ],
   "source": [
    "df_infos"
   ]
  },
  {
   "cell_type": "code",
   "execution_count": 14,
   "metadata": {},
   "outputs": [
    {
     "name": "stdout",
     "output_type": "stream",
     "text": [
      "Logistic cls acc: 100.00% [TRAIN]\n",
      "Logistic cls acc: 65.10% [TEST]\n",
      "test acc w lie 65.70%\n",
      "test acc wo lie 64.50%\n"
     ]
    }
   ],
   "source": [
    "print(\"Logistic cls acc: {:2.2%} [TRAIN]\".format(lr.score(X_train2, y_train>0)))\n",
    "print(\"Logistic cls acc: {:2.2%} [TEST]\".format(lr.score(X_test2, y_test>0)))\n",
    "\n",
    "m = df_infos['lie'][n//2:]\n",
    "y_test_pred = lr.predict(X_test2)\n",
    "acc_w_lie = ((y_test_pred[m]>0)==(y_test[m]>0)).mean()\n",
    "acc_wo_lie = ((y_test_pred[~m]>0)==(y_test[~m]>0)).mean()\n",
    "print(f'test acc w lie {acc_w_lie:2.2%}')\n",
    "print(f'test acc wo lie {acc_wo_lie:2.2%}')"
   ]
  },
  {
   "cell_type": "code",
   "execution_count": 15,
   "metadata": {},
   "outputs": [
    {
     "data": {
      "text/html": [
       "<div>\n",
       "<style scoped>\n",
       "    .dataframe tbody tr th:only-of-type {\n",
       "        vertical-align: middle;\n",
       "    }\n",
       "\n",
       "    .dataframe tbody tr th {\n",
       "        vertical-align: top;\n",
       "    }\n",
       "\n",
       "    .dataframe thead th {\n",
       "        text-align: right;\n",
       "    }\n",
       "</style>\n",
       "<table border=\"1\" class=\"dataframe\">\n",
       "  <thead>\n",
       "    <tr style=\"text-align: right;\">\n",
       "      <th></th>\n",
       "      <th>desired_answer</th>\n",
       "      <th>input</th>\n",
       "      <th>lie</th>\n",
       "      <th>true_answer</th>\n",
       "      <th>ans1</th>\n",
       "      <th>ans2</th>\n",
       "      <th>true</th>\n",
       "      <th>dir_true</th>\n",
       "      <th>ans</th>\n",
       "      <th>inner_truth</th>\n",
       "    </tr>\n",
       "  </thead>\n",
       "  <tbody>\n",
       "    <tr>\n",
       "      <th>2000</th>\n",
       "      <td>True</td>\n",
       "      <td>Candy is simply a tame attempt to stay relevan...</td>\n",
       "      <td>True</td>\n",
       "      <td>0</td>\n",
       "      <td>0.487793</td>\n",
       "      <td>0.701660</td>\n",
       "      <td>0</td>\n",
       "      <td>0.213867</td>\n",
       "      <td>0.594727</td>\n",
       "      <td>False</td>\n",
       "    </tr>\n",
       "    <tr>\n",
       "      <th>2001</th>\n",
       "      <td>False</td>\n",
       "      <td>I'm going to start saying that i'm reviewing a...</td>\n",
       "      <td>False</td>\n",
       "      <td>0</td>\n",
       "      <td>0.395508</td>\n",
       "      <td>0.429688</td>\n",
       "      <td>0</td>\n",
       "      <td>0.034180</td>\n",
       "      <td>0.412598</td>\n",
       "      <td>True</td>\n",
       "    </tr>\n",
       "    <tr>\n",
       "      <th>2002</th>\n",
       "      <td>True</td>\n",
       "      <td>I am embarrased to admit that I own this book....</td>\n",
       "      <td>True</td>\n",
       "      <td>0</td>\n",
       "      <td>0.742188</td>\n",
       "      <td>0.460449</td>\n",
       "      <td>0</td>\n",
       "      <td>-0.281738</td>\n",
       "      <td>0.601562</td>\n",
       "      <td>True</td>\n",
       "    </tr>\n",
       "    <tr>\n",
       "      <th>2003</th>\n",
       "      <td>True</td>\n",
       "      <td>If you read \"Full Catastrophe Living\" as I did...</td>\n",
       "      <td>False</td>\n",
       "      <td>1</td>\n",
       "      <td>0.965820</td>\n",
       "      <td>0.985840</td>\n",
       "      <td>1</td>\n",
       "      <td>0.020020</td>\n",
       "      <td>0.975586</td>\n",
       "      <td>True</td>\n",
       "    </tr>\n",
       "    <tr>\n",
       "      <th>2004</th>\n",
       "      <td>True</td>\n",
       "      <td>My daughter was so excited for this costume. I...</td>\n",
       "      <td>True</td>\n",
       "      <td>0</td>\n",
       "      <td>0.425781</td>\n",
       "      <td>0.153931</td>\n",
       "      <td>0</td>\n",
       "      <td>-0.271973</td>\n",
       "      <td>0.289795</td>\n",
       "      <td>True</td>\n",
       "    </tr>\n",
       "    <tr>\n",
       "      <th>...</th>\n",
       "      <td>...</td>\n",
       "      <td>...</td>\n",
       "      <td>...</td>\n",
       "      <td>...</td>\n",
       "      <td>...</td>\n",
       "      <td>...</td>\n",
       "      <td>...</td>\n",
       "      <td>...</td>\n",
       "      <td>...</td>\n",
       "      <td>...</td>\n",
       "    </tr>\n",
       "    <tr>\n",
       "      <th>3995</th>\n",
       "      <td>False</td>\n",
       "      <td>As others have said, the instructions were not...</td>\n",
       "      <td>False</td>\n",
       "      <td>0</td>\n",
       "      <td>0.179932</td>\n",
       "      <td>0.211792</td>\n",
       "      <td>0</td>\n",
       "      <td>0.031860</td>\n",
       "      <td>0.195801</td>\n",
       "      <td>True</td>\n",
       "    </tr>\n",
       "    <tr>\n",
       "      <th>3996</th>\n",
       "      <td>True</td>\n",
       "      <td>This book has great potential but it doesn't l...</td>\n",
       "      <td>True</td>\n",
       "      <td>0</td>\n",
       "      <td>0.032562</td>\n",
       "      <td>0.037292</td>\n",
       "      <td>0</td>\n",
       "      <td>0.004730</td>\n",
       "      <td>0.034912</td>\n",
       "      <td>False</td>\n",
       "    </tr>\n",
       "    <tr>\n",
       "      <th>3997</th>\n",
       "      <td>True</td>\n",
       "      <td>I was intending to use beta sitosterol for hai...</td>\n",
       "      <td>False</td>\n",
       "      <td>1</td>\n",
       "      <td>0.940430</td>\n",
       "      <td>0.942383</td>\n",
       "      <td>1</td>\n",
       "      <td>0.001953</td>\n",
       "      <td>0.941406</td>\n",
       "      <td>True</td>\n",
       "    </tr>\n",
       "    <tr>\n",
       "      <th>3998</th>\n",
       "      <td>False</td>\n",
       "      <td>This is really compact and comes with 3 bags t...</td>\n",
       "      <td>True</td>\n",
       "      <td>1</td>\n",
       "      <td>0.963379</td>\n",
       "      <td>0.941895</td>\n",
       "      <td>1</td>\n",
       "      <td>-0.021484</td>\n",
       "      <td>0.952637</td>\n",
       "      <td>False</td>\n",
       "    </tr>\n",
       "    <tr>\n",
       "      <th>3999</th>\n",
       "      <td>True</td>\n",
       "      <td>I bought the paperback because it sounded inte...</td>\n",
       "      <td>False</td>\n",
       "      <td>1</td>\n",
       "      <td>0.998535</td>\n",
       "      <td>0.997070</td>\n",
       "      <td>1</td>\n",
       "      <td>-0.001465</td>\n",
       "      <td>0.998047</td>\n",
       "      <td>False</td>\n",
       "    </tr>\n",
       "  </tbody>\n",
       "</table>\n",
       "<p>2000 rows × 10 columns</p>\n",
       "</div>"
      ],
      "text/plain": [
       "      desired_answer                                              input   \n",
       "2000            True  Candy is simply a tame attempt to stay relevan...  \\\n",
       "2001           False  I'm going to start saying that i'm reviewing a...   \n",
       "2002            True  I am embarrased to admit that I own this book....   \n",
       "2003            True  If you read \"Full Catastrophe Living\" as I did...   \n",
       "2004            True  My daughter was so excited for this costume. I...   \n",
       "...              ...                                                ...   \n",
       "3995           False  As others have said, the instructions were not...   \n",
       "3996            True  This book has great potential but it doesn't l...   \n",
       "3997            True  I was intending to use beta sitosterol for hai...   \n",
       "3998           False  This is really compact and comes with 3 bags t...   \n",
       "3999            True  I bought the paperback because it sounded inte...   \n",
       "\n",
       "        lie  true_answer      ans1      ans2  true  dir_true       ans   \n",
       "2000   True            0  0.487793  0.701660     0  0.213867  0.594727  \\\n",
       "2001  False            0  0.395508  0.429688     0  0.034180  0.412598   \n",
       "2002   True            0  0.742188  0.460449     0 -0.281738  0.601562   \n",
       "2003  False            1  0.965820  0.985840     1  0.020020  0.975586   \n",
       "2004   True            0  0.425781  0.153931     0 -0.271973  0.289795   \n",
       "...     ...          ...       ...       ...   ...       ...       ...   \n",
       "3995  False            0  0.179932  0.211792     0  0.031860  0.195801   \n",
       "3996   True            0  0.032562  0.037292     0  0.004730  0.034912   \n",
       "3997  False            1  0.940430  0.942383     1  0.001953  0.941406   \n",
       "3998   True            1  0.963379  0.941895     1 -0.021484  0.952637   \n",
       "3999  False            1  0.998535  0.997070     1 -0.001465  0.998047   \n",
       "\n",
       "      inner_truth  \n",
       "2000        False  \n",
       "2001         True  \n",
       "2002         True  \n",
       "2003         True  \n",
       "2004         True  \n",
       "...           ...  \n",
       "3995         True  \n",
       "3996        False  \n",
       "3997         True  \n",
       "3998        False  \n",
       "3999        False  \n",
       "\n",
       "[2000 rows x 10 columns]"
      ]
     },
     "execution_count": 15,
     "metadata": {},
     "output_type": "execute_result"
    }
   ],
   "source": [
    "df_info_test = df_infos.iloc[n//2:].copy()\n",
    "y_pred = lr.predict(X_test2)\n",
    "df_info_test['inner_truth'] = y_pred\n",
    "df_info_test"
   ]
  },
  {
   "attachments": {},
   "cell_type": "markdown",
   "metadata": {},
   "source": [
    "### Result, detecting deception?"
   ]
  },
  {
   "cell_type": "code",
   "execution_count": 16,
   "metadata": {},
   "outputs": [
    {
     "name": "stdout",
     "output_type": "stream",
     "text": [
      "model can detect lies with acc 52.00%\n",
      "w lies 1000/2000 test rows\n"
     ]
    }
   ],
   "source": [
    "lie_pred = df_info_test['inner_truth']==df_info_test['true_answer']\n",
    "lie_true = df_info_test['lie']\n",
    "acc_lie = accuracy_score(lie_pred, lie_true)\n",
    "print(f\"model can detect lies with acc {acc_lie:2.2%}\")\n",
    "print(f\"w lies {sum(lie_true)}/{len(lie_true)} test rows\")"
   ]
  },
  {
   "attachments": {},
   "cell_type": "markdown",
   "metadata": {},
   "source": [
    "## Try a regression of the vector (magnitude and direction) vs truth"
   ]
  },
  {
   "cell_type": "code",
   "execution_count": 17,
   "metadata": {},
   "outputs": [],
   "source": [
    "bool_to_switch = lambda b:b*2-1\n",
    "true_answer_switch = bool_to_switch(df_infos['true_answer'])\n",
    "y = y_left_more_true = df_infos['dir_true'] * true_answer_switch\n"
   ]
  },
  {
   "cell_type": "code",
   "execution_count": 18,
   "metadata": {},
   "outputs": [
    {
     "name": "stdout",
     "output_type": "stream",
     "text": [
      "split size 2000\n"
     ]
    },
    {
     "data": {
      "text/html": [
       "<style>#sk-container-id-2 {color: black;background-color: white;}#sk-container-id-2 pre{padding: 0;}#sk-container-id-2 div.sk-toggleable {background-color: white;}#sk-container-id-2 label.sk-toggleable__label {cursor: pointer;display: block;width: 100%;margin-bottom: 0;padding: 0.3em;box-sizing: border-box;text-align: center;}#sk-container-id-2 label.sk-toggleable__label-arrow:before {content: \"▸\";float: left;margin-right: 0.25em;color: #696969;}#sk-container-id-2 label.sk-toggleable__label-arrow:hover:before {color: black;}#sk-container-id-2 div.sk-estimator:hover label.sk-toggleable__label-arrow:before {color: black;}#sk-container-id-2 div.sk-toggleable__content {max-height: 0;max-width: 0;overflow: hidden;text-align: left;background-color: #f0f8ff;}#sk-container-id-2 div.sk-toggleable__content pre {margin: 0.2em;color: black;border-radius: 0.25em;background-color: #f0f8ff;}#sk-container-id-2 input.sk-toggleable__control:checked~div.sk-toggleable__content {max-height: 200px;max-width: 100%;overflow: auto;}#sk-container-id-2 input.sk-toggleable__control:checked~label.sk-toggleable__label-arrow:before {content: \"▾\";}#sk-container-id-2 div.sk-estimator input.sk-toggleable__control:checked~label.sk-toggleable__label {background-color: #d4ebff;}#sk-container-id-2 div.sk-label input.sk-toggleable__control:checked~label.sk-toggleable__label {background-color: #d4ebff;}#sk-container-id-2 input.sk-hidden--visually {border: 0;clip: rect(1px 1px 1px 1px);clip: rect(1px, 1px, 1px, 1px);height: 1px;margin: -1px;overflow: hidden;padding: 0;position: absolute;width: 1px;}#sk-container-id-2 div.sk-estimator {font-family: monospace;background-color: #f0f8ff;border: 1px dotted black;border-radius: 0.25em;box-sizing: border-box;margin-bottom: 0.5em;}#sk-container-id-2 div.sk-estimator:hover {background-color: #d4ebff;}#sk-container-id-2 div.sk-parallel-item::after {content: \"\";width: 100%;border-bottom: 1px solid gray;flex-grow: 1;}#sk-container-id-2 div.sk-label:hover label.sk-toggleable__label {background-color: #d4ebff;}#sk-container-id-2 div.sk-serial::before {content: \"\";position: absolute;border-left: 1px solid gray;box-sizing: border-box;top: 0;bottom: 0;left: 50%;z-index: 0;}#sk-container-id-2 div.sk-serial {display: flex;flex-direction: column;align-items: center;background-color: white;padding-right: 0.2em;padding-left: 0.2em;position: relative;}#sk-container-id-2 div.sk-item {position: relative;z-index: 1;}#sk-container-id-2 div.sk-parallel {display: flex;align-items: stretch;justify-content: center;background-color: white;position: relative;}#sk-container-id-2 div.sk-item::before, #sk-container-id-2 div.sk-parallel-item::before {content: \"\";position: absolute;border-left: 1px solid gray;box-sizing: border-box;top: 0;bottom: 0;left: 50%;z-index: -1;}#sk-container-id-2 div.sk-parallel-item {display: flex;flex-direction: column;z-index: 1;position: relative;background-color: white;}#sk-container-id-2 div.sk-parallel-item:first-child::after {align-self: flex-end;width: 50%;}#sk-container-id-2 div.sk-parallel-item:last-child::after {align-self: flex-start;width: 50%;}#sk-container-id-2 div.sk-parallel-item:only-child::after {width: 0;}#sk-container-id-2 div.sk-dashed-wrapped {border: 1px dashed gray;margin: 0 0.4em 0.5em 0.4em;box-sizing: border-box;padding-bottom: 0.4em;background-color: white;}#sk-container-id-2 div.sk-label label {font-family: monospace;font-weight: bold;display: inline-block;line-height: 1.2em;}#sk-container-id-2 div.sk-label-container {text-align: center;}#sk-container-id-2 div.sk-container {/* jupyter's `normalize.less` sets `[hidden] { display: none; }` but bootstrap.min.css set `[hidden] { display: none !important; }` so we also need the `!important` here to be able to override the default hidden behavior on the sphinx rendered scikit-learn.org. See: https://github.com/scikit-learn/scikit-learn/issues/21755 */display: inline-block !important;position: relative;}#sk-container-id-2 div.sk-text-repr-fallback {display: none;}</style><div id=\"sk-container-id-2\" class=\"sk-top-container\"><div class=\"sk-text-repr-fallback\"><pre>ElasticNet()</pre><b>In a Jupyter environment, please rerun this cell to show the HTML representation or trust the notebook. <br />On GitHub, the HTML representation is unable to render, please try loading this page with nbviewer.org.</b></div><div class=\"sk-container\" hidden><div class=\"sk-item\"><div class=\"sk-estimator sk-toggleable\"><input class=\"sk-toggleable__control sk-hidden--visually\" id=\"sk-estimator-id-2\" type=\"checkbox\" checked><label for=\"sk-estimator-id-2\" class=\"sk-toggleable__label sk-toggleable__label-arrow\">ElasticNet</label><div class=\"sk-toggleable__content\"><pre>ElasticNet()</pre></div></div></div></div></div>"
      ],
      "text/plain": [
       "ElasticNet()"
      ]
     },
     "execution_count": 18,
     "metadata": {},
     "output_type": "execute_result"
    }
   ],
   "source": [
    "# Try a regression\n",
    "from sklearn.linear_model import ElasticNet\n",
    "\n",
    "# Try a classification of direction\n",
    "n = len(df_infos)\n",
    "\n",
    "# Define X and y\n",
    "X = hss1-hss2\n",
    "y = y_left_more_true * 10\n",
    "\n",
    "# split\n",
    "# y = df_infos2['dir2'] * 100\n",
    "n = len(y)\n",
    "print('split size', n//2)\n",
    "X_train, X_test = X[:n//2], X[n//2:]\n",
    "y_train, y_test = y[:n//2], y[n//2:]\n",
    "\n",
    "# scale\n",
    "scaler = RobustScaler()\n",
    "scaler.fit(X_train)\n",
    "X_train2 = scaler.transform(X_train)\n",
    "X_test2 = scaler.transform(X_test)\n",
    "\n",
    "X_train2 = X_train\n",
    "X_test2 = X_test2\n",
    "\n",
    "lr2 = ElasticNet(max_iter=1000,)\n",
    "lr2.fit(X_train2, y_train)"
   ]
  },
  {
   "cell_type": "code",
   "execution_count": 19,
   "metadata": {},
   "outputs": [
    {
     "name": "stdout",
     "output_type": "stream",
     "text": [
      "acc from train ElasticNet 0.59\n",
      "acc from test ElasticNet 0.58\n"
     ]
    }
   ],
   "source": [
    "eps = 0.\n",
    "acc=np.mean((lr2.predict(X_train2)>eps)==(y_train>eps))\n",
    "print(f'acc from train ElasticNet {acc:2.2f}')\n",
    "acc=np.mean((lr2.predict(X_test2)>eps)==(y_test>eps))\n",
    "print(f'acc from test ElasticNet {acc:2.2f}')"
   ]
  },
  {
   "cell_type": "code",
   "execution_count": 20,
   "metadata": {},
   "outputs": [
    {
     "data": {
      "text/plain": [
       "Text(0.5, 1.0, 'pred vs true on test')"
      ]
     },
     "execution_count": 20,
     "metadata": {},
     "output_type": "execute_result"
    },
    {
     "data": {
      "image/png": "[encoded data removed]",
      "text/plain": [
       "<Figure size 640x480 with 1 Axes>"
      ]
     },
     "metadata": {},
     "output_type": "display_data"
    }
   ],
   "source": [
    "y_test_pred = lr2.predict(X_test)\n",
    "plt.scatter(y_test, y_test_pred)\n",
    "plt.xlabel('true')\n",
    "plt.ylabel('pred')\n",
    "plt.title('pred vs true on test')"
   ]
  },
  {
   "attachments": {},
   "cell_type": "markdown",
   "metadata": {},
   "source": [
    "# LightningModel"
   ]
  },
  {
   "cell_type": "code",
   "execution_count": 21,
   "metadata": {},
   "outputs": [],
   "source": [
    "class MLPProbe(nn.Module):\n",
    "    def __init__(self, d, depth=0, hs=16, dropout=0):\n",
    "        super().__init__()\n",
    "\n",
    "        layers = [\n",
    "            nn.BatchNorm1d(d),  # this will normalise the inputs\n",
    "            nn.Linear(d, hs),\n",
    "            nn.Dropout1d(dropout),\n",
    "        ]\n",
    "        for _ in range(depth):\n",
    "            layers += [\n",
    "                nn.Linear(hs, hs),\n",
    "                nn.ReLU(),\n",
    "                nn.Dropout1d(dropout),\n",
    "            ]\n",
    "        layers += [nn.Linear(hs, 1)]\n",
    "        self.net = nn.Sequential(*layers)\n",
    "\n",
    "    def forward(self, x):\n",
    "        return self.net(x)\n"
   ]
  },
  {
   "cell_type": "code",
   "execution_count": 22,
   "metadata": {},
   "outputs": [],
   "source": [
    "# logit0 = (torch.rand(5, 4)-0.5)*100\n",
    "# logit1 = (torch.rand(5, 4)-0.5)*100\n",
    "# ccs_squared_loss(logit0, logit1)"
   ]
  },
  {
   "cell_type": "code",
   "execution_count": 23,
   "metadata": {},
   "outputs": [],
   "source": [
    "from pytorch_optimizer import Ranger21\n",
    "import torchmetrics\n",
    "\n",
    "    \n",
    "class CSS(pl.LightningModule):\n",
    "    def __init__(self, d, total_steps, lr=4e-3, weight_decay=1e-9, dropout=0):\n",
    "        super().__init__()\n",
    "        self.probe = MLPProbe(d, depth=1, dropout=dropout)\n",
    "        self.save_hyperparameters()\n",
    "        self.auroc = torchmetrics.Accuracy(task=\"multiclass\", num_classes=2)\n",
    "        \n",
    "    def forward(self, x):\n",
    "        return self.probe(x)\n",
    "        \n",
    "    def _step(self, batch, batch_idx, stage='train'):\n",
    "        x0, x1, y = batch\n",
    "        logit0, logit1 = self(x0), self(x1)\n",
    "        logits = torch.concatenate([logit0, logit1], 1)\n",
    "        y_pred = F.softmax(logits, -1)\n",
    "        if stage=='pred':\n",
    "            return y_pred\n",
    "        \n",
    "        loss = F.cross_entropy(logits, y.long())\n",
    "        self.log(f\"{stage}/loss\", loss)\n",
    "        \n",
    "        self.auroc(y_pred, y.long())\n",
    "        self.log(f\"{stage}/acc_step\", self.auroc, on_step=False, on_epoch=True)\n",
    "        return loss\n",
    "    \n",
    "    def on_train_epoch_end(self):\n",
    "        # log epoch metric\n",
    "        self.log('train/acc_epoch', self.auroc)\n",
    "    \n",
    "    def training_step(self, batch, batch_idx):\n",
    "        return self._step(batch, batch_idx)\n",
    "    \n",
    "    def validation_step(self, batch, batch_idx=0):\n",
    "        return self._step(batch, batch_idx, stage='val')\n",
    "    \n",
    "    def predict_step(self, batch, batch_idx):\n",
    "        return self._step(batch, batch_idx, stage='pred')\n",
    "\n",
    "    # def configure_optimizers(self):\n",
    "    #     optimizer = optim.AdamW(self.parameters(), lr=self.hparams.lr, weight_decay=self.hparams.weight_decay)\n",
    "    #     lr_scheduler = optim.lr_scheduler.OneCycleLR(\n",
    "    #         optimizer, self.hparams.lr, total_steps=self.hparams.total_steps\n",
    "    #     )\n",
    "        # return [optimizer], [lr_scheduler]\n",
    "    \n",
    "    def configure_optimizers(self):\n",
    "        \"\"\"use ranger21 from  https://github.com/kozistr/pytorch_optimizer\"\"\"\n",
    "        optimizer = Ranger21(\n",
    "            self.parameters(),\n",
    "            lr=self.hparams.lr,\n",
    "            weight_decay=self.hparams.weight_decay,       \n",
    "            num_iterations=self.hparams.total_steps,\n",
    "        )\n",
    "        return optimizer\n",
    "    "
   ]
  },
  {
   "attachments": {},
   "cell_type": "markdown",
   "metadata": {},
   "source": [
    "# Run"
   ]
  },
  {
   "cell_type": "code",
   "execution_count": 24,
   "metadata": {},
   "outputs": [],
   "source": [
    "# quiet please\n",
    "torch.set_float32_matmul_precision('medium')\n",
    "\n",
    "import warnings\n",
    "warnings.filterwarnings(\"ignore\", \".*does not have many workers.*\")\n",
    "warnings.filterwarnings(\"ignore\", \".*F-score.*\")"
   ]
  },
  {
   "attachments": {},
   "cell_type": "markdown",
   "metadata": {},
   "source": [
    "## Prep dataloader/set"
   ]
  },
  {
   "cell_type": "code",
   "execution_count": 25,
   "metadata": {},
   "outputs": [
    {
     "name": "stdout",
     "output_type": "stream",
     "text": [
      "split size 2000\n"
     ]
    }
   ],
   "source": [
    "# split\n",
    "X = hss1-hss2\n",
    "y = (df_infos['true_answer'] == (df_infos['dir_true']>0)).values # direction\n",
    "n = len(y)\n",
    "print('split size', n//2)\n",
    "\n",
    "neg_hs_train = hss1[:n//2]\n",
    "pos_hs_train = hss2[:n//2]\n",
    "\n",
    "neg_hs_val = hss1[n//2:]\n",
    "pos_hs_val = hss2[n//2:]\n",
    "\n",
    "y_train, y_val = y[:n//2], y[n//2:]"
   ]
  },
  {
   "cell_type": "code",
   "execution_count": 26,
   "metadata": {},
   "outputs": [],
   "source": [
    "dl_train = dm.train_dataloader()\n",
    "dl_val = dm.val_dataloader()\n",
    "b = next(iter(dl_train))\n",
    "# b"
   ]
  },
  {
   "cell_type": "code",
   "execution_count": 27,
   "metadata": {},
   "outputs": [
    {
     "data": {
      "text/plain": [
       "CSS(\n",
       "  (probe): MLPProbe(\n",
       "    (net): Sequential(\n",
       "      (0): BatchNorm1d(116736, eps=1e-05, momentum=0.1, affine=True, track_running_stats=True)\n",
       "      (1): Linear(in_features=116736, out_features=16, bias=True)\n",
       "      (2): Dropout1d(p=0.2, inplace=False)\n",
       "      (3): Linear(in_features=16, out_features=16, bias=True)\n",
       "      (4): ReLU()\n",
       "      (5): Dropout1d(p=0.2, inplace=False)\n",
       "      (6): Linear(in_features=16, out_features=1, bias=True)\n",
       "    )\n",
       "  )\n",
       "  (auroc): MulticlassAccuracy()\n",
       ")"
      ]
     },
     "execution_count": 27,
     "metadata": {},
     "output_type": "execute_result"
    }
   ],
   "source": [
    "# init the model\n",
    "max_epochs = 50\n",
    "d = b[0].shape[-1]\n",
    "net = CSS(d=d, total_steps=max_epochs*len(dl_train), lr=4e-3, weight_decay=1e-1, dropout=0.2)\n",
    "net"
   ]
  },
  {
   "cell_type": "code",
   "execution_count": 28,
   "metadata": {},
   "outputs": [],
   "source": [
    "# with torch.no_grad():\n",
    "#     b = next(iter(dl_train))\n",
    "#     b2 = [bb.to(net.device) for bb in b]\n",
    "#     y = net(b2[0])\n",
    "# y"
   ]
  },
  {
   "cell_type": "code",
   "execution_count": 29,
   "metadata": {},
   "outputs": [],
   "source": [
    "# # DEBUG\n",
    "# trainer = pl.Trainer(fast_dev_run=2)\n",
    "# trainer.fit(model=net, train_dataloaders=dl_train)"
   ]
  },
  {
   "cell_type": "code",
   "execution_count": 42,
   "metadata": {},
   "outputs": [
    {
     "name": "stderr",
     "output_type": "stream",
     "text": [
      "/home/ubuntu/mambaforge/envs/dlk2/lib/python3.9/site-packages/lightning/fabric/connector.py:562: UserWarning: bf16 is supported for historical reasons but its usage is discouraged. Please set your precision to bf16-mixed instead!\n",
      "  rank_zero_warn(\n",
      "Using bfloat16 Automatic Mixed Precision (AMP)\n"
     ]
    },
    {
     "name": "stderr",
     "output_type": "stream",
     "text": [
      "GPU available: True (cuda), used: True\n",
      "TPU available: False, using: 0 TPU cores\n",
      "IPU available: False, using: 0 IPUs\n",
      "HPU available: False, using: 0 HPUs\n",
      "/home/ubuntu/mambaforge/envs/dlk2/lib/python3.9/site-packages/lightning/pytorch/trainer/connectors/logger_connector/logger_connector.py:67: UserWarning: Starting from v1.9.0, `tensorboardX` has been removed as a dependency of the `lightning.pytorch` package, due to potential conflicts with other packages in the ML ecosystem. For this reason, `logger=True` will use `CSVLogger` as the default logger, unless the `tensorboard` or `tensorboardX` packages are found. Please `pip install lightning[extra]` or one of them to enable TensorBoard support by default\n",
      "  warning_cache.warn(\n",
      "LOCAL_RANK: 0 - CUDA_VISIBLE_DEVICES: [0]\n",
      "\n",
      "  | Name  | Type               | Params\n",
      "---------------------------------------------\n",
      "0 | probe | MLPProbe           | 2.1 M \n",
      "1 | auroc | MulticlassAccuracy | 0     \n",
      "---------------------------------------------\n",
      "2.1 M     Trainable params\n",
      "0         Non-trainable params\n",
      "2.1 M     Total params\n",
      "8.406     Total estimated model params size (MB)\n"
     ]
    },
    {
     "data": {
      "application/vnd.jupyter.widget-view+json": {
       "model_id": "406453a9c7c6438e9b6410dfec51e63a",
       "version_major": 2,
       "version_minor": 0
      },
      "text/plain": [
       "Sanity Checking: 0it [00:00, ?it/s]"
      ]
     },
     "metadata": {},
     "output_type": "display_data"
    },
    {
     "data": {
      "application/vnd.jupyter.widget-view+json": {
       "model_id": "7f10a74912114c9d87d58a4da248fd27",
       "version_major": 2,
       "version_minor": 0
      },
      "text/plain": [
       "Training: 0it [00:00, ?it/s]"
      ]
     },
     "metadata": {},
     "output_type": "display_data"
    },
    {
     "data": {
      "application/vnd.jupyter.widget-view+json": {
       "model_id": "9472ed0c49714ea3a2b4c0087cb41940",
       "version_major": 2,
       "version_minor": 0
      },
      "text/plain": [
       "Validation: 0it [00:00, ?it/s]"
      ]
     },
     "metadata": {},
     "output_type": "display_data"
    },
    {
     "name": "stderr",
     "output_type": "stream",
     "text": [
      "/home/ubuntu/mambaforge/envs/dlk2/lib/python3.9/site-packages/torchmetrics/utilities/prints.py:36: UserWarning: The ``compute`` method of metric MulticlassAccuracy was called before the ``update`` method which may lead to errors, as metric states have not yet been updated.\n",
      "  warnings.warn(*args, **kwargs)\n"
     ]
    },
    {
     "data": {
      "application/vnd.jupyter.widget-view+json": {
       "model_id": "b9998739d6664820a422065cfa86ae5b",
       "version_major": 2,
       "version_minor": 0
      },
      "text/plain": [
       "Validation: 0it [00:00, ?it/s]"
      ]
     },
     "metadata": {},
     "output_type": "display_data"
    },
    {
     "data": {
      "application/vnd.jupyter.widget-view+json": {
       "model_id": "dce3b84fc98e42a1a7249a254f83098f",
       "version_major": 2,
       "version_minor": 0
      },
      "text/plain": [
       "Validation: 0it [00:00, ?it/s]"
      ]
     },
     "metadata": {},
     "output_type": "display_data"
    },
    {
     "data": {
      "application/vnd.jupyter.widget-view+json": {
       "model_id": "af652064eb9d43e9a7b90651266474e3",
       "version_major": 2,
       "version_minor": 0
      },
      "text/plain": [
       "Validation: 0it [00:00, ?it/s]"
      ]
     },
     "metadata": {},
     "output_type": "display_data"
    },
    {
     "data": {
      "application/vnd.jupyter.widget-view+json": {
       "model_id": "e8b91977e81a4e1ea3b4e7eb3119aa5b",
       "version_major": 2,
       "version_minor": 0
      },
      "text/plain": [
       "Validation: 0it [00:00, ?it/s]"
      ]
     },
     "metadata": {},
     "output_type": "display_data"
    },
    {
     "data": {
      "application/vnd.jupyter.widget-view+json": {
       "model_id": "cbf5d3dc65ac4e39bdcb8b3f34db2ba7",
       "version_major": 2,
       "version_minor": 0
      },
      "text/plain": [
       "Validation: 0it [00:00, ?it/s]"
      ]
     },
     "metadata": {},
     "output_type": "display_data"
    },
    {
     "data": {
      "application/vnd.jupyter.widget-view+json": {
       "model_id": "73b5b1bf07de4efcbee1fe49d50d2033",
       "version_major": 2,
       "version_minor": 0
      },
      "text/plain": [
       "Validation: 0it [00:00, ?it/s]"
      ]
     },
     "metadata": {},
     "output_type": "display_data"
    },
    {
     "data": {
      "application/vnd.jupyter.widget-view+json": {
       "model_id": "1914cad6dbf041a8a2580fa7de6eb8ac",
       "version_major": 2,
       "version_minor": 0
      },
      "text/plain": [
       "Validation: 0it [00:00, ?it/s]"
      ]
     },
     "metadata": {},
     "output_type": "display_data"
    },
    {
     "data": {
      "application/vnd.jupyter.widget-view+json": {
       "model_id": "61750722dc6a44b6be92d36fc4f5603f",
       "version_major": 2,
       "version_minor": 0
      },
      "text/plain": [
       "Validation: 0it [00:00, ?it/s]"
      ]
     },
     "metadata": {},
     "output_type": "display_data"
    },
    {
     "data": {
      "application/vnd.jupyter.widget-view+json": {
       "model_id": "9e3ab9723b6d4807a6e22bd706dfd694",
       "version_major": 2,
       "version_minor": 0
      },
      "text/plain": [
       "Validation: 0it [00:00, ?it/s]"
      ]
     },
     "metadata": {},
     "output_type": "display_data"
    },
    {
     "data": {
      "application/vnd.jupyter.widget-view+json": {
       "model_id": "4021bea3d0ac4357b8abe124e7d8b6d1",
       "version_major": 2,
       "version_minor": 0
      },
      "text/plain": [
       "Validation: 0it [00:00, ?it/s]"
      ]
     },
     "metadata": {},
     "output_type": "display_data"
    },
    {
     "data": {
      "application/vnd.jupyter.widget-view+json": {
       "model_id": "2dfcb05af48d46e28b2a4fb24fdec254",
       "version_major": 2,
       "version_minor": 0
      },
      "text/plain": [
       "Validation: 0it [00:00, ?it/s]"
      ]
     },
     "metadata": {},
     "output_type": "display_data"
    },
    {
     "data": {
      "application/vnd.jupyter.widget-view+json": {
       "model_id": "34c0d0f012fb4dfeb319b49ca810b7c9",
       "version_major": 2,
       "version_minor": 0
      },
      "text/plain": [
       "Validation: 0it [00:00, ?it/s]"
      ]
     },
     "metadata": {},
     "output_type": "display_data"
    },
    {
     "data": {
      "application/vnd.jupyter.widget-view+json": {
       "model_id": "10ded32b5b4c43f0933ac4923ee1ce95",
       "version_major": 2,
       "version_minor": 0
      },
      "text/plain": [
       "Validation: 0it [00:00, ?it/s]"
      ]
     },
     "metadata": {},
     "output_type": "display_data"
    },
    {
     "data": {
      "application/vnd.jupyter.widget-view+json": {
       "model_id": "9d9c32a1128e4630971f1d343b9210c5",
       "version_major": 2,
       "version_minor": 0
      },
      "text/plain": [
       "Validation: 0it [00:00, ?it/s]"
      ]
     },
     "metadata": {},
     "output_type": "display_data"
    },
    {
     "data": {
      "application/vnd.jupyter.widget-view+json": {
       "model_id": "76cea65d4aee47738c583c6069b43213",
       "version_major": 2,
       "version_minor": 0
      },
      "text/plain": [
       "Validation: 0it [00:00, ?it/s]"
      ]
     },
     "metadata": {},
     "output_type": "display_data"
    },
    {
     "data": {
      "application/vnd.jupyter.widget-view+json": {
       "model_id": "f1264ec1cf70414a9d61f328bf9639df",
       "version_major": 2,
       "version_minor": 0
      },
      "text/plain": [
       "Validation: 0it [00:00, ?it/s]"
      ]
     },
     "metadata": {},
     "output_type": "display_data"
    },
    {
     "data": {
      "application/vnd.jupyter.widget-view+json": {
       "model_id": "191b3525e65a478dbf2c2bcb98773f0a",
       "version_major": 2,
       "version_minor": 0
      },
      "text/plain": [
       "Validation: 0it [00:00, ?it/s]"
      ]
     },
     "metadata": {},
     "output_type": "display_data"
    },
    {
     "data": {
      "application/vnd.jupyter.widget-view+json": {
       "model_id": "bcc99b6b01ca4cfa82457f85a34ac905",
       "version_major": 2,
       "version_minor": 0
      },
      "text/plain": [
       "Validation: 0it [00:00, ?it/s]"
      ]
     },
     "metadata": {},
     "output_type": "display_data"
    },
    {
     "data": {
      "application/vnd.jupyter.widget-view+json": {
       "model_id": "fedc028d439b45d09e801a0eaae101a5",
       "version_major": 2,
       "version_minor": 0
      },
      "text/plain": [
       "Validation: 0it [00:00, ?it/s]"
      ]
     },
     "metadata": {},
     "output_type": "display_data"
    },
    {
     "data": {
      "application/vnd.jupyter.widget-view+json": {
       "model_id": "aacb45c9d3904109b7599213d149e5fe",
       "version_major": 2,
       "version_minor": 0
      },
      "text/plain": [
       "Validation: 0it [00:00, ?it/s]"
      ]
     },
     "metadata": {},
     "output_type": "display_data"
    },
    {
     "data": {
      "application/vnd.jupyter.widget-view+json": {
       "model_id": "1ccf70d911e74b67835a5eb36b34e098",
       "version_major": 2,
       "version_minor": 0
      },
      "text/plain": [
       "Validation: 0it [00:00, ?it/s]"
      ]
     },
     "metadata": {},
     "output_type": "display_data"
    },
    {
     "data": {
      "application/vnd.jupyter.widget-view+json": {
       "model_id": "c6a171d1ea0e44979bb18573c175240c",
       "version_major": 2,
       "version_minor": 0
      },
      "text/plain": [
       "Validation: 0it [00:00, ?it/s]"
      ]
     },
     "metadata": {},
     "output_type": "display_data"
    },
    {
     "data": {
      "application/vnd.jupyter.widget-view+json": {
       "model_id": "3305a86676cc4ce7bcb0ae0af9208143",
       "version_major": 2,
       "version_minor": 0
      },
      "text/plain": [
       "Validation: 0it [00:00, ?it/s]"
      ]
     },
     "metadata": {},
     "output_type": "display_data"
    },
    {
     "data": {
      "application/vnd.jupyter.widget-view+json": {
       "model_id": "cd17ed51ce0f4ede99751552b12bf7c8",
       "version_major": 2,
       "version_minor": 0
      },
      "text/plain": [
       "Validation: 0it [00:00, ?it/s]"
      ]
     },
     "metadata": {},
     "output_type": "display_data"
    },
    {
     "data": {
      "application/vnd.jupyter.widget-view+json": {
       "model_id": "45507bfabc1d4029a9205c2a55c9f390",
       "version_major": 2,
       "version_minor": 0
      },
      "text/plain": [
       "Validation: 0it [00:00, ?it/s]"
      ]
     },
     "metadata": {},
     "output_type": "display_data"
    },
    {
     "data": {
      "application/vnd.jupyter.widget-view+json": {
       "model_id": "7b4eabef9d694d59a6532a1bb6e4a70a",
       "version_major": 2,
       "version_minor": 0
      },
      "text/plain": [
       "Validation: 0it [00:00, ?it/s]"
      ]
     },
     "metadata": {},
     "output_type": "display_data"
    },
    {
     "data": {
      "application/vnd.jupyter.widget-view+json": {
       "model_id": "d75572c445f040beac112037934cbe59",
       "version_major": 2,
       "version_minor": 0
      },
      "text/plain": [
       "Validation: 0it [00:00, ?it/s]"
      ]
     },
     "metadata": {},
     "output_type": "display_data"
    },
    {
     "data": {
      "application/vnd.jupyter.widget-view+json": {
       "model_id": "4285eae11fab4f09a1a87e889c2dfa3f",
       "version_major": 2,
       "version_minor": 0
      },
      "text/plain": [
       "Validation: 0it [00:00, ?it/s]"
      ]
     },
     "metadata": {},
     "output_type": "display_data"
    },
    {
     "data": {
      "application/vnd.jupyter.widget-view+json": {
       "model_id": "8d0264fa6472467eaa07e46d6d8b9848",
       "version_major": 2,
       "version_minor": 0
      },
      "text/plain": [
       "Validation: 0it [00:00, ?it/s]"
      ]
     },
     "metadata": {},
     "output_type": "display_data"
    },
    {
     "data": {
      "application/vnd.jupyter.widget-view+json": {
       "model_id": "20e4aced13cb4a1ebad0c1a6ec2eb2de",
       "version_major": 2,
       "version_minor": 0
      },
      "text/plain": [
       "Validation: 0it [00:00, ?it/s]"
      ]
     },
     "metadata": {},
     "output_type": "display_data"
    },
    {
     "data": {
      "application/vnd.jupyter.widget-view+json": {
       "model_id": "b29480fc3ab34d869f4e428fde7c45ee",
       "version_major": 2,
       "version_minor": 0
      },
      "text/plain": [
       "Validation: 0it [00:00, ?it/s]"
      ]
     },
     "metadata": {},
     "output_type": "display_data"
    },
    {
     "data": {
      "application/vnd.jupyter.widget-view+json": {
       "model_id": "8aeeeafec21c4b44be3c4027ebde40c7",
       "version_major": 2,
       "version_minor": 0
      },
      "text/plain": [
       "Validation: 0it [00:00, ?it/s]"
      ]
     },
     "metadata": {},
     "output_type": "display_data"
    },
    {
     "data": {
      "application/vnd.jupyter.widget-view+json": {
       "model_id": "84dcb64f14a1496eaba0205cfa3213c9",
       "version_major": 2,
       "version_minor": 0
      },
      "text/plain": [
       "Validation: 0it [00:00, ?it/s]"
      ]
     },
     "metadata": {},
     "output_type": "display_data"
    },
    {
     "data": {
      "application/vnd.jupyter.widget-view+json": {
       "model_id": "cd8a51b55afc42f5b166805cf62949da",
       "version_major": 2,
       "version_minor": 0
      },
      "text/plain": [
       "Validation: 0it [00:00, ?it/s]"
      ]
     },
     "metadata": {},
     "output_type": "display_data"
    },
    {
     "data": {
      "application/vnd.jupyter.widget-view+json": {
       "model_id": "5da9015f10e449d9be665c8e32a84b7a",
       "version_major": 2,
       "version_minor": 0
      },
      "text/plain": [
       "Validation: 0it [00:00, ?it/s]"
      ]
     },
     "metadata": {},
     "output_type": "display_data"
    },
    {
     "data": {
      "application/vnd.jupyter.widget-view+json": {
       "model_id": "122d232db6484116b4a828e0ae258f45",
       "version_major": 2,
       "version_minor": 0
      },
      "text/plain": [
       "Validation: 0it [00:00, ?it/s]"
      ]
     },
     "metadata": {},
     "output_type": "display_data"
    },
    {
     "data": {
      "application/vnd.jupyter.widget-view+json": {
       "model_id": "e9afa0193529452899af5442300c41ce",
       "version_major": 2,
       "version_minor": 0
      },
      "text/plain": [
       "Validation: 0it [00:00, ?it/s]"
      ]
     },
     "metadata": {},
     "output_type": "display_data"
    },
    {
     "data": {
      "application/vnd.jupyter.widget-view+json": {
       "model_id": "d1ef6d5dc1c74ed4b7465cfe6e69859f",
       "version_major": 2,
       "version_minor": 0
      },
      "text/plain": [
       "Validation: 0it [00:00, ?it/s]"
      ]
     },
     "metadata": {},
     "output_type": "display_data"
    },
    {
     "data": {
      "application/vnd.jupyter.widget-view+json": {
       "model_id": "daa20c7a7a8a4677a5cd3cf0e8efe09d",
       "version_major": 2,
       "version_minor": 0
      },
      "text/plain": [
       "Validation: 0it [00:00, ?it/s]"
      ]
     },
     "metadata": {},
     "output_type": "display_data"
    },
    {
     "data": {
      "application/vnd.jupyter.widget-view+json": {
       "model_id": "cb7ef206697c46e493c436965b8e192f",
       "version_major": 2,
       "version_minor": 0
      },
      "text/plain": [
       "Validation: 0it [00:00, ?it/s]"
      ]
     },
     "metadata": {},
     "output_type": "display_data"
    },
    {
     "data": {
      "application/vnd.jupyter.widget-view+json": {
       "model_id": "234b5f8491a64ddea4984a2523d4b692",
       "version_major": 2,
       "version_minor": 0
      },
      "text/plain": [
       "Validation: 0it [00:00, ?it/s]"
      ]
     },
     "metadata": {},
     "output_type": "display_data"
    },
    {
     "data": {
      "application/vnd.jupyter.widget-view+json": {
       "model_id": "736c576a4dc448a78c253e01c842290c",
       "version_major": 2,
       "version_minor": 0
      },
      "text/plain": [
       "Validation: 0it [00:00, ?it/s]"
      ]
     },
     "metadata": {},
     "output_type": "display_data"
    },
    {
     "data": {
      "application/vnd.jupyter.widget-view+json": {
       "model_id": "bbc8f64836ba40059e8ca35c7e5c6487",
       "version_major": 2,
       "version_minor": 0
      },
      "text/plain": [
       "Validation: 0it [00:00, ?it/s]"
      ]
     },
     "metadata": {},
     "output_type": "display_data"
    },
    {
     "data": {
      "application/vnd.jupyter.widget-view+json": {
       "model_id": "f9c7fb390e704675b4774894f5b8c8f9",
       "version_major": 2,
       "version_minor": 0
      },
      "text/plain": [
       "Validation: 0it [00:00, ?it/s]"
      ]
     },
     "metadata": {},
     "output_type": "display_data"
    },
    {
     "data": {
      "application/vnd.jupyter.widget-view+json": {
       "model_id": "ebc859fbb874458b9f9b90249cbeeb3c",
       "version_major": 2,
       "version_minor": 0
      },
      "text/plain": [
       "Validation: 0it [00:00, ?it/s]"
      ]
     },
     "metadata": {},
     "output_type": "display_data"
    },
    {
     "data": {
      "application/vnd.jupyter.widget-view+json": {
       "model_id": "a7a5198e0c53496ba86147fca5d12b60",
       "version_major": 2,
       "version_minor": 0
      },
      "text/plain": [
       "Validation: 0it [00:00, ?it/s]"
      ]
     },
     "metadata": {},
     "output_type": "display_data"
    },
    {
     "data": {
      "application/vnd.jupyter.widget-view+json": {
       "model_id": "5ca9feb1162940ed8950ba258555aef1",
       "version_major": 2,
       "version_minor": 0
      },
      "text/plain": [
       "Validation: 0it [00:00, ?it/s]"
      ]
     },
     "metadata": {},
     "output_type": "display_data"
    },
    {
     "data": {
      "application/vnd.jupyter.widget-view+json": {
       "model_id": "4725ca6e572847f89fcf139ddaaa2939",
       "version_major": 2,
       "version_minor": 0
      },
      "text/plain": [
       "Validation: 0it [00:00, ?it/s]"
      ]
     },
     "metadata": {},
     "output_type": "display_data"
    },
    {
     "data": {
      "application/vnd.jupyter.widget-view+json": {
       "model_id": "bc2aeb1bf42347cab4441a51e93920df",
       "version_major": 2,
       "version_minor": 0
      },
      "text/plain": [
       "Validation: 0it [00:00, ?it/s]"
      ]
     },
     "metadata": {},
     "output_type": "display_data"
    },
    {
     "name": "stderr",
     "output_type": "stream",
     "text": [
      "`Trainer.fit` stopped: `max_epochs=50` reached.\n"
     ]
    }
   ],
   "source": [
    "trainer = pl.Trainer(precision=\"bf16\",\n",
    "                     max_epochs=max_epochs, log_every_n_steps=5)\n",
    "trainer.fit(model=net, train_dataloaders=dl_train, val_dataloaders=dl_val)"
   ]
  },
  {
   "attachments": {},
   "cell_type": "markdown",
   "metadata": {},
   "source": [
    "# Read hist"
   ]
  },
  {
   "cell_type": "code",
   "execution_count": 43,
   "metadata": {},
   "outputs": [
    {
     "name": "stdout",
     "output_type": "stream",
     "text": [
      "[<lightning.pytorch.loggers.csv_logs.CSVLogger object at 0x7f2ddc6b7a30>]\n"
     ]
    },
    {
     "data": {
      "text/html": [
       "<div>\n",
       "<style scoped>\n",
       "    .dataframe tbody tr th:only-of-type {\n",
       "        vertical-align: middle;\n",
       "    }\n",
       "\n",
       "    .dataframe tbody tr th {\n",
       "        vertical-align: top;\n",
       "    }\n",
       "\n",
       "    .dataframe thead th {\n",
       "        text-align: right;\n",
       "    }\n",
       "</style>\n",
       "<table border=\"1\" class=\"dataframe\">\n",
       "  <thead>\n",
       "    <tr style=\"text-align: right;\">\n",
       "      <th></th>\n",
       "      <th>train/loss</th>\n",
       "      <th>step</th>\n",
       "      <th>val/loss</th>\n",
       "      <th>val/acc_step</th>\n",
       "      <th>train/acc_step</th>\n",
       "      <th>train/acc_epoch</th>\n",
       "    </tr>\n",
       "    <tr>\n",
       "      <th>epoch</th>\n",
       "      <th></th>\n",
       "      <th></th>\n",
       "      <th></th>\n",
       "      <th></th>\n",
       "      <th></th>\n",
       "      <th></th>\n",
       "    </tr>\n",
       "  </thead>\n",
       "  <tbody>\n",
       "    <tr>\n",
       "      <th>0</th>\n",
       "      <td>0.744069</td>\n",
       "      <td>35.857143</td>\n",
       "      <td>0.710270</td>\n",
       "      <td>0.500667</td>\n",
       "      <td>0.0</td>\n",
       "      <td>0.0</td>\n",
       "    </tr>\n",
       "    <tr>\n",
       "      <th>1</th>\n",
       "      <td>0.731299</td>\n",
       "      <td>98.133333</td>\n",
       "      <td>0.744243</td>\n",
       "      <td>0.553000</td>\n",
       "      <td>0.0</td>\n",
       "      <td>0.0</td>\n",
       "    </tr>\n",
       "    <tr>\n",
       "      <th>2</th>\n",
       "      <td>0.686293</td>\n",
       "      <td>161.000000</td>\n",
       "      <td>0.786604</td>\n",
       "      <td>0.602667</td>\n",
       "      <td>0.0</td>\n",
       "      <td>0.0</td>\n",
       "    </tr>\n",
       "    <tr>\n",
       "      <th>3</th>\n",
       "      <td>0.658649</td>\n",
       "      <td>223.266667</td>\n",
       "      <td>0.799057</td>\n",
       "      <td>0.644333</td>\n",
       "      <td>0.0</td>\n",
       "      <td>0.0</td>\n",
       "    </tr>\n",
       "    <tr>\n",
       "      <th>4</th>\n",
       "      <td>0.566045</td>\n",
       "      <td>288.000000</td>\n",
       "      <td>0.856216</td>\n",
       "      <td>0.644667</td>\n",
       "      <td>0.0</td>\n",
       "      <td>0.0</td>\n",
       "    </tr>\n",
       "    <tr>\n",
       "      <th>5</th>\n",
       "      <td>0.630471</td>\n",
       "      <td>350.857143</td>\n",
       "      <td>0.948994</td>\n",
       "      <td>0.651333</td>\n",
       "      <td>0.0</td>\n",
       "      <td>0.0</td>\n",
       "    </tr>\n",
       "    <tr>\n",
       "      <th>6</th>\n",
       "      <td>0.577181</td>\n",
       "      <td>413.133333</td>\n",
       "      <td>1.073932</td>\n",
       "      <td>0.675333</td>\n",
       "      <td>0.0</td>\n",
       "      <td>0.0</td>\n",
       "    </tr>\n",
       "    <tr>\n",
       "      <th>7</th>\n",
       "      <td>0.597257</td>\n",
       "      <td>476.000000</td>\n",
       "      <td>1.051913</td>\n",
       "      <td>0.684333</td>\n",
       "      <td>0.0</td>\n",
       "      <td>0.0</td>\n",
       "    </tr>\n",
       "    <tr>\n",
       "      <th>8</th>\n",
       "      <td>0.560068</td>\n",
       "      <td>538.266667</td>\n",
       "      <td>1.145453</td>\n",
       "      <td>0.693667</td>\n",
       "      <td>0.0</td>\n",
       "      <td>0.0</td>\n",
       "    </tr>\n",
       "    <tr>\n",
       "      <th>9</th>\n",
       "      <td>0.572339</td>\n",
       "      <td>603.000000</td>\n",
       "      <td>1.181767</td>\n",
       "      <td>0.693000</td>\n",
       "      <td>0.0</td>\n",
       "      <td>0.0</td>\n",
       "    </tr>\n",
       "    <tr>\n",
       "      <th>10</th>\n",
       "      <td>0.583680</td>\n",
       "      <td>665.857143</td>\n",
       "      <td>1.210565</td>\n",
       "      <td>0.700667</td>\n",
       "      <td>0.0</td>\n",
       "      <td>0.0</td>\n",
       "    </tr>\n",
       "    <tr>\n",
       "      <th>11</th>\n",
       "      <td>0.439274</td>\n",
       "      <td>728.133333</td>\n",
       "      <td>1.241835</td>\n",
       "      <td>0.689667</td>\n",
       "      <td>0.0</td>\n",
       "      <td>0.0</td>\n",
       "    </tr>\n",
       "    <tr>\n",
       "      <th>12</th>\n",
       "      <td>0.411402</td>\n",
       "      <td>791.000000</td>\n",
       "      <td>1.144566</td>\n",
       "      <td>0.694333</td>\n",
       "      <td>0.0</td>\n",
       "      <td>0.0</td>\n",
       "    </tr>\n",
       "    <tr>\n",
       "      <th>13</th>\n",
       "      <td>0.402164</td>\n",
       "      <td>853.266667</td>\n",
       "      <td>1.070250</td>\n",
       "      <td>0.711667</td>\n",
       "      <td>0.0</td>\n",
       "      <td>0.0</td>\n",
       "    </tr>\n",
       "    <tr>\n",
       "      <th>14</th>\n",
       "      <td>0.373422</td>\n",
       "      <td>918.000000</td>\n",
       "      <td>1.123694</td>\n",
       "      <td>0.723000</td>\n",
       "      <td>0.0</td>\n",
       "      <td>0.0</td>\n",
       "    </tr>\n",
       "    <tr>\n",
       "      <th>15</th>\n",
       "      <td>0.315914</td>\n",
       "      <td>980.857143</td>\n",
       "      <td>1.088846</td>\n",
       "      <td>0.729667</td>\n",
       "      <td>0.0</td>\n",
       "      <td>0.0</td>\n",
       "    </tr>\n",
       "    <tr>\n",
       "      <th>16</th>\n",
       "      <td>0.264366</td>\n",
       "      <td>1043.133333</td>\n",
       "      <td>1.164571</td>\n",
       "      <td>0.742000</td>\n",
       "      <td>0.0</td>\n",
       "      <td>0.0</td>\n",
       "    </tr>\n",
       "    <tr>\n",
       "      <th>17</th>\n",
       "      <td>0.251799</td>\n",
       "      <td>1106.000000</td>\n",
       "      <td>1.116912</td>\n",
       "      <td>0.732000</td>\n",
       "      <td>0.0</td>\n",
       "      <td>0.0</td>\n",
       "    </tr>\n",
       "    <tr>\n",
       "      <th>18</th>\n",
       "      <td>0.241920</td>\n",
       "      <td>1168.266667</td>\n",
       "      <td>1.177660</td>\n",
       "      <td>0.749333</td>\n",
       "      <td>0.0</td>\n",
       "      <td>0.0</td>\n",
       "    </tr>\n",
       "    <tr>\n",
       "      <th>19</th>\n",
       "      <td>0.274901</td>\n",
       "      <td>1233.000000</td>\n",
       "      <td>1.068424</td>\n",
       "      <td>0.741667</td>\n",
       "      <td>0.0</td>\n",
       "      <td>0.0</td>\n",
       "    </tr>\n",
       "    <tr>\n",
       "      <th>20</th>\n",
       "      <td>0.205331</td>\n",
       "      <td>1295.857143</td>\n",
       "      <td>1.263743</td>\n",
       "      <td>0.753000</td>\n",
       "      <td>0.0</td>\n",
       "      <td>0.0</td>\n",
       "    </tr>\n",
       "    <tr>\n",
       "      <th>21</th>\n",
       "      <td>0.237924</td>\n",
       "      <td>1358.133333</td>\n",
       "      <td>1.263812</td>\n",
       "      <td>0.759667</td>\n",
       "      <td>0.0</td>\n",
       "      <td>0.0</td>\n",
       "    </tr>\n",
       "    <tr>\n",
       "      <th>22</th>\n",
       "      <td>0.167551</td>\n",
       "      <td>1421.000000</td>\n",
       "      <td>1.289988</td>\n",
       "      <td>0.756667</td>\n",
       "      <td>0.0</td>\n",
       "      <td>0.0</td>\n",
       "    </tr>\n",
       "    <tr>\n",
       "      <th>23</th>\n",
       "      <td>0.195813</td>\n",
       "      <td>1483.266667</td>\n",
       "      <td>1.274411</td>\n",
       "      <td>0.756333</td>\n",
       "      <td>0.0</td>\n",
       "      <td>0.0</td>\n",
       "    </tr>\n",
       "    <tr>\n",
       "      <th>24</th>\n",
       "      <td>0.223369</td>\n",
       "      <td>1548.000000</td>\n",
       "      <td>1.240567</td>\n",
       "      <td>0.760667</td>\n",
       "      <td>0.0</td>\n",
       "      <td>0.0</td>\n",
       "    </tr>\n",
       "    <tr>\n",
       "      <th>25</th>\n",
       "      <td>0.195569</td>\n",
       "      <td>1610.857143</td>\n",
       "      <td>1.279496</td>\n",
       "      <td>0.761333</td>\n",
       "      <td>0.0</td>\n",
       "      <td>0.0</td>\n",
       "    </tr>\n",
       "    <tr>\n",
       "      <th>26</th>\n",
       "      <td>0.158694</td>\n",
       "      <td>1673.133333</td>\n",
       "      <td>1.287396</td>\n",
       "      <td>0.757333</td>\n",
       "      <td>0.0</td>\n",
       "      <td>0.0</td>\n",
       "    </tr>\n",
       "    <tr>\n",
       "      <th>27</th>\n",
       "      <td>0.171430</td>\n",
       "      <td>1736.000000</td>\n",
       "      <td>1.371258</td>\n",
       "      <td>0.758333</td>\n",
       "      <td>0.0</td>\n",
       "      <td>0.0</td>\n",
       "    </tr>\n",
       "    <tr>\n",
       "      <th>28</th>\n",
       "      <td>0.188514</td>\n",
       "      <td>1798.266667</td>\n",
       "      <td>1.442839</td>\n",
       "      <td>0.766333</td>\n",
       "      <td>0.0</td>\n",
       "      <td>0.0</td>\n",
       "    </tr>\n",
       "    <tr>\n",
       "      <th>29</th>\n",
       "      <td>0.195215</td>\n",
       "      <td>1863.000000</td>\n",
       "      <td>1.440464</td>\n",
       "      <td>0.752667</td>\n",
       "      <td>0.0</td>\n",
       "      <td>0.0</td>\n",
       "    </tr>\n",
       "    <tr>\n",
       "      <th>30</th>\n",
       "      <td>0.224203</td>\n",
       "      <td>1925.857143</td>\n",
       "      <td>1.333833</td>\n",
       "      <td>0.756000</td>\n",
       "      <td>0.0</td>\n",
       "      <td>0.0</td>\n",
       "    </tr>\n",
       "    <tr>\n",
       "      <th>31</th>\n",
       "      <td>0.185289</td>\n",
       "      <td>1988.133333</td>\n",
       "      <td>1.421922</td>\n",
       "      <td>0.752000</td>\n",
       "      <td>0.0</td>\n",
       "      <td>0.0</td>\n",
       "    </tr>\n",
       "    <tr>\n",
       "      <th>32</th>\n",
       "      <td>0.215375</td>\n",
       "      <td>2051.000000</td>\n",
       "      <td>1.442557</td>\n",
       "      <td>0.761000</td>\n",
       "      <td>0.0</td>\n",
       "      <td>0.0</td>\n",
       "    </tr>\n",
       "    <tr>\n",
       "      <th>33</th>\n",
       "      <td>0.255579</td>\n",
       "      <td>2113.266667</td>\n",
       "      <td>1.460429</td>\n",
       "      <td>0.761000</td>\n",
       "      <td>0.0</td>\n",
       "      <td>0.0</td>\n",
       "    </tr>\n",
       "    <tr>\n",
       "      <th>34</th>\n",
       "      <td>0.204333</td>\n",
       "      <td>2178.000000</td>\n",
       "      <td>1.395023</td>\n",
       "      <td>0.767333</td>\n",
       "      <td>0.0</td>\n",
       "      <td>0.0</td>\n",
       "    </tr>\n",
       "    <tr>\n",
       "      <th>35</th>\n",
       "      <td>0.131389</td>\n",
       "      <td>2240.857143</td>\n",
       "      <td>1.467322</td>\n",
       "      <td>0.767667</td>\n",
       "      <td>0.0</td>\n",
       "      <td>0.0</td>\n",
       "    </tr>\n",
       "    <tr>\n",
       "      <th>36</th>\n",
       "      <td>0.161709</td>\n",
       "      <td>2303.133333</td>\n",
       "      <td>1.586674</td>\n",
       "      <td>0.766667</td>\n",
       "      <td>0.0</td>\n",
       "      <td>0.0</td>\n",
       "    </tr>\n",
       "    <tr>\n",
       "      <th>37</th>\n",
       "      <td>0.196712</td>\n",
       "      <td>2366.000000</td>\n",
       "      <td>1.603036</td>\n",
       "      <td>0.787667</td>\n",
       "      <td>0.0</td>\n",
       "      <td>0.0</td>\n",
       "    </tr>\n",
       "    <tr>\n",
       "      <th>38</th>\n",
       "      <td>0.159652</td>\n",
       "      <td>2428.266667</td>\n",
       "      <td>1.522133</td>\n",
       "      <td>0.774333</td>\n",
       "      <td>0.0</td>\n",
       "      <td>0.0</td>\n",
       "    </tr>\n",
       "    <tr>\n",
       "      <th>39</th>\n",
       "      <td>0.122653</td>\n",
       "      <td>2493.000000</td>\n",
       "      <td>1.637774</td>\n",
       "      <td>0.778333</td>\n",
       "      <td>0.0</td>\n",
       "      <td>0.0</td>\n",
       "    </tr>\n",
       "    <tr>\n",
       "      <th>40</th>\n",
       "      <td>0.108056</td>\n",
       "      <td>2555.857143</td>\n",
       "      <td>1.795200</td>\n",
       "      <td>0.771000</td>\n",
       "      <td>0.0</td>\n",
       "      <td>0.0</td>\n",
       "    </tr>\n",
       "    <tr>\n",
       "      <th>41</th>\n",
       "      <td>0.115334</td>\n",
       "      <td>2618.133333</td>\n",
       "      <td>1.943408</td>\n",
       "      <td>0.777333</td>\n",
       "      <td>0.0</td>\n",
       "      <td>0.0</td>\n",
       "    </tr>\n",
       "    <tr>\n",
       "      <th>42</th>\n",
       "      <td>0.111412</td>\n",
       "      <td>2681.000000</td>\n",
       "      <td>2.000473</td>\n",
       "      <td>0.780000</td>\n",
       "      <td>0.0</td>\n",
       "      <td>0.0</td>\n",
       "    </tr>\n",
       "    <tr>\n",
       "      <th>43</th>\n",
       "      <td>0.122562</td>\n",
       "      <td>2743.266667</td>\n",
       "      <td>2.184795</td>\n",
       "      <td>0.782667</td>\n",
       "      <td>0.0</td>\n",
       "      <td>0.0</td>\n",
       "    </tr>\n",
       "    <tr>\n",
       "      <th>44</th>\n",
       "      <td>0.086971</td>\n",
       "      <td>2808.000000</td>\n",
       "      <td>2.248349</td>\n",
       "      <td>0.787333</td>\n",
       "      <td>0.0</td>\n",
       "      <td>0.0</td>\n",
       "    </tr>\n",
       "    <tr>\n",
       "      <th>45</th>\n",
       "      <td>0.101072</td>\n",
       "      <td>2870.857143</td>\n",
       "      <td>2.303315</td>\n",
       "      <td>0.778333</td>\n",
       "      <td>0.0</td>\n",
       "      <td>0.0</td>\n",
       "    </tr>\n",
       "    <tr>\n",
       "      <th>46</th>\n",
       "      <td>0.084574</td>\n",
       "      <td>2933.133333</td>\n",
       "      <td>2.465245</td>\n",
       "      <td>0.782000</td>\n",
       "      <td>0.0</td>\n",
       "      <td>0.0</td>\n",
       "    </tr>\n",
       "    <tr>\n",
       "      <th>47</th>\n",
       "      <td>0.099855</td>\n",
       "      <td>2996.000000</td>\n",
       "      <td>2.485948</td>\n",
       "      <td>0.787333</td>\n",
       "      <td>0.0</td>\n",
       "      <td>0.0</td>\n",
       "    </tr>\n",
       "    <tr>\n",
       "      <th>48</th>\n",
       "      <td>0.095611</td>\n",
       "      <td>3058.266667</td>\n",
       "      <td>2.515635</td>\n",
       "      <td>0.781000</td>\n",
       "      <td>0.0</td>\n",
       "      <td>0.0</td>\n",
       "    </tr>\n",
       "    <tr>\n",
       "      <th>49</th>\n",
       "      <td>0.090121</td>\n",
       "      <td>3123.000000</td>\n",
       "      <td>2.488944</td>\n",
       "      <td>0.788667</td>\n",
       "      <td>0.0</td>\n",
       "      <td>0.0</td>\n",
       "    </tr>\n",
       "  </tbody>\n",
       "</table>\n",
       "</div>"
      ],
      "text/plain": [
       "       train/loss         step  val/loss  val/acc_step  train/acc_step   \n",
       "epoch                                                                    \n",
       "0        0.744069    35.857143  0.710270      0.500667             0.0  \\\n",
       "1        0.731299    98.133333  0.744243      0.553000             0.0   \n",
       "2        0.686293   161.000000  0.786604      0.602667             0.0   \n",
       "3        0.658649   223.266667  0.799057      0.644333             0.0   \n",
       "4        0.566045   288.000000  0.856216      0.644667             0.0   \n",
       "5        0.630471   350.857143  0.948994      0.651333             0.0   \n",
       "6        0.577181   413.133333  1.073932      0.675333             0.0   \n",
       "7        0.597257   476.000000  1.051913      0.684333             0.0   \n",
       "8        0.560068   538.266667  1.145453      0.693667             0.0   \n",
       "9        0.572339   603.000000  1.181767      0.693000             0.0   \n",
       "10       0.583680   665.857143  1.210565      0.700667             0.0   \n",
       "11       0.439274   728.133333  1.241835      0.689667             0.0   \n",
       "12       0.411402   791.000000  1.144566      0.694333             0.0   \n",
       "13       0.402164   853.266667  1.070250      0.711667             0.0   \n",
       "14       0.373422   918.000000  1.123694      0.723000             0.0   \n",
       "15       0.315914   980.857143  1.088846      0.729667             0.0   \n",
       "16       0.264366  1043.133333  1.164571      0.742000             0.0   \n",
       "17       0.251799  1106.000000  1.116912      0.732000             0.0   \n",
       "18       0.241920  1168.266667  1.177660      0.749333             0.0   \n",
       "19       0.274901  1233.000000  1.068424      0.741667             0.0   \n",
       "20       0.205331  1295.857143  1.263743      0.753000             0.0   \n",
       "21       0.237924  1358.133333  1.263812      0.759667             0.0   \n",
       "22       0.167551  1421.000000  1.289988      0.756667             0.0   \n",
       "23       0.195813  1483.266667  1.274411      0.756333             0.0   \n",
       "24       0.223369  1548.000000  1.240567      0.760667             0.0   \n",
       "25       0.195569  1610.857143  1.279496      0.761333             0.0   \n",
       "26       0.158694  1673.133333  1.287396      0.757333             0.0   \n",
       "27       0.171430  1736.000000  1.371258      0.758333             0.0   \n",
       "28       0.188514  1798.266667  1.442839      0.766333             0.0   \n",
       "29       0.195215  1863.000000  1.440464      0.752667             0.0   \n",
       "30       0.224203  1925.857143  1.333833      0.756000             0.0   \n",
       "31       0.185289  1988.133333  1.421922      0.752000             0.0   \n",
       "32       0.215375  2051.000000  1.442557      0.761000             0.0   \n",
       "33       0.255579  2113.266667  1.460429      0.761000             0.0   \n",
       "34       0.204333  2178.000000  1.395023      0.767333             0.0   \n",
       "35       0.131389  2240.857143  1.467322      0.767667             0.0   \n",
       "36       0.161709  2303.133333  1.586674      0.766667             0.0   \n",
       "37       0.196712  2366.000000  1.603036      0.787667             0.0   \n",
       "38       0.159652  2428.266667  1.522133      0.774333             0.0   \n",
       "39       0.122653  2493.000000  1.637774      0.778333             0.0   \n",
       "40       0.108056  2555.857143  1.795200      0.771000             0.0   \n",
       "41       0.115334  2618.133333  1.943408      0.777333             0.0   \n",
       "42       0.111412  2681.000000  2.000473      0.780000             0.0   \n",
       "43       0.122562  2743.266667  2.184795      0.782667             0.0   \n",
       "44       0.086971  2808.000000  2.248349      0.787333             0.0   \n",
       "45       0.101072  2870.857143  2.303315      0.778333             0.0   \n",
       "46       0.084574  2933.133333  2.465245      0.782000             0.0   \n",
       "47       0.099855  2996.000000  2.485948      0.787333             0.0   \n",
       "48       0.095611  3058.266667  2.515635      0.781000             0.0   \n",
       "49       0.090121  3123.000000  2.488944      0.788667             0.0   \n",
       "\n",
       "       train/acc_epoch  \n",
       "epoch                   \n",
       "0                  0.0  \n",
       "1                  0.0  \n",
       "2                  0.0  \n",
       "3                  0.0  \n",
       "4                  0.0  \n",
       "5                  0.0  \n",
       "6                  0.0  \n",
       "7                  0.0  \n",
       "8                  0.0  \n",
       "9                  0.0  \n",
       "10                 0.0  \n",
       "11                 0.0  \n",
       "12                 0.0  \n",
       "13                 0.0  \n",
       "14                 0.0  \n",
       "15                 0.0  \n",
       "16                 0.0  \n",
       "17                 0.0  \n",
       "18                 0.0  \n",
       "19                 0.0  \n",
       "20                 0.0  \n",
       "21                 0.0  \n",
       "22                 0.0  \n",
       "23                 0.0  \n",
       "24                 0.0  \n",
       "25                 0.0  \n",
       "26                 0.0  \n",
       "27                 0.0  \n",
       "28                 0.0  \n",
       "29                 0.0  \n",
       "30                 0.0  \n",
       "31                 0.0  \n",
       "32                 0.0  \n",
       "33                 0.0  \n",
       "34                 0.0  \n",
       "35                 0.0  \n",
       "36                 0.0  \n",
       "37                 0.0  \n",
       "38                 0.0  \n",
       "39                 0.0  \n",
       "40                 0.0  \n",
       "41                 0.0  \n",
       "42                 0.0  \n",
       "43                 0.0  \n",
       "44                 0.0  \n",
       "45                 0.0  \n",
       "46                 0.0  \n",
       "47                 0.0  \n",
       "48                 0.0  \n",
       "49                 0.0  "
      ]
     },
     "execution_count": 43,
     "metadata": {},
     "output_type": "execute_result"
    }
   ],
   "source": [
    "# import pytorch_lightning as pl\n",
    "from lightning.pytorch.loggers.csv_logs import CSVLogger\n",
    "# from pytorch_lightning.loggers.csv_logs import CSVLogger as CSVLogger2\n",
    "from pathlib import Path\n",
    "import pandas as pd\n",
    "\n",
    "def read_metrics_csv(metrics_file_path):\n",
    "    df_hist = pd.read_csv(metrics_file_path)\n",
    "    df_hist[\"epoch\"] = df_hist[\"epoch\"].ffill()\n",
    "    df_histe = df_hist.set_index(\"epoch\").groupby(\"epoch\").mean()\n",
    "    return df_histe\n",
    "\n",
    "\n",
    "def read_hist(trainer: pl.Trainer):\n",
    "\n",
    "    ts = [t for t in trainer.loggers if isinstance(t, CSVLogger)]\n",
    "    print(ts)\n",
    "    try:\n",
    "        metrics_file_path = Path(ts[0].experiment.metrics_file_path)\n",
    "        df_histe = read_metrics_csv(metrics_file_path)\n",
    "        return df_histe\n",
    "    except Exception as e:\n",
    "        raise e\n",
    "        \n",
    "        \n",
    "df_hist = read_hist(trainer).ffill().bfill()\n",
    "df_hist\n"
   ]
  },
  {
   "cell_type": "code",
   "execution_count": 44,
   "metadata": {},
   "outputs": [
    {
     "data": {
      "image/png": "[encoded data removed]",
      "text/plain": [
       "<Figure size 640x480 with 1 Axes>"
      ]
     },
     "metadata": {},
     "output_type": "display_data"
    },
    {
     "data": {
      "image/png": "[encoded data removed]",
      "text/plain": [
       "<Figure size 640x480 with 1 Axes>"
      ]
     },
     "metadata": {},
     "output_type": "display_data"
    },
    {
     "data": {
      "image/png": "[encoded data removed]",
      "text/plain": [
       "<Figure size 640x480 with 1 Axes>"
      ]
     },
     "metadata": {},
     "output_type": "display_data"
    }
   ],
   "source": [
    "keys = set(s.split('/')[1] for s in df_hist.columns if '/' in s)\n",
    "for k in keys:    \n",
    "    df_hist[[c for c in df_hist.columns if c.endswith(k)]].plot(title=k)"
   ]
  },
  {
   "cell_type": "code",
   "execution_count": 45,
   "metadata": {},
   "outputs": [],
   "source": [
    "# df_hist[['val/acc', 'train/acc']].plot()\n",
    "\n",
    "# # df_hist[['val/f1', 'train/f1']].plot()\n",
    "\n",
    "# # df_hist[['val/roc_auc_bc', 'train/roc_auc_bc']].plot()\n",
    "\n",
    "# # df_hist[['val/roc_auc_mc', 'train/roc_auc_mc']].plot()\n",
    "\n",
    "# df_hist[['val/loss', 'train/loss']].plot()"
   ]
  },
  {
   "attachments": {},
   "cell_type": "markdown",
   "metadata": {},
   "source": [
    "## Predict"
   ]
  },
  {
   "cell_type": "code",
   "execution_count": 46,
   "metadata": {},
   "outputs": [
    {
     "name": "stderr",
     "output_type": "stream",
     "text": [
      "LOCAL_RANK: 0 - CUDA_VISIBLE_DEVICES: [0]\n"
     ]
    },
    {
     "data": {
      "application/vnd.jupyter.widget-view+json": {
       "model_id": "303addfe40774eadbd63a93880393678",
       "version_major": 2,
       "version_minor": 0
      },
      "text/plain": [
       "Predicting: 0it [00:00, ?it/s]"
      ]
     },
     "metadata": {},
     "output_type": "display_data"
    }
   ],
   "source": [
    "dl_test = dm.test_dataloader()\n",
    "y_test_pred = trainer.predict(net, dl_test)\n",
    "y_test_pred = np.concatenate(y_test_pred)\n",
    "# y_test_pred"
   ]
  },
  {
   "cell_type": "code",
   "execution_count": 47,
   "metadata": {},
   "outputs": [
    {
     "data": {
      "text/plain": [
       "(2000, 3000)"
      ]
     },
     "execution_count": 47,
     "metadata": {},
     "output_type": "execute_result"
    }
   ],
   "source": [
    "# y_test_pred.shape, df_test.shape\n",
    "dm.val_split, dm.test_split"
   ]
  },
  {
   "cell_type": "code",
   "execution_count": 56,
   "metadata": {},
   "outputs": [
    {
     "data": {
      "text/html": [
       "<div>\n",
       "<style scoped>\n",
       "    .dataframe tbody tr th:only-of-type {\n",
       "        vertical-align: middle;\n",
       "    }\n",
       "\n",
       "    .dataframe tbody tr th {\n",
       "        vertical-align: top;\n",
       "    }\n",
       "\n",
       "    .dataframe thead th {\n",
       "        text-align: right;\n",
       "    }\n",
       "</style>\n",
       "<table border=\"1\" class=\"dataframe\">\n",
       "  <thead>\n",
       "    <tr style=\"text-align: right;\">\n",
       "      <th></th>\n",
       "      <th>desired_answer</th>\n",
       "      <th>input</th>\n",
       "      <th>lie</th>\n",
       "      <th>true_answer</th>\n",
       "      <th>ans1</th>\n",
       "      <th>ans2</th>\n",
       "      <th>true</th>\n",
       "      <th>dir_true</th>\n",
       "      <th>ans</th>\n",
       "      <th>prob_pred</th>\n",
       "      <th>llm_ans</th>\n",
       "    </tr>\n",
       "  </thead>\n",
       "  <tbody>\n",
       "    <tr>\n",
       "      <th>3000</th>\n",
       "      <td>False</td>\n",
       "      <td>My husband was very pleased with this gift to ...</td>\n",
       "      <td>True</td>\n",
       "      <td>1</td>\n",
       "      <td>0.836914</td>\n",
       "      <td>0.994141</td>\n",
       "      <td>1</td>\n",
       "      <td>0.157227</td>\n",
       "      <td>0.915527</td>\n",
       "      <td>1</td>\n",
       "      <td>0.836914</td>\n",
       "    </tr>\n",
       "    <tr>\n",
       "      <th>3001</th>\n",
       "      <td>True</td>\n",
       "      <td>This is simply the best book ever written and ...</td>\n",
       "      <td>False</td>\n",
       "      <td>1</td>\n",
       "      <td>0.714844</td>\n",
       "      <td>0.471924</td>\n",
       "      <td>1</td>\n",
       "      <td>-0.242920</td>\n",
       "      <td>0.593262</td>\n",
       "      <td>0</td>\n",
       "      <td>0.714844</td>\n",
       "    </tr>\n",
       "    <tr>\n",
       "      <th>3002</th>\n",
       "      <td>False</td>\n",
       "      <td>I finally found this baster and we love it. It...</td>\n",
       "      <td>True</td>\n",
       "      <td>1</td>\n",
       "      <td>0.966309</td>\n",
       "      <td>0.966309</td>\n",
       "      <td>1</td>\n",
       "      <td>0.000000</td>\n",
       "      <td>0.966309</td>\n",
       "      <td>0</td>\n",
       "      <td>0.966309</td>\n",
       "    </tr>\n",
       "    <tr>\n",
       "      <th>3003</th>\n",
       "      <td>True</td>\n",
       "      <td>thses guys rock, and the vocals are 2nd to..we...</td>\n",
       "      <td>False</td>\n",
       "      <td>1</td>\n",
       "      <td>0.921387</td>\n",
       "      <td>0.884766</td>\n",
       "      <td>1</td>\n",
       "      <td>-0.036621</td>\n",
       "      <td>0.903320</td>\n",
       "      <td>1</td>\n",
       "      <td>0.921387</td>\n",
       "    </tr>\n",
       "    <tr>\n",
       "      <th>3004</th>\n",
       "      <td>False</td>\n",
       "      <td>I bought these and wrote a review before - the...</td>\n",
       "      <td>True</td>\n",
       "      <td>1</td>\n",
       "      <td>0.599609</td>\n",
       "      <td>0.395752</td>\n",
       "      <td>1</td>\n",
       "      <td>-0.203857</td>\n",
       "      <td>0.497559</td>\n",
       "      <td>1</td>\n",
       "      <td>0.599609</td>\n",
       "    </tr>\n",
       "    <tr>\n",
       "      <th>...</th>\n",
       "      <td>...</td>\n",
       "      <td>...</td>\n",
       "      <td>...</td>\n",
       "      <td>...</td>\n",
       "      <td>...</td>\n",
       "      <td>...</td>\n",
       "      <td>...</td>\n",
       "      <td>...</td>\n",
       "      <td>...</td>\n",
       "      <td>...</td>\n",
       "      <td>...</td>\n",
       "    </tr>\n",
       "    <tr>\n",
       "      <th>3995</th>\n",
       "      <td>False</td>\n",
       "      <td>As others have said, the instructions were not...</td>\n",
       "      <td>False</td>\n",
       "      <td>0</td>\n",
       "      <td>0.179932</td>\n",
       "      <td>0.211792</td>\n",
       "      <td>0</td>\n",
       "      <td>0.031860</td>\n",
       "      <td>0.195801</td>\n",
       "      <td>0</td>\n",
       "      <td>0.179932</td>\n",
       "    </tr>\n",
       "    <tr>\n",
       "      <th>3996</th>\n",
       "      <td>True</td>\n",
       "      <td>This book has great potential but it doesn't l...</td>\n",
       "      <td>True</td>\n",
       "      <td>0</td>\n",
       "      <td>0.032562</td>\n",
       "      <td>0.037292</td>\n",
       "      <td>0</td>\n",
       "      <td>0.004730</td>\n",
       "      <td>0.034912</td>\n",
       "      <td>0</td>\n",
       "      <td>0.032562</td>\n",
       "    </tr>\n",
       "    <tr>\n",
       "      <th>3997</th>\n",
       "      <td>True</td>\n",
       "      <td>I was intending to use beta sitosterol for hai...</td>\n",
       "      <td>False</td>\n",
       "      <td>1</td>\n",
       "      <td>0.940430</td>\n",
       "      <td>0.942383</td>\n",
       "      <td>1</td>\n",
       "      <td>0.001953</td>\n",
       "      <td>0.941406</td>\n",
       "      <td>1</td>\n",
       "      <td>0.940430</td>\n",
       "    </tr>\n",
       "    <tr>\n",
       "      <th>3998</th>\n",
       "      <td>False</td>\n",
       "      <td>This is really compact and comes with 3 bags t...</td>\n",
       "      <td>True</td>\n",
       "      <td>1</td>\n",
       "      <td>0.963379</td>\n",
       "      <td>0.941895</td>\n",
       "      <td>1</td>\n",
       "      <td>-0.021484</td>\n",
       "      <td>0.952637</td>\n",
       "      <td>1</td>\n",
       "      <td>0.963379</td>\n",
       "    </tr>\n",
       "    <tr>\n",
       "      <th>3999</th>\n",
       "      <td>True</td>\n",
       "      <td>I bought the paperback because it sounded inte...</td>\n",
       "      <td>False</td>\n",
       "      <td>1</td>\n",
       "      <td>0.998535</td>\n",
       "      <td>0.997070</td>\n",
       "      <td>1</td>\n",
       "      <td>-0.001465</td>\n",
       "      <td>0.998047</td>\n",
       "      <td>0</td>\n",
       "      <td>0.998535</td>\n",
       "    </tr>\n",
       "  </tbody>\n",
       "</table>\n",
       "<p>1000 rows × 11 columns</p>\n",
       "</div>"
      ],
      "text/plain": [
       "      desired_answer                                              input   \n",
       "3000           False  My husband was very pleased with this gift to ...  \\\n",
       "3001            True  This is simply the best book ever written and ...   \n",
       "3002           False  I finally found this baster and we love it. It...   \n",
       "3003            True  thses guys rock, and the vocals are 2nd to..we...   \n",
       "3004           False  I bought these and wrote a review before - the...   \n",
       "...              ...                                                ...   \n",
       "3995           False  As others have said, the instructions were not...   \n",
       "3996            True  This book has great potential but it doesn't l...   \n",
       "3997            True  I was intending to use beta sitosterol for hai...   \n",
       "3998           False  This is really compact and comes with 3 bags t...   \n",
       "3999            True  I bought the paperback because it sounded inte...   \n",
       "\n",
       "        lie  true_answer      ans1      ans2  true  dir_true       ans   \n",
       "3000   True            1  0.836914  0.994141     1  0.157227  0.915527  \\\n",
       "3001  False            1  0.714844  0.471924     1 -0.242920  0.593262   \n",
       "3002   True            1  0.966309  0.966309     1  0.000000  0.966309   \n",
       "3003  False            1  0.921387  0.884766     1 -0.036621  0.903320   \n",
       "3004   True            1  0.599609  0.395752     1 -0.203857  0.497559   \n",
       "...     ...          ...       ...       ...   ...       ...       ...   \n",
       "3995  False            0  0.179932  0.211792     0  0.031860  0.195801   \n",
       "3996   True            0  0.032562  0.037292     0  0.004730  0.034912   \n",
       "3997  False            1  0.940430  0.942383     1  0.001953  0.941406   \n",
       "3998   True            1  0.963379  0.941895     1 -0.021484  0.952637   \n",
       "3999  False            1  0.998535  0.997070     1 -0.001465  0.998047   \n",
       "\n",
       "      prob_pred   llm_ans  \n",
       "3000          1  0.836914  \n",
       "3001          0  0.714844  \n",
       "3002          0  0.966309  \n",
       "3003          1  0.921387  \n",
       "3004          1  0.599609  \n",
       "...         ...       ...  \n",
       "3995          0  0.179932  \n",
       "3996          0  0.032562  \n",
       "3997          1  0.940430  \n",
       "3998          1  0.963379  \n",
       "3999          0  0.998535  \n",
       "\n",
       "[1000 rows x 11 columns]"
      ]
     },
     "execution_count": 56,
     "metadata": {},
     "output_type": "execute_result"
    }
   ],
   "source": [
    "df_test = dm.df_infos.iloc[dm.test_split:].copy()\n",
    "df_test['prob_pred'] = y_test_pred.argmax(-1)\n",
    "df_test['llm_ans'] = (df_test['ans1']+df_test['ans1'])/2\n",
    "df_test"
   ]
  },
  {
   "cell_type": "code",
   "execution_count": 57,
   "metadata": {},
   "outputs": [],
   "source": [
    "y_true = dl_test.dataset.tensors[2].numpy()\n",
    "assert ((df_test['true_answer'].values>0.5)==(y_true>0.5)).all(), 'check it all lines up'"
   ]
  },
  {
   "cell_type": "code",
   "execution_count": 58,
   "metadata": {},
   "outputs": [
    {
     "data": {
      "text/plain": [
       "0.516"
      ]
     },
     "execution_count": 58,
     "metadata": {},
     "output_type": "execute_result"
    }
   ],
   "source": [
    "((df_test['llm_ans']>0.5)==df_test['desired_answer']).mean()"
   ]
  },
  {
   "cell_type": "code",
   "execution_count": 59,
   "metadata": {},
   "outputs": [
    {
     "name": "stdout",
     "output_type": "stream",
     "text": [
      "lightning model acc at predicting truth: 50.50%\n"
     ]
    }
   ],
   "source": [
    "# this must be wrong\n",
    "acc_truth = (df_test['prob_pred']==df_test['true_answer']).mean()\n",
    "print(f\"lightning model acc at predicting truth: {acc_truth:2.2%}\")"
   ]
  },
  {
   "cell_type": "code",
   "execution_count": 60,
   "metadata": {},
   "outputs": [
    {
     "name": "stdout",
     "output_type": "stream",
     "text": [
      "lightning model acc at predicting truth: 47.70%\n"
     ]
    }
   ],
   "source": [
    "acc_truth = (df_test['prob_pred']==df_test['desired_answer']).mean()\n",
    "print(f\"lightning model acc at predicting truth: {acc_truth:2.2%}\")"
   ]
  },
  {
   "cell_type": "code",
   "execution_count": 61,
   "metadata": {},
   "outputs": [
    {
     "name": "stdout",
     "output_type": "stream",
     "text": [
      "lightning model acc at predicting truth: 51.30%\n"
     ]
    }
   ],
   "source": [
    "acc_truth = (df_test['prob_pred']==(df_test['llm_ans']>0.5)).mean()\n",
    "print(f\"lightning model acc at predicting truth: {acc_truth:2.2%}\")"
   ]
  },
  {
   "attachments": {},
   "cell_type": "markdown",
   "metadata": {},
   "source": [
    "OK this doesn't work because for the CSS loss to work, it must add up to 1... ours does not"
   ]
  },
  {
   "cell_type": "code",
   "execution_count": null,
   "metadata": {},
   "outputs": [],
   "source": []
  }
 ],
 "metadata": {
  "kernelspec": {
   "display_name": "dlk2",
   "language": "python",
   "name": "python3"
  },
  "language_info": {
   "codemirror_mode": {
    "name": "ipython",
    "version": 3
   },
   "file_extension": ".py",
   "mimetype": "text/x-python",
   "name": "python",
   "nbconvert_exporter": "python",
   "pygments_lexer": "ipython3",
   "version": "3.9.16"
  },
  "orig_nbformat": 4,
  "vscode": {
   "interpreter": {
    "hash": "25d3203011652c9a0b3745968f18b04c477a3d0b83eddc02ed4f61e610dee119"
   }
  }
 },
 "nbformat": 4,
 "nbformat_minor": 2
}
