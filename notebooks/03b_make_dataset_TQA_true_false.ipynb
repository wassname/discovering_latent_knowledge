{
 "cells": [
  {
   "attachments": {},
   "cell_type": "markdown",
   "metadata": {},
   "source": [
    "# Lets save our data as a huggingface dataset, so it's quick to reuse\n",
    "\n"
   ]
  },
  {
   "cell_type": "code",
   "execution_count": null,
   "metadata": {},
   "outputs": [],
   "source": [
    "# import your package\n",
    "%load_ext autoreload\n",
    "%autoreload 2\n",
    "\n",
    "from loguru import logger\n",
    "import sys\n",
    "logger.remove()\n",
    "logger.add(sys.stderr, format=\"<level>{message}</level>\", level=\"INFO\")\n",
    "\n",
    "import pandas as pd\n",
    "from matplotlib import pyplot as plt\n",
    "%matplotlib inline\n",
    "plt.style.use('ggplot')"
   ]
  },
  {
   "cell_type": "code",
   "execution_count": null,
   "metadata": {},
   "outputs": [],
   "source": [
    "import numpy as np\n",
    "\n",
    "\n",
    "from typing import Optional, List, Dict, Union\n",
    "\n",
    "import torch\n",
    "import torch.nn as nn\n",
    "import torch.nn.functional as F\n",
    "from torch import Tensor\n",
    "\n",
    "import pickle\n",
    "import hashlib\n",
    "from pathlib import Path\n",
    "\n",
    "import transformers\n",
    "from datasets import Dataset, DatasetInfo, load_from_disk, load_dataset\n",
    "\n",
    "\n",
    "from tqdm.auto import tqdm\n",
    "import os, re, sys, collections, functools, itertools, json\n",
    "\n",
    "transformers.__version__\n"
   ]
  },
  {
   "cell_type": "code",
   "execution_count": null,
   "metadata": {},
   "outputs": [],
   "source": [
    "from src.prompts.format import format_guard_prompt, format_multishot\n",
    "from src.models.load import load_model\n",
    "from src.datasets.load import ds2df\n",
    "from src.datasets.load import rows_item\n",
    "from src.datasets.batch import batch_hidden_states\n",
    "from src.datasets.batch import get_unique_config_hash, ds_params2fname\n",
    "from src.datasets.hs import get_choices_as_tokens, default_class2choices, choice2ids, scores2choice_probs"
   ]
  },
  {
   "cell_type": "markdown",
   "metadata": {},
   "source": [
    "# Params"
   ]
  },
  {
   "cell_type": "code",
   "execution_count": null,
   "metadata": {},
   "outputs": [],
   "source": [
    "from src.prompts.format import format_prompt, format_tqa_sphinx_prompt"
   ]
  },
  {
   "cell_type": "code",
   "execution_count": null,
   "metadata": {},
   "outputs": [],
   "source": [
    "# Params\n",
    "BATCH_SIZE = 10  # None # None means auto # 6 gives 16Gb/25GB. where 10GB is the base model. so 6 is 6/15\n",
    "USE_MCDROPOUT = True\n",
    "# dataset_n = 200\n",
    "\n",
    "# generation config\n",
    "dataset_params = dict(\n",
    "    model_repo=\"HuggingFaceH4/starchat-beta\",\n",
    "    dataset_name = \"EleutherAI/truthful_qa_binary\",\n",
    "    N = 807, # 8000  # 4000 in 4 hours\n",
    "    # N = 40, # 8000  # 4000 in 4 hours\n",
    "    N_SHOTS = 2,\n",
    "    prompt_fmt=format_tqa_sphinx_prompt,\n",
    "    choices=default_class2choices,\n",
    ")\n"
   ]
  },
  {
   "attachments": {},
   "cell_type": "markdown",
   "metadata": {},
   "source": [
    "# Model\n",
    "\n",
    "Chosing:\n",
    "- https://old.reddit.com/r/LocalLLaMA/wiki/models\n",
    "- https://huggingface.co/spaces/HuggingFaceH4/open_llm_leaderboard\n",
    "- https://github.com/deep-diver/LLM-As-Chatbot/blob/main/model_cards.json\n",
    "\n",
    "\n",
    "A uncensored and large coding ones might be best for lying."
   ]
  },
  {
   "cell_type": "code",
   "execution_count": null,
   "metadata": {},
   "outputs": [],
   "source": [
    "model, tokenizer = load_model(model_repo=dataset_params['model_repo'])"
   ]
  },
  {
   "attachments": {},
   "cell_type": "markdown",
   "metadata": {},
   "source": [
    "# Load Dataset"
   ]
  },
  {
   "cell_type": "code",
   "execution_count": null,
   "metadata": {},
   "outputs": [],
   "source": [
    "dataset = load_dataset(dataset_params['dataset_name'])\n",
    "dataset"
   ]
  },
  {
   "cell_type": "code",
   "execution_count": null,
   "metadata": {
    "notebookRunGroups": {
     "groupValue": ""
    }
   },
   "outputs": [],
   "source": [
    "n_val = 10\n",
    "data_val = dataset['validation'].select(range(n_val))\n",
    "data_train = dataset['validation'].select(range(n_val, len(dataset['validation']), 1))\n",
    "data_val, data_train"
   ]
  },
  {
   "cell_type": "code",
   "execution_count": null,
   "metadata": {},
   "outputs": [],
   "source": [
    "def add_text_col_to_imbd_ds(r):\n",
    "    choices = f\"\"\"a) {r['choices'][0]}\\nb) {r['choices'][1]}\"\"\"\n",
    "    return {\"text\": f\"Question:\\n{r['question']}\\nChoices:\\n{choices}\"}\n",
    "\n",
    "def random_example(example_prompts):\n",
    "    \"\"\"gets a random example from shuffled train\"\"\"\n",
    "    ex = dict(text=(\"blah blah \" * 302))\n",
    "    while (\n",
    "        len(tokenizer(ex[\"text\"]).input_ids) > 150\n",
    "    ):  # 95% are below this 250, 70% below 150\n",
    "        i = np.random.randint(example_prompts.num_rows)\n",
    "        ex = example_prompts[i]\n",
    "    return ex\n",
    "\n",
    "example_prompts = data_val.map(add_text_col_to_imbd_ds)\n",
    "get_random_example = functools.partial(random_example, example_prompts=example_prompts)\n",
    "ex = get_random_example()\n",
    "print(ex['text'])\n"
   ]
  },
  {
   "cell_type": "markdown",
   "metadata": {},
   "source": [
    "## Format prompts\n",
    "\n",
    "The prompt is the thing we most often have to change and debug. So we do it explicitly here.\n",
    "\n",
    "We do it as transforms on a huggingface dataset.\n",
    "\n",
    "In this case we use multishot examples from train, and use the test set to generated the hidden states dataset. We will test generalisation on a whole new dataset.\n"
   ]
  },
  {
   "cell_type": "code",
   "execution_count": null,
   "metadata": {},
   "outputs": [],
   "source": [
    "def to_lie(label: int, lie: bool):\n",
    "    if label == \"\":\n",
    "        return \"\"\n",
    "    else:\n",
    "        return label ^ lie\n",
    "\n",
    "def label_to_choice(label: bool) -> str:\n",
    "    return [\"False\", \"True\"][label]\n",
    "\n",
    "\n",
    "def format_imdb_multishot(input: str, response: str = \"\", lie: bool = False, fmt_prompt=dataset_params['prompt_fmt'], n_shots=dataset_params['N_SHOTS']) -> str:\n",
    "    texts, responses = [], []\n",
    "    for n in range(n_shots - 1):\n",
    "        row = get_random_example()\n",
    "        texts.append(row[\"text\"])\n",
    "        responses.append(label_to_choice(to_lie(row[\"label\"], lie)))\n",
    "    texts.append(input)\n",
    "\n",
    "    if isinstance(response, int):\n",
    "        response = label_to_choice(to_lie(response, lie))\n",
    "    responses.append(response)\n",
    "    return format_multishot(texts, responses, fmt_prompt=fmt_prompt)\n",
    "\n",
    "# test\n",
    "print(format_imdb_multishot(\"input\", \"response\"))"
   ]
  },
  {
   "cell_type": "code",
   "execution_count": null,
   "metadata": {
    "notebookRunGroups": {
     "groupValue": ""
    }
   },
   "outputs": [],
   "source": [
    "lie = True\n",
    "ds = (\n",
    "    data_train\n",
    "    .select(range(dataset_params[\"N\"]))\n",
    "    .map(add_text_col_to_imbd_ds)\n",
    "    .map(lambda ex: {\"prompt\": format_imdb_multishot(ex[\"text\"], lie=True), \"lie\": lie})\n",
    "    .map(\n",
    "        lambda ex: tokenizer(\n",
    "            ex[\"prompt\"], padding=\"max_length\", max_length=600, truncation=True, add_special_tokens=True,\n",
    "            # return_tensors=\"pt\",\n",
    "            return_attention_mask=True,\n",
    "        ),\n",
    "        batched=True,\n",
    "    )\n",
    "    .map(\n",
    "        lambda r: {\"prompt_truncated\": tokenizer.batch_decode(r[\"input_ids\"])},\n",
    "        batched=True,\n",
    "    )\n",
    ")\n",
    "ds"
   ]
  },
  {
   "attachments": {},
   "cell_type": "markdown",
   "metadata": {},
   "source": [
    "# QC: generation\n",
    "\n",
    "Let's a quick generation, so we can QC the output and sanity check that the model can actually do the task"
   ]
  },
  {
   "cell_type": "code",
   "execution_count": null,
   "metadata": {},
   "outputs": [],
   "source": [
    "r = ds[2]\n",
    "q = r[\"prompt_truncated\"]\n",
    "\n",
    "pipeline = transformers.pipeline(\n",
    "    \"text-generation\",\n",
    "    model=model,\n",
    "    tokenizer=tokenizer,\n",
    ")\n",
    "sequences = pipeline(\n",
    "    q.lstrip('<|endoftext|>'),\n",
    "    max_length=100,\n",
    "    do_sample=False,\n",
    "    return_full_text=False,\n",
    "    eos_token_id=tokenizer.eos_token_id,\n",
    ")\n",
    "\n",
    "for seq in sequences:\n",
    "    print(\"-\" * 80)\n",
    "    print(q)\n",
    "    print(\"-\" * 80)\n",
    "    print(f\"`{seq['generated_text']}`\")\n",
    "    print(\"-\" * 80)\n",
    "    print(\"label\", r['label'])\n"
   ]
  },
  {
   "attachments": {},
   "cell_type": "markdown",
   "metadata": {},
   "source": [
    "## Save as Huggingface Dataset"
   ]
  },
  {
   "cell_type": "code",
   "execution_count": null,
   "metadata": {},
   "outputs": [],
   "source": [
    "config_hash, info_kwargs = get_unique_config_hash(\n",
    "    format_imdb_multishot, model, tokenizer, ds, dataset_params['N']\n",
    ")\n",
    "dataset_name = ds_params2fname(dataset_params) + config_hash\n",
    "f = f\"../.ds/{dataset_name}\"\n",
    "print(f)"
   ]
  },
  {
   "cell_type": "code",
   "execution_count": null,
   "metadata": {},
   "outputs": [],
   "source": [
    "gen_kwargs = dict(\n",
    "    model=model,\n",
    "    tokenizer=tokenizer,\n",
    "    data=ds,\n",
    "    n=dataset_params['N'],\n",
    "    batch_size=BATCH_SIZE,\n",
    ")\n",
    "gen_kwargs"
   ]
  },
  {
   "cell_type": "code",
   "execution_count": null,
   "metadata": {},
   "outputs": [],
   "source": [
    "ds1 = Dataset.from_generator(\n",
    "    generator=batch_hidden_states,\n",
    "    info=DatasetInfo(\n",
    "        description=f\"kwargs={info_kwargs} dataset_params={dataset_params}\",\n",
    "        config_name=f,               \n",
    "    ),\n",
    "    gen_kwargs=gen_kwargs,\n",
    ").with_format(\"numpy\")\n",
    "ds1"
   ]
  },
  {
   "attachments": {},
   "cell_type": "markdown",
   "metadata": {
    "notebookRunGroups": {
     "groupValue": "2"
    }
   },
   "source": [
    "## Add labels\n",
    "\n",
    "For our probe. Given next_token scores (logits) we take only the subset the corresponds to our negative tokens (e.g. False, no, ...) and positive tokens (e.g. Yes, yes, affirmative, ...).\n"
   ]
  },
  {
   "cell_type": "code",
   "execution_count": null,
   "metadata": {},
   "outputs": [],
   "source": [
    "class2_ids = choice2ids(tokenizer, dataset_params['choices'])\n",
    "add_txt_ans0 = lambda r: {'txt_ans0': tokenizer.decode(r['scores0'].argmax(-1))}\n",
    "add_txt_ans1 = lambda r: {'txt_ans1': tokenizer.decode(r['scores1'].argmax(-1))}\n",
    "add_ans = lambda r: scores2choice_probs(r, class2_ids)\n",
    "\n",
    "ds3 = (\n",
    "    ds1\n",
    "    .map(add_ans)\n",
    "    .map(add_txt_ans0)\n",
    "    .map(add_txt_ans1)\n",
    ")\n",
    "ds3"
   ]
  },
  {
   "cell_type": "markdown",
   "metadata": {},
   "source": [
    "## Save to disk"
   ]
  },
  {
   "cell_type": "code",
   "execution_count": null,
   "metadata": {},
   "outputs": [],
   "source": [
    "ds3.save_to_disk(f)\n",
    "f"
   ]
  },
  {
   "cell_type": "markdown",
   "metadata": {},
   "source": [
    "# QC"
   ]
  },
  {
   "cell_type": "code",
   "execution_count": null,
   "metadata": {},
   "outputs": [],
   "source": [
    "ds4 = load_from_disk(f)\n",
    "ds4"
   ]
  },
  {
   "cell_type": "code",
   "execution_count": null,
   "metadata": {},
   "outputs": [],
   "source": [
    "\n",
    "# QC, check which answers are most common\n",
    "common_answers = pd.Series(ds4['txt_ans1']).value_counts()\n",
    "display('Remember it should be binary. Found common LLM answers:', common_answers)\n",
    "\n",
    "# list unexpected answers\n",
    "class2choices = dataset_params['choices']\n",
    "current_choices = set(class2choices[0]+class2choices[1])\n",
    "unexpected_answers = set(common_answers.head(10).index)-current_choices\n",
    "if len(unexpected_answers):\n",
    "    logger.warning(f'found unexpected answers: {unexpected_answers}. You may want to add them to class2choices')\n",
    "    \n",
    "mean_prob = ds4['choice_probs1'].sum(-1).mean()\n",
    "print('mean_prob', mean_prob)\n",
    "assert ds4['choice_probs1'].sum(-1).mean()>0.4, f\"\"\"\n",
    "Our choices should cover most common answers. But they accounted for a mean probability of {mean_prob:2.2%} (should be >40%). \n",
    "\n",
    "To fix this you might want to improve your prompt or add to your choices\n",
    "\"\"\""
   ]
  },
  {
   "cell_type": "code",
   "execution_count": null,
   "metadata": {},
   "outputs": [],
   "source": [
    "df = ds2df(ds4)\n",
    "df"
   ]
  },
  {
   "cell_type": "code",
   "execution_count": null,
   "metadata": {},
   "outputs": [],
   "source": [
    "# QC check accuracy\n",
    "# it should manage to lie some of the time when asked to lie. Many models wont lie unless very explicitly asked to, but we don't want to do that, we want to leave some ambiguity in the prompt\n",
    "\n",
    "d = df.query('lie==True')\n",
    "acc = (d.desired_ans==d.llm_ans).mean()\n",
    "print(f\"when the model tries to lie... we get this acc {acc:2.2f}\")\n",
    "assert acc>0.1, f\"should be acc>0.1 but is acc={acc}\""
   ]
  },
  {
   "cell_type": "code",
   "execution_count": null,
   "metadata": {},
   "outputs": [],
   "source": [
    "# QC by viewing a row\n",
    "r = ds4[0]\n",
    "print(r['prompt_truncated'])\n",
    "print(r['txt_ans1'])"
   ]
  },
  {
   "cell_type": "markdown",
   "metadata": {
    "notebookRunGroups": {
     "groupValue": "2"
    }
   },
   "source": [
    "# QC: linear probe"
   ]
  },
  {
   "cell_type": "markdown",
   "metadata": {},
   "source": [
    "# QC: linear probe"
   ]
  },
  {
   "cell_type": "code",
   "execution_count": null,
   "metadata": {},
   "outputs": [],
   "source": [
    "hs = ds4['hs1']-ds4['hs0']\n",
    "X = hs.reshape(hs.shape[0], -1)\n",
    "y = (ds4['ans1'] - ds4['ans0'])>0"
   ]
  },
  {
   "cell_type": "code",
   "execution_count": null,
   "metadata": {},
   "outputs": [],
   "source": [
    "true_switch_sign = ds4['label']*2-1\n",
    "# true_switch_sign = ds4['true'][:, 0]*2-1\n",
    "y = ((ds4['ans1'] - ds4['ans0']) * true_switch_sign) > 0"
   ]
  },
  {
   "cell_type": "code",
   "execution_count": null,
   "metadata": {},
   "outputs": [],
   "source": [
    "from sklearn.preprocessing import RobustScaler\n",
    "from sklearn.linear_model import LogisticRegression\n",
    "from sklearn.metrics import f1_score, roc_auc_score, accuracy_score\n",
    "\n",
    "# # Define X and y\n",
    "# X = dm.hs1-dm.hs2\n",
    "# y = dm.y>0\n",
    "\n",
    "# split\n",
    "n = len(y)\n",
    "max_rows = 1000\n",
    "print('split size', n//2)\n",
    "X_train, X_test = X[:n//2], X[n//2:]\n",
    "y_train, y_test = y[:n//2], y[n//2:]\n",
    "X_train = X_train[:max_rows]\n",
    "y_train = y_train[:max_rows]\n",
    "X_test = X_test[:max_rows]\n",
    "y_test = y_test[:max_rows]\n",
    "\n",
    "# scale\n",
    "scaler = RobustScaler()\n",
    "scaler.fit(X_train)\n",
    "X_train2 = scaler.transform(X_train)\n",
    "X_test2 = scaler.transform(X_test)\n",
    "print('lr')\n",
    "\n",
    "lr = LogisticRegression(class_weight=\"balanced\", penalty=\"l2\", max_iter=380)\n",
    "lr.fit(X_train2, y_train>0)"
   ]
  },
  {
   "cell_type": "code",
   "execution_count": null,
   "metadata": {},
   "outputs": [],
   "source": [
    "print(\"Logistic cls acc: {:2.2%} [TRAIN]\".format(lr.score(X_train2, y_train>0)))\n",
    "print(\"Logistic cls acc: {:2.2%} [TEST]\".format(lr.score(X_test2, y_test>0)))"
   ]
  },
  {
   "cell_type": "code",
   "execution_count": null,
   "metadata": {},
   "outputs": [],
   "source": []
  },
  {
   "cell_type": "code",
   "execution_count": null,
   "metadata": {},
   "outputs": [],
   "source": []
  },
  {
   "cell_type": "code",
   "execution_count": null,
   "metadata": {},
   "outputs": [],
   "source": []
  }
 ],
 "metadata": {
  "kernelspec": {
   "display_name": "dlk2",
   "language": "python",
   "name": "python3"
  },
  "language_info": {
   "codemirror_mode": {
    "name": "ipython",
    "version": 3
   },
   "file_extension": ".py",
   "mimetype": "text/x-python",
   "name": "python",
   "nbconvert_exporter": "python",
   "pygments_lexer": "ipython3",
   "version": "3.9.16"
  },
  "orig_nbformat": 4,
  "vscode": {
   "interpreter": {
    "hash": "25d3203011652c9a0b3745968f18b04c477a3d0b83eddc02ed4f61e610dee119"
   }
  }
 },
 "nbformat": 4,
 "nbformat_minor": 2
}
