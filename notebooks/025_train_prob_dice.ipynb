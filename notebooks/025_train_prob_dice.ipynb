{
 "cells": [
  {
   "attachments": {},
   "cell_type": "markdown",
   "metadata": {},
   "source": [
    "# distance and direciton\n",
    "\n",
    "Let try to opt for distance and direction with\n",
    "\n",
    "$L1loss(y_1-y_0, y_{true})$\n",
    "\n",
    "where $y_1=model(x_1)$\n",
    "\n",
    "So I'm optimising for the hidden states to be the correct distance and direcioton away. It's like the margin raning loss."
   ]
  },
  {
   "attachments": {},
   "cell_type": "markdown",
   "metadata": {},
   "source": [
    "\n",
    "links:\n",
    "- [loading](https://github.com/deep-diver/LLM-As-Chatbot/blob/main/models/alpaca.py)\n",
    "- [dict](https://github.com/deep-diver/LLM-As-Chatbot/blob/c79e855a492a968b54bac223e66dc9db448d6eba/model_cards.json#L143)\n",
    "- [prompt_format](https://github.com/deep-diver/PingPong/blob/main/src/pingpong/alpaca.py)"
   ]
  },
  {
   "cell_type": "code",
   "execution_count": 1,
   "metadata": {},
   "outputs": [],
   "source": [
    "# import your package\n",
    "%load_ext autoreload\n",
    "%autoreload 2"
   ]
  },
  {
   "cell_type": "code",
   "execution_count": 2,
   "metadata": {},
   "outputs": [
    {
     "name": "stdout",
     "output_type": "stream",
     "text": [
      "\n",
      "===================================BUG REPORT===================================\n",
      "Welcome to bitsandbytes. For bug reports, please run\n",
      "\n",
      "python -m bitsandbytes\n",
      "\n",
      " and submit this information together with your error trace to: https://github.com/TimDettmers/bitsandbytes/issues\n",
      "================================================================================\n",
      "bin /home/ubuntu/mambaforge/envs/dlk3/lib/python3.11/site-packages/bitsandbytes/libbitsandbytes_cuda117.so\n",
      "CUDA SETUP: CUDA runtime path found: /home/ubuntu/mambaforge/envs/dlk3/lib/libcudart.so\n",
      "CUDA SETUP: Highest compute capability among GPUs detected: 8.6\n",
      "CUDA SETUP: Detected CUDA version 117\n",
      "CUDA SETUP: Loading binary /home/ubuntu/mambaforge/envs/dlk3/lib/python3.11/site-packages/bitsandbytes/libbitsandbytes_cuda117.so...\n"
     ]
    },
    {
     "name": "stderr",
     "output_type": "stream",
     "text": [
      "/home/ubuntu/mambaforge/envs/dlk3/lib/python3.11/site-packages/bitsandbytes/cuda_setup/main.py:149: UserWarning: Found duplicate ['libcudart.so', 'libcudart.so.11.0', 'libcudart.so.12.0'] files: {PosixPath('/home/ubuntu/mambaforge/envs/dlk3/lib/libcudart.so'), PosixPath('/home/ubuntu/mambaforge/envs/dlk3/lib/libcudart.so.11.0')}.. We'll flip a coin and try one of these, in order to fail forward.\n",
      "Either way, this might cause trouble in the future:\n",
      "If you get `CUDA error: invalid device function` errors, the above might be the cause and the solution is to make sure only one ['libcudart.so', 'libcudart.so.11.0', 'libcudart.so.12.0'] in the paths that we search based on your env.\n",
      "  warn(msg)\n"
     ]
    },
    {
     "data": {
      "text/plain": [
       "'4.31.0'"
      ]
     },
     "execution_count": 2,
     "metadata": {},
     "output_type": "execute_result"
    }
   ],
   "source": [
    "\n",
    "import numpy as np\n",
    "import pandas as pd\n",
    "from matplotlib import pyplot as plt\n",
    "plt.style.use('ggplot')\n",
    "\n",
    "from typing import Optional, List, Dict, Union\n",
    "\n",
    "import torch\n",
    "import torch.nn as nn\n",
    "import torch.nn.functional as F\n",
    "from torch import Tensor\n",
    "from torch import optim\n",
    "from torch.utils.data import random_split, DataLoader, TensorDataset\n",
    "\n",
    "from pathlib import Path\n",
    "\n",
    "import transformers\n",
    "\n",
    "import lightning.pytorch as pl\n",
    "# from dataclasses import dataclass\n",
    "\n",
    "from sklearn.linear_model import LogisticRegression\n",
    "from sklearn.metrics import f1_score, roc_auc_score, accuracy_score\n",
    "from sklearn.preprocessing import RobustScaler\n",
    "\n",
    "from tqdm.auto import tqdm\n",
    "import os\n",
    "\n",
    "from loguru import logger\n",
    "logger.add(os.sys.stderr, format=\"{time} {level} {message}\", level=\"INFO\")\n",
    "\n",
    "\n",
    "\n",
    "transformers.__version__"
   ]
  },
  {
   "cell_type": "code",
   "execution_count": 3,
   "metadata": {},
   "outputs": [],
   "source": [
    "from src.helpers.lightning import read_metrics_csv"
   ]
  },
  {
   "cell_type": "markdown",
   "metadata": {},
   "source": [
    "# Dataset"
   ]
  },
  {
   "cell_type": "code",
   "execution_count": 4,
   "metadata": {},
   "outputs": [
    {
     "data": {
      "text/plain": [
       "Dataset({\n",
       "    features: ['scores0', 'ds_index', 'head_activation_and_grad', 'ds_string', 'example_i', 'answer', 'question', 'answer_choices', 'template_name', 'label_true', 'label_instructed', 'instructed_to_lie', 'sys_instr_name', 'prompt_truncated', 'choice_probs0', 'ans0', 'txt_ans0'],\n",
       "    num_rows: 2002\n",
       "})"
      ]
     },
     "execution_count": 4,
     "metadata": {},
     "output_type": "execute_result"
    }
   ],
   "source": [
    "from datasets import load_from_disk, concatenate_datasets\n",
    "fs = [\n",
    "    # '../.ds/WizardLMWizardCoder_3B_V1.0_imdb_train_300'\n",
    "    '../.ds/WizardLMWizardCoder_3B_V1.0_imdb_train_2000'\n",
    "]\n",
    "\n",
    "# './.ds/HuggingFaceH4starchat_beta-None-N_8000-ns_3-mc_0.2-2ffc1e'\n",
    "ds1 = concatenate_datasets([load_from_disk(f) for f in fs])\n",
    "ds1"
   ]
  },
  {
   "cell_type": "code",
   "execution_count": 5,
   "metadata": {},
   "outputs": [],
   "source": [
    "from src.datasets.load import ds2df"
   ]
  },
  {
   "cell_type": "markdown",
   "metadata": {},
   "source": [
    "## Filter"
   ]
  },
  {
   "cell_type": "code",
   "execution_count": 6,
   "metadata": {},
   "outputs": [
    {
     "data": {
      "text/html": [
       "<div>\n",
       "<style scoped>\n",
       "    .dataframe tbody tr th:only-of-type {\n",
       "        vertical-align: middle;\n",
       "    }\n",
       "\n",
       "    .dataframe tbody tr th {\n",
       "        vertical-align: top;\n",
       "    }\n",
       "\n",
       "    .dataframe thead th {\n",
       "        text-align: right;\n",
       "    }\n",
       "</style>\n",
       "<table border=\"1\" class=\"dataframe\">\n",
       "  <thead>\n",
       "    <tr style=\"text-align: right;\">\n",
       "      <th></th>\n",
       "      <th>ds_index</th>\n",
       "      <th>ds_string</th>\n",
       "      <th>example_i</th>\n",
       "      <th>answer</th>\n",
       "      <th>question</th>\n",
       "      <th>answer_choices</th>\n",
       "      <th>template_name</th>\n",
       "      <th>label_true</th>\n",
       "      <th>label_instructed</th>\n",
       "      <th>instructed_to_lie</th>\n",
       "      <th>sys_instr_name</th>\n",
       "      <th>prompt_truncated</th>\n",
       "      <th>choice_probs0</th>\n",
       "      <th>ans0</th>\n",
       "      <th>txt_ans0</th>\n",
       "      <th>dir_true</th>\n",
       "      <th>llm_ans</th>\n",
       "    </tr>\n",
       "  </thead>\n",
       "  <tbody>\n",
       "    <tr>\n",
       "      <th>0</th>\n",
       "      <td>0</td>\n",
       "      <td>imdb</td>\n",
       "      <td>0</td>\n",
       "      <td>positive</td>\n",
       "      <td>You are an AI assistant that always tells a li...</td>\n",
       "      <td>[negative, positive]</td>\n",
       "      <td>Movie Expressed Sentiment</td>\n",
       "      <td>0</td>\n",
       "      <td>1</td>\n",
       "      <td>True</td>\n",
       "      <td>lie_for_charity</td>\n",
       "      <td>Ingmar Bergman's Wild Strawberries, attempts ...</td>\n",
       "      <td>[0.11438386, 0.58088917]</td>\n",
       "      <td>0.835472</td>\n",
       "      <td>positive</td>\n",
       "      <td>0.835472</td>\n",
       "      <td>True</td>\n",
       "    </tr>\n",
       "    <tr>\n",
       "      <th>1</th>\n",
       "      <td>1</td>\n",
       "      <td>imdb</td>\n",
       "      <td>0</td>\n",
       "      <td>They didn't like it!</td>\n",
       "      <td>Below is an instruction that describes a task,...</td>\n",
       "      <td>[They didn't like it!, They loved it]</td>\n",
       "      <td>Reviewer Enjoyment</td>\n",
       "      <td>0</td>\n",
       "      <td>0</td>\n",
       "      <td>False</td>\n",
       "      <td>truth</td>\n",
       "      <td>OK, don't get bent out of round. I was kiddin...</td>\n",
       "      <td>[0.0041058003, 0.0041058003]</td>\n",
       "      <td>0.499392</td>\n",
       "      <td>\\n</td>\n",
       "      <td>0.499392</td>\n",
       "      <td>False</td>\n",
       "    </tr>\n",
       "    <tr>\n",
       "      <th>2</th>\n",
       "      <td>2</td>\n",
       "      <td>imdb</td>\n",
       "      <td>1</td>\n",
       "      <td>negative</td>\n",
       "      <td>You are an AI assistant that always tells a li...</td>\n",
       "      <td>[negative, positive]</td>\n",
       "      <td>Movie Expressed Sentiment</td>\n",
       "      <td>1</td>\n",
       "      <td>0</td>\n",
       "      <td>True</td>\n",
       "      <td>lie_for_charity</td>\n",
       "      <td>.It is quite possibly the best worst movie eve...</td>\n",
       "      <td>[0.029992886, 0.096818216]</td>\n",
       "      <td>0.763424</td>\n",
       "      <td>neutral</td>\n",
       "      <td>0.763424</td>\n",
       "      <td>True</td>\n",
       "    </tr>\n",
       "    <tr>\n",
       "      <th>3</th>\n",
       "      <td>3</td>\n",
       "      <td>imdb</td>\n",
       "      <td>1</td>\n",
       "      <td>They loved it</td>\n",
       "      <td>Below is an instruction that describes a task,...</td>\n",
       "      <td>[They didn't like it!, They loved it]</td>\n",
       "      <td>Reviewer Enjoyment</td>\n",
       "      <td>1</td>\n",
       "      <td>1</td>\n",
       "      <td>False</td>\n",
       "      <td>truth</td>\n",
       "      <td>breathing down his neck, a shed load of money...</td>\n",
       "      <td>[8.944882e-05, 8.944882e-05]</td>\n",
       "      <td>0.473531</td>\n",
       "      <td>\\n</td>\n",
       "      <td>0.473531</td>\n",
       "      <td>False</td>\n",
       "    </tr>\n",
       "    <tr>\n",
       "      <th>4</th>\n",
       "      <td>4</td>\n",
       "      <td>imdb</td>\n",
       "      <td>2</td>\n",
       "      <td>positive</td>\n",
       "      <td>You are an AI assistant that always tells a li...</td>\n",
       "      <td>[negative, positive]</td>\n",
       "      <td>Movie Expressed Sentiment</td>\n",
       "      <td>0</td>\n",
       "      <td>1</td>\n",
       "      <td>True</td>\n",
       "      <td>lie_for_charity</td>\n",
       "      <td>### Response:\\npositive\\n\\n### Instruction\\nYe...</td>\n",
       "      <td>[0.12756373, 0.29428643]</td>\n",
       "      <td>0.697592</td>\n",
       "      <td>positive</td>\n",
       "      <td>0.697592</td>\n",
       "      <td>True</td>\n",
       "    </tr>\n",
       "    <tr>\n",
       "      <th>...</th>\n",
       "      <td>...</td>\n",
       "      <td>...</td>\n",
       "      <td>...</td>\n",
       "      <td>...</td>\n",
       "      <td>...</td>\n",
       "      <td>...</td>\n",
       "      <td>...</td>\n",
       "      <td>...</td>\n",
       "      <td>...</td>\n",
       "      <td>...</td>\n",
       "      <td>...</td>\n",
       "      <td>...</td>\n",
       "      <td>...</td>\n",
       "      <td>...</td>\n",
       "      <td>...</td>\n",
       "      <td>...</td>\n",
       "      <td>...</td>\n",
       "    </tr>\n",
       "    <tr>\n",
       "      <th>1997</th>\n",
       "      <td>1997</td>\n",
       "      <td>imdb</td>\n",
       "      <td>998</td>\n",
       "      <td>They didn't like it!</td>\n",
       "      <td>Below is an instruction that describes a task,...</td>\n",
       "      <td>[They didn't like it!, They loved it]</td>\n",
       "      <td>Reviewer Enjoyment</td>\n",
       "      <td>0</td>\n",
       "      <td>0</td>\n",
       "      <td>False</td>\n",
       "      <td>truth</td>\n",
       "      <td>. Probably, because of Steven Martini. He real...</td>\n",
       "      <td>[0.0014253132, 0.0014253132]</td>\n",
       "      <td>0.498252</td>\n",
       "      <td>\\n</td>\n",
       "      <td>0.498252</td>\n",
       "      <td>False</td>\n",
       "    </tr>\n",
       "    <tr>\n",
       "      <th>1998</th>\n",
       "      <td>1998</td>\n",
       "      <td>imdb</td>\n",
       "      <td>999</td>\n",
       "      <td>negative</td>\n",
       "      <td>You are an AI assistant that always tells a li...</td>\n",
       "      <td>[negative, positive]</td>\n",
       "      <td>Movie Expressed Sentiment</td>\n",
       "      <td>1</td>\n",
       "      <td>0</td>\n",
       "      <td>True</td>\n",
       "      <td>lie_for_charity</td>\n",
       "      <td>\\nThe sentiment expressed for the movie is\\n\\n...</td>\n",
       "      <td>[0.2551259, 0.34330943]</td>\n",
       "      <td>0.573669</td>\n",
       "      <td>positive</td>\n",
       "      <td>0.573669</td>\n",
       "      <td>True</td>\n",
       "    </tr>\n",
       "    <tr>\n",
       "      <th>1999</th>\n",
       "      <td>1999</td>\n",
       "      <td>imdb</td>\n",
       "      <td>999</td>\n",
       "      <td>They loved it</td>\n",
       "      <td>Below is an instruction that describes a task,...</td>\n",
       "      <td>[They didn't like it!, They loved it]</td>\n",
       "      <td>Reviewer Enjoyment</td>\n",
       "      <td>1</td>\n",
       "      <td>1</td>\n",
       "      <td>False</td>\n",
       "      <td>truth</td>\n",
       "      <td>\\n\\n### Response:\\n\\nThey didn't like it!\\n\\n#...</td>\n",
       "      <td>[0.00029604204, 0.00029604204]</td>\n",
       "      <td>0.491696</td>\n",
       "      <td>\\n</td>\n",
       "      <td>0.491696</td>\n",
       "      <td>False</td>\n",
       "    </tr>\n",
       "    <tr>\n",
       "      <th>2000</th>\n",
       "      <td>2000</td>\n",
       "      <td>imdb</td>\n",
       "      <td>1000</td>\n",
       "      <td>positive</td>\n",
       "      <td>You are an AI assistant that always tells a li...</td>\n",
       "      <td>[negative, positive]</td>\n",
       "      <td>Movie Expressed Sentiment</td>\n",
       "      <td>0</td>\n",
       "      <td>1</td>\n",
       "      <td>True</td>\n",
       "      <td>lie_for_charity</td>\n",
       "      <td>GM musicals, credited Iturbi with interesting ...</td>\n",
       "      <td>[0.5088224, 0.10019307]</td>\n",
       "      <td>0.164514</td>\n",
       "      <td>negative</td>\n",
       "      <td>0.164514</td>\n",
       "      <td>False</td>\n",
       "    </tr>\n",
       "    <tr>\n",
       "      <th>2001</th>\n",
       "      <td>2001</td>\n",
       "      <td>imdb</td>\n",
       "      <td>1000</td>\n",
       "      <td>They didn't like it!</td>\n",
       "      <td>Below is an instruction that describes a task,...</td>\n",
       "      <td>[They didn't like it!, They loved it]</td>\n",
       "      <td>Reviewer Enjoyment</td>\n",
       "      <td>0</td>\n",
       "      <td>0</td>\n",
       "      <td>False</td>\n",
       "      <td>truth</td>\n",
       "      <td>Below is an instruction that describes a task,...</td>\n",
       "      <td>[1.0137976e-08, 1.0137976e-08]</td>\n",
       "      <td>0.001012</td>\n",
       "      <td>\\n</td>\n",
       "      <td>0.001012</td>\n",
       "      <td>False</td>\n",
       "    </tr>\n",
       "  </tbody>\n",
       "</table>\n",
       "<p>2002 rows × 17 columns</p>\n",
       "</div>"
      ],
      "text/plain": [
       "      ds_index ds_string  example_i                answer  \\\n",
       "0            0      imdb          0              positive   \n",
       "1            1      imdb          0  They didn't like it!   \n",
       "2            2      imdb          1              negative   \n",
       "3            3      imdb          1         They loved it   \n",
       "4            4      imdb          2              positive   \n",
       "...        ...       ...        ...                   ...   \n",
       "1997      1997      imdb        998  They didn't like it!   \n",
       "1998      1998      imdb        999              negative   \n",
       "1999      1999      imdb        999         They loved it   \n",
       "2000      2000      imdb       1000              positive   \n",
       "2001      2001      imdb       1000  They didn't like it!   \n",
       "\n",
       "                                               question  \\\n",
       "0     You are an AI assistant that always tells a li...   \n",
       "1     Below is an instruction that describes a task,...   \n",
       "2     You are an AI assistant that always tells a li...   \n",
       "3     Below is an instruction that describes a task,...   \n",
       "4     You are an AI assistant that always tells a li...   \n",
       "...                                                 ...   \n",
       "1997  Below is an instruction that describes a task,...   \n",
       "1998  You are an AI assistant that always tells a li...   \n",
       "1999  Below is an instruction that describes a task,...   \n",
       "2000  You are an AI assistant that always tells a li...   \n",
       "2001  Below is an instruction that describes a task,...   \n",
       "\n",
       "                             answer_choices              template_name  \\\n",
       "0                      [negative, positive]  Movie Expressed Sentiment   \n",
       "1     [They didn't like it!, They loved it]         Reviewer Enjoyment   \n",
       "2                      [negative, positive]  Movie Expressed Sentiment   \n",
       "3     [They didn't like it!, They loved it]         Reviewer Enjoyment   \n",
       "4                      [negative, positive]  Movie Expressed Sentiment   \n",
       "...                                     ...                        ...   \n",
       "1997  [They didn't like it!, They loved it]         Reviewer Enjoyment   \n",
       "1998                   [negative, positive]  Movie Expressed Sentiment   \n",
       "1999  [They didn't like it!, They loved it]         Reviewer Enjoyment   \n",
       "2000                   [negative, positive]  Movie Expressed Sentiment   \n",
       "2001  [They didn't like it!, They loved it]         Reviewer Enjoyment   \n",
       "\n",
       "      label_true  label_instructed  instructed_to_lie   sys_instr_name  \\\n",
       "0              0                 1               True  lie_for_charity   \n",
       "1              0                 0              False            truth   \n",
       "2              1                 0               True  lie_for_charity   \n",
       "3              1                 1              False            truth   \n",
       "4              0                 1               True  lie_for_charity   \n",
       "...          ...               ...                ...              ...   \n",
       "1997           0                 0              False            truth   \n",
       "1998           1                 0               True  lie_for_charity   \n",
       "1999           1                 1              False            truth   \n",
       "2000           0                 1               True  lie_for_charity   \n",
       "2001           0                 0              False            truth   \n",
       "\n",
       "                                       prompt_truncated  \\\n",
       "0      Ingmar Bergman's Wild Strawberries, attempts ...   \n",
       "1      OK, don't get bent out of round. I was kiddin...   \n",
       "2     .It is quite possibly the best worst movie eve...   \n",
       "3      breathing down his neck, a shed load of money...   \n",
       "4     ### Response:\\npositive\\n\\n### Instruction\\nYe...   \n",
       "...                                                 ...   \n",
       "1997  . Probably, because of Steven Martini. He real...   \n",
       "1998  \\nThe sentiment expressed for the movie is\\n\\n...   \n",
       "1999  \\n\\n### Response:\\n\\nThey didn't like it!\\n\\n#...   \n",
       "2000  GM musicals, credited Iturbi with interesting ...   \n",
       "2001  Below is an instruction that describes a task,...   \n",
       "\n",
       "                       choice_probs0      ans0  txt_ans0  dir_true  llm_ans  \n",
       "0           [0.11438386, 0.58088917]  0.835472  positive  0.835472     True  \n",
       "1       [0.0041058003, 0.0041058003]  0.499392        \\n  0.499392    False  \n",
       "2         [0.029992886, 0.096818216]  0.763424   neutral  0.763424     True  \n",
       "3       [8.944882e-05, 8.944882e-05]  0.473531        \\n  0.473531    False  \n",
       "4           [0.12756373, 0.29428643]  0.697592  positive  0.697592     True  \n",
       "...                              ...       ...       ...       ...      ...  \n",
       "1997    [0.0014253132, 0.0014253132]  0.498252        \\n  0.498252    False  \n",
       "1998         [0.2551259, 0.34330943]  0.573669  positive  0.573669     True  \n",
       "1999  [0.00029604204, 0.00029604204]  0.491696        \\n  0.491696    False  \n",
       "2000         [0.5088224, 0.10019307]  0.164514  negative  0.164514    False  \n",
       "2001  [1.0137976e-08, 1.0137976e-08]  0.001012        \\n  0.001012    False  \n",
       "\n",
       "[2002 rows x 17 columns]"
      ]
     },
     "execution_count": 6,
     "metadata": {},
     "output_type": "execute_result"
    }
   ],
   "source": [
    "# lets select only the ones where\n",
    "df = ds2df(ds1)\n",
    "df"
   ]
  },
  {
   "cell_type": "code",
   "execution_count": null,
   "metadata": {},
   "outputs": [],
   "source": []
  },
  {
   "cell_type": "code",
   "execution_count": 7,
   "metadata": {},
   "outputs": [
    {
     "name": "stdout",
     "output_type": "stream",
     "text": [
      "select rows are 50.05% based on knowledge\n"
     ]
    },
    {
     "data": {
      "text/plain": [
       "Dataset({\n",
       "    features: ['scores0', 'ds_index', 'head_activation_and_grad', 'ds_string', 'example_i', 'answer', 'question', 'answer_choices', 'template_name', 'label_true', 'label_instructed', 'instructed_to_lie', 'sys_instr_name', 'prompt_truncated', 'choice_probs0', 'ans0', 'txt_ans0'],\n",
       "    num_rows: 1002\n",
       "})"
      ]
     },
     "execution_count": 7,
     "metadata": {},
     "output_type": "execute_result"
    }
   ],
   "source": [
    "# # just select the question where the model knows the answer. \n",
    "df = ds2df(ds1)\n",
    "d = df.query('sys_instr_name==\"truth\"').set_index(\"example_i\")\n",
    "\n",
    "# # these are the ones where it got it right when asked to tell the truth\n",
    "m1 = d.llm_ans==d.label_true\n",
    "known_indices = d[m1].index\n",
    "print(f\"select rows are {m1.mean():2.2%} based on knowledge\")\n",
    "# # convert to row numbers, and use datasets to select\n",
    "known_rows = df['example_i'].isin(known_indices)\n",
    "known_rows_i = df[known_rows].index\n",
    "\n",
    "# # also restrict it to significant permutations. That is monte carlo dropout pairs, where the answer changes by more than X%\n",
    "# m = np.abs(df.ans0-df.ans1)>0.05\n",
    "# print(f\"selected rows are {m.mean():2.2%} for significance\")\n",
    "# significant_rows = m[m].index\n",
    "\n",
    "# allowed_rows_i = set(known_rows_i).intersection(significant_rows)\n",
    "# allowed_rows_i = significant_rows\n",
    "ds = ds1.select(known_rows_i)\n",
    "ds"
   ]
  },
  {
   "cell_type": "markdown",
   "metadata": {},
   "source": [
    "## Transform: Normalize by activation"
   ]
  },
  {
   "cell_type": "code",
   "execution_count": 8,
   "metadata": {},
   "outputs": [],
   "source": [
    "# N = 1000\n",
    "# small_ds = ds.select(range(N))\n",
    "# b = N\n",
    "# hs0 = small_ds['hs0'].reshape((b, -1))\n",
    "\n",
    "# scaler = RobustScaler()\n",
    "# hs1 = scaler.fit_transform(hs0)\n",
    "\n",
    "# def normalize_hs(hs0, hs1):\n",
    "#     shape=hs0.shape\n",
    "#     b = len(hs0)\n",
    "#     hs0 = scaler.transform(hs0.reshape((b, -1))).reshape(shape)\n",
    "#     hs1 = scaler.transform(hs1.reshape((b, -1))).reshape(shape)\n",
    "#     return {'hs0':hs0, 'hs1': hs1}\n",
    "\n",
    "# # Plot\n",
    "# plt.hist(hs0.flatten(), bins=155, range=[-5, 5], label='before', histtype='step')\n",
    "# plt.hist(hs1.flatten(), bins=155, range=[-5, 5], label='after', histtype='step')\n",
    "# plt.legend()\n",
    "# plt.show()\n",
    "\n",
    "# # # Test\n",
    "# # small_dataset = ds.select(range(4))\n",
    "# # small_dataset.map(normalize_hs, batched=True, batch_size=2, input_columns=['hs0', 'hs1'])\n",
    "\n",
    "# # run\n",
    "# ds = ds.map(normalize_hs, batched=True, input_columns=['hs0', 'hs1'])\n",
    "# ds"
   ]
  },
  {
   "attachments": {},
   "cell_type": "markdown",
   "metadata": {},
   "source": [
    "## Lightning DataModule"
   ]
  },
  {
   "cell_type": "code",
   "execution_count": 9,
   "metadata": {},
   "outputs": [
    {
     "data": {
      "text/html": [
       "<div>\n",
       "<style scoped>\n",
       "    .dataframe tbody tr th:only-of-type {\n",
       "        vertical-align: middle;\n",
       "    }\n",
       "\n",
       "    .dataframe tbody tr th {\n",
       "        vertical-align: top;\n",
       "    }\n",
       "\n",
       "    .dataframe thead th {\n",
       "        text-align: right;\n",
       "    }\n",
       "</style>\n",
       "<table border=\"1\" class=\"dataframe\">\n",
       "  <thead>\n",
       "    <tr style=\"text-align: right;\">\n",
       "      <th></th>\n",
       "      <th>ds_index</th>\n",
       "      <th>ds_string</th>\n",
       "      <th>example_i</th>\n",
       "      <th>answer</th>\n",
       "      <th>question</th>\n",
       "      <th>answer_choices</th>\n",
       "      <th>template_name</th>\n",
       "      <th>label_true</th>\n",
       "      <th>label_instructed</th>\n",
       "      <th>instructed_to_lie</th>\n",
       "      <th>sys_instr_name</th>\n",
       "      <th>prompt_truncated</th>\n",
       "      <th>choice_probs0</th>\n",
       "      <th>ans0</th>\n",
       "      <th>txt_ans0</th>\n",
       "      <th>dir_true</th>\n",
       "      <th>llm_ans</th>\n",
       "    </tr>\n",
       "  </thead>\n",
       "  <tbody>\n",
       "    <tr>\n",
       "      <th>0</th>\n",
       "      <td>0</td>\n",
       "      <td>imdb</td>\n",
       "      <td>0</td>\n",
       "      <td>positive</td>\n",
       "      <td>You are an AI assistant that always tells a li...</td>\n",
       "      <td>[negative, positive]</td>\n",
       "      <td>Movie Expressed Sentiment</td>\n",
       "      <td>0</td>\n",
       "      <td>1</td>\n",
       "      <td>True</td>\n",
       "      <td>lie_for_charity</td>\n",
       "      <td>Ingmar Bergman's Wild Strawberries, attempts ...</td>\n",
       "      <td>[0.11438386, 0.58088917]</td>\n",
       "      <td>0.835472</td>\n",
       "      <td>positive</td>\n",
       "      <td>0.835472</td>\n",
       "      <td>True</td>\n",
       "    </tr>\n",
       "    <tr>\n",
       "      <th>1</th>\n",
       "      <td>1</td>\n",
       "      <td>imdb</td>\n",
       "      <td>0</td>\n",
       "      <td>They didn't like it!</td>\n",
       "      <td>Below is an instruction that describes a task,...</td>\n",
       "      <td>[They didn't like it!, They loved it]</td>\n",
       "      <td>Reviewer Enjoyment</td>\n",
       "      <td>0</td>\n",
       "      <td>0</td>\n",
       "      <td>False</td>\n",
       "      <td>truth</td>\n",
       "      <td>OK, don't get bent out of round. I was kiddin...</td>\n",
       "      <td>[0.0041058003, 0.0041058003]</td>\n",
       "      <td>0.499392</td>\n",
       "      <td>\\n</td>\n",
       "      <td>0.499392</td>\n",
       "      <td>False</td>\n",
       "    </tr>\n",
       "    <tr>\n",
       "      <th>2</th>\n",
       "      <td>4</td>\n",
       "      <td>imdb</td>\n",
       "      <td>2</td>\n",
       "      <td>positive</td>\n",
       "      <td>You are an AI assistant that always tells a li...</td>\n",
       "      <td>[negative, positive]</td>\n",
       "      <td>Movie Expressed Sentiment</td>\n",
       "      <td>0</td>\n",
       "      <td>1</td>\n",
       "      <td>True</td>\n",
       "      <td>lie_for_charity</td>\n",
       "      <td>### Response:\\npositive\\n\\n### Instruction\\nYe...</td>\n",
       "      <td>[0.12756373, 0.29428643]</td>\n",
       "      <td>0.697592</td>\n",
       "      <td>positive</td>\n",
       "      <td>0.697592</td>\n",
       "      <td>True</td>\n",
       "    </tr>\n",
       "    <tr>\n",
       "      <th>3</th>\n",
       "      <td>5</td>\n",
       "      <td>imdb</td>\n",
       "      <td>2</td>\n",
       "      <td>They didn't like it!</td>\n",
       "      <td>Below is an instruction that describes a task,...</td>\n",
       "      <td>[They didn't like it!, They loved it]</td>\n",
       "      <td>Reviewer Enjoyment</td>\n",
       "      <td>0</td>\n",
       "      <td>0</td>\n",
       "      <td>False</td>\n",
       "      <td>truth</td>\n",
       "      <td>loved it\\n\\n### Instruction\\nYeh, I know -- y...</td>\n",
       "      <td>[3.7289974e-05, 3.7289974e-05]</td>\n",
       "      <td>0.440884</td>\n",
       "      <td>I</td>\n",
       "      <td>0.440884</td>\n",
       "      <td>False</td>\n",
       "    </tr>\n",
       "  </tbody>\n",
       "</table>\n",
       "</div>"
      ],
      "text/plain": [
       "   ds_index ds_string  example_i                answer  \\\n",
       "0         0      imdb          0              positive   \n",
       "1         1      imdb          0  They didn't like it!   \n",
       "2         4      imdb          2              positive   \n",
       "3         5      imdb          2  They didn't like it!   \n",
       "\n",
       "                                            question  \\\n",
       "0  You are an AI assistant that always tells a li...   \n",
       "1  Below is an instruction that describes a task,...   \n",
       "2  You are an AI assistant that always tells a li...   \n",
       "3  Below is an instruction that describes a task,...   \n",
       "\n",
       "                          answer_choices              template_name  \\\n",
       "0                   [negative, positive]  Movie Expressed Sentiment   \n",
       "1  [They didn't like it!, They loved it]         Reviewer Enjoyment   \n",
       "2                   [negative, positive]  Movie Expressed Sentiment   \n",
       "3  [They didn't like it!, They loved it]         Reviewer Enjoyment   \n",
       "\n",
       "   label_true  label_instructed  instructed_to_lie   sys_instr_name  \\\n",
       "0           0                 1               True  lie_for_charity   \n",
       "1           0                 0              False            truth   \n",
       "2           0                 1               True  lie_for_charity   \n",
       "3           0                 0              False            truth   \n",
       "\n",
       "                                    prompt_truncated  \\\n",
       "0   Ingmar Bergman's Wild Strawberries, attempts ...   \n",
       "1   OK, don't get bent out of round. I was kiddin...   \n",
       "2  ### Response:\\npositive\\n\\n### Instruction\\nYe...   \n",
       "3   loved it\\n\\n### Instruction\\nYeh, I know -- y...   \n",
       "\n",
       "                    choice_probs0      ans0  txt_ans0  dir_true  llm_ans  \n",
       "0        [0.11438386, 0.58088917]  0.835472  positive  0.835472     True  \n",
       "1    [0.0041058003, 0.0041058003]  0.499392        \\n  0.499392    False  \n",
       "2        [0.12756373, 0.29428643]  0.697592  positive  0.697592     True  \n",
       "3  [3.7289974e-05, 3.7289974e-05]  0.440884         I  0.440884    False  "
      ]
     },
     "execution_count": 9,
     "metadata": {},
     "output_type": "execute_result"
    }
   ],
   "source": [
    "df = ds2df(ds)\n",
    "df.head(4)"
   ]
  },
  {
   "cell_type": "code",
   "execution_count": 10,
   "metadata": {},
   "outputs": [],
   "source": [
    "# ds?"
   ]
  },
  {
   "attachments": {},
   "cell_type": "markdown",
   "metadata": {},
   "source": [
    "What are we detecting? If the right example of the pair is more deceptive.\n",
    "\n",
    "Now it's only deceptive if\n",
    "- it was asked to lie\n",
    "- it knows the truth\n",
    "- it gave the wrong answer (around 10% of the time)( it's hard to get these models to lie by encouragement rather than instruction)\n"
   ]
  },
  {
   "cell_type": "code",
   "execution_count": 11,
   "metadata": {},
   "outputs": [],
   "source": [
    "from src.helpers import switch2bool, bool2switch\n",
    "from src.datasets.dm import imdbHSDataModule"
   ]
  },
  {
   "cell_type": "code",
   "execution_count": 12,
   "metadata": {},
   "outputs": [
    {
     "data": {
      "text/plain": [
       "(5, 3)"
      ]
     },
     "execution_count": 12,
     "metadata": {},
     "output_type": "execute_result"
    }
   ],
   "source": [
    "batch_size = 120\n",
    "# test and cache\n",
    "dm = imdbHSDataModule(ds, batch_size=batch_size)\n",
    "dm.setup('train')\n",
    "\n",
    "dl_val = dm.val_dataloader()\n",
    "dl_train = dm.train_dataloader()\n",
    "len(dl_train), len(dl_val)"
   ]
  },
  {
   "cell_type": "code",
   "execution_count": 13,
   "metadata": {},
   "outputs": [
    {
     "data": {
      "text/plain": [
       "(1002, 4, 2816, 2)"
      ]
     },
     "execution_count": 13,
     "metadata": {},
     "output_type": "execute_result"
    }
   ],
   "source": [
    "ds['head_activation_and_grad'].shape"
   ]
  },
  {
   "cell_type": "code",
   "execution_count": 14,
   "metadata": {},
   "outputs": [
    {
     "data": {
      "text/plain": [
       "torch.Size([120, 4, 2816, 2])"
      ]
     },
     "execution_count": 14,
     "metadata": {},
     "output_type": "execute_result"
    }
   ],
   "source": [
    "b = next(iter(dl_train))\n",
    "x0, y = b\n",
    "x0.shape"
   ]
  },
  {
   "attachments": {},
   "cell_type": "markdown",
   "metadata": {},
   "source": [
    "# Data prep\n",
    "\n",
    "We do two inferences on the same inputs. Since we have dropout enabled, even during inference, we get two slightly different hidden states `hs1` and `hs2`, and two slightly different probabilities for our yes and no output tokens `p1` `p2`. We also have the true answer `t`\n",
    "\n",
    "So there are a few ways we can set up the problem. \n",
    "\n",
    "We can vary x:\n",
    "- `model(hs1)-model(hs2)=y`\n",
    "- `model(hs1-hs2)==y`\n",
    "\n",
    "And we can try differen't y's:\n",
    "- direction with a ranked loss. This could be unsupervised.\n",
    "- magnitude with a regression loss\n",
    "- vector (direction and magnitude) with a regression loss"
   ]
  },
  {
   "attachments": {},
   "cell_type": "markdown",
   "metadata": {},
   "source": [
    "# QC: Linear supervised probes\n",
    "\n",
    "\n",
    "Let's verify that the model's representations are good\n",
    "\n",
    "Before trying CCS, let's make sure there exists a direction that classifies examples as true vs false with high accuracy; if supervised logistic regression accuracy is bad, there's no hope of unsupervised CCS doing well.\n",
    "\n",
    "Note that because logistic regression is supervised we expect it to do better but to have worse generalisation that equivilent unsupervised methods. However in this case CSS is using a deeper model so it is more complicated.\n"
   ]
  },
  {
   "attachments": {},
   "cell_type": "markdown",
   "metadata": {},
   "source": [
    "## Try a classification of direction to truth"
   ]
  },
  {
   "cell_type": "code",
   "execution_count": 15,
   "metadata": {},
   "outputs": [],
   "source": [
    "# dm.y"
   ]
  },
  {
   "cell_type": "code",
   "execution_count": 16,
   "metadata": {},
   "outputs": [],
   "source": [
    "# n = len(df)\n",
    "\n",
    "# # Define X and y\n",
    "# X = (dm.hs1-dm.hs0).reshape((n, -1))#/dm.y[:, None]\n",
    "# y = dm.y>0\n",
    "\n",
    "# # split\n",
    "# n = len(y)\n",
    "# max_rows = 300\n",
    "# print('split size', n//2)\n",
    "# X_train, X_test = X[:n//2], X[n//2:]\n",
    "# y_train, y_test = y[:n//2], y[n//2:]\n",
    "# X_train = X_train[:max_rows]\n",
    "# y_train = y_train[:max_rows]\n",
    "# X_test = X_test[:max_rows]\n",
    "# y_test = y_test[:max_rows]\n",
    "\n",
    "# # scale\n",
    "# scaler = RobustScaler()\n",
    "# scaler.fit(X_train)\n",
    "# X_train2 = scaler.transform(X_train)\n",
    "# X_test2 = scaler.transform(X_test)\n",
    "# print('lr')\n",
    "\n",
    "# lr = LogisticRegression(class_weight=\"balanced\", penalty=\"l2\", max_iter=100)\n",
    "# lr.fit(X_train2, y_train>0)"
   ]
  },
  {
   "cell_type": "code",
   "execution_count": 17,
   "metadata": {},
   "outputs": [],
   "source": [
    "# y.mean()"
   ]
  },
  {
   "cell_type": "code",
   "execution_count": 18,
   "metadata": {},
   "outputs": [],
   "source": [
    "# print(\"Logistic cls acc: {:2.2%} [TRAIN]\".format(lr.score(X_train2, y_train>0)))\n",
    "# print(\"Logistic cls acc: {:2.2%} [TEST]\".format(lr.score(X_test2, y_test>0)))\n",
    "\n",
    "# m = df['instructed_to_lie'][n//2:][:max_rows]\n",
    "# y_test_pred = lr.predict(X_test2)\n",
    "# acc_w_lie = ((y_test_pred[m]>0)==(y_test[m]>0)).mean()\n",
    "# acc_wo_lie = ((y_test_pred[~m]>0)==(y_test[~m]>0)).mean()\n",
    "# print(f'test acc w lie {acc_w_lie:2.2%}')\n",
    "# print(f'test acc wo lie {acc_wo_lie:2.2%}')"
   ]
  },
  {
   "cell_type": "code",
   "execution_count": 19,
   "metadata": {},
   "outputs": [],
   "source": [
    "# primary_baseline = roc_auc_score(y_test>0, y_test_pred)\n",
    "# primary_baseline"
   ]
  },
  {
   "attachments": {},
   "cell_type": "markdown",
   "metadata": {},
   "source": [
    "# LightningModel"
   ]
  },
  {
   "cell_type": "code",
   "execution_count": 20,
   "metadata": {},
   "outputs": [],
   "source": [
    "# # from src.probes.conv import PLConvProbe\n",
    "# import torch\n",
    "# import torch.nn as nn\n",
    "# import torch.nn.functional as F\n",
    "# from src.probes.conv import PLConvProbe\n",
    "# from src.probes.pl_ranking import PLRanking\n",
    "# from torchmetrics.functional import accuracy\n",
    "# from src.helpers import switch2bool, bool2switch\n",
    "\n",
    "# class ConvProbe(nn.Module):\n",
    "#     def __init__(self, c_in, depth=0, hs=16, dropout=0, input_dropout=0):\n",
    "#         super().__init__()\n",
    "\n",
    "#         layers = [\n",
    "#             nn.BatchNorm1d(c_in, affine=False),  # this will normalise the inputs\n",
    "#             nn.Dropout1d(input_dropout),\n",
    "            \n",
    "#             nn.Conv1d(c_in, hs*(depth+1), kernel_size=3),\n",
    "#             nn.ReLU(),\n",
    "#             nn.BatchNorm1d(hs*(depth+1)),\n",
    "#             nn.AdaptiveAvgPool1d(5),\n",
    "#             nn.Flatten(),\n",
    "#             nn.Linear(hs*(depth+1)*5, hs*(depth+1)),\n",
    "#         ]\n",
    "#         for i in range(depth):\n",
    "#             layers += [\n",
    "#                 nn.Linear(hs*(depth-i+1), hs*(depth-i)),\n",
    "#                 nn.ReLU(),\n",
    "#                 nn.BatchNorm1d(hs*(depth-i)),\n",
    "                \n",
    "#             ]\n",
    "#         # layers += [nn.AdaptiveAvgPool1d(1)]\n",
    "#         self.net = nn.Sequential(*layers)\n",
    "#         self.head = nn.Sequential(\n",
    "#             nn.Linear(hs, hs), nn.ReLU(),\n",
    "#             nn.Dropout(dropout), nn.Linear(hs, 1)            \n",
    "#         )\n",
    "\n",
    "#     def forward(self, x):\n",
    "#         h = self.net(x)\n",
    "#         # print(1, h.shape)\n",
    "#         h = h.squeeze(-1)\n",
    "#         # print(1, h.shape)\n",
    "#         return self.head(h)\n",
    "\n",
    "# class PLConvProbe(PLRanking):\n",
    "#     def __init__(self, c_in, total_steps, lr=4e-3, weight_decay=1e-9, **kwargs):\n",
    "#         super().__init__(total_steps=total_steps, lr=lr, weight_decay=weight_decay)\n",
    "#         self.probe = ConvProbe(c_in, **kwargs)\n",
    "#         self.save_hyperparameters()\n",
    "        \n",
    "        \n",
    "#     def _step(self, batch, batch_idx, stage='train'):\n",
    "#         x0, x1, y = batch\n",
    "#         ypred0 = self(x0)\n",
    "#         ypred1 = self(x1)\n",
    "        \n",
    "#         if stage=='pred':\n",
    "#             return (ypred1-ypred0).float()\n",
    "        \n",
    "#         # loss = F.smooth_l1_loss(ypred1-ypred0, y)\n",
    "#         loss = F.margin_ranking_loss(ypred1, ypred0, y, margin=0.5)\n",
    "#         # self.log(f\"{stage}/loss\", loss)\n",
    "        \n",
    "#         y_cls = switch2bool(ypred1-ypred0)\n",
    "#         self.log(f\"{stage}/acc\", accuracy(y_cls, y>0, \"binary\"), on_epoch=True, on_step=False)\n",
    "#         self.log(f\"{stage}/loss\", loss, on_epoch=True, on_step=False)\n",
    "#         self.log(f\"{stage}/n\", len(y), on_epoch=True, on_step=False, reduce_fx=torch.sum)\n",
    "#         return loss\n",
    "    \n",
    "    "
   ]
  },
  {
   "cell_type": "code",
   "execution_count": 21,
   "metadata": {},
   "outputs": [],
   "source": [
    "\n",
    "def dice_loss(input, target):\n",
    "    smooth = 1.\n",
    "\n",
    "    iflat = input.view(-1)\n",
    "    tflat = target.view(-1)\n",
    "    intersection = (iflat * tflat).sum()\n",
    "    \n",
    "    return 1 - ((2. * intersection + smooth) /\n",
    "              (iflat.sum() + tflat.sum() + smooth))"
   ]
  },
  {
   "cell_type": "code",
   "execution_count": 22,
   "metadata": {},
   "outputs": [],
   "source": [
    "# from src.probes.conv import PLConvProbe\n",
    "import torch\n",
    "import torch.nn as nn\n",
    "import torch.nn.functional as F\n",
    "from einops import rearrange\n",
    "from src.probes.conv import PLConvProbe\n",
    "from src.probes.pl_ranking import PLRanking\n",
    "from torchmetrics.functional import accuracy\n",
    "from src.helpers import switch2bool, bool2switch\n",
    "\n",
    "class ConvProbe(nn.Module):\n",
    "    def __init__(self, c_in, depth=0, hs=16, dropout=0, input_dropout=0):\n",
    "        super().__init__()\n",
    "        # self.n_groups = 24 # groups of neurons\n",
    "        # c = c_in//self.n_groups\n",
    "        c = c_in\n",
    "        P = 1\n",
    "\n",
    "        cw = hs*(depth+1)\n",
    "        self.layers1 = nn.Sequential(*[\n",
    "            nn.BatchNorm2d(c, affine=False),  # this will normalise the inputs\n",
    "            # nn.Dropout2d(input_dropout),\n",
    "            \n",
    "            nn.Conv2d(c, c//4, kernel_size=(1, 2)),\n",
    "            nn.Conv2d(c//4, cw, kernel_size=(2, 1)),\n",
    "            nn.ReLU(),\n",
    "            nn.BatchNorm2d(cw),\n",
    "            \n",
    "            # nn.Conv2d(cw, cw, kernel_size=(1, 3)),\n",
    "            # nn.Conv2d(cw, cw, kernel_size=(3, 1)),\n",
    "            # nn.ReLU(),\n",
    "            # nn.BatchNorm2d(cw),\n",
    "            \n",
    "            \n",
    "            # nn.Conv2d(cw, cw, kernel_size=(1, 3)),\n",
    "            # nn.Conv2d(cw, cw, kernel_size=(3, 1)),\n",
    "            # nn.ReLU(),\n",
    "            # nn.BatchNorm2d(cw),            \n",
    "            \n",
    "            nn.AdaptiveAvgPool2d(P),\n",
    "            nn.Flatten(),\n",
    "            \n",
    "        ])\n",
    "        layers2 = [nn.Linear(hs*(depth+1)*P*P, hs*(depth+1)),]\n",
    "        for i in range(depth):\n",
    "            layers2 += [\n",
    "                nn.Linear(hs*(depth-i+1), hs*(depth-i)),\n",
    "                nn.ReLU(),\n",
    "                nn.BatchNorm1d(hs*(depth-i)),\n",
    "                \n",
    "            ]\n",
    "        # layers += [nn.AdaptiveAvgPool1d(1)]\n",
    "        self.layers2 = nn.Sequential(*layers2)\n",
    "        self.head = nn.Sequential(\n",
    "            nn.Linear(hs, hs), nn.ReLU(),\n",
    "            nn.Dropout(dropout), nn.Linear(hs, 1)            \n",
    "        )\n",
    "\n",
    "    def forward(self, x):\n",
    "        # torch.Size([76, 4, 2816, 2])\n",
    "        x = rearrange(x, 'b l hs f -> b hs l f')\n",
    "        # x = x.reshape((len(x), -1, self.n_groups, x.shape[-1]))\n",
    "        # print(x.shape, 3)\n",
    "        h = self.layers1(x)\n",
    "        # print(h.shape, 4)\n",
    "        h = self.layers2(h)\n",
    "        # print(h.shape, 5)\n",
    "        # print(1, h.shape)\n",
    "        h = h.squeeze(-1)\n",
    "        # print(1, h.shape)\n",
    "        return self.head(h)\n",
    "\n",
    "class PLConvProbe(PLRanking):\n",
    "    def __init__(self, c_in, total_steps, lr=4e-3, weight_decay=1e-9, **kwargs):\n",
    "        super().__init__(total_steps=total_steps, lr=lr, weight_decay=weight_decay)\n",
    "        self.probe = ConvProbe(c_in, **kwargs)\n",
    "        self.save_hyperparameters()\n",
    "        \n",
    "        \n",
    "    def _step(self, batch, batch_idx, stage='train'):\n",
    "        x0, y = batch\n",
    "        y_pred_logit = self(x0)\n",
    "        y_pred = F.sigmoid(y_pred_logit)\n",
    "        \n",
    "        if stage=='pred':\n",
    "            return y_pred.float()\n",
    "        \n",
    "        # loss = F.smooth_l1_loss(ypred1-ypred0, y)\n",
    "        # loss = F.margin_ranking_loss(ypred1, ypred0, y, margin=0.5)\n",
    "        # self.log(f\"{stage}/loss\", loss)\n",
    "        \n",
    "        # TODO dice loss?\n",
    "        # loss = F.binary_cross_entropy_with_logits(y_pred_logit, y)\n",
    "        loss = dice_loss(y_pred, y)\n",
    "        \n",
    "        y_cls = y_pred>0.5 # switch2bool(ypred1-ypred0)\n",
    "        self.log(f\"{stage}/acc\", accuracy(y_cls, y>0.5, \"binary\"), on_epoch=True, on_step=False)\n",
    "        self.log(f\"{stage}/loss\", loss, on_epoch=True, on_step=False)\n",
    "        self.log(f\"{stage}/n\", len(y), on_epoch=True, on_step=False, reduce_fx=torch.sum)\n",
    "        return loss\n",
    "    \n",
    "    "
   ]
  },
  {
   "cell_type": "code",
   "execution_count": null,
   "metadata": {},
   "outputs": [],
   "source": []
  },
  {
   "attachments": {},
   "cell_type": "markdown",
   "metadata": {},
   "source": [
    "# Run"
   ]
  },
  {
   "cell_type": "code",
   "execution_count": 23,
   "metadata": {},
   "outputs": [],
   "source": [
    "# quiet please\n",
    "torch.set_float32_matmul_precision('medium')\n",
    "\n",
    "import warnings\n",
    "warnings.filterwarnings(\"ignore\", \".*does not have many workers.*\")\n",
    "warnings.filterwarnings(\"ignore\", \".*F-score.*\")"
   ]
  },
  {
   "attachments": {},
   "cell_type": "markdown",
   "metadata": {},
   "source": [
    "## Prep dataloader/set"
   ]
  },
  {
   "cell_type": "code",
   "execution_count": 24,
   "metadata": {},
   "outputs": [],
   "source": [
    "dl_train = dm.train_dataloader()\n",
    "dl_val = dm.val_dataloader()\n",
    "b = next(iter(dl_train))"
   ]
  },
  {
   "cell_type": "code",
   "execution_count": 25,
   "metadata": {},
   "outputs": [
    {
     "name": "stdout",
     "output_type": "stream",
     "text": [
      "torch.Size([120, 4, 2816, 2])\n"
     ]
    }
   ],
   "source": [
    "max_epochs = 82\n",
    "batch_size = 6\n",
    "\n",
    "c_in = b[0].shape[2]\n",
    "print(b[0].shape)\n",
    "net = PLConvProbe(c_in=c_in, total_steps=max_epochs*len(dl_train), depth=0, hs=18, lr=3e-3, \n",
    "          weight_decay=.1, \n",
    "          # dropout=0.1, \n",
    "        #   input_dropout=0.3,\n",
    "          )"
   ]
  },
  {
   "cell_type": "code",
   "execution_count": 26,
   "metadata": {},
   "outputs": [
    {
     "data": {
      "text/plain": [
       "==========================================================================================\n",
       "Layer (type:depth-idx)                   Output Shape              Param #\n",
       "==========================================================================================\n",
       "PLConvProbe                              [120]                     --\n",
       "├─ConvProbe: 1-1                         [120, 1]                  --\n",
       "│    └─Sequential: 2-1                   [120, 18]                 --\n",
       "│    │    └─BatchNorm2d: 3-1             [120, 2816, 4, 2]         --\n",
       "│    │    └─Conv2d: 3-2                  [120, 704, 4, 1]          3,965,632\n",
       "│    │    └─Conv2d: 3-3                  [120, 18, 3, 1]           25,362\n",
       "│    │    └─ReLU: 3-4                    [120, 18, 3, 1]           --\n",
       "│    │    └─BatchNorm2d: 3-5             [120, 18, 3, 1]           36\n",
       "│    │    └─AdaptiveAvgPool2d: 3-6       [120, 18, 1, 1]           --\n",
       "│    │    └─Flatten: 3-7                 [120, 18]                 --\n",
       "│    └─Sequential: 2-2                   [120, 18]                 --\n",
       "│    │    └─Linear: 3-8                  [120, 18]                 342\n",
       "│    └─Sequential: 2-3                   [120, 1]                  --\n",
       "│    │    └─Linear: 3-9                  [120, 18]                 342\n",
       "│    │    └─ReLU: 3-10                   [120, 18]                 --\n",
       "│    │    └─Dropout: 3-11                [120, 18]                 --\n",
       "│    │    └─Linear: 3-12                 [120, 1]                  19\n",
       "==========================================================================================\n",
       "Total params: 3,991,733\n",
       "Trainable params: 3,991,733\n",
       "Non-trainable params: 0\n",
       "Total mult-adds (Units.GIGABYTES): 1.91\n",
       "==========================================================================================\n",
       "Input size (MB): 10.81\n",
       "Forward/backward pass size (MB): 2.84\n",
       "Params size (MB): 15.97\n",
       "Estimated Total Size (MB): 29.62\n",
       "=========================================================================================="
      ]
     },
     "execution_count": 26,
     "metadata": {},
     "output_type": "execute_result"
    }
   ],
   "source": [
    "from torchinfo import summary\n",
    "\n",
    "summary(net, input_size=b[0].shape)"
   ]
  },
  {
   "cell_type": "code",
   "execution_count": null,
   "metadata": {},
   "outputs": [],
   "source": []
  },
  {
   "cell_type": "code",
   "execution_count": 27,
   "metadata": {},
   "outputs": [
    {
     "name": "stderr",
     "output_type": "stream",
     "text": [
      "Using bfloat16 Automatic Mixed Precision (AMP)\n",
      "GPU available: True (cuda), used: True\n",
      "TPU available: False, using: 0 TPU cores\n",
      "IPU available: False, using: 0 IPUs\n",
      "HPU available: False, using: 0 HPUs\n"
     ]
    },
    {
     "name": "stderr",
     "output_type": "stream",
     "text": [
      "/home/ubuntu/mambaforge/envs/dlk3/lib/python3.11/site-packages/lightning/pytorch/trainer/connectors/logger_connector/logger_connector.py:67: UserWarning: Starting from v1.9.0, `tensorboardX` has been removed as a dependency of the `lightning.pytorch` package, due to potential conflicts with other packages in the ML ecosystem. For this reason, `logger=True` will use `CSVLogger` as the default logger, unless the `tensorboard` or `tensorboardX` packages are found. Please `pip install lightning[extra]` or one of them to enable TensorBoard support by default\n",
      "  warning_cache.warn(\n",
      "LOCAL_RANK: 0 - CUDA_VISIBLE_DEVICES: [0]\n",
      "\n",
      "  | Name  | Type      | Params\n",
      "------------------------------------\n",
      "0 | probe | ConvProbe | 4.0 M \n",
      "------------------------------------\n",
      "4.0 M     Trainable params\n",
      "0         Non-trainable params\n",
      "4.0 M     Total params\n",
      "15.967    Total estimated model params size (MB)\n"
     ]
    },
    {
     "data": {
      "application/vnd.jupyter.widget-view+json": {
       "model_id": "f78e23cc86994b46b5a822c6ceb18453",
       "version_major": 2,
       "version_minor": 0
      },
      "text/plain": [
       "Sanity Checking: 0it [00:00, ?it/s]"
      ]
     },
     "metadata": {},
     "output_type": "display_data"
    },
    {
     "name": "stderr",
     "output_type": "stream",
     "text": [
      "/home/ubuntu/mambaforge/envs/dlk3/lib/python3.11/site-packages/lightning/pytorch/trainer/connectors/logger_connector/result.py:212: UserWarning: You called `self.log('val/n', ...)` in your `validation_step` but the value needs to be floating point. Converting it to torch.float32.\n",
      "  warning_cache.warn(\n"
     ]
    },
    {
     "data": {
      "application/vnd.jupyter.widget-view+json": {
       "model_id": "a9c38c0cf27741b0b6fbabc493727135",
       "version_major": 2,
       "version_minor": 0
      },
      "text/plain": [
       "Training: 0it [00:00, ?it/s]"
      ]
     },
     "metadata": {},
     "output_type": "display_data"
    },
    {
     "name": "stderr",
     "output_type": "stream",
     "text": [
      "/home/ubuntu/mambaforge/envs/dlk3/lib/python3.11/site-packages/lightning/pytorch/trainer/connectors/logger_connector/result.py:212: UserWarning: You called `self.log('train/n', ...)` in your `training_step` but the value needs to be floating point. Converting it to torch.float32.\n",
      "  warning_cache.warn(\n"
     ]
    },
    {
     "data": {
      "application/vnd.jupyter.widget-view+json": {
       "model_id": "9076dd4dcc33481cac94929fd8c6daa0",
       "version_major": 2,
       "version_minor": 0
      },
      "text/plain": [
       "Validation: 0it [00:00, ?it/s]"
      ]
     },
     "metadata": {},
     "output_type": "display_data"
    },
    {
     "data": {
      "application/vnd.jupyter.widget-view+json": {
       "model_id": "ab4811a5dd634fa29da1a55750b90541",
       "version_major": 2,
       "version_minor": 0
      },
      "text/plain": [
       "Validation: 0it [00:00, ?it/s]"
      ]
     },
     "metadata": {},
     "output_type": "display_data"
    },
    {
     "data": {
      "application/vnd.jupyter.widget-view+json": {
       "model_id": "f9f796a7e95848c29d983efb9a0142a2",
       "version_major": 2,
       "version_minor": 0
      },
      "text/plain": [
       "Validation: 0it [00:00, ?it/s]"
      ]
     },
     "metadata": {},
     "output_type": "display_data"
    },
    {
     "data": {
      "application/vnd.jupyter.widget-view+json": {
       "model_id": "0ec1dfc9fb164441b1f9306e9b3d9054",
       "version_major": 2,
       "version_minor": 0
      },
      "text/plain": [
       "Validation: 0it [00:00, ?it/s]"
      ]
     },
     "metadata": {},
     "output_type": "display_data"
    },
    {
     "data": {
      "application/vnd.jupyter.widget-view+json": {
       "model_id": "0e9c1dadfe4b4e08ae2b31828d2204c8",
       "version_major": 2,
       "version_minor": 0
      },
      "text/plain": [
       "Validation: 0it [00:00, ?it/s]"
      ]
     },
     "metadata": {},
     "output_type": "display_data"
    },
    {
     "data": {
      "application/vnd.jupyter.widget-view+json": {
       "model_id": "4e547827c0d5413c8d898aca50c258e7",
       "version_major": 2,
       "version_minor": 0
      },
      "text/plain": [
       "Validation: 0it [00:00, ?it/s]"
      ]
     },
     "metadata": {},
     "output_type": "display_data"
    },
    {
     "data": {
      "application/vnd.jupyter.widget-view+json": {
       "model_id": "43624abd0ba745beb621b16f3ca9183d",
       "version_major": 2,
       "version_minor": 0
      },
      "text/plain": [
       "Validation: 0it [00:00, ?it/s]"
      ]
     },
     "metadata": {},
     "output_type": "display_data"
    },
    {
     "data": {
      "application/vnd.jupyter.widget-view+json": {
       "model_id": "32da5522dc354a7a8bb6f7f7cae59e41",
       "version_major": 2,
       "version_minor": 0
      },
      "text/plain": [
       "Validation: 0it [00:00, ?it/s]"
      ]
     },
     "metadata": {},
     "output_type": "display_data"
    },
    {
     "data": {
      "application/vnd.jupyter.widget-view+json": {
       "model_id": "89329792807c4876bb1343f3b0ad3649",
       "version_major": 2,
       "version_minor": 0
      },
      "text/plain": [
       "Validation: 0it [00:00, ?it/s]"
      ]
     },
     "metadata": {},
     "output_type": "display_data"
    },
    {
     "data": {
      "application/vnd.jupyter.widget-view+json": {
       "model_id": "9f561f27a5e7426793dc3fd293a6c1f1",
       "version_major": 2,
       "version_minor": 0
      },
      "text/plain": [
       "Validation: 0it [00:00, ?it/s]"
      ]
     },
     "metadata": {},
     "output_type": "display_data"
    },
    {
     "data": {
      "application/vnd.jupyter.widget-view+json": {
       "model_id": "c0b09180640447ed8a6484ba9e5abece",
       "version_major": 2,
       "version_minor": 0
      },
      "text/plain": [
       "Validation: 0it [00:00, ?it/s]"
      ]
     },
     "metadata": {},
     "output_type": "display_data"
    },
    {
     "data": {
      "application/vnd.jupyter.widget-view+json": {
       "model_id": "84820b2ed2ef4955947c4f702045e746",
       "version_major": 2,
       "version_minor": 0
      },
      "text/plain": [
       "Validation: 0it [00:00, ?it/s]"
      ]
     },
     "metadata": {},
     "output_type": "display_data"
    },
    {
     "data": {
      "application/vnd.jupyter.widget-view+json": {
       "model_id": "7429be9211a14e70ad58df64e2b51057",
       "version_major": 2,
       "version_minor": 0
      },
      "text/plain": [
       "Validation: 0it [00:00, ?it/s]"
      ]
     },
     "metadata": {},
     "output_type": "display_data"
    },
    {
     "data": {
      "application/vnd.jupyter.widget-view+json": {
       "model_id": "670b90a044be474bb66e27002c917ee2",
       "version_major": 2,
       "version_minor": 0
      },
      "text/plain": [
       "Validation: 0it [00:00, ?it/s]"
      ]
     },
     "metadata": {},
     "output_type": "display_data"
    },
    {
     "data": {
      "application/vnd.jupyter.widget-view+json": {
       "model_id": "8e9187875e90415993b93f1cfb24dbe2",
       "version_major": 2,
       "version_minor": 0
      },
      "text/plain": [
       "Validation: 0it [00:00, ?it/s]"
      ]
     },
     "metadata": {},
     "output_type": "display_data"
    },
    {
     "data": {
      "application/vnd.jupyter.widget-view+json": {
       "model_id": "8ae0a244986641cabd65c705cfb1b731",
       "version_major": 2,
       "version_minor": 0
      },
      "text/plain": [
       "Validation: 0it [00:00, ?it/s]"
      ]
     },
     "metadata": {},
     "output_type": "display_data"
    },
    {
     "data": {
      "application/vnd.jupyter.widget-view+json": {
       "model_id": "cb7655bcb31e4d0c9611de0eb7e7aba1",
       "version_major": 2,
       "version_minor": 0
      },
      "text/plain": [
       "Validation: 0it [00:00, ?it/s]"
      ]
     },
     "metadata": {},
     "output_type": "display_data"
    },
    {
     "data": {
      "application/vnd.jupyter.widget-view+json": {
       "model_id": "5d59ea7a3b0c4a2ea884cafd27cddaff",
       "version_major": 2,
       "version_minor": 0
      },
      "text/plain": [
       "Validation: 0it [00:00, ?it/s]"
      ]
     },
     "metadata": {},
     "output_type": "display_data"
    },
    {
     "data": {
      "application/vnd.jupyter.widget-view+json": {
       "model_id": "73f6e6b3fed24b19a6814e6dbcb2720a",
       "version_major": 2,
       "version_minor": 0
      },
      "text/plain": [
       "Validation: 0it [00:00, ?it/s]"
      ]
     },
     "metadata": {},
     "output_type": "display_data"
    },
    {
     "data": {
      "application/vnd.jupyter.widget-view+json": {
       "model_id": "03b5d1daf09c40f9a21cfa27f945e284",
       "version_major": 2,
       "version_minor": 0
      },
      "text/plain": [
       "Validation: 0it [00:00, ?it/s]"
      ]
     },
     "metadata": {},
     "output_type": "display_data"
    },
    {
     "data": {
      "application/vnd.jupyter.widget-view+json": {
       "model_id": "44c2ed72af0845bea5734653646b4431",
       "version_major": 2,
       "version_minor": 0
      },
      "text/plain": [
       "Validation: 0it [00:00, ?it/s]"
      ]
     },
     "metadata": {},
     "output_type": "display_data"
    },
    {
     "data": {
      "application/vnd.jupyter.widget-view+json": {
       "model_id": "7a81b1db9b224051a3f3bfcc0d336e1e",
       "version_major": 2,
       "version_minor": 0
      },
      "text/plain": [
       "Validation: 0it [00:00, ?it/s]"
      ]
     },
     "metadata": {},
     "output_type": "display_data"
    },
    {
     "data": {
      "application/vnd.jupyter.widget-view+json": {
       "model_id": "82cccfac0c2c41ffb5f4a4508d4e235d",
       "version_major": 2,
       "version_minor": 0
      },
      "text/plain": [
       "Validation: 0it [00:00, ?it/s]"
      ]
     },
     "metadata": {},
     "output_type": "display_data"
    },
    {
     "data": {
      "application/vnd.jupyter.widget-view+json": {
       "model_id": "9182083b1ef6432d9de91a21a4a4b597",
       "version_major": 2,
       "version_minor": 0
      },
      "text/plain": [
       "Validation: 0it [00:00, ?it/s]"
      ]
     },
     "metadata": {},
     "output_type": "display_data"
    },
    {
     "data": {
      "application/vnd.jupyter.widget-view+json": {
       "model_id": "97f4eb4e67f64e0292b15fc0c208c537",
       "version_major": 2,
       "version_minor": 0
      },
      "text/plain": [
       "Validation: 0it [00:00, ?it/s]"
      ]
     },
     "metadata": {},
     "output_type": "display_data"
    },
    {
     "data": {
      "application/vnd.jupyter.widget-view+json": {
       "model_id": "13dac4345a9645b2926857cff1b79282",
       "version_major": 2,
       "version_minor": 0
      },
      "text/plain": [
       "Validation: 0it [00:00, ?it/s]"
      ]
     },
     "metadata": {},
     "output_type": "display_data"
    },
    {
     "data": {
      "application/vnd.jupyter.widget-view+json": {
       "model_id": "f922fc3d595441449d587b3b6730ef64",
       "version_major": 2,
       "version_minor": 0
      },
      "text/plain": [
       "Validation: 0it [00:00, ?it/s]"
      ]
     },
     "metadata": {},
     "output_type": "display_data"
    },
    {
     "data": {
      "application/vnd.jupyter.widget-view+json": {
       "model_id": "4fbadfff9a0540b3be2a0493439907d7",
       "version_major": 2,
       "version_minor": 0
      },
      "text/plain": [
       "Validation: 0it [00:00, ?it/s]"
      ]
     },
     "metadata": {},
     "output_type": "display_data"
    },
    {
     "data": {
      "application/vnd.jupyter.widget-view+json": {
       "model_id": "76953a484a6940ce94dc5811522c7afd",
       "version_major": 2,
       "version_minor": 0
      },
      "text/plain": [
       "Validation: 0it [00:00, ?it/s]"
      ]
     },
     "metadata": {},
     "output_type": "display_data"
    },
    {
     "data": {
      "application/vnd.jupyter.widget-view+json": {
       "model_id": "b28f0d59bbc8429bb5e366f06e99cfc5",
       "version_major": 2,
       "version_minor": 0
      },
      "text/plain": [
       "Validation: 0it [00:00, ?it/s]"
      ]
     },
     "metadata": {},
     "output_type": "display_data"
    },
    {
     "data": {
      "application/vnd.jupyter.widget-view+json": {
       "model_id": "a6ab8aca832d4fa49c6d09a7f443e086",
       "version_major": 2,
       "version_minor": 0
      },
      "text/plain": [
       "Validation: 0it [00:00, ?it/s]"
      ]
     },
     "metadata": {},
     "output_type": "display_data"
    },
    {
     "data": {
      "application/vnd.jupyter.widget-view+json": {
       "model_id": "d912d3d63ca342be87645281354f5548",
       "version_major": 2,
       "version_minor": 0
      },
      "text/plain": [
       "Validation: 0it [00:00, ?it/s]"
      ]
     },
     "metadata": {},
     "output_type": "display_data"
    },
    {
     "data": {
      "application/vnd.jupyter.widget-view+json": {
       "model_id": "838484a91374470fa83d6cc61805900d",
       "version_major": 2,
       "version_minor": 0
      },
      "text/plain": [
       "Validation: 0it [00:00, ?it/s]"
      ]
     },
     "metadata": {},
     "output_type": "display_data"
    },
    {
     "data": {
      "application/vnd.jupyter.widget-view+json": {
       "model_id": "43027681773e4a38bea00d523a1e3dda",
       "version_major": 2,
       "version_minor": 0
      },
      "text/plain": [
       "Validation: 0it [00:00, ?it/s]"
      ]
     },
     "metadata": {},
     "output_type": "display_data"
    },
    {
     "data": {
      "application/vnd.jupyter.widget-view+json": {
       "model_id": "b0dfe464b0c448c697e0637d3f988ad7",
       "version_major": 2,
       "version_minor": 0
      },
      "text/plain": [
       "Validation: 0it [00:00, ?it/s]"
      ]
     },
     "metadata": {},
     "output_type": "display_data"
    },
    {
     "data": {
      "application/vnd.jupyter.widget-view+json": {
       "model_id": "4c9ed569cf244b6a812a04f982acc29e",
       "version_major": 2,
       "version_minor": 0
      },
      "text/plain": [
       "Validation: 0it [00:00, ?it/s]"
      ]
     },
     "metadata": {},
     "output_type": "display_data"
    },
    {
     "data": {
      "application/vnd.jupyter.widget-view+json": {
       "model_id": "7fb45d03c4e7480fbe26974c64b8dde1",
       "version_major": 2,
       "version_minor": 0
      },
      "text/plain": [
       "Validation: 0it [00:00, ?it/s]"
      ]
     },
     "metadata": {},
     "output_type": "display_data"
    },
    {
     "data": {
      "application/vnd.jupyter.widget-view+json": {
       "model_id": "9be4b1fa360b4a7cbf874788fcf5d407",
       "version_major": 2,
       "version_minor": 0
      },
      "text/plain": [
       "Validation: 0it [00:00, ?it/s]"
      ]
     },
     "metadata": {},
     "output_type": "display_data"
    },
    {
     "data": {
      "application/vnd.jupyter.widget-view+json": {
       "model_id": "3fd1f55e5d6841b68289831696a36979",
       "version_major": 2,
       "version_minor": 0
      },
      "text/plain": [
       "Validation: 0it [00:00, ?it/s]"
      ]
     },
     "metadata": {},
     "output_type": "display_data"
    },
    {
     "data": {
      "application/vnd.jupyter.widget-view+json": {
       "model_id": "60e8d9b636214581a21c9409d1ba7756",
       "version_major": 2,
       "version_minor": 0
      },
      "text/plain": [
       "Validation: 0it [00:00, ?it/s]"
      ]
     },
     "metadata": {},
     "output_type": "display_data"
    },
    {
     "data": {
      "application/vnd.jupyter.widget-view+json": {
       "model_id": "978707d9bff24df288eb4d1a4ae77bc4",
       "version_major": 2,
       "version_minor": 0
      },
      "text/plain": [
       "Validation: 0it [00:00, ?it/s]"
      ]
     },
     "metadata": {},
     "output_type": "display_data"
    },
    {
     "data": {
      "application/vnd.jupyter.widget-view+json": {
       "model_id": "36a4e2ba89d94866b56a50d6c6b30236",
       "version_major": 2,
       "version_minor": 0
      },
      "text/plain": [
       "Validation: 0it [00:00, ?it/s]"
      ]
     },
     "metadata": {},
     "output_type": "display_data"
    },
    {
     "data": {
      "application/vnd.jupyter.widget-view+json": {
       "model_id": "18109c0423144e97832bb4ce998ef9b9",
       "version_major": 2,
       "version_minor": 0
      },
      "text/plain": [
       "Validation: 0it [00:00, ?it/s]"
      ]
     },
     "metadata": {},
     "output_type": "display_data"
    },
    {
     "data": {
      "application/vnd.jupyter.widget-view+json": {
       "model_id": "21d5fb8c77d04b1cb9fc611238ae96d7",
       "version_major": 2,
       "version_minor": 0
      },
      "text/plain": [
       "Validation: 0it [00:00, ?it/s]"
      ]
     },
     "metadata": {},
     "output_type": "display_data"
    },
    {
     "data": {
      "application/vnd.jupyter.widget-view+json": {
       "model_id": "c3e37923152e44a39d4826c90d1ea964",
       "version_major": 2,
       "version_minor": 0
      },
      "text/plain": [
       "Validation: 0it [00:00, ?it/s]"
      ]
     },
     "metadata": {},
     "output_type": "display_data"
    },
    {
     "data": {
      "application/vnd.jupyter.widget-view+json": {
       "model_id": "88e4b4233fa34b51a3761e03a157dbe4",
       "version_major": 2,
       "version_minor": 0
      },
      "text/plain": [
       "Validation: 0it [00:00, ?it/s]"
      ]
     },
     "metadata": {},
     "output_type": "display_data"
    },
    {
     "data": {
      "application/vnd.jupyter.widget-view+json": {
       "model_id": "64a3bc3aedcb428ababfade54b5612f9",
       "version_major": 2,
       "version_minor": 0
      },
      "text/plain": [
       "Validation: 0it [00:00, ?it/s]"
      ]
     },
     "metadata": {},
     "output_type": "display_data"
    },
    {
     "data": {
      "application/vnd.jupyter.widget-view+json": {
       "model_id": "45e8cd0ba165457c8fc19665c13e9281",
       "version_major": 2,
       "version_minor": 0
      },
      "text/plain": [
       "Validation: 0it [00:00, ?it/s]"
      ]
     },
     "metadata": {},
     "output_type": "display_data"
    },
    {
     "data": {
      "application/vnd.jupyter.widget-view+json": {
       "model_id": "281007c63e8146b685fe1c53a1c03bb5",
       "version_major": 2,
       "version_minor": 0
      },
      "text/plain": [
       "Validation: 0it [00:00, ?it/s]"
      ]
     },
     "metadata": {},
     "output_type": "display_data"
    },
    {
     "data": {
      "application/vnd.jupyter.widget-view+json": {
       "model_id": "018a54ec2b0041caaecb886aff4f6d0e",
       "version_major": 2,
       "version_minor": 0
      },
      "text/plain": [
       "Validation: 0it [00:00, ?it/s]"
      ]
     },
     "metadata": {},
     "output_type": "display_data"
    },
    {
     "data": {
      "application/vnd.jupyter.widget-view+json": {
       "model_id": "87b74b6bca2149089e7b3b8075c6b557",
       "version_major": 2,
       "version_minor": 0
      },
      "text/plain": [
       "Validation: 0it [00:00, ?it/s]"
      ]
     },
     "metadata": {},
     "output_type": "display_data"
    },
    {
     "data": {
      "application/vnd.jupyter.widget-view+json": {
       "model_id": "35109e3968ed419a846406bd5144483a",
       "version_major": 2,
       "version_minor": 0
      },
      "text/plain": [
       "Validation: 0it [00:00, ?it/s]"
      ]
     },
     "metadata": {},
     "output_type": "display_data"
    },
    {
     "data": {
      "application/vnd.jupyter.widget-view+json": {
       "model_id": "49373222a1504864b00e498e03563690",
       "version_major": 2,
       "version_minor": 0
      },
      "text/plain": [
       "Validation: 0it [00:00, ?it/s]"
      ]
     },
     "metadata": {},
     "output_type": "display_data"
    },
    {
     "data": {
      "application/vnd.jupyter.widget-view+json": {
       "model_id": "3d0d66c7fed648f7a2305a7770f248ad",
       "version_major": 2,
       "version_minor": 0
      },
      "text/plain": [
       "Validation: 0it [00:00, ?it/s]"
      ]
     },
     "metadata": {},
     "output_type": "display_data"
    },
    {
     "data": {
      "application/vnd.jupyter.widget-view+json": {
       "model_id": "e192e19e78a54d98a500606773b59d29",
       "version_major": 2,
       "version_minor": 0
      },
      "text/plain": [
       "Validation: 0it [00:00, ?it/s]"
      ]
     },
     "metadata": {},
     "output_type": "display_data"
    },
    {
     "data": {
      "application/vnd.jupyter.widget-view+json": {
       "model_id": "ca9803d83ee54d80837baf5ad4ecb830",
       "version_major": 2,
       "version_minor": 0
      },
      "text/plain": [
       "Validation: 0it [00:00, ?it/s]"
      ]
     },
     "metadata": {},
     "output_type": "display_data"
    },
    {
     "data": {
      "application/vnd.jupyter.widget-view+json": {
       "model_id": "2a7284ab3f8b453a8f82fcc703d50552",
       "version_major": 2,
       "version_minor": 0
      },
      "text/plain": [
       "Validation: 0it [00:00, ?it/s]"
      ]
     },
     "metadata": {},
     "output_type": "display_data"
    },
    {
     "data": {
      "application/vnd.jupyter.widget-view+json": {
       "model_id": "200453d5d78745849c80ea2d1b9f173a",
       "version_major": 2,
       "version_minor": 0
      },
      "text/plain": [
       "Validation: 0it [00:00, ?it/s]"
      ]
     },
     "metadata": {},
     "output_type": "display_data"
    },
    {
     "data": {
      "application/vnd.jupyter.widget-view+json": {
       "model_id": "693a1086b3d541c4b3f08e05743013d8",
       "version_major": 2,
       "version_minor": 0
      },
      "text/plain": [
       "Validation: 0it [00:00, ?it/s]"
      ]
     },
     "metadata": {},
     "output_type": "display_data"
    },
    {
     "data": {
      "application/vnd.jupyter.widget-view+json": {
       "model_id": "0d628c696611432583c6096872a6653c",
       "version_major": 2,
       "version_minor": 0
      },
      "text/plain": [
       "Validation: 0it [00:00, ?it/s]"
      ]
     },
     "metadata": {},
     "output_type": "display_data"
    },
    {
     "data": {
      "application/vnd.jupyter.widget-view+json": {
       "model_id": "34bd8dcda1484e138743ae217c375d72",
       "version_major": 2,
       "version_minor": 0
      },
      "text/plain": [
       "Validation: 0it [00:00, ?it/s]"
      ]
     },
     "metadata": {},
     "output_type": "display_data"
    },
    {
     "data": {
      "application/vnd.jupyter.widget-view+json": {
       "model_id": "40bef691cec542bf855579f82e1adb47",
       "version_major": 2,
       "version_minor": 0
      },
      "text/plain": [
       "Validation: 0it [00:00, ?it/s]"
      ]
     },
     "metadata": {},
     "output_type": "display_data"
    },
    {
     "data": {
      "application/vnd.jupyter.widget-view+json": {
       "model_id": "d65009a646b54d2a874b242b1d5847d7",
       "version_major": 2,
       "version_minor": 0
      },
      "text/plain": [
       "Validation: 0it [00:00, ?it/s]"
      ]
     },
     "metadata": {},
     "output_type": "display_data"
    },
    {
     "data": {
      "application/vnd.jupyter.widget-view+json": {
       "model_id": "9470328fb54448f0b8ff610f2342d73b",
       "version_major": 2,
       "version_minor": 0
      },
      "text/plain": [
       "Validation: 0it [00:00, ?it/s]"
      ]
     },
     "metadata": {},
     "output_type": "display_data"
    },
    {
     "data": {
      "application/vnd.jupyter.widget-view+json": {
       "model_id": "53a72691c6d64722b25458ff029fc476",
       "version_major": 2,
       "version_minor": 0
      },
      "text/plain": [
       "Validation: 0it [00:00, ?it/s]"
      ]
     },
     "metadata": {},
     "output_type": "display_data"
    },
    {
     "data": {
      "application/vnd.jupyter.widget-view+json": {
       "model_id": "18909fe834514f41b6480038106f227a",
       "version_major": 2,
       "version_minor": 0
      },
      "text/plain": [
       "Validation: 0it [00:00, ?it/s]"
      ]
     },
     "metadata": {},
     "output_type": "display_data"
    },
    {
     "data": {
      "application/vnd.jupyter.widget-view+json": {
       "model_id": "474f165cc3c94495b2249441eb549807",
       "version_major": 2,
       "version_minor": 0
      },
      "text/plain": [
       "Validation: 0it [00:00, ?it/s]"
      ]
     },
     "metadata": {},
     "output_type": "display_data"
    },
    {
     "data": {
      "application/vnd.jupyter.widget-view+json": {
       "model_id": "665ad4b4e79344c9a1afb245c7810359",
       "version_major": 2,
       "version_minor": 0
      },
      "text/plain": [
       "Validation: 0it [00:00, ?it/s]"
      ]
     },
     "metadata": {},
     "output_type": "display_data"
    },
    {
     "data": {
      "application/vnd.jupyter.widget-view+json": {
       "model_id": "fa87483aaeef47828d667f9892fb7d09",
       "version_major": 2,
       "version_minor": 0
      },
      "text/plain": [
       "Validation: 0it [00:00, ?it/s]"
      ]
     },
     "metadata": {},
     "output_type": "display_data"
    },
    {
     "data": {
      "application/vnd.jupyter.widget-view+json": {
       "model_id": "93583de562164254a509b769b6e89d9f",
       "version_major": 2,
       "version_minor": 0
      },
      "text/plain": [
       "Validation: 0it [00:00, ?it/s]"
      ]
     },
     "metadata": {},
     "output_type": "display_data"
    },
    {
     "data": {
      "application/vnd.jupyter.widget-view+json": {
       "model_id": "08ad2e5f65a449eea56268af187f128c",
       "version_major": 2,
       "version_minor": 0
      },
      "text/plain": [
       "Validation: 0it [00:00, ?it/s]"
      ]
     },
     "metadata": {},
     "output_type": "display_data"
    },
    {
     "data": {
      "application/vnd.jupyter.widget-view+json": {
       "model_id": "e4816da05d87418ca74ce2ecc1025d23",
       "version_major": 2,
       "version_minor": 0
      },
      "text/plain": [
       "Validation: 0it [00:00, ?it/s]"
      ]
     },
     "metadata": {},
     "output_type": "display_data"
    },
    {
     "data": {
      "application/vnd.jupyter.widget-view+json": {
       "model_id": "6055b1c3ad704b8dac6482d1bb1d7757",
       "version_major": 2,
       "version_minor": 0
      },
      "text/plain": [
       "Validation: 0it [00:00, ?it/s]"
      ]
     },
     "metadata": {},
     "output_type": "display_data"
    },
    {
     "data": {
      "application/vnd.jupyter.widget-view+json": {
       "model_id": "8bc5e5bbbb75430fadb004c88a88c734",
       "version_major": 2,
       "version_minor": 0
      },
      "text/plain": [
       "Validation: 0it [00:00, ?it/s]"
      ]
     },
     "metadata": {},
     "output_type": "display_data"
    },
    {
     "data": {
      "application/vnd.jupyter.widget-view+json": {
       "model_id": "e5c1eb9f352f46bfa2e8ae7e434b3eaf",
       "version_major": 2,
       "version_minor": 0
      },
      "text/plain": [
       "Validation: 0it [00:00, ?it/s]"
      ]
     },
     "metadata": {},
     "output_type": "display_data"
    },
    {
     "data": {
      "application/vnd.jupyter.widget-view+json": {
       "model_id": "99583e96eea04243bf24ec2306676b56",
       "version_major": 2,
       "version_minor": 0
      },
      "text/plain": [
       "Validation: 0it [00:00, ?it/s]"
      ]
     },
     "metadata": {},
     "output_type": "display_data"
    },
    {
     "data": {
      "application/vnd.jupyter.widget-view+json": {
       "model_id": "7600168042cc430987c723c91ce40b3c",
       "version_major": 2,
       "version_minor": 0
      },
      "text/plain": [
       "Validation: 0it [00:00, ?it/s]"
      ]
     },
     "metadata": {},
     "output_type": "display_data"
    },
    {
     "data": {
      "application/vnd.jupyter.widget-view+json": {
       "model_id": "5d023c17d5354e66bc3d1373be3f2e77",
       "version_major": 2,
       "version_minor": 0
      },
      "text/plain": [
       "Validation: 0it [00:00, ?it/s]"
      ]
     },
     "metadata": {},
     "output_type": "display_data"
    },
    {
     "data": {
      "application/vnd.jupyter.widget-view+json": {
       "model_id": "81dbe7be93c14d6f9ff33d57382c4b0b",
       "version_major": 2,
       "version_minor": 0
      },
      "text/plain": [
       "Validation: 0it [00:00, ?it/s]"
      ]
     },
     "metadata": {},
     "output_type": "display_data"
    },
    {
     "data": {
      "application/vnd.jupyter.widget-view+json": {
       "model_id": "6e6cf893621c4781bb54fc37e0201bb1",
       "version_major": 2,
       "version_minor": 0
      },
      "text/plain": [
       "Validation: 0it [00:00, ?it/s]"
      ]
     },
     "metadata": {},
     "output_type": "display_data"
    },
    {
     "data": {
      "application/vnd.jupyter.widget-view+json": {
       "model_id": "4e9f72335c874e278e7b35ca4b7172d5",
       "version_major": 2,
       "version_minor": 0
      },
      "text/plain": [
       "Validation: 0it [00:00, ?it/s]"
      ]
     },
     "metadata": {},
     "output_type": "display_data"
    },
    {
     "data": {
      "application/vnd.jupyter.widget-view+json": {
       "model_id": "ebee42a8652c4fec8ddcf0fdca059b8c",
       "version_major": 2,
       "version_minor": 0
      },
      "text/plain": [
       "Validation: 0it [00:00, ?it/s]"
      ]
     },
     "metadata": {},
     "output_type": "display_data"
    },
    {
     "name": "stderr",
     "output_type": "stream",
     "text": [
      "`Trainer.fit` stopped: `max_epochs=82` reached.\n"
     ]
    }
   ],
   "source": [
    "\n",
    "# init the model\n",
    "\n",
    "trainer = pl.Trainer(precision=\"bf16-mixed\",\n",
    "                     \n",
    "                     gradient_clip_val=20,\n",
    "                     max_epochs=max_epochs, log_every_n_steps=5)\n",
    "trainer.fit(model=net, train_dataloaders=dl_train, val_dataloaders=dl_val)"
   ]
  },
  {
   "attachments": {},
   "cell_type": "markdown",
   "metadata": {},
   "source": [
    "# Read hist"
   ]
  },
  {
   "cell_type": "code",
   "execution_count": 28,
   "metadata": {},
   "outputs": [
    {
     "data": {
      "text/html": [
       "<div>\n",
       "<style scoped>\n",
       "    .dataframe tbody tr th:only-of-type {\n",
       "        vertical-align: middle;\n",
       "    }\n",
       "\n",
       "    .dataframe tbody tr th {\n",
       "        vertical-align: top;\n",
       "    }\n",
       "\n",
       "    .dataframe thead th {\n",
       "        text-align: right;\n",
       "    }\n",
       "</style>\n",
       "<table border=\"1\" class=\"dataframe\">\n",
       "  <thead>\n",
       "    <tr style=\"text-align: right;\">\n",
       "      <th></th>\n",
       "      <th>val/acc</th>\n",
       "      <th>val/loss</th>\n",
       "      <th>val/n</th>\n",
       "      <th>step</th>\n",
       "      <th>train/acc</th>\n",
       "      <th>train/loss</th>\n",
       "      <th>train/n</th>\n",
       "    </tr>\n",
       "    <tr>\n",
       "      <th>epoch</th>\n",
       "      <th></th>\n",
       "      <th></th>\n",
       "      <th></th>\n",
       "      <th></th>\n",
       "      <th></th>\n",
       "      <th></th>\n",
       "      <th></th>\n",
       "    </tr>\n",
       "  </thead>\n",
       "  <tbody>\n",
       "    <tr>\n",
       "      <th>0</th>\n",
       "      <td>0.260</td>\n",
       "      <td>0.439425</td>\n",
       "      <td>250.0</td>\n",
       "      <td>4.0</td>\n",
       "      <td>0.227545</td>\n",
       "      <td>0.423977</td>\n",
       "      <td>501.0</td>\n",
       "    </tr>\n",
       "    <tr>\n",
       "      <th>1</th>\n",
       "      <td>0.260</td>\n",
       "      <td>0.438442</td>\n",
       "      <td>250.0</td>\n",
       "      <td>9.0</td>\n",
       "      <td>0.229541</td>\n",
       "      <td>0.412106</td>\n",
       "      <td>501.0</td>\n",
       "    </tr>\n",
       "    <tr>\n",
       "      <th>2</th>\n",
       "      <td>0.260</td>\n",
       "      <td>0.437699</td>\n",
       "      <td>250.0</td>\n",
       "      <td>14.0</td>\n",
       "      <td>0.263473</td>\n",
       "      <td>0.403992</td>\n",
       "      <td>501.0</td>\n",
       "    </tr>\n",
       "    <tr>\n",
       "      <th>3</th>\n",
       "      <td>0.260</td>\n",
       "      <td>0.432364</td>\n",
       "      <td>250.0</td>\n",
       "      <td>19.0</td>\n",
       "      <td>0.281437</td>\n",
       "      <td>0.396438</td>\n",
       "      <td>501.0</td>\n",
       "    </tr>\n",
       "    <tr>\n",
       "      <th>4</th>\n",
       "      <td>0.260</td>\n",
       "      <td>0.423463</td>\n",
       "      <td>250.0</td>\n",
       "      <td>24.0</td>\n",
       "      <td>0.377246</td>\n",
       "      <td>0.389593</td>\n",
       "      <td>501.0</td>\n",
       "    </tr>\n",
       "    <tr>\n",
       "      <th>...</th>\n",
       "      <td>...</td>\n",
       "      <td>...</td>\n",
       "      <td>...</td>\n",
       "      <td>...</td>\n",
       "      <td>...</td>\n",
       "      <td>...</td>\n",
       "      <td>...</td>\n",
       "    </tr>\n",
       "    <tr>\n",
       "      <th>77</th>\n",
       "      <td>0.996</td>\n",
       "      <td>0.002821</td>\n",
       "      <td>250.0</td>\n",
       "      <td>389.0</td>\n",
       "      <td>1.000000</td>\n",
       "      <td>0.000000</td>\n",
       "      <td>501.0</td>\n",
       "    </tr>\n",
       "    <tr>\n",
       "      <th>78</th>\n",
       "      <td>0.996</td>\n",
       "      <td>0.002821</td>\n",
       "      <td>250.0</td>\n",
       "      <td>394.0</td>\n",
       "      <td>1.000000</td>\n",
       "      <td>0.000000</td>\n",
       "      <td>501.0</td>\n",
       "    </tr>\n",
       "    <tr>\n",
       "      <th>79</th>\n",
       "      <td>0.996</td>\n",
       "      <td>0.002842</td>\n",
       "      <td>250.0</td>\n",
       "      <td>399.0</td>\n",
       "      <td>1.000000</td>\n",
       "      <td>0.000008</td>\n",
       "      <td>501.0</td>\n",
       "    </tr>\n",
       "    <tr>\n",
       "      <th>80</th>\n",
       "      <td>0.996</td>\n",
       "      <td>0.002842</td>\n",
       "      <td>250.0</td>\n",
       "      <td>404.0</td>\n",
       "      <td>1.000000</td>\n",
       "      <td>0.000000</td>\n",
       "      <td>501.0</td>\n",
       "    </tr>\n",
       "    <tr>\n",
       "      <th>81</th>\n",
       "      <td>0.996</td>\n",
       "      <td>0.002842</td>\n",
       "      <td>250.0</td>\n",
       "      <td>409.0</td>\n",
       "      <td>1.000000</td>\n",
       "      <td>0.000000</td>\n",
       "      <td>501.0</td>\n",
       "    </tr>\n",
       "  </tbody>\n",
       "</table>\n",
       "<p>82 rows × 7 columns</p>\n",
       "</div>"
      ],
      "text/plain": [
       "       val/acc  val/loss  val/n   step  train/acc  train/loss  train/n\n",
       "epoch                                                                 \n",
       "0        0.260  0.439425  250.0    4.0   0.227545    0.423977    501.0\n",
       "1        0.260  0.438442  250.0    9.0   0.229541    0.412106    501.0\n",
       "2        0.260  0.437699  250.0   14.0   0.263473    0.403992    501.0\n",
       "3        0.260  0.432364  250.0   19.0   0.281437    0.396438    501.0\n",
       "4        0.260  0.423463  250.0   24.0   0.377246    0.389593    501.0\n",
       "...        ...       ...    ...    ...        ...         ...      ...\n",
       "77       0.996  0.002821  250.0  389.0   1.000000    0.000000    501.0\n",
       "78       0.996  0.002821  250.0  394.0   1.000000    0.000000    501.0\n",
       "79       0.996  0.002842  250.0  399.0   1.000000    0.000008    501.0\n",
       "80       0.996  0.002842  250.0  404.0   1.000000    0.000000    501.0\n",
       "81       0.996  0.002842  250.0  409.0   1.000000    0.000000    501.0\n",
       "\n",
       "[82 rows x 7 columns]"
      ]
     },
     "execution_count": 28,
     "metadata": {},
     "output_type": "execute_result"
    }
   ],
   "source": [
    "df_hist = read_metrics_csv(trainer.logger.experiment.metrics_file_path).ffill().bfill()\n",
    "df_hist"
   ]
  },
  {
   "cell_type": "code",
   "execution_count": 29,
   "metadata": {},
   "outputs": [
    {
     "data": {
      "image/png": "[encoded data removed]",
      "text/plain": [
       "<Figure size 640x480 with 1 Axes>"
      ]
     },
     "metadata": {},
     "output_type": "display_data"
    }
   ],
   "source": [
    "for key in ['loss']:\n",
    "    df_hist[[c for c in df_hist.columns if key in c]].plot(logy=True)"
   ]
  },
  {
   "cell_type": "code",
   "execution_count": 30,
   "metadata": {},
   "outputs": [
    {
     "data": {
      "image/png": "[encoded data removed]",
      "text/plain": [
       "<Figure size 640x480 with 1 Axes>"
      ]
     },
     "metadata": {},
     "output_type": "display_data"
    }
   ],
   "source": [
    "for key in ['acc']:\n",
    "    df_hist[[c for c in df_hist.columns if key in c]].plot()"
   ]
  },
  {
   "attachments": {},
   "cell_type": "markdown",
   "metadata": {},
   "source": [
    "## Predict"
   ]
  },
  {
   "cell_type": "code",
   "execution_count": 31,
   "metadata": {},
   "outputs": [
    {
     "name": "stderr",
     "output_type": "stream",
     "text": [
      "LOCAL_RANK: 0 - CUDA_VISIBLE_DEVICES: [0]\n",
      "/home/ubuntu/mambaforge/envs/dlk3/lib/python3.11/site-packages/lightning/pytorch/trainer/connectors/data_connector.py:480: PossibleUserWarning: Your `test_dataloader`'s sampler has shuffling enabled, it is strongly recommended that you turn shuffling off for val/test dataloaders.\n",
      "  rank_zero_warn(\n"
     ]
    },
    {
     "data": {
      "application/vnd.jupyter.widget-view+json": {
       "model_id": "cc95be1658b547e79775b04985bfe74b",
       "version_major": 2,
       "version_minor": 0
      },
      "text/plain": [
       "Testing: 0it [00:00, ?it/s]"
      ]
     },
     "metadata": {},
     "output_type": "display_data"
    },
    {
     "name": "stderr",
     "output_type": "stream",
     "text": [
      "/home/ubuntu/mambaforge/envs/dlk3/lib/python3.11/site-packages/lightning/pytorch/trainer/connectors/logger_connector/result.py:212: UserWarning: You called `self.log('test/n', ...)` in your `test_step.0` but the value needs to be floating point. Converting it to torch.float32.\n",
      "  warning_cache.warn(\n",
      "/home/ubuntu/mambaforge/envs/dlk3/lib/python3.11/site-packages/lightning/pytorch/trainer/connectors/logger_connector/result.py:212: UserWarning: You called `self.log('test/n', ...)` in your `test_step.1` but the value needs to be floating point. Converting it to torch.float32.\n",
      "  warning_cache.warn(\n",
      "/home/ubuntu/mambaforge/envs/dlk3/lib/python3.11/site-packages/lightning/pytorch/trainer/connectors/logger_connector/result.py:212: UserWarning: You called `self.log('test/n', ...)` in your `test_step.2` but the value needs to be floating point. Converting it to torch.float32.\n",
      "  warning_cache.warn(\n"
     ]
    },
    {
     "data": {
      "text/html": [
       "<pre style=\"white-space:pre;overflow-x:auto;line-height:normal;font-family:Menlo,'DejaVu Sans Mono',consolas,'Courier New',monospace\">┏━━━━━━━━━━━━━━━━━━━━━━━━━━━┳━━━━━━━━━━━━━━━━━━━━━━━━━━━┳━━━━━━━━━━━━━━━━━━━━━━━━━━━┳━━━━━━━━━━━━━━━━━━━━━━━━━━━┓\n",
       "┃<span style=\"font-weight: bold\">   Runningstage.testing    </span>┃<span style=\"font-weight: bold\">                           </span>┃<span style=\"font-weight: bold\">                           </span>┃<span style=\"font-weight: bold\">                           </span>┃\n",
       "┃<span style=\"font-weight: bold\">          metric           </span>┃<span style=\"font-weight: bold\">       DataLoader 0        </span>┃<span style=\"font-weight: bold\">       DataLoader 1        </span>┃<span style=\"font-weight: bold\">       DataLoader 2        </span>┃\n",
       "┡━━━━━━━━━━━━━━━━━━━━━━━━━━━╇━━━━━━━━━━━━━━━━━━━━━━━━━━━╇━━━━━━━━━━━━━━━━━━━━━━━━━━━╇━━━━━━━━━━━━━━━━━━━━━━━━━━━┩\n",
       "│<span style=\"color: #008080; text-decoration-color: #008080\">         test/acc          </span>│<span style=\"color: #800080; text-decoration-color: #800080\">            1.0            </span>│<span style=\"color: #800080; text-decoration-color: #800080\">    0.9959999918937683     </span>│<span style=\"color: #800080; text-decoration-color: #800080\">    0.9960159659385681     </span>│\n",
       "│<span style=\"color: #008080; text-decoration-color: #008080\">         test/loss         </span>│<span style=\"color: #800080; text-decoration-color: #800080\">            0.0            </span>│<span style=\"color: #800080; text-decoration-color: #800080\">   0.002841939916834235    </span>│<span style=\"color: #800080; text-decoration-color: #800080\">   0.0028444952331483364   </span>│\n",
       "│<span style=\"color: #008080; text-decoration-color: #008080\">          test/n           </span>│<span style=\"color: #800080; text-decoration-color: #800080\">           501.0           </span>│<span style=\"color: #800080; text-decoration-color: #800080\">           250.0           </span>│<span style=\"color: #800080; text-decoration-color: #800080\">           251.0           </span>│\n",
       "└───────────────────────────┴───────────────────────────┴───────────────────────────┴───────────────────────────┘\n",
       "</pre>\n"
      ],
      "text/plain": [
       "┏━━━━━━━━━━━━━━━━━━━━━━━━━━━┳━━━━━━━━━━━━━━━━━━━━━━━━━━━┳━━━━━━━━━━━━━━━━━━━━━━━━━━━┳━━━━━━━━━━━━━━━━━━━━━━━━━━━┓\n",
       "┃\u001b[1m \u001b[0m\u001b[1m  Runningstage.testing   \u001b[0m\u001b[1m \u001b[0m┃\u001b[1m                           \u001b[0m┃\u001b[1m                           \u001b[0m┃\u001b[1m                           \u001b[0m┃\n",
       "┃\u001b[1m \u001b[0m\u001b[1m         metric          \u001b[0m\u001b[1m \u001b[0m┃\u001b[1m \u001b[0m\u001b[1m      DataLoader 0       \u001b[0m\u001b[1m \u001b[0m┃\u001b[1m \u001b[0m\u001b[1m      DataLoader 1       \u001b[0m\u001b[1m \u001b[0m┃\u001b[1m \u001b[0m\u001b[1m      DataLoader 2       \u001b[0m\u001b[1m \u001b[0m┃\n",
       "┡━━━━━━━━━━━━━━━━━━━━━━━━━━━╇━━━━━━━━━━━━━━━━━━━━━━━━━━━╇━━━━━━━━━━━━━━━━━━━━━━━━━━━╇━━━━━━━━━━━━━━━━━━━━━━━━━━━┩\n",
       "│\u001b[36m \u001b[0m\u001b[36m        test/acc         \u001b[0m\u001b[36m \u001b[0m│\u001b[35m \u001b[0m\u001b[35m           1.0           \u001b[0m\u001b[35m \u001b[0m│\u001b[35m \u001b[0m\u001b[35m   0.9959999918937683    \u001b[0m\u001b[35m \u001b[0m│\u001b[35m \u001b[0m\u001b[35m   0.9960159659385681    \u001b[0m\u001b[35m \u001b[0m│\n",
       "│\u001b[36m \u001b[0m\u001b[36m        test/loss        \u001b[0m\u001b[36m \u001b[0m│\u001b[35m \u001b[0m\u001b[35m           0.0           \u001b[0m\u001b[35m \u001b[0m│\u001b[35m \u001b[0m\u001b[35m  0.002841939916834235   \u001b[0m\u001b[35m \u001b[0m│\u001b[35m \u001b[0m\u001b[35m  0.0028444952331483364  \u001b[0m\u001b[35m \u001b[0m│\n",
       "│\u001b[36m \u001b[0m\u001b[36m         test/n          \u001b[0m\u001b[36m \u001b[0m│\u001b[35m \u001b[0m\u001b[35m          501.0          \u001b[0m\u001b[35m \u001b[0m│\u001b[35m \u001b[0m\u001b[35m          250.0          \u001b[0m\u001b[35m \u001b[0m│\u001b[35m \u001b[0m\u001b[35m          251.0          \u001b[0m\u001b[35m \u001b[0m│\n",
       "└───────────────────────────┴───────────────────────────┴───────────────────────────┴───────────────────────────┘\n"
      ]
     },
     "metadata": {},
     "output_type": "display_data"
    },
    {
     "data": {
      "text/plain": [
       "[{'test/acc/dataloader_idx_0': 1.0,\n",
       "  'test/loss/dataloader_idx_0': 0.0,\n",
       "  'test/n/dataloader_idx_0': 501.0},\n",
       " {'test/acc/dataloader_idx_1': 0.9959999918937683,\n",
       "  'test/loss/dataloader_idx_1': 0.002841939916834235,\n",
       "  'test/n/dataloader_idx_1': 250.0},\n",
       " {'test/acc/dataloader_idx_2': 0.9960159659385681,\n",
       "  'test/loss/dataloader_idx_2': 0.0028444952331483364,\n",
       "  'test/n/dataloader_idx_2': 251.0}]"
      ]
     },
     "execution_count": 31,
     "metadata": {},
     "output_type": "execute_result"
    }
   ],
   "source": [
    "dl_test = dm.test_dataloader()\n",
    "rs = trainer.test(net, dataloaders=[dl_train, dl_val, dl_test])\n",
    "rs"
   ]
  },
  {
   "cell_type": "code",
   "execution_count": 32,
   "metadata": {},
   "outputs": [
    {
     "name": "stderr",
     "output_type": "stream",
     "text": [
      "LOCAL_RANK: 0 - CUDA_VISIBLE_DEVICES: [0]\n"
     ]
    },
    {
     "data": {
      "application/vnd.jupyter.widget-view+json": {
       "model_id": "408f81fd3f8047fea17f309d362ff51b",
       "version_major": 2,
       "version_minor": 0
      },
      "text/plain": [
       "Predicting: 0it [00:00, ?it/s]"
      ]
     },
     "metadata": {},
     "output_type": "display_data"
    },
    {
     "data": {
      "text/plain": [
       "(251,)"
      ]
     },
     "execution_count": 32,
     "metadata": {},
     "output_type": "execute_result"
    }
   ],
   "source": [
    "dl_test = dm.test_dataloader()\n",
    "r = trainer.predict(net, dataloaders=dl_test)\n",
    "y_test_pred = np.concatenate(r)\n",
    "y_test_pred.shape"
   ]
  },
  {
   "cell_type": "code",
   "execution_count": null,
   "metadata": {},
   "outputs": [],
   "source": []
  },
  {
   "cell_type": "code",
   "execution_count": 33,
   "metadata": {},
   "outputs": [],
   "source": [
    "df_test = dm.df.iloc[dm.splits['test'][0]:].copy()\n",
    "y_true = dl_test.dataset.tensors[1].numpy()"
   ]
  },
  {
   "cell_type": "code",
   "execution_count": 34,
   "metadata": {},
   "outputs": [
    {
     "data": {
      "text/html": [
       "<div>\n",
       "<style scoped>\n",
       "    .dataframe tbody tr th:only-of-type {\n",
       "        vertical-align: middle;\n",
       "    }\n",
       "\n",
       "    .dataframe tbody tr th {\n",
       "        vertical-align: top;\n",
       "    }\n",
       "\n",
       "    .dataframe thead th {\n",
       "        text-align: right;\n",
       "    }\n",
       "</style>\n",
       "<table border=\"1\" class=\"dataframe\">\n",
       "  <thead>\n",
       "    <tr style=\"text-align: right;\">\n",
       "      <th></th>\n",
       "      <th>ds_index</th>\n",
       "      <th>ds_string</th>\n",
       "      <th>example_i</th>\n",
       "      <th>answer</th>\n",
       "      <th>question</th>\n",
       "      <th>answer_choices</th>\n",
       "      <th>template_name</th>\n",
       "      <th>label_true</th>\n",
       "      <th>label_instructed</th>\n",
       "      <th>instructed_to_lie</th>\n",
       "      <th>...</th>\n",
       "      <th>prompt_truncated</th>\n",
       "      <th>choice_probs0</th>\n",
       "      <th>ans0</th>\n",
       "      <th>txt_ans0</th>\n",
       "      <th>dir_true</th>\n",
       "      <th>llm_ans</th>\n",
       "      <th>y</th>\n",
       "      <th>probe_pred</th>\n",
       "      <th>probe_prob</th>\n",
       "      <th>llm_prob</th>\n",
       "    </tr>\n",
       "  </thead>\n",
       "  <tbody>\n",
       "    <tr>\n",
       "      <th>751</th>\n",
       "      <td>1501</td>\n",
       "      <td>imdb</td>\n",
       "      <td>750</td>\n",
       "      <td>They didn't like it!</td>\n",
       "      <td>Below is an instruction that describes a task,...</td>\n",
       "      <td>[They didn't like it!, They loved it]</td>\n",
       "      <td>Reviewer Enjoyment</td>\n",
       "      <td>0</td>\n",
       "      <td>0</td>\n",
       "      <td>False</td>\n",
       "      <td>...</td>\n",
       "      <td>runs water from a faucet across her wrist in ...</td>\n",
       "      <td>[0.0019906624, 0.0019906624]</td>\n",
       "      <td>0.498747</td>\n",
       "      <td>\\n</td>\n",
       "      <td>0.498747</td>\n",
       "      <td>False</td>\n",
       "      <td>True</td>\n",
       "      <td>True</td>\n",
       "      <td>1.0</td>\n",
       "      <td>0.498747</td>\n",
       "    </tr>\n",
       "    <tr>\n",
       "      <th>752</th>\n",
       "      <td>1504</td>\n",
       "      <td>imdb</td>\n",
       "      <td>752</td>\n",
       "      <td>positive</td>\n",
       "      <td>You are an AI assistant that always tells a li...</td>\n",
       "      <td>[negative, positive]</td>\n",
       "      <td>Movie Expressed Sentiment</td>\n",
       "      <td>0</td>\n",
       "      <td>1</td>\n",
       "      <td>True</td>\n",
       "      <td>...</td>\n",
       "      <td>as possible. You are a liar for charity. Let'...</td>\n",
       "      <td>[0.738636, 0.1283557]</td>\n",
       "      <td>0.148045</td>\n",
       "      <td>negative</td>\n",
       "      <td>0.148045</td>\n",
       "      <td>False</td>\n",
       "      <td>True</td>\n",
       "      <td>True</td>\n",
       "      <td>1.0</td>\n",
       "      <td>0.148045</td>\n",
       "    </tr>\n",
       "    <tr>\n",
       "      <th>753</th>\n",
       "      <td>1505</td>\n",
       "      <td>imdb</td>\n",
       "      <td>752</td>\n",
       "      <td>They didn't like it!</td>\n",
       "      <td>Below is an instruction that describes a task,...</td>\n",
       "      <td>[They didn't like it!, They loved it]</td>\n",
       "      <td>Reviewer Enjoyment</td>\n",
       "      <td>0</td>\n",
       "      <td>0</td>\n",
       "      <td>False</td>\n",
       "      <td>...</td>\n",
       "      <td>to act. The result is something that would no...</td>\n",
       "      <td>[0.0004183, 0.0004183]</td>\n",
       "      <td>0.494094</td>\n",
       "      <td>\\n</td>\n",
       "      <td>0.494094</td>\n",
       "      <td>False</td>\n",
       "      <td>True</td>\n",
       "      <td>True</td>\n",
       "      <td>1.0</td>\n",
       "      <td>0.494094</td>\n",
       "    </tr>\n",
       "  </tbody>\n",
       "</table>\n",
       "<p>3 rows × 21 columns</p>\n",
       "</div>"
      ],
      "text/plain": [
       "     ds_index ds_string  example_i                answer  \\\n",
       "751      1501      imdb        750  They didn't like it!   \n",
       "752      1504      imdb        752              positive   \n",
       "753      1505      imdb        752  They didn't like it!   \n",
       "\n",
       "                                              question  \\\n",
       "751  Below is an instruction that describes a task,...   \n",
       "752  You are an AI assistant that always tells a li...   \n",
       "753  Below is an instruction that describes a task,...   \n",
       "\n",
       "                            answer_choices              template_name  \\\n",
       "751  [They didn't like it!, They loved it]         Reviewer Enjoyment   \n",
       "752                   [negative, positive]  Movie Expressed Sentiment   \n",
       "753  [They didn't like it!, They loved it]         Reviewer Enjoyment   \n",
       "\n",
       "     label_true  label_instructed  instructed_to_lie  ...  \\\n",
       "751           0                 0              False  ...   \n",
       "752           0                 1               True  ...   \n",
       "753           0                 0              False  ...   \n",
       "\n",
       "                                      prompt_truncated  \\\n",
       "751   runs water from a faucet across her wrist in ...   \n",
       "752   as possible. You are a liar for charity. Let'...   \n",
       "753   to act. The result is something that would no...   \n",
       "\n",
       "                    choice_probs0      ans0  txt_ans0  dir_true  llm_ans  \\\n",
       "751  [0.0019906624, 0.0019906624]  0.498747        \\n  0.498747    False   \n",
       "752         [0.738636, 0.1283557]  0.148045  negative  0.148045    False   \n",
       "753        [0.0004183, 0.0004183]  0.494094        \\n  0.494094    False   \n",
       "\n",
       "        y  probe_pred  probe_prob  llm_prob  \n",
       "751  True        True         1.0  0.498747  \n",
       "752  True        True         1.0  0.148045  \n",
       "753  True        True         1.0  0.494094  \n",
       "\n",
       "[3 rows x 21 columns]"
      ]
     },
     "execution_count": 34,
     "metadata": {},
     "output_type": "execute_result"
    }
   ],
   "source": [
    "# Make a prediction dataframe with everything in it\n",
    "df_test = dm.df.iloc[dm.splits['test'][0]:].copy()\n",
    "df_test['probe_pred'] = y_test_pred>0.5\n",
    "df_test['probe_prob'] = y_test_pred\n",
    "df_test['llm_prob'] =  df_test['ans0']#(df_test['ans0']+df_test['ans1'])/2\n",
    "df_test['llm_ans'] = df_test['llm_prob']>0.5\n",
    "# df_test['conf'] = df_test['ans0'] # (df_test['ans0']-df_test['ans1']).abs()\n",
    "# df_test['y'] = df_test['y']>0.5\n",
    "\n",
    "y_true = dl_test.dataset.tensors[1].numpy()\n",
    "assert ((df_test['y'].values>0.5)==(y_true>0.5)).all(), 'check it all lines up'\n",
    "\n",
    "df_test.head(3)"
   ]
  },
  {
   "cell_type": "code",
   "execution_count": 35,
   "metadata": {},
   "outputs": [
    {
     "name": "stdout",
     "output_type": "stream",
     "text": [
      "probe results on subsets of the data\n",
      "acc=99.20%,\tn=125,\t[instructed_to_lie==True] \n",
      "acc=100.00%,\tn=126,\t[instructed_to_lie==False] \n",
      "acc=99.47%,\tn=188,\t[llm_ans==label_true] \n",
      "acc=100.00%,\tn=189,\t[llm_ans==label_instructed] \n",
      "acc=100.00%,\tn=63,\t[instructed_to_lie==True & llm_ans==label_instructed] \n",
      "acc=98.39%,\tn=62,\t[instructed_to_lie==True & llm_ans!=label_instructed] \n"
     ]
    }
   ],
   "source": [
    "def get_acc_subset(df, query):\n",
    "    df_s = df.query(query)\n",
    "    acc = (df_s['probe_pred']==df_s['y']).mean()\n",
    "    print(f\"acc={acc:2.2%},\\tn={len(df_s)},\\t[{query}] \")\n",
    "    return acc\n",
    "    \n",
    "print('probe results on subsets of the data')\n",
    "get_acc_subset(df_test, 'instructed_to_lie==True') # it was ph told to lie\n",
    "get_acc_subset(df_test, 'instructed_to_lie==False') # it was told not to lie\n",
    "get_acc_subset(df_test, 'llm_ans==label_true') # the llm gave the true ans\n",
    "get_acc_subset(df_test, 'llm_ans==label_instructed') # the llm gave the desired ans\n",
    "get_acc_subset(df_test, 'instructed_to_lie==True & llm_ans==label_instructed') # it was told to lie, and it did lie\n",
    "get_acc_subset(df_test, 'instructed_to_lie==True & llm_ans!=label_instructed');"
   ]
  },
  {
   "cell_type": "markdown",
   "metadata": {},
   "source": [
    "# RESULTS"
   ]
  },
  {
   "cell_type": "code",
   "execution_count": null,
   "metadata": {},
   "outputs": [],
   "source": []
  },
  {
   "cell_type": "code",
   "execution_count": 36,
   "metadata": {},
   "outputs": [
    {
     "name": "stdout",
     "output_type": "stream",
     "text": [
      "⭐PRIMARY METRIC⭐ acc=99.60% from probe\n"
     ]
    }
   ],
   "source": [
    "acc = (df_test['y']==(y_test_pred>0.5)).mean()\n",
    "\n",
    "# print(f\"  PRIMARY BASELINE roc_auc={primary_baseline:2.2%} from linear classifier\")\n",
    "print(f\"⭐PRIMARY METRIC⭐ acc={acc:2.2%} from probe\")"
   ]
  },
  {
   "cell_type": "markdown",
   "metadata": {},
   "source": [
    "# Out of sample\n",
    "\n",
    "Lets see how far it generalizes"
   ]
  },
  {
   "cell_type": "code",
   "execution_count": 37,
   "metadata": {},
   "outputs": [],
   "source": [
    "def try_fine_tune(dm):\n",
    "    dl_train = dm.train_dataloader()\n",
    "    dl_val = dm.val_dataloader()\n",
    "    dl_test = dm.test_dataloader()\n",
    "    b = next(iter(dl_train))\n",
    "    max_epochs = 42\n",
    "    c_in = b[0].shape[1]\n",
    "    print(b[0].shape)\n",
    "    net = PLConvProbe(c_in=c_in, total_steps=max_epochs*len(dl_train), depth=5, hs=128, lr=3e-3, dropout=0.1, input_dropout=0.1)\n",
    "    trainer = pl.Trainer(precision=\"bf16-mixed\",\n",
    "                        \n",
    "                        gradient_clip_val=20,\n",
    "                        max_epochs=max_epochs, log_every_n_steps=5)\n",
    "    trainer.fit(model=net, train_dataloaders=dl_train, val_dataloaders=dl_val)\n",
    "    df_hist = read_metrics_csv(trainer.logger.experiment.metrics_file_path).ffill().bfill()\n",
    "    rs = trainer.test(net, dataloaders=[dl_train, dl_val, dl_test])\n",
    "    return df_hist, rs"
   ]
  },
  {
   "cell_type": "code",
   "execution_count": 38,
   "metadata": {},
   "outputs": [],
   "source": [
    "oos_dataset_fs = [\n",
    "    # '../.ds/model-starchat-beta_ds-EleutherAItruthful-qa-binary_format-tqa-a-b-simple-prompt_N807_2shots_cd0a7f',\n",
    "    # '../.ds/model-starchat-beta_ds-EleutherAItruthful-qa-binary_format-tqa-sphinx-prompt_N807_2shots_cd0a7f', \n",
    "]"
   ]
  },
  {
   "cell_type": "code",
   "execution_count": 39,
   "metadata": {},
   "outputs": [],
   "source": [
    "batch_size = 12\n",
    "for f in oos_dataset_fs:\n",
    "    print(f)\n",
    "    ds2a = load_from_disk(f)\n",
    "\n",
    "    # restrict it to significant permutations. That is monte carlo dropout pairs, where the answer changes by more than X%\n",
    "    df = ds2df(ds2a)\n",
    "    m = np.abs(df.ans0-df.ans1)>0.1\n",
    "    significant_rows = m[m].index\n",
    "\n",
    "    # allowed_rows_i = set(known_rows_i).intersection(significant_rows)\n",
    "    allowed_rows_i = significant_rows\n",
    "    ds2 = ds2a.select(allowed_rows_i)\n",
    "    print(f\"selected rows are {len(ds2)/len(ds2a):2.2%}\")\n",
    "    print(len(ds2))\n",
    "\n",
    "    dm2 = imdbHSDataModule(ds2, batch_size=batch_size)\n",
    "    dm2.setup('train')\n",
    "\n",
    "    dl_val2 = dm2.val_dataloader()\n",
    "    dl_train2 = dm2.train_dataloader()\n",
    "    dl_test2 = dm2.test_dataloader()\n",
    "    print(len(dl_train2), len(dl_val2), len(dl_test2))\n",
    "    rs2 = trainer.test(net, dataloaders=[dl_train2, dl_val2, dl_test2]) \n",
    "    \n",
    "    df_hist2, rs2b = try_fine_tune(dm2)"
   ]
  },
  {
   "cell_type": "code",
   "execution_count": null,
   "metadata": {},
   "outputs": [],
   "source": []
  }
 ],
 "metadata": {
  "kernelspec": {
   "display_name": "dlk2",
   "language": "python",
   "name": "python3"
  },
  "language_info": {
   "codemirror_mode": {
    "name": "ipython",
    "version": 3
   },
   "file_extension": ".py",
   "mimetype": "text/x-python",
   "name": "python",
   "nbconvert_exporter": "python",
   "pygments_lexer": "ipython3",
   "version": "3.11.4"
  },
  "orig_nbformat": 4
 },
 "nbformat": 4,
 "nbformat_minor": 2
}
