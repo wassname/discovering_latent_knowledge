{
 "cells": [
  {
   "cell_type": "markdown",
   "metadata": {},
   "source": [
    "# Lets save our data as a huggingface dataset, so it's quick to reuse\n",
    "\n"
   ]
  },
  {
   "cell_type": "code",
   "execution_count": 1,
   "metadata": {
    "ExecuteTime": {
     "end_time": "2023-09-02T11:00:39.840442Z",
     "start_time": "2023-09-02T11:00:38.221653Z"
    }
   },
   "outputs": [],
   "source": [
    "# import your package\n",
    "%load_ext autoreload\n",
    "%autoreload 2\n",
    "\n",
    "from loguru import logger\n",
    "import sys\n",
    "logger.remove()\n",
    "logger.add(sys.stderr, format=\"<level>{message}</level>\", level=\"INFO\")\n",
    "\n",
    "import pandas as pd\n",
    "from matplotlib import pyplot as plt\n",
    "%matplotlib inline\n",
    "plt.style.use('ggplot')"
   ]
  },
  {
   "cell_type": "code",
   "execution_count": 2,
   "metadata": {
    "ExecuteTime": {
     "end_time": "2023-09-02T11:00:42.996618Z",
     "start_time": "2023-09-02T11:00:39.841585Z"
    }
   },
   "outputs": [
    {
     "data": {
      "text/plain": [
       "'4.31.0'"
      ]
     },
     "execution_count": 2,
     "metadata": {},
     "output_type": "execute_result"
    }
   ],
   "source": [
    "import numpy as np\n",
    "\n",
    "\n",
    "from typing import Optional, List, Dict, Union\n",
    "\n",
    "import torch\n",
    "import torch.nn as nn\n",
    "import torch.nn.functional as F\n",
    "from torch import Tensor\n",
    "\n",
    "import pickle\n",
    "import hashlib\n",
    "from pathlib import Path\n",
    "\n",
    "import transformers\n",
    "from datasets import Dataset, DatasetInfo, load_from_disk, load_dataset\n",
    "\n",
    "\n",
    "from tqdm.auto import tqdm\n",
    "import os, re, sys, collections, functools, itertools, json\n",
    "\n",
    "transformers.__version__\n"
   ]
  },
  {
   "cell_type": "code",
   "execution_count": 3,
   "metadata": {
    "ExecuteTime": {
     "end_time": "2023-09-02T11:00:46.258472Z",
     "start_time": "2023-09-02T11:00:43.000477Z"
    }
   },
   "outputs": [
    {
     "name": "stdout",
     "output_type": "stream",
     "text": [
      "\n",
      "===================================BUG REPORT===================================\n",
      "Welcome to bitsandbytes. For bug reports, please run\n",
      "\n",
      "python -m bitsandbytes\n",
      "\n",
      " and submit this information together with your error trace to: https://github.com/TimDettmers/bitsandbytes/issues\n",
      "================================================================================\n",
      "bin /home/ubuntu/mambaforge/envs/dlk3/lib/python3.11/site-packages/bitsandbytes/libbitsandbytes_cuda117.so\n",
      "CUDA SETUP: CUDA runtime path found: /home/ubuntu/mambaforge/envs/dlk3/lib/libcudart.so\n",
      "CUDA SETUP: Highest compute capability among GPUs detected: 8.6\n",
      "CUDA SETUP: Detected CUDA version 117\n",
      "CUDA SETUP: Loading binary /home/ubuntu/mambaforge/envs/dlk3/lib/python3.11/site-packages/bitsandbytes/libbitsandbytes_cuda117.so...\n"
     ]
    },
    {
     "name": "stderr",
     "output_type": "stream",
     "text": [
      "/home/ubuntu/mambaforge/envs/dlk3/lib/python3.11/site-packages/bitsandbytes/cuda_setup/main.py:149: UserWarning: Found duplicate ['libcudart.so', 'libcudart.so.11.0', 'libcudart.so.12.0'] files: {PosixPath('/home/ubuntu/mambaforge/envs/dlk3/lib/libcudart.so'), PosixPath('/home/ubuntu/mambaforge/envs/dlk3/lib/libcudart.so.11.0')}.. We'll flip a coin and try one of these, in order to fail forward.\n",
      "Either way, this might cause trouble in the future:\n",
      "If you get `CUDA error: invalid device function` errors, the above might be the cause and the solution is to make sure only one ['libcudart.so', 'libcudart.so.11.0', 'libcudart.so.12.0'] in the paths that we search based on your env.\n",
      "  warn(msg)\n"
     ]
    }
   ],
   "source": [
    "from src.models.load import load_model\n",
    "from src.datasets.load import ds2df\n",
    "from src.datasets.load import rows_item\n",
    "from src.datasets.batch import batch_hidden_states\n",
    "# from src.datasets.scores import choice2ids, scores2choice_probs"
   ]
  },
  {
   "cell_type": "markdown",
   "metadata": {},
   "source": [
    "# Params"
   ]
  },
  {
   "cell_type": "code",
   "execution_count": 4,
   "metadata": {
    "ExecuteTime": {
     "end_time": "2023-09-02T11:00:46.316850Z",
     "start_time": "2023-09-02T11:00:46.259480Z"
    }
   },
   "outputs": [
    {
     "data": {
      "text/plain": [
       "ExtractConfig(model='WizardLM/WizardCoder-3B-V1.0', datasets=['imdb'], data_dirs=(), int4=True, max_examples=(2620, 312), num_shots=2, num_variants=-1, layers=(), seed=42, token_loc='last', template_path=None)"
      ]
     },
     "execution_count": 4,
     "metadata": {},
     "output_type": "execute_result"
    }
   ],
   "source": [
    "# Params\n",
    "BATCH_SIZE = 1  # None # None means auto # 6 gives 16Gb/25GB. where 10GB is the base model. so 6 is 6/15\n",
    "USE_MCDROPOUT = True\n",
    "\n",
    "from src.extraction.config import ExtractConfig\n",
    "\n",
    "cfg = ExtractConfig(\n",
    "    # model=\"HuggingFaceH4/starchat-beta\",\n",
    "    # model=\"TheBloke/CodeLlama-13B-Instruct-fp16\", # too large!\n",
    "    model=\"WizardLM/WizardCoder-3B-V1.0\",\n",
    "    # model=\"WizardLM/WizardCoder-1B-V1.0\",\n",
    "    # model=\"WizardLM/WizardCoder-Python-7B-V1.0\", # too large!\n",
    "    datasets = [\n",
    "        \"imdb\", \n",
    "        # \"amazon_polarity\",\n",
    "        # \"truthful_qa\",\n",
    "                #\"super_glue:boolq\", \"EleutherAI/truthful_qa_mc\", \"EleutherAI/arithmetic\", \"NeelNanda/counterfact-tracing\"\n",
    "                ],\n",
    "    max_examples=(2620, 312),\n",
    ")\n",
    "cfg"
   ]
  },
  {
   "cell_type": "markdown",
   "metadata": {},
   "source": [
    "# Model\n",
    "\n",
    "Chosing:\n",
    "- https://old.reddit.com/r/LocalLLaMA/wiki/models\n",
    "- https://huggingface.co/spaces/HuggingFaceH4/open_llm_leaderboard\n",
    "- https://github.com/deep-diver/LLM-As-Chatbot/blob/main/model_cards.json\n",
    "\n",
    "\n",
    "A uncensored and large coding ones might be best for lying."
   ]
  },
  {
   "cell_type": "code",
   "execution_count": 5,
   "metadata": {
    "ExecuteTime": {
     "end_time": "2023-09-02T11:02:50.889443Z",
     "start_time": "2023-09-02T11:00:46.318029Z"
    }
   },
   "outputs": [
    {
     "name": "stderr",
     "output_type": "stream",
     "text": [
      "\u001b[1mchanging pad_token_id from 49152 to 0\u001b[0m\n",
      "\u001b[1mchanging padding_side from right to left\u001b[0m\n",
      "\u001b[1mchanging truncation_side from right to left\u001b[0m\n"
     ]
    }
   ],
   "source": [
    "from src.models.load import verbose_change_param, AutoConfig, AutoTokenizer, AutoModelForCausalLM\n",
    "\n",
    "def load_model(model_repo = \"HuggingFaceH4/starchat-beta\"):\n",
    "    # see https://github.com/deep-diver/LLM-As-Chatbot/blob/main/models/starchat.py\n",
    "    model_options = dict(\n",
    "        device_map=\"auto\",\n",
    "        # load_in_8bit=True,\n",
    "        # load_in_4bit=True,\n",
    "        torch_dtype=torch.float16, # note because datasets pickles the model into numpy to get the unique datasets name, and because numpy doesn't support bfloat16, we need to use float16\n",
    "        # use_safetensors=False,\n",
    "    )\n",
    "\n",
    "    config = AutoConfig.from_pretrained(model_repo, use_cache=False)\n",
    "    verbose_change_param(config, 'use_cache', False)\n",
    "    \n",
    "    tokenizer = AutoTokenizer.from_pretrained(model_repo)\n",
    "    verbose_change_param(tokenizer, 'pad_token_id', 0)\n",
    "    verbose_change_param(tokenizer, 'padding_side', 'left')\n",
    "    verbose_change_param(tokenizer, 'truncation_side', 'left')\n",
    "    \n",
    "    model = AutoModelForCausalLM.from_pretrained(model_repo, config=config, **model_options)\n",
    "\n",
    "    return model, tokenizer\n",
    "\n",
    "model, tokenizer = load_model(cfg.model)"
   ]
  },
  {
   "cell_type": "markdown",
   "metadata": {},
   "source": [
    "# Scratch"
   ]
  },
  {
   "cell_type": "code",
   "execution_count": null,
   "metadata": {},
   "outputs": [],
   "source": [
    "token_y = tokenizer(' True').input_ids\n",
    "token_n = tokenizer(' Fakse').input_ids"
   ]
  },
  {
   "cell_type": "markdown",
   "metadata": {},
   "source": [
    "# Load Dataset"
   ]
  },
  {
   "cell_type": "code",
   "execution_count": null,
   "metadata": {
    "ExecuteTime": {
     "end_time": "2023-09-02T11:02:54.525457Z",
     "start_time": "2023-09-02T11:02:54.525448Z"
    }
   },
   "outputs": [],
   "source": [
    "\n",
    "from itertools import chain, islice\n",
    "from datasets import Dataset\n",
    "import functools\n",
    "# from datasets.arrow_dataset import Dataset\n",
    "from src.prompts.prompt_loading import load_prompts\n",
    "\n",
    "@functools.lru_cache()\n",
    "def count_tokens(s):\n",
    "    return len(tokenizer(s).input_ids)\n",
    "\n",
    "def answer_len(answer_choices: list):\n",
    "    a = count_tokens(answer_choices[0])\n",
    "    b = count_tokens(answer_choices[1])\n",
    "    return max(a, b)\n",
    "\n",
    "\n",
    "def sample_n_true_y_false_prompts(prompts, num_truth=1, num_lie=1, seed=42):\n",
    "    \"\"\"sample some truth and some false\"\"\"\n",
    "    df = pd.DataFrame(prompts)\n",
    "    \n",
    "    # restrict to template where the choices are a single token\n",
    "    m = df.answer_choices.map(answer_len)<=2\n",
    "    df = df[m]\n",
    "    df = pd.concat([\n",
    "        df.query(\"instructed_to_lie==True\").sample(num_truth, random_state=seed),\n",
    "        df.query(\"instructed_to_lie==False\").sample(num_lie, random_state=seed)])\n",
    "    return df.to_dict(orient=\"records\")\n",
    "\n",
    "\n",
    "# for ds_name in ds_names:\n",
    "#     for split_type in [\"train\", \"test\"]:\n",
    "        \n",
    "# loop through all prompts in this dataset\n",
    "ds_names = cfg.datasets\n",
    "split_type = \"train\"\n",
    "\n",
    "ds_name = ds_names[0]\n",
    "prompt_ds = load_prompts(\n",
    "    ds_name,\n",
    "    num_shots=cfg.num_shots,\n",
    "    split_type=split_type,\n",
    "    template_path=cfg.template_path,\n",
    "    seed=cfg.seed,\n",
    "    prompt_format='llama'\n",
    ")\n",
    "\n",
    "# for each example, sample true and false\n",
    "N = cfg.max_examples[split_type!=\"train\"]\n",
    "g = map(lambda r: sample_n_true_y_false_prompts(r[1], seed=r[0]+cfg.seed), enumerate(prompt_ds))\n",
    "\n",
    "# and combine them into one big list\n",
    "g = chain.from_iterable(g) \n",
    "prompt_ds2 = list(tqdm(islice(g, N), total=N))\n",
    "\n",
    "# convert to hugginface dataset\n",
    "dataset = Dataset.from_list(prompt_ds2)\n",
    "dataset"
   ]
  },
  {
   "cell_type": "code",
   "execution_count": null,
   "metadata": {
    "ExecuteTime": {
     "end_time": "2023-09-02T11:02:54.525970Z",
     "start_time": "2023-09-02T11:02:54.525961Z"
    }
   },
   "outputs": [],
   "source": [
    "b = next(iter(prompt_ds))\n",
    "b\n",
    "sample_n_true_y_false_prompts(b)"
   ]
  },
  {
   "cell_type": "markdown",
   "metadata": {},
   "source": [
    "# add choice tokens to dataset"
   ]
  },
  {
   "cell_type": "code",
   "execution_count": null,
   "metadata": {},
   "outputs": [],
   "source": []
  },
  {
   "cell_type": "markdown",
   "metadata": {},
   "source": [
    "## Format prompts\n",
    "\n",
    "The prompt is the thing we most often have to change and debug. So we do it explicitly here.\n",
    "\n",
    "We do it as transforms on a huggingface dataset.\n",
    "\n",
    "In this case we use multishot examples from train, and use the test set to generated the hidden states dataset. We will test generalisation on a whole new dataset.\n"
   ]
  },
  {
   "cell_type": "code",
   "execution_count": null,
   "metadata": {},
   "outputs": [],
   "source": [
    "from src.datasets.scores import scores2choice_probs\n",
    "from src.datasets.scores import choice2id, choice2ids\n",
    "\n",
    "def row_choice_ids(r):\n",
    "    return choice2ids([[c] for c in r['answer_choices']], tokenizer)\n",
    "\n",
    "\n"
   ]
  },
  {
   "cell_type": "code",
   "execution_count": null,
   "metadata": {
    "ExecuteTime": {
     "end_time": "2023-09-02T11:02:54.526826Z",
     "start_time": "2023-09-02T11:02:54.526815Z"
    },
    "notebookRunGroups": {
     "groupValue": ""
    }
   },
   "outputs": [],
   "source": [
    "ds = (\n",
    "    dataset\n",
    "    .map(\n",
    "        lambda ex: tokenizer(\n",
    "            ex[\"question\"], padding=\"max_length\", max_length=600, truncation=True, add_special_tokens=True,\n",
    "            # return_tensors=\"pt\",\n",
    "            return_attention_mask=True,\n",
    "        ),\n",
    "        batched=True,\n",
    "    )\n",
    "    .map(\n",
    "        lambda r: {\"prompt_truncated\": tokenizer.batch_decode(r[\"input_ids\"])},\n",
    "        batched=True,\n",
    "    )\n",
    "    .map(lambda r: {'choice_ids': row_choice_ids(r)})\n",
    ")\n",
    "ds"
   ]
  },
  {
   "cell_type": "markdown",
   "metadata": {},
   "source": [
    "## Save as Huggingface Dataset"
   ]
  },
  {
   "cell_type": "code",
   "execution_count": null,
   "metadata": {
    "ExecuteTime": {
     "end_time": "2023-09-02T11:02:54.527638Z",
     "start_time": "2023-09-02T11:02:54.527629Z"
    }
   },
   "outputs": [],
   "source": [
    "# get dataset filename\n",
    "sanitize = lambda s:s.replace('/', '').replace('-', '_') if s is not None else s\n",
    "\n",
    "dataset_name = f\"{sanitize(cfg.model)}_{ds_name}_{split_type}_{N}\"\n",
    "dataset_name\n",
    "f = f\"../.ds/{dataset_name}\"\n",
    "print(f)"
   ]
  },
  {
   "cell_type": "code",
   "execution_count": null,
   "metadata": {
    "ExecuteTime": {
     "end_time": "2023-09-02T11:02:54.528377Z",
     "start_time": "2023-09-02T11:02:54.528364Z"
    }
   },
   "outputs": [],
   "source": [
    "# ds[10]"
   ]
  },
  {
   "cell_type": "code",
   "execution_count": null,
   "metadata": {
    "ExecuteTime": {
     "end_time": "2023-09-02T11:02:54.528958Z",
     "start_time": "2023-09-02T11:02:54.528949Z"
    }
   },
   "outputs": [],
   "source": [
    "gen_kwargs = dict(\n",
    "    model=model,\n",
    "    tokenizer=tokenizer,\n",
    "    data=ds,\n",
    "    batch_size=BATCH_SIZE,\n",
    ")\n",
    "gen_kwargs"
   ]
  },
  {
   "cell_type": "code",
   "execution_count": null,
   "metadata": {},
   "outputs": [],
   "source": [
    "# ds['choice_ids']\n",
    "l = model.transformer.h[10]\n",
    "l.attn.c_attn\n"
   ]
  },
  {
   "cell_type": "code",
   "execution_count": null,
   "metadata": {
    "ExecuteTime": {
     "end_time": "2023-09-02T11:02:54.529566Z",
     "start_time": "2023-09-02T11:02:54.529557Z"
    }
   },
   "outputs": [],
   "source": [
    "info_kwargs = dict(cfg=cfg, ds_name=ds_name, split_type=split_type)\n",
    "\n",
    "model.cuda()"
   ]
  },
  {
   "cell_type": "code",
   "execution_count": null,
   "metadata": {
    "ExecuteTime": {
     "end_time": "2023-09-02T11:02:54.529966Z",
     "start_time": "2023-09-02T11:02:54.529959Z"
    }
   },
   "outputs": [],
   "source": [
    "ds1 = Dataset.from_generator(\n",
    "    generator=batch_hidden_states,\n",
    "    info=DatasetInfo(\n",
    "        description=f\"kwargs={info_kwargs}\",\n",
    "        config_name=f,\n",
    "    ),\n",
    "    gen_kwargs=gen_kwargs,\n",
    ").with_format(\"numpy\")\n",
    "\n",
    "ds1"
   ]
  },
  {
   "cell_type": "markdown",
   "metadata": {
    "notebookRunGroups": {
     "groupValue": "2"
    }
   },
   "source": [
    "## Add labels\n",
    "\n",
    "For our probe. Given next_token scores (logits) we take only the subset the corresponds to our negative tokens (e.g. False, no, ...) and positive tokens (e.g. Yes, yes, affirmative, ...).\n"
   ]
  },
  {
   "cell_type": "code",
   "execution_count": null,
   "metadata": {
    "ExecuteTime": {
     "end_time": "2023-09-02T11:02:54.530402Z",
     "start_time": "2023-09-02T11:02:54.530395Z"
    }
   },
   "outputs": [],
   "source": [
    "# from src.datasets.scores import choice2id, choice2ids"
   ]
  },
  {
   "cell_type": "code",
   "execution_count": null,
   "metadata": {
    "ExecuteTime": {
     "end_time": "2023-09-02T11:02:54.530973Z",
     "start_time": "2023-09-02T11:02:54.530965Z"
    }
   },
   "outputs": [],
   "source": [
    "# def expand_choices(choices: List[str]) -> List[str]:\n",
    "#     \"\"\"expand out choices by adding versions that are upper, lower, whitespace, etc\"\"\"\n",
    "#     new = []\n",
    "#     for c in choices:\n",
    "#         new.append(c)\n",
    "#         new.append(c.upper())\n",
    "#         new.append(c.capitalize())\n",
    "#         new.append(c.lower())\n",
    "#     return set(new)\n",
    "\n",
    "\n",
    "# left_choices = list(r[0] for r in ds1['answer_choices'])+['no', 'false', 'negative', 'wrong']\n",
    "# right_choices = list(r[1] for r in ds1['answer_choices'])+['yes', 'true', 'positive', 'right']\n",
    "# left_choices, right_choices = expand_choices(left_choices), expand_choices(right_choices)\n",
    "# expanded_choices = [left_choices, right_choices]\n",
    "# expanded_choice_ids = choice2ids(expanded_choices, tokenizer)\n",
    "# expanded_choices"
   ]
  },
  {
   "cell_type": "code",
   "execution_count": null,
   "metadata": {
    "ExecuteTime": {
     "end_time": "2023-09-02T11:02:54.531369Z",
     "start_time": "2023-09-02T11:02:54.531361Z"
    }
   },
   "outputs": [],
   "source": [
    "# from src.datasets.scores import scores2choice_probs"
   ]
  },
  {
   "cell_type": "code",
   "execution_count": null,
   "metadata": {
    "ExecuteTime": {
     "end_time": "2023-09-02T11:02:54.532062Z",
     "start_time": "2023-09-02T11:02:54.532054Z"
    }
   },
   "outputs": [],
   "source": [
    "# this is just based on pairs for that answer...\n",
    "add_txt_ans0 = lambda r: {'txt_ans0': tokenizer.decode(r['scores0'].argmax(-1))}\n",
    "# add_txt_ans1 = lambda r: {'txt_ans1': tokenizer.decode(r['scores1'].argmax(-1))}\n",
    "\n",
    "def row_choice_ids(r):\n",
    "    return choice2ids([[c] for c in r['answer_choices']], tokenizer)\n",
    "\n",
    "# Either just use the template choices\n",
    "add_ans = lambda r: scores2choice_probs(r, row_choice_ids(r), keys=[\"scores0\"])\n",
    "\n",
    "# Or all expanded choices\n",
    "# add_ans_exp = lambda r: scores2choice_probs(r, expanded_choice_ids, prefix=\"expanded_\")\n",
    "\n",
    "ds3 = (\n",
    "    ds1\n",
    "    .map(add_ans)\n",
    "    # .map(add_ans_exp)\n",
    "    .map(add_txt_ans0)\n",
    "    # .map(add_txt_ans1)\n",
    ")\n",
    "ds3"
   ]
  },
  {
   "cell_type": "markdown",
   "metadata": {},
   "source": [
    "## Save to disk"
   ]
  },
  {
   "cell_type": "code",
   "execution_count": null,
   "metadata": {
    "ExecuteTime": {
     "end_time": "2023-09-02T11:02:54.532589Z",
     "start_time": "2023-09-02T11:02:54.532582Z"
    }
   },
   "outputs": [],
   "source": [
    "ds3.save_to_disk(f)\n",
    "f"
   ]
  },
  {
   "cell_type": "markdown",
   "metadata": {},
   "source": [
    "# QC"
   ]
  },
  {
   "cell_type": "code",
   "execution_count": null,
   "metadata": {
    "ExecuteTime": {
     "end_time": "2023-09-02T11:02:54.533085Z",
     "start_time": "2023-09-02T11:02:54.533078Z"
    }
   },
   "outputs": [],
   "source": [
    "ds4 = load_from_disk(f)\n",
    "ds4"
   ]
  },
  {
   "cell_type": "code",
   "execution_count": null,
   "metadata": {
    "ExecuteTime": {
     "end_time": "2023-09-02T11:02:54.533535Z",
     "start_time": "2023-09-02T11:02:54.533528Z"
    }
   },
   "outputs": [],
   "source": [
    "\n",
    "# QC, check which answers are most common\n",
    "common_answers = pd.Series(ds4['txt_ans0']).value_counts()\n",
    "display('Remember it should be binary. Found common LLM answers:', common_answers)\n",
    "\n",
    "\n",
    "current_choices = set(list(chain(*ds4['answer_choices'])))\n",
    "unexpected_answers = set(common_answers.head(10).index)-current_choices\n",
    "if len(unexpected_answers):\n",
    "    logger.warning(f'found unexpected answers: {unexpected_answers}. You may want to add them to class2choices')\n",
    "    \n",
    "mean_prob = ds4['choice_probs0'].sum(-1).mean()\n",
    "print('mean_prob', mean_prob)\n",
    "assert ds4['choice_probs0'].sum(-1).mean()>0.4, f\"\"\"\n",
    "Our choices should cover most common answers. But they accounted for a mean probability of {mean_prob:2.2%} (should be >40%). \n",
    "\n",
    "To fix this you might want to improve your prompt or add to your choices\n",
    "\"\"\""
   ]
  },
  {
   "cell_type": "code",
   "execution_count": null,
   "metadata": {
    "ExecuteTime": {
     "end_time": "2023-09-02T11:02:54.534012Z",
     "start_time": "2023-09-02T11:02:54.534004Z"
    }
   },
   "outputs": [],
   "source": [
    "df = ds2df(ds4)\n",
    "df"
   ]
  },
  {
   "cell_type": "code",
   "execution_count": null,
   "metadata": {
    "ExecuteTime": {
     "end_time": "2023-09-02T11:02:54.534378Z",
     "start_time": "2023-09-02T11:02:54.534370Z"
    }
   },
   "outputs": [],
   "source": [
    "# QC check accuracy\n",
    "# it should manage to lie some of the time when asked to lie. Many models wont lie unless very explicitly asked to, but we don't want to do that, we want to leave some ambiguity in the prompt\n",
    "\n",
    "d = df.query('instructed_to_lie==True')\n",
    "acc = (d.label_instructed==d.llm_ans).mean()\n",
    "print(f\"when the model tries to lie... we get this acc {acc:2.2f}\")\n",
    "assert acc>0.1, f\"should be acc>0.1 but is acc={acc}\""
   ]
  },
  {
   "cell_type": "markdown",
   "metadata": {},
   "source": [
    "### QC stats"
   ]
  },
  {
   "cell_type": "code",
   "execution_count": null,
   "metadata": {
    "ExecuteTime": {
     "end_time": "2023-09-02T11:02:54.534845Z",
     "start_time": "2023-09-02T11:02:54.534837Z"
    }
   },
   "outputs": [],
   "source": [
    "def stats(df):\n",
    "    return dict(\n",
    "        acc=(df.llm_ans == df.label_instructed).mean(),\n",
    "        n=len(df),\n",
    "    )\n",
    "    \n",
    "def col2statsdf(df, group):\n",
    "    return pd.DataFrame(df.groupby(group).apply(stats).to_dict()).T\n",
    "    \n",
    "    \n",
    "print(\"how well does it do the simple task of telling the truth, for each template\")\n",
    "col2statsdf(df.query('sys_instr_name==\"truth\"'), 'template_name')"
   ]
  },
  {
   "cell_type": "code",
   "execution_count": null,
   "metadata": {
    "ExecuteTime": {
     "end_time": "2023-09-02T11:02:54.535378Z",
     "start_time": "2023-09-02T11:02:54.535370Z"
    }
   },
   "outputs": [],
   "source": [
    "print(\"how well does it complete the task for each prompt\")\n",
    "# of course getting it to tell the truth is easy, but how effective are the other prompts?\n",
    "col2statsdf(df, 'sys_instr_name')"
   ]
  },
  {
   "cell_type": "markdown",
   "metadata": {},
   "source": [
    "### QC view row"
   ]
  },
  {
   "cell_type": "code",
   "execution_count": null,
   "metadata": {
    "ExecuteTime": {
     "end_time": "2023-09-02T11:02:54.535946Z",
     "start_time": "2023-09-02T11:02:54.535938Z"
    }
   },
   "outputs": [],
   "source": [
    "# QC by viewing a row\n",
    "r = ds4[0]\n",
    "print(r['prompt_truncated'])\n",
    "print(r['txt_ans0'])"
   ]
  },
  {
   "cell_type": "markdown",
   "metadata": {},
   "source": [
    "# QC: generation\n",
    "\n",
    "Let's a quick generation, so we can QC the output and sanity check that the model can actually do the task"
   ]
  },
  {
   "cell_type": "code",
   "execution_count": null,
   "metadata": {
    "ExecuteTime": {
     "end_time": "2023-09-02T11:02:54.536320Z",
     "start_time": "2023-09-02T11:02:54.536313Z"
    }
   },
   "outputs": [],
   "source": [
    "# r = ds[2]\n",
    "# q = r[\"prompt_truncated\"]\n",
    "\n",
    "# pipeline = transformers.pipeline(\n",
    "#     \"text-generation\",\n",
    "#     model=model,\n",
    "#     tokenizer=tokenizer,\n",
    "# )\n",
    "# sequences = pipeline(\n",
    "#     q.lstrip('<|endoftext|>'),\n",
    "#     max_length=100,\n",
    "#     do_sample=False,\n",
    "#     return_full_text=False,\n",
    "#     eos_token_id=tokenizer.eos_token_id,\n",
    "# )\n",
    "\n",
    "# for seq in sequences:\n",
    "#     print(\"-\" * 80)\n",
    "#     print(q)\n",
    "#     print(\"-\" * 80)\n",
    "#     print(f\"`{seq['generated_text']}`\")\n",
    "#     print(\"-\" * 80)\n",
    "#     print(\"label\", r['label'])\n"
   ]
  },
  {
   "cell_type": "markdown",
   "metadata": {
    "notebookRunGroups": {
     "groupValue": "2"
    }
   },
   "source": [
    "# QC: linear probe"
   ]
  },
  {
   "cell_type": "code",
   "execution_count": null,
   "metadata": {
    "ExecuteTime": {
     "end_time": "2023-09-02T11:02:54.536825Z",
     "start_time": "2023-09-02T11:02:54.536818Z"
    }
   },
   "outputs": [],
   "source": [
    "df"
   ]
  },
  {
   "cell_type": "code",
   "execution_count": null,
   "metadata": {},
   "outputs": [],
   "source": [
    "# # just select the question where the model knows the answer. \n",
    "df = ds2df(ds4)\n",
    "d = df.query('sys_instr_name==\"truth\"').set_index(\"example_i\")\n",
    "\n",
    "# # these are the ones where it got it right when asked to tell the truth\n",
    "m1 = d.llm_ans==d.label_true\n",
    "known_indices = d[m1].index\n",
    "print(f\"select rows are {m1.mean():2.2%} based on knowledge\")\n",
    "# # convert to row numbers, and use datasets to select\n",
    "known_rows = df['example_i'].isin(known_indices)\n",
    "known_rows_i = df[known_rows].index\n",
    "\n",
    "# # also restrict it to significant permutations. That is monte carlo dropout pairs, where the answer changes by more than X%\n",
    "# m = np.abs(df.ans0-df.ans1)>0.05\n",
    "# print(f\"selected rows are {m.mean():2.2%} for significance\")\n",
    "# significant_rows = m[m].index\n",
    "\n",
    "# allowed_rows_i = set(known_rows_i).intersection(significant_rows)\n",
    "# allowed_rows_i = significant_rows\n",
    "ds5 = ds4.select(known_rows_i)\n",
    "ds5"
   ]
  },
  {
   "cell_type": "code",
   "execution_count": null,
   "metadata": {
    "ExecuteTime": {
     "end_time": "2023-09-02T11:02:54.537283Z",
     "start_time": "2023-09-02T11:02:54.537276Z"
    }
   },
   "outputs": [],
   "source": [
    "hs = ds5['grads_mlp0']\n",
    "X = hs.reshape(hs.shape[0], -1)\n",
    "df = ds2df(ds5)\n",
    "# y = ds4['ans0']>0\n",
    "y = df['label_true'] == df['llm_ans']"
   ]
  },
  {
   "cell_type": "code",
   "execution_count": null,
   "metadata": {
    "ExecuteTime": {
     "end_time": "2023-09-02T11:02:54.537788Z",
     "start_time": "2023-09-02T11:02:54.537780Z"
    }
   },
   "outputs": [],
   "source": [
    "# true_switch_sign = ds4['label_true']*2-1\n",
    "# true_switch_sign = ds4['true'][:, 0]*2-1\n",
    "# y = ((ds4['ans0']) * true_switch_sign) > 0\n",
    "y"
   ]
  },
  {
   "cell_type": "code",
   "execution_count": null,
   "metadata": {
    "ExecuteTime": {
     "end_time": "2023-09-02T11:02:54.538282Z",
     "start_time": "2023-09-02T11:02:54.538275Z"
    }
   },
   "outputs": [],
   "source": [
    "from sklearn.preprocessing import RobustScaler\n",
    "from sklearn.linear_model import LogisticRegression\n",
    "from sklearn.metrics import f1_score, roc_auc_score, accuracy_score\n",
    "\n",
    "# # Define X and y\n",
    "# X = dm.hs1-dm.hs2\n",
    "# y = dm.y>0\n",
    "\n",
    "# split\n",
    "n = len(y)\n",
    "max_rows = 1000\n",
    "print('split size', n//2)\n",
    "X_train, X_test = X[:n//2], X[n//2:]\n",
    "y_train, y_test = y[:n//2], y[n//2:]\n",
    "X_train = X_train[:max_rows]\n",
    "y_train = y_train[:max_rows]\n",
    "X_test = X_test[:max_rows]\n",
    "y_test = y_test[:max_rows]\n",
    "\n",
    "# scale\n",
    "scaler = RobustScaler()\n",
    "scaler.fit(X_train)\n",
    "X_train2 = scaler.transform(X_train)\n",
    "X_test2 = scaler.transform(X_test)\n",
    "print('lr')\n",
    "\n",
    "lr = LogisticRegression(class_weight=\"balanced\", penalty=\"l2\", max_iter=380)\n",
    "lr.fit(X_train2, y_train>0)"
   ]
  },
  {
   "cell_type": "code",
   "execution_count": null,
   "metadata": {
    "ExecuteTime": {
     "end_time": "2023-09-02T11:02:54.538739Z",
     "start_time": "2023-09-02T11:02:54.538731Z"
    }
   },
   "outputs": [],
   "source": [
    "print(\"Logistic cls acc: {:2.2%} [TRAIN]\".format(lr.score(X_train2, y_train>0)))\n",
    "print(\"Logistic cls acc: {:2.2%} [TEST]\".format(lr.score(X_test2, y_test>0)))"
   ]
  },
  {
   "cell_type": "markdown",
   "metadata": {},
   "source": [
    "# Scratch"
   ]
  },
  {
   "cell_type": "code",
   "execution_count": null,
   "metadata": {},
   "outputs": [],
   "source": []
  },
  {
   "cell_type": "code",
   "execution_count": null,
   "metadata": {},
   "outputs": [],
   "source": []
  },
  {
   "cell_type": "code",
   "execution_count": null,
   "metadata": {},
   "outputs": [],
   "source": []
  }
 ],
 "metadata": {
  "kernelspec": {
   "display_name": "dlk3",
   "language": "python",
   "name": "python3"
  },
  "language_info": {
   "codemirror_mode": {
    "name": "ipython",
    "version": 3
   },
   "file_extension": ".py",
   "mimetype": "text/x-python",
   "name": "python",
   "nbconvert_exporter": "python",
   "pygments_lexer": "ipython3",
   "version": "3.11.4"
  },
  "toc": {
   "base_numbering": 1,
   "nav_menu": {},
   "number_sections": true,
   "sideBar": true,
   "skip_h1_title": false,
   "title_cell": "Table of Contents",
   "title_sidebar": "Contents",
   "toc_cell": false,
   "toc_position": {},
   "toc_section_display": true,
   "toc_window_display": false
  }
 },
 "nbformat": 4,
 "nbformat_minor": 2
}
