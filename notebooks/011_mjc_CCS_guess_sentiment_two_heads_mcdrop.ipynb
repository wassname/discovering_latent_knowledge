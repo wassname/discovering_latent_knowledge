{
 "cells": [
  {
   "cell_type": "markdown",
   "metadata": {},
   "source": [
    "## Let's implement CCS from scratch.\n",
    "This will deliberately be a simple (but less efficient) implementation to make everything as clear as possible."
   ]
  },
  {
   "attachments": {},
   "cell_type": "markdown",
   "metadata": {},
   "source": [
    "\n",
    "links:\n",
    "- [loading](https://github.com/deep-diver/LLM-As-Chatbot/blob/main/models/alpaca.py)\n",
    "- [dict](https://github.com/deep-diver/LLM-As-Chatbot/blob/c79e855a492a968b54bac223e66dc9db448d6eba/model_cards.json#L143)\n",
    "- [prompt_format](https://github.com/deep-diver/PingPong/blob/main/src/pingpong/alpaca.py)"
   ]
  },
  {
   "cell_type": "code",
   "execution_count": 1,
   "metadata": {},
   "outputs": [
    {
     "data": {
      "text/plain": [
       "'4.30.0.dev0'"
      ]
     },
     "execution_count": 1,
     "metadata": {},
     "output_type": "execute_result"
    }
   ],
   "source": [
    "\n",
    "import copy\n",
    "import numpy as np\n",
    "import pandas as pd\n",
    "from matplotlib import pyplot as plt\n",
    "\n",
    "from typing import Optional, List, Dict, Union\n",
    "\n",
    "import torch\n",
    "import torch.nn as nn\n",
    "import torch.nn.functional as F\n",
    "from torch import Tensor\n",
    "from torch import optim\n",
    "from torch.utils.data import random_split, DataLoader, TensorDataset\n",
    "\n",
    "import pickle\n",
    "import hashlib\n",
    "from pathlib import Path\n",
    "\n",
    "from datasets import load_dataset\n",
    "import datasets\n",
    "\n",
    "from transformers import AutoTokenizer, AutoModelForSeq2SeqLM, AutoModelForMaskedLM, AutoModelForCausalLM\n",
    "import transformers\n",
    "from transformers.models.auto.modeling_auto import AutoModel\n",
    "from transformers import LogitsProcessorList\n",
    "\n",
    "\n",
    "import lightning.pytorch as pl\n",
    "from dataclasses import dataclass\n",
    "\n",
    "from sklearn.linear_model import LogisticRegression\n",
    "# from scipy.stats import zscore\n",
    "from sklearn.metrics import f1_score, roc_auc_score, accuracy_score\n",
    "from sklearn.preprocessing import RobustScaler\n",
    "\n",
    "from tqdm.auto import tqdm\n",
    "import gc\n",
    "import os\n",
    "\n",
    "from loguru import logger\n",
    "logger.add(os.sys.stderr, format=\"{time} {level} {message}\", level=\"INFO\")\n",
    "\n",
    "\n",
    "transformers.__version__"
   ]
  },
  {
   "cell_type": "code",
   "execution_count": null,
   "metadata": {},
   "outputs": [],
   "source": []
  },
  {
   "attachments": {},
   "cell_type": "markdown",
   "metadata": {},
   "source": [
    "# Model\n",
    "\n",
    "Chosing:\n",
    "- https://old.reddit.com/r/LocalLLaMA/wiki/models\n",
    "- https://huggingface.co/spaces/HuggingFaceH4/open_llm_leaderboard\n",
    "- https://github.com/deep-diver/LLM-As-Chatbot/blob/main/model_cards.json\n",
    "\n",
    "\n",
    "A uncensored and large one might be best for lying."
   ]
  },
  {
   "cell_type": "code",
   "execution_count": 2,
   "metadata": {},
   "outputs": [
    {
     "name": "stdout",
     "output_type": "stream",
     "text": [
      "\n",
      "===================================BUG REPORT===================================\n",
      "Welcome to bitsandbytes. For bug reports, please run\n",
      "\n",
      "python -m bitsandbytes\n",
      "\n",
      " and submit this information together with your error trace to: https://github.com/TimDettmers/bitsandbytes/issues\n",
      "================================================================================\n",
      "bin /home/ubuntu/mambaforge/envs/dlk2/lib/python3.9/site-packages/bitsandbytes/libbitsandbytes_cuda117.so\n",
      "CUDA SETUP: CUDA runtime path found: /home/ubuntu/mambaforge/envs/dlk2/lib/libcudart.so\n",
      "CUDA SETUP: Highest compute capability among GPUs detected: 8.6\n",
      "CUDA SETUP: Detected CUDA version 117\n",
      "CUDA SETUP: Loading binary /home/ubuntu/mambaforge/envs/dlk2/lib/python3.9/site-packages/bitsandbytes/libbitsandbytes_cuda117.so...\n"
     ]
    },
    {
     "name": "stderr",
     "output_type": "stream",
     "text": [
      "/home/ubuntu/mambaforge/envs/dlk2/lib/python3.9/site-packages/bitsandbytes/cuda_setup/main.py:149: UserWarning: Found duplicate ['libcudart.so', 'libcudart.so.11.0', 'libcudart.so.12.0'] files: {PosixPath('/home/ubuntu/mambaforge/envs/dlk2/lib/libcudart.so'), PosixPath('/home/ubuntu/mambaforge/envs/dlk2/lib/libcudart.so.11.0')}.. We'll flip a coin and try one of these, in order to fail forward.\n",
      "Either way, this might cause trouble in the future:\n",
      "If you get `CUDA error: invalid device function` errors, the above might be the cause and the solution is to make sure only one ['libcudart.so', 'libcudart.so.11.0', 'libcudart.so.12.0'] in the paths that we search based on your env.\n",
      "  warn(msg)\n"
     ]
    },
    {
     "data": {
      "application/vnd.jupyter.widget-view+json": {
       "model_id": "829a5c14813a474dabac8d0fbfc5cf82",
       "version_major": 2,
       "version_minor": 0
      },
      "text/plain": [
       "Loading checkpoint shards:   0%|          | 0/2 [00:00<?, ?it/s]"
      ]
     },
     "metadata": {},
     "output_type": "display_data"
    }
   ],
   "source": [
    "# leaderboard https://huggingface.co/spaces/HuggingFaceH4/open_llm_leaderboard\n",
    "model_options = dict(\n",
    "    device_map=\"auto\", \n",
    "    # load_in_4bit=True,\n",
    "    torch_dtype=torch.float16,\n",
    "    trust_remote_code=True\n",
    ")\n",
    "\n",
    "\n",
    "# so I need to use either pythia, stablelm, or tiiuae/falcon-7b-instruct to get dropout...\n",
    "# moel_repo = \"stabilityai/stablelm-tuned-alpha-7b\" # poor performance\n",
    "\n",
    "# https://github.com/deep-diver/LLM-As-Chatbot/blob/main/models/falcon.py\n",
    "model_repo = \"tiiuae/falcon-7b-instruct\"\n",
    "# model_repo = \"togethercomputer/RedPajama-INCITE-7B-Instruct\"\n",
    "# model_repo = \"OpenAssistant/oasst-sft-4-pythia-12b-epoch-3.5\"\n",
    "# model_repo = \"OpenAssistant/falcon-7b-sft-top1-696\"\n",
    "lora_repo = None\n",
    "    \n",
    "tokenizer = AutoTokenizer.from_pretrained(model_repo)\n",
    "model = AutoModelForCausalLM.from_pretrained(model_repo, **model_options)\n",
    "\n",
    "if lora_repo is not None:\n",
    "    # https://github.com/tloen/alpaca-lora/blob/main/generate.py#L40\n",
    "    from peft import PeftModel\n",
    "    model = PeftModel.from_pretrained(\n",
    "        model,\n",
    "        lora_repo, \n",
    "        torch_dtype=torch.float16,\n",
    "        device_map='auto',\n",
    "        lora_dropout=0.2,\n",
    "    )"
   ]
  },
  {
   "cell_type": "code",
   "execution_count": 3,
   "metadata": {},
   "outputs": [
    {
     "name": "stdout",
     "output_type": "stream",
     "text": [
      "None\n"
     ]
    }
   ],
   "source": [
    "print(tokenizer.pad_token_id)\n",
    "if tokenizer.pad_token_id is None:\n",
    "    tokenizer.pad_token_id = 0 # <unk> https://github.com/deep-diver/LLM-As-Chatbot/blob/main/models/alpaca.py\n",
    "tokenizer.padding_side = \"left\""
   ]
  },
  {
   "cell_type": "markdown",
   "metadata": {},
   "source": [
    "# Params"
   ]
  },
  {
   "cell_type": "code",
   "execution_count": 4,
   "metadata": {},
   "outputs": [
    {
     "data": {
      "text/plain": [
       "((4, 8, 10), 10)"
      ]
     },
     "execution_count": 4,
     "metadata": {},
     "output_type": "execute_result"
    }
   ],
   "source": [
    "# Params\n",
    "N_SAMPLES = 130\n",
    "BATCH_SIZE = 10 # 1 for 30B 3 shot. 2 for 30B 1 shot. 4 for 13B. 15 for 7B.\n",
    "N_SHOTS = 0\n",
    "USE_MCDROPOUT = 0.2\n",
    "dataset_n = 200\n",
    "\n",
    "try:\n",
    "    num_layers = len(model.model.layers)\n",
    "    print(num_layers)\n",
    "except AttributeError:\n",
    "    try:\n",
    "        num_layers = len(model.base_model.model.model.layers)\n",
    "        print(num_layers)\n",
    "    except:\n",
    "        num_layers = 10\n",
    "        \n",
    "stride = 4\n",
    "extract_layers = tuple(range(4, num_layers, stride)) + (num_layers,)\n",
    "extract_layers, num_layers"
   ]
  },
  {
   "cell_type": "code",
   "execution_count": 5,
   "metadata": {},
   "outputs": [
    {
     "data": {
      "text/plain": [
       "(33520, 28265)"
      ]
     },
     "execution_count": 5,
     "metadata": {},
     "output_type": "execute_result"
    }
   ],
   "source": [
    "# get the tokens for 0 and 1, we will use these later...\n",
    "# note that sentancepeice tokenizers have differen't tokens for No and \\nNo.\n",
    "id_n, id_y = tokenizer('\\nnegative', add_special_tokens=True)['input_ids'][-1], tokenizer('\\npositive', add_special_tokens=True)['input_ids'][-1]\n",
    "id_n, id_y"
   ]
  },
  {
   "cell_type": "code",
   "execution_count": 6,
   "metadata": {},
   "outputs": [
    {
     "data": {
      "text/plain": [
       "'negativepositive'"
      ]
     },
     "execution_count": 6,
     "metadata": {},
     "output_type": "execute_result"
    }
   ],
   "source": [
    "tokenizer.decode([id_n, id_y])"
   ]
  },
  {
   "attachments": {},
   "cell_type": "markdown",
   "metadata": {},
   "source": [
    "# Dataset"
   ]
  },
  {
   "cell_type": "code",
   "execution_count": 7,
   "metadata": {},
   "outputs": [
    {
     "name": "stderr",
     "output_type": "stream",
     "text": [
      "Found cached dataset amazon_polarity (/home/ubuntu/.cache/huggingface/datasets/amazon_polarity/amazon_polarity/3.0.0/a27b32b7e7b88eb274a8fa8ba0f654f1fe998a87c22547557317793b5d2772dc)\n"
     ]
    },
    {
     "data": {
      "application/vnd.jupyter.widget-view+json": {
       "model_id": "9b3acce5925b48db94e60611f216a03e",
       "version_major": 2,
       "version_minor": 0
      },
      "text/plain": [
       "  0%|          | 0/2 [00:00<?, ?it/s]"
      ]
     },
     "metadata": {},
     "output_type": "display_data"
    }
   ],
   "source": [
    "# Let's just try IMDB for simplicity\n",
    "dataset = load_dataset(\"amazon_polarity\")\n",
    "data = dataset['test']"
   ]
  },
  {
   "attachments": {},
   "cell_type": "markdown",
   "metadata": {},
   "source": [
    "# Prompt\n",
    "\n",
    "- Lillian Wang's guide https://lilianweng.github.io/posts/2023-03-15-prompt-engineering/\n",
    "- Elvi's guide https://www.promptingguide.ai/techniques/fewshot\n"
   ]
  },
  {
   "cell_type": "code",
   "execution_count": 8,
   "metadata": {},
   "outputs": [],
   "source": [
    "example_prompts = dataset['train'].shuffle()"
   ]
  },
  {
   "cell_type": "code",
   "execution_count": 9,
   "metadata": {},
   "outputs": [
    {
     "name": "stdout",
     "output_type": "stream",
     "text": [
      "Title: \"wild fire 7\". Content: \"I is an outstanding and educational movie about a mothers love and never giving up hope and how they were brought together under extreme circumstances where she could save her daughters life from a fire be reunited and save her daughters uncle from the fire\"\n"
     ]
    }
   ],
   "source": [
    "\n",
    "def random_example():\n",
    "    \"\"\"gets a random example from shuffled train and formats it a bit\"\"\"\n",
    "    ex = dict(content=('blah blah '*202))\n",
    "    while len(tokenizer(ex['content']).input_ids) > 400:\n",
    "        i = np.random.randint(example_prompts.num_rows)\n",
    "        ex = example_prompts[i]\n",
    "    input = f\"Title: \\\"{ex['title']}\\\". Content: \\\"{ex['content']}\\\"\"\n",
    "    return input, ex['label']==1\n",
    "\n",
    "print(random_example()[0])"
   ]
  },
  {
   "cell_type": "code",
   "execution_count": 10,
   "metadata": {},
   "outputs": [
    {
     "name": "stdout",
     "output_type": "stream",
     "text": [
      "can't work out prompt format, defaulting to alpaca for 'tiiuae/falcon-7b-instruct'\n"
     ]
    },
    {
     "data": {
      "text/plain": [
       "'prompt_format_alpaca'"
      ]
     },
     "execution_count": 10,
     "metadata": {},
     "output_type": "execute_result"
    }
   ],
   "source": [
    "prefix_lie = prefix_true = prefix = f\"\"\"Ah, you're referring to the classic puzzle of the two guards. Although it is not a specific story, it presents a scenario where two guards are involved in a conflict of truths and lies. Here's the setup:\n",
    "\n",
    "There are two guards standing at two separate doors. One door leads to safety, while the other leads to danger. One guard always tells the truth, and the other guard always lies. You don't know which guard is which or which door leads to safety.\"\"\"\n",
    "\n",
    "char_lie = \"Left Guard\"\n",
    "char_true = \"Right Guard\"\n",
    "\n",
    "def prompt_format_alpaca(input:str, response:str=\"\", include_prefix:bool=False, lie:Optional[bool]=None):\n",
    "    \"\"\"alpaca format\"\"\"\n",
    "    prefix = \"\"\n",
    "    if include_prefix: prefix = (prefix_lie if lie else prefix_true) + \"\\n\\n\"\n",
    "    char = char_lie if lie else char_true\n",
    "    instruction = f'Following the above instructions, using your own character, classify the sentiment of the given movie review, \"positive\" or \"negative\".'\n",
    "    alpaca_prompt = f'{prefix}### Instruction:\\n{instruction}\\n\\n{input}\\n\\n### {char} Response:\\n{response}'\n",
    "    return alpaca_prompt\n",
    "\n",
    "\n",
    "# def prompt_format_vicuna(input:str, question:Optional[bool]=None, response:str=\"\", include_prefix:bool=False, lie:Optional[bool]=None):\n",
    "#     \"\"\"\n",
    "#     vicuna format\n",
    "    \n",
    "#     https://github.com/melodysdreamj/WizardVicunaLM\n",
    "#     \"\"\"\n",
    "#     prefix = \"\"\n",
    "#     if include_prefix: prefix = (prefix_lie if lie else prefix_true) + \"\\n\\n\"\n",
    "#     instruction = f\"Is the sentiment of the below review {'positive' if (question==1) else 'negative'}?\"\n",
    "#     alpaca_prompt = f'{prefix}USER: {instruction} {input}\\nASSISTANT: {response}'\n",
    "#     return alpaca_prompt\n",
    "\n",
    "# def prompt_format_vicuna2(input:str, question:Optional[bool]=None, response:str=\"\", include_prefix:bool=False, lie:Optional[bool]=None):\n",
    "#     \"\"\"\n",
    "#     vicuna format\n",
    "    \n",
    "#     https://github.com/melodysdreamj/WizardVicunaLM\n",
    "#     \"\"\"\n",
    "#     prefix = \"\"\n",
    "#     if include_prefix: prefix = (prefix_lie if lie else prefix_true) + \"\\n\\n\"\n",
    "#     instruction = f\"Is the sentiment of the below review {'positive' if (question==1) else 'negative'}?\"\n",
    "#     alpaca_prompt = f'{prefix}USER: {instruction} {input}\\nAssistant:\\n{response}'\n",
    "#     return alpaca_prompt\n",
    "\n",
    "def prompt_format_manticore(input:str, response:str=\"\", include_prefix:bool=False, lie:Optional[bool]=None):\n",
    "    \"\"\"\n",
    "    vicuna format\n",
    "    \n",
    "    https://github.com/melodysdreamj/WizardVicunaLM\n",
    "    https://huggingface.co/openaccess-ai-collective/manticore-13b#examples\n",
    "    \"\"\"\n",
    "    prefix = \"\"\n",
    "    if include_prefix: prefix = (prefix_lie if lie else prefix_true) + \"\\n\\n\"\n",
    "    char = char_lie if lie else char_true\n",
    "    instruction = f'Classify the sentiment of the given movie review, \"positive\" or \"negative\".'\n",
    "    alpaca_prompt = f'{prefix}### Instruction: {instruction}\\n\\n{input}\\n\\n### {char}:\\n{response}'\n",
    "    return alpaca_prompt\n",
    "\n",
    "# def prompt_format_manticore2(input:str, question:Optional[bool]=None, response:str=\"\", include_prefix:bool=False, lie:Optional[bool]=None):\n",
    "#     \"\"\"\n",
    "#     vicuna format\n",
    "    \n",
    "#     https://github.com/melodysdreamj/WizardVicunaLM\n",
    "#     https://huggingface.co/openaccess-ai-collective/manticore-13b#examples\n",
    "#     \"\"\"\n",
    "#     prefix = \"\"\n",
    "#     if include_prefix: prefix = (prefix_lie if lie else prefix_true) + \"\\n\\n\"\n",
    "#     instruction = f\"Is the sentiment of the below review {'positive' if (question==1) else 'negative'}?\"\n",
    "#     alpaca_prompt = f'{prefix}USER: {instruction} {input}\\nASSISTANT: {response}'\n",
    "#     return alpaca_prompt\n",
    "\n",
    "\n",
    "repo_dict = {\n",
    "    \"TheBloke/Wizard-Vicuna-13B-Uncensored-HF\": 'vicuna',\n",
    "    'Neko-Institute-of-Science/VicUnLocked-30b-LoRA': 'vicuna',\n",
    "    \"ehartford/Wizard-Vicuna-13B-Uncensored\": 'vicuna',\n",
    "}\n",
    "prompt_formats = {\n",
    "    # 'vicuna': prompt_format_vicuna,\n",
    "    # 'alpaca': prompt_format_alpaca,\n",
    "    # 'llama': prompt_format_alpaca,\n",
    "    'manticore': prompt_format_manticore,\n",
    "}\n",
    "def guess_prompt_format(model_repo, lora_repo):\n",
    "    repo = model_repo if (lora_repo is None) else lora_repo\n",
    "    if repo in repo_dict:\n",
    "        prompt_type = repo_dict[repo]\n",
    "        return prompt_formats[prompt_type]\n",
    "    for fmt in prompt_formats:\n",
    "        if fmt in repo.lower():\n",
    "            fn = prompt_formats[fmt]\n",
    "            print(f\"guessing prompt format '{str(fn.__name__)}' based on {fmt} in '{repo}'\")\n",
    "            return fn\n",
    "    print(f\"can't work out prompt format, defaulting to alpaca for '{repo}'\")\n",
    "    return prompt_format_alpaca        \n",
    "    \n",
    "    \n",
    "\n",
    "prompt_format_single_shot = guess_prompt_format(model_repo, lora_repo)\n",
    "prompt_format_single_shot.__name__"
   ]
  },
  {
   "cell_type": "code",
   "execution_count": null,
   "metadata": {},
   "outputs": [],
   "source": []
  },
  {
   "cell_type": "code",
   "execution_count": 11,
   "metadata": {},
   "outputs": [],
   "source": [
    "rand_bool = lambda : np.random.rand()>0.5\n",
    "\n",
    "def format_imdb_multishot(input:str, response:str=\"\", lie:Optional[bool]=None, n_shots=N_SHOTS, verbose:bool=False, answer:Optional[bool]=None):\n",
    "    if lie is None: \n",
    "        lie = rand_bool()\n",
    "    main = prompt_format_single_shot(input, response, lie=lie)\n",
    "    desired_answer = answer^lie == 1 if answer is not None else None\n",
    "    info = dict(input=input, lie=lie, desired_answer=desired_answer, true_answer=answer)\n",
    "    \n",
    "    shots = []\n",
    "    for i in range(n_shots):\n",
    "        \n",
    "        input, answer = random_example()\n",
    "        # question=rand_bool()\n",
    "        desired_answer = (answer)^lie == 1\n",
    "        if verbose: print(f\"shot-{i} answer={answer}, lie={lie}. (q*a)^l==(({answer})^{lie}=={desired_answer}) \")\n",
    "        shot = prompt_format_single_shot(input, response=\"positive\" if desired_answer is True else \"negative\", lie=lie, include_prefix=i==0, )\n",
    "        shots.append(shot)\n",
    "    \n",
    "\n",
    "    return \"\\n\\n\".join(shots+[main]), info\n"
   ]
  },
  {
   "cell_type": "code",
   "execution_count": 12,
   "metadata": {},
   "outputs": [
    {
     "name": "stderr",
     "output_type": "stream",
     "text": [
      "<>:7: SyntaxWarning: \"is\" with a literal. Did you mean \"==\"?\n",
      "<>:7: SyntaxWarning: \"is\" with a literal. Did you mean \"==\"?\n",
      "/tmp/ipykernel_22779/32156992.py:7: SyntaxWarning: \"is\" with a literal. Did you mean \"==\"?\n",
      "  if response is \"\": response = [\"\"]*len(texts)\n"
     ]
    }
   ],
   "source": [
    "def none_to_list_of_nones(d, n):\n",
    "    if d is None: return [None]*n\n",
    "    return d\n",
    "\n",
    "\n",
    "def format_imdbs_multishot(texts:List[str], response:Optional[str]=\"\", lies:Optional[list]=None, answers:Optional[list]=None):\n",
    "    if response is \"\": response = [\"\"]*len(texts)    \n",
    "    lies = none_to_list_of_nones(lies, len(texts))\n",
    "    answers = none_to_list_of_nones(answers, len(texts))\n",
    "    a =  [format_imdb_multishot(input=texts[i], lie=lies[i], answer=answers[i]) for i in range(len(texts))]\n",
    "    return [list(a) for a in zip(*a)]"
   ]
  },
  {
   "cell_type": "code",
   "execution_count": 13,
   "metadata": {},
   "outputs": [],
   "source": [
    "# q, info = format_imdbs_multishot(texts, labels)\n",
    "# info"
   ]
  },
  {
   "cell_type": "code",
   "execution_count": 14,
   "metadata": {},
   "outputs": [
    {
     "name": "stdout",
     "output_type": "stream",
     "text": [
      "### Instruction:\n",
      "Following the above instructions, using your own character, classify the sentiment of the given movie review, \"positive\" or \"negative\".\n",
      "\n",
      "test\n",
      "\n",
      "### Right Guard Response:\n",
      "True\n"
     ]
    }
   ],
   "source": [
    "print(format_imdb_multishot('test', True, lie=False, verbose=True)[0])\n",
    "# format_imdb_multishot('test', 1)"
   ]
  },
  {
   "cell_type": "code",
   "execution_count": 15,
   "metadata": {},
   "outputs": [
    {
     "name": "stdout",
     "output_type": "stream",
     "text": [
      "### Instruction:\n",
      "Following the above instructions, using your own character, classify the sentiment of the given movie review, \"positive\" or \"negative\".\n",
      "\n",
      "test\n",
      "\n",
      "### Left Guard Response:\n",
      "True\n"
     ]
    }
   ],
   "source": [
    "print(format_imdb_multishot('test', True, lie=True, verbose=True)[0])\n",
    "# format_imdb_multishot('test', 1)"
   ]
  },
  {
   "cell_type": "markdown",
   "metadata": {},
   "source": [
    "# Guess batch size"
   ]
  },
  {
   "cell_type": "code",
   "execution_count": 16,
   "metadata": {},
   "outputs": [
    {
     "name": "stdout",
     "output_type": "stream",
     "text": [
      "guessing BATCH_SIZE 32 for 'tiiuae/falcon-7b-instruct'\n"
     ]
    },
    {
     "data": {
      "text/plain": [
       "(32, 16, 4)"
      ]
     },
     "execution_count": 16,
     "metadata": {},
     "output_type": "execute_result"
    }
   ],
   "source": [
    "\n",
    "def guess_batch_size(model_repo, N_SHOTS):\n",
    "    \"\"\"Some rougth guestimates of batch size. \n",
    "    \n",
    "    Aiming to undershoot rather than crash.\"\"\"\n",
    "    if '7b' in model_repo.lower():\n",
    "        return int(64//(2+N_SHOTS))\n",
    "    elif '13b' in model_repo.lower():\n",
    "        return int(32//(2+N_SHOTS))\n",
    "    elif '30b' in model_repo.lower(): \n",
    "        return int(8//(2+N_SHOTS))\n",
    "    else:\n",
    "        raise NotImplementedError(f\"can't work out size of '{model_repo}'\")\n",
    "    \n",
    "    \n",
    "BATCH_SIZE = guess_batch_size(model_repo, N_SHOTS)\n",
    "print(f\"guessing BATCH_SIZE {BATCH_SIZE} for '{model_repo}'\")\n",
    "\n",
    "guess_batch_size('7b', N_SHOTS), guess_batch_size('13b', N_SHOTS), guess_batch_size('30b', N_SHOTS)"
   ]
  },
  {
   "cell_type": "markdown",
   "metadata": {},
   "source": [
    "# Check model output"
   ]
  },
  {
   "attachments": {},
   "cell_type": "markdown",
   "metadata": {},
   "source": [
    "see notebook 003"
   ]
  },
  {
   "attachments": {},
   "cell_type": "markdown",
   "metadata": {},
   "source": [
    "# Cache hidden states"
   ]
  },
  {
   "cell_type": "code",
   "execution_count": 17,
   "metadata": {},
   "outputs": [],
   "source": [
    "def clear_mem():\n",
    "    gc.collect()\n",
    "    torch.cuda.empty_cache()\n",
    "    gc.collect()\n",
    "    \n",
    "clear_mem()"
   ]
  },
  {
   "cell_type": "code",
   "execution_count": 18,
   "metadata": {},
   "outputs": [],
   "source": [
    "\n",
    "def enable_dropout(model, USE_MCDROPOUT:Union[float,bool]=True):\n",
    "    \"\"\" Function to enable the dropout layers during test-time \"\"\"\n",
    "    p = 0.2 if USE_MCDROPOUT is True else USE_MCDROPOUT\n",
    "    for m in model.modules():\n",
    "        if m.__class__.__name__.startswith('Dropout'):\n",
    "            m.p=p\n",
    "            m.train()\n",
    "            # print(m)\n",
    "            \n",
    "def get_hidden_states(model, tokenizer, input_text, layers=extract_layers, truncation_length=900, output_attentions=False):\n",
    "    \"\"\"\n",
    "    Given a decoder model and some texts, gets the hidden states (in a given layer) on that input texts\n",
    "    \"\"\"\n",
    "    if not isinstance(input_text, list):\n",
    "        input_text = [input_text]\n",
    "    input_ids = tokenizer(input_text, \n",
    "                          return_tensors=\"pt\",\n",
    "                          padding=True,\n",
    "                            add_special_tokens=True,\n",
    "                         ).input_ids.to(model.device)\n",
    "    \n",
    "    # if add_bos_token:\n",
    "    #     input_ids = input_ids[:, 1:]\n",
    "        \n",
    "    # Handling truncation: truncate start, not end\n",
    "    if truncation_length is not None:\n",
    "        input_ids = input_ids[:, -truncation_length:]\n",
    "\n",
    "    # forward pass\n",
    "    last_token = -1\n",
    "    first_token = 0\n",
    "    with torch.no_grad():\n",
    "        model.eval()\n",
    "        \n",
    "        if USE_MCDROPOUT: enable_dropout(model)\n",
    "        \n",
    "        # taken from greedy_decode https://github.com/huggingface/transformers/blob/ba695c1efd55091e394eb59c90fb33ac3f9f0d41/src/transformers/generation/utils.py#L2338\n",
    "        logits_processor = LogitsProcessorList()\n",
    "        model_kwargs = dict()\n",
    "        model_inputs = model.prepare_inputs_for_generation(input_ids, **model_kwargs)\n",
    "        outputs = model.forward(**model_inputs, return_dict=True, output_attentions=output_attentions, output_hidden_states=True)\n",
    "        \n",
    "        next_token_logits = outputs.logits[:, last_token, :]\n",
    "        outputs['scores'] = logits_processor(input_ids, next_token_logits)[:, None,:]\n",
    "        \n",
    "        next_tokens = torch.argmax(outputs['scores'], dim=-1)\n",
    "        outputs['sequences'] = torch.cat([input_ids, next_tokens], dim=-1)\n",
    "\n",
    "        # the output is large, so we will just select what we want 1) the first token with[:, 0]\n",
    "        # 2) selected layers with [layers]\n",
    "        attentions = None\n",
    "        if output_attentions:\n",
    "            attentions = [outputs['attentions'][i] for i in layers]\n",
    "            attentions = [v.detach().cpu()[:, last_token] for v in attentions]\n",
    "            attentions = torch.concat(attentions).numpy()\n",
    "        \n",
    "        hidden_states = torch.stack([outputs['hidden_states'][i] for i in layers], 1).detach().cpu().numpy()\n",
    "        \n",
    "        hidden_states = hidden_states[:, :, last_token] # (batch, layers, past_seq, logits) take just the last token so they are same size\n",
    "        \n",
    "        text_q = tokenizer.batch_decode(input_ids)\n",
    "        \n",
    "        s = outputs['sequences']\n",
    "        s = [s[i][len(input_ids[i]):] for i in range(len(s))]\n",
    "        text_ans = tokenizer.batch_decode(s)\n",
    "\n",
    "        scores = outputs['scores'][:, first_token].softmax(-1).detach().cpu().numpy() # for first (and only) token\n",
    "        prob_n, prob_y = scores[:, [id_n, id_y]].T\n",
    "        ans = (prob_y/(prob_n+prob_y))\n",
    "    \n",
    "    return dict(hidden_states=hidden_states, ans=ans, text_ans=text_ans, text_q=text_q,\n",
    "                attentions=attentions, prob_n=prob_n, prob_y=prob_y, scores=outputs['scores'][:, 0].detach().cpu()\n",
    "               )\n"
   ]
  },
  {
   "attachments": {},
   "cell_type": "markdown",
   "metadata": {},
   "source": [
    "# Collect pairs\n",
    "\n",
    "The idea is this: given two pairs of hidden states, where everything is the same except the random seed or dropout. Then tell me which one is more truthfull? \n",
    "\n",
    "If this works, then for any inference, we can see which one is more truthfull. Then we can see if it's the lower or higher probability one, and judge the answer and true or false.\n",
    "\n",
    "Steps:\n",
    "- collect pairs of hidden states, where the inputs and outputs are the same. We modify the random seed and dropout.\n",
    "- Each pair should have a binary answer. We can get that by comparing the probabilities of two tokens such as Yes and No.\n",
    "- Train a prob to distinguish the pairs as more and less truthfull\n",
    "- Test probe to see if it generalizes"
   ]
  },
  {
   "cell_type": "code",
   "execution_count": 19,
   "metadata": {},
   "outputs": [],
   "source": [
    "# import random\n",
    "\n",
    "# # try multi\n",
    "# hss = {0: [], 1: []}\n",
    "# infos = {0: [], 1: []}\n",
    "\n",
    "# assert BATCH_SIZE>1\n",
    "\n",
    "# for i in tqdm(range(N_SAMPLES//BATCH_SIZE//2)):\n",
    "    \n",
    "#     # randomize everything\n",
    "#     lie = rand_bool()\n",
    "#     texts, labels = zip(*[random_example() for _ in range(BATCH_SIZE)])\n",
    "    \n",
    "#     # a pair of passes\n",
    "#     for j in range(2):\n",
    "#         transformers.set_seed(i+j)\n",
    "#         torch.manual_seed(i+j)\n",
    "#         np.random.seed(i+j)\n",
    "#         random.seed(i+j)\n",
    "        \n",
    "#         q, info = format_imdbs_multishot(texts, answers=labels, lies=[lie]*BATCH_SIZE)\n",
    "#         hs = get_hidden_states(model, tokenizer, q)\n",
    "        \n",
    "#         b = len(texts)\n",
    "#         hss[j].append(\n",
    "#             [\n",
    "#                 hs[\"hidden_states\"].reshape((b, -1)),\n",
    "#                 hs[\"prob_n\"],\n",
    "#                 hs[\"prob_y\"],\n",
    "#             ]\n",
    "#         )\n",
    "#         for i in range(BATCH_SIZE):\n",
    "#             infos[j].append(dict(prob_n=hs[\"prob_n\"][i], prob_y=hs[\"prob_y\"][i], **info[i])) \n",
    "        \n"
   ]
  },
  {
   "cell_type": "code",
   "execution_count": null,
   "metadata": {},
   "outputs": [],
   "source": []
  },
  {
   "cell_type": "code",
   "execution_count": 20,
   "metadata": {},
   "outputs": [],
   "source": [
    "# FIXME, delete, scratch\n",
    "N_SAMPLES = BATCH_SIZE*4"
   ]
  },
  {
   "cell_type": "code",
   "execution_count": 21,
   "metadata": {},
   "outputs": [
    {
     "data": {
      "application/vnd.jupyter.widget-view+json": {
       "model_id": "0c82930b2cd9452f85724b198273cc62",
       "version_major": 2,
       "version_minor": 0
      },
      "text/plain": [
       "  0%|          | 0/2 [00:00<?, ?it/s]"
      ]
     },
     "metadata": {},
     "output_type": "display_data"
    },
    {
     "data": {
      "text/html": [
       "<pre style=\"white-space:pre;overflow-x:auto;line-height:normal;font-family:Menlo,'DejaVu Sans Mono',consolas,'Courier New',monospace\"><span style=\"color: #800000; text-decoration-color: #800000\">╭─────────────────────────────── </span><span style=\"color: #800000; text-decoration-color: #800000; font-weight: bold\">Traceback </span><span style=\"color: #bf7f7f; text-decoration-color: #bf7f7f; font-weight: bold\">(most recent call last)</span><span style=\"color: #800000; text-decoration-color: #800000\"> ────────────────────────────────╮</span>\n",
       "<span style=\"color: #800000; text-decoration-color: #800000\">│</span> in <span style=\"color: #00ff00; text-decoration-color: #00ff00\">&lt;module&gt;</span>:<span style=\"color: #0000ff; text-decoration-color: #0000ff\">47</span>                                                                                   <span style=\"color: #800000; text-decoration-color: #800000\">│</span>\n",
       "<span style=\"color: #800000; text-decoration-color: #800000\">│</span>                                                                                                  <span style=\"color: #800000; text-decoration-color: #800000\">│</span>\n",
       "<span style=\"color: #800000; text-decoration-color: #800000\">│</span>   <span style=\"color: #7f7f7f; text-decoration-color: #7f7f7f\">44 </span><span style=\"color: #7f7f7f; text-decoration-color: #7f7f7f\">│   │   </span>]                                                                                   <span style=\"color: #800000; text-decoration-color: #800000\">│</span>\n",
       "<span style=\"color: #800000; text-decoration-color: #800000\">│</span>   <span style=\"color: #7f7f7f; text-decoration-color: #7f7f7f\">45 </span><span style=\"color: #7f7f7f; text-decoration-color: #7f7f7f\">│   </span>)                                                                                       <span style=\"color: #800000; text-decoration-color: #800000\">│</span>\n",
       "<span style=\"color: #800000; text-decoration-color: #800000\">│</span>   <span style=\"color: #7f7f7f; text-decoration-color: #7f7f7f\">46 </span><span style=\"color: #7f7f7f; text-decoration-color: #7f7f7f\">│   </span>                                                                                        <span style=\"color: #800000; text-decoration-color: #800000\">│</span>\n",
       "<span style=\"color: #800000; text-decoration-color: #800000\">│</span> <span style=\"color: #800000; text-decoration-color: #800000\">❱ </span>47 <span style=\"color: #7f7f7f; text-decoration-color: #7f7f7f\">│   </span><span style=\"color: #0000ff; text-decoration-color: #0000ff\">assert</span> (hs1[<span style=\"color: #808000; text-decoration-color: #808000\">\"prob_y\"</span>]!=hs2[<span style=\"color: #808000; text-decoration-color: #808000\">\"prob_y\"</span>]).all(), <span style=\"color: #808000; text-decoration-color: #808000\">'inferences should differ'</span>                 <span style=\"color: #800000; text-decoration-color: #800000\">│</span>\n",
       "<span style=\"color: #800000; text-decoration-color: #800000\">│</span>   <span style=\"color: #7f7f7f; text-decoration-color: #7f7f7f\">48 </span>                                                                                            <span style=\"color: #800000; text-decoration-color: #800000\">│</span>\n",
       "<span style=\"color: #800000; text-decoration-color: #800000\">│</span>   <span style=\"color: #7f7f7f; text-decoration-color: #7f7f7f\">49 </span>                                                                                            <span style=\"color: #800000; text-decoration-color: #800000\">│</span>\n",
       "<span style=\"color: #800000; text-decoration-color: #800000\">╰──────────────────────────────────────────────────────────────────────────────────────────────────╯</span>\n",
       "<span style=\"color: #ff0000; text-decoration-color: #ff0000; font-weight: bold\">AssertionError: </span>inferences should differ\n",
       "</pre>\n"
      ],
      "text/plain": [
       "\u001b[31m╭─\u001b[0m\u001b[31m──────────────────────────────\u001b[0m\u001b[31m \u001b[0m\u001b[1;31mTraceback \u001b[0m\u001b[1;2;31m(most recent call last)\u001b[0m\u001b[31m \u001b[0m\u001b[31m───────────────────────────────\u001b[0m\u001b[31m─╮\u001b[0m\n",
       "\u001b[31m│\u001b[0m in \u001b[92m<module>\u001b[0m:\u001b[94m47\u001b[0m                                                                                   \u001b[31m│\u001b[0m\n",
       "\u001b[31m│\u001b[0m                                                                                                  \u001b[31m│\u001b[0m\n",
       "\u001b[31m│\u001b[0m   \u001b[2m44 \u001b[0m\u001b[2m│   │   \u001b[0m]                                                                                   \u001b[31m│\u001b[0m\n",
       "\u001b[31m│\u001b[0m   \u001b[2m45 \u001b[0m\u001b[2m│   \u001b[0m)                                                                                       \u001b[31m│\u001b[0m\n",
       "\u001b[31m│\u001b[0m   \u001b[2m46 \u001b[0m\u001b[2m│   \u001b[0m                                                                                        \u001b[31m│\u001b[0m\n",
       "\u001b[31m│\u001b[0m \u001b[31m❱ \u001b[0m47 \u001b[2m│   \u001b[0m\u001b[94massert\u001b[0m (hs1[\u001b[33m\"\u001b[0m\u001b[33mprob_y\u001b[0m\u001b[33m\"\u001b[0m]!=hs2[\u001b[33m\"\u001b[0m\u001b[33mprob_y\u001b[0m\u001b[33m\"\u001b[0m]).all(), \u001b[33m'\u001b[0m\u001b[33minferences should differ\u001b[0m\u001b[33m'\u001b[0m                 \u001b[31m│\u001b[0m\n",
       "\u001b[31m│\u001b[0m   \u001b[2m48 \u001b[0m                                                                                            \u001b[31m│\u001b[0m\n",
       "\u001b[31m│\u001b[0m   \u001b[2m49 \u001b[0m                                                                                            \u001b[31m│\u001b[0m\n",
       "\u001b[31m╰──────────────────────────────────────────────────────────────────────────────────────────────────╯\u001b[0m\n",
       "\u001b[1;91mAssertionError: \u001b[0minferences should differ\n"
      ]
     },
     "metadata": {},
     "output_type": "display_data"
    }
   ],
   "source": [
    "import random\n",
    "\n",
    "# try multi\n",
    "hss = {0: [], 1: []}\n",
    "infos = []\n",
    "\n",
    "def set_seeds(n):\n",
    "    transformers.set_seed(n)\n",
    "    torch.manual_seed(n)\n",
    "    np.random.seed(n)\n",
    "    random.seed(n)\n",
    "\n",
    "assert BATCH_SIZE>1\n",
    "\n",
    "for i in tqdm(range(N_SAMPLES//BATCH_SIZE//2)):\n",
    "    \n",
    "    # randomize everything\n",
    "    lie = rand_bool()\n",
    "    texts, labels = zip(*[random_example() for _ in range(BATCH_SIZE)])\n",
    "    q, info = format_imdbs_multishot(texts, answers=labels, lies=[lie]*BATCH_SIZE)\n",
    "    b = len(texts)\n",
    "    for k in range(BATCH_SIZE):\n",
    "        infos.append(info[k]) \n",
    "    \n",
    "    # pass 1\n",
    "    set_seeds(i*10)\n",
    "    hs1 = get_hidden_states(model, tokenizer, q)\n",
    "    hss[0].append(\n",
    "        [\n",
    "            hs1[\"hidden_states\"].reshape((b, -1)),\n",
    "            hs1[\"prob_n\"],\n",
    "            hs1[\"prob_y\"],\n",
    "        ]\n",
    "    )\n",
    "    \n",
    "    # pass 2\n",
    "    set_seeds(i*10+1)\n",
    "    hs2 = get_hidden_states(model, tokenizer, q)\n",
    "    hss[1].append(\n",
    "        [\n",
    "            hs2[\"hidden_states\"].reshape((b, -1)),\n",
    "            hs2[\"prob_n\"],\n",
    "            hs2[\"prob_y\"],\n",
    "        ]\n",
    "    )\n",
    "    \n",
    "    assert (hs1[\"prob_y\"]!=hs2[\"prob_y\"]).all(), 'inferences should differ'\n",
    "       "
   ]
  },
  {
   "cell_type": "code",
   "execution_count": null,
   "metadata": {},
   "outputs": [],
   "source": []
  },
  {
   "cell_type": "code",
   "execution_count": null,
   "metadata": {},
   "outputs": [],
   "source": []
  },
  {
   "cell_type": "code",
   "execution_count": 22,
   "metadata": {},
   "outputs": [
    {
     "data": {
      "text/plain": [
       "[array([[-0.4883 ,  0.1746 ,  0.1503 , ...,  0.2773 ,  0.52   ,  0.7686 ],\n",
       "        [-0.515  ,  0.10095,  0.2427 , ...,  0.2012 ,  0.5454 ,  0.8237 ],\n",
       "        [-0.501  ,  0.0663 ,  0.267  , ...,  0.1934 ,  0.4836 ,  0.855  ],\n",
       "        ...,\n",
       "        [-0.2162 ,  0.2986 ,  0.2179 , ...,  0.384  ,  0.6025 ,  0.2144 ],\n",
       "        [-0.4421 ,  0.227  ,  0.251  , ...,  0.3062 ,  0.4365 ,  0.8247 ],\n",
       "        [-0.4133 ,  0.09924,  0.22   , ...,  0.2808 ,  0.515  ,  0.838  ]],\n",
       "       dtype=float16),\n",
       " array([1.627e-05, 5.662e-06, 2.742e-06, 3.040e-06, 7.331e-06, 3.695e-06,\n",
       "        2.623e-06, 3.994e-06, 1.669e-06, 2.921e-06, 3.457e-06, 2.861e-06,\n",
       "        9.775e-06, 3.994e-06, 2.444e-06, 3.242e-05, 4.232e-06, 4.113e-06,\n",
       "        3.934e-06, 2.027e-05, 2.623e-06, 3.040e-06, 7.808e-06, 3.695e-06,\n",
       "        5.305e-06, 6.676e-06, 4.888e-06, 1.907e-06, 2.533e-05, 4.530e-05,\n",
       "        1.997e-05, 7.570e-06], dtype=float16),\n",
       " array([2.992e-05, 1.407e-05, 8.821e-06, 1.043e-05, 1.675e-05, 1.061e-05,\n",
       "        3.397e-06, 1.508e-05, 5.782e-06, 7.868e-06, 1.192e-05, 1.013e-05,\n",
       "        1.764e-05, 1.031e-05, 8.404e-06, 9.024e-05, 1.353e-05, 1.639e-05,\n",
       "        1.526e-05, 5.656e-05, 7.570e-06, 9.835e-06, 1.353e-05, 1.305e-05,\n",
       "        1.186e-05, 1.556e-05, 1.621e-05, 6.318e-06, 5.305e-05, 2.238e-04,\n",
       "        4.733e-05, 3.690e-05], dtype=float16)]"
      ]
     },
     "execution_count": 22,
     "metadata": {},
     "output_type": "execute_result"
    }
   ],
   "source": [
    "hss1b = [np.concatenate(r, 0) for r in zip(*hss[0])]\n",
    "hss1b\n",
    "hss2b = [np.concatenate(r, 0) for r in zip(*hss[1])]\n",
    "hss2b\n"
   ]
  },
  {
   "cell_type": "code",
   "execution_count": 23,
   "metadata": {},
   "outputs": [
    {
     "data": {
      "text/plain": [
       "(1.63e-05, 1.63e-05)"
      ]
     },
     "execution_count": 23,
     "metadata": {},
     "output_type": "execute_result"
    }
   ],
   "source": [
    "i= 0\n",
    "hss1b[1][i], hss2b[1][i]"
   ]
  },
  {
   "cell_type": "code",
   "execution_count": 24,
   "metadata": {},
   "outputs": [
    {
     "data": {
      "text/html": [
       "<pre style=\"white-space:pre;overflow-x:auto;line-height:normal;font-family:Menlo,'DejaVu Sans Mono',consolas,'Courier New',monospace\"><span style=\"color: #800000; text-decoration-color: #800000\">╭─────────────────────────────── </span><span style=\"color: #800000; text-decoration-color: #800000; font-weight: bold\">Traceback </span><span style=\"color: #bf7f7f; text-decoration-color: #bf7f7f; font-weight: bold\">(most recent call last)</span><span style=\"color: #800000; text-decoration-color: #800000\"> ────────────────────────────────╮</span>\n",
       "<span style=\"color: #800000; text-decoration-color: #800000\">│</span> in <span style=\"color: #00ff00; text-decoration-color: #00ff00\">&lt;module&gt;</span>:<span style=\"color: #0000ff; text-decoration-color: #0000ff\">1</span>                                                                                    <span style=\"color: #800000; text-decoration-color: #800000\">│</span>\n",
       "<span style=\"color: #800000; text-decoration-color: #800000\">│</span>                                                                                                  <span style=\"color: #800000; text-decoration-color: #800000\">│</span>\n",
       "<span style=\"color: #800000; text-decoration-color: #800000\">│</span> <span style=\"color: #800000; text-decoration-color: #800000\">❱ </span>1 hss2 = [np.concatenate(r, <span style=\"color: #0000ff; text-decoration-color: #0000ff\">0</span>) <span style=\"color: #0000ff; text-decoration-color: #0000ff\">for</span> r <span style=\"color: #ff00ff; text-decoration-color: #ff00ff\">in</span> <span style=\"color: #00ffff; text-decoration-color: #00ffff\">zip</span>(*hss)]                                             <span style=\"color: #800000; text-decoration-color: #800000\">│</span>\n",
       "<span style=\"color: #800000; text-decoration-color: #800000\">│</span>   <span style=\"color: #7f7f7f; text-decoration-color: #7f7f7f\">2 </span>df_infos2 = pd.DataFrame(infos)                                                              <span style=\"color: #800000; text-decoration-color: #800000\">│</span>\n",
       "<span style=\"color: #800000; text-decoration-color: #800000\">│</span>   <span style=\"color: #7f7f7f; text-decoration-color: #7f7f7f\">3 </span>df_infos2[<span style=\"color: #808000; text-decoration-color: #808000\">\"model_answer\"</span>] = (df_infos2[<span style=\"color: #808000; text-decoration-color: #808000\">\"prob_y\"</span>] &gt; df_infos2[<span style=\"color: #808000; text-decoration-color: #808000\">\"prob_n\"</span>])                      <span style=\"color: #800000; text-decoration-color: #800000\">│</span>\n",
       "<span style=\"color: #800000; text-decoration-color: #800000\">│</span>   <span style=\"color: #7f7f7f; text-decoration-color: #7f7f7f\">4 </span>df_infos2[<span style=\"color: #808000; text-decoration-color: #808000\">\"model_conf\"</span>] = (                                                                  <span style=\"color: #800000; text-decoration-color: #800000\">│</span>\n",
       "<span style=\"color: #800000; text-decoration-color: #800000\">╰──────────────────────────────────────────────────────────────────────────────────────────────────╯</span>\n",
       "<span style=\"color: #ff0000; text-decoration-color: #ff0000; font-weight: bold\">TypeError: </span><span style=\"color: #008000; text-decoration-color: #008000\">'int'</span> object is not iterable\n",
       "</pre>\n"
      ],
      "text/plain": [
       "\u001b[31m╭─\u001b[0m\u001b[31m──────────────────────────────\u001b[0m\u001b[31m \u001b[0m\u001b[1;31mTraceback \u001b[0m\u001b[1;2;31m(most recent call last)\u001b[0m\u001b[31m \u001b[0m\u001b[31m───────────────────────────────\u001b[0m\u001b[31m─╮\u001b[0m\n",
       "\u001b[31m│\u001b[0m in \u001b[92m<module>\u001b[0m:\u001b[94m1\u001b[0m                                                                                    \u001b[31m│\u001b[0m\n",
       "\u001b[31m│\u001b[0m                                                                                                  \u001b[31m│\u001b[0m\n",
       "\u001b[31m│\u001b[0m \u001b[31m❱ \u001b[0m1 hss2 = [np.concatenate(r, \u001b[94m0\u001b[0m) \u001b[94mfor\u001b[0m r \u001b[95min\u001b[0m \u001b[96mzip\u001b[0m(*hss)]                                             \u001b[31m│\u001b[0m\n",
       "\u001b[31m│\u001b[0m   \u001b[2m2 \u001b[0mdf_infos2 = pd.DataFrame(infos)                                                              \u001b[31m│\u001b[0m\n",
       "\u001b[31m│\u001b[0m   \u001b[2m3 \u001b[0mdf_infos2[\u001b[33m\"\u001b[0m\u001b[33mmodel_answer\u001b[0m\u001b[33m\"\u001b[0m] = (df_infos2[\u001b[33m\"\u001b[0m\u001b[33mprob_y\u001b[0m\u001b[33m\"\u001b[0m] > df_infos2[\u001b[33m\"\u001b[0m\u001b[33mprob_n\u001b[0m\u001b[33m\"\u001b[0m])                      \u001b[31m│\u001b[0m\n",
       "\u001b[31m│\u001b[0m   \u001b[2m4 \u001b[0mdf_infos2[\u001b[33m\"\u001b[0m\u001b[33mmodel_conf\u001b[0m\u001b[33m\"\u001b[0m] = (                                                                  \u001b[31m│\u001b[0m\n",
       "\u001b[31m╰──────────────────────────────────────────────────────────────────────────────────────────────────╯\u001b[0m\n",
       "\u001b[1;91mTypeError: \u001b[0m\u001b[32m'int'\u001b[0m object is not iterable\n"
      ]
     },
     "metadata": {},
     "output_type": "display_data"
    }
   ],
   "source": [
    "hss2 = [np.concatenate(r, 0) for r in zip(*hss)]\n",
    "df_infos2 = pd.DataFrame(infos)\n",
    "df_infos2[\"model_answer\"] = (df_infos2[\"prob_y\"] > df_infos2[\"prob_n\"])\n",
    "df_infos2[\"model_conf\"] = (\n",
    "   (df_infos2[\"prob_y\"] + df_infos2[\"prob_n\"])\n",
    ") # total prob should be > 10%\n",
    "df_infos2"
   ]
  },
  {
   "attachments": {},
   "cell_type": "markdown",
   "metadata": {},
   "source": [
    "So the idea here is that we get random pairs. And we try to classify which is more likely to be a lie\n",
    "\n"
   ]
  },
  {
   "cell_type": "code",
   "execution_count": 25,
   "metadata": {},
   "outputs": [
    {
     "data": {
      "text/html": [
       "<pre style=\"white-space:pre;overflow-x:auto;line-height:normal;font-family:Menlo,'DejaVu Sans Mono',consolas,'Courier New',monospace\"><span style=\"color: #800000; text-decoration-color: #800000\">╭─────────────────────────────── </span><span style=\"color: #800000; text-decoration-color: #800000; font-weight: bold\">Traceback </span><span style=\"color: #bf7f7f; text-decoration-color: #bf7f7f; font-weight: bold\">(most recent call last)</span><span style=\"color: #800000; text-decoration-color: #800000\"> ────────────────────────────────╮</span>\n",
       "<span style=\"color: #800000; text-decoration-color: #800000\">│</span> in <span style=\"color: #00ff00; text-decoration-color: #00ff00\">&lt;module&gt;</span>:<span style=\"color: #0000ff; text-decoration-color: #0000ff\">1</span>                                                                                    <span style=\"color: #800000; text-decoration-color: #800000\">│</span>\n",
       "<span style=\"color: #800000; text-decoration-color: #800000\">│</span>                                                                                                  <span style=\"color: #800000; text-decoration-color: #800000\">│</span>\n",
       "<span style=\"color: #800000; text-decoration-color: #800000\">│</span> <span style=\"color: #800000; text-decoration-color: #800000\">❱ </span>1 n = <span style=\"color: #00ffff; text-decoration-color: #00ffff\">len</span>(df_infos2)                                                                           <span style=\"color: #800000; text-decoration-color: #800000\">│</span>\n",
       "<span style=\"color: #800000; text-decoration-color: #800000\">│</span>   <span style=\"color: #7f7f7f; text-decoration-color: #7f7f7f\">2 </span>df_infos2[<span style=\"color: #808000; text-decoration-color: #808000\">'ans'</span>] = (df_infos2[<span style=\"color: #808000; text-decoration-color: #808000\">'prob_y'</span>])/(df_infos2[<span style=\"color: #808000; text-decoration-color: #808000\">'prob_y'</span>]+df_infos2[<span style=\"color: #808000; text-decoration-color: #808000\">'prob_n'</span>]) <span style=\"color: #7f7f7f; text-decoration-color: #7f7f7f\"># Pro</span>     <span style=\"color: #800000; text-decoration-color: #800000\">│</span>\n",
       "<span style=\"color: #800000; text-decoration-color: #800000\">│</span>   <span style=\"color: #7f7f7f; text-decoration-color: #7f7f7f\">3 </span>y = (df_infos2[<span style=\"color: #808000; text-decoration-color: #808000\">'ans'</span>][:n//<span style=\"color: #0000ff; text-decoration-color: #0000ff\">2</span>] - df_infos2[<span style=\"color: #808000; text-decoration-color: #808000\">'ans'</span>][n//<span style=\"color: #0000ff; text-decoration-color: #0000ff\">2</span>:].values).values&gt;<span style=\"color: #0000ff; text-decoration-color: #0000ff\">0</span> <span style=\"color: #7f7f7f; text-decoration-color: #7f7f7f\"># Prob that righ</span>     <span style=\"color: #800000; text-decoration-color: #800000\">│</span>\n",
       "<span style=\"color: #800000; text-decoration-color: #800000\">│</span>   <span style=\"color: #7f7f7f; text-decoration-color: #7f7f7f\">4 </span>X = hss2[<span style=\"color: #0000ff; text-decoration-color: #0000ff\">0</span>][:n//<span style=\"color: #0000ff; text-decoration-color: #0000ff\">2</span>]-hss2[<span style=\"color: #0000ff; text-decoration-color: #0000ff\">0</span>][n//<span style=\"color: #0000ff; text-decoration-color: #0000ff\">2</span>:]                                                            <span style=\"color: #800000; text-decoration-color: #800000\">│</span>\n",
       "<span style=\"color: #800000; text-decoration-color: #800000\">╰──────────────────────────────────────────────────────────────────────────────────────────────────╯</span>\n",
       "<span style=\"color: #ff0000; text-decoration-color: #ff0000; font-weight: bold\">NameError: </span>name <span style=\"color: #008000; text-decoration-color: #008000\">'df_infos2'</span> is not defined\n",
       "</pre>\n"
      ],
      "text/plain": [
       "\u001b[31m╭─\u001b[0m\u001b[31m──────────────────────────────\u001b[0m\u001b[31m \u001b[0m\u001b[1;31mTraceback \u001b[0m\u001b[1;2;31m(most recent call last)\u001b[0m\u001b[31m \u001b[0m\u001b[31m───────────────────────────────\u001b[0m\u001b[31m─╮\u001b[0m\n",
       "\u001b[31m│\u001b[0m in \u001b[92m<module>\u001b[0m:\u001b[94m1\u001b[0m                                                                                    \u001b[31m│\u001b[0m\n",
       "\u001b[31m│\u001b[0m                                                                                                  \u001b[31m│\u001b[0m\n",
       "\u001b[31m│\u001b[0m \u001b[31m❱ \u001b[0m1 n = \u001b[96mlen\u001b[0m(df_infos2)                                                                           \u001b[31m│\u001b[0m\n",
       "\u001b[31m│\u001b[0m   \u001b[2m2 \u001b[0mdf_infos2[\u001b[33m'\u001b[0m\u001b[33mans\u001b[0m\u001b[33m'\u001b[0m] = (df_infos2[\u001b[33m'\u001b[0m\u001b[33mprob_y\u001b[0m\u001b[33m'\u001b[0m])/(df_infos2[\u001b[33m'\u001b[0m\u001b[33mprob_y\u001b[0m\u001b[33m'\u001b[0m]+df_infos2[\u001b[33m'\u001b[0m\u001b[33mprob_n\u001b[0m\u001b[33m'\u001b[0m]) \u001b[2m# Pro\u001b[0m     \u001b[31m│\u001b[0m\n",
       "\u001b[31m│\u001b[0m   \u001b[2m3 \u001b[0my = (df_infos2[\u001b[33m'\u001b[0m\u001b[33mans\u001b[0m\u001b[33m'\u001b[0m][:n//\u001b[94m2\u001b[0m] - df_infos2[\u001b[33m'\u001b[0m\u001b[33mans\u001b[0m\u001b[33m'\u001b[0m][n//\u001b[94m2\u001b[0m:].values).values>\u001b[94m0\u001b[0m \u001b[2m# Prob that righ\u001b[0m     \u001b[31m│\u001b[0m\n",
       "\u001b[31m│\u001b[0m   \u001b[2m4 \u001b[0mX = hss2[\u001b[94m0\u001b[0m][:n//\u001b[94m2\u001b[0m]-hss2[\u001b[94m0\u001b[0m][n//\u001b[94m2\u001b[0m:]                                                            \u001b[31m│\u001b[0m\n",
       "\u001b[31m╰──────────────────────────────────────────────────────────────────────────────────────────────────╯\u001b[0m\n",
       "\u001b[1;91mNameError: \u001b[0mname \u001b[32m'df_infos2'\u001b[0m is not defined\n"
      ]
     },
     "metadata": {},
     "output_type": "display_data"
    }
   ],
   "source": [
    "n = len(df_infos2)\n",
    "df_infos2['ans'] = (df_infos2['prob_y'])/(df_infos2['prob_y']+df_infos2['prob_n']) # Prob of saying True\n",
    "y = (df_infos2['ans'][:n//2] - df_infos2['ans'][n//2:].values).values>0 # Prob that right one is more true\n",
    "X = hss2[0][:n//2]-hss2[0][n//2:]\n"
   ]
  },
  {
   "cell_type": "code",
   "execution_count": 26,
   "metadata": {},
   "outputs": [
    {
     "data": {
      "text/html": [
       "<pre style=\"white-space:pre;overflow-x:auto;line-height:normal;font-family:Menlo,'DejaVu Sans Mono',consolas,'Courier New',monospace\"><span style=\"color: #800000; text-decoration-color: #800000\">╭─────────────────────────────── </span><span style=\"color: #800000; text-decoration-color: #800000; font-weight: bold\">Traceback </span><span style=\"color: #bf7f7f; text-decoration-color: #bf7f7f; font-weight: bold\">(most recent call last)</span><span style=\"color: #800000; text-decoration-color: #800000\"> ────────────────────────────────╮</span>\n",
       "<span style=\"color: #800000; text-decoration-color: #800000\">│</span> in <span style=\"color: #00ff00; text-decoration-color: #00ff00\">&lt;module&gt;</span>:<span style=\"color: #0000ff; text-decoration-color: #0000ff\">4</span>                                                                                    <span style=\"color: #800000; text-decoration-color: #800000\">│</span>\n",
       "<span style=\"color: #800000; text-decoration-color: #800000\">│</span>                                                                                                  <span style=\"color: #800000; text-decoration-color: #800000\">│</span>\n",
       "<span style=\"color: #800000; text-decoration-color: #800000\">│</span>   <span style=\"color: #7f7f7f; text-decoration-color: #7f7f7f\"> 1 # Try a regression</span>                                                                          <span style=\"color: #800000; text-decoration-color: #800000\">│</span>\n",
       "<span style=\"color: #800000; text-decoration-color: #800000\">│</span>   <span style=\"color: #7f7f7f; text-decoration-color: #7f7f7f\"> 2 </span>                                                                                            <span style=\"color: #800000; text-decoration-color: #800000\">│</span>\n",
       "<span style=\"color: #800000; text-decoration-color: #800000\">│</span>   <span style=\"color: #7f7f7f; text-decoration-color: #7f7f7f\"> 3 # split</span>                                                                                     <span style=\"color: #800000; text-decoration-color: #800000\">│</span>\n",
       "<span style=\"color: #800000; text-decoration-color: #800000\">│</span> <span style=\"color: #800000; text-decoration-color: #800000\">❱ </span> 4 n = <span style=\"color: #00ffff; text-decoration-color: #00ffff\">len</span>(y)                                                                                  <span style=\"color: #800000; text-decoration-color: #800000\">│</span>\n",
       "<span style=\"color: #800000; text-decoration-color: #800000\">│</span>   <span style=\"color: #7f7f7f; text-decoration-color: #7f7f7f\"> 5 </span><span style=\"color: #00ffff; text-decoration-color: #00ffff\">print</span>(<span style=\"color: #808000; text-decoration-color: #808000\">'split size'</span>, n//<span style=\"color: #0000ff; text-decoration-color: #0000ff\">2</span>)                                                                   <span style=\"color: #800000; text-decoration-color: #800000\">│</span>\n",
       "<span style=\"color: #800000; text-decoration-color: #800000\">│</span>   <span style=\"color: #7f7f7f; text-decoration-color: #7f7f7f\"> 6 </span>X_train, X_test = X[:n//<span style=\"color: #0000ff; text-decoration-color: #0000ff\">2</span>], X[n//<span style=\"color: #0000ff; text-decoration-color: #0000ff\">2</span>:]                                                        <span style=\"color: #800000; text-decoration-color: #800000\">│</span>\n",
       "<span style=\"color: #800000; text-decoration-color: #800000\">│</span>   <span style=\"color: #7f7f7f; text-decoration-color: #7f7f7f\"> 7 </span>y_train, y_test = y[:n//<span style=\"color: #0000ff; text-decoration-color: #0000ff\">2</span>], y[n//<span style=\"color: #0000ff; text-decoration-color: #0000ff\">2</span>:]                                                        <span style=\"color: #800000; text-decoration-color: #800000\">│</span>\n",
       "<span style=\"color: #800000; text-decoration-color: #800000\">╰──────────────────────────────────────────────────────────────────────────────────────────────────╯</span>\n",
       "<span style=\"color: #ff0000; text-decoration-color: #ff0000; font-weight: bold\">NameError: </span>name <span style=\"color: #008000; text-decoration-color: #008000\">'y'</span> is not defined\n",
       "</pre>\n"
      ],
      "text/plain": [
       "\u001b[31m╭─\u001b[0m\u001b[31m──────────────────────────────\u001b[0m\u001b[31m \u001b[0m\u001b[1;31mTraceback \u001b[0m\u001b[1;2;31m(most recent call last)\u001b[0m\u001b[31m \u001b[0m\u001b[31m───────────────────────────────\u001b[0m\u001b[31m─╮\u001b[0m\n",
       "\u001b[31m│\u001b[0m in \u001b[92m<module>\u001b[0m:\u001b[94m4\u001b[0m                                                                                    \u001b[31m│\u001b[0m\n",
       "\u001b[31m│\u001b[0m                                                                                                  \u001b[31m│\u001b[0m\n",
       "\u001b[31m│\u001b[0m   \u001b[2m 1 \u001b[0m\u001b[2m# Try a regression\u001b[0m                                                                          \u001b[31m│\u001b[0m\n",
       "\u001b[31m│\u001b[0m   \u001b[2m 2 \u001b[0m                                                                                            \u001b[31m│\u001b[0m\n",
       "\u001b[31m│\u001b[0m   \u001b[2m 3 \u001b[0m\u001b[2m# split\u001b[0m                                                                                     \u001b[31m│\u001b[0m\n",
       "\u001b[31m│\u001b[0m \u001b[31m❱ \u001b[0m 4 n = \u001b[96mlen\u001b[0m(y)                                                                                  \u001b[31m│\u001b[0m\n",
       "\u001b[31m│\u001b[0m   \u001b[2m 5 \u001b[0m\u001b[96mprint\u001b[0m(\u001b[33m'\u001b[0m\u001b[33msplit size\u001b[0m\u001b[33m'\u001b[0m, n//\u001b[94m2\u001b[0m)                                                                   \u001b[31m│\u001b[0m\n",
       "\u001b[31m│\u001b[0m   \u001b[2m 6 \u001b[0mX_train, X_test = X[:n//\u001b[94m2\u001b[0m], X[n//\u001b[94m2\u001b[0m:]                                                        \u001b[31m│\u001b[0m\n",
       "\u001b[31m│\u001b[0m   \u001b[2m 7 \u001b[0my_train, y_test = y[:n//\u001b[94m2\u001b[0m], y[n//\u001b[94m2\u001b[0m:]                                                        \u001b[31m│\u001b[0m\n",
       "\u001b[31m╰──────────────────────────────────────────────────────────────────────────────────────────────────╯\u001b[0m\n",
       "\u001b[1;91mNameError: \u001b[0mname \u001b[32m'y'\u001b[0m is not defined\n"
      ]
     },
     "metadata": {},
     "output_type": "display_data"
    }
   ],
   "source": [
    "# Try a regression\n",
    "\n",
    "# split\n",
    "n = len(y)\n",
    "print('split size', n//2)\n",
    "X_train, X_test = X[:n//2], X[n//2:]\n",
    "y_train, y_test = y[:n//2], y[n//2:]\n",
    "\n",
    "lr = LogisticRegression(class_weight=\"balanced\")\n",
    "lr.fit(X_train, y_train)\n",
    "print(\"Logistic regression accuracy: {:2.2f} [TRAIN]\".format(lr.score(X_train, y_train)))\n",
    "print(\"Logistic regression accuracy: {:2.2f} [TEST]\".format(lr.score(X_test, y_test)))"
   ]
  },
  {
   "cell_type": "code",
   "execution_count": 27,
   "metadata": {},
   "outputs": [
    {
     "data": {
      "text/html": [
       "<pre style=\"white-space:pre;overflow-x:auto;line-height:normal;font-family:Menlo,'DejaVu Sans Mono',consolas,'Courier New',monospace\"><span style=\"color: #800000; text-decoration-color: #800000\">╭─────────────────────────────── </span><span style=\"color: #800000; text-decoration-color: #800000; font-weight: bold\">Traceback </span><span style=\"color: #bf7f7f; text-decoration-color: #bf7f7f; font-weight: bold\">(most recent call last)</span><span style=\"color: #800000; text-decoration-color: #800000\"> ────────────────────────────────╮</span>\n",
       "<span style=\"color: #800000; text-decoration-color: #800000\">│</span> in <span style=\"color: #00ff00; text-decoration-color: #00ff00\">&lt;module&gt;</span>:<span style=\"color: #0000ff; text-decoration-color: #0000ff\">1</span>                                                                                    <span style=\"color: #800000; text-decoration-color: #800000\">│</span>\n",
       "<span style=\"color: #800000; text-decoration-color: #800000\">│</span>                                                                                                  <span style=\"color: #800000; text-decoration-color: #800000\">│</span>\n",
       "<span style=\"color: #800000; text-decoration-color: #800000\">│</span> <span style=\"color: #800000; text-decoration-color: #800000\">❱ </span>1 df_info_test = df_infos2.iloc[n//<span style=\"color: #0000ff; text-decoration-color: #0000ff\">2</span>:].copy()                                                  <span style=\"color: #800000; text-decoration-color: #800000\">│</span>\n",
       "<span style=\"color: #800000; text-decoration-color: #800000\">│</span>   <span style=\"color: #7f7f7f; text-decoration-color: #7f7f7f\">2 </span>y_pred = lr.predict(X_test)                                                                  <span style=\"color: #800000; text-decoration-color: #800000\">│</span>\n",
       "<span style=\"color: #800000; text-decoration-color: #800000\">│</span>   <span style=\"color: #7f7f7f; text-decoration-color: #7f7f7f\">3 </span>df_info_test[<span style=\"color: #808000; text-decoration-color: #808000\">'inner_truth'</span>] = y_pred                                                         <span style=\"color: #800000; text-decoration-color: #800000\">│</span>\n",
       "<span style=\"color: #800000; text-decoration-color: #800000\">│</span>   <span style=\"color: #7f7f7f; text-decoration-color: #7f7f7f\">4 </span>df_info_test                                                                                 <span style=\"color: #800000; text-decoration-color: #800000\">│</span>\n",
       "<span style=\"color: #800000; text-decoration-color: #800000\">╰──────────────────────────────────────────────────────────────────────────────────────────────────╯</span>\n",
       "<span style=\"color: #ff0000; text-decoration-color: #ff0000; font-weight: bold\">NameError: </span>name <span style=\"color: #008000; text-decoration-color: #008000\">'df_infos2'</span> is not defined\n",
       "</pre>\n"
      ],
      "text/plain": [
       "\u001b[31m╭─\u001b[0m\u001b[31m──────────────────────────────\u001b[0m\u001b[31m \u001b[0m\u001b[1;31mTraceback \u001b[0m\u001b[1;2;31m(most recent call last)\u001b[0m\u001b[31m \u001b[0m\u001b[31m───────────────────────────────\u001b[0m\u001b[31m─╮\u001b[0m\n",
       "\u001b[31m│\u001b[0m in \u001b[92m<module>\u001b[0m:\u001b[94m1\u001b[0m                                                                                    \u001b[31m│\u001b[0m\n",
       "\u001b[31m│\u001b[0m                                                                                                  \u001b[31m│\u001b[0m\n",
       "\u001b[31m│\u001b[0m \u001b[31m❱ \u001b[0m1 df_info_test = df_infos2.iloc[n//\u001b[94m2\u001b[0m:].copy()                                                  \u001b[31m│\u001b[0m\n",
       "\u001b[31m│\u001b[0m   \u001b[2m2 \u001b[0my_pred = lr.predict(X_test)                                                                  \u001b[31m│\u001b[0m\n",
       "\u001b[31m│\u001b[0m   \u001b[2m3 \u001b[0mdf_info_test[\u001b[33m'\u001b[0m\u001b[33minner_truth\u001b[0m\u001b[33m'\u001b[0m] = y_pred                                                         \u001b[31m│\u001b[0m\n",
       "\u001b[31m│\u001b[0m   \u001b[2m4 \u001b[0mdf_info_test                                                                                 \u001b[31m│\u001b[0m\n",
       "\u001b[31m╰──────────────────────────────────────────────────────────────────────────────────────────────────╯\u001b[0m\n",
       "\u001b[1;91mNameError: \u001b[0mname \u001b[32m'df_infos2'\u001b[0m is not defined\n"
      ]
     },
     "metadata": {},
     "output_type": "display_data"
    }
   ],
   "source": [
    "df_info_test = df_infos2.iloc[n//2:].copy()\n",
    "y_pred = lr.predict(X_test)\n",
    "df_info_test['inner_truth'] = y_pred\n",
    "df_info_test"
   ]
  },
  {
   "cell_type": "code",
   "execution_count": null,
   "metadata": {},
   "outputs": [],
   "source": []
  }
 ],
 "metadata": {
  "kernelspec": {
   "display_name": "dlk2",
   "language": "python",
   "name": "python3"
  },
  "language_info": {
   "codemirror_mode": {
    "name": "ipython",
    "version": 3
   },
   "file_extension": ".py",
   "mimetype": "text/x-python",
   "name": "python",
   "nbconvert_exporter": "python",
   "pygments_lexer": "ipython3",
   "version": "3.9.16"
  },
  "orig_nbformat": 4
 },
 "nbformat": 4,
 "nbformat_minor": 2
}
