{
 "cells": [
  {
   "attachments": {},
   "cell_type": "markdown",
   "metadata": {},
   "source": [
    "# distance and direciton\n",
    "\n",
    "Let try to opt for distance and direction with\n",
    "\n",
    "$L1loss(y_1-y_0, y_{true})$\n",
    "\n",
    "where $y_1=model(x_1)$\n",
    "\n",
    "So I'm optimising for the hidden states to be the correct distance and direcioton away. It's like the margin raning loss."
   ]
  },
  {
   "attachments": {},
   "cell_type": "markdown",
   "metadata": {},
   "source": [
    "\n",
    "links:\n",
    "- [loading](https://github.com/deep-diver/LLM-As-Chatbot/blob/main/models/alpaca.py)\n",
    "- [dict](https://github.com/deep-diver/LLM-As-Chatbot/blob/c79e855a492a968b54bac223e66dc9db448d6eba/model_cards.json#L143)\n",
    "- [prompt_format](https://github.com/deep-diver/PingPong/blob/main/src/pingpong/alpaca.py)"
   ]
  },
  {
   "cell_type": "code",
   "execution_count": 1,
   "metadata": {},
   "outputs": [],
   "source": [
    "# import your package\n",
    "%load_ext autoreload\n",
    "%autoreload 2"
   ]
  },
  {
   "cell_type": "code",
   "execution_count": 2,
   "metadata": {},
   "outputs": [
    {
     "name": "stdout",
     "output_type": "stream",
     "text": [
      "\n",
      "===================================BUG REPORT===================================\n",
      "Welcome to bitsandbytes. For bug reports, please run\n",
      "\n",
      "python -m bitsandbytes\n",
      "\n",
      " and submit this information together with your error trace to: https://github.com/TimDettmers/bitsandbytes/issues\n",
      "================================================================================\n",
      "bin /home/ubuntu/mambaforge/envs/dlk3/lib/python3.11/site-packages/bitsandbytes/libbitsandbytes_cuda117.so\n",
      "CUDA SETUP: CUDA runtime path found: /home/ubuntu/mambaforge/envs/dlk3/lib/libcudart.so.11.0\n",
      "CUDA SETUP: Highest compute capability among GPUs detected: 8.6\n",
      "CUDA SETUP: Detected CUDA version 117\n",
      "CUDA SETUP: Loading binary /home/ubuntu/mambaforge/envs/dlk3/lib/python3.11/site-packages/bitsandbytes/libbitsandbytes_cuda117.so...\n"
     ]
    },
    {
     "name": "stderr",
     "output_type": "stream",
     "text": [
      "/home/ubuntu/mambaforge/envs/dlk3/lib/python3.11/site-packages/bitsandbytes/cuda_setup/main.py:149: UserWarning: Found duplicate ['libcudart.so', 'libcudart.so.11.0', 'libcudart.so.12.0'] files: {PosixPath('/home/ubuntu/mambaforge/envs/dlk3/lib/libcudart.so.11.0'), PosixPath('/home/ubuntu/mambaforge/envs/dlk3/lib/libcudart.so')}.. We'll flip a coin and try one of these, in order to fail forward.\n",
      "Either way, this might cause trouble in the future:\n",
      "If you get `CUDA error: invalid device function` errors, the above might be the cause and the solution is to make sure only one ['libcudart.so', 'libcudart.so.11.0', 'libcudart.so.12.0'] in the paths that we search based on your env.\n",
      "  warn(msg)\n"
     ]
    },
    {
     "data": {
      "text/plain": [
       "'4.31.0'"
      ]
     },
     "execution_count": 2,
     "metadata": {},
     "output_type": "execute_result"
    }
   ],
   "source": [
    "\n",
    "import numpy as np\n",
    "import pandas as pd\n",
    "from matplotlib import pyplot as plt\n",
    "plt.style.use('ggplot')\n",
    "\n",
    "from typing import Optional, List, Dict, Union\n",
    "\n",
    "import torch\n",
    "import torch.nn as nn\n",
    "import torch.nn.functional as F\n",
    "from torch import Tensor\n",
    "from torch import optim\n",
    "from torch.utils.data import random_split, DataLoader, TensorDataset\n",
    "\n",
    "from pathlib import Path\n",
    "\n",
    "import transformers\n",
    "\n",
    "import lightning.pytorch as pl\n",
    "# from dataclasses import dataclass\n",
    "\n",
    "from sklearn.linear_model import LogisticRegression\n",
    "from sklearn.metrics import f1_score, roc_auc_score, accuracy_score\n",
    "from sklearn.preprocessing import RobustScaler\n",
    "\n",
    "from tqdm.auto import tqdm\n",
    "import os\n",
    "\n",
    "from loguru import logger\n",
    "logger.add(os.sys.stderr, format=\"{time} {level} {message}\", level=\"INFO\")\n",
    "\n",
    "\n",
    "\n",
    "transformers.__version__"
   ]
  },
  {
   "cell_type": "code",
   "execution_count": 3,
   "metadata": {},
   "outputs": [],
   "source": [
    "from src.helpers.lightning import read_metrics_csv"
   ]
  },
  {
   "cell_type": "markdown",
   "metadata": {},
   "source": [
    "# Datasets\n",
    "\n"
   ]
  },
  {
   "cell_type": "code",
   "execution_count": 4,
   "metadata": {},
   "outputs": [],
   "source": [
    "from datasets import load_from_disk, concatenate_datasets\n",
    "from src.datasets.load import ds2df\n",
    "\n",
    "feats = ['hidden_states', 'head_activation_and_grad', 'mlp_activation_and_grad', 'residual_stream', 'w_grads_attn', 'w_grads_mlp', 'hidden_states2', 'residual_stream2', ]\n",
    "\n",
    "fs = [\n",
    "    # '../.ds/WizardLMWizardCoder_3B_V1.0_imdb_train_6000',\n",
    "    # '../.ds/WizardLMWizardCoder_3B_V1.0_amazon_polarity_train_3000'\n",
    "    # '../.ds/WizardLMWizardCoder_3B_V1.0_imdb_train_300',\n",
    "    \n",
    "    # 2023-09-16 13:46:11\n",
    "    # '../.ds/WizardLMWizardCoder_3B_V1.0_imdb_train_250',\n",
    "    # '../.ds/WizardLMWizardCoder_3B_V1.0_amazon_polarity_train_300',\n",
    "    # '../.ds/WizardLMWizardCoder_3B_V1.0_super_glue:boolq_train_250',\n",
    "    # '../.ds/WizardLMWizardCoder_3B_V1.0_tweet_eval:irony_train_250',\n",
    "    \n",
    "    '../../.ds/WizardLMWizardCoder_3B_V1.0_amazon_polarity_train_3260',\n",
    "    '../../.ds/WizardLMWizardCoder_3B_V1.0_super_glue:boolq_train_3260',\n",
    "    '../../.ds/WizardLMWizardCoder_3B_V1.0_glue:qnli_train_3260',\n",
    "    # '../../.ds/WizardLMWizardCoder_3B_V1.0_imdb_train_3260',\n",
    "    \n",
    "]\n",
    "\n",
    "dss = [load_from_disk(f) for f in fs]\n"
   ]
  },
  {
   "cell_type": "markdown",
   "metadata": {},
   "source": [
    "## QC datasets"
   ]
  },
  {
   "cell_type": "code",
   "execution_count": 5,
   "metadata": {},
   "outputs": [],
   "source": [
    "import json\n",
    "def get_ds_name(ds):\n",
    "    return json.loads(ds.info.description)['ds_name']\n",
    "    \n"
   ]
  },
  {
   "cell_type": "code",
   "execution_count": 6,
   "metadata": {},
   "outputs": [],
   "source": [
    "def filter_ds_to_known(ds1, verbose=True):\n",
    "    \"\"\"filter the dataset to only those where the model knows the answer\"\"\"\n",
    "    \n",
    "    # first get the rows where it answered the question correctly\n",
    "    df = ds2df(ds1)\n",
    "    d = df.query('sys_instr_name==\"truth\"').set_index(\"example_i\")\n",
    "    m1 = d.llm_ans==d.label_true\n",
    "    known_indices = d[m1].index\n",
    "    known_rows = df['example_i'].isin(known_indices)\n",
    "    known_rows_i = df[known_rows].index\n",
    "    \n",
    "    if verbose: print(f\"select rows are {m1.mean():2.2%} based on knowledge\")\n",
    "    return ds1.select(known_rows_i)"
   ]
  },
  {
   "cell_type": "code",
   "execution_count": 7,
   "metadata": {},
   "outputs": [],
   "source": [
    "# # r['attention_mask']\n",
    "# ds = dss[0]\n",
    "# ds.features\n",
    "# # ds['prompt_truncated'].map(lambda s:s.startswith('<|endoftext|>'))\n",
    "# ds2 = ds.map(lambda x: {'truncated': x['prompt_truncated'].startswith('<|endoftext|>')})\n",
    "# ds2['truncated']"
   ]
  },
  {
   "cell_type": "code",
   "execution_count": 8,
   "metadata": {},
   "outputs": [],
   "source": [
    "# # r['attention_mask']\n",
    "# ds = dss[0]\n",
    "# ds.features\n",
    "# # ds['prompt_truncated'].map(lambda s:s.startswith('<|endoftext|>'))\n",
    "# ds2 = ds.map(lambda x: {'truncated': x['attention_mask'].sum(-1)}, batched=True)\n",
    "# ds2\n",
    "# ds\n"
   ]
  },
  {
   "cell_type": "code",
   "execution_count": null,
   "metadata": {},
   "outputs": [],
   "source": []
  },
  {
   "cell_type": "code",
   "execution_count": 9,
   "metadata": {},
   "outputs": [
    {
     "name": "stdout",
     "output_type": "stream",
     "text": [
      "ds amazon_polarity\n",
      "\tacc    =\t49.91% [N=1677] - when the model is not lying... we get this task acc\n",
      "\tlie_acc=\t47.88% [N=1583] - when the model tries to lie... we get this acc\n",
      "\tknown_lie_acc=\t46.56% [N=786] - when the model tries to lie and knows the answer... we get this acc\n",
      "\tchoice_cov=\t78.99% - Our choices accounted for a mean probability of this\n",
      "ds super_glue:boolq\n",
      "\tacc    =\t52.72% [N=1781] - when the model is not lying... we get this task acc\n",
      "\tlie_acc=\t54.02% [N=1479] - when the model tries to lie... we get this acc\n",
      "\tknown_lie_acc=\t54.81% [N=759] - when the model tries to lie and knows the answer... we get this acc\n",
      "\tchoice_cov=\t56.94% - Our choices accounted for a mean probability of this\n",
      "ds glue:qnli\n",
      "\tacc    =\t47.79% [N=1630] - when the model is not lying... we get this task acc\n",
      "\tlie_acc=\t48.10% [N=1630] - when the model tries to lie... we get this acc\n",
      "\tknown_lie_acc=\t64.06% [N=779] - when the model tries to lie and knows the answer... we get this acc\n",
      "\tchoice_cov=\t73.15% - Our choices accounted for a mean probability of this\n"
     ]
    }
   ],
   "source": [
    "for ds in dss:\n",
    "    ds_name = get_ds_name(ds)\n",
    "    print('ds', ds_name)\n",
    "    df = ds2df(ds)\n",
    "    \n",
    "    # check llm accuracy\n",
    "    d = df.query('instructed_to_lie==False')\n",
    "    acc = (d.label_instructed==d.llm_ans).mean()\n",
    "    assert np.isfinite(acc)\n",
    "    print(f\"\\tacc    =\\t{acc:2.2%} [N={len(d)}] - when the model is not lying... we get this task acc\")\n",
    "    \n",
    "    # check LLM lie freq\n",
    "    d = df.query('instructed_to_lie==True')\n",
    "    acc = (d.label_instructed==d.llm_ans).mean()\n",
    "    assert np.isfinite(acc)\n",
    "    print(f\"\\tlie_acc=\\t{acc:2.2%} [N={len(d)}] - when the model tries to lie... we get this acc\")\n",
    "    \n",
    "    # check LLM lie freq\n",
    "    ds_known = filter_ds_to_known(ds, verbose=False)\n",
    "    df_known = ds2df(ds_known)\n",
    "    d = df_known.query('instructed_to_lie==True')\n",
    "    acc = (d.label_instructed==d.llm_ans).mean()\n",
    "    assert np.isfinite(acc)\n",
    "    print(f\"\\tknown_lie_acc=\\t{acc:2.2%} [N={len(d)}] - when the model tries to lie and knows the answer... we get this acc\")\n",
    "    \n",
    "    # check choice coverage\n",
    "    mean_prob = ds['choice_probs0'].sum(-1).mean()\n",
    "    print(f\"\\tchoice_cov=\\t{mean_prob:2.2%} - Our choices accounted for a mean probability of this\")\n",
    "    \n",
    "    # check truncation\n",
    "    \n",
    "    # # X mean and std, dtype, shape\n",
    "    # for f in feats:\n",
    "    #     if f not in ds.column_names:\n",
    "    #         continue\n",
    "    #     X = ds[f]\n",
    "    #     if X.ndim>3:\n",
    "    #         for i in range(X.shape[3]):\n",
    "    #             X2 = X[:,:,:,i]\n",
    "    #             print(f\"\\t{f}\\tf={i} m={X2.mean():2.2f} s={X2.std():2.2g} {X2.dtype} {X2.shape}\")\n",
    "    #     else:\n",
    "    #         print(f\"\\t{f}\\tm={X.mean():2.2f} s={X.std():2.2g} {X.dtype} {X.shape}\")\n",
    "    \n",
    "    \n",
    "    # # view prompt example\n",
    "    # r = ds[0]\n",
    "    # print('prompt example:')\n",
    "    # print(r['prompt_truncated'], end=\"\")\n",
    "    # print(r['txt_ans0'])\n",
    "    \n",
    "    # print('='*80)\n",
    "    # print()\n",
    "        "
   ]
  },
  {
   "cell_type": "markdown",
   "metadata": {},
   "source": [
    "# Combine"
   ]
  },
  {
   "cell_type": "code",
   "execution_count": 10,
   "metadata": {},
   "outputs": [
    {
     "name": "stdout",
     "output_type": "stream",
     "text": [
      "select rows are 49.91% based on knowledge\n",
      "select rows are 52.72% based on knowledge\n",
      "select rows are 47.79% based on knowledge\n"
     ]
    },
    {
     "data": {
      "text/plain": [
       "Dataset({\n",
       "    features: ['scores0', 'ds_index', 'hidden_states', 'residual_stream', 'hidden_states2', 'residual_stream2', 'ds_string', 'example_i', 'answer', 'question', 'answer_choices', 'template_name', 'label_true', 'label_instructed', 'instructed_to_lie', 'sys_instr_name', 'truncated', 'prompt_truncated', 'choice_probs0', 'ans0', 'txt_ans0'],\n",
       "    num_rows: 4879\n",
       "})"
      ]
     },
     "execution_count": 10,
     "metadata": {},
     "output_type": "execute_result"
    }
   ],
   "source": [
    "dss_known = [filter_ds_to_known(d) for d in dss]\n",
    "# './.ds/HuggingFaceH4starchat_beta-None-N_8000-ns_3-mc_0.2-2ffc1e'\n",
    "ds = concatenate_datasets(dss_known)\n",
    "ds"
   ]
  },
  {
   "cell_type": "markdown",
   "metadata": {},
   "source": [
    "## Filter"
   ]
  },
  {
   "cell_type": "code",
   "execution_count": 11,
   "metadata": {},
   "outputs": [
    {
     "data": {
      "text/html": [
       "<div>\n",
       "<style scoped>\n",
       "    .dataframe tbody tr th:only-of-type {\n",
       "        vertical-align: middle;\n",
       "    }\n",
       "\n",
       "    .dataframe tbody tr th {\n",
       "        vertical-align: top;\n",
       "    }\n",
       "\n",
       "    .dataframe thead th {\n",
       "        text-align: right;\n",
       "    }\n",
       "</style>\n",
       "<table border=\"1\" class=\"dataframe\">\n",
       "  <thead>\n",
       "    <tr style=\"text-align: right;\">\n",
       "      <th></th>\n",
       "      <th>ds_index</th>\n",
       "      <th>ds_string</th>\n",
       "      <th>example_i</th>\n",
       "      <th>answer</th>\n",
       "      <th>question</th>\n",
       "      <th>answer_choices</th>\n",
       "      <th>template_name</th>\n",
       "      <th>label_true</th>\n",
       "      <th>label_instructed</th>\n",
       "      <th>instructed_to_lie</th>\n",
       "      <th>sys_instr_name</th>\n",
       "      <th>truncated</th>\n",
       "      <th>prompt_truncated</th>\n",
       "      <th>choice_probs0</th>\n",
       "      <th>ans0</th>\n",
       "      <th>txt_ans0</th>\n",
       "      <th>dir_true</th>\n",
       "      <th>llm_ans</th>\n",
       "    </tr>\n",
       "  </thead>\n",
       "  <tbody>\n",
       "    <tr>\n",
       "      <th>0</th>\n",
       "      <td>12</td>\n",
       "      <td>amazon_polarity</td>\n",
       "      <td>6</td>\n",
       "      <td>increase</td>\n",
       "      <td>You are about to immerse yourself into a logic...</td>\n",
       "      <td>[decrease, increase]</td>\n",
       "      <td>would_you_buy</td>\n",
       "      <td>0</td>\n",
       "      <td>1</td>\n",
       "      <td>True</td>\n",
       "      <td>guard</td>\n",
       "      <td>False</td>\n",
       "      <td>&lt;|endoftext|&gt;&lt;|endoftext|&gt;&lt;|endoftext|&gt;&lt;|endof...</td>\n",
       "      <td>[0.54939187, 0.38353732]</td>\n",
       "      <td>0.411106</td>\n",
       "      <td>decrease</td>\n",
       "      <td>0.411106</td>\n",
       "      <td>False</td>\n",
       "    </tr>\n",
       "    <tr>\n",
       "      <th>1</th>\n",
       "      <td>13</td>\n",
       "      <td>amazon_polarity</td>\n",
       "      <td>6</td>\n",
       "      <td>Yes</td>\n",
       "      <td>Below is an instruction that describes a task,...</td>\n",
       "      <td>[Yes, No]</td>\n",
       "      <td>Is_this_review_negative</td>\n",
       "      <td>0</td>\n",
       "      <td>0</td>\n",
       "      <td>False</td>\n",
       "      <td>truth</td>\n",
       "      <td>False</td>\n",
       "      <td>&lt;|endoftext|&gt;&lt;|endoftext|&gt;&lt;|endoftext|&gt;&lt;|endof...</td>\n",
       "      <td>[0.76138747, 0.16725463]</td>\n",
       "      <td>0.180105</td>\n",
       "      <td>Yes</td>\n",
       "      <td>0.180105</td>\n",
       "      <td>False</td>\n",
       "    </tr>\n",
       "    <tr>\n",
       "      <th>2</th>\n",
       "      <td>14</td>\n",
       "      <td>amazon_polarity</td>\n",
       "      <td>7</td>\n",
       "      <td>decrease</td>\n",
       "      <td>You are about to immerse yourself into a logic...</td>\n",
       "      <td>[decrease, increase]</td>\n",
       "      <td>would_you_buy</td>\n",
       "      <td>1</td>\n",
       "      <td>0</td>\n",
       "      <td>True</td>\n",
       "      <td>guard</td>\n",
       "      <td>False</td>\n",
       "      <td>&lt;|endoftext|&gt;&lt;|endoftext|&gt;&lt;|endoftext|&gt;&lt;|endof...</td>\n",
       "      <td>[0.0023154975, 0.9789686]</td>\n",
       "      <td>0.997630</td>\n",
       "      <td>increase</td>\n",
       "      <td>0.997630</td>\n",
       "      <td>True</td>\n",
       "    </tr>\n",
       "    <tr>\n",
       "      <th>3</th>\n",
       "      <td>15</td>\n",
       "      <td>amazon_polarity</td>\n",
       "      <td>7</td>\n",
       "      <td>No</td>\n",
       "      <td>Below is an instruction that describes a task,...</td>\n",
       "      <td>[Yes, No]</td>\n",
       "      <td>Is_this_review_negative</td>\n",
       "      <td>1</td>\n",
       "      <td>1</td>\n",
       "      <td>False</td>\n",
       "      <td>truth</td>\n",
       "      <td>False</td>\n",
       "      <td>&lt;|endoftext|&gt;&lt;|endoftext|&gt;&lt;|endoftext|&gt;&lt;|endof...</td>\n",
       "      <td>[0.0030933544, 0.9872083]</td>\n",
       "      <td>0.996866</td>\n",
       "      <td>No</td>\n",
       "      <td>0.996866</td>\n",
       "      <td>True</td>\n",
       "    </tr>\n",
       "    <tr>\n",
       "      <th>4</th>\n",
       "      <td>16</td>\n",
       "      <td>amazon_polarity</td>\n",
       "      <td>8</td>\n",
       "      <td>increase</td>\n",
       "      <td>You are about to immerse yourself into a logic...</td>\n",
       "      <td>[decrease, increase]</td>\n",
       "      <td>would_you_buy</td>\n",
       "      <td>0</td>\n",
       "      <td>1</td>\n",
       "      <td>True</td>\n",
       "      <td>guard</td>\n",
       "      <td>False</td>\n",
       "      <td>&lt;|endoftext|&gt;&lt;|endoftext|&gt;&lt;|endoftext|&gt;&lt;|endof...</td>\n",
       "      <td>[0.43292427, 0.52220637]</td>\n",
       "      <td>0.546732</td>\n",
       "      <td>increase</td>\n",
       "      <td>0.546732</td>\n",
       "      <td>True</td>\n",
       "    </tr>\n",
       "    <tr>\n",
       "      <th>...</th>\n",
       "      <td>...</td>\n",
       "      <td>...</td>\n",
       "      <td>...</td>\n",
       "      <td>...</td>\n",
       "      <td>...</td>\n",
       "      <td>...</td>\n",
       "      <td>...</td>\n",
       "      <td>...</td>\n",
       "      <td>...</td>\n",
       "      <td>...</td>\n",
       "      <td>...</td>\n",
       "      <td>...</td>\n",
       "      <td>...</td>\n",
       "      <td>...</td>\n",
       "      <td>...</td>\n",
       "      <td>...</td>\n",
       "      <td>...</td>\n",
       "      <td>...</td>\n",
       "    </tr>\n",
       "    <tr>\n",
       "      <th>4874</th>\n",
       "      <td>3249</td>\n",
       "      <td>glue:qnli</td>\n",
       "      <td>1624</td>\n",
       "      <td>yes</td>\n",
       "      <td>Below is an instruction that describes a task,...</td>\n",
       "      <td>[yes, no]</td>\n",
       "      <td>based only on</td>\n",
       "      <td>0</td>\n",
       "      <td>0</td>\n",
       "      <td>False</td>\n",
       "      <td>truth</td>\n",
       "      <td>False</td>\n",
       "      <td>&lt;|endoftext|&gt;&lt;|endoftext|&gt;&lt;|endoftext|&gt;&lt;|endof...</td>\n",
       "      <td>[0.2502056, 0.23140235]</td>\n",
       "      <td>0.480469</td>\n",
       "      <td>yes</td>\n",
       "      <td>0.480469</td>\n",
       "      <td>False</td>\n",
       "    </tr>\n",
       "    <tr>\n",
       "      <th>4875</th>\n",
       "      <td>3254</td>\n",
       "      <td>glue:qnli</td>\n",
       "      <td>1627</td>\n",
       "      <td>yes</td>\n",
       "      <td>You are an AI assistant that always tells a li...</td>\n",
       "      <td>[yes, no]</td>\n",
       "      <td>possible to answer</td>\n",
       "      <td>1</td>\n",
       "      <td>0</td>\n",
       "      <td>True</td>\n",
       "      <td>lie_for_charity</td>\n",
       "      <td>False</td>\n",
       "      <td>&lt;|endoftext|&gt;&lt;|endoftext|&gt;&lt;|endoftext|&gt;&lt;|endof...</td>\n",
       "      <td>[0.42202544, 0.336468]</td>\n",
       "      <td>0.443595</td>\n",
       "      <td>yes</td>\n",
       "      <td>0.443595</td>\n",
       "      <td>False</td>\n",
       "    </tr>\n",
       "    <tr>\n",
       "      <th>4876</th>\n",
       "      <td>3255</td>\n",
       "      <td>glue:qnli</td>\n",
       "      <td>1627</td>\n",
       "      <td>no</td>\n",
       "      <td>Below is an instruction that describes a task,...</td>\n",
       "      <td>[yes, no]</td>\n",
       "      <td>based only on</td>\n",
       "      <td>1</td>\n",
       "      <td>1</td>\n",
       "      <td>False</td>\n",
       "      <td>truth</td>\n",
       "      <td>False</td>\n",
       "      <td>&lt;|endoftext|&gt;&lt;|endoftext|&gt;&lt;|endoftext|&gt;&lt;|endof...</td>\n",
       "      <td>[0.2592905, 0.28035986]</td>\n",
       "      <td>0.519512</td>\n",
       "      <td>no</td>\n",
       "      <td>0.519512</td>\n",
       "      <td>True</td>\n",
       "    </tr>\n",
       "    <tr>\n",
       "      <th>4877</th>\n",
       "      <td>3258</td>\n",
       "      <td>glue:qnli</td>\n",
       "      <td>1629</td>\n",
       "      <td>yes</td>\n",
       "      <td>You are an AI assistant that always tells a li...</td>\n",
       "      <td>[yes, no]</td>\n",
       "      <td>possible to answer</td>\n",
       "      <td>1</td>\n",
       "      <td>0</td>\n",
       "      <td>True</td>\n",
       "      <td>lie_for_charity</td>\n",
       "      <td>False</td>\n",
       "      <td>&lt;|endoftext|&gt;&lt;|endoftext|&gt;&lt;|endoftext|&gt;&lt;|endof...</td>\n",
       "      <td>[0.38550064, 0.3402031]</td>\n",
       "      <td>0.468784</td>\n",
       "      <td>yes</td>\n",
       "      <td>0.468784</td>\n",
       "      <td>False</td>\n",
       "    </tr>\n",
       "    <tr>\n",
       "      <th>4878</th>\n",
       "      <td>3259</td>\n",
       "      <td>glue:qnli</td>\n",
       "      <td>1629</td>\n",
       "      <td>no</td>\n",
       "      <td>Below is an instruction that describes a task,...</td>\n",
       "      <td>[yes, no]</td>\n",
       "      <td>based only on</td>\n",
       "      <td>1</td>\n",
       "      <td>1</td>\n",
       "      <td>False</td>\n",
       "      <td>truth</td>\n",
       "      <td>False</td>\n",
       "      <td>&lt;|endoftext|&gt;&lt;|endoftext|&gt;&lt;|endoftext|&gt;&lt;|endof...</td>\n",
       "      <td>[0.22750677, 0.2498673]</td>\n",
       "      <td>0.523409</td>\n",
       "      <td>no</td>\n",
       "      <td>0.523409</td>\n",
       "      <td>True</td>\n",
       "    </tr>\n",
       "  </tbody>\n",
       "</table>\n",
       "<p>4879 rows × 18 columns</p>\n",
       "</div>"
      ],
      "text/plain": [
       "      ds_index        ds_string  example_i    answer  \\\n",
       "0           12  amazon_polarity          6  increase   \n",
       "1           13  amazon_polarity          6       Yes   \n",
       "2           14  amazon_polarity          7  decrease   \n",
       "3           15  amazon_polarity          7        No   \n",
       "4           16  amazon_polarity          8  increase   \n",
       "...        ...              ...        ...       ...   \n",
       "4874      3249        glue:qnli       1624       yes   \n",
       "4875      3254        glue:qnli       1627       yes   \n",
       "4876      3255        glue:qnli       1627        no   \n",
       "4877      3258        glue:qnli       1629       yes   \n",
       "4878      3259        glue:qnli       1629        no   \n",
       "\n",
       "                                               question        answer_choices  \\\n",
       "0     You are about to immerse yourself into a logic...  [decrease, increase]   \n",
       "1     Below is an instruction that describes a task,...             [Yes, No]   \n",
       "2     You are about to immerse yourself into a logic...  [decrease, increase]   \n",
       "3     Below is an instruction that describes a task,...             [Yes, No]   \n",
       "4     You are about to immerse yourself into a logic...  [decrease, increase]   \n",
       "...                                                 ...                   ...   \n",
       "4874  Below is an instruction that describes a task,...             [yes, no]   \n",
       "4875  You are an AI assistant that always tells a li...             [yes, no]   \n",
       "4876  Below is an instruction that describes a task,...             [yes, no]   \n",
       "4877  You are an AI assistant that always tells a li...             [yes, no]   \n",
       "4878  Below is an instruction that describes a task,...             [yes, no]   \n",
       "\n",
       "                template_name  label_true  label_instructed  \\\n",
       "0               would_you_buy           0                 1   \n",
       "1     Is_this_review_negative           0                 0   \n",
       "2               would_you_buy           1                 0   \n",
       "3     Is_this_review_negative           1                 1   \n",
       "4               would_you_buy           0                 1   \n",
       "...                       ...         ...               ...   \n",
       "4874            based only on           0                 0   \n",
       "4875       possible to answer           1                 0   \n",
       "4876            based only on           1                 1   \n",
       "4877       possible to answer           1                 0   \n",
       "4878            based only on           1                 1   \n",
       "\n",
       "      instructed_to_lie   sys_instr_name  truncated  \\\n",
       "0                  True            guard      False   \n",
       "1                 False            truth      False   \n",
       "2                  True            guard      False   \n",
       "3                 False            truth      False   \n",
       "4                  True            guard      False   \n",
       "...                 ...              ...        ...   \n",
       "4874              False            truth      False   \n",
       "4875               True  lie_for_charity      False   \n",
       "4876              False            truth      False   \n",
       "4877               True  lie_for_charity      False   \n",
       "4878              False            truth      False   \n",
       "\n",
       "                                       prompt_truncated  \\\n",
       "0     <|endoftext|><|endoftext|><|endoftext|><|endof...   \n",
       "1     <|endoftext|><|endoftext|><|endoftext|><|endof...   \n",
       "2     <|endoftext|><|endoftext|><|endoftext|><|endof...   \n",
       "3     <|endoftext|><|endoftext|><|endoftext|><|endof...   \n",
       "4     <|endoftext|><|endoftext|><|endoftext|><|endof...   \n",
       "...                                                 ...   \n",
       "4874  <|endoftext|><|endoftext|><|endoftext|><|endof...   \n",
       "4875  <|endoftext|><|endoftext|><|endoftext|><|endof...   \n",
       "4876  <|endoftext|><|endoftext|><|endoftext|><|endof...   \n",
       "4877  <|endoftext|><|endoftext|><|endoftext|><|endof...   \n",
       "4878  <|endoftext|><|endoftext|><|endoftext|><|endof...   \n",
       "\n",
       "                  choice_probs0      ans0  txt_ans0  dir_true  llm_ans  \n",
       "0      [0.54939187, 0.38353732]  0.411106  decrease  0.411106    False  \n",
       "1      [0.76138747, 0.16725463]  0.180105       Yes  0.180105    False  \n",
       "2     [0.0023154975, 0.9789686]  0.997630  increase  0.997630     True  \n",
       "3     [0.0030933544, 0.9872083]  0.996866        No  0.996866     True  \n",
       "4      [0.43292427, 0.52220637]  0.546732  increase  0.546732     True  \n",
       "...                         ...       ...       ...       ...      ...  \n",
       "4874    [0.2502056, 0.23140235]  0.480469       yes  0.480469    False  \n",
       "4875     [0.42202544, 0.336468]  0.443595       yes  0.443595    False  \n",
       "4876    [0.2592905, 0.28035986]  0.519512        no  0.519512     True  \n",
       "4877    [0.38550064, 0.3402031]  0.468784       yes  0.468784    False  \n",
       "4878    [0.22750677, 0.2498673]  0.523409        no  0.523409     True  \n",
       "\n",
       "[4879 rows x 18 columns]"
      ]
     },
     "execution_count": 11,
     "metadata": {},
     "output_type": "execute_result"
    }
   ],
   "source": [
    "# lets select only the ones where\n",
    "df = ds2df(ds)\n",
    "df"
   ]
  },
  {
   "cell_type": "code",
   "execution_count": 12,
   "metadata": {},
   "outputs": [
    {
     "name": "stdout",
     "output_type": "stream",
     "text": [
      "filtered to 1281 num successful lies out of 4879 dataset rows\n"
     ]
    }
   ],
   "source": [
    "# QC: make sure we didn't lose all of the successful lies, which would make the problem trivial\n",
    "df2= ds2df(ds)\n",
    "df_subset_successull_lies = df2.query(\"instructed_to_lie==True & (llm_ans==label_instructed)\")\n",
    "print(f\"filtered to {len(df_subset_successull_lies)} num successful lies out of {len(df2)} dataset rows\")\n",
    "assert len(df_subset_successull_lies)>0, \"there should be successful lies in the dataset\""
   ]
  },
  {
   "cell_type": "markdown",
   "metadata": {},
   "source": [
    "## Transform: Normalize by activation"
   ]
  },
  {
   "cell_type": "code",
   "execution_count": 13,
   "metadata": {},
   "outputs": [],
   "source": [
    "# N = 1000\n",
    "# small_ds = ds.select(range(N))\n",
    "# b = N\n",
    "# hs0 = small_ds['hs0'].reshape((b, -1))\n",
    "\n",
    "# scaler = RobustScaler()\n",
    "# hs1 = scaler.fit_transform(hs0)\n",
    "\n",
    "# def normalize_hs(hs0, hs1):\n",
    "#     shape=hs0.shape\n",
    "#     b = len(hs0)\n",
    "#     hs0 = scaler.transform(hs0.reshape((b, -1))).reshape(shape)\n",
    "#     hs1 = scaler.transform(hs1.reshape((b, -1))).reshape(shape)\n",
    "#     return {'hs0':hs0, 'hs1': hs1}\n",
    "\n",
    "# # Plot\n",
    "# plt.hist(hs0.flatten(), bins=155, range=[-5, 5], label='before', histtype='step')\n",
    "# plt.hist(hs1.flatten(), bins=155, range=[-5, 5], label='after', histtype='step')\n",
    "# plt.legend()\n",
    "# plt.show()\n",
    "\n",
    "# # # Test\n",
    "# # small_dataset = ds.select(range(4))\n",
    "# # small_dataset.map(normalize_hs, batched=True, batch_size=2, input_columns=['hs0', 'hs1'])\n",
    "\n",
    "# # run\n",
    "# ds = ds.map(normalize_hs, batched=True, input_columns=['hs0', 'hs1'])\n",
    "# ds"
   ]
  },
  {
   "attachments": {},
   "cell_type": "markdown",
   "metadata": {},
   "source": [
    "## Lightning DataModule"
   ]
  },
  {
   "cell_type": "code",
   "execution_count": 14,
   "metadata": {},
   "outputs": [
    {
     "data": {
      "text/html": [
       "<div>\n",
       "<style scoped>\n",
       "    .dataframe tbody tr th:only-of-type {\n",
       "        vertical-align: middle;\n",
       "    }\n",
       "\n",
       "    .dataframe tbody tr th {\n",
       "        vertical-align: top;\n",
       "    }\n",
       "\n",
       "    .dataframe thead th {\n",
       "        text-align: right;\n",
       "    }\n",
       "</style>\n",
       "<table border=\"1\" class=\"dataframe\">\n",
       "  <thead>\n",
       "    <tr style=\"text-align: right;\">\n",
       "      <th></th>\n",
       "      <th>ds_index</th>\n",
       "      <th>ds_string</th>\n",
       "      <th>example_i</th>\n",
       "      <th>answer</th>\n",
       "      <th>question</th>\n",
       "      <th>answer_choices</th>\n",
       "      <th>template_name</th>\n",
       "      <th>label_true</th>\n",
       "      <th>label_instructed</th>\n",
       "      <th>instructed_to_lie</th>\n",
       "      <th>sys_instr_name</th>\n",
       "      <th>truncated</th>\n",
       "      <th>prompt_truncated</th>\n",
       "      <th>choice_probs0</th>\n",
       "      <th>ans0</th>\n",
       "      <th>txt_ans0</th>\n",
       "      <th>dir_true</th>\n",
       "      <th>llm_ans</th>\n",
       "    </tr>\n",
       "  </thead>\n",
       "  <tbody>\n",
       "    <tr>\n",
       "      <th>0</th>\n",
       "      <td>12</td>\n",
       "      <td>amazon_polarity</td>\n",
       "      <td>6</td>\n",
       "      <td>increase</td>\n",
       "      <td>You are about to immerse yourself into a logic...</td>\n",
       "      <td>[decrease, increase]</td>\n",
       "      <td>would_you_buy</td>\n",
       "      <td>0</td>\n",
       "      <td>1</td>\n",
       "      <td>True</td>\n",
       "      <td>guard</td>\n",
       "      <td>False</td>\n",
       "      <td>&lt;|endoftext|&gt;&lt;|endoftext|&gt;&lt;|endoftext|&gt;&lt;|endof...</td>\n",
       "      <td>[0.54939187, 0.38353732]</td>\n",
       "      <td>0.411106</td>\n",
       "      <td>decrease</td>\n",
       "      <td>0.411106</td>\n",
       "      <td>False</td>\n",
       "    </tr>\n",
       "    <tr>\n",
       "      <th>1</th>\n",
       "      <td>13</td>\n",
       "      <td>amazon_polarity</td>\n",
       "      <td>6</td>\n",
       "      <td>Yes</td>\n",
       "      <td>Below is an instruction that describes a task,...</td>\n",
       "      <td>[Yes, No]</td>\n",
       "      <td>Is_this_review_negative</td>\n",
       "      <td>0</td>\n",
       "      <td>0</td>\n",
       "      <td>False</td>\n",
       "      <td>truth</td>\n",
       "      <td>False</td>\n",
       "      <td>&lt;|endoftext|&gt;&lt;|endoftext|&gt;&lt;|endoftext|&gt;&lt;|endof...</td>\n",
       "      <td>[0.76138747, 0.16725463]</td>\n",
       "      <td>0.180105</td>\n",
       "      <td>Yes</td>\n",
       "      <td>0.180105</td>\n",
       "      <td>False</td>\n",
       "    </tr>\n",
       "    <tr>\n",
       "      <th>2</th>\n",
       "      <td>14</td>\n",
       "      <td>amazon_polarity</td>\n",
       "      <td>7</td>\n",
       "      <td>decrease</td>\n",
       "      <td>You are about to immerse yourself into a logic...</td>\n",
       "      <td>[decrease, increase]</td>\n",
       "      <td>would_you_buy</td>\n",
       "      <td>1</td>\n",
       "      <td>0</td>\n",
       "      <td>True</td>\n",
       "      <td>guard</td>\n",
       "      <td>False</td>\n",
       "      <td>&lt;|endoftext|&gt;&lt;|endoftext|&gt;&lt;|endoftext|&gt;&lt;|endof...</td>\n",
       "      <td>[0.0023154975, 0.9789686]</td>\n",
       "      <td>0.997630</td>\n",
       "      <td>increase</td>\n",
       "      <td>0.997630</td>\n",
       "      <td>True</td>\n",
       "    </tr>\n",
       "    <tr>\n",
       "      <th>3</th>\n",
       "      <td>15</td>\n",
       "      <td>amazon_polarity</td>\n",
       "      <td>7</td>\n",
       "      <td>No</td>\n",
       "      <td>Below is an instruction that describes a task,...</td>\n",
       "      <td>[Yes, No]</td>\n",
       "      <td>Is_this_review_negative</td>\n",
       "      <td>1</td>\n",
       "      <td>1</td>\n",
       "      <td>False</td>\n",
       "      <td>truth</td>\n",
       "      <td>False</td>\n",
       "      <td>&lt;|endoftext|&gt;&lt;|endoftext|&gt;&lt;|endoftext|&gt;&lt;|endof...</td>\n",
       "      <td>[0.0030933544, 0.9872083]</td>\n",
       "      <td>0.996866</td>\n",
       "      <td>No</td>\n",
       "      <td>0.996866</td>\n",
       "      <td>True</td>\n",
       "    </tr>\n",
       "  </tbody>\n",
       "</table>\n",
       "</div>"
      ],
      "text/plain": [
       "   ds_index        ds_string  example_i    answer  \\\n",
       "0        12  amazon_polarity          6  increase   \n",
       "1        13  amazon_polarity          6       Yes   \n",
       "2        14  amazon_polarity          7  decrease   \n",
       "3        15  amazon_polarity          7        No   \n",
       "\n",
       "                                            question        answer_choices  \\\n",
       "0  You are about to immerse yourself into a logic...  [decrease, increase]   \n",
       "1  Below is an instruction that describes a task,...             [Yes, No]   \n",
       "2  You are about to immerse yourself into a logic...  [decrease, increase]   \n",
       "3  Below is an instruction that describes a task,...             [Yes, No]   \n",
       "\n",
       "             template_name  label_true  label_instructed  instructed_to_lie  \\\n",
       "0            would_you_buy           0                 1               True   \n",
       "1  Is_this_review_negative           0                 0              False   \n",
       "2            would_you_buy           1                 0               True   \n",
       "3  Is_this_review_negative           1                 1              False   \n",
       "\n",
       "  sys_instr_name  truncated  \\\n",
       "0          guard      False   \n",
       "1          truth      False   \n",
       "2          guard      False   \n",
       "3          truth      False   \n",
       "\n",
       "                                    prompt_truncated  \\\n",
       "0  <|endoftext|><|endoftext|><|endoftext|><|endof...   \n",
       "1  <|endoftext|><|endoftext|><|endoftext|><|endof...   \n",
       "2  <|endoftext|><|endoftext|><|endoftext|><|endof...   \n",
       "3  <|endoftext|><|endoftext|><|endoftext|><|endof...   \n",
       "\n",
       "               choice_probs0      ans0  txt_ans0  dir_true  llm_ans  \n",
       "0   [0.54939187, 0.38353732]  0.411106  decrease  0.411106    False  \n",
       "1   [0.76138747, 0.16725463]  0.180105       Yes  0.180105    False  \n",
       "2  [0.0023154975, 0.9789686]  0.997630  increase  0.997630     True  \n",
       "3  [0.0030933544, 0.9872083]  0.996866        No  0.996866     True  "
      ]
     },
     "execution_count": 14,
     "metadata": {},
     "output_type": "execute_result"
    }
   ],
   "source": [
    "df = ds2df(ds)\n",
    "df.head(4)"
   ]
  },
  {
   "cell_type": "code",
   "execution_count": 15,
   "metadata": {},
   "outputs": [],
   "source": [
    "from src.helpers import switch2bool, bool2switch\n",
    "from src.datasets.dm import imdbHSDataModule\n",
    "from einops import reduce, einsum, rearrange\n",
    "\n",
    "\n",
    "def dice_loss(input, target):\n",
    "    smooth = 1.\n",
    "\n",
    "    iflat = input.view(-1)\n",
    "    tflat = target.view(-1)\n",
    "    intersection = (iflat * tflat).sum()\n",
    "    \n",
    "    return 1 - ((2. * intersection + smooth) /\n",
    "              (iflat.sum() + tflat.sum() + smooth))"
   ]
  },
  {
   "cell_type": "code",
   "execution_count": 16,
   "metadata": {},
   "outputs": [],
   "source": [
    "# from src.probes.pl_ranking import PLRanking\n",
    "# from torchmetrics.functional import accuracy, auroc, f1_score, jaccard_index, dice\n",
    "\n",
    "\n",
    "# class PLConvProbe(PLRanking):\n",
    "#     def __init__(self, c_in, total_steps, x_feats = [0], lr=4e-3, weight_decay=1e-9, **kwargs):\n",
    "#         super().__init__(total_steps=total_steps, lr=lr, weight_decay=weight_decay)\n",
    "#         self.probe = nn.Linear(c_in, 1).to(device)\n",
    "#         self.save_hyperparameters()\n",
    "        \n",
    "        \n",
    "#     def _step(self, batch, batch_idx, stage='train'):\n",
    "#         h = self.hparams\n",
    "#         x0, y = batch\n",
    "#         if x0.ndim == 3:\n",
    "#             x0 = x0.unsqueeze(-1)\n",
    "#         x0 = rearrange(x0, 'b l h x -> b (l h x)')\n",
    "#         x0 = x0.to(device)\n",
    "#         y_pred_logit = self(x0)\n",
    "#         y_pred = F.sigmoid(y_pred_logit)\n",
    "        \n",
    "#         if stage=='pred':\n",
    "#             return y_pred.float()\n",
    "        \n",
    "#         loss = dice_loss(y_pred, y)\n",
    "        \n",
    "#         y_cls = y_pred>0.5 # switch2bool(ypred1-ypred0)\n",
    "#         self.log(f\"{stage}/acc\", accuracy(y_cls, y>0.5, \"binary\"), on_epoch=True, on_step=False)\n",
    "#         # self.log(f\"{stage}/f1\", f1_score(y_pred, y>0.5, \"binary\"), on_epoch=True, on_step=False) # converts to labels... but maybe represents the imbalance?\n",
    "#         self.log(f\"{stage}/auroc\", auroc(y_pred, y>0.5, \"binary\"), on_epoch=True, on_step=False)\n",
    "#         self.log(f\"{stage}/dice\", dice(y_pred, y>0.5), on_epoch=True, on_step=False)\n",
    "#         # self.log(f\"{stage}/jaccard\", jaccard_index(y_pred, y>0.5, \"binary\"), on_epoch=True, on_step=False) # meh converts to labels\n",
    "#         self.log(f\"{stage}/loss\", loss, on_epoch=True, on_step=False)\n",
    "#         self.log(f\"{stage}/n\", float(len(y)), on_epoch=True, on_step=False, reduce_fx=torch.sum)\n",
    "#         return loss"
   ]
  },
  {
   "cell_type": "code",
   "execution_count": 17,
   "metadata": {},
   "outputs": [],
   "source": [
    "from src.probes.pl_ranking import PLRanking\n",
    "from torchmetrics.functional import accuracy, auroc, f1_score, jaccard_index, dice\n",
    "\n",
    "\n",
    "class PLConvProbe2(PLRanking):\n",
    "    def __init__(self, c_in, total_steps, lr=4e-3, weight_decay=1e-9, **kwargs):\n",
    "        super().__init__(total_steps=total_steps, lr=lr, weight_decay=weight_decay)\n",
    "        self.save_hyperparameters()\n",
    "        \n",
    "        self.pre = nn.Sequential(\n",
    "            nn.Conv1d(c_in, c_in//8, kernel_size=2, stride=1, padding=0, bias=True),\n",
    "            nn.ReLU(),\n",
    "            )\n",
    "        self.probe = nn.Sequential(\n",
    "            nn.Linear(c_in//8, c_in//8),\n",
    "            nn.ReLU(),\n",
    "            nn.Linear(c_in//8, 1),\n",
    "        )\n",
    "        \n",
    "        \n",
    "    def _step(self, batch, batch_idx, stage='train'):\n",
    "        h = self.hparams\n",
    "        x0, y = batch\n",
    "        if x0.ndim == 3:\n",
    "            x0 = x0.unsqueeze(-1)\n",
    "        x0 = rearrange(x0, 'b l h x -> b (l h) x')\n",
    "        x0 = x0.to(device)\n",
    "        hs = self.pre(x0)\n",
    "        hs = rearrange(hs, 'b h x -> b (h x)')\n",
    "        y_pred_logit = self.probe(hs)\n",
    "        y_pred = F.sigmoid(y_pred_logit).squeeze(-1)\n",
    "        \n",
    "        if stage=='pred':\n",
    "            return y_pred.float()\n",
    "        \n",
    "        loss = dice_loss(y_pred, y)\n",
    "        \n",
    "        y_cls = y_pred>0.5 # switch2bool(ypred1-ypred0)\n",
    "        self.log(f\"{stage}/acc\", accuracy(y_cls, y>0.5, \"binary\"), on_epoch=True, on_step=False)\n",
    "        # self.log(f\"{stage}/f1\", f1_score(y_pred, y>0.5, \"binary\"), on_epoch=True, on_step=False) # converts to labels... but maybe represents the imbalance?\n",
    "        self.log(f\"{stage}/auroc\", auroc(y_pred, y>0.5, \"binary\"), on_epoch=True, on_step=False)\n",
    "        self.log(f\"{stage}/dice\", dice(y_pred, y>0.5), on_epoch=True, on_step=False)\n",
    "        # self.log(f\"{stage}/jaccard\", jaccard_index(y_pred, y>0.5, \"binary\"), on_epoch=True, on_step=False) # meh converts to labels\n",
    "        self.log(f\"{stage}/loss\", loss, on_epoch=True, on_step=False)\n",
    "        self.log(f\"{stage}/n\", float(len(y)), on_epoch=True, on_step=False, reduce_fx=torch.sum)\n",
    "        return loss"
   ]
  },
  {
   "cell_type": "code",
   "execution_count": 18,
   "metadata": {},
   "outputs": [],
   "source": [
    "# params\n",
    "batch_size = 120\n",
    "lr = 1e-3\n",
    "wd = 1\n",
    "\n",
    "max_epochs = 50\n",
    "device = 'cuda'\n",
    "\n",
    "# quiet please\n",
    "torch.set_float32_matmul_precision('medium')\n",
    "import warnings\n",
    "warnings.filterwarnings(\"ignore\", \".*does not have many workers.*\")\n",
    "warnings.filterwarnings(\"ignore\", \".*sampler has shuffling enabled, it is strongly recommended that.*\")\n",
    "warnings.filterwarnings(\"ignore\", \".*has been removed as a dependency of.*\")"
   ]
  },
  {
   "cell_type": "code",
   "execution_count": 19,
   "metadata": {},
   "outputs": [],
   "source": [
    "def get_acc_subset(df, query, verbose=True):\n",
    "    if query: df = df.query(query)\n",
    "    acc = (df['probe_pred']==df['y']).mean()\n",
    "    if verbose:\n",
    "        print(f\"acc={acc:2.2%},\\tn={len(df)},\\t[{query}] \")\n",
    "    return acc\n",
    "\n",
    "def calc_metrics(dm, trainer, net, use_val=False, verbose=True):\n",
    "    dl_test = dm.test_dataloader()\n",
    "    rt = trainer.predict(net, dataloaders=dl_test)\n",
    "    y_test_pred = np.concatenate(rt)\n",
    "    splits = dm.splits['test']\n",
    "    df_test = dm.df.iloc[splits[0]:splits[1]].copy()\n",
    "    df_test['probe_pred'] = y_test_pred>0.5\n",
    "    \n",
    "    if use_val:\n",
    "        dl_val = dm.val_dataloader()\n",
    "        rv = trainer.predict(net, dataloaders=dl_val)\n",
    "        y_val_pred = np.concatenate(rv)\n",
    "        splits = dm.splits['val']\n",
    "        df_val = dm.df.iloc[splits[0]:splits[1]].copy()\n",
    "        df_val['probe_pred'] = y_val_pred>0.5\n",
    "        \n",
    "        df_test = pd.concat([df_val, df_test])\n",
    "\n",
    "    if verbose:\n",
    "        print('probe results on subsets of the data')\n",
    "    acc = get_acc_subset(df_test, '', verbose=verbose)\n",
    "    get_acc_subset(df_test, 'instructed_to_lie==True', verbose=verbose) # it was ph told to lie\n",
    "    get_acc_subset(df_test, 'instructed_to_lie==False', verbose=verbose) # it was told not to lie\n",
    "    get_acc_subset(df_test, 'llm_ans==label_true', verbose=verbose) # the llm gave the true ans\n",
    "    get_acc_subset(df_test, 'llm_ans==label_instructed', verbose=verbose) # the llm gave the desired ans\n",
    "    acc_lie_lie = get_acc_subset(df_test, 'instructed_to_lie==True & llm_ans==label_instructed', verbose=verbose) # it was told to lie, and it did lie\n",
    "    acc_lie_truth = get_acc_subset(df_test, 'instructed_to_lie==True & llm_ans!=label_instructed', verbose=verbose)\n",
    "    \n",
    "    a = get_acc_subset(df_test, 'instructed_to_lie==False & llm_ans==label_instructed', verbose=False)\n",
    "    b = get_acc_subset(df_test, 'instructed_to_lie==False & llm_ans!=label_instructed', verbose=False)\n",
    "    c = get_acc_subset(df_test, 'instructed_to_lie==True & llm_ans==label_instructed', verbose=False)\n",
    "    d = get_acc_subset(df_test, 'instructed_to_lie==True & llm_ans!=label_instructed', verbose=False)\n",
    "    d1 = pd.DataFrame([[a, b], [c, d]], index=['instructed_to_lie==False', 'instructed_to_lie==True'], columns=['llm_ans==label_instructed', 'llm_ans!=label_instructed'])\n",
    "    d1 = pd.DataFrame([[a, b], [c, d]], index=['tell a truth', 'tell a lie'], columns=['did', 'didn\\'t'])\n",
    "    d1.index.name = 'instructed to'\n",
    "    d1.columns.name = 'llm gave'\n",
    "    print('probe accuracy for quadrants')\n",
    "    display(d1.round(2))\n",
    "    \n",
    "    if verbose:\n",
    "        print(f\"⭐PRIMARY METRIC⭐ acc={acc:2.2%} from probe\")\n",
    "        print(f\"⭐SECONDARY METRIC⭐ acc_lie_lie={acc_lie_lie:2.2%} from probe\")\n",
    "    return dict(acc=acc, acc_lie_lie=acc_lie_lie, acc_lie_truth=acc_lie_truth)"
   ]
  },
  {
   "cell_type": "code",
   "execution_count": 20,
   "metadata": {},
   "outputs": [],
   "source": [
    "import re\n",
    "def transform_dl_k(k: str) -> str:\n",
    "    p = re.match(r'test\\/(.+)\\/dataloader_idx_\\d', k)\n",
    "    return p.group(1) if p else k\n",
    "\n",
    "def rename(rs):\n",
    "    ks = ['train', 'val', 'test']\n",
    "    rs = {ks[i]: {transform_dl_k(k):v for k,v in rs[i].items()} for i in range(3)}\n",
    "    return rs"
   ]
  },
  {
   "cell_type": "code",
   "execution_count": 21,
   "metadata": {},
   "outputs": [],
   "source": [
    "from src.datasets.dm import to_ds, to_tensor\n",
    "\n",
    "x_cols = ['hidden_states', 'residual_stream', 'hidden_states2', 'residual_stream2',]\n",
    " \n",
    "class imdbHSDataModule2(imdbHSDataModule):\n",
    "\n",
    "\n",
    "    def setup(self, stage: str):\n",
    "        h = self.hparams\n",
    "        \n",
    "        # extract data set into N-Dim tensors and 1-d dataframe\n",
    "        self.ds_hs = (\n",
    "            self.ds.select_columns(x_cols)\n",
    "            .with_format(\"numpy\")\n",
    "        )\n",
    "        df = self.df = ds2df(self.ds)\n",
    "        \n",
    "        y_cls = y = df['label_true'] == df['llm_ans']\n",
    "        \n",
    "        self.y = y_cls.values\n",
    "        self.df['y'] = y_cls\n",
    "        \n",
    "        b = len(self.ds_hs)\n",
    "        self.hs0 = self.ds_hs['residual_stream']\n",
    "        # d = self.ds_hs['residual_stream2']\n",
    "        # self.hs0 = np.stack([c, d], axis=-1)\n",
    "        # rearrange(self.hs0, 'b l hs  -> b hs s')\n",
    "        #.transpose(0, 2, 1)\n",
    "        # self.hs1 = self.ds_hs['hs1'].transpose(0, 2, 1)\n",
    "        self.ans0 = self.df['ans0'].values\n",
    "        # self.ans1 = self.df['ans1'].values\n",
    "\n",
    "        # let's create a simple 50/50 train split (the data is already randomized)\n",
    "        n = len(self.y)\n",
    "        self.splits = {\n",
    "            'train': (0, int(n * 0.5)),\n",
    "            'val': (int(n * 0.5), int(n * 0.75)),\n",
    "            'test': (int(n * 0.75), n),\n",
    "        }\n",
    "        \n",
    "        self.datasets = {key: to_ds(self.hs0[start:end], self.y[start:end]) for key, (start, end) in self.splits.items()}\n"
   ]
  },
  {
   "cell_type": "code",
   "execution_count": 23,
   "metadata": {},
   "outputs": [
    {
     "data": {
      "text/plain": [
       "Dataset({\n",
       "    features: ['scores0', 'ds_index', 'hidden_states', 'residual_stream', 'hidden_states2', 'residual_stream2', 'ds_string', 'example_i', 'answer', 'question', 'answer_choices', 'template_name', 'label_true', 'label_instructed', 'instructed_to_lie', 'sys_instr_name', 'truncated', 'prompt_truncated', 'choice_probs0', 'ans0', 'txt_ans0'],\n",
       "    num_rows: 4000\n",
       "})"
      ]
     },
     "execution_count": 23,
     "metadata": {},
     "output_type": "execute_result"
    }
   ],
   "source": [
    "max_rows = 4000\n",
    "ds2 = ds.shuffle(42).select(range(max_rows))\n",
    "ds2"
   ]
  },
  {
   "cell_type": "code",
   "execution_count": 24,
   "metadata": {},
   "outputs": [],
   "source": [
    "# max_rows = 1000\n",
    "# ds2 = ds.select(range(max_rows))\n",
    "# TEMP try with the counterfactual residual stream...\n",
    "dm = imdbHSDataModule2(ds2, batch_size=batch_size)\n",
    "dm.setup('train')"
   ]
  },
  {
   "cell_type": "code",
   "execution_count": 25,
   "metadata": {},
   "outputs": [
    {
     "name": "stdout",
     "output_type": "stream",
     "text": [
      "17 9\n",
      "torch.Size([120, 7, 2816, 2]) x\n",
      "PLConvProbe2(\n",
      "  (pre): Sequential(\n",
      "    (0): Conv1d(19712, 2464, kernel_size=(2,), stride=(1,))\n",
      "    (1): ReLU()\n",
      "  )\n",
      "  (probe): Sequential(\n",
      "    (0): Linear(in_features=2464, out_features=2464, bias=True)\n",
      "    (1): ReLU()\n",
      "    (2): Linear(in_features=2464, out_features=1, bias=True)\n",
      "  )\n",
      ")\n"
     ]
    }
   ],
   "source": [
    "dl_train = dm.train_dataloader()\n",
    "dl_val = dm.val_dataloader()\n",
    "print(len(dl_train), len(dl_val))\n",
    "x, y = next(iter(dl_train))\n",
    "print(x.shape, 'x')\n",
    "if x.ndim==3: x = x.unsqueeze(-1)\n",
    "\n",
    "c_in = np.prod(x.shape[1:-1])\n",
    "net = PLConvProbe2(c_in=c_in, total_steps=max_epochs*len(dl_train),  lr=lr, \n",
    "        weight_decay=wd, depth=3,\n",
    "        # x_feats=x_feats\n",
    "        )\n",
    "print(net)"
   ]
  },
  {
   "cell_type": "code",
   "execution_count": null,
   "metadata": {},
   "outputs": [],
   "source": []
  },
  {
   "cell_type": "code",
   "execution_count": 26,
   "metadata": {},
   "outputs": [
    {
     "name": "stderr",
     "output_type": "stream",
     "text": [
      "Using bfloat16 Automatic Mixed Precision (AMP)\n",
      "GPU available: True (cuda), used: True\n",
      "TPU available: False, using: 0 TPU cores\n",
      "IPU available: False, using: 0 IPUs\n",
      "HPU available: False, using: 0 HPUs\n",
      "LOCAL_RANK: 0 - CUDA_VISIBLE_DEVICES: [0]\n",
      "\n",
      "  | Name  | Type       | Params\n",
      "-------------------------------------\n",
      "0 | pre   | Sequential | 97.1 M\n",
      "1 | probe | Sequential | 6.1 M \n",
      "-------------------------------------\n",
      "103 M     Trainable params\n",
      "0         Non-trainable params\n",
      "103 M     Total params\n",
      "412.878   Total estimated model params size (MB)\n"
     ]
    },
    {
     "data": {
      "application/vnd.jupyter.widget-view+json": {
       "model_id": "3f62adc3760b469990c4e9ee92411d73",
       "version_major": 2,
       "version_minor": 0
      },
      "text/plain": [
       "Sanity Checking: 0it [00:00, ?it/s]"
      ]
     },
     "metadata": {},
     "output_type": "display_data"
    },
    {
     "data": {
      "application/vnd.jupyter.widget-view+json": {
       "model_id": "e1e2e5d6038049daa130642faee929db",
       "version_major": 2,
       "version_minor": 0
      },
      "text/plain": [
       "Training: 0it [00:00, ?it/s]"
      ]
     },
     "metadata": {},
     "output_type": "display_data"
    },
    {
     "data": {
      "application/vnd.jupyter.widget-view+json": {
       "model_id": "a8fe560419e3459ab1e9ada95292bb8a",
       "version_major": 2,
       "version_minor": 0
      },
      "text/plain": [
       "Validation: 0it [00:00, ?it/s]"
      ]
     },
     "metadata": {},
     "output_type": "display_data"
    },
    {
     "data": {
      "application/vnd.jupyter.widget-view+json": {
       "model_id": "07e91b0a811b46c68ce71fb1161f5706",
       "version_major": 2,
       "version_minor": 0
      },
      "text/plain": [
       "Validation: 0it [00:00, ?it/s]"
      ]
     },
     "metadata": {},
     "output_type": "display_data"
    },
    {
     "data": {
      "application/vnd.jupyter.widget-view+json": {
       "model_id": "6f53ddd5aa0b4dff96a67c911dae69df",
       "version_major": 2,
       "version_minor": 0
      },
      "text/plain": [
       "Validation: 0it [00:00, ?it/s]"
      ]
     },
     "metadata": {},
     "output_type": "display_data"
    },
    {
     "data": {
      "application/vnd.jupyter.widget-view+json": {
       "model_id": "57f383591b5d439082e238cd8212a4c5",
       "version_major": 2,
       "version_minor": 0
      },
      "text/plain": [
       "Validation: 0it [00:00, ?it/s]"
      ]
     },
     "metadata": {},
     "output_type": "display_data"
    },
    {
     "data": {
      "application/vnd.jupyter.widget-view+json": {
       "model_id": "5113e908365944c39629b3302e11e492",
       "version_major": 2,
       "version_minor": 0
      },
      "text/plain": [
       "Validation: 0it [00:00, ?it/s]"
      ]
     },
     "metadata": {},
     "output_type": "display_data"
    },
    {
     "data": {
      "application/vnd.jupyter.widget-view+json": {
       "model_id": "6b7b9ef4a524407e91f5f9f9bfcfe6be",
       "version_major": 2,
       "version_minor": 0
      },
      "text/plain": [
       "Validation: 0it [00:00, ?it/s]"
      ]
     },
     "metadata": {},
     "output_type": "display_data"
    },
    {
     "data": {
      "application/vnd.jupyter.widget-view+json": {
       "model_id": "624f1692223345a8ab4d41d0b1d86ffc",
       "version_major": 2,
       "version_minor": 0
      },
      "text/plain": [
       "Validation: 0it [00:00, ?it/s]"
      ]
     },
     "metadata": {},
     "output_type": "display_data"
    },
    {
     "data": {
      "application/vnd.jupyter.widget-view+json": {
       "model_id": "f9b8144dd08e4ffb8d620c99487decca",
       "version_major": 2,
       "version_minor": 0
      },
      "text/plain": [
       "Validation: 0it [00:00, ?it/s]"
      ]
     },
     "metadata": {},
     "output_type": "display_data"
    },
    {
     "data": {
      "application/vnd.jupyter.widget-view+json": {
       "model_id": "7925d50ec0dc4ae7a419a354554d92e3",
       "version_major": 2,
       "version_minor": 0
      },
      "text/plain": [
       "Validation: 0it [00:00, ?it/s]"
      ]
     },
     "metadata": {},
     "output_type": "display_data"
    },
    {
     "data": {
      "application/vnd.jupyter.widget-view+json": {
       "model_id": "f0d6a92324c84755be114aaa8391d41d",
       "version_major": 2,
       "version_minor": 0
      },
      "text/plain": [
       "Validation: 0it [00:00, ?it/s]"
      ]
     },
     "metadata": {},
     "output_type": "display_data"
    },
    {
     "data": {
      "application/vnd.jupyter.widget-view+json": {
       "model_id": "0f1fa320ec1241978772942fe9675b4f",
       "version_major": 2,
       "version_minor": 0
      },
      "text/plain": [
       "Validation: 0it [00:00, ?it/s]"
      ]
     },
     "metadata": {},
     "output_type": "display_data"
    },
    {
     "data": {
      "application/vnd.jupyter.widget-view+json": {
       "model_id": "18d7f78968bf4162925aa96c4745c9fc",
       "version_major": 2,
       "version_minor": 0
      },
      "text/plain": [
       "Validation: 0it [00:00, ?it/s]"
      ]
     },
     "metadata": {},
     "output_type": "display_data"
    },
    {
     "data": {
      "application/vnd.jupyter.widget-view+json": {
       "model_id": "bafae0ce2eba483f88b537248ebbf3e4",
       "version_major": 2,
       "version_minor": 0
      },
      "text/plain": [
       "Validation: 0it [00:00, ?it/s]"
      ]
     },
     "metadata": {},
     "output_type": "display_data"
    },
    {
     "data": {
      "application/vnd.jupyter.widget-view+json": {
       "model_id": "1fe4186611944791a619cf8f8b06e09a",
       "version_major": 2,
       "version_minor": 0
      },
      "text/plain": [
       "Validation: 0it [00:00, ?it/s]"
      ]
     },
     "metadata": {},
     "output_type": "display_data"
    },
    {
     "data": {
      "application/vnd.jupyter.widget-view+json": {
       "model_id": "ef4bc5a24d58490499dbaa1bfed39cde",
       "version_major": 2,
       "version_minor": 0
      },
      "text/plain": [
       "Validation: 0it [00:00, ?it/s]"
      ]
     },
     "metadata": {},
     "output_type": "display_data"
    },
    {
     "data": {
      "application/vnd.jupyter.widget-view+json": {
       "model_id": "4b1554a6ba224056b1f280e1b1f2c845",
       "version_major": 2,
       "version_minor": 0
      },
      "text/plain": [
       "Validation: 0it [00:00, ?it/s]"
      ]
     },
     "metadata": {},
     "output_type": "display_data"
    },
    {
     "data": {
      "application/vnd.jupyter.widget-view+json": {
       "model_id": "9f2fe73b491849b29c82fef6b6386f78",
       "version_major": 2,
       "version_minor": 0
      },
      "text/plain": [
       "Validation: 0it [00:00, ?it/s]"
      ]
     },
     "metadata": {},
     "output_type": "display_data"
    },
    {
     "data": {
      "application/vnd.jupyter.widget-view+json": {
       "model_id": "9dd9f49a4d744f6bb6ccc0f6ff86f33f",
       "version_major": 2,
       "version_minor": 0
      },
      "text/plain": [
       "Validation: 0it [00:00, ?it/s]"
      ]
     },
     "metadata": {},
     "output_type": "display_data"
    },
    {
     "data": {
      "application/vnd.jupyter.widget-view+json": {
       "model_id": "090d1b4acb1244e09091e91e7486f3d2",
       "version_major": 2,
       "version_minor": 0
      },
      "text/plain": [
       "Validation: 0it [00:00, ?it/s]"
      ]
     },
     "metadata": {},
     "output_type": "display_data"
    },
    {
     "data": {
      "application/vnd.jupyter.widget-view+json": {
       "model_id": "5ea9af6eba624a7f963a8ecf5310772d",
       "version_major": 2,
       "version_minor": 0
      },
      "text/plain": [
       "Validation: 0it [00:00, ?it/s]"
      ]
     },
     "metadata": {},
     "output_type": "display_data"
    },
    {
     "data": {
      "application/vnd.jupyter.widget-view+json": {
       "model_id": "858b8a7e6372471195240a7b7347c0d7",
       "version_major": 2,
       "version_minor": 0
      },
      "text/plain": [
       "Validation: 0it [00:00, ?it/s]"
      ]
     },
     "metadata": {},
     "output_type": "display_data"
    },
    {
     "data": {
      "application/vnd.jupyter.widget-view+json": {
       "model_id": "9b1d78e716e741299e8d5fb30af27079",
       "version_major": 2,
       "version_minor": 0
      },
      "text/plain": [
       "Validation: 0it [00:00, ?it/s]"
      ]
     },
     "metadata": {},
     "output_type": "display_data"
    },
    {
     "data": {
      "application/vnd.jupyter.widget-view+json": {
       "model_id": "dbd9208ce4e2461db68fea5f3ce2f664",
       "version_major": 2,
       "version_minor": 0
      },
      "text/plain": [
       "Validation: 0it [00:00, ?it/s]"
      ]
     },
     "metadata": {},
     "output_type": "display_data"
    },
    {
     "data": {
      "application/vnd.jupyter.widget-view+json": {
       "model_id": "e98c905a7048407295d24710e822b230",
       "version_major": 2,
       "version_minor": 0
      },
      "text/plain": [
       "Validation: 0it [00:00, ?it/s]"
      ]
     },
     "metadata": {},
     "output_type": "display_data"
    },
    {
     "data": {
      "application/vnd.jupyter.widget-view+json": {
       "model_id": "eb17d91729864790943aff3cd61ef91b",
       "version_major": 2,
       "version_minor": 0
      },
      "text/plain": [
       "Validation: 0it [00:00, ?it/s]"
      ]
     },
     "metadata": {},
     "output_type": "display_data"
    },
    {
     "data": {
      "application/vnd.jupyter.widget-view+json": {
       "model_id": "90982c36b12345fbbfd0823edbf4ce50",
       "version_major": 2,
       "version_minor": 0
      },
      "text/plain": [
       "Validation: 0it [00:00, ?it/s]"
      ]
     },
     "metadata": {},
     "output_type": "display_data"
    },
    {
     "data": {
      "application/vnd.jupyter.widget-view+json": {
       "model_id": "6046e04df22942eda50c78f6e23275f0",
       "version_major": 2,
       "version_minor": 0
      },
      "text/plain": [
       "Validation: 0it [00:00, ?it/s]"
      ]
     },
     "metadata": {},
     "output_type": "display_data"
    },
    {
     "data": {
      "application/vnd.jupyter.widget-view+json": {
       "model_id": "17bcd4d885b24184a3a8ee333faa8fc8",
       "version_major": 2,
       "version_minor": 0
      },
      "text/plain": [
       "Validation: 0it [00:00, ?it/s]"
      ]
     },
     "metadata": {},
     "output_type": "display_data"
    },
    {
     "data": {
      "application/vnd.jupyter.widget-view+json": {
       "model_id": "306604079ff64cb7a9d09ceff3242001",
       "version_major": 2,
       "version_minor": 0
      },
      "text/plain": [
       "Validation: 0it [00:00, ?it/s]"
      ]
     },
     "metadata": {},
     "output_type": "display_data"
    },
    {
     "data": {
      "application/vnd.jupyter.widget-view+json": {
       "model_id": "484b7b1c1a2e4f31b4e7c006f8553698",
       "version_major": 2,
       "version_minor": 0
      },
      "text/plain": [
       "Validation: 0it [00:00, ?it/s]"
      ]
     },
     "metadata": {},
     "output_type": "display_data"
    },
    {
     "data": {
      "application/vnd.jupyter.widget-view+json": {
       "model_id": "430e4931d69a4b1d9a314d657129d856",
       "version_major": 2,
       "version_minor": 0
      },
      "text/plain": [
       "Validation: 0it [00:00, ?it/s]"
      ]
     },
     "metadata": {},
     "output_type": "display_data"
    },
    {
     "data": {
      "application/vnd.jupyter.widget-view+json": {
       "model_id": "b83241f97b4b4d6f822f0008b733244b",
       "version_major": 2,
       "version_minor": 0
      },
      "text/plain": [
       "Validation: 0it [00:00, ?it/s]"
      ]
     },
     "metadata": {},
     "output_type": "display_data"
    },
    {
     "data": {
      "application/vnd.jupyter.widget-view+json": {
       "model_id": "001ca03b7e4b4199b5e5158ebf6553b0",
       "version_major": 2,
       "version_minor": 0
      },
      "text/plain": [
       "Validation: 0it [00:00, ?it/s]"
      ]
     },
     "metadata": {},
     "output_type": "display_data"
    },
    {
     "data": {
      "application/vnd.jupyter.widget-view+json": {
       "model_id": "dc14195c644b4e61a11832daf93d4d7a",
       "version_major": 2,
       "version_minor": 0
      },
      "text/plain": [
       "Validation: 0it [00:00, ?it/s]"
      ]
     },
     "metadata": {},
     "output_type": "display_data"
    },
    {
     "data": {
      "application/vnd.jupyter.widget-view+json": {
       "model_id": "bbc27f87318542f3a0f8f0e6d266be64",
       "version_major": 2,
       "version_minor": 0
      },
      "text/plain": [
       "Validation: 0it [00:00, ?it/s]"
      ]
     },
     "metadata": {},
     "output_type": "display_data"
    },
    {
     "data": {
      "application/vnd.jupyter.widget-view+json": {
       "model_id": "3c5a8272e2034eaaaa11f8cac424037c",
       "version_major": 2,
       "version_minor": 0
      },
      "text/plain": [
       "Validation: 0it [00:00, ?it/s]"
      ]
     },
     "metadata": {},
     "output_type": "display_data"
    },
    {
     "data": {
      "application/vnd.jupyter.widget-view+json": {
       "model_id": "7f80466e3c86492da319cce1ec7b9b47",
       "version_major": 2,
       "version_minor": 0
      },
      "text/plain": [
       "Validation: 0it [00:00, ?it/s]"
      ]
     },
     "metadata": {},
     "output_type": "display_data"
    },
    {
     "data": {
      "application/vnd.jupyter.widget-view+json": {
       "model_id": "4bbba593381545f0b3205e13991538f8",
       "version_major": 2,
       "version_minor": 0
      },
      "text/plain": [
       "Validation: 0it [00:00, ?it/s]"
      ]
     },
     "metadata": {},
     "output_type": "display_data"
    },
    {
     "data": {
      "application/vnd.jupyter.widget-view+json": {
       "model_id": "9b06a5d4b2d640b089bc1086c6967856",
       "version_major": 2,
       "version_minor": 0
      },
      "text/plain": [
       "Validation: 0it [00:00, ?it/s]"
      ]
     },
     "metadata": {},
     "output_type": "display_data"
    },
    {
     "data": {
      "application/vnd.jupyter.widget-view+json": {
       "model_id": "b3fff90cc4604a07b7aac78f2ffd227f",
       "version_major": 2,
       "version_minor": 0
      },
      "text/plain": [
       "Validation: 0it [00:00, ?it/s]"
      ]
     },
     "metadata": {},
     "output_type": "display_data"
    },
    {
     "data": {
      "application/vnd.jupyter.widget-view+json": {
       "model_id": "ecb12faf88c64344bc9b3a2200a928f6",
       "version_major": 2,
       "version_minor": 0
      },
      "text/plain": [
       "Validation: 0it [00:00, ?it/s]"
      ]
     },
     "metadata": {},
     "output_type": "display_data"
    },
    {
     "data": {
      "application/vnd.jupyter.widget-view+json": {
       "model_id": "b2032a0ca8c249fe9211dd6d0b67b6ef",
       "version_major": 2,
       "version_minor": 0
      },
      "text/plain": [
       "Validation: 0it [00:00, ?it/s]"
      ]
     },
     "metadata": {},
     "output_type": "display_data"
    },
    {
     "data": {
      "application/vnd.jupyter.widget-view+json": {
       "model_id": "101352be62ac49ac96b966dd72e4f36e",
       "version_major": 2,
       "version_minor": 0
      },
      "text/plain": [
       "Validation: 0it [00:00, ?it/s]"
      ]
     },
     "metadata": {},
     "output_type": "display_data"
    },
    {
     "data": {
      "application/vnd.jupyter.widget-view+json": {
       "model_id": "c702ca77976c424587cbe1eac8f7e2da",
       "version_major": 2,
       "version_minor": 0
      },
      "text/plain": [
       "Validation: 0it [00:00, ?it/s]"
      ]
     },
     "metadata": {},
     "output_type": "display_data"
    },
    {
     "data": {
      "application/vnd.jupyter.widget-view+json": {
       "model_id": "2a640d69480e4fd5bfc124aea8e08a7b",
       "version_major": 2,
       "version_minor": 0
      },
      "text/plain": [
       "Validation: 0it [00:00, ?it/s]"
      ]
     },
     "metadata": {},
     "output_type": "display_data"
    },
    {
     "data": {
      "application/vnd.jupyter.widget-view+json": {
       "model_id": "f7fd24b6303346288e4a8ae28400ff86",
       "version_major": 2,
       "version_minor": 0
      },
      "text/plain": [
       "Validation: 0it [00:00, ?it/s]"
      ]
     },
     "metadata": {},
     "output_type": "display_data"
    },
    {
     "data": {
      "application/vnd.jupyter.widget-view+json": {
       "model_id": "15a72749bd0e44dcb635911acd48a41e",
       "version_major": 2,
       "version_minor": 0
      },
      "text/plain": [
       "Validation: 0it [00:00, ?it/s]"
      ]
     },
     "metadata": {},
     "output_type": "display_data"
    },
    {
     "data": {
      "application/vnd.jupyter.widget-view+json": {
       "model_id": "fda610ce81eb42e8ad7f1ca880226117",
       "version_major": 2,
       "version_minor": 0
      },
      "text/plain": [
       "Validation: 0it [00:00, ?it/s]"
      ]
     },
     "metadata": {},
     "output_type": "display_data"
    },
    {
     "data": {
      "application/vnd.jupyter.widget-view+json": {
       "model_id": "c95c3a786dd84a38bb55fa20e9434ef4",
       "version_major": 2,
       "version_minor": 0
      },
      "text/plain": [
       "Validation: 0it [00:00, ?it/s]"
      ]
     },
     "metadata": {},
     "output_type": "display_data"
    },
    {
     "data": {
      "application/vnd.jupyter.widget-view+json": {
       "model_id": "c07af191c4d84f29a87a2a20d2e2b610",
       "version_major": 2,
       "version_minor": 0
      },
      "text/plain": [
       "Validation: 0it [00:00, ?it/s]"
      ]
     },
     "metadata": {},
     "output_type": "display_data"
    },
    {
     "name": "stderr",
     "output_type": "stream",
     "text": [
      "`Trainer.fit` stopped: `max_epochs=50` reached.\n",
      "LOCAL_RANK: 0 - CUDA_VISIBLE_DEVICES: [0]\n"
     ]
    },
    {
     "data": {
      "application/vnd.jupyter.widget-view+json": {
       "model_id": "794bc5e0aabd40cdb0c2ab6e1df07b0d",
       "version_major": 2,
       "version_minor": 0
      },
      "text/plain": [
       "Testing: 0it [00:00, ?it/s]"
      ]
     },
     "metadata": {},
     "output_type": "display_data"
    },
    {
     "data": {
      "text/html": [
       "<pre style=\"white-space:pre;overflow-x:auto;line-height:normal;font-family:Menlo,'DejaVu Sans Mono',consolas,'Courier New',monospace\">┏━━━━━━━━━━━━━━━━━━━━━━━━━━━┳━━━━━━━━━━━━━━━━━━━━━━━━━━━┳━━━━━━━━━━━━━━━━━━━━━━━━━━━┳━━━━━━━━━━━━━━━━━━━━━━━━━━━┓\n",
       "┃<span style=\"font-weight: bold\">   Runningstage.testing    </span>┃<span style=\"font-weight: bold\">                           </span>┃<span style=\"font-weight: bold\">                           </span>┃<span style=\"font-weight: bold\">                           </span>┃\n",
       "┃<span style=\"font-weight: bold\">          metric           </span>┃<span style=\"font-weight: bold\">       DataLoader 0        </span>┃<span style=\"font-weight: bold\">       DataLoader 1        </span>┃<span style=\"font-weight: bold\">       DataLoader 2        </span>┃\n",
       "┡━━━━━━━━━━━━━━━━━━━━━━━━━━━╇━━━━━━━━━━━━━━━━━━━━━━━━━━━╇━━━━━━━━━━━━━━━━━━━━━━━━━━━╇━━━━━━━━━━━━━━━━━━━━━━━━━━━┩\n",
       "│<span style=\"color: #008080; text-decoration-color: #008080\">         test/acc          </span>│<span style=\"color: #800080; text-decoration-color: #800080\">     0.737500011920929     </span>│<span style=\"color: #800080; text-decoration-color: #800080\">    0.7450000047683716     </span>│<span style=\"color: #800080; text-decoration-color: #800080\">    0.7440000176429749     </span>│\n",
       "│<span style=\"color: #008080; text-decoration-color: #008080\">        test/auroc         </span>│<span style=\"color: #800080; text-decoration-color: #800080\">            0.5            </span>│<span style=\"color: #800080; text-decoration-color: #800080\">            0.5            </span>│<span style=\"color: #800080; text-decoration-color: #800080\">            0.5            </span>│\n",
       "│<span style=\"color: #008080; text-decoration-color: #008080\">         test/dice         </span>│<span style=\"color: #800080; text-decoration-color: #800080\">    0.8483560681343079     </span>│<span style=\"color: #800080; text-decoration-color: #800080\">    0.8531985282897949     </span>│<span style=\"color: #800080; text-decoration-color: #800080\">    0.8527430295944214     </span>│\n",
       "│<span style=\"color: #008080; text-decoration-color: #008080\">         test/loss         </span>│<span style=\"color: #800080; text-decoration-color: #800080\">    0.15090522170066833    </span>│<span style=\"color: #800080; text-decoration-color: #800080\">    0.14605338871479034    </span>│<span style=\"color: #800080; text-decoration-color: #800080\">    0.1465074121952057     </span>│\n",
       "│<span style=\"color: #008080; text-decoration-color: #008080\">          test/n           </span>│<span style=\"color: #800080; text-decoration-color: #800080\">          2000.0           </span>│<span style=\"color: #800080; text-decoration-color: #800080\">          1000.0           </span>│<span style=\"color: #800080; text-decoration-color: #800080\">          1000.0           </span>│\n",
       "└───────────────────────────┴───────────────────────────┴───────────────────────────┴───────────────────────────┘\n",
       "</pre>\n"
      ],
      "text/plain": [
       "┏━━━━━━━━━━━━━━━━━━━━━━━━━━━┳━━━━━━━━━━━━━━━━━━━━━━━━━━━┳━━━━━━━━━━━━━━━━━━━━━━━━━━━┳━━━━━━━━━━━━━━━━━━━━━━━━━━━┓\n",
       "┃\u001b[1m \u001b[0m\u001b[1m  Runningstage.testing   \u001b[0m\u001b[1m \u001b[0m┃\u001b[1m                           \u001b[0m┃\u001b[1m                           \u001b[0m┃\u001b[1m                           \u001b[0m┃\n",
       "┃\u001b[1m \u001b[0m\u001b[1m         metric          \u001b[0m\u001b[1m \u001b[0m┃\u001b[1m \u001b[0m\u001b[1m      DataLoader 0       \u001b[0m\u001b[1m \u001b[0m┃\u001b[1m \u001b[0m\u001b[1m      DataLoader 1       \u001b[0m\u001b[1m \u001b[0m┃\u001b[1m \u001b[0m\u001b[1m      DataLoader 2       \u001b[0m\u001b[1m \u001b[0m┃\n",
       "┡━━━━━━━━━━━━━━━━━━━━━━━━━━━╇━━━━━━━━━━━━━━━━━━━━━━━━━━━╇━━━━━━━━━━━━━━━━━━━━━━━━━━━╇━━━━━━━━━━━━━━━━━━━━━━━━━━━┩\n",
       "│\u001b[36m \u001b[0m\u001b[36m        test/acc         \u001b[0m\u001b[36m \u001b[0m│\u001b[35m \u001b[0m\u001b[35m    0.737500011920929    \u001b[0m\u001b[35m \u001b[0m│\u001b[35m \u001b[0m\u001b[35m   0.7450000047683716    \u001b[0m\u001b[35m \u001b[0m│\u001b[35m \u001b[0m\u001b[35m   0.7440000176429749    \u001b[0m\u001b[35m \u001b[0m│\n",
       "│\u001b[36m \u001b[0m\u001b[36m       test/auroc        \u001b[0m\u001b[36m \u001b[0m│\u001b[35m \u001b[0m\u001b[35m           0.5           \u001b[0m\u001b[35m \u001b[0m│\u001b[35m \u001b[0m\u001b[35m           0.5           \u001b[0m\u001b[35m \u001b[0m│\u001b[35m \u001b[0m\u001b[35m           0.5           \u001b[0m\u001b[35m \u001b[0m│\n",
       "│\u001b[36m \u001b[0m\u001b[36m        test/dice        \u001b[0m\u001b[36m \u001b[0m│\u001b[35m \u001b[0m\u001b[35m   0.8483560681343079    \u001b[0m\u001b[35m \u001b[0m│\u001b[35m \u001b[0m\u001b[35m   0.8531985282897949    \u001b[0m\u001b[35m \u001b[0m│\u001b[35m \u001b[0m\u001b[35m   0.8527430295944214    \u001b[0m\u001b[35m \u001b[0m│\n",
       "│\u001b[36m \u001b[0m\u001b[36m        test/loss        \u001b[0m\u001b[36m \u001b[0m│\u001b[35m \u001b[0m\u001b[35m   0.15090522170066833   \u001b[0m\u001b[35m \u001b[0m│\u001b[35m \u001b[0m\u001b[35m   0.14605338871479034   \u001b[0m\u001b[35m \u001b[0m│\u001b[35m \u001b[0m\u001b[35m   0.1465074121952057    \u001b[0m\u001b[35m \u001b[0m│\n",
       "│\u001b[36m \u001b[0m\u001b[36m         test/n          \u001b[0m\u001b[36m \u001b[0m│\u001b[35m \u001b[0m\u001b[35m         2000.0          \u001b[0m\u001b[35m \u001b[0m│\u001b[35m \u001b[0m\u001b[35m         1000.0          \u001b[0m\u001b[35m \u001b[0m│\u001b[35m \u001b[0m\u001b[35m         1000.0          \u001b[0m\u001b[35m \u001b[0m│\n",
       "└───────────────────────────┴───────────────────────────┴───────────────────────────┴───────────────────────────┘\n"
      ]
     },
     "metadata": {},
     "output_type": "display_data"
    },
    {
     "name": "stderr",
     "output_type": "stream",
     "text": [
      "LOCAL_RANK: 0 - CUDA_VISIBLE_DEVICES: [0]\n"
     ]
    },
    {
     "data": {
      "application/vnd.jupyter.widget-view+json": {
       "model_id": "5421840255ea43419c0ee05eff19c9cd",
       "version_major": 2,
       "version_minor": 0
      },
      "text/plain": [
       "Predicting: 0it [00:00, ?it/s]"
      ]
     },
     "metadata": {},
     "output_type": "display_data"
    },
    {
     "name": "stderr",
     "output_type": "stream",
     "text": [
      "LOCAL_RANK: 0 - CUDA_VISIBLE_DEVICES: [0]\n"
     ]
    },
    {
     "data": {
      "application/vnd.jupyter.widget-view+json": {
       "model_id": "cd0443108b7f4e4eaece38c79c6c43b5",
       "version_major": 2,
       "version_minor": 0
      },
      "text/plain": [
       "Predicting: 0it [00:00, ?it/s]"
      ]
     },
     "metadata": {},
     "output_type": "display_data"
    },
    {
     "name": "stdout",
     "output_type": "stream",
     "text": [
      "probe results on subsets of the data\n",
      "acc=74.45%,\tn=2000,\t[] \n",
      "acc=46.49%,\tn=955,\t[instructed_to_lie==True] \n",
      "acc=100.00%,\tn=1045,\t[instructed_to_lie==False] \n",
      "acc=100.00%,\tn=1489,\t[llm_ans==label_true] \n",
      "acc=67.16%,\tn=1556,\t[llm_ans==label_instructed] \n",
      "acc=0.00%,\tn=511,\t[instructed_to_lie==True & llm_ans==label_instructed] \n",
      "acc=100.00%,\tn=444,\t[instructed_to_lie==True & llm_ans!=label_instructed] \n",
      "probe accuracy for quadrants\n"
     ]
    },
    {
     "data": {
      "text/html": [
       "<div>\n",
       "<style scoped>\n",
       "    .dataframe tbody tr th:only-of-type {\n",
       "        vertical-align: middle;\n",
       "    }\n",
       "\n",
       "    .dataframe tbody tr th {\n",
       "        vertical-align: top;\n",
       "    }\n",
       "\n",
       "    .dataframe thead th {\n",
       "        text-align: right;\n",
       "    }\n",
       "</style>\n",
       "<table border=\"1\" class=\"dataframe\">\n",
       "  <thead>\n",
       "    <tr style=\"text-align: right;\">\n",
       "      <th>llm gave</th>\n",
       "      <th>did</th>\n",
       "      <th>didn't</th>\n",
       "    </tr>\n",
       "    <tr>\n",
       "      <th>instructed to</th>\n",
       "      <th></th>\n",
       "      <th></th>\n",
       "    </tr>\n",
       "  </thead>\n",
       "  <tbody>\n",
       "    <tr>\n",
       "      <th>tell a truth</th>\n",
       "      <td>1.0</td>\n",
       "      <td>NaN</td>\n",
       "    </tr>\n",
       "    <tr>\n",
       "      <th>tell a lie</th>\n",
       "      <td>0.0</td>\n",
       "      <td>1.0</td>\n",
       "    </tr>\n",
       "  </tbody>\n",
       "</table>\n",
       "</div>"
      ],
      "text/plain": [
       "llm gave       did  didn't\n",
       "instructed to             \n",
       "tell a truth   1.0     NaN\n",
       "tell a lie     0.0     1.0"
      ]
     },
     "metadata": {},
     "output_type": "display_data"
    },
    {
     "name": "stdout",
     "output_type": "stream",
     "text": [
      "⭐PRIMARY METRIC⭐ acc=74.45% from probe\n",
      "⭐SECONDARY METRIC⭐ acc_lie_lie=0.00% from probe\n"
     ]
    },
    {
     "data": {
      "image/png": "[encoded data removed]",
      "text/plain": [
       "<Figure size 640x480 with 1 Axes>"
      ]
     },
     "metadata": {},
     "output_type": "display_data"
    },
    {
     "data": {
      "image/png": "[encoded data removed]",
      "text/plain": [
       "<Figure size 640x480 with 1 Axes>"
      ]
     },
     "metadata": {},
     "output_type": "display_data"
    }
   ],
   "source": [
    "trainer = pl.Trainer(precision=\"bf16-mixed\",\n",
    "                gradient_clip_val=20,\n",
    "                max_epochs=max_epochs, log_every_n_steps=3, \n",
    "                \n",
    "                # enable_progress_bar=False, enable_model_summary=False\n",
    "                )\n",
    "trainer.fit(model=net, train_dataloaders=dl_train, val_dataloaders=dl_val)\n",
    "\n",
    "# look at hist\n",
    "df_hist = read_metrics_csv(trainer.logger.experiment.metrics_file_path).ffill().bfill()\n",
    "for key in ['loss']:\n",
    "    df_hist[[c for c in df_hist.columns if key in c]].plot(logy=True)\n",
    "    \n",
    "for key in ['acc']:\n",
    "    df_hist[[c for c in df_hist.columns if key in c]].plot()\n",
    "df_hist\n",
    "\n",
    "# predict\n",
    "dl_test = dm.test_dataloader()\n",
    "# print(f\"training with x_feats={x_feats} with c={c}\")\n",
    "rs = trainer.test(net, dataloaders=[dl_train, dl_val, dl_test])\n",
    "\n",
    "testval_metrics = calc_metrics(dm, trainer, net, use_val=True)\n",
    "rs = rename(rs)\n",
    "# rs['test'] = {**rs['test'], **test_metrics}\n",
    "rs['test']['acc_lie_lie'] = testval_metrics['acc_lie_lie']\n",
    "rs['testval_metrics'] = rs['test']\n"
   ]
  },
  {
   "cell_type": "code",
   "execution_count": null,
   "metadata": {},
   "outputs": [],
   "source": []
  },
  {
   "cell_type": "code",
   "execution_count": null,
   "metadata": {},
   "outputs": [],
   "source": []
  },
  {
   "cell_type": "code",
   "execution_count": null,
   "metadata": {},
   "outputs": [],
   "source": []
  },
  {
   "cell_type": "code",
   "execution_count": null,
   "metadata": {},
   "outputs": [],
   "source": []
  }
 ],
 "metadata": {
  "kernelspec": {
   "display_name": "dlk2",
   "language": "python",
   "name": "python3"
  },
  "language_info": {
   "codemirror_mode": {
    "name": "ipython",
    "version": 3
   },
   "file_extension": ".py",
   "mimetype": "text/x-python",
   "name": "python",
   "nbconvert_exporter": "python",
   "pygments_lexer": "ipython3",
   "version": "3.11.4"
  },
  "orig_nbformat": 4
 },
 "nbformat": 4,
 "nbformat_minor": 2
}
