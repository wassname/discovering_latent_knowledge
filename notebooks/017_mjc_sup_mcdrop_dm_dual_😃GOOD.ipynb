{
 "cells": [
  {
   "attachments": {},
   "cell_type": "markdown",
   "metadata": {},
   "source": [
    "# Lets just do supervised learning\n",
    "\n",
    "Since we are looking at pairs with random permuations (from dropout), we can't use CCS. This is because our probabilities do not add to one.\n",
    "\n",
    "People question if unsupervised learning bings anything to the table anyway, so lets start with supervised...\n",
    "\n",
    "\n",
    "This one is `dual` in that itpasses both parts of the pair into the model at once.\n",
    "\n",
    "```\n",
    "x = torch.concat([x0, x1], 1)\n",
    "y_pred =model(x)\n",
    "loss(y_pred, y)\n",
    "```\n",
    "as opposed to\n",
    "```\n",
    "logit0 = model(x0)\n",
    "logit1 = model(x1)\n",
    "y_pred = torch.concat([logit0, logit1])\n",
    "loss(y_pred, y)\n",
    "```\n",
    "\n",
    "TODO:\n",
    "- [ ] fix training curves?\n",
    "- [ ] fix acc metrics, maybe look at nicks custom metrics"
   ]
  },
  {
   "attachments": {},
   "cell_type": "markdown",
   "metadata": {},
   "source": [
    "\n",
    "links:\n",
    "- [loading](https://github.com/deep-diver/LLM-As-Chatbot/blob/main/models/alpaca.py)\n",
    "- [dict](https://github.com/deep-diver/LLM-As-Chatbot/blob/c79e855a492a968b54bac223e66dc9db448d6eba/model_cards.json#L143)\n",
    "- [prompt_format](https://github.com/deep-diver/PingPong/blob/main/src/pingpong/alpaca.py)"
   ]
  },
  {
   "cell_type": "code",
   "execution_count": 2,
   "metadata": {},
   "outputs": [
    {
     "data": {
      "text/plain": [
       "'4.30.1'"
      ]
     },
     "execution_count": 2,
     "metadata": {},
     "output_type": "execute_result"
    }
   ],
   "source": [
    "\n",
    "import copy\n",
    "import numpy as np\n",
    "import pandas as pd\n",
    "from matplotlib import pyplot as plt\n",
    "plt.style.use('ggplot')\n",
    "\n",
    "import random\n",
    "from typing import Optional, List, Dict, Union\n",
    "\n",
    "import torch\n",
    "import torch.nn as nn\n",
    "import torch.nn.functional as F\n",
    "from torch import Tensor\n",
    "from torch import optim\n",
    "from torch.utils.data import random_split, DataLoader, TensorDataset\n",
    "\n",
    "import pickle\n",
    "import hashlib\n",
    "from pathlib import Path\n",
    "\n",
    "from datasets import load_dataset\n",
    "import datasets\n",
    "\n",
    "from transformers import AutoTokenizer, AutoModelForSeq2SeqLM, AutoModelForMaskedLM, AutoModelForCausalLM, AutoConfig\n",
    "import transformers\n",
    "from transformers.models.auto.modeling_auto import AutoModel\n",
    "from transformers import LogitsProcessorList\n",
    "\n",
    "\n",
    "import lightning.pytorch as pl\n",
    "from dataclasses import dataclass\n",
    "\n",
    "from sklearn.linear_model import LogisticRegression\n",
    "# from scipy.stats import zscore\n",
    "from sklearn.metrics import f1_score, roc_auc_score, accuracy_score\n",
    "from sklearn.preprocessing import RobustScaler\n",
    "\n",
    "from tqdm.auto import tqdm\n",
    "import gc\n",
    "import os\n",
    "\n",
    "from loguru import logger\n",
    "logger.add(os.sys.stderr, format=\"{time} {level} {message}\", level=\"INFO\")\n",
    "\n",
    "\n",
    "transformers.__version__"
   ]
  },
  {
   "cell_type": "code",
   "execution_count": 3,
   "metadata": {},
   "outputs": [],
   "source": [
    "from datasets import load_from_disk\n",
    "f='./.ds/WizardLMWizardCoder_15B_V1.0-None-N_40-ns_3-mc_True-593d1f'\n",
    "f='./.ds/WizardLMWizardCoder_15B_V1.0-None-N_4000-ns_3-mc_True-a55583_v2'\n",
    "ds = load_from_disk(f)"
   ]
  },
  {
   "attachments": {},
   "cell_type": "markdown",
   "metadata": {},
   "source": [
    "## Lightning DataModule"
   ]
  },
  {
   "cell_type": "code",
   "execution_count": 4,
   "metadata": {},
   "outputs": [],
   "source": [
    "def ds_info2df(ds):\n",
    "    d = pd.DataFrame(ds['info'])\n",
    "    for c in ['desired_answer', 'lie', 'true_answer']:\n",
    "        d[c] = d[c].map(lambda x:x.item())\n",
    "    return d\n",
    "\n",
    "class imdbHSDataModule(pl.LightningDataModule):\n",
    "\n",
    "    def __init__(self,\n",
    "                 ds,\n",
    "                 batch_size=32,\n",
    "                ):\n",
    "        super().__init__()\n",
    "        self.save_hyperparameters(ignore=[\"ds\"])\n",
    "        self.ds = ds\n",
    "\n",
    "    def setup(self, stage: str):\n",
    "        h = self.hparams\n",
    "        \n",
    "        # extract data set into N-Dim tensors and 1-d dataframe\n",
    "        self.ds_hs = (\n",
    "            self.ds.select_columns(['hs1', 'hs2'])\n",
    "            .with_format(\"numpy\")\n",
    "        )\n",
    "        \n",
    "        df_infos = ds_info2df(self.ds)\n",
    "        df_ans = self.ds.select_columns(['ans1', 'ans2', 'true']).with_format(\"numpy\").to_pandas()\n",
    "        self.df_infos = pd.concat([df_infos, df_ans], axis=1)\n",
    "        self.df_infos['dir_true'] = self.df_infos['ans2'] - self.df_infos['ans1']\n",
    "        self.df_infos['ans'] = (self.df_infos['ans2'] + self.df_infos['ans1']) / 2\n",
    "        \n",
    "        b = len(self.ds_hs)\n",
    "        self.y = self.df_infos['true_answer'].astype(np.float32).values\n",
    "        self.hs1 = self.ds_hs['hs1'].reshape((b, -1))#.numpy()\n",
    "        self.hs2 = self.ds_hs['hs2'].reshape((b, -1))#.numpy()        \n",
    "        self.ans1 = self.df_infos['ans1'].values\n",
    "        self.ans2 = self.df_infos['ans2'].values\n",
    "        \n",
    "        # # in ELK they cache as a huggingface dataset\n",
    "        # self.hs1, self.ans1, self.hs2, self.ans2, self.y, self.infos = \n",
    "\n",
    "        # let's create a simple 50/50 train split (the data is already randomized)\n",
    "        n = len(self.y)\n",
    "        self.val_split = vs = int(n * 0.5)\n",
    "        self.test_split = ts = int(n * 0.75)\n",
    "        hs1_train, hs2_train, y_train = self.hs1[:vs], self.hs2[:vs], self.y[:vs]\n",
    "        hs1_val, hs2_val, y_val = self.hs1[vs:ts], self.hs2[vs:ts], self.y[vs:ts]\n",
    "        hs1_test, hs2_test, y_test = self.hs1[ts:],self. hs2[ts:], self.y[ts:]\n",
    "\n",
    "        # for simplicity we can just take the difference between positive and negative hidden states\n",
    "        # (concatenating also works fine)\n",
    "        self.x_train = hs1_train - hs2_train\n",
    "        self.x_val = hs1_val - hs2_val\n",
    "        self.x_test = hs1_test - hs2_test\n",
    "\n",
    "        # normalize\n",
    "        self.scaler = RobustScaler()\n",
    "        self.scaler.fit(self.x_train)\n",
    "        self.x_train = self.scaler.transform(self.x_train)\n",
    "        self.x_val = self.scaler.transform(self.x_val)\n",
    "        self.x_test = self.scaler.transform(self.x_test)\n",
    "\n",
    "        self.ds_train = TensorDataset(torch.from_numpy(hs1_train).float(),\n",
    "                                      torch.from_numpy(hs2_train).float(),\n",
    "                                      torch.from_numpy(y_train).float())\n",
    "\n",
    "        self.ds_val = TensorDataset(torch.from_numpy(hs1_val).float(),\n",
    "                                    torch.from_numpy(hs2_val).float(),\n",
    "                                    torch.from_numpy(y_val).float())\n",
    "\n",
    "        self.ds_test = TensorDataset(torch.from_numpy(hs1_test).float(),\n",
    "                                     torch.from_numpy(hs2_test).float(),\n",
    "                                     torch.from_numpy(y_test).float())\n",
    "\n",
    "    def train_dataloader(self):\n",
    "        return DataLoader(self.ds_train,\n",
    "                          batch_size=self.hparams.batch_size,\n",
    "                          shuffle=True)\n",
    "\n",
    "    def val_dataloader(self):\n",
    "        return DataLoader(self.ds_val, batch_size=self.hparams.batch_size)\n",
    "\n",
    "    def test_dataloader(self):\n",
    "        return DataLoader(self.ds_test, batch_size=self.hparams.batch_size)\n"
   ]
  },
  {
   "cell_type": "code",
   "execution_count": 5,
   "metadata": {},
   "outputs": [
    {
     "data": {
      "text/plain": [
       "[tensor([[ 6.5918e-02, -4.2114e-02, -5.3436e-02,  ..., -4.2539e+00,\n",
       "           1.1816e+00,  1.3891e+01],\n",
       "         [ 1.0852e-01,  9.7046e-03, -4.7974e-02,  ..., -2.1055e+00,\n",
       "          -3.8086e-01,  1.1961e+01],\n",
       "         [ 1.5735e-01,  1.4153e-03, -5.9509e-02,  ..., -9.4092e-01,\n",
       "           1.6074e+00,  1.3562e+01],\n",
       "         ...,\n",
       "         [ 1.3196e-01, -2.5574e-02, -7.3730e-02,  ...,  3.2324e-01,\n",
       "          -3.6113e+00,  2.1891e+01],\n",
       "         [ 2.7527e-02, -4.1351e-02, -5.8624e-02,  ...,  1.9248e+00,\n",
       "          -1.5732e+00,  1.0836e+01],\n",
       "         [ 1.4771e-01, -4.0710e-02, -8.1726e-02,  ...,  2.5244e-01,\n",
       "           1.6191e+00,  1.5000e+01]]),\n",
       " tensor([[ 8.9600e-02, -3.7598e-02, -3.0457e-02,  ..., -5.2500e+00,\n",
       "           3.2168e+00,  1.1453e+01],\n",
       "         [ 1.6113e-01, -2.2705e-02, -7.3914e-02,  ..., -3.2930e+00,\n",
       "          -3.9453e+00,  1.5570e+01],\n",
       "         [ 1.2378e-01, -9.4223e-03, -5.0476e-02,  ...,  1.0439e+00,\n",
       "          -4.5166e-01,  1.5602e+01],\n",
       "         ...,\n",
       "         [ 1.9019e-01, -6.6650e-02, -5.2979e-02,  ..., -2.7812e+00,\n",
       "          -1.8271e+00,  1.9000e+01],\n",
       "         [ 1.2604e-02, -1.8600e-02, -5.6580e-02,  ...,  2.1094e+00,\n",
       "          -1.5781e+00,  7.8125e+00],\n",
       "         [-6.4697e-02, -2.3315e-02, -7.8613e-02,  ..., -2.3848e+00,\n",
       "          -2.7695e+00,  1.3875e+01]]),\n",
       " tensor([0., 0., 1., 0., 0., 0., 1., 1., 1., 1., 1., 1., 0., 0., 0., 0., 1., 1.,\n",
       "         0., 0., 1., 0., 0., 0., 0., 0., 0., 1., 0., 1., 0., 1.])]"
      ]
     },
     "execution_count": 5,
     "metadata": {},
     "output_type": "execute_result"
    }
   ],
   "source": [
    "batch_size = 32\n",
    "# test and cache\n",
    "dm = imdbHSDataModule(ds, batch_size=batch_size)\n",
    "dm.setup('train')\n",
    "\n",
    "dl_val = dm.val_dataloader()\n",
    "dl_train = dm.train_dataloader()\n",
    "b = next(iter(dl_train))\n",
    "b"
   ]
  },
  {
   "cell_type": "code",
   "execution_count": 6,
   "metadata": {},
   "outputs": [
    {
     "data": {
      "text/html": [
       "<div>\n",
       "<style scoped>\n",
       "    .dataframe tbody tr th:only-of-type {\n",
       "        vertical-align: middle;\n",
       "    }\n",
       "\n",
       "    .dataframe tbody tr th {\n",
       "        vertical-align: top;\n",
       "    }\n",
       "\n",
       "    .dataframe thead th {\n",
       "        text-align: right;\n",
       "    }\n",
       "</style>\n",
       "<table border=\"1\" class=\"dataframe\">\n",
       "  <thead>\n",
       "    <tr style=\"text-align: right;\">\n",
       "      <th></th>\n",
       "      <th>desired_answer</th>\n",
       "      <th>input</th>\n",
       "      <th>lie</th>\n",
       "      <th>true_answer</th>\n",
       "      <th>ans1</th>\n",
       "      <th>ans2</th>\n",
       "      <th>true</th>\n",
       "      <th>dir_true</th>\n",
       "      <th>ans</th>\n",
       "    </tr>\n",
       "  </thead>\n",
       "  <tbody>\n",
       "    <tr>\n",
       "      <th>0</th>\n",
       "      <td>True</td>\n",
       "      <td>How can anyone still feed this to children? I ...</td>\n",
       "      <td>True</td>\n",
       "      <td>0</td>\n",
       "      <td>0.519043</td>\n",
       "      <td>0.507324</td>\n",
       "      <td>0</td>\n",
       "      <td>-0.011719</td>\n",
       "      <td>0.513184</td>\n",
       "    </tr>\n",
       "    <tr>\n",
       "      <th>1</th>\n",
       "      <td>False</td>\n",
       "      <td>I ordered this movie from Amazon and it was gr...</td>\n",
       "      <td>False</td>\n",
       "      <td>0</td>\n",
       "      <td>0.588379</td>\n",
       "      <td>0.300537</td>\n",
       "      <td>0</td>\n",
       "      <td>-0.287842</td>\n",
       "      <td>0.444336</td>\n",
       "    </tr>\n",
       "    <tr>\n",
       "      <th>2</th>\n",
       "      <td>True</td>\n",
       "      <td>This movie has the right pedigree - Coen broth...</td>\n",
       "      <td>True</td>\n",
       "      <td>0</td>\n",
       "      <td>0.201538</td>\n",
       "      <td>0.102234</td>\n",
       "      <td>0</td>\n",
       "      <td>-0.099304</td>\n",
       "      <td>0.151855</td>\n",
       "    </tr>\n",
       "    <tr>\n",
       "      <th>3</th>\n",
       "      <td>False</td>\n",
       "      <td>ok so i got the sword and the box it came in w...</td>\n",
       "      <td>False</td>\n",
       "      <td>0</td>\n",
       "      <td>0.366211</td>\n",
       "      <td>0.643555</td>\n",
       "      <td>0</td>\n",
       "      <td>0.277344</td>\n",
       "      <td>0.504883</td>\n",
       "    </tr>\n",
       "    <tr>\n",
       "      <th>4</th>\n",
       "      <td>True</td>\n",
       "      <td>I was anticipating the use of wireless headpho...</td>\n",
       "      <td>True</td>\n",
       "      <td>0</td>\n",
       "      <td>0.479980</td>\n",
       "      <td>0.422119</td>\n",
       "      <td>0</td>\n",
       "      <td>-0.057861</td>\n",
       "      <td>0.451172</td>\n",
       "    </tr>\n",
       "    <tr>\n",
       "      <th>...</th>\n",
       "      <td>...</td>\n",
       "      <td>...</td>\n",
       "      <td>...</td>\n",
       "      <td>...</td>\n",
       "      <td>...</td>\n",
       "      <td>...</td>\n",
       "      <td>...</td>\n",
       "      <td>...</td>\n",
       "      <td>...</td>\n",
       "    </tr>\n",
       "    <tr>\n",
       "      <th>3995</th>\n",
       "      <td>False</td>\n",
       "      <td>As others have said, the instructions were not...</td>\n",
       "      <td>False</td>\n",
       "      <td>0</td>\n",
       "      <td>0.179932</td>\n",
       "      <td>0.211792</td>\n",
       "      <td>0</td>\n",
       "      <td>0.031860</td>\n",
       "      <td>0.195801</td>\n",
       "    </tr>\n",
       "    <tr>\n",
       "      <th>3996</th>\n",
       "      <td>True</td>\n",
       "      <td>This book has great potential but it doesn't l...</td>\n",
       "      <td>True</td>\n",
       "      <td>0</td>\n",
       "      <td>0.032562</td>\n",
       "      <td>0.037292</td>\n",
       "      <td>0</td>\n",
       "      <td>0.004730</td>\n",
       "      <td>0.034912</td>\n",
       "    </tr>\n",
       "    <tr>\n",
       "      <th>3997</th>\n",
       "      <td>True</td>\n",
       "      <td>I was intending to use beta sitosterol for hai...</td>\n",
       "      <td>False</td>\n",
       "      <td>1</td>\n",
       "      <td>0.940430</td>\n",
       "      <td>0.942383</td>\n",
       "      <td>1</td>\n",
       "      <td>0.001953</td>\n",
       "      <td>0.941406</td>\n",
       "    </tr>\n",
       "    <tr>\n",
       "      <th>3998</th>\n",
       "      <td>False</td>\n",
       "      <td>This is really compact and comes with 3 bags t...</td>\n",
       "      <td>True</td>\n",
       "      <td>1</td>\n",
       "      <td>0.963379</td>\n",
       "      <td>0.941895</td>\n",
       "      <td>1</td>\n",
       "      <td>-0.021484</td>\n",
       "      <td>0.952637</td>\n",
       "    </tr>\n",
       "    <tr>\n",
       "      <th>3999</th>\n",
       "      <td>True</td>\n",
       "      <td>I bought the paperback because it sounded inte...</td>\n",
       "      <td>False</td>\n",
       "      <td>1</td>\n",
       "      <td>0.998535</td>\n",
       "      <td>0.997070</td>\n",
       "      <td>1</td>\n",
       "      <td>-0.001465</td>\n",
       "      <td>0.998047</td>\n",
       "    </tr>\n",
       "  </tbody>\n",
       "</table>\n",
       "<p>4000 rows × 9 columns</p>\n",
       "</div>"
      ],
      "text/plain": [
       "      desired_answer                                              input   \n",
       "0               True  How can anyone still feed this to children? I ...  \\\n",
       "1              False  I ordered this movie from Amazon and it was gr...   \n",
       "2               True  This movie has the right pedigree - Coen broth...   \n",
       "3              False  ok so i got the sword and the box it came in w...   \n",
       "4               True  I was anticipating the use of wireless headpho...   \n",
       "...              ...                                                ...   \n",
       "3995           False  As others have said, the instructions were not...   \n",
       "3996            True  This book has great potential but it doesn't l...   \n",
       "3997            True  I was intending to use beta sitosterol for hai...   \n",
       "3998           False  This is really compact and comes with 3 bags t...   \n",
       "3999            True  I bought the paperback because it sounded inte...   \n",
       "\n",
       "        lie  true_answer      ans1      ans2  true  dir_true       ans  \n",
       "0      True            0  0.519043  0.507324     0 -0.011719  0.513184  \n",
       "1     False            0  0.588379  0.300537     0 -0.287842  0.444336  \n",
       "2      True            0  0.201538  0.102234     0 -0.099304  0.151855  \n",
       "3     False            0  0.366211  0.643555     0  0.277344  0.504883  \n",
       "4      True            0  0.479980  0.422119     0 -0.057861  0.451172  \n",
       "...     ...          ...       ...       ...   ...       ...       ...  \n",
       "3995  False            0  0.179932  0.211792     0  0.031860  0.195801  \n",
       "3996   True            0  0.032562  0.037292     0  0.004730  0.034912  \n",
       "3997  False            1  0.940430  0.942383     1  0.001953  0.941406  \n",
       "3998   True            1  0.963379  0.941895     1 -0.021484  0.952637  \n",
       "3999  False            1  0.998535  0.997070     1 -0.001465  0.998047  \n",
       "\n",
       "[4000 rows x 9 columns]"
      ]
     },
     "execution_count": 6,
     "metadata": {},
     "output_type": "execute_result"
    }
   ],
   "source": [
    "hss1 = dm.hs1\n",
    "hss2 = dm.hs2\n",
    "ans_1 = dm.ans1\n",
    "ans_2 = dm.ans2\n",
    "df_infos = dm.df_infos\n",
    "df_infos"
   ]
  },
  {
   "cell_type": "code",
   "execution_count": 7,
   "metadata": {},
   "outputs": [
    {
     "name": "stdout",
     "output_type": "stream",
     "text": [
      "model acc on sentiment task\n",
      "acc 0.88\n",
      "acc when lie=True 0.87\n",
      "acc when lie=False 0.89\n"
     ]
    }
   ],
   "source": []
  },
  {
   "attachments": {},
   "cell_type": "markdown",
   "metadata": {},
   "source": [
    "# Data prep\n",
    "\n",
    "We do two inferences on the same inputs. Since we have dropout enabled, even during inference, we get two slightly different hidden states `hs1` and `hs2`, and two slightly different probabilities for our yes and no output tokens `p1` `p2`. We also have the true answer `t`\n",
    "\n",
    "So there are a few ways we can set up the problem. \n",
    "\n",
    "We can vary x:\n",
    "- `model(hs1)-model(hs2)=y`\n",
    "- `model(hs1-hs2)==y`\n",
    "\n",
    "And we can try differen't y's:\n",
    "- direction with a ranked loss. This could be unsupervised.\n",
    "- magnitude with a regression loss\n",
    "- vector (direction and magnitude) with a regression loss"
   ]
  },
  {
   "attachments": {},
   "cell_type": "markdown",
   "metadata": {},
   "source": [
    "# QC: Linear supervised probes\n",
    "\n",
    "\n",
    "Let's verify that the model's representations are good\n",
    "\n",
    "Before trying CCS, let's make sure there exists a direction that classifies examples as true vs false with high accuracy; if supervised logistic regression accuracy is bad, there's no hope of unsupervised CCS doing well.\n",
    "\n",
    "Note that because logistic regression is supervised we expect it to do better but to have worse generalisation that equivilent unsupervised methods. However in this case CSS is using a deeper model so it is more complicated.\n"
   ]
  },
  {
   "attachments": {},
   "cell_type": "markdown",
   "metadata": {},
   "source": [
    "## Try a classification of direction to truth"
   ]
  },
  {
   "cell_type": "code",
   "execution_count": 8,
   "metadata": {},
   "outputs": [
    {
     "name": "stdout",
     "output_type": "stream",
     "text": [
      "split size 2000\n"
     ]
    },
    {
     "data": {
      "text/html": [
       "<style>#sk-container-id-1 {color: black;background-color: white;}#sk-container-id-1 pre{padding: 0;}#sk-container-id-1 div.sk-toggleable {background-color: white;}#sk-container-id-1 label.sk-toggleable__label {cursor: pointer;display: block;width: 100%;margin-bottom: 0;padding: 0.3em;box-sizing: border-box;text-align: center;}#sk-container-id-1 label.sk-toggleable__label-arrow:before {content: \"▸\";float: left;margin-right: 0.25em;color: #696969;}#sk-container-id-1 label.sk-toggleable__label-arrow:hover:before {color: black;}#sk-container-id-1 div.sk-estimator:hover label.sk-toggleable__label-arrow:before {color: black;}#sk-container-id-1 div.sk-toggleable__content {max-height: 0;max-width: 0;overflow: hidden;text-align: left;background-color: #f0f8ff;}#sk-container-id-1 div.sk-toggleable__content pre {margin: 0.2em;color: black;border-radius: 0.25em;background-color: #f0f8ff;}#sk-container-id-1 input.sk-toggleable__control:checked~div.sk-toggleable__content {max-height: 200px;max-width: 100%;overflow: auto;}#sk-container-id-1 input.sk-toggleable__control:checked~label.sk-toggleable__label-arrow:before {content: \"▾\";}#sk-container-id-1 div.sk-estimator input.sk-toggleable__control:checked~label.sk-toggleable__label {background-color: #d4ebff;}#sk-container-id-1 div.sk-label input.sk-toggleable__control:checked~label.sk-toggleable__label {background-color: #d4ebff;}#sk-container-id-1 input.sk-hidden--visually {border: 0;clip: rect(1px 1px 1px 1px);clip: rect(1px, 1px, 1px, 1px);height: 1px;margin: -1px;overflow: hidden;padding: 0;position: absolute;width: 1px;}#sk-container-id-1 div.sk-estimator {font-family: monospace;background-color: #f0f8ff;border: 1px dotted black;border-radius: 0.25em;box-sizing: border-box;margin-bottom: 0.5em;}#sk-container-id-1 div.sk-estimator:hover {background-color: #d4ebff;}#sk-container-id-1 div.sk-parallel-item::after {content: \"\";width: 100%;border-bottom: 1px solid gray;flex-grow: 1;}#sk-container-id-1 div.sk-label:hover label.sk-toggleable__label {background-color: #d4ebff;}#sk-container-id-1 div.sk-serial::before {content: \"\";position: absolute;border-left: 1px solid gray;box-sizing: border-box;top: 0;bottom: 0;left: 50%;z-index: 0;}#sk-container-id-1 div.sk-serial {display: flex;flex-direction: column;align-items: center;background-color: white;padding-right: 0.2em;padding-left: 0.2em;position: relative;}#sk-container-id-1 div.sk-item {position: relative;z-index: 1;}#sk-container-id-1 div.sk-parallel {display: flex;align-items: stretch;justify-content: center;background-color: white;position: relative;}#sk-container-id-1 div.sk-item::before, #sk-container-id-1 div.sk-parallel-item::before {content: \"\";position: absolute;border-left: 1px solid gray;box-sizing: border-box;top: 0;bottom: 0;left: 50%;z-index: -1;}#sk-container-id-1 div.sk-parallel-item {display: flex;flex-direction: column;z-index: 1;position: relative;background-color: white;}#sk-container-id-1 div.sk-parallel-item:first-child::after {align-self: flex-end;width: 50%;}#sk-container-id-1 div.sk-parallel-item:last-child::after {align-self: flex-start;width: 50%;}#sk-container-id-1 div.sk-parallel-item:only-child::after {width: 0;}#sk-container-id-1 div.sk-dashed-wrapped {border: 1px dashed gray;margin: 0 0.4em 0.5em 0.4em;box-sizing: border-box;padding-bottom: 0.4em;background-color: white;}#sk-container-id-1 div.sk-label label {font-family: monospace;font-weight: bold;display: inline-block;line-height: 1.2em;}#sk-container-id-1 div.sk-label-container {text-align: center;}#sk-container-id-1 div.sk-container {/* jupyter's `normalize.less` sets `[hidden] { display: none; }` but bootstrap.min.css set `[hidden] { display: none !important; }` so we also need the `!important` here to be able to override the default hidden behavior on the sphinx rendered scikit-learn.org. See: https://github.com/scikit-learn/scikit-learn/issues/21755 */display: inline-block !important;position: relative;}#sk-container-id-1 div.sk-text-repr-fallback {display: none;}</style><div id=\"sk-container-id-1\" class=\"sk-top-container\"><div class=\"sk-text-repr-fallback\"><pre>LogisticRegression(class_weight=&#x27;balanced&#x27;, max_iter=380)</pre><b>In a Jupyter environment, please rerun this cell to show the HTML representation or trust the notebook. <br />On GitHub, the HTML representation is unable to render, please try loading this page with nbviewer.org.</b></div><div class=\"sk-container\" hidden><div class=\"sk-item\"><div class=\"sk-estimator sk-toggleable\"><input class=\"sk-toggleable__control sk-hidden--visually\" id=\"sk-estimator-id-1\" type=\"checkbox\" checked><label for=\"sk-estimator-id-1\" class=\"sk-toggleable__label sk-toggleable__label-arrow\">LogisticRegression</label><div class=\"sk-toggleable__content\"><pre>LogisticRegression(class_weight=&#x27;balanced&#x27;, max_iter=380)</pre></div></div></div></div></div>"
      ],
      "text/plain": [
       "LogisticRegression(class_weight='balanced', max_iter=380)"
      ]
     },
     "execution_count": 8,
     "metadata": {},
     "output_type": "execute_result"
    }
   ],
   "source": [
    "\n",
    "n = len(df_infos)\n",
    "\n",
    "# Define X and y\n",
    "X = hss1-hss2\n",
    "\n",
    "y = y_dir = df_infos['true_answer'] == (df_infos['dir_true']>0) # direction\n",
    "\n",
    "# split\n",
    "n = len(y)\n",
    "print('split size', n//2)\n",
    "X_train, X_test = X[:n//2], X[n//2:]\n",
    "y_train, y_test = y[:n//2], y[n//2:]\n",
    "\n",
    "# scale\n",
    "scaler = RobustScaler()\n",
    "scaler.fit(X_train)\n",
    "X_train2 = scaler.transform(X_train)\n",
    "X_test2 = scaler.transform(X_test)\n",
    "\n",
    "lr = LogisticRegression(class_weight=\"balanced\", penalty=\"l2\", max_iter=380)\n",
    "lr.fit(X_train2, y_train>0)"
   ]
  },
  {
   "cell_type": "code",
   "execution_count": 9,
   "metadata": {},
   "outputs": [
    {
     "name": "stdout",
     "output_type": "stream",
     "text": [
      "Logistic cls acc: 100.00% [TRAIN]\n",
      "Logistic cls acc: 65.10% [TEST]\n",
      "test acc w lie 65.70%\n",
      "test acc wo lie 64.50%\n"
     ]
    }
   ],
   "source": [
    "print(\"Logistic cls acc: {:2.2%} [TRAIN]\".format(lr.score(X_train2, y_train>0)))\n",
    "print(\"Logistic cls acc: {:2.2%} [TEST]\".format(lr.score(X_test2, y_test>0)))\n",
    "\n",
    "m = df_infos['lie'][n//2:]\n",
    "y_test_pred = lr.predict(X_test2)\n",
    "acc_w_lie = ((y_test_pred[m]>0)==(y_test[m]>0)).mean()\n",
    "acc_wo_lie = ((y_test_pred[~m]>0)==(y_test[~m]>0)).mean()\n",
    "print(f'test acc w lie {acc_w_lie:2.2%}')\n",
    "print(f'test acc wo lie {acc_wo_lie:2.2%}')"
   ]
  },
  {
   "cell_type": "code",
   "execution_count": 10,
   "metadata": {},
   "outputs": [
    {
     "data": {
      "text/html": [
       "<div>\n",
       "<style scoped>\n",
       "    .dataframe tbody tr th:only-of-type {\n",
       "        vertical-align: middle;\n",
       "    }\n",
       "\n",
       "    .dataframe tbody tr th {\n",
       "        vertical-align: top;\n",
       "    }\n",
       "\n",
       "    .dataframe thead th {\n",
       "        text-align: right;\n",
       "    }\n",
       "</style>\n",
       "<table border=\"1\" class=\"dataframe\">\n",
       "  <thead>\n",
       "    <tr style=\"text-align: right;\">\n",
       "      <th></th>\n",
       "      <th>desired_answer</th>\n",
       "      <th>input</th>\n",
       "      <th>lie</th>\n",
       "      <th>true_answer</th>\n",
       "      <th>ans1</th>\n",
       "      <th>ans2</th>\n",
       "      <th>true</th>\n",
       "      <th>dir_true</th>\n",
       "      <th>ans</th>\n",
       "      <th>inner_truth</th>\n",
       "    </tr>\n",
       "  </thead>\n",
       "  <tbody>\n",
       "    <tr>\n",
       "      <th>2000</th>\n",
       "      <td>True</td>\n",
       "      <td>Candy is simply a tame attempt to stay relevan...</td>\n",
       "      <td>True</td>\n",
       "      <td>0</td>\n",
       "      <td>0.487793</td>\n",
       "      <td>0.701660</td>\n",
       "      <td>0</td>\n",
       "      <td>0.213867</td>\n",
       "      <td>0.594727</td>\n",
       "      <td>False</td>\n",
       "    </tr>\n",
       "    <tr>\n",
       "      <th>2001</th>\n",
       "      <td>False</td>\n",
       "      <td>I'm going to start saying that i'm reviewing a...</td>\n",
       "      <td>False</td>\n",
       "      <td>0</td>\n",
       "      <td>0.395508</td>\n",
       "      <td>0.429688</td>\n",
       "      <td>0</td>\n",
       "      <td>0.034180</td>\n",
       "      <td>0.412598</td>\n",
       "      <td>True</td>\n",
       "    </tr>\n",
       "    <tr>\n",
       "      <th>2002</th>\n",
       "      <td>True</td>\n",
       "      <td>I am embarrased to admit that I own this book....</td>\n",
       "      <td>True</td>\n",
       "      <td>0</td>\n",
       "      <td>0.742188</td>\n",
       "      <td>0.460449</td>\n",
       "      <td>0</td>\n",
       "      <td>-0.281738</td>\n",
       "      <td>0.601562</td>\n",
       "      <td>True</td>\n",
       "    </tr>\n",
       "    <tr>\n",
       "      <th>2003</th>\n",
       "      <td>True</td>\n",
       "      <td>If you read \"Full Catastrophe Living\" as I did...</td>\n",
       "      <td>False</td>\n",
       "      <td>1</td>\n",
       "      <td>0.965820</td>\n",
       "      <td>0.985840</td>\n",
       "      <td>1</td>\n",
       "      <td>0.020020</td>\n",
       "      <td>0.975586</td>\n",
       "      <td>True</td>\n",
       "    </tr>\n",
       "    <tr>\n",
       "      <th>2004</th>\n",
       "      <td>True</td>\n",
       "      <td>My daughter was so excited for this costume. I...</td>\n",
       "      <td>True</td>\n",
       "      <td>0</td>\n",
       "      <td>0.425781</td>\n",
       "      <td>0.153931</td>\n",
       "      <td>0</td>\n",
       "      <td>-0.271973</td>\n",
       "      <td>0.289795</td>\n",
       "      <td>True</td>\n",
       "    </tr>\n",
       "    <tr>\n",
       "      <th>...</th>\n",
       "      <td>...</td>\n",
       "      <td>...</td>\n",
       "      <td>...</td>\n",
       "      <td>...</td>\n",
       "      <td>...</td>\n",
       "      <td>...</td>\n",
       "      <td>...</td>\n",
       "      <td>...</td>\n",
       "      <td>...</td>\n",
       "      <td>...</td>\n",
       "    </tr>\n",
       "    <tr>\n",
       "      <th>3995</th>\n",
       "      <td>False</td>\n",
       "      <td>As others have said, the instructions were not...</td>\n",
       "      <td>False</td>\n",
       "      <td>0</td>\n",
       "      <td>0.179932</td>\n",
       "      <td>0.211792</td>\n",
       "      <td>0</td>\n",
       "      <td>0.031860</td>\n",
       "      <td>0.195801</td>\n",
       "      <td>True</td>\n",
       "    </tr>\n",
       "    <tr>\n",
       "      <th>3996</th>\n",
       "      <td>True</td>\n",
       "      <td>This book has great potential but it doesn't l...</td>\n",
       "      <td>True</td>\n",
       "      <td>0</td>\n",
       "      <td>0.032562</td>\n",
       "      <td>0.037292</td>\n",
       "      <td>0</td>\n",
       "      <td>0.004730</td>\n",
       "      <td>0.034912</td>\n",
       "      <td>False</td>\n",
       "    </tr>\n",
       "    <tr>\n",
       "      <th>3997</th>\n",
       "      <td>True</td>\n",
       "      <td>I was intending to use beta sitosterol for hai...</td>\n",
       "      <td>False</td>\n",
       "      <td>1</td>\n",
       "      <td>0.940430</td>\n",
       "      <td>0.942383</td>\n",
       "      <td>1</td>\n",
       "      <td>0.001953</td>\n",
       "      <td>0.941406</td>\n",
       "      <td>True</td>\n",
       "    </tr>\n",
       "    <tr>\n",
       "      <th>3998</th>\n",
       "      <td>False</td>\n",
       "      <td>This is really compact and comes with 3 bags t...</td>\n",
       "      <td>True</td>\n",
       "      <td>1</td>\n",
       "      <td>0.963379</td>\n",
       "      <td>0.941895</td>\n",
       "      <td>1</td>\n",
       "      <td>-0.021484</td>\n",
       "      <td>0.952637</td>\n",
       "      <td>False</td>\n",
       "    </tr>\n",
       "    <tr>\n",
       "      <th>3999</th>\n",
       "      <td>True</td>\n",
       "      <td>I bought the paperback because it sounded inte...</td>\n",
       "      <td>False</td>\n",
       "      <td>1</td>\n",
       "      <td>0.998535</td>\n",
       "      <td>0.997070</td>\n",
       "      <td>1</td>\n",
       "      <td>-0.001465</td>\n",
       "      <td>0.998047</td>\n",
       "      <td>False</td>\n",
       "    </tr>\n",
       "  </tbody>\n",
       "</table>\n",
       "<p>2000 rows × 10 columns</p>\n",
       "</div>"
      ],
      "text/plain": [
       "      desired_answer                                              input   \n",
       "2000            True  Candy is simply a tame attempt to stay relevan...  \\\n",
       "2001           False  I'm going to start saying that i'm reviewing a...   \n",
       "2002            True  I am embarrased to admit that I own this book....   \n",
       "2003            True  If you read \"Full Catastrophe Living\" as I did...   \n",
       "2004            True  My daughter was so excited for this costume. I...   \n",
       "...              ...                                                ...   \n",
       "3995           False  As others have said, the instructions were not...   \n",
       "3996            True  This book has great potential but it doesn't l...   \n",
       "3997            True  I was intending to use beta sitosterol for hai...   \n",
       "3998           False  This is really compact and comes with 3 bags t...   \n",
       "3999            True  I bought the paperback because it sounded inte...   \n",
       "\n",
       "        lie  true_answer      ans1      ans2  true  dir_true       ans   \n",
       "2000   True            0  0.487793  0.701660     0  0.213867  0.594727  \\\n",
       "2001  False            0  0.395508  0.429688     0  0.034180  0.412598   \n",
       "2002   True            0  0.742188  0.460449     0 -0.281738  0.601562   \n",
       "2003  False            1  0.965820  0.985840     1  0.020020  0.975586   \n",
       "2004   True            0  0.425781  0.153931     0 -0.271973  0.289795   \n",
       "...     ...          ...       ...       ...   ...       ...       ...   \n",
       "3995  False            0  0.179932  0.211792     0  0.031860  0.195801   \n",
       "3996   True            0  0.032562  0.037292     0  0.004730  0.034912   \n",
       "3997  False            1  0.940430  0.942383     1  0.001953  0.941406   \n",
       "3998   True            1  0.963379  0.941895     1 -0.021484  0.952637   \n",
       "3999  False            1  0.998535  0.997070     1 -0.001465  0.998047   \n",
       "\n",
       "      inner_truth  \n",
       "2000        False  \n",
       "2001         True  \n",
       "2002         True  \n",
       "2003         True  \n",
       "2004         True  \n",
       "...           ...  \n",
       "3995         True  \n",
       "3996        False  \n",
       "3997         True  \n",
       "3998        False  \n",
       "3999        False  \n",
       "\n",
       "[2000 rows x 10 columns]"
      ]
     },
     "execution_count": 10,
     "metadata": {},
     "output_type": "execute_result"
    }
   ],
   "source": [
    "df_info_test = df_infos.iloc[n//2:].copy()\n",
    "y_pred = lr.predict(X_test2)\n",
    "df_info_test['inner_truth'] = y_pred\n",
    "df_info_test"
   ]
  },
  {
   "cell_type": "code",
   "execution_count": null,
   "metadata": {},
   "outputs": [],
   "source": []
  },
  {
   "attachments": {},
   "cell_type": "markdown",
   "metadata": {},
   "source": [
    "### Result, detecting deception?"
   ]
  },
  {
   "cell_type": "code",
   "execution_count": 12,
   "metadata": {},
   "outputs": [
    {
     "name": "stdout",
     "output_type": "stream",
     "text": [
      "model can detect lies with acc 52.00%\n",
      "w lies 1000/2000 test rows\n"
     ]
    }
   ],
   "source": [
    "lie_pred = df_info_test['inner_truth']==df_info_test['true_answer']\n",
    "lie_true = df_info_test['lie']\n",
    "acc_lie = accuracy_score(lie_pred, lie_true)\n",
    "print(f\"model can detect lies with acc {acc_lie:2.2%}\")\n",
    "print(f\"w lies {sum(lie_true)}/{len(lie_true)} test rows\")"
   ]
  },
  {
   "attachments": {},
   "cell_type": "markdown",
   "metadata": {},
   "source": [
    "## Try a regression of the vector (magnitude and direction) vs truth"
   ]
  },
  {
   "cell_type": "code",
   "execution_count": 13,
   "metadata": {},
   "outputs": [],
   "source": [
    "bool_to_switch = lambda b:b*2-1\n",
    "true_answer_switch = bool_to_switch(df_infos['true_answer'])\n",
    "y = y_left_more_true = df_infos['dir_true'] * true_answer_switch\n"
   ]
  },
  {
   "cell_type": "code",
   "execution_count": 14,
   "metadata": {},
   "outputs": [
    {
     "name": "stdout",
     "output_type": "stream",
     "text": [
      "split size 2000\n"
     ]
    },
    {
     "data": {
      "text/html": [
       "<style>#sk-container-id-2 {color: black;background-color: white;}#sk-container-id-2 pre{padding: 0;}#sk-container-id-2 div.sk-toggleable {background-color: white;}#sk-container-id-2 label.sk-toggleable__label {cursor: pointer;display: block;width: 100%;margin-bottom: 0;padding: 0.3em;box-sizing: border-box;text-align: center;}#sk-container-id-2 label.sk-toggleable__label-arrow:before {content: \"▸\";float: left;margin-right: 0.25em;color: #696969;}#sk-container-id-2 label.sk-toggleable__label-arrow:hover:before {color: black;}#sk-container-id-2 div.sk-estimator:hover label.sk-toggleable__label-arrow:before {color: black;}#sk-container-id-2 div.sk-toggleable__content {max-height: 0;max-width: 0;overflow: hidden;text-align: left;background-color: #f0f8ff;}#sk-container-id-2 div.sk-toggleable__content pre {margin: 0.2em;color: black;border-radius: 0.25em;background-color: #f0f8ff;}#sk-container-id-2 input.sk-toggleable__control:checked~div.sk-toggleable__content {max-height: 200px;max-width: 100%;overflow: auto;}#sk-container-id-2 input.sk-toggleable__control:checked~label.sk-toggleable__label-arrow:before {content: \"▾\";}#sk-container-id-2 div.sk-estimator input.sk-toggleable__control:checked~label.sk-toggleable__label {background-color: #d4ebff;}#sk-container-id-2 div.sk-label input.sk-toggleable__control:checked~label.sk-toggleable__label {background-color: #d4ebff;}#sk-container-id-2 input.sk-hidden--visually {border: 0;clip: rect(1px 1px 1px 1px);clip: rect(1px, 1px, 1px, 1px);height: 1px;margin: -1px;overflow: hidden;padding: 0;position: absolute;width: 1px;}#sk-container-id-2 div.sk-estimator {font-family: monospace;background-color: #f0f8ff;border: 1px dotted black;border-radius: 0.25em;box-sizing: border-box;margin-bottom: 0.5em;}#sk-container-id-2 div.sk-estimator:hover {background-color: #d4ebff;}#sk-container-id-2 div.sk-parallel-item::after {content: \"\";width: 100%;border-bottom: 1px solid gray;flex-grow: 1;}#sk-container-id-2 div.sk-label:hover label.sk-toggleable__label {background-color: #d4ebff;}#sk-container-id-2 div.sk-serial::before {content: \"\";position: absolute;border-left: 1px solid gray;box-sizing: border-box;top: 0;bottom: 0;left: 50%;z-index: 0;}#sk-container-id-2 div.sk-serial {display: flex;flex-direction: column;align-items: center;background-color: white;padding-right: 0.2em;padding-left: 0.2em;position: relative;}#sk-container-id-2 div.sk-item {position: relative;z-index: 1;}#sk-container-id-2 div.sk-parallel {display: flex;align-items: stretch;justify-content: center;background-color: white;position: relative;}#sk-container-id-2 div.sk-item::before, #sk-container-id-2 div.sk-parallel-item::before {content: \"\";position: absolute;border-left: 1px solid gray;box-sizing: border-box;top: 0;bottom: 0;left: 50%;z-index: -1;}#sk-container-id-2 div.sk-parallel-item {display: flex;flex-direction: column;z-index: 1;position: relative;background-color: white;}#sk-container-id-2 div.sk-parallel-item:first-child::after {align-self: flex-end;width: 50%;}#sk-container-id-2 div.sk-parallel-item:last-child::after {align-self: flex-start;width: 50%;}#sk-container-id-2 div.sk-parallel-item:only-child::after {width: 0;}#sk-container-id-2 div.sk-dashed-wrapped {border: 1px dashed gray;margin: 0 0.4em 0.5em 0.4em;box-sizing: border-box;padding-bottom: 0.4em;background-color: white;}#sk-container-id-2 div.sk-label label {font-family: monospace;font-weight: bold;display: inline-block;line-height: 1.2em;}#sk-container-id-2 div.sk-label-container {text-align: center;}#sk-container-id-2 div.sk-container {/* jupyter's `normalize.less` sets `[hidden] { display: none; }` but bootstrap.min.css set `[hidden] { display: none !important; }` so we also need the `!important` here to be able to override the default hidden behavior on the sphinx rendered scikit-learn.org. See: https://github.com/scikit-learn/scikit-learn/issues/21755 */display: inline-block !important;position: relative;}#sk-container-id-2 div.sk-text-repr-fallback {display: none;}</style><div id=\"sk-container-id-2\" class=\"sk-top-container\"><div class=\"sk-text-repr-fallback\"><pre>ElasticNet()</pre><b>In a Jupyter environment, please rerun this cell to show the HTML representation or trust the notebook. <br />On GitHub, the HTML representation is unable to render, please try loading this page with nbviewer.org.</b></div><div class=\"sk-container\" hidden><div class=\"sk-item\"><div class=\"sk-estimator sk-toggleable\"><input class=\"sk-toggleable__control sk-hidden--visually\" id=\"sk-estimator-id-2\" type=\"checkbox\" checked><label for=\"sk-estimator-id-2\" class=\"sk-toggleable__label sk-toggleable__label-arrow\">ElasticNet</label><div class=\"sk-toggleable__content\"><pre>ElasticNet()</pre></div></div></div></div></div>"
      ],
      "text/plain": [
       "ElasticNet()"
      ]
     },
     "execution_count": 14,
     "metadata": {},
     "output_type": "execute_result"
    }
   ],
   "source": [
    "# Try a regression\n",
    "from sklearn.linear_model import ElasticNet\n",
    "\n",
    "# Try a classification of direction\n",
    "n = len(df_infos)\n",
    "\n",
    "# Define X and y\n",
    "X = hss1-hss2\n",
    "y = y_left_more_true * 10\n",
    "\n",
    "# split\n",
    "# y = df_infos2['dir2'] * 100\n",
    "n = len(y)\n",
    "print('split size', n//2)\n",
    "X_train, X_test = X[:n//2], X[n//2:]\n",
    "y_train, y_test = y[:n//2], y[n//2:]\n",
    "\n",
    "# scale\n",
    "scaler = RobustScaler()\n",
    "scaler.fit(X_train)\n",
    "X_train2 = scaler.transform(X_train)\n",
    "X_test2 = scaler.transform(X_test)\n",
    "\n",
    "X_train2 = X_train\n",
    "X_test2 = X_test2\n",
    "\n",
    "lr2 = ElasticNet(max_iter=1000,)\n",
    "lr2.fit(X_train2, y_train)"
   ]
  },
  {
   "cell_type": "code",
   "execution_count": 15,
   "metadata": {},
   "outputs": [
    {
     "name": "stdout",
     "output_type": "stream",
     "text": [
      "acc from train ElasticNet 0.59\n",
      "acc from test ElasticNet 0.58\n"
     ]
    }
   ],
   "source": [
    "eps = 0.\n",
    "acc=np.mean((lr2.predict(X_train2)>eps)==(y_train>eps))\n",
    "print(f'acc from train ElasticNet {acc:2.2f}')\n",
    "acc=np.mean((lr2.predict(X_test2)>eps)==(y_test>eps))\n",
    "print(f'acc from test ElasticNet {acc:2.2f}')"
   ]
  },
  {
   "cell_type": "code",
   "execution_count": 16,
   "metadata": {},
   "outputs": [
    {
     "data": {
      "text/plain": [
       "Text(0.5, 1.0, 'pred vs true on test')"
      ]
     },
     "execution_count": 16,
     "metadata": {},
     "output_type": "execute_result"
    },
    {
     "data": {
      "image/png": "[encoded data removed]",
      "text/plain": [
       "<Figure size 640x480 with 1 Axes>"
      ]
     },
     "metadata": {},
     "output_type": "display_data"
    }
   ],
   "source": [
    "y_test_pred = lr2.predict(X_test)\n",
    "plt.scatter(y_test, y_test_pred)\n",
    "plt.xlabel('true')\n",
    "plt.ylabel('pred')\n",
    "plt.title('pred vs true on test')"
   ]
  },
  {
   "cell_type": "code",
   "execution_count": null,
   "metadata": {},
   "outputs": [],
   "source": []
  },
  {
   "attachments": {},
   "cell_type": "markdown",
   "metadata": {},
   "source": [
    "# LightningModel"
   ]
  },
  {
   "cell_type": "code",
   "execution_count": null,
   "metadata": {},
   "outputs": [],
   "source": []
  },
  {
   "cell_type": "code",
   "execution_count": 17,
   "metadata": {},
   "outputs": [],
   "source": [
    "class MLPProbe(nn.Module):\n",
    "    def __init__(self, d, depth=0, hs=16, dropout=0):\n",
    "        super().__init__()\n",
    "\n",
    "        layers = [\n",
    "            nn.BatchNorm1d(d),  # this will normalise the inputs\n",
    "            nn.Linear(d, hs),\n",
    "            nn.Dropout1d(dropout),\n",
    "        ]\n",
    "        for _ in range(depth):\n",
    "            layers += [\n",
    "                nn.Linear(hs, hs),\n",
    "                nn.ReLU(),\n",
    "                nn.Dropout1d(dropout),\n",
    "            ]\n",
    "        layers += [nn.Linear(hs, 2)]\n",
    "        self.net = nn.Sequential(*layers)\n",
    "\n",
    "    def forward(self, x):\n",
    "        return self.net(x)\n"
   ]
  },
  {
   "cell_type": "code",
   "execution_count": 18,
   "metadata": {},
   "outputs": [],
   "source": [
    "# logit0 = (torch.rand(5, 4)-0.5)*100\n",
    "# logit1 = (torch.rand(5, 4)-0.5)*100\n",
    "# ccs_squared_loss(logit0, logit1)"
   ]
  },
  {
   "cell_type": "code",
   "execution_count": 19,
   "metadata": {},
   "outputs": [],
   "source": [
    "from pytorch_optimizer import Ranger21\n",
    "import torchmetrics\n",
    "\n",
    "    \n",
    "class CSS(pl.LightningModule):\n",
    "    def __init__(self, d, total_steps, lr=4e-3, weight_decay=1e-9, dropout=0):\n",
    "        super().__init__()\n",
    "        self.probe = MLPProbe(d*2, depth=1, dropout=dropout)\n",
    "        self.save_hyperparameters()\n",
    "        self.auroc = torchmetrics.Accuracy(task=\"multiclass\", num_classes=2)\n",
    "        \n",
    "    def forward(self, x):\n",
    "        return self.probe(x)\n",
    "        \n",
    "    def _step(self, batch, batch_idx, stage='train'):\n",
    "        x0, x1, y = batch\n",
    "        x = torch.concatenate([x0, x1], 1)\n",
    "        logits = self(x)\n",
    "        y_pred = F.softmax(logits, -1)\n",
    "        if stage=='pred':\n",
    "            return y_pred\n",
    "        \n",
    "        loss = F.cross_entropy(logits, y.long())\n",
    "        self.log(f\"{stage}/loss\", loss)\n",
    "        \n",
    "        self.auroc(y_pred, y.long())\n",
    "        self.log(f\"{stage}/acc_step\", self.auroc, on_step=False, on_epoch=True)\n",
    "        return loss\n",
    "    \n",
    "    def on_train_epoch_end(self):\n",
    "        # log epoch metric\n",
    "        self.log('train/acc_epoch', self.auroc)\n",
    "    \n",
    "    def training_step(self, batch, batch_idx):\n",
    "        return self._step(batch, batch_idx)\n",
    "    \n",
    "    def validation_step(self, batch, batch_idx=0):\n",
    "        return self._step(batch, batch_idx, stage='val')\n",
    "    \n",
    "    def predict_step(self, batch, batch_idx):\n",
    "        return self._step(batch, batch_idx, stage='pred')\n",
    "\n",
    "    # def configure_optimizers(self):\n",
    "    #     optimizer = optim.AdamW(self.parameters(), lr=self.hparams.lr, weight_decay=self.hparams.weight_decay)\n",
    "    #     lr_scheduler = optim.lr_scheduler.OneCycleLR(\n",
    "    #         optimizer, self.hparams.lr, total_steps=self.hparams.total_steps\n",
    "    #     )\n",
    "        # return [optimizer], [lr_scheduler]\n",
    "    \n",
    "    def configure_optimizers(self):\n",
    "        \"\"\"use ranger21 from  https://github.com/kozistr/pytorch_optimizer\"\"\"\n",
    "        optimizer = Ranger21(\n",
    "            self.parameters(),\n",
    "            lr=self.hparams.lr,\n",
    "            weight_decay=self.hparams.weight_decay,       \n",
    "            num_iterations=self.hparams.total_steps,\n",
    "        )\n",
    "        return optimizer\n",
    "    "
   ]
  },
  {
   "attachments": {},
   "cell_type": "markdown",
   "metadata": {},
   "source": [
    "# Run"
   ]
  },
  {
   "cell_type": "code",
   "execution_count": 20,
   "metadata": {},
   "outputs": [],
   "source": [
    "# quiet please\n",
    "torch.set_float32_matmul_precision('medium')\n",
    "\n",
    "import warnings\n",
    "warnings.filterwarnings(\"ignore\", \".*does not have many workers.*\")\n",
    "warnings.filterwarnings(\"ignore\", \".*F-score.*\")"
   ]
  },
  {
   "attachments": {},
   "cell_type": "markdown",
   "metadata": {},
   "source": [
    "## Prep dataloader/set"
   ]
  },
  {
   "cell_type": "code",
   "execution_count": 38,
   "metadata": {},
   "outputs": [
    {
     "name": "stdout",
     "output_type": "stream",
     "text": [
      "split size 2000\n"
     ]
    }
   ],
   "source": [
    "# split\n",
    "X = hss1-hss2\n",
    "y = (df_infos['true_answer'] == (df_infos['dir_true']>0)).values # direction\n",
    "n = len(y)\n",
    "print('split size', n//2)\n",
    "\n",
    "neg_hs_train = hss1[:n//2]\n",
    "pos_hs_train = hss2[:n//2]\n",
    "\n",
    "neg_hs_val = hss1[n//2:]\n",
    "pos_hs_val = hss2[n//2:]\n",
    "\n",
    "y_train, y_val = y[:n//2], y[n//2:]"
   ]
  },
  {
   "cell_type": "code",
   "execution_count": 39,
   "metadata": {},
   "outputs": [],
   "source": [
    "dl_train = dm.train_dataloader()\n",
    "dl_val = dm.val_dataloader()\n",
    "b = next(iter(dl_train))\n",
    "# b"
   ]
  },
  {
   "cell_type": "code",
   "execution_count": 40,
   "metadata": {},
   "outputs": [
    {
     "name": "stdout",
     "output_type": "stream",
     "text": [
      "torch.Size([32, 116736])\n"
     ]
    },
    {
     "data": {
      "text/plain": [
       "CSS(\n",
       "  (probe): MLPProbe(\n",
       "    (net): Sequential(\n",
       "      (0): BatchNorm1d(233472, eps=1e-05, momentum=0.1, affine=True, track_running_stats=True)\n",
       "      (1): Linear(in_features=233472, out_features=16, bias=True)\n",
       "      (2): Dropout1d(p=0.3, inplace=False)\n",
       "      (3): Linear(in_features=16, out_features=16, bias=True)\n",
       "      (4): ReLU()\n",
       "      (5): Dropout1d(p=0.3, inplace=False)\n",
       "      (6): Linear(in_features=16, out_features=2, bias=True)\n",
       "    )\n",
       "  )\n",
       "  (auroc): MulticlassAccuracy()\n",
       ")"
      ]
     },
     "execution_count": 40,
     "metadata": {},
     "output_type": "execute_result"
    }
   ],
   "source": [
    "# init the model\n",
    "max_epochs = 53\n",
    "d = b[0].shape[-1]\n",
    "print(b[0].shape)\n",
    "net = CSS(d=d, total_steps=max_epochs*len(dl_train), lr=4e-3, weight_decay=1e-3, dropout=0.3)\n",
    "net"
   ]
  },
  {
   "cell_type": "code",
   "execution_count": 41,
   "metadata": {},
   "outputs": [
    {
     "data": {
      "text/plain": [
       "tensor([[ 0.6544,  0.1205],\n",
       "        [ 0.0727, -0.1765],\n",
       "        [ 0.1716, -0.1673],\n",
       "        [ 0.2681, -0.3760],\n",
       "        [ 0.1716, -0.1673],\n",
       "        [ 0.2327, -0.1214],\n",
       "        [ 0.0727, -0.1765],\n",
       "        [ 0.0727, -0.1765],\n",
       "        [ 0.0727, -0.1765],\n",
       "        [ 0.3563, -0.2779],\n",
       "        [ 0.1716, -0.1673],\n",
       "        [ 0.0727, -0.1765],\n",
       "        [ 0.0362, -0.3671],\n",
       "        [ 0.1716, -0.1673],\n",
       "        [ 0.1716, -0.1673],\n",
       "        [ 0.1818, -0.1276],\n",
       "        [ 0.0727, -0.1765],\n",
       "        [ 0.3808, -0.2514],\n",
       "        [ 0.1716, -0.1673],\n",
       "        [ 0.2961,  0.0255],\n",
       "        [ 0.1056,  0.0447],\n",
       "        [ 0.3894, -0.2602],\n",
       "        [ 0.8339,  0.1820],\n",
       "        [ 0.1716, -0.1673],\n",
       "        [ 0.1716, -0.1673],\n",
       "        [ 0.6534,  0.0031],\n",
       "        [ 0.0727, -0.1765],\n",
       "        [ 0.2933, -0.1122],\n",
       "        [ 0.0727, -0.1765],\n",
       "        [ 0.2066, -0.2047],\n",
       "        [ 0.3394, -0.3836],\n",
       "        [ 0.2178,  0.0067]])"
      ]
     },
     "execution_count": 41,
     "metadata": {},
     "output_type": "execute_result"
    }
   ],
   "source": [
    "with torch.no_grad():\n",
    "    b = next(iter(dl_train))\n",
    "    b2 = [bb.to(net.device) for bb in b]\n",
    "    x = torch.concatenate([b2[0], b2[1]], 1)\n",
    "    y = net(x)\n",
    "y"
   ]
  },
  {
   "cell_type": "code",
   "execution_count": 42,
   "metadata": {},
   "outputs": [],
   "source": [
    "# # DEBUG\n",
    "# trainer = pl.Trainer(fast_dev_run=2)\n",
    "# trainer.fit(model=net, train_dataloaders=dl_train)"
   ]
  },
  {
   "cell_type": "code",
   "execution_count": 43,
   "metadata": {},
   "outputs": [
    {
     "name": "stderr",
     "output_type": "stream",
     "text": [
      "/home/ubuntu/mambaforge/envs/dlk2/lib/python3.9/site-packages/lightning/fabric/connector.py:562: UserWarning: bf16 is supported for historical reasons but its usage is discouraged. Please set your precision to bf16-mixed instead!\n",
      "  rank_zero_warn(\n",
      "Using bfloat16 Automatic Mixed Precision (AMP)\n",
      "GPU available: True (cuda), used: True\n",
      "TPU available: False, using: 0 TPU cores\n",
      "IPU available: False, using: 0 IPUs\n",
      "HPU available: False, using: 0 HPUs\n",
      "LOCAL_RANK: 0 - CUDA_VISIBLE_DEVICES: [0]\n",
      "\n",
      "  | Name  | Type               | Params\n",
      "---------------------------------------------\n",
      "0 | probe | MLPProbe           | 4.2 M \n",
      "1 | auroc | MulticlassAccuracy | 0     \n",
      "---------------------------------------------\n",
      "4.2 M     Trainable params\n",
      "0         Non-trainable params\n",
      "4.2 M     Total params\n",
      "16.811    Total estimated model params size (MB)\n"
     ]
    },
    {
     "data": {
      "application/vnd.jupyter.widget-view+json": {
       "model_id": "7eec3fdeb89f47e998fbe265a1506732",
       "version_major": 2,
       "version_minor": 0
      },
      "text/plain": [
       "Sanity Checking: 0it [00:00, ?it/s]"
      ]
     },
     "metadata": {},
     "output_type": "display_data"
    },
    {
     "data": {
      "application/vnd.jupyter.widget-view+json": {
       "model_id": "4ce6ffb1d7344793ae4e604a7a8975c3",
       "version_major": 2,
       "version_minor": 0
      },
      "text/plain": [
       "Training: 0it [00:00, ?it/s]"
      ]
     },
     "metadata": {},
     "output_type": "display_data"
    },
    {
     "data": {
      "application/vnd.jupyter.widget-view+json": {
       "model_id": "f28524dc28aa48ef88c4093fbe21adf7",
       "version_major": 2,
       "version_minor": 0
      },
      "text/plain": [
       "Validation: 0it [00:00, ?it/s]"
      ]
     },
     "metadata": {},
     "output_type": "display_data"
    },
    {
     "name": "stderr",
     "output_type": "stream",
     "text": [
      "/home/ubuntu/mambaforge/envs/dlk2/lib/python3.9/site-packages/torchmetrics/utilities/prints.py:36: UserWarning: The ``compute`` method of metric MulticlassAccuracy was called before the ``update`` method which may lead to errors, as metric states have not yet been updated.\n",
      "  warnings.warn(*args, **kwargs)\n"
     ]
    },
    {
     "data": {
      "application/vnd.jupyter.widget-view+json": {
       "model_id": "40de381c7fac400abeb640209df72b5e",
       "version_major": 2,
       "version_minor": 0
      },
      "text/plain": [
       "Validation: 0it [00:00, ?it/s]"
      ]
     },
     "metadata": {},
     "output_type": "display_data"
    },
    {
     "data": {
      "application/vnd.jupyter.widget-view+json": {
       "model_id": "25b4bcdb6b9d4b94882c4ddd1ab8dd52",
       "version_major": 2,
       "version_minor": 0
      },
      "text/plain": [
       "Validation: 0it [00:00, ?it/s]"
      ]
     },
     "metadata": {},
     "output_type": "display_data"
    },
    {
     "data": {
      "application/vnd.jupyter.widget-view+json": {
       "model_id": "11fa6705d3e34d4f923d7deebcfae86e",
       "version_major": 2,
       "version_minor": 0
      },
      "text/plain": [
       "Validation: 0it [00:00, ?it/s]"
      ]
     },
     "metadata": {},
     "output_type": "display_data"
    },
    {
     "data": {
      "application/vnd.jupyter.widget-view+json": {
       "model_id": "2d817f8958f041d7b5332d2057bb221d",
       "version_major": 2,
       "version_minor": 0
      },
      "text/plain": [
       "Validation: 0it [00:00, ?it/s]"
      ]
     },
     "metadata": {},
     "output_type": "display_data"
    },
    {
     "data": {
      "application/vnd.jupyter.widget-view+json": {
       "model_id": "9ffefc8772224fdaad764905ac76c1eb",
       "version_major": 2,
       "version_minor": 0
      },
      "text/plain": [
       "Validation: 0it [00:00, ?it/s]"
      ]
     },
     "metadata": {},
     "output_type": "display_data"
    },
    {
     "name": "stderr",
     "output_type": "stream",
     "text": [
      "/home/ubuntu/mambaforge/envs/dlk2/lib/python3.9/site-packages/lightning/pytorch/trainer/call.py:54: UserWarning: Detected KeyboardInterrupt, attempting graceful shutdown...\n",
      "  rank_zero_warn(\"Detected KeyboardInterrupt, attempting graceful shutdown...\")\n"
     ]
    }
   ],
   "source": [
    "trainer = pl.Trainer(precision=\"bf16\",\n",
    "                     max_epochs=max_epochs, log_every_n_steps=5)\n",
    "trainer.fit(model=net, train_dataloaders=dl_train, val_dataloaders=dl_val)"
   ]
  },
  {
   "attachments": {},
   "cell_type": "markdown",
   "metadata": {},
   "source": [
    "# Read hist"
   ]
  },
  {
   "cell_type": "code",
   "execution_count": 44,
   "metadata": {},
   "outputs": [
    {
     "name": "stdout",
     "output_type": "stream",
     "text": [
      "[<lightning.pytorch.loggers.csv_logs.CSVLogger object at 0x7f08c66f5c10>]\n"
     ]
    },
    {
     "data": {
      "text/html": [
       "<div>\n",
       "<style scoped>\n",
       "    .dataframe tbody tr th:only-of-type {\n",
       "        vertical-align: middle;\n",
       "    }\n",
       "\n",
       "    .dataframe tbody tr th {\n",
       "        vertical-align: top;\n",
       "    }\n",
       "\n",
       "    .dataframe thead th {\n",
       "        text-align: right;\n",
       "    }\n",
       "</style>\n",
       "<table border=\"1\" class=\"dataframe\">\n",
       "  <thead>\n",
       "    <tr style=\"text-align: right;\">\n",
       "      <th></th>\n",
       "      <th>train/loss</th>\n",
       "      <th>step</th>\n",
       "      <th>val/loss</th>\n",
       "      <th>val/acc_step</th>\n",
       "      <th>train/acc_step</th>\n",
       "      <th>train/acc_epoch</th>\n",
       "    </tr>\n",
       "    <tr>\n",
       "      <th>epoch</th>\n",
       "      <th></th>\n",
       "      <th></th>\n",
       "      <th></th>\n",
       "      <th></th>\n",
       "      <th></th>\n",
       "      <th></th>\n",
       "    </tr>\n",
       "  </thead>\n",
       "  <tbody>\n",
       "    <tr>\n",
       "      <th>0</th>\n",
       "      <td>0.493621</td>\n",
       "      <td>35.857143</td>\n",
       "      <td>0.248490</td>\n",
       "      <td>0.764667</td>\n",
       "      <td>0.0</td>\n",
       "      <td>0.0</td>\n",
       "    </tr>\n",
       "    <tr>\n",
       "      <th>1</th>\n",
       "      <td>0.625042</td>\n",
       "      <td>98.133333</td>\n",
       "      <td>0.435727</td>\n",
       "      <td>0.752667</td>\n",
       "      <td>0.0</td>\n",
       "      <td>0.0</td>\n",
       "    </tr>\n",
       "    <tr>\n",
       "      <th>2</th>\n",
       "      <td>0.612328</td>\n",
       "      <td>161.000000</td>\n",
       "      <td>0.595809</td>\n",
       "      <td>0.773000</td>\n",
       "      <td>0.0</td>\n",
       "      <td>0.0</td>\n",
       "    </tr>\n",
       "    <tr>\n",
       "      <th>3</th>\n",
       "      <td>0.667047</td>\n",
       "      <td>223.266667</td>\n",
       "      <td>0.957886</td>\n",
       "      <td>0.770000</td>\n",
       "      <td>0.0</td>\n",
       "      <td>0.0</td>\n",
       "    </tr>\n",
       "    <tr>\n",
       "      <th>4</th>\n",
       "      <td>1.093193</td>\n",
       "      <td>288.000000</td>\n",
       "      <td>0.967882</td>\n",
       "      <td>0.781000</td>\n",
       "      <td>0.0</td>\n",
       "      <td>0.0</td>\n",
       "    </tr>\n",
       "    <tr>\n",
       "      <th>5</th>\n",
       "      <td>1.296311</td>\n",
       "      <td>350.857143</td>\n",
       "      <td>1.166974</td>\n",
       "      <td>0.773333</td>\n",
       "      <td>0.0</td>\n",
       "      <td>0.0</td>\n",
       "    </tr>\n",
       "    <tr>\n",
       "      <th>6</th>\n",
       "      <td>0.993138</td>\n",
       "      <td>404.000000</td>\n",
       "      <td>1.166974</td>\n",
       "      <td>0.773333</td>\n",
       "      <td>0.0</td>\n",
       "      <td>0.0</td>\n",
       "    </tr>\n",
       "  </tbody>\n",
       "</table>\n",
       "</div>"
      ],
      "text/plain": [
       "       train/loss        step  val/loss  val/acc_step  train/acc_step   \n",
       "epoch                                                                   \n",
       "0        0.493621   35.857143  0.248490      0.764667             0.0  \\\n",
       "1        0.625042   98.133333  0.435727      0.752667             0.0   \n",
       "2        0.612328  161.000000  0.595809      0.773000             0.0   \n",
       "3        0.667047  223.266667  0.957886      0.770000             0.0   \n",
       "4        1.093193  288.000000  0.967882      0.781000             0.0   \n",
       "5        1.296311  350.857143  1.166974      0.773333             0.0   \n",
       "6        0.993138  404.000000  1.166974      0.773333             0.0   \n",
       "\n",
       "       train/acc_epoch  \n",
       "epoch                   \n",
       "0                  0.0  \n",
       "1                  0.0  \n",
       "2                  0.0  \n",
       "3                  0.0  \n",
       "4                  0.0  \n",
       "5                  0.0  \n",
       "6                  0.0  "
      ]
     },
     "execution_count": 44,
     "metadata": {},
     "output_type": "execute_result"
    }
   ],
   "source": [
    "# import pytorch_lightning as pl\n",
    "from lightning.pytorch.loggers.csv_logs import CSVLogger\n",
    "# from pytorch_lightning.loggers.csv_logs import CSVLogger as CSVLogger2\n",
    "from pathlib import Path\n",
    "import pandas as pd\n",
    "\n",
    "def read_metrics_csv(metrics_file_path):\n",
    "    df_hist = pd.read_csv(metrics_file_path)\n",
    "    df_hist[\"epoch\"] = df_hist[\"epoch\"].ffill()\n",
    "    df_histe = df_hist.set_index(\"epoch\").groupby(\"epoch\").mean()\n",
    "    return df_histe\n",
    "\n",
    "\n",
    "def read_hist(trainer: pl.Trainer):\n",
    "\n",
    "    ts = [t for t in trainer.loggers if isinstance(t, CSVLogger)]\n",
    "    print(ts)\n",
    "    try:\n",
    "        metrics_file_path = Path(ts[0].experiment.metrics_file_path)\n",
    "        df_histe = read_metrics_csv(metrics_file_path)\n",
    "        return df_histe\n",
    "    except Exception as e:\n",
    "        raise e\n",
    "        \n",
    "        \n",
    "df_hist = read_hist(trainer).ffill().bfill()\n",
    "df_hist\n"
   ]
  },
  {
   "cell_type": "code",
   "execution_count": 45,
   "metadata": {},
   "outputs": [
    {
     "data": {
      "image/png": "[encoded data removed]",
      "text/plain": [
       "<Figure size 640x480 with 1 Axes>"
      ]
     },
     "metadata": {},
     "output_type": "display_data"
    },
    {
     "data": {
      "image/png": "[encoded data removed]",
      "text/plain": [
       "<Figure size 640x480 with 1 Axes>"
      ]
     },
     "metadata": {},
     "output_type": "display_data"
    },
    {
     "data": {
      "image/png": "[encoded data removed]",
      "text/plain": [
       "<Figure size 640x480 with 1 Axes>"
      ]
     },
     "metadata": {},
     "output_type": "display_data"
    }
   ],
   "source": [
    "keys = set(s.split('/')[1] for s in df_hist.columns if '/' in s)\n",
    "for k in keys:    \n",
    "    df_hist[[c for c in df_hist.columns if c.endswith(k)]].plot(title=k)"
   ]
  },
  {
   "cell_type": "code",
   "execution_count": 46,
   "metadata": {},
   "outputs": [],
   "source": [
    "# df_hist[['val/acc', 'train/acc']].plot()\n",
    "\n",
    "# # df_hist[['val/f1', 'train/f1']].plot()\n",
    "\n",
    "# # df_hist[['val/roc_auc_bc', 'train/roc_auc_bc']].plot()\n",
    "\n",
    "# # df_hist[['val/roc_auc_mc', 'train/roc_auc_mc']].plot()\n",
    "\n",
    "# df_hist[['val/loss', 'train/loss']].plot()"
   ]
  },
  {
   "attachments": {},
   "cell_type": "markdown",
   "metadata": {},
   "source": [
    "## Predict"
   ]
  },
  {
   "cell_type": "code",
   "execution_count": 47,
   "metadata": {},
   "outputs": [
    {
     "name": "stderr",
     "output_type": "stream",
     "text": [
      "LOCAL_RANK: 0 - CUDA_VISIBLE_DEVICES: [0]\n"
     ]
    },
    {
     "data": {
      "application/vnd.jupyter.widget-view+json": {
       "model_id": "8f21ab3ce2a840619b51e4e6162446bb",
       "version_major": 2,
       "version_minor": 0
      },
      "text/plain": [
       "Predicting: 0it [00:00, ?it/s]"
      ]
     },
     "metadata": {},
     "output_type": "display_data"
    }
   ],
   "source": [
    "dl_test = dm.test_dataloader()\n",
    "y_test_pred = trainer.predict(net, dl_test)\n",
    "y_test_pred = np.concatenate(y_test_pred)\n",
    "# y_test_pred"
   ]
  },
  {
   "cell_type": "code",
   "execution_count": 48,
   "metadata": {},
   "outputs": [
    {
     "data": {
      "text/plain": [
       "(2000, 3000)"
      ]
     },
     "execution_count": 48,
     "metadata": {},
     "output_type": "execute_result"
    }
   ],
   "source": [
    "# y_test_pred.shape, df_test.shape\n",
    "dm.val_split, dm.test_split"
   ]
  },
  {
   "cell_type": "code",
   "execution_count": 49,
   "metadata": {},
   "outputs": [
    {
     "data": {
      "text/html": [
       "<div>\n",
       "<style scoped>\n",
       "    .dataframe tbody tr th:only-of-type {\n",
       "        vertical-align: middle;\n",
       "    }\n",
       "\n",
       "    .dataframe tbody tr th {\n",
       "        vertical-align: top;\n",
       "    }\n",
       "\n",
       "    .dataframe thead th {\n",
       "        text-align: right;\n",
       "    }\n",
       "</style>\n",
       "<table border=\"1\" class=\"dataframe\">\n",
       "  <thead>\n",
       "    <tr style=\"text-align: right;\">\n",
       "      <th></th>\n",
       "      <th>desired_answer</th>\n",
       "      <th>input</th>\n",
       "      <th>lie</th>\n",
       "      <th>true_answer</th>\n",
       "      <th>ans1</th>\n",
       "      <th>ans2</th>\n",
       "      <th>true</th>\n",
       "      <th>dir_true</th>\n",
       "      <th>ans</th>\n",
       "      <th>prob_pred</th>\n",
       "      <th>llm_ans</th>\n",
       "    </tr>\n",
       "  </thead>\n",
       "  <tbody>\n",
       "    <tr>\n",
       "      <th>3000</th>\n",
       "      <td>False</td>\n",
       "      <td>My husband was very pleased with this gift to ...</td>\n",
       "      <td>True</td>\n",
       "      <td>1</td>\n",
       "      <td>0.836914</td>\n",
       "      <td>0.994141</td>\n",
       "      <td>1</td>\n",
       "      <td>0.157227</td>\n",
       "      <td>0.915527</td>\n",
       "      <td>1</td>\n",
       "      <td>0.836914</td>\n",
       "    </tr>\n",
       "    <tr>\n",
       "      <th>3001</th>\n",
       "      <td>True</td>\n",
       "      <td>This is simply the best book ever written and ...</td>\n",
       "      <td>False</td>\n",
       "      <td>1</td>\n",
       "      <td>0.714844</td>\n",
       "      <td>0.471924</td>\n",
       "      <td>1</td>\n",
       "      <td>-0.242920</td>\n",
       "      <td>0.593262</td>\n",
       "      <td>1</td>\n",
       "      <td>0.714844</td>\n",
       "    </tr>\n",
       "    <tr>\n",
       "      <th>3002</th>\n",
       "      <td>False</td>\n",
       "      <td>I finally found this baster and we love it. It...</td>\n",
       "      <td>True</td>\n",
       "      <td>1</td>\n",
       "      <td>0.966309</td>\n",
       "      <td>0.966309</td>\n",
       "      <td>1</td>\n",
       "      <td>0.000000</td>\n",
       "      <td>0.966309</td>\n",
       "      <td>1</td>\n",
       "      <td>0.966309</td>\n",
       "    </tr>\n",
       "    <tr>\n",
       "      <th>3003</th>\n",
       "      <td>True</td>\n",
       "      <td>thses guys rock, and the vocals are 2nd to..we...</td>\n",
       "      <td>False</td>\n",
       "      <td>1</td>\n",
       "      <td>0.921387</td>\n",
       "      <td>0.884766</td>\n",
       "      <td>1</td>\n",
       "      <td>-0.036621</td>\n",
       "      <td>0.903320</td>\n",
       "      <td>1</td>\n",
       "      <td>0.921387</td>\n",
       "    </tr>\n",
       "    <tr>\n",
       "      <th>3004</th>\n",
       "      <td>False</td>\n",
       "      <td>I bought these and wrote a review before - the...</td>\n",
       "      <td>True</td>\n",
       "      <td>1</td>\n",
       "      <td>0.599609</td>\n",
       "      <td>0.395752</td>\n",
       "      <td>1</td>\n",
       "      <td>-0.203857</td>\n",
       "      <td>0.497559</td>\n",
       "      <td>0</td>\n",
       "      <td>0.599609</td>\n",
       "    </tr>\n",
       "    <tr>\n",
       "      <th>...</th>\n",
       "      <td>...</td>\n",
       "      <td>...</td>\n",
       "      <td>...</td>\n",
       "      <td>...</td>\n",
       "      <td>...</td>\n",
       "      <td>...</td>\n",
       "      <td>...</td>\n",
       "      <td>...</td>\n",
       "      <td>...</td>\n",
       "      <td>...</td>\n",
       "      <td>...</td>\n",
       "    </tr>\n",
       "    <tr>\n",
       "      <th>3995</th>\n",
       "      <td>False</td>\n",
       "      <td>As others have said, the instructions were not...</td>\n",
       "      <td>False</td>\n",
       "      <td>0</td>\n",
       "      <td>0.179932</td>\n",
       "      <td>0.211792</td>\n",
       "      <td>0</td>\n",
       "      <td>0.031860</td>\n",
       "      <td>0.195801</td>\n",
       "      <td>0</td>\n",
       "      <td>0.179932</td>\n",
       "    </tr>\n",
       "    <tr>\n",
       "      <th>3996</th>\n",
       "      <td>True</td>\n",
       "      <td>This book has great potential but it doesn't l...</td>\n",
       "      <td>True</td>\n",
       "      <td>0</td>\n",
       "      <td>0.032562</td>\n",
       "      <td>0.037292</td>\n",
       "      <td>0</td>\n",
       "      <td>0.004730</td>\n",
       "      <td>0.034912</td>\n",
       "      <td>0</td>\n",
       "      <td>0.032562</td>\n",
       "    </tr>\n",
       "    <tr>\n",
       "      <th>3997</th>\n",
       "      <td>True</td>\n",
       "      <td>I was intending to use beta sitosterol for hai...</td>\n",
       "      <td>False</td>\n",
       "      <td>1</td>\n",
       "      <td>0.940430</td>\n",
       "      <td>0.942383</td>\n",
       "      <td>1</td>\n",
       "      <td>0.001953</td>\n",
       "      <td>0.941406</td>\n",
       "      <td>1</td>\n",
       "      <td>0.940430</td>\n",
       "    </tr>\n",
       "    <tr>\n",
       "      <th>3998</th>\n",
       "      <td>False</td>\n",
       "      <td>This is really compact and comes with 3 bags t...</td>\n",
       "      <td>True</td>\n",
       "      <td>1</td>\n",
       "      <td>0.963379</td>\n",
       "      <td>0.941895</td>\n",
       "      <td>1</td>\n",
       "      <td>-0.021484</td>\n",
       "      <td>0.952637</td>\n",
       "      <td>1</td>\n",
       "      <td>0.963379</td>\n",
       "    </tr>\n",
       "    <tr>\n",
       "      <th>3999</th>\n",
       "      <td>True</td>\n",
       "      <td>I bought the paperback because it sounded inte...</td>\n",
       "      <td>False</td>\n",
       "      <td>1</td>\n",
       "      <td>0.998535</td>\n",
       "      <td>0.997070</td>\n",
       "      <td>1</td>\n",
       "      <td>-0.001465</td>\n",
       "      <td>0.998047</td>\n",
       "      <td>1</td>\n",
       "      <td>0.998535</td>\n",
       "    </tr>\n",
       "  </tbody>\n",
       "</table>\n",
       "<p>1000 rows × 11 columns</p>\n",
       "</div>"
      ],
      "text/plain": [
       "      desired_answer                                              input   \n",
       "3000           False  My husband was very pleased with this gift to ...  \\\n",
       "3001            True  This is simply the best book ever written and ...   \n",
       "3002           False  I finally found this baster and we love it. It...   \n",
       "3003            True  thses guys rock, and the vocals are 2nd to..we...   \n",
       "3004           False  I bought these and wrote a review before - the...   \n",
       "...              ...                                                ...   \n",
       "3995           False  As others have said, the instructions were not...   \n",
       "3996            True  This book has great potential but it doesn't l...   \n",
       "3997            True  I was intending to use beta sitosterol for hai...   \n",
       "3998           False  This is really compact and comes with 3 bags t...   \n",
       "3999            True  I bought the paperback because it sounded inte...   \n",
       "\n",
       "        lie  true_answer      ans1      ans2  true  dir_true       ans   \n",
       "3000   True            1  0.836914  0.994141     1  0.157227  0.915527  \\\n",
       "3001  False            1  0.714844  0.471924     1 -0.242920  0.593262   \n",
       "3002   True            1  0.966309  0.966309     1  0.000000  0.966309   \n",
       "3003  False            1  0.921387  0.884766     1 -0.036621  0.903320   \n",
       "3004   True            1  0.599609  0.395752     1 -0.203857  0.497559   \n",
       "...     ...          ...       ...       ...   ...       ...       ...   \n",
       "3995  False            0  0.179932  0.211792     0  0.031860  0.195801   \n",
       "3996   True            0  0.032562  0.037292     0  0.004730  0.034912   \n",
       "3997  False            1  0.940430  0.942383     1  0.001953  0.941406   \n",
       "3998   True            1  0.963379  0.941895     1 -0.021484  0.952637   \n",
       "3999  False            1  0.998535  0.997070     1 -0.001465  0.998047   \n",
       "\n",
       "      prob_pred   llm_ans  \n",
       "3000          1  0.836914  \n",
       "3001          1  0.714844  \n",
       "3002          1  0.966309  \n",
       "3003          1  0.921387  \n",
       "3004          0  0.599609  \n",
       "...         ...       ...  \n",
       "3995          0  0.179932  \n",
       "3996          0  0.032562  \n",
       "3997          1  0.940430  \n",
       "3998          1  0.963379  \n",
       "3999          1  0.998535  \n",
       "\n",
       "[1000 rows x 11 columns]"
      ]
     },
     "execution_count": 49,
     "metadata": {},
     "output_type": "execute_result"
    }
   ],
   "source": [
    "df_test = dm.df_infos.iloc[dm.test_split:].copy()\n",
    "df_test['prob_pred'] = y_test_pred.argmax(-1)\n",
    "df_test['llm_ans'] = (df_test['ans1']+df_test['ans1'])/2\n",
    "df_test"
   ]
  },
  {
   "cell_type": "code",
   "execution_count": 50,
   "metadata": {},
   "outputs": [],
   "source": [
    "y_true = dl_test.dataset.tensors[2].numpy()\n",
    "assert ((df_test['true_answer'].values>0.5)==(y_true>0.5)).all(), 'check it all lines up'"
   ]
  },
  {
   "cell_type": "code",
   "execution_count": 51,
   "metadata": {},
   "outputs": [
    {
     "data": {
      "text/plain": [
       "0.516"
      ]
     },
     "execution_count": 51,
     "metadata": {},
     "output_type": "execute_result"
    }
   ],
   "source": [
    "((df_test['llm_ans']>0.5)==df_test['desired_answer']).mean()"
   ]
  },
  {
   "cell_type": "code",
   "execution_count": 52,
   "metadata": {},
   "outputs": [
    {
     "name": "stdout",
     "output_type": "stream",
     "text": [
      "lightning model acc at predicting truth: 90.30%\n"
     ]
    }
   ],
   "source": [
    "# this must be wrong\n",
    "acc_truth = (df_test['prob_pred']==df_test['true_answer']).mean()\n",
    "print(f\"lightning model acc at predicting truth: {acc_truth:2.2%}\")"
   ]
  },
  {
   "cell_type": "code",
   "execution_count": 54,
   "metadata": {},
   "outputs": [
    {
     "name": "stdout",
     "output_type": "stream",
     "text": [
      "lightning model acc at predicting the models public answer: 89.10%\n"
     ]
    }
   ],
   "source": [
    "acc_truth = (df_test['prob_pred']==(df_test['llm_ans']>0.5)).mean()\n",
    "print(f\"lightning model acc at predicting the models public answer: {acc_truth:2.2%}\")"
   ]
  },
  {
   "cell_type": "code",
   "execution_count": 53,
   "metadata": {},
   "outputs": [
    {
     "name": "stdout",
     "output_type": "stream",
     "text": [
      "this should be 50% as we are not training it to do this\n",
      "lightning model acc at predicting desired answer (including instructions to lie): 50.70%\n"
     ]
    }
   ],
   "source": [
    "acc_truth = (df_test['prob_pred']==df_test['desired_answer']).mean()\n",
    "print('this should be 50% as we are not training it to do this')\n",
    "print(f\"lightning model acc at predicting desired answer (including instructions to lie): {acc_truth:2.2%}\")"
   ]
  },
  {
   "attachments": {},
   "cell_type": "markdown",
   "metadata": {},
   "source": [
    "## Task results\n",
    "\n",
    "E.g. how well does the underlying language model do on the task"
   ]
  },
  {
   "cell_type": "code",
   "execution_count": 68,
   "metadata": {
    "notebookRunGroups": {
     "groupValue": "2"
    }
   },
   "outputs": [
    {
     "name": "stdout",
     "output_type": "stream",
     "text": [
      "model acc on sentiment task\n",
      "acc 0.88\n",
      "acc when lie=True 0.87\n",
      "acc when lie=False 0.89\n"
     ]
    }
   ],
   "source": [
    "print('model acc on sentiment task')\n",
    "ans = (ans_1 + ans_2) / 2\n",
    "acc=((ans>0.5)==df_infos['true_answer']).mean()\n",
    "print(f\"acc {acc:2.2f}\")\n",
    "\n",
    "d = df_infos['lie']==True\n",
    "acc = ((ans[d]>0.5)==df_infos[d]['true_answer']).mean()\n",
    "print(f\"acc when lie=True {acc:2.2f}\")\n",
    "\n",
    "d = df_infos['lie']==False\n",
    "acc = ((ans[d]>0.5)==df_infos[d]['true_answer']).mean()\n",
    "print(f\"acc when lie=False {acc:2.2f}\")\n",
    "# ((ans_1>0)==df_infos['desired_answer']).mean()"
   ]
  },
  {
   "cell_type": "markdown",
   "metadata": {},
   "source": [
    "# QC\n"
   ]
  },
  {
   "cell_type": "markdown",
   "metadata": {},
   "source": [
    "## Check correlation\n",
    "\n",
    "If some feature like confidence leaks info, then that's not good"
   ]
  },
  {
   "cell_type": "code",
   "execution_count": 60,
   "metadata": {},
   "outputs": [
    {
     "data": {
      "text/plain": [
       "0.0712620356333589"
      ]
     },
     "execution_count": 60,
     "metadata": {},
     "output_type": "execute_result"
    }
   ],
   "source": [
    "# check if lie status is correlated with confidence\n",
    "df_info_test['conf'] = (df_info_test['ans1'] - df_info_test['ans2']).abs()\n",
    "df_info_test['conf'].corr(df_info_test['lie'])"
   ]
  },
  {
   "cell_type": "code",
   "execution_count": 67,
   "metadata": {},
   "outputs": [
    {
     "data": {
      "text/html": [
       "<div>\n",
       "<style scoped>\n",
       "    .dataframe tbody tr th:only-of-type {\n",
       "        vertical-align: middle;\n",
       "    }\n",
       "\n",
       "    .dataframe tbody tr th {\n",
       "        vertical-align: top;\n",
       "    }\n",
       "\n",
       "    .dataframe thead th {\n",
       "        text-align: right;\n",
       "    }\n",
       "</style>\n",
       "<table border=\"1\" class=\"dataframe\">\n",
       "  <thead>\n",
       "    <tr style=\"text-align: right;\">\n",
       "      <th></th>\n",
       "      <th>desired_answer</th>\n",
       "      <th>lie</th>\n",
       "      <th>true_answer</th>\n",
       "      <th>ans1</th>\n",
       "      <th>ans2</th>\n",
       "      <th>true</th>\n",
       "      <th>dir_true</th>\n",
       "      <th>ans</th>\n",
       "      <th>inner_truth</th>\n",
       "      <th>conf</th>\n",
       "    </tr>\n",
       "  </thead>\n",
       "  <tbody>\n",
       "    <tr>\n",
       "      <th>desired_answer</th>\n",
       "      <td>1.000000</td>\n",
       "      <td>-0.011002</td>\n",
       "      <td>-0.000209</td>\n",
       "      <td>0.079747</td>\n",
       "      <td>0.071898</td>\n",
       "      <td>-0.000209</td>\n",
       "      <td>-0.023516</td>\n",
       "      <td>0.076923</td>\n",
       "      <td>-0.039988</td>\n",
       "      <td>0.050954</td>\n",
       "    </tr>\n",
       "    <tr>\n",
       "      <th>lie</th>\n",
       "      <td>-0.011002</td>\n",
       "      <td>1.000000</td>\n",
       "      <td>-0.019001</td>\n",
       "      <td>0.033936</td>\n",
       "      <td>0.049918</td>\n",
       "      <td>-0.019001</td>\n",
       "      <td>0.047450</td>\n",
       "      <td>0.042517</td>\n",
       "      <td>0.009000</td>\n",
       "      <td>0.071262</td>\n",
       "    </tr>\n",
       "    <tr>\n",
       "      <th>true_answer</th>\n",
       "      <td>-0.000209</td>\n",
       "      <td>-0.019001</td>\n",
       "      <td>1.000000</td>\n",
       "      <td>0.800640</td>\n",
       "      <td>0.793856</td>\n",
       "      <td>1.000000</td>\n",
       "      <td>-0.022015</td>\n",
       "      <td>0.808757</td>\n",
       "      <td>0.024012</td>\n",
       "      <td>-0.183077</td>\n",
       "    </tr>\n",
       "    <tr>\n",
       "      <th>ans1</th>\n",
       "      <td>0.079747</td>\n",
       "      <td>0.033936</td>\n",
       "      <td>0.800640</td>\n",
       "      <td>1.000000</td>\n",
       "      <td>0.943492</td>\n",
       "      <td>0.800640</td>\n",
       "      <td>-0.170328</td>\n",
       "      <td>0.985782</td>\n",
       "      <td>0.024902</td>\n",
       "      <td>-0.132784</td>\n",
       "    </tr>\n",
       "    <tr>\n",
       "      <th>ans2</th>\n",
       "      <td>0.071898</td>\n",
       "      <td>0.049918</td>\n",
       "      <td>0.793856</td>\n",
       "      <td>0.943492</td>\n",
       "      <td>1.000000</td>\n",
       "      <td>0.793856</td>\n",
       "      <td>0.165851</td>\n",
       "      <td>0.985762</td>\n",
       "      <td>0.011742</td>\n",
       "      <td>-0.131105</td>\n",
       "    </tr>\n",
       "    <tr>\n",
       "      <th>true</th>\n",
       "      <td>-0.000209</td>\n",
       "      <td>-0.019001</td>\n",
       "      <td>1.000000</td>\n",
       "      <td>0.800640</td>\n",
       "      <td>0.793856</td>\n",
       "      <td>1.000000</td>\n",
       "      <td>-0.022015</td>\n",
       "      <td>0.808757</td>\n",
       "      <td>0.024012</td>\n",
       "      <td>-0.183077</td>\n",
       "    </tr>\n",
       "    <tr>\n",
       "      <th>dir_true</th>\n",
       "      <td>-0.023516</td>\n",
       "      <td>0.047450</td>\n",
       "      <td>-0.022015</td>\n",
       "      <td>-0.170328</td>\n",
       "      <td>0.165851</td>\n",
       "      <td>-0.022015</td>\n",
       "      <td>1.000000</td>\n",
       "      <td>-0.002330</td>\n",
       "      <td>-0.039179</td>\n",
       "      <td>0.005291</td>\n",
       "    </tr>\n",
       "    <tr>\n",
       "      <th>ans</th>\n",
       "      <td>0.076923</td>\n",
       "      <td>0.042517</td>\n",
       "      <td>0.808757</td>\n",
       "      <td>0.985782</td>\n",
       "      <td>0.985762</td>\n",
       "      <td>0.808757</td>\n",
       "      <td>-0.002330</td>\n",
       "      <td>1.000000</td>\n",
       "      <td>0.018601</td>\n",
       "      <td>-0.133854</td>\n",
       "    </tr>\n",
       "    <tr>\n",
       "      <th>inner_truth</th>\n",
       "      <td>-0.039988</td>\n",
       "      <td>0.009000</td>\n",
       "      <td>0.024012</td>\n",
       "      <td>0.024902</td>\n",
       "      <td>0.011742</td>\n",
       "      <td>0.024012</td>\n",
       "      <td>-0.039179</td>\n",
       "      <td>0.018601</td>\n",
       "      <td>1.000000</td>\n",
       "      <td>-0.023145</td>\n",
       "    </tr>\n",
       "    <tr>\n",
       "      <th>conf</th>\n",
       "      <td>0.050954</td>\n",
       "      <td>0.071262</td>\n",
       "      <td>-0.183077</td>\n",
       "      <td>-0.132784</td>\n",
       "      <td>-0.131105</td>\n",
       "      <td>-0.183077</td>\n",
       "      <td>0.005291</td>\n",
       "      <td>-0.133854</td>\n",
       "      <td>-0.023145</td>\n",
       "      <td>1.000000</td>\n",
       "    </tr>\n",
       "  </tbody>\n",
       "</table>\n",
       "</div>"
      ],
      "text/plain": [
       "                desired_answer       lie  true_answer      ans1      ans2   \n",
       "desired_answer        1.000000 -0.011002    -0.000209  0.079747  0.071898  \\\n",
       "lie                  -0.011002  1.000000    -0.019001  0.033936  0.049918   \n",
       "true_answer          -0.000209 -0.019001     1.000000  0.800640  0.793856   \n",
       "ans1                  0.079747  0.033936     0.800640  1.000000  0.943492   \n",
       "ans2                  0.071898  0.049918     0.793856  0.943492  1.000000   \n",
       "true                 -0.000209 -0.019001     1.000000  0.800640  0.793856   \n",
       "dir_true             -0.023516  0.047450    -0.022015 -0.170328  0.165851   \n",
       "ans                   0.076923  0.042517     0.808757  0.985782  0.985762   \n",
       "inner_truth          -0.039988  0.009000     0.024012  0.024902  0.011742   \n",
       "conf                  0.050954  0.071262    -0.183077 -0.132784 -0.131105   \n",
       "\n",
       "                    true  dir_true       ans  inner_truth      conf  \n",
       "desired_answer -0.000209 -0.023516  0.076923    -0.039988  0.050954  \n",
       "lie            -0.019001  0.047450  0.042517     0.009000  0.071262  \n",
       "true_answer     1.000000 -0.022015  0.808757     0.024012 -0.183077  \n",
       "ans1            0.800640 -0.170328  0.985782     0.024902 -0.132784  \n",
       "ans2            0.793856  0.165851  0.985762     0.011742 -0.131105  \n",
       "true            1.000000 -0.022015  0.808757     0.024012 -0.183077  \n",
       "dir_true       -0.022015  1.000000 -0.002330    -0.039179  0.005291  \n",
       "ans             0.808757 -0.002330  1.000000     0.018601 -0.133854  \n",
       "inner_truth     0.024012 -0.039179  0.018601     1.000000 -0.023145  \n",
       "conf           -0.183077  0.005291 -0.133854    -0.023145  1.000000  "
      ]
     },
     "execution_count": 67,
     "metadata": {},
     "output_type": "execute_result"
    }
   ],
   "source": [
    "df_info_test.drop(columns=['input']).corr()"
   ]
  },
  {
   "cell_type": "code",
   "execution_count": null,
   "metadata": {},
   "outputs": [],
   "source": []
  },
  {
   "cell_type": "code",
   "execution_count": null,
   "metadata": {},
   "outputs": [],
   "source": []
  },
  {
   "cell_type": "code",
   "execution_count": null,
   "metadata": {},
   "outputs": [],
   "source": []
  }
 ],
 "metadata": {
  "kernelspec": {
   "display_name": "dlk2",
   "language": "python",
   "name": "python3"
  },
  "language_info": {
   "codemirror_mode": {
    "name": "ipython",
    "version": 3
   },
   "file_extension": ".py",
   "mimetype": "text/x-python",
   "name": "python",
   "nbconvert_exporter": "python",
   "pygments_lexer": "ipython3",
   "version": "3.9.16"
  },
  "orig_nbformat": 4
 },
 "nbformat": 4,
 "nbformat_minor": 2
}
