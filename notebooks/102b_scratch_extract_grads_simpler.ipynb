{
 "cells": [
  {
   "cell_type": "markdown",
   "metadata": {},
   "source": [
    "# Lets save our data as a huggingface dataset, so it's quick to reuse\n",
    "\n"
   ]
  },
  {
   "cell_type": "code",
   "execution_count": 1,
   "metadata": {
    "ExecuteTime": {
     "end_time": "2023-09-02T11:00:39.840442Z",
     "start_time": "2023-09-02T11:00:38.221653Z"
    }
   },
   "outputs": [],
   "source": [
    "# import your package\n",
    "%load_ext autoreload\n",
    "%autoreload 2\n",
    "\n",
    "from loguru import logger\n",
    "import sys\n",
    "logger.remove()\n",
    "logger.add(sys.stderr, format=\"<level>{message}</level>\", level=\"INFO\")\n",
    "\n",
    "import pandas as pd\n",
    "from matplotlib import pyplot as plt\n",
    "%matplotlib inline\n",
    "plt.style.use('ggplot')"
   ]
  },
  {
   "cell_type": "code",
   "execution_count": 2,
   "metadata": {
    "ExecuteTime": {
     "end_time": "2023-09-02T11:00:42.996618Z",
     "start_time": "2023-09-02T11:00:39.841585Z"
    }
   },
   "outputs": [
    {
     "data": {
      "text/plain": [
       "'4.31.0'"
      ]
     },
     "execution_count": 2,
     "metadata": {},
     "output_type": "execute_result"
    }
   ],
   "source": [
    "import numpy as np\n",
    "\n",
    "\n",
    "from typing import Optional, List, Dict, Union\n",
    "\n",
    "import torch\n",
    "import torch.nn as nn\n",
    "import torch.nn.functional as F\n",
    "from torch import Tensor\n",
    "\n",
    "import pickle\n",
    "import hashlib\n",
    "from pathlib import Path\n",
    "\n",
    "import transformers\n",
    "from datasets import Dataset, DatasetInfo, load_from_disk, load_dataset\n",
    "\n",
    "\n",
    "from tqdm.auto import tqdm\n",
    "import os, re, sys, collections, functools, itertools, json\n",
    "\n",
    "transformers.__version__\n"
   ]
  },
  {
   "cell_type": "code",
   "execution_count": 3,
   "metadata": {
    "ExecuteTime": {
     "end_time": "2023-09-02T11:00:46.258472Z",
     "start_time": "2023-09-02T11:00:43.000477Z"
    }
   },
   "outputs": [
    {
     "name": "stdout",
     "output_type": "stream",
     "text": [
      "\n",
      "===================================BUG REPORT===================================\n",
      "Welcome to bitsandbytes. For bug reports, please run\n",
      "\n",
      "python -m bitsandbytes\n",
      "\n",
      " and submit this information together with your error trace to: https://github.com/TimDettmers/bitsandbytes/issues\n",
      "================================================================================\n",
      "bin /home/ubuntu/mambaforge/envs/dlk3/lib/python3.11/site-packages/bitsandbytes/libbitsandbytes_cuda117.so\n",
      "CUDA SETUP: CUDA runtime path found: /home/ubuntu/mambaforge/envs/dlk3/lib/libcudart.so.11.0\n",
      "CUDA SETUP: Highest compute capability among GPUs detected: 8.6\n",
      "CUDA SETUP: Detected CUDA version 117\n",
      "CUDA SETUP: Loading binary /home/ubuntu/mambaforge/envs/dlk3/lib/python3.11/site-packages/bitsandbytes/libbitsandbytes_cuda117.so...\n"
     ]
    },
    {
     "name": "stderr",
     "output_type": "stream",
     "text": [
      "/home/ubuntu/mambaforge/envs/dlk3/lib/python3.11/site-packages/bitsandbytes/cuda_setup/main.py:149: UserWarning: Found duplicate ['libcudart.so', 'libcudart.so.11.0', 'libcudart.so.12.0'] files: {PosixPath('/home/ubuntu/mambaforge/envs/dlk3/lib/libcudart.so.11.0'), PosixPath('/home/ubuntu/mambaforge/envs/dlk3/lib/libcudart.so')}.. We'll flip a coin and try one of these, in order to fail forward.\n",
      "Either way, this might cause trouble in the future:\n",
      "If you get `CUDA error: invalid device function` errors, the above might be the cause and the solution is to make sure only one ['libcudart.so', 'libcudart.so.11.0', 'libcudart.so.12.0'] in the paths that we search based on your env.\n",
      "  warn(msg)\n"
     ]
    }
   ],
   "source": [
    "from src.models.load import load_model\n",
    "from src.datasets.load import ds2df\n",
    "from src.datasets.load import rows_item\n",
    "from src.datasets.batch import batch_hidden_states\n",
    "# from src.datasets.scores import choice2ids, scores2choice_probs"
   ]
  },
  {
   "cell_type": "markdown",
   "metadata": {},
   "source": [
    "# Params"
   ]
  },
  {
   "cell_type": "code",
   "execution_count": 4,
   "metadata": {
    "ExecuteTime": {
     "end_time": "2023-09-02T11:00:46.316850Z",
     "start_time": "2023-09-02T11:00:46.259480Z"
    }
   },
   "outputs": [
    {
     "data": {
      "text/plain": [
       "ExtractConfig(model='WizardLM/WizardCoder-3B-V1.0', datasets=['imdb'], data_dirs=(), int4=True, max_examples=(8, 312), num_shots=2, num_variants=-1, layers=(), seed=42, token_loc='last', template_path=None)"
      ]
     },
     "execution_count": 4,
     "metadata": {},
     "output_type": "execute_result"
    }
   ],
   "source": [
    "# Params\n",
    "BATCH_SIZE = 1  # None # None means auto # 6 gives 16Gb/25GB. where 10GB is the base model. so 6 is 6/15\n",
    "USE_MCDROPOUT = True\n",
    "\n",
    "from src.extraction.config import ExtractConfig\n",
    "\n",
    "cfg = ExtractConfig(\n",
    "    # model=\"HuggingFaceH4/starchat-beta\",\n",
    "    # model=\"TheBloke/CodeLlama-13B-Instruct-fp16\", # too large!\n",
    "    model=\"WizardLM/WizardCoder-3B-V1.0\",\n",
    "    # model=\"WizardLM/WizardCoder-1B-V1.0\",\n",
    "    # model=\"WizardLM/WizardCoder-Python-7B-V1.0\", # too large!\n",
    "    datasets = [\n",
    "        \"imdb\", \n",
    "                ],\n",
    "    max_examples=(8, 312),\n",
    ")\n",
    "cfg"
   ]
  },
  {
   "cell_type": "markdown",
   "metadata": {},
   "source": [
    "# Model\n",
    "\n",
    "Chosing:\n",
    "- https://old.reddit.com/r/LocalLLaMA/wiki/models\n",
    "- https://huggingface.co/spaces/HuggingFaceH4/open_llm_leaderboard\n",
    "- https://github.com/deep-diver/LLM-As-Chatbot/blob/main/model_cards.json\n",
    "\n",
    "\n",
    "A uncensored and large coding ones might be best for lying."
   ]
  },
  {
   "cell_type": "code",
   "execution_count": 5,
   "metadata": {
    "ExecuteTime": {
     "end_time": "2023-09-02T11:02:50.889443Z",
     "start_time": "2023-09-02T11:00:46.318029Z"
    }
   },
   "outputs": [
    {
     "name": "stderr",
     "output_type": "stream",
     "text": [
      "\u001b[1mchanging pad_token_id from 49152 to 0\u001b[0m\n",
      "\u001b[1mchanging padding_side from right to left\u001b[0m\n",
      "\u001b[1mchanging truncation_side from right to left\u001b[0m\n"
     ]
    },
    {
     "data": {
      "text/plain": [
       "GPTBigCodeForCausalLM(\n",
       "  (transformer): GPTBigCodeModel(\n",
       "    (wte): Embedding(49153, 2816)\n",
       "    (wpe): Embedding(8192, 2816)\n",
       "    (drop): Dropout(p=0.1, inplace=False)\n",
       "    (h): ModuleList(\n",
       "      (0-35): 36 x GPTBigCodeBlock(\n",
       "        (ln_1): LayerNorm((2816,), eps=1e-05, elementwise_affine=True)\n",
       "        (attn): GPTBigCodeAttention(\n",
       "          (c_attn): Linear(in_features=2816, out_features=3072, bias=True)\n",
       "          (c_proj): Linear(in_features=2816, out_features=2816, bias=True)\n",
       "          (attn_dropout): Dropout(p=0.1, inplace=False)\n",
       "          (resid_dropout): Dropout(p=0.1, inplace=False)\n",
       "        )\n",
       "        (ln_2): LayerNorm((2816,), eps=1e-05, elementwise_affine=True)\n",
       "        (mlp): GPTBigCodeMLP(\n",
       "          (c_fc): Linear(in_features=2816, out_features=11264, bias=True)\n",
       "          (c_proj): Linear(in_features=11264, out_features=2816, bias=True)\n",
       "          (act): PytorchGELUTanh()\n",
       "          (dropout): Dropout(p=0.1, inplace=False)\n",
       "        )\n",
       "      )\n",
       "    )\n",
       "    (ln_f): LayerNorm((2816,), eps=1e-05, elementwise_affine=True)\n",
       "  )\n",
       "  (lm_head): Linear(in_features=2816, out_features=49153, bias=False)\n",
       ")"
      ]
     },
     "execution_count": 5,
     "metadata": {},
     "output_type": "execute_result"
    }
   ],
   "source": [
    "from src.models.load import verbose_change_param, AutoConfig, AutoTokenizer, AutoModelForCausalLM\n",
    "\n",
    "def load_model(model_repo = \"HuggingFaceH4/starchat-beta\"):\n",
    "    # see https://github.com/deep-diver/LLM-As-Chatbot/blob/main/models/starchat.py\n",
    "    model_options = dict(\n",
    "        device_map=\"auto\",\n",
    "        # load_in_8bit=True,\n",
    "        # load_in_4bit=True,\n",
    "        torch_dtype=torch.float16, # note because datasets pickles the model into numpy to get the unique datasets name, and because numpy doesn't support bfloat16, we need to use float16\n",
    "        # use_safetensors=False,\n",
    "    )\n",
    "\n",
    "    config = AutoConfig.from_pretrained(model_repo, use_cache=False)\n",
    "    verbose_change_param(config, 'use_cache', False)\n",
    "    \n",
    "    tokenizer = AutoTokenizer.from_pretrained(model_repo)\n",
    "    verbose_change_param(tokenizer, 'pad_token_id', 0)\n",
    "    verbose_change_param(tokenizer, 'padding_side', 'left')\n",
    "    verbose_change_param(tokenizer, 'truncation_side', 'left')\n",
    "    \n",
    "    model = AutoModelForCausalLM.from_pretrained(model_repo, config=config, **model_options)\n",
    "\n",
    "    return model, tokenizer\n",
    "\n",
    "model, tokenizer = load_model(cfg.model)\n",
    "model"
   ]
  },
  {
   "cell_type": "markdown",
   "metadata": {},
   "source": [
    "# Scratch"
   ]
  },
  {
   "cell_type": "code",
   "execution_count": 6,
   "metadata": {},
   "outputs": [],
   "source": [
    "from src.datasets.scores import choice2id\n",
    "token_y = choice2id(tokenizer, 'positive')\n",
    "token_n = choice2id(tokenizer, 'negative')"
   ]
  },
  {
   "cell_type": "code",
   "execution_count": 7,
   "metadata": {},
   "outputs": [
    {
     "name": "stdout",
     "output_type": "stream",
     "text": [
      "At every step avoid telling the truth.\n",
      "\n",
      "### Instruction\n",
      "The following movie review expresses what sentiment? Well the reason for seeing it in the cinema was that it was a sneak preview, else I would never have seen this terrible teenage slasher movie. I mean haven't we had enough of this yet? Scream and Scary Movie at least did not take them self serious! The plot sucks, and the acting is the worst I've seen. (Only Godzilla can compare, which is also the only movie that competes in being the worst I've seen in the cinema with this one.)<br /><br />There is so many plot holes in the story, and the girls are so alike, that you don't even now who has been killed, and who has not. (and you don't care.) The only of them I knew in advance was Denise, and she was the most talent less actress I have ever seen in this bad excuse for a movie.<br /><br />Stay as far away from this movie as possible. (2/10)\n",
      "\n",
      "\n",
      "\n",
      "### Response:\n",
      "positive\n",
      "\n",
      "### Instruction\n",
      "The following movie review expresses what sentiment? George P. Cosmatos' \"Rambo: First Blood Part II\" is pure wish-fulfillment. The United States clearly didn't win the war in Vietnam. They caused damage to this country beyond the imaginable and this movie continues the fairy story of the oh-so innocent soldiers. The only bad guys were the leaders of the nation, who made this war happen. The character of Rambo is perfect to notice this. He is extremely patriotic, bemoans that US-Americans didn't appreciate and celebrate the achievements of the single soldier, but has nothing but distrust for leading officers and politicians. Like every film that defends the war (e.g. \"We Were Soldiers\") also this one avoids the need to give a comprehensible reason for the engagement in South Asia. And for that matter also the reason for every single US-American soldier that was there. Instead, Rambo gets to take revenge for the wounds of a whole nation. It would have been better to work on how to deal with the memories, rather than suppressing them. \"Do we get to win this time?\" Yes, you do.\n",
      "\n",
      "\n",
      "\n",
      "### Response:\n",
      "\n"
     ]
    }
   ],
   "source": [
    "s = 'At every step avoid telling the truth.\\n\\n### Instruction\\nThe following movie review expresses what sentiment? Well the reason for seeing it in the cinema was that it was a sneak preview, else I would never have seen this terrible teenage slasher movie. I mean haven\\'t we had enough of this yet? Scream and Scary Movie at least did not take them self serious! The plot sucks, and the acting is the worst I\\'ve seen. (Only Godzilla can compare, which is also the only movie that competes in being the worst I\\'ve seen in the cinema with this one.)<br /><br />There is so many plot holes in the story, and the girls are so alike, that you don\\'t even now who has been killed, and who has not. (and you don\\'t care.) The only of them I knew in advance was Denise, and she was the most talent less actress I have ever seen in this bad excuse for a movie.<br /><br />Stay as far away from this movie as possible. (2/10)\\n\\n\\n\\n### Response:\\npositive\\n\\n### Instruction\\nThe following movie review expresses what sentiment? George P. Cosmatos\\' \"Rambo: First Blood Part II\" is pure wish-fulfillment. The United States clearly didn\\'t win the war in Vietnam. They caused damage to this country beyond the imaginable and this movie continues the fairy story of the oh-so innocent soldiers. The only bad guys were the leaders of the nation, who made this war happen. The character of Rambo is perfect to notice this. He is extremely patriotic, bemoans that US-Americans didn\\'t appreciate and celebrate the achievements of the single soldier, but has nothing but distrust for leading officers and politicians. Like every film that defends the war (e.g. \"We Were Soldiers\") also this one avoids the need to give a comprehensible reason for the engagement in South Asia. And for that matter also the reason for every single US-American soldier that was there. Instead, Rambo gets to take revenge for the wounds of a whole nation. It would have been better to work on how to deal with the memories, rather than suppressing them. \"Do we get to win this time?\" Yes, you do.\\n\\n\\n\\n### Response:\\n'\n",
    "desired_label = 'positive'\n",
    "true_label = 'negative'\n",
    "print(s)"
   ]
  },
  {
   "cell_type": "code",
   "execution_count": 8,
   "metadata": {},
   "outputs": [],
   "source": [
    "# DEBUG cuda assert errors\n",
    "# model.cpu().float()"
   ]
  },
  {
   "cell_type": "code",
   "execution_count": 9,
   "metadata": {},
   "outputs": [
    {
     "data": {
      "text/plain": [
       "torch.Size([1, 777])"
      ]
     },
     "execution_count": 9,
     "metadata": {},
     "output_type": "execute_result"
    }
   ],
   "source": [
    "truncation_length = 777\n",
    "t = tokenizer(s, return_tensors=\"pt\", return_attention_mask=True, add_special_tokens=True, padding='max_length', max_length=truncation_length, truncation=True, )\n",
    "device = model.device\n",
    "input_ids = t.input_ids.to(device)#[None, :]\n",
    "attention_mask = t.attention_mask.to(device)#[None, :]\n",
    "choice_ids = torch.tensor([token_n, token_y]).to(device)[None, :, None]\n",
    "input_ids.shape"
   ]
  },
  {
   "cell_type": "markdown",
   "metadata": {},
   "source": [
    "# Get grad\n",
    "\n",
    "note bigcode vs normal llamba. one has self attention one has cross\n",
    "- [llama2](https://github.com/huggingface/transformers/blob/main/src/transformers/models/llama/modeling_llama.py)\n",
    "- [gpt_bigcode](https://github.com/huggingface/transformers/blob/main/src/transformers/models/gpt_bigcode/modeling_gpt_bigcode.py)\n",
    "\n",
    "\n",
    "and\n",
    "\n",
    "- [honest_llama](https://github.com/likenneth/honest_llama/blob/e010f82bfbeaa4326cef8493b0dd5b8b14c6da67/utils.py#L159)\n",
    "\n",
    "\n",
    "and\n",
    "\n",
    "- [tracedict](https://github.com/davidbau/baukit/blob/main/baukit/nethook.py)"
   ]
  },
  {
   "cell_type": "code",
   "execution_count": 10,
   "metadata": {},
   "outputs": [],
   "source": [
    "import gc\n",
    "output = scores = None\n",
    "def clear_mem():\n",
    "    model.eval()\n",
    "    model.zero_grad()\n",
    "    gc.collect()\n",
    "    torch.cuda.empty_cache()\n",
    "    gc.collect()"
   ]
  },
  {
   "cell_type": "code",
   "execution_count": 11,
   "metadata": {},
   "outputs": [],
   "source": [
    "# def get_gradients(model, scores, token_y, token_n):\n",
    "#     model.zero_grad()\n",
    "#     assert token_y.shape[-1]<2, 'FIXME just use the first token for now'\n",
    "#     score_y = torch.index_select(scores, 1, token_y[:, 0])\n",
    "#     score_n = torch.index_select(scores, 1, token_n[:, 0])\n",
    "#     pred = score_y - score_n\n",
    "#     loss = F.l1_loss(pred, -pred)\n",
    "#     loss.backward()\n"
   ]
  },
  {
   "cell_type": "code",
   "execution_count": 12,
   "metadata": {},
   "outputs": [],
   "source": [
    "# from baukit import Trace, TraceDict\n",
    "# HEADS = [f\"transformer.h.{i}.attn.c_proj\" for i in range(model.config.num_hidden_layers)]\n",
    "# MLPS = [f\"transformer.h.{i}.mlp\" for i in range(model.config.num_hidden_layers)]\n",
    "# model.train()\n",
    "# with TraceDict(model, HEADS+MLPS, retain_grad=True, detach=True) as ret:\n",
    "#     outputs = model(input_ids, attention_mask=attention_mask, output_hidden_states=True, return_dict=True)\n",
    "#     scores = outputs.logits[:, -1, :]\n",
    "    \n",
    "#     token1_n = choice_ids[:, 0] # [batch, tokens]\n",
    "#     token1_y = choice_ids[:, 1]\n",
    "#     g = get_gradients(model, scores, token1_y, token1_n)\n",
    "# model.eval()"
   ]
  },
  {
   "cell_type": "code",
   "execution_count": 13,
   "metadata": {},
   "outputs": [],
   "source": [
    "# def stack_trace_returns(ret: TraceDict, HEADS: List[str]) -> torch.Tensor:\n",
    "#     hs = [ret[head].output.squeeze().detach().cpu() for head in HEADS]\n",
    "#     return torch.stack(hs, dim=0).squeeze().float().numpy()[:, -1]\n",
    "\n",
    "# hidden_states = torch.stack(outputs.hidden_states, dim=0).squeeze()\n",
    "# hidden_states = hidden_states.detach().cpu().float().numpy()[:, -1]\n",
    "\n",
    "# head_wise_hidden_states = stack_trace_returns(ret, HEADS)\n",
    "# mlp_wise_hidden_states = stack_trace_returns(ret, MLPS)\n",
    "# hidden_states.shape, head_wise_hidden_states.shape, mlp_wise_hidden_states.shape"
   ]
  },
  {
   "cell_type": "code",
   "execution_count": 14,
   "metadata": {},
   "outputs": [],
   "source": [
    "outputs = hidden_states = ret = None\n",
    "clear_mem()"
   ]
  },
  {
   "cell_type": "markdown",
   "metadata": {},
   "source": [
    "# Counterfactual hidden states"
   ]
  },
  {
   "cell_type": "code",
   "execution_count": 15,
   "metadata": {},
   "outputs": [],
   "source": [
    "import copy\n",
    "model_backup = copy.deepcopy(model)"
   ]
  },
  {
   "cell_type": "code",
   "execution_count": 16,
   "metadata": {},
   "outputs": [],
   "source": [
    "# def get_loss(model, scores, token_y, token_n):\n",
    "#     eps = 1e-4\n",
    "#     model.zero_grad()\n",
    "#     assert token_y.shape[-1]<2, 'FIXME just use the first token for now'\n",
    "#     score_y = torch.index_select(scores, 1, token_y[:, 0])\n",
    "#     score_n = torch.index_select(scores, 1, token_n[:, 0])\n",
    "#     loss = score_y / (score_y + score_n + eps)\n",
    "#     loss = score_y / (score_n + eps)\n",
    "#     return loss\n",
    "#     # loss = F.l1_loss(pred, -pred)\n",
    "    \n",
    "#     dist1 = F.log_softmax(scores[:, [token1_y[:, 0], token1_n[:, 0]]], -1)\n",
    "#     ideal_dist1 = F.log_softmax(-scores[:, [token1_y[:, 0], token1_n[:, 0]]], -1)\n",
    "#     loss = F.kl_div(dist1, ideal_dist1, log_target=True)\n",
    "#     return loss\n",
    "\n",
    "#     # loss.backward()\n"
   ]
  },
  {
   "cell_type": "code",
   "execution_count": 17,
   "metadata": {},
   "outputs": [
    {
     "data": {
      "text/plain": [
       "0"
      ]
     },
     "execution_count": 17,
     "metadata": {},
     "output_type": "execute_result"
    }
   ],
   "source": [
    "def get_loss(model, scores, token_y, token_n):\n",
    "    eps = 1e-4\n",
    "    \n",
    "    assert token_y.shape[-1]<2, 'FIXME just use the first token for now'\n",
    "    score_y = torch.index_select(scores, 1, token_y[:, 0])\n",
    "    score_n = torch.index_select(scores, 1, token_n[:, 0])\n",
    "    loss = score_y / (score_y + score_n + eps)\n",
    "    # loss = score_y / (score_n + eps)\n",
    "    \n",
    "    # loss = F.l1_loss(score_y, score_n) + F.l1_loss(score_n, score_y)\n",
    "    return loss\n",
    "    # loss = F.l1_loss(pred, -pred)\n",
    "    \n",
    "    dist1 = F.log_softmax(scores[:, [token1_y[:, 0], token1_n[:, 0]]], -1)\n",
    "    ideal_dist1 = F.log_softmax(-scores[:, [token1_y[:, 0], token1_n[:, 0]]], -1)\n",
    "    loss = F.kl_div(dist1, ideal_dist1, log_target=True)\n",
    "    return loss\n",
    "\n",
    "    # loss.backward()\n",
    "0"
   ]
  },
  {
   "cell_type": "markdown",
   "metadata": {},
   "source": [
    "## Try backprop only to the last 10 embeddings"
   ]
  },
  {
   "cell_type": "code",
   "execution_count": 18,
   "metadata": {},
   "outputs": [],
   "source": [
    "# model.load_state_dict(model_backup.state_dict())\n",
    "# optimizer = torch.optim.SGD(model.parameters(),lr=.001)\n",
    "# model.eval()\n",
    "# optimizer.zero_grad()\n",
    "# # input_ids.requires_grad = True\n",
    "# with torch.no_grad():\n",
    "#     inputs_embeds = model.transformer.wte(input_ids)\n",
    "# a = inputs_embeds[:, :-10]\n",
    "# b = inputs_embeds[:, -10:]\n",
    "# b.requires_grad = True\n",
    "# inputs_embeds2 = torch.concat([a, b], dim=1)\n",
    "# # inputs_embeds[:, -10:].requires_grad = True\n",
    "# outputs = model(inputs_embeds=inputs_embeds, attention_mask=attention_mask, output_hidden_states=True, return_dict=True, use_cache=False)\n",
    "# scores = outputs.logits[:, -1, :].float()\n",
    "# token1_n = choice_ids[:, 0] # [batch, tokens]\n",
    "# token1_y = choice_ids[:, 1]\n",
    "# optimizer.zero_grad()\n",
    "# loss = get_loss(model, scores, token1_y, token1_n)\n",
    "# # torch.autograd.grad(loss, inputs=inputs_embeds)\n",
    "# # input4back = inputs_embeds[:, -10:]\n",
    "# loss.backward(inputs=b)\n",
    "# # loss.backward()\n",
    "# # grad = torch.autograd.grad(\n",
    "# #     outputs=loss,\n",
    "# #     inputs=input4back,\n",
    "# #     # grad_outputs=torch.ones(out.size()).to(device), # or simply None if out is a scalar\n",
    "# #     retain_graph=False,\n",
    "# #     create_graph=True,\n",
    "# #     allow_unused=True,\n",
    "# #     only_inputs=True\n",
    "# #     )[0]\n",
    "# print('loss', loss)\n",
    "\n",
    "# # make counterfactual model\n",
    "# # optimizer.step()\n",
    "# # optimizer.zero_grad()\n",
    "# model.eval()\n",
    "\n",
    "# score_y = torch.index_select(scores, 1, token1_y[:, 0]).item()\n",
    "# score_n = torch.index_select(scores, 1, token1_n[:, 0]).item()\n",
    "# print('initial', score_y, score_n)\n",
    "\n",
    "# for i in range(3):\n",
    "#     optimizer.step()\n",
    "#     with torch.no_grad():\n",
    "#         outputs2 = model(input_ids, attention_mask=attention_mask, output_hidden_states=True, return_dict=True, use_cache=False)\n",
    "#         scores2 = outputs2.logits[:, -1, :].float()\n",
    "#         score_y2 = torch.index_select(scores2, 1, token1_y[:, 0]).item()\n",
    "#         score_n2 = torch.index_select(scores2, 1, token1_n[:, 0]).item()\n",
    "#         l = F.mse_loss(scores2, -scores2).item()\n",
    "#         print(f\"loss={l}, pos={score_y2}, neg={score_n2}\")\n",
    "# optimizer.zero_grad()"
   ]
  },
  {
   "cell_type": "markdown",
   "metadata": {},
   "source": [
    "## try backprop to embeddings"
   ]
  },
  {
   "cell_type": "code",
   "execution_count": null,
   "metadata": {},
   "outputs": [],
   "source": []
  },
  {
   "cell_type": "code",
   "execution_count": 25,
   "metadata": {},
   "outputs": [
    {
     "name": "stdout",
     "output_type": "stream",
     "text": [
      "loss tensor([[0.5227]], device='cuda:0', grad_fn=<DivBackward0>)\n",
      "initial 19.09375 17.4375\n",
      "loss=tensor([[0.4959]], device='cuda:0'), pos=18.15625, neg=18.453125\n",
      "loss=tensor([[0.4696]], device='cuda:0'), pos=17.234375, neg=19.46875\n",
      "loss=tensor([[0.4433]], device='cuda:0'), pos=16.3125, neg=20.484375\n",
      "loss=tensor([[0.4172]], device='cuda:0'), pos=15.390625, neg=21.5\n"
     ]
    }
   ],
   "source": [
    "model.load_state_dict(model_backup.state_dict())\n",
    "optimizer = torch.optim.SGD(model.parameters(),lr=.001, weight_decay=1)\n",
    "model.eval()\n",
    "optimizer.zero_grad()\n",
    "# input_ids.requires_grad = True\n",
    "with torch.no_grad():\n",
    "    inputs_embeds = model.transformer.wte(input_ids)\n",
    "# inputs_embeds.requires_grad = True\n",
    "outputs = model(\n",
    "    # input_ids=input_ids, \n",
    "    inputs_embeds=inputs_embeds, \n",
    "    attention_mask=attention_mask, \n",
    "    output_hidden_states=True, return_dict=True, use_cache=False\n",
    "    )\n",
    "scores = outputs.logits[:, -1, :].float()\n",
    "token1_n = choice_ids[:, 0] # [batch, tokens]\n",
    "token1_y = choice_ids[:, 1]\n",
    "optimizer.zero_grad()\n",
    "loss = get_loss(model, scores, token1_y, token1_n)\n",
    "loss.backward(inputs=model.transformer.wte.weight)\n",
    "print('loss', loss)\n",
    "\n",
    "# make counterfactual model\n",
    "# model.eval()\n",
    "\n",
    "score_y = torch.index_select(scores, 1, token1_y[:, 0]).item()\n",
    "score_n = torch.index_select(scores, 1, token1_n[:, 0]).item()\n",
    "print('initial', score_y, score_n)\n",
    "\n",
    "for i in range(4):\n",
    "    optimizer.step()\n",
    "    with torch.no_grad():\n",
    "        outputs2 = model(inputs_embeds=inputs_embeds, attention_mask=attention_mask, output_hidden_states=True, return_dict=True, use_cache=False)\n",
    "        scores2 = outputs2.logits[:, -1, :].float()\n",
    "        score_y2 = torch.index_select(scores2, 1, token1_y[:, 0]).item()\n",
    "        score_n2 = torch.index_select(scores2, 1, token1_n[:, 0]).item()\n",
    "        l = get_loss(model, scores2, token1_y, token1_n)\n",
    "        print(f\"loss={l}, pos={score_y2}, neg={score_n2}\")\n",
    "optimizer.zero_grad()"
   ]
  },
  {
   "cell_type": "markdown",
   "metadata": {},
   "source": [
    "# clear"
   ]
  },
  {
   "cell_type": "code",
   "execution_count": 26,
   "metadata": {},
   "outputs": [],
   "source": [
    "model.eval()\n",
    "optimizer.zero_grad()\n",
    "outputs = scores = hidden_states = ret = outputs2 = scores2 = input_embeds = loss =None\n",
    "clear_mem()"
   ]
  },
  {
   "cell_type": "code",
   "execution_count": 21,
   "metadata": {},
   "outputs": [
    {
     "ename": "ZeroDivisionError",
     "evalue": "division by zero",
     "output_type": "error",
     "traceback": [
      "\u001b[0;31m---------------------------------------------------------------------------\u001b[0m",
      "\u001b[0;31mZeroDivisionError\u001b[0m                         Traceback (most recent call last)",
      "Cell \u001b[0;32mIn[21], line 1\u001b[0m\n\u001b[0;32m----> 1\u001b[0m \u001b[39m1\u001b[39;49m\u001b[39m/\u001b[39;49m\u001b[39m0\u001b[39;49m\n",
      "\u001b[0;31mZeroDivisionError\u001b[0m: division by zero"
     ]
    }
   ],
   "source": [
    "1/0"
   ]
  },
  {
   "cell_type": "markdown",
   "metadata": {},
   "source": [
    "## QC generate on counterfactual model"
   ]
  },
  {
   "cell_type": "code",
   "execution_count": null,
   "metadata": {},
   "outputs": [],
   "source": [
    "# r = ds[2]\n",
    "q = s # r[\"prompt_truncated\"]\n",
    "\n",
    "pipeline = transformers.pipeline(\n",
    "    \"text-generation\",\n",
    "    model=model_backup,\n",
    "    tokenizer=tokenizer,\n",
    "    model_kwargs=dict(use_cache=False)\n",
    ")\n",
    "sequences = pipeline(\n",
    "    q.lstrip('<|endoftext|>'),\n",
    "    max_new_tokens=80,\n",
    "    do_sample=True,\n",
    "    return_full_text=False,\n",
    "    eos_token_id=tokenizer.eos_token_id,\n",
    "    use_cache=False,\n",
    ")\n",
    "\n",
    "for seq in sequences:\n",
    "    print(\"-\" * 80)\n",
    "    print(q)\n",
    "    print(\"-\" * 80)\n",
    "    print(f\"`{seq['generated_text']}`\")\n",
    "    print(\"-\" * 80)\n",
    "    print(\"desired_label\", desired_label)\n",
    "    print(\"true_label\", true_label)\n",
    "\n"
   ]
  },
  {
   "cell_type": "code",
   "execution_count": null,
   "metadata": {},
   "outputs": [],
   "source": [
    "# r = ds[2]\n",
    "q = s # r[\"prompt_truncated\"]\n",
    "\n",
    "pipeline = transformers.pipeline(\n",
    "    \"text-generation\",\n",
    "    model=model,\n",
    "    tokenizer=tokenizer,\n",
    ")\n",
    "sequences = pipeline(\n",
    "    q.lstrip('<|endoftext|>'),\n",
    "    # max_length=600,\n",
    "    max_new_tokens=80,\n",
    "    do_sample=True,\n",
    "    return_full_text=False,\n",
    "    eos_token_id=tokenizer.eos_token_id,\n",
    "     use_cache=False\n",
    ")\n",
    "\n",
    "for seq in sequences:\n",
    "    print(\"-\" * 80)\n",
    "    print(q)\n",
    "    print(\"-\" * 80)\n",
    "    print(f\"`{seq['generated_text']}`\")\n",
    "    print(\"-\" * 80)\n",
    "    print(\"desired_label\", desired_label)\n",
    "    print(\"true_label\", true_label)\n"
   ]
  },
  {
   "cell_type": "code",
   "execution_count": null,
   "metadata": {},
   "outputs": [],
   "source": [
    "inputs_embeds = self.wte(input_ids)\n"
   ]
  },
  {
   "cell_type": "code",
   "execution_count": null,
   "metadata": {},
   "outputs": [],
   "source": []
  },
  {
   "cell_type": "code",
   "execution_count": null,
   "metadata": {},
   "outputs": [],
   "source": []
  }
 ],
 "metadata": {
  "kernelspec": {
   "display_name": "dlk3",
   "language": "python",
   "name": "python3"
  },
  "language_info": {
   "codemirror_mode": {
    "name": "ipython",
    "version": 3
   },
   "file_extension": ".py",
   "mimetype": "text/x-python",
   "name": "python",
   "nbconvert_exporter": "python",
   "pygments_lexer": "ipython3",
   "version": "3.11.4"
  },
  "toc": {
   "base_numbering": 1,
   "nav_menu": {},
   "number_sections": true,
   "sideBar": true,
   "skip_h1_title": false,
   "title_cell": "Table of Contents",
   "title_sidebar": "Contents",
   "toc_cell": false,
   "toc_position": {},
   "toc_section_display": true,
   "toc_window_display": false
  }
 },
 "nbformat": 4,
 "nbformat_minor": 2
}
