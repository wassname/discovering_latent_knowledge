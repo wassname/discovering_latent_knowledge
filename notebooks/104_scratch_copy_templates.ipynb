{
 "cells": [
  {
   "cell_type": "markdown",
   "metadata": {},
   "source": [
    "Just a quick snipper to copy templates from elk to here"
   ]
  },
  {
   "cell_type": "code",
   "execution_count": null,
   "metadata": {},
   "outputs": [],
   "source": [
    "cp_from = [\n",
    "    \"imdb\", # sentiment\n",
    "        \"amazon_polarity\", # sentiment\n",
    "        \"super_glue:boolq\", # reading comprehension\n",
    "        'tweet_eval:irony', # irony\n",
    "        'great_code', # code\n",
    "        'qasc', # Question Answering via Sentence Composition (QASC) # dataset has no label column\n",
    "        \n",
    "        # Datasets with problems\n",
    "        'lauritowal/redefine_math', # dataset has no label column\n",
    "        'crows_pairs', # sterotypes FAIL need to specify label columns\n",
    "        'hate_speech18', # weird errors\n",
    "        'medical_questions_pairs', # medical paraphrase        \n",
    "        'poem_sentiment', # no only boolean for now\n",
    "        'reaganjlee/truthful_qa_mc', # no only bool\n",
    "        ]\n",
    "import shutil\n",
    "from pathlib import Path\n",
    "from elk.promptsource.templates import TEMPLATES_FOLDER_PATH\n",
    "dst_folder = Path(\"../src/prompts/templates/\")\n",
    "for ds_string in cp_from:\n",
    "    ds_name, _, config_name = ds_string.partition(\":\")\n",
    "    src = Path(TEMPLATES_FOLDER_PATH) / ds_name\n",
    "    dst = dst_folder / ds_name\n",
    "    if not dst.exists():\n",
    "        shutil.copytree(src, dst)\n",
    "    print(src, dst)\n",
    "    "
   ]
  }
 ],
 "metadata": {
  "language_info": {
   "name": "python"
  },
  "orig_nbformat": 4
 },
 "nbformat": 4,
 "nbformat_minor": 2
}
