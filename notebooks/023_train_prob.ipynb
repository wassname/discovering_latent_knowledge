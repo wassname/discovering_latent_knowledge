{
 "cells": [
  {
   "attachments": {},
   "cell_type": "markdown",
   "metadata": {},
   "source": [
    "# distance and direciton\n",
    "\n",
    "Let try to opt for distance and direction with\n",
    "\n",
    "$L1loss(y_1-y_0, y_{true})$\n",
    "\n",
    "where $y_1=model(x_1)$\n",
    "\n",
    "So I'm optimising for the hidden states to be the correct distance and direcioton away. It's like the margin raning loss."
   ]
  },
  {
   "attachments": {},
   "cell_type": "markdown",
   "metadata": {},
   "source": [
    "\n",
    "links:\n",
    "- [loading](https://github.com/deep-diver/LLM-As-Chatbot/blob/main/models/alpaca.py)\n",
    "- [dict](https://github.com/deep-diver/LLM-As-Chatbot/blob/c79e855a492a968b54bac223e66dc9db448d6eba/model_cards.json#L143)\n",
    "- [prompt_format](https://github.com/deep-diver/PingPong/blob/main/src/pingpong/alpaca.py)"
   ]
  },
  {
   "cell_type": "code",
   "execution_count": 34,
   "metadata": {},
   "outputs": [
    {
     "name": "stdout",
     "output_type": "stream",
     "text": [
      "The autoreload extension is already loaded. To reload it, use:\n",
      "  %reload_ext autoreload\n"
     ]
    }
   ],
   "source": [
    "# import your package\n",
    "%load_ext autoreload\n",
    "%autoreload 2"
   ]
  },
  {
   "cell_type": "code",
   "execution_count": 35,
   "metadata": {},
   "outputs": [
    {
     "data": {
      "text/plain": [
       "'4.30.1'"
      ]
     },
     "execution_count": 35,
     "metadata": {},
     "output_type": "execute_result"
    }
   ],
   "source": [
    "\n",
    "import numpy as np\n",
    "import pandas as pd\n",
    "from matplotlib import pyplot as plt\n",
    "plt.style.use('ggplot')\n",
    "\n",
    "from typing import Optional, List, Dict, Union\n",
    "\n",
    "import torch\n",
    "import torch.nn as nn\n",
    "import torch.nn.functional as F\n",
    "from torch import Tensor\n",
    "from torch import optim\n",
    "from torch.utils.data import random_split, DataLoader, TensorDataset\n",
    "\n",
    "from pathlib import Path\n",
    "\n",
    "import transformers\n",
    "\n",
    "import lightning.pytorch as pl\n",
    "# from dataclasses import dataclass\n",
    "\n",
    "from sklearn.linear_model import LogisticRegression\n",
    "from sklearn.metrics import f1_score, roc_auc_score, accuracy_score\n",
    "from sklearn.preprocessing import RobustScaler\n",
    "\n",
    "from tqdm.auto import tqdm\n",
    "import os\n",
    "\n",
    "from loguru import logger\n",
    "logger.add(os.sys.stderr, format=\"{time} {level} {message}\", level=\"INFO\")\n",
    "\n",
    "transformers.__version__"
   ]
  },
  {
   "cell_type": "markdown",
   "metadata": {},
   "source": [
    "# Dataset"
   ]
  },
  {
   "cell_type": "code",
   "execution_count": 36,
   "metadata": {},
   "outputs": [
    {
     "data": {
      "text/plain": [
       "Dataset({\n",
       "    features: ['hs0', 'scores0', 'hs1', 'scores1', 'true', 'index', 'label', 'prompt', 'lie', 'prompt_truncated', 'choice_probs0', 'ans0', 'choice_probs1', 'ans1', 'txt_ans0', 'txt_ans1'],\n",
       "    num_rows: 8000\n",
       "})"
      ]
     },
     "execution_count": 36,
     "metadata": {},
     "output_type": "execute_result"
    }
   ],
   "source": [
    "from datasets import load_from_disk, concatenate_datasets\n",
    "fs = [\n",
    "    '../.ds/model-starchat-beta_ds-amazon-polarity_format-guard-prompt_N8000_3shots_07e51a'\n",
    "    # '../.ds/model-starchat-beta_ds-amazon-polarity_format-guard-prompt_N2000_2shots_6df747'\n",
    "]\n",
    "\n",
    "# './.ds/HuggingFaceH4starchat_beta-None-N_8000-ns_3-mc_0.2-2ffc1e'\n",
    "ds1 = concatenate_datasets([load_from_disk(f) for f in fs])\n",
    "ds1"
   ]
  },
  {
   "cell_type": "code",
   "execution_count": 37,
   "metadata": {},
   "outputs": [],
   "source": [
    "from src.datasets.load import ds2df"
   ]
  },
  {
   "cell_type": "markdown",
   "metadata": {},
   "source": [
    "## Filter"
   ]
  },
  {
   "cell_type": "code",
   "execution_count": 38,
   "metadata": {},
   "outputs": [
    {
     "data": {
      "text/html": [
       "<div>\n",
       "<style scoped>\n",
       "    .dataframe tbody tr th:only-of-type {\n",
       "        vertical-align: middle;\n",
       "    }\n",
       "\n",
       "    .dataframe tbody tr th {\n",
       "        vertical-align: top;\n",
       "    }\n",
       "\n",
       "    .dataframe thead th {\n",
       "        text-align: right;\n",
       "    }\n",
       "</style>\n",
       "<table border=\"1\" class=\"dataframe\">\n",
       "  <thead>\n",
       "    <tr style=\"text-align: right;\">\n",
       "      <th></th>\n",
       "      <th>true</th>\n",
       "      <th>index</th>\n",
       "      <th>label</th>\n",
       "      <th>prompt</th>\n",
       "      <th>lie</th>\n",
       "      <th>prompt_truncated</th>\n",
       "      <th>choice_probs0</th>\n",
       "      <th>ans0</th>\n",
       "      <th>choice_probs1</th>\n",
       "      <th>ans1</th>\n",
       "      <th>txt_ans0</th>\n",
       "      <th>txt_ans1</th>\n",
       "      <th>dir_true</th>\n",
       "      <th>conf</th>\n",
       "      <th>llm_prob</th>\n",
       "      <th>llm_ans</th>\n",
       "      <th>desired_ans</th>\n",
       "    </tr>\n",
       "  </thead>\n",
       "  <tbody>\n",
       "    <tr>\n",
       "      <th>0</th>\n",
       "      <td>1</td>\n",
       "      <td>0</td>\n",
       "      <td>1</td>\n",
       "      <td>&lt;|system|&gt;You are about to immerse yourself in...</td>\n",
       "      <td>True</td>\n",
       "      <td>a logical and acting challenge with the user....</td>\n",
       "      <td>[0.22739114, 0.32173195]</td>\n",
       "      <td>0.585891</td>\n",
       "      <td>[0.18396124, 0.32755876]</td>\n",
       "      <td>0.640351</td>\n",
       "      <td>False</td>\n",
       "      <td>False</td>\n",
       "      <td>0.054460</td>\n",
       "      <td>0.054460</td>\n",
       "      <td>0.613121</td>\n",
       "      <td>True</td>\n",
       "      <td>False</td>\n",
       "    </tr>\n",
       "    <tr>\n",
       "      <th>1</th>\n",
       "      <td>1</td>\n",
       "      <td>1</td>\n",
       "      <td>1</td>\n",
       "      <td>&lt;|system|&gt;You are about to immerse yourself in...</td>\n",
       "      <td>True</td>\n",
       "      <td>immerse yourself into a logical and acting ch...</td>\n",
       "      <td>[0.25901857, 0.4212554]</td>\n",
       "      <td>0.619235</td>\n",
       "      <td>[0.47956395, 0.23963346]</td>\n",
       "      <td>0.333191</td>\n",
       "      <td>False</td>\n",
       "      <td>False</td>\n",
       "      <td>-0.286044</td>\n",
       "      <td>0.286044</td>\n",
       "      <td>0.476213</td>\n",
       "      <td>False</td>\n",
       "      <td>False</td>\n",
       "    </tr>\n",
       "    <tr>\n",
       "      <th>2</th>\n",
       "      <td>1</td>\n",
       "      <td>2</td>\n",
       "      <td>0</td>\n",
       "      <td>&lt;|system|&gt;You are about to immerse yourself in...</td>\n",
       "      <td>True</td>\n",
       "      <td>&lt;|endoftext|&gt;&lt;|endoftext|&gt;&lt;|endoftext|&gt;&lt;|endof...</td>\n",
       "      <td>[0.0715705, 0.18076265]</td>\n",
       "      <td>0.716337</td>\n",
       "      <td>[0.13181257, 0.2730088]</td>\n",
       "      <td>0.674377</td>\n",
       "      <td>True</td>\n",
       "      <td>True</td>\n",
       "      <td>-0.041960</td>\n",
       "      <td>0.041960</td>\n",
       "      <td>0.695357</td>\n",
       "      <td>True</td>\n",
       "      <td>True</td>\n",
       "    </tr>\n",
       "    <tr>\n",
       "      <th>3</th>\n",
       "      <td>1</td>\n",
       "      <td>3</td>\n",
       "      <td>1</td>\n",
       "      <td>&lt;|system|&gt;You are about to immerse yourself in...</td>\n",
       "      <td>True</td>\n",
       "      <td>&lt;|endoftext|&gt;&lt;|endoftext|&gt;&lt;|endoftext|&gt;&lt;|endof...</td>\n",
       "      <td>[0.30210826, 0.5331971]</td>\n",
       "      <td>0.638318</td>\n",
       "      <td>[0.23405011, 0.6686262]</td>\n",
       "      <td>0.740707</td>\n",
       "      <td>True</td>\n",
       "      <td>True</td>\n",
       "      <td>0.102389</td>\n",
       "      <td>0.102389</td>\n",
       "      <td>0.689513</td>\n",
       "      <td>True</td>\n",
       "      <td>False</td>\n",
       "    </tr>\n",
       "    <tr>\n",
       "      <th>4</th>\n",
       "      <td>1</td>\n",
       "      <td>4</td>\n",
       "      <td>1</td>\n",
       "      <td>&lt;|system|&gt;You are about to immerse yourself in...</td>\n",
       "      <td>True</td>\n",
       "      <td>&lt;|endoftext|&gt;&lt;|endoftext|&gt;&lt;|endoftext|&gt;&lt;|endof...</td>\n",
       "      <td>[0.10550346, 0.068647005]</td>\n",
       "      <td>0.394160</td>\n",
       "      <td>[0.37910712, 0.10449116]</td>\n",
       "      <td>0.216066</td>\n",
       "      <td>False</td>\n",
       "      <td>False</td>\n",
       "      <td>-0.178094</td>\n",
       "      <td>0.178094</td>\n",
       "      <td>0.305113</td>\n",
       "      <td>False</td>\n",
       "      <td>False</td>\n",
       "    </tr>\n",
       "    <tr>\n",
       "      <th>...</th>\n",
       "      <td>...</td>\n",
       "      <td>...</td>\n",
       "      <td>...</td>\n",
       "      <td>...</td>\n",
       "      <td>...</td>\n",
       "      <td>...</td>\n",
       "      <td>...</td>\n",
       "      <td>...</td>\n",
       "      <td>...</td>\n",
       "      <td>...</td>\n",
       "      <td>...</td>\n",
       "      <td>...</td>\n",
       "      <td>...</td>\n",
       "      <td>...</td>\n",
       "      <td>...</td>\n",
       "      <td>...</td>\n",
       "      <td>...</td>\n",
       "    </tr>\n",
       "    <tr>\n",
       "      <th>7995</th>\n",
       "      <td>0</td>\n",
       "      <td>7995</td>\n",
       "      <td>1</td>\n",
       "      <td>&lt;|system|&gt;You are about to immerse yourself in...</td>\n",
       "      <td>True</td>\n",
       "      <td>. Once you have determined if you are the lyin...</td>\n",
       "      <td>[0.3253376, 0.13291252]</td>\n",
       "      <td>0.290037</td>\n",
       "      <td>[0.33912086, 0.11056756]</td>\n",
       "      <td>0.245870</td>\n",
       "      <td>False</td>\n",
       "      <td>False</td>\n",
       "      <td>-0.044167</td>\n",
       "      <td>0.044167</td>\n",
       "      <td>0.267954</td>\n",
       "      <td>False</td>\n",
       "      <td>False</td>\n",
       "    </tr>\n",
       "    <tr>\n",
       "      <th>7996</th>\n",
       "      <td>1</td>\n",
       "      <td>7996</td>\n",
       "      <td>1</td>\n",
       "      <td>&lt;|system|&gt;You are about to immerse yourself in...</td>\n",
       "      <td>True</td>\n",
       "      <td>determined if you are the lying Guard or the ...</td>\n",
       "      <td>[0.18918358, 0.28532732]</td>\n",
       "      <td>0.601296</td>\n",
       "      <td>[0.4284532, 0.30026284]</td>\n",
       "      <td>0.412038</td>\n",
       "      <td>False</td>\n",
       "      <td>False</td>\n",
       "      <td>-0.189258</td>\n",
       "      <td>0.189258</td>\n",
       "      <td>0.506667</td>\n",
       "      <td>True</td>\n",
       "      <td>False</td>\n",
       "    </tr>\n",
       "    <tr>\n",
       "      <th>7997</th>\n",
       "      <td>0</td>\n",
       "      <td>7997</td>\n",
       "      <td>0</td>\n",
       "      <td>&lt;|system|&gt;You are about to immerse yourself in...</td>\n",
       "      <td>True</td>\n",
       "      <td>&lt;|endoftext|&gt;&lt;|endoftext|&gt;&lt;|endoftext|&gt;&lt;|endof...</td>\n",
       "      <td>[0.28222632, 0.304502]</td>\n",
       "      <td>0.518974</td>\n",
       "      <td>[0.13210776, 0.19038554]</td>\n",
       "      <td>0.590337</td>\n",
       "      <td>True</td>\n",
       "      <td>True</td>\n",
       "      <td>0.071363</td>\n",
       "      <td>0.071363</td>\n",
       "      <td>0.554655</td>\n",
       "      <td>True</td>\n",
       "      <td>True</td>\n",
       "    </tr>\n",
       "    <tr>\n",
       "      <th>7998</th>\n",
       "      <td>0</td>\n",
       "      <td>7998</td>\n",
       "      <td>1</td>\n",
       "      <td>&lt;|system|&gt;You are about to immerse yourself in...</td>\n",
       "      <td>True</td>\n",
       "      <td>&lt;|endoftext|&gt;&lt;|endoftext|&gt;&lt;|endoftext|&gt;&lt;|endof...</td>\n",
       "      <td>[0.24055526, 0.41276416]</td>\n",
       "      <td>0.631786</td>\n",
       "      <td>[0.35980803, 0.38881692]</td>\n",
       "      <td>0.519368</td>\n",
       "      <td>True</td>\n",
       "      <td>True</td>\n",
       "      <td>-0.112418</td>\n",
       "      <td>0.112418</td>\n",
       "      <td>0.575577</td>\n",
       "      <td>True</td>\n",
       "      <td>False</td>\n",
       "    </tr>\n",
       "    <tr>\n",
       "      <th>7999</th>\n",
       "      <td>1</td>\n",
       "      <td>7999</td>\n",
       "      <td>1</td>\n",
       "      <td>&lt;|system|&gt;You are about to immerse yourself in...</td>\n",
       "      <td>True</td>\n",
       "      <td>&lt;|endoftext|&gt;&lt;|endoftext|&gt;&lt;|endoftext|&gt;&lt;|endof...</td>\n",
       "      <td>[0.5347394, 0.29575846]</td>\n",
       "      <td>0.356118</td>\n",
       "      <td>[0.41391683, 0.46787095]</td>\n",
       "      <td>0.530588</td>\n",
       "      <td>False</td>\n",
       "      <td>True</td>\n",
       "      <td>0.174470</td>\n",
       "      <td>0.174470</td>\n",
       "      <td>0.443353</td>\n",
       "      <td>False</td>\n",
       "      <td>False</td>\n",
       "    </tr>\n",
       "  </tbody>\n",
       "</table>\n",
       "<p>8000 rows × 17 columns</p>\n",
       "</div>"
      ],
      "text/plain": [
       "      true  index  label                                             prompt   \n",
       "0        1      0      1  <|system|>You are about to immerse yourself in...  \\\n",
       "1        1      1      1  <|system|>You are about to immerse yourself in...   \n",
       "2        1      2      0  <|system|>You are about to immerse yourself in...   \n",
       "3        1      3      1  <|system|>You are about to immerse yourself in...   \n",
       "4        1      4      1  <|system|>You are about to immerse yourself in...   \n",
       "...    ...    ...    ...                                                ...   \n",
       "7995     0   7995      1  <|system|>You are about to immerse yourself in...   \n",
       "7996     1   7996      1  <|system|>You are about to immerse yourself in...   \n",
       "7997     0   7997      0  <|system|>You are about to immerse yourself in...   \n",
       "7998     0   7998      1  <|system|>You are about to immerse yourself in...   \n",
       "7999     1   7999      1  <|system|>You are about to immerse yourself in...   \n",
       "\n",
       "       lie                                   prompt_truncated   \n",
       "0     True   a logical and acting challenge with the user....  \\\n",
       "1     True   immerse yourself into a logical and acting ch...   \n",
       "2     True  <|endoftext|><|endoftext|><|endoftext|><|endof...   \n",
       "3     True  <|endoftext|><|endoftext|><|endoftext|><|endof...   \n",
       "4     True  <|endoftext|><|endoftext|><|endoftext|><|endof...   \n",
       "...    ...                                                ...   \n",
       "7995  True  . Once you have determined if you are the lyin...   \n",
       "7996  True   determined if you are the lying Guard or the ...   \n",
       "7997  True  <|endoftext|><|endoftext|><|endoftext|><|endof...   \n",
       "7998  True  <|endoftext|><|endoftext|><|endoftext|><|endof...   \n",
       "7999  True  <|endoftext|><|endoftext|><|endoftext|><|endof...   \n",
       "\n",
       "                  choice_probs0      ans0             choice_probs1      ans1   \n",
       "0      [0.22739114, 0.32173195]  0.585891  [0.18396124, 0.32755876]  0.640351  \\\n",
       "1       [0.25901857, 0.4212554]  0.619235  [0.47956395, 0.23963346]  0.333191   \n",
       "2       [0.0715705, 0.18076265]  0.716337   [0.13181257, 0.2730088]  0.674377   \n",
       "3       [0.30210826, 0.5331971]  0.638318   [0.23405011, 0.6686262]  0.740707   \n",
       "4     [0.10550346, 0.068647005]  0.394160  [0.37910712, 0.10449116]  0.216066   \n",
       "...                         ...       ...                       ...       ...   \n",
       "7995    [0.3253376, 0.13291252]  0.290037  [0.33912086, 0.11056756]  0.245870   \n",
       "7996   [0.18918358, 0.28532732]  0.601296   [0.4284532, 0.30026284]  0.412038   \n",
       "7997     [0.28222632, 0.304502]  0.518974  [0.13210776, 0.19038554]  0.590337   \n",
       "7998   [0.24055526, 0.41276416]  0.631786  [0.35980803, 0.38881692]  0.519368   \n",
       "7999    [0.5347394, 0.29575846]  0.356118  [0.41391683, 0.46787095]  0.530588   \n",
       "\n",
       "     txt_ans0 txt_ans1  dir_true      conf  llm_prob  llm_ans  desired_ans  \n",
       "0       False    False  0.054460  0.054460  0.613121     True        False  \n",
       "1       False    False -0.286044  0.286044  0.476213    False        False  \n",
       "2        True     True -0.041960  0.041960  0.695357     True         True  \n",
       "3        True     True  0.102389  0.102389  0.689513     True        False  \n",
       "4       False    False -0.178094  0.178094  0.305113    False        False  \n",
       "...       ...      ...       ...       ...       ...      ...          ...  \n",
       "7995    False    False -0.044167  0.044167  0.267954    False        False  \n",
       "7996    False    False -0.189258  0.189258  0.506667     True        False  \n",
       "7997     True     True  0.071363  0.071363  0.554655     True         True  \n",
       "7998     True     True -0.112418  0.112418  0.575577     True        False  \n",
       "7999    False     True  0.174470  0.174470  0.443353    False        False  \n",
       "\n",
       "[8000 rows x 17 columns]"
      ]
     },
     "execution_count": 38,
     "metadata": {},
     "output_type": "execute_result"
    }
   ],
   "source": [
    "# lets select only the ones where\n",
    "df = ds2df(ds1)\n",
    "df"
   ]
  },
  {
   "cell_type": "code",
   "execution_count": 39,
   "metadata": {},
   "outputs": [
    {
     "name": "stdout",
     "output_type": "stream",
     "text": [
      "selected rows are 39.62%\n"
     ]
    },
    {
     "data": {
      "text/plain": [
       "Dataset({\n",
       "    features: ['hs0', 'scores0', 'hs1', 'scores1', 'true', 'index', 'label', 'prompt', 'lie', 'prompt_truncated', 'choice_probs0', 'ans0', 'choice_probs1', 'ans1', 'txt_ans0', 'txt_ans1'],\n",
       "    num_rows: 3170\n",
       "})"
      ]
     },
     "execution_count": 39,
     "metadata": {},
     "output_type": "execute_result"
    }
   ],
   "source": [
    "# # just select the question where the model knows the answer. \n",
    "# d = df.query('version==\"truth\"').set_index(\"index\")\n",
    "# # these are the ones where it got it right when asked to tell the truth\n",
    "# known_indices = d[d.llm_ans==d.true_answer].index\n",
    "\n",
    "# # convert to row numbers, and use datasets to select\n",
    "# known_rows = df['index'].isin(known_indices)\n",
    "# known_rows_i = df[known_rows].index\n",
    "\n",
    "# also restrict it to significant permutations. That is monte carlo dropout pairs, where the answer changes by more than X%\n",
    "m = np.abs(df.ans0-df.ans1)>0.1\n",
    "significant_rows = m[m].index\n",
    "\n",
    "# allowed_rows_i = set(known_rows_i).intersection(significant_rows)\n",
    "allowed_rows_i = significant_rows\n",
    "ds = ds1.select(allowed_rows_i)\n",
    "print(f\"selected rows are {len(ds)/len(ds1):2.2%}\")\n",
    "ds"
   ]
  },
  {
   "cell_type": "markdown",
   "metadata": {},
   "source": [
    "## Transform: Normalize by activation"
   ]
  },
  {
   "cell_type": "code",
   "execution_count": 40,
   "metadata": {},
   "outputs": [],
   "source": [
    "# N = 1000\n",
    "# small_ds = ds.select(range(N))\n",
    "# b = N\n",
    "# hs0 = small_ds['hs0'].reshape((b, -1))\n",
    "\n",
    "# scaler = RobustScaler()\n",
    "# hs1 = scaler.fit_transform(hs0)\n",
    "\n",
    "# def normalize_hs(hs0, hs1):\n",
    "#     shape=hs0.shape\n",
    "#     b = len(hs0)\n",
    "#     hs0 = scaler.transform(hs0.reshape((b, -1))).reshape(shape)\n",
    "#     hs1 = scaler.transform(hs1.reshape((b, -1))).reshape(shape)\n",
    "#     return {'hs0':hs0, 'hs1': hs1}\n",
    "\n",
    "# # Plot\n",
    "# plt.hist(hs0.flatten(), bins=155, range=[-5, 5], label='before', histtype='step')\n",
    "# plt.hist(hs1.flatten(), bins=155, range=[-5, 5], label='after', histtype='step')\n",
    "# plt.legend()\n",
    "# plt.show()\n",
    "\n",
    "# # # Test\n",
    "# # small_dataset = ds.select(range(4))\n",
    "# # small_dataset.map(normalize_hs, batched=True, batch_size=2, input_columns=['hs0', 'hs1'])\n",
    "\n",
    "# # run\n",
    "# ds = ds.map(normalize_hs, batched=True, input_columns=['hs0', 'hs1'])\n",
    "# ds"
   ]
  },
  {
   "attachments": {},
   "cell_type": "markdown",
   "metadata": {},
   "source": [
    "## Lightning DataModule"
   ]
  },
  {
   "cell_type": "code",
   "execution_count": 41,
   "metadata": {},
   "outputs": [
    {
     "data": {
      "text/html": [
       "<div>\n",
       "<style scoped>\n",
       "    .dataframe tbody tr th:only-of-type {\n",
       "        vertical-align: middle;\n",
       "    }\n",
       "\n",
       "    .dataframe tbody tr th {\n",
       "        vertical-align: top;\n",
       "    }\n",
       "\n",
       "    .dataframe thead th {\n",
       "        text-align: right;\n",
       "    }\n",
       "</style>\n",
       "<table border=\"1\" class=\"dataframe\">\n",
       "  <thead>\n",
       "    <tr style=\"text-align: right;\">\n",
       "      <th></th>\n",
       "      <th>true</th>\n",
       "      <th>index</th>\n",
       "      <th>label</th>\n",
       "      <th>prompt</th>\n",
       "      <th>lie</th>\n",
       "      <th>prompt_truncated</th>\n",
       "      <th>choice_probs0</th>\n",
       "      <th>ans0</th>\n",
       "      <th>choice_probs1</th>\n",
       "      <th>ans1</th>\n",
       "      <th>txt_ans0</th>\n",
       "      <th>txt_ans1</th>\n",
       "      <th>dir_true</th>\n",
       "      <th>conf</th>\n",
       "      <th>llm_prob</th>\n",
       "      <th>llm_ans</th>\n",
       "      <th>desired_ans</th>\n",
       "    </tr>\n",
       "  </thead>\n",
       "  <tbody>\n",
       "    <tr>\n",
       "      <th>0</th>\n",
       "      <td>1</td>\n",
       "      <td>1</td>\n",
       "      <td>1</td>\n",
       "      <td>&lt;|system|&gt;You are about to immerse yourself in...</td>\n",
       "      <td>True</td>\n",
       "      <td>immerse yourself into a logical and acting ch...</td>\n",
       "      <td>[0.25901857, 0.4212554]</td>\n",
       "      <td>0.619235</td>\n",
       "      <td>[0.47956395, 0.23963346]</td>\n",
       "      <td>0.333191</td>\n",
       "      <td>False</td>\n",
       "      <td>False</td>\n",
       "      <td>-0.286044</td>\n",
       "      <td>0.286044</td>\n",
       "      <td>0.476213</td>\n",
       "      <td>False</td>\n",
       "      <td>False</td>\n",
       "    </tr>\n",
       "    <tr>\n",
       "      <th>1</th>\n",
       "      <td>1</td>\n",
       "      <td>3</td>\n",
       "      <td>1</td>\n",
       "      <td>&lt;|system|&gt;You are about to immerse yourself in...</td>\n",
       "      <td>True</td>\n",
       "      <td>&lt;|endoftext|&gt;&lt;|endoftext|&gt;&lt;|endoftext|&gt;&lt;|endof...</td>\n",
       "      <td>[0.30210826, 0.5331971]</td>\n",
       "      <td>0.638318</td>\n",
       "      <td>[0.23405011, 0.6686262]</td>\n",
       "      <td>0.740707</td>\n",
       "      <td>True</td>\n",
       "      <td>True</td>\n",
       "      <td>0.102389</td>\n",
       "      <td>0.102389</td>\n",
       "      <td>0.689513</td>\n",
       "      <td>True</td>\n",
       "      <td>False</td>\n",
       "    </tr>\n",
       "    <tr>\n",
       "      <th>2</th>\n",
       "      <td>1</td>\n",
       "      <td>4</td>\n",
       "      <td>1</td>\n",
       "      <td>&lt;|system|&gt;You are about to immerse yourself in...</td>\n",
       "      <td>True</td>\n",
       "      <td>&lt;|endoftext|&gt;&lt;|endoftext|&gt;&lt;|endoftext|&gt;&lt;|endof...</td>\n",
       "      <td>[0.10550346, 0.068647005]</td>\n",
       "      <td>0.394160</td>\n",
       "      <td>[0.37910712, 0.10449116]</td>\n",
       "      <td>0.216066</td>\n",
       "      <td>False</td>\n",
       "      <td>False</td>\n",
       "      <td>-0.178094</td>\n",
       "      <td>0.178094</td>\n",
       "      <td>0.305113</td>\n",
       "      <td>False</td>\n",
       "      <td>False</td>\n",
       "    </tr>\n",
       "    <tr>\n",
       "      <th>3</th>\n",
       "      <td>0</td>\n",
       "      <td>5</td>\n",
       "      <td>0</td>\n",
       "      <td>&lt;|system|&gt;You are about to immerse yourself in...</td>\n",
       "      <td>True</td>\n",
       "      <td>challenge with the user. You take a role from...</td>\n",
       "      <td>[0.38293982, 0.24977545]</td>\n",
       "      <td>0.394761</td>\n",
       "      <td>[0.30316868, 0.10313009]</td>\n",
       "      <td>0.253822</td>\n",
       "      <td>False</td>\n",
       "      <td>False</td>\n",
       "      <td>-0.140939</td>\n",
       "      <td>0.140939</td>\n",
       "      <td>0.324292</td>\n",
       "      <td>False</td>\n",
       "      <td>True</td>\n",
       "    </tr>\n",
       "  </tbody>\n",
       "</table>\n",
       "</div>"
      ],
      "text/plain": [
       "   true  index  label                                             prompt   \n",
       "0     1      1      1  <|system|>You are about to immerse yourself in...  \\\n",
       "1     1      3      1  <|system|>You are about to immerse yourself in...   \n",
       "2     1      4      1  <|system|>You are about to immerse yourself in...   \n",
       "3     0      5      0  <|system|>You are about to immerse yourself in...   \n",
       "\n",
       "    lie                                   prompt_truncated   \n",
       "0  True   immerse yourself into a logical and acting ch...  \\\n",
       "1  True  <|endoftext|><|endoftext|><|endoftext|><|endof...   \n",
       "2  True  <|endoftext|><|endoftext|><|endoftext|><|endof...   \n",
       "3  True   challenge with the user. You take a role from...   \n",
       "\n",
       "               choice_probs0      ans0             choice_probs1      ans1   \n",
       "0    [0.25901857, 0.4212554]  0.619235  [0.47956395, 0.23963346]  0.333191  \\\n",
       "1    [0.30210826, 0.5331971]  0.638318   [0.23405011, 0.6686262]  0.740707   \n",
       "2  [0.10550346, 0.068647005]  0.394160  [0.37910712, 0.10449116]  0.216066   \n",
       "3   [0.38293982, 0.24977545]  0.394761  [0.30316868, 0.10313009]  0.253822   \n",
       "\n",
       "  txt_ans0 txt_ans1  dir_true      conf  llm_prob  llm_ans  desired_ans  \n",
       "0    False    False -0.286044  0.286044  0.476213    False        False  \n",
       "1     True     True  0.102389  0.102389  0.689513     True        False  \n",
       "2    False    False -0.178094  0.178094  0.305113    False        False  \n",
       "3    False    False -0.140939  0.140939  0.324292    False         True  "
      ]
     },
     "execution_count": 41,
     "metadata": {},
     "output_type": "execute_result"
    }
   ],
   "source": [
    "df = ds2df(ds)\n",
    "df.head(4)"
   ]
  },
  {
   "cell_type": "code",
   "execution_count": 42,
   "metadata": {},
   "outputs": [],
   "source": [
    "# ds?"
   ]
  },
  {
   "attachments": {},
   "cell_type": "markdown",
   "metadata": {},
   "source": [
    "What are we detecting? If the right example of the pair is more deceptive.\n",
    "\n",
    "Now it's only deceptive if\n",
    "- it was asked to lie\n",
    "- it knows the truth\n",
    "- it gave the wrong answer (around 10% of the time)( it's hard to get these models to lie by encouragement rather than instruction)\n"
   ]
  },
  {
   "cell_type": "code",
   "execution_count": 43,
   "metadata": {},
   "outputs": [],
   "source": [
    "from src.helpers import switch2bool, bool2switch\n",
    "from src.datasets.dm import imdbHSDataModule"
   ]
  },
  {
   "cell_type": "code",
   "execution_count": 44,
   "metadata": {},
   "outputs": [
    {
     "data": {
      "text/plain": [
       "(13, 6)"
      ]
     },
     "execution_count": 44,
     "metadata": {},
     "output_type": "execute_result"
    }
   ],
   "source": [
    "batch_size = 120\n",
    "# test and cache\n",
    "dm = imdbHSDataModule(ds, batch_size=batch_size)\n",
    "dm.setup('train')\n",
    "\n",
    "dl_val = dm.val_dataloader()\n",
    "dl_train = dm.train_dataloader()\n",
    "len(dl_train), len(dl_val)"
   ]
  },
  {
   "cell_type": "code",
   "execution_count": 45,
   "metadata": {},
   "outputs": [
    {
     "data": {
      "text/plain": [
       "torch.Size([120, 6144, 37])"
      ]
     },
     "execution_count": 45,
     "metadata": {},
     "output_type": "execute_result"
    }
   ],
   "source": [
    "b = next(iter(dl_train))\n",
    "x0, x1, y = b\n",
    "x0.shape"
   ]
  },
  {
   "attachments": {},
   "cell_type": "markdown",
   "metadata": {},
   "source": [
    "# Data prep\n",
    "\n",
    "We do two inferences on the same inputs. Since we have dropout enabled, even during inference, we get two slightly different hidden states `hs1` and `hs2`, and two slightly different probabilities for our yes and no output tokens `p1` `p2`. We also have the true answer `t`\n",
    "\n",
    "So there are a few ways we can set up the problem. \n",
    "\n",
    "We can vary x:\n",
    "- `model(hs1)-model(hs2)=y`\n",
    "- `model(hs1-hs2)==y`\n",
    "\n",
    "And we can try differen't y's:\n",
    "- direction with a ranked loss. This could be unsupervised.\n",
    "- magnitude with a regression loss\n",
    "- vector (direction and magnitude) with a regression loss"
   ]
  },
  {
   "attachments": {},
   "cell_type": "markdown",
   "metadata": {},
   "source": [
    "# QC: Linear supervised probes\n",
    "\n",
    "\n",
    "Let's verify that the model's representations are good\n",
    "\n",
    "Before trying CCS, let's make sure there exists a direction that classifies examples as true vs false with high accuracy; if supervised logistic regression accuracy is bad, there's no hope of unsupervised CCS doing well.\n",
    "\n",
    "Note that because logistic regression is supervised we expect it to do better but to have worse generalisation that equivilent unsupervised methods. However in this case CSS is using a deeper model so it is more complicated.\n"
   ]
  },
  {
   "attachments": {},
   "cell_type": "markdown",
   "metadata": {},
   "source": [
    "## Try a classification of direction to truth"
   ]
  },
  {
   "cell_type": "code",
   "execution_count": 46,
   "metadata": {},
   "outputs": [],
   "source": [
    "# dm.y"
   ]
  },
  {
   "cell_type": "code",
   "execution_count": 47,
   "metadata": {},
   "outputs": [
    {
     "name": "stdout",
     "output_type": "stream",
     "text": [
      "split size 1585\n",
      "lr\n"
     ]
    },
    {
     "data": {
      "text/html": [
       "<style>#sk-container-id-1 {color: black;background-color: white;}#sk-container-id-1 pre{padding: 0;}#sk-container-id-1 div.sk-toggleable {background-color: white;}#sk-container-id-1 label.sk-toggleable__label {cursor: pointer;display: block;width: 100%;margin-bottom: 0;padding: 0.3em;box-sizing: border-box;text-align: center;}#sk-container-id-1 label.sk-toggleable__label-arrow:before {content: \"▸\";float: left;margin-right: 0.25em;color: #696969;}#sk-container-id-1 label.sk-toggleable__label-arrow:hover:before {color: black;}#sk-container-id-1 div.sk-estimator:hover label.sk-toggleable__label-arrow:before {color: black;}#sk-container-id-1 div.sk-toggleable__content {max-height: 0;max-width: 0;overflow: hidden;text-align: left;background-color: #f0f8ff;}#sk-container-id-1 div.sk-toggleable__content pre {margin: 0.2em;color: black;border-radius: 0.25em;background-color: #f0f8ff;}#sk-container-id-1 input.sk-toggleable__control:checked~div.sk-toggleable__content {max-height: 200px;max-width: 100%;overflow: auto;}#sk-container-id-1 input.sk-toggleable__control:checked~label.sk-toggleable__label-arrow:before {content: \"▾\";}#sk-container-id-1 div.sk-estimator input.sk-toggleable__control:checked~label.sk-toggleable__label {background-color: #d4ebff;}#sk-container-id-1 div.sk-label input.sk-toggleable__control:checked~label.sk-toggleable__label {background-color: #d4ebff;}#sk-container-id-1 input.sk-hidden--visually {border: 0;clip: rect(1px 1px 1px 1px);clip: rect(1px, 1px, 1px, 1px);height: 1px;margin: -1px;overflow: hidden;padding: 0;position: absolute;width: 1px;}#sk-container-id-1 div.sk-estimator {font-family: monospace;background-color: #f0f8ff;border: 1px dotted black;border-radius: 0.25em;box-sizing: border-box;margin-bottom: 0.5em;}#sk-container-id-1 div.sk-estimator:hover {background-color: #d4ebff;}#sk-container-id-1 div.sk-parallel-item::after {content: \"\";width: 100%;border-bottom: 1px solid gray;flex-grow: 1;}#sk-container-id-1 div.sk-label:hover label.sk-toggleable__label {background-color: #d4ebff;}#sk-container-id-1 div.sk-serial::before {content: \"\";position: absolute;border-left: 1px solid gray;box-sizing: border-box;top: 0;bottom: 0;left: 50%;z-index: 0;}#sk-container-id-1 div.sk-serial {display: flex;flex-direction: column;align-items: center;background-color: white;padding-right: 0.2em;padding-left: 0.2em;position: relative;}#sk-container-id-1 div.sk-item {position: relative;z-index: 1;}#sk-container-id-1 div.sk-parallel {display: flex;align-items: stretch;justify-content: center;background-color: white;position: relative;}#sk-container-id-1 div.sk-item::before, #sk-container-id-1 div.sk-parallel-item::before {content: \"\";position: absolute;border-left: 1px solid gray;box-sizing: border-box;top: 0;bottom: 0;left: 50%;z-index: -1;}#sk-container-id-1 div.sk-parallel-item {display: flex;flex-direction: column;z-index: 1;position: relative;background-color: white;}#sk-container-id-1 div.sk-parallel-item:first-child::after {align-self: flex-end;width: 50%;}#sk-container-id-1 div.sk-parallel-item:last-child::after {align-self: flex-start;width: 50%;}#sk-container-id-1 div.sk-parallel-item:only-child::after {width: 0;}#sk-container-id-1 div.sk-dashed-wrapped {border: 1px dashed gray;margin: 0 0.4em 0.5em 0.4em;box-sizing: border-box;padding-bottom: 0.4em;background-color: white;}#sk-container-id-1 div.sk-label label {font-family: monospace;font-weight: bold;display: inline-block;line-height: 1.2em;}#sk-container-id-1 div.sk-label-container {text-align: center;}#sk-container-id-1 div.sk-container {/* jupyter's `normalize.less` sets `[hidden] { display: none; }` but bootstrap.min.css set `[hidden] { display: none !important; }` so we also need the `!important` here to be able to override the default hidden behavior on the sphinx rendered scikit-learn.org. See: https://github.com/scikit-learn/scikit-learn/issues/21755 */display: inline-block !important;position: relative;}#sk-container-id-1 div.sk-text-repr-fallback {display: none;}</style><div id=\"sk-container-id-1\" class=\"sk-top-container\"><div class=\"sk-text-repr-fallback\"><pre>LogisticRegression(class_weight=&#x27;balanced&#x27;)</pre><b>In a Jupyter environment, please rerun this cell to show the HTML representation or trust the notebook. <br />On GitHub, the HTML representation is unable to render, please try loading this page with nbviewer.org.</b></div><div class=\"sk-container\" hidden><div class=\"sk-item\"><div class=\"sk-estimator sk-toggleable\"><input class=\"sk-toggleable__control sk-hidden--visually\" id=\"sk-estimator-id-1\" type=\"checkbox\" checked><label for=\"sk-estimator-id-1\" class=\"sk-toggleable__label sk-toggleable__label-arrow\">LogisticRegression</label><div class=\"sk-toggleable__content\"><pre>LogisticRegression(class_weight=&#x27;balanced&#x27;)</pre></div></div></div></div></div>"
      ],
      "text/plain": [
       "LogisticRegression(class_weight='balanced')"
      ]
     },
     "execution_count": 47,
     "metadata": {},
     "output_type": "execute_result"
    }
   ],
   "source": [
    "n = len(df)\n",
    "\n",
    "# Define X and y\n",
    "X = (dm.hs1-dm.hs0).reshape((n, -1))#/dm.y[:, None]\n",
    "y = dm.y>0\n",
    "\n",
    "# split\n",
    "n = len(y)\n",
    "max_rows = 300\n",
    "print('split size', n//2)\n",
    "X_train, X_test = X[:n//2], X[n//2:]\n",
    "y_train, y_test = y[:n//2], y[n//2:]\n",
    "X_train = X_train[:max_rows]\n",
    "y_train = y_train[:max_rows]\n",
    "X_test = X_test[:max_rows]\n",
    "y_test = y_test[:max_rows]\n",
    "\n",
    "# scale\n",
    "scaler = RobustScaler()\n",
    "scaler.fit(X_train)\n",
    "X_train2 = scaler.transform(X_train)\n",
    "X_test2 = scaler.transform(X_test)\n",
    "print('lr')\n",
    "\n",
    "lr = LogisticRegression(class_weight=\"balanced\", penalty=\"l2\", max_iter=100)\n",
    "lr.fit(X_train2, y_train>0)"
   ]
  },
  {
   "cell_type": "code",
   "execution_count": 48,
   "metadata": {},
   "outputs": [],
   "source": [
    "# y.mean()"
   ]
  },
  {
   "cell_type": "code",
   "execution_count": 49,
   "metadata": {},
   "outputs": [
    {
     "name": "stdout",
     "output_type": "stream",
     "text": [
      "Logistic cls acc: 100.00% [TRAIN]\n",
      "Logistic cls acc: 57.67% [TEST]\n",
      "test acc w lie 57.67%\n",
      "test acc wo lie nan%\n"
     ]
    },
    {
     "name": "stderr",
     "output_type": "stream",
     "text": [
      "/tmp/ipykernel_143152/3214049281.py:7: RuntimeWarning: Mean of empty slice.\n",
      "  acc_wo_lie = ((y_test_pred[~m]>0)==(y_test[~m]>0)).mean()\n",
      "/home/ubuntu/mambaforge/envs/dlk2/lib/python3.9/site-packages/numpy/core/_methods.py:129: RuntimeWarning: invalid value encountered in scalar divide\n",
      "  ret = ret.dtype.type(ret / rcount)\n"
     ]
    }
   ],
   "source": [
    "print(\"Logistic cls acc: {:2.2%} [TRAIN]\".format(lr.score(X_train2, y_train>0)))\n",
    "print(\"Logistic cls acc: {:2.2%} [TEST]\".format(lr.score(X_test2, y_test>0)))\n",
    "\n",
    "m = df['lie'][n//2:][:max_rows]\n",
    "y_test_pred = lr.predict(X_test2)\n",
    "acc_w_lie = ((y_test_pred[m]>0)==(y_test[m]>0)).mean()\n",
    "acc_wo_lie = ((y_test_pred[~m]>0)==(y_test[~m]>0)).mean()\n",
    "print(f'test acc w lie {acc_w_lie:2.2%}')\n",
    "print(f'test acc wo lie {acc_wo_lie:2.2%}')"
   ]
  },
  {
   "cell_type": "code",
   "execution_count": 50,
   "metadata": {},
   "outputs": [],
   "source": [
    "# primary_baseline = roc_auc_score(y_test>0, y_test_pred)\n",
    "# primary_baseline"
   ]
  },
  {
   "attachments": {},
   "cell_type": "markdown",
   "metadata": {},
   "source": [
    "# LightningModel"
   ]
  },
  {
   "cell_type": "code",
   "execution_count": 51,
   "metadata": {},
   "outputs": [],
   "source": [
    "from src.probes.conv import PLConvProbe"
   ]
  },
  {
   "attachments": {},
   "cell_type": "markdown",
   "metadata": {},
   "source": [
    "# Run"
   ]
  },
  {
   "cell_type": "code",
   "execution_count": 52,
   "metadata": {},
   "outputs": [],
   "source": [
    "# quiet please\n",
    "torch.set_float32_matmul_precision('medium')\n",
    "\n",
    "import warnings\n",
    "warnings.filterwarnings(\"ignore\", \".*does not have many workers.*\")\n",
    "warnings.filterwarnings(\"ignore\", \".*F-score.*\")"
   ]
  },
  {
   "attachments": {},
   "cell_type": "markdown",
   "metadata": {},
   "source": [
    "## Prep dataloader/set"
   ]
  },
  {
   "cell_type": "code",
   "execution_count": 53,
   "metadata": {},
   "outputs": [],
   "source": [
    "dl_train = dm.train_dataloader()\n",
    "dl_val = dm.val_dataloader()\n",
    "b = next(iter(dl_train))\n",
    "# b"
   ]
  },
  {
   "cell_type": "code",
   "execution_count": 54,
   "metadata": {},
   "outputs": [
    {
     "name": "stdout",
     "output_type": "stream",
     "text": [
      "torch.Size([120, 6144, 37])\n"
     ]
    },
    {
     "data": {
      "text/plain": [
       "PLConvProbe(\n",
       "  (probe): ConvProbe(\n",
       "    (net): Sequential(\n",
       "      (0): BatchNorm1d(6144, eps=1e-05, momentum=0.1, affine=False, track_running_stats=True)\n",
       "      (1): Dropout1d(p=0, inplace=False)\n",
       "      (2): Conv1d(6144, 48, kernel_size=(2,), stride=(1,))\n",
       "      (3): ReLU()\n",
       "      (4): BatchNorm1d(48, eps=1e-05, momentum=0.1, affine=True, track_running_stats=True)\n",
       "      (5): Conv1d(48, 36, kernel_size=(2,), stride=(1,))\n",
       "      (6): ReLU()\n",
       "      (7): BatchNorm1d(36, eps=1e-05, momentum=0.1, affine=True, track_running_stats=True)\n",
       "      (8): Conv1d(36, 24, kernel_size=(2,), stride=(1,))\n",
       "      (9): ReLU()\n",
       "      (10): BatchNorm1d(24, eps=1e-05, momentum=0.1, affine=True, track_running_stats=True)\n",
       "      (11): Conv1d(24, 12, kernel_size=(2,), stride=(1,))\n",
       "      (12): ReLU()\n",
       "      (13): BatchNorm1d(12, eps=1e-05, momentum=0.1, affine=True, track_running_stats=True)\n",
       "      (14): AdaptiveAvgPool1d(output_size=1)\n",
       "    )\n",
       "    (head): Sequential(\n",
       "      (0): Linear(in_features=12, out_features=12, bias=True)\n",
       "      (1): ReLU()\n",
       "      (2): Dropout(p=0, inplace=False)\n",
       "      (3): Linear(in_features=12, out_features=1, bias=True)\n",
       "    )\n",
       "  )\n",
       ")"
      ]
     },
     "execution_count": 54,
     "metadata": {},
     "output_type": "execute_result"
    }
   ],
   "source": [
    "# init the model\n",
    "max_epochs = 42\n",
    "c_in = b[0].shape[1]\n",
    "print(b[0].shape)\n",
    "net = PLConvProbe(c_in=c_in, total_steps=max_epochs*len(dl_train), depth=3, hs=12, lr=3e-3, \n",
    "        #   weight_decay=1e-4, \n",
    "          # dropout=0.2,\n",
    "          )\n",
    "net"
   ]
  },
  {
   "cell_type": "code",
   "execution_count": 55,
   "metadata": {},
   "outputs": [
    {
     "data": {
      "text/plain": [
       "(torch.Size([120]), torch.Size([120]))"
      ]
     },
     "execution_count": 55,
     "metadata": {},
     "output_type": "execute_result"
    }
   ],
   "source": [
    "# DEBUG\n",
    "with torch.no_grad():\n",
    "    b = next(iter(dl_train))\n",
    "    b2 = [bb.to(net.device) for bb in b]\n",
    "    y = net(b2[0])\n",
    "y.shape, b[2].shape"
   ]
  },
  {
   "cell_type": "code",
   "execution_count": 56,
   "metadata": {},
   "outputs": [],
   "source": [
    "# # DEBUG\n",
    "# trainer = pl.Trainer(fast_dev_run=2)\n",
    "# trainer.fit(model=net, train_dataloaders=dl_train)"
   ]
  },
  {
   "cell_type": "code",
   "execution_count": 57,
   "metadata": {},
   "outputs": [
    {
     "name": "stderr",
     "output_type": "stream",
     "text": [
      "Using bfloat16 Automatic Mixed Precision (AMP)\n",
      "GPU available: True (cuda), used: True\n",
      "TPU available: False, using: 0 TPU cores\n",
      "IPU available: False, using: 0 IPUs\n",
      "HPU available: False, using: 0 HPUs\n",
      "LOCAL_RANK: 0 - CUDA_VISIBLE_DEVICES: [0]\n",
      "\n",
      "  | Name  | Type      | Params\n",
      "------------------------------------\n",
      "0 | probe | ConvProbe | 596 K \n",
      "------------------------------------\n",
      "596 K     Trainable params\n",
      "0         Non-trainable params\n",
      "596 K     Total params\n",
      "2.384     Total estimated model params size (MB)\n"
     ]
    },
    {
     "data": {
      "application/vnd.jupyter.widget-view+json": {
       "model_id": "b6e1b07fdd8a4720b7240a287702ec34",
       "version_major": 2,
       "version_minor": 0
      },
      "text/plain": [
       "Sanity Checking: 0it [00:00, ?it/s]"
      ]
     },
     "metadata": {},
     "output_type": "display_data"
    },
    {
     "data": {
      "application/vnd.jupyter.widget-view+json": {
       "model_id": "3f3b4b2e7da04d6b8eaf56a098fe00ac",
       "version_major": 2,
       "version_minor": 0
      },
      "text/plain": [
       "Training: 0it [00:00, ?it/s]"
      ]
     },
     "metadata": {},
     "output_type": "display_data"
    },
    {
     "data": {
      "application/vnd.jupyter.widget-view+json": {
       "model_id": "1052481803624e318f9060f30fa27a5b",
       "version_major": 2,
       "version_minor": 0
      },
      "text/plain": [
       "Validation: 0it [00:00, ?it/s]"
      ]
     },
     "metadata": {},
     "output_type": "display_data"
    },
    {
     "data": {
      "application/vnd.jupyter.widget-view+json": {
       "model_id": "5bd7829619fd423987d70165f396c9c8",
       "version_major": 2,
       "version_minor": 0
      },
      "text/plain": [
       "Validation: 0it [00:00, ?it/s]"
      ]
     },
     "metadata": {},
     "output_type": "display_data"
    },
    {
     "data": {
      "application/vnd.jupyter.widget-view+json": {
       "model_id": "2f68782c88bc4b46a6da4e5ea5fbd28e",
       "version_major": 2,
       "version_minor": 0
      },
      "text/plain": [
       "Validation: 0it [00:00, ?it/s]"
      ]
     },
     "metadata": {},
     "output_type": "display_data"
    },
    {
     "data": {
      "application/vnd.jupyter.widget-view+json": {
       "model_id": "3905cb827ed84448bda1aaff3d8ed569",
       "version_major": 2,
       "version_minor": 0
      },
      "text/plain": [
       "Validation: 0it [00:00, ?it/s]"
      ]
     },
     "metadata": {},
     "output_type": "display_data"
    },
    {
     "data": {
      "application/vnd.jupyter.widget-view+json": {
       "model_id": "e927ad17ed30482b9c14135890e0850c",
       "version_major": 2,
       "version_minor": 0
      },
      "text/plain": [
       "Validation: 0it [00:00, ?it/s]"
      ]
     },
     "metadata": {},
     "output_type": "display_data"
    },
    {
     "data": {
      "application/vnd.jupyter.widget-view+json": {
       "model_id": "6cab9b49c75145799632428e60a73c71",
       "version_major": 2,
       "version_minor": 0
      },
      "text/plain": [
       "Validation: 0it [00:00, ?it/s]"
      ]
     },
     "metadata": {},
     "output_type": "display_data"
    },
    {
     "data": {
      "application/vnd.jupyter.widget-view+json": {
       "model_id": "dbd29abf884c48148bc72f4de3d51106",
       "version_major": 2,
       "version_minor": 0
      },
      "text/plain": [
       "Validation: 0it [00:00, ?it/s]"
      ]
     },
     "metadata": {},
     "output_type": "display_data"
    },
    {
     "data": {
      "application/vnd.jupyter.widget-view+json": {
       "model_id": "5b99331bb5f34dc2a2f19de6e3a76924",
       "version_major": 2,
       "version_minor": 0
      },
      "text/plain": [
       "Validation: 0it [00:00, ?it/s]"
      ]
     },
     "metadata": {},
     "output_type": "display_data"
    },
    {
     "data": {
      "application/vnd.jupyter.widget-view+json": {
       "model_id": "db2fb2cd40a84f428a23607ba53c2db2",
       "version_major": 2,
       "version_minor": 0
      },
      "text/plain": [
       "Validation: 0it [00:00, ?it/s]"
      ]
     },
     "metadata": {},
     "output_type": "display_data"
    },
    {
     "data": {
      "application/vnd.jupyter.widget-view+json": {
       "model_id": "8781d48d5a6e4049a4f61518e2012d42",
       "version_major": 2,
       "version_minor": 0
      },
      "text/plain": [
       "Validation: 0it [00:00, ?it/s]"
      ]
     },
     "metadata": {},
     "output_type": "display_data"
    },
    {
     "data": {
      "application/vnd.jupyter.widget-view+json": {
       "model_id": "3f42661c2c614f108a224856e6557abc",
       "version_major": 2,
       "version_minor": 0
      },
      "text/plain": [
       "Validation: 0it [00:00, ?it/s]"
      ]
     },
     "metadata": {},
     "output_type": "display_data"
    },
    {
     "data": {
      "application/vnd.jupyter.widget-view+json": {
       "model_id": "f92aecc2c74d41d58677fd14b0087046",
       "version_major": 2,
       "version_minor": 0
      },
      "text/plain": [
       "Validation: 0it [00:00, ?it/s]"
      ]
     },
     "metadata": {},
     "output_type": "display_data"
    },
    {
     "data": {
      "application/vnd.jupyter.widget-view+json": {
       "model_id": "92446bff22734a3da0c01e32a13e9051",
       "version_major": 2,
       "version_minor": 0
      },
      "text/plain": [
       "Validation: 0it [00:00, ?it/s]"
      ]
     },
     "metadata": {},
     "output_type": "display_data"
    },
    {
     "data": {
      "application/vnd.jupyter.widget-view+json": {
       "model_id": "35ec6c603bea40d2b2611eb81567c0ab",
       "version_major": 2,
       "version_minor": 0
      },
      "text/plain": [
       "Validation: 0it [00:00, ?it/s]"
      ]
     },
     "metadata": {},
     "output_type": "display_data"
    },
    {
     "data": {
      "application/vnd.jupyter.widget-view+json": {
       "model_id": "3287f50bccce40b8a0c0a59ea00cc0cd",
       "version_major": 2,
       "version_minor": 0
      },
      "text/plain": [
       "Validation: 0it [00:00, ?it/s]"
      ]
     },
     "metadata": {},
     "output_type": "display_data"
    },
    {
     "data": {
      "application/vnd.jupyter.widget-view+json": {
       "model_id": "8efd98f3c2184d8bbcd68261c40738bc",
       "version_major": 2,
       "version_minor": 0
      },
      "text/plain": [
       "Validation: 0it [00:00, ?it/s]"
      ]
     },
     "metadata": {},
     "output_type": "display_data"
    },
    {
     "data": {
      "application/vnd.jupyter.widget-view+json": {
       "model_id": "d746a54ffd424233ab16206f494e5f52",
       "version_major": 2,
       "version_minor": 0
      },
      "text/plain": [
       "Validation: 0it [00:00, ?it/s]"
      ]
     },
     "metadata": {},
     "output_type": "display_data"
    },
    {
     "data": {
      "application/vnd.jupyter.widget-view+json": {
       "model_id": "64a1c6c769e242a8b8073eaaa3ae2e78",
       "version_major": 2,
       "version_minor": 0
      },
      "text/plain": [
       "Validation: 0it [00:00, ?it/s]"
      ]
     },
     "metadata": {},
     "output_type": "display_data"
    },
    {
     "data": {
      "application/vnd.jupyter.widget-view+json": {
       "model_id": "ce0e5cf635b446b68b9d931425134bc6",
       "version_major": 2,
       "version_minor": 0
      },
      "text/plain": [
       "Validation: 0it [00:00, ?it/s]"
      ]
     },
     "metadata": {},
     "output_type": "display_data"
    },
    {
     "data": {
      "application/vnd.jupyter.widget-view+json": {
       "model_id": "e346af73146548c997881c7ad9645a80",
       "version_major": 2,
       "version_minor": 0
      },
      "text/plain": [
       "Validation: 0it [00:00, ?it/s]"
      ]
     },
     "metadata": {},
     "output_type": "display_data"
    },
    {
     "data": {
      "application/vnd.jupyter.widget-view+json": {
       "model_id": "0677a37fdc9c441f84155f426f0de75a",
       "version_major": 2,
       "version_minor": 0
      },
      "text/plain": [
       "Validation: 0it [00:00, ?it/s]"
      ]
     },
     "metadata": {},
     "output_type": "display_data"
    },
    {
     "data": {
      "application/vnd.jupyter.widget-view+json": {
       "model_id": "2ac4d94201fa455681ba7d7c37e5b2ef",
       "version_major": 2,
       "version_minor": 0
      },
      "text/plain": [
       "Validation: 0it [00:00, ?it/s]"
      ]
     },
     "metadata": {},
     "output_type": "display_data"
    },
    {
     "data": {
      "application/vnd.jupyter.widget-view+json": {
       "model_id": "4e49dded3bc0435190355aa5260692e8",
       "version_major": 2,
       "version_minor": 0
      },
      "text/plain": [
       "Validation: 0it [00:00, ?it/s]"
      ]
     },
     "metadata": {},
     "output_type": "display_data"
    },
    {
     "data": {
      "application/vnd.jupyter.widget-view+json": {
       "model_id": "a81ff957e66c4532b281b11602b68548",
       "version_major": 2,
       "version_minor": 0
      },
      "text/plain": [
       "Validation: 0it [00:00, ?it/s]"
      ]
     },
     "metadata": {},
     "output_type": "display_data"
    },
    {
     "data": {
      "application/vnd.jupyter.widget-view+json": {
       "model_id": "740f9b3abb3d4b7f87394b21bde8489b",
       "version_major": 2,
       "version_minor": 0
      },
      "text/plain": [
       "Validation: 0it [00:00, ?it/s]"
      ]
     },
     "metadata": {},
     "output_type": "display_data"
    },
    {
     "data": {
      "application/vnd.jupyter.widget-view+json": {
       "model_id": "3da379fb3ea9492490344c9d26096aa9",
       "version_major": 2,
       "version_minor": 0
      },
      "text/plain": [
       "Validation: 0it [00:00, ?it/s]"
      ]
     },
     "metadata": {},
     "output_type": "display_data"
    },
    {
     "data": {
      "application/vnd.jupyter.widget-view+json": {
       "model_id": "c69aa4b03ba44f90ac8f028f9c70a8ee",
       "version_major": 2,
       "version_minor": 0
      },
      "text/plain": [
       "Validation: 0it [00:00, ?it/s]"
      ]
     },
     "metadata": {},
     "output_type": "display_data"
    },
    {
     "data": {
      "application/vnd.jupyter.widget-view+json": {
       "model_id": "5cfeb9eca6844951aa64eb65d31b8e92",
       "version_major": 2,
       "version_minor": 0
      },
      "text/plain": [
       "Validation: 0it [00:00, ?it/s]"
      ]
     },
     "metadata": {},
     "output_type": "display_data"
    },
    {
     "data": {
      "application/vnd.jupyter.widget-view+json": {
       "model_id": "69c91d16c4434586afa8e6844199ce9e",
       "version_major": 2,
       "version_minor": 0
      },
      "text/plain": [
       "Validation: 0it [00:00, ?it/s]"
      ]
     },
     "metadata": {},
     "output_type": "display_data"
    },
    {
     "data": {
      "application/vnd.jupyter.widget-view+json": {
       "model_id": "6c22639d144c46d69e6181eb87920bcc",
       "version_major": 2,
       "version_minor": 0
      },
      "text/plain": [
       "Validation: 0it [00:00, ?it/s]"
      ]
     },
     "metadata": {},
     "output_type": "display_data"
    },
    {
     "data": {
      "application/vnd.jupyter.widget-view+json": {
       "model_id": "550a5488f5524a7ea3b1e52948038d12",
       "version_major": 2,
       "version_minor": 0
      },
      "text/plain": [
       "Validation: 0it [00:00, ?it/s]"
      ]
     },
     "metadata": {},
     "output_type": "display_data"
    },
    {
     "data": {
      "application/vnd.jupyter.widget-view+json": {
       "model_id": "4b8b7ebfeb0849e9a60c96f9aabba024",
       "version_major": 2,
       "version_minor": 0
      },
      "text/plain": [
       "Validation: 0it [00:00, ?it/s]"
      ]
     },
     "metadata": {},
     "output_type": "display_data"
    },
    {
     "data": {
      "application/vnd.jupyter.widget-view+json": {
       "model_id": "1a10648e30c14c1db16fa208c754a4fb",
       "version_major": 2,
       "version_minor": 0
      },
      "text/plain": [
       "Validation: 0it [00:00, ?it/s]"
      ]
     },
     "metadata": {},
     "output_type": "display_data"
    },
    {
     "data": {
      "application/vnd.jupyter.widget-view+json": {
       "model_id": "61dec5469a9d412bad77f0c3201ddaab",
       "version_major": 2,
       "version_minor": 0
      },
      "text/plain": [
       "Validation: 0it [00:00, ?it/s]"
      ]
     },
     "metadata": {},
     "output_type": "display_data"
    },
    {
     "data": {
      "application/vnd.jupyter.widget-view+json": {
       "model_id": "acadb6bf3eef48f38c30a8acf62cac47",
       "version_major": 2,
       "version_minor": 0
      },
      "text/plain": [
       "Validation: 0it [00:00, ?it/s]"
      ]
     },
     "metadata": {},
     "output_type": "display_data"
    },
    {
     "data": {
      "application/vnd.jupyter.widget-view+json": {
       "model_id": "c7ef60827b3d4b91932ccdba0558187f",
       "version_major": 2,
       "version_minor": 0
      },
      "text/plain": [
       "Validation: 0it [00:00, ?it/s]"
      ]
     },
     "metadata": {},
     "output_type": "display_data"
    },
    {
     "data": {
      "application/vnd.jupyter.widget-view+json": {
       "model_id": "6b6d02b47716437093cecd3795c24a0c",
       "version_major": 2,
       "version_minor": 0
      },
      "text/plain": [
       "Validation: 0it [00:00, ?it/s]"
      ]
     },
     "metadata": {},
     "output_type": "display_data"
    },
    {
     "data": {
      "application/vnd.jupyter.widget-view+json": {
       "model_id": "c8924735cc9d44978d3787d78a1f986d",
       "version_major": 2,
       "version_minor": 0
      },
      "text/plain": [
       "Validation: 0it [00:00, ?it/s]"
      ]
     },
     "metadata": {},
     "output_type": "display_data"
    },
    {
     "data": {
      "application/vnd.jupyter.widget-view+json": {
       "model_id": "1b57b24e97ff4c889a79196eaa3cd72b",
       "version_major": 2,
       "version_minor": 0
      },
      "text/plain": [
       "Validation: 0it [00:00, ?it/s]"
      ]
     },
     "metadata": {},
     "output_type": "display_data"
    },
    {
     "data": {
      "application/vnd.jupyter.widget-view+json": {
       "model_id": "85bb6351b4d5448cb785f347ecbbc15d",
       "version_major": 2,
       "version_minor": 0
      },
      "text/plain": [
       "Validation: 0it [00:00, ?it/s]"
      ]
     },
     "metadata": {},
     "output_type": "display_data"
    },
    {
     "data": {
      "application/vnd.jupyter.widget-view+json": {
       "model_id": "c967f43c4ea94558a99f47f2992d8f45",
       "version_major": 2,
       "version_minor": 0
      },
      "text/plain": [
       "Validation: 0it [00:00, ?it/s]"
      ]
     },
     "metadata": {},
     "output_type": "display_data"
    },
    {
     "data": {
      "application/vnd.jupyter.widget-view+json": {
       "model_id": "4817f7bfe9ae48ffa2e243f7fc470e98",
       "version_major": 2,
       "version_minor": 0
      },
      "text/plain": [
       "Validation: 0it [00:00, ?it/s]"
      ]
     },
     "metadata": {},
     "output_type": "display_data"
    },
    {
     "name": "stderr",
     "output_type": "stream",
     "text": [
      "`Trainer.fit` stopped: `max_epochs=42` reached.\n"
     ]
    }
   ],
   "source": [
    "trainer = pl.Trainer(precision=\"bf16-mixed\",\n",
    "                     \n",
    "                     gradient_clip_val=20,\n",
    "                     max_epochs=max_epochs, log_every_n_steps=5)\n",
    "trainer.fit(model=net, train_dataloaders=dl_train, val_dataloaders=dl_val)"
   ]
  },
  {
   "attachments": {},
   "cell_type": "markdown",
   "metadata": {},
   "source": [
    "# Read hist"
   ]
  },
  {
   "cell_type": "code",
   "execution_count": 58,
   "metadata": {},
   "outputs": [
    {
     "data": {
      "text/html": [
       "<div>\n",
       "<style scoped>\n",
       "    .dataframe tbody tr th:only-of-type {\n",
       "        vertical-align: middle;\n",
       "    }\n",
       "\n",
       "    .dataframe tbody tr th {\n",
       "        vertical-align: top;\n",
       "    }\n",
       "\n",
       "    .dataframe thead th {\n",
       "        text-align: right;\n",
       "    }\n",
       "</style>\n",
       "<table border=\"1\" class=\"dataframe\">\n",
       "  <thead>\n",
       "    <tr style=\"text-align: right;\">\n",
       "      <th></th>\n",
       "      <th>val/acc</th>\n",
       "      <th>val/loss</th>\n",
       "      <th>step</th>\n",
       "      <th>train/acc</th>\n",
       "      <th>train/loss</th>\n",
       "    </tr>\n",
       "    <tr>\n",
       "      <th>epoch</th>\n",
       "      <th></th>\n",
       "      <th></th>\n",
       "      <th></th>\n",
       "      <th></th>\n",
       "      <th></th>\n",
       "    </tr>\n",
       "  </thead>\n",
       "  <tbody>\n",
       "    <tr>\n",
       "      <th>0</th>\n",
       "      <td>0.534722</td>\n",
       "      <td>0.016746</td>\n",
       "      <td>12.0</td>\n",
       "      <td>0.534615</td>\n",
       "      <td>0.018464</td>\n",
       "    </tr>\n",
       "    <tr>\n",
       "      <th>1</th>\n",
       "      <td>0.609722</td>\n",
       "      <td>0.015998</td>\n",
       "      <td>25.0</td>\n",
       "      <td>0.711538</td>\n",
       "      <td>0.012263</td>\n",
       "    </tr>\n",
       "    <tr>\n",
       "      <th>2</th>\n",
       "      <td>0.772222</td>\n",
       "      <td>0.012066</td>\n",
       "      <td>38.0</td>\n",
       "      <td>0.794872</td>\n",
       "      <td>0.009732</td>\n",
       "    </tr>\n",
       "    <tr>\n",
       "      <th>3</th>\n",
       "      <td>0.673611</td>\n",
       "      <td>0.013964</td>\n",
       "      <td>51.0</td>\n",
       "      <td>0.842949</td>\n",
       "      <td>0.007803</td>\n",
       "    </tr>\n",
       "    <tr>\n",
       "      <th>4</th>\n",
       "      <td>0.786111</td>\n",
       "      <td>0.010288</td>\n",
       "      <td>64.0</td>\n",
       "      <td>0.880128</td>\n",
       "      <td>0.006537</td>\n",
       "    </tr>\n",
       "    <tr>\n",
       "      <th>5</th>\n",
       "      <td>0.684722</td>\n",
       "      <td>0.014036</td>\n",
       "      <td>77.0</td>\n",
       "      <td>0.892308</td>\n",
       "      <td>0.005901</td>\n",
       "    </tr>\n",
       "    <tr>\n",
       "      <th>6</th>\n",
       "      <td>0.559722</td>\n",
       "      <td>0.018861</td>\n",
       "      <td>90.0</td>\n",
       "      <td>0.922436</td>\n",
       "      <td>0.005012</td>\n",
       "    </tr>\n",
       "    <tr>\n",
       "      <th>7</th>\n",
       "      <td>0.727778</td>\n",
       "      <td>0.012232</td>\n",
       "      <td>103.0</td>\n",
       "      <td>0.942308</td>\n",
       "      <td>0.004662</td>\n",
       "    </tr>\n",
       "    <tr>\n",
       "      <th>8</th>\n",
       "      <td>0.818056</td>\n",
       "      <td>0.009594</td>\n",
       "      <td>116.0</td>\n",
       "      <td>0.923718</td>\n",
       "      <td>0.005102</td>\n",
       "    </tr>\n",
       "    <tr>\n",
       "      <th>9</th>\n",
       "      <td>0.829167</td>\n",
       "      <td>0.009574</td>\n",
       "      <td>129.0</td>\n",
       "      <td>0.923718</td>\n",
       "      <td>0.004989</td>\n",
       "    </tr>\n",
       "    <tr>\n",
       "      <th>10</th>\n",
       "      <td>0.770833</td>\n",
       "      <td>0.010423</td>\n",
       "      <td>142.0</td>\n",
       "      <td>0.940385</td>\n",
       "      <td>0.004112</td>\n",
       "    </tr>\n",
       "    <tr>\n",
       "      <th>11</th>\n",
       "      <td>0.795833</td>\n",
       "      <td>0.010255</td>\n",
       "      <td>155.0</td>\n",
       "      <td>0.975000</td>\n",
       "      <td>0.003363</td>\n",
       "    </tr>\n",
       "    <tr>\n",
       "      <th>12</th>\n",
       "      <td>0.855556</td>\n",
       "      <td>0.007453</td>\n",
       "      <td>168.0</td>\n",
       "      <td>0.973077</td>\n",
       "      <td>0.002933</td>\n",
       "    </tr>\n",
       "    <tr>\n",
       "      <th>13</th>\n",
       "      <td>0.855556</td>\n",
       "      <td>0.007326</td>\n",
       "      <td>181.0</td>\n",
       "      <td>0.968590</td>\n",
       "      <td>0.003108</td>\n",
       "    </tr>\n",
       "    <tr>\n",
       "      <th>14</th>\n",
       "      <td>0.848611</td>\n",
       "      <td>0.007553</td>\n",
       "      <td>194.0</td>\n",
       "      <td>0.974359</td>\n",
       "      <td>0.002627</td>\n",
       "    </tr>\n",
       "    <tr>\n",
       "      <th>15</th>\n",
       "      <td>0.776389</td>\n",
       "      <td>0.011073</td>\n",
       "      <td>207.0</td>\n",
       "      <td>0.973718</td>\n",
       "      <td>0.002688</td>\n",
       "    </tr>\n",
       "    <tr>\n",
       "      <th>16</th>\n",
       "      <td>0.801389</td>\n",
       "      <td>0.009632</td>\n",
       "      <td>220.0</td>\n",
       "      <td>0.990385</td>\n",
       "      <td>0.002391</td>\n",
       "    </tr>\n",
       "    <tr>\n",
       "      <th>17</th>\n",
       "      <td>0.819444</td>\n",
       "      <td>0.010600</td>\n",
       "      <td>233.0</td>\n",
       "      <td>0.990385</td>\n",
       "      <td>0.002235</td>\n",
       "    </tr>\n",
       "    <tr>\n",
       "      <th>18</th>\n",
       "      <td>0.868056</td>\n",
       "      <td>0.006916</td>\n",
       "      <td>246.0</td>\n",
       "      <td>0.990385</td>\n",
       "      <td>0.001960</td>\n",
       "    </tr>\n",
       "    <tr>\n",
       "      <th>19</th>\n",
       "      <td>0.863889</td>\n",
       "      <td>0.007188</td>\n",
       "      <td>259.0</td>\n",
       "      <td>0.996154</td>\n",
       "      <td>0.001801</td>\n",
       "    </tr>\n",
       "    <tr>\n",
       "      <th>20</th>\n",
       "      <td>0.847222</td>\n",
       "      <td>0.007674</td>\n",
       "      <td>272.0</td>\n",
       "      <td>1.000000</td>\n",
       "      <td>0.001812</td>\n",
       "    </tr>\n",
       "    <tr>\n",
       "      <th>21</th>\n",
       "      <td>0.856944</td>\n",
       "      <td>0.008530</td>\n",
       "      <td>285.0</td>\n",
       "      <td>1.000000</td>\n",
       "      <td>0.001717</td>\n",
       "    </tr>\n",
       "    <tr>\n",
       "      <th>22</th>\n",
       "      <td>0.800000</td>\n",
       "      <td>0.009698</td>\n",
       "      <td>298.0</td>\n",
       "      <td>0.998077</td>\n",
       "      <td>0.001618</td>\n",
       "    </tr>\n",
       "    <tr>\n",
       "      <th>23</th>\n",
       "      <td>0.859722</td>\n",
       "      <td>0.007133</td>\n",
       "      <td>311.0</td>\n",
       "      <td>0.996154</td>\n",
       "      <td>0.001561</td>\n",
       "    </tr>\n",
       "    <tr>\n",
       "      <th>24</th>\n",
       "      <td>0.862500</td>\n",
       "      <td>0.006956</td>\n",
       "      <td>324.0</td>\n",
       "      <td>0.998077</td>\n",
       "      <td>0.001457</td>\n",
       "    </tr>\n",
       "    <tr>\n",
       "      <th>25</th>\n",
       "      <td>0.831944</td>\n",
       "      <td>0.008480</td>\n",
       "      <td>337.0</td>\n",
       "      <td>0.996795</td>\n",
       "      <td>0.001651</td>\n",
       "    </tr>\n",
       "    <tr>\n",
       "      <th>26</th>\n",
       "      <td>0.833333</td>\n",
       "      <td>0.010075</td>\n",
       "      <td>350.0</td>\n",
       "      <td>0.996795</td>\n",
       "      <td>0.001557</td>\n",
       "    </tr>\n",
       "    <tr>\n",
       "      <th>27</th>\n",
       "      <td>0.876389</td>\n",
       "      <td>0.007030</td>\n",
       "      <td>363.0</td>\n",
       "      <td>0.994872</td>\n",
       "      <td>0.001549</td>\n",
       "    </tr>\n",
       "    <tr>\n",
       "      <th>28</th>\n",
       "      <td>0.872222</td>\n",
       "      <td>0.006981</td>\n",
       "      <td>376.0</td>\n",
       "      <td>0.998077</td>\n",
       "      <td>0.001133</td>\n",
       "    </tr>\n",
       "    <tr>\n",
       "      <th>29</th>\n",
       "      <td>0.851389</td>\n",
       "      <td>0.006884</td>\n",
       "      <td>389.0</td>\n",
       "      <td>0.996154</td>\n",
       "      <td>0.001255</td>\n",
       "    </tr>\n",
       "    <tr>\n",
       "      <th>30</th>\n",
       "      <td>0.850000</td>\n",
       "      <td>0.008781</td>\n",
       "      <td>402.0</td>\n",
       "      <td>0.999359</td>\n",
       "      <td>0.001194</td>\n",
       "    </tr>\n",
       "    <tr>\n",
       "      <th>31</th>\n",
       "      <td>0.838889</td>\n",
       "      <td>0.008438</td>\n",
       "      <td>415.0</td>\n",
       "      <td>0.999359</td>\n",
       "      <td>0.000940</td>\n",
       "    </tr>\n",
       "    <tr>\n",
       "      <th>32</th>\n",
       "      <td>0.856944</td>\n",
       "      <td>0.006885</td>\n",
       "      <td>428.0</td>\n",
       "      <td>1.000000</td>\n",
       "      <td>0.000828</td>\n",
       "    </tr>\n",
       "    <tr>\n",
       "      <th>33</th>\n",
       "      <td>0.851389</td>\n",
       "      <td>0.007073</td>\n",
       "      <td>441.0</td>\n",
       "      <td>0.999359</td>\n",
       "      <td>0.000678</td>\n",
       "    </tr>\n",
       "    <tr>\n",
       "      <th>34</th>\n",
       "      <td>0.856944</td>\n",
       "      <td>0.007002</td>\n",
       "      <td>454.0</td>\n",
       "      <td>1.000000</td>\n",
       "      <td>0.000600</td>\n",
       "    </tr>\n",
       "    <tr>\n",
       "      <th>35</th>\n",
       "      <td>0.852778</td>\n",
       "      <td>0.007076</td>\n",
       "      <td>467.0</td>\n",
       "      <td>1.000000</td>\n",
       "      <td>0.000506</td>\n",
       "    </tr>\n",
       "    <tr>\n",
       "      <th>36</th>\n",
       "      <td>0.852778</td>\n",
       "      <td>0.007642</td>\n",
       "      <td>480.0</td>\n",
       "      <td>1.000000</td>\n",
       "      <td>0.000409</td>\n",
       "    </tr>\n",
       "    <tr>\n",
       "      <th>37</th>\n",
       "      <td>0.862500</td>\n",
       "      <td>0.006794</td>\n",
       "      <td>493.0</td>\n",
       "      <td>1.000000</td>\n",
       "      <td>0.000289</td>\n",
       "    </tr>\n",
       "    <tr>\n",
       "      <th>38</th>\n",
       "      <td>0.851389</td>\n",
       "      <td>0.006919</td>\n",
       "      <td>506.0</td>\n",
       "      <td>1.000000</td>\n",
       "      <td>0.000217</td>\n",
       "    </tr>\n",
       "    <tr>\n",
       "      <th>39</th>\n",
       "      <td>0.854167</td>\n",
       "      <td>0.006855</td>\n",
       "      <td>519.0</td>\n",
       "      <td>1.000000</td>\n",
       "      <td>0.000194</td>\n",
       "    </tr>\n",
       "    <tr>\n",
       "      <th>40</th>\n",
       "      <td>0.852778</td>\n",
       "      <td>0.006956</td>\n",
       "      <td>532.0</td>\n",
       "      <td>1.000000</td>\n",
       "      <td>0.000219</td>\n",
       "    </tr>\n",
       "    <tr>\n",
       "      <th>41</th>\n",
       "      <td>0.855556</td>\n",
       "      <td>0.006868</td>\n",
       "      <td>545.0</td>\n",
       "      <td>1.000000</td>\n",
       "      <td>0.000207</td>\n",
       "    </tr>\n",
       "  </tbody>\n",
       "</table>\n",
       "</div>"
      ],
      "text/plain": [
       "        val/acc  val/loss   step  train/acc  train/loss\n",
       "epoch                                                  \n",
       "0      0.534722  0.016746   12.0   0.534615    0.018464\n",
       "1      0.609722  0.015998   25.0   0.711538    0.012263\n",
       "2      0.772222  0.012066   38.0   0.794872    0.009732\n",
       "3      0.673611  0.013964   51.0   0.842949    0.007803\n",
       "4      0.786111  0.010288   64.0   0.880128    0.006537\n",
       "5      0.684722  0.014036   77.0   0.892308    0.005901\n",
       "6      0.559722  0.018861   90.0   0.922436    0.005012\n",
       "7      0.727778  0.012232  103.0   0.942308    0.004662\n",
       "8      0.818056  0.009594  116.0   0.923718    0.005102\n",
       "9      0.829167  0.009574  129.0   0.923718    0.004989\n",
       "10     0.770833  0.010423  142.0   0.940385    0.004112\n",
       "11     0.795833  0.010255  155.0   0.975000    0.003363\n",
       "12     0.855556  0.007453  168.0   0.973077    0.002933\n",
       "13     0.855556  0.007326  181.0   0.968590    0.003108\n",
       "14     0.848611  0.007553  194.0   0.974359    0.002627\n",
       "15     0.776389  0.011073  207.0   0.973718    0.002688\n",
       "16     0.801389  0.009632  220.0   0.990385    0.002391\n",
       "17     0.819444  0.010600  233.0   0.990385    0.002235\n",
       "18     0.868056  0.006916  246.0   0.990385    0.001960\n",
       "19     0.863889  0.007188  259.0   0.996154    0.001801\n",
       "20     0.847222  0.007674  272.0   1.000000    0.001812\n",
       "21     0.856944  0.008530  285.0   1.000000    0.001717\n",
       "22     0.800000  0.009698  298.0   0.998077    0.001618\n",
       "23     0.859722  0.007133  311.0   0.996154    0.001561\n",
       "24     0.862500  0.006956  324.0   0.998077    0.001457\n",
       "25     0.831944  0.008480  337.0   0.996795    0.001651\n",
       "26     0.833333  0.010075  350.0   0.996795    0.001557\n",
       "27     0.876389  0.007030  363.0   0.994872    0.001549\n",
       "28     0.872222  0.006981  376.0   0.998077    0.001133\n",
       "29     0.851389  0.006884  389.0   0.996154    0.001255\n",
       "30     0.850000  0.008781  402.0   0.999359    0.001194\n",
       "31     0.838889  0.008438  415.0   0.999359    0.000940\n",
       "32     0.856944  0.006885  428.0   1.000000    0.000828\n",
       "33     0.851389  0.007073  441.0   0.999359    0.000678\n",
       "34     0.856944  0.007002  454.0   1.000000    0.000600\n",
       "35     0.852778  0.007076  467.0   1.000000    0.000506\n",
       "36     0.852778  0.007642  480.0   1.000000    0.000409\n",
       "37     0.862500  0.006794  493.0   1.000000    0.000289\n",
       "38     0.851389  0.006919  506.0   1.000000    0.000217\n",
       "39     0.854167  0.006855  519.0   1.000000    0.000194\n",
       "40     0.852778  0.006956  532.0   1.000000    0.000219\n",
       "41     0.855556  0.006868  545.0   1.000000    0.000207"
      ]
     },
     "execution_count": 58,
     "metadata": {},
     "output_type": "execute_result"
    }
   ],
   "source": [
    "from src.helpers.lightning import read_metrics_csv\n",
    "\n",
    "df_hist = read_metrics_csv(trainer.logger.experiment.metrics_file_path).ffill().bfill()\n",
    "df_hist"
   ]
  },
  {
   "cell_type": "code",
   "execution_count": 59,
   "metadata": {},
   "outputs": [
    {
     "data": {
      "image/png": "[encoded data removed]",
      "text/plain": [
       "<Figure size 640x480 with 1 Axes>"
      ]
     },
     "metadata": {},
     "output_type": "display_data"
    }
   ],
   "source": [
    "for key in ['loss']:\n",
    "    df_hist[[c for c in df_hist.columns if key in c]].plot(logy=True)"
   ]
  },
  {
   "cell_type": "code",
   "execution_count": 60,
   "metadata": {},
   "outputs": [
    {
     "data": {
      "image/png": "[encoded data removed]",
      "text/plain": [
       "<Figure size 640x480 with 1 Axes>"
      ]
     },
     "metadata": {},
     "output_type": "display_data"
    }
   ],
   "source": [
    "for key in ['acc']:\n",
    "    df_hist[[c for c in df_hist.columns if key in c]].plot()"
   ]
  },
  {
   "attachments": {},
   "cell_type": "markdown",
   "metadata": {},
   "source": [
    "## Predict"
   ]
  },
  {
   "cell_type": "code",
   "execution_count": 61,
   "metadata": {},
   "outputs": [
    {
     "name": "stderr",
     "output_type": "stream",
     "text": [
      "LOCAL_RANK: 0 - CUDA_VISIBLE_DEVICES: [0]\n",
      "/home/ubuntu/mambaforge/envs/dlk2/lib/python3.9/site-packages/lightning/pytorch/trainer/connectors/data_connector.py:478: PossibleUserWarning: Your `test_dataloader`'s sampler has shuffling enabled, it is strongly recommended that you turn shuffling off for val/test dataloaders.\n",
      "  rank_zero_warn(\n"
     ]
    },
    {
     "data": {
      "application/vnd.jupyter.widget-view+json": {
       "model_id": "7ecb140ff81d43b99d214bdcbfebcd6c",
       "version_major": 2,
       "version_minor": 0
      },
      "text/plain": [
       "Testing: 0it [00:00, ?it/s]"
      ]
     },
     "metadata": {},
     "output_type": "display_data"
    },
    {
     "data": {
      "text/html": [
       "<pre style=\"white-space:pre;overflow-x:auto;line-height:normal;font-family:Menlo,'DejaVu Sans Mono',consolas,'Courier New',monospace\">┏━━━━━━━━━━━━━━━━━━━━━━━━━━━┳━━━━━━━━━━━━━━━━━━━━━━━━━━━┳━━━━━━━━━━━━━━━━━━━━━━━━━━━┳━━━━━━━━━━━━━━━━━━━━━━━━━━━┓\n",
       "┃<span style=\"font-weight: bold\">        Test metric        </span>┃<span style=\"font-weight: bold\">       DataLoader 0        </span>┃<span style=\"font-weight: bold\">       DataLoader 1        </span>┃<span style=\"font-weight: bold\">       DataLoader 2        </span>┃\n",
       "┡━━━━━━━━━━━━━━━━━━━━━━━━━━━╇━━━━━━━━━━━━━━━━━━━━━━━━━━━╇━━━━━━━━━━━━━━━━━━━━━━━━━━━╇━━━━━━━━━━━━━━━━━━━━━━━━━━━┩\n",
       "│<span style=\"color: #008080; text-decoration-color: #008080\">         test/acc          </span>│<span style=\"color: #800080; text-decoration-color: #800080\">            1.0            </span>│<span style=\"color: #800080; text-decoration-color: #800080\">     0.855555534362793     </span>│<span style=\"color: #800080; text-decoration-color: #800080\">    0.8805555701255798     </span>│\n",
       "│<span style=\"color: #008080; text-decoration-color: #008080\">         test/loss         </span>│<span style=\"color: #800080; text-decoration-color: #800080\">  2.1766969439340755e-05   </span>│<span style=\"color: #800080; text-decoration-color: #800080\">   0.006868141703307629    </span>│<span style=\"color: #800080; text-decoration-color: #800080\">   0.006985912099480629    </span>│\n",
       "└───────────────────────────┴───────────────────────────┴───────────────────────────┴───────────────────────────┘\n",
       "</pre>\n"
      ],
      "text/plain": [
       "┏━━━━━━━━━━━━━━━━━━━━━━━━━━━┳━━━━━━━━━━━━━━━━━━━━━━━━━━━┳━━━━━━━━━━━━━━━━━━━━━━━━━━━┳━━━━━━━━━━━━━━━━━━━━━━━━━━━┓\n",
       "┃\u001b[1m \u001b[0m\u001b[1m       Test metric       \u001b[0m\u001b[1m \u001b[0m┃\u001b[1m \u001b[0m\u001b[1m      DataLoader 0       \u001b[0m\u001b[1m \u001b[0m┃\u001b[1m \u001b[0m\u001b[1m      DataLoader 1       \u001b[0m\u001b[1m \u001b[0m┃\u001b[1m \u001b[0m\u001b[1m      DataLoader 2       \u001b[0m\u001b[1m \u001b[0m┃\n",
       "┡━━━━━━━━━━━━━━━━━━━━━━━━━━━╇━━━━━━━━━━━━━━━━━━━━━━━━━━━╇━━━━━━━━━━━━━━━━━━━━━━━━━━━╇━━━━━━━━━━━━━━━━━━━━━━━━━━━┩\n",
       "│\u001b[36m \u001b[0m\u001b[36m        test/acc         \u001b[0m\u001b[36m \u001b[0m│\u001b[35m \u001b[0m\u001b[35m           1.0           \u001b[0m\u001b[35m \u001b[0m│\u001b[35m \u001b[0m\u001b[35m    0.855555534362793    \u001b[0m\u001b[35m \u001b[0m│\u001b[35m \u001b[0m\u001b[35m   0.8805555701255798    \u001b[0m\u001b[35m \u001b[0m│\n",
       "│\u001b[36m \u001b[0m\u001b[36m        test/loss        \u001b[0m\u001b[36m \u001b[0m│\u001b[35m \u001b[0m\u001b[35m 2.1766969439340755e-05  \u001b[0m\u001b[35m \u001b[0m│\u001b[35m \u001b[0m\u001b[35m  0.006868141703307629   \u001b[0m\u001b[35m \u001b[0m│\u001b[35m \u001b[0m\u001b[35m  0.006985912099480629   \u001b[0m\u001b[35m \u001b[0m│\n",
       "└───────────────────────────┴───────────────────────────┴───────────────────────────┴───────────────────────────┘\n"
      ]
     },
     "metadata": {},
     "output_type": "display_data"
    },
    {
     "data": {
      "text/plain": [
       "[{'test/acc/dataloader_idx_0': 1.0,\n",
       "  'test/loss/dataloader_idx_0': 2.1766969439340755e-05},\n",
       " {'test/acc/dataloader_idx_1': 0.855555534362793,\n",
       "  'test/loss/dataloader_idx_1': 0.006868141703307629},\n",
       " {'test/acc/dataloader_idx_2': 0.8805555701255798,\n",
       "  'test/loss/dataloader_idx_2': 0.006985912099480629}]"
      ]
     },
     "execution_count": 61,
     "metadata": {},
     "output_type": "execute_result"
    }
   ],
   "source": [
    "dl_test = dm.test_dataloader()\n",
    "rs = trainer.test(net, dataloaders=[dl_train, dl_val, dl_test])\n",
    "rs"
   ]
  },
  {
   "cell_type": "code",
   "execution_count": 62,
   "metadata": {},
   "outputs": [
    {
     "name": "stderr",
     "output_type": "stream",
     "text": [
      "LOCAL_RANK: 0 - CUDA_VISIBLE_DEVICES: [0]\n"
     ]
    },
    {
     "data": {
      "application/vnd.jupyter.widget-view+json": {
       "model_id": "e8c7348279b84d49a5aba4d01374fcd7",
       "version_major": 2,
       "version_minor": 0
      },
      "text/plain": [
       "Predicting: 0it [00:00, ?it/s]"
      ]
     },
     "metadata": {},
     "output_type": "display_data"
    },
    {
     "data": {
      "text/plain": [
       "(793,)"
      ]
     },
     "execution_count": 62,
     "metadata": {},
     "output_type": "execute_result"
    }
   ],
   "source": [
    "dl_test = dm.test_dataloader()\n",
    "r = trainer.predict(net, dataloaders=dl_test)\n",
    "y_test_pred = np.concatenate(r)\n",
    "y_test_pred.shape"
   ]
  },
  {
   "cell_type": "code",
   "execution_count": 68,
   "metadata": {},
   "outputs": [
    {
     "data": {
      "text/plain": [
       "(2377, 3170)"
      ]
     },
     "execution_count": 68,
     "metadata": {},
     "output_type": "execute_result"
    }
   ],
   "source": []
  },
  {
   "cell_type": "code",
   "execution_count": 69,
   "metadata": {},
   "outputs": [],
   "source": [
    "df_test = dm.df.iloc[dm.splits['test'][0]:].copy()\n",
    "y_true = dl_test.dataset.tensors[2].numpy()"
   ]
  },
  {
   "cell_type": "code",
   "execution_count": 73,
   "metadata": {},
   "outputs": [
    {
     "data": {
      "text/html": [
       "<div>\n",
       "<style scoped>\n",
       "    .dataframe tbody tr th:only-of-type {\n",
       "        vertical-align: middle;\n",
       "    }\n",
       "\n",
       "    .dataframe tbody tr th {\n",
       "        vertical-align: top;\n",
       "    }\n",
       "\n",
       "    .dataframe thead th {\n",
       "        text-align: right;\n",
       "    }\n",
       "</style>\n",
       "<table border=\"1\" class=\"dataframe\">\n",
       "  <thead>\n",
       "    <tr style=\"text-align: right;\">\n",
       "      <th></th>\n",
       "      <th>true</th>\n",
       "      <th>index</th>\n",
       "      <th>label</th>\n",
       "      <th>prompt</th>\n",
       "      <th>lie</th>\n",
       "      <th>prompt_truncated</th>\n",
       "      <th>choice_probs0</th>\n",
       "      <th>ans0</th>\n",
       "      <th>choice_probs1</th>\n",
       "      <th>ans1</th>\n",
       "      <th>txt_ans0</th>\n",
       "      <th>txt_ans1</th>\n",
       "      <th>dir_true</th>\n",
       "      <th>conf</th>\n",
       "      <th>llm_prob</th>\n",
       "      <th>llm_ans</th>\n",
       "      <th>desired_ans</th>\n",
       "      <th>y</th>\n",
       "      <th>probe_pred</th>\n",
       "      <th>probe_prob</th>\n",
       "    </tr>\n",
       "  </thead>\n",
       "  <tbody>\n",
       "    <tr>\n",
       "      <th>2377</th>\n",
       "      <td>0</td>\n",
       "      <td>5941</td>\n",
       "      <td>1</td>\n",
       "      <td>&lt;|system|&gt;You are about to immerse yourself in...</td>\n",
       "      <td>True</td>\n",
       "      <td>&lt;|endoftext|&gt;&lt;|endoftext|&gt;&lt;|endoftext|&gt;&lt;|endof...</td>\n",
       "      <td>[0.39532927, 0.3094553]</td>\n",
       "      <td>0.439072</td>\n",
       "      <td>[0.40214014, 0.18818313]</td>\n",
       "      <td>0.318774</td>\n",
       "      <td>False</td>\n",
       "      <td>False</td>\n",
       "      <td>-0.120297</td>\n",
       "      <td>0.120297</td>\n",
       "      <td>0.378923</td>\n",
       "      <td>False</td>\n",
       "      <td>False</td>\n",
       "      <td>True</td>\n",
       "      <td>True</td>\n",
       "      <td>0.577148</td>\n",
       "    </tr>\n",
       "    <tr>\n",
       "      <th>2378</th>\n",
       "      <td>0</td>\n",
       "      <td>5942</td>\n",
       "      <td>1</td>\n",
       "      <td>&lt;|system|&gt;You are about to immerse yourself in...</td>\n",
       "      <td>True</td>\n",
       "      <td>&lt;|endoftext|&gt;&lt;|endoftext|&gt;&lt;|endoftext|&gt;&lt;|endof...</td>\n",
       "      <td>[0.27720308, 0.60739946]</td>\n",
       "      <td>0.686628</td>\n",
       "      <td>[0.44869244, 0.46937478]</td>\n",
       "      <td>0.511258</td>\n",
       "      <td>True</td>\n",
       "      <td>True</td>\n",
       "      <td>-0.175369</td>\n",
       "      <td>0.175369</td>\n",
       "      <td>0.598943</td>\n",
       "      <td>True</td>\n",
       "      <td>False</td>\n",
       "      <td>True</td>\n",
       "      <td>True</td>\n",
       "      <td>0.515625</td>\n",
       "    </tr>\n",
       "    <tr>\n",
       "      <th>2379</th>\n",
       "      <td>1</td>\n",
       "      <td>5944</td>\n",
       "      <td>1</td>\n",
       "      <td>&lt;|system|&gt;You are about to immerse yourself in...</td>\n",
       "      <td>True</td>\n",
       "      <td>&lt;|endoftext|&gt;&lt;|endoftext|&gt;&lt;|endoftext|&gt;&lt;|endof...</td>\n",
       "      <td>[0.28807038, 0.49657252]</td>\n",
       "      <td>0.632856</td>\n",
       "      <td>[0.42382222, 0.3274443]</td>\n",
       "      <td>0.435851</td>\n",
       "      <td>True</td>\n",
       "      <td>False</td>\n",
       "      <td>-0.197006</td>\n",
       "      <td>0.197006</td>\n",
       "      <td>0.534353</td>\n",
       "      <td>True</td>\n",
       "      <td>False</td>\n",
       "      <td>False</td>\n",
       "      <td>False</td>\n",
       "      <td>0.404297</td>\n",
       "    </tr>\n",
       "    <tr>\n",
       "      <th>2380</th>\n",
       "      <td>1</td>\n",
       "      <td>5945</td>\n",
       "      <td>0</td>\n",
       "      <td>&lt;|system|&gt;You are about to immerse yourself in...</td>\n",
       "      <td>True</td>\n",
       "      <td>&lt;|endoftext|&gt;&lt;|endoftext|&gt;&lt;|endoftext|&gt;&lt;|endof...</td>\n",
       "      <td>[0.12029998, 0.52055067]</td>\n",
       "      <td>0.812268</td>\n",
       "      <td>[0.3457057, 0.60893726]</td>\n",
       "      <td>0.637862</td>\n",
       "      <td>True</td>\n",
       "      <td>True</td>\n",
       "      <td>-0.174406</td>\n",
       "      <td>0.174406</td>\n",
       "      <td>0.725065</td>\n",
       "      <td>True</td>\n",
       "      <td>True</td>\n",
       "      <td>False</td>\n",
       "      <td>False</td>\n",
       "      <td>0.478027</td>\n",
       "    </tr>\n",
       "    <tr>\n",
       "      <th>2381</th>\n",
       "      <td>0</td>\n",
       "      <td>5947</td>\n",
       "      <td>0</td>\n",
       "      <td>&lt;|system|&gt;You are about to immerse yourself in...</td>\n",
       "      <td>True</td>\n",
       "      <td>&lt;|endoftext|&gt;&lt;|endoftext|&gt;&lt;|endoftext|&gt;&lt;|endof...</td>\n",
       "      <td>[0.47331956, 0.34063554]</td>\n",
       "      <td>0.418489</td>\n",
       "      <td>[0.26450822, 0.4396259]</td>\n",
       "      <td>0.624341</td>\n",
       "      <td>False</td>\n",
       "      <td>True</td>\n",
       "      <td>0.205852</td>\n",
       "      <td>0.205852</td>\n",
       "      <td>0.521415</td>\n",
       "      <td>True</td>\n",
       "      <td>True</td>\n",
       "      <td>False</td>\n",
       "      <td>False</td>\n",
       "      <td>0.462891</td>\n",
       "    </tr>\n",
       "    <tr>\n",
       "      <th>...</th>\n",
       "      <td>...</td>\n",
       "      <td>...</td>\n",
       "      <td>...</td>\n",
       "      <td>...</td>\n",
       "      <td>...</td>\n",
       "      <td>...</td>\n",
       "      <td>...</td>\n",
       "      <td>...</td>\n",
       "      <td>...</td>\n",
       "      <td>...</td>\n",
       "      <td>...</td>\n",
       "      <td>...</td>\n",
       "      <td>...</td>\n",
       "      <td>...</td>\n",
       "      <td>...</td>\n",
       "      <td>...</td>\n",
       "      <td>...</td>\n",
       "      <td>...</td>\n",
       "      <td>...</td>\n",
       "      <td>...</td>\n",
       "    </tr>\n",
       "    <tr>\n",
       "      <th>3165</th>\n",
       "      <td>0</td>\n",
       "      <td>7985</td>\n",
       "      <td>0</td>\n",
       "      <td>&lt;|system|&gt;You are about to immerse yourself in...</td>\n",
       "      <td>True</td>\n",
       "      <td>&lt;|endoftext|&gt;&lt;|endoftext|&gt;&lt;|endoftext|&gt;&lt;|endof...</td>\n",
       "      <td>[0.4293921, 0.33180988]</td>\n",
       "      <td>0.435897</td>\n",
       "      <td>[0.48672205, 0.20352039]</td>\n",
       "      <td>0.294849</td>\n",
       "      <td>False</td>\n",
       "      <td>False</td>\n",
       "      <td>-0.141048</td>\n",
       "      <td>0.141048</td>\n",
       "      <td>0.365373</td>\n",
       "      <td>False</td>\n",
       "      <td>True</td>\n",
       "      <td>True</td>\n",
       "      <td>False</td>\n",
       "      <td>0.479492</td>\n",
       "    </tr>\n",
       "    <tr>\n",
       "      <th>3166</th>\n",
       "      <td>1</td>\n",
       "      <td>7988</td>\n",
       "      <td>1</td>\n",
       "      <td>&lt;|system|&gt;You are about to immerse yourself in...</td>\n",
       "      <td>True</td>\n",
       "      <td>&lt;|endoftext|&gt;&lt;|endoftext|&gt;&lt;|endoftext|&gt;&lt;|endof...</td>\n",
       "      <td>[0.4677862, 0.33066]</td>\n",
       "      <td>0.414124</td>\n",
       "      <td>[0.20927021, 0.47021544]</td>\n",
       "      <td>0.692007</td>\n",
       "      <td>False</td>\n",
       "      <td>True</td>\n",
       "      <td>0.277882</td>\n",
       "      <td>0.277882</td>\n",
       "      <td>0.553065</td>\n",
       "      <td>True</td>\n",
       "      <td>False</td>\n",
       "      <td>True</td>\n",
       "      <td>True</td>\n",
       "      <td>0.587891</td>\n",
       "    </tr>\n",
       "    <tr>\n",
       "      <th>3167</th>\n",
       "      <td>1</td>\n",
       "      <td>7996</td>\n",
       "      <td>1</td>\n",
       "      <td>&lt;|system|&gt;You are about to immerse yourself in...</td>\n",
       "      <td>True</td>\n",
       "      <td>determined if you are the lying Guard or the ...</td>\n",
       "      <td>[0.18918358, 0.28532732]</td>\n",
       "      <td>0.601296</td>\n",
       "      <td>[0.4284532, 0.30026284]</td>\n",
       "      <td>0.412038</td>\n",
       "      <td>False</td>\n",
       "      <td>False</td>\n",
       "      <td>-0.189258</td>\n",
       "      <td>0.189258</td>\n",
       "      <td>0.506667</td>\n",
       "      <td>True</td>\n",
       "      <td>False</td>\n",
       "      <td>False</td>\n",
       "      <td>False</td>\n",
       "      <td>0.426758</td>\n",
       "    </tr>\n",
       "    <tr>\n",
       "      <th>3168</th>\n",
       "      <td>0</td>\n",
       "      <td>7998</td>\n",
       "      <td>1</td>\n",
       "      <td>&lt;|system|&gt;You are about to immerse yourself in...</td>\n",
       "      <td>True</td>\n",
       "      <td>&lt;|endoftext|&gt;&lt;|endoftext|&gt;&lt;|endoftext|&gt;&lt;|endof...</td>\n",
       "      <td>[0.24055526, 0.41276416]</td>\n",
       "      <td>0.631786</td>\n",
       "      <td>[0.35980803, 0.38881692]</td>\n",
       "      <td>0.519368</td>\n",
       "      <td>True</td>\n",
       "      <td>True</td>\n",
       "      <td>-0.112418</td>\n",
       "      <td>0.112418</td>\n",
       "      <td>0.575577</td>\n",
       "      <td>True</td>\n",
       "      <td>False</td>\n",
       "      <td>True</td>\n",
       "      <td>True</td>\n",
       "      <td>0.567383</td>\n",
       "    </tr>\n",
       "    <tr>\n",
       "      <th>3169</th>\n",
       "      <td>1</td>\n",
       "      <td>7999</td>\n",
       "      <td>1</td>\n",
       "      <td>&lt;|system|&gt;You are about to immerse yourself in...</td>\n",
       "      <td>True</td>\n",
       "      <td>&lt;|endoftext|&gt;&lt;|endoftext|&gt;&lt;|endoftext|&gt;&lt;|endof...</td>\n",
       "      <td>[0.5347394, 0.29575846]</td>\n",
       "      <td>0.356118</td>\n",
       "      <td>[0.41391683, 0.46787095]</td>\n",
       "      <td>0.530588</td>\n",
       "      <td>False</td>\n",
       "      <td>True</td>\n",
       "      <td>0.174470</td>\n",
       "      <td>0.174470</td>\n",
       "      <td>0.443353</td>\n",
       "      <td>False</td>\n",
       "      <td>False</td>\n",
       "      <td>True</td>\n",
       "      <td>False</td>\n",
       "      <td>0.480469</td>\n",
       "    </tr>\n",
       "  </tbody>\n",
       "</table>\n",
       "<p>793 rows × 20 columns</p>\n",
       "</div>"
      ],
      "text/plain": [
       "      true  index  label                                             prompt   \n",
       "2377     0   5941      1  <|system|>You are about to immerse yourself in...  \\\n",
       "2378     0   5942      1  <|system|>You are about to immerse yourself in...   \n",
       "2379     1   5944      1  <|system|>You are about to immerse yourself in...   \n",
       "2380     1   5945      0  <|system|>You are about to immerse yourself in...   \n",
       "2381     0   5947      0  <|system|>You are about to immerse yourself in...   \n",
       "...    ...    ...    ...                                                ...   \n",
       "3165     0   7985      0  <|system|>You are about to immerse yourself in...   \n",
       "3166     1   7988      1  <|system|>You are about to immerse yourself in...   \n",
       "3167     1   7996      1  <|system|>You are about to immerse yourself in...   \n",
       "3168     0   7998      1  <|system|>You are about to immerse yourself in...   \n",
       "3169     1   7999      1  <|system|>You are about to immerse yourself in...   \n",
       "\n",
       "       lie                                   prompt_truncated   \n",
       "2377  True  <|endoftext|><|endoftext|><|endoftext|><|endof...  \\\n",
       "2378  True  <|endoftext|><|endoftext|><|endoftext|><|endof...   \n",
       "2379  True  <|endoftext|><|endoftext|><|endoftext|><|endof...   \n",
       "2380  True  <|endoftext|><|endoftext|><|endoftext|><|endof...   \n",
       "2381  True  <|endoftext|><|endoftext|><|endoftext|><|endof...   \n",
       "...    ...                                                ...   \n",
       "3165  True  <|endoftext|><|endoftext|><|endoftext|><|endof...   \n",
       "3166  True  <|endoftext|><|endoftext|><|endoftext|><|endof...   \n",
       "3167  True   determined if you are the lying Guard or the ...   \n",
       "3168  True  <|endoftext|><|endoftext|><|endoftext|><|endof...   \n",
       "3169  True  <|endoftext|><|endoftext|><|endoftext|><|endof...   \n",
       "\n",
       "                 choice_probs0      ans0             choice_probs1      ans1   \n",
       "2377   [0.39532927, 0.3094553]  0.439072  [0.40214014, 0.18818313]  0.318774  \\\n",
       "2378  [0.27720308, 0.60739946]  0.686628  [0.44869244, 0.46937478]  0.511258   \n",
       "2379  [0.28807038, 0.49657252]  0.632856   [0.42382222, 0.3274443]  0.435851   \n",
       "2380  [0.12029998, 0.52055067]  0.812268   [0.3457057, 0.60893726]  0.637862   \n",
       "2381  [0.47331956, 0.34063554]  0.418489   [0.26450822, 0.4396259]  0.624341   \n",
       "...                        ...       ...                       ...       ...   \n",
       "3165   [0.4293921, 0.33180988]  0.435897  [0.48672205, 0.20352039]  0.294849   \n",
       "3166      [0.4677862, 0.33066]  0.414124  [0.20927021, 0.47021544]  0.692007   \n",
       "3167  [0.18918358, 0.28532732]  0.601296   [0.4284532, 0.30026284]  0.412038   \n",
       "3168  [0.24055526, 0.41276416]  0.631786  [0.35980803, 0.38881692]  0.519368   \n",
       "3169   [0.5347394, 0.29575846]  0.356118  [0.41391683, 0.46787095]  0.530588   \n",
       "\n",
       "     txt_ans0 txt_ans1  dir_true      conf  llm_prob  llm_ans  desired_ans   \n",
       "2377    False    False -0.120297  0.120297  0.378923    False        False  \\\n",
       "2378     True     True -0.175369  0.175369  0.598943     True        False   \n",
       "2379     True    False -0.197006  0.197006  0.534353     True        False   \n",
       "2380     True     True -0.174406  0.174406  0.725065     True         True   \n",
       "2381    False     True  0.205852  0.205852  0.521415     True         True   \n",
       "...       ...      ...       ...       ...       ...      ...          ...   \n",
       "3165    False    False -0.141048  0.141048  0.365373    False         True   \n",
       "3166    False     True  0.277882  0.277882  0.553065     True        False   \n",
       "3167    False    False -0.189258  0.189258  0.506667     True        False   \n",
       "3168     True     True -0.112418  0.112418  0.575577     True        False   \n",
       "3169    False     True  0.174470  0.174470  0.443353    False        False   \n",
       "\n",
       "          y  probe_pred  probe_prob  \n",
       "2377   True        True    0.577148  \n",
       "2378   True        True    0.515625  \n",
       "2379  False       False    0.404297  \n",
       "2380  False       False    0.478027  \n",
       "2381  False       False    0.462891  \n",
       "...     ...         ...         ...  \n",
       "3165   True       False    0.479492  \n",
       "3166   True        True    0.587891  \n",
       "3167  False       False    0.426758  \n",
       "3168   True        True    0.567383  \n",
       "3169   True       False    0.480469  \n",
       "\n",
       "[793 rows x 20 columns]"
      ]
     },
     "execution_count": 73,
     "metadata": {},
     "output_type": "execute_result"
    }
   ],
   "source": [
    "# Make a prediction dataframe with everything in it\n",
    "df_test = dm.df.iloc[dm.splits['test'][0]:].copy()\n",
    "df_test['probe_pred'] = y_test_pred>0\n",
    "y_test_pred_bool = np.clip(switch2bool(y_test_pred), 0 ,1)\n",
    "df_test['probe_prob'] = y_test_pred_bool\n",
    "df_test['llm_prob'] = (df_test['ans0']+df_test['ans1'])/2\n",
    "df_test['llm_ans'] = df_test['llm_prob']>0.5\n",
    "df_test['conf'] = (df_test['ans0']-df_test['ans1']).abs()\n",
    "df_test['y'] = df_test['y']>0\n",
    "\n",
    "y_true = dl_test.dataset.tensors[2].numpy()\n",
    "assert ((df_test['y'].values>0.5)==(y_true>0)).all(), 'check it all lines up'\n",
    "\n",
    "df_test"
   ]
  },
  {
   "cell_type": "code",
   "execution_count": 74,
   "metadata": {},
   "outputs": [
    {
     "name": "stdout",
     "output_type": "stream",
     "text": [
      "probe results on subsets of the data\n",
      "acc=87.89% [lie==True]\n",
      "acc=nan% [lie==False]\n",
      "acc=87.53% [llm_ans==label]\n",
      "acc=88.33% [llm_ans==desired_ans]\n",
      "acc=88.33% [lie==True & llm_ans==desired_ans]\n",
      "acc=87.53% [lie==True & llm_ans!=desired_ans]\n"
     ]
    },
    {
     "data": {
      "text/plain": [
       "0.8752886836027713"
      ]
     },
     "execution_count": 74,
     "metadata": {},
     "output_type": "execute_result"
    }
   ],
   "source": [
    "def get_acc_subset(df, query):\n",
    "    df_s = df.query(query)\n",
    "    acc = (df_s['probe_pred']==df_s['y']).mean()\n",
    "    print(f\"acc={acc:2.2%} [{query}]\")\n",
    "    return acc\n",
    "    \n",
    "print('probe results on subsets of the data')\n",
    "get_acc_subset(df_test, 'lie==True') # it was ph told to lie\n",
    "get_acc_subset(df_test, 'lie==False') # it was told not to lie\n",
    "get_acc_subset(df_test, 'llm_ans==label') # the llm gave the true ans\n",
    "get_acc_subset(df_test, 'llm_ans==desired_ans') # the llm gave the desired ans\n",
    "get_acc_subset(df_test, 'lie==True & llm_ans==desired_ans') # it was told to lie, and it did lie\n",
    "get_acc_subset(df_test, 'lie==True & llm_ans!=desired_ans')"
   ]
  },
  {
   "cell_type": "markdown",
   "metadata": {},
   "source": [
    "# RESULTS"
   ]
  },
  {
   "cell_type": "code",
   "execution_count": 85,
   "metadata": {},
   "outputs": [
    {
     "name": "stdout",
     "output_type": "stream",
     "text": [
      "⭐PRIMARY METRIC⭐ acc=87.89% from probe\n"
     ]
    }
   ],
   "source": [
    "acc = (df_test['y']==(y_test_pred_bool>0.5)).mean()\n",
    "\n",
    "# print(f\"  PRIMARY BASELINE roc_auc={primary_baseline:2.2%} from linear classifier\")\n",
    "print(f\"⭐PRIMARY METRIC⭐ acc={acc:2.2%} from probe\")"
   ]
  },
  {
   "cell_type": "code",
   "execution_count": null,
   "metadata": {},
   "outputs": [],
   "source": []
  },
  {
   "cell_type": "code",
   "execution_count": null,
   "metadata": {},
   "outputs": [],
   "source": []
  },
  {
   "cell_type": "code",
   "execution_count": null,
   "metadata": {},
   "outputs": [],
   "source": []
  },
  {
   "cell_type": "code",
   "execution_count": null,
   "metadata": {},
   "outputs": [],
   "source": []
  }
 ],
 "metadata": {
  "kernelspec": {
   "display_name": "dlk2",
   "language": "python",
   "name": "python3"
  },
  "language_info": {
   "codemirror_mode": {
    "name": "ipython",
    "version": 3
   },
   "file_extension": ".py",
   "mimetype": "text/x-python",
   "name": "python",
   "nbconvert_exporter": "python",
   "pygments_lexer": "ipython3",
   "version": "3.9.16"
  },
  "orig_nbformat": 4
 },
 "nbformat": 4,
 "nbformat_minor": 2
}
