{
 "cells": [
  {
   "attachments": {},
   "cell_type": "markdown",
   "metadata": {},
   "source": [
    "# distance and direciton\n",
    "\n",
    "Let try to opt for distance and direction with\n",
    "\n",
    "$L1loss(y_1-y_0, y_{true})$\n",
    "\n",
    "where $y_1=model(x_1)$\n",
    "\n",
    "So I'm optimising for the hidden states to be the correct distance and direcioton away. It's like the margin raning loss."
   ]
  },
  {
   "attachments": {},
   "cell_type": "markdown",
   "metadata": {},
   "source": [
    "\n",
    "links:\n",
    "- [loading](https://github.com/deep-diver/LLM-As-Chatbot/blob/main/models/alpaca.py)\n",
    "- [dict](https://github.com/deep-diver/LLM-As-Chatbot/blob/c79e855a492a968b54bac223e66dc9db448d6eba/model_cards.json#L143)\n",
    "- [prompt_format](https://github.com/deep-diver/PingPong/blob/main/src/pingpong/alpaca.py)"
   ]
  },
  {
   "cell_type": "code",
   "execution_count": null,
   "metadata": {},
   "outputs": [],
   "source": [
    "# import your package\n",
    "%load_ext autoreload\n",
    "%autoreload 2"
   ]
  },
  {
   "cell_type": "code",
   "execution_count": null,
   "metadata": {},
   "outputs": [],
   "source": [
    "\n",
    "import numpy as np\n",
    "import pandas as pd\n",
    "from matplotlib import pyplot as plt\n",
    "plt.style.use('ggplot')\n",
    "\n",
    "from typing import Optional, List, Dict, Union\n",
    "\n",
    "import torch\n",
    "import torch.nn as nn\n",
    "import torch.nn.functional as F\n",
    "from torch import Tensor\n",
    "from torch import optim\n",
    "from torch.utils.data import random_split, DataLoader, TensorDataset\n",
    "\n",
    "from pathlib import Path\n",
    "\n",
    "import transformers\n",
    "\n",
    "import lightning.pytorch as pl\n",
    "# from dataclasses import dataclass\n",
    "\n",
    "from sklearn.linear_model import LogisticRegression\n",
    "from sklearn.metrics import f1_score, roc_auc_score, accuracy_score\n",
    "from sklearn.preprocessing import RobustScaler\n",
    "\n",
    "from tqdm.auto import tqdm\n",
    "import os\n",
    "\n",
    "from loguru import logger\n",
    "logger.add(os.sys.stderr, format=\"{time} {level} {message}\", level=\"INFO\")\n",
    "\n",
    "\n",
    "\n",
    "transformers.__version__"
   ]
  },
  {
   "cell_type": "code",
   "execution_count": null,
   "metadata": {},
   "outputs": [],
   "source": [
    "from src.helpers.lightning import read_metrics_csv"
   ]
  },
  {
   "cell_type": "markdown",
   "metadata": {},
   "source": [
    "# Dataset"
   ]
  },
  {
   "cell_type": "code",
   "execution_count": null,
   "metadata": {},
   "outputs": [],
   "source": [
    "from datasets import load_from_disk, concatenate_datasets\n",
    "fs = [\n",
    "    # '../.ds/HuggingFaceH4starchat_beta_imdb_train_9002',\n",
    "    '../.ds/HuggingFaceH4starchat_beta_imdb_train_12002',\n",
    "    # '../.ds/HuggingFaceH4starchat_beta_amazon_polarity_train_12002'\n",
    "]\n",
    "\n",
    "# './.ds/HuggingFaceH4starchat_beta-None-N_8000-ns_3-mc_0.2-2ffc1e'\n",
    "ds1 = concatenate_datasets([load_from_disk(f) for f in fs])\n",
    "ds1"
   ]
  },
  {
   "cell_type": "code",
   "execution_count": null,
   "metadata": {},
   "outputs": [],
   "source": [
    "from src.datasets.load import ds2df"
   ]
  },
  {
   "cell_type": "markdown",
   "metadata": {},
   "source": [
    "## Filter"
   ]
  },
  {
   "cell_type": "code",
   "execution_count": null,
   "metadata": {},
   "outputs": [],
   "source": [
    "# lets select only the ones where\n",
    "df = ds2df(ds1)\n",
    "df"
   ]
  },
  {
   "cell_type": "code",
   "execution_count": null,
   "metadata": {},
   "outputs": [],
   "source": []
  },
  {
   "cell_type": "code",
   "execution_count": null,
   "metadata": {},
   "outputs": [],
   "source": [
    "# # just select the question where the model knows the answer. \n",
    "d = df.query('sys_instr_name==\"truth\"').set_index(\"example_i\")\n",
    "\n",
    "# # these are the ones where it got it right when asked to tell the truth\n",
    "m1 = d.llm_ans==d.label_true\n",
    "known_indices = d[m1].index\n",
    "print(f\"select rows are {m1.mean():2.2%} based on knowledge\")\n",
    "# # convert to row numbers, and use datasets to select\n",
    "known_rows = df['example_i'].isin(known_indices)\n",
    "known_rows_i = df[known_rows].index\n",
    "\n",
    "# also restrict it to significant permutations. That is monte carlo dropout pairs, where the answer changes by more than X%\n",
    "m = np.abs(df.ans0-df.ans1)>0.05\n",
    "print(f\"selected rows are {m.mean():2.2%} for significance\")\n",
    "significant_rows = m[m].index\n",
    "\n",
    "allowed_rows_i = set(known_rows_i).intersection(significant_rows)\n",
    "# allowed_rows_i = significant_rows\n",
    "ds = ds1.select(allowed_rows_i)\n",
    "ds"
   ]
  },
  {
   "cell_type": "markdown",
   "metadata": {},
   "source": [
    "## Transform: Normalize by activation"
   ]
  },
  {
   "cell_type": "code",
   "execution_count": null,
   "metadata": {},
   "outputs": [],
   "source": [
    "# N = 1000\n",
    "# small_ds = ds.select(range(N))\n",
    "# b = N\n",
    "# hs0 = small_ds['hs0'].reshape((b, -1))\n",
    "\n",
    "# scaler = RobustScaler()\n",
    "# hs1 = scaler.fit_transform(hs0)\n",
    "\n",
    "# def normalize_hs(hs0, hs1):\n",
    "#     shape=hs0.shape\n",
    "#     b = len(hs0)\n",
    "#     hs0 = scaler.transform(hs0.reshape((b, -1))).reshape(shape)\n",
    "#     hs1 = scaler.transform(hs1.reshape((b, -1))).reshape(shape)\n",
    "#     return {'hs0':hs0, 'hs1': hs1}\n",
    "\n",
    "# # Plot\n",
    "# plt.hist(hs0.flatten(), bins=155, range=[-5, 5], label='before', histtype='step')\n",
    "# plt.hist(hs1.flatten(), bins=155, range=[-5, 5], label='after', histtype='step')\n",
    "# plt.legend()\n",
    "# plt.show()\n",
    "\n",
    "# # # Test\n",
    "# # small_dataset = ds.select(range(4))\n",
    "# # small_dataset.map(normalize_hs, batched=True, batch_size=2, input_columns=['hs0', 'hs1'])\n",
    "\n",
    "# # run\n",
    "# ds = ds.map(normalize_hs, batched=True, input_columns=['hs0', 'hs1'])\n",
    "# ds"
   ]
  },
  {
   "attachments": {},
   "cell_type": "markdown",
   "metadata": {},
   "source": [
    "## Lightning DataModule"
   ]
  },
  {
   "cell_type": "code",
   "execution_count": null,
   "metadata": {},
   "outputs": [],
   "source": [
    "df = ds2df(ds)\n",
    "df.head(4)"
   ]
  },
  {
   "cell_type": "code",
   "execution_count": null,
   "metadata": {},
   "outputs": [],
   "source": [
    "# ds?"
   ]
  },
  {
   "attachments": {},
   "cell_type": "markdown",
   "metadata": {},
   "source": [
    "What are we detecting? If the right example of the pair is more deceptive.\n",
    "\n",
    "Now it's only deceptive if\n",
    "- it was asked to lie\n",
    "- it knows the truth\n",
    "- it gave the wrong answer (around 10% of the time)( it's hard to get these models to lie by encouragement rather than instruction)\n"
   ]
  },
  {
   "cell_type": "code",
   "execution_count": null,
   "metadata": {},
   "outputs": [],
   "source": [
    "from src.helpers import switch2bool, bool2switch\n",
    "from src.datasets.dm import imdbHSDataModule"
   ]
  },
  {
   "cell_type": "code",
   "execution_count": null,
   "metadata": {},
   "outputs": [],
   "source": [
    "batch_size = 120\n",
    "# test and cache\n",
    "dm = imdbHSDataModule(ds, batch_size=batch_size)\n",
    "dm.setup('train')\n",
    "\n",
    "dl_val = dm.val_dataloader()\n",
    "dl_train = dm.train_dataloader()\n",
    "len(dl_train), len(dl_val)"
   ]
  },
  {
   "cell_type": "code",
   "execution_count": null,
   "metadata": {},
   "outputs": [],
   "source": [
    "b = next(iter(dl_train))\n",
    "x0, x1, y = b\n",
    "x0.shape"
   ]
  },
  {
   "attachments": {},
   "cell_type": "markdown",
   "metadata": {},
   "source": [
    "# Data prep\n",
    "\n",
    "We do two inferences on the same inputs. Since we have dropout enabled, even during inference, we get two slightly different hidden states `hs1` and `hs2`, and two slightly different probabilities for our yes and no output tokens `p1` `p2`. We also have the true answer `t`\n",
    "\n",
    "So there are a few ways we can set up the problem. \n",
    "\n",
    "We can vary x:\n",
    "- `model(hs1)-model(hs2)=y`\n",
    "- `model(hs1-hs2)==y`\n",
    "\n",
    "And we can try differen't y's:\n",
    "- direction with a ranked loss. This could be unsupervised.\n",
    "- magnitude with a regression loss\n",
    "- vector (direction and magnitude) with a regression loss"
   ]
  },
  {
   "attachments": {},
   "cell_type": "markdown",
   "metadata": {},
   "source": [
    "# QC: Linear supervised probes\n",
    "\n",
    "\n",
    "Let's verify that the model's representations are good\n",
    "\n",
    "Before trying CCS, let's make sure there exists a direction that classifies examples as true vs false with high accuracy; if supervised logistic regression accuracy is bad, there's no hope of unsupervised CCS doing well.\n",
    "\n",
    "Note that because logistic regression is supervised we expect it to do better but to have worse generalisation that equivilent unsupervised methods. However in this case CSS is using a deeper model so it is more complicated.\n"
   ]
  },
  {
   "attachments": {},
   "cell_type": "markdown",
   "metadata": {},
   "source": [
    "## Try a classification of direction to truth"
   ]
  },
  {
   "cell_type": "code",
   "execution_count": null,
   "metadata": {},
   "outputs": [],
   "source": [
    "# dm.y"
   ]
  },
  {
   "cell_type": "code",
   "execution_count": null,
   "metadata": {},
   "outputs": [],
   "source": [
    "# n = len(df)\n",
    "\n",
    "# # Define X and y\n",
    "# X = (dm.hs1-dm.hs0).reshape((n, -1))#/dm.y[:, None]\n",
    "# y = dm.y>0\n",
    "\n",
    "# # split\n",
    "# n = len(y)\n",
    "# max_rows = 300\n",
    "# print('split size', n//2)\n",
    "# X_train, X_test = X[:n//2], X[n//2:]\n",
    "# y_train, y_test = y[:n//2], y[n//2:]\n",
    "# X_train = X_train[:max_rows]\n",
    "# y_train = y_train[:max_rows]\n",
    "# X_test = X_test[:max_rows]\n",
    "# y_test = y_test[:max_rows]\n",
    "\n",
    "# # scale\n",
    "# scaler = RobustScaler()\n",
    "# scaler.fit(X_train)\n",
    "# X_train2 = scaler.transform(X_train)\n",
    "# X_test2 = scaler.transform(X_test)\n",
    "# print('lr')\n",
    "\n",
    "# lr = LogisticRegression(class_weight=\"balanced\", penalty=\"l2\", max_iter=100)\n",
    "# lr.fit(X_train2, y_train>0)"
   ]
  },
  {
   "cell_type": "code",
   "execution_count": null,
   "metadata": {},
   "outputs": [],
   "source": [
    "# y.mean()"
   ]
  },
  {
   "cell_type": "code",
   "execution_count": null,
   "metadata": {},
   "outputs": [],
   "source": [
    "# print(\"Logistic cls acc: {:2.2%} [TRAIN]\".format(lr.score(X_train2, y_train>0)))\n",
    "# print(\"Logistic cls acc: {:2.2%} [TEST]\".format(lr.score(X_test2, y_test>0)))\n",
    "\n",
    "# m = df['instructed_to_lie'][n//2:][:max_rows]\n",
    "# y_test_pred = lr.predict(X_test2)\n",
    "# acc_w_lie = ((y_test_pred[m]>0)==(y_test[m]>0)).mean()\n",
    "# acc_wo_lie = ((y_test_pred[~m]>0)==(y_test[~m]>0)).mean()\n",
    "# print(f'test acc w lie {acc_w_lie:2.2%}')\n",
    "# print(f'test acc wo lie {acc_wo_lie:2.2%}')"
   ]
  },
  {
   "cell_type": "code",
   "execution_count": null,
   "metadata": {},
   "outputs": [],
   "source": [
    "# primary_baseline = roc_auc_score(y_test>0, y_test_pred)\n",
    "# primary_baseline"
   ]
  },
  {
   "attachments": {},
   "cell_type": "markdown",
   "metadata": {},
   "source": [
    "# LightningModel"
   ]
  },
  {
   "cell_type": "code",
   "execution_count": null,
   "metadata": {},
   "outputs": [],
   "source": [
    "# # from src.probes.conv import PLConvProbe\n",
    "# import torch\n",
    "# import torch.nn as nn\n",
    "# import torch.nn.functional as F\n",
    "# from src.probes.conv import PLConvProbe\n",
    "# from src.probes.pl_ranking import PLRanking\n",
    "# from torchmetrics.functional import accuracy\n",
    "# from src.helpers import switch2bool, bool2switch\n",
    "\n",
    "# class ConvProbe(nn.Module):\n",
    "#     def __init__(self, c_in, depth=0, hs=16, dropout=0, input_dropout=0):\n",
    "#         super().__init__()\n",
    "\n",
    "#         layers = [\n",
    "#             nn.BatchNorm1d(c_in, affine=False),  # this will normalise the inputs\n",
    "#             nn.Dropout1d(input_dropout),\n",
    "            \n",
    "#             nn.Conv1d(c_in, hs*(depth+1), kernel_size=3),\n",
    "#             nn.ReLU(),\n",
    "#             nn.BatchNorm1d(hs*(depth+1)),\n",
    "#             nn.AdaptiveAvgPool1d(5),\n",
    "#             nn.Flatten(),\n",
    "#             nn.Linear(hs*(depth+1)*5, hs*(depth+1)),\n",
    "#         ]\n",
    "#         for i in range(depth):\n",
    "#             layers += [\n",
    "#                 nn.Linear(hs*(depth-i+1), hs*(depth-i)),\n",
    "#                 nn.ReLU(),\n",
    "#                 nn.BatchNorm1d(hs*(depth-i)),\n",
    "                \n",
    "#             ]\n",
    "#         # layers += [nn.AdaptiveAvgPool1d(1)]\n",
    "#         self.net = nn.Sequential(*layers)\n",
    "#         self.head = nn.Sequential(\n",
    "#             nn.Linear(hs, hs), nn.ReLU(),\n",
    "#             nn.Dropout(dropout), nn.Linear(hs, 1)            \n",
    "#         )\n",
    "\n",
    "#     def forward(self, x):\n",
    "#         h = self.net(x)\n",
    "#         # print(1, h.shape)\n",
    "#         h = h.squeeze(-1)\n",
    "#         # print(1, h.shape)\n",
    "#         return self.head(h)\n",
    "\n",
    "# class PLConvProbe(PLRanking):\n",
    "#     def __init__(self, c_in, total_steps, lr=4e-3, weight_decay=1e-9, **kwargs):\n",
    "#         super().__init__(total_steps=total_steps, lr=lr, weight_decay=weight_decay)\n",
    "#         self.probe = ConvProbe(c_in, **kwargs)\n",
    "#         self.save_hyperparameters()\n",
    "        \n",
    "        \n",
    "#     def _step(self, batch, batch_idx, stage='train'):\n",
    "#         x0, x1, y = batch\n",
    "#         ypred0 = self(x0)\n",
    "#         ypred1 = self(x1)\n",
    "        \n",
    "#         if stage=='pred':\n",
    "#             return (ypred1-ypred0).float()\n",
    "        \n",
    "#         # loss = F.smooth_l1_loss(ypred1-ypred0, y)\n",
    "#         loss = F.margin_ranking_loss(ypred1, ypred0, y, margin=0.5)\n",
    "#         # self.log(f\"{stage}/loss\", loss)\n",
    "        \n",
    "#         y_cls = switch2bool(ypred1-ypred0)\n",
    "#         self.log(f\"{stage}/acc\", accuracy(y_cls, y>0, \"binary\"), on_epoch=True, on_step=False)\n",
    "#         self.log(f\"{stage}/loss\", loss, on_epoch=True, on_step=False)\n",
    "#         self.log(f\"{stage}/n\", len(y), on_epoch=True, on_step=False, reduce_fx=torch.sum)\n",
    "#         return loss\n",
    "    \n",
    "    "
   ]
  },
  {
   "cell_type": "code",
   "execution_count": 255,
   "metadata": {},
   "outputs": [],
   "source": [
    "# from src.probes.conv import PLConvProbe\n",
    "import torch\n",
    "import torch.nn as nn\n",
    "import torch.nn.functional as F\n",
    "from src.probes.conv import PLConvProbe\n",
    "from src.probes.pl_ranking import PLRanking\n",
    "from torchmetrics.functional import accuracy\n",
    "from src.helpers import switch2bool, bool2switch\n",
    "\n",
    "class ConvProbe(nn.Module):\n",
    "    def __init__(self, c_in, depth=0, hs=16, dropout=0, input_dropout=0):\n",
    "        super().__init__()\n",
    "        self.n_groups = 24 # groups of neurons\n",
    "        c = c_in//self.n_groups\n",
    "        P = 3\n",
    "\n",
    "        cw = hs*(depth+1)\n",
    "        self.layers1 = nn.Sequential(*[\n",
    "            nn.BatchNorm2d(c, affine=False),  # this will normalise the inputs\n",
    "            nn.Dropout2d(input_dropout),\n",
    "            \n",
    "            nn.Conv2d(c, c//4, kernel_size=(1, 3)),\n",
    "            nn.Conv2d(c//4, cw, kernel_size=(3, 1)),\n",
    "            nn.ReLU(),\n",
    "            nn.BatchNorm2d(cw),\n",
    "            \n",
    "            nn.Conv2d(cw, cw, kernel_size=(1, 3)),\n",
    "            nn.Conv2d(cw, cw, kernel_size=(3, 1)),\n",
    "            nn.ReLU(),\n",
    "            nn.BatchNorm2d(cw),\n",
    "            \n",
    "            \n",
    "            nn.Conv2d(cw, cw, kernel_size=(1, 3)),\n",
    "            nn.Conv2d(cw, cw, kernel_size=(3, 1)),\n",
    "            nn.ReLU(),\n",
    "            nn.BatchNorm2d(cw),            \n",
    "            \n",
    "            nn.AdaptiveAvgPool2d(P),\n",
    "            nn.Flatten(),\n",
    "            \n",
    "        ])\n",
    "        layers2 = [nn.Linear(hs*(depth+1)*P*P, hs*(depth+1)),]\n",
    "        for i in range(depth):\n",
    "            layers2 += [\n",
    "                nn.Linear(hs*(depth-i+1), hs*(depth-i)),\n",
    "                nn.ReLU(),\n",
    "                nn.BatchNorm1d(hs*(depth-i)),\n",
    "                \n",
    "            ]\n",
    "        # layers += [nn.AdaptiveAvgPool1d(1)]\n",
    "        self.layers2 = nn.Sequential(*layers2)\n",
    "        self.head = nn.Sequential(\n",
    "            nn.Linear(hs, hs), nn.ReLU(),\n",
    "            nn.Dropout(dropout), nn.Linear(hs, 1)            \n",
    "        )\n",
    "\n",
    "    def forward(self, x):\n",
    "        x = x.reshape((len(x), -1, self.n_groups, x.shape[-1]))\n",
    "        # print(x.shape, 3)\n",
    "        h = self.layers1(x)\n",
    "        # print(h.shape, 4)\n",
    "        h = self.layers2(h)\n",
    "        # print(h.shape, 5)\n",
    "        # print(1, h.shape)\n",
    "        h = h.squeeze(-1)\n",
    "        # print(1, h.shape)\n",
    "        return self.head(h)\n",
    "\n",
    "class PLConvProbe(PLRanking):\n",
    "    def __init__(self, c_in, total_steps, lr=4e-3, weight_decay=1e-9, **kwargs):\n",
    "        super().__init__(total_steps=total_steps, lr=lr, weight_decay=weight_decay)\n",
    "        self.probe = ConvProbe(c_in, **kwargs)\n",
    "        self.save_hyperparameters()\n",
    "        \n",
    "        \n",
    "    def _step(self, batch, batch_idx, stage='train'):\n",
    "        x0, x1, y = batch\n",
    "        ypred0 = self(x0)\n",
    "        ypred1 = self(x1)\n",
    "        \n",
    "        if stage=='pred':\n",
    "            return (ypred1-ypred0).float()\n",
    "        \n",
    "        # loss = F.smooth_l1_loss(ypred1-ypred0, y)\n",
    "        loss = F.margin_ranking_loss(ypred1, ypred0, y, margin=0.5)\n",
    "        # self.log(f\"{stage}/loss\", loss)\n",
    "        \n",
    "        y_cls = switch2bool(ypred1-ypred0)\n",
    "        self.log(f\"{stage}/acc\", accuracy(y_cls, y>0, \"binary\"), on_epoch=True, on_step=False)\n",
    "        self.log(f\"{stage}/loss\", loss, on_epoch=True, on_step=False)\n",
    "        self.log(f\"{stage}/n\", len(y), on_epoch=True, on_step=False, reduce_fx=torch.sum)\n",
    "        return loss\n",
    "    \n",
    "    "
   ]
  },
  {
   "attachments": {},
   "cell_type": "markdown",
   "metadata": {},
   "source": [
    "# Run"
   ]
  },
  {
   "cell_type": "code",
   "execution_count": 256,
   "metadata": {},
   "outputs": [],
   "source": [
    "# quiet please\n",
    "torch.set_float32_matmul_precision('medium')\n",
    "\n",
    "import warnings\n",
    "warnings.filterwarnings(\"ignore\", \".*does not have many workers.*\")\n",
    "warnings.filterwarnings(\"ignore\", \".*F-score.*\")"
   ]
  },
  {
   "attachments": {},
   "cell_type": "markdown",
   "metadata": {},
   "source": [
    "## Prep dataloader/set"
   ]
  },
  {
   "cell_type": "code",
   "execution_count": 257,
   "metadata": {},
   "outputs": [],
   "source": [
    "dl_train = dm.train_dataloader()\n",
    "dl_val = dm.val_dataloader()\n",
    "b = next(iter(dl_train))"
   ]
  },
  {
   "cell_type": "code",
   "execution_count": 258,
   "metadata": {},
   "outputs": [
    {
     "name": "stdout",
     "output_type": "stream",
     "text": [
      "torch.Size([120, 6144, 37])\n"
     ]
    }
   ],
   "source": [
    "c_in = b[0].shape[1]\n",
    "print(b[0].shape)\n",
    "net = PLConvProbe(c_in=c_in, total_steps=max_epochs*len(dl_train), depth=2, hs=4, lr=3e-3, \n",
    "          weight_decay=1, \n",
    "          dropout=0.1, \n",
    "          input_dropout=0.3,\n",
    "          )"
   ]
  },
  {
   "cell_type": "code",
   "execution_count": null,
   "metadata": {},
   "outputs": [],
   "source": []
  },
  {
   "cell_type": "code",
   "execution_count": 259,
   "metadata": {},
   "outputs": [
    {
     "data": {
      "text/plain": [
       "==========================================================================================\n",
       "Layer (type:depth-idx)                   Output Shape              Param #\n",
       "==========================================================================================\n",
       "PLConvProbe                              [120]                     --\n",
       "├─ConvProbe: 1-1                         [120, 1]                  --\n",
       "│    └─Sequential: 2-1                   [120, 108]                --\n",
       "│    │    └─BatchNorm2d: 3-1             [120, 256, 24, 37]        --\n",
       "│    │    └─Dropout2d: 3-2               [120, 256, 24, 37]        --\n",
       "│    │    └─Conv2d: 3-3                  [120, 64, 24, 35]         49,216\n",
       "│    │    └─Conv2d: 3-4                  [120, 12, 22, 35]         2,316\n",
       "│    │    └─ReLU: 3-5                    [120, 12, 22, 35]         --\n",
       "│    │    └─BatchNorm2d: 3-6             [120, 12, 22, 35]         24\n",
       "│    │    └─Conv2d: 3-7                  [120, 12, 22, 33]         444\n",
       "│    │    └─Conv2d: 3-8                  [120, 12, 20, 33]         444\n",
       "│    │    └─ReLU: 3-9                    [120, 12, 20, 33]         --\n",
       "│    │    └─BatchNorm2d: 3-10            [120, 12, 20, 33]         24\n",
       "│    │    └─Conv2d: 3-11                 [120, 12, 20, 31]         444\n",
       "│    │    └─Conv2d: 3-12                 [120, 12, 18, 31]         444\n",
       "│    │    └─ReLU: 3-13                   [120, 12, 18, 31]         --\n",
       "│    │    └─BatchNorm2d: 3-14            [120, 12, 18, 31]         24\n",
       "│    │    └─AdaptiveAvgPool2d: 3-15      [120, 12, 3, 3]           --\n",
       "│    │    └─Flatten: 3-16                [120, 108]                --\n",
       "│    └─Sequential: 2-2                   [120, 4]                  --\n",
       "│    │    └─Linear: 3-17                 [120, 12]                 1,308\n",
       "│    │    └─Linear: 3-18                 [120, 8]                  104\n",
       "│    │    └─ReLU: 3-19                   [120, 8]                  --\n",
       "│    │    └─BatchNorm1d: 3-20            [120, 8]                  16\n",
       "│    │    └─Linear: 3-21                 [120, 4]                  36\n",
       "│    │    └─ReLU: 3-22                   [120, 4]                  --\n",
       "│    │    └─BatchNorm1d: 3-23            [120, 4]                  8\n",
       "│    └─Sequential: 2-3                   [120, 1]                  --\n",
       "│    │    └─Linear: 3-24                 [120, 4]                  20\n",
       "│    │    └─ReLU: 3-25                   [120, 4]                  --\n",
       "│    │    └─Dropout: 3-26                [120, 4]                  --\n",
       "│    │    └─Linear: 3-27                 [120, 1]                  5\n",
       "==========================================================================================\n",
       "Total params: 54,877\n",
       "Trainable params: 54,877\n",
       "Non-trainable params: 0\n",
       "Total mult-adds (Units.GIGABYTES): 5.31\n",
       "==========================================================================================\n",
       "Input size (MB): 109.12\n",
       "Forward/backward pass size (MB): 112.96\n",
       "Params size (MB): 0.22\n",
       "Estimated Total Size (MB): 222.30\n",
       "=========================================================================================="
      ]
     },
     "execution_count": 259,
     "metadata": {},
     "output_type": "execute_result"
    }
   ],
   "source": [
    "from torchinfo import summary\n",
    "\n",
    "batch_size = 16\n",
    "summary(net, input_size=b[0].shape)"
   ]
  },
  {
   "cell_type": "code",
   "execution_count": null,
   "metadata": {},
   "outputs": [],
   "source": []
  },
  {
   "cell_type": "code",
   "execution_count": 260,
   "metadata": {},
   "outputs": [
    {
     "name": "stderr",
     "output_type": "stream",
     "text": [
      "Using bfloat16 Automatic Mixed Precision (AMP)\n",
      "GPU available: True (cuda), used: True\n",
      "TPU available: False, using: 0 TPU cores\n",
      "IPU available: False, using: 0 IPUs\n",
      "HPU available: False, using: 0 HPUs\n",
      "LOCAL_RANK: 0 - CUDA_VISIBLE_DEVICES: [0]\n",
      "\n",
      "  | Name  | Type      | Params\n",
      "------------------------------------\n",
      "0 | probe | ConvProbe | 54.9 K\n",
      "------------------------------------\n",
      "54.9 K    Trainable params\n",
      "0         Non-trainable params\n",
      "54.9 K    Total params\n",
      "0.220     Total estimated model params size (MB)\n"
     ]
    },
    {
     "data": {
      "application/vnd.jupyter.widget-view+json": {
       "model_id": "2bc28e68128c4e46b02ac8c2beb64f13",
       "version_major": 2,
       "version_minor": 0
      },
      "text/plain": [
       "Sanity Checking: 0it [00:00, ?it/s]"
      ]
     },
     "metadata": {},
     "output_type": "display_data"
    },
    {
     "data": {
      "application/vnd.jupyter.widget-view+json": {
       "model_id": "9ea376621b6c4d3f8cd1c46b8af179df",
       "version_major": 2,
       "version_minor": 0
      },
      "text/plain": [
       "Training: 0it [00:00, ?it/s]"
      ]
     },
     "metadata": {},
     "output_type": "display_data"
    },
    {
     "data": {
      "application/vnd.jupyter.widget-view+json": {
       "model_id": "d75445da176e445fb0ca91f6431ce68e",
       "version_major": 2,
       "version_minor": 0
      },
      "text/plain": [
       "Validation: 0it [00:00, ?it/s]"
      ]
     },
     "metadata": {},
     "output_type": "display_data"
    },
    {
     "data": {
      "application/vnd.jupyter.widget-view+json": {
       "model_id": "ffc5aba294ca4ae59e8e79864b98d898",
       "version_major": 2,
       "version_minor": 0
      },
      "text/plain": [
       "Validation: 0it [00:00, ?it/s]"
      ]
     },
     "metadata": {},
     "output_type": "display_data"
    },
    {
     "data": {
      "application/vnd.jupyter.widget-view+json": {
       "model_id": "cbff66e705e34fb0b19e6aa457589640",
       "version_major": 2,
       "version_minor": 0
      },
      "text/plain": [
       "Validation: 0it [00:00, ?it/s]"
      ]
     },
     "metadata": {},
     "output_type": "display_data"
    },
    {
     "data": {
      "application/vnd.jupyter.widget-view+json": {
       "model_id": "8a36fb8fa2e5485781a3afe404cc1e33",
       "version_major": 2,
       "version_minor": 0
      },
      "text/plain": [
       "Validation: 0it [00:00, ?it/s]"
      ]
     },
     "metadata": {},
     "output_type": "display_data"
    },
    {
     "data": {
      "application/vnd.jupyter.widget-view+json": {
       "model_id": "8ab650d92cb9488aa5504b7889faed3a",
       "version_major": 2,
       "version_minor": 0
      },
      "text/plain": [
       "Validation: 0it [00:00, ?it/s]"
      ]
     },
     "metadata": {},
     "output_type": "display_data"
    },
    {
     "data": {
      "application/vnd.jupyter.widget-view+json": {
       "model_id": "70fd65c63e42494db0dcf6bd6cfd94a8",
       "version_major": 2,
       "version_minor": 0
      },
      "text/plain": [
       "Validation: 0it [00:00, ?it/s]"
      ]
     },
     "metadata": {},
     "output_type": "display_data"
    },
    {
     "data": {
      "application/vnd.jupyter.widget-view+json": {
       "model_id": "1e7df33911424dbc90b6f5ba7edd8fc9",
       "version_major": 2,
       "version_minor": 0
      },
      "text/plain": [
       "Validation: 0it [00:00, ?it/s]"
      ]
     },
     "metadata": {},
     "output_type": "display_data"
    },
    {
     "data": {
      "application/vnd.jupyter.widget-view+json": {
       "model_id": "81f40700a594405789fbfb7e6bd93a08",
       "version_major": 2,
       "version_minor": 0
      },
      "text/plain": [
       "Validation: 0it [00:00, ?it/s]"
      ]
     },
     "metadata": {},
     "output_type": "display_data"
    },
    {
     "data": {
      "application/vnd.jupyter.widget-view+json": {
       "model_id": "a4ca370b30a14a6dbb7d41213dab8b62",
       "version_major": 2,
       "version_minor": 0
      },
      "text/plain": [
       "Validation: 0it [00:00, ?it/s]"
      ]
     },
     "metadata": {},
     "output_type": "display_data"
    },
    {
     "data": {
      "application/vnd.jupyter.widget-view+json": {
       "model_id": "094f89bf893b4826b2a0fbb9609b23b6",
       "version_major": 2,
       "version_minor": 0
      },
      "text/plain": [
       "Validation: 0it [00:00, ?it/s]"
      ]
     },
     "metadata": {},
     "output_type": "display_data"
    },
    {
     "data": {
      "application/vnd.jupyter.widget-view+json": {
       "model_id": "af8cf97b24d34979967d35502bda531c",
       "version_major": 2,
       "version_minor": 0
      },
      "text/plain": [
       "Validation: 0it [00:00, ?it/s]"
      ]
     },
     "metadata": {},
     "output_type": "display_data"
    },
    {
     "data": {
      "application/vnd.jupyter.widget-view+json": {
       "model_id": "6212bf5dafa24e24b5103b5bd7e6e418",
       "version_major": 2,
       "version_minor": 0
      },
      "text/plain": [
       "Validation: 0it [00:00, ?it/s]"
      ]
     },
     "metadata": {},
     "output_type": "display_data"
    },
    {
     "data": {
      "application/vnd.jupyter.widget-view+json": {
       "model_id": "67d75bb14a694277a7b81dbb71185d04",
       "version_major": 2,
       "version_minor": 0
      },
      "text/plain": [
       "Validation: 0it [00:00, ?it/s]"
      ]
     },
     "metadata": {},
     "output_type": "display_data"
    },
    {
     "data": {
      "application/vnd.jupyter.widget-view+json": {
       "model_id": "2c6ac8cce7a4494f811afc618300b378",
       "version_major": 2,
       "version_minor": 0
      },
      "text/plain": [
       "Validation: 0it [00:00, ?it/s]"
      ]
     },
     "metadata": {},
     "output_type": "display_data"
    },
    {
     "data": {
      "application/vnd.jupyter.widget-view+json": {
       "model_id": "faa03eea38444571b57ff8ff741677bd",
       "version_major": 2,
       "version_minor": 0
      },
      "text/plain": [
       "Validation: 0it [00:00, ?it/s]"
      ]
     },
     "metadata": {},
     "output_type": "display_data"
    },
    {
     "data": {
      "application/vnd.jupyter.widget-view+json": {
       "model_id": "eba32bdc9af7491a8cac4ee109cb0c9a",
       "version_major": 2,
       "version_minor": 0
      },
      "text/plain": [
       "Validation: 0it [00:00, ?it/s]"
      ]
     },
     "metadata": {},
     "output_type": "display_data"
    },
    {
     "data": {
      "application/vnd.jupyter.widget-view+json": {
       "model_id": "13a4720e811747e99db9a5ed07957bdf",
       "version_major": 2,
       "version_minor": 0
      },
      "text/plain": [
       "Validation: 0it [00:00, ?it/s]"
      ]
     },
     "metadata": {},
     "output_type": "display_data"
    },
    {
     "data": {
      "application/vnd.jupyter.widget-view+json": {
       "model_id": "b4bbb2916df8457487f07a5699852123",
       "version_major": 2,
       "version_minor": 0
      },
      "text/plain": [
       "Validation: 0it [00:00, ?it/s]"
      ]
     },
     "metadata": {},
     "output_type": "display_data"
    },
    {
     "data": {
      "application/vnd.jupyter.widget-view+json": {
       "model_id": "f0e56376bbe5428f8aa155f51c6af3c8",
       "version_major": 2,
       "version_minor": 0
      },
      "text/plain": [
       "Validation: 0it [00:00, ?it/s]"
      ]
     },
     "metadata": {},
     "output_type": "display_data"
    },
    {
     "data": {
      "application/vnd.jupyter.widget-view+json": {
       "model_id": "69853c07e73b49c38d729ff159b3451f",
       "version_major": 2,
       "version_minor": 0
      },
      "text/plain": [
       "Validation: 0it [00:00, ?it/s]"
      ]
     },
     "metadata": {},
     "output_type": "display_data"
    },
    {
     "data": {
      "application/vnd.jupyter.widget-view+json": {
       "model_id": "ea854322790c48579432bdba2bd7b9ba",
       "version_major": 2,
       "version_minor": 0
      },
      "text/plain": [
       "Validation: 0it [00:00, ?it/s]"
      ]
     },
     "metadata": {},
     "output_type": "display_data"
    },
    {
     "data": {
      "application/vnd.jupyter.widget-view+json": {
       "model_id": "2461f68c1d714f6bbbc952b86a6fa283",
       "version_major": 2,
       "version_minor": 0
      },
      "text/plain": [
       "Validation: 0it [00:00, ?it/s]"
      ]
     },
     "metadata": {},
     "output_type": "display_data"
    },
    {
     "data": {
      "application/vnd.jupyter.widget-view+json": {
       "model_id": "16a47c30a53c47b9bbfa84e34d09c4b8",
       "version_major": 2,
       "version_minor": 0
      },
      "text/plain": [
       "Validation: 0it [00:00, ?it/s]"
      ]
     },
     "metadata": {},
     "output_type": "display_data"
    },
    {
     "data": {
      "application/vnd.jupyter.widget-view+json": {
       "model_id": "d9eacbb53cf44809a7e0d84d313cd573",
       "version_major": 2,
       "version_minor": 0
      },
      "text/plain": [
       "Validation: 0it [00:00, ?it/s]"
      ]
     },
     "metadata": {},
     "output_type": "display_data"
    },
    {
     "data": {
      "application/vnd.jupyter.widget-view+json": {
       "model_id": "7d652557cf454fff9a878f8056b87f71",
       "version_major": 2,
       "version_minor": 0
      },
      "text/plain": [
       "Validation: 0it [00:00, ?it/s]"
      ]
     },
     "metadata": {},
     "output_type": "display_data"
    },
    {
     "data": {
      "application/vnd.jupyter.widget-view+json": {
       "model_id": "73ad96272db047038514f191321d3cd4",
       "version_major": 2,
       "version_minor": 0
      },
      "text/plain": [
       "Validation: 0it [00:00, ?it/s]"
      ]
     },
     "metadata": {},
     "output_type": "display_data"
    },
    {
     "data": {
      "application/vnd.jupyter.widget-view+json": {
       "model_id": "06ecfd6ea43b4484b2ecdcb43ca70d1a",
       "version_major": 2,
       "version_minor": 0
      },
      "text/plain": [
       "Validation: 0it [00:00, ?it/s]"
      ]
     },
     "metadata": {},
     "output_type": "display_data"
    },
    {
     "data": {
      "application/vnd.jupyter.widget-view+json": {
       "model_id": "9a965d6a49814cd5a4ba7bd8e1c8a1d2",
       "version_major": 2,
       "version_minor": 0
      },
      "text/plain": [
       "Validation: 0it [00:00, ?it/s]"
      ]
     },
     "metadata": {},
     "output_type": "display_data"
    },
    {
     "data": {
      "application/vnd.jupyter.widget-view+json": {
       "model_id": "f315b8f77e2b4ddd95c961c70c1fe022",
       "version_major": 2,
       "version_minor": 0
      },
      "text/plain": [
       "Validation: 0it [00:00, ?it/s]"
      ]
     },
     "metadata": {},
     "output_type": "display_data"
    },
    {
     "data": {
      "application/vnd.jupyter.widget-view+json": {
       "model_id": "46e13d7a284c4807948f34c05e68d147",
       "version_major": 2,
       "version_minor": 0
      },
      "text/plain": [
       "Validation: 0it [00:00, ?it/s]"
      ]
     },
     "metadata": {},
     "output_type": "display_data"
    },
    {
     "data": {
      "application/vnd.jupyter.widget-view+json": {
       "model_id": "7cf1b4489e9a42778880d3c0ad45a2c7",
       "version_major": 2,
       "version_minor": 0
      },
      "text/plain": [
       "Validation: 0it [00:00, ?it/s]"
      ]
     },
     "metadata": {},
     "output_type": "display_data"
    },
    {
     "data": {
      "application/vnd.jupyter.widget-view+json": {
       "model_id": "556174a1b42541f0993d0817ad80f3f2",
       "version_major": 2,
       "version_minor": 0
      },
      "text/plain": [
       "Validation: 0it [00:00, ?it/s]"
      ]
     },
     "metadata": {},
     "output_type": "display_data"
    },
    {
     "data": {
      "application/vnd.jupyter.widget-view+json": {
       "model_id": "e69a5df454e446f7815ecd5814686361",
       "version_major": 2,
       "version_minor": 0
      },
      "text/plain": [
       "Validation: 0it [00:00, ?it/s]"
      ]
     },
     "metadata": {},
     "output_type": "display_data"
    },
    {
     "data": {
      "application/vnd.jupyter.widget-view+json": {
       "model_id": "1aef24cd6ce14164b8967857b8225387",
       "version_major": 2,
       "version_minor": 0
      },
      "text/plain": [
       "Validation: 0it [00:00, ?it/s]"
      ]
     },
     "metadata": {},
     "output_type": "display_data"
    },
    {
     "data": {
      "application/vnd.jupyter.widget-view+json": {
       "model_id": "de1891b3be18489aa249cee5024df559",
       "version_major": 2,
       "version_minor": 0
      },
      "text/plain": [
       "Validation: 0it [00:00, ?it/s]"
      ]
     },
     "metadata": {},
     "output_type": "display_data"
    },
    {
     "data": {
      "application/vnd.jupyter.widget-view+json": {
       "model_id": "5ec6cb203ce242059f6de402fef55515",
       "version_major": 2,
       "version_minor": 0
      },
      "text/plain": [
       "Validation: 0it [00:00, ?it/s]"
      ]
     },
     "metadata": {},
     "output_type": "display_data"
    },
    {
     "data": {
      "application/vnd.jupyter.widget-view+json": {
       "model_id": "495ba0017ba84d93a2afba7744b8ea73",
       "version_major": 2,
       "version_minor": 0
      },
      "text/plain": [
       "Validation: 0it [00:00, ?it/s]"
      ]
     },
     "metadata": {},
     "output_type": "display_data"
    },
    {
     "data": {
      "application/vnd.jupyter.widget-view+json": {
       "model_id": "5fef041392334a3884f3a0c4ff8de2f7",
       "version_major": 2,
       "version_minor": 0
      },
      "text/plain": [
       "Validation: 0it [00:00, ?it/s]"
      ]
     },
     "metadata": {},
     "output_type": "display_data"
    },
    {
     "data": {
      "application/vnd.jupyter.widget-view+json": {
       "model_id": "8479e0d805fc47128388c3336f16c27d",
       "version_major": 2,
       "version_minor": 0
      },
      "text/plain": [
       "Validation: 0it [00:00, ?it/s]"
      ]
     },
     "metadata": {},
     "output_type": "display_data"
    },
    {
     "data": {
      "application/vnd.jupyter.widget-view+json": {
       "model_id": "05582311117c49a3812129db3f8b5e70",
       "version_major": 2,
       "version_minor": 0
      },
      "text/plain": [
       "Validation: 0it [00:00, ?it/s]"
      ]
     },
     "metadata": {},
     "output_type": "display_data"
    },
    {
     "data": {
      "application/vnd.jupyter.widget-view+json": {
       "model_id": "b6c2857b09f4430b9ada9ae9ab4e3802",
       "version_major": 2,
       "version_minor": 0
      },
      "text/plain": [
       "Validation: 0it [00:00, ?it/s]"
      ]
     },
     "metadata": {},
     "output_type": "display_data"
    },
    {
     "data": {
      "application/vnd.jupyter.widget-view+json": {
       "model_id": "b179b9f0ae114014b5585900570b0f5d",
       "version_major": 2,
       "version_minor": 0
      },
      "text/plain": [
       "Validation: 0it [00:00, ?it/s]"
      ]
     },
     "metadata": {},
     "output_type": "display_data"
    },
    {
     "data": {
      "application/vnd.jupyter.widget-view+json": {
       "model_id": "1131c1d86ed94205843d834ff2e2d8cb",
       "version_major": 2,
       "version_minor": 0
      },
      "text/plain": [
       "Validation: 0it [00:00, ?it/s]"
      ]
     },
     "metadata": {},
     "output_type": "display_data"
    },
    {
     "data": {
      "application/vnd.jupyter.widget-view+json": {
       "model_id": "008cd987616c46b784baba40225240ff",
       "version_major": 2,
       "version_minor": 0
      },
      "text/plain": [
       "Validation: 0it [00:00, ?it/s]"
      ]
     },
     "metadata": {},
     "output_type": "display_data"
    },
    {
     "data": {
      "application/vnd.jupyter.widget-view+json": {
       "model_id": "6f14be23ecfa4793b49e7d67b06879ff",
       "version_major": 2,
       "version_minor": 0
      },
      "text/plain": [
       "Validation: 0it [00:00, ?it/s]"
      ]
     },
     "metadata": {},
     "output_type": "display_data"
    },
    {
     "data": {
      "application/vnd.jupyter.widget-view+json": {
       "model_id": "2c727798ae194eeb9ecefddff7e72baf",
       "version_major": 2,
       "version_minor": 0
      },
      "text/plain": [
       "Validation: 0it [00:00, ?it/s]"
      ]
     },
     "metadata": {},
     "output_type": "display_data"
    },
    {
     "data": {
      "application/vnd.jupyter.widget-view+json": {
       "model_id": "8ca77e8056e4447688655f3633370221",
       "version_major": 2,
       "version_minor": 0
      },
      "text/plain": [
       "Validation: 0it [00:00, ?it/s]"
      ]
     },
     "metadata": {},
     "output_type": "display_data"
    },
    {
     "data": {
      "application/vnd.jupyter.widget-view+json": {
       "model_id": "1bbd78e18fe44d5ca0f30f40855e7f95",
       "version_major": 2,
       "version_minor": 0
      },
      "text/plain": [
       "Validation: 0it [00:00, ?it/s]"
      ]
     },
     "metadata": {},
     "output_type": "display_data"
    },
    {
     "data": {
      "application/vnd.jupyter.widget-view+json": {
       "model_id": "f5df2d2a7bfb459a8e834523fd853b42",
       "version_major": 2,
       "version_minor": 0
      },
      "text/plain": [
       "Validation: 0it [00:00, ?it/s]"
      ]
     },
     "metadata": {},
     "output_type": "display_data"
    },
    {
     "data": {
      "application/vnd.jupyter.widget-view+json": {
       "model_id": "ee63c141f8034e22b657ba5d6a1fc54a",
       "version_major": 2,
       "version_minor": 0
      },
      "text/plain": [
       "Validation: 0it [00:00, ?it/s]"
      ]
     },
     "metadata": {},
     "output_type": "display_data"
    },
    {
     "data": {
      "application/vnd.jupyter.widget-view+json": {
       "model_id": "d1aa3abc290d4eea8cc9f93dd9034c65",
       "version_major": 2,
       "version_minor": 0
      },
      "text/plain": [
       "Validation: 0it [00:00, ?it/s]"
      ]
     },
     "metadata": {},
     "output_type": "display_data"
    },
    {
     "data": {
      "application/vnd.jupyter.widget-view+json": {
       "model_id": "3df1697925e2403994644fb97e9cecc2",
       "version_major": 2,
       "version_minor": 0
      },
      "text/plain": [
       "Validation: 0it [00:00, ?it/s]"
      ]
     },
     "metadata": {},
     "output_type": "display_data"
    },
    {
     "data": {
      "application/vnd.jupyter.widget-view+json": {
       "model_id": "9dfd320e7c6c419e9a288018ea14c4b0",
       "version_major": 2,
       "version_minor": 0
      },
      "text/plain": [
       "Validation: 0it [00:00, ?it/s]"
      ]
     },
     "metadata": {},
     "output_type": "display_data"
    },
    {
     "data": {
      "application/vnd.jupyter.widget-view+json": {
       "model_id": "d27ff6eb8e2446e58a47d0f7e38c1da1",
       "version_major": 2,
       "version_minor": 0
      },
      "text/plain": [
       "Validation: 0it [00:00, ?it/s]"
      ]
     },
     "metadata": {},
     "output_type": "display_data"
    },
    {
     "data": {
      "application/vnd.jupyter.widget-view+json": {
       "model_id": "5c95552617f04d63b9295001d3a246a0",
       "version_major": 2,
       "version_minor": 0
      },
      "text/plain": [
       "Validation: 0it [00:00, ?it/s]"
      ]
     },
     "metadata": {},
     "output_type": "display_data"
    },
    {
     "data": {
      "application/vnd.jupyter.widget-view+json": {
       "model_id": "5e074d5903434d419b057ac8b3dd3c2c",
       "version_major": 2,
       "version_minor": 0
      },
      "text/plain": [
       "Validation: 0it [00:00, ?it/s]"
      ]
     },
     "metadata": {},
     "output_type": "display_data"
    },
    {
     "data": {
      "application/vnd.jupyter.widget-view+json": {
       "model_id": "348927e34adb4520b4b42aa2fbc01afa",
       "version_major": 2,
       "version_minor": 0
      },
      "text/plain": [
       "Validation: 0it [00:00, ?it/s]"
      ]
     },
     "metadata": {},
     "output_type": "display_data"
    },
    {
     "data": {
      "application/vnd.jupyter.widget-view+json": {
       "model_id": "413c078599e14dcaa6c5070818e5255b",
       "version_major": 2,
       "version_minor": 0
      },
      "text/plain": [
       "Validation: 0it [00:00, ?it/s]"
      ]
     },
     "metadata": {},
     "output_type": "display_data"
    },
    {
     "data": {
      "application/vnd.jupyter.widget-view+json": {
       "model_id": "3a255947f41e461dac451524a9d38936",
       "version_major": 2,
       "version_minor": 0
      },
      "text/plain": [
       "Validation: 0it [00:00, ?it/s]"
      ]
     },
     "metadata": {},
     "output_type": "display_data"
    },
    {
     "data": {
      "application/vnd.jupyter.widget-view+json": {
       "model_id": "fd40b2e1c8254fcea5e2ead648809bf0",
       "version_major": 2,
       "version_minor": 0
      },
      "text/plain": [
       "Validation: 0it [00:00, ?it/s]"
      ]
     },
     "metadata": {},
     "output_type": "display_data"
    },
    {
     "data": {
      "application/vnd.jupyter.widget-view+json": {
       "model_id": "d7889c0c9ad9415d9f0e0cba71cc343a",
       "version_major": 2,
       "version_minor": 0
      },
      "text/plain": [
       "Validation: 0it [00:00, ?it/s]"
      ]
     },
     "metadata": {},
     "output_type": "display_data"
    },
    {
     "data": {
      "application/vnd.jupyter.widget-view+json": {
       "model_id": "3f9b7600d21140c48a7506b483c175b9",
       "version_major": 2,
       "version_minor": 0
      },
      "text/plain": [
       "Validation: 0it [00:00, ?it/s]"
      ]
     },
     "metadata": {},
     "output_type": "display_data"
    },
    {
     "data": {
      "application/vnd.jupyter.widget-view+json": {
       "model_id": "0db6f8b2f03c43a1b0ed9fe6be7716f4",
       "version_major": 2,
       "version_minor": 0
      },
      "text/plain": [
       "Validation: 0it [00:00, ?it/s]"
      ]
     },
     "metadata": {},
     "output_type": "display_data"
    },
    {
     "data": {
      "application/vnd.jupyter.widget-view+json": {
       "model_id": "568363d4152b45719952bb09ac79a4d2",
       "version_major": 2,
       "version_minor": 0
      },
      "text/plain": [
       "Validation: 0it [00:00, ?it/s]"
      ]
     },
     "metadata": {},
     "output_type": "display_data"
    },
    {
     "data": {
      "application/vnd.jupyter.widget-view+json": {
       "model_id": "98044b5fa7264c4bb6189905d700302e",
       "version_major": 2,
       "version_minor": 0
      },
      "text/plain": [
       "Validation: 0it [00:00, ?it/s]"
      ]
     },
     "metadata": {},
     "output_type": "display_data"
    },
    {
     "data": {
      "application/vnd.jupyter.widget-view+json": {
       "model_id": "89701fc9b2d744c980938dbdd5109e65",
       "version_major": 2,
       "version_minor": 0
      },
      "text/plain": [
       "Validation: 0it [00:00, ?it/s]"
      ]
     },
     "metadata": {},
     "output_type": "display_data"
    },
    {
     "data": {
      "application/vnd.jupyter.widget-view+json": {
       "model_id": "4bf453cc797b444eb03022ba86855625",
       "version_major": 2,
       "version_minor": 0
      },
      "text/plain": [
       "Validation: 0it [00:00, ?it/s]"
      ]
     },
     "metadata": {},
     "output_type": "display_data"
    },
    {
     "data": {
      "application/vnd.jupyter.widget-view+json": {
       "model_id": "43cba87faa0f4056ae08e6aa7e8839c3",
       "version_major": 2,
       "version_minor": 0
      },
      "text/plain": [
       "Validation: 0it [00:00, ?it/s]"
      ]
     },
     "metadata": {},
     "output_type": "display_data"
    },
    {
     "data": {
      "application/vnd.jupyter.widget-view+json": {
       "model_id": "c71ba82066ba449cb6258d441e361e37",
       "version_major": 2,
       "version_minor": 0
      },
      "text/plain": [
       "Validation: 0it [00:00, ?it/s]"
      ]
     },
     "metadata": {},
     "output_type": "display_data"
    },
    {
     "data": {
      "application/vnd.jupyter.widget-view+json": {
       "model_id": "03541deb787d4d0f88370fe683e96934",
       "version_major": 2,
       "version_minor": 0
      },
      "text/plain": [
       "Validation: 0it [00:00, ?it/s]"
      ]
     },
     "metadata": {},
     "output_type": "display_data"
    },
    {
     "data": {
      "application/vnd.jupyter.widget-view+json": {
       "model_id": "368fd26ad9264421a5677a3c8905c882",
       "version_major": 2,
       "version_minor": 0
      },
      "text/plain": [
       "Validation: 0it [00:00, ?it/s]"
      ]
     },
     "metadata": {},
     "output_type": "display_data"
    },
    {
     "data": {
      "application/vnd.jupyter.widget-view+json": {
       "model_id": "aadbd491c4e249459d7804b749a512a3",
       "version_major": 2,
       "version_minor": 0
      },
      "text/plain": [
       "Validation: 0it [00:00, ?it/s]"
      ]
     },
     "metadata": {},
     "output_type": "display_data"
    },
    {
     "data": {
      "application/vnd.jupyter.widget-view+json": {
       "model_id": "77a1275778064e55a0856b4ce4ebf549",
       "version_major": 2,
       "version_minor": 0
      },
      "text/plain": [
       "Validation: 0it [00:00, ?it/s]"
      ]
     },
     "metadata": {},
     "output_type": "display_data"
    },
    {
     "data": {
      "application/vnd.jupyter.widget-view+json": {
       "model_id": "8921261b5e0e44b1b5a73e387a9488c6",
       "version_major": 2,
       "version_minor": 0
      },
      "text/plain": [
       "Validation: 0it [00:00, ?it/s]"
      ]
     },
     "metadata": {},
     "output_type": "display_data"
    },
    {
     "data": {
      "application/vnd.jupyter.widget-view+json": {
       "model_id": "7ed2fa780c34452db2e7ee9d2355c6f0",
       "version_major": 2,
       "version_minor": 0
      },
      "text/plain": [
       "Validation: 0it [00:00, ?it/s]"
      ]
     },
     "metadata": {},
     "output_type": "display_data"
    },
    {
     "data": {
      "application/vnd.jupyter.widget-view+json": {
       "model_id": "4dd7d9cf4e4540a687a55ecebee298b0",
       "version_major": 2,
       "version_minor": 0
      },
      "text/plain": [
       "Validation: 0it [00:00, ?it/s]"
      ]
     },
     "metadata": {},
     "output_type": "display_data"
    },
    {
     "data": {
      "application/vnd.jupyter.widget-view+json": {
       "model_id": "9b64c78b5c1541479806be5d09e272c5",
       "version_major": 2,
       "version_minor": 0
      },
      "text/plain": [
       "Validation: 0it [00:00, ?it/s]"
      ]
     },
     "metadata": {},
     "output_type": "display_data"
    },
    {
     "data": {
      "application/vnd.jupyter.widget-view+json": {
       "model_id": "6efa2027bec1413fb6ef5fb321a3a8e2",
       "version_major": 2,
       "version_minor": 0
      },
      "text/plain": [
       "Validation: 0it [00:00, ?it/s]"
      ]
     },
     "metadata": {},
     "output_type": "display_data"
    },
    {
     "data": {
      "application/vnd.jupyter.widget-view+json": {
       "model_id": "ea23119ad11a4e37bf4ef76c2ba0b3bb",
       "version_major": 2,
       "version_minor": 0
      },
      "text/plain": [
       "Validation: 0it [00:00, ?it/s]"
      ]
     },
     "metadata": {},
     "output_type": "display_data"
    },
    {
     "data": {
      "application/vnd.jupyter.widget-view+json": {
       "model_id": "a6e4efd97511448192a790ced7401a39",
       "version_major": 2,
       "version_minor": 0
      },
      "text/plain": [
       "Validation: 0it [00:00, ?it/s]"
      ]
     },
     "metadata": {},
     "output_type": "display_data"
    },
    {
     "data": {
      "application/vnd.jupyter.widget-view+json": {
       "model_id": "f662ee5e707a4b35a624914ac57b2f77",
       "version_major": 2,
       "version_minor": 0
      },
      "text/plain": [
       "Validation: 0it [00:00, ?it/s]"
      ]
     },
     "metadata": {},
     "output_type": "display_data"
    },
    {
     "data": {
      "application/vnd.jupyter.widget-view+json": {
       "model_id": "9e816d0d458542fca590a0c81ee8ffe8",
       "version_major": 2,
       "version_minor": 0
      },
      "text/plain": [
       "Validation: 0it [00:00, ?it/s]"
      ]
     },
     "metadata": {},
     "output_type": "display_data"
    },
    {
     "name": "stderr",
     "output_type": "stream",
     "text": [
      "`Trainer.fit` stopped: `max_epochs=82` reached.\n"
     ]
    }
   ],
   "source": [
    "\n",
    "# init the model\n",
    "max_epochs = 82\n",
    "\n",
    "trainer = pl.Trainer(precision=\"bf16-mixed\",\n",
    "                     \n",
    "                     gradient_clip_val=20,\n",
    "                     max_epochs=max_epochs, log_every_n_steps=5)\n",
    "trainer.fit(model=net, train_dataloaders=dl_train, val_dataloaders=dl_val)"
   ]
  },
  {
   "cell_type": "code",
   "execution_count": 261,
   "metadata": {},
   "outputs": [],
   "source": [
    "# %debug"
   ]
  },
  {
   "attachments": {},
   "cell_type": "markdown",
   "metadata": {},
   "source": [
    "# Read hist"
   ]
  },
  {
   "cell_type": "code",
   "execution_count": 262,
   "metadata": {},
   "outputs": [
    {
     "data": {
      "text/html": [
       "<div>\n",
       "<style scoped>\n",
       "    .dataframe tbody tr th:only-of-type {\n",
       "        vertical-align: middle;\n",
       "    }\n",
       "\n",
       "    .dataframe tbody tr th {\n",
       "        vertical-align: top;\n",
       "    }\n",
       "\n",
       "    .dataframe thead th {\n",
       "        text-align: right;\n",
       "    }\n",
       "</style>\n",
       "<table border=\"1\" class=\"dataframe\">\n",
       "  <thead>\n",
       "    <tr style=\"text-align: right;\">\n",
       "      <th></th>\n",
       "      <th>val/acc</th>\n",
       "      <th>val/loss</th>\n",
       "      <th>val/n</th>\n",
       "      <th>step</th>\n",
       "      <th>train/acc</th>\n",
       "      <th>train/loss</th>\n",
       "      <th>train/n</th>\n",
       "    </tr>\n",
       "    <tr>\n",
       "      <th>epoch</th>\n",
       "      <th></th>\n",
       "      <th></th>\n",
       "      <th></th>\n",
       "      <th></th>\n",
       "      <th></th>\n",
       "      <th></th>\n",
       "      <th></th>\n",
       "    </tr>\n",
       "  </thead>\n",
       "  <tbody>\n",
       "    <tr>\n",
       "      <th>0</th>\n",
       "      <td>0.496988</td>\n",
       "      <td>0.499959</td>\n",
       "      <td>996.0</td>\n",
       "      <td>16.0</td>\n",
       "      <td>0.497740</td>\n",
       "      <td>0.499925</td>\n",
       "      <td>1991.0</td>\n",
       "    </tr>\n",
       "    <tr>\n",
       "      <th>1</th>\n",
       "      <td>0.485944</td>\n",
       "      <td>0.499846</td>\n",
       "      <td>996.0</td>\n",
       "      <td>33.0</td>\n",
       "      <td>0.515821</td>\n",
       "      <td>0.499015</td>\n",
       "      <td>1991.0</td>\n",
       "    </tr>\n",
       "    <tr>\n",
       "      <th>2</th>\n",
       "      <td>0.494980</td>\n",
       "      <td>0.499207</td>\n",
       "      <td>996.0</td>\n",
       "      <td>50.0</td>\n",
       "      <td>0.492717</td>\n",
       "      <td>0.500070</td>\n",
       "      <td>1991.0</td>\n",
       "    </tr>\n",
       "    <tr>\n",
       "      <th>3</th>\n",
       "      <td>0.519076</td>\n",
       "      <td>0.499467</td>\n",
       "      <td>996.0</td>\n",
       "      <td>67.0</td>\n",
       "      <td>0.494224</td>\n",
       "      <td>0.499619</td>\n",
       "      <td>1991.0</td>\n",
       "    </tr>\n",
       "    <tr>\n",
       "      <th>4</th>\n",
       "      <td>0.488956</td>\n",
       "      <td>0.500423</td>\n",
       "      <td>996.0</td>\n",
       "      <td>84.0</td>\n",
       "      <td>0.512808</td>\n",
       "      <td>0.498870</td>\n",
       "      <td>1991.0</td>\n",
       "    </tr>\n",
       "    <tr>\n",
       "      <th>...</th>\n",
       "      <td>...</td>\n",
       "      <td>...</td>\n",
       "      <td>...</td>\n",
       "      <td>...</td>\n",
       "      <td>...</td>\n",
       "      <td>...</td>\n",
       "      <td>...</td>\n",
       "    </tr>\n",
       "    <tr>\n",
       "      <th>77</th>\n",
       "      <td>0.539157</td>\n",
       "      <td>0.483304</td>\n",
       "      <td>996.0</td>\n",
       "      <td>1325.0</td>\n",
       "      <td>0.837268</td>\n",
       "      <td>0.282201</td>\n",
       "      <td>1991.0</td>\n",
       "    </tr>\n",
       "    <tr>\n",
       "      <th>78</th>\n",
       "      <td>0.550201</td>\n",
       "      <td>0.477490</td>\n",
       "      <td>996.0</td>\n",
       "      <td>1342.0</td>\n",
       "      <td>0.847815</td>\n",
       "      <td>0.278243</td>\n",
       "      <td>1991.0</td>\n",
       "    </tr>\n",
       "    <tr>\n",
       "      <th>79</th>\n",
       "      <td>0.546185</td>\n",
       "      <td>0.476890</td>\n",
       "      <td>996.0</td>\n",
       "      <td>1359.0</td>\n",
       "      <td>0.835761</td>\n",
       "      <td>0.274493</td>\n",
       "      <td>1991.0</td>\n",
       "    </tr>\n",
       "    <tr>\n",
       "      <th>80</th>\n",
       "      <td>0.541165</td>\n",
       "      <td>0.477488</td>\n",
       "      <td>996.0</td>\n",
       "      <td>1376.0</td>\n",
       "      <td>0.849824</td>\n",
       "      <td>0.275049</td>\n",
       "      <td>1991.0</td>\n",
       "    </tr>\n",
       "    <tr>\n",
       "      <th>81</th>\n",
       "      <td>0.547189</td>\n",
       "      <td>0.477596</td>\n",
       "      <td>996.0</td>\n",
       "      <td>1393.0</td>\n",
       "      <td>0.844299</td>\n",
       "      <td>0.275237</td>\n",
       "      <td>1991.0</td>\n",
       "    </tr>\n",
       "  </tbody>\n",
       "</table>\n",
       "<p>82 rows × 7 columns</p>\n",
       "</div>"
      ],
      "text/plain": [
       "        val/acc  val/loss  val/n    step  train/acc  train/loss  train/n\n",
       "epoch                                                                   \n",
       "0      0.496988  0.499959  996.0    16.0   0.497740    0.499925   1991.0\n",
       "1      0.485944  0.499846  996.0    33.0   0.515821    0.499015   1991.0\n",
       "2      0.494980  0.499207  996.0    50.0   0.492717    0.500070   1991.0\n",
       "3      0.519076  0.499467  996.0    67.0   0.494224    0.499619   1991.0\n",
       "4      0.488956  0.500423  996.0    84.0   0.512808    0.498870   1991.0\n",
       "...         ...       ...    ...     ...        ...         ...      ...\n",
       "77     0.539157  0.483304  996.0  1325.0   0.837268    0.282201   1991.0\n",
       "78     0.550201  0.477490  996.0  1342.0   0.847815    0.278243   1991.0\n",
       "79     0.546185  0.476890  996.0  1359.0   0.835761    0.274493   1991.0\n",
       "80     0.541165  0.477488  996.0  1376.0   0.849824    0.275049   1991.0\n",
       "81     0.547189  0.477596  996.0  1393.0   0.844299    0.275237   1991.0\n",
       "\n",
       "[82 rows x 7 columns]"
      ]
     },
     "execution_count": 262,
     "metadata": {},
     "output_type": "execute_result"
    }
   ],
   "source": [
    "df_hist = read_metrics_csv(trainer.logger.experiment.metrics_file_path).ffill().bfill()\n",
    "df_hist"
   ]
  },
  {
   "cell_type": "code",
   "execution_count": 263,
   "metadata": {},
   "outputs": [
    {
     "data": {
      "image/png": "[encoded data removed]",
      "text/plain": [
       "<Figure size 640x480 with 1 Axes>"
      ]
     },
     "metadata": {},
     "output_type": "display_data"
    }
   ],
   "source": [
    "for key in ['loss']:\n",
    "    df_hist[[c for c in df_hist.columns if key in c]].plot(logy=True)"
   ]
  },
  {
   "cell_type": "code",
   "execution_count": 264,
   "metadata": {},
   "outputs": [
    {
     "data": {
      "image/png": "[encoded data removed]",
      "text/plain": [
       "<Figure size 640x480 with 1 Axes>"
      ]
     },
     "metadata": {},
     "output_type": "display_data"
    }
   ],
   "source": [
    "for key in ['acc']:\n",
    "    df_hist[[c for c in df_hist.columns if key in c]].plot()"
   ]
  },
  {
   "attachments": {},
   "cell_type": "markdown",
   "metadata": {},
   "source": [
    "## Predict"
   ]
  },
  {
   "cell_type": "code",
   "execution_count": 265,
   "metadata": {},
   "outputs": [
    {
     "name": "stderr",
     "output_type": "stream",
     "text": [
      "LOCAL_RANK: 0 - CUDA_VISIBLE_DEVICES: [0]\n",
      "/home/ubuntu/mambaforge/envs/dlk3/lib/python3.11/site-packages/lightning/pytorch/trainer/connectors/data_connector.py:480: PossibleUserWarning: Your `test_dataloader`'s sampler has shuffling enabled, it is strongly recommended that you turn shuffling off for val/test dataloaders.\n",
      "  rank_zero_warn(\n"
     ]
    },
    {
     "data": {
      "application/vnd.jupyter.widget-view+json": {
       "model_id": "ed1c4a0e2a3341ebad52ec2e3b4a96bf",
       "version_major": 2,
       "version_minor": 0
      },
      "text/plain": [
       "Testing: 0it [00:00, ?it/s]"
      ]
     },
     "metadata": {},
     "output_type": "display_data"
    },
    {
     "data": {
      "text/html": [
       "<pre style=\"white-space:pre;overflow-x:auto;line-height:normal;font-family:Menlo,'DejaVu Sans Mono',consolas,'Courier New',monospace\">┏━━━━━━━━━━━━━━━━━━━━━━━━━━━┳━━━━━━━━━━━━━━━━━━━━━━━━━━━┳━━━━━━━━━━━━━━━━━━━━━━━━━━━┳━━━━━━━━━━━━━━━━━━━━━━━━━━━┓\n",
       "┃<span style=\"font-weight: bold\">   Runningstage.testing    </span>┃<span style=\"font-weight: bold\">                           </span>┃<span style=\"font-weight: bold\">                           </span>┃<span style=\"font-weight: bold\">                           </span>┃\n",
       "┃<span style=\"font-weight: bold\">          metric           </span>┃<span style=\"font-weight: bold\">       DataLoader 0        </span>┃<span style=\"font-weight: bold\">       DataLoader 1        </span>┃<span style=\"font-weight: bold\">       DataLoader 2        </span>┃\n",
       "┡━━━━━━━━━━━━━━━━━━━━━━━━━━━╇━━━━━━━━━━━━━━━━━━━━━━━━━━━╇━━━━━━━━━━━━━━━━━━━━━━━━━━━╇━━━━━━━━━━━━━━━━━━━━━━━━━━━┩\n",
       "│<span style=\"color: #008080; text-decoration-color: #008080\">         test/acc          </span>│<span style=\"color: #800080; text-decoration-color: #800080\">    0.9201406240463257     </span>│<span style=\"color: #800080; text-decoration-color: #800080\">    0.5471887588500977     </span>│<span style=\"color: #800080; text-decoration-color: #800080\">    0.5381526350975037     </span>│\n",
       "│<span style=\"color: #008080; text-decoration-color: #008080\">         test/loss         </span>│<span style=\"color: #800080; text-decoration-color: #800080\">    0.23339247703552246    </span>│<span style=\"color: #800080; text-decoration-color: #800080\">    0.47759562730789185    </span>│<span style=\"color: #800080; text-decoration-color: #800080\">    0.47705864906311035    </span>│\n",
       "│<span style=\"color: #008080; text-decoration-color: #008080\">          test/n           </span>│<span style=\"color: #800080; text-decoration-color: #800080\">          1991.0           </span>│<span style=\"color: #800080; text-decoration-color: #800080\">           996.0           </span>│<span style=\"color: #800080; text-decoration-color: #800080\">           996.0           </span>│\n",
       "└───────────────────────────┴───────────────────────────┴───────────────────────────┴───────────────────────────┘\n",
       "</pre>\n"
      ],
      "text/plain": [
       "┏━━━━━━━━━━━━━━━━━━━━━━━━━━━┳━━━━━━━━━━━━━━━━━━━━━━━━━━━┳━━━━━━━━━━━━━━━━━━━━━━━━━━━┳━━━━━━━━━━━━━━━━━━━━━━━━━━━┓\n",
       "┃\u001b[1m \u001b[0m\u001b[1m  Runningstage.testing   \u001b[0m\u001b[1m \u001b[0m┃\u001b[1m                           \u001b[0m┃\u001b[1m                           \u001b[0m┃\u001b[1m                           \u001b[0m┃\n",
       "┃\u001b[1m \u001b[0m\u001b[1m         metric          \u001b[0m\u001b[1m \u001b[0m┃\u001b[1m \u001b[0m\u001b[1m      DataLoader 0       \u001b[0m\u001b[1m \u001b[0m┃\u001b[1m \u001b[0m\u001b[1m      DataLoader 1       \u001b[0m\u001b[1m \u001b[0m┃\u001b[1m \u001b[0m\u001b[1m      DataLoader 2       \u001b[0m\u001b[1m \u001b[0m┃\n",
       "┡━━━━━━━━━━━━━━━━━━━━━━━━━━━╇━━━━━━━━━━━━━━━━━━━━━━━━━━━╇━━━━━━━━━━━━━━━━━━━━━━━━━━━╇━━━━━━━━━━━━━━━━━━━━━━━━━━━┩\n",
       "│\u001b[36m \u001b[0m\u001b[36m        test/acc         \u001b[0m\u001b[36m \u001b[0m│\u001b[35m \u001b[0m\u001b[35m   0.9201406240463257    \u001b[0m\u001b[35m \u001b[0m│\u001b[35m \u001b[0m\u001b[35m   0.5471887588500977    \u001b[0m\u001b[35m \u001b[0m│\u001b[35m \u001b[0m\u001b[35m   0.5381526350975037    \u001b[0m\u001b[35m \u001b[0m│\n",
       "│\u001b[36m \u001b[0m\u001b[36m        test/loss        \u001b[0m\u001b[36m \u001b[0m│\u001b[35m \u001b[0m\u001b[35m   0.23339247703552246   \u001b[0m\u001b[35m \u001b[0m│\u001b[35m \u001b[0m\u001b[35m   0.47759562730789185   \u001b[0m\u001b[35m \u001b[0m│\u001b[35m \u001b[0m\u001b[35m   0.47705864906311035   \u001b[0m\u001b[35m \u001b[0m│\n",
       "│\u001b[36m \u001b[0m\u001b[36m         test/n          \u001b[0m\u001b[36m \u001b[0m│\u001b[35m \u001b[0m\u001b[35m         1991.0          \u001b[0m\u001b[35m \u001b[0m│\u001b[35m \u001b[0m\u001b[35m          996.0          \u001b[0m\u001b[35m \u001b[0m│\u001b[35m \u001b[0m\u001b[35m          996.0          \u001b[0m\u001b[35m \u001b[0m│\n",
       "└───────────────────────────┴───────────────────────────┴───────────────────────────┴───────────────────────────┘\n"
      ]
     },
     "metadata": {},
     "output_type": "display_data"
    },
    {
     "data": {
      "text/plain": [
       "[{'test/acc/dataloader_idx_0': 0.9201406240463257,\n",
       "  'test/loss/dataloader_idx_0': 0.23339247703552246,\n",
       "  'test/n/dataloader_idx_0': 1991.0},\n",
       " {'test/acc/dataloader_idx_1': 0.5471887588500977,\n",
       "  'test/loss/dataloader_idx_1': 0.47759562730789185,\n",
       "  'test/n/dataloader_idx_1': 996.0},\n",
       " {'test/acc/dataloader_idx_2': 0.5381526350975037,\n",
       "  'test/loss/dataloader_idx_2': 0.47705864906311035,\n",
       "  'test/n/dataloader_idx_2': 996.0}]"
      ]
     },
     "execution_count": 265,
     "metadata": {},
     "output_type": "execute_result"
    }
   ],
   "source": [
    "dl_test = dm.test_dataloader()\n",
    "rs = trainer.test(net, dataloaders=[dl_train, dl_val, dl_test])\n",
    "rs"
   ]
  },
  {
   "cell_type": "code",
   "execution_count": 266,
   "metadata": {},
   "outputs": [
    {
     "name": "stderr",
     "output_type": "stream",
     "text": [
      "LOCAL_RANK: 0 - CUDA_VISIBLE_DEVICES: [0]\n"
     ]
    },
    {
     "data": {
      "application/vnd.jupyter.widget-view+json": {
       "model_id": "c9fe4f16fea74e2cbc4de1f4da0058ae",
       "version_major": 2,
       "version_minor": 0
      },
      "text/plain": [
       "Predicting: 0it [00:00, ?it/s]"
      ]
     },
     "metadata": {},
     "output_type": "display_data"
    },
    {
     "data": {
      "text/plain": [
       "(996,)"
      ]
     },
     "execution_count": 266,
     "metadata": {},
     "output_type": "execute_result"
    }
   ],
   "source": [
    "dl_test = dm.test_dataloader()\n",
    "r = trainer.predict(net, dataloaders=dl_test)\n",
    "y_test_pred = np.concatenate(r)\n",
    "y_test_pred.shape"
   ]
  },
  {
   "cell_type": "code",
   "execution_count": null,
   "metadata": {},
   "outputs": [],
   "source": []
  },
  {
   "cell_type": "code",
   "execution_count": 267,
   "metadata": {},
   "outputs": [],
   "source": [
    "df_test = dm.df.iloc[dm.splits['test'][0]:].copy()\n",
    "y_true = dl_test.dataset.tensors[2].numpy()"
   ]
  },
  {
   "cell_type": "code",
   "execution_count": 268,
   "metadata": {},
   "outputs": [
    {
     "data": {
      "text/html": [
       "<div>\n",
       "<style scoped>\n",
       "    .dataframe tbody tr th:only-of-type {\n",
       "        vertical-align: middle;\n",
       "    }\n",
       "\n",
       "    .dataframe tbody tr th {\n",
       "        vertical-align: top;\n",
       "    }\n",
       "\n",
       "    .dataframe thead th {\n",
       "        text-align: right;\n",
       "    }\n",
       "</style>\n",
       "<table border=\"1\" class=\"dataframe\">\n",
       "  <thead>\n",
       "    <tr style=\"text-align: right;\">\n",
       "      <th></th>\n",
       "      <th>ds_index</th>\n",
       "      <th>ds_string</th>\n",
       "      <th>example_i</th>\n",
       "      <th>answer</th>\n",
       "      <th>question</th>\n",
       "      <th>answer_choices</th>\n",
       "      <th>template_name</th>\n",
       "      <th>label_true</th>\n",
       "      <th>label_instructed</th>\n",
       "      <th>instructed_to_lie</th>\n",
       "      <th>...</th>\n",
       "      <th>expanded_ans1</th>\n",
       "      <th>txt_ans0</th>\n",
       "      <th>txt_ans1</th>\n",
       "      <th>dir_true</th>\n",
       "      <th>conf</th>\n",
       "      <th>llm_prob</th>\n",
       "      <th>llm_ans</th>\n",
       "      <th>y</th>\n",
       "      <th>probe_pred</th>\n",
       "      <th>probe_prob</th>\n",
       "    </tr>\n",
       "  </thead>\n",
       "  <tbody>\n",
       "    <tr>\n",
       "      <th>2987</th>\n",
       "      <td>5150</td>\n",
       "      <td>imdb</td>\n",
       "      <td>2575</td>\n",
       "      <td>negative</td>\n",
       "      <td>&lt;|system|&gt;You are an AI assistant that always ...</td>\n",
       "      <td>[negative, positive]</td>\n",
       "      <td>Sentiment with choices</td>\n",
       "      <td>1</td>\n",
       "      <td>0</td>\n",
       "      <td>True</td>\n",
       "      <td>...</td>\n",
       "      <td>0.309649</td>\n",
       "      <td>\\n</td>\n",
       "      <td>\\n</td>\n",
       "      <td>-0.126126</td>\n",
       "      <td>0.126126</td>\n",
       "      <td>0.141546</td>\n",
       "      <td>False</td>\n",
       "      <td>False</td>\n",
       "      <td>False</td>\n",
       "      <td>0.451172</td>\n",
       "    </tr>\n",
       "    <tr>\n",
       "      <th>2988</th>\n",
       "      <td>5151</td>\n",
       "      <td>imdb</td>\n",
       "      <td>2575</td>\n",
       "      <td>negative review.</td>\n",
       "      <td>&lt;|system|&gt;Below is an instruction that describ...</td>\n",
       "      <td>[negative, positive]</td>\n",
       "      <td>Negation template for positive and negative</td>\n",
       "      <td>1</td>\n",
       "      <td>1</td>\n",
       "      <td>False</td>\n",
       "      <td>...</td>\n",
       "      <td>0.531121</td>\n",
       "      <td>positive</td>\n",
       "      <td>positive</td>\n",
       "      <td>-0.176169</td>\n",
       "      <td>0.176169</td>\n",
       "      <td>0.597834</td>\n",
       "      <td>True</td>\n",
       "      <td>False</td>\n",
       "      <td>True</td>\n",
       "      <td>0.898438</td>\n",
       "    </tr>\n",
       "    <tr>\n",
       "      <th>2989</th>\n",
       "      <td>5156</td>\n",
       "      <td>imdb</td>\n",
       "      <td>2578</td>\n",
       "      <td>1</td>\n",
       "      <td>&lt;|system|&gt;You are about to immerse yourself in...</td>\n",
       "      <td>[0, 1]</td>\n",
       "      <td>burns_1</td>\n",
       "      <td>0</td>\n",
       "      <td>1</td>\n",
       "      <td>True</td>\n",
       "      <td>...</td>\n",
       "      <td>0.086315</td>\n",
       "      <td>0</td>\n",
       "      <td>0</td>\n",
       "      <td>0.059154</td>\n",
       "      <td>0.059154</td>\n",
       "      <td>0.056746</td>\n",
       "      <td>False</td>\n",
       "      <td>False</td>\n",
       "      <td>False</td>\n",
       "      <td>0.177734</td>\n",
       "    </tr>\n",
       "    <tr>\n",
       "      <th>2990</th>\n",
       "      <td>5181</td>\n",
       "      <td>imdb</td>\n",
       "      <td>2590</td>\n",
       "      <td>negative</td>\n",
       "      <td>&lt;|system|&gt;Below is an instruction that describ...</td>\n",
       "      <td>[negative, positive]</td>\n",
       "      <td>Writer Expressed Sentiment</td>\n",
       "      <td>0</td>\n",
       "      <td>0</td>\n",
       "      <td>False</td>\n",
       "      <td>...</td>\n",
       "      <td>0.351236</td>\n",
       "      <td>positive</td>\n",
       "      <td>I</td>\n",
       "      <td>-0.393402</td>\n",
       "      <td>0.393402</td>\n",
       "      <td>0.490894</td>\n",
       "      <td>False</td>\n",
       "      <td>True</td>\n",
       "      <td>False</td>\n",
       "      <td>0.388672</td>\n",
       "    </tr>\n",
       "    <tr>\n",
       "      <th>2991</th>\n",
       "      <td>5182</td>\n",
       "      <td>imdb</td>\n",
       "      <td>2591</td>\n",
       "      <td>negative</td>\n",
       "      <td>&lt;|system|&gt;You are an AI assistant that always ...</td>\n",
       "      <td>[negative, positive]</td>\n",
       "      <td>Movie Expressed Sentiment 2</td>\n",
       "      <td>1</td>\n",
       "      <td>0</td>\n",
       "      <td>True</td>\n",
       "      <td>...</td>\n",
       "      <td>0.830855</td>\n",
       "      <td>negative</td>\n",
       "      <td>positive</td>\n",
       "      <td>0.469982</td>\n",
       "      <td>0.469982</td>\n",
       "      <td>0.587186</td>\n",
       "      <td>True</td>\n",
       "      <td>True</td>\n",
       "      <td>False</td>\n",
       "      <td>0.000000</td>\n",
       "    </tr>\n",
       "    <tr>\n",
       "      <th>...</th>\n",
       "      <td>...</td>\n",
       "      <td>...</td>\n",
       "      <td>...</td>\n",
       "      <td>...</td>\n",
       "      <td>...</td>\n",
       "      <td>...</td>\n",
       "      <td>...</td>\n",
       "      <td>...</td>\n",
       "      <td>...</td>\n",
       "      <td>...</td>\n",
       "      <td>...</td>\n",
       "      <td>...</td>\n",
       "      <td>...</td>\n",
       "      <td>...</td>\n",
       "      <td>...</td>\n",
       "      <td>...</td>\n",
       "      <td>...</td>\n",
       "      <td>...</td>\n",
       "      <td>...</td>\n",
       "      <td>...</td>\n",
       "      <td>...</td>\n",
       "    </tr>\n",
       "    <tr>\n",
       "      <th>3978</th>\n",
       "      <td>8179</td>\n",
       "      <td>imdb</td>\n",
       "      <td>4089</td>\n",
       "      <td>positive</td>\n",
       "      <td>&lt;|system|&gt;Below is an instruction that describ...</td>\n",
       "      <td>[negative, positive]</td>\n",
       "      <td>Reviewer Sentiment Feeling</td>\n",
       "      <td>1</td>\n",
       "      <td>1</td>\n",
       "      <td>False</td>\n",
       "      <td>...</td>\n",
       "      <td>0.821930</td>\n",
       "      <td>positive</td>\n",
       "      <td>positive</td>\n",
       "      <td>0.102643</td>\n",
       "      <td>0.102643</td>\n",
       "      <td>0.750543</td>\n",
       "      <td>True</td>\n",
       "      <td>True</td>\n",
       "      <td>True</td>\n",
       "      <td>0.529297</td>\n",
       "    </tr>\n",
       "    <tr>\n",
       "      <th>3979</th>\n",
       "      <td>8180</td>\n",
       "      <td>imdb</td>\n",
       "      <td>4090</td>\n",
       "      <td>positive</td>\n",
       "      <td>&lt;|system|&gt;You are about to immerse yourself in...</td>\n",
       "      <td>[negative, positive]</td>\n",
       "      <td>Writer Expressed Sentiment</td>\n",
       "      <td>0</td>\n",
       "      <td>1</td>\n",
       "      <td>True</td>\n",
       "      <td>...</td>\n",
       "      <td>0.480320</td>\n",
       "      <td>negative</td>\n",
       "      <td>negative</td>\n",
       "      <td>0.138536</td>\n",
       "      <td>0.138536</td>\n",
       "      <td>0.347521</td>\n",
       "      <td>False</td>\n",
       "      <td>False</td>\n",
       "      <td>True</td>\n",
       "      <td>0.656250</td>\n",
       "    </tr>\n",
       "    <tr>\n",
       "      <th>3980</th>\n",
       "      <td>8181</td>\n",
       "      <td>imdb</td>\n",
       "      <td>4090</td>\n",
       "      <td>negative</td>\n",
       "      <td>&lt;|system|&gt;Below is an instruction that describ...</td>\n",
       "      <td>[negative, positive]</td>\n",
       "      <td>Movie Expressed Sentiment</td>\n",
       "      <td>0</td>\n",
       "      <td>0</td>\n",
       "      <td>False</td>\n",
       "      <td>...</td>\n",
       "      <td>0.330161</td>\n",
       "      <td>negative</td>\n",
       "      <td>negative</td>\n",
       "      <td>0.248395</td>\n",
       "      <td>0.248395</td>\n",
       "      <td>0.174902</td>\n",
       "      <td>False</td>\n",
       "      <td>False</td>\n",
       "      <td>False</td>\n",
       "      <td>0.000000</td>\n",
       "    </tr>\n",
       "    <tr>\n",
       "      <th>3981</th>\n",
       "      <td>8190</td>\n",
       "      <td>imdb</td>\n",
       "      <td>4095</td>\n",
       "      <td>bad</td>\n",
       "      <td>&lt;|system|&gt;You've been assigned a role in a cla...</td>\n",
       "      <td>[bad, good]</td>\n",
       "      <td>Reviewer Opinion bad good choices</td>\n",
       "      <td>1</td>\n",
       "      <td>0</td>\n",
       "      <td>True</td>\n",
       "      <td>...</td>\n",
       "      <td>0.763606</td>\n",
       "      <td>good</td>\n",
       "      <td>good</td>\n",
       "      <td>-0.170246</td>\n",
       "      <td>0.170246</td>\n",
       "      <td>0.835655</td>\n",
       "      <td>True</td>\n",
       "      <td>False</td>\n",
       "      <td>True</td>\n",
       "      <td>0.549805</td>\n",
       "    </tr>\n",
       "    <tr>\n",
       "      <th>3982</th>\n",
       "      <td>8191</td>\n",
       "      <td>imdb</td>\n",
       "      <td>4095</td>\n",
       "      <td>positive</td>\n",
       "      <td>&lt;|system|&gt;Below is an instruction that describ...</td>\n",
       "      <td>[negative, positive]</td>\n",
       "      <td>Reviewer Sentiment Feeling</td>\n",
       "      <td>1</td>\n",
       "      <td>1</td>\n",
       "      <td>False</td>\n",
       "      <td>...</td>\n",
       "      <td>0.838116</td>\n",
       "      <td>positive</td>\n",
       "      <td>positive</td>\n",
       "      <td>0.081453</td>\n",
       "      <td>0.081453</td>\n",
       "      <td>0.773282</td>\n",
       "      <td>True</td>\n",
       "      <td>True</td>\n",
       "      <td>False</td>\n",
       "      <td>0.282227</td>\n",
       "    </tr>\n",
       "  </tbody>\n",
       "</table>\n",
       "<p>996 rows × 29 columns</p>\n",
       "</div>"
      ],
      "text/plain": [
       "      ds_index ds_string  example_i            answer  \\\n",
       "2987      5150      imdb       2575          negative   \n",
       "2988      5151      imdb       2575  negative review.   \n",
       "2989      5156      imdb       2578                 1   \n",
       "2990      5181      imdb       2590          negative   \n",
       "2991      5182      imdb       2591          negative   \n",
       "...        ...       ...        ...               ...   \n",
       "3978      8179      imdb       4089          positive   \n",
       "3979      8180      imdb       4090          positive   \n",
       "3980      8181      imdb       4090          negative   \n",
       "3981      8190      imdb       4095               bad   \n",
       "3982      8191      imdb       4095          positive   \n",
       "\n",
       "                                               question        answer_choices  \\\n",
       "2987  <|system|>You are an AI assistant that always ...  [negative, positive]   \n",
       "2988  <|system|>Below is an instruction that describ...  [negative, positive]   \n",
       "2989  <|system|>You are about to immerse yourself in...                [0, 1]   \n",
       "2990  <|system|>Below is an instruction that describ...  [negative, positive]   \n",
       "2991  <|system|>You are an AI assistant that always ...  [negative, positive]   \n",
       "...                                                 ...                   ...   \n",
       "3978  <|system|>Below is an instruction that describ...  [negative, positive]   \n",
       "3979  <|system|>You are about to immerse yourself in...  [negative, positive]   \n",
       "3980  <|system|>Below is an instruction that describ...  [negative, positive]   \n",
       "3981  <|system|>You've been assigned a role in a cla...           [bad, good]   \n",
       "3982  <|system|>Below is an instruction that describ...  [negative, positive]   \n",
       "\n",
       "                                    template_name  label_true  \\\n",
       "2987                      Sentiment with choices            1   \n",
       "2988  Negation template for positive and negative           1   \n",
       "2989                                      burns_1           0   \n",
       "2990                   Writer Expressed Sentiment           0   \n",
       "2991                  Movie Expressed Sentiment 2           1   \n",
       "...                                           ...         ...   \n",
       "3978                   Reviewer Sentiment Feeling           1   \n",
       "3979                   Writer Expressed Sentiment           0   \n",
       "3980                    Movie Expressed Sentiment           0   \n",
       "3981            Reviewer Opinion bad good choices           1   \n",
       "3982                   Reviewer Sentiment Feeling           1   \n",
       "\n",
       "      label_instructed  instructed_to_lie  ... expanded_ans1  txt_ans0  \\\n",
       "2987                 0               True  ...      0.309649        \\n   \n",
       "2988                 1              False  ...      0.531121  positive   \n",
       "2989                 1               True  ...      0.086315         0   \n",
       "2990                 0              False  ...      0.351236  positive   \n",
       "2991                 0               True  ...      0.830855  negative   \n",
       "...                ...                ...  ...           ...       ...   \n",
       "3978                 1              False  ...      0.821930  positive   \n",
       "3979                 1               True  ...      0.480320  negative   \n",
       "3980                 0              False  ...      0.330161  negative   \n",
       "3981                 0               True  ...      0.763606      good   \n",
       "3982                 1              False  ...      0.838116  positive   \n",
       "\n",
       "      txt_ans1  dir_true      conf  llm_prob llm_ans      y probe_pred  \\\n",
       "2987        \\n -0.126126  0.126126  0.141546   False  False      False   \n",
       "2988  positive -0.176169  0.176169  0.597834    True  False       True   \n",
       "2989         0  0.059154  0.059154  0.056746   False  False      False   \n",
       "2990         I -0.393402  0.393402  0.490894   False   True      False   \n",
       "2991  positive  0.469982  0.469982  0.587186    True   True      False   \n",
       "...        ...       ...       ...       ...     ...    ...        ...   \n",
       "3978  positive  0.102643  0.102643  0.750543    True   True       True   \n",
       "3979  negative  0.138536  0.138536  0.347521   False  False       True   \n",
       "3980  negative  0.248395  0.248395  0.174902   False  False      False   \n",
       "3981      good -0.170246  0.170246  0.835655    True  False       True   \n",
       "3982  positive  0.081453  0.081453  0.773282    True   True      False   \n",
       "\n",
       "      probe_prob  \n",
       "2987    0.451172  \n",
       "2988    0.898438  \n",
       "2989    0.177734  \n",
       "2990    0.388672  \n",
       "2991    0.000000  \n",
       "...          ...  \n",
       "3978    0.529297  \n",
       "3979    0.656250  \n",
       "3980    0.000000  \n",
       "3981    0.549805  \n",
       "3982    0.282227  \n",
       "\n",
       "[996 rows x 29 columns]"
      ]
     },
     "execution_count": 268,
     "metadata": {},
     "output_type": "execute_result"
    }
   ],
   "source": [
    "# Make a prediction dataframe with everything in it\n",
    "df_test = dm.df.iloc[dm.splits['test'][0]:].copy()\n",
    "df_test['probe_pred'] = y_test_pred>0\n",
    "y_test_pred_bool = np.clip(switch2bool(y_test_pred), 0 ,1)\n",
    "df_test['probe_prob'] = y_test_pred_bool\n",
    "df_test['llm_prob'] = (df_test['ans0']+df_test['ans1'])/2\n",
    "df_test['llm_ans'] = df_test['llm_prob']>0.5\n",
    "df_test['conf'] = (df_test['ans0']-df_test['ans1']).abs()\n",
    "df_test['y'] = df_test['y']>0\n",
    "\n",
    "y_true = dl_test.dataset.tensors[2].numpy()\n",
    "assert ((df_test['y'].values>0.5)==(y_true>0)).all(), 'check it all lines up'\n",
    "\n",
    "df_test"
   ]
  },
  {
   "cell_type": "code",
   "execution_count": 269,
   "metadata": {},
   "outputs": [
    {
     "name": "stdout",
     "output_type": "stream",
     "text": [
      "probe results on subsets of the data\n",
      "acc=52.13% [instructed_to_lie==True]\n",
      "acc=60.00% [instructed_to_lie==False]\n",
      "acc=56.70% [llm_ans==label_true]\n",
      "acc=57.56% [llm_ans==label_instructed]\n",
      "acc=50.62% [instructed_to_lie==True & llm_ans==label_instructed]\n",
      "acc=52.76% [instructed_to_lie==True & llm_ans!=label_instructed]\n"
     ]
    },
    {
     "data": {
      "text/plain": [
       "0.5275590551181102"
      ]
     },
     "execution_count": 269,
     "metadata": {},
     "output_type": "execute_result"
    }
   ],
   "source": [
    "def get_acc_subset(df, query):\n",
    "    df_s = df.query(query)\n",
    "    acc = (df_s['probe_pred']==df_s['y']).mean()\n",
    "    print(f\"acc={acc:2.2%} [{query}]\")\n",
    "    return acc\n",
    "    \n",
    "print('probe results on subsets of the data')\n",
    "get_acc_subset(df_test, 'instructed_to_lie==True') # it was ph told to lie\n",
    "get_acc_subset(df_test, 'instructed_to_lie==False') # it was told not to lie\n",
    "get_acc_subset(df_test, 'llm_ans==label_true') # the llm gave the true ans\n",
    "get_acc_subset(df_test, 'llm_ans==label_instructed') # the llm gave the desired ans\n",
    "get_acc_subset(df_test, 'instructed_to_lie==True & llm_ans==label_instructed') # it was told to lie, and it did lie\n",
    "get_acc_subset(df_test, 'instructed_to_lie==True & llm_ans!=label_instructed')"
   ]
  },
  {
   "cell_type": "markdown",
   "metadata": {},
   "source": [
    "# RESULTS"
   ]
  },
  {
   "cell_type": "code",
   "execution_count": 270,
   "metadata": {},
   "outputs": [
    {
     "name": "stdout",
     "output_type": "stream",
     "text": [
      "⭐PRIMARY METRIC⭐ acc=55.72% from probe\n"
     ]
    }
   ],
   "source": [
    "acc = (df_test['y']==(y_test_pred_bool>0.5)).mean()\n",
    "\n",
    "# print(f\"  PRIMARY BASELINE roc_auc={primary_baseline:2.2%} from linear classifier\")\n",
    "print(f\"⭐PRIMARY METRIC⭐ acc={acc:2.2%} from probe\")"
   ]
  },
  {
   "cell_type": "markdown",
   "metadata": {},
   "source": [
    "# Out of sample\n",
    "\n",
    "Lets see how far it generalizes"
   ]
  },
  {
   "cell_type": "code",
   "execution_count": 271,
   "metadata": {},
   "outputs": [],
   "source": [
    "def try_fine_tune(dm):\n",
    "    dl_train = dm.train_dataloader()\n",
    "    dl_val = dm.val_dataloader()\n",
    "    dl_test = dm.test_dataloader()\n",
    "    b = next(iter(dl_train))\n",
    "    max_epochs = 42\n",
    "    c_in = b[0].shape[1]\n",
    "    print(b[0].shape)\n",
    "    net = PLConvProbe(c_in=c_in, total_steps=max_epochs*len(dl_train), depth=5, hs=128, lr=3e-3, dropout=0.1, input_dropout=0.1)\n",
    "    trainer = pl.Trainer(precision=\"bf16-mixed\",\n",
    "                        \n",
    "                        gradient_clip_val=20,\n",
    "                        max_epochs=max_epochs, log_every_n_steps=5)\n",
    "    trainer.fit(model=net, train_dataloaders=dl_train, val_dataloaders=dl_val)\n",
    "    df_hist = read_metrics_csv(trainer.logger.experiment.metrics_file_path).ffill().bfill()\n",
    "    rs = trainer.test(net, dataloaders=[dl_train, dl_val, dl_test])\n",
    "    return df_hist, rs"
   ]
  },
  {
   "cell_type": "code",
   "execution_count": 272,
   "metadata": {},
   "outputs": [],
   "source": [
    "oos_dataset_fs = [\n",
    "    # '../.ds/model-starchat-beta_ds-EleutherAItruthful-qa-binary_format-tqa-a-b-simple-prompt_N807_2shots_cd0a7f',\n",
    "    # '../.ds/model-starchat-beta_ds-EleutherAItruthful-qa-binary_format-tqa-sphinx-prompt_N807_2shots_cd0a7f', \n",
    "]"
   ]
  },
  {
   "cell_type": "code",
   "execution_count": 273,
   "metadata": {},
   "outputs": [],
   "source": [
    "batch_size = 12\n",
    "for f in oos_dataset_fs:\n",
    "    print(f)\n",
    "    ds2a = load_from_disk(f)\n",
    "\n",
    "    # restrict it to significant permutations. That is monte carlo dropout pairs, where the answer changes by more than X%\n",
    "    df = ds2df(ds2a)\n",
    "    m = np.abs(df.ans0-df.ans1)>0.1\n",
    "    significant_rows = m[m].index\n",
    "\n",
    "    # allowed_rows_i = set(known_rows_i).intersection(significant_rows)\n",
    "    allowed_rows_i = significant_rows\n",
    "    ds2 = ds2a.select(allowed_rows_i)\n",
    "    print(f\"selected rows are {len(ds2)/len(ds2a):2.2%}\")\n",
    "    print(len(ds2))\n",
    "\n",
    "    dm2 = imdbHSDataModule(ds2, batch_size=batch_size)\n",
    "    dm2.setup('train')\n",
    "\n",
    "    dl_val2 = dm2.val_dataloader()\n",
    "    dl_train2 = dm2.train_dataloader()\n",
    "    dl_test2 = dm2.test_dataloader()\n",
    "    print(len(dl_train2), len(dl_val2), len(dl_test2))\n",
    "    rs2 = trainer.test(net, dataloaders=[dl_train2, dl_val2, dl_test2]) \n",
    "    \n",
    "    df_hist2, rs2b = try_fine_tune(dm2)"
   ]
  },
  {
   "cell_type": "code",
   "execution_count": null,
   "metadata": {},
   "outputs": [],
   "source": []
  }
 ],
 "metadata": {
  "kernelspec": {
   "display_name": "dlk2",
   "language": "python",
   "name": "python3"
  },
  "language_info": {
   "codemirror_mode": {
    "name": "ipython",
    "version": 3
   },
   "file_extension": ".py",
   "mimetype": "text/x-python",
   "name": "python",
   "nbconvert_exporter": "python",
   "pygments_lexer": "ipython3",
   "version": "3.11.4"
  },
  "orig_nbformat": 4
 },
 "nbformat": 4,
 "nbformat_minor": 2
}
