{
 "cells": [
  {
   "attachments": {},
   "cell_type": "markdown",
   "metadata": {},
   "source": [
    "# distance and direciton\n",
    "\n",
    "Let try to opt for distance and direction with\n",
    "\n",
    "$L1loss(y_1-y_0, y_{true})$\n",
    "\n",
    "where $y_1=model(x_1)$\n",
    "\n",
    "So I'm optimising for the hidden states to be the correct distance and direcioton away. It's like the margin raning loss."
   ]
  },
  {
   "attachments": {},
   "cell_type": "markdown",
   "metadata": {},
   "source": [
    "\n",
    "links:\n",
    "- [loading](https://github.com/deep-diver/LLM-As-Chatbot/blob/main/models/alpaca.py)\n",
    "- [dict](https://github.com/deep-diver/LLM-As-Chatbot/blob/c79e855a492a968b54bac223e66dc9db448d6eba/model_cards.json#L143)\n",
    "- [prompt_format](https://github.com/deep-diver/PingPong/blob/main/src/pingpong/alpaca.py)"
   ]
  },
  {
   "cell_type": "code",
   "execution_count": 1,
   "metadata": {},
   "outputs": [],
   "source": [
    "# import your package\n",
    "%load_ext autoreload\n",
    "%autoreload 2"
   ]
  },
  {
   "cell_type": "code",
   "execution_count": 2,
   "metadata": {},
   "outputs": [
    {
     "data": {
      "text/plain": [
       "'4.30.1'"
      ]
     },
     "execution_count": 2,
     "metadata": {},
     "output_type": "execute_result"
    }
   ],
   "source": [
    "\n",
    "import numpy as np\n",
    "import pandas as pd\n",
    "from matplotlib import pyplot as plt\n",
    "plt.style.use('ggplot')\n",
    "\n",
    "from typing import Optional, List, Dict, Union\n",
    "\n",
    "import torch\n",
    "import torch.nn as nn\n",
    "import torch.nn.functional as F\n",
    "from torch import Tensor\n",
    "from torch import optim\n",
    "from torch.utils.data import random_split, DataLoader, TensorDataset\n",
    "\n",
    "from pathlib import Path\n",
    "\n",
    "import transformers\n",
    "\n",
    "import lightning.pytorch as pl\n",
    "# from dataclasses import dataclass\n",
    "\n",
    "from sklearn.linear_model import LogisticRegression\n",
    "from sklearn.metrics import f1_score, roc_auc_score, accuracy_score\n",
    "from sklearn.preprocessing import RobustScaler\n",
    "\n",
    "from tqdm.auto import tqdm\n",
    "import os\n",
    "\n",
    "from loguru import logger\n",
    "logger.add(os.sys.stderr, format=\"{time} {level} {message}\", level=\"INFO\")\n",
    "\n",
    "transformers.__version__"
   ]
  },
  {
   "cell_type": "markdown",
   "metadata": {},
   "source": [
    "# Dataset"
   ]
  },
  {
   "cell_type": "code",
   "execution_count": 3,
   "metadata": {},
   "outputs": [
    {
     "data": {
      "text/plain": [
       "Dataset({\n",
       "    features: ['hs0', 'scores0', 'hs1', 'scores1', 'label_b', 'ds_index', 'label', 'prompt', 'lie', 'prompt_truncated', 'choice_probs0', 'ans0', 'choice_probs1', 'ans1', 'txt_ans0', 'txt_ans1'],\n",
       "    num_rows: 9009\n",
       "})"
      ]
     },
     "execution_count": 3,
     "metadata": {},
     "output_type": "execute_result"
    }
   ],
   "source": [
    "from datasets import load_from_disk, concatenate_datasets\n",
    "fs = [\n",
    "    # '../.ds/model-starchat-beta_ds-amazon-polarity_format-guard-prompt_N8000_3shots_07e51a'\n",
    "    # '../.ds/model-starchat-beta_ds-amazon-polarity_format-guard-prompt_N2000_2shots_6df747',\n",
    "    '../.ds/model-starchat-beta_ds-amazon-polarity_format-guard-prompt_N9009_2shots_d6813d'\n",
    "]\n",
    "\n",
    "# './.ds/HuggingFaceH4starchat_beta-None-N_8000-ns_3-mc_0.2-2ffc1e'\n",
    "ds1 = concatenate_datasets([load_from_disk(f) for f in fs])\n",
    "ds1"
   ]
  },
  {
   "cell_type": "code",
   "execution_count": 4,
   "metadata": {},
   "outputs": [],
   "source": [
    "from src.datasets.load import ds2df"
   ]
  },
  {
   "cell_type": "markdown",
   "metadata": {},
   "source": [
    "## Filter"
   ]
  },
  {
   "cell_type": "code",
   "execution_count": 5,
   "metadata": {},
   "outputs": [
    {
     "data": {
      "text/html": [
       "<div>\n",
       "<style scoped>\n",
       "    .dataframe tbody tr th:only-of-type {\n",
       "        vertical-align: middle;\n",
       "    }\n",
       "\n",
       "    .dataframe tbody tr th {\n",
       "        vertical-align: top;\n",
       "    }\n",
       "\n",
       "    .dataframe thead th {\n",
       "        text-align: right;\n",
       "    }\n",
       "</style>\n",
       "<table border=\"1\" class=\"dataframe\">\n",
       "  <thead>\n",
       "    <tr style=\"text-align: right;\">\n",
       "      <th></th>\n",
       "      <th>label_b</th>\n",
       "      <th>ds_index</th>\n",
       "      <th>label</th>\n",
       "      <th>prompt</th>\n",
       "      <th>lie</th>\n",
       "      <th>prompt_truncated</th>\n",
       "      <th>choice_probs0</th>\n",
       "      <th>ans0</th>\n",
       "      <th>choice_probs1</th>\n",
       "      <th>ans1</th>\n",
       "      <th>txt_ans0</th>\n",
       "      <th>txt_ans1</th>\n",
       "      <th>dir_true</th>\n",
       "      <th>conf</th>\n",
       "      <th>llm_prob</th>\n",
       "      <th>llm_ans</th>\n",
       "      <th>desired_ans</th>\n",
       "    </tr>\n",
       "  </thead>\n",
       "  <tbody>\n",
       "    <tr>\n",
       "      <th>0</th>\n",
       "      <td>1</td>\n",
       "      <td>0</td>\n",
       "      <td>1</td>\n",
       "      <td>&lt;|system|&gt;You are about to immerse yourself in...</td>\n",
       "      <td>True</td>\n",
       "      <td>&lt;|endoftext|&gt;&lt;|endoftext|&gt;&lt;|endoftext|&gt;&lt;|endof...</td>\n",
       "      <td>[0.21382241, 0.15512827]</td>\n",
       "      <td>0.420447</td>\n",
       "      <td>[0.067346975, 0.1840437]</td>\n",
       "      <td>0.732073</td>\n",
       "      <td>False</td>\n",
       "      <td>This</td>\n",
       "      <td>0.311627</td>\n",
       "      <td>0.311627</td>\n",
       "      <td>0.576260</td>\n",
       "      <td>True</td>\n",
       "      <td>False</td>\n",
       "    </tr>\n",
       "    <tr>\n",
       "      <th>1</th>\n",
       "      <td>1</td>\n",
       "      <td>1</td>\n",
       "      <td>1</td>\n",
       "      <td>&lt;|system|&gt;You are about to immerse yourself in...</td>\n",
       "      <td>True</td>\n",
       "      <td>&lt;|endoftext|&gt;&lt;|endoftext|&gt;&lt;|endoftext|&gt;&lt;|endof...</td>\n",
       "      <td>[0.07619762, 0.29984444]</td>\n",
       "      <td>0.797348</td>\n",
       "      <td>[0.19563195, 0.23088205]</td>\n",
       "      <td>0.541311</td>\n",
       "      <td>True</td>\n",
       "      <td>The</td>\n",
       "      <td>-0.256037</td>\n",
       "      <td>0.256037</td>\n",
       "      <td>0.669330</td>\n",
       "      <td>True</td>\n",
       "      <td>False</td>\n",
       "    </tr>\n",
       "    <tr>\n",
       "      <th>2</th>\n",
       "      <td>0</td>\n",
       "      <td>2</td>\n",
       "      <td>0</td>\n",
       "      <td>&lt;|system|&gt;You are about to immerse yourself in...</td>\n",
       "      <td>True</td>\n",
       "      <td>&lt;|endoftext|&gt;&lt;|endoftext|&gt;&lt;|endoftext|&gt;&lt;|endof...</td>\n",
       "      <td>[0.1768313, 0.09951585]</td>\n",
       "      <td>0.360099</td>\n",
       "      <td>[0.2351863, 0.19894429]</td>\n",
       "      <td>0.458249</td>\n",
       "      <td>The</td>\n",
       "      <td>True</td>\n",
       "      <td>0.098150</td>\n",
       "      <td>0.098150</td>\n",
       "      <td>0.409174</td>\n",
       "      <td>False</td>\n",
       "      <td>True</td>\n",
       "    </tr>\n",
       "    <tr>\n",
       "      <th>3</th>\n",
       "      <td>1</td>\n",
       "      <td>3</td>\n",
       "      <td>1</td>\n",
       "      <td>&lt;|system|&gt;You are about to immerse yourself in...</td>\n",
       "      <td>True</td>\n",
       "      <td>&lt;|endoftext|&gt;&lt;|endoftext|&gt;&lt;|endoftext|&gt;&lt;|endof...</td>\n",
       "      <td>[0.33293533, 0.2322644]</td>\n",
       "      <td>0.410935</td>\n",
       "      <td>[0.22930245, 0.12280665]</td>\n",
       "      <td>0.348765</td>\n",
       "      <td>False</td>\n",
       "      <td>The</td>\n",
       "      <td>-0.062170</td>\n",
       "      <td>0.062170</td>\n",
       "      <td>0.379850</td>\n",
       "      <td>False</td>\n",
       "      <td>False</td>\n",
       "    </tr>\n",
       "    <tr>\n",
       "      <th>4</th>\n",
       "      <td>1</td>\n",
       "      <td>4</td>\n",
       "      <td>1</td>\n",
       "      <td>&lt;|system|&gt;You are about to immerse yourself in...</td>\n",
       "      <td>True</td>\n",
       "      <td>&lt;|endoftext|&gt;&lt;|endoftext|&gt;&lt;|endoftext|&gt;&lt;|endof...</td>\n",
       "      <td>[0.4733826, 0.22653806]</td>\n",
       "      <td>0.323658</td>\n",
       "      <td>[0.19953269, 0.08011225]</td>\n",
       "      <td>0.286468</td>\n",
       "      <td>False</td>\n",
       "      <td>The</td>\n",
       "      <td>-0.037190</td>\n",
       "      <td>0.037190</td>\n",
       "      <td>0.305063</td>\n",
       "      <td>False</td>\n",
       "      <td>False</td>\n",
       "    </tr>\n",
       "    <tr>\n",
       "      <th>...</th>\n",
       "      <td>...</td>\n",
       "      <td>...</td>\n",
       "      <td>...</td>\n",
       "      <td>...</td>\n",
       "      <td>...</td>\n",
       "      <td>...</td>\n",
       "      <td>...</td>\n",
       "      <td>...</td>\n",
       "      <td>...</td>\n",
       "      <td>...</td>\n",
       "      <td>...</td>\n",
       "      <td>...</td>\n",
       "      <td>...</td>\n",
       "      <td>...</td>\n",
       "      <td>...</td>\n",
       "      <td>...</td>\n",
       "      <td>...</td>\n",
       "    </tr>\n",
       "    <tr>\n",
       "      <th>9004</th>\n",
       "      <td>1</td>\n",
       "      <td>9004</td>\n",
       "      <td>1</td>\n",
       "      <td>&lt;|system|&gt;You are about to immerse yourself in...</td>\n",
       "      <td>True</td>\n",
       "      <td>&lt;|endoftext|&gt;&lt;|endoftext|&gt;&lt;|endoftext|&gt;&lt;|endof...</td>\n",
       "      <td>[0.08002959, 0.2259903]</td>\n",
       "      <td>0.738458</td>\n",
       "      <td>[0.063743114, 0.23966143]</td>\n",
       "      <td>0.789881</td>\n",
       "      <td>True</td>\n",
       "      <td>True</td>\n",
       "      <td>0.051423</td>\n",
       "      <td>0.051423</td>\n",
       "      <td>0.764170</td>\n",
       "      <td>True</td>\n",
       "      <td>False</td>\n",
       "    </tr>\n",
       "    <tr>\n",
       "      <th>9005</th>\n",
       "      <td>1</td>\n",
       "      <td>9005</td>\n",
       "      <td>1</td>\n",
       "      <td>&lt;|system|&gt;You are about to immerse yourself in...</td>\n",
       "      <td>True</td>\n",
       "      <td>&lt;|endoftext|&gt;&lt;|endoftext|&gt;&lt;|endoftext|&gt;&lt;|endof...</td>\n",
       "      <td>[0.13560745, 0.4700992]</td>\n",
       "      <td>0.776104</td>\n",
       "      <td>[0.36183098, 0.36576247]</td>\n",
       "      <td>0.502695</td>\n",
       "      <td>Positive</td>\n",
       "      <td>False</td>\n",
       "      <td>-0.273409</td>\n",
       "      <td>0.273409</td>\n",
       "      <td>0.639399</td>\n",
       "      <td>True</td>\n",
       "      <td>False</td>\n",
       "    </tr>\n",
       "    <tr>\n",
       "      <th>9006</th>\n",
       "      <td>1</td>\n",
       "      <td>9006</td>\n",
       "      <td>1</td>\n",
       "      <td>&lt;|system|&gt;You are about to immerse yourself in...</td>\n",
       "      <td>True</td>\n",
       "      <td>&lt;|endoftext|&gt;&lt;|endoftext|&gt;&lt;|endoftext|&gt;&lt;|endof...</td>\n",
       "      <td>[0.09060982, 0.16063938]</td>\n",
       "      <td>0.639337</td>\n",
       "      <td>[0.100443915, 0.2047279]</td>\n",
       "      <td>0.670839</td>\n",
       "      <td>True</td>\n",
       "      <td>True</td>\n",
       "      <td>0.031502</td>\n",
       "      <td>0.031502</td>\n",
       "      <td>0.655088</td>\n",
       "      <td>True</td>\n",
       "      <td>False</td>\n",
       "    </tr>\n",
       "    <tr>\n",
       "      <th>9007</th>\n",
       "      <td>1</td>\n",
       "      <td>9007</td>\n",
       "      <td>1</td>\n",
       "      <td>&lt;|system|&gt;You are about to immerse yourself in...</td>\n",
       "      <td>True</td>\n",
       "      <td>&lt;|endoftext|&gt;&lt;|endoftext|&gt;&lt;|endoftext|&gt;&lt;|endof...</td>\n",
       "      <td>[0.23724256, 0.30012703]</td>\n",
       "      <td>0.558501</td>\n",
       "      <td>[0.37843844, 0.20676398]</td>\n",
       "      <td>0.353314</td>\n",
       "      <td>Positive</td>\n",
       "      <td>False</td>\n",
       "      <td>-0.205187</td>\n",
       "      <td>0.205187</td>\n",
       "      <td>0.455908</td>\n",
       "      <td>False</td>\n",
       "      <td>False</td>\n",
       "    </tr>\n",
       "    <tr>\n",
       "      <th>9008</th>\n",
       "      <td>1</td>\n",
       "      <td>9008</td>\n",
       "      <td>1</td>\n",
       "      <td>&lt;|system|&gt;You are about to immerse yourself in...</td>\n",
       "      <td>True</td>\n",
       "      <td>&lt;|endoftext|&gt;&lt;|endoftext|&gt;&lt;|endoftext|&gt;&lt;|endof...</td>\n",
       "      <td>[0.21217397, 0.3673423]</td>\n",
       "      <td>0.633866</td>\n",
       "      <td>[0.170508, 0.25572562]</td>\n",
       "      <td>0.599952</td>\n",
       "      <td>True</td>\n",
       "      <td>True</td>\n",
       "      <td>-0.033915</td>\n",
       "      <td>0.033915</td>\n",
       "      <td>0.616909</td>\n",
       "      <td>True</td>\n",
       "      <td>False</td>\n",
       "    </tr>\n",
       "  </tbody>\n",
       "</table>\n",
       "<p>9009 rows × 17 columns</p>\n",
       "</div>"
      ],
      "text/plain": [
       "      label_b  ds_index  label   \n",
       "0           1         0      1  \\\n",
       "1           1         1      1   \n",
       "2           0         2      0   \n",
       "3           1         3      1   \n",
       "4           1         4      1   \n",
       "...       ...       ...    ...   \n",
       "9004        1      9004      1   \n",
       "9005        1      9005      1   \n",
       "9006        1      9006      1   \n",
       "9007        1      9007      1   \n",
       "9008        1      9008      1   \n",
       "\n",
       "                                                 prompt   lie   \n",
       "0     <|system|>You are about to immerse yourself in...  True  \\\n",
       "1     <|system|>You are about to immerse yourself in...  True   \n",
       "2     <|system|>You are about to immerse yourself in...  True   \n",
       "3     <|system|>You are about to immerse yourself in...  True   \n",
       "4     <|system|>You are about to immerse yourself in...  True   \n",
       "...                                                 ...   ...   \n",
       "9004  <|system|>You are about to immerse yourself in...  True   \n",
       "9005  <|system|>You are about to immerse yourself in...  True   \n",
       "9006  <|system|>You are about to immerse yourself in...  True   \n",
       "9007  <|system|>You are about to immerse yourself in...  True   \n",
       "9008  <|system|>You are about to immerse yourself in...  True   \n",
       "\n",
       "                                       prompt_truncated   \n",
       "0     <|endoftext|><|endoftext|><|endoftext|><|endof...  \\\n",
       "1     <|endoftext|><|endoftext|><|endoftext|><|endof...   \n",
       "2     <|endoftext|><|endoftext|><|endoftext|><|endof...   \n",
       "3     <|endoftext|><|endoftext|><|endoftext|><|endof...   \n",
       "4     <|endoftext|><|endoftext|><|endoftext|><|endof...   \n",
       "...                                                 ...   \n",
       "9004  <|endoftext|><|endoftext|><|endoftext|><|endof...   \n",
       "9005  <|endoftext|><|endoftext|><|endoftext|><|endof...   \n",
       "9006  <|endoftext|><|endoftext|><|endoftext|><|endof...   \n",
       "9007  <|endoftext|><|endoftext|><|endoftext|><|endof...   \n",
       "9008  <|endoftext|><|endoftext|><|endoftext|><|endof...   \n",
       "\n",
       "                 choice_probs0      ans0              choice_probs1      ans1   \n",
       "0     [0.21382241, 0.15512827]  0.420447   [0.067346975, 0.1840437]  0.732073  \\\n",
       "1     [0.07619762, 0.29984444]  0.797348   [0.19563195, 0.23088205]  0.541311   \n",
       "2      [0.1768313, 0.09951585]  0.360099    [0.2351863, 0.19894429]  0.458249   \n",
       "3      [0.33293533, 0.2322644]  0.410935   [0.22930245, 0.12280665]  0.348765   \n",
       "4      [0.4733826, 0.22653806]  0.323658   [0.19953269, 0.08011225]  0.286468   \n",
       "...                        ...       ...                        ...       ...   \n",
       "9004   [0.08002959, 0.2259903]  0.738458  [0.063743114, 0.23966143]  0.789881   \n",
       "9005   [0.13560745, 0.4700992]  0.776104   [0.36183098, 0.36576247]  0.502695   \n",
       "9006  [0.09060982, 0.16063938]  0.639337   [0.100443915, 0.2047279]  0.670839   \n",
       "9007  [0.23724256, 0.30012703]  0.558501   [0.37843844, 0.20676398]  0.353314   \n",
       "9008   [0.21217397, 0.3673423]  0.633866     [0.170508, 0.25572562]  0.599952   \n",
       "\n",
       "      txt_ans0 txt_ans1  dir_true      conf  llm_prob  llm_ans  desired_ans  \n",
       "0        False     This  0.311627  0.311627  0.576260     True        False  \n",
       "1         True      The -0.256037  0.256037  0.669330     True        False  \n",
       "2          The     True  0.098150  0.098150  0.409174    False         True  \n",
       "3        False      The -0.062170  0.062170  0.379850    False        False  \n",
       "4        False      The -0.037190  0.037190  0.305063    False        False  \n",
       "...        ...      ...       ...       ...       ...      ...          ...  \n",
       "9004      True     True  0.051423  0.051423  0.764170     True        False  \n",
       "9005  Positive    False -0.273409  0.273409  0.639399     True        False  \n",
       "9006      True     True  0.031502  0.031502  0.655088     True        False  \n",
       "9007  Positive    False -0.205187  0.205187  0.455908    False        False  \n",
       "9008      True     True -0.033915  0.033915  0.616909     True        False  \n",
       "\n",
       "[9009 rows x 17 columns]"
      ]
     },
     "execution_count": 5,
     "metadata": {},
     "output_type": "execute_result"
    }
   ],
   "source": [
    "# lets select only the ones where\n",
    "df = ds2df(ds1)\n",
    "df"
   ]
  },
  {
   "cell_type": "code",
   "execution_count": 6,
   "metadata": {},
   "outputs": [
    {
     "name": "stdout",
     "output_type": "stream",
     "text": [
      "selected rows are 50.78%\n"
     ]
    },
    {
     "data": {
      "text/plain": [
       "Dataset({\n",
       "    features: ['hs0', 'scores0', 'hs1', 'scores1', 'label_b', 'ds_index', 'label', 'prompt', 'lie', 'prompt_truncated', 'choice_probs0', 'ans0', 'choice_probs1', 'ans1', 'txt_ans0', 'txt_ans1'],\n",
       "    num_rows: 4575\n",
       "})"
      ]
     },
     "execution_count": 6,
     "metadata": {},
     "output_type": "execute_result"
    }
   ],
   "source": [
    "# # just select the question where the model knows the answer. \n",
    "# d = df.query('version==\"truth\"').set_index(\"index\")\n",
    "# # these are the ones where it got it right when asked to tell the truth\n",
    "# known_indices = d[d.llm_ans==d.true_answer].index\n",
    "\n",
    "# # convert to row numbers, and use datasets to select\n",
    "# known_rows = df['index'].isin(known_indices)\n",
    "# known_rows_i = df[known_rows].index\n",
    "\n",
    "# also restrict it to significant permutations. That is monte carlo dropout pairs, where the answer changes by more than X%\n",
    "m = np.abs(df.ans0-df.ans1)>0.1\n",
    "significant_rows = m[m].index\n",
    "\n",
    "# allowed_rows_i = set(known_rows_i).intersection(significant_rows)\n",
    "allowed_rows_i = significant_rows\n",
    "ds = ds1.select(allowed_rows_i)\n",
    "print(f\"selected rows are {len(ds)/len(ds1):2.2%}\")\n",
    "ds"
   ]
  },
  {
   "cell_type": "markdown",
   "metadata": {},
   "source": [
    "## Transform: Normalize by activation"
   ]
  },
  {
   "cell_type": "code",
   "execution_count": 7,
   "metadata": {},
   "outputs": [],
   "source": [
    "# N = 1000\n",
    "# small_ds = ds.select(range(N))\n",
    "# b = N\n",
    "# hs0 = small_ds['hs0'].reshape((b, -1))\n",
    "\n",
    "# scaler = RobustScaler()\n",
    "# hs1 = scaler.fit_transform(hs0)\n",
    "\n",
    "# def normalize_hs(hs0, hs1):\n",
    "#     shape=hs0.shape\n",
    "#     b = len(hs0)\n",
    "#     hs0 = scaler.transform(hs0.reshape((b, -1))).reshape(shape)\n",
    "#     hs1 = scaler.transform(hs1.reshape((b, -1))).reshape(shape)\n",
    "#     return {'hs0':hs0, 'hs1': hs1}\n",
    "\n",
    "# # Plot\n",
    "# plt.hist(hs0.flatten(), bins=155, range=[-5, 5], label='before', histtype='step')\n",
    "# plt.hist(hs1.flatten(), bins=155, range=[-5, 5], label='after', histtype='step')\n",
    "# plt.legend()\n",
    "# plt.show()\n",
    "\n",
    "# # # Test\n",
    "# # small_dataset = ds.select(range(4))\n",
    "# # small_dataset.map(normalize_hs, batched=True, batch_size=2, input_columns=['hs0', 'hs1'])\n",
    "\n",
    "# # run\n",
    "# ds = ds.map(normalize_hs, batched=True, input_columns=['hs0', 'hs1'])\n",
    "# ds"
   ]
  },
  {
   "attachments": {},
   "cell_type": "markdown",
   "metadata": {},
   "source": [
    "## Lightning DataModule"
   ]
  },
  {
   "cell_type": "code",
   "execution_count": 8,
   "metadata": {},
   "outputs": [
    {
     "data": {
      "text/html": [
       "<div>\n",
       "<style scoped>\n",
       "    .dataframe tbody tr th:only-of-type {\n",
       "        vertical-align: middle;\n",
       "    }\n",
       "\n",
       "    .dataframe tbody tr th {\n",
       "        vertical-align: top;\n",
       "    }\n",
       "\n",
       "    .dataframe thead th {\n",
       "        text-align: right;\n",
       "    }\n",
       "</style>\n",
       "<table border=\"1\" class=\"dataframe\">\n",
       "  <thead>\n",
       "    <tr style=\"text-align: right;\">\n",
       "      <th></th>\n",
       "      <th>label_b</th>\n",
       "      <th>ds_index</th>\n",
       "      <th>label</th>\n",
       "      <th>prompt</th>\n",
       "      <th>lie</th>\n",
       "      <th>prompt_truncated</th>\n",
       "      <th>choice_probs0</th>\n",
       "      <th>ans0</th>\n",
       "      <th>choice_probs1</th>\n",
       "      <th>ans1</th>\n",
       "      <th>txt_ans0</th>\n",
       "      <th>txt_ans1</th>\n",
       "      <th>dir_true</th>\n",
       "      <th>conf</th>\n",
       "      <th>llm_prob</th>\n",
       "      <th>llm_ans</th>\n",
       "      <th>desired_ans</th>\n",
       "    </tr>\n",
       "  </thead>\n",
       "  <tbody>\n",
       "    <tr>\n",
       "      <th>0</th>\n",
       "      <td>1</td>\n",
       "      <td>0</td>\n",
       "      <td>1</td>\n",
       "      <td>&lt;|system|&gt;You are about to immerse yourself in...</td>\n",
       "      <td>True</td>\n",
       "      <td>&lt;|endoftext|&gt;&lt;|endoftext|&gt;&lt;|endoftext|&gt;&lt;|endof...</td>\n",
       "      <td>[0.21382241, 0.15512827]</td>\n",
       "      <td>0.420447</td>\n",
       "      <td>[0.067346975, 0.1840437]</td>\n",
       "      <td>0.732073</td>\n",
       "      <td>False</td>\n",
       "      <td>This</td>\n",
       "      <td>0.311627</td>\n",
       "      <td>0.311627</td>\n",
       "      <td>0.576260</td>\n",
       "      <td>True</td>\n",
       "      <td>False</td>\n",
       "    </tr>\n",
       "    <tr>\n",
       "      <th>1</th>\n",
       "      <td>1</td>\n",
       "      <td>1</td>\n",
       "      <td>1</td>\n",
       "      <td>&lt;|system|&gt;You are about to immerse yourself in...</td>\n",
       "      <td>True</td>\n",
       "      <td>&lt;|endoftext|&gt;&lt;|endoftext|&gt;&lt;|endoftext|&gt;&lt;|endof...</td>\n",
       "      <td>[0.07619762, 0.29984444]</td>\n",
       "      <td>0.797348</td>\n",
       "      <td>[0.19563195, 0.23088205]</td>\n",
       "      <td>0.541311</td>\n",
       "      <td>True</td>\n",
       "      <td>The</td>\n",
       "      <td>-0.256037</td>\n",
       "      <td>0.256037</td>\n",
       "      <td>0.669330</td>\n",
       "      <td>True</td>\n",
       "      <td>False</td>\n",
       "    </tr>\n",
       "    <tr>\n",
       "      <th>2</th>\n",
       "      <td>0</td>\n",
       "      <td>6</td>\n",
       "      <td>0</td>\n",
       "      <td>&lt;|system|&gt;You are about to immerse yourself in...</td>\n",
       "      <td>True</td>\n",
       "      <td>&lt;|endoftext|&gt;&lt;|endoftext|&gt;&lt;|endoftext|&gt;&lt;|endof...</td>\n",
       "      <td>[0.28277758, 0.21350805]</td>\n",
       "      <td>0.430203</td>\n",
       "      <td>[0.1352499, 0.06068959]</td>\n",
       "      <td>0.309721</td>\n",
       "      <td>False</td>\n",
       "      <td>This</td>\n",
       "      <td>-0.120483</td>\n",
       "      <td>0.120483</td>\n",
       "      <td>0.369962</td>\n",
       "      <td>False</td>\n",
       "      <td>True</td>\n",
       "    </tr>\n",
       "    <tr>\n",
       "      <th>3</th>\n",
       "      <td>0</td>\n",
       "      <td>7</td>\n",
       "      <td>0</td>\n",
       "      <td>&lt;|system|&gt;You are about to immerse yourself in...</td>\n",
       "      <td>True</td>\n",
       "      <td>&lt;|endoftext|&gt;&lt;|endoftext|&gt;&lt;|endoftext|&gt;&lt;|endof...</td>\n",
       "      <td>[0.49810016, 0.218357]</td>\n",
       "      <td>0.304769</td>\n",
       "      <td>[0.46585095, 0.077957496]</td>\n",
       "      <td>0.143352</td>\n",
       "      <td>False</td>\n",
       "      <td>Negative</td>\n",
       "      <td>-0.161417</td>\n",
       "      <td>0.161417</td>\n",
       "      <td>0.224061</td>\n",
       "      <td>False</td>\n",
       "      <td>True</td>\n",
       "    </tr>\n",
       "  </tbody>\n",
       "</table>\n",
       "</div>"
      ],
      "text/plain": [
       "   label_b  ds_index  label   \n",
       "0        1         0      1  \\\n",
       "1        1         1      1   \n",
       "2        0         6      0   \n",
       "3        0         7      0   \n",
       "\n",
       "                                              prompt   lie   \n",
       "0  <|system|>You are about to immerse yourself in...  True  \\\n",
       "1  <|system|>You are about to immerse yourself in...  True   \n",
       "2  <|system|>You are about to immerse yourself in...  True   \n",
       "3  <|system|>You are about to immerse yourself in...  True   \n",
       "\n",
       "                                    prompt_truncated   \n",
       "0  <|endoftext|><|endoftext|><|endoftext|><|endof...  \\\n",
       "1  <|endoftext|><|endoftext|><|endoftext|><|endof...   \n",
       "2  <|endoftext|><|endoftext|><|endoftext|><|endof...   \n",
       "3  <|endoftext|><|endoftext|><|endoftext|><|endof...   \n",
       "\n",
       "              choice_probs0      ans0              choice_probs1      ans1   \n",
       "0  [0.21382241, 0.15512827]  0.420447   [0.067346975, 0.1840437]  0.732073  \\\n",
       "1  [0.07619762, 0.29984444]  0.797348   [0.19563195, 0.23088205]  0.541311   \n",
       "2  [0.28277758, 0.21350805]  0.430203    [0.1352499, 0.06068959]  0.309721   \n",
       "3    [0.49810016, 0.218357]  0.304769  [0.46585095, 0.077957496]  0.143352   \n",
       "\n",
       "  txt_ans0  txt_ans1  dir_true      conf  llm_prob  llm_ans  desired_ans  \n",
       "0    False      This  0.311627  0.311627  0.576260     True        False  \n",
       "1     True       The -0.256037  0.256037  0.669330     True        False  \n",
       "2    False      This -0.120483  0.120483  0.369962    False         True  \n",
       "3    False  Negative -0.161417  0.161417  0.224061    False         True  "
      ]
     },
     "execution_count": 8,
     "metadata": {},
     "output_type": "execute_result"
    }
   ],
   "source": [
    "df = ds2df(ds)\n",
    "df.head(4)"
   ]
  },
  {
   "cell_type": "code",
   "execution_count": 9,
   "metadata": {},
   "outputs": [],
   "source": [
    "# ds?"
   ]
  },
  {
   "attachments": {},
   "cell_type": "markdown",
   "metadata": {},
   "source": [
    "What are we detecting? If the right example of the pair is more deceptive.\n",
    "\n",
    "Now it's only deceptive if\n",
    "- it was asked to lie\n",
    "- it knows the truth\n",
    "- it gave the wrong answer (around 10% of the time)( it's hard to get these models to lie by encouragement rather than instruction)\n"
   ]
  },
  {
   "cell_type": "code",
   "execution_count": 10,
   "metadata": {},
   "outputs": [],
   "source": [
    "from src.helpers import switch2bool, bool2switch\n",
    "from src.datasets.dm import imdbHSDataModule"
   ]
  },
  {
   "cell_type": "code",
   "execution_count": 11,
   "metadata": {},
   "outputs": [
    {
     "data": {
      "text/plain": [
       "(19, 9)"
      ]
     },
     "execution_count": 11,
     "metadata": {},
     "output_type": "execute_result"
    }
   ],
   "source": [
    "batch_size = 120\n",
    "# test and cache\n",
    "dm = imdbHSDataModule(ds, batch_size=batch_size)\n",
    "dm.setup('train')\n",
    "\n",
    "dl_val = dm.val_dataloader()\n",
    "dl_train = dm.train_dataloader()\n",
    "len(dl_train), len(dl_val)"
   ]
  },
  {
   "cell_type": "code",
   "execution_count": 12,
   "metadata": {},
   "outputs": [
    {
     "data": {
      "text/plain": [
       "torch.Size([120, 6144, 37])"
      ]
     },
     "execution_count": 12,
     "metadata": {},
     "output_type": "execute_result"
    }
   ],
   "source": [
    "b = next(iter(dl_train))\n",
    "x0, x1, y = b\n",
    "x0.shape"
   ]
  },
  {
   "attachments": {},
   "cell_type": "markdown",
   "metadata": {},
   "source": [
    "# Data prep\n",
    "\n",
    "We do two inferences on the same inputs. Since we have dropout enabled, even during inference, we get two slightly different hidden states `hs1` and `hs2`, and two slightly different probabilities for our yes and no output tokens `p1` `p2`. We also have the true answer `t`\n",
    "\n",
    "So there are a few ways we can set up the problem. \n",
    "\n",
    "We can vary x:\n",
    "- `model(hs1)-model(hs2)=y`\n",
    "- `model(hs1-hs2)==y`\n",
    "\n",
    "And we can try differen't y's:\n",
    "- direction with a ranked loss. This could be unsupervised.\n",
    "- magnitude with a regression loss\n",
    "- vector (direction and magnitude) with a regression loss"
   ]
  },
  {
   "attachments": {},
   "cell_type": "markdown",
   "metadata": {},
   "source": [
    "# QC: Linear supervised probes\n",
    "\n",
    "\n",
    "Let's verify that the model's representations are good\n",
    "\n",
    "Before trying CCS, let's make sure there exists a direction that classifies examples as true vs false with high accuracy; if supervised logistic regression accuracy is bad, there's no hope of unsupervised CCS doing well.\n",
    "\n",
    "Note that because logistic regression is supervised we expect it to do better but to have worse generalisation that equivilent unsupervised methods. However in this case CSS is using a deeper model so it is more complicated.\n"
   ]
  },
  {
   "attachments": {},
   "cell_type": "markdown",
   "metadata": {},
   "source": [
    "## Try a classification of direction to truth"
   ]
  },
  {
   "cell_type": "code",
   "execution_count": 13,
   "metadata": {},
   "outputs": [],
   "source": [
    "# dm.y"
   ]
  },
  {
   "cell_type": "code",
   "execution_count": 14,
   "metadata": {},
   "outputs": [
    {
     "name": "stdout",
     "output_type": "stream",
     "text": [
      "split size 2287\n",
      "lr\n"
     ]
    },
    {
     "data": {
      "text/html": [
       "<style>#sk-container-id-1 {color: black;background-color: white;}#sk-container-id-1 pre{padding: 0;}#sk-container-id-1 div.sk-toggleable {background-color: white;}#sk-container-id-1 label.sk-toggleable__label {cursor: pointer;display: block;width: 100%;margin-bottom: 0;padding: 0.3em;box-sizing: border-box;text-align: center;}#sk-container-id-1 label.sk-toggleable__label-arrow:before {content: \"▸\";float: left;margin-right: 0.25em;color: #696969;}#sk-container-id-1 label.sk-toggleable__label-arrow:hover:before {color: black;}#sk-container-id-1 div.sk-estimator:hover label.sk-toggleable__label-arrow:before {color: black;}#sk-container-id-1 div.sk-toggleable__content {max-height: 0;max-width: 0;overflow: hidden;text-align: left;background-color: #f0f8ff;}#sk-container-id-1 div.sk-toggleable__content pre {margin: 0.2em;color: black;border-radius: 0.25em;background-color: #f0f8ff;}#sk-container-id-1 input.sk-toggleable__control:checked~div.sk-toggleable__content {max-height: 200px;max-width: 100%;overflow: auto;}#sk-container-id-1 input.sk-toggleable__control:checked~label.sk-toggleable__label-arrow:before {content: \"▾\";}#sk-container-id-1 div.sk-estimator input.sk-toggleable__control:checked~label.sk-toggleable__label {background-color: #d4ebff;}#sk-container-id-1 div.sk-label input.sk-toggleable__control:checked~label.sk-toggleable__label {background-color: #d4ebff;}#sk-container-id-1 input.sk-hidden--visually {border: 0;clip: rect(1px 1px 1px 1px);clip: rect(1px, 1px, 1px, 1px);height: 1px;margin: -1px;overflow: hidden;padding: 0;position: absolute;width: 1px;}#sk-container-id-1 div.sk-estimator {font-family: monospace;background-color: #f0f8ff;border: 1px dotted black;border-radius: 0.25em;box-sizing: border-box;margin-bottom: 0.5em;}#sk-container-id-1 div.sk-estimator:hover {background-color: #d4ebff;}#sk-container-id-1 div.sk-parallel-item::after {content: \"\";width: 100%;border-bottom: 1px solid gray;flex-grow: 1;}#sk-container-id-1 div.sk-label:hover label.sk-toggleable__label {background-color: #d4ebff;}#sk-container-id-1 div.sk-serial::before {content: \"\";position: absolute;border-left: 1px solid gray;box-sizing: border-box;top: 0;bottom: 0;left: 50%;z-index: 0;}#sk-container-id-1 div.sk-serial {display: flex;flex-direction: column;align-items: center;background-color: white;padding-right: 0.2em;padding-left: 0.2em;position: relative;}#sk-container-id-1 div.sk-item {position: relative;z-index: 1;}#sk-container-id-1 div.sk-parallel {display: flex;align-items: stretch;justify-content: center;background-color: white;position: relative;}#sk-container-id-1 div.sk-item::before, #sk-container-id-1 div.sk-parallel-item::before {content: \"\";position: absolute;border-left: 1px solid gray;box-sizing: border-box;top: 0;bottom: 0;left: 50%;z-index: -1;}#sk-container-id-1 div.sk-parallel-item {display: flex;flex-direction: column;z-index: 1;position: relative;background-color: white;}#sk-container-id-1 div.sk-parallel-item:first-child::after {align-self: flex-end;width: 50%;}#sk-container-id-1 div.sk-parallel-item:last-child::after {align-self: flex-start;width: 50%;}#sk-container-id-1 div.sk-parallel-item:only-child::after {width: 0;}#sk-container-id-1 div.sk-dashed-wrapped {border: 1px dashed gray;margin: 0 0.4em 0.5em 0.4em;box-sizing: border-box;padding-bottom: 0.4em;background-color: white;}#sk-container-id-1 div.sk-label label {font-family: monospace;font-weight: bold;display: inline-block;line-height: 1.2em;}#sk-container-id-1 div.sk-label-container {text-align: center;}#sk-container-id-1 div.sk-container {/* jupyter's `normalize.less` sets `[hidden] { display: none; }` but bootstrap.min.css set `[hidden] { display: none !important; }` so we also need the `!important` here to be able to override the default hidden behavior on the sphinx rendered scikit-learn.org. See: https://github.com/scikit-learn/scikit-learn/issues/21755 */display: inline-block !important;position: relative;}#sk-container-id-1 div.sk-text-repr-fallback {display: none;}</style><div id=\"sk-container-id-1\" class=\"sk-top-container\"><div class=\"sk-text-repr-fallback\"><pre>LogisticRegression(class_weight=&#x27;balanced&#x27;)</pre><b>In a Jupyter environment, please rerun this cell to show the HTML representation or trust the notebook. <br />On GitHub, the HTML representation is unable to render, please try loading this page with nbviewer.org.</b></div><div class=\"sk-container\" hidden><div class=\"sk-item\"><div class=\"sk-estimator sk-toggleable\"><input class=\"sk-toggleable__control sk-hidden--visually\" id=\"sk-estimator-id-1\" type=\"checkbox\" checked><label for=\"sk-estimator-id-1\" class=\"sk-toggleable__label sk-toggleable__label-arrow\">LogisticRegression</label><div class=\"sk-toggleable__content\"><pre>LogisticRegression(class_weight=&#x27;balanced&#x27;)</pre></div></div></div></div></div>"
      ],
      "text/plain": [
       "LogisticRegression(class_weight='balanced')"
      ]
     },
     "execution_count": 14,
     "metadata": {},
     "output_type": "execute_result"
    }
   ],
   "source": [
    "n = len(df)\n",
    "\n",
    "# Define X and y\n",
    "X = (dm.hs1-dm.hs0).reshape((n, -1))#/dm.y[:, None]\n",
    "y = dm.y>0\n",
    "\n",
    "# split\n",
    "n = len(y)\n",
    "max_rows = 300\n",
    "print('split size', n//2)\n",
    "X_train, X_test = X[:n//2], X[n//2:]\n",
    "y_train, y_test = y[:n//2], y[n//2:]\n",
    "X_train = X_train[:max_rows]\n",
    "y_train = y_train[:max_rows]\n",
    "X_test = X_test[:max_rows]\n",
    "y_test = y_test[:max_rows]\n",
    "\n",
    "# scale\n",
    "scaler = RobustScaler()\n",
    "scaler.fit(X_train)\n",
    "X_train2 = scaler.transform(X_train)\n",
    "X_test2 = scaler.transform(X_test)\n",
    "print('lr')\n",
    "\n",
    "lr = LogisticRegression(class_weight=\"balanced\", penalty=\"l2\", max_iter=100)\n",
    "lr.fit(X_train2, y_train>0)"
   ]
  },
  {
   "cell_type": "code",
   "execution_count": 15,
   "metadata": {},
   "outputs": [],
   "source": [
    "# y.mean()"
   ]
  },
  {
   "cell_type": "code",
   "execution_count": 16,
   "metadata": {},
   "outputs": [
    {
     "name": "stdout",
     "output_type": "stream",
     "text": [
      "Logistic cls acc: 100.00% [TRAIN]\n",
      "Logistic cls acc: 59.00% [TEST]\n",
      "test acc w lie 59.00%\n",
      "test acc wo lie nan%\n"
     ]
    },
    {
     "name": "stderr",
     "output_type": "stream",
     "text": [
      "/tmp/ipykernel_368581/3214049281.py:7: RuntimeWarning: Mean of empty slice.\n",
      "  acc_wo_lie = ((y_test_pred[~m]>0)==(y_test[~m]>0)).mean()\n",
      "/home/ubuntu/mambaforge/envs/dlk2/lib/python3.9/site-packages/numpy/core/_methods.py:129: RuntimeWarning: invalid value encountered in scalar divide\n",
      "  ret = ret.dtype.type(ret / rcount)\n"
     ]
    }
   ],
   "source": [
    "print(\"Logistic cls acc: {:2.2%} [TRAIN]\".format(lr.score(X_train2, y_train>0)))\n",
    "print(\"Logistic cls acc: {:2.2%} [TEST]\".format(lr.score(X_test2, y_test>0)))\n",
    "\n",
    "m = df['lie'][n//2:][:max_rows]\n",
    "y_test_pred = lr.predict(X_test2)\n",
    "acc_w_lie = ((y_test_pred[m]>0)==(y_test[m]>0)).mean()\n",
    "acc_wo_lie = ((y_test_pred[~m]>0)==(y_test[~m]>0)).mean()\n",
    "print(f'test acc w lie {acc_w_lie:2.2%}')\n",
    "print(f'test acc wo lie {acc_wo_lie:2.2%}')"
   ]
  },
  {
   "cell_type": "code",
   "execution_count": 17,
   "metadata": {},
   "outputs": [],
   "source": [
    "# primary_baseline = roc_auc_score(y_test>0, y_test_pred)\n",
    "# primary_baseline"
   ]
  },
  {
   "attachments": {},
   "cell_type": "markdown",
   "metadata": {},
   "source": [
    "# LightningModel"
   ]
  },
  {
   "cell_type": "code",
   "execution_count": 18,
   "metadata": {},
   "outputs": [],
   "source": [
    "from src.probes.conv import PLConvProbe"
   ]
  },
  {
   "attachments": {},
   "cell_type": "markdown",
   "metadata": {},
   "source": [
    "# Run"
   ]
  },
  {
   "cell_type": "code",
   "execution_count": 19,
   "metadata": {},
   "outputs": [],
   "source": [
    "# quiet please\n",
    "torch.set_float32_matmul_precision('medium')\n",
    "\n",
    "import warnings\n",
    "warnings.filterwarnings(\"ignore\", \".*does not have many workers.*\")\n",
    "warnings.filterwarnings(\"ignore\", \".*F-score.*\")"
   ]
  },
  {
   "attachments": {},
   "cell_type": "markdown",
   "metadata": {},
   "source": [
    "## Prep dataloader/set"
   ]
  },
  {
   "cell_type": "code",
   "execution_count": 20,
   "metadata": {},
   "outputs": [],
   "source": [
    "dl_train = dm.train_dataloader()\n",
    "dl_val = dm.val_dataloader()\n",
    "b = next(iter(dl_train))\n",
    "# b"
   ]
  },
  {
   "cell_type": "code",
   "execution_count": 21,
   "metadata": {},
   "outputs": [
    {
     "name": "stdout",
     "output_type": "stream",
     "text": [
      "torch.Size([120, 6144, 37])\n"
     ]
    },
    {
     "data": {
      "text/plain": [
       "PLConvProbe(\n",
       "  (probe): ConvProbe(\n",
       "    (net): Sequential(\n",
       "      (0): BatchNorm1d(6144, eps=1e-05, momentum=0.1, affine=False, track_running_stats=True)\n",
       "      (1): Dropout1d(p=0, inplace=False)\n",
       "      (2): Conv1d(6144, 252, kernel_size=(2,), stride=(1,))\n",
       "      (3): ReLU()\n",
       "      (4): BatchNorm1d(252, eps=1e-05, momentum=0.1, affine=True, track_running_stats=True)\n",
       "      (5): Conv1d(252, 210, kernel_size=(2,), stride=(1,))\n",
       "      (6): ReLU()\n",
       "      (7): BatchNorm1d(210, eps=1e-05, momentum=0.1, affine=True, track_running_stats=True)\n",
       "      (8): Conv1d(210, 168, kernel_size=(2,), stride=(1,))\n",
       "      (9): ReLU()\n",
       "      (10): BatchNorm1d(168, eps=1e-05, momentum=0.1, affine=True, track_running_stats=True)\n",
       "      (11): Conv1d(168, 126, kernel_size=(2,), stride=(1,))\n",
       "      (12): ReLU()\n",
       "      (13): BatchNorm1d(126, eps=1e-05, momentum=0.1, affine=True, track_running_stats=True)\n",
       "      (14): Conv1d(126, 84, kernel_size=(2,), stride=(1,))\n",
       "      (15): ReLU()\n",
       "      (16): BatchNorm1d(84, eps=1e-05, momentum=0.1, affine=True, track_running_stats=True)\n",
       "      (17): Conv1d(84, 42, kernel_size=(2,), stride=(1,))\n",
       "      (18): ReLU()\n",
       "      (19): BatchNorm1d(42, eps=1e-05, momentum=0.1, affine=True, track_running_stats=True)\n",
       "      (20): AdaptiveAvgPool1d(output_size=1)\n",
       "    )\n",
       "    (head): Sequential(\n",
       "      (0): Linear(in_features=42, out_features=42, bias=True)\n",
       "      (1): ReLU()\n",
       "      (2): Dropout(p=0, inplace=False)\n",
       "      (3): Linear(in_features=42, out_features=1, bias=True)\n",
       "    )\n",
       "  )\n",
       ")"
      ]
     },
     "execution_count": 21,
     "metadata": {},
     "output_type": "execute_result"
    }
   ],
   "source": [
    "# init the model\n",
    "max_epochs = 42\n",
    "c_in = b[0].shape[1]\n",
    "print(b[0].shape)\n",
    "net = PLConvProbe(c_in=c_in, total_steps=max_epochs*len(dl_train), depth=5, hs=42, lr=3e-3, \n",
    "        #   weight_decay=1e-4, \n",
    "          # dropout=0.2,\n",
    "          )\n",
    "net"
   ]
  },
  {
   "cell_type": "code",
   "execution_count": 22,
   "metadata": {},
   "outputs": [
    {
     "data": {
      "text/plain": [
       "(torch.Size([120]), torch.Size([120]))"
      ]
     },
     "execution_count": 22,
     "metadata": {},
     "output_type": "execute_result"
    }
   ],
   "source": [
    "# DEBUG\n",
    "with torch.no_grad():\n",
    "    b = next(iter(dl_train))\n",
    "    b2 = [bb.to(net.device) for bb in b]\n",
    "    y = net(b2[0])\n",
    "y.shape, b[2].shape"
   ]
  },
  {
   "cell_type": "code",
   "execution_count": 23,
   "metadata": {},
   "outputs": [],
   "source": [
    "# # DEBUG\n",
    "# trainer = pl.Trainer(fast_dev_run=2)\n",
    "# trainer.fit(model=net, train_dataloaders=dl_train)"
   ]
  },
  {
   "cell_type": "code",
   "execution_count": 24,
   "metadata": {},
   "outputs": [
    {
     "name": "stderr",
     "output_type": "stream",
     "text": [
      "Using bfloat16 Automatic Mixed Precision (AMP)\n",
      "GPU available: True (cuda), used: True\n",
      "TPU available: False, using: 0 TPU cores\n",
      "IPU available: False, using: 0 IPUs\n",
      "HPU available: False, using: 0 HPUs\n",
      "/home/ubuntu/mambaforge/envs/dlk2/lib/python3.9/site-packages/lightning/pytorch/trainer/connectors/logger_connector/logger_connector.py:67: UserWarning: Starting from v1.9.0, `tensorboardX` has been removed as a dependency of the `lightning.pytorch` package, due to potential conflicts with other packages in the ML ecosystem. For this reason, `logger=True` will use `CSVLogger` as the default logger, unless the `tensorboard` or `tensorboardX` packages are found. Please `pip install lightning[extra]` or one of them to enable TensorBoard support by default\n",
      "  warning_cache.warn(\n",
      "LOCAL_RANK: 0 - CUDA_VISIBLE_DEVICES: [0]\n",
      "\n",
      "  | Name  | Type      | Params\n",
      "------------------------------------\n",
      "0 | probe | ConvProbe | 3.3 M \n",
      "------------------------------------\n",
      "3.3 M     Trainable params\n",
      "0         Non-trainable params\n",
      "3.3 M     Total params\n",
      "13.392    Total estimated model params size (MB)\n"
     ]
    },
    {
     "data": {
      "application/vnd.jupyter.widget-view+json": {
       "model_id": "b080288390e44cb8a439fb518c2000d6",
       "version_major": 2,
       "version_minor": 0
      },
      "text/plain": [
       "Sanity Checking: 0it [00:00, ?it/s]"
      ]
     },
     "metadata": {},
     "output_type": "display_data"
    },
    {
     "data": {
      "application/vnd.jupyter.widget-view+json": {
       "model_id": "0730c79a992e4c408745f4ee92cd06be",
       "version_major": 2,
       "version_minor": 0
      },
      "text/plain": [
       "Training: 0it [00:00, ?it/s]"
      ]
     },
     "metadata": {},
     "output_type": "display_data"
    },
    {
     "data": {
      "application/vnd.jupyter.widget-view+json": {
       "model_id": "f4feb72a5e6a4e97a5e10fffc2f7f594",
       "version_major": 2,
       "version_minor": 0
      },
      "text/plain": [
       "Validation: 0it [00:00, ?it/s]"
      ]
     },
     "metadata": {},
     "output_type": "display_data"
    },
    {
     "data": {
      "application/vnd.jupyter.widget-view+json": {
       "model_id": "ad1241ae273746389f2be40c51bdbfa5",
       "version_major": 2,
       "version_minor": 0
      },
      "text/plain": [
       "Validation: 0it [00:00, ?it/s]"
      ]
     },
     "metadata": {},
     "output_type": "display_data"
    },
    {
     "data": {
      "application/vnd.jupyter.widget-view+json": {
       "model_id": "0c2512e6b14040da839918f5a03726c2",
       "version_major": 2,
       "version_minor": 0
      },
      "text/plain": [
       "Validation: 0it [00:00, ?it/s]"
      ]
     },
     "metadata": {},
     "output_type": "display_data"
    },
    {
     "data": {
      "application/vnd.jupyter.widget-view+json": {
       "model_id": "435410c52f624999bc2f921a4418737e",
       "version_major": 2,
       "version_minor": 0
      },
      "text/plain": [
       "Validation: 0it [00:00, ?it/s]"
      ]
     },
     "metadata": {},
     "output_type": "display_data"
    },
    {
     "data": {
      "application/vnd.jupyter.widget-view+json": {
       "model_id": "1274e1977222459282544acbed2efb85",
       "version_major": 2,
       "version_minor": 0
      },
      "text/plain": [
       "Validation: 0it [00:00, ?it/s]"
      ]
     },
     "metadata": {},
     "output_type": "display_data"
    },
    {
     "data": {
      "application/vnd.jupyter.widget-view+json": {
       "model_id": "d73994734b0f4f308a3e536aa46d5532",
       "version_major": 2,
       "version_minor": 0
      },
      "text/plain": [
       "Validation: 0it [00:00, ?it/s]"
      ]
     },
     "metadata": {},
     "output_type": "display_data"
    },
    {
     "data": {
      "application/vnd.jupyter.widget-view+json": {
       "model_id": "ddc1bb49e0ec4e5a9470c1daf834bec1",
       "version_major": 2,
       "version_minor": 0
      },
      "text/plain": [
       "Validation: 0it [00:00, ?it/s]"
      ]
     },
     "metadata": {},
     "output_type": "display_data"
    },
    {
     "data": {
      "application/vnd.jupyter.widget-view+json": {
       "model_id": "4b90d38738ab450f9e4d6ce74aef7693",
       "version_major": 2,
       "version_minor": 0
      },
      "text/plain": [
       "Validation: 0it [00:00, ?it/s]"
      ]
     },
     "metadata": {},
     "output_type": "display_data"
    },
    {
     "data": {
      "application/vnd.jupyter.widget-view+json": {
       "model_id": "aa23b792bf0e4b25be2ea2e336aaa335",
       "version_major": 2,
       "version_minor": 0
      },
      "text/plain": [
       "Validation: 0it [00:00, ?it/s]"
      ]
     },
     "metadata": {},
     "output_type": "display_data"
    },
    {
     "data": {
      "application/vnd.jupyter.widget-view+json": {
       "model_id": "49c0807bd81a4737bac92323ac6dac0b",
       "version_major": 2,
       "version_minor": 0
      },
      "text/plain": [
       "Validation: 0it [00:00, ?it/s]"
      ]
     },
     "metadata": {},
     "output_type": "display_data"
    },
    {
     "data": {
      "application/vnd.jupyter.widget-view+json": {
       "model_id": "6f1ece54b0944c708bae174080786f54",
       "version_major": 2,
       "version_minor": 0
      },
      "text/plain": [
       "Validation: 0it [00:00, ?it/s]"
      ]
     },
     "metadata": {},
     "output_type": "display_data"
    },
    {
     "data": {
      "application/vnd.jupyter.widget-view+json": {
       "model_id": "fdf15346dc664e2fa40475a244dab052",
       "version_major": 2,
       "version_minor": 0
      },
      "text/plain": [
       "Validation: 0it [00:00, ?it/s]"
      ]
     },
     "metadata": {},
     "output_type": "display_data"
    },
    {
     "data": {
      "application/vnd.jupyter.widget-view+json": {
       "model_id": "8f2af390f7c34e1784813656b0748af7",
       "version_major": 2,
       "version_minor": 0
      },
      "text/plain": [
       "Validation: 0it [00:00, ?it/s]"
      ]
     },
     "metadata": {},
     "output_type": "display_data"
    },
    {
     "data": {
      "application/vnd.jupyter.widget-view+json": {
       "model_id": "aeefa19b4f344cd5bd5628e296a67925",
       "version_major": 2,
       "version_minor": 0
      },
      "text/plain": [
       "Validation: 0it [00:00, ?it/s]"
      ]
     },
     "metadata": {},
     "output_type": "display_data"
    },
    {
     "data": {
      "application/vnd.jupyter.widget-view+json": {
       "model_id": "c1b25513d04e4b5fa2cbb9917562f9ef",
       "version_major": 2,
       "version_minor": 0
      },
      "text/plain": [
       "Validation: 0it [00:00, ?it/s]"
      ]
     },
     "metadata": {},
     "output_type": "display_data"
    },
    {
     "data": {
      "application/vnd.jupyter.widget-view+json": {
       "model_id": "2ac831328670419eb452319283d63ce6",
       "version_major": 2,
       "version_minor": 0
      },
      "text/plain": [
       "Validation: 0it [00:00, ?it/s]"
      ]
     },
     "metadata": {},
     "output_type": "display_data"
    },
    {
     "data": {
      "application/vnd.jupyter.widget-view+json": {
       "model_id": "52862904afb54d1284d18132033190f1",
       "version_major": 2,
       "version_minor": 0
      },
      "text/plain": [
       "Validation: 0it [00:00, ?it/s]"
      ]
     },
     "metadata": {},
     "output_type": "display_data"
    },
    {
     "data": {
      "application/vnd.jupyter.widget-view+json": {
       "model_id": "10a5e6a52f584ab1b54ea3d6b9b9cde5",
       "version_major": 2,
       "version_minor": 0
      },
      "text/plain": [
       "Validation: 0it [00:00, ?it/s]"
      ]
     },
     "metadata": {},
     "output_type": "display_data"
    },
    {
     "data": {
      "application/vnd.jupyter.widget-view+json": {
       "model_id": "e6574bdaf5634fae90c975cc85b05570",
       "version_major": 2,
       "version_minor": 0
      },
      "text/plain": [
       "Validation: 0it [00:00, ?it/s]"
      ]
     },
     "metadata": {},
     "output_type": "display_data"
    },
    {
     "data": {
      "application/vnd.jupyter.widget-view+json": {
       "model_id": "1501a8e141e04ca5bd497db27e02f2c1",
       "version_major": 2,
       "version_minor": 0
      },
      "text/plain": [
       "Validation: 0it [00:00, ?it/s]"
      ]
     },
     "metadata": {},
     "output_type": "display_data"
    },
    {
     "data": {
      "application/vnd.jupyter.widget-view+json": {
       "model_id": "7fef2376d4d34e33b2ea6695371ff48e",
       "version_major": 2,
       "version_minor": 0
      },
      "text/plain": [
       "Validation: 0it [00:00, ?it/s]"
      ]
     },
     "metadata": {},
     "output_type": "display_data"
    },
    {
     "data": {
      "application/vnd.jupyter.widget-view+json": {
       "model_id": "27524cd15af845c7990df55e3a0d93a5",
       "version_major": 2,
       "version_minor": 0
      },
      "text/plain": [
       "Validation: 0it [00:00, ?it/s]"
      ]
     },
     "metadata": {},
     "output_type": "display_data"
    },
    {
     "data": {
      "application/vnd.jupyter.widget-view+json": {
       "model_id": "84c1c046c1eb4c0383c6151e100da716",
       "version_major": 2,
       "version_minor": 0
      },
      "text/plain": [
       "Validation: 0it [00:00, ?it/s]"
      ]
     },
     "metadata": {},
     "output_type": "display_data"
    },
    {
     "data": {
      "application/vnd.jupyter.widget-view+json": {
       "model_id": "ff4560ecbafe4e64940d5012f5971b9b",
       "version_major": 2,
       "version_minor": 0
      },
      "text/plain": [
       "Validation: 0it [00:00, ?it/s]"
      ]
     },
     "metadata": {},
     "output_type": "display_data"
    },
    {
     "data": {
      "application/vnd.jupyter.widget-view+json": {
       "model_id": "9d36761618eb472b84fda8192bff7b40",
       "version_major": 2,
       "version_minor": 0
      },
      "text/plain": [
       "Validation: 0it [00:00, ?it/s]"
      ]
     },
     "metadata": {},
     "output_type": "display_data"
    },
    {
     "data": {
      "application/vnd.jupyter.widget-view+json": {
       "model_id": "5ddc8c2d055b46aaa5aca72b33b79bb5",
       "version_major": 2,
       "version_minor": 0
      },
      "text/plain": [
       "Validation: 0it [00:00, ?it/s]"
      ]
     },
     "metadata": {},
     "output_type": "display_data"
    },
    {
     "data": {
      "application/vnd.jupyter.widget-view+json": {
       "model_id": "469f12bb69c24d6bae051f3178a78f2c",
       "version_major": 2,
       "version_minor": 0
      },
      "text/plain": [
       "Validation: 0it [00:00, ?it/s]"
      ]
     },
     "metadata": {},
     "output_type": "display_data"
    },
    {
     "data": {
      "application/vnd.jupyter.widget-view+json": {
       "model_id": "32cd6bcd000d4c77b5f969fc1bfe72d2",
       "version_major": 2,
       "version_minor": 0
      },
      "text/plain": [
       "Validation: 0it [00:00, ?it/s]"
      ]
     },
     "metadata": {},
     "output_type": "display_data"
    },
    {
     "data": {
      "application/vnd.jupyter.widget-view+json": {
       "model_id": "004e2164e150482488da893230fb96ba",
       "version_major": 2,
       "version_minor": 0
      },
      "text/plain": [
       "Validation: 0it [00:00, ?it/s]"
      ]
     },
     "metadata": {},
     "output_type": "display_data"
    },
    {
     "data": {
      "application/vnd.jupyter.widget-view+json": {
       "model_id": "3272d04443cb4278b062806993fe46d2",
       "version_major": 2,
       "version_minor": 0
      },
      "text/plain": [
       "Validation: 0it [00:00, ?it/s]"
      ]
     },
     "metadata": {},
     "output_type": "display_data"
    },
    {
     "data": {
      "application/vnd.jupyter.widget-view+json": {
       "model_id": "0460376a63bc46ae8f028488d1d03642",
       "version_major": 2,
       "version_minor": 0
      },
      "text/plain": [
       "Validation: 0it [00:00, ?it/s]"
      ]
     },
     "metadata": {},
     "output_type": "display_data"
    },
    {
     "data": {
      "application/vnd.jupyter.widget-view+json": {
       "model_id": "5ff304d8e4fd44f4ad056bc0d2a05587",
       "version_major": 2,
       "version_minor": 0
      },
      "text/plain": [
       "Validation: 0it [00:00, ?it/s]"
      ]
     },
     "metadata": {},
     "output_type": "display_data"
    },
    {
     "data": {
      "application/vnd.jupyter.widget-view+json": {
       "model_id": "4914f96ca46a412b824a8c658a694c48",
       "version_major": 2,
       "version_minor": 0
      },
      "text/plain": [
       "Validation: 0it [00:00, ?it/s]"
      ]
     },
     "metadata": {},
     "output_type": "display_data"
    },
    {
     "data": {
      "application/vnd.jupyter.widget-view+json": {
       "model_id": "66f6c5a53d4442ca80130d1327c5d075",
       "version_major": 2,
       "version_minor": 0
      },
      "text/plain": [
       "Validation: 0it [00:00, ?it/s]"
      ]
     },
     "metadata": {},
     "output_type": "display_data"
    },
    {
     "data": {
      "application/vnd.jupyter.widget-view+json": {
       "model_id": "2f9581ea1d9544508b4f752adcda4fcd",
       "version_major": 2,
       "version_minor": 0
      },
      "text/plain": [
       "Validation: 0it [00:00, ?it/s]"
      ]
     },
     "metadata": {},
     "output_type": "display_data"
    },
    {
     "data": {
      "application/vnd.jupyter.widget-view+json": {
       "model_id": "1554f3b9113347be8f26478f70038bae",
       "version_major": 2,
       "version_minor": 0
      },
      "text/plain": [
       "Validation: 0it [00:00, ?it/s]"
      ]
     },
     "metadata": {},
     "output_type": "display_data"
    },
    {
     "data": {
      "application/vnd.jupyter.widget-view+json": {
       "model_id": "26d3a5b3051a4185abd23bd0bdbb45f9",
       "version_major": 2,
       "version_minor": 0
      },
      "text/plain": [
       "Validation: 0it [00:00, ?it/s]"
      ]
     },
     "metadata": {},
     "output_type": "display_data"
    },
    {
     "data": {
      "application/vnd.jupyter.widget-view+json": {
       "model_id": "e299a178fcb649718b54160273b0eb8e",
       "version_major": 2,
       "version_minor": 0
      },
      "text/plain": [
       "Validation: 0it [00:00, ?it/s]"
      ]
     },
     "metadata": {},
     "output_type": "display_data"
    },
    {
     "data": {
      "application/vnd.jupyter.widget-view+json": {
       "model_id": "38692814c289470aba3cccac01cb0b1a",
       "version_major": 2,
       "version_minor": 0
      },
      "text/plain": [
       "Validation: 0it [00:00, ?it/s]"
      ]
     },
     "metadata": {},
     "output_type": "display_data"
    },
    {
     "data": {
      "application/vnd.jupyter.widget-view+json": {
       "model_id": "14dc8db5c1f54df5a15c7f3e37ed236e",
       "version_major": 2,
       "version_minor": 0
      },
      "text/plain": [
       "Validation: 0it [00:00, ?it/s]"
      ]
     },
     "metadata": {},
     "output_type": "display_data"
    },
    {
     "data": {
      "application/vnd.jupyter.widget-view+json": {
       "model_id": "4e4cb1de057849ee8cca1f12a3faf34d",
       "version_major": 2,
       "version_minor": 0
      },
      "text/plain": [
       "Validation: 0it [00:00, ?it/s]"
      ]
     },
     "metadata": {},
     "output_type": "display_data"
    },
    {
     "data": {
      "application/vnd.jupyter.widget-view+json": {
       "model_id": "fcd349e07d3747d4928ae04a3eb69e11",
       "version_major": 2,
       "version_minor": 0
      },
      "text/plain": [
       "Validation: 0it [00:00, ?it/s]"
      ]
     },
     "metadata": {},
     "output_type": "display_data"
    },
    {
     "name": "stderr",
     "output_type": "stream",
     "text": [
      "`Trainer.fit` stopped: `max_epochs=42` reached.\n"
     ]
    }
   ],
   "source": [
    "trainer = pl.Trainer(precision=\"bf16-mixed\",\n",
    "                     \n",
    "                     gradient_clip_val=20,\n",
    "                     max_epochs=max_epochs, log_every_n_steps=5)\n",
    "trainer.fit(model=net, train_dataloaders=dl_train, val_dataloaders=dl_val)"
   ]
  },
  {
   "attachments": {},
   "cell_type": "markdown",
   "metadata": {},
   "source": [
    "# Read hist"
   ]
  },
  {
   "cell_type": "code",
   "execution_count": 25,
   "metadata": {},
   "outputs": [
    {
     "data": {
      "text/html": [
       "<div>\n",
       "<style scoped>\n",
       "    .dataframe tbody tr th:only-of-type {\n",
       "        vertical-align: middle;\n",
       "    }\n",
       "\n",
       "    .dataframe tbody tr th {\n",
       "        vertical-align: top;\n",
       "    }\n",
       "\n",
       "    .dataframe thead th {\n",
       "        text-align: right;\n",
       "    }\n",
       "</style>\n",
       "<table border=\"1\" class=\"dataframe\">\n",
       "  <thead>\n",
       "    <tr style=\"text-align: right;\">\n",
       "      <th></th>\n",
       "      <th>val/acc</th>\n",
       "      <th>val/loss</th>\n",
       "      <th>step</th>\n",
       "      <th>train/acc</th>\n",
       "      <th>train/loss</th>\n",
       "    </tr>\n",
       "    <tr>\n",
       "      <th>epoch</th>\n",
       "      <th></th>\n",
       "      <th></th>\n",
       "      <th></th>\n",
       "      <th></th>\n",
       "      <th></th>\n",
       "    </tr>\n",
       "  </thead>\n",
       "  <tbody>\n",
       "    <tr>\n",
       "      <th>0</th>\n",
       "      <td>0.605556</td>\n",
       "      <td>0.020523</td>\n",
       "      <td>18.0</td>\n",
       "      <td>0.547807</td>\n",
       "      <td>0.023135</td>\n",
       "    </tr>\n",
       "    <tr>\n",
       "      <th>1</th>\n",
       "      <td>0.700926</td>\n",
       "      <td>0.019026</td>\n",
       "      <td>37.0</td>\n",
       "      <td>0.766667</td>\n",
       "      <td>0.013686</td>\n",
       "    </tr>\n",
       "    <tr>\n",
       "      <th>2</th>\n",
       "      <td>0.750000</td>\n",
       "      <td>0.015123</td>\n",
       "      <td>56.0</td>\n",
       "      <td>0.779386</td>\n",
       "      <td>0.013329</td>\n",
       "    </tr>\n",
       "    <tr>\n",
       "      <th>3</th>\n",
       "      <td>0.667593</td>\n",
       "      <td>0.019381</td>\n",
       "      <td>75.0</td>\n",
       "      <td>0.797807</td>\n",
       "      <td>0.013314</td>\n",
       "    </tr>\n",
       "    <tr>\n",
       "      <th>4</th>\n",
       "      <td>0.779630</td>\n",
       "      <td>0.012965</td>\n",
       "      <td>94.0</td>\n",
       "      <td>0.805702</td>\n",
       "      <td>0.012469</td>\n",
       "    </tr>\n",
       "    <tr>\n",
       "      <th>5</th>\n",
       "      <td>0.725926</td>\n",
       "      <td>0.015918</td>\n",
       "      <td>113.0</td>\n",
       "      <td>0.840789</td>\n",
       "      <td>0.010347</td>\n",
       "    </tr>\n",
       "    <tr>\n",
       "      <th>6</th>\n",
       "      <td>0.555556</td>\n",
       "      <td>0.022244</td>\n",
       "      <td>132.0</td>\n",
       "      <td>0.873684</td>\n",
       "      <td>0.010287</td>\n",
       "    </tr>\n",
       "    <tr>\n",
       "      <th>7</th>\n",
       "      <td>0.751852</td>\n",
       "      <td>0.013914</td>\n",
       "      <td>151.0</td>\n",
       "      <td>0.852193</td>\n",
       "      <td>0.010576</td>\n",
       "    </tr>\n",
       "    <tr>\n",
       "      <th>8</th>\n",
       "      <td>0.696296</td>\n",
       "      <td>0.018263</td>\n",
       "      <td>170.0</td>\n",
       "      <td>0.896491</td>\n",
       "      <td>0.008164</td>\n",
       "    </tr>\n",
       "    <tr>\n",
       "      <th>9</th>\n",
       "      <td>0.764815</td>\n",
       "      <td>0.014058</td>\n",
       "      <td>189.0</td>\n",
       "      <td>0.900439</td>\n",
       "      <td>0.008027</td>\n",
       "    </tr>\n",
       "    <tr>\n",
       "      <th>10</th>\n",
       "      <td>0.812037</td>\n",
       "      <td>0.012888</td>\n",
       "      <td>208.0</td>\n",
       "      <td>0.914035</td>\n",
       "      <td>0.007157</td>\n",
       "    </tr>\n",
       "    <tr>\n",
       "      <th>11</th>\n",
       "      <td>0.736111</td>\n",
       "      <td>0.016397</td>\n",
       "      <td>227.0</td>\n",
       "      <td>0.932456</td>\n",
       "      <td>0.008371</td>\n",
       "    </tr>\n",
       "    <tr>\n",
       "      <th>12</th>\n",
       "      <td>0.809259</td>\n",
       "      <td>0.011447</td>\n",
       "      <td>246.0</td>\n",
       "      <td>0.945614</td>\n",
       "      <td>0.007573</td>\n",
       "    </tr>\n",
       "    <tr>\n",
       "      <th>13</th>\n",
       "      <td>0.765741</td>\n",
       "      <td>0.016130</td>\n",
       "      <td>265.0</td>\n",
       "      <td>0.965351</td>\n",
       "      <td>0.005224</td>\n",
       "    </tr>\n",
       "    <tr>\n",
       "      <th>14</th>\n",
       "      <td>0.828704</td>\n",
       "      <td>0.010991</td>\n",
       "      <td>284.0</td>\n",
       "      <td>0.978509</td>\n",
       "      <td>0.004826</td>\n",
       "    </tr>\n",
       "    <tr>\n",
       "      <th>15</th>\n",
       "      <td>0.751852</td>\n",
       "      <td>0.016313</td>\n",
       "      <td>303.0</td>\n",
       "      <td>0.987719</td>\n",
       "      <td>0.003724</td>\n",
       "    </tr>\n",
       "    <tr>\n",
       "      <th>16</th>\n",
       "      <td>0.786111</td>\n",
       "      <td>0.013508</td>\n",
       "      <td>322.0</td>\n",
       "      <td>0.984211</td>\n",
       "      <td>0.003483</td>\n",
       "    </tr>\n",
       "    <tr>\n",
       "      <th>17</th>\n",
       "      <td>0.753704</td>\n",
       "      <td>0.013821</td>\n",
       "      <td>341.0</td>\n",
       "      <td>0.981579</td>\n",
       "      <td>0.003577</td>\n",
       "    </tr>\n",
       "    <tr>\n",
       "      <th>18</th>\n",
       "      <td>0.744444</td>\n",
       "      <td>0.015751</td>\n",
       "      <td>360.0</td>\n",
       "      <td>0.970175</td>\n",
       "      <td>0.003613</td>\n",
       "    </tr>\n",
       "    <tr>\n",
       "      <th>19</th>\n",
       "      <td>0.823148</td>\n",
       "      <td>0.010846</td>\n",
       "      <td>379.0</td>\n",
       "      <td>0.982456</td>\n",
       "      <td>0.003361</td>\n",
       "    </tr>\n",
       "    <tr>\n",
       "      <th>20</th>\n",
       "      <td>0.782407</td>\n",
       "      <td>0.014813</td>\n",
       "      <td>398.0</td>\n",
       "      <td>0.992544</td>\n",
       "      <td>0.002826</td>\n",
       "    </tr>\n",
       "    <tr>\n",
       "      <th>21</th>\n",
       "      <td>0.809259</td>\n",
       "      <td>0.011665</td>\n",
       "      <td>417.0</td>\n",
       "      <td>0.992544</td>\n",
       "      <td>0.002613</td>\n",
       "    </tr>\n",
       "    <tr>\n",
       "      <th>22</th>\n",
       "      <td>0.807407</td>\n",
       "      <td>0.012787</td>\n",
       "      <td>436.0</td>\n",
       "      <td>0.995175</td>\n",
       "      <td>0.002404</td>\n",
       "    </tr>\n",
       "    <tr>\n",
       "      <th>23</th>\n",
       "      <td>0.825926</td>\n",
       "      <td>0.010670</td>\n",
       "      <td>455.0</td>\n",
       "      <td>0.996053</td>\n",
       "      <td>0.002169</td>\n",
       "    </tr>\n",
       "    <tr>\n",
       "      <th>24</th>\n",
       "      <td>0.814815</td>\n",
       "      <td>0.011568</td>\n",
       "      <td>474.0</td>\n",
       "      <td>0.994737</td>\n",
       "      <td>0.002215</td>\n",
       "    </tr>\n",
       "    <tr>\n",
       "      <th>25</th>\n",
       "      <td>0.760185</td>\n",
       "      <td>0.014147</td>\n",
       "      <td>493.0</td>\n",
       "      <td>0.989912</td>\n",
       "      <td>0.002127</td>\n",
       "    </tr>\n",
       "    <tr>\n",
       "      <th>26</th>\n",
       "      <td>0.732407</td>\n",
       "      <td>0.014280</td>\n",
       "      <td>512.0</td>\n",
       "      <td>0.992105</td>\n",
       "      <td>0.001883</td>\n",
       "    </tr>\n",
       "    <tr>\n",
       "      <th>27</th>\n",
       "      <td>0.802778</td>\n",
       "      <td>0.011649</td>\n",
       "      <td>531.0</td>\n",
       "      <td>0.991667</td>\n",
       "      <td>0.002176</td>\n",
       "    </tr>\n",
       "    <tr>\n",
       "      <th>28</th>\n",
       "      <td>0.775000</td>\n",
       "      <td>0.014425</td>\n",
       "      <td>550.0</td>\n",
       "      <td>0.995175</td>\n",
       "      <td>0.001765</td>\n",
       "    </tr>\n",
       "    <tr>\n",
       "      <th>29</th>\n",
       "      <td>0.793519</td>\n",
       "      <td>0.011859</td>\n",
       "      <td>569.0</td>\n",
       "      <td>0.994737</td>\n",
       "      <td>0.001845</td>\n",
       "    </tr>\n",
       "    <tr>\n",
       "      <th>30</th>\n",
       "      <td>0.846296</td>\n",
       "      <td>0.010600</td>\n",
       "      <td>588.0</td>\n",
       "      <td>0.994737</td>\n",
       "      <td>0.002400</td>\n",
       "    </tr>\n",
       "    <tr>\n",
       "      <th>31</th>\n",
       "      <td>0.801852</td>\n",
       "      <td>0.013495</td>\n",
       "      <td>607.0</td>\n",
       "      <td>0.999123</td>\n",
       "      <td>0.001786</td>\n",
       "    </tr>\n",
       "    <tr>\n",
       "      <th>32</th>\n",
       "      <td>0.815741</td>\n",
       "      <td>0.010934</td>\n",
       "      <td>626.0</td>\n",
       "      <td>0.999123</td>\n",
       "      <td>0.001563</td>\n",
       "    </tr>\n",
       "    <tr>\n",
       "      <th>33</th>\n",
       "      <td>0.809259</td>\n",
       "      <td>0.011950</td>\n",
       "      <td>645.0</td>\n",
       "      <td>1.000000</td>\n",
       "      <td>0.001098</td>\n",
       "    </tr>\n",
       "    <tr>\n",
       "      <th>34</th>\n",
       "      <td>0.811111</td>\n",
       "      <td>0.010789</td>\n",
       "      <td>664.0</td>\n",
       "      <td>1.000000</td>\n",
       "      <td>0.000941</td>\n",
       "    </tr>\n",
       "    <tr>\n",
       "      <th>35</th>\n",
       "      <td>0.832407</td>\n",
       "      <td>0.010486</td>\n",
       "      <td>683.0</td>\n",
       "      <td>0.999561</td>\n",
       "      <td>0.000737</td>\n",
       "    </tr>\n",
       "    <tr>\n",
       "      <th>36</th>\n",
       "      <td>0.810185</td>\n",
       "      <td>0.011145</td>\n",
       "      <td>702.0</td>\n",
       "      <td>1.000000</td>\n",
       "      <td>0.000458</td>\n",
       "    </tr>\n",
       "    <tr>\n",
       "      <th>37</th>\n",
       "      <td>0.812963</td>\n",
       "      <td>0.010729</td>\n",
       "      <td>721.0</td>\n",
       "      <td>1.000000</td>\n",
       "      <td>0.000435</td>\n",
       "    </tr>\n",
       "    <tr>\n",
       "      <th>38</th>\n",
       "      <td>0.799074</td>\n",
       "      <td>0.011064</td>\n",
       "      <td>740.0</td>\n",
       "      <td>1.000000</td>\n",
       "      <td>0.000332</td>\n",
       "    </tr>\n",
       "    <tr>\n",
       "      <th>39</th>\n",
       "      <td>0.816667</td>\n",
       "      <td>0.010659</td>\n",
       "      <td>759.0</td>\n",
       "      <td>1.000000</td>\n",
       "      <td>0.000307</td>\n",
       "    </tr>\n",
       "    <tr>\n",
       "      <th>40</th>\n",
       "      <td>0.810185</td>\n",
       "      <td>0.010707</td>\n",
       "      <td>778.0</td>\n",
       "      <td>1.000000</td>\n",
       "      <td>0.000264</td>\n",
       "    </tr>\n",
       "    <tr>\n",
       "      <th>41</th>\n",
       "      <td>0.815741</td>\n",
       "      <td>0.010638</td>\n",
       "      <td>797.0</td>\n",
       "      <td>1.000000</td>\n",
       "      <td>0.000190</td>\n",
       "    </tr>\n",
       "  </tbody>\n",
       "</table>\n",
       "</div>"
      ],
      "text/plain": [
       "        val/acc  val/loss   step  train/acc  train/loss\n",
       "epoch                                                  \n",
       "0      0.605556  0.020523   18.0   0.547807    0.023135\n",
       "1      0.700926  0.019026   37.0   0.766667    0.013686\n",
       "2      0.750000  0.015123   56.0   0.779386    0.013329\n",
       "3      0.667593  0.019381   75.0   0.797807    0.013314\n",
       "4      0.779630  0.012965   94.0   0.805702    0.012469\n",
       "5      0.725926  0.015918  113.0   0.840789    0.010347\n",
       "6      0.555556  0.022244  132.0   0.873684    0.010287\n",
       "7      0.751852  0.013914  151.0   0.852193    0.010576\n",
       "8      0.696296  0.018263  170.0   0.896491    0.008164\n",
       "9      0.764815  0.014058  189.0   0.900439    0.008027\n",
       "10     0.812037  0.012888  208.0   0.914035    0.007157\n",
       "11     0.736111  0.016397  227.0   0.932456    0.008371\n",
       "12     0.809259  0.011447  246.0   0.945614    0.007573\n",
       "13     0.765741  0.016130  265.0   0.965351    0.005224\n",
       "14     0.828704  0.010991  284.0   0.978509    0.004826\n",
       "15     0.751852  0.016313  303.0   0.987719    0.003724\n",
       "16     0.786111  0.013508  322.0   0.984211    0.003483\n",
       "17     0.753704  0.013821  341.0   0.981579    0.003577\n",
       "18     0.744444  0.015751  360.0   0.970175    0.003613\n",
       "19     0.823148  0.010846  379.0   0.982456    0.003361\n",
       "20     0.782407  0.014813  398.0   0.992544    0.002826\n",
       "21     0.809259  0.011665  417.0   0.992544    0.002613\n",
       "22     0.807407  0.012787  436.0   0.995175    0.002404\n",
       "23     0.825926  0.010670  455.0   0.996053    0.002169\n",
       "24     0.814815  0.011568  474.0   0.994737    0.002215\n",
       "25     0.760185  0.014147  493.0   0.989912    0.002127\n",
       "26     0.732407  0.014280  512.0   0.992105    0.001883\n",
       "27     0.802778  0.011649  531.0   0.991667    0.002176\n",
       "28     0.775000  0.014425  550.0   0.995175    0.001765\n",
       "29     0.793519  0.011859  569.0   0.994737    0.001845\n",
       "30     0.846296  0.010600  588.0   0.994737    0.002400\n",
       "31     0.801852  0.013495  607.0   0.999123    0.001786\n",
       "32     0.815741  0.010934  626.0   0.999123    0.001563\n",
       "33     0.809259  0.011950  645.0   1.000000    0.001098\n",
       "34     0.811111  0.010789  664.0   1.000000    0.000941\n",
       "35     0.832407  0.010486  683.0   0.999561    0.000737\n",
       "36     0.810185  0.011145  702.0   1.000000    0.000458\n",
       "37     0.812963  0.010729  721.0   1.000000    0.000435\n",
       "38     0.799074  0.011064  740.0   1.000000    0.000332\n",
       "39     0.816667  0.010659  759.0   1.000000    0.000307\n",
       "40     0.810185  0.010707  778.0   1.000000    0.000264\n",
       "41     0.815741  0.010638  797.0   1.000000    0.000190"
      ]
     },
     "execution_count": 25,
     "metadata": {},
     "output_type": "execute_result"
    }
   ],
   "source": [
    "from src.helpers.lightning import read_metrics_csv\n",
    "\n",
    "df_hist = read_metrics_csv(trainer.logger.experiment.metrics_file_path).ffill().bfill()\n",
    "df_hist"
   ]
  },
  {
   "cell_type": "code",
   "execution_count": 26,
   "metadata": {},
   "outputs": [
    {
     "data": {
      "image/png": "[encoded data removed]",
      "text/plain": [
       "<Figure size 640x480 with 1 Axes>"
      ]
     },
     "metadata": {},
     "output_type": "display_data"
    }
   ],
   "source": [
    "for key in ['loss']:\n",
    "    df_hist[[c for c in df_hist.columns if key in c]].plot(logy=True)"
   ]
  },
  {
   "cell_type": "code",
   "execution_count": 27,
   "metadata": {},
   "outputs": [
    {
     "data": {
      "image/png": "[encoded data removed]",
      "text/plain": [
       "<Figure size 640x480 with 1 Axes>"
      ]
     },
     "metadata": {},
     "output_type": "display_data"
    }
   ],
   "source": [
    "for key in ['acc']:\n",
    "    df_hist[[c for c in df_hist.columns if key in c]].plot()"
   ]
  },
  {
   "attachments": {},
   "cell_type": "markdown",
   "metadata": {},
   "source": [
    "## Predict"
   ]
  },
  {
   "cell_type": "code",
   "execution_count": 28,
   "metadata": {},
   "outputs": [
    {
     "name": "stderr",
     "output_type": "stream",
     "text": [
      "LOCAL_RANK: 0 - CUDA_VISIBLE_DEVICES: [0]\n",
      "/home/ubuntu/mambaforge/envs/dlk2/lib/python3.9/site-packages/lightning/pytorch/trainer/connectors/data_connector.py:478: PossibleUserWarning: Your `test_dataloader`'s sampler has shuffling enabled, it is strongly recommended that you turn shuffling off for val/test dataloaders.\n",
      "  rank_zero_warn(\n"
     ]
    },
    {
     "data": {
      "application/vnd.jupyter.widget-view+json": {
       "model_id": "3a138ea9c0a444faabdbb6a01ab5b8f9",
       "version_major": 2,
       "version_minor": 0
      },
      "text/plain": [
       "Testing: 0it [00:00, ?it/s]"
      ]
     },
     "metadata": {},
     "output_type": "display_data"
    },
    {
     "data": {
      "text/html": [
       "<pre style=\"white-space:pre;overflow-x:auto;line-height:normal;font-family:Menlo,'DejaVu Sans Mono',consolas,'Courier New',monospace\">┏━━━━━━━━━━━━━━━━━━━━━━━━━━━┳━━━━━━━━━━━━━━━━━━━━━━━━━━━┳━━━━━━━━━━━━━━━━━━━━━━━━━━━┳━━━━━━━━━━━━━━━━━━━━━━━━━━━┓\n",
       "┃<span style=\"font-weight: bold\">        Test metric        </span>┃<span style=\"font-weight: bold\">       DataLoader 0        </span>┃<span style=\"font-weight: bold\">       DataLoader 1        </span>┃<span style=\"font-weight: bold\">       DataLoader 2        </span>┃\n",
       "┡━━━━━━━━━━━━━━━━━━━━━━━━━━━╇━━━━━━━━━━━━━━━━━━━━━━━━━━━╇━━━━━━━━━━━━━━━━━━━━━━━━━━━╇━━━━━━━━━━━━━━━━━━━━━━━━━━━┩\n",
       "│<span style=\"color: #008080; text-decoration-color: #008080\">         test/acc          </span>│<span style=\"color: #800080; text-decoration-color: #800080\">            1.0            </span>│<span style=\"color: #800080; text-decoration-color: #800080\">    0.8157407641410828     </span>│<span style=\"color: #800080; text-decoration-color: #800080\">    0.8194444179534912     </span>│\n",
       "│<span style=\"color: #008080; text-decoration-color: #008080\">         test/loss         </span>│<span style=\"color: #800080; text-decoration-color: #800080\">   4.590532262227498e-05   </span>│<span style=\"color: #800080; text-decoration-color: #800080\">   0.010637759231030941    </span>│<span style=\"color: #800080; text-decoration-color: #800080\">   0.011557210236787796    </span>│\n",
       "└───────────────────────────┴───────────────────────────┴───────────────────────────┴───────────────────────────┘\n",
       "</pre>\n"
      ],
      "text/plain": [
       "┏━━━━━━━━━━━━━━━━━━━━━━━━━━━┳━━━━━━━━━━━━━━━━━━━━━━━━━━━┳━━━━━━━━━━━━━━━━━━━━━━━━━━━┳━━━━━━━━━━━━━━━━━━━━━━━━━━━┓\n",
       "┃\u001b[1m \u001b[0m\u001b[1m       Test metric       \u001b[0m\u001b[1m \u001b[0m┃\u001b[1m \u001b[0m\u001b[1m      DataLoader 0       \u001b[0m\u001b[1m \u001b[0m┃\u001b[1m \u001b[0m\u001b[1m      DataLoader 1       \u001b[0m\u001b[1m \u001b[0m┃\u001b[1m \u001b[0m\u001b[1m      DataLoader 2       \u001b[0m\u001b[1m \u001b[0m┃\n",
       "┡━━━━━━━━━━━━━━━━━━━━━━━━━━━╇━━━━━━━━━━━━━━━━━━━━━━━━━━━╇━━━━━━━━━━━━━━━━━━━━━━━━━━━╇━━━━━━━━━━━━━━━━━━━━━━━━━━━┩\n",
       "│\u001b[36m \u001b[0m\u001b[36m        test/acc         \u001b[0m\u001b[36m \u001b[0m│\u001b[35m \u001b[0m\u001b[35m           1.0           \u001b[0m\u001b[35m \u001b[0m│\u001b[35m \u001b[0m\u001b[35m   0.8157407641410828    \u001b[0m\u001b[35m \u001b[0m│\u001b[35m \u001b[0m\u001b[35m   0.8194444179534912    \u001b[0m\u001b[35m \u001b[0m│\n",
       "│\u001b[36m \u001b[0m\u001b[36m        test/loss        \u001b[0m\u001b[36m \u001b[0m│\u001b[35m \u001b[0m\u001b[35m  4.590532262227498e-05  \u001b[0m\u001b[35m \u001b[0m│\u001b[35m \u001b[0m\u001b[35m  0.010637759231030941   \u001b[0m\u001b[35m \u001b[0m│\u001b[35m \u001b[0m\u001b[35m  0.011557210236787796   \u001b[0m\u001b[35m \u001b[0m│\n",
       "└───────────────────────────┴───────────────────────────┴───────────────────────────┴───────────────────────────┘\n"
      ]
     },
     "metadata": {},
     "output_type": "display_data"
    },
    {
     "data": {
      "text/plain": [
       "[{'test/acc/dataloader_idx_0': 1.0,\n",
       "  'test/loss/dataloader_idx_0': 4.590532262227498e-05},\n",
       " {'test/acc/dataloader_idx_1': 0.8157407641410828,\n",
       "  'test/loss/dataloader_idx_1': 0.010637759231030941},\n",
       " {'test/acc/dataloader_idx_2': 0.8194444179534912,\n",
       "  'test/loss/dataloader_idx_2': 0.011557210236787796}]"
      ]
     },
     "execution_count": 28,
     "metadata": {},
     "output_type": "execute_result"
    }
   ],
   "source": [
    "dl_test = dm.test_dataloader()\n",
    "rs = trainer.test(net, dataloaders=[dl_train, dl_val, dl_test])\n",
    "rs"
   ]
  },
  {
   "cell_type": "code",
   "execution_count": 29,
   "metadata": {},
   "outputs": [
    {
     "name": "stderr",
     "output_type": "stream",
     "text": [
      "LOCAL_RANK: 0 - CUDA_VISIBLE_DEVICES: [0]\n"
     ]
    },
    {
     "data": {
      "application/vnd.jupyter.widget-view+json": {
       "model_id": "52e7c61267e14c458be0abea3391a215",
       "version_major": 2,
       "version_minor": 0
      },
      "text/plain": [
       "Predicting: 0it [00:00, ?it/s]"
      ]
     },
     "metadata": {},
     "output_type": "display_data"
    },
    {
     "data": {
      "text/plain": [
       "(1144,)"
      ]
     },
     "execution_count": 29,
     "metadata": {},
     "output_type": "execute_result"
    }
   ],
   "source": [
    "dl_test = dm.test_dataloader()\n",
    "r = trainer.predict(net, dataloaders=dl_test)\n",
    "y_test_pred = np.concatenate(r)\n",
    "y_test_pred.shape"
   ]
  },
  {
   "cell_type": "code",
   "execution_count": null,
   "metadata": {},
   "outputs": [],
   "source": []
  },
  {
   "cell_type": "code",
   "execution_count": 30,
   "metadata": {},
   "outputs": [],
   "source": [
    "df_test = dm.df.iloc[dm.splits['test'][0]:].copy()\n",
    "y_true = dl_test.dataset.tensors[2].numpy()"
   ]
  },
  {
   "cell_type": "code",
   "execution_count": 31,
   "metadata": {},
   "outputs": [
    {
     "data": {
      "text/html": [
       "<div>\n",
       "<style scoped>\n",
       "    .dataframe tbody tr th:only-of-type {\n",
       "        vertical-align: middle;\n",
       "    }\n",
       "\n",
       "    .dataframe tbody tr th {\n",
       "        vertical-align: top;\n",
       "    }\n",
       "\n",
       "    .dataframe thead th {\n",
       "        text-align: right;\n",
       "    }\n",
       "</style>\n",
       "<table border=\"1\" class=\"dataframe\">\n",
       "  <thead>\n",
       "    <tr style=\"text-align: right;\">\n",
       "      <th></th>\n",
       "      <th>label_b</th>\n",
       "      <th>ds_index</th>\n",
       "      <th>label</th>\n",
       "      <th>prompt</th>\n",
       "      <th>lie</th>\n",
       "      <th>prompt_truncated</th>\n",
       "      <th>choice_probs0</th>\n",
       "      <th>ans0</th>\n",
       "      <th>choice_probs1</th>\n",
       "      <th>ans1</th>\n",
       "      <th>txt_ans0</th>\n",
       "      <th>txt_ans1</th>\n",
       "      <th>dir_true</th>\n",
       "      <th>conf</th>\n",
       "      <th>llm_prob</th>\n",
       "      <th>llm_ans</th>\n",
       "      <th>desired_ans</th>\n",
       "      <th>y</th>\n",
       "      <th>probe_pred</th>\n",
       "      <th>probe_prob</th>\n",
       "    </tr>\n",
       "  </thead>\n",
       "  <tbody>\n",
       "    <tr>\n",
       "      <th>3431</th>\n",
       "      <td>1</td>\n",
       "      <td>6781</td>\n",
       "      <td>1</td>\n",
       "      <td>&lt;|system|&gt;You are about to immerse yourself in...</td>\n",
       "      <td>True</td>\n",
       "      <td>&lt;|endoftext|&gt;&lt;|endoftext|&gt;&lt;|endoftext|&gt;&lt;|endof...</td>\n",
       "      <td>[0.20239228, 0.33288217]</td>\n",
       "      <td>0.621879</td>\n",
       "      <td>[0.052327357, 0.16164222]</td>\n",
       "      <td>0.755410</td>\n",
       "      <td>True</td>\n",
       "      <td>That</td>\n",
       "      <td>0.133531</td>\n",
       "      <td>0.133531</td>\n",
       "      <td>0.688644</td>\n",
       "      <td>True</td>\n",
       "      <td>False</td>\n",
       "      <td>True</td>\n",
       "      <td>True</td>\n",
       "      <td>0.555664</td>\n",
       "    </tr>\n",
       "    <tr>\n",
       "      <th>3432</th>\n",
       "      <td>0</td>\n",
       "      <td>6783</td>\n",
       "      <td>0</td>\n",
       "      <td>&lt;|system|&gt;You are about to immerse yourself in...</td>\n",
       "      <td>True</td>\n",
       "      <td>&lt;|endoftext|&gt;&lt;|endoftext|&gt;&lt;|endoftext|&gt;&lt;|endof...</td>\n",
       "      <td>[0.650676, 0.059137274]</td>\n",
       "      <td>0.083313</td>\n",
       "      <td>[0.34507212, 0.2381446]</td>\n",
       "      <td>0.408323</td>\n",
       "      <td>Negative</td>\n",
       "      <td>False</td>\n",
       "      <td>0.325010</td>\n",
       "      <td>0.325010</td>\n",
       "      <td>0.245818</td>\n",
       "      <td>False</td>\n",
       "      <td>True</td>\n",
       "      <td>False</td>\n",
       "      <td>False</td>\n",
       "      <td>0.420410</td>\n",
       "    </tr>\n",
       "    <tr>\n",
       "      <th>3433</th>\n",
       "      <td>0</td>\n",
       "      <td>6785</td>\n",
       "      <td>0</td>\n",
       "      <td>&lt;|system|&gt;You are about to immerse yourself in...</td>\n",
       "      <td>True</td>\n",
       "      <td>&lt;|endoftext|&gt;&lt;|endoftext|&gt;&lt;|endoftext|&gt;&lt;|endof...</td>\n",
       "      <td>[0.108525485, 0.011882905]</td>\n",
       "      <td>0.098680</td>\n",
       "      <td>[0.18118042, 0.05117832]</td>\n",
       "      <td>0.220246</td>\n",
       "      <td>The</td>\n",
       "      <td>False</td>\n",
       "      <td>0.121566</td>\n",
       "      <td>0.121566</td>\n",
       "      <td>0.159463</td>\n",
       "      <td>False</td>\n",
       "      <td>True</td>\n",
       "      <td>False</td>\n",
       "      <td>False</td>\n",
       "      <td>0.434082</td>\n",
       "    </tr>\n",
       "    <tr>\n",
       "      <th>3434</th>\n",
       "      <td>1</td>\n",
       "      <td>6788</td>\n",
       "      <td>1</td>\n",
       "      <td>&lt;|system|&gt;You are about to immerse yourself in...</td>\n",
       "      <td>True</td>\n",
       "      <td>&lt;|endoftext|&gt;&lt;|endoftext|&gt;&lt;|endoftext|&gt;&lt;|endof...</td>\n",
       "      <td>[0.14853916, 0.4328702]</td>\n",
       "      <td>0.744506</td>\n",
       "      <td>[0.2649742, 0.29123676]</td>\n",
       "      <td>0.523599</td>\n",
       "      <td>True</td>\n",
       "      <td>True</td>\n",
       "      <td>-0.220907</td>\n",
       "      <td>0.220907</td>\n",
       "      <td>0.634053</td>\n",
       "      <td>True</td>\n",
       "      <td>False</td>\n",
       "      <td>False</td>\n",
       "      <td>False</td>\n",
       "      <td>0.446289</td>\n",
       "    </tr>\n",
       "    <tr>\n",
       "      <th>3435</th>\n",
       "      <td>0</td>\n",
       "      <td>6789</td>\n",
       "      <td>0</td>\n",
       "      <td>&lt;|system|&gt;You are about to immerse yourself in...</td>\n",
       "      <td>True</td>\n",
       "      <td>&lt;|endoftext|&gt;&lt;|endoftext|&gt;&lt;|endoftext|&gt;&lt;|endof...</td>\n",
       "      <td>[0.3804752, 0.045670096]</td>\n",
       "      <td>0.107168</td>\n",
       "      <td>[0.2742407, 0.112042055]</td>\n",
       "      <td>0.290044</td>\n",
       "      <td>Negative</td>\n",
       "      <td>False</td>\n",
       "      <td>0.182877</td>\n",
       "      <td>0.182877</td>\n",
       "      <td>0.198606</td>\n",
       "      <td>False</td>\n",
       "      <td>True</td>\n",
       "      <td>False</td>\n",
       "      <td>False</td>\n",
       "      <td>0.464844</td>\n",
       "    </tr>\n",
       "    <tr>\n",
       "      <th>...</th>\n",
       "      <td>...</td>\n",
       "      <td>...</td>\n",
       "      <td>...</td>\n",
       "      <td>...</td>\n",
       "      <td>...</td>\n",
       "      <td>...</td>\n",
       "      <td>...</td>\n",
       "      <td>...</td>\n",
       "      <td>...</td>\n",
       "      <td>...</td>\n",
       "      <td>...</td>\n",
       "      <td>...</td>\n",
       "      <td>...</td>\n",
       "      <td>...</td>\n",
       "      <td>...</td>\n",
       "      <td>...</td>\n",
       "      <td>...</td>\n",
       "      <td>...</td>\n",
       "      <td>...</td>\n",
       "      <td>...</td>\n",
       "    </tr>\n",
       "    <tr>\n",
       "      <th>4570</th>\n",
       "      <td>1</td>\n",
       "      <td>8997</td>\n",
       "      <td>1</td>\n",
       "      <td>&lt;|system|&gt;You are about to immerse yourself in...</td>\n",
       "      <td>True</td>\n",
       "      <td>&lt;|endoftext|&gt;&lt;|endoftext|&gt;&lt;|endoftext|&gt;&lt;|endof...</td>\n",
       "      <td>[0.15743376, 0.50066227]</td>\n",
       "      <td>0.760762</td>\n",
       "      <td>[0.10060343, 0.1619991]</td>\n",
       "      <td>0.616875</td>\n",
       "      <td>True</td>\n",
       "      <td>The</td>\n",
       "      <td>-0.143887</td>\n",
       "      <td>0.143887</td>\n",
       "      <td>0.688819</td>\n",
       "      <td>True</td>\n",
       "      <td>False</td>\n",
       "      <td>False</td>\n",
       "      <td>True</td>\n",
       "      <td>0.508789</td>\n",
       "    </tr>\n",
       "    <tr>\n",
       "      <th>4571</th>\n",
       "      <td>0</td>\n",
       "      <td>9000</td>\n",
       "      <td>0</td>\n",
       "      <td>&lt;|system|&gt;You are about to immerse yourself in...</td>\n",
       "      <td>True</td>\n",
       "      <td>&lt;|endoftext|&gt;&lt;|endoftext|&gt;&lt;|endoftext|&gt;&lt;|endof...</td>\n",
       "      <td>[0.1661685, 0.19667524]</td>\n",
       "      <td>0.542023</td>\n",
       "      <td>[0.42187086, 0.30503508]</td>\n",
       "      <td>0.419629</td>\n",
       "      <td>True</td>\n",
       "      <td>False</td>\n",
       "      <td>-0.122394</td>\n",
       "      <td>0.122394</td>\n",
       "      <td>0.480826</td>\n",
       "      <td>False</td>\n",
       "      <td>True</td>\n",
       "      <td>True</td>\n",
       "      <td>False</td>\n",
       "      <td>0.452881</td>\n",
       "    </tr>\n",
       "    <tr>\n",
       "      <th>4572</th>\n",
       "      <td>1</td>\n",
       "      <td>9002</td>\n",
       "      <td>1</td>\n",
       "      <td>&lt;|system|&gt;You are about to immerse yourself in...</td>\n",
       "      <td>True</td>\n",
       "      <td>&lt;|endoftext|&gt;&lt;|endoftext|&gt;&lt;|endoftext|&gt;&lt;|endof...</td>\n",
       "      <td>[0.25115427, 0.43805444]</td>\n",
       "      <td>0.635581</td>\n",
       "      <td>[0.07914393, 0.3073973]</td>\n",
       "      <td>0.795230</td>\n",
       "      <td>True</td>\n",
       "      <td>True</td>\n",
       "      <td>0.159649</td>\n",
       "      <td>0.159649</td>\n",
       "      <td>0.715406</td>\n",
       "      <td>True</td>\n",
       "      <td>False</td>\n",
       "      <td>True</td>\n",
       "      <td>True</td>\n",
       "      <td>0.552734</td>\n",
       "    </tr>\n",
       "    <tr>\n",
       "      <th>4573</th>\n",
       "      <td>1</td>\n",
       "      <td>9005</td>\n",
       "      <td>1</td>\n",
       "      <td>&lt;|system|&gt;You are about to immerse yourself in...</td>\n",
       "      <td>True</td>\n",
       "      <td>&lt;|endoftext|&gt;&lt;|endoftext|&gt;&lt;|endoftext|&gt;&lt;|endof...</td>\n",
       "      <td>[0.13560745, 0.4700992]</td>\n",
       "      <td>0.776104</td>\n",
       "      <td>[0.36183098, 0.36576247]</td>\n",
       "      <td>0.502695</td>\n",
       "      <td>Positive</td>\n",
       "      <td>False</td>\n",
       "      <td>-0.273409</td>\n",
       "      <td>0.273409</td>\n",
       "      <td>0.639399</td>\n",
       "      <td>True</td>\n",
       "      <td>False</td>\n",
       "      <td>False</td>\n",
       "      <td>False</td>\n",
       "      <td>0.386230</td>\n",
       "    </tr>\n",
       "    <tr>\n",
       "      <th>4574</th>\n",
       "      <td>1</td>\n",
       "      <td>9007</td>\n",
       "      <td>1</td>\n",
       "      <td>&lt;|system|&gt;You are about to immerse yourself in...</td>\n",
       "      <td>True</td>\n",
       "      <td>&lt;|endoftext|&gt;&lt;|endoftext|&gt;&lt;|endoftext|&gt;&lt;|endof...</td>\n",
       "      <td>[0.23724256, 0.30012703]</td>\n",
       "      <td>0.558501</td>\n",
       "      <td>[0.37843844, 0.20676398]</td>\n",
       "      <td>0.353314</td>\n",
       "      <td>Positive</td>\n",
       "      <td>False</td>\n",
       "      <td>-0.205187</td>\n",
       "      <td>0.205187</td>\n",
       "      <td>0.455908</td>\n",
       "      <td>False</td>\n",
       "      <td>False</td>\n",
       "      <td>False</td>\n",
       "      <td>False</td>\n",
       "      <td>0.462402</td>\n",
       "    </tr>\n",
       "  </tbody>\n",
       "</table>\n",
       "<p>1144 rows × 20 columns</p>\n",
       "</div>"
      ],
      "text/plain": [
       "      label_b  ds_index  label   \n",
       "3431        1      6781      1  \\\n",
       "3432        0      6783      0   \n",
       "3433        0      6785      0   \n",
       "3434        1      6788      1   \n",
       "3435        0      6789      0   \n",
       "...       ...       ...    ...   \n",
       "4570        1      8997      1   \n",
       "4571        0      9000      0   \n",
       "4572        1      9002      1   \n",
       "4573        1      9005      1   \n",
       "4574        1      9007      1   \n",
       "\n",
       "                                                 prompt   lie   \n",
       "3431  <|system|>You are about to immerse yourself in...  True  \\\n",
       "3432  <|system|>You are about to immerse yourself in...  True   \n",
       "3433  <|system|>You are about to immerse yourself in...  True   \n",
       "3434  <|system|>You are about to immerse yourself in...  True   \n",
       "3435  <|system|>You are about to immerse yourself in...  True   \n",
       "...                                                 ...   ...   \n",
       "4570  <|system|>You are about to immerse yourself in...  True   \n",
       "4571  <|system|>You are about to immerse yourself in...  True   \n",
       "4572  <|system|>You are about to immerse yourself in...  True   \n",
       "4573  <|system|>You are about to immerse yourself in...  True   \n",
       "4574  <|system|>You are about to immerse yourself in...  True   \n",
       "\n",
       "                                       prompt_truncated   \n",
       "3431  <|endoftext|><|endoftext|><|endoftext|><|endof...  \\\n",
       "3432  <|endoftext|><|endoftext|><|endoftext|><|endof...   \n",
       "3433  <|endoftext|><|endoftext|><|endoftext|><|endof...   \n",
       "3434  <|endoftext|><|endoftext|><|endoftext|><|endof...   \n",
       "3435  <|endoftext|><|endoftext|><|endoftext|><|endof...   \n",
       "...                                                 ...   \n",
       "4570  <|endoftext|><|endoftext|><|endoftext|><|endof...   \n",
       "4571  <|endoftext|><|endoftext|><|endoftext|><|endof...   \n",
       "4572  <|endoftext|><|endoftext|><|endoftext|><|endof...   \n",
       "4573  <|endoftext|><|endoftext|><|endoftext|><|endof...   \n",
       "4574  <|endoftext|><|endoftext|><|endoftext|><|endof...   \n",
       "\n",
       "                   choice_probs0      ans0              choice_probs1   \n",
       "3431    [0.20239228, 0.33288217]  0.621879  [0.052327357, 0.16164222]  \\\n",
       "3432     [0.650676, 0.059137274]  0.083313    [0.34507212, 0.2381446]   \n",
       "3433  [0.108525485, 0.011882905]  0.098680   [0.18118042, 0.05117832]   \n",
       "3434     [0.14853916, 0.4328702]  0.744506    [0.2649742, 0.29123676]   \n",
       "3435    [0.3804752, 0.045670096]  0.107168   [0.2742407, 0.112042055]   \n",
       "...                          ...       ...                        ...   \n",
       "4570    [0.15743376, 0.50066227]  0.760762    [0.10060343, 0.1619991]   \n",
       "4571     [0.1661685, 0.19667524]  0.542023   [0.42187086, 0.30503508]   \n",
       "4572    [0.25115427, 0.43805444]  0.635581    [0.07914393, 0.3073973]   \n",
       "4573     [0.13560745, 0.4700992]  0.776104   [0.36183098, 0.36576247]   \n",
       "4574    [0.23724256, 0.30012703]  0.558501   [0.37843844, 0.20676398]   \n",
       "\n",
       "          ans1  txt_ans0 txt_ans1  dir_true      conf  llm_prob  llm_ans   \n",
       "3431  0.755410      True     That  0.133531  0.133531  0.688644     True  \\\n",
       "3432  0.408323  Negative    False  0.325010  0.325010  0.245818    False   \n",
       "3433  0.220246       The    False  0.121566  0.121566  0.159463    False   \n",
       "3434  0.523599      True     True -0.220907  0.220907  0.634053     True   \n",
       "3435  0.290044  Negative    False  0.182877  0.182877  0.198606    False   \n",
       "...        ...       ...      ...       ...       ...       ...      ...   \n",
       "4570  0.616875      True      The -0.143887  0.143887  0.688819     True   \n",
       "4571  0.419629      True    False -0.122394  0.122394  0.480826    False   \n",
       "4572  0.795230      True     True  0.159649  0.159649  0.715406     True   \n",
       "4573  0.502695  Positive    False -0.273409  0.273409  0.639399     True   \n",
       "4574  0.353314  Positive    False -0.205187  0.205187  0.455908    False   \n",
       "\n",
       "      desired_ans      y  probe_pred  probe_prob  \n",
       "3431        False   True        True    0.555664  \n",
       "3432         True  False       False    0.420410  \n",
       "3433         True  False       False    0.434082  \n",
       "3434        False  False       False    0.446289  \n",
       "3435         True  False       False    0.464844  \n",
       "...           ...    ...         ...         ...  \n",
       "4570        False  False        True    0.508789  \n",
       "4571         True   True       False    0.452881  \n",
       "4572        False   True        True    0.552734  \n",
       "4573        False  False       False    0.386230  \n",
       "4574        False  False       False    0.462402  \n",
       "\n",
       "[1144 rows x 20 columns]"
      ]
     },
     "execution_count": 31,
     "metadata": {},
     "output_type": "execute_result"
    }
   ],
   "source": [
    "# Make a prediction dataframe with everything in it\n",
    "df_test = dm.df.iloc[dm.splits['test'][0]:].copy()\n",
    "df_test['probe_pred'] = y_test_pred>0\n",
    "y_test_pred_bool = np.clip(switch2bool(y_test_pred), 0 ,1)\n",
    "df_test['probe_prob'] = y_test_pred_bool\n",
    "df_test['llm_prob'] = (df_test['ans0']+df_test['ans1'])/2\n",
    "df_test['llm_ans'] = df_test['llm_prob']>0.5\n",
    "df_test['conf'] = (df_test['ans0']-df_test['ans1']).abs()\n",
    "df_test['y'] = df_test['y']>0\n",
    "\n",
    "y_true = dl_test.dataset.tensors[2].numpy()\n",
    "assert ((df_test['y'].values>0.5)==(y_true>0)).all(), 'check it all lines up'\n",
    "\n",
    "df_test"
   ]
  },
  {
   "cell_type": "code",
   "execution_count": 32,
   "metadata": {},
   "outputs": [
    {
     "name": "stdout",
     "output_type": "stream",
     "text": [
      "probe results on subsets of the data\n",
      "acc=81.56% [lie==True]\n",
      "acc=nan% [lie==False]\n",
      "acc=85.97% [llm_ans==label]\n",
      "acc=69.31% [llm_ans==desired_ans]\n",
      "acc=69.31% [lie==True & llm_ans==desired_ans]\n",
      "acc=85.97% [lie==True & llm_ans!=desired_ans]\n"
     ]
    },
    {
     "data": {
      "text/plain": [
       "0.8596908442330559"
      ]
     },
     "execution_count": 32,
     "metadata": {},
     "output_type": "execute_result"
    }
   ],
   "source": [
    "def get_acc_subset(df, query):\n",
    "    df_s = df.query(query)\n",
    "    acc = (df_s['probe_pred']==df_s['y']).mean()\n",
    "    print(f\"acc={acc:2.2%} [{query}]\")\n",
    "    return acc\n",
    "    \n",
    "print('probe results on subsets of the data')\n",
    "get_acc_subset(df_test, 'lie==True') # it was ph told to lie\n",
    "get_acc_subset(df_test, 'lie==False') # it was told not to lie\n",
    "get_acc_subset(df_test, 'llm_ans==label') # the llm gave the true ans\n",
    "get_acc_subset(df_test, 'llm_ans==desired_ans') # the llm gave the desired ans\n",
    "get_acc_subset(df_test, 'lie==True & llm_ans==desired_ans') # it was told to lie, and it did lie\n",
    "get_acc_subset(df_test, 'lie==True & llm_ans!=desired_ans')"
   ]
  },
  {
   "cell_type": "markdown",
   "metadata": {},
   "source": [
    "# RESULTS"
   ]
  },
  {
   "cell_type": "code",
   "execution_count": 34,
   "metadata": {},
   "outputs": [
    {
     "name": "stdout",
     "output_type": "stream",
     "text": [
      "⭐PRIMARY METRIC⭐ acc=81.56% from probe\n"
     ]
    }
   ],
   "source": [
    "acc = (df_test['y']==(y_test_pred_bool>0.5)).mean()\n",
    "\n",
    "# print(f\"  PRIMARY BASELINE roc_auc={primary_baseline:2.2%} from linear classifier\")\n",
    "print(f\"⭐PRIMARY METRIC⭐ acc={acc:2.2%} from probe\")"
   ]
  },
  {
   "cell_type": "markdown",
   "metadata": {},
   "source": [
    "# Out of sample\n",
    "\n",
    "Lets see how far it generalizes"
   ]
  },
  {
   "cell_type": "code",
   "execution_count": 35,
   "metadata": {},
   "outputs": [],
   "source": [
    "oos_dataset_fs = [\n",
    "    '../.ds/model-starchat-beta_ds-EleutherAItruthful-qa-binary_format-tqa-a-b-simple-prompt_N60_2shots_bdbf2a',\n",
    "    '../.ds/model-starchat-beta_ds-EleutherAItruthful-qa-binary_format-tqa-sphinx-prompt_N40_2shots_95c8e4',    \n",
    "]"
   ]
  },
  {
   "cell_type": "code",
   "execution_count": 57,
   "metadata": {},
   "outputs": [
    {
     "name": "stderr",
     "output_type": "stream",
     "text": [
      "LOCAL_RANK: 0 - CUDA_VISIBLE_DEVICES: [0]\n"
     ]
    },
    {
     "name": "stdout",
     "output_type": "stream",
     "text": [
      "../.ds/model-starchat-beta_ds-EleutherAItruthful-qa-binary_format-tqa-a-b-simple-prompt_N60_2shots_bdbf2a\n",
      "selected rows are 55.00%\n",
      "33\n",
      "1 1 1\n"
     ]
    },
    {
     "name": "stderr",
     "output_type": "stream",
     "text": [
      "/home/ubuntu/mambaforge/envs/dlk2/lib/python3.9/site-packages/lightning/pytorch/trainer/connectors/data_connector.py:478: PossibleUserWarning: Your `test_dataloader`'s sampler has shuffling enabled, it is strongly recommended that you turn shuffling off for val/test dataloaders.\n",
      "  rank_zero_warn(\n"
     ]
    },
    {
     "data": {
      "application/vnd.jupyter.widget-view+json": {
       "model_id": "3b1dbd1c262e4458878f5b9793886ec0",
       "version_major": 2,
       "version_minor": 0
      },
      "text/plain": [
       "Testing: 0it [00:00, ?it/s]"
      ]
     },
     "metadata": {},
     "output_type": "display_data"
    },
    {
     "data": {
      "text/html": [
       "<pre style=\"white-space:pre;overflow-x:auto;line-height:normal;font-family:Menlo,'DejaVu Sans Mono',consolas,'Courier New',monospace\">┏━━━━━━━━━━━━━━━━━━━━━━━━━━━┳━━━━━━━━━━━━━━━━━━━━━━━━━━━┳━━━━━━━━━━━━━━━━━━━━━━━━━━━┳━━━━━━━━━━━━━━━━━━━━━━━━━━━┓\n",
       "┃<span style=\"font-weight: bold\">        Test metric        </span>┃<span style=\"font-weight: bold\">       DataLoader 0        </span>┃<span style=\"font-weight: bold\">       DataLoader 1        </span>┃<span style=\"font-weight: bold\">       DataLoader 2        </span>┃\n",
       "┡━━━━━━━━━━━━━━━━━━━━━━━━━━━╇━━━━━━━━━━━━━━━━━━━━━━━━━━━╇━━━━━━━━━━━━━━━━━━━━━━━━━━━╇━━━━━━━━━━━━━━━━━━━━━━━━━━━┩\n",
       "│<span style=\"color: #008080; text-decoration-color: #008080\">         test/acc          </span>│<span style=\"color: #800080; text-decoration-color: #800080\">          0.8125           </span>│<span style=\"color: #800080; text-decoration-color: #800080\">            0.5            </span>│<span style=\"color: #800080; text-decoration-color: #800080\">    0.5555555820465088     </span>│\n",
       "│<span style=\"color: #008080; text-decoration-color: #008080\">         test/loss         </span>│<span style=\"color: #800080; text-decoration-color: #800080\">    0.01590922474861145    </span>│<span style=\"color: #800080; text-decoration-color: #800080\">    0.00936123076826334    </span>│<span style=\"color: #800080; text-decoration-color: #800080\">   0.017540283501148224    </span>│\n",
       "└───────────────────────────┴───────────────────────────┴───────────────────────────┴───────────────────────────┘\n",
       "</pre>\n"
      ],
      "text/plain": [
       "┏━━━━━━━━━━━━━━━━━━━━━━━━━━━┳━━━━━━━━━━━━━━━━━━━━━━━━━━━┳━━━━━━━━━━━━━━━━━━━━━━━━━━━┳━━━━━━━━━━━━━━━━━━━━━━━━━━━┓\n",
       "┃\u001b[1m \u001b[0m\u001b[1m       Test metric       \u001b[0m\u001b[1m \u001b[0m┃\u001b[1m \u001b[0m\u001b[1m      DataLoader 0       \u001b[0m\u001b[1m \u001b[0m┃\u001b[1m \u001b[0m\u001b[1m      DataLoader 1       \u001b[0m\u001b[1m \u001b[0m┃\u001b[1m \u001b[0m\u001b[1m      DataLoader 2       \u001b[0m\u001b[1m \u001b[0m┃\n",
       "┡━━━━━━━━━━━━━━━━━━━━━━━━━━━╇━━━━━━━━━━━━━━━━━━━━━━━━━━━╇━━━━━━━━━━━━━━━━━━━━━━━━━━━╇━━━━━━━━━━━━━━━━━━━━━━━━━━━┩\n",
       "│\u001b[36m \u001b[0m\u001b[36m        test/acc         \u001b[0m\u001b[36m \u001b[0m│\u001b[35m \u001b[0m\u001b[35m         0.8125          \u001b[0m\u001b[35m \u001b[0m│\u001b[35m \u001b[0m\u001b[35m           0.5           \u001b[0m\u001b[35m \u001b[0m│\u001b[35m \u001b[0m\u001b[35m   0.5555555820465088    \u001b[0m\u001b[35m \u001b[0m│\n",
       "│\u001b[36m \u001b[0m\u001b[36m        test/loss        \u001b[0m\u001b[36m \u001b[0m│\u001b[35m \u001b[0m\u001b[35m   0.01590922474861145   \u001b[0m\u001b[35m \u001b[0m│\u001b[35m \u001b[0m\u001b[35m   0.00936123076826334   \u001b[0m\u001b[35m \u001b[0m│\u001b[35m \u001b[0m\u001b[35m  0.017540283501148224   \u001b[0m\u001b[35m \u001b[0m│\n",
       "└───────────────────────────┴───────────────────────────┴───────────────────────────┴───────────────────────────┘\n"
      ]
     },
     "metadata": {},
     "output_type": "display_data"
    },
    {
     "name": "stdout",
     "output_type": "stream",
     "text": [
      "../.ds/model-starchat-beta_ds-EleutherAItruthful-qa-binary_format-tqa-sphinx-prompt_N40_2shots_95c8e4\n",
      "selected rows are 55.00%\n",
      "22\n",
      "1 1 1\n"
     ]
    },
    {
     "name": "stderr",
     "output_type": "stream",
     "text": [
      "LOCAL_RANK: 0 - CUDA_VISIBLE_DEVICES: [0]\n",
      "/home/ubuntu/mambaforge/envs/dlk2/lib/python3.9/site-packages/lightning/pytorch/trainer/connectors/data_connector.py:478: PossibleUserWarning: Your `test_dataloader`'s sampler has shuffling enabled, it is strongly recommended that you turn shuffling off for val/test dataloaders.\n",
      "  rank_zero_warn(\n"
     ]
    },
    {
     "data": {
      "application/vnd.jupyter.widget-view+json": {
       "model_id": "ac12ee9ad86b4635b0b75b7207dfedc7",
       "version_major": 2,
       "version_minor": 0
      },
      "text/plain": [
       "Testing: 0it [00:00, ?it/s]"
      ]
     },
     "metadata": {},
     "output_type": "display_data"
    },
    {
     "data": {
      "text/html": [
       "<pre style=\"white-space:pre;overflow-x:auto;line-height:normal;font-family:Menlo,'DejaVu Sans Mono',consolas,'Courier New',monospace\">┏━━━━━━━━━━━━━━━━━━━━━━━━━━━┳━━━━━━━━━━━━━━━━━━━━━━━━━━━┳━━━━━━━━━━━━━━━━━━━━━━━━━━━┳━━━━━━━━━━━━━━━━━━━━━━━━━━━┓\n",
       "┃<span style=\"font-weight: bold\">        Test metric        </span>┃<span style=\"font-weight: bold\">       DataLoader 0        </span>┃<span style=\"font-weight: bold\">       DataLoader 1        </span>┃<span style=\"font-weight: bold\">       DataLoader 2        </span>┃\n",
       "┡━━━━━━━━━━━━━━━━━━━━━━━━━━━╇━━━━━━━━━━━━━━━━━━━━━━━━━━━╇━━━━━━━━━━━━━━━━━━━━━━━━━━━╇━━━━━━━━━━━━━━━━━━━━━━━━━━━┩\n",
       "│<span style=\"color: #008080; text-decoration-color: #008080\">         test/acc          </span>│<span style=\"color: #800080; text-decoration-color: #800080\">    0.4545454680919647     </span>│<span style=\"color: #800080; text-decoration-color: #800080\">    0.6000000238418579     </span>│<span style=\"color: #800080; text-decoration-color: #800080\">    0.8333333134651184     </span>│\n",
       "│<span style=\"color: #008080; text-decoration-color: #008080\">         test/loss         </span>│<span style=\"color: #800080; text-decoration-color: #800080\">    0.02449781261384487    </span>│<span style=\"color: #800080; text-decoration-color: #800080\">   0.034770410507917404    </span>│<span style=\"color: #800080; text-decoration-color: #800080\">   0.011007445864379406    </span>│\n",
       "└───────────────────────────┴───────────────────────────┴───────────────────────────┴───────────────────────────┘\n",
       "</pre>\n"
      ],
      "text/plain": [
       "┏━━━━━━━━━━━━━━━━━━━━━━━━━━━┳━━━━━━━━━━━━━━━━━━━━━━━━━━━┳━━━━━━━━━━━━━━━━━━━━━━━━━━━┳━━━━━━━━━━━━━━━━━━━━━━━━━━━┓\n",
       "┃\u001b[1m \u001b[0m\u001b[1m       Test metric       \u001b[0m\u001b[1m \u001b[0m┃\u001b[1m \u001b[0m\u001b[1m      DataLoader 0       \u001b[0m\u001b[1m \u001b[0m┃\u001b[1m \u001b[0m\u001b[1m      DataLoader 1       \u001b[0m\u001b[1m \u001b[0m┃\u001b[1m \u001b[0m\u001b[1m      DataLoader 2       \u001b[0m\u001b[1m \u001b[0m┃\n",
       "┡━━━━━━━━━━━━━━━━━━━━━━━━━━━╇━━━━━━━━━━━━━━━━━━━━━━━━━━━╇━━━━━━━━━━━━━━━━━━━━━━━━━━━╇━━━━━━━━━━━━━━━━━━━━━━━━━━━┩\n",
       "│\u001b[36m \u001b[0m\u001b[36m        test/acc         \u001b[0m\u001b[36m \u001b[0m│\u001b[35m \u001b[0m\u001b[35m   0.4545454680919647    \u001b[0m\u001b[35m \u001b[0m│\u001b[35m \u001b[0m\u001b[35m   0.6000000238418579    \u001b[0m\u001b[35m \u001b[0m│\u001b[35m \u001b[0m\u001b[35m   0.8333333134651184    \u001b[0m\u001b[35m \u001b[0m│\n",
       "│\u001b[36m \u001b[0m\u001b[36m        test/loss        \u001b[0m\u001b[36m \u001b[0m│\u001b[35m \u001b[0m\u001b[35m   0.02449781261384487   \u001b[0m\u001b[35m \u001b[0m│\u001b[35m \u001b[0m\u001b[35m  0.034770410507917404   \u001b[0m\u001b[35m \u001b[0m│\u001b[35m \u001b[0m\u001b[35m  0.011007445864379406   \u001b[0m\u001b[35m \u001b[0m│\n",
       "└───────────────────────────┴───────────────────────────┴───────────────────────────┴───────────────────────────┘\n"
      ]
     },
     "metadata": {},
     "output_type": "display_data"
    }
   ],
   "source": [
    "for f in oos_dataset_fs:\n",
    "    print(f)\n",
    "    ds2a = load_from_disk(f)\n",
    "\n",
    "    # restrict it to significant permutations. That is monte carlo dropout pairs, where the answer changes by more than X%\n",
    "    df = ds2df(ds2a)\n",
    "    m = np.abs(df.ans0-df.ans1)>0.1\n",
    "    significant_rows = m[m].index\n",
    "\n",
    "    # allowed_rows_i = set(known_rows_i).intersection(significant_rows)\n",
    "    allowed_rows_i = significant_rows\n",
    "    ds2 = ds2a.select(allowed_rows_i)\n",
    "    print(f\"selected rows are {len(ds2)/len(ds2a):2.2%}\")\n",
    "    print(len(ds2))\n",
    "\n",
    "    dm2 = imdbHSDataModule(ds2, batch_size=batch_size)\n",
    "    dm2.setup('train')\n",
    "\n",
    "    dl_val = dm2.val_dataloader()\n",
    "    dl_train = dm2.train_dataloader()\n",
    "    dl_test = dm2.test_dataloader()\n",
    "    print(len(dl_train), len(dl_val), len(dl_test))\n",
    "    rs = trainer.test(net, dataloaders=[dl_train, dl_val, dl_test])"
   ]
  },
  {
   "cell_type": "code",
   "execution_count": null,
   "metadata": {},
   "outputs": [],
   "source": []
  },
  {
   "cell_type": "code",
   "execution_count": 54,
   "metadata": {},
   "outputs": [
    {
     "data": {
      "text/plain": [
       "33"
      ]
     },
     "execution_count": 54,
     "metadata": {},
     "output_type": "execute_result"
    }
   ],
   "source": []
  },
  {
   "cell_type": "code",
   "execution_count": null,
   "metadata": {},
   "outputs": [],
   "source": []
  }
 ],
 "metadata": {
  "kernelspec": {
   "display_name": "dlk2",
   "language": "python",
   "name": "python3"
  },
  "language_info": {
   "codemirror_mode": {
    "name": "ipython",
    "version": 3
   },
   "file_extension": ".py",
   "mimetype": "text/x-python",
   "name": "python",
   "nbconvert_exporter": "python",
   "pygments_lexer": "ipython3",
   "version": "3.9.16"
  },
  "orig_nbformat": 4
 },
 "nbformat": 4,
 "nbformat_minor": 2
}
