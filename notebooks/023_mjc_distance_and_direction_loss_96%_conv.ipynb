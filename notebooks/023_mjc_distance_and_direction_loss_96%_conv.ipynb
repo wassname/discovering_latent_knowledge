{
 "cells": [
  {
   "attachments": {},
   "cell_type": "markdown",
   "metadata": {},
   "source": [
    "# distance and direciton\n",
    "\n",
    "Let try to opt for distance and direction with\n",
    "\n",
    "$L1loss(y_1-y_0, y_{true})$\n",
    "\n",
    "where $y_1=model(x_1)$\n",
    "\n",
    "So I'm optimising for the hidden states to be the correct distance and direcioton away. It's like the margin raning loss."
   ]
  },
  {
   "attachments": {},
   "cell_type": "markdown",
   "metadata": {},
   "source": [
    "\n",
    "links:\n",
    "- [loading](https://github.com/deep-diver/LLM-As-Chatbot/blob/main/models/alpaca.py)\n",
    "- [dict](https://github.com/deep-diver/LLM-As-Chatbot/blob/c79e855a492a968b54bac223e66dc9db448d6eba/model_cards.json#L143)\n",
    "- [prompt_format](https://github.com/deep-diver/PingPong/blob/main/src/pingpong/alpaca.py)"
   ]
  },
  {
   "cell_type": "code",
   "execution_count": 1,
   "metadata": {},
   "outputs": [
    {
     "data": {
      "text/plain": [
       "'4.30.1'"
      ]
     },
     "execution_count": 1,
     "metadata": {},
     "output_type": "execute_result"
    }
   ],
   "source": [
    "\n",
    "import numpy as np\n",
    "import pandas as pd\n",
    "from matplotlib import pyplot as plt\n",
    "plt.style.use('ggplot')\n",
    "\n",
    "from typing import Optional, List, Dict, Union\n",
    "\n",
    "import torch\n",
    "import torch.nn as nn\n",
    "import torch.nn.functional as F\n",
    "from torch import Tensor\n",
    "from torch import optim\n",
    "from torch.utils.data import random_split, DataLoader, TensorDataset\n",
    "\n",
    "from pathlib import Path\n",
    "\n",
    "import transformers\n",
    "\n",
    "import lightning.pytorch as pl\n",
    "# from dataclasses import dataclass\n",
    "\n",
    "from sklearn.linear_model import LogisticRegression\n",
    "from sklearn.metrics import f1_score, roc_auc_score, accuracy_score\n",
    "from sklearn.preprocessing import RobustScaler\n",
    "\n",
    "from tqdm.auto import tqdm\n",
    "import os\n",
    "\n",
    "from loguru import logger\n",
    "logger.add(os.sys.stderr, format=\"{time} {level} {message}\", level=\"INFO\")\n",
    "\n",
    "transformers.__version__"
   ]
  },
  {
   "cell_type": "markdown",
   "metadata": {},
   "source": [
    "# Dataset"
   ]
  },
  {
   "cell_type": "code",
   "execution_count": 2,
   "metadata": {},
   "outputs": [
    {
     "data": {
      "text/plain": [
       "Dataset({\n",
       "    features: ['hs1', 'ans1', 'hs2', 'ans2', 'true', 'index', 'version', 'info', 'input_truncated', 'prob_y', 'prob_n', 'text_ans', 'input_text'],\n",
       "    num_rows: 36000\n",
       "})"
      ]
     },
     "execution_count": 2,
     "metadata": {},
     "output_type": "execute_result"
    }
   ],
   "source": [
    "from datasets import load_from_disk, concatenate_datasets\n",
    "fs = [\n",
    "    \n",
    "    './.ds/HuggingFaceH4starchat_beta-None-N_4000-ns_3-mc_0.2-0392de',\n",
    "    './.ds/HuggingFaceH4starchat_beta-None-N_6000-ns_3-mc_True-dc99f8',\n",
    "    './.ds/HuggingFaceH4starchat_beta-None-N_8000-ns_3-mc_True-a50b5f'\n",
    "]\n",
    "\n",
    "# './.ds/HuggingFaceH4starchat_beta-None-N_8000-ns_3-mc_0.2-2ffc1e'\n",
    "ds1 = concatenate_datasets([load_from_disk(f) for f in fs])\n",
    "ds1"
   ]
  },
  {
   "cell_type": "code",
   "execution_count": 3,
   "metadata": {},
   "outputs": [],
   "source": [
    "def rows_item(row):\n",
    "    \"\"\"\n",
    "    transform a row by turning singe dim arrays into items\n",
    "    \"\"\"\n",
    "    for k,x in row.items():\n",
    "        if isinstance(x, np.ndarray) and x.ndim==0:\n",
    "            row[k]=x.item()\n",
    "    return row\n",
    "\n",
    "def ds_info2df(ds):\n",
    "    info = list(ds['info'])\n",
    "    d = pd.DataFrame([rows_item(r) for r in info])\n",
    "    return d\n",
    "\n",
    "def ds2df(ds):\n",
    "    df = ds_info2df(ds)\n",
    "    df_ans = ds.select_columns(['ans1', 'ans2', 'true', 'index', 'prob_y', 'prob_n', 'version']).with_format(\"numpy\").to_pandas()\n",
    "    df = pd.concat([df, df_ans], axis=1)\n",
    "    \n",
    "    # derived\n",
    "    df['dir_true'] = df['ans2'] - df['ans1']\n",
    "    df['conf'] = (df['ans1']-df['ans2']).abs()  \n",
    "    df['llm_prob'] = (df['ans1']+df['ans2'])/2\n",
    "    df['llm_ans'] = df['llm_prob']>0.5\n",
    "    return df"
   ]
  },
  {
   "cell_type": "markdown",
   "metadata": {},
   "source": [
    "## Filter"
   ]
  },
  {
   "cell_type": "code",
   "execution_count": 4,
   "metadata": {},
   "outputs": [
    {
     "data": {
      "text/html": [
       "<div>\n",
       "<style scoped>\n",
       "    .dataframe tbody tr th:only-of-type {\n",
       "        vertical-align: middle;\n",
       "    }\n",
       "\n",
       "    .dataframe tbody tr th {\n",
       "        vertical-align: top;\n",
       "    }\n",
       "\n",
       "    .dataframe thead th {\n",
       "        text-align: right;\n",
       "    }\n",
       "</style>\n",
       "<table border=\"1\" class=\"dataframe\">\n",
       "  <thead>\n",
       "    <tr style=\"text-align: right;\">\n",
       "      <th></th>\n",
       "      <th>desired_answer</th>\n",
       "      <th>input</th>\n",
       "      <th>lie</th>\n",
       "      <th>true_answer</th>\n",
       "      <th>version</th>\n",
       "      <th>ans1</th>\n",
       "      <th>ans2</th>\n",
       "      <th>true</th>\n",
       "      <th>index</th>\n",
       "      <th>prob_y</th>\n",
       "      <th>prob_n</th>\n",
       "      <th>version</th>\n",
       "      <th>dir_true</th>\n",
       "      <th>conf</th>\n",
       "      <th>llm_prob</th>\n",
       "      <th>llm_ans</th>\n",
       "    </tr>\n",
       "  </thead>\n",
       "  <tbody>\n",
       "    <tr>\n",
       "      <th>0</th>\n",
       "      <td>True</td>\n",
       "      <td>Title: Horrible and dangerous for kids!\\n\\nCon...</td>\n",
       "      <td>True</td>\n",
       "      <td>0</td>\n",
       "      <td>lie</td>\n",
       "      <td>0.058716</td>\n",
       "      <td>0.153931</td>\n",
       "      <td>0</td>\n",
       "      <td>0</td>\n",
       "      <td>0.057861</td>\n",
       "      <td>0.926270</td>\n",
       "      <td>lie</td>\n",
       "      <td>0.095215</td>\n",
       "      <td>0.095215</td>\n",
       "      <td>0.106323</td>\n",
       "      <td>False</td>\n",
       "    </tr>\n",
       "    <tr>\n",
       "      <th>1</th>\n",
       "      <td>True</td>\n",
       "      <td>Title: Order with caution\\n\\nContent: I ordere...</td>\n",
       "      <td>True</td>\n",
       "      <td>0</td>\n",
       "      <td>lie</td>\n",
       "      <td>0.373535</td>\n",
       "      <td>0.476074</td>\n",
       "      <td>0</td>\n",
       "      <td>1</td>\n",
       "      <td>0.371094</td>\n",
       "      <td>0.621582</td>\n",
       "      <td>lie</td>\n",
       "      <td>0.102539</td>\n",
       "      <td>0.102539</td>\n",
       "      <td>0.424805</td>\n",
       "      <td>False</td>\n",
       "    </tr>\n",
       "    <tr>\n",
       "      <th>2</th>\n",
       "      <td>True</td>\n",
       "      <td>Title: A big disappointment\\n\\nContent: This m...</td>\n",
       "      <td>True</td>\n",
       "      <td>0</td>\n",
       "      <td>lie</td>\n",
       "      <td>0.063660</td>\n",
       "      <td>0.204224</td>\n",
       "      <td>0</td>\n",
       "      <td>2</td>\n",
       "      <td>0.063416</td>\n",
       "      <td>0.932129</td>\n",
       "      <td>lie</td>\n",
       "      <td>0.140564</td>\n",
       "      <td>0.140564</td>\n",
       "      <td>0.133942</td>\n",
       "      <td>False</td>\n",
       "    </tr>\n",
       "    <tr>\n",
       "      <th>3</th>\n",
       "      <td>True</td>\n",
       "      <td>Title: Came F*$%ed Up!!\\n\\nContent: ok so i go...</td>\n",
       "      <td>True</td>\n",
       "      <td>0</td>\n",
       "      <td>lie</td>\n",
       "      <td>0.259521</td>\n",
       "      <td>0.054138</td>\n",
       "      <td>0</td>\n",
       "      <td>3</td>\n",
       "      <td>0.252686</td>\n",
       "      <td>0.720215</td>\n",
       "      <td>lie</td>\n",
       "      <td>-0.205383</td>\n",
       "      <td>0.205383</td>\n",
       "      <td>0.156830</td>\n",
       "      <td>False</td>\n",
       "    </tr>\n",
       "    <tr>\n",
       "      <th>4</th>\n",
       "      <td>True</td>\n",
       "      <td>Title: broken\\n\\nContent: I was anticipating t...</td>\n",
       "      <td>True</td>\n",
       "      <td>0</td>\n",
       "      <td>lie</td>\n",
       "      <td>0.151001</td>\n",
       "      <td>0.265625</td>\n",
       "      <td>0</td>\n",
       "      <td>4</td>\n",
       "      <td>0.148071</td>\n",
       "      <td>0.832031</td>\n",
       "      <td>lie</td>\n",
       "      <td>0.114624</td>\n",
       "      <td>0.114624</td>\n",
       "      <td>0.208313</td>\n",
       "      <td>False</td>\n",
       "    </tr>\n",
       "    <tr>\n",
       "      <th>...</th>\n",
       "      <td>...</td>\n",
       "      <td>...</td>\n",
       "      <td>...</td>\n",
       "      <td>...</td>\n",
       "      <td>...</td>\n",
       "      <td>...</td>\n",
       "      <td>...</td>\n",
       "      <td>...</td>\n",
       "      <td>...</td>\n",
       "      <td>...</td>\n",
       "      <td>...</td>\n",
       "      <td>...</td>\n",
       "      <td>...</td>\n",
       "      <td>...</td>\n",
       "      <td>...</td>\n",
       "      <td>...</td>\n",
       "    </tr>\n",
       "    <tr>\n",
       "      <th>35995</th>\n",
       "      <td>True</td>\n",
       "      <td>Review Title: Great for burning CDS\\n\\nReview ...</td>\n",
       "      <td>False</td>\n",
       "      <td>1</td>\n",
       "      <td>truth</td>\n",
       "      <td>0.522949</td>\n",
       "      <td>0.745117</td>\n",
       "      <td>1</td>\n",
       "      <td>7995</td>\n",
       "      <td>0.518555</td>\n",
       "      <td>0.472168</td>\n",
       "      <td>truth</td>\n",
       "      <td>0.222168</td>\n",
       "      <td>0.222168</td>\n",
       "      <td>0.634033</td>\n",
       "      <td>True</td>\n",
       "    </tr>\n",
       "    <tr>\n",
       "      <th>35996</th>\n",
       "      <td>False</td>\n",
       "      <td>Review Title: Horrible...\\n\\nReview Content: I...</td>\n",
       "      <td>False</td>\n",
       "      <td>0</td>\n",
       "      <td>truth</td>\n",
       "      <td>0.001739</td>\n",
       "      <td>0.001056</td>\n",
       "      <td>0</td>\n",
       "      <td>7996</td>\n",
       "      <td>0.001735</td>\n",
       "      <td>0.994629</td>\n",
       "      <td>truth</td>\n",
       "      <td>-0.000683</td>\n",
       "      <td>0.000683</td>\n",
       "      <td>0.001397</td>\n",
       "      <td>False</td>\n",
       "    </tr>\n",
       "    <tr>\n",
       "      <th>35997</th>\n",
       "      <td>False</td>\n",
       "      <td>Review Title: one of the worst books to use fo...</td>\n",
       "      <td>False</td>\n",
       "      <td>0</td>\n",
       "      <td>truth</td>\n",
       "      <td>0.016632</td>\n",
       "      <td>0.000480</td>\n",
       "      <td>0</td>\n",
       "      <td>7997</td>\n",
       "      <td>0.016357</td>\n",
       "      <td>0.965820</td>\n",
       "      <td>truth</td>\n",
       "      <td>-0.016152</td>\n",
       "      <td>0.016152</td>\n",
       "      <td>0.008556</td>\n",
       "      <td>False</td>\n",
       "    </tr>\n",
       "    <tr>\n",
       "      <th>35998</th>\n",
       "      <td>False</td>\n",
       "      <td>Review Title: Not for C, C++ programmers\\n\\nRe...</td>\n",
       "      <td>False</td>\n",
       "      <td>0</td>\n",
       "      <td>truth</td>\n",
       "      <td>0.005379</td>\n",
       "      <td>0.008308</td>\n",
       "      <td>0</td>\n",
       "      <td>7998</td>\n",
       "      <td>0.005375</td>\n",
       "      <td>0.992676</td>\n",
       "      <td>truth</td>\n",
       "      <td>0.002930</td>\n",
       "      <td>0.002930</td>\n",
       "      <td>0.006844</td>\n",
       "      <td>False</td>\n",
       "    </tr>\n",
       "    <tr>\n",
       "      <th>35999</th>\n",
       "      <td>False</td>\n",
       "      <td>Review Title: IF YOU BUY THIS CD FROM HOT PROD...</td>\n",
       "      <td>False</td>\n",
       "      <td>0</td>\n",
       "      <td>truth</td>\n",
       "      <td>0.085022</td>\n",
       "      <td>0.089966</td>\n",
       "      <td>0</td>\n",
       "      <td>7999</td>\n",
       "      <td>0.082275</td>\n",
       "      <td>0.884766</td>\n",
       "      <td>truth</td>\n",
       "      <td>0.004944</td>\n",
       "      <td>0.004944</td>\n",
       "      <td>0.087494</td>\n",
       "      <td>False</td>\n",
       "    </tr>\n",
       "  </tbody>\n",
       "</table>\n",
       "<p>36000 rows × 16 columns</p>\n",
       "</div>"
      ],
      "text/plain": [
       "       desired_answer                                              input   \n",
       "0                True  Title: Horrible and dangerous for kids!\\n\\nCon...  \\\n",
       "1                True  Title: Order with caution\\n\\nContent: I ordere...   \n",
       "2                True  Title: A big disappointment\\n\\nContent: This m...   \n",
       "3                True  Title: Came F*$%ed Up!!\\n\\nContent: ok so i go...   \n",
       "4                True  Title: broken\\n\\nContent: I was anticipating t...   \n",
       "...               ...                                                ...   \n",
       "35995            True  Review Title: Great for burning CDS\\n\\nReview ...   \n",
       "35996           False  Review Title: Horrible...\\n\\nReview Content: I...   \n",
       "35997           False  Review Title: one of the worst books to use fo...   \n",
       "35998           False  Review Title: Not for C, C++ programmers\\n\\nRe...   \n",
       "35999           False  Review Title: IF YOU BUY THIS CD FROM HOT PROD...   \n",
       "\n",
       "         lie  true_answer version      ans1      ans2  true  index    prob_y   \n",
       "0       True            0     lie  0.058716  0.153931     0      0  0.057861  \\\n",
       "1       True            0     lie  0.373535  0.476074     0      1  0.371094   \n",
       "2       True            0     lie  0.063660  0.204224     0      2  0.063416   \n",
       "3       True            0     lie  0.259521  0.054138     0      3  0.252686   \n",
       "4       True            0     lie  0.151001  0.265625     0      4  0.148071   \n",
       "...      ...          ...     ...       ...       ...   ...    ...       ...   \n",
       "35995  False            1   truth  0.522949  0.745117     1   7995  0.518555   \n",
       "35996  False            0   truth  0.001739  0.001056     0   7996  0.001735   \n",
       "35997  False            0   truth  0.016632  0.000480     0   7997  0.016357   \n",
       "35998  False            0   truth  0.005379  0.008308     0   7998  0.005375   \n",
       "35999  False            0   truth  0.085022  0.089966     0   7999  0.082275   \n",
       "\n",
       "         prob_n version  dir_true      conf  llm_prob  llm_ans  \n",
       "0      0.926270     lie  0.095215  0.095215  0.106323    False  \n",
       "1      0.621582     lie  0.102539  0.102539  0.424805    False  \n",
       "2      0.932129     lie  0.140564  0.140564  0.133942    False  \n",
       "3      0.720215     lie -0.205383  0.205383  0.156830    False  \n",
       "4      0.832031     lie  0.114624  0.114624  0.208313    False  \n",
       "...         ...     ...       ...       ...       ...      ...  \n",
       "35995  0.472168   truth  0.222168  0.222168  0.634033     True  \n",
       "35996  0.994629   truth -0.000683  0.000683  0.001397    False  \n",
       "35997  0.965820   truth -0.016152  0.016152  0.008556    False  \n",
       "35998  0.992676   truth  0.002930  0.002930  0.006844    False  \n",
       "35999  0.884766   truth  0.004944  0.004944  0.087494    False  \n",
       "\n",
       "[36000 rows x 16 columns]"
      ]
     },
     "execution_count": 4,
     "metadata": {},
     "output_type": "execute_result"
    }
   ],
   "source": [
    "# lets select only the ones where\n",
    "df = ds2df(ds1)\n",
    "df"
   ]
  },
  {
   "cell_type": "code",
   "execution_count": 5,
   "metadata": {},
   "outputs": [
    {
     "data": {
      "text/plain": [
       "Dataset({\n",
       "    features: ['hs1', 'ans1', 'hs2', 'ans2', 'true', 'index', 'version', 'info', 'input_truncated', 'prob_y', 'prob_n', 'text_ans', 'input_text'],\n",
       "    num_rows: 14082\n",
       "})"
      ]
     },
     "execution_count": 5,
     "metadata": {},
     "output_type": "execute_result"
    }
   ],
   "source": [
    "\n",
    "\n",
    "# just select the question where the model knows the answer. \n",
    "d = df.query('version==\"truth\"').set_index(\"index\")\n",
    "# these are the ones where it got it right when asked to tell the truth\n",
    "known_indices = d[d.llm_ans==d.true_answer].index\n",
    "\n",
    "# convert to row numbers, and use datasets to select\n",
    "known_rows = df['index'].isin(known_indices)\n",
    "known_rows_i = df[known_rows].index\n",
    "\n",
    "# also restrict it to significant permutations. That is monte carlo dropout pairs, where the answer changes by more than X%\n",
    "m = np.abs(df.ans1-df.ans2)>0.10\n",
    "significant_rows = m[m].index\n",
    "\n",
    "allowed_rows_i = set(known_rows_i).intersection(significant_rows)\n",
    "ds = ds1.select(allowed_rows_i)\n",
    "ds"
   ]
  },
  {
   "cell_type": "markdown",
   "metadata": {},
   "source": [
    "## Transform: Normalize by activation"
   ]
  },
  {
   "cell_type": "code",
   "execution_count": 6,
   "metadata": {},
   "outputs": [],
   "source": [
    "# N = 1000\n",
    "# small_ds = ds.select(range(N))\n",
    "# b = N\n",
    "# hs1 = small_ds['hs1'].reshape((b, -1))\n",
    "\n",
    "# scaler = RobustScaler()\n",
    "# hs2 = scaler.fit_transform(hs1)\n",
    "\n",
    "# def normalize_hs(hs1, hs2):\n",
    "#     b = len(hs1)\n",
    "#     hs1 = scaler.transform(hs1.reshape((b, -1)))\n",
    "#     hs2 = scaler.transform(hs2.reshape((b, -1)))\n",
    "#     return {'hs1':hs1, 'hs2': hs2}\n",
    "\n",
    "# # # Plot\n",
    "# # plt.hist(hs1.flatten(), bins=155, range=[-5, 5], label='before', histtype='step')\n",
    "# # plt.hist(hs2.flatten(), bins=155, range=[-5, 5], label='after', histtype='step')\n",
    "# # plt.legend()\n",
    "# # plt.show()\n",
    "\n",
    "# # # Test\n",
    "# # small_dataset = ds.select(range(4))\n",
    "# # small_dataset.map(normalize_hs, batched=True, batch_size=2, input_columns=['hs1', 'hs2'])\n",
    "\n",
    "# # run\n",
    "# ds = ds.map(normalize_hs, batched=True, input_columns=['hs1', 'hs2'])\n",
    "# ds"
   ]
  },
  {
   "attachments": {},
   "cell_type": "markdown",
   "metadata": {},
   "source": [
    "## Lightning DataModule"
   ]
  },
  {
   "cell_type": "code",
   "execution_count": 7,
   "metadata": {},
   "outputs": [
    {
     "data": {
      "text/html": [
       "<div>\n",
       "<style scoped>\n",
       "    .dataframe tbody tr th:only-of-type {\n",
       "        vertical-align: middle;\n",
       "    }\n",
       "\n",
       "    .dataframe tbody tr th {\n",
       "        vertical-align: top;\n",
       "    }\n",
       "\n",
       "    .dataframe thead th {\n",
       "        text-align: right;\n",
       "    }\n",
       "</style>\n",
       "<table border=\"1\" class=\"dataframe\">\n",
       "  <thead>\n",
       "    <tr style=\"text-align: right;\">\n",
       "      <th></th>\n",
       "      <th>desired_answer</th>\n",
       "      <th>input</th>\n",
       "      <th>lie</th>\n",
       "      <th>true_answer</th>\n",
       "      <th>version</th>\n",
       "      <th>ans1</th>\n",
       "      <th>ans2</th>\n",
       "      <th>true</th>\n",
       "      <th>index</th>\n",
       "      <th>prob_y</th>\n",
       "      <th>prob_n</th>\n",
       "      <th>version</th>\n",
       "      <th>dir_true</th>\n",
       "      <th>conf</th>\n",
       "      <th>llm_prob</th>\n",
       "      <th>llm_ans</th>\n",
       "    </tr>\n",
       "  </thead>\n",
       "  <tbody>\n",
       "    <tr>\n",
       "      <th>0</th>\n",
       "      <td>True</td>\n",
       "      <td>Title: Order with caution\\n\\nContent: I ordere...</td>\n",
       "      <td>True</td>\n",
       "      <td>0</td>\n",
       "      <td>lie</td>\n",
       "      <td>0.373535</td>\n",
       "      <td>0.476074</td>\n",
       "      <td>0</td>\n",
       "      <td>1</td>\n",
       "      <td>0.371094</td>\n",
       "      <td>0.621582</td>\n",
       "      <td>lie</td>\n",
       "      <td>0.102539</td>\n",
       "      <td>0.102539</td>\n",
       "      <td>0.424805</td>\n",
       "      <td>False</td>\n",
       "    </tr>\n",
       "    <tr>\n",
       "      <th>1</th>\n",
       "      <td>True</td>\n",
       "      <td>Title: A big disappointment\\n\\nContent: This m...</td>\n",
       "      <td>True</td>\n",
       "      <td>0</td>\n",
       "      <td>lie</td>\n",
       "      <td>0.063660</td>\n",
       "      <td>0.204224</td>\n",
       "      <td>0</td>\n",
       "      <td>2</td>\n",
       "      <td>0.063416</td>\n",
       "      <td>0.932129</td>\n",
       "      <td>lie</td>\n",
       "      <td>0.140564</td>\n",
       "      <td>0.140564</td>\n",
       "      <td>0.133942</td>\n",
       "      <td>False</td>\n",
       "    </tr>\n",
       "    <tr>\n",
       "      <th>2</th>\n",
       "      <td>True</td>\n",
       "      <td>Title: Came F*$%ed Up!!\\n\\nContent: ok so i go...</td>\n",
       "      <td>True</td>\n",
       "      <td>0</td>\n",
       "      <td>lie</td>\n",
       "      <td>0.259521</td>\n",
       "      <td>0.054138</td>\n",
       "      <td>0</td>\n",
       "      <td>3</td>\n",
       "      <td>0.252686</td>\n",
       "      <td>0.720215</td>\n",
       "      <td>lie</td>\n",
       "      <td>-0.205383</td>\n",
       "      <td>0.205383</td>\n",
       "      <td>0.156830</td>\n",
       "      <td>False</td>\n",
       "    </tr>\n",
       "    <tr>\n",
       "      <th>3</th>\n",
       "      <td>True</td>\n",
       "      <td>Title: broken\\n\\nContent: I was anticipating t...</td>\n",
       "      <td>True</td>\n",
       "      <td>0</td>\n",
       "      <td>lie</td>\n",
       "      <td>0.151001</td>\n",
       "      <td>0.265625</td>\n",
       "      <td>0</td>\n",
       "      <td>4</td>\n",
       "      <td>0.148071</td>\n",
       "      <td>0.832031</td>\n",
       "      <td>lie</td>\n",
       "      <td>0.114624</td>\n",
       "      <td>0.114624</td>\n",
       "      <td>0.208313</td>\n",
       "      <td>False</td>\n",
       "    </tr>\n",
       "  </tbody>\n",
       "</table>\n",
       "</div>"
      ],
      "text/plain": [
       "   desired_answer                                              input   lie   \n",
       "0            True  Title: Order with caution\\n\\nContent: I ordere...  True  \\\n",
       "1            True  Title: A big disappointment\\n\\nContent: This m...  True   \n",
       "2            True  Title: Came F*$%ed Up!!\\n\\nContent: ok so i go...  True   \n",
       "3            True  Title: broken\\n\\nContent: I was anticipating t...  True   \n",
       "\n",
       "   true_answer version      ans1      ans2  true  index    prob_y    prob_n   \n",
       "0            0     lie  0.373535  0.476074     0      1  0.371094  0.621582  \\\n",
       "1            0     lie  0.063660  0.204224     0      2  0.063416  0.932129   \n",
       "2            0     lie  0.259521  0.054138     0      3  0.252686  0.720215   \n",
       "3            0     lie  0.151001  0.265625     0      4  0.148071  0.832031   \n",
       "\n",
       "  version  dir_true      conf  llm_prob  llm_ans  \n",
       "0     lie  0.102539  0.102539  0.424805    False  \n",
       "1     lie  0.140564  0.140564  0.133942    False  \n",
       "2     lie -0.205383  0.205383  0.156830    False  \n",
       "3     lie  0.114624  0.114624  0.208313    False  "
      ]
     },
     "execution_count": 7,
     "metadata": {},
     "output_type": "execute_result"
    }
   ],
   "source": [
    "df = ds2df(ds)\n",
    "df.head(4)"
   ]
  },
  {
   "attachments": {},
   "cell_type": "markdown",
   "metadata": {},
   "source": [
    "What are we detecting? If the right example of the pair is more deceptive.\n",
    "\n",
    "Now it's only deceptive if\n",
    "- it was asked to lie\n",
    "- it knows the truth\n",
    "- it gave the wrong answer (around 10% of the time)( it's hard to get these models to lie by encouragement rather than instruction)\n"
   ]
  },
  {
   "cell_type": "code",
   "execution_count": 8,
   "metadata": {},
   "outputs": [],
   "source": [
    "def bool2switch(x):\n",
    "    \"\"\"[0,1]->[-1,1]\"\"\"\n",
    "    return x*2-1\n",
    "\n",
    "def switch2bool(x):\n",
    "    \"\"\"[-1,1]->[0,1]\"\"\"\n",
    "    return (x+1)/2\n",
    "\n",
    "assert switch2bool(-1)==0\n",
    "assert switch2bool(1)==1\n",
    "assert bool2switch(1)==1\n",
    "assert bool2switch(0)==-1\n",
    "\n",
    "\n",
    "def make_y(df):\n",
    "    # label: is ans2 more true than ans1\n",
    "    # so we ask does ans2 have greater probabiliy on \"positive\" than ans1\n",
    "    # then, when the right answer is negative we swap the sign\n",
    "    true_switch_sign = df.true_answer*2-1\n",
    "    distance = (df.ans2-df.ans1) * true_switch_sign\n",
    "    # y = bool2switch(distance>0)\n",
    "    return distance"
   ]
  },
  {
   "cell_type": "code",
   "execution_count": 9,
   "metadata": {},
   "outputs": [],
   "source": [
    "\n",
    "\n",
    "class imdbHSDataModule(pl.LightningDataModule):\n",
    "\n",
    "    def __init__(self,\n",
    "                 ds,\n",
    "                 batch_size=32,\n",
    "                ):\n",
    "        super().__init__()\n",
    "        self.save_hyperparameters(ignore=[\"ds\"])\n",
    "        self.ds = ds.shuffle(seed=42)\n",
    "\n",
    "    def setup(self, stage: str):\n",
    "        h = self.hparams\n",
    "        \n",
    "        # extract data set into N-Dim tensors and 1-d dataframe\n",
    "        self.ds_hs = (\n",
    "            self.ds.select_columns(['hs1', 'hs2'])\n",
    "            .with_format(\"numpy\")\n",
    "        )\n",
    "        self.df = ds2df(self.ds)\n",
    "        \n",
    "        y_cls = make_y(self.df)\n",
    "        \n",
    "        self.y = y_cls.values\n",
    "        self.df['y'] = y_cls\n",
    "        \n",
    "        b = len(self.ds_hs)\n",
    "        self.hs1 = self.ds_hs['hs1'].transpose(0, 2, 1)\n",
    "        self.hs2 = self.ds_hs['hs2'].transpose(0, 2, 1)\n",
    "        self.ans1 = self.df['ans1'].values\n",
    "        self.ans2 = self.df['ans2'].values\n",
    "\n",
    "        # let's create a simple 50/50 train split (the data is already randomized)\n",
    "        n = len(self.y)\n",
    "        \n",
    "        self.val_split = vs = int(n * 0.5)\n",
    "        self.test_split = ts = int(n * 0.75)\n",
    "        hs1_train, hs2_train, y_train = self.hs1[:vs], self.hs2[:vs], self.y[:vs]\n",
    "        hs1_val, hs2_val, y_val = self.hs1[vs:ts], self.hs2[vs:ts], self.y[vs:ts]\n",
    "        hs1_test, hs2_test, y_test = self.hs1[ts:],self. hs2[ts:], self.y[ts:]\n",
    "        \n",
    "        \n",
    "        to_ds = lambda x0, x1, y: TensorDataset(torch.from_numpy(x0).float(),\n",
    "                                      torch.from_numpy(x1).float(),\n",
    "                                      torch.from_numpy(y).float()\n",
    "                                      )\n",
    "\n",
    "        self.ds_train = to_ds(hs1_train, hs2_train, y_train)\n",
    "\n",
    "        self.ds_val = to_ds(hs1_val, hs2_val, y_val)\n",
    "\n",
    "        self.ds_test = to_ds(hs1_test, hs2_test, y_test)\n",
    "\n",
    "    def train_dataloader(self):\n",
    "        return DataLoader(self.ds_train,\n",
    "                          batch_size=self.hparams.batch_size,\n",
    "                          drop_last=True,\n",
    "                          shuffle=True)\n",
    "\n",
    "    def val_dataloader(self):\n",
    "        return DataLoader(self.ds_val, batch_size=self.hparams.batch_size, drop_last=True,)\n",
    "\n",
    "    def test_dataloader(self):\n",
    "        return DataLoader(self.ds_test, batch_size=self.hparams.batch_size, drop_last=True,)\n"
   ]
  },
  {
   "cell_type": "code",
   "execution_count": 10,
   "metadata": {},
   "outputs": [
    {
     "name": "stderr",
     "output_type": "stream",
     "text": [
      "Loading cached shuffled indices for dataset at /home/ubuntu/Documents/mjc/elk/discovering_latent_knowledge/notebooks/.ds/HuggingFaceH4starchat_beta-None-N_4000-ns_3-mc_0.2-0392de/cache-35c10a94e92fef40.arrow\n"
     ]
    }
   ],
   "source": [
    "batch_size = 128\n",
    "# test and cache\n",
    "dm = imdbHSDataModule(ds, batch_size=batch_size)\n",
    "dm.setup('train')\n",
    "\n",
    "dl_val = dm.val_dataloader()\n",
    "dl_train = dm.train_dataloader()\n"
   ]
  },
  {
   "cell_type": "code",
   "execution_count": 11,
   "metadata": {},
   "outputs": [
    {
     "data": {
      "text/plain": [
       "torch.Size([128, 6144, 19])"
      ]
     },
     "execution_count": 11,
     "metadata": {},
     "output_type": "execute_result"
    }
   ],
   "source": [
    "b = next(iter(dl_train))\n",
    "x0, x1, y = b\n",
    "x0.shape"
   ]
  },
  {
   "attachments": {},
   "cell_type": "markdown",
   "metadata": {},
   "source": [
    "# Data prep\n",
    "\n",
    "We do two inferences on the same inputs. Since we have dropout enabled, even during inference, we get two slightly different hidden states `hs1` and `hs2`, and two slightly different probabilities for our yes and no output tokens `p1` `p2`. We also have the true answer `t`\n",
    "\n",
    "So there are a few ways we can set up the problem. \n",
    "\n",
    "We can vary x:\n",
    "- `model(hs1)-model(hs2)=y`\n",
    "- `model(hs1-hs2)==y`\n",
    "\n",
    "And we can try differen't y's:\n",
    "- direction with a ranked loss. This could be unsupervised.\n",
    "- magnitude with a regression loss\n",
    "- vector (direction and magnitude) with a regression loss"
   ]
  },
  {
   "attachments": {},
   "cell_type": "markdown",
   "metadata": {},
   "source": [
    "# QC: Linear supervised probes\n",
    "\n",
    "\n",
    "Let's verify that the model's representations are good\n",
    "\n",
    "Before trying CCS, let's make sure there exists a direction that classifies examples as true vs false with high accuracy; if supervised logistic regression accuracy is bad, there's no hope of unsupervised CCS doing well.\n",
    "\n",
    "Note that because logistic regression is supervised we expect it to do better but to have worse generalisation that equivilent unsupervised methods. However in this case CSS is using a deeper model so it is more complicated.\n"
   ]
  },
  {
   "attachments": {},
   "cell_type": "markdown",
   "metadata": {},
   "source": [
    "## Try a classification of direction to truth"
   ]
  },
  {
   "cell_type": "code",
   "execution_count": 12,
   "metadata": {},
   "outputs": [],
   "source": [
    "# dm.y"
   ]
  },
  {
   "cell_type": "code",
   "execution_count": 13,
   "metadata": {},
   "outputs": [],
   "source": [
    "# n = len(df)\n",
    "\n",
    "# # Define X and y\n",
    "# X = dm.hs1-dm.hs2\n",
    "# y = dm.y>0\n",
    "\n",
    "# # split\n",
    "# n = len(y)\n",
    "# max_rows = 1000\n",
    "# print('split size', n//2)\n",
    "# X_train, X_test = X[:n//2], X[n//2:]\n",
    "# y_train, y_test = y[:n//2], y[n//2:]\n",
    "# X_train = X_train[:max_rows]\n",
    "# y_train = y_train[:max_rows]\n",
    "# X_test = X_test[:max_rows]\n",
    "# y_test = y_test[:max_rows]\n",
    "\n",
    "# # scale\n",
    "# scaler = RobustScaler()\n",
    "# scaler.fit(X_train)\n",
    "# X_train2 = scaler.transform(X_train)\n",
    "# X_test2 = scaler.transform(X_test)\n",
    "# print('lr')\n",
    "\n",
    "# lr = LogisticRegression(class_weight=\"balanced\", penalty=\"l2\", max_iter=380)\n",
    "# lr.fit(X_train2, y_train>0)"
   ]
  },
  {
   "cell_type": "code",
   "execution_count": 14,
   "metadata": {},
   "outputs": [],
   "source": [
    "# print(\"Logistic cls acc: {:2.2%} [TRAIN]\".format(lr.score(X_train2, y_train>0)))\n",
    "# print(\"Logistic cls acc: {:2.2%} [TEST]\".format(lr.score(X_test2, y_test>0)))\n",
    "\n",
    "# m = df['lie'][n//2:][:max_rows]\n",
    "# y_test_pred = lr.predict(X_test2)\n",
    "# acc_w_lie = ((y_test_pred[m]>0)==(y_test[m]>0)).mean()\n",
    "# acc_wo_lie = ((y_test_pred[~m]>0)==(y_test[~m]>0)).mean()\n",
    "# print(f'test acc w lie {acc_w_lie:2.2%}')\n",
    "# print(f'test acc wo lie {acc_wo_lie:2.2%}')"
   ]
  },
  {
   "cell_type": "code",
   "execution_count": 15,
   "metadata": {},
   "outputs": [],
   "source": [
    "# primary_baseline = roc_auc_score(y_test>0, y_test_pred)\n",
    "# primary_baseline"
   ]
  },
  {
   "attachments": {},
   "cell_type": "markdown",
   "metadata": {},
   "source": [
    "# LightningModel"
   ]
  },
  {
   "cell_type": "code",
   "execution_count": 82,
   "metadata": {},
   "outputs": [],
   "source": [
    "class MLPProbe(nn.Module):\n",
    "    def __init__(self, c_in, depth=0, hs=16, dropout=0):\n",
    "        super().__init__()\n",
    "\n",
    "        layers = [\n",
    "            nn.BatchNorm1d(c_in, affine=False),  # this will normalise the inputs\n",
    "            nn.Dropout1d(dropout),\n",
    "            \n",
    "            nn.Conv1d(c_in, hs*(depth+1), kernel_size=2),\n",
    "            nn.ReLU(),\n",
    "            nn.BatchNorm1d(hs*(depth+1)),\n",
    "        ]\n",
    "        for i in range(depth):\n",
    "            layers += [\n",
    "                nn.Conv1d(hs*(depth-i+1), hs*(depth-i), 2),\n",
    "                nn.ReLU(),\n",
    "                nn.BatchNorm1d(hs*(depth-i)),\n",
    "                \n",
    "            ]\n",
    "        layers += [nn.AdaptiveAvgPool1d(1)]\n",
    "        self.net = nn.Sequential(*layers)\n",
    "        self.head = nn.Sequential(\n",
    "            nn.Linear(hs, hs), nn.ReLU(),\n",
    "            nn.Dropout(dropout), nn.Linear(hs, 1)            \n",
    "        )\n",
    "\n",
    "    def forward(self, x):\n",
    "        h = self.net(x)\n",
    "        # print(1, h.shape)\n",
    "        h = h.squeeze(-1)\n",
    "        # print(1, h.shape)\n",
    "        return self.head(h)\n"
   ]
  },
  {
   "cell_type": "code",
   "execution_count": null,
   "metadata": {},
   "outputs": [],
   "source": []
  },
  {
   "cell_type": "code",
   "execution_count": 83,
   "metadata": {},
   "outputs": [],
   "source": [
    "from pytorch_optimizer import Ranger21\n",
    "import torchmetrics\n",
    "\n",
    "from torchmetrics import Metric, MetricCollection, Accuracy, AUROC\n",
    "    \n",
    "class CSS(pl.LightningModule):\n",
    "    def __init__(self, c_in, total_steps, depth=1, hs=16, lr=4e-3, weight_decay=1e-9, dropout=0):\n",
    "        super().__init__()\n",
    "        self.probe = MLPProbe(c_in, depth=depth, dropout=dropout, hs=hs)\n",
    "        self.save_hyperparameters()\n",
    "        \n",
    "        self.loss_fn = nn.SmoothL1Loss()\n",
    "        \n",
    "        # metrics for each stage\n",
    "        metrics_template = MetricCollection({\n",
    "            'acc': Accuracy(task=\"binary\"), \n",
    "            'auroc': AUROC(task=\"binary\")\n",
    "        })\n",
    "        self.metrics = torch.nn.ModuleDict({\n",
    "            f'metrics_{stage}': metrics_template.clone(prefix=stage+'/') for stage in ['train', 'val', 'test']\n",
    "        })\n",
    "        \n",
    "    def forward(self, x):\n",
    "        return self.probe(x).squeeze(1)\n",
    "        \n",
    "    def _step(self, batch, batch_idx, stage='train'):\n",
    "        x0, x1, y = batch\n",
    "        ypred0 = self(x0)\n",
    "        ypred1 = self(x1)\n",
    "        \n",
    "        if stage=='pred':\n",
    "            return (ypred1-ypred0).float()\n",
    "        \n",
    "        loss = self.loss_fn(ypred1-ypred0, y)\n",
    "        self.log(f\"{stage}/loss\", loss)\n",
    "        \n",
    "        m = self.metrics[f'metrics_{stage}']\n",
    "        \n",
    "        y_cls = switch2bool(ypred1-ypred0)\n",
    "        m(y_cls, y>0.)\n",
    "        self.log_dict(m, on_epoch=True, on_step=False)\n",
    "        return loss\n",
    "    \n",
    "    def training_step(self, batch, batch_idx=0, dataloader_idx=0):\n",
    "        return self._step(batch, batch_idx)\n",
    "    \n",
    "    def validation_step(self, batch, batch_idx=0):\n",
    "        return self._step(batch, batch_idx, stage='val')\n",
    "    \n",
    "    def predict_step(self, batch, batch_idx=0, dataloader_idx=0):\n",
    "        return self._step(batch, batch_idx, stage='pred').cpu().detach()\n",
    "    \n",
    "    def test_step(self, batch, batch_idx=0, dataloader_idx=0):\n",
    "        return self._step(batch, batch_idx, stage='test')\n",
    "    \n",
    "    def configure_optimizers(self):\n",
    "        \"\"\"use ranger21 from  https://github.com/kozistr/pytorch_optimizer\"\"\"\n",
    "        optimizer = Ranger21(\n",
    "            self.parameters(),\n",
    "            lr=self.hparams.lr,\n",
    "            weight_decay=self.hparams.weight_decay,       \n",
    "            num_iterations=self.hparams.total_steps,\n",
    "        )\n",
    "        return optimizer\n",
    "    \n",
    "    "
   ]
  },
  {
   "attachments": {},
   "cell_type": "markdown",
   "metadata": {},
   "source": [
    "# Run"
   ]
  },
  {
   "cell_type": "code",
   "execution_count": 84,
   "metadata": {},
   "outputs": [],
   "source": [
    "# quiet please\n",
    "torch.set_float32_matmul_precision('medium')\n",
    "\n",
    "import warnings\n",
    "warnings.filterwarnings(\"ignore\", \".*does not have many workers.*\")\n",
    "warnings.filterwarnings(\"ignore\", \".*F-score.*\")"
   ]
  },
  {
   "attachments": {},
   "cell_type": "markdown",
   "metadata": {},
   "source": [
    "## Prep dataloader/set"
   ]
  },
  {
   "cell_type": "code",
   "execution_count": 85,
   "metadata": {},
   "outputs": [],
   "source": [
    "dl_train = dm.train_dataloader()\n",
    "dl_val = dm.val_dataloader()\n",
    "b = next(iter(dl_train))\n",
    "# b"
   ]
  },
  {
   "cell_type": "code",
   "execution_count": 86,
   "metadata": {},
   "outputs": [
    {
     "name": "stdout",
     "output_type": "stream",
     "text": [
      "torch.Size([128, 6144, 19])\n"
     ]
    },
    {
     "data": {
      "text/plain": [
       "CSS(\n",
       "  (probe): MLPProbe(\n",
       "    (net): Sequential(\n",
       "      (0): BatchNorm1d(6144, eps=1e-05, momentum=0.1, affine=False, track_running_stats=True)\n",
       "      (1): Dropout1d(p=0, inplace=False)\n",
       "      (2): Conv1d(6144, 588, kernel_size=(2,), stride=(1,))\n",
       "      (3): ReLU()\n",
       "      (4): BatchNorm1d(588, eps=1e-05, momentum=0.1, affine=True, track_running_stats=True)\n",
       "      (5): Conv1d(588, 504, kernel_size=(2,), stride=(1,))\n",
       "      (6): ReLU()\n",
       "      (7): BatchNorm1d(504, eps=1e-05, momentum=0.1, affine=True, track_running_stats=True)\n",
       "      (8): Conv1d(504, 420, kernel_size=(2,), stride=(1,))\n",
       "      (9): ReLU()\n",
       "      (10): BatchNorm1d(420, eps=1e-05, momentum=0.1, affine=True, track_running_stats=True)\n",
       "      (11): Conv1d(420, 336, kernel_size=(2,), stride=(1,))\n",
       "      (12): ReLU()\n",
       "      (13): BatchNorm1d(336, eps=1e-05, momentum=0.1, affine=True, track_running_stats=True)\n",
       "      (14): Conv1d(336, 252, kernel_size=(2,), stride=(1,))\n",
       "      (15): ReLU()\n",
       "      (16): BatchNorm1d(252, eps=1e-05, momentum=0.1, affine=True, track_running_stats=True)\n",
       "      (17): Conv1d(252, 168, kernel_size=(2,), stride=(1,))\n",
       "      (18): ReLU()\n",
       "      (19): BatchNorm1d(168, eps=1e-05, momentum=0.1, affine=True, track_running_stats=True)\n",
       "      (20): Conv1d(168, 84, kernel_size=(2,), stride=(1,))\n",
       "      (21): ReLU()\n",
       "      (22): BatchNorm1d(84, eps=1e-05, momentum=0.1, affine=True, track_running_stats=True)\n",
       "      (23): AdaptiveAvgPool1d(output_size=1)\n",
       "    )\n",
       "    (head): Sequential(\n",
       "      (0): Linear(in_features=84, out_features=84, bias=True)\n",
       "      (1): ReLU()\n",
       "      (2): Dropout(p=0, inplace=False)\n",
       "      (3): Linear(in_features=84, out_features=1, bias=True)\n",
       "    )\n",
       "  )\n",
       "  (loss_fn): SmoothL1Loss()\n",
       "  (metrics): ModuleDict(\n",
       "    (metrics_train): MetricCollection(\n",
       "      (acc): BinaryAccuracy()\n",
       "      (auroc): BinaryAUROC(),\n",
       "      prefix=train/\n",
       "    )\n",
       "    (metrics_val): MetricCollection(\n",
       "      (acc): BinaryAccuracy()\n",
       "      (auroc): BinaryAUROC(),\n",
       "      prefix=val/\n",
       "    )\n",
       "    (metrics_test): MetricCollection(\n",
       "      (acc): BinaryAccuracy()\n",
       "      (auroc): BinaryAUROC(),\n",
       "      prefix=test/\n",
       "    )\n",
       "  )\n",
       ")"
      ]
     },
     "execution_count": 86,
     "metadata": {},
     "output_type": "execute_result"
    }
   ],
   "source": [
    "# init the model\n",
    "max_epochs = 42\n",
    "c_in = b[0].shape[1]\n",
    "print(b[0].shape)\n",
    "net = CSS(c_in=c_in, total_steps=max_epochs*len(dl_train), depth=6, hs=42*2, lr=3e-3, \n",
    "        #   weight_decay=1e-4, \n",
    "        #   dropout=0.1,\n",
    "          )\n",
    "net"
   ]
  },
  {
   "cell_type": "code",
   "execution_count": 87,
   "metadata": {},
   "outputs": [
    {
     "data": {
      "text/plain": [
       "(torch.Size([128]), torch.Size([128]))"
      ]
     },
     "execution_count": 87,
     "metadata": {},
     "output_type": "execute_result"
    }
   ],
   "source": [
    "# DEBUG\n",
    "with torch.no_grad():\n",
    "    b = next(iter(dl_train))\n",
    "    b2 = [bb.to(net.device) for bb in b]\n",
    "    y = net(b2[0])\n",
    "y.shape, b[2].shape"
   ]
  },
  {
   "cell_type": "code",
   "execution_count": 88,
   "metadata": {},
   "outputs": [],
   "source": [
    "# # DEBUG\n",
    "# trainer = pl.Trainer(fast_dev_run=2)\n",
    "# trainer.fit(model=net, train_dataloaders=dl_train)"
   ]
  },
  {
   "cell_type": "code",
   "execution_count": 89,
   "metadata": {},
   "outputs": [
    {
     "name": "stderr",
     "output_type": "stream",
     "text": [
      "Using bfloat16 Automatic Mixed Precision (AMP)\n",
      "GPU available: True (cuda), used: True\n",
      "TPU available: False, using: 0 TPU cores\n",
      "IPU available: False, using: 0 IPUs\n",
      "HPU available: False, using: 0 HPUs\n",
      "LOCAL_RANK: 0 - CUDA_VISIBLE_DEVICES: [0]\n",
      "\n",
      "  | Name    | Type         | Params\n",
      "-----------------------------------------\n",
      "0 | probe   | MLPProbe     | 8.8 M \n",
      "1 | loss_fn | SmoothL1Loss | 0     \n",
      "2 | metrics | ModuleDict   | 0     \n",
      "-----------------------------------------\n",
      "8.8 M     Trainable params\n",
      "0         Non-trainable params\n",
      "8.8 M     Total params\n",
      "35.281    Total estimated model params size (MB)\n"
     ]
    },
    {
     "data": {
      "application/vnd.jupyter.widget-view+json": {
       "model_id": "9ccabfd58fcf4a878705cd6dff21c9e2",
       "version_major": 2,
       "version_minor": 0
      },
      "text/plain": [
       "Sanity Checking: 0it [00:00, ?it/s]"
      ]
     },
     "metadata": {},
     "output_type": "display_data"
    },
    {
     "data": {
      "application/vnd.jupyter.widget-view+json": {
       "model_id": "a1dc7fa802e04926bc1cf2bca6650999",
       "version_major": 2,
       "version_minor": 0
      },
      "text/plain": [
       "Training: 0it [00:00, ?it/s]"
      ]
     },
     "metadata": {},
     "output_type": "display_data"
    },
    {
     "data": {
      "application/vnd.jupyter.widget-view+json": {
       "model_id": "f666efbf467142399ba21b60919830ab",
       "version_major": 2,
       "version_minor": 0
      },
      "text/plain": [
       "Validation: 0it [00:00, ?it/s]"
      ]
     },
     "metadata": {},
     "output_type": "display_data"
    },
    {
     "data": {
      "application/vnd.jupyter.widget-view+json": {
       "model_id": "45cd32fd09394b16865a34d2a7c50b11",
       "version_major": 2,
       "version_minor": 0
      },
      "text/plain": [
       "Validation: 0it [00:00, ?it/s]"
      ]
     },
     "metadata": {},
     "output_type": "display_data"
    },
    {
     "data": {
      "application/vnd.jupyter.widget-view+json": {
       "model_id": "f25b8a6507a14ff4b2906055229f1c70",
       "version_major": 2,
       "version_minor": 0
      },
      "text/plain": [
       "Validation: 0it [00:00, ?it/s]"
      ]
     },
     "metadata": {},
     "output_type": "display_data"
    },
    {
     "data": {
      "application/vnd.jupyter.widget-view+json": {
       "model_id": "38d1842e7fc5488ab83b1e379ce97976",
       "version_major": 2,
       "version_minor": 0
      },
      "text/plain": [
       "Validation: 0it [00:00, ?it/s]"
      ]
     },
     "metadata": {},
     "output_type": "display_data"
    },
    {
     "data": {
      "application/vnd.jupyter.widget-view+json": {
       "model_id": "9762c1d364094a90a292cd33b23e4b2c",
       "version_major": 2,
       "version_minor": 0
      },
      "text/plain": [
       "Validation: 0it [00:00, ?it/s]"
      ]
     },
     "metadata": {},
     "output_type": "display_data"
    },
    {
     "data": {
      "application/vnd.jupyter.widget-view+json": {
       "model_id": "57b49b768a2345d7bf61cd435cdba6f5",
       "version_major": 2,
       "version_minor": 0
      },
      "text/plain": [
       "Validation: 0it [00:00, ?it/s]"
      ]
     },
     "metadata": {},
     "output_type": "display_data"
    },
    {
     "data": {
      "application/vnd.jupyter.widget-view+json": {
       "model_id": "ca7eb33be13b403d8fbd9a2702065e23",
       "version_major": 2,
       "version_minor": 0
      },
      "text/plain": [
       "Validation: 0it [00:00, ?it/s]"
      ]
     },
     "metadata": {},
     "output_type": "display_data"
    },
    {
     "data": {
      "application/vnd.jupyter.widget-view+json": {
       "model_id": "4bfa1fafd3e54b4ead38192b39669930",
       "version_major": 2,
       "version_minor": 0
      },
      "text/plain": [
       "Validation: 0it [00:00, ?it/s]"
      ]
     },
     "metadata": {},
     "output_type": "display_data"
    },
    {
     "data": {
      "application/vnd.jupyter.widget-view+json": {
       "model_id": "72906f18ec7f40d98397bbf0a69c7067",
       "version_major": 2,
       "version_minor": 0
      },
      "text/plain": [
       "Validation: 0it [00:00, ?it/s]"
      ]
     },
     "metadata": {},
     "output_type": "display_data"
    },
    {
     "data": {
      "application/vnd.jupyter.widget-view+json": {
       "model_id": "314358c27c5544fbb52db64fb734ab8d",
       "version_major": 2,
       "version_minor": 0
      },
      "text/plain": [
       "Validation: 0it [00:00, ?it/s]"
      ]
     },
     "metadata": {},
     "output_type": "display_data"
    },
    {
     "data": {
      "application/vnd.jupyter.widget-view+json": {
       "model_id": "5940f3ca875045ccb49b9e08951ed6de",
       "version_major": 2,
       "version_minor": 0
      },
      "text/plain": [
       "Validation: 0it [00:00, ?it/s]"
      ]
     },
     "metadata": {},
     "output_type": "display_data"
    },
    {
     "data": {
      "application/vnd.jupyter.widget-view+json": {
       "model_id": "dc9a405a363d410e9a9ab1a0d23bbc17",
       "version_major": 2,
       "version_minor": 0
      },
      "text/plain": [
       "Validation: 0it [00:00, ?it/s]"
      ]
     },
     "metadata": {},
     "output_type": "display_data"
    },
    {
     "data": {
      "application/vnd.jupyter.widget-view+json": {
       "model_id": "b3d3e7f75b5c4f47ae866ef00736311c",
       "version_major": 2,
       "version_minor": 0
      },
      "text/plain": [
       "Validation: 0it [00:00, ?it/s]"
      ]
     },
     "metadata": {},
     "output_type": "display_data"
    },
    {
     "data": {
      "application/vnd.jupyter.widget-view+json": {
       "model_id": "05c4d3cfab1c453e8e96c49c6869829c",
       "version_major": 2,
       "version_minor": 0
      },
      "text/plain": [
       "Validation: 0it [00:00, ?it/s]"
      ]
     },
     "metadata": {},
     "output_type": "display_data"
    },
    {
     "data": {
      "application/vnd.jupyter.widget-view+json": {
       "model_id": "61a09344b20e4f41a10653b9c6dca5e3",
       "version_major": 2,
       "version_minor": 0
      },
      "text/plain": [
       "Validation: 0it [00:00, ?it/s]"
      ]
     },
     "metadata": {},
     "output_type": "display_data"
    },
    {
     "data": {
      "application/vnd.jupyter.widget-view+json": {
       "model_id": "7d84a96ee3984cff9277c1aef002e24a",
       "version_major": 2,
       "version_minor": 0
      },
      "text/plain": [
       "Validation: 0it [00:00, ?it/s]"
      ]
     },
     "metadata": {},
     "output_type": "display_data"
    },
    {
     "data": {
      "application/vnd.jupyter.widget-view+json": {
       "model_id": "70197aabbdc1453cbf4ed2401c788439",
       "version_major": 2,
       "version_minor": 0
      },
      "text/plain": [
       "Validation: 0it [00:00, ?it/s]"
      ]
     },
     "metadata": {},
     "output_type": "display_data"
    },
    {
     "data": {
      "application/vnd.jupyter.widget-view+json": {
       "model_id": "cd090045a0ab4df79c5b546b7bae7c28",
       "version_major": 2,
       "version_minor": 0
      },
      "text/plain": [
       "Validation: 0it [00:00, ?it/s]"
      ]
     },
     "metadata": {},
     "output_type": "display_data"
    },
    {
     "data": {
      "application/vnd.jupyter.widget-view+json": {
       "model_id": "5bd4f1af79ef413d96972d613a0a3319",
       "version_major": 2,
       "version_minor": 0
      },
      "text/plain": [
       "Validation: 0it [00:00, ?it/s]"
      ]
     },
     "metadata": {},
     "output_type": "display_data"
    },
    {
     "data": {
      "application/vnd.jupyter.widget-view+json": {
       "model_id": "4d9cea73296c4022852de3efec67a95f",
       "version_major": 2,
       "version_minor": 0
      },
      "text/plain": [
       "Validation: 0it [00:00, ?it/s]"
      ]
     },
     "metadata": {},
     "output_type": "display_data"
    },
    {
     "data": {
      "application/vnd.jupyter.widget-view+json": {
       "model_id": "bae46179b6ee4499a835571bbbffb2ba",
       "version_major": 2,
       "version_minor": 0
      },
      "text/plain": [
       "Validation: 0it [00:00, ?it/s]"
      ]
     },
     "metadata": {},
     "output_type": "display_data"
    },
    {
     "data": {
      "application/vnd.jupyter.widget-view+json": {
       "model_id": "777f3d0af65a4199b53d17404151c76e",
       "version_major": 2,
       "version_minor": 0
      },
      "text/plain": [
       "Validation: 0it [00:00, ?it/s]"
      ]
     },
     "metadata": {},
     "output_type": "display_data"
    },
    {
     "data": {
      "application/vnd.jupyter.widget-view+json": {
       "model_id": "8f370ecd0b334d90b5529e265f81bf52",
       "version_major": 2,
       "version_minor": 0
      },
      "text/plain": [
       "Validation: 0it [00:00, ?it/s]"
      ]
     },
     "metadata": {},
     "output_type": "display_data"
    },
    {
     "data": {
      "application/vnd.jupyter.widget-view+json": {
       "model_id": "498afb681434468ca485ed54ba0c4101",
       "version_major": 2,
       "version_minor": 0
      },
      "text/plain": [
       "Validation: 0it [00:00, ?it/s]"
      ]
     },
     "metadata": {},
     "output_type": "display_data"
    },
    {
     "data": {
      "application/vnd.jupyter.widget-view+json": {
       "model_id": "288a07a60f4d4caf930ab395fed631e2",
       "version_major": 2,
       "version_minor": 0
      },
      "text/plain": [
       "Validation: 0it [00:00, ?it/s]"
      ]
     },
     "metadata": {},
     "output_type": "display_data"
    },
    {
     "data": {
      "application/vnd.jupyter.widget-view+json": {
       "model_id": "95db96047f2e480b99053a241eead640",
       "version_major": 2,
       "version_minor": 0
      },
      "text/plain": [
       "Validation: 0it [00:00, ?it/s]"
      ]
     },
     "metadata": {},
     "output_type": "display_data"
    },
    {
     "data": {
      "application/vnd.jupyter.widget-view+json": {
       "model_id": "8461f646664e4b0190322c3604ecf22d",
       "version_major": 2,
       "version_minor": 0
      },
      "text/plain": [
       "Validation: 0it [00:00, ?it/s]"
      ]
     },
     "metadata": {},
     "output_type": "display_data"
    },
    {
     "data": {
      "application/vnd.jupyter.widget-view+json": {
       "model_id": "78eb91078f2747c58eecda7370d3247c",
       "version_major": 2,
       "version_minor": 0
      },
      "text/plain": [
       "Validation: 0it [00:00, ?it/s]"
      ]
     },
     "metadata": {},
     "output_type": "display_data"
    },
    {
     "data": {
      "application/vnd.jupyter.widget-view+json": {
       "model_id": "c163b9fee2854d66aa03a8e20625d179",
       "version_major": 2,
       "version_minor": 0
      },
      "text/plain": [
       "Validation: 0it [00:00, ?it/s]"
      ]
     },
     "metadata": {},
     "output_type": "display_data"
    },
    {
     "data": {
      "application/vnd.jupyter.widget-view+json": {
       "model_id": "1ed085f667024a88817b740399028d11",
       "version_major": 2,
       "version_minor": 0
      },
      "text/plain": [
       "Validation: 0it [00:00, ?it/s]"
      ]
     },
     "metadata": {},
     "output_type": "display_data"
    },
    {
     "data": {
      "application/vnd.jupyter.widget-view+json": {
       "model_id": "03288170fe7f4bb4b3b87a0c9eee3e99",
       "version_major": 2,
       "version_minor": 0
      },
      "text/plain": [
       "Validation: 0it [00:00, ?it/s]"
      ]
     },
     "metadata": {},
     "output_type": "display_data"
    },
    {
     "data": {
      "application/vnd.jupyter.widget-view+json": {
       "model_id": "e6b1f3e4e3de40dabaf8f23d63f9619b",
       "version_major": 2,
       "version_minor": 0
      },
      "text/plain": [
       "Validation: 0it [00:00, ?it/s]"
      ]
     },
     "metadata": {},
     "output_type": "display_data"
    },
    {
     "data": {
      "application/vnd.jupyter.widget-view+json": {
       "model_id": "6b79eee8e21e402db387a0231f55c6ca",
       "version_major": 2,
       "version_minor": 0
      },
      "text/plain": [
       "Validation: 0it [00:00, ?it/s]"
      ]
     },
     "metadata": {},
     "output_type": "display_data"
    },
    {
     "data": {
      "application/vnd.jupyter.widget-view+json": {
       "model_id": "00b270e125264bdea6ec2063a4a0200d",
       "version_major": 2,
       "version_minor": 0
      },
      "text/plain": [
       "Validation: 0it [00:00, ?it/s]"
      ]
     },
     "metadata": {},
     "output_type": "display_data"
    },
    {
     "data": {
      "application/vnd.jupyter.widget-view+json": {
       "model_id": "5e8401c24a3e4812ae5e3b11da2444f4",
       "version_major": 2,
       "version_minor": 0
      },
      "text/plain": [
       "Validation: 0it [00:00, ?it/s]"
      ]
     },
     "metadata": {},
     "output_type": "display_data"
    },
    {
     "data": {
      "application/vnd.jupyter.widget-view+json": {
       "model_id": "2986cfab761347669ebef1e8fd4fb9de",
       "version_major": 2,
       "version_minor": 0
      },
      "text/plain": [
       "Validation: 0it [00:00, ?it/s]"
      ]
     },
     "metadata": {},
     "output_type": "display_data"
    },
    {
     "data": {
      "application/vnd.jupyter.widget-view+json": {
       "model_id": "a31a278648fb493982adb9c37de03eac",
       "version_major": 2,
       "version_minor": 0
      },
      "text/plain": [
       "Validation: 0it [00:00, ?it/s]"
      ]
     },
     "metadata": {},
     "output_type": "display_data"
    },
    {
     "data": {
      "application/vnd.jupyter.widget-view+json": {
       "model_id": "89bbae1934574a9cb49bc2418d67fb30",
       "version_major": 2,
       "version_minor": 0
      },
      "text/plain": [
       "Validation: 0it [00:00, ?it/s]"
      ]
     },
     "metadata": {},
     "output_type": "display_data"
    },
    {
     "data": {
      "application/vnd.jupyter.widget-view+json": {
       "model_id": "d5ff1de26ca54edc893b423a2eeff0d5",
       "version_major": 2,
       "version_minor": 0
      },
      "text/plain": [
       "Validation: 0it [00:00, ?it/s]"
      ]
     },
     "metadata": {},
     "output_type": "display_data"
    },
    {
     "data": {
      "application/vnd.jupyter.widget-view+json": {
       "model_id": "b03baafd29ef4ac39d2dfc350d6dfedd",
       "version_major": 2,
       "version_minor": 0
      },
      "text/plain": [
       "Validation: 0it [00:00, ?it/s]"
      ]
     },
     "metadata": {},
     "output_type": "display_data"
    },
    {
     "data": {
      "application/vnd.jupyter.widget-view+json": {
       "model_id": "737444982e6842ff9a253efa741f8f4b",
       "version_major": 2,
       "version_minor": 0
      },
      "text/plain": [
       "Validation: 0it [00:00, ?it/s]"
      ]
     },
     "metadata": {},
     "output_type": "display_data"
    },
    {
     "data": {
      "application/vnd.jupyter.widget-view+json": {
       "model_id": "47c5611332964b468a35fc92e9fa509d",
       "version_major": 2,
       "version_minor": 0
      },
      "text/plain": [
       "Validation: 0it [00:00, ?it/s]"
      ]
     },
     "metadata": {},
     "output_type": "display_data"
    },
    {
     "name": "stderr",
     "output_type": "stream",
     "text": [
      "`Trainer.fit` stopped: `max_epochs=42` reached.\n"
     ]
    }
   ],
   "source": [
    "trainer = pl.Trainer(precision=\"bf16-mixed\",\n",
    "                     \n",
    "                     gradient_clip_val=20,\n",
    "                     max_epochs=max_epochs, log_every_n_steps=5)\n",
    "trainer.fit(model=net, train_dataloaders=dl_train, val_dataloaders=dl_val)"
   ]
  },
  {
   "attachments": {},
   "cell_type": "markdown",
   "metadata": {},
   "source": [
    "# Read hist"
   ]
  },
  {
   "cell_type": "code",
   "execution_count": 90,
   "metadata": {},
   "outputs": [
    {
     "data": {
      "text/html": [
       "<div>\n",
       "<style scoped>\n",
       "    .dataframe tbody tr th:only-of-type {\n",
       "        vertical-align: middle;\n",
       "    }\n",
       "\n",
       "    .dataframe tbody tr th {\n",
       "        vertical-align: top;\n",
       "    }\n",
       "\n",
       "    .dataframe thead th {\n",
       "        text-align: right;\n",
       "    }\n",
       "</style>\n",
       "<table border=\"1\" class=\"dataframe\">\n",
       "  <thead>\n",
       "    <tr style=\"text-align: right;\">\n",
       "      <th></th>\n",
       "      <th>train/loss</th>\n",
       "      <th>step</th>\n",
       "      <th>val/loss</th>\n",
       "      <th>val/acc</th>\n",
       "      <th>val/auroc</th>\n",
       "      <th>train/acc</th>\n",
       "      <th>train/auroc</th>\n",
       "    </tr>\n",
       "    <tr>\n",
       "      <th>epoch</th>\n",
       "      <th></th>\n",
       "      <th></th>\n",
       "      <th></th>\n",
       "      <th></th>\n",
       "      <th></th>\n",
       "      <th></th>\n",
       "      <th></th>\n",
       "    </tr>\n",
       "  </thead>\n",
       "  <tbody>\n",
       "    <tr>\n",
       "      <th>0</th>\n",
       "      <td>0.026391</td>\n",
       "      <td>32.846154</td>\n",
       "      <td>0.018544</td>\n",
       "      <td>0.757812</td>\n",
       "      <td>0.841727</td>\n",
       "      <td>0.616761</td>\n",
       "      <td>0.673646</td>\n",
       "    </tr>\n",
       "    <tr>\n",
       "      <th>1</th>\n",
       "      <td>0.017188</td>\n",
       "      <td>87.846154</td>\n",
       "      <td>0.013567</td>\n",
       "      <td>0.853299</td>\n",
       "      <td>0.928400</td>\n",
       "      <td>0.802131</td>\n",
       "      <td>0.885745</td>\n",
       "    </tr>\n",
       "    <tr>\n",
       "      <th>2</th>\n",
       "      <td>0.014117</td>\n",
       "      <td>142.846154</td>\n",
       "      <td>0.015562</td>\n",
       "      <td>0.866319</td>\n",
       "      <td>0.902572</td>\n",
       "      <td>0.841051</td>\n",
       "      <td>0.909347</td>\n",
       "    </tr>\n",
       "    <tr>\n",
       "      <th>3</th>\n",
       "      <td>0.012864</td>\n",
       "      <td>197.846154</td>\n",
       "      <td>0.011800</td>\n",
       "      <td>0.884259</td>\n",
       "      <td>0.947917</td>\n",
       "      <td>0.861932</td>\n",
       "      <td>0.922992</td>\n",
       "    </tr>\n",
       "    <tr>\n",
       "      <th>4</th>\n",
       "      <td>0.010313</td>\n",
       "      <td>252.846154</td>\n",
       "      <td>0.017494</td>\n",
       "      <td>0.810185</td>\n",
       "      <td>0.858027</td>\n",
       "      <td>0.884233</td>\n",
       "      <td>0.933424</td>\n",
       "    </tr>\n",
       "    <tr>\n",
       "      <th>5</th>\n",
       "      <td>0.009783</td>\n",
       "      <td>307.846154</td>\n",
       "      <td>0.012117</td>\n",
       "      <td>0.892072</td>\n",
       "      <td>0.947159</td>\n",
       "      <td>0.891761</td>\n",
       "      <td>0.940150</td>\n",
       "    </tr>\n",
       "    <tr>\n",
       "      <th>6</th>\n",
       "      <td>0.008313</td>\n",
       "      <td>362.846154</td>\n",
       "      <td>0.013329</td>\n",
       "      <td>0.856771</td>\n",
       "      <td>0.920588</td>\n",
       "      <td>0.922443</td>\n",
       "      <td>0.972182</td>\n",
       "    </tr>\n",
       "    <tr>\n",
       "      <th>7</th>\n",
       "      <td>0.007790</td>\n",
       "      <td>417.846154</td>\n",
       "      <td>0.011072</td>\n",
       "      <td>0.903935</td>\n",
       "      <td>0.958935</td>\n",
       "      <td>0.934943</td>\n",
       "      <td>0.977583</td>\n",
       "    </tr>\n",
       "    <tr>\n",
       "      <th>8</th>\n",
       "      <td>0.005486</td>\n",
       "      <td>472.846154</td>\n",
       "      <td>0.010870</td>\n",
       "      <td>0.893229</td>\n",
       "      <td>0.948973</td>\n",
       "      <td>0.944176</td>\n",
       "      <td>0.985607</td>\n",
       "    </tr>\n",
       "    <tr>\n",
       "      <th>9</th>\n",
       "      <td>0.006505</td>\n",
       "      <td>527.846154</td>\n",
       "      <td>0.011024</td>\n",
       "      <td>0.886863</td>\n",
       "      <td>0.944108</td>\n",
       "      <td>0.942045</td>\n",
       "      <td>0.969043</td>\n",
       "    </tr>\n",
       "    <tr>\n",
       "      <th>10</th>\n",
       "      <td>0.004647</td>\n",
       "      <td>582.846154</td>\n",
       "      <td>0.010079</td>\n",
       "      <td>0.893519</td>\n",
       "      <td>0.949345</td>\n",
       "      <td>0.945312</td>\n",
       "      <td>0.970323</td>\n",
       "    </tr>\n",
       "    <tr>\n",
       "      <th>11</th>\n",
       "      <td>0.004105</td>\n",
       "      <td>637.846154</td>\n",
       "      <td>0.010591</td>\n",
       "      <td>0.881944</td>\n",
       "      <td>0.945852</td>\n",
       "      <td>0.959659</td>\n",
       "      <td>0.983754</td>\n",
       "    </tr>\n",
       "    <tr>\n",
       "      <th>12</th>\n",
       "      <td>0.003549</td>\n",
       "      <td>692.846154</td>\n",
       "      <td>0.010240</td>\n",
       "      <td>0.894097</td>\n",
       "      <td>0.947055</td>\n",
       "      <td>0.968040</td>\n",
       "      <td>0.993958</td>\n",
       "    </tr>\n",
       "    <tr>\n",
       "      <th>13</th>\n",
       "      <td>0.003067</td>\n",
       "      <td>747.846154</td>\n",
       "      <td>0.009771</td>\n",
       "      <td>0.904514</td>\n",
       "      <td>0.955114</td>\n",
       "      <td>0.964489</td>\n",
       "      <td>0.979680</td>\n",
       "    </tr>\n",
       "    <tr>\n",
       "      <th>14</th>\n",
       "      <td>0.002963</td>\n",
       "      <td>802.846154</td>\n",
       "      <td>0.009789</td>\n",
       "      <td>0.907118</td>\n",
       "      <td>0.954646</td>\n",
       "      <td>0.986364</td>\n",
       "      <td>0.998594</td>\n",
       "    </tr>\n",
       "    <tr>\n",
       "      <th>15</th>\n",
       "      <td>0.002539</td>\n",
       "      <td>857.846154</td>\n",
       "      <td>0.010085</td>\n",
       "      <td>0.895833</td>\n",
       "      <td>0.952111</td>\n",
       "      <td>0.988068</td>\n",
       "      <td>0.998582</td>\n",
       "    </tr>\n",
       "    <tr>\n",
       "      <th>16</th>\n",
       "      <td>0.002360</td>\n",
       "      <td>912.846154</td>\n",
       "      <td>0.009340</td>\n",
       "      <td>0.900174</td>\n",
       "      <td>0.952393</td>\n",
       "      <td>0.989915</td>\n",
       "      <td>0.999138</td>\n",
       "    </tr>\n",
       "    <tr>\n",
       "      <th>17</th>\n",
       "      <td>0.002053</td>\n",
       "      <td>967.846154</td>\n",
       "      <td>0.009893</td>\n",
       "      <td>0.894387</td>\n",
       "      <td>0.946526</td>\n",
       "      <td>0.983949</td>\n",
       "      <td>0.991446</td>\n",
       "    </tr>\n",
       "    <tr>\n",
       "      <th>18</th>\n",
       "      <td>0.001943</td>\n",
       "      <td>1022.846154</td>\n",
       "      <td>0.009417</td>\n",
       "      <td>0.899306</td>\n",
       "      <td>0.951185</td>\n",
       "      <td>0.993040</td>\n",
       "      <td>0.999553</td>\n",
       "    </tr>\n",
       "    <tr>\n",
       "      <th>19</th>\n",
       "      <td>0.001896</td>\n",
       "      <td>1077.846154</td>\n",
       "      <td>0.009688</td>\n",
       "      <td>0.895255</td>\n",
       "      <td>0.951149</td>\n",
       "      <td>0.995881</td>\n",
       "      <td>0.999906</td>\n",
       "    </tr>\n",
       "    <tr>\n",
       "      <th>20</th>\n",
       "      <td>0.001932</td>\n",
       "      <td>1132.846154</td>\n",
       "      <td>0.009442</td>\n",
       "      <td>0.899884</td>\n",
       "      <td>0.954692</td>\n",
       "      <td>0.996591</td>\n",
       "      <td>0.999816</td>\n",
       "    </tr>\n",
       "    <tr>\n",
       "      <th>21</th>\n",
       "      <td>0.001717</td>\n",
       "      <td>1187.846154</td>\n",
       "      <td>0.009391</td>\n",
       "      <td>0.894965</td>\n",
       "      <td>0.949079</td>\n",
       "      <td>0.995739</td>\n",
       "      <td>0.999807</td>\n",
       "    </tr>\n",
       "    <tr>\n",
       "      <th>22</th>\n",
       "      <td>0.001542</td>\n",
       "      <td>1242.846154</td>\n",
       "      <td>0.011357</td>\n",
       "      <td>0.875289</td>\n",
       "      <td>0.930886</td>\n",
       "      <td>0.996591</td>\n",
       "      <td>0.999921</td>\n",
       "    </tr>\n",
       "    <tr>\n",
       "      <th>23</th>\n",
       "      <td>0.001473</td>\n",
       "      <td>1297.846154</td>\n",
       "      <td>0.009608</td>\n",
       "      <td>0.894965</td>\n",
       "      <td>0.947652</td>\n",
       "      <td>0.995597</td>\n",
       "      <td>0.999913</td>\n",
       "    </tr>\n",
       "    <tr>\n",
       "      <th>24</th>\n",
       "      <td>0.001253</td>\n",
       "      <td>1352.846154</td>\n",
       "      <td>0.009593</td>\n",
       "      <td>0.900463</td>\n",
       "      <td>0.952368</td>\n",
       "      <td>0.995739</td>\n",
       "      <td>0.999876</td>\n",
       "    </tr>\n",
       "    <tr>\n",
       "      <th>25</th>\n",
       "      <td>0.001367</td>\n",
       "      <td>1407.846154</td>\n",
       "      <td>0.009622</td>\n",
       "      <td>0.894387</td>\n",
       "      <td>0.949866</td>\n",
       "      <td>0.997585</td>\n",
       "      <td>0.999966</td>\n",
       "    </tr>\n",
       "    <tr>\n",
       "      <th>26</th>\n",
       "      <td>0.001215</td>\n",
       "      <td>1462.846154</td>\n",
       "      <td>0.009102</td>\n",
       "      <td>0.903067</td>\n",
       "      <td>0.954927</td>\n",
       "      <td>0.998295</td>\n",
       "      <td>0.999985</td>\n",
       "    </tr>\n",
       "    <tr>\n",
       "      <th>27</th>\n",
       "      <td>0.001051</td>\n",
       "      <td>1517.846154</td>\n",
       "      <td>0.010148</td>\n",
       "      <td>0.899306</td>\n",
       "      <td>0.953947</td>\n",
       "      <td>0.993892</td>\n",
       "      <td>0.999237</td>\n",
       "    </tr>\n",
       "    <tr>\n",
       "      <th>28</th>\n",
       "      <td>0.001223</td>\n",
       "      <td>1572.846154</td>\n",
       "      <td>0.009452</td>\n",
       "      <td>0.894097</td>\n",
       "      <td>0.951233</td>\n",
       "      <td>0.998438</td>\n",
       "      <td>0.999945</td>\n",
       "    </tr>\n",
       "    <tr>\n",
       "      <th>29</th>\n",
       "      <td>0.000996</td>\n",
       "      <td>1627.846154</td>\n",
       "      <td>0.009324</td>\n",
       "      <td>0.904803</td>\n",
       "      <td>0.955765</td>\n",
       "      <td>0.997727</td>\n",
       "      <td>0.999975</td>\n",
       "    </tr>\n",
       "    <tr>\n",
       "      <th>30</th>\n",
       "      <td>0.001014</td>\n",
       "      <td>1682.846154</td>\n",
       "      <td>0.009258</td>\n",
       "      <td>0.895833</td>\n",
       "      <td>0.952279</td>\n",
       "      <td>0.999432</td>\n",
       "      <td>0.999991</td>\n",
       "    </tr>\n",
       "    <tr>\n",
       "      <th>31</th>\n",
       "      <td>0.000900</td>\n",
       "      <td>1737.846154</td>\n",
       "      <td>0.008894</td>\n",
       "      <td>0.908275</td>\n",
       "      <td>0.956525</td>\n",
       "      <td>0.999006</td>\n",
       "      <td>0.999998</td>\n",
       "    </tr>\n",
       "    <tr>\n",
       "      <th>32</th>\n",
       "      <td>0.000771</td>\n",
       "      <td>1792.846154</td>\n",
       "      <td>0.009001</td>\n",
       "      <td>0.904514</td>\n",
       "      <td>0.954942</td>\n",
       "      <td>0.999574</td>\n",
       "      <td>1.000000</td>\n",
       "    </tr>\n",
       "    <tr>\n",
       "      <th>33</th>\n",
       "      <td>0.000779</td>\n",
       "      <td>1847.846154</td>\n",
       "      <td>0.008941</td>\n",
       "      <td>0.904514</td>\n",
       "      <td>0.954607</td>\n",
       "      <td>0.999432</td>\n",
       "      <td>0.999999</td>\n",
       "    </tr>\n",
       "    <tr>\n",
       "      <th>34</th>\n",
       "      <td>0.000580</td>\n",
       "      <td>1902.846154</td>\n",
       "      <td>0.009091</td>\n",
       "      <td>0.903067</td>\n",
       "      <td>0.954470</td>\n",
       "      <td>0.999432</td>\n",
       "      <td>0.999999</td>\n",
       "    </tr>\n",
       "    <tr>\n",
       "      <th>35</th>\n",
       "      <td>0.000439</td>\n",
       "      <td>1957.846154</td>\n",
       "      <td>0.008970</td>\n",
       "      <td>0.905671</td>\n",
       "      <td>0.957213</td>\n",
       "      <td>0.999858</td>\n",
       "      <td>0.999999</td>\n",
       "    </tr>\n",
       "    <tr>\n",
       "      <th>36</th>\n",
       "      <td>0.000363</td>\n",
       "      <td>2012.846154</td>\n",
       "      <td>0.008899</td>\n",
       "      <td>0.904225</td>\n",
       "      <td>0.954885</td>\n",
       "      <td>1.000000</td>\n",
       "      <td>1.000000</td>\n",
       "    </tr>\n",
       "    <tr>\n",
       "      <th>37</th>\n",
       "      <td>0.000424</td>\n",
       "      <td>2067.846154</td>\n",
       "      <td>0.009069</td>\n",
       "      <td>0.904514</td>\n",
       "      <td>0.954585</td>\n",
       "      <td>0.999858</td>\n",
       "      <td>1.000000</td>\n",
       "    </tr>\n",
       "    <tr>\n",
       "      <th>38</th>\n",
       "      <td>0.000321</td>\n",
       "      <td>2122.846154</td>\n",
       "      <td>0.008928</td>\n",
       "      <td>0.903356</td>\n",
       "      <td>0.955276</td>\n",
       "      <td>1.000000</td>\n",
       "      <td>1.000000</td>\n",
       "    </tr>\n",
       "    <tr>\n",
       "      <th>39</th>\n",
       "      <td>0.000232</td>\n",
       "      <td>2177.846154</td>\n",
       "      <td>0.008918</td>\n",
       "      <td>0.905382</td>\n",
       "      <td>0.955412</td>\n",
       "      <td>0.999858</td>\n",
       "      <td>1.000000</td>\n",
       "    </tr>\n",
       "    <tr>\n",
       "      <th>40</th>\n",
       "      <td>0.000253</td>\n",
       "      <td>2232.846154</td>\n",
       "      <td>0.008833</td>\n",
       "      <td>0.906829</td>\n",
       "      <td>0.956316</td>\n",
       "      <td>1.000000</td>\n",
       "      <td>1.000000</td>\n",
       "    </tr>\n",
       "    <tr>\n",
       "      <th>41</th>\n",
       "      <td>0.000253</td>\n",
       "      <td>2287.846154</td>\n",
       "      <td>0.008886</td>\n",
       "      <td>0.905093</td>\n",
       "      <td>0.955503</td>\n",
       "      <td>1.000000</td>\n",
       "      <td>1.000000</td>\n",
       "    </tr>\n",
       "  </tbody>\n",
       "</table>\n",
       "</div>"
      ],
      "text/plain": [
       "       train/loss         step  val/loss   val/acc  val/auroc  train/acc   \n",
       "epoch                                                                      \n",
       "0        0.026391    32.846154  0.018544  0.757812   0.841727   0.616761  \\\n",
       "1        0.017188    87.846154  0.013567  0.853299   0.928400   0.802131   \n",
       "2        0.014117   142.846154  0.015562  0.866319   0.902572   0.841051   \n",
       "3        0.012864   197.846154  0.011800  0.884259   0.947917   0.861932   \n",
       "4        0.010313   252.846154  0.017494  0.810185   0.858027   0.884233   \n",
       "5        0.009783   307.846154  0.012117  0.892072   0.947159   0.891761   \n",
       "6        0.008313   362.846154  0.013329  0.856771   0.920588   0.922443   \n",
       "7        0.007790   417.846154  0.011072  0.903935   0.958935   0.934943   \n",
       "8        0.005486   472.846154  0.010870  0.893229   0.948973   0.944176   \n",
       "9        0.006505   527.846154  0.011024  0.886863   0.944108   0.942045   \n",
       "10       0.004647   582.846154  0.010079  0.893519   0.949345   0.945312   \n",
       "11       0.004105   637.846154  0.010591  0.881944   0.945852   0.959659   \n",
       "12       0.003549   692.846154  0.010240  0.894097   0.947055   0.968040   \n",
       "13       0.003067   747.846154  0.009771  0.904514   0.955114   0.964489   \n",
       "14       0.002963   802.846154  0.009789  0.907118   0.954646   0.986364   \n",
       "15       0.002539   857.846154  0.010085  0.895833   0.952111   0.988068   \n",
       "16       0.002360   912.846154  0.009340  0.900174   0.952393   0.989915   \n",
       "17       0.002053   967.846154  0.009893  0.894387   0.946526   0.983949   \n",
       "18       0.001943  1022.846154  0.009417  0.899306   0.951185   0.993040   \n",
       "19       0.001896  1077.846154  0.009688  0.895255   0.951149   0.995881   \n",
       "20       0.001932  1132.846154  0.009442  0.899884   0.954692   0.996591   \n",
       "21       0.001717  1187.846154  0.009391  0.894965   0.949079   0.995739   \n",
       "22       0.001542  1242.846154  0.011357  0.875289   0.930886   0.996591   \n",
       "23       0.001473  1297.846154  0.009608  0.894965   0.947652   0.995597   \n",
       "24       0.001253  1352.846154  0.009593  0.900463   0.952368   0.995739   \n",
       "25       0.001367  1407.846154  0.009622  0.894387   0.949866   0.997585   \n",
       "26       0.001215  1462.846154  0.009102  0.903067   0.954927   0.998295   \n",
       "27       0.001051  1517.846154  0.010148  0.899306   0.953947   0.993892   \n",
       "28       0.001223  1572.846154  0.009452  0.894097   0.951233   0.998438   \n",
       "29       0.000996  1627.846154  0.009324  0.904803   0.955765   0.997727   \n",
       "30       0.001014  1682.846154  0.009258  0.895833   0.952279   0.999432   \n",
       "31       0.000900  1737.846154  0.008894  0.908275   0.956525   0.999006   \n",
       "32       0.000771  1792.846154  0.009001  0.904514   0.954942   0.999574   \n",
       "33       0.000779  1847.846154  0.008941  0.904514   0.954607   0.999432   \n",
       "34       0.000580  1902.846154  0.009091  0.903067   0.954470   0.999432   \n",
       "35       0.000439  1957.846154  0.008970  0.905671   0.957213   0.999858   \n",
       "36       0.000363  2012.846154  0.008899  0.904225   0.954885   1.000000   \n",
       "37       0.000424  2067.846154  0.009069  0.904514   0.954585   0.999858   \n",
       "38       0.000321  2122.846154  0.008928  0.903356   0.955276   1.000000   \n",
       "39       0.000232  2177.846154  0.008918  0.905382   0.955412   0.999858   \n",
       "40       0.000253  2232.846154  0.008833  0.906829   0.956316   1.000000   \n",
       "41       0.000253  2287.846154  0.008886  0.905093   0.955503   1.000000   \n",
       "\n",
       "       train/auroc  \n",
       "epoch               \n",
       "0         0.673646  \n",
       "1         0.885745  \n",
       "2         0.909347  \n",
       "3         0.922992  \n",
       "4         0.933424  \n",
       "5         0.940150  \n",
       "6         0.972182  \n",
       "7         0.977583  \n",
       "8         0.985607  \n",
       "9         0.969043  \n",
       "10        0.970323  \n",
       "11        0.983754  \n",
       "12        0.993958  \n",
       "13        0.979680  \n",
       "14        0.998594  \n",
       "15        0.998582  \n",
       "16        0.999138  \n",
       "17        0.991446  \n",
       "18        0.999553  \n",
       "19        0.999906  \n",
       "20        0.999816  \n",
       "21        0.999807  \n",
       "22        0.999921  \n",
       "23        0.999913  \n",
       "24        0.999876  \n",
       "25        0.999966  \n",
       "26        0.999985  \n",
       "27        0.999237  \n",
       "28        0.999945  \n",
       "29        0.999975  \n",
       "30        0.999991  \n",
       "31        0.999998  \n",
       "32        1.000000  \n",
       "33        0.999999  \n",
       "34        0.999999  \n",
       "35        0.999999  \n",
       "36        1.000000  \n",
       "37        1.000000  \n",
       "38        1.000000  \n",
       "39        1.000000  \n",
       "40        1.000000  \n",
       "41        1.000000  "
      ]
     },
     "execution_count": 90,
     "metadata": {},
     "output_type": "execute_result"
    }
   ],
   "source": [
    "# import pytorch_lightning as pl\n",
    "from lightning.pytorch.loggers.csv_logs import CSVLogger\n",
    "from pathlib import Path\n",
    "import pandas as pd\n",
    "\n",
    "def read_metrics_csv(metrics_file_path):\n",
    "    df_hist = pd.read_csv(metrics_file_path)\n",
    "    df_hist[\"epoch\"] = df_hist[\"epoch\"].ffill()\n",
    "    df_histe = df_hist.set_index(\"epoch\").groupby(\"epoch\").mean()\n",
    "    return df_histe\n",
    "        \n",
    "df_hist = read_metrics_csv(trainer.logger.experiment.metrics_file_path).ffill().bfill()\n",
    "df_hist"
   ]
  },
  {
   "cell_type": "code",
   "execution_count": 91,
   "metadata": {},
   "outputs": [
    {
     "data": {
      "image/png": "[encoded data removed]",
      "text/plain": [
       "<Figure size 640x480 with 1 Axes>"
      ]
     },
     "metadata": {},
     "output_type": "display_data"
    }
   ],
   "source": [
    "for key in ['loss']:\n",
    "    df_hist[[c for c in df_hist.columns if key in c]].plot(logy=True)"
   ]
  },
  {
   "cell_type": "code",
   "execution_count": 92,
   "metadata": {},
   "outputs": [
    {
     "data": {
      "image/png": "[encoded data removed]",
      "text/plain": [
       "<Figure size 640x480 with 1 Axes>"
      ]
     },
     "metadata": {},
     "output_type": "display_data"
    },
    {
     "data": {
      "image/png": "[encoded data removed]",
      "text/plain": [
       "<Figure size 640x480 with 1 Axes>"
      ]
     },
     "metadata": {},
     "output_type": "display_data"
    }
   ],
   "source": [
    "for key in ['acc', 'auroc']:\n",
    "    df_hist[[c for c in df_hist.columns if key in c]].plot()"
   ]
  },
  {
   "attachments": {},
   "cell_type": "markdown",
   "metadata": {},
   "source": [
    "## Predict"
   ]
  },
  {
   "cell_type": "code",
   "execution_count": 93,
   "metadata": {},
   "outputs": [
    {
     "name": "stderr",
     "output_type": "stream",
     "text": [
      "LOCAL_RANK: 0 - CUDA_VISIBLE_DEVICES: [0]\n",
      "/home/ubuntu/mambaforge/envs/dlk2/lib/python3.9/site-packages/lightning/pytorch/trainer/connectors/data_connector.py:478: PossibleUserWarning: Your `test_dataloader`'s sampler has shuffling enabled, it is strongly recommended that you turn shuffling off for val/test dataloaders.\n",
      "  rank_zero_warn(\n"
     ]
    },
    {
     "data": {
      "application/vnd.jupyter.widget-view+json": {
       "model_id": "cc0d34808dce44c2b874856e579fc711",
       "version_major": 2,
       "version_minor": 0
      },
      "text/plain": [
       "Testing: 0it [00:00, ?it/s]"
      ]
     },
     "metadata": {},
     "output_type": "display_data"
    },
    {
     "data": {
      "text/html": [
       "<pre style=\"white-space:pre;overflow-x:auto;line-height:normal;font-family:Menlo,'DejaVu Sans Mono',consolas,'Courier New',monospace\">┏━━━━━━━━━━━━━━━━━━━━━━━━━━━┳━━━━━━━━━━━━━━━━━━━━━━━━━━━┳━━━━━━━━━━━━━━━━━━━━━━━━━━━┳━━━━━━━━━━━━━━━━━━━━━━━━━━━┓\n",
       "┃<span style=\"font-weight: bold\">        Test metric        </span>┃<span style=\"font-weight: bold\">       DataLoader 0        </span>┃<span style=\"font-weight: bold\">       DataLoader 1        </span>┃<span style=\"font-weight: bold\">       DataLoader 2        </span>┃\n",
       "┡━━━━━━━━━━━━━━━━━━━━━━━━━━━╇━━━━━━━━━━━━━━━━━━━━━━━━━━━╇━━━━━━━━━━━━━━━━━━━━━━━━━━━╇━━━━━━━━━━━━━━━━━━━━━━━━━━━┩\n",
       "│<span style=\"color: #008080; text-decoration-color: #008080\">         test/acc          </span>│<span style=\"color: #800080; text-decoration-color: #800080\">            1.0            </span>│<span style=\"color: #800080; text-decoration-color: #800080\">          0.96875          </span>│<span style=\"color: #800080; text-decoration-color: #800080\">    0.9543434381484985     </span>│\n",
       "│<span style=\"color: #008080; text-decoration-color: #008080\">        test/auroc         </span>│<span style=\"color: #800080; text-decoration-color: #800080\">            1.0            </span>│<span style=\"color: #800080; text-decoration-color: #800080\">    0.9901264905929565     </span>│<span style=\"color: #800080; text-decoration-color: #800080\">    0.9843764305114746     </span>│\n",
       "│<span style=\"color: #008080; text-decoration-color: #008080\">         test/loss         </span>│<span style=\"color: #800080; text-decoration-color: #800080\">   4.88237856188789e-05    </span>│<span style=\"color: #800080; text-decoration-color: #800080\">   0.008885718882083893    </span>│<span style=\"color: #800080; text-decoration-color: #800080\">   0.008571253158152103    </span>│\n",
       "└───────────────────────────┴───────────────────────────┴───────────────────────────┴───────────────────────────┘\n",
       "</pre>\n"
      ],
      "text/plain": [
       "┏━━━━━━━━━━━━━━━━━━━━━━━━━━━┳━━━━━━━━━━━━━━━━━━━━━━━━━━━┳━━━━━━━━━━━━━━━━━━━━━━━━━━━┳━━━━━━━━━━━━━━━━━━━━━━━━━━━┓\n",
       "┃\u001b[1m \u001b[0m\u001b[1m       Test metric       \u001b[0m\u001b[1m \u001b[0m┃\u001b[1m \u001b[0m\u001b[1m      DataLoader 0       \u001b[0m\u001b[1m \u001b[0m┃\u001b[1m \u001b[0m\u001b[1m      DataLoader 1       \u001b[0m\u001b[1m \u001b[0m┃\u001b[1m \u001b[0m\u001b[1m      DataLoader 2       \u001b[0m\u001b[1m \u001b[0m┃\n",
       "┡━━━━━━━━━━━━━━━━━━━━━━━━━━━╇━━━━━━━━━━━━━━━━━━━━━━━━━━━╇━━━━━━━━━━━━━━━━━━━━━━━━━━━╇━━━━━━━━━━━━━━━━━━━━━━━━━━━┩\n",
       "│\u001b[36m \u001b[0m\u001b[36m        test/acc         \u001b[0m\u001b[36m \u001b[0m│\u001b[35m \u001b[0m\u001b[35m           1.0           \u001b[0m\u001b[35m \u001b[0m│\u001b[35m \u001b[0m\u001b[35m         0.96875         \u001b[0m\u001b[35m \u001b[0m│\u001b[35m \u001b[0m\u001b[35m   0.9543434381484985    \u001b[0m\u001b[35m \u001b[0m│\n",
       "│\u001b[36m \u001b[0m\u001b[36m       test/auroc        \u001b[0m\u001b[36m \u001b[0m│\u001b[35m \u001b[0m\u001b[35m           1.0           \u001b[0m\u001b[35m \u001b[0m│\u001b[35m \u001b[0m\u001b[35m   0.9901264905929565    \u001b[0m\u001b[35m \u001b[0m│\u001b[35m \u001b[0m\u001b[35m   0.9843764305114746    \u001b[0m\u001b[35m \u001b[0m│\n",
       "│\u001b[36m \u001b[0m\u001b[36m        test/loss        \u001b[0m\u001b[36m \u001b[0m│\u001b[35m \u001b[0m\u001b[35m  4.88237856188789e-05   \u001b[0m\u001b[35m \u001b[0m│\u001b[35m \u001b[0m\u001b[35m  0.008885718882083893   \u001b[0m\u001b[35m \u001b[0m│\u001b[35m \u001b[0m\u001b[35m  0.008571253158152103   \u001b[0m\u001b[35m \u001b[0m│\n",
       "└───────────────────────────┴───────────────────────────┴───────────────────────────┴───────────────────────────┘\n"
      ]
     },
     "metadata": {},
     "output_type": "display_data"
    },
    {
     "data": {
      "text/plain": [
       "[{'test/loss/dataloader_idx_0': 4.88237856188789e-05,\n",
       "  'test/acc/dataloader_idx_0': 1.0,\n",
       "  'test/auroc/dataloader_idx_0': 1.0},\n",
       " {'test/loss/dataloader_idx_1': 0.008885718882083893,\n",
       "  'test/acc/dataloader_idx_1': 0.96875,\n",
       "  'test/auroc/dataloader_idx_1': 0.9901264905929565},\n",
       " {'test/loss/dataloader_idx_2': 0.008571253158152103,\n",
       "  'test/acc/dataloader_idx_2': 0.9543434381484985,\n",
       "  'test/auroc/dataloader_idx_2': 0.9843764305114746}]"
      ]
     },
     "execution_count": 93,
     "metadata": {},
     "output_type": "execute_result"
    }
   ],
   "source": [
    "dl_test = dm.test_dataloader()\n",
    "rs = trainer.test(net, dataloaders=[dl_train, dl_val, dl_test])\n",
    "rs"
   ]
  },
  {
   "cell_type": "code",
   "execution_count": 94,
   "metadata": {},
   "outputs": [
    {
     "name": "stderr",
     "output_type": "stream",
     "text": [
      "LOCAL_RANK: 0 - CUDA_VISIBLE_DEVICES: [0]\n"
     ]
    },
    {
     "data": {
      "application/vnd.jupyter.widget-view+json": {
       "model_id": "165f407f407b4d22aba3772717c0af59",
       "version_major": 2,
       "version_minor": 0
      },
      "text/plain": [
       "Predicting: 0it [00:00, ?it/s]"
      ]
     },
     "metadata": {},
     "output_type": "display_data"
    },
    {
     "data": {
      "text/plain": [
       "(3521,)"
      ]
     },
     "execution_count": 94,
     "metadata": {},
     "output_type": "execute_result"
    }
   ],
   "source": [
    "dl_test = dm.test_dataloader()\n",
    "r = trainer.predict(net, dataloaders=dl_test)\n",
    "y_test_pred = np.concatenate(r)\n",
    "y_test_pred.shape"
   ]
  },
  {
   "cell_type": "code",
   "execution_count": 95,
   "metadata": {},
   "outputs": [
    {
     "data": {
      "text/html": [
       "<div>\n",
       "<style scoped>\n",
       "    .dataframe tbody tr th:only-of-type {\n",
       "        vertical-align: middle;\n",
       "    }\n",
       "\n",
       "    .dataframe tbody tr th {\n",
       "        vertical-align: top;\n",
       "    }\n",
       "\n",
       "    .dataframe thead th {\n",
       "        text-align: right;\n",
       "    }\n",
       "</style>\n",
       "<table border=\"1\" class=\"dataframe\">\n",
       "  <thead>\n",
       "    <tr style=\"text-align: right;\">\n",
       "      <th></th>\n",
       "      <th>desired_answer</th>\n",
       "      <th>input</th>\n",
       "      <th>lie</th>\n",
       "      <th>true_answer</th>\n",
       "      <th>version</th>\n",
       "      <th>ans1</th>\n",
       "      <th>ans2</th>\n",
       "      <th>true</th>\n",
       "      <th>index</th>\n",
       "      <th>prob_y</th>\n",
       "      <th>prob_n</th>\n",
       "      <th>version</th>\n",
       "      <th>dir_true</th>\n",
       "      <th>conf</th>\n",
       "      <th>llm_prob</th>\n",
       "      <th>llm_ans</th>\n",
       "      <th>y</th>\n",
       "      <th>probe_pred</th>\n",
       "      <th>probe_prob</th>\n",
       "    </tr>\n",
       "  </thead>\n",
       "  <tbody>\n",
       "    <tr>\n",
       "      <th>10561</th>\n",
       "      <td>False</td>\n",
       "      <td>Review Title: I really like the system.\\n\\nRev...</td>\n",
       "      <td>True</td>\n",
       "      <td>1</td>\n",
       "      <td>lie</td>\n",
       "      <td>0.812012</td>\n",
       "      <td>0.665039</td>\n",
       "      <td>1</td>\n",
       "      <td>2990</td>\n",
       "      <td>0.798340</td>\n",
       "      <td>0.183838</td>\n",
       "      <td>lie</td>\n",
       "      <td>-0.146973</td>\n",
       "      <td>0.146973</td>\n",
       "      <td>0.738525</td>\n",
       "      <td>True</td>\n",
       "      <td>False</td>\n",
       "      <td>False</td>\n",
       "      <td>0.379883</td>\n",
       "    </tr>\n",
       "    <tr>\n",
       "      <th>10562</th>\n",
       "      <td>True</td>\n",
       "      <td>Title: Unwatchable\\n\\nContent: Bad, and not ev...</td>\n",
       "      <td>True</td>\n",
       "      <td>0</td>\n",
       "      <td>lie</td>\n",
       "      <td>0.219727</td>\n",
       "      <td>0.043640</td>\n",
       "      <td>0</td>\n",
       "      <td>5346</td>\n",
       "      <td>0.218140</td>\n",
       "      <td>0.773438</td>\n",
       "      <td>lie</td>\n",
       "      <td>-0.176086</td>\n",
       "      <td>0.176086</td>\n",
       "      <td>0.131683</td>\n",
       "      <td>False</td>\n",
       "      <td>True</td>\n",
       "      <td>True</td>\n",
       "      <td>0.653320</td>\n",
       "    </tr>\n",
       "    <tr>\n",
       "      <th>10563</th>\n",
       "      <td>False</td>\n",
       "      <td>Title: This tire is more than I expected.\\n\\nC...</td>\n",
       "      <td>True</td>\n",
       "      <td>1</td>\n",
       "      <td>lie</td>\n",
       "      <td>0.910156</td>\n",
       "      <td>0.754395</td>\n",
       "      <td>1</td>\n",
       "      <td>1967</td>\n",
       "      <td>0.906738</td>\n",
       "      <td>0.088379</td>\n",
       "      <td>lie</td>\n",
       "      <td>-0.155762</td>\n",
       "      <td>0.155762</td>\n",
       "      <td>0.832275</td>\n",
       "      <td>True</td>\n",
       "      <td>False</td>\n",
       "      <td>False</td>\n",
       "      <td>0.486328</td>\n",
       "    </tr>\n",
       "    <tr>\n",
       "      <th>10564</th>\n",
       "      <td>False</td>\n",
       "      <td>Title: Three in a row\\n\\nContent: Congratulati...</td>\n",
       "      <td>True</td>\n",
       "      <td>1</td>\n",
       "      <td>lie</td>\n",
       "      <td>0.588379</td>\n",
       "      <td>0.787109</td>\n",
       "      <td>1</td>\n",
       "      <td>2345</td>\n",
       "      <td>0.582031</td>\n",
       "      <td>0.406250</td>\n",
       "      <td>lie</td>\n",
       "      <td>0.198730</td>\n",
       "      <td>0.198730</td>\n",
       "      <td>0.687744</td>\n",
       "      <td>True</td>\n",
       "      <td>True</td>\n",
       "      <td>True</td>\n",
       "      <td>0.614746</td>\n",
       "    </tr>\n",
       "    <tr>\n",
       "      <th>10565</th>\n",
       "      <td>True</td>\n",
       "      <td>Review Title: Hardcore Christian Metal\\n\\nRevi...</td>\n",
       "      <td>False</td>\n",
       "      <td>1</td>\n",
       "      <td>truth</td>\n",
       "      <td>0.877441</td>\n",
       "      <td>0.765137</td>\n",
       "      <td>1</td>\n",
       "      <td>164</td>\n",
       "      <td>0.872070</td>\n",
       "      <td>0.120850</td>\n",
       "      <td>truth</td>\n",
       "      <td>-0.112305</td>\n",
       "      <td>0.112305</td>\n",
       "      <td>0.821289</td>\n",
       "      <td>True</td>\n",
       "      <td>False</td>\n",
       "      <td>False</td>\n",
       "      <td>0.477539</td>\n",
       "    </tr>\n",
       "    <tr>\n",
       "      <th>...</th>\n",
       "      <td>...</td>\n",
       "      <td>...</td>\n",
       "      <td>...</td>\n",
       "      <td>...</td>\n",
       "      <td>...</td>\n",
       "      <td>...</td>\n",
       "      <td>...</td>\n",
       "      <td>...</td>\n",
       "      <td>...</td>\n",
       "      <td>...</td>\n",
       "      <td>...</td>\n",
       "      <td>...</td>\n",
       "      <td>...</td>\n",
       "      <td>...</td>\n",
       "      <td>...</td>\n",
       "      <td>...</td>\n",
       "      <td>...</td>\n",
       "      <td>...</td>\n",
       "      <td>...</td>\n",
       "    </tr>\n",
       "    <tr>\n",
       "      <th>14077</th>\n",
       "      <td>False</td>\n",
       "      <td>Title: Halliwell shares an insightful perspect...</td>\n",
       "      <td>True</td>\n",
       "      <td>1</td>\n",
       "      <td>lie</td>\n",
       "      <td>0.584473</td>\n",
       "      <td>0.366211</td>\n",
       "      <td>1</td>\n",
       "      <td>1445</td>\n",
       "      <td>0.581543</td>\n",
       "      <td>0.412354</td>\n",
       "      <td>lie</td>\n",
       "      <td>-0.218262</td>\n",
       "      <td>0.218262</td>\n",
       "      <td>0.475342</td>\n",
       "      <td>False</td>\n",
       "      <td>False</td>\n",
       "      <td>False</td>\n",
       "      <td>0.364258</td>\n",
       "    </tr>\n",
       "    <tr>\n",
       "      <th>14078</th>\n",
       "      <td>True</td>\n",
       "      <td>Title: Riveting\\n\\nContent: The action in this...</td>\n",
       "      <td>False</td>\n",
       "      <td>1</td>\n",
       "      <td>truth</td>\n",
       "      <td>0.688477</td>\n",
       "      <td>0.577148</td>\n",
       "      <td>1</td>\n",
       "      <td>589</td>\n",
       "      <td>0.685547</td>\n",
       "      <td>0.309082</td>\n",
       "      <td>truth</td>\n",
       "      <td>-0.111328</td>\n",
       "      <td>0.111328</td>\n",
       "      <td>0.632812</td>\n",
       "      <td>True</td>\n",
       "      <td>False</td>\n",
       "      <td>False</td>\n",
       "      <td>0.456543</td>\n",
       "    </tr>\n",
       "    <tr>\n",
       "      <th>14079</th>\n",
       "      <td>True</td>\n",
       "      <td>Title: Great ball\\n\\nContent: Great run-around...</td>\n",
       "      <td>False</td>\n",
       "      <td>1</td>\n",
       "      <td>truth</td>\n",
       "      <td>0.322021</td>\n",
       "      <td>0.817871</td>\n",
       "      <td>1</td>\n",
       "      <td>1681</td>\n",
       "      <td>0.315186</td>\n",
       "      <td>0.662109</td>\n",
       "      <td>truth</td>\n",
       "      <td>0.495850</td>\n",
       "      <td>0.495850</td>\n",
       "      <td>0.569946</td>\n",
       "      <td>True</td>\n",
       "      <td>True</td>\n",
       "      <td>True</td>\n",
       "      <td>0.789062</td>\n",
       "    </tr>\n",
       "    <tr>\n",
       "      <th>14080</th>\n",
       "      <td>False</td>\n",
       "      <td>Title: A triumph for music\\n\\nContent: Barry M...</td>\n",
       "      <td>True</td>\n",
       "      <td>1</td>\n",
       "      <td>lie</td>\n",
       "      <td>0.491699</td>\n",
       "      <td>0.779297</td>\n",
       "      <td>1</td>\n",
       "      <td>1757</td>\n",
       "      <td>0.482178</td>\n",
       "      <td>0.497314</td>\n",
       "      <td>lie</td>\n",
       "      <td>0.287598</td>\n",
       "      <td>0.287598</td>\n",
       "      <td>0.635498</td>\n",
       "      <td>True</td>\n",
       "      <td>True</td>\n",
       "      <td>True</td>\n",
       "      <td>0.636719</td>\n",
       "    </tr>\n",
       "    <tr>\n",
       "      <th>14081</th>\n",
       "      <td>False</td>\n",
       "      <td>Review Title: Monotonous, Implausible, Convolu...</td>\n",
       "      <td>False</td>\n",
       "      <td>0</td>\n",
       "      <td>truth</td>\n",
       "      <td>0.035126</td>\n",
       "      <td>0.265625</td>\n",
       "      <td>0</td>\n",
       "      <td>1038</td>\n",
       "      <td>0.034821</td>\n",
       "      <td>0.956055</td>\n",
       "      <td>truth</td>\n",
       "      <td>0.230499</td>\n",
       "      <td>0.230499</td>\n",
       "      <td>0.150375</td>\n",
       "      <td>False</td>\n",
       "      <td>False</td>\n",
       "      <td>False</td>\n",
       "      <td>0.409180</td>\n",
       "    </tr>\n",
       "  </tbody>\n",
       "</table>\n",
       "<p>3521 rows × 19 columns</p>\n",
       "</div>"
      ],
      "text/plain": [
       "       desired_answer                                              input   \n",
       "10561           False  Review Title: I really like the system.\\n\\nRev...  \\\n",
       "10562            True  Title: Unwatchable\\n\\nContent: Bad, and not ev...   \n",
       "10563           False  Title: This tire is more than I expected.\\n\\nC...   \n",
       "10564           False  Title: Three in a row\\n\\nContent: Congratulati...   \n",
       "10565            True  Review Title: Hardcore Christian Metal\\n\\nRevi...   \n",
       "...               ...                                                ...   \n",
       "14077           False  Title: Halliwell shares an insightful perspect...   \n",
       "14078            True  Title: Riveting\\n\\nContent: The action in this...   \n",
       "14079            True  Title: Great ball\\n\\nContent: Great run-around...   \n",
       "14080           False  Title: A triumph for music\\n\\nContent: Barry M...   \n",
       "14081           False  Review Title: Monotonous, Implausible, Convolu...   \n",
       "\n",
       "         lie  true_answer version      ans1      ans2  true  index    prob_y   \n",
       "10561   True            1     lie  0.812012  0.665039     1   2990  0.798340  \\\n",
       "10562   True            0     lie  0.219727  0.043640     0   5346  0.218140   \n",
       "10563   True            1     lie  0.910156  0.754395     1   1967  0.906738   \n",
       "10564   True            1     lie  0.588379  0.787109     1   2345  0.582031   \n",
       "10565  False            1   truth  0.877441  0.765137     1    164  0.872070   \n",
       "...      ...          ...     ...       ...       ...   ...    ...       ...   \n",
       "14077   True            1     lie  0.584473  0.366211     1   1445  0.581543   \n",
       "14078  False            1   truth  0.688477  0.577148     1    589  0.685547   \n",
       "14079  False            1   truth  0.322021  0.817871     1   1681  0.315186   \n",
       "14080   True            1     lie  0.491699  0.779297     1   1757  0.482178   \n",
       "14081  False            0   truth  0.035126  0.265625     0   1038  0.034821   \n",
       "\n",
       "         prob_n version  dir_true      conf  llm_prob  llm_ans      y   \n",
       "10561  0.183838     lie -0.146973  0.146973  0.738525     True  False  \\\n",
       "10562  0.773438     lie -0.176086  0.176086  0.131683    False   True   \n",
       "10563  0.088379     lie -0.155762  0.155762  0.832275     True  False   \n",
       "10564  0.406250     lie  0.198730  0.198730  0.687744     True   True   \n",
       "10565  0.120850   truth -0.112305  0.112305  0.821289     True  False   \n",
       "...         ...     ...       ...       ...       ...      ...    ...   \n",
       "14077  0.412354     lie -0.218262  0.218262  0.475342    False  False   \n",
       "14078  0.309082   truth -0.111328  0.111328  0.632812     True  False   \n",
       "14079  0.662109   truth  0.495850  0.495850  0.569946     True   True   \n",
       "14080  0.497314     lie  0.287598  0.287598  0.635498     True   True   \n",
       "14081  0.956055   truth  0.230499  0.230499  0.150375    False  False   \n",
       "\n",
       "       probe_pred  probe_prob  \n",
       "10561       False    0.379883  \n",
       "10562        True    0.653320  \n",
       "10563       False    0.486328  \n",
       "10564        True    0.614746  \n",
       "10565       False    0.477539  \n",
       "...           ...         ...  \n",
       "14077       False    0.364258  \n",
       "14078       False    0.456543  \n",
       "14079        True    0.789062  \n",
       "14080        True    0.636719  \n",
       "14081       False    0.409180  \n",
       "\n",
       "[3521 rows x 19 columns]"
      ]
     },
     "execution_count": 95,
     "metadata": {},
     "output_type": "execute_result"
    }
   ],
   "source": [
    "# Make a prediction dataframe with everything in it\n",
    "df_test = dm.df.iloc[dm.test_split:].copy()\n",
    "df_test['probe_pred'] = y_test_pred>0\n",
    "y_test_pred_bool = np.clip(switch2bool(y_test_pred), 0 ,1)\n",
    "df_test['probe_prob'] = y_test_pred_bool\n",
    "df_test['llm_prob'] = (df_test['ans1']+df_test['ans2'])/2\n",
    "df_test['llm_ans'] = df_test['llm_prob']>0.5\n",
    "df_test['conf'] = (df_test['ans1']-df_test['ans2']).abs()\n",
    "df_test['y'] = df_test['y']>0\n",
    "\n",
    "y_true = dl_test.dataset.tensors[2].numpy()\n",
    "assert ((df_test['y'].values>0.5)==(y_true>0)).all(), 'check it all lines up'\n",
    "\n",
    "df_test"
   ]
  },
  {
   "cell_type": "code",
   "execution_count": 96,
   "metadata": {},
   "outputs": [
    {
     "name": "stdout",
     "output_type": "stream",
     "text": [
      "probe results on subsets of the data\n",
      "acc=90.37% [lie==True]\n",
      "acc=92.14% [lie==False]\n",
      "acc=93.69% [llm_ans==true_answer]\n",
      "acc=90.66% [llm_ans==desired_answer]\n",
      "acc=75.76% [lie==True & llm_ans==desired_answer]\n",
      "acc=93.00% [lie==True & llm_ans!=desired_answer]\n"
     ]
    },
    {
     "data": {
      "text/plain": [
       "0.9300164024056862"
      ]
     },
     "execution_count": 96,
     "metadata": {},
     "output_type": "execute_result"
    }
   ],
   "source": [
    "def get_acc_subset(df, query):\n",
    "    df_s = df.query(query)\n",
    "    acc = (df_s['probe_pred']==df_s['y']).mean()\n",
    "    print(f\"acc={acc:2.2%} [{query}]\")\n",
    "    return acc\n",
    "    \n",
    "print('probe results on subsets of the data')\n",
    "get_acc_subset(df_test, 'lie==True') # it was ph told to lie\n",
    "get_acc_subset(df_test, 'lie==False') # it was told not to lie\n",
    "get_acc_subset(df_test, 'llm_ans==true_answer') # the llm gave the true ans\n",
    "get_acc_subset(df_test, 'llm_ans==desired_answer') # the llm gave the desired ans\n",
    "get_acc_subset(df_test, 'lie==True & llm_ans==desired_answer') # it was told to lie, and it did lie\n",
    "get_acc_subset(df_test, 'lie==True & llm_ans!=desired_answer')"
   ]
  },
  {
   "cell_type": "markdown",
   "metadata": {},
   "source": [
    "# RESULTS"
   ]
  },
  {
   "cell_type": "code",
   "execution_count": 97,
   "metadata": {},
   "outputs": [
    {
     "name": "stdout",
     "output_type": "stream",
     "text": [
      "⭐PRIMARY METRIC⭐ roc_auc=96.05% from probe\n"
     ]
    }
   ],
   "source": [
    "roc_auc = roc_auc_score(df_test['y'], y_test_pred_bool)\n",
    "\n",
    "# print(f\"  PRIMARY BASELINE roc_auc={primary_baseline:2.2%} from linear classifier\")\n",
    "print(f\"⭐PRIMARY METRIC⭐ roc_auc={roc_auc:2.2%} from probe\")"
   ]
  },
  {
   "cell_type": "code",
   "execution_count": null,
   "metadata": {},
   "outputs": [],
   "source": []
  }
 ],
 "metadata": {
  "kernelspec": {
   "display_name": "dlk2",
   "language": "python",
   "name": "python3"
  },
  "language_info": {
   "codemirror_mode": {
    "name": "ipython",
    "version": 3
   },
   "file_extension": ".py",
   "mimetype": "text/x-python",
   "name": "python",
   "nbconvert_exporter": "python",
   "pygments_lexer": "ipython3",
   "version": "3.9.16"
  },
  "orig_nbformat": 4
 },
 "nbformat": 4,
 "nbformat_minor": 2
}
