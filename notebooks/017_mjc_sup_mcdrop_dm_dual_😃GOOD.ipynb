{
 "cells": [
  {
   "attachments": {},
   "cell_type": "markdown",
   "metadata": {},
   "source": [
    "# Lets just do supervised learning\n",
    "\n",
    "Since we are looking at pairs with random permuations (from dropout), we can't use CCS. This is because our probabilities do not add to one.\n",
    "\n",
    "People question if unsupervised learning bings anything to the table anyway, so lets start with supervised...\n",
    "\n",
    "\n",
    "This one is `dual` in that itpasses both parts of the pair into the model at once.\n",
    "\n",
    "```\n",
    "x = torch.concat([x0, x1], 1)\n",
    "y_pred =model(x)\n",
    "loss(y_pred, y)\n",
    "```\n",
    "as opposed to\n",
    "```\n",
    "logit0 = model(x0)\n",
    "logit1 = model(x1)\n",
    "y_pred = torch.concat([logit0, logit1])\n",
    "loss(y_pred, y)\n",
    "```"
   ]
  },
  {
   "attachments": {},
   "cell_type": "markdown",
   "metadata": {},
   "source": [
    "\n",
    "links:\n",
    "- [loading](https://github.com/deep-diver/LLM-As-Chatbot/blob/main/models/alpaca.py)\n",
    "- [dict](https://github.com/deep-diver/LLM-As-Chatbot/blob/c79e855a492a968b54bac223e66dc9db448d6eba/model_cards.json#L143)\n",
    "- [prompt_format](https://github.com/deep-diver/PingPong/blob/main/src/pingpong/alpaca.py)"
   ]
  },
  {
   "cell_type": "code",
   "execution_count": 1,
   "metadata": {},
   "outputs": [
    {
     "data": {
      "text/plain": [
       "'4.30.1'"
      ]
     },
     "execution_count": 1,
     "metadata": {},
     "output_type": "execute_result"
    }
   ],
   "source": [
    "\n",
    "import copy\n",
    "import numpy as np\n",
    "import pandas as pd\n",
    "from matplotlib import pyplot as plt\n",
    "plt.style.use('ggplot')\n",
    "\n",
    "import random\n",
    "from typing import Optional, List, Dict, Union\n",
    "\n",
    "import torch\n",
    "import torch.nn as nn\n",
    "import torch.nn.functional as F\n",
    "from torch import Tensor\n",
    "from torch import optim\n",
    "from torch.utils.data import random_split, DataLoader, TensorDataset\n",
    "\n",
    "import pickle\n",
    "import hashlib\n",
    "from pathlib import Path\n",
    "\n",
    "from datasets import load_dataset\n",
    "import datasets\n",
    "\n",
    "from transformers import AutoTokenizer, AutoModelForSeq2SeqLM, AutoModelForMaskedLM, AutoModelForCausalLM, AutoConfig\n",
    "import transformers\n",
    "from transformers.models.auto.modeling_auto import AutoModel\n",
    "from transformers import LogitsProcessorList\n",
    "\n",
    "\n",
    "import lightning.pytorch as pl\n",
    "from dataclasses import dataclass\n",
    "\n",
    "from sklearn.linear_model import LogisticRegression\n",
    "# from scipy.stats import zscore\n",
    "from sklearn.metrics import f1_score, roc_auc_score, accuracy_score\n",
    "from sklearn.preprocessing import RobustScaler\n",
    "\n",
    "from tqdm.auto import tqdm\n",
    "import gc\n",
    "import os\n",
    "\n",
    "from loguru import logger\n",
    "logger.add(os.sys.stderr, format=\"{time} {level} {message}\", level=\"INFO\")\n",
    "\n",
    "\n",
    "transformers.__version__"
   ]
  },
  {
   "cell_type": "code",
   "execution_count": 2,
   "metadata": {},
   "outputs": [],
   "source": [
    "from datasets import load_from_disk\n",
    "f='./.ds/WizardLMWizardCoder_15B_V1.0-None-N_40-ns_3-mc_True-593d1f'\n",
    "f='./.ds/WizardLMWizardCoder_15B_V1.0-None-N_4000-ns_3-mc_True-a55583_v2'\n",
    "ds = load_from_disk(f)"
   ]
  },
  {
   "attachments": {},
   "cell_type": "markdown",
   "metadata": {},
   "source": [
    "## Lightning DataModule"
   ]
  },
  {
   "cell_type": "code",
   "execution_count": 3,
   "metadata": {},
   "outputs": [],
   "source": [
    "def ds_info2df(ds):\n",
    "    d = pd.DataFrame(ds['info'])\n",
    "    for c in ['desired_answer', 'lie', 'true_answer']:\n",
    "        d[c] = d[c].map(lambda x:x.item())\n",
    "    return d\n",
    "\n",
    "class imdbHSDataModule(pl.LightningDataModule):\n",
    "\n",
    "    def __init__(self,\n",
    "                 ds,\n",
    "                 batch_size=32,\n",
    "                ):\n",
    "        super().__init__()\n",
    "        self.save_hyperparameters(ignore=[\"ds\"])\n",
    "        self.ds = ds\n",
    "\n",
    "    def setup(self, stage: str):\n",
    "        h = self.hparams\n",
    "        \n",
    "        # extract data set into N-Dim tensors and 1-d dataframe\n",
    "        self.ds_hs = (\n",
    "            self.ds.select_columns(['hs1', 'hs2'])\n",
    "            .with_format(\"numpy\")\n",
    "        )\n",
    "        \n",
    "        df_infos = ds_info2df(self.ds)\n",
    "        df_ans = self.ds.select_columns(['ans1', 'ans2', 'true']).with_format(\"numpy\").to_pandas()\n",
    "        self.df_infos = pd.concat([df_infos, df_ans], axis=1)\n",
    "        self.df_infos['dir_true'] = self.df_infos['ans2'] - self.df_infos['ans1']\n",
    "        self.df_infos['ans'] = (self.df_infos['ans2'] + self.df_infos['ans1']) / 2\n",
    "        \n",
    "        b = len(self.ds_hs)\n",
    "        self.y = self.df_infos['true_answer'].astype(np.float32).values\n",
    "        self.hs1 = self.ds_hs['hs1'].reshape((b, -1))#.numpy()\n",
    "        self.hs2 = self.ds_hs['hs2'].reshape((b, -1))#.numpy()        \n",
    "        self.ans1 = self.df_infos['ans1'].values\n",
    "        self.ans2 = self.df_infos['ans2'].values\n",
    "        \n",
    "        # # in ELK they cache as a huggingface dataset\n",
    "        # self.hs1, self.ans1, self.hs2, self.ans2, self.y, self.infos = \n",
    "\n",
    "        # let's create a simple 50/50 train split (the data is already randomized)\n",
    "        n = len(self.y)\n",
    "        self.val_split = vs = int(n * 0.5)\n",
    "        self.test_split = ts = int(n * 0.75)\n",
    "        hs1_train, hs2_train, y_train = self.hs1[:vs], self.hs2[:vs], self.y[:vs]\n",
    "        hs1_val, hs2_val, y_val = self.hs1[vs:ts], self.hs2[vs:ts], self.y[vs:ts]\n",
    "        hs1_test, hs2_test, y_test = self.hs1[ts:],self. hs2[ts:], self.y[ts:]\n",
    "\n",
    "        # for simplicity we can just take the difference between positive and negative hidden states\n",
    "        # (concatenating also works fine)\n",
    "        self.x_train = hs1_train - hs2_train\n",
    "        self.x_val = hs1_val - hs2_val\n",
    "        self.x_test = hs1_test - hs2_test\n",
    "\n",
    "        # normalize\n",
    "        self.scaler = RobustScaler()\n",
    "        self.scaler.fit(self.x_train)\n",
    "        self.x_train = self.scaler.transform(self.x_train)\n",
    "        self.x_val = self.scaler.transform(self.x_val)\n",
    "        self.x_test = self.scaler.transform(self.x_test)\n",
    "\n",
    "        self.ds_train = TensorDataset(torch.from_numpy(hs1_train).float(),\n",
    "                                      torch.from_numpy(hs2_train).float(),\n",
    "                                      torch.from_numpy(y_train).float())\n",
    "\n",
    "        self.ds_val = TensorDataset(torch.from_numpy(hs1_val).float(),\n",
    "                                    torch.from_numpy(hs2_val).float(),\n",
    "                                    torch.from_numpy(y_val).float())\n",
    "\n",
    "        self.ds_test = TensorDataset(torch.from_numpy(hs1_test).float(),\n",
    "                                     torch.from_numpy(hs2_test).float(),\n",
    "                                     torch.from_numpy(y_test).float())\n",
    "\n",
    "    def train_dataloader(self):\n",
    "        return DataLoader(self.ds_train,\n",
    "                          batch_size=self.hparams.batch_size,\n",
    "                          shuffle=True)\n",
    "\n",
    "    def val_dataloader(self):\n",
    "        return DataLoader(self.ds_val, batch_size=self.hparams.batch_size)\n",
    "\n",
    "    def test_dataloader(self):\n",
    "        return DataLoader(self.ds_test, batch_size=self.hparams.batch_size)\n"
   ]
  },
  {
   "cell_type": "code",
   "execution_count": 4,
   "metadata": {},
   "outputs": [
    {
     "data": {
      "text/plain": [
       "[tensor([[ 2.6709e-01, -1.5457e-02, -7.4463e-02,  ...,  7.1191e-01,\n",
       "           2.0527e+00,  1.1547e+01],\n",
       "         [ 7.3792e-02, -1.7075e-02, -5.1544e-02,  ...,  1.6416e+00,\n",
       "           6.4087e-03,  1.9391e+01],\n",
       "         [ 2.0581e-01,  1.8631e-02, -9.9854e-02,  ...,  4.6250e+00,\n",
       "          -1.9219e+00,  1.6750e+01],\n",
       "         ...,\n",
       "         [ 2.3865e-01, -4.9927e-02, -3.3722e-02,  ..., -3.0840e+00,\n",
       "           3.6758e+00,  1.5859e+01],\n",
       "         [ 1.6003e-01, -2.7924e-02, -2.8290e-02,  ..., -4.5410e-01,\n",
       "          -3.0176e+00,  1.0461e+01],\n",
       "         [ 2.6904e-01, -6.6986e-03, -4.1870e-02,  ..., -4.8320e+00,\n",
       "          -4.3555e+00,  8.3359e+00]]),\n",
       " tensor([[ 8.0261e-02, -1.7548e-02, -4.7943e-02,  ..., -1.9355e+00,\n",
       "           3.2666e-01,  1.5453e+01],\n",
       "         [ 3.6377e-02, -4.7272e-02, -7.0679e-02,  ..., -1.5293e+00,\n",
       "           3.2129e+00,  1.8844e+01],\n",
       "         [ 1.7456e-01, -4.3793e-02, -1.0022e-01,  ...,  3.3047e+00,\n",
       "          -2.3145e+00,  2.3359e+01],\n",
       "         ...,\n",
       "         [ 2.3767e-01, -6.2134e-02, -8.7708e-02,  ..., -1.3584e+00,\n",
       "           3.2168e+00,  1.8344e+01],\n",
       "         [ 2.0789e-01, -1.0391e-02, -8.2153e-02,  ..., -4.8145e-01,\n",
       "          -2.9141e+00,  1.2547e+01],\n",
       "         [ 6.1920e-02, -3.1952e-02, -8.6243e-02,  ..., -3.4160e+00,\n",
       "          -6.8320e+00,  7.7969e+00]]),\n",
       " tensor([0., 0., 1., 0., 1., 0., 0., 1., 0., 0., 1., 1., 1., 1., 1., 0., 1., 1.,\n",
       "         0., 1., 1., 1., 1., 1., 1., 0., 0., 0., 1., 1., 0., 1.])]"
      ]
     },
     "execution_count": 4,
     "metadata": {},
     "output_type": "execute_result"
    }
   ],
   "source": [
    "batch_size = 32\n",
    "# test and cache\n",
    "dm = imdbHSDataModule(ds, batch_size=batch_size)\n",
    "dm.setup('train')\n",
    "\n",
    "dl_val = dm.val_dataloader()\n",
    "dl_train = dm.train_dataloader()\n",
    "b = next(iter(dl_train))\n",
    "b"
   ]
  },
  {
   "cell_type": "code",
   "execution_count": 5,
   "metadata": {},
   "outputs": [
    {
     "data": {
      "text/html": [
       "<div>\n",
       "<style scoped>\n",
       "    .dataframe tbody tr th:only-of-type {\n",
       "        vertical-align: middle;\n",
       "    }\n",
       "\n",
       "    .dataframe tbody tr th {\n",
       "        vertical-align: top;\n",
       "    }\n",
       "\n",
       "    .dataframe thead th {\n",
       "        text-align: right;\n",
       "    }\n",
       "</style>\n",
       "<table border=\"1\" class=\"dataframe\">\n",
       "  <thead>\n",
       "    <tr style=\"text-align: right;\">\n",
       "      <th></th>\n",
       "      <th>desired_answer</th>\n",
       "      <th>input</th>\n",
       "      <th>lie</th>\n",
       "      <th>true_answer</th>\n",
       "      <th>ans1</th>\n",
       "      <th>ans2</th>\n",
       "      <th>true</th>\n",
       "      <th>dir_true</th>\n",
       "      <th>ans</th>\n",
       "    </tr>\n",
       "  </thead>\n",
       "  <tbody>\n",
       "    <tr>\n",
       "      <th>0</th>\n",
       "      <td>True</td>\n",
       "      <td>How can anyone still feed this to children? I ...</td>\n",
       "      <td>True</td>\n",
       "      <td>0</td>\n",
       "      <td>0.519043</td>\n",
       "      <td>0.507324</td>\n",
       "      <td>0</td>\n",
       "      <td>-0.011719</td>\n",
       "      <td>0.513184</td>\n",
       "    </tr>\n",
       "    <tr>\n",
       "      <th>1</th>\n",
       "      <td>False</td>\n",
       "      <td>I ordered this movie from Amazon and it was gr...</td>\n",
       "      <td>False</td>\n",
       "      <td>0</td>\n",
       "      <td>0.588379</td>\n",
       "      <td>0.300537</td>\n",
       "      <td>0</td>\n",
       "      <td>-0.287842</td>\n",
       "      <td>0.444336</td>\n",
       "    </tr>\n",
       "    <tr>\n",
       "      <th>2</th>\n",
       "      <td>True</td>\n",
       "      <td>This movie has the right pedigree - Coen broth...</td>\n",
       "      <td>True</td>\n",
       "      <td>0</td>\n",
       "      <td>0.201538</td>\n",
       "      <td>0.102234</td>\n",
       "      <td>0</td>\n",
       "      <td>-0.099304</td>\n",
       "      <td>0.151855</td>\n",
       "    </tr>\n",
       "    <tr>\n",
       "      <th>3</th>\n",
       "      <td>False</td>\n",
       "      <td>ok so i got the sword and the box it came in w...</td>\n",
       "      <td>False</td>\n",
       "      <td>0</td>\n",
       "      <td>0.366211</td>\n",
       "      <td>0.643555</td>\n",
       "      <td>0</td>\n",
       "      <td>0.277344</td>\n",
       "      <td>0.504883</td>\n",
       "    </tr>\n",
       "    <tr>\n",
       "      <th>4</th>\n",
       "      <td>True</td>\n",
       "      <td>I was anticipating the use of wireless headpho...</td>\n",
       "      <td>True</td>\n",
       "      <td>0</td>\n",
       "      <td>0.479980</td>\n",
       "      <td>0.422119</td>\n",
       "      <td>0</td>\n",
       "      <td>-0.057861</td>\n",
       "      <td>0.451172</td>\n",
       "    </tr>\n",
       "    <tr>\n",
       "      <th>...</th>\n",
       "      <td>...</td>\n",
       "      <td>...</td>\n",
       "      <td>...</td>\n",
       "      <td>...</td>\n",
       "      <td>...</td>\n",
       "      <td>...</td>\n",
       "      <td>...</td>\n",
       "      <td>...</td>\n",
       "      <td>...</td>\n",
       "    </tr>\n",
       "    <tr>\n",
       "      <th>3995</th>\n",
       "      <td>False</td>\n",
       "      <td>As others have said, the instructions were not...</td>\n",
       "      <td>False</td>\n",
       "      <td>0</td>\n",
       "      <td>0.179932</td>\n",
       "      <td>0.211792</td>\n",
       "      <td>0</td>\n",
       "      <td>0.031860</td>\n",
       "      <td>0.195801</td>\n",
       "    </tr>\n",
       "    <tr>\n",
       "      <th>3996</th>\n",
       "      <td>True</td>\n",
       "      <td>This book has great potential but it doesn't l...</td>\n",
       "      <td>True</td>\n",
       "      <td>0</td>\n",
       "      <td>0.032562</td>\n",
       "      <td>0.037292</td>\n",
       "      <td>0</td>\n",
       "      <td>0.004730</td>\n",
       "      <td>0.034912</td>\n",
       "    </tr>\n",
       "    <tr>\n",
       "      <th>3997</th>\n",
       "      <td>True</td>\n",
       "      <td>I was intending to use beta sitosterol for hai...</td>\n",
       "      <td>False</td>\n",
       "      <td>1</td>\n",
       "      <td>0.940430</td>\n",
       "      <td>0.942383</td>\n",
       "      <td>1</td>\n",
       "      <td>0.001953</td>\n",
       "      <td>0.941406</td>\n",
       "    </tr>\n",
       "    <tr>\n",
       "      <th>3998</th>\n",
       "      <td>False</td>\n",
       "      <td>This is really compact and comes with 3 bags t...</td>\n",
       "      <td>True</td>\n",
       "      <td>1</td>\n",
       "      <td>0.963379</td>\n",
       "      <td>0.941895</td>\n",
       "      <td>1</td>\n",
       "      <td>-0.021484</td>\n",
       "      <td>0.952637</td>\n",
       "    </tr>\n",
       "    <tr>\n",
       "      <th>3999</th>\n",
       "      <td>True</td>\n",
       "      <td>I bought the paperback because it sounded inte...</td>\n",
       "      <td>False</td>\n",
       "      <td>1</td>\n",
       "      <td>0.998535</td>\n",
       "      <td>0.997070</td>\n",
       "      <td>1</td>\n",
       "      <td>-0.001465</td>\n",
       "      <td>0.998047</td>\n",
       "    </tr>\n",
       "  </tbody>\n",
       "</table>\n",
       "<p>4000 rows × 9 columns</p>\n",
       "</div>"
      ],
      "text/plain": [
       "      desired_answer                                              input   \n",
       "0               True  How can anyone still feed this to children? I ...  \\\n",
       "1              False  I ordered this movie from Amazon and it was gr...   \n",
       "2               True  This movie has the right pedigree - Coen broth...   \n",
       "3              False  ok so i got the sword and the box it came in w...   \n",
       "4               True  I was anticipating the use of wireless headpho...   \n",
       "...              ...                                                ...   \n",
       "3995           False  As others have said, the instructions were not...   \n",
       "3996            True  This book has great potential but it doesn't l...   \n",
       "3997            True  I was intending to use beta sitosterol for hai...   \n",
       "3998           False  This is really compact and comes with 3 bags t...   \n",
       "3999            True  I bought the paperback because it sounded inte...   \n",
       "\n",
       "        lie  true_answer      ans1      ans2  true  dir_true       ans  \n",
       "0      True            0  0.519043  0.507324     0 -0.011719  0.513184  \n",
       "1     False            0  0.588379  0.300537     0 -0.287842  0.444336  \n",
       "2      True            0  0.201538  0.102234     0 -0.099304  0.151855  \n",
       "3     False            0  0.366211  0.643555     0  0.277344  0.504883  \n",
       "4      True            0  0.479980  0.422119     0 -0.057861  0.451172  \n",
       "...     ...          ...       ...       ...   ...       ...       ...  \n",
       "3995  False            0  0.179932  0.211792     0  0.031860  0.195801  \n",
       "3996   True            0  0.032562  0.037292     0  0.004730  0.034912  \n",
       "3997  False            1  0.940430  0.942383     1  0.001953  0.941406  \n",
       "3998   True            1  0.963379  0.941895     1 -0.021484  0.952637  \n",
       "3999  False            1  0.998535  0.997070     1 -0.001465  0.998047  \n",
       "\n",
       "[4000 rows x 9 columns]"
      ]
     },
     "execution_count": 5,
     "metadata": {},
     "output_type": "execute_result"
    }
   ],
   "source": [
    "hss1 = dm.hs1\n",
    "hss2 = dm.hs2\n",
    "ans_1 = dm.ans1\n",
    "ans_2 = dm.ans2\n",
    "df_infos = dm.df_infos\n",
    "df_infos"
   ]
  },
  {
   "attachments": {},
   "cell_type": "markdown",
   "metadata": {},
   "source": [
    "## Task results\n",
    "\n",
    "E.g. how well does the underlying language model do on the task"
   ]
  },
  {
   "cell_type": "code",
   "execution_count": 6,
   "metadata": {},
   "outputs": [
    {
     "name": "stdout",
     "output_type": "stream",
     "text": [
      "model acc on sentiment task\n",
      "acc 0.88\n",
      "acc when lie=True 0.87\n",
      "acc when lie=False 0.89\n"
     ]
    }
   ],
   "source": [
    "print('model acc on sentiment task')\n",
    "ans = (ans_1 + ans_2) / 2\n",
    "acc=((ans>0.5)==df_infos['true_answer']).mean()\n",
    "print(f\"acc {acc:2.2f}\")\n",
    "\n",
    "d = df_infos['lie']==True\n",
    "acc = ((ans[d]>0.5)==df_infos[d]['true_answer']).mean()\n",
    "print(f\"acc when lie=True {acc:2.2f}\")\n",
    "\n",
    "d = df_infos['lie']==False\n",
    "acc = ((ans[d]>0.5)==df_infos[d]['true_answer']).mean()\n",
    "print(f\"acc when lie=False {acc:2.2f}\")\n",
    "# ((ans_1>0)==df_infos['desired_answer']).mean()"
   ]
  },
  {
   "attachments": {},
   "cell_type": "markdown",
   "metadata": {},
   "source": [
    "# Data prep\n",
    "\n",
    "We do two inferences on the same inputs. Since we have dropout enabled, even during inference, we get two slightly different hidden states `hs1` and `hs2`, and two slightly different probabilities for our yes and no output tokens `p1` `p2`. We also have the true answer `t`\n",
    "\n",
    "So there are a few ways we can set up the problem. \n",
    "\n",
    "We can vary x:\n",
    "- `model(hs1)-model(hs2)=y`\n",
    "- `model(hs1-hs2)==y`\n",
    "\n",
    "And we can try differen't y's:\n",
    "- direction with a ranked loss. This could be unsupervised.\n",
    "- magnitude with a regression loss\n",
    "- vector (direction and magnitude) with a regression loss"
   ]
  },
  {
   "attachments": {},
   "cell_type": "markdown",
   "metadata": {},
   "source": [
    "# QC: Linear supervised probes\n",
    "\n",
    "\n",
    "Let's verify that the model's representations are good\n",
    "\n",
    "Before trying CCS, let's make sure there exists a direction that classifies examples as true vs false with high accuracy; if supervised logistic regression accuracy is bad, there's no hope of unsupervised CCS doing well.\n",
    "\n",
    "Note that because logistic regression is supervised we expect it to do better but to have worse generalisation that equivilent unsupervised methods. However in this case CSS is using a deeper model so it is more complicated.\n"
   ]
  },
  {
   "attachments": {},
   "cell_type": "markdown",
   "metadata": {},
   "source": [
    "## Try a classification of direction to truth"
   ]
  },
  {
   "cell_type": "code",
   "execution_count": 7,
   "metadata": {},
   "outputs": [
    {
     "name": "stdout",
     "output_type": "stream",
     "text": [
      "split size 2000\n"
     ]
    },
    {
     "data": {
      "text/html": [
       "<style>#sk-container-id-1 {color: black;background-color: white;}#sk-container-id-1 pre{padding: 0;}#sk-container-id-1 div.sk-toggleable {background-color: white;}#sk-container-id-1 label.sk-toggleable__label {cursor: pointer;display: block;width: 100%;margin-bottom: 0;padding: 0.3em;box-sizing: border-box;text-align: center;}#sk-container-id-1 label.sk-toggleable__label-arrow:before {content: \"▸\";float: left;margin-right: 0.25em;color: #696969;}#sk-container-id-1 label.sk-toggleable__label-arrow:hover:before {color: black;}#sk-container-id-1 div.sk-estimator:hover label.sk-toggleable__label-arrow:before {color: black;}#sk-container-id-1 div.sk-toggleable__content {max-height: 0;max-width: 0;overflow: hidden;text-align: left;background-color: #f0f8ff;}#sk-container-id-1 div.sk-toggleable__content pre {margin: 0.2em;color: black;border-radius: 0.25em;background-color: #f0f8ff;}#sk-container-id-1 input.sk-toggleable__control:checked~div.sk-toggleable__content {max-height: 200px;max-width: 100%;overflow: auto;}#sk-container-id-1 input.sk-toggleable__control:checked~label.sk-toggleable__label-arrow:before {content: \"▾\";}#sk-container-id-1 div.sk-estimator input.sk-toggleable__control:checked~label.sk-toggleable__label {background-color: #d4ebff;}#sk-container-id-1 div.sk-label input.sk-toggleable__control:checked~label.sk-toggleable__label {background-color: #d4ebff;}#sk-container-id-1 input.sk-hidden--visually {border: 0;clip: rect(1px 1px 1px 1px);clip: rect(1px, 1px, 1px, 1px);height: 1px;margin: -1px;overflow: hidden;padding: 0;position: absolute;width: 1px;}#sk-container-id-1 div.sk-estimator {font-family: monospace;background-color: #f0f8ff;border: 1px dotted black;border-radius: 0.25em;box-sizing: border-box;margin-bottom: 0.5em;}#sk-container-id-1 div.sk-estimator:hover {background-color: #d4ebff;}#sk-container-id-1 div.sk-parallel-item::after {content: \"\";width: 100%;border-bottom: 1px solid gray;flex-grow: 1;}#sk-container-id-1 div.sk-label:hover label.sk-toggleable__label {background-color: #d4ebff;}#sk-container-id-1 div.sk-serial::before {content: \"\";position: absolute;border-left: 1px solid gray;box-sizing: border-box;top: 0;bottom: 0;left: 50%;z-index: 0;}#sk-container-id-1 div.sk-serial {display: flex;flex-direction: column;align-items: center;background-color: white;padding-right: 0.2em;padding-left: 0.2em;position: relative;}#sk-container-id-1 div.sk-item {position: relative;z-index: 1;}#sk-container-id-1 div.sk-parallel {display: flex;align-items: stretch;justify-content: center;background-color: white;position: relative;}#sk-container-id-1 div.sk-item::before, #sk-container-id-1 div.sk-parallel-item::before {content: \"\";position: absolute;border-left: 1px solid gray;box-sizing: border-box;top: 0;bottom: 0;left: 50%;z-index: -1;}#sk-container-id-1 div.sk-parallel-item {display: flex;flex-direction: column;z-index: 1;position: relative;background-color: white;}#sk-container-id-1 div.sk-parallel-item:first-child::after {align-self: flex-end;width: 50%;}#sk-container-id-1 div.sk-parallel-item:last-child::after {align-self: flex-start;width: 50%;}#sk-container-id-1 div.sk-parallel-item:only-child::after {width: 0;}#sk-container-id-1 div.sk-dashed-wrapped {border: 1px dashed gray;margin: 0 0.4em 0.5em 0.4em;box-sizing: border-box;padding-bottom: 0.4em;background-color: white;}#sk-container-id-1 div.sk-label label {font-family: monospace;font-weight: bold;display: inline-block;line-height: 1.2em;}#sk-container-id-1 div.sk-label-container {text-align: center;}#sk-container-id-1 div.sk-container {/* jupyter's `normalize.less` sets `[hidden] { display: none; }` but bootstrap.min.css set `[hidden] { display: none !important; }` so we also need the `!important` here to be able to override the default hidden behavior on the sphinx rendered scikit-learn.org. See: https://github.com/scikit-learn/scikit-learn/issues/21755 */display: inline-block !important;position: relative;}#sk-container-id-1 div.sk-text-repr-fallback {display: none;}</style><div id=\"sk-container-id-1\" class=\"sk-top-container\"><div class=\"sk-text-repr-fallback\"><pre>LogisticRegression(class_weight=&#x27;balanced&#x27;, max_iter=380)</pre><b>In a Jupyter environment, please rerun this cell to show the HTML representation or trust the notebook. <br />On GitHub, the HTML representation is unable to render, please try loading this page with nbviewer.org.</b></div><div class=\"sk-container\" hidden><div class=\"sk-item\"><div class=\"sk-estimator sk-toggleable\"><input class=\"sk-toggleable__control sk-hidden--visually\" id=\"sk-estimator-id-1\" type=\"checkbox\" checked><label for=\"sk-estimator-id-1\" class=\"sk-toggleable__label sk-toggleable__label-arrow\">LogisticRegression</label><div class=\"sk-toggleable__content\"><pre>LogisticRegression(class_weight=&#x27;balanced&#x27;, max_iter=380)</pre></div></div></div></div></div>"
      ],
      "text/plain": [
       "LogisticRegression(class_weight='balanced', max_iter=380)"
      ]
     },
     "execution_count": 7,
     "metadata": {},
     "output_type": "execute_result"
    }
   ],
   "source": [
    "\n",
    "n = len(df_infos)\n",
    "\n",
    "# Define X and y\n",
    "X = hss1-hss2\n",
    "\n",
    "y = y_dir = df_infos['true_answer'] == (df_infos['dir_true']>0) # direction\n",
    "\n",
    "# split\n",
    "n = len(y)\n",
    "print('split size', n//2)\n",
    "X_train, X_test = X[:n//2], X[n//2:]\n",
    "y_train, y_test = y[:n//2], y[n//2:]\n",
    "\n",
    "# scale\n",
    "scaler = RobustScaler()\n",
    "scaler.fit(X_train)\n",
    "X_train2 = scaler.transform(X_train)\n",
    "X_test2 = scaler.transform(X_test)\n",
    "\n",
    "lr = LogisticRegression(class_weight=\"balanced\", penalty=\"l2\", max_iter=380)\n",
    "lr.fit(X_train2, y_train>0)"
   ]
  },
  {
   "cell_type": "code",
   "execution_count": 8,
   "metadata": {},
   "outputs": [
    {
     "name": "stdout",
     "output_type": "stream",
     "text": [
      "Logistic cls acc: 100.00% [TRAIN]\n",
      "Logistic cls acc: 65.10% [TEST]\n",
      "test acc w lie 65.70%\n",
      "test acc wo lie 64.50%\n"
     ]
    }
   ],
   "source": [
    "print(\"Logistic cls acc: {:2.2%} [TRAIN]\".format(lr.score(X_train2, y_train>0)))\n",
    "print(\"Logistic cls acc: {:2.2%} [TEST]\".format(lr.score(X_test2, y_test>0)))\n",
    "\n",
    "m = df_infos['lie'][n//2:]\n",
    "y_test_pred = lr.predict(X_test2)\n",
    "acc_w_lie = ((y_test_pred[m]>0)==(y_test[m]>0)).mean()\n",
    "acc_wo_lie = ((y_test_pred[~m]>0)==(y_test[~m]>0)).mean()\n",
    "print(f'test acc w lie {acc_w_lie:2.2%}')\n",
    "print(f'test acc wo lie {acc_wo_lie:2.2%}')"
   ]
  },
  {
   "cell_type": "code",
   "execution_count": 9,
   "metadata": {},
   "outputs": [
    {
     "data": {
      "text/html": [
       "<div>\n",
       "<style scoped>\n",
       "    .dataframe tbody tr th:only-of-type {\n",
       "        vertical-align: middle;\n",
       "    }\n",
       "\n",
       "    .dataframe tbody tr th {\n",
       "        vertical-align: top;\n",
       "    }\n",
       "\n",
       "    .dataframe thead th {\n",
       "        text-align: right;\n",
       "    }\n",
       "</style>\n",
       "<table border=\"1\" class=\"dataframe\">\n",
       "  <thead>\n",
       "    <tr style=\"text-align: right;\">\n",
       "      <th></th>\n",
       "      <th>desired_answer</th>\n",
       "      <th>input</th>\n",
       "      <th>lie</th>\n",
       "      <th>true_answer</th>\n",
       "      <th>ans1</th>\n",
       "      <th>ans2</th>\n",
       "      <th>true</th>\n",
       "      <th>dir_true</th>\n",
       "      <th>ans</th>\n",
       "      <th>inner_truth</th>\n",
       "    </tr>\n",
       "  </thead>\n",
       "  <tbody>\n",
       "    <tr>\n",
       "      <th>2000</th>\n",
       "      <td>True</td>\n",
       "      <td>Candy is simply a tame attempt to stay relevan...</td>\n",
       "      <td>True</td>\n",
       "      <td>0</td>\n",
       "      <td>0.487793</td>\n",
       "      <td>0.701660</td>\n",
       "      <td>0</td>\n",
       "      <td>0.213867</td>\n",
       "      <td>0.594727</td>\n",
       "      <td>False</td>\n",
       "    </tr>\n",
       "    <tr>\n",
       "      <th>2001</th>\n",
       "      <td>False</td>\n",
       "      <td>I'm going to start saying that i'm reviewing a...</td>\n",
       "      <td>False</td>\n",
       "      <td>0</td>\n",
       "      <td>0.395508</td>\n",
       "      <td>0.429688</td>\n",
       "      <td>0</td>\n",
       "      <td>0.034180</td>\n",
       "      <td>0.412598</td>\n",
       "      <td>True</td>\n",
       "    </tr>\n",
       "    <tr>\n",
       "      <th>2002</th>\n",
       "      <td>True</td>\n",
       "      <td>I am embarrased to admit that I own this book....</td>\n",
       "      <td>True</td>\n",
       "      <td>0</td>\n",
       "      <td>0.742188</td>\n",
       "      <td>0.460449</td>\n",
       "      <td>0</td>\n",
       "      <td>-0.281738</td>\n",
       "      <td>0.601562</td>\n",
       "      <td>True</td>\n",
       "    </tr>\n",
       "    <tr>\n",
       "      <th>2003</th>\n",
       "      <td>True</td>\n",
       "      <td>If you read \"Full Catastrophe Living\" as I did...</td>\n",
       "      <td>False</td>\n",
       "      <td>1</td>\n",
       "      <td>0.965820</td>\n",
       "      <td>0.985840</td>\n",
       "      <td>1</td>\n",
       "      <td>0.020020</td>\n",
       "      <td>0.975586</td>\n",
       "      <td>True</td>\n",
       "    </tr>\n",
       "    <tr>\n",
       "      <th>2004</th>\n",
       "      <td>True</td>\n",
       "      <td>My daughter was so excited for this costume. I...</td>\n",
       "      <td>True</td>\n",
       "      <td>0</td>\n",
       "      <td>0.425781</td>\n",
       "      <td>0.153931</td>\n",
       "      <td>0</td>\n",
       "      <td>-0.271973</td>\n",
       "      <td>0.289795</td>\n",
       "      <td>True</td>\n",
       "    </tr>\n",
       "    <tr>\n",
       "      <th>...</th>\n",
       "      <td>...</td>\n",
       "      <td>...</td>\n",
       "      <td>...</td>\n",
       "      <td>...</td>\n",
       "      <td>...</td>\n",
       "      <td>...</td>\n",
       "      <td>...</td>\n",
       "      <td>...</td>\n",
       "      <td>...</td>\n",
       "      <td>...</td>\n",
       "    </tr>\n",
       "    <tr>\n",
       "      <th>3995</th>\n",
       "      <td>False</td>\n",
       "      <td>As others have said, the instructions were not...</td>\n",
       "      <td>False</td>\n",
       "      <td>0</td>\n",
       "      <td>0.179932</td>\n",
       "      <td>0.211792</td>\n",
       "      <td>0</td>\n",
       "      <td>0.031860</td>\n",
       "      <td>0.195801</td>\n",
       "      <td>True</td>\n",
       "    </tr>\n",
       "    <tr>\n",
       "      <th>3996</th>\n",
       "      <td>True</td>\n",
       "      <td>This book has great potential but it doesn't l...</td>\n",
       "      <td>True</td>\n",
       "      <td>0</td>\n",
       "      <td>0.032562</td>\n",
       "      <td>0.037292</td>\n",
       "      <td>0</td>\n",
       "      <td>0.004730</td>\n",
       "      <td>0.034912</td>\n",
       "      <td>False</td>\n",
       "    </tr>\n",
       "    <tr>\n",
       "      <th>3997</th>\n",
       "      <td>True</td>\n",
       "      <td>I was intending to use beta sitosterol for hai...</td>\n",
       "      <td>False</td>\n",
       "      <td>1</td>\n",
       "      <td>0.940430</td>\n",
       "      <td>0.942383</td>\n",
       "      <td>1</td>\n",
       "      <td>0.001953</td>\n",
       "      <td>0.941406</td>\n",
       "      <td>True</td>\n",
       "    </tr>\n",
       "    <tr>\n",
       "      <th>3998</th>\n",
       "      <td>False</td>\n",
       "      <td>This is really compact and comes with 3 bags t...</td>\n",
       "      <td>True</td>\n",
       "      <td>1</td>\n",
       "      <td>0.963379</td>\n",
       "      <td>0.941895</td>\n",
       "      <td>1</td>\n",
       "      <td>-0.021484</td>\n",
       "      <td>0.952637</td>\n",
       "      <td>False</td>\n",
       "    </tr>\n",
       "    <tr>\n",
       "      <th>3999</th>\n",
       "      <td>True</td>\n",
       "      <td>I bought the paperback because it sounded inte...</td>\n",
       "      <td>False</td>\n",
       "      <td>1</td>\n",
       "      <td>0.998535</td>\n",
       "      <td>0.997070</td>\n",
       "      <td>1</td>\n",
       "      <td>-0.001465</td>\n",
       "      <td>0.998047</td>\n",
       "      <td>False</td>\n",
       "    </tr>\n",
       "  </tbody>\n",
       "</table>\n",
       "<p>2000 rows × 10 columns</p>\n",
       "</div>"
      ],
      "text/plain": [
       "      desired_answer                                              input   \n",
       "2000            True  Candy is simply a tame attempt to stay relevan...  \\\n",
       "2001           False  I'm going to start saying that i'm reviewing a...   \n",
       "2002            True  I am embarrased to admit that I own this book....   \n",
       "2003            True  If you read \"Full Catastrophe Living\" as I did...   \n",
       "2004            True  My daughter was so excited for this costume. I...   \n",
       "...              ...                                                ...   \n",
       "3995           False  As others have said, the instructions were not...   \n",
       "3996            True  This book has great potential but it doesn't l...   \n",
       "3997            True  I was intending to use beta sitosterol for hai...   \n",
       "3998           False  This is really compact and comes with 3 bags t...   \n",
       "3999            True  I bought the paperback because it sounded inte...   \n",
       "\n",
       "        lie  true_answer      ans1      ans2  true  dir_true       ans   \n",
       "2000   True            0  0.487793  0.701660     0  0.213867  0.594727  \\\n",
       "2001  False            0  0.395508  0.429688     0  0.034180  0.412598   \n",
       "2002   True            0  0.742188  0.460449     0 -0.281738  0.601562   \n",
       "2003  False            1  0.965820  0.985840     1  0.020020  0.975586   \n",
       "2004   True            0  0.425781  0.153931     0 -0.271973  0.289795   \n",
       "...     ...          ...       ...       ...   ...       ...       ...   \n",
       "3995  False            0  0.179932  0.211792     0  0.031860  0.195801   \n",
       "3996   True            0  0.032562  0.037292     0  0.004730  0.034912   \n",
       "3997  False            1  0.940430  0.942383     1  0.001953  0.941406   \n",
       "3998   True            1  0.963379  0.941895     1 -0.021484  0.952637   \n",
       "3999  False            1  0.998535  0.997070     1 -0.001465  0.998047   \n",
       "\n",
       "      inner_truth  \n",
       "2000        False  \n",
       "2001         True  \n",
       "2002         True  \n",
       "2003         True  \n",
       "2004         True  \n",
       "...           ...  \n",
       "3995         True  \n",
       "3996        False  \n",
       "3997         True  \n",
       "3998        False  \n",
       "3999        False  \n",
       "\n",
       "[2000 rows x 10 columns]"
      ]
     },
     "execution_count": 9,
     "metadata": {},
     "output_type": "execute_result"
    }
   ],
   "source": [
    "df_info_test = df_infos.iloc[n//2:].copy()\n",
    "y_pred = lr.predict(X_test2)\n",
    "df_info_test['inner_truth'] = y_pred\n",
    "df_info_test"
   ]
  },
  {
   "attachments": {},
   "cell_type": "markdown",
   "metadata": {},
   "source": [
    "### Result, detecting deception?"
   ]
  },
  {
   "cell_type": "code",
   "execution_count": 10,
   "metadata": {},
   "outputs": [
    {
     "name": "stdout",
     "output_type": "stream",
     "text": [
      "model can detect lies with acc 52.00%\n",
      "w lies 1000/2000 test rows\n"
     ]
    }
   ],
   "source": [
    "lie_pred = df_info_test['inner_truth']==df_info_test['true_answer']\n",
    "lie_true = df_info_test['lie']\n",
    "acc_lie = accuracy_score(lie_pred, lie_true)\n",
    "print(f\"model can detect lies with acc {acc_lie:2.2%}\")\n",
    "print(f\"w lies {sum(lie_true)}/{len(lie_true)} test rows\")"
   ]
  },
  {
   "attachments": {},
   "cell_type": "markdown",
   "metadata": {},
   "source": [
    "## Try a regression of the vector (magnitude and direction) vs truth"
   ]
  },
  {
   "cell_type": "code",
   "execution_count": 11,
   "metadata": {},
   "outputs": [],
   "source": [
    "bool_to_switch = lambda b:b*2-1\n",
    "true_answer_switch = bool_to_switch(df_infos['true_answer'])\n",
    "y = y_left_more_true = df_infos['dir_true'] * true_answer_switch\n"
   ]
  },
  {
   "cell_type": "code",
   "execution_count": 12,
   "metadata": {},
   "outputs": [
    {
     "name": "stdout",
     "output_type": "stream",
     "text": [
      "split size 2000\n"
     ]
    },
    {
     "data": {
      "text/html": [
       "<style>#sk-container-id-2 {color: black;background-color: white;}#sk-container-id-2 pre{padding: 0;}#sk-container-id-2 div.sk-toggleable {background-color: white;}#sk-container-id-2 label.sk-toggleable__label {cursor: pointer;display: block;width: 100%;margin-bottom: 0;padding: 0.3em;box-sizing: border-box;text-align: center;}#sk-container-id-2 label.sk-toggleable__label-arrow:before {content: \"▸\";float: left;margin-right: 0.25em;color: #696969;}#sk-container-id-2 label.sk-toggleable__label-arrow:hover:before {color: black;}#sk-container-id-2 div.sk-estimator:hover label.sk-toggleable__label-arrow:before {color: black;}#sk-container-id-2 div.sk-toggleable__content {max-height: 0;max-width: 0;overflow: hidden;text-align: left;background-color: #f0f8ff;}#sk-container-id-2 div.sk-toggleable__content pre {margin: 0.2em;color: black;border-radius: 0.25em;background-color: #f0f8ff;}#sk-container-id-2 input.sk-toggleable__control:checked~div.sk-toggleable__content {max-height: 200px;max-width: 100%;overflow: auto;}#sk-container-id-2 input.sk-toggleable__control:checked~label.sk-toggleable__label-arrow:before {content: \"▾\";}#sk-container-id-2 div.sk-estimator input.sk-toggleable__control:checked~label.sk-toggleable__label {background-color: #d4ebff;}#sk-container-id-2 div.sk-label input.sk-toggleable__control:checked~label.sk-toggleable__label {background-color: #d4ebff;}#sk-container-id-2 input.sk-hidden--visually {border: 0;clip: rect(1px 1px 1px 1px);clip: rect(1px, 1px, 1px, 1px);height: 1px;margin: -1px;overflow: hidden;padding: 0;position: absolute;width: 1px;}#sk-container-id-2 div.sk-estimator {font-family: monospace;background-color: #f0f8ff;border: 1px dotted black;border-radius: 0.25em;box-sizing: border-box;margin-bottom: 0.5em;}#sk-container-id-2 div.sk-estimator:hover {background-color: #d4ebff;}#sk-container-id-2 div.sk-parallel-item::after {content: \"\";width: 100%;border-bottom: 1px solid gray;flex-grow: 1;}#sk-container-id-2 div.sk-label:hover label.sk-toggleable__label {background-color: #d4ebff;}#sk-container-id-2 div.sk-serial::before {content: \"\";position: absolute;border-left: 1px solid gray;box-sizing: border-box;top: 0;bottom: 0;left: 50%;z-index: 0;}#sk-container-id-2 div.sk-serial {display: flex;flex-direction: column;align-items: center;background-color: white;padding-right: 0.2em;padding-left: 0.2em;position: relative;}#sk-container-id-2 div.sk-item {position: relative;z-index: 1;}#sk-container-id-2 div.sk-parallel {display: flex;align-items: stretch;justify-content: center;background-color: white;position: relative;}#sk-container-id-2 div.sk-item::before, #sk-container-id-2 div.sk-parallel-item::before {content: \"\";position: absolute;border-left: 1px solid gray;box-sizing: border-box;top: 0;bottom: 0;left: 50%;z-index: -1;}#sk-container-id-2 div.sk-parallel-item {display: flex;flex-direction: column;z-index: 1;position: relative;background-color: white;}#sk-container-id-2 div.sk-parallel-item:first-child::after {align-self: flex-end;width: 50%;}#sk-container-id-2 div.sk-parallel-item:last-child::after {align-self: flex-start;width: 50%;}#sk-container-id-2 div.sk-parallel-item:only-child::after {width: 0;}#sk-container-id-2 div.sk-dashed-wrapped {border: 1px dashed gray;margin: 0 0.4em 0.5em 0.4em;box-sizing: border-box;padding-bottom: 0.4em;background-color: white;}#sk-container-id-2 div.sk-label label {font-family: monospace;font-weight: bold;display: inline-block;line-height: 1.2em;}#sk-container-id-2 div.sk-label-container {text-align: center;}#sk-container-id-2 div.sk-container {/* jupyter's `normalize.less` sets `[hidden] { display: none; }` but bootstrap.min.css set `[hidden] { display: none !important; }` so we also need the `!important` here to be able to override the default hidden behavior on the sphinx rendered scikit-learn.org. See: https://github.com/scikit-learn/scikit-learn/issues/21755 */display: inline-block !important;position: relative;}#sk-container-id-2 div.sk-text-repr-fallback {display: none;}</style><div id=\"sk-container-id-2\" class=\"sk-top-container\"><div class=\"sk-text-repr-fallback\"><pre>ElasticNet()</pre><b>In a Jupyter environment, please rerun this cell to show the HTML representation or trust the notebook. <br />On GitHub, the HTML representation is unable to render, please try loading this page with nbviewer.org.</b></div><div class=\"sk-container\" hidden><div class=\"sk-item\"><div class=\"sk-estimator sk-toggleable\"><input class=\"sk-toggleable__control sk-hidden--visually\" id=\"sk-estimator-id-2\" type=\"checkbox\" checked><label for=\"sk-estimator-id-2\" class=\"sk-toggleable__label sk-toggleable__label-arrow\">ElasticNet</label><div class=\"sk-toggleable__content\"><pre>ElasticNet()</pre></div></div></div></div></div>"
      ],
      "text/plain": [
       "ElasticNet()"
      ]
     },
     "execution_count": 12,
     "metadata": {},
     "output_type": "execute_result"
    }
   ],
   "source": [
    "# Try a regression\n",
    "from sklearn.linear_model import ElasticNet\n",
    "\n",
    "# Try a classification of direction\n",
    "n = len(df_infos)\n",
    "\n",
    "# Define X and y\n",
    "X = hss1-hss2\n",
    "y = y_left_more_true * 10\n",
    "\n",
    "# split\n",
    "# y = df_infos2['dir2'] * 100\n",
    "n = len(y)\n",
    "print('split size', n//2)\n",
    "X_train, X_test = X[:n//2], X[n//2:]\n",
    "y_train, y_test = y[:n//2], y[n//2:]\n",
    "\n",
    "# scale\n",
    "scaler = RobustScaler()\n",
    "scaler.fit(X_train)\n",
    "X_train2 = scaler.transform(X_train)\n",
    "X_test2 = scaler.transform(X_test)\n",
    "\n",
    "X_train2 = X_train\n",
    "X_test2 = X_test2\n",
    "\n",
    "lr2 = ElasticNet(max_iter=1000,)\n",
    "lr2.fit(X_train2, y_train)"
   ]
  },
  {
   "cell_type": "code",
   "execution_count": 13,
   "metadata": {},
   "outputs": [
    {
     "name": "stdout",
     "output_type": "stream",
     "text": [
      "acc from train ElasticNet 0.59\n",
      "acc from test ElasticNet 0.58\n"
     ]
    }
   ],
   "source": [
    "eps = 0.\n",
    "acc=np.mean((lr2.predict(X_train2)>eps)==(y_train>eps))\n",
    "print(f'acc from train ElasticNet {acc:2.2f}')\n",
    "acc=np.mean((lr2.predict(X_test2)>eps)==(y_test>eps))\n",
    "print(f'acc from test ElasticNet {acc:2.2f}')"
   ]
  },
  {
   "cell_type": "code",
   "execution_count": 14,
   "metadata": {},
   "outputs": [
    {
     "data": {
      "text/plain": [
       "Text(0.5, 1.0, 'pred vs true on test')"
      ]
     },
     "execution_count": 14,
     "metadata": {},
     "output_type": "execute_result"
    },
    {
     "data": {
      "image/png": "[encoded data removed]",
      "text/plain": [
       "<Figure size 640x480 with 1 Axes>"
      ]
     },
     "metadata": {},
     "output_type": "display_data"
    }
   ],
   "source": [
    "y_test_pred = lr2.predict(X_test)\n",
    "plt.scatter(y_test, y_test_pred)\n",
    "plt.xlabel('true')\n",
    "plt.ylabel('pred')\n",
    "plt.title('pred vs true on test')"
   ]
  },
  {
   "cell_type": "code",
   "execution_count": null,
   "metadata": {},
   "outputs": [],
   "source": []
  },
  {
   "attachments": {},
   "cell_type": "markdown",
   "metadata": {},
   "source": [
    "# LightningModel"
   ]
  },
  {
   "cell_type": "code",
   "execution_count": null,
   "metadata": {},
   "outputs": [],
   "source": []
  },
  {
   "cell_type": "code",
   "execution_count": 15,
   "metadata": {},
   "outputs": [],
   "source": [
    "class MLPProbe(nn.Module):\n",
    "    def __init__(self, d, depth=0, hs=16, dropout=0):\n",
    "        super().__init__()\n",
    "\n",
    "        layers = [\n",
    "            nn.BatchNorm1d(d),  # this will normalise the inputs\n",
    "            nn.Linear(d, hs),\n",
    "            nn.Dropout1d(dropout),\n",
    "        ]\n",
    "        for _ in range(depth):\n",
    "            layers += [\n",
    "                nn.Linear(hs, hs),\n",
    "                nn.ReLU(),\n",
    "                nn.Dropout1d(dropout),\n",
    "            ]\n",
    "        layers += [nn.Linear(hs, 2)]\n",
    "        self.net = nn.Sequential(*layers)\n",
    "\n",
    "    def forward(self, x):\n",
    "        return self.net(x)\n"
   ]
  },
  {
   "cell_type": "code",
   "execution_count": 16,
   "metadata": {},
   "outputs": [],
   "source": [
    "# logit0 = (torch.rand(5, 4)-0.5)*100\n",
    "# logit1 = (torch.rand(5, 4)-0.5)*100\n",
    "# ccs_squared_loss(logit0, logit1)"
   ]
  },
  {
   "cell_type": "code",
   "execution_count": 17,
   "metadata": {},
   "outputs": [],
   "source": [
    "from pytorch_optimizer import Ranger21\n",
    "import torchmetrics\n",
    "\n",
    "    \n",
    "class CSS(pl.LightningModule):\n",
    "    def __init__(self, d, total_steps, lr=4e-3, weight_decay=1e-9, dropout=0):\n",
    "        super().__init__()\n",
    "        self.probe = MLPProbe(d*2, depth=1, dropout=dropout)\n",
    "        self.save_hyperparameters()\n",
    "        self.auroc = torchmetrics.Accuracy(task=\"multiclass\", num_classes=2)\n",
    "        \n",
    "    def forward(self, x):\n",
    "        return self.probe(x)\n",
    "        \n",
    "    def _step(self, batch, batch_idx, stage='train'):\n",
    "        x0, x1, y = batch\n",
    "        x = torch.concatenate([x0, x1], 1)\n",
    "        logits = self(x)\n",
    "        y_pred = F.softmax(logits, -1)\n",
    "        if stage=='pred':\n",
    "            return y_pred\n",
    "        \n",
    "        loss = F.cross_entropy(logits, y.long())\n",
    "        self.log(f\"{stage}/loss\", loss)\n",
    "        \n",
    "        self.auroc(y_pred, y.long())\n",
    "        self.log(f\"{stage}/acc_step\", self.auroc, on_step=False, on_epoch=True)\n",
    "        return loss\n",
    "    \n",
    "    def on_train_epoch_end(self):\n",
    "        # log epoch metric\n",
    "        self.log('train/acc_epoch', self.auroc)\n",
    "    \n",
    "    def training_step(self, batch, batch_idx):\n",
    "        return self._step(batch, batch_idx)\n",
    "    \n",
    "    def validation_step(self, batch, batch_idx=0):\n",
    "        return self._step(batch, batch_idx, stage='val')\n",
    "    \n",
    "    def predict_step(self, batch, batch_idx):\n",
    "        return self._step(batch, batch_idx, stage='pred')\n",
    "\n",
    "    # def configure_optimizers(self):\n",
    "    #     optimizer = optim.AdamW(self.parameters(), lr=self.hparams.lr, weight_decay=self.hparams.weight_decay)\n",
    "    #     lr_scheduler = optim.lr_scheduler.OneCycleLR(\n",
    "    #         optimizer, self.hparams.lr, total_steps=self.hparams.total_steps\n",
    "    #     )\n",
    "        # return [optimizer], [lr_scheduler]\n",
    "    \n",
    "    def configure_optimizers(self):\n",
    "        \"\"\"use ranger21 from  https://github.com/kozistr/pytorch_optimizer\"\"\"\n",
    "        optimizer = Ranger21(\n",
    "            self.parameters(),\n",
    "            lr=self.hparams.lr,\n",
    "            weight_decay=self.hparams.weight_decay,       \n",
    "            num_iterations=self.hparams.total_steps,\n",
    "        )\n",
    "        return optimizer\n",
    "    "
   ]
  },
  {
   "attachments": {},
   "cell_type": "markdown",
   "metadata": {},
   "source": [
    "# Run"
   ]
  },
  {
   "cell_type": "code",
   "execution_count": 18,
   "metadata": {},
   "outputs": [],
   "source": [
    "# quiet please\n",
    "torch.set_float32_matmul_precision('medium')\n",
    "\n",
    "import warnings\n",
    "warnings.filterwarnings(\"ignore\", \".*does not have many workers.*\")\n",
    "warnings.filterwarnings(\"ignore\", \".*F-score.*\")"
   ]
  },
  {
   "attachments": {},
   "cell_type": "markdown",
   "metadata": {},
   "source": [
    "## Prep dataloader/set"
   ]
  },
  {
   "cell_type": "code",
   "execution_count": 19,
   "metadata": {},
   "outputs": [
    {
     "data": {
      "text/html": [
       "<pre style=\"white-space:pre;overflow-x:auto;line-height:normal;font-family:Menlo,'DejaVu Sans Mono',consolas,'Courier New',monospace\"><span style=\"color: #800000; text-decoration-color: #800000\">╭─────────────────────────────── </span><span style=\"color: #800000; text-decoration-color: #800000; font-weight: bold\">Traceback </span><span style=\"color: #bf7f7f; text-decoration-color: #bf7f7f; font-weight: bold\">(most recent call last)</span><span style=\"color: #800000; text-decoration-color: #800000\"> ────────────────────────────────╮</span>\n",
       "<span style=\"color: #800000; text-decoration-color: #800000\">│</span> in <span style=\"color: #00ff00; text-decoration-color: #00ff00\">&lt;module&gt;</span>:<span style=\"color: #0000ff; text-decoration-color: #0000ff\">3</span>                                                                                    <span style=\"color: #800000; text-decoration-color: #800000\">│</span>\n",
       "<span style=\"color: #800000; text-decoration-color: #800000\">│</span>                                                                                                  <span style=\"color: #800000; text-decoration-color: #800000\">│</span>\n",
       "<span style=\"color: #800000; text-decoration-color: #800000\">│</span>   <span style=\"color: #7f7f7f; text-decoration-color: #7f7f7f\"> 1 # split</span>                                                                                     <span style=\"color: #800000; text-decoration-color: #800000\">│</span>\n",
       "<span style=\"color: #800000; text-decoration-color: #800000\">│</span>   <span style=\"color: #7f7f7f; text-decoration-color: #7f7f7f\"> 2 </span>X = hss1-hss2                                                                               <span style=\"color: #800000; text-decoration-color: #800000\">│</span>\n",
       "<span style=\"color: #800000; text-decoration-color: #800000\">│</span> <span style=\"color: #800000; text-decoration-color: #800000\">❱ </span> 3 y = (df_infos2[<span style=\"color: #808000; text-decoration-color: #808000\">'true_answer'</span>] == (df_infos2[<span style=\"color: #808000; text-decoration-color: #808000\">'dir_true'</span>]&gt;<span style=\"color: #0000ff; text-decoration-color: #0000ff\">0</span>)).values <span style=\"color: #7f7f7f; text-decoration-color: #7f7f7f\"># direction</span>              <span style=\"color: #800000; text-decoration-color: #800000\">│</span>\n",
       "<span style=\"color: #800000; text-decoration-color: #800000\">│</span>   <span style=\"color: #7f7f7f; text-decoration-color: #7f7f7f\"> 4 </span>n = <span style=\"color: #00ffff; text-decoration-color: #00ffff\">len</span>(y)                                                                                  <span style=\"color: #800000; text-decoration-color: #800000\">│</span>\n",
       "<span style=\"color: #800000; text-decoration-color: #800000\">│</span>   <span style=\"color: #7f7f7f; text-decoration-color: #7f7f7f\"> 5 </span><span style=\"color: #00ffff; text-decoration-color: #00ffff\">print</span>(<span style=\"color: #808000; text-decoration-color: #808000\">'split size'</span>, n//<span style=\"color: #0000ff; text-decoration-color: #0000ff\">2</span>)                                                                   <span style=\"color: #800000; text-decoration-color: #800000\">│</span>\n",
       "<span style=\"color: #800000; text-decoration-color: #800000\">│</span>   <span style=\"color: #7f7f7f; text-decoration-color: #7f7f7f\"> 6 </span>                                                                                            <span style=\"color: #800000; text-decoration-color: #800000\">│</span>\n",
       "<span style=\"color: #800000; text-decoration-color: #800000\">╰──────────────────────────────────────────────────────────────────────────────────────────────────╯</span>\n",
       "<span style=\"color: #ff0000; text-decoration-color: #ff0000; font-weight: bold\">NameError: </span>name <span style=\"color: #008000; text-decoration-color: #008000\">'df_infos2'</span> is not defined\n",
       "</pre>\n"
      ],
      "text/plain": [
       "\u001b[31m╭─\u001b[0m\u001b[31m──────────────────────────────\u001b[0m\u001b[31m \u001b[0m\u001b[1;31mTraceback \u001b[0m\u001b[1;2;31m(most recent call last)\u001b[0m\u001b[31m \u001b[0m\u001b[31m───────────────────────────────\u001b[0m\u001b[31m─╮\u001b[0m\n",
       "\u001b[31m│\u001b[0m in \u001b[92m<module>\u001b[0m:\u001b[94m3\u001b[0m                                                                                    \u001b[31m│\u001b[0m\n",
       "\u001b[31m│\u001b[0m                                                                                                  \u001b[31m│\u001b[0m\n",
       "\u001b[31m│\u001b[0m   \u001b[2m 1 \u001b[0m\u001b[2m# split\u001b[0m                                                                                     \u001b[31m│\u001b[0m\n",
       "\u001b[31m│\u001b[0m   \u001b[2m 2 \u001b[0mX = hss1-hss2                                                                               \u001b[31m│\u001b[0m\n",
       "\u001b[31m│\u001b[0m \u001b[31m❱ \u001b[0m 3 y = (df_infos2[\u001b[33m'\u001b[0m\u001b[33mtrue_answer\u001b[0m\u001b[33m'\u001b[0m] == (df_infos2[\u001b[33m'\u001b[0m\u001b[33mdir_true\u001b[0m\u001b[33m'\u001b[0m]>\u001b[94m0\u001b[0m)).values \u001b[2m# direction\u001b[0m              \u001b[31m│\u001b[0m\n",
       "\u001b[31m│\u001b[0m   \u001b[2m 4 \u001b[0mn = \u001b[96mlen\u001b[0m(y)                                                                                  \u001b[31m│\u001b[0m\n",
       "\u001b[31m│\u001b[0m   \u001b[2m 5 \u001b[0m\u001b[96mprint\u001b[0m(\u001b[33m'\u001b[0m\u001b[33msplit size\u001b[0m\u001b[33m'\u001b[0m, n//\u001b[94m2\u001b[0m)                                                                   \u001b[31m│\u001b[0m\n",
       "\u001b[31m│\u001b[0m   \u001b[2m 6 \u001b[0m                                                                                            \u001b[31m│\u001b[0m\n",
       "\u001b[31m╰──────────────────────────────────────────────────────────────────────────────────────────────────╯\u001b[0m\n",
       "\u001b[1;91mNameError: \u001b[0mname \u001b[32m'df_infos2'\u001b[0m is not defined\n"
      ]
     },
     "metadata": {},
     "output_type": "display_data"
    }
   ],
   "source": [
    "# split\n",
    "X = hss1-hss2\n",
    "y = (df_infos2['true_answer'] == (df_infos2['dir_true']>0)).values # direction\n",
    "n = len(y)\n",
    "print('split size', n//2)\n",
    "\n",
    "neg_hs_train = hss1[:n//2]\n",
    "pos_hs_train = hss2[:n//2]\n",
    "\n",
    "neg_hs_val = hss1[n//2:]\n",
    "pos_hs_val = hss2[n//2:]\n",
    "\n",
    "y_train, y_val = y[:n//2], y[n//2:]"
   ]
  },
  {
   "cell_type": "code",
   "execution_count": 20,
   "metadata": {},
   "outputs": [],
   "source": [
    "dl_train = dm.train_dataloader()\n",
    "dl_val = dm.val_dataloader()\n",
    "b = next(iter(dl_train))\n",
    "# b"
   ]
  },
  {
   "cell_type": "code",
   "execution_count": 21,
   "metadata": {},
   "outputs": [
    {
     "name": "stdout",
     "output_type": "stream",
     "text": [
      "torch.Size([32, 116736])\n"
     ]
    },
    {
     "data": {
      "text/plain": [
       "CSS(\n",
       "  (probe): MLPProbe(\n",
       "    (net): Sequential(\n",
       "      (0): BatchNorm1d(233472, eps=1e-05, momentum=0.1, affine=True, track_running_stats=True)\n",
       "      (1): Linear(in_features=233472, out_features=16, bias=True)\n",
       "      (2): Dropout1d(p=0.3, inplace=False)\n",
       "      (3): Linear(in_features=16, out_features=16, bias=True)\n",
       "      (4): ReLU()\n",
       "      (5): Dropout1d(p=0.3, inplace=False)\n",
       "      (6): Linear(in_features=16, out_features=2, bias=True)\n",
       "    )\n",
       "  )\n",
       "  (auroc): MulticlassAccuracy()\n",
       ")"
      ]
     },
     "execution_count": 21,
     "metadata": {},
     "output_type": "execute_result"
    }
   ],
   "source": [
    "# init the model\n",
    "max_epochs = 53\n",
    "d = b[0].shape[-1]\n",
    "print(b[0].shape)\n",
    "net = CSS(d=d, total_steps=max_epochs*len(dl_train), lr=4e-3, weight_decay=1e-3, dropout=0.3)\n",
    "net"
   ]
  },
  {
   "cell_type": "code",
   "execution_count": 22,
   "metadata": {},
   "outputs": [
    {
     "data": {
      "text/plain": [
       "tensor([[-0.0426,  0.1803],\n",
       "        [-0.0928,  0.2299],\n",
       "        [ 0.0435,  0.2111],\n",
       "        [-0.5698,  0.3314],\n",
       "        [-0.0010, -0.0035],\n",
       "        [ 0.0435,  0.2111],\n",
       "        [-0.0426,  0.1803],\n",
       "        [ 0.3809,  0.2565],\n",
       "        [ 0.0962,  0.1995],\n",
       "        [-0.3497,  0.0259],\n",
       "        [ 0.3556,  0.3710],\n",
       "        [ 0.0435,  0.2111],\n",
       "        [-0.4706,  0.3910],\n",
       "        [-0.0426,  0.1803],\n",
       "        [ 0.0435,  0.2111],\n",
       "        [ 0.2530,  0.0052],\n",
       "        [-0.5077,  0.2825],\n",
       "        [-0.0551,  0.2065],\n",
       "        [-0.0426,  0.1803],\n",
       "        [ 0.0435,  0.2111],\n",
       "        [-0.6490,  0.1017],\n",
       "        [ 0.0435,  0.2111],\n",
       "        [-0.0426,  0.1803],\n",
       "        [ 0.4069,  0.2679],\n",
       "        [ 0.0435,  0.2111],\n",
       "        [-0.0026,  0.3184],\n",
       "        [-0.4758,  0.2885],\n",
       "        [ 0.0435,  0.2111],\n",
       "        [-0.0426,  0.1803],\n",
       "        [-0.2854,  0.1237],\n",
       "        [ 0.3398,  0.3760],\n",
       "        [-0.5824, -0.1580]])"
      ]
     },
     "execution_count": 22,
     "metadata": {},
     "output_type": "execute_result"
    }
   ],
   "source": [
    "with torch.no_grad():\n",
    "    b = next(iter(dl_train))\n",
    "    b2 = [bb.to(net.device) for bb in b]\n",
    "    x = torch.concatenate([b2[0], b2[1]], 1)\n",
    "    y = net(x)\n",
    "y"
   ]
  },
  {
   "cell_type": "code",
   "execution_count": 23,
   "metadata": {},
   "outputs": [],
   "source": [
    "# # DEBUG\n",
    "# trainer = pl.Trainer(fast_dev_run=2)\n",
    "# trainer.fit(model=net, train_dataloaders=dl_train)"
   ]
  },
  {
   "cell_type": "code",
   "execution_count": 24,
   "metadata": {},
   "outputs": [
    {
     "name": "stderr",
     "output_type": "stream",
     "text": [
      "/home/ubuntu/mambaforge/envs/dlk2/lib/python3.9/site-packages/lightning/fabric/connector.py:562: UserWarning: bf16 is supported for historical reasons but its usage is discouraged. Please set your precision to bf16-mixed instead!\n",
      "  rank_zero_warn(\n",
      "Using bfloat16 Automatic Mixed Precision (AMP)\n",
      "GPU available: True (cuda), used: True\n",
      "TPU available: False, using: 0 TPU cores\n",
      "IPU available: False, using: 0 IPUs\n",
      "HPU available: False, using: 0 HPUs\n",
      "/home/ubuntu/mambaforge/envs/dlk2/lib/python3.9/site-packages/lightning/pytorch/trainer/connectors/logger_connector/logger_connector.py:67: UserWarning: Starting from v1.9.0, `tensorboardX` has been removed as a dependency of the `lightning.pytorch` package, due to potential conflicts with other packages in the ML ecosystem. For this reason, `logger=True` will use `CSVLogger` as the default logger, unless the `tensorboard` or `tensorboardX` packages are found. Please `pip install lightning[extra]` or one of them to enable TensorBoard support by default\n",
      "  warning_cache.warn(\n",
      "LOCAL_RANK: 0 - CUDA_VISIBLE_DEVICES: [0]\n",
      "\n",
      "  | Name  | Type               | Params\n",
      "---------------------------------------------\n",
      "0 | probe | MLPProbe           | 4.2 M \n",
      "1 | auroc | MulticlassAccuracy | 0     \n",
      "---------------------------------------------\n",
      "4.2 M     Trainable params\n",
      "0         Non-trainable params\n",
      "4.2 M     Total params\n",
      "16.811    Total estimated model params size (MB)\n"
     ]
    },
    {
     "data": {
      "application/vnd.jupyter.widget-view+json": {
       "model_id": "d8be9da4470d41948eac0f68edcc4098",
       "version_major": 2,
       "version_minor": 0
      },
      "text/plain": [
       "Sanity Checking: 0it [00:00, ?it/s]"
      ]
     },
     "metadata": {},
     "output_type": "display_data"
    },
    {
     "data": {
      "application/vnd.jupyter.widget-view+json": {
       "model_id": "7393da6fed3942479bbc51d7078a9d2e",
       "version_major": 2,
       "version_minor": 0
      },
      "text/plain": [
       "Training: 0it [00:00, ?it/s]"
      ]
     },
     "metadata": {},
     "output_type": "display_data"
    },
    {
     "data": {
      "application/vnd.jupyter.widget-view+json": {
       "model_id": "aa43983cd98c47eaa71f845479e477f7",
       "version_major": 2,
       "version_minor": 0
      },
      "text/plain": [
       "Validation: 0it [00:00, ?it/s]"
      ]
     },
     "metadata": {},
     "output_type": "display_data"
    },
    {
     "name": "stderr",
     "output_type": "stream",
     "text": [
      "/home/ubuntu/mambaforge/envs/dlk2/lib/python3.9/site-packages/torchmetrics/utilities/prints.py:36: UserWarning: The ``compute`` method of metric MulticlassAccuracy was called before the ``update`` method which may lead to errors, as metric states have not yet been updated.\n",
      "  warnings.warn(*args, **kwargs)\n"
     ]
    },
    {
     "data": {
      "application/vnd.jupyter.widget-view+json": {
       "model_id": "d5b6cb9f66894510a7c60e1d01a4a7df",
       "version_major": 2,
       "version_minor": 0
      },
      "text/plain": [
       "Validation: 0it [00:00, ?it/s]"
      ]
     },
     "metadata": {},
     "output_type": "display_data"
    },
    {
     "data": {
      "application/vnd.jupyter.widget-view+json": {
       "model_id": "f72e725de73d44e59274c04bb74d29ec",
       "version_major": 2,
       "version_minor": 0
      },
      "text/plain": [
       "Validation: 0it [00:00, ?it/s]"
      ]
     },
     "metadata": {},
     "output_type": "display_data"
    },
    {
     "data": {
      "application/vnd.jupyter.widget-view+json": {
       "model_id": "729fd29c34c44e15bff03b826574c216",
       "version_major": 2,
       "version_minor": 0
      },
      "text/plain": [
       "Validation: 0it [00:00, ?it/s]"
      ]
     },
     "metadata": {},
     "output_type": "display_data"
    },
    {
     "data": {
      "application/vnd.jupyter.widget-view+json": {
       "model_id": "b8d0004d1d474eba99b867ae9668d8e7",
       "version_major": 2,
       "version_minor": 0
      },
      "text/plain": [
       "Validation: 0it [00:00, ?it/s]"
      ]
     },
     "metadata": {},
     "output_type": "display_data"
    },
    {
     "data": {
      "application/vnd.jupyter.widget-view+json": {
       "model_id": "c4f1cf487f6a4c56bf335af8275aa911",
       "version_major": 2,
       "version_minor": 0
      },
      "text/plain": [
       "Validation: 0it [00:00, ?it/s]"
      ]
     },
     "metadata": {},
     "output_type": "display_data"
    },
    {
     "data": {
      "application/vnd.jupyter.widget-view+json": {
       "model_id": "31054a3d58b5490d9e6ea06d3887fa83",
       "version_major": 2,
       "version_minor": 0
      },
      "text/plain": [
       "Validation: 0it [00:00, ?it/s]"
      ]
     },
     "metadata": {},
     "output_type": "display_data"
    },
    {
     "data": {
      "application/vnd.jupyter.widget-view+json": {
       "model_id": "570f286360194989b4882fd65364eb65",
       "version_major": 2,
       "version_minor": 0
      },
      "text/plain": [
       "Validation: 0it [00:00, ?it/s]"
      ]
     },
     "metadata": {},
     "output_type": "display_data"
    },
    {
     "data": {
      "application/vnd.jupyter.widget-view+json": {
       "model_id": "4ed3005523a8417d9b03e585ae405eca",
       "version_major": 2,
       "version_minor": 0
      },
      "text/plain": [
       "Validation: 0it [00:00, ?it/s]"
      ]
     },
     "metadata": {},
     "output_type": "display_data"
    },
    {
     "data": {
      "application/vnd.jupyter.widget-view+json": {
       "model_id": "b1e974db44134f00837784e82515806e",
       "version_major": 2,
       "version_minor": 0
      },
      "text/plain": [
       "Validation: 0it [00:00, ?it/s]"
      ]
     },
     "metadata": {},
     "output_type": "display_data"
    },
    {
     "data": {
      "application/vnd.jupyter.widget-view+json": {
       "model_id": "deb72812ded0415685436029a357b54c",
       "version_major": 2,
       "version_minor": 0
      },
      "text/plain": [
       "Validation: 0it [00:00, ?it/s]"
      ]
     },
     "metadata": {},
     "output_type": "display_data"
    },
    {
     "data": {
      "application/vnd.jupyter.widget-view+json": {
       "model_id": "11ce99b84dcb49e8a77387f59cd8bd65",
       "version_major": 2,
       "version_minor": 0
      },
      "text/plain": [
       "Validation: 0it [00:00, ?it/s]"
      ]
     },
     "metadata": {},
     "output_type": "display_data"
    },
    {
     "data": {
      "application/vnd.jupyter.widget-view+json": {
       "model_id": "456b47c010bc41c69b3cc06ef598bdb5",
       "version_major": 2,
       "version_minor": 0
      },
      "text/plain": [
       "Validation: 0it [00:00, ?it/s]"
      ]
     },
     "metadata": {},
     "output_type": "display_data"
    },
    {
     "data": {
      "application/vnd.jupyter.widget-view+json": {
       "model_id": "cd6a68d8c91447b8809658160bcba8ac",
       "version_major": 2,
       "version_minor": 0
      },
      "text/plain": [
       "Validation: 0it [00:00, ?it/s]"
      ]
     },
     "metadata": {},
     "output_type": "display_data"
    },
    {
     "data": {
      "application/vnd.jupyter.widget-view+json": {
       "model_id": "0276d3c82a4f4d9c8b1c1ac665dad04b",
       "version_major": 2,
       "version_minor": 0
      },
      "text/plain": [
       "Validation: 0it [00:00, ?it/s]"
      ]
     },
     "metadata": {},
     "output_type": "display_data"
    },
    {
     "data": {
      "application/vnd.jupyter.widget-view+json": {
       "model_id": "c35390f083f44c4fa17ab38e550dc157",
       "version_major": 2,
       "version_minor": 0
      },
      "text/plain": [
       "Validation: 0it [00:00, ?it/s]"
      ]
     },
     "metadata": {},
     "output_type": "display_data"
    },
    {
     "data": {
      "application/vnd.jupyter.widget-view+json": {
       "model_id": "33d88c2e7cd74ce687fc082e9267ebb4",
       "version_major": 2,
       "version_minor": 0
      },
      "text/plain": [
       "Validation: 0it [00:00, ?it/s]"
      ]
     },
     "metadata": {},
     "output_type": "display_data"
    },
    {
     "data": {
      "application/vnd.jupyter.widget-view+json": {
       "model_id": "dcad8058cb54430aa5ed1114e6a7db6e",
       "version_major": 2,
       "version_minor": 0
      },
      "text/plain": [
       "Validation: 0it [00:00, ?it/s]"
      ]
     },
     "metadata": {},
     "output_type": "display_data"
    },
    {
     "data": {
      "application/vnd.jupyter.widget-view+json": {
       "model_id": "85f619162e2d4fb0800b850ea8314ec8",
       "version_major": 2,
       "version_minor": 0
      },
      "text/plain": [
       "Validation: 0it [00:00, ?it/s]"
      ]
     },
     "metadata": {},
     "output_type": "display_data"
    },
    {
     "data": {
      "application/vnd.jupyter.widget-view+json": {
       "model_id": "84808cbc98674134854bcc5afd0ebbdd",
       "version_major": 2,
       "version_minor": 0
      },
      "text/plain": [
       "Validation: 0it [00:00, ?it/s]"
      ]
     },
     "metadata": {},
     "output_type": "display_data"
    },
    {
     "data": {
      "application/vnd.jupyter.widget-view+json": {
       "model_id": "a6862612fd5242d29aab9d55d35b7a9c",
       "version_major": 2,
       "version_minor": 0
      },
      "text/plain": [
       "Validation: 0it [00:00, ?it/s]"
      ]
     },
     "metadata": {},
     "output_type": "display_data"
    },
    {
     "data": {
      "application/vnd.jupyter.widget-view+json": {
       "model_id": "b5b28697fe7746bd996c5bcc786ed4cf",
       "version_major": 2,
       "version_minor": 0
      },
      "text/plain": [
       "Validation: 0it [00:00, ?it/s]"
      ]
     },
     "metadata": {},
     "output_type": "display_data"
    },
    {
     "data": {
      "application/vnd.jupyter.widget-view+json": {
       "model_id": "c9c7d57005d14aa187150cfd7e1e4833",
       "version_major": 2,
       "version_minor": 0
      },
      "text/plain": [
       "Validation: 0it [00:00, ?it/s]"
      ]
     },
     "metadata": {},
     "output_type": "display_data"
    },
    {
     "data": {
      "application/vnd.jupyter.widget-view+json": {
       "model_id": "fd3fafe1b55b41bb96807ae84b2878e3",
       "version_major": 2,
       "version_minor": 0
      },
      "text/plain": [
       "Validation: 0it [00:00, ?it/s]"
      ]
     },
     "metadata": {},
     "output_type": "display_data"
    },
    {
     "data": {
      "application/vnd.jupyter.widget-view+json": {
       "model_id": "993b78ec2788495ca8761e35eeff5238",
       "version_major": 2,
       "version_minor": 0
      },
      "text/plain": [
       "Validation: 0it [00:00, ?it/s]"
      ]
     },
     "metadata": {},
     "output_type": "display_data"
    },
    {
     "data": {
      "application/vnd.jupyter.widget-view+json": {
       "model_id": "d53446fc4f764bc9801592e6645861c9",
       "version_major": 2,
       "version_minor": 0
      },
      "text/plain": [
       "Validation: 0it [00:00, ?it/s]"
      ]
     },
     "metadata": {},
     "output_type": "display_data"
    },
    {
     "data": {
      "application/vnd.jupyter.widget-view+json": {
       "model_id": "9b7977b28e634648bd9217ce9dd42481",
       "version_major": 2,
       "version_minor": 0
      },
      "text/plain": [
       "Validation: 0it [00:00, ?it/s]"
      ]
     },
     "metadata": {},
     "output_type": "display_data"
    },
    {
     "data": {
      "application/vnd.jupyter.widget-view+json": {
       "model_id": "cef40fa1c56044aa94b8c7ae101f01ee",
       "version_major": 2,
       "version_minor": 0
      },
      "text/plain": [
       "Validation: 0it [00:00, ?it/s]"
      ]
     },
     "metadata": {},
     "output_type": "display_data"
    },
    {
     "data": {
      "application/vnd.jupyter.widget-view+json": {
       "model_id": "82319345b29140de9fb3c7edde522bc4",
       "version_major": 2,
       "version_minor": 0
      },
      "text/plain": [
       "Validation: 0it [00:00, ?it/s]"
      ]
     },
     "metadata": {},
     "output_type": "display_data"
    },
    {
     "data": {
      "application/vnd.jupyter.widget-view+json": {
       "model_id": "a88f125c56cc48a4b043763b862a0440",
       "version_major": 2,
       "version_minor": 0
      },
      "text/plain": [
       "Validation: 0it [00:00, ?it/s]"
      ]
     },
     "metadata": {},
     "output_type": "display_data"
    },
    {
     "data": {
      "application/vnd.jupyter.widget-view+json": {
       "model_id": "858b3f7e6ed944debdcdbfd344691611",
       "version_major": 2,
       "version_minor": 0
      },
      "text/plain": [
       "Validation: 0it [00:00, ?it/s]"
      ]
     },
     "metadata": {},
     "output_type": "display_data"
    },
    {
     "data": {
      "application/vnd.jupyter.widget-view+json": {
       "model_id": "b05bcb04d39846618c04cb520359c122",
       "version_major": 2,
       "version_minor": 0
      },
      "text/plain": [
       "Validation: 0it [00:00, ?it/s]"
      ]
     },
     "metadata": {},
     "output_type": "display_data"
    },
    {
     "data": {
      "application/vnd.jupyter.widget-view+json": {
       "model_id": "e303d236c31b44468a51e07b18441aa0",
       "version_major": 2,
       "version_minor": 0
      },
      "text/plain": [
       "Validation: 0it [00:00, ?it/s]"
      ]
     },
     "metadata": {},
     "output_type": "display_data"
    },
    {
     "data": {
      "application/vnd.jupyter.widget-view+json": {
       "model_id": "7e75afb133324f4c91b107c6185d5097",
       "version_major": 2,
       "version_minor": 0
      },
      "text/plain": [
       "Validation: 0it [00:00, ?it/s]"
      ]
     },
     "metadata": {},
     "output_type": "display_data"
    },
    {
     "data": {
      "application/vnd.jupyter.widget-view+json": {
       "model_id": "4b00320bb88940e7b55a01a6440a0b3b",
       "version_major": 2,
       "version_minor": 0
      },
      "text/plain": [
       "Validation: 0it [00:00, ?it/s]"
      ]
     },
     "metadata": {},
     "output_type": "display_data"
    },
    {
     "data": {
      "application/vnd.jupyter.widget-view+json": {
       "model_id": "e12c22cb7b36493e8b28a6c80a8fa2db",
       "version_major": 2,
       "version_minor": 0
      },
      "text/plain": [
       "Validation: 0it [00:00, ?it/s]"
      ]
     },
     "metadata": {},
     "output_type": "display_data"
    },
    {
     "data": {
      "application/vnd.jupyter.widget-view+json": {
       "model_id": "06d2ae0d21204e558821b579dd8b86f1",
       "version_major": 2,
       "version_minor": 0
      },
      "text/plain": [
       "Validation: 0it [00:00, ?it/s]"
      ]
     },
     "metadata": {},
     "output_type": "display_data"
    },
    {
     "data": {
      "application/vnd.jupyter.widget-view+json": {
       "model_id": "dd89af86fc004ac39198771aeb0f78a2",
       "version_major": 2,
       "version_minor": 0
      },
      "text/plain": [
       "Validation: 0it [00:00, ?it/s]"
      ]
     },
     "metadata": {},
     "output_type": "display_data"
    },
    {
     "data": {
      "application/vnd.jupyter.widget-view+json": {
       "model_id": "85e80822bc5c457c849bf3e8ab7a6e0e",
       "version_major": 2,
       "version_minor": 0
      },
      "text/plain": [
       "Validation: 0it [00:00, ?it/s]"
      ]
     },
     "metadata": {},
     "output_type": "display_data"
    },
    {
     "data": {
      "application/vnd.jupyter.widget-view+json": {
       "model_id": "24ff80f463954146af20b6cde5b5cadb",
       "version_major": 2,
       "version_minor": 0
      },
      "text/plain": [
       "Validation: 0it [00:00, ?it/s]"
      ]
     },
     "metadata": {},
     "output_type": "display_data"
    },
    {
     "data": {
      "application/vnd.jupyter.widget-view+json": {
       "model_id": "866d0ba6e33c4500961773942236c255",
       "version_major": 2,
       "version_minor": 0
      },
      "text/plain": [
       "Validation: 0it [00:00, ?it/s]"
      ]
     },
     "metadata": {},
     "output_type": "display_data"
    },
    {
     "data": {
      "application/vnd.jupyter.widget-view+json": {
       "model_id": "1698519bd005486fba30d18086843e92",
       "version_major": 2,
       "version_minor": 0
      },
      "text/plain": [
       "Validation: 0it [00:00, ?it/s]"
      ]
     },
     "metadata": {},
     "output_type": "display_data"
    },
    {
     "data": {
      "application/vnd.jupyter.widget-view+json": {
       "model_id": "7d5232659a264771a58c2d005dff5df2",
       "version_major": 2,
       "version_minor": 0
      },
      "text/plain": [
       "Validation: 0it [00:00, ?it/s]"
      ]
     },
     "metadata": {},
     "output_type": "display_data"
    },
    {
     "data": {
      "application/vnd.jupyter.widget-view+json": {
       "model_id": "9b608814f155483791a6720f0e45eedc",
       "version_major": 2,
       "version_minor": 0
      },
      "text/plain": [
       "Validation: 0it [00:00, ?it/s]"
      ]
     },
     "metadata": {},
     "output_type": "display_data"
    },
    {
     "data": {
      "application/vnd.jupyter.widget-view+json": {
       "model_id": "aeb5032877f449778886b405ca4263f7",
       "version_major": 2,
       "version_minor": 0
      },
      "text/plain": [
       "Validation: 0it [00:00, ?it/s]"
      ]
     },
     "metadata": {},
     "output_type": "display_data"
    },
    {
     "data": {
      "application/vnd.jupyter.widget-view+json": {
       "model_id": "262fba8074f945bab7329ecccc4f08ac",
       "version_major": 2,
       "version_minor": 0
      },
      "text/plain": [
       "Validation: 0it [00:00, ?it/s]"
      ]
     },
     "metadata": {},
     "output_type": "display_data"
    },
    {
     "data": {
      "application/vnd.jupyter.widget-view+json": {
       "model_id": "5df7b465658748ed9d73850ebcbe10aa",
       "version_major": 2,
       "version_minor": 0
      },
      "text/plain": [
       "Validation: 0it [00:00, ?it/s]"
      ]
     },
     "metadata": {},
     "output_type": "display_data"
    },
    {
     "data": {
      "application/vnd.jupyter.widget-view+json": {
       "model_id": "ad9f0872552249ae86b74eafcb5549fd",
       "version_major": 2,
       "version_minor": 0
      },
      "text/plain": [
       "Validation: 0it [00:00, ?it/s]"
      ]
     },
     "metadata": {},
     "output_type": "display_data"
    },
    {
     "data": {
      "application/vnd.jupyter.widget-view+json": {
       "model_id": "4ad2e43754a14e059759a00e36bd7fae",
       "version_major": 2,
       "version_minor": 0
      },
      "text/plain": [
       "Validation: 0it [00:00, ?it/s]"
      ]
     },
     "metadata": {},
     "output_type": "display_data"
    },
    {
     "data": {
      "application/vnd.jupyter.widget-view+json": {
       "model_id": "f25dd638dce648a8be80ace1b1a1a152",
       "version_major": 2,
       "version_minor": 0
      },
      "text/plain": [
       "Validation: 0it [00:00, ?it/s]"
      ]
     },
     "metadata": {},
     "output_type": "display_data"
    },
    {
     "data": {
      "application/vnd.jupyter.widget-view+json": {
       "model_id": "07ad2771d8c64fc5b17522c70a13a83a",
       "version_major": 2,
       "version_minor": 0
      },
      "text/plain": [
       "Validation: 0it [00:00, ?it/s]"
      ]
     },
     "metadata": {},
     "output_type": "display_data"
    },
    {
     "data": {
      "application/vnd.jupyter.widget-view+json": {
       "model_id": "0927971228f14688bd0b5a50a289911d",
       "version_major": 2,
       "version_minor": 0
      },
      "text/plain": [
       "Validation: 0it [00:00, ?it/s]"
      ]
     },
     "metadata": {},
     "output_type": "display_data"
    },
    {
     "data": {
      "application/vnd.jupyter.widget-view+json": {
       "model_id": "9e764f46811942aea9315c1b9d270f02",
       "version_major": 2,
       "version_minor": 0
      },
      "text/plain": [
       "Validation: 0it [00:00, ?it/s]"
      ]
     },
     "metadata": {},
     "output_type": "display_data"
    },
    {
     "name": "stderr",
     "output_type": "stream",
     "text": [
      "`Trainer.fit` stopped: `max_epochs=53` reached.\n"
     ]
    }
   ],
   "source": [
    "trainer = pl.Trainer(precision=\"bf16\",\n",
    "                     max_epochs=max_epochs, log_every_n_steps=5)\n",
    "trainer.fit(model=net, train_dataloaders=dl_train, val_dataloaders=dl_val)"
   ]
  },
  {
   "attachments": {},
   "cell_type": "markdown",
   "metadata": {},
   "source": [
    "# Read hist"
   ]
  },
  {
   "cell_type": "code",
   "execution_count": 25,
   "metadata": {},
   "outputs": [
    {
     "name": "stdout",
     "output_type": "stream",
     "text": [
      "[<lightning.pytorch.loggers.csv_logs.CSVLogger object at 0x7f16a55b3ac0>]\n"
     ]
    },
    {
     "data": {
      "text/html": [
       "<div>\n",
       "<style scoped>\n",
       "    .dataframe tbody tr th:only-of-type {\n",
       "        vertical-align: middle;\n",
       "    }\n",
       "\n",
       "    .dataframe tbody tr th {\n",
       "        vertical-align: top;\n",
       "    }\n",
       "\n",
       "    .dataframe thead th {\n",
       "        text-align: right;\n",
       "    }\n",
       "</style>\n",
       "<table border=\"1\" class=\"dataframe\">\n",
       "  <thead>\n",
       "    <tr style=\"text-align: right;\">\n",
       "      <th></th>\n",
       "      <th>train/loss</th>\n",
       "      <th>step</th>\n",
       "      <th>val/loss</th>\n",
       "      <th>val/acc_step</th>\n",
       "      <th>train/acc_step</th>\n",
       "      <th>train/acc_epoch</th>\n",
       "    </tr>\n",
       "    <tr>\n",
       "      <th>epoch</th>\n",
       "      <th></th>\n",
       "      <th></th>\n",
       "      <th></th>\n",
       "      <th></th>\n",
       "      <th></th>\n",
       "      <th></th>\n",
       "    </tr>\n",
       "  </thead>\n",
       "  <tbody>\n",
       "    <tr>\n",
       "      <th>0</th>\n",
       "      <td>0.484980</td>\n",
       "      <td>35.857143</td>\n",
       "      <td>0.294599</td>\n",
       "      <td>0.769333</td>\n",
       "      <td>0.0</td>\n",
       "      <td>0.0</td>\n",
       "    </tr>\n",
       "    <tr>\n",
       "      <th>1</th>\n",
       "      <td>0.721019</td>\n",
       "      <td>98.133333</td>\n",
       "      <td>0.512434</td>\n",
       "      <td>0.774333</td>\n",
       "      <td>0.0</td>\n",
       "      <td>0.0</td>\n",
       "    </tr>\n",
       "    <tr>\n",
       "      <th>2</th>\n",
       "      <td>0.656908</td>\n",
       "      <td>161.000000</td>\n",
       "      <td>1.044742</td>\n",
       "      <td>0.787667</td>\n",
       "      <td>0.0</td>\n",
       "      <td>0.0</td>\n",
       "    </tr>\n",
       "    <tr>\n",
       "      <th>3</th>\n",
       "      <td>1.044309</td>\n",
       "      <td>223.266667</td>\n",
       "      <td>1.013563</td>\n",
       "      <td>0.771333</td>\n",
       "      <td>0.0</td>\n",
       "      <td>0.0</td>\n",
       "    </tr>\n",
       "    <tr>\n",
       "      <th>4</th>\n",
       "      <td>0.671938</td>\n",
       "      <td>288.000000</td>\n",
       "      <td>1.292535</td>\n",
       "      <td>0.790000</td>\n",
       "      <td>0.0</td>\n",
       "      <td>0.0</td>\n",
       "    </tr>\n",
       "    <tr>\n",
       "      <th>5</th>\n",
       "      <td>0.978381</td>\n",
       "      <td>350.857143</td>\n",
       "      <td>1.419969</td>\n",
       "      <td>0.783000</td>\n",
       "      <td>0.0</td>\n",
       "      <td>0.0</td>\n",
       "    </tr>\n",
       "    <tr>\n",
       "      <th>6</th>\n",
       "      <td>0.928060</td>\n",
       "      <td>413.133333</td>\n",
       "      <td>1.373892</td>\n",
       "      <td>0.799667</td>\n",
       "      <td>0.0</td>\n",
       "      <td>0.0</td>\n",
       "    </tr>\n",
       "    <tr>\n",
       "      <th>7</th>\n",
       "      <td>1.103637</td>\n",
       "      <td>476.000000</td>\n",
       "      <td>1.522492</td>\n",
       "      <td>0.794333</td>\n",
       "      <td>0.0</td>\n",
       "      <td>0.0</td>\n",
       "    </tr>\n",
       "    <tr>\n",
       "      <th>8</th>\n",
       "      <td>0.578082</td>\n",
       "      <td>538.266667</td>\n",
       "      <td>1.799730</td>\n",
       "      <td>0.796333</td>\n",
       "      <td>0.0</td>\n",
       "      <td>0.0</td>\n",
       "    </tr>\n",
       "    <tr>\n",
       "      <th>9</th>\n",
       "      <td>0.969000</td>\n",
       "      <td>603.000000</td>\n",
       "      <td>2.085918</td>\n",
       "      <td>0.794000</td>\n",
       "      <td>0.0</td>\n",
       "      <td>0.0</td>\n",
       "    </tr>\n",
       "    <tr>\n",
       "      <th>10</th>\n",
       "      <td>1.193389</td>\n",
       "      <td>665.857143</td>\n",
       "      <td>2.588272</td>\n",
       "      <td>0.795000</td>\n",
       "      <td>0.0</td>\n",
       "      <td>0.0</td>\n",
       "    </tr>\n",
       "    <tr>\n",
       "      <th>11</th>\n",
       "      <td>0.884823</td>\n",
       "      <td>728.133333</td>\n",
       "      <td>2.805024</td>\n",
       "      <td>0.785667</td>\n",
       "      <td>0.0</td>\n",
       "      <td>0.0</td>\n",
       "    </tr>\n",
       "    <tr>\n",
       "      <th>12</th>\n",
       "      <td>0.653900</td>\n",
       "      <td>791.000000</td>\n",
       "      <td>3.095598</td>\n",
       "      <td>0.800333</td>\n",
       "      <td>0.0</td>\n",
       "      <td>0.0</td>\n",
       "    </tr>\n",
       "    <tr>\n",
       "      <th>13</th>\n",
       "      <td>0.382283</td>\n",
       "      <td>853.266667</td>\n",
       "      <td>3.534670</td>\n",
       "      <td>0.788333</td>\n",
       "      <td>0.0</td>\n",
       "      <td>0.0</td>\n",
       "    </tr>\n",
       "    <tr>\n",
       "      <th>14</th>\n",
       "      <td>0.957174</td>\n",
       "      <td>918.000000</td>\n",
       "      <td>3.377110</td>\n",
       "      <td>0.803667</td>\n",
       "      <td>0.0</td>\n",
       "      <td>0.0</td>\n",
       "    </tr>\n",
       "    <tr>\n",
       "      <th>15</th>\n",
       "      <td>0.438253</td>\n",
       "      <td>980.857143</td>\n",
       "      <td>4.838597</td>\n",
       "      <td>0.797667</td>\n",
       "      <td>0.0</td>\n",
       "      <td>0.0</td>\n",
       "    </tr>\n",
       "    <tr>\n",
       "      <th>16</th>\n",
       "      <td>0.653743</td>\n",
       "      <td>1043.133333</td>\n",
       "      <td>3.848670</td>\n",
       "      <td>0.801000</td>\n",
       "      <td>0.0</td>\n",
       "      <td>0.0</td>\n",
       "    </tr>\n",
       "    <tr>\n",
       "      <th>17</th>\n",
       "      <td>0.464006</td>\n",
       "      <td>1106.000000</td>\n",
       "      <td>5.016212</td>\n",
       "      <td>0.796333</td>\n",
       "      <td>0.0</td>\n",
       "      <td>0.0</td>\n",
       "    </tr>\n",
       "    <tr>\n",
       "      <th>18</th>\n",
       "      <td>0.364870</td>\n",
       "      <td>1168.266667</td>\n",
       "      <td>4.491741</td>\n",
       "      <td>0.799667</td>\n",
       "      <td>0.0</td>\n",
       "      <td>0.0</td>\n",
       "    </tr>\n",
       "    <tr>\n",
       "      <th>19</th>\n",
       "      <td>0.503155</td>\n",
       "      <td>1233.000000</td>\n",
       "      <td>4.837574</td>\n",
       "      <td>0.793333</td>\n",
       "      <td>0.0</td>\n",
       "      <td>0.0</td>\n",
       "    </tr>\n",
       "    <tr>\n",
       "      <th>20</th>\n",
       "      <td>0.355713</td>\n",
       "      <td>1295.857143</td>\n",
       "      <td>4.928598</td>\n",
       "      <td>0.802333</td>\n",
       "      <td>0.0</td>\n",
       "      <td>0.0</td>\n",
       "    </tr>\n",
       "    <tr>\n",
       "      <th>21</th>\n",
       "      <td>0.547363</td>\n",
       "      <td>1358.133333</td>\n",
       "      <td>5.189471</td>\n",
       "      <td>0.801000</td>\n",
       "      <td>0.0</td>\n",
       "      <td>0.0</td>\n",
       "    </tr>\n",
       "    <tr>\n",
       "      <th>22</th>\n",
       "      <td>0.437073</td>\n",
       "      <td>1421.000000</td>\n",
       "      <td>4.949528</td>\n",
       "      <td>0.805000</td>\n",
       "      <td>0.0</td>\n",
       "      <td>0.0</td>\n",
       "    </tr>\n",
       "    <tr>\n",
       "      <th>23</th>\n",
       "      <td>0.640115</td>\n",
       "      <td>1483.266667</td>\n",
       "      <td>5.112293</td>\n",
       "      <td>0.801000</td>\n",
       "      <td>0.0</td>\n",
       "      <td>0.0</td>\n",
       "    </tr>\n",
       "    <tr>\n",
       "      <th>24</th>\n",
       "      <td>0.864931</td>\n",
       "      <td>1548.000000</td>\n",
       "      <td>5.737574</td>\n",
       "      <td>0.795667</td>\n",
       "      <td>0.0</td>\n",
       "      <td>0.0</td>\n",
       "    </tr>\n",
       "    <tr>\n",
       "      <th>25</th>\n",
       "      <td>0.574718</td>\n",
       "      <td>1610.857143</td>\n",
       "      <td>4.845249</td>\n",
       "      <td>0.810333</td>\n",
       "      <td>0.0</td>\n",
       "      <td>0.0</td>\n",
       "    </tr>\n",
       "    <tr>\n",
       "      <th>26</th>\n",
       "      <td>0.346586</td>\n",
       "      <td>1673.133333</td>\n",
       "      <td>5.284912</td>\n",
       "      <td>0.801000</td>\n",
       "      <td>0.0</td>\n",
       "      <td>0.0</td>\n",
       "    </tr>\n",
       "    <tr>\n",
       "      <th>27</th>\n",
       "      <td>0.480496</td>\n",
       "      <td>1736.000000</td>\n",
       "      <td>6.670043</td>\n",
       "      <td>0.805333</td>\n",
       "      <td>0.0</td>\n",
       "      <td>0.0</td>\n",
       "    </tr>\n",
       "    <tr>\n",
       "      <th>28</th>\n",
       "      <td>0.387357</td>\n",
       "      <td>1798.266667</td>\n",
       "      <td>6.341348</td>\n",
       "      <td>0.799333</td>\n",
       "      <td>0.0</td>\n",
       "      <td>0.0</td>\n",
       "    </tr>\n",
       "    <tr>\n",
       "      <th>29</th>\n",
       "      <td>1.969672</td>\n",
       "      <td>1863.000000</td>\n",
       "      <td>6.765946</td>\n",
       "      <td>0.806000</td>\n",
       "      <td>0.0</td>\n",
       "      <td>0.0</td>\n",
       "    </tr>\n",
       "    <tr>\n",
       "      <th>30</th>\n",
       "      <td>0.880931</td>\n",
       "      <td>1925.857143</td>\n",
       "      <td>8.271926</td>\n",
       "      <td>0.792000</td>\n",
       "      <td>0.0</td>\n",
       "      <td>0.0</td>\n",
       "    </tr>\n",
       "    <tr>\n",
       "      <th>31</th>\n",
       "      <td>0.780762</td>\n",
       "      <td>1988.133333</td>\n",
       "      <td>7.608719</td>\n",
       "      <td>0.796333</td>\n",
       "      <td>0.0</td>\n",
       "      <td>0.0</td>\n",
       "    </tr>\n",
       "    <tr>\n",
       "      <th>32</th>\n",
       "      <td>0.414948</td>\n",
       "      <td>2051.000000</td>\n",
       "      <td>7.897546</td>\n",
       "      <td>0.794667</td>\n",
       "      <td>0.0</td>\n",
       "      <td>0.0</td>\n",
       "    </tr>\n",
       "    <tr>\n",
       "      <th>33</th>\n",
       "      <td>0.373488</td>\n",
       "      <td>2113.266667</td>\n",
       "      <td>7.729231</td>\n",
       "      <td>0.797333</td>\n",
       "      <td>0.0</td>\n",
       "      <td>0.0</td>\n",
       "    </tr>\n",
       "    <tr>\n",
       "      <th>34</th>\n",
       "      <td>0.399057</td>\n",
       "      <td>2178.000000</td>\n",
       "      <td>7.434992</td>\n",
       "      <td>0.799667</td>\n",
       "      <td>0.0</td>\n",
       "      <td>0.0</td>\n",
       "    </tr>\n",
       "    <tr>\n",
       "      <th>35</th>\n",
       "      <td>0.480811</td>\n",
       "      <td>2240.857143</td>\n",
       "      <td>8.889471</td>\n",
       "      <td>0.785667</td>\n",
       "      <td>0.0</td>\n",
       "      <td>0.0</td>\n",
       "    </tr>\n",
       "    <tr>\n",
       "      <th>36</th>\n",
       "      <td>0.333925</td>\n",
       "      <td>2303.133333</td>\n",
       "      <td>9.576095</td>\n",
       "      <td>0.802667</td>\n",
       "      <td>0.0</td>\n",
       "      <td>0.0</td>\n",
       "    </tr>\n",
       "    <tr>\n",
       "      <th>37</th>\n",
       "      <td>0.754812</td>\n",
       "      <td>2366.000000</td>\n",
       "      <td>7.245608</td>\n",
       "      <td>0.809333</td>\n",
       "      <td>0.0</td>\n",
       "      <td>0.0</td>\n",
       "    </tr>\n",
       "    <tr>\n",
       "      <th>38</th>\n",
       "      <td>0.376822</td>\n",
       "      <td>2428.266667</td>\n",
       "      <td>7.260180</td>\n",
       "      <td>0.795000</td>\n",
       "      <td>0.0</td>\n",
       "      <td>0.0</td>\n",
       "    </tr>\n",
       "    <tr>\n",
       "      <th>39</th>\n",
       "      <td>1.768977</td>\n",
       "      <td>2493.000000</td>\n",
       "      <td>7.332553</td>\n",
       "      <td>0.791333</td>\n",
       "      <td>0.0</td>\n",
       "      <td>0.0</td>\n",
       "    </tr>\n",
       "    <tr>\n",
       "      <th>40</th>\n",
       "      <td>0.501689</td>\n",
       "      <td>2555.857143</td>\n",
       "      <td>8.753584</td>\n",
       "      <td>0.812000</td>\n",
       "      <td>0.0</td>\n",
       "      <td>0.0</td>\n",
       "    </tr>\n",
       "    <tr>\n",
       "      <th>41</th>\n",
       "      <td>0.335534</td>\n",
       "      <td>2618.133333</td>\n",
       "      <td>7.059879</td>\n",
       "      <td>0.800000</td>\n",
       "      <td>0.0</td>\n",
       "      <td>0.0</td>\n",
       "    </tr>\n",
       "    <tr>\n",
       "      <th>42</th>\n",
       "      <td>0.423645</td>\n",
       "      <td>2681.000000</td>\n",
       "      <td>7.618535</td>\n",
       "      <td>0.795667</td>\n",
       "      <td>0.0</td>\n",
       "      <td>0.0</td>\n",
       "    </tr>\n",
       "    <tr>\n",
       "      <th>43</th>\n",
       "      <td>1.052725</td>\n",
       "      <td>2743.266667</td>\n",
       "      <td>6.566182</td>\n",
       "      <td>0.805333</td>\n",
       "      <td>0.0</td>\n",
       "      <td>0.0</td>\n",
       "    </tr>\n",
       "    <tr>\n",
       "      <th>44</th>\n",
       "      <td>0.953698</td>\n",
       "      <td>2808.000000</td>\n",
       "      <td>7.253065</td>\n",
       "      <td>0.811333</td>\n",
       "      <td>0.0</td>\n",
       "      <td>0.0</td>\n",
       "    </tr>\n",
       "    <tr>\n",
       "      <th>45</th>\n",
       "      <td>0.370962</td>\n",
       "      <td>2870.857143</td>\n",
       "      <td>7.741609</td>\n",
       "      <td>0.807000</td>\n",
       "      <td>0.0</td>\n",
       "      <td>0.0</td>\n",
       "    </tr>\n",
       "    <tr>\n",
       "      <th>46</th>\n",
       "      <td>0.381066</td>\n",
       "      <td>2933.133333</td>\n",
       "      <td>9.468535</td>\n",
       "      <td>0.816333</td>\n",
       "      <td>0.0</td>\n",
       "      <td>0.0</td>\n",
       "    </tr>\n",
       "    <tr>\n",
       "      <th>47</th>\n",
       "      <td>0.530629</td>\n",
       "      <td>2996.000000</td>\n",
       "      <td>7.224115</td>\n",
       "      <td>0.800000</td>\n",
       "      <td>0.0</td>\n",
       "      <td>0.0</td>\n",
       "    </tr>\n",
       "    <tr>\n",
       "      <th>48</th>\n",
       "      <td>0.808472</td>\n",
       "      <td>3058.266667</td>\n",
       "      <td>7.448860</td>\n",
       "      <td>0.805000</td>\n",
       "      <td>0.0</td>\n",
       "      <td>0.0</td>\n",
       "    </tr>\n",
       "    <tr>\n",
       "      <th>49</th>\n",
       "      <td>0.344576</td>\n",
       "      <td>3123.000000</td>\n",
       "      <td>8.106650</td>\n",
       "      <td>0.801333</td>\n",
       "      <td>0.0</td>\n",
       "      <td>0.0</td>\n",
       "    </tr>\n",
       "    <tr>\n",
       "      <th>50</th>\n",
       "      <td>0.370260</td>\n",
       "      <td>3185.857143</td>\n",
       "      <td>7.415267</td>\n",
       "      <td>0.791333</td>\n",
       "      <td>0.0</td>\n",
       "      <td>0.0</td>\n",
       "    </tr>\n",
       "    <tr>\n",
       "      <th>51</th>\n",
       "      <td>0.324500</td>\n",
       "      <td>3248.133333</td>\n",
       "      <td>7.589475</td>\n",
       "      <td>0.810000</td>\n",
       "      <td>0.0</td>\n",
       "      <td>0.0</td>\n",
       "    </tr>\n",
       "    <tr>\n",
       "      <th>52</th>\n",
       "      <td>0.370158</td>\n",
       "      <td>3311.000000</td>\n",
       "      <td>7.398365</td>\n",
       "      <td>0.803000</td>\n",
       "      <td>0.0</td>\n",
       "      <td>0.0</td>\n",
       "    </tr>\n",
       "  </tbody>\n",
       "</table>\n",
       "</div>"
      ],
      "text/plain": [
       "       train/loss         step  val/loss  val/acc_step  train/acc_step   \n",
       "epoch                                                                    \n",
       "0        0.484980    35.857143  0.294599      0.769333             0.0  \\\n",
       "1        0.721019    98.133333  0.512434      0.774333             0.0   \n",
       "2        0.656908   161.000000  1.044742      0.787667             0.0   \n",
       "3        1.044309   223.266667  1.013563      0.771333             0.0   \n",
       "4        0.671938   288.000000  1.292535      0.790000             0.0   \n",
       "5        0.978381   350.857143  1.419969      0.783000             0.0   \n",
       "6        0.928060   413.133333  1.373892      0.799667             0.0   \n",
       "7        1.103637   476.000000  1.522492      0.794333             0.0   \n",
       "8        0.578082   538.266667  1.799730      0.796333             0.0   \n",
       "9        0.969000   603.000000  2.085918      0.794000             0.0   \n",
       "10       1.193389   665.857143  2.588272      0.795000             0.0   \n",
       "11       0.884823   728.133333  2.805024      0.785667             0.0   \n",
       "12       0.653900   791.000000  3.095598      0.800333             0.0   \n",
       "13       0.382283   853.266667  3.534670      0.788333             0.0   \n",
       "14       0.957174   918.000000  3.377110      0.803667             0.0   \n",
       "15       0.438253   980.857143  4.838597      0.797667             0.0   \n",
       "16       0.653743  1043.133333  3.848670      0.801000             0.0   \n",
       "17       0.464006  1106.000000  5.016212      0.796333             0.0   \n",
       "18       0.364870  1168.266667  4.491741      0.799667             0.0   \n",
       "19       0.503155  1233.000000  4.837574      0.793333             0.0   \n",
       "20       0.355713  1295.857143  4.928598      0.802333             0.0   \n",
       "21       0.547363  1358.133333  5.189471      0.801000             0.0   \n",
       "22       0.437073  1421.000000  4.949528      0.805000             0.0   \n",
       "23       0.640115  1483.266667  5.112293      0.801000             0.0   \n",
       "24       0.864931  1548.000000  5.737574      0.795667             0.0   \n",
       "25       0.574718  1610.857143  4.845249      0.810333             0.0   \n",
       "26       0.346586  1673.133333  5.284912      0.801000             0.0   \n",
       "27       0.480496  1736.000000  6.670043      0.805333             0.0   \n",
       "28       0.387357  1798.266667  6.341348      0.799333             0.0   \n",
       "29       1.969672  1863.000000  6.765946      0.806000             0.0   \n",
       "30       0.880931  1925.857143  8.271926      0.792000             0.0   \n",
       "31       0.780762  1988.133333  7.608719      0.796333             0.0   \n",
       "32       0.414948  2051.000000  7.897546      0.794667             0.0   \n",
       "33       0.373488  2113.266667  7.729231      0.797333             0.0   \n",
       "34       0.399057  2178.000000  7.434992      0.799667             0.0   \n",
       "35       0.480811  2240.857143  8.889471      0.785667             0.0   \n",
       "36       0.333925  2303.133333  9.576095      0.802667             0.0   \n",
       "37       0.754812  2366.000000  7.245608      0.809333             0.0   \n",
       "38       0.376822  2428.266667  7.260180      0.795000             0.0   \n",
       "39       1.768977  2493.000000  7.332553      0.791333             0.0   \n",
       "40       0.501689  2555.857143  8.753584      0.812000             0.0   \n",
       "41       0.335534  2618.133333  7.059879      0.800000             0.0   \n",
       "42       0.423645  2681.000000  7.618535      0.795667             0.0   \n",
       "43       1.052725  2743.266667  6.566182      0.805333             0.0   \n",
       "44       0.953698  2808.000000  7.253065      0.811333             0.0   \n",
       "45       0.370962  2870.857143  7.741609      0.807000             0.0   \n",
       "46       0.381066  2933.133333  9.468535      0.816333             0.0   \n",
       "47       0.530629  2996.000000  7.224115      0.800000             0.0   \n",
       "48       0.808472  3058.266667  7.448860      0.805000             0.0   \n",
       "49       0.344576  3123.000000  8.106650      0.801333             0.0   \n",
       "50       0.370260  3185.857143  7.415267      0.791333             0.0   \n",
       "51       0.324500  3248.133333  7.589475      0.810000             0.0   \n",
       "52       0.370158  3311.000000  7.398365      0.803000             0.0   \n",
       "\n",
       "       train/acc_epoch  \n",
       "epoch                   \n",
       "0                  0.0  \n",
       "1                  0.0  \n",
       "2                  0.0  \n",
       "3                  0.0  \n",
       "4                  0.0  \n",
       "5                  0.0  \n",
       "6                  0.0  \n",
       "7                  0.0  \n",
       "8                  0.0  \n",
       "9                  0.0  \n",
       "10                 0.0  \n",
       "11                 0.0  \n",
       "12                 0.0  \n",
       "13                 0.0  \n",
       "14                 0.0  \n",
       "15                 0.0  \n",
       "16                 0.0  \n",
       "17                 0.0  \n",
       "18                 0.0  \n",
       "19                 0.0  \n",
       "20                 0.0  \n",
       "21                 0.0  \n",
       "22                 0.0  \n",
       "23                 0.0  \n",
       "24                 0.0  \n",
       "25                 0.0  \n",
       "26                 0.0  \n",
       "27                 0.0  \n",
       "28                 0.0  \n",
       "29                 0.0  \n",
       "30                 0.0  \n",
       "31                 0.0  \n",
       "32                 0.0  \n",
       "33                 0.0  \n",
       "34                 0.0  \n",
       "35                 0.0  \n",
       "36                 0.0  \n",
       "37                 0.0  \n",
       "38                 0.0  \n",
       "39                 0.0  \n",
       "40                 0.0  \n",
       "41                 0.0  \n",
       "42                 0.0  \n",
       "43                 0.0  \n",
       "44                 0.0  \n",
       "45                 0.0  \n",
       "46                 0.0  \n",
       "47                 0.0  \n",
       "48                 0.0  \n",
       "49                 0.0  \n",
       "50                 0.0  \n",
       "51                 0.0  \n",
       "52                 0.0  "
      ]
     },
     "execution_count": 25,
     "metadata": {},
     "output_type": "execute_result"
    }
   ],
   "source": [
    "# import pytorch_lightning as pl\n",
    "from lightning.pytorch.loggers.csv_logs import CSVLogger\n",
    "# from pytorch_lightning.loggers.csv_logs import CSVLogger as CSVLogger2\n",
    "from pathlib import Path\n",
    "import pandas as pd\n",
    "\n",
    "def read_metrics_csv(metrics_file_path):\n",
    "    df_hist = pd.read_csv(metrics_file_path)\n",
    "    df_hist[\"epoch\"] = df_hist[\"epoch\"].ffill()\n",
    "    df_histe = df_hist.set_index(\"epoch\").groupby(\"epoch\").mean()\n",
    "    return df_histe\n",
    "\n",
    "\n",
    "def read_hist(trainer: pl.Trainer):\n",
    "\n",
    "    ts = [t for t in trainer.loggers if isinstance(t, CSVLogger)]\n",
    "    print(ts)\n",
    "    try:\n",
    "        metrics_file_path = Path(ts[0].experiment.metrics_file_path)\n",
    "        df_histe = read_metrics_csv(metrics_file_path)\n",
    "        return df_histe\n",
    "    except Exception as e:\n",
    "        raise e\n",
    "        \n",
    "        \n",
    "df_hist = read_hist(trainer).ffill().bfill()\n",
    "df_hist\n"
   ]
  },
  {
   "cell_type": "code",
   "execution_count": 26,
   "metadata": {},
   "outputs": [
    {
     "data": {
      "image/png": "[encoded data removed]",
      "text/plain": [
       "<Figure size 640x480 with 1 Axes>"
      ]
     },
     "metadata": {},
     "output_type": "display_data"
    },
    {
     "data": {
      "image/png": "[encoded data removed]",
      "text/plain": [
       "<Figure size 640x480 with 1 Axes>"
      ]
     },
     "metadata": {},
     "output_type": "display_data"
    },
    {
     "data": {
      "image/png": "[encoded data removed]",
      "text/plain": [
       "<Figure size 640x480 with 1 Axes>"
      ]
     },
     "metadata": {},
     "output_type": "display_data"
    }
   ],
   "source": [
    "keys = set(s.split('/')[1] for s in df_hist.columns if '/' in s)\n",
    "for k in keys:    \n",
    "    df_hist[[c for c in df_hist.columns if c.endswith(k)]].plot(title=k)"
   ]
  },
  {
   "cell_type": "code",
   "execution_count": 27,
   "metadata": {},
   "outputs": [],
   "source": [
    "# df_hist[['val/acc', 'train/acc']].plot()\n",
    "\n",
    "# # df_hist[['val/f1', 'train/f1']].plot()\n",
    "\n",
    "# # df_hist[['val/roc_auc_bc', 'train/roc_auc_bc']].plot()\n",
    "\n",
    "# # df_hist[['val/roc_auc_mc', 'train/roc_auc_mc']].plot()\n",
    "\n",
    "# df_hist[['val/loss', 'train/loss']].plot()"
   ]
  },
  {
   "attachments": {},
   "cell_type": "markdown",
   "metadata": {},
   "source": [
    "## Predict"
   ]
  },
  {
   "cell_type": "code",
   "execution_count": 28,
   "metadata": {},
   "outputs": [
    {
     "name": "stderr",
     "output_type": "stream",
     "text": [
      "LOCAL_RANK: 0 - CUDA_VISIBLE_DEVICES: [0]\n"
     ]
    },
    {
     "data": {
      "application/vnd.jupyter.widget-view+json": {
       "model_id": "2fc6345d9ee040f7bf2d8145310add00",
       "version_major": 2,
       "version_minor": 0
      },
      "text/plain": [
       "Predicting: 0it [00:00, ?it/s]"
      ]
     },
     "metadata": {},
     "output_type": "display_data"
    }
   ],
   "source": [
    "dl_test = dm.test_dataloader()\n",
    "y_test_pred = trainer.predict(net, dl_test)\n",
    "y_test_pred = np.concatenate(y_test_pred)\n",
    "# y_test_pred"
   ]
  },
  {
   "cell_type": "code",
   "execution_count": 29,
   "metadata": {},
   "outputs": [
    {
     "data": {
      "text/plain": [
       "(2000, 3000)"
      ]
     },
     "execution_count": 29,
     "metadata": {},
     "output_type": "execute_result"
    }
   ],
   "source": [
    "# y_test_pred.shape, df_test.shape\n",
    "dm.val_split, dm.test_split"
   ]
  },
  {
   "cell_type": "code",
   "execution_count": 42,
   "metadata": {},
   "outputs": [
    {
     "data": {
      "text/html": [
       "<div>\n",
       "<style scoped>\n",
       "    .dataframe tbody tr th:only-of-type {\n",
       "        vertical-align: middle;\n",
       "    }\n",
       "\n",
       "    .dataframe tbody tr th {\n",
       "        vertical-align: top;\n",
       "    }\n",
       "\n",
       "    .dataframe thead th {\n",
       "        text-align: right;\n",
       "    }\n",
       "</style>\n",
       "<table border=\"1\" class=\"dataframe\">\n",
       "  <thead>\n",
       "    <tr style=\"text-align: right;\">\n",
       "      <th></th>\n",
       "      <th>desired_answer</th>\n",
       "      <th>input</th>\n",
       "      <th>lie</th>\n",
       "      <th>true_answer</th>\n",
       "      <th>ans1</th>\n",
       "      <th>ans2</th>\n",
       "      <th>true</th>\n",
       "      <th>dir_true</th>\n",
       "      <th>ans</th>\n",
       "      <th>prob_pred</th>\n",
       "      <th>llm_ans</th>\n",
       "    </tr>\n",
       "  </thead>\n",
       "  <tbody>\n",
       "    <tr>\n",
       "      <th>3000</th>\n",
       "      <td>False</td>\n",
       "      <td>My husband was very pleased with this gift to ...</td>\n",
       "      <td>True</td>\n",
       "      <td>1</td>\n",
       "      <td>0.836914</td>\n",
       "      <td>0.994141</td>\n",
       "      <td>1</td>\n",
       "      <td>0.157227</td>\n",
       "      <td>0.915527</td>\n",
       "      <td>1</td>\n",
       "      <td>0.836914</td>\n",
       "    </tr>\n",
       "    <tr>\n",
       "      <th>3001</th>\n",
       "      <td>True</td>\n",
       "      <td>This is simply the best book ever written and ...</td>\n",
       "      <td>False</td>\n",
       "      <td>1</td>\n",
       "      <td>0.714844</td>\n",
       "      <td>0.471924</td>\n",
       "      <td>1</td>\n",
       "      <td>-0.242920</td>\n",
       "      <td>0.593262</td>\n",
       "      <td>0</td>\n",
       "      <td>0.714844</td>\n",
       "    </tr>\n",
       "    <tr>\n",
       "      <th>3002</th>\n",
       "      <td>False</td>\n",
       "      <td>I finally found this baster and we love it. It...</td>\n",
       "      <td>True</td>\n",
       "      <td>1</td>\n",
       "      <td>0.966309</td>\n",
       "      <td>0.966309</td>\n",
       "      <td>1</td>\n",
       "      <td>0.000000</td>\n",
       "      <td>0.966309</td>\n",
       "      <td>1</td>\n",
       "      <td>0.966309</td>\n",
       "    </tr>\n",
       "    <tr>\n",
       "      <th>3003</th>\n",
       "      <td>True</td>\n",
       "      <td>thses guys rock, and the vocals are 2nd to..we...</td>\n",
       "      <td>False</td>\n",
       "      <td>1</td>\n",
       "      <td>0.921387</td>\n",
       "      <td>0.884766</td>\n",
       "      <td>1</td>\n",
       "      <td>-0.036621</td>\n",
       "      <td>0.903320</td>\n",
       "      <td>1</td>\n",
       "      <td>0.921387</td>\n",
       "    </tr>\n",
       "    <tr>\n",
       "      <th>3004</th>\n",
       "      <td>False</td>\n",
       "      <td>I bought these and wrote a review before - the...</td>\n",
       "      <td>True</td>\n",
       "      <td>1</td>\n",
       "      <td>0.599609</td>\n",
       "      <td>0.395752</td>\n",
       "      <td>1</td>\n",
       "      <td>-0.203857</td>\n",
       "      <td>0.497559</td>\n",
       "      <td>0</td>\n",
       "      <td>0.599609</td>\n",
       "    </tr>\n",
       "    <tr>\n",
       "      <th>...</th>\n",
       "      <td>...</td>\n",
       "      <td>...</td>\n",
       "      <td>...</td>\n",
       "      <td>...</td>\n",
       "      <td>...</td>\n",
       "      <td>...</td>\n",
       "      <td>...</td>\n",
       "      <td>...</td>\n",
       "      <td>...</td>\n",
       "      <td>...</td>\n",
       "      <td>...</td>\n",
       "    </tr>\n",
       "    <tr>\n",
       "      <th>3995</th>\n",
       "      <td>False</td>\n",
       "      <td>As others have said, the instructions were not...</td>\n",
       "      <td>False</td>\n",
       "      <td>0</td>\n",
       "      <td>0.179932</td>\n",
       "      <td>0.211792</td>\n",
       "      <td>0</td>\n",
       "      <td>0.031860</td>\n",
       "      <td>0.195801</td>\n",
       "      <td>0</td>\n",
       "      <td>0.179932</td>\n",
       "    </tr>\n",
       "    <tr>\n",
       "      <th>3996</th>\n",
       "      <td>True</td>\n",
       "      <td>This book has great potential but it doesn't l...</td>\n",
       "      <td>True</td>\n",
       "      <td>0</td>\n",
       "      <td>0.032562</td>\n",
       "      <td>0.037292</td>\n",
       "      <td>0</td>\n",
       "      <td>0.004730</td>\n",
       "      <td>0.034912</td>\n",
       "      <td>0</td>\n",
       "      <td>0.032562</td>\n",
       "    </tr>\n",
       "    <tr>\n",
       "      <th>3997</th>\n",
       "      <td>True</td>\n",
       "      <td>I was intending to use beta sitosterol for hai...</td>\n",
       "      <td>False</td>\n",
       "      <td>1</td>\n",
       "      <td>0.940430</td>\n",
       "      <td>0.942383</td>\n",
       "      <td>1</td>\n",
       "      <td>0.001953</td>\n",
       "      <td>0.941406</td>\n",
       "      <td>1</td>\n",
       "      <td>0.940430</td>\n",
       "    </tr>\n",
       "    <tr>\n",
       "      <th>3998</th>\n",
       "      <td>False</td>\n",
       "      <td>This is really compact and comes with 3 bags t...</td>\n",
       "      <td>True</td>\n",
       "      <td>1</td>\n",
       "      <td>0.963379</td>\n",
       "      <td>0.941895</td>\n",
       "      <td>1</td>\n",
       "      <td>-0.021484</td>\n",
       "      <td>0.952637</td>\n",
       "      <td>1</td>\n",
       "      <td>0.963379</td>\n",
       "    </tr>\n",
       "    <tr>\n",
       "      <th>3999</th>\n",
       "      <td>True</td>\n",
       "      <td>I bought the paperback because it sounded inte...</td>\n",
       "      <td>False</td>\n",
       "      <td>1</td>\n",
       "      <td>0.998535</td>\n",
       "      <td>0.997070</td>\n",
       "      <td>1</td>\n",
       "      <td>-0.001465</td>\n",
       "      <td>0.998047</td>\n",
       "      <td>1</td>\n",
       "      <td>0.998535</td>\n",
       "    </tr>\n",
       "  </tbody>\n",
       "</table>\n",
       "<p>1000 rows × 11 columns</p>\n",
       "</div>"
      ],
      "text/plain": [
       "      desired_answer                                              input   \n",
       "3000           False  My husband was very pleased with this gift to ...  \\\n",
       "3001            True  This is simply the best book ever written and ...   \n",
       "3002           False  I finally found this baster and we love it. It...   \n",
       "3003            True  thses guys rock, and the vocals are 2nd to..we...   \n",
       "3004           False  I bought these and wrote a review before - the...   \n",
       "...              ...                                                ...   \n",
       "3995           False  As others have said, the instructions were not...   \n",
       "3996            True  This book has great potential but it doesn't l...   \n",
       "3997            True  I was intending to use beta sitosterol for hai...   \n",
       "3998           False  This is really compact and comes with 3 bags t...   \n",
       "3999            True  I bought the paperback because it sounded inte...   \n",
       "\n",
       "        lie  true_answer      ans1      ans2  true  dir_true       ans   \n",
       "3000   True            1  0.836914  0.994141     1  0.157227  0.915527  \\\n",
       "3001  False            1  0.714844  0.471924     1 -0.242920  0.593262   \n",
       "3002   True            1  0.966309  0.966309     1  0.000000  0.966309   \n",
       "3003  False            1  0.921387  0.884766     1 -0.036621  0.903320   \n",
       "3004   True            1  0.599609  0.395752     1 -0.203857  0.497559   \n",
       "...     ...          ...       ...       ...   ...       ...       ...   \n",
       "3995  False            0  0.179932  0.211792     0  0.031860  0.195801   \n",
       "3996   True            0  0.032562  0.037292     0  0.004730  0.034912   \n",
       "3997  False            1  0.940430  0.942383     1  0.001953  0.941406   \n",
       "3998   True            1  0.963379  0.941895     1 -0.021484  0.952637   \n",
       "3999  False            1  0.998535  0.997070     1 -0.001465  0.998047   \n",
       "\n",
       "      prob_pred   llm_ans  \n",
       "3000          1  0.836914  \n",
       "3001          0  0.714844  \n",
       "3002          1  0.966309  \n",
       "3003          1  0.921387  \n",
       "3004          0  0.599609  \n",
       "...         ...       ...  \n",
       "3995          0  0.179932  \n",
       "3996          0  0.032562  \n",
       "3997          1  0.940430  \n",
       "3998          1  0.963379  \n",
       "3999          1  0.998535  \n",
       "\n",
       "[1000 rows x 11 columns]"
      ]
     },
     "execution_count": 42,
     "metadata": {},
     "output_type": "execute_result"
    }
   ],
   "source": [
    "df_test = dm.df_infos.iloc[dm.test_split:].copy()\n",
    "df_test['prob_pred'] = y_test_pred.argmax(-1)\n",
    "df_test['llm_ans'] = (df_test['ans1']+df_test['ans1'])/2\n",
    "df_test"
   ]
  },
  {
   "cell_type": "code",
   "execution_count": 43,
   "metadata": {},
   "outputs": [],
   "source": [
    "y_true = dl_test.dataset.tensors[2].numpy()\n",
    "assert ((df_test['true_answer'].values>0.5)==(y_true>0.5)).all(), 'check it all lines up'"
   ]
  },
  {
   "cell_type": "code",
   "execution_count": 44,
   "metadata": {},
   "outputs": [
    {
     "data": {
      "text/plain": [
       "0.516"
      ]
     },
     "execution_count": 44,
     "metadata": {},
     "output_type": "execute_result"
    }
   ],
   "source": [
    "((df_test['llm_ans']>0.5)==df_test['desired_answer']).mean()"
   ]
  },
  {
   "cell_type": "code",
   "execution_count": 45,
   "metadata": {},
   "outputs": [
    {
     "name": "stdout",
     "output_type": "stream",
     "text": [
      "lightning model acc at predicting truth: 92.80%\n"
     ]
    }
   ],
   "source": [
    "# this must be wrong\n",
    "acc_truth = (df_test['prob_pred']==df_test['true_answer']).mean()\n",
    "print(f\"lightning model acc at predicting truth: {acc_truth:2.2%}\")"
   ]
  },
  {
   "cell_type": "code",
   "execution_count": 56,
   "metadata": {},
   "outputs": [
    {
     "name": "stdout",
     "output_type": "stream",
     "text": [
      "this should be 50% as we are not training it to do this\n",
      "lightning model acc at predicting desired answer (including instructions to lie): 49.80%\n"
     ]
    }
   ],
   "source": [
    "acc_truth = (df_test['prob_pred']==df_test['desired_answer']).mean()\n",
    "print('this should be 50% as we are not training it to do this')\n",
    "print(f\"lightning model acc at predicting desired answer (including instructions to lie): {acc_truth:2.2%}\")"
   ]
  },
  {
   "cell_type": "code",
   "execution_count": 47,
   "metadata": {},
   "outputs": [
    {
     "name": "stdout",
     "output_type": "stream",
     "text": [
      "lightning model acc at predicting the models public answer: 88.40%\n"
     ]
    }
   ],
   "source": [
    "acc_truth = (df_test['prob_pred']==(df_test['llm_ans']>0.5)).mean()\n",
    "print(f\"lightning model acc at predicting the models public answer: {acc_truth:2.2%}\")"
   ]
  },
  {
   "attachments": {},
   "cell_type": "markdown",
   "metadata": {},
   "source": [
    "OK this doesn't work because for the CSS loss to work, it must add up to 1... ours does not"
   ]
  },
  {
   "cell_type": "code",
   "execution_count": null,
   "metadata": {},
   "outputs": [],
   "source": []
  },
  {
   "cell_type": "code",
   "execution_count": null,
   "metadata": {},
   "outputs": [],
   "source": []
  },
  {
   "cell_type": "code",
   "execution_count": null,
   "metadata": {},
   "outputs": [],
   "source": []
  },
  {
   "cell_type": "code",
   "execution_count": null,
   "metadata": {},
   "outputs": [],
   "source": []
  },
  {
   "cell_type": "code",
   "execution_count": null,
   "metadata": {},
   "outputs": [],
   "source": []
  },
  {
   "cell_type": "code",
   "execution_count": null,
   "metadata": {},
   "outputs": [],
   "source": []
  }
 ],
 "metadata": {
  "kernelspec": {
   "display_name": "dlk2",
   "language": "python",
   "name": "python3"
  },
  "language_info": {
   "codemirror_mode": {
    "name": "ipython",
    "version": 3
   },
   "file_extension": ".py",
   "mimetype": "text/x-python",
   "name": "python",
   "nbconvert_exporter": "python",
   "pygments_lexer": "ipython3",
   "version": "3.9.16"
  },
  "orig_nbformat": 4
 },
 "nbformat": 4,
 "nbformat_minor": 2
}
